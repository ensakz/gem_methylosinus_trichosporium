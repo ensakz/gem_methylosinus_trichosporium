{
 "cells": [
  {
   "cell_type": "markdown",
   "metadata": {},
   "source": [
    "# Load dependencies"
   ]
  },
  {
   "cell_type": "code",
   "execution_count": 2,
   "metadata": {
    "ExecuteTime": {
     "end_time": "2020-01-19T11:49:49.940221Z",
     "start_time": "2020-01-19T11:49:37.227261Z"
    }
   },
   "outputs": [],
   "source": [
    "import cobra\n",
    "import libsbml\n",
    "import lxml\n",
    "\n",
    "models_directory = '/media/sf_Shared/Systems_biology/Metabolic_models/'\n",
    "OB3b_directory = '/media/sf_Shared/GEM_OB3b/'\n",
    "memote_directory = '/home/ensakz/Desktop/memote_m_trichosporium/'\n",
    "fastas_directory = '/media/sf_Shared/Systems_biology/Fastas_and_annotations/'\n",
    "inparanoid_directory = '/media/sf_Shared/Systems_biology/InParanoid_runs/'\n",
    "draft_gems_dir_8 = 'draft_gems/8.OB3b_draft_gem_during_pathway_manual_curation/'"
   ]
  },
  {
   "cell_type": "code",
   "execution_count": 3,
   "metadata": {
    "ExecuteTime": {
     "end_time": "2020-01-19T11:49:51.056477Z",
     "start_time": "2020-01-19T11:49:49.959581Z"
    }
   },
   "outputs": [],
   "source": [
    "iMsOB3b = cobra.io.load_json_model(memote_directory + draft_gems_dir_8 + \"bigg_OB3b_13_01_2020.json\")"
   ]
  },
  {
   "cell_type": "code",
   "execution_count": 3,
   "metadata": {
    "ExecuteTime": {
     "end_time": "2020-01-16T10:20:37.069625Z",
     "start_time": "2020-01-16T10:20:35.774162Z"
    }
   },
   "outputs": [],
   "source": [
    "model_Bath = cobra.io.load_json_model(models_directory + \"iMcBath.json\")"
   ]
  },
  {
   "cell_type": "code",
   "execution_count": 4,
   "metadata": {
    "ExecuteTime": {
     "end_time": "2020-01-16T10:20:38.932456Z",
     "start_time": "2020-01-16T10:20:37.071241Z"
    }
   },
   "outputs": [],
   "source": [
    "model_OB3b_old = cobra.io.load_json_model(memote_directory + draft_gems_dir_8 + \"iMsOB3b_11_14_2019.json\")"
   ]
  },
  {
   "cell_type": "code",
   "execution_count": 5,
   "metadata": {
    "ExecuteTime": {
     "end_time": "2020-01-16T10:21:15.121782Z",
     "start_time": "2020-01-16T10:20:38.934382Z"
    }
   },
   "outputs": [],
   "source": [
    "model_universal = cobra.io.load_json_model(models_directory + 'universal_model.json')"
   ]
  },
  {
   "cell_type": "code",
   "execution_count": 81,
   "metadata": {
    "ExecuteTime": {
     "end_time": "2020-01-16T10:41:33.902506Z",
     "start_time": "2020-01-16T10:41:31.521410Z"
    }
   },
   "outputs": [],
   "source": [
    "model_AM1 = cobra.io.read_sbml_model(models_directory + 'iRP911_v2016_MextorquensAM1.xml')"
   ]
  },
  {
   "cell_type": "markdown",
   "metadata": {},
   "source": [
    "# Create list of Methylosinus trichosporium OB3b locus tags not present in OB3b GEM"
   ]
  },
  {
   "cell_type": "markdown",
   "metadata": {},
   "source": [
    "Loading BioPython's SeqIO library for fasta file manipulation:"
   ]
  },
  {
   "cell_type": "code",
   "execution_count": 36,
   "metadata": {
    "ExecuteTime": {
     "end_time": "2020-01-14T03:07:47.101329Z",
     "start_time": "2020-01-14T03:07:47.097822Z"
    }
   },
   "outputs": [],
   "source": [
    "model = iMsOB3b"
   ]
  },
  {
   "cell_type": "code",
   "execution_count": 37,
   "metadata": {
    "ExecuteTime": {
     "end_time": "2020-01-14T03:07:52.244598Z",
     "start_time": "2020-01-14T03:07:52.091077Z"
    }
   },
   "outputs": [],
   "source": [
    "#script for renaming record description in Refseq or Genbank files\n",
    "\n",
    "#importing Biopythom SeqIO library\n",
    "from Bio import SeqIO\n",
    "\n",
    "#loading multiple gene elements from a fasta file\n",
    "records = list(SeqIO.parse(fastas_directory + \"OB3b/New_2017_assembly/GenBank_ASM275265v1_translated_cds.faa\", \n",
    "                           \"fasta\"))"
   ]
  },
  {
   "cell_type": "markdown",
   "metadata": {},
   "source": [
    "Create OB3b_locus_tags_and_their_description dictionary:"
   ]
  },
  {
   "cell_type": "code",
   "execution_count": 38,
   "metadata": {
    "ExecuteTime": {
     "end_time": "2020-01-14T03:08:00.101210Z",
     "start_time": "2020-01-14T03:08:00.065653Z"
    }
   },
   "outputs": [
    {
     "name": "stdout",
     "output_type": "stream",
     "text": [
      "4740\n"
     ]
    }
   ],
   "source": [
    "OB3b_locus_tags_and_their_description = {}\n",
    "for record in records:\n",
    "    record_description = record.description.split(\"[\") #some of elements don't have WP_ ids, only locus tags\n",
    "    for element in record_description:\n",
    "        if \"locus_tag=\" in element:\n",
    "            key_element=element[10:-2]\n",
    "        elif \"protein=\" in element:\n",
    "            value_element=element[8:-2]\n",
    "    OB3b_locus_tags_and_their_description[str(key_element)] = str(value_element)\n",
    "print(len(OB3b_locus_tags_and_their_description))"
   ]
  },
  {
   "cell_type": "markdown",
   "metadata": {},
   "source": [
    "Write OB3b_locus_tags_and_their_description to txt file:"
   ]
  },
  {
   "cell_type": "code",
   "execution_count": 39,
   "metadata": {
    "ExecuteTime": {
     "end_time": "2020-01-14T03:09:10.361782Z",
     "start_time": "2020-01-14T03:09:10.342345Z"
    }
   },
   "outputs": [],
   "source": [
    "import json\n",
    "with open(memote_directory + \"gem_reconstruction_supplementary_materials/\" +\\\n",
    "          \"OB3b_locus_tags_and_their_description.txt\", \"w\") as file:\n",
    "    file.write(json.dumps(OB3b_locus_tags_and_their_description))"
   ]
  },
  {
   "cell_type": "markdown",
   "metadata": {},
   "source": [
    "Serialization using Pickle fails:\n",
    "<br> Source: https://stackoverflow.com/questions/36965507/writing-a-dictionary-to-a-text-file"
   ]
  },
  {
   "cell_type": "code",
   "execution_count": 40,
   "metadata": {
    "ExecuteTime": {
     "end_time": "2020-01-14T03:09:19.680085Z",
     "start_time": "2020-01-14T03:09:19.652633Z"
    }
   },
   "outputs": [],
   "source": [
    "import _pickle as pickle\n",
    "with open(memote_directory + \"gem_reconstruction_supplementary_materials/\" +\\\n",
    "          \"OB3b_locus_tags_and_their_description_parallel.txt\", 'wb') as file:\n",
    "     file.write(pickle.dumps(OB3b_locus_tags_and_their_description)) "
   ]
  },
  {
   "cell_type": "markdown",
   "metadata": {},
   "source": [
    "Check how much Genbank genome locus tags are present in OB3b GEM:"
   ]
  },
  {
   "cell_type": "code",
   "execution_count": 41,
   "metadata": {
    "ExecuteTime": {
     "end_time": "2020-01-14T03:09:22.762918Z",
     "start_time": "2020-01-14T03:09:22.731336Z"
    }
   },
   "outputs": [
    {
     "name": "stdout",
     "output_type": "stream",
     "text": [
      "537\n"
     ]
    }
   ],
   "source": [
    "OB3b_locus_tags_present_in_GEM = set()\n",
    "for locus_tag in OB3b_locus_tags_and_their_description:\n",
    "    try:\n",
    "        if iMsOB3b.genes.get_by_id(locus_tag) in iMsOB3b.genes:\n",
    "            OB3b_locus_tags_present_in_GEM.add(locus_tag)\n",
    "    except:\n",
    "        pass\n",
    "OB3b_locus_tags_present_in_GEM=list(OB3b_locus_tags_present_in_GEM)\n",
    "print(len(OB3b_locus_tags_present_in_GEM))"
   ]
  },
  {
   "cell_type": "markdown",
   "metadata": {},
   "source": [
    "Deleting \"CQW\"-related genes present in OB3b GEM from OB3b_locus_tags_and_their_description:"
   ]
  },
  {
   "cell_type": "code",
   "execution_count": 42,
   "metadata": {
    "ExecuteTime": {
     "end_time": "2020-01-14T03:09:26.912865Z",
     "start_time": "2020-01-14T03:09:26.892439Z"
    },
    "code_folding": []
   },
   "outputs": [
    {
     "data": {
      "text/plain": [
       "4203"
      ]
     },
     "execution_count": 42,
     "metadata": {},
     "output_type": "execute_result"
    }
   ],
   "source": [
    "OB3b_locus_tags_present_in_GEM = set()\n",
    "for locus_tag in OB3b_locus_tags_and_their_description:\n",
    "    try:\n",
    "        if model.genes.get_by_id(locus_tag) in model.genes:\n",
    "            OB3b_locus_tags_present_in_GEM.add(locus_tag)\n",
    "    except:\n",
    "        pass\n",
    "OB3b_locus_tags_present_in_GEM=list(OB3b_locus_tags_present_in_GEM)\n",
    "\n",
    "for locus_tag in OB3b_locus_tags_present_in_GEM:\n",
    "    del OB3b_locus_tags_and_their_description[locus_tag]\n",
    "    \n",
    "len(OB3b_locus_tags_and_their_description)"
   ]
  },
  {
   "cell_type": "markdown",
   "metadata": {},
   "source": [
    "Deleting hypothetical proteins from OB3b_locus_tags_and_their_description as they are useless for GEM reconstruction manual curation:"
   ]
  },
  {
   "cell_type": "code",
   "execution_count": 50,
   "metadata": {
    "ExecuteTime": {
     "end_time": "2020-01-14T03:14:24.591193Z",
     "start_time": "2020-01-14T03:14:24.575207Z"
    }
   },
   "outputs": [
    {
     "name": "stdout",
     "output_type": "stream",
     "text": [
      "OB3b_locus_tags_and_their_description length after deletion of hypothetical proteins is 2880\n"
     ]
    }
   ],
   "source": [
    "for locus_tag in list(OB3b_locus_tags_and_their_description):\n",
    "    if OB3b_locus_tags_and_their_description[locus_tag] == \"hypothetical protein\":\n",
    "        del OB3b_locus_tags_and_their_description[locus_tag]\n",
    "\n",
    "print(\"OB3b_locus_tags_and_their_description length after deletion of hypothetical proteins is\",\\\n",
    "      len(OB3b_locus_tags_and_their_description))        "
   ]
  },
  {
   "cell_type": "code",
   "execution_count": 13,
   "metadata": {
    "ExecuteTime": {
     "end_time": "2020-01-14T02:23:14.823363Z",
     "start_time": "2020-01-14T02:23:14.789356Z"
    }
   },
   "outputs": [
    {
     "data": {
      "text/plain": [
       "{'CQW49_00005': 'chromosomal replication initiator protein DnaA',\n",
       " 'CQW49_00010': 'glycosyl transferase',\n",
       " 'CQW49_00020': 'peptidase M3',\n",
       " 'CQW49_00025': 'flavin reductase family protein',\n",
       " 'CQW49_00030': 'bifunctional transcriptional activator/DNA repair protein Ada',\n",
       " 'CQW49_00040': 'DUF202 domain-containing protein',\n",
       " 'CQW49_00065': 'toxin-antitoxin system',\n",
       " 'CQW49_00070': 'L-histidine N(alpha)-methyltransferase',\n",
       " 'CQW49_00075': 'ergothioneine biosynthesis protein EgtB',\n",
       " 'CQW49_00080': 'acyl carrier protein',\n",
       " 'CQW49_00085': 'L,D-transpeptidase',\n",
       " 'CQW49_00095': 'IS630 family transposase',\n",
       " 'CQW49_00100': 'acyltransferase',\n",
       " 'CQW49_00105': 'oxidoreductase',\n",
       " 'CQW49_00110': 'methyltransferase',\n",
       " 'CQW49_00120': 'GGDEF domain-containing protein',\n",
       " 'CQW49_00125': 'CDP-alcohol phosphatidyltransferase',\n",
       " 'CQW49_00130': 'sugar transporter',\n",
       " 'CQW49_00140': 'NAD-dependent dehydratase',\n",
       " 'CQW49_00150': 'glycosyltransferase family 1 protein',\n",
       " 'CQW49_00190': 'amino acid ABC transporter substrate-bindnig protein',\n",
       " 'CQW49_00195': 'RNA methyltransferase',\n",
       " 'CQW49_00200': '30S ribosomal protein S21',\n",
       " 'CQW49_00210': 'transposase',\n",
       " 'CQW49_00215': 'alpha/beta hydrolase',\n",
       " 'CQW49_00220': 'tellurium resistance protein TerC',\n",
       " 'CQW49_00225': 'AraC family transcriptional regulator',\n",
       " 'CQW49_00235': 'tRNA (N(6)-L-threonylcarbamoyladenosine(37)-C(2))-methylthiotransferase MtaB',\n",
       " 'CQW49_00245': 'DUF2200 domain-containing protein',\n",
       " 'CQW49_00255': 'PLP-dependent aminotransferase family protein',\n",
       " 'CQW49_00260': 'rhodanese-like domain-containing protein',\n",
       " 'CQW49_00275': 'DUF541 domain-containing protein',\n",
       " 'CQW49_00325': 'ferredoxin',\n",
       " 'CQW49_00330': 'DUF2849 domain-containing protein',\n",
       " 'CQW49_00340': 'DUF934 domain-containing protein',\n",
       " 'CQW49_00365': 'prepilin peptidase',\n",
       " 'CQW49_00370': 'prepilin-type cleavage/methylation domain-containing protein',\n",
       " 'CQW49_00375': 'type II secretion system protein',\n",
       " 'CQW49_00380': 'type II secretion system protein GspH',\n",
       " 'CQW49_00385': 'type II secretion system F family protein',\n",
       " 'CQW49_00390': 'secretion system protein E',\n",
       " 'CQW49_00400': 'fimbrial assembly protein',\n",
       " 'CQW49_00405': 'general secretion pathway protein GspM',\n",
       " 'CQW49_00415': 'type II secretion system protein GspD',\n",
       " 'CQW49_00420': 'general secretion pathway protein GspK',\n",
       " 'CQW49_00425': 'type II secretion system protein GspG',\n",
       " 'CQW49_00440': 'ribosome-recycling factor',\n",
       " 'CQW49_00460': 'RIP metalloprotease RseP',\n",
       " 'CQW49_00465': 'outer membrane protein assembly factor BamA',\n",
       " 'CQW49_00490': 'OpgC protein',\n",
       " 'CQW49_00495': 'GDSL family lipase',\n",
       " 'CQW49_00500': 'uracil-DNA glycosylase',\n",
       " 'CQW49_00510': 'DUF541 domain-containing protein',\n",
       " 'CQW49_00515': 'F0F1 ATP synthase subunit beta',\n",
       " 'CQW49_00520': 'F0F1 ATP synthase subunit epsilon',\n",
       " 'CQW49_00525': 'F0F1 ATP synthase subunit',\n",
       " 'CQW49_00535': 'ATP synthase F0 subunit A',\n",
       " 'CQW49_00540': 'ATP synthase F0 subunit C',\n",
       " 'CQW49_00545': 'F0F1 ATP synthase subunit B',\n",
       " 'CQW49_00550': 'F0F1 ATP synthase subunit alpha',\n",
       " 'CQW49_00555': 'H(+)-transporting ATPase',\n",
       " 'CQW49_00565': 'cyclase',\n",
       " 'CQW49_00580': 'transcriptional regulator',\n",
       " 'CQW49_00585': 'MAPEG family protein',\n",
       " 'CQW49_00590': 'low molecular weight phosphatase family protein',\n",
       " 'CQW49_00595': 'UPF0262 family protein',\n",
       " 'CQW49_00605': 'DUF2948 domain-containing protein',\n",
       " 'CQW49_00610': 'exodeoxyribonuclease VII large subunit',\n",
       " 'CQW49_00615': 'ISAs1 family transposase',\n",
       " 'CQW49_00620': 'prevent-host-death protein',\n",
       " 'CQW49_00625': 'growth inhibitor PemK',\n",
       " 'CQW49_00630': 'porin family protein',\n",
       " 'CQW49_00645': 'DedA family protein',\n",
       " 'CQW49_00650': 'disulfide bond formation protein B',\n",
       " 'CQW49_00655': 'disulfide bond formation protein DsbA',\n",
       " 'CQW49_00660': 'recombination protein RecR',\n",
       " 'CQW49_00665': 'nucleoid-associated protein, YbaB/EbfC family',\n",
       " 'CQW49_00670': 'DNA polymerase III subunit gamma/tau',\n",
       " 'CQW49_00685': 'hybrid sensor histidine kinase/response regulator',\n",
       " 'CQW49_00690': 'acyltransferase',\n",
       " 'CQW49_00695': 'glutathione S-transferase family protein',\n",
       " 'CQW49_00700': 'AI-2E family transporter',\n",
       " 'CQW49_00705': 'Tol-Pal system beta propeller repeat protein TolB',\n",
       " 'CQW49_00710': 'cell envelope biogenesis protein TolA',\n",
       " 'CQW49_00715': 'biopolymer transporter ExbD',\n",
       " 'CQW49_00720': 'protein TolQ',\n",
       " 'CQW49_00740': 'nucleotide sugar dehydrogenase',\n",
       " 'CQW49_00750': 'glycosyl transferase family 1',\n",
       " 'CQW49_00760': 'glycosyltransferase family 2 protein',\n",
       " 'CQW49_00765': 'oxidoreductase',\n",
       " 'CQW49_00775': 'glycosyltransferase WbuB',\n",
       " 'CQW49_00780': 'UDP-N-acetylglucosamine 2-epimerase (non-hydrolyzing)',\n",
       " 'CQW49_00785': 'glycosyltransferase family 1 protein',\n",
       " 'CQW49_00800': 'class I SAM-dependent methyltransferase',\n",
       " 'CQW49_00810': 'class I SAM-dependent methyltransferase',\n",
       " 'CQW49_00815': 'sugar transferase',\n",
       " 'CQW49_00820': 'capsular biosynthesis protein',\n",
       " 'CQW49_00825': 'sugar transporter',\n",
       " 'CQW49_00830': 'capsular biosynthesis protein',\n",
       " 'CQW49_00845': 'N-acetyltransferase',\n",
       " 'CQW49_00850': 'ABC transporter ATP-binding protein',\n",
       " 'CQW49_00855': 'cell division protein ZapE',\n",
       " 'CQW49_00860': 'N-acetyltransferase',\n",
       " 'CQW49_00865': 'GNAT family N-acetyltransferase',\n",
       " 'CQW49_00870': 'GNAT family N-acetyltransferase',\n",
       " 'CQW49_00875': 'NUDIX domain-containing protein',\n",
       " 'CQW49_00880': 'rubrerythrin',\n",
       " 'CQW49_00885': 'metallophosphatase',\n",
       " 'CQW49_00895': 'glycosyl transferase family 36',\n",
       " 'CQW49_00915': 'molybdenum cofactor guanylyltransferase MobA',\n",
       " 'CQW49_00925': 'aldose epimerase',\n",
       " 'CQW49_00935': 'DUF1465 domain-containing protein',\n",
       " 'CQW49_00940': '50S ribosomal protein L31',\n",
       " 'CQW49_00945': 'response regulator',\n",
       " 'CQW49_00955': 'histidinol-phosphatase',\n",
       " 'CQW49_00980': '3-deoxy-7-phosphoheptulonate synthase',\n",
       " 'CQW49_00990': 'peptide chain release factor 1',\n",
       " 'CQW49_00995': 'chromosome condensation regulator RCC1',\n",
       " 'CQW49_01000': 'chromosome condensation regulator RCC1',\n",
       " 'CQW49_01010': 'chromosome condensation regulator RCC1',\n",
       " 'CQW49_01015': 'chromosome condensation regulator RCC1',\n",
       " 'CQW49_01020': 'chromosome condensation regulator RCC1',\n",
       " 'CQW49_01025': 'chromosome condensation regulator RCC1',\n",
       " 'CQW49_01030': 'chromosome condensation regulator RCC1',\n",
       " 'CQW49_01035': 'phosphoenolpyruvate--protein phosphotransferase',\n",
       " 'CQW49_01040': 'sensor domain-containing phosphodiesterase',\n",
       " 'CQW49_01050': 'DUF433 domain-containing protein',\n",
       " 'CQW49_01055': 'NAD-dependent DNA ligase LigA',\n",
       " 'CQW49_01060': 'DUF1013 domain-containing protein',\n",
       " 'CQW49_01065': 'ABC transporter',\n",
       " 'CQW49_01075': 'DNA-protecting protein DprA',\n",
       " 'CQW49_01090': 'Holliday junction resolvase RuvX',\n",
       " 'CQW49_01105': 'chorismate mutase',\n",
       " 'CQW49_01125': 'histone',\n",
       " 'CQW49_01140': 'DUF1036 domain-containing protein',\n",
       " 'CQW49_01150': 'N-acetyltransferase',\n",
       " 'CQW49_01160': 'DUF839 domain-containing protein',\n",
       " 'CQW49_01170': '2-dehydropantoate 2-reductase',\n",
       " 'CQW49_01190': 'cytochrome C',\n",
       " 'CQW49_01195': 'serine/threonine protein phosphatase',\n",
       " 'CQW49_01200': 'cytochrome-c peroxidase',\n",
       " 'CQW49_01205': 'cytochrome C peroxidase',\n",
       " 'CQW49_01210': 'acid phosphatase',\n",
       " 'CQW49_01215': 'methane monooxygenase/ammonia monooxygenase subunit C',\n",
       " 'CQW49_01220': 'methane monooxygenase/ammonia monooxygenase subunit A',\n",
       " 'CQW49_01225': 'methane monooxygenase/ammonia monooxygenase subunit B',\n",
       " 'CQW49_01235': 'copper resistance protein CopC',\n",
       " 'CQW49_01240': 'copper resistance protein CopD',\n",
       " 'CQW49_01245': 'copper chaperone PCu(A)C',\n",
       " 'CQW49_01255': 'DUF2029 domain-containing protein',\n",
       " 'CQW49_01265': 'DUF1640 domain-containing protein',\n",
       " 'CQW49_01270': 'DUF1640 domain-containing protein',\n",
       " 'CQW49_01275': 'LuxR family transcriptional regulator',\n",
       " 'CQW49_01295': 'exodeoxyribonuclease III',\n",
       " 'CQW49_01300': 'TIGR01620 family protein',\n",
       " 'CQW49_01305': 'single-stranded-DNA-specific exonuclease RecJ',\n",
       " 'CQW49_01310': 'septal ring lytic transglycosylase RlpA family lipoprotein',\n",
       " 'CQW49_01315': 'D-alanyl-D-alanine carboxypeptidase',\n",
       " 'CQW49_01325': \"DNA polymerase III subunit delta'\",\n",
       " 'CQW49_01330': 'DUF1289 domain-containing protein',\n",
       " 'CQW49_01335': 'DUF1640 domain-containing protein',\n",
       " 'CQW49_01340': 'DNA-deoxyinosine glycosylase',\n",
       " 'CQW49_01360': 'nucleoside-diphosphate kinase',\n",
       " 'CQW49_01365': 'glutathione S-transferase',\n",
       " 'CQW49_01380': 'iron-sulfur cluster assembly accessory protein',\n",
       " 'CQW49_01385': 'glyoxalase',\n",
       " 'CQW49_01390': 'DUF59 domain-containing protein',\n",
       " 'CQW49_01395': 'cysteine desulfurase',\n",
       " 'CQW49_01400': 'Fe-S cluster assembly protein SufD',\n",
       " 'CQW49_01405': 'Fe-S cluster assembly ATPase SufC',\n",
       " 'CQW49_01410': 'Fe-S cluster assembly protein SufB',\n",
       " 'CQW49_01420': 'alpha/beta hydrolase',\n",
       " 'CQW49_01425': 'porin family protein',\n",
       " 'CQW49_01430': 'redoxin',\n",
       " 'CQW49_01435': 'anhydro-N-acetylmuramic acid kinase',\n",
       " 'CQW49_01440': 'Na+/H+ antiporter NhaA',\n",
       " 'CQW49_01455': 'RNA polymerase-binding protein DksA',\n",
       " 'CQW49_01465': 'PAS domain-containing sensor histidine kinase',\n",
       " 'CQW49_01475': 'type II toxin-antitoxin system RelE/ParE family toxin',\n",
       " 'CQW49_01485': 'peptidylprolyl isomerase',\n",
       " 'CQW49_01490': 'peptidylprolyl isomerase',\n",
       " 'CQW49_01495': 'S-adenosylmethionine:tRNA ribosyltransferase-isomerase',\n",
       " 'CQW49_01505': 'tRNA guanosine(34) transglycosylase Tgt',\n",
       " 'CQW49_01510': 'DNA modification methylase',\n",
       " 'CQW49_01520': 'N-acetyltransferase',\n",
       " 'CQW49_01525': 'peptidase M15',\n",
       " 'CQW49_01530': 'ATP-dependent DNA helicase RecG',\n",
       " 'CQW49_01535': 'thiol:disulfide oxidoreductase',\n",
       " 'CQW49_01550': 'glycosyltransferase',\n",
       " 'CQW49_01555': 'PAS domain-containing sensor histidine kinase',\n",
       " 'CQW49_01560': 'response regulator',\n",
       " 'CQW49_01570': 'DUF1153 domain-containing protein',\n",
       " 'CQW49_01575': 'sugar-binding protein',\n",
       " 'CQW49_01590': 'methionine--tRNA ligase',\n",
       " 'CQW49_01600': 'TatD family deoxyribonuclease',\n",
       " 'CQW49_01605': 'MBL fold metallo-hydrolase',\n",
       " 'CQW49_01610': 'DNA-binding protein',\n",
       " 'CQW49_01620': 'QacE family quaternary ammonium compound efflux SMR transporter',\n",
       " 'CQW49_01625': 'GTPase HflX',\n",
       " 'CQW49_01630': 'RNA chaperone Hfq',\n",
       " 'CQW49_01635': 'IS1380 family transposase',\n",
       " 'CQW49_01640': 'sigma-54-dependent Fis family transcriptional regulator',\n",
       " 'CQW49_01645': 'HAMP domain-containing histidine kinase',\n",
       " 'CQW49_01650': 'type II toxin-antitoxin system ParD family antitoxin',\n",
       " 'CQW49_01655': 'type II toxin-antitoxin system RelE/ParE family toxin',\n",
       " 'CQW49_01660': 'nitrogen regulation protein NR(I)',\n",
       " 'CQW49_01665': 'two-component sensor histidine kinase',\n",
       " 'CQW49_01670': 'tRNA dihydrouridine synthase DusB',\n",
       " 'CQW49_01680': 'methyl-accepting chemotaxis protein',\n",
       " 'CQW49_01685': 'CinA family protein',\n",
       " 'CQW49_01690': 'ubiquinone-binding protein',\n",
       " 'CQW49_01695': 'DUF488 domain-containing protein',\n",
       " 'CQW49_01705': 'lipoyl synthase',\n",
       " 'CQW49_01710': 'DNA polymerase III subunit alpha',\n",
       " 'CQW49_01715': 'phasin family protein',\n",
       " 'CQW49_01720': 'D-alanyl-D-alanine carboxypeptidase',\n",
       " 'CQW49_01725': 'molecular chaperone DnaJ',\n",
       " 'CQW49_01735': 'DUF2478 domain-containing protein',\n",
       " 'CQW49_01750': 'heparinase',\n",
       " 'CQW49_01755': 'MFS transporter',\n",
       " 'CQW49_01760': 'DUF1674 domain-containing protein',\n",
       " 'CQW49_01765': 'hopanoid biosynthesis-associated RND transporter HpnN',\n",
       " 'CQW49_01770': 'DUF2147 domain-containing protein',\n",
       " 'CQW49_01775': 'RND transporter',\n",
       " 'CQW49_01780': 'efflux RND transporter periplasmic adaptor subunit',\n",
       " 'CQW49_01785': 'acriflavine resistance protein B',\n",
       " 'CQW49_01790': 'acriflavine resistance protein B',\n",
       " 'CQW49_01810': 'DUF2147 domain-containing protein',\n",
       " 'CQW49_01815': 'IS110 family transposase',\n",
       " 'CQW49_01820': 'indolepyruvate ferredoxin oxidoreductase',\n",
       " 'CQW49_01825': 'DUF1007 domain-containing protein',\n",
       " 'CQW49_01830': 'high frequency lysogenization protein HflD',\n",
       " 'CQW49_01840': 'IS4 family transposase',\n",
       " 'CQW49_01860': 'ferredoxin',\n",
       " 'CQW49_01865': 'oxidoreductase',\n",
       " 'CQW49_01870': 'TetR/AcrR family transcriptional regulator',\n",
       " 'CQW49_01880': 'IS1380 family transposase',\n",
       " 'CQW49_01905': 'hydrocarbon degradation protein',\n",
       " 'CQW49_01910': 'iron-sulfur cluster carrier protein ApbC',\n",
       " 'CQW49_01920': 'PepSY domain-containing protein',\n",
       " 'CQW49_01935': 'TonB-dependent siderophore receptor',\n",
       " 'CQW49_01955': 'class I SAM-dependent methyltransferase',\n",
       " 'CQW49_01965': 'cell division ATP-binding protein FtsE',\n",
       " 'CQW49_01970': 'ABC transporter permease',\n",
       " 'CQW49_01975': 'YdcF family protein',\n",
       " 'CQW49_01985': \"RNA 2',3'-cyclic phosphodiesterase\",\n",
       " 'CQW49_01990': 'arylesterase',\n",
       " 'CQW49_01995': 'ABC transporter ATP-binding protein',\n",
       " 'CQW49_02000': 'ABC transporter permease',\n",
       " 'CQW49_02010': 'DUF2232 domain-containing protein',\n",
       " 'CQW49_02015': '50S ribosomal protein L9',\n",
       " 'CQW49_02020': 'replicative DNA helicase',\n",
       " 'CQW49_02025': 'glutathione S-transferase family protein',\n",
       " 'CQW49_02030': 'class I SAM-dependent methyltransferase',\n",
       " 'CQW49_02035': 'Uma2 family endonuclease',\n",
       " 'CQW49_02040': 'glutathione S-transferase',\n",
       " 'CQW49_02050': 'limonene-1,2-epoxide hydrolase',\n",
       " 'CQW49_02055': 'DNA gyrase subunit A',\n",
       " 'CQW49_02080': 'error-prone DNA polymerase',\n",
       " 'CQW49_02090': 'MBL fold metallo-hydrolase',\n",
       " 'CQW49_02095': 'class I SAM-dependent methyltransferase',\n",
       " 'CQW49_02100': 'alpha/beta hydrolase',\n",
       " 'CQW49_02105': 'DUF1499 domain-containing protein',\n",
       " 'CQW49_02120': 'sigma-70 family RNA polymerase sigma factor',\n",
       " 'CQW49_02125': 'iron dicitrate transport regulator FecR',\n",
       " 'CQW49_02130': 'TonB-dependent receptor',\n",
       " 'CQW49_02135': 'elongation factor Tu',\n",
       " 'CQW49_02140': 'TonB-dependent receptor',\n",
       " 'CQW49_02150': 'DUF1778 domain-containing protein',\n",
       " 'CQW49_02155': 'N-acetyltransferase',\n",
       " 'CQW49_02160': 'septation inhibitor protein',\n",
       " 'CQW49_02170': 'peroxiredoxin',\n",
       " 'CQW49_02180': 'peptidase M23',\n",
       " 'CQW49_02185': 'protein-L-isoaspartate(D-aspartate) O-methyltransferase',\n",
       " 'CQW49_02200': 'twin-arginine translocase subunit TatC',\n",
       " 'CQW49_02205': 'twin-arginine translocase subunit TatB',\n",
       " 'CQW49_02210': 'twin-arginine translocase TatA/TatE family subunit',\n",
       " 'CQW49_02215': 'intradiol ring-cleavage dioxygenase',\n",
       " 'CQW49_02225': 'DUF2076 domain-containing protein',\n",
       " 'CQW49_02230': 'SAM-dependent methyltransferase',\n",
       " 'CQW49_02250': 'DUF2267 domain-containing protein',\n",
       " 'CQW49_02260': 'HicB family protein',\n",
       " 'CQW49_02270': 'methyltransferase',\n",
       " 'CQW49_02280': 'type II toxin-antitoxin system ParD family antitoxin',\n",
       " 'CQW49_02285': 'type II toxin-antitoxin system RelE/ParE family toxin',\n",
       " 'CQW49_02290': 'DNA topoisomerase I',\n",
       " 'CQW49_02295': 'VWA domain-containing protein',\n",
       " 'CQW49_02300': 'ribonuclease R',\n",
       " 'CQW49_02305': 'glycosyltransferase family 2 protein',\n",
       " 'CQW49_02315': 'lytic transglycosylase',\n",
       " 'CQW49_02330': 'glycosyltransferase',\n",
       " 'CQW49_02345': 'YbjN domain-containing protein',\n",
       " 'CQW49_02350': 'peptidylprolyl isomerase',\n",
       " 'CQW49_02365': 'energy transducer TonB',\n",
       " 'CQW49_02370': 'biopolymer transporter ExbD',\n",
       " 'CQW49_02375': 'DUF2341 domain-containing protein',\n",
       " 'CQW49_02380': 'ShlB/FhaC/HecB family hemolysin secretion/activation protein',\n",
       " 'CQW49_02385': 'DUF4880 domain-containing protein',\n",
       " 'CQW49_02390': 'sigma-70 family RNA polymerase sigma factor',\n",
       " 'CQW49_02400': 'gamma-glutamyltransferase',\n",
       " 'CQW49_02405': 'glutathione gamma-glutamylcysteinyltransferase',\n",
       " 'CQW49_02415': 'phosphoenolpyruvate synthase',\n",
       " 'CQW49_02420': 'TonB-dependent siderophore receptor',\n",
       " 'CQW49_02425': 'iron dicitrate transport regulator FecR',\n",
       " 'CQW49_02430': 'RNA polymerase subunit sigma-24',\n",
       " 'CQW49_02465': 'integrase',\n",
       " 'CQW49_02480': 'AlpA family transcriptional regulator',\n",
       " 'CQW49_02535': 'DUF4055 domain-containing protein',\n",
       " 'CQW49_02560': 'XRE family transcriptional regulator',\n",
       " 'CQW49_02590': 'TonB-dependent siderophore receptor',\n",
       " 'CQW49_02600': 'RNA polymerase subunit sigma-24',\n",
       " 'CQW49_02605': 'IS5 family transposase',\n",
       " 'CQW49_02615': 'ETC complex I subunit',\n",
       " 'CQW49_02630': 'cold-shock protein',\n",
       " 'CQW49_02635': 'aspartate aminotransferase family protein',\n",
       " 'CQW49_02645': 'metallophosphoesterase',\n",
       " 'CQW49_02650': 'endonuclease',\n",
       " 'CQW49_02660': 'HIT domain-containing protein',\n",
       " 'CQW49_02665': 'acyltransferase',\n",
       " 'CQW49_02685': 'ABC transporter ATP-binding protein',\n",
       " 'CQW49_02705': 'porin',\n",
       " 'CQW49_02710': 'protease modulator HflK',\n",
       " 'CQW49_02715': 'protease modulator HflC',\n",
       " 'CQW49_02720': 'serine protease',\n",
       " 'CQW49_02730': 'pilus assembly protein',\n",
       " 'CQW49_02735': 'pilus assembly protein',\n",
       " 'CQW49_02740': 'pilus assembly protein',\n",
       " 'CQW49_02745': '23S rRNA (adenine(2030)-N(6))-methyltransferase RlmJ',\n",
       " 'CQW49_02750': 'ribonuclease T',\n",
       " 'CQW49_02760': 'DUF459 domain-containing protein',\n",
       " 'CQW49_02785': 'MarR family transcriptional regulator',\n",
       " 'CQW49_02790': 'DNA-binding response regulator',\n",
       " 'CQW49_02795': 'two-component sensor histidine kinase',\n",
       " 'CQW49_02805': 'phospholipase',\n",
       " 'CQW49_02820': 'GTP-binding protein',\n",
       " 'CQW49_02825': 'DUF1826 domain-containing protein',\n",
       " 'CQW49_02835': 'ribonuclease D',\n",
       " 'CQW49_02845': 'exopolyphosphatase',\n",
       " 'CQW49_02850': 'RNA degradosome polyphosphate kinase',\n",
       " 'CQW49_02860': 'AI-2E family transporter',\n",
       " 'CQW49_02865': 'CDP-alcohol phosphatidyltransferase',\n",
       " 'CQW49_02870': 'TetR/AcrR family transcriptional regulator',\n",
       " 'CQW49_02885': 'L,D-transpeptidase',\n",
       " 'CQW49_02890': 'SAM-dependent methyltransferase',\n",
       " 'CQW49_02895': '23S rRNA (adenine(2503)-C(2))-methyltransferase RlmN',\n",
       " 'CQW49_02900': 'elongation factor 3',\n",
       " 'CQW49_02905': 'DUF2199 domain-containing protein',\n",
       " 'CQW49_02910': 'DUF4279 domain-containing protein',\n",
       " 'CQW49_02930': 'copper resistance protein CopC',\n",
       " 'CQW49_02940': 'PepSY domain-containing protein',\n",
       " 'CQW49_02945': 'SOS response-associated peptidase',\n",
       " 'CQW49_02950': 'acyltransferase',\n",
       " 'CQW49_02955': 'MFS transporter',\n",
       " 'CQW49_02960': 'O-succinylhomoserine sulfhydrylase',\n",
       " 'CQW49_02985': 'TonB-dependent receptor',\n",
       " 'CQW49_02990': 'Co2+/Mg2+ efflux protein ApaG',\n",
       " 'CQW49_03000': 'iron dicitrate transport regulator FecR',\n",
       " 'CQW49_03005': 'preprotein translocase subunit YajC',\n",
       " 'CQW49_03010': 'protein translocase subunit SecD',\n",
       " 'CQW49_03015': 'protein translocase subunit SecF',\n",
       " 'CQW49_03030': 'two-component sensor histidine kinase',\n",
       " 'CQW49_03035': 'DNA-binding response regulator',\n",
       " 'CQW49_03040': 'DNA repair protein MmcB-related protein',\n",
       " 'CQW49_03045': 'polyamine ABC transporter substrate-binding protein',\n",
       " 'CQW49_03060': 'acyl carrier protein',\n",
       " 'CQW49_03070': 'amino acid',\n",
       " 'CQW49_03075': 'DUF1839 domain-containing protein',\n",
       " 'CQW49_03085': 'histidine kinase',\n",
       " 'CQW49_03100': 'O-methyltransferase',\n",
       " 'CQW49_03105': 'NAD(P)/FAD-dependent oxidoreductase',\n",
       " 'CQW49_03110': 'ferredoxin',\n",
       " 'CQW49_03120': 'class I SAM-dependent methyltransferase',\n",
       " 'CQW49_03125': 'AraC family transcriptional regulator',\n",
       " 'CQW49_03130': 'MCE family protein',\n",
       " 'CQW49_03135': 'ABC transporter ATP-binding protein',\n",
       " 'CQW49_03140': 'ABC transporter permease',\n",
       " 'CQW49_03150': 'symporter-like protein',\n",
       " 'CQW49_03155': 'DNA polymerase I',\n",
       " 'CQW49_03165': 'photosystem reaction center subunit H',\n",
       " 'CQW49_03170': 'diaminobutyrate--2-oxoglutarate transaminase',\n",
       " 'CQW49_03180': 'amine oxidase',\n",
       " 'CQW49_03185': 'thioredoxin domain-containing protein',\n",
       " 'CQW49_03190': 'ATP-dependent helicase HrpB',\n",
       " 'CQW49_03195': 'DNA-binding protein',\n",
       " 'CQW49_03215': 'peptidoglycan-associated lipoprotein',\n",
       " 'CQW49_03225': 'DUF3037 domain-containing protein',\n",
       " 'CQW49_03235': 'DUF1640 domain-containing protein',\n",
       " 'CQW49_03245': 'DUF2905 domain-containing protein',\n",
       " 'CQW49_03250': 'DUF1810 domain-containing protein',\n",
       " 'CQW49_03255': 'TonB-dependent siderophore receptor',\n",
       " 'CQW49_03265': 'DNA-binding response regulator',\n",
       " 'CQW49_03270': 'sensor histidine kinase',\n",
       " 'CQW49_03290': 'ATPase',\n",
       " 'CQW49_03295': 'polyphosphate kinase 2',\n",
       " 'CQW49_03300': 'plasma-membrane proton-efflux P-type ATPase',\n",
       " 'CQW49_03305': 'glycosyl transferase family 2',\n",
       " 'CQW49_03310': 'glycosyltransferase family 1 protein',\n",
       " 'CQW49_03315': 'porin family protein',\n",
       " 'CQW49_03320': 'porin family protein',\n",
       " 'CQW49_03335': 'trehalose-6-phosphate synthase',\n",
       " 'CQW49_03345': 'pyrroloquinoline quinone biosynthesis protein PqqB',\n",
       " 'CQW49_03350': 'pyrroloquinoline quinone biosynthesis protein PqqC',\n",
       " 'CQW49_03355': 'pyrroloquinoline quinone biosynthesis protein PqqE',\n",
       " 'CQW49_03365': 'patatin',\n",
       " 'CQW49_03375': 'helix-turn-helix transcriptional regulator',\n",
       " 'CQW49_03380': 'SAM-dependent methyltransferase',\n",
       " 'CQW49_03385': 'amino acid permease',\n",
       " 'CQW49_03390': 'VOC family protein',\n",
       " 'CQW49_03395': 'energy transducer TonB',\n",
       " 'CQW49_03400': 'TonB system transport protein ExbD',\n",
       " 'CQW49_03405': 'tonB-system energizer ExbB',\n",
       " 'CQW49_03410': 'Fe2+-dependent dioxygenase',\n",
       " 'CQW49_03415': 'Fe2+-dependent dioxygenase',\n",
       " 'CQW49_03420': 'TonB-dependent siderophore receptor',\n",
       " 'CQW49_03425': 'peptidase S10',\n",
       " 'CQW49_03430': 'CsbD family protein',\n",
       " 'CQW49_03435': 'DUF3175 domain-containing protein',\n",
       " 'CQW49_03440': 'CBS domain-containing protein',\n",
       " 'CQW49_03450': 'DNA polymerase LigD',\n",
       " 'CQW49_03455': 'DNA polymerase LigD',\n",
       " 'CQW49_03460': 'Ku protein',\n",
       " 'CQW49_03465': 'YihY/virulence factor BrkB family protein',\n",
       " 'CQW49_03470': 'DUF883 domain-containing protein',\n",
       " 'CQW49_03480': 'DUF1328 domain-containing protein',\n",
       " 'CQW49_03485': 'NADH-quinone oxidoreductase subunit NuoD',\n",
       " 'CQW49_03490': 'stress-induced protein',\n",
       " 'CQW49_03495': 'HupU protein',\n",
       " 'CQW49_03500': 'HupV protein',\n",
       " 'CQW49_03505': 'uptake hydrogenase small subunit',\n",
       " 'CQW49_03510': 'nickel-dependent hydrogenase large subunit',\n",
       " 'CQW49_03515': 'Ni/Fe-hydrogenase, b-type cytochrome subunit',\n",
       " 'CQW49_03520': 'HyaD/HybD family hydrogenase maturation endopeptidase',\n",
       " 'CQW49_03530': 'HypC/HybG/HupF family hydrogenase formation chaperone',\n",
       " 'CQW49_03535': 'hydrogenase accessory protein',\n",
       " 'CQW49_03540': 'hydrogenase expression/formation protein',\n",
       " 'CQW49_03545': 'rubredoxin',\n",
       " 'CQW49_03550': '',\n",
       " 'CQW49_03555': 'nickel-dependent hydrogenase large subunit',\n",
       " 'CQW49_03560': 'hydrogenase maturation nickel metallochaperone HypA',\n",
       " 'CQW49_03565': 'hydrogenase accessory protein HypB',\n",
       " 'CQW49_03570': 'carbamoyltransferase HypF',\n",
       " 'CQW49_03575': 'HypC/HybG/HupF family hydrogenase formation chaperone',\n",
       " 'CQW49_03580': 'hydrogenase formation protein HypD',\n",
       " 'CQW49_03585': 'hydrogenase expression/formation protein HypE',\n",
       " 'CQW49_03590': 'sigma-54-dependent Fis family transcriptional regulator',\n",
       " 'CQW49_03595': 'PAS domain-containing sensor histidine kinase',\n",
       " 'CQW49_03605': 'glycosyl transferase family 1',\n",
       " 'CQW49_03610': 'glycosyl transferase',\n",
       " 'CQW49_03615': 'glycosyltransferase',\n",
       " 'CQW49_03630': 'surface polysaccharide polymerase',\n",
       " 'CQW49_03640': 'glycoside hydrolase family 5',\n",
       " 'CQW49_03660': 'MarC family protein',\n",
       " 'CQW49_03665': 'molecular chaperone',\n",
       " 'CQW49_03675': 'RNA polymerase sigma factor',\n",
       " 'CQW49_03685': 'TonB-dependent receptor',\n",
       " 'CQW49_03690': 'excinuclease ABC subunit UvrC',\n",
       " 'CQW49_03710': 'lytic transglycosylase domain-containing protein',\n",
       " 'CQW49_03715': 'outer membrane protein assembly factor BamE',\n",
       " 'CQW49_03735': 'integration host factor subunit alpha',\n",
       " 'CQW49_03740': 'MFS transporter',\n",
       " 'CQW49_03745': 'DNA repair protein RadA',\n",
       " 'CQW49_03755': 'colicin V synthesis protein',\n",
       " 'CQW49_03765': 'DNA methyltransferase',\n",
       " 'CQW49_03770': 'restriction endonuclease',\n",
       " 'CQW49_03775': 'DNA topoisomerase (ATP-hydrolyzing) subunit B',\n",
       " 'CQW49_03780': 'DUF3806 domain-containing protein',\n",
       " 'CQW49_03795': 'TetR/AcrR family transcriptional regulator',\n",
       " 'CQW49_03800': 'carboxymuconolactone decarboxylase family protein',\n",
       " 'CQW49_03810': 'ferredoxin',\n",
       " 'CQW49_03820': 'S9 family peptidase',\n",
       " 'CQW49_03850': 'pyrroloquinoline quinone precursor peptide PqqA',\n",
       " 'CQW49_03855': 'PEP-CTERM sorting domain-containing protein',\n",
       " 'CQW49_03860': 'PepSY domain-containing protein',\n",
       " 'CQW49_03865': 'cytochrome-c peroxidase',\n",
       " 'CQW49_03870': 'TIGR02300 family protein',\n",
       " 'CQW49_03880': 'porin family protein',\n",
       " 'CQW49_03895': 'glycosyltransferase family 2 protein',\n",
       " 'CQW49_03920': 'YggT family protein',\n",
       " 'CQW49_03925': 'competence/damage-inducible protein A',\n",
       " 'CQW49_03930': 'xanthine phosphoribosyltransferase',\n",
       " 'CQW49_03935': 'YgiQ family radical SAM protein',\n",
       " 'CQW49_03945': 'NAD(P)-dependent oxidoreductase',\n",
       " 'CQW49_03960': 'ATP-binding protein',\n",
       " 'CQW49_03965': 'DNA-binding response regulator',\n",
       " 'CQW49_03985': 'DUF4376 domain-containing protein',\n",
       " 'CQW49_03990': 'DUF2793 domain-containing protein',\n",
       " 'CQW49_04000': 'peptidase P60',\n",
       " 'CQW49_04005': 'beta tubulin',\n",
       " 'CQW49_04010': 'TIGR02217 family protein',\n",
       " 'CQW49_04015': 'phage tail protein',\n",
       " 'CQW49_04020': 'phage tail assembly chaperone',\n",
       " 'CQW49_04025': 'gene transfer agent family protein',\n",
       " 'CQW49_04030': 'phage major tail protein, TP901-1 family',\n",
       " 'CQW49_04035': 'DUF3168 domain-containing protein',\n",
       " 'CQW49_04040': 'head-tail adaptor protein',\n",
       " 'CQW49_04050': 'phage major capsid protein',\n",
       " 'CQW49_04055': 'HK97 family phage prohead protease',\n",
       " 'CQW49_04065': 'phage portal protein',\n",
       " 'CQW49_04070': 'ATP-binding protein',\n",
       " 'CQW49_04080': 'YcgN family cysteine cluster protein',\n",
       " 'CQW49_04085': 'penicillin-binding protein',\n",
       " 'CQW49_04090': 'DUF1214 domain-containing protein',\n",
       " 'CQW49_04100': 'DUF559 domain-containing protein',\n",
       " 'CQW49_04105': 'aminotransferase class IV',\n",
       " 'CQW49_04110': 'aminodeoxychorismate synthase, component I',\n",
       " 'CQW49_04120': 'TIGR00282 family metallophosphoesterase',\n",
       " 'CQW49_04130': 'IS4 family transposase',\n",
       " 'CQW49_04135': 'type II toxin-antitoxin system prevent-host-death family antitoxin',\n",
       " 'CQW49_04140': 'Txe/YoeB family addiction module toxin',\n",
       " 'CQW49_04145': 'short-chain dehydrogenase',\n",
       " 'CQW49_04150': 'transposase',\n",
       " 'CQW49_04155': 'bifunctional ADP-dependent NAD(P)H-hydrate dehydratase/NAD(P)H-hydrate epimerase',\n",
       " 'CQW49_04160': 'DUF1269 domain-containing protein',\n",
       " 'CQW49_04175': 'RidA family protein',\n",
       " 'CQW49_04180': 'DUF1849 domain-containing protein',\n",
       " 'CQW49_04185': 'signal peptide peptidase SppA',\n",
       " 'CQW49_04190': 'integration host factor subunit beta',\n",
       " 'CQW49_04195': 'DUF1049 domain-containing protein',\n",
       " 'CQW49_04200': 'divalent-cation tolerance protein CutA',\n",
       " 'CQW49_04205': '(2Fe-2S)-binding protein',\n",
       " 'CQW49_04215': 'DUF1311 domain-containing protein',\n",
       " 'CQW49_04220': 'elongation factor 4',\n",
       " 'CQW49_04225': 'lysylphosphatidylglycerol synthetase family protein',\n",
       " 'CQW49_04230': 'DUF1153 domain-containing protein',\n",
       " 'CQW49_04235': 'septal ring lytic transglycosylase RlpA family lipoprotein',\n",
       " 'CQW49_04240': 'DoxX family protein',\n",
       " 'CQW49_04245': 'malonic semialdehyde reductase',\n",
       " 'CQW49_04255': 'cold-shock protein',\n",
       " 'CQW49_04260': 'acyl carrier protein',\n",
       " 'CQW49_04270': 'Holliday junction branch migration protein RuvA',\n",
       " 'CQW49_04290': 'N-acetyltransferase',\n",
       " 'CQW49_04300': 'DUF1636 domain-containing protein',\n",
       " 'CQW49_04305': 'PepSY domain-containing protein',\n",
       " 'CQW49_04315': 'TonB-dependent receptor',\n",
       " 'CQW49_04325': 'DNA-binding response regulator',\n",
       " 'CQW49_04330': 'sensor histidine kinase',\n",
       " 'CQW49_04365': 'heme-binding protein',\n",
       " 'CQW49_04370': 'DUF3572 domain-containing protein',\n",
       " 'CQW49_04375': 'response regulator',\n",
       " 'CQW49_04380': 'PleD family two-component system response regulator',\n",
       " 'CQW49_04385': 'IS4 family transposase',\n",
       " 'CQW49_04395': 'glutathione S-transferase',\n",
       " 'CQW49_04405': 'ATP-dependent protease subunit HslV',\n",
       " 'CQW49_04410': 'ATP-dependent protease ATPase subunit HslU',\n",
       " 'CQW49_04440': 'lytic murein transglycosylase',\n",
       " 'CQW49_04445': 'AAA family ATPase',\n",
       " 'CQW49_04450': 'hybrid sensor histidine kinase/response regulator',\n",
       " 'CQW49_04460': 'GNAT family N-acetyltransferase',\n",
       " 'CQW49_04465': 'penicillin acylase family protein',\n",
       " 'CQW49_04470': 'cyclic peptide transporter',\n",
       " 'CQW49_04480': 'benzoate transporter',\n",
       " 'CQW49_04485': 'XRE family transcriptional regulator',\n",
       " 'CQW49_04495': 'IS4 family transposase',\n",
       " 'CQW49_04500': 'nucleoside:proton symporter',\n",
       " 'CQW49_04515': 'DNA translocase FtsK',\n",
       " 'CQW49_04530': 'sterol desaturase family protein',\n",
       " 'CQW49_04535': 'DNA-binding response regulator',\n",
       " 'CQW49_04540': 'ATP-binding protein',\n",
       " 'CQW49_04550': 'cell wall hydrolase',\n",
       " 'CQW49_04580': '50S ribosomal protein L33',\n",
       " 'CQW49_04600': 'DNA replication and repair protein RecF',\n",
       " 'CQW49_04610': 'single-stranded DNA-binding protein',\n",
       " 'CQW49_04615': 'gamma-glutamylcyclotransferase',\n",
       " 'CQW49_04635': 'DUF1134 domain-containing protein',\n",
       " 'CQW49_04640': 'copper chaperone PCu(A)C',\n",
       " 'CQW49_04650': 'MarR family transcriptional regulator',\n",
       " 'CQW49_04665': 'polysaccharide deacetylase',\n",
       " 'CQW49_04670': 'GNAT family N-acetyltransferase',\n",
       " 'CQW49_04675': 'lipopolysaccharide biosynthesis protein',\n",
       " 'CQW49_04680': 'sugar transporter',\n",
       " 'CQW49_04685': 'glycosyltransferase family 1 protein',\n",
       " 'CQW49_04690': 'undecaprenyl-phosphate glucose phosphotransferase',\n",
       " 'CQW49_04695': 'integrase',\n",
       " 'CQW49_04700': 'DUF423 domain-containing protein',\n",
       " 'CQW49_04705': 'ATP-dependent helicase',\n",
       " 'CQW49_04710': 'response regulator',\n",
       " 'CQW49_04715': 'DUF2865 domain-containing protein',\n",
       " 'CQW49_04720': 'competence protein ComEC',\n",
       " 'CQW49_04725': 'cytochrome c biogenesis protein CcdA',\n",
       " 'CQW49_04730': 'thioredoxin',\n",
       " 'CQW49_04735': 'heme-binding protein',\n",
       " 'CQW49_04765': 'DNA primase',\n",
       " 'CQW49_04770': 'RNA polymerase sigma factor RpoD',\n",
       " 'CQW49_04785': 'phospholipase C, phosphocholine-specific',\n",
       " 'CQW49_04795': 'DUF721 domain-containing protein',\n",
       " 'CQW49_04800': 'A/G-specific adenine glycosylase',\n",
       " 'CQW49_04810': 'AI-2E family transporter',\n",
       " 'CQW49_04815': 'flavodoxin',\n",
       " 'CQW49_04835': 'apolipoprotein N-acyltransferase',\n",
       " 'CQW49_04840': 'XRE family transcriptional regulator',\n",
       " 'CQW49_04850': 'tRNA (guanosine(46)-N7)-methyltransferase TrmB',\n",
       " 'CQW49_04855': 'co-chaperone YbbN',\n",
       " 'CQW49_04860': 'peptidase S16',\n",
       " 'CQW49_04875': 'transcriptional regulator',\n",
       " 'CQW49_04885': 'Crp/Fnr family transcriptional regulator',\n",
       " 'CQW49_04890': 'poly-beta-hydroxybutyrate polymerase',\n",
       " 'CQW49_04895': 'exo-alpha-sialidase',\n",
       " 'CQW49_04905': 'exo-alpha-sialidase',\n",
       " 'CQW49_04910': 'exo-alpha-sialidase',\n",
       " 'CQW49_04915': 'cytochrome C biogenesis protein',\n",
       " 'CQW49_04930': 'multidrug transporter AcrB',\n",
       " 'CQW49_04935': 'efflux RND transporter periplasmic adaptor subunit',\n",
       " 'CQW49_04945': 'IS1595 family transposase',\n",
       " 'CQW49_04950': 'DNA-binding protein',\n",
       " 'CQW49_04955': 'isoprenylcysteine carboxylmethyltransferase family protein',\n",
       " 'CQW49_04965': 'short chain dehydrogenase',\n",
       " 'CQW49_04970': 'nickel/cobalt efflux transporter RcnA',\n",
       " 'CQW49_04975': 'CHAD domain-containing protein',\n",
       " 'CQW49_04990': 'energy transducer TonB',\n",
       " 'CQW49_05000': 'aminopeptidase P family protein',\n",
       " 'CQW49_05030': 'disulfide bond formation protein DsbA',\n",
       " 'CQW49_05035': 'LPS-assembly protein LptD',\n",
       " 'CQW49_05040': 'LPS export ABC transporter permease LptG',\n",
       " 'CQW49_05060': 'leucyl aminopeptidase',\n",
       " 'CQW49_05075': 'QacE family quaternary ammonium compound efflux SMR transporter',\n",
       " 'CQW49_05085': 'type II toxin-antitoxin system ParD family antitoxin',\n",
       " 'CQW49_05095': 'phosphoenolpyruvate carboxylase',\n",
       " 'CQW49_05105': 'RNA polymerase subunit sigma-24',\n",
       " 'CQW49_05110': 'iron dicitrate transport regulator FecR',\n",
       " 'CQW49_05115': 'TonB-dependent siderophore receptor',\n",
       " 'CQW49_05120': 'PIN domain-containing protein',\n",
       " 'CQW49_05125': 'ribbon-helix-helix protein, CopG family',\n",
       " 'CQW49_05130': \"primosomal protein N'\",\n",
       " 'CQW49_05150': 'addiction module toxin, HicA family',\n",
       " 'CQW49_05160': 'integrase',\n",
       " 'CQW49_05180': 'single-stranded DNA-binding protein',\n",
       " 'CQW49_05185': 'helix-turn-helix domain-containing protein',\n",
       " 'CQW49_05225': 'DUF1640 domain-containing protein',\n",
       " 'CQW49_05230': 'HicB family protein',\n",
       " 'CQW49_05240': 'XRE family transcriptional regulator',\n",
       " 'CQW49_05265': 'DUF1467 domain-containing protein',\n",
       " 'CQW49_05275': 'ribonuclease J',\n",
       " 'CQW49_05280': 'biotin',\n",
       " 'CQW49_05355': 'ATPase',\n",
       " 'CQW49_05360': 'pseudouridine synthase',\n",
       " 'CQW49_05365': 'fluoride efflux transporter CrcB',\n",
       " 'CQW49_05370': 'pilus assembly protein PilZ',\n",
       " 'CQW49_05375': 'N-acetyltransferase',\n",
       " 'CQW49_05380': 'JAB domain-containing protein',\n",
       " 'CQW49_05385': 'type I methionyl aminopeptidase',\n",
       " 'CQW49_05395': 'FMN-binding glutamate synthase family protein',\n",
       " 'CQW49_05405': 'energy transducer TonB',\n",
       " 'CQW49_05410': 'biopolymer transporter ExbD',\n",
       " 'CQW49_05415': 'TonB-system energizer ExbB',\n",
       " 'CQW49_05420': 'ShlB/FhaC/HecB family hemolysin secretion/activation protein',\n",
       " 'CQW49_05425': 'filamentous hemagglutinin',\n",
       " 'CQW49_05435': 'molybdate ABC transporter substrate-binding protein',\n",
       " 'CQW49_05450': 'integrase',\n",
       " 'CQW49_05455': 'Killer protein',\n",
       " 'CQW49_05460': 'addiction module antidote protein, HigA family',\n",
       " 'CQW49_05470': 'XRE family transcriptional regulator',\n",
       " 'CQW49_05510': 'DUF3987 domain-containing protein',\n",
       " 'CQW49_05515': 'single-stranded DNA-binding protein',\n",
       " 'CQW49_05525': 'phage portal protein',\n",
       " 'CQW49_05530': 'phage major capsid protein',\n",
       " 'CQW49_05540': 'HNH endonuclease',\n",
       " 'CQW49_05545': 'phage terminase small subunit P27 family',\n",
       " 'CQW49_05550': 'terminase large subunit',\n",
       " 'CQW49_05560': 'glutathione S-transferase',\n",
       " 'CQW49_05565': 'polyhydroxyalkanoate depolymerase',\n",
       " 'CQW49_05570': 'right-handed parallel beta-helix repeat-containing protein',\n",
       " 'CQW49_05595': 'SRPBCC family protein',\n",
       " 'CQW49_05605': 'RNA polymerase sigma factor',\n",
       " 'CQW49_05610': 'iron dicitrate transport regulator FecR',\n",
       " 'CQW49_05615': 'TonB-dependent siderophore receptor',\n",
       " 'CQW49_05620': 'PepSY domain-containing protein',\n",
       " 'CQW49_05630': 'aldo/keto reductase',\n",
       " 'CQW49_05635': 'FAA hydrolase family protein',\n",
       " 'CQW49_05640': 'homogentisate 1,2-dioxygenase',\n",
       " 'CQW49_05645': '4-hydroxyphenylpyruvate dioxygenase',\n",
       " 'CQW49_05670': 'adenylate/guanylate cyclase domain-containing protein',\n",
       " 'CQW49_05705': 'phosphatidylserine synthase',\n",
       " 'CQW49_05720': 'chemotaxis protein CheR',\n",
       " 'CQW49_05730': 'pirin family protein',\n",
       " 'CQW49_05735': 'LysR family transcriptional regulator',\n",
       " 'CQW49_05740': 'plasmid stabilization protein',\n",
       " 'CQW49_05750': 'ABC transporter substrate-binding protein',\n",
       " 'CQW49_05755': 'TonB-dependent siderophore receptor',\n",
       " 'CQW49_05760': 'nitrogenase',\n",
       " 'CQW49_05765': 'plasmid stabilization protein',\n",
       " 'CQW49_05770': 'PIN domain-containing protein',\n",
       " 'CQW49_05775': 'ASCH domain-containing protein',\n",
       " 'CQW49_05780': 'CRISPR-associated endonuclease Cas2',\n",
       " 'CQW49_05785': 'CRISPR-associated endonuclease Cas4/Cas1',\n",
       " 'CQW49_05795': 'DUF3892 domain-containing protein',\n",
       " 'CQW49_05800': 'type I-U CRISPR-associated helicase/endonuclease Cas3',\n",
       " 'CQW49_05805': 'type I-U CRISPR-associated protein Cas8c',\n",
       " 'CQW49_05810': 'type I-U CRISPR-associated protein Cas7',\n",
       " 'CQW49_05815': 'type I-U CRISPR-associated protein Cas5/Cas6',\n",
       " 'CQW49_05830': 'DUF2293 domain-containing protein',\n",
       " 'CQW49_05840': 'IS66 family insertion sequence hypothetical protein',\n",
       " 'CQW49_05845': 'IS66 family insertion sequence hypothetical protein',\n",
       " 'CQW49_05850': 'IS66 family transposase',\n",
       " 'CQW49_05860': 'integrase',\n",
       " 'CQW49_05870': 'peptidase',\n",
       " 'CQW49_05875': 'L-threonylcarbamoyladenylate synthase',\n",
       " 'CQW49_05880': 'RNA polymerase sigma factor',\n",
       " 'CQW49_05885': 'iron dicitrate transport regulator FecR',\n",
       " 'CQW49_05890': 'TonB-dependent siderophore receptor',\n",
       " 'CQW49_05895': 'GNAT family N-acetyltransferase',\n",
       " 'CQW49_05900': 'tRNA (adenosine(37)-N6)-threonylcarbamoyltransferase complex dimerization subunit type 1 TsaB',\n",
       " 'CQW49_05905': 'NifU family protein',\n",
       " 'CQW49_05910': 'L,D-transpeptidase',\n",
       " 'CQW49_05925': 'molybdenum storage protein subunit alpha',\n",
       " 'CQW49_05930': 'uridine kinase',\n",
       " 'CQW49_05935': 'histidine kinase',\n",
       " 'CQW49_05940': 'chemotaxis protein CheR',\n",
       " 'CQW49_05945': 'hybrid sensor histidine kinase/response regulator',\n",
       " 'CQW49_05955': 'stress-induced protein',\n",
       " 'CQW49_05960': 'ABC transporter permease',\n",
       " 'CQW49_05970': 'HlyD family secretion protein',\n",
       " 'CQW49_05980': 'twin-arginine translocation (Tat)',\n",
       " 'CQW49_05990': 'DedA family protein',\n",
       " 'CQW49_05995': 'methylated-DNA',\n",
       " 'CQW49_06015': 'glutathione peroxidase',\n",
       " 'CQW49_06020': 'sigma-54-dependent Fis family transcriptional regulator',\n",
       " 'CQW49_06025': 'oligoendopeptidase F',\n",
       " 'CQW49_06045': 'DUF892 domain-containing protein',\n",
       " 'CQW49_06050': 'DUF4336 domain-containing protein',\n",
       " 'CQW49_06055': 'peptidase P60',\n",
       " 'CQW49_06060': 'leucyl aminopeptidase',\n",
       " 'CQW49_06065': 'dipeptide ABC transporter ATP-binding protein',\n",
       " 'CQW49_06075': 'PIN domain-containing protein',\n",
       " 'CQW49_06085': 'cupin domain-containing protein',\n",
       " 'CQW49_06090': 'ABC transporter permease',\n",
       " 'CQW49_06095': 'microcin C ABC transporter permease YejB',\n",
       " 'CQW49_06110': 'cysteine desulfuration protein SufE',\n",
       " 'CQW49_06120': 'sensor histidine kinase',\n",
       " 'CQW49_06130': 'DUF1491 domain-containing protein',\n",
       " 'CQW49_06135': 'DUF2336 domain-containing protein',\n",
       " 'CQW49_06145': 'cupin-like domain-containing protein',\n",
       " 'CQW49_06150': 'MbtH family protein',\n",
       " 'CQW49_06155': 'lysine--tRNA ligase',\n",
       " 'CQW49_06160': 'structural protein MipA',\n",
       " 'CQW49_06165': 'PE family protein',\n",
       " 'CQW49_06175': '5-formyltetrahydrofolate cyclo-ligase',\n",
       " 'CQW49_06185': 'carboxypeptidase regulatory-like domain-containing protein',\n",
       " 'CQW49_06190': 'SMC-Scp complex subunit ScpB',\n",
       " 'CQW49_06195': 'segregation/condensation protein A',\n",
       " 'CQW49_06205': 'SPOR domain-containing protein',\n",
       " 'CQW49_06215': 'CopG family transcriptional regulator',\n",
       " 'CQW49_06250': 'PepSY domain-containing protein',\n",
       " 'CQW49_06255': 'TonB-dependent siderophore receptor',\n",
       " 'CQW49_06265': 'DNA-binding response regulator',\n",
       " 'CQW49_06270': 'sensor histidine kinase',\n",
       " 'CQW49_06275': 'AMP-dependent synthetase',\n",
       " 'CQW49_06290': 'oxygen-independent coproporphyrinogen III oxidase',\n",
       " 'CQW49_06295': 'methyl-accepting chemotaxis protein',\n",
       " 'CQW49_06305': 'L,D-transpeptidase',\n",
       " 'CQW49_06310': 'acetoin utilization protein',\n",
       " 'CQW49_06315': '50S ribosomal protein L36',\n",
       " 'CQW49_06320': 'TonB-dependent receptor',\n",
       " 'CQW49_06325': 'IS4 family transposase',\n",
       " 'CQW49_06330': 'DUF3501 domain-containing protein',\n",
       " 'CQW49_06335': 'glycerol-3-phosphate dehydrogenase',\n",
       " 'CQW49_06340': 'rubrerythrin',\n",
       " 'CQW49_06345': 'amino acid regulated cytosolic protein',\n",
       " 'CQW49_06355': 'histidine phosphatase family protein',\n",
       " 'CQW49_06380': '(2Fe-2S)-binding protein',\n",
       " 'CQW49_06390': 'DNA-binding response regulator',\n",
       " 'CQW49_06395': 'rhodanese-like domain-containing protein',\n",
       " 'CQW49_06400': 'CHRD domain-containing protein',\n",
       " 'CQW49_06415': 'urea amidolyase',\n",
       " 'CQW49_06420': 'allophanate hydrolase',\n",
       " 'CQW49_06425': 'LamB/YcsF family protein',\n",
       " 'CQW49_06435': 'PAS domain-containing sensor histidine kinase',\n",
       " 'CQW49_06440': 'phasin',\n",
       " 'CQW49_06450': 'IS110 family transposase',\n",
       " 'CQW49_06460': 'toxin-antitoxin system HicB family antitoxin',\n",
       " 'CQW49_06465': 'type II toxin-antitoxin system HicA family toxin',\n",
       " 'CQW49_06470': 'energy-dependent translational throttle protein EttA',\n",
       " 'CQW49_06495': '4Fe-4S ferredoxin',\n",
       " 'CQW49_06500': 'MarR family transcriptional regulator',\n",
       " 'CQW49_06505': 'universal stress protein',\n",
       " 'CQW49_06520': 'DNA polymerase III subunit delta',\n",
       " 'CQW49_06530': 'tyrosine recombinase XerC',\n",
       " 'CQW49_06540': 'nitrate ABC transporter substrate-binding protein',\n",
       " 'CQW49_06545': 'ABC transporter ATP-binding protein',\n",
       " 'CQW49_06550': 'ABC transporter ATP-binding protein',\n",
       " 'CQW49_06555': 'murein L,D-transpeptidase',\n",
       " 'CQW49_06560': 'thiol-disulfide isomerase',\n",
       " 'CQW49_06570': 'twin transmembrane helix small protein',\n",
       " 'CQW49_06580': 'ribosome biogenesis GTPase Der',\n",
       " 'CQW49_06590': 'VapC toxin family PIN domain ribonuclease',\n",
       " 'CQW49_06595': 'prevent-host-death protein',\n",
       " 'CQW49_06605': 'ferredoxin',\n",
       " 'CQW49_06610': 'glutathionylspermidine synthase family protein',\n",
       " 'CQW49_06620': 'DUF350 domain-containing protein',\n",
       " 'CQW49_06625': 'N-acetyltransferase',\n",
       " 'CQW49_06645': 'phytanoyl-CoA dioxygenase',\n",
       " 'CQW49_06650': 'asparagine synthase',\n",
       " 'CQW49_06660': 'phage tail protein',\n",
       " 'CQW49_06665': 'PqqD family protein',\n",
       " 'CQW49_06680': 'Uma2 family endonuclease',\n",
       " 'CQW49_06685': 'DUF983 domain-containing protein',\n",
       " 'CQW49_06690': 'N-acetyltransferase',\n",
       " 'CQW49_06695': 'type III PLP-dependent enzyme',\n",
       " 'CQW49_06700': 'glucan biosynthesis protein G',\n",
       " 'CQW49_06705': 'DNA polymerase IV',\n",
       " 'CQW49_06710': 'GGDEF domain-containing protein',\n",
       " 'CQW49_06715': 'Glu/Leu/Phe/Val dehydrogenase',\n",
       " 'CQW49_06720': 'radical SAM protein',\n",
       " 'CQW49_06725': 'pyruvate dehydrogenase (acetyl-transferring) E1 component subunit alpha',\n",
       " 'CQW49_06730': 'alpha-ketoacid dehydrogenase subunit beta',\n",
       " 'CQW49_06735': '2-oxo acid dehydrogenase subunit E2',\n",
       " 'CQW49_06740': 'ATP-binding protein',\n",
       " 'CQW49_06745': 'META domain-containing protein',\n",
       " 'CQW49_06750': 'D-glycerate dehydrogenase',\n",
       " 'CQW49_06760': 'transcriptional repressor',\n",
       " 'CQW49_06765': 'phosphate ABC transporter substrate-binding protein PstS',\n",
       " 'CQW49_06770': 'HlyC/CorC family transporter',\n",
       " 'CQW49_06780': 'NUDIX hydrolase',\n",
       " 'CQW49_06790': 'nuclear transport factor 2 family protein',\n",
       " 'CQW49_06795': 'nuclear transport factor 2 family protein',\n",
       " 'CQW49_06805': 'type II toxin-antitoxin system PemK/MazF family toxin',\n",
       " 'CQW49_06810': 'AbrB/MazE/SpoVT family DNA-binding domain-containing protein',\n",
       " 'CQW49_06825': 'IS4 family transposase',\n",
       " 'CQW49_06830': 'peptide chain release factor 3',\n",
       " 'CQW49_06835': 'asparagine synthetase B family protein',\n",
       " 'CQW49_06840': 'methylamine utilization protein MauG',\n",
       " 'CQW49_06845': '50S ribosomal protein L35',\n",
       " 'CQW49_06850': '50S ribosomal protein L20',\n",
       " 'CQW49_06870': 'MBOAT family protein',\n",
       " 'CQW49_06875': 'alpha/beta hydrolase',\n",
       " 'CQW49_06880': 'photosystem reaction center subunit H',\n",
       " 'CQW49_06885': 'anion transporter',\n",
       " 'CQW49_06890': 'MFS transporter',\n",
       " 'CQW49_06900': 'NAD-dependent epimerase/dehydratase family protein',\n",
       " 'CQW49_06910': 'tRNA 2-thiouridine(34) synthase MnmA',\n",
       " 'CQW49_06935': \"16S rRNA (cytidine(1402)-2'-O)-methyltransferase\",\n",
       " 'CQW49_06940': 'penicillin-binding protein activator',\n",
       " 'CQW49_06945': 'transcriptional regulator',\n",
       " 'CQW49_06950': 'type II toxin-antitoxin system RelE/ParE family toxin',\n",
       " 'CQW49_06960': 'ATP-binding protein',\n",
       " 'CQW49_06980': 'class I SAM-dependent methyltransferase',\n",
       " 'CQW49_07005': 'GSCFA family protein',\n",
       " 'CQW49_07025': 'class I SAM-dependent methyltransferase',\n",
       " 'CQW49_07050': 'porin family protein',\n",
       " 'CQW49_07055': 'methyltransferase domain-containing protein',\n",
       " 'CQW49_07060': 'amino acid permease',\n",
       " 'CQW49_07065': 'DUF465 domain-containing protein',\n",
       " 'CQW49_07070': 'SELO family protein',\n",
       " 'CQW49_07075': 'DUF465 domain-containing protein',\n",
       " 'CQW49_07095': 'restriction endonuclease subunit R',\n",
       " 'CQW49_07105': 'ImmA/IrrE family metallo-endopeptidase',\n",
       " 'CQW49_07110': 'restriction endonuclease subunit S',\n",
       " 'CQW49_07115': 'SAM-dependent DNA methyltransferase',\n",
       " 'CQW49_07125': 'DUF4189 domain-containing protein',\n",
       " 'CQW49_07130': 'RNA polymerase sigma factor',\n",
       " 'CQW49_07135': 'di-heme enzyme',\n",
       " 'CQW49_07140': 'metallo-mystery pair system four-Cys motif protein',\n",
       " 'CQW49_07145': 'aminotransferase class I and II',\n",
       " 'CQW49_07150': 'multi antimicrobial extrusion protein MatE',\n",
       " 'CQW49_07155': 'methanobactin biosynthesis cassette protein MbnC',\n",
       " 'CQW49_07160': 'methanobactin biosynthesis cassette protein MbnB',\n",
       " 'CQW49_07170': 'TonB-dependent siderophore receptor',\n",
       " 'CQW49_07175': 'iron dicitrate transport regulator FecR',\n",
       " 'CQW49_07180': 'RNA polymerase sigma factor',\n",
       " 'CQW49_07200': 'ISAs1 family transposase',\n",
       " 'CQW49_07205': 'IS256 family transposase',\n",
       " 'CQW49_07210': 'TonB-dependent receptor',\n",
       " 'CQW49_07215': 'thiamine biosynthesis protein ThiJ',\n",
       " 'CQW49_07220': 'GlxA family transcriptional regulator',\n",
       " 'CQW49_07225': 'ABC transporter substrate-binding protein',\n",
       " 'CQW49_07255': 'XRE family transcriptional regulator',\n",
       " 'CQW49_07275': 'phage major capsid protein',\n",
       " 'CQW49_07280': 'HK97 family phage prohead protease',\n",
       " 'CQW49_07285': 'phage portal protein',\n",
       " 'CQW49_07295': 'integrase',\n",
       " 'CQW49_07330': 'glycoside hydrolase',\n",
       " 'CQW49_07355': 'phage tail protein',\n",
       " 'CQW49_07385': 'gene transfer agent family protein',\n",
       " 'CQW49_07395': 'DUF3168 domain-containing protein',\n",
       " 'CQW49_07400': 'head-tail adaptor protein',\n",
       " 'CQW49_07430': 'phage major capsid protein',\n",
       " 'CQW49_07435': 'peptidase',\n",
       " 'CQW49_07440': 'phage portal protein',\n",
       " 'CQW49_07445': 'terminase',\n",
       " 'CQW49_07450': 'terminase',\n",
       " 'CQW49_07455': 'HNH endonuclease',\n",
       " 'CQW49_07465': 'DNA methyltransferase',\n",
       " 'CQW49_07480': 'phosphohydrolase',\n",
       " 'CQW49_07500': 'DUF2312 domain-containing protein',\n",
       " 'CQW49_07520': 'XRE family transcriptional regulator',\n",
       " 'CQW49_07530': 'HNH endonuclease',\n",
       " 'CQW49_07580': 'DNA-binding protein',\n",
       " 'CQW49_07585': 'site-specific integrase',\n",
       " 'CQW49_07590': 'DNA (cytosine-5-)-methyltransferase',\n",
       " 'CQW49_07595': 'very short patch repair endonuclease',\n",
       " 'CQW49_07605': 'DUF2628 domain-containing protein',\n",
       " 'CQW49_07625': 'restriction endonuclease',\n",
       " 'CQW49_07645': 'carboxymuconolactone decarboxylase family protein',\n",
       " 'CQW49_07650': 'putative sugar O-methyltransferase',\n",
       " 'CQW49_07655': 'glycosyltransferase',\n",
       " 'CQW49_07660': 'ABC transporter ATP-binding protein',\n",
       " 'CQW49_07665': 'lipopolysaccharide biosynthesis protein',\n",
       " 'CQW49_07675': 'recombinase family protein',\n",
       " 'CQW49_07685': 'phage Gp37/Gp68 family protein',\n",
       " 'CQW49_07695': 'single-stranded DNA-binding protein',\n",
       " 'CQW49_07700': 'DNA polymerase III subunit beta',\n",
       " 'CQW49_07705': 'DUF2303 domain-containing protein',\n",
       " 'CQW49_07725': 'XRE family transcriptional regulator',\n",
       " 'CQW49_07730': 'XRE family transcriptional regulator',\n",
       " 'CQW49_07755': 'GcrA cell cycle regulator',\n",
       " 'CQW49_07760': 'DNA primase',\n",
       " 'CQW49_07770': 'methyltransferase',\n",
       " 'CQW49_07775': 'DNA primase',\n",
       " 'CQW49_07785': 'DNA cytosine methyltransferase',\n",
       " 'CQW49_07805': 'terminase',\n",
       " 'CQW49_07810': 'phage tail protein',\n",
       " 'CQW49_07815': 'phage portal protein',\n",
       " 'CQW49_07820': 'peptidase S49',\n",
       " 'CQW49_07830': 'minor capsid protein E',\n",
       " 'CQW49_07850': 'baseplate assembly protein',\n",
       " 'CQW49_07855': 'baseplate assembly protein',\n",
       " 'CQW49_07860': 'phage tail protein I',\n",
       " 'CQW49_07890': 'DNA methyltransferase',\n",
       " 'CQW49_07895': 'TIGR02594 family protein',\n",
       " 'CQW49_07920': 'phage tail protein',\n",
       " 'CQW49_07935': 'phage tail protein',\n",
       " 'CQW49_07940': 'phage tail protein',\n",
       " 'CQW49_07970': 'S1/P1 nuclease',\n",
       " 'CQW49_07975': 'CRISPR-associated endonuclease Cas2',\n",
       " 'CQW49_07980': 'type II CRISPR-associated endonuclease Cas1',\n",
       " 'CQW49_07985': 'type II CRISPR RNA-guided endonuclease Cas9',\n",
       " 'CQW49_07990': 'IS1595 family transposase',\n",
       " 'CQW49_08005': 'IS1380 family transposase',\n",
       " 'CQW49_08010': 'ATP-dependent helicase',\n",
       " 'CQW49_08015': 'type II toxin-antitoxin system RelE/ParE family toxin',\n",
       " 'CQW49_08020': 'XRE family transcriptional regulator',\n",
       " 'CQW49_08040': 'IS66 family transposase',\n",
       " 'CQW49_08045': 'IS66 family insertion sequence hypothetical protein',\n",
       " 'CQW49_08050': 'IS66 family insertion sequence hypothetical protein',\n",
       " 'CQW49_08055': 'IS66 family insertion sequence hypothetical protein',\n",
       " 'CQW49_08060': 'IS66 family insertion sequence hypothetical protein',\n",
       " 'CQW49_08065': 'transposase',\n",
       " 'CQW49_08070': 'lecithin--cholesterol acyltransferase',\n",
       " 'CQW49_08095': 'serine protease',\n",
       " 'CQW49_08100': 'peptidase S8',\n",
       " 'CQW49_08110': 'integrase',\n",
       " 'CQW49_08120': 'DUF2190 domain-containing protein',\n",
       " 'CQW49_08125': 'phage tail protein',\n",
       " 'CQW49_08130': 'peptidase U35',\n",
       " 'CQW49_08135': 'phage portal protein',\n",
       " 'CQW49_08155': 'transcriptional regulator',\n",
       " 'CQW49_08165': 'HicB family protein',\n",
       " 'CQW49_08170': 'terminase',\n",
       " 'CQW49_08180': 'IS256 family transposase',\n",
       " 'CQW49_08190': 'alpha/beta hydrolase',\n",
       " 'CQW49_08210': 'IS21 family transposase',\n",
       " 'CQW49_08220': 'IS3 family transposase',\n",
       " 'CQW49_08225': 'GtrA family protein',\n",
       " 'CQW49_08230': 'class I SAM-dependent methyltransferase',\n",
       " 'CQW49_08240': 'NAD-dependent dehydratase',\n",
       " 'CQW49_08245': 'acetoacetyl-CoA reductase',\n",
       " 'CQW49_08250': 'FAD-binding oxidoreductase',\n",
       " 'CQW49_08255': 'prenyltransferase',\n",
       " 'CQW49_08260': 'IS6 family transposase',\n",
       " 'CQW49_08275': 'IS1380 family transposase',\n",
       " 'CQW49_08280': 'amidase',\n",
       " 'CQW49_08285': 'oxidoreductase',\n",
       " 'CQW49_08310': 'EamA family transporter',\n",
       " 'CQW49_08325': 'ornithine monooxygenase',\n",
       " 'CQW49_08330': 'N-acetyltransferase',\n",
       " 'CQW49_08335': 'thioester reductase',\n",
       " 'CQW49_08340': 'IS6 family transposase',\n",
       " 'CQW49_08345': 'IS481 family transposase',\n",
       " 'CQW49_08350': 'sensor histidine kinase',\n",
       " 'CQW49_08355': 'DNA-binding response regulator',\n",
       " 'CQW49_08365': 'efflux RND transporter periplasmic adaptor subunit',\n",
       " 'CQW49_08370': 'multidrug transporter subunit MdtC',\n",
       " 'CQW49_08375': 'nodulation protein',\n",
       " 'CQW49_08385': 'transposase',\n",
       " 'CQW49_08410': 'addiction module antidote protein, HigA family',\n",
       " 'CQW49_08415': 'integrase',\n",
       " 'CQW49_08435': 'transcriptional regulator',\n",
       " 'CQW49_08440': 'DUF3102 domain-containing protein',\n",
       " 'CQW49_08510': 'DNA-binding protein',\n",
       " 'CQW49_08525': 'DNA-binding protein',\n",
       " 'CQW49_08530': 'site-specific integrase',\n",
       " 'CQW49_08545': 'extensin',\n",
       " 'CQW49_08550': 'chromate transporter',\n",
       " 'CQW49_08555': 'chromate transporter',\n",
       " 'CQW49_08560': 'histidine phosphotransferase',\n",
       " 'CQW49_08565': 'hybrid sensor histidine kinase/response regulator',\n",
       " 'CQW49_08570': 'chemotaxis protein CheW',\n",
       " 'CQW49_08575': 'response regulator',\n",
       " 'CQW49_08580': 'chemotaxis protein CheR',\n",
       " 'CQW49_08585': 'DNA-binding response regulator',\n",
       " 'CQW49_08590': 'class I SAM-dependent methyltransferase',\n",
       " 'CQW49_08595': '50S ribosomal protein L34',\n",
       " 'CQW49_08600': 'ribonuclease P protein component',\n",
       " 'CQW49_08605': 'membrane protein insertase YidC',\n",
       " 'CQW49_08610': 'YihA family ribosome biogenesis GTP-binding protein',\n",
       " 'CQW49_08620': \"pyrimidine 5'-nucleotidase\",\n",
       " 'CQW49_08635': 'ferredoxin family protein',\n",
       " 'CQW49_08640': 'FAD-dependent oxidoreductase',\n",
       " 'CQW49_08645': 'electron transfer flavoprotein subunit alpha/FixB family protein',\n",
       " 'CQW49_08650': 'electron transfer flavoprotein subunit beta/FixA family protein',\n",
       " 'CQW49_08655': 'nitrogenase stabilizing/protective protein NifW',\n",
       " ...}"
      ]
     },
     "execution_count": 13,
     "metadata": {},
     "output_type": "execute_result"
    }
   ],
   "source": [
    "OB3b_locus_tags_and_their_description"
   ]
  },
  {
   "cell_type": "markdown",
   "metadata": {
    "ExecuteTime": {
     "end_time": "2019-10-16T07:29:57.414929Z",
     "start_time": "2019-10-16T07:29:57.409825Z"
    }
   },
   "source": [
    "Saving model copy before moving further in case of any mistake in the code:"
   ]
  },
  {
   "cell_type": "code",
   "execution_count": 182,
   "metadata": {
    "ExecuteTime": {
     "end_time": "2020-01-13T10:11:53.752765Z",
     "start_time": "2020-01-13T10:11:52.900649Z"
    }
   },
   "outputs": [],
   "source": [
    "model_copy=model.copy()"
   ]
  },
  {
   "cell_type": "markdown",
   "metadata": {},
   "source": [
    "Checking whether remaining 2880 locus tags from OB3b_locus_tags_and_their_description are present in KEGG  pathway database (and supposedly have EC numbers). If they are not present in KEGG pathway database, then these locus tags are deleted by the script given below. This is possible because KEGG pathway is biochemical metabolic pathway database (opinion as of 15/10/2019)."
   ]
  },
  {
   "cell_type": "code",
   "execution_count": 14,
   "metadata": {
    "ExecuteTime": {
     "end_time": "2020-01-14T02:23:24.442574Z",
     "start_time": "2020-01-14T02:23:19.306906Z"
    }
   },
   "outputs": [],
   "source": [
    "import bioservices\n",
    "#trying bioservices\n",
    "#organism code cah\n",
    "\n",
    "from bioservices.kegg import KEGG\n",
    "k = KEGG() #you have to give the alias (psevdonim) for the KEGG database\n",
    "#you specify organism name, in this case, cah, belongs to Methylosinus trichosporium\n",
    "\n",
    "k.organism = \"mtw\""
   ]
  },
  {
   "cell_type": "code",
   "execution_count": 185,
   "metadata": {
    "ExecuteTime": {
     "end_time": "2020-01-13T10:18:58.147029Z",
     "start_time": "2020-01-13T10:18:21.949372Z"
    }
   },
   "outputs": [],
   "source": [
    "for locus_tag in list(OB3b_locus_tags_and_their_description):\n",
    "    try:\n",
    "        if k.get_pathway_by_gene(locus_tag, \"mtw\") is None:\n",
    "            del OB3b_locus_tags_and_their_description[locus_tag]\n",
    "    except:\n",
    "        pass"
   ]
  },
  {
   "cell_type": "markdown",
   "metadata": {},
   "source": [
    "Locus tags are not filtered properly using k.get_pathway_by_gene(locus_tag, \"mtw\")) is None option.\n",
    "<br> Trying different locus tag option:\n",
    "<br> Below is a trash to understand how to apply another solution besides None"
   ]
  },
  {
   "cell_type": "code",
   "execution_count": 90,
   "metadata": {
    "ExecuteTime": {
     "end_time": "2020-01-14T01:25:40.329963Z",
     "start_time": "2020-01-14T01:25:40.195921Z"
    }
   },
   "outputs": [
    {
     "name": "stdout",
     "output_type": "stream",
     "text": [
      "None\n"
     ]
    }
   ],
   "source": [
    "if len(k.get_pathway_by_gene('CQW49_14475', \"mtw\"))>0:\n",
    "    print('None')\n",
    "else:\n",
    "    print('Not none')"
   ]
  },
  {
   "cell_type": "code",
   "execution_count": 48,
   "metadata": {
    "ExecuteTime": {
     "end_time": "2020-01-14T03:12:58.150830Z",
     "start_time": "2020-01-14T03:12:58.012640Z"
    }
   },
   "outputs": [
    {
     "data": {
      "text/plain": [
       "True"
      ]
     },
     "execution_count": 48,
     "metadata": {},
     "output_type": "execute_result"
    }
   ],
   "source": [
    "len(k.get_pathway_by_gene('CQW49_14475', \"mtw\")) >0"
   ]
  },
  {
   "cell_type": "code",
   "execution_count": 49,
   "metadata": {
    "ExecuteTime": {
     "end_time": "2020-01-14T03:13:45.538647Z",
     "start_time": "2020-01-14T03:13:45.262557Z"
    }
   },
   "outputs": [
    {
     "name": "stdout",
     "output_type": "stream",
     "text": [
      "CQW49_14475 True\n",
      "CQW49_00015 None\n"
     ]
    }
   ],
   "source": [
    "checking_reactions = ['CQW49_14475', 'CQW49_00015']\n",
    "for locus_tag in checking_reactions:\n",
    "    try:\n",
    "        if len(k.get_pathway_by_gene(locus_tag, \"mtw\"))>0:\n",
    "            print(locus_tag, 'True')\n",
    "        else:\n",
    "            print(locus_tag, 'Not true')\n",
    "    except:\n",
    "        print(locus_tag, 'None')"
   ]
  },
  {
   "cell_type": "code",
   "execution_count": 51,
   "metadata": {
    "ExecuteTime": {
     "end_time": "2020-01-14T03:16:18.549968Z",
     "start_time": "2020-01-14T03:16:17.781071Z"
    }
   },
   "outputs": [
    {
     "name": "stdout",
     "output_type": "stream",
     "text": [
      "CQW49_14475 None\n",
      "CQW49_00015 exception\n"
     ]
    }
   ],
   "source": [
    "\n",
    "check_reactions = ['CQW49_14475', 'CQW49_00015']\n",
    "for reaction in check_reactions:\n",
    "    try:\n",
    "        if len(k.get_pathway_by_gene(reaction, \"mtw\"))>0:\n",
    "            print(reaction, 'None')\n",
    "        else:\n",
    "            print(reaction, 'Not none')\n",
    "    except:\n",
    "        print(reaction, 'exception')"
   ]
  },
  {
   "cell_type": "markdown",
   "metadata": {},
   "source": [
    "Trying second option (sorting relevant locus tags by length):"
   ]
  },
  {
   "cell_type": "code",
   "execution_count": 15,
   "metadata": {
    "ExecuteTime": {
     "end_time": "2020-01-14T02:30:01.139067Z",
     "start_time": "2020-01-14T02:24:01.035222Z"
    }
   },
   "outputs": [],
   "source": [
    "for locus_tag in list(OB3b_locus_tags_and_their_description):\n",
    "    try:\n",
    "        if len(k.get_pathway_by_gene(locus_tag, \"mtw\")) > 0:\n",
    "            pass\n",
    "        else:\n",
    "            del OB3b_locus_tags_and_their_description[locus_tag]\n",
    "    except:\n",
    "            del OB3b_locus_tags_and_their_description[locus_tag]"
   ]
  },
  {
   "cell_type": "code",
   "execution_count": 57,
   "metadata": {
    "ExecuteTime": {
     "end_time": "2020-01-14T05:00:08.620110Z",
     "start_time": "2020-01-14T05:00:08.614622Z"
    }
   },
   "outputs": [
    {
     "data": {
      "text/plain": [
       "2880"
      ]
     },
     "execution_count": 57,
     "metadata": {},
     "output_type": "execute_result"
    }
   ],
   "source": [
    "len(OB3b_locus_tags_and_their_description)"
   ]
  },
  {
   "cell_type": "code",
   "execution_count": 54,
   "metadata": {
    "ExecuteTime": {
     "end_time": "2020-01-14T03:29:20.523865Z",
     "start_time": "2020-01-14T03:22:35.036046Z"
    },
    "scrolled": true
   },
   "outputs": [
    {
     "name": "stdout",
     "output_type": "stream",
     "text": [
      "CQW49_00005 {'mtw02020': 'Two-component system'}\n",
      "CQW49_00130 {'mtw02020': 'Two-component system'}\n",
      "CQW49_00190 {'mtw02010': 'ABC transporters'}\n",
      "CQW49_00200 {'mtw03010': 'Ribosome'}\n",
      "CQW49_00370 {'mtw03070': 'Bacterial secretion system'}\n",
      "CQW49_00375 {'mtw03070': 'Bacterial secretion system'}\n",
      "CQW49_00380 {'mtw03070': 'Bacterial secretion system'}\n",
      "CQW49_00385 {'mtw03070': 'Bacterial secretion system'}\n",
      "CQW49_00390 {'mtw03070': 'Bacterial secretion system'}\n",
      "CQW49_00400 {'mtw03070': 'Bacterial secretion system'}\n",
      "CQW49_00415 {'mtw03070': 'Bacterial secretion system'}\n",
      "CQW49_00420 {'mtw03070': 'Bacterial secretion system'}\n",
      "CQW49_00425 {'mtw03070': 'Bacterial secretion system'}\n",
      "CQW49_00500 {'mtw03410': 'Base excision repair'}\n",
      "CQW49_00515 {'mtw00190': 'Oxidative phosphorylation', 'mtw01100': 'Metabolic pathways'}\n",
      "CQW49_00520 {'mtw00190': 'Oxidative phosphorylation', 'mtw01100': 'Metabolic pathways'}\n",
      "CQW49_00535 {'mtw00190': 'Oxidative phosphorylation', 'mtw01100': 'Metabolic pathways'}\n",
      "CQW49_00540 {'mtw00190': 'Oxidative phosphorylation', 'mtw01100': 'Metabolic pathways'}\n",
      "CQW49_00545 {'mtw00190': 'Oxidative phosphorylation', 'mtw01100': 'Metabolic pathways'}\n",
      "CQW49_00550 {'mtw00190': 'Oxidative phosphorylation', 'mtw01100': 'Metabolic pathways'}\n",
      "CQW49_00555 {'mtw00190': 'Oxidative phosphorylation', 'mtw01100': 'Metabolic pathways'}\n",
      "CQW49_00610 {'mtw03430': 'Mismatch repair'}\n",
      "CQW49_00660 {'mtw03440': 'Homologous recombination'}\n",
      "CQW49_00670 {'mtw03030': 'DNA replication', 'mtw03430': 'Mismatch repair', 'mtw03440': 'Homologous recombination'}\n",
      "CQW49_00695 {'mtw00480': 'Glutathione metabolism', 'mtw01100': 'Metabolic pathways'}\n",
      "CQW49_00740 {'mtw00520': 'Amino sugar and nucleotide sugar metabolism', 'mtw01100': 'Metabolic pathways'}\n",
      "CQW49_00750 {'mtw01100': 'Metabolic pathways'}\n",
      "CQW49_00780 {'mtw00520': 'Amino sugar and nucleotide sugar metabolism', 'mtw01100': 'Metabolic pathways', 'mtw02020': 'Two-component system'}\n",
      "CQW49_00820 {'mtw02020': 'Two-component system'}\n",
      "CQW49_00825 {'mtw02020': 'Two-component system'}\n",
      "CQW49_00915 {'mtw00790': 'Folate biosynthesis', 'mtw01100': 'Metabolic pathways'}\n",
      "CQW49_00940 {'mtw03010': 'Ribosome'}\n",
      "CQW49_00945 {'mtw02020': 'Two-component system'}\n",
      "CQW49_00955 {'mtw00521': 'Streptomycin biosynthesis', 'mtw00562': 'Inositol phosphate metabolism', 'mtw01100': 'Metabolic pathways', 'mtw01110': 'Biosynthesis of secondary metabolites', 'mtw01130': 'Biosynthesis of antibiotics'}\n",
      "CQW49_00980 {'mtw00400': 'Phenylalanine, tyrosine and tryptophan biosynthesis', 'mtw01100': 'Metabolic pathways', 'mtw01110': 'Biosynthesis of secondary metabolites', 'mtw01130': 'Biosynthesis of antibiotics', 'mtw01230': 'Biosynthesis of amino acids', 'mtw02024': 'Quorum sensing'}\n",
      "CQW49_01035 {'mtw02060': 'Phosphotransferase system (PTS)'}\n",
      "CQW49_01055 {'mtw03030': 'DNA replication', 'mtw03410': 'Base excision repair', 'mtw03420': 'Nucleotide excision repair', 'mtw03430': 'Mismatch repair'}\n",
      "CQW49_01105 {'mtw01110': 'Biosynthesis of secondary metabolites', 'mtw01130': 'Biosynthesis of antibiotics'}\n",
      "CQW49_01170 {'mtw00770': 'Pantothenate and CoA biosynthesis', 'mtw01100': 'Metabolic pathways', 'mtw01110': 'Biosynthesis of secondary metabolites'}\n",
      "CQW49_01215 {'mtw00680': 'Methane metabolism', 'mtw00910': 'Nitrogen metabolism', 'mtw01100': 'Metabolic pathways', 'mtw01120': 'Microbial metabolism in diverse environments', 'mtw01200': 'Carbon metabolism'}\n",
      "CQW49_01220 {'mtw00680': 'Methane metabolism', 'mtw00910': 'Nitrogen metabolism', 'mtw01100': 'Metabolic pathways', 'mtw01120': 'Microbial metabolism in diverse environments', 'mtw01200': 'Carbon metabolism'}\n",
      "CQW49_01225 {'mtw00680': 'Methane metabolism', 'mtw00910': 'Nitrogen metabolism', 'mtw01100': 'Metabolic pathways', 'mtw01120': 'Microbial metabolism in diverse environments', 'mtw01200': 'Carbon metabolism'}\n",
      "CQW49_01295 {'mtw03410': 'Base excision repair'}\n",
      "CQW49_01305 {'mtw03410': 'Base excision repair', 'mtw03430': 'Mismatch repair', 'mtw03440': 'Homologous recombination'}\n",
      "CQW49_01315 {'mtw00550': 'Peptidoglycan biosynthesis', 'mtw01100': 'Metabolic pathways'}\n",
      "CQW49_01325 {'mtw03030': 'DNA replication', 'mtw03430': 'Mismatch repair', 'mtw03440': 'Homologous recombination'}\n",
      "CQW49_01360 {'mtw00230': 'Purine metabolism', 'mtw00240': 'Pyrimidine metabolism', 'mtw01100': 'Metabolic pathways', 'mtw01110': 'Biosynthesis of secondary metabolites', 'mtw01130': 'Biosynthesis of antibiotics'}\n",
      "CQW49_01395 {'mtw00450': 'Selenocompound metabolism', 'mtw01100': 'Metabolic pathways'}\n",
      "CQW49_01465 {'mtw02020': 'Two-component system'}\n",
      "CQW49_01665 {'mtw02020': 'Two-component system'}\n",
      "CQW49_01680 {'mtw02020': 'Two-component system', 'mtw02030': 'Bacterial chemotaxis'}\n",
      "CQW49_01685 {'mtw00760': 'Nicotinate and nicotinamide metabolism'}\n",
      "CQW49_01705 {'mtw00785': 'Lipoic acid metabolism', 'mtw01100': 'Metabolic pathways'}\n",
      "CQW49_01710 {'mtw03030': 'DNA replication', 'mtw03430': 'Mismatch repair', 'mtw03440': 'Homologous recombination'}\n",
      "CQW49_04145 {'mtw00061': 'Fatty acid biosynthesis', 'mtw00780': 'Biotin metabolism', 'mtw01100': 'Metabolic pathways', 'mtw01110': 'Biosynthesis of secondary metabolites', 'mtw01130': 'Biosynthesis of antibiotics', 'mtw01212': 'Fatty acid metabolism'}\n",
      "CQW49_04205 {'mtw00623': 'Toluene degradation', 'mtw00920': 'Sulfur metabolism', 'mtw01100': 'Metabolic pathways', 'mtw01120': 'Microbial metabolism in diverse environments', 'mtw01220': 'Degradation of aromatic compounds'}\n",
      "CQW49_04245 {'mtw00240': 'Pyrimidine metabolism', 'mtw01100': 'Metabolic pathways'}\n",
      "CQW49_04270 {'mtw03440': 'Homologous recombination'}\n",
      "CQW49_04375 {'mtw02020': 'Two-component system'}\n",
      "CQW49_04380 {'mtw02020': 'Two-component system'}\n",
      "CQW49_04395 {'mtw00480': 'Glutathione metabolism', 'mtw01100': 'Metabolic pathways'}\n",
      "CQW49_04465 {'mtw01130': 'Biosynthesis of antibiotics'}\n",
      "CQW49_04470 {'mtw02010': 'ABC transporters'}\n",
      "CQW49_04580 {'mtw03010': 'Ribosome'}\n",
      "CQW49_04600 {'mtw03440': 'Homologous recombination'}\n",
      "CQW49_04610 {'mtw03030': 'DNA replication', 'mtw03430': 'Mismatch repair', 'mtw03440': 'Homologous recombination'}\n",
      "CQW49_04680 {'mtw02020': 'Two-component system'}\n",
      "CQW49_04705 {'mtw03018': 'RNA degradation'}\n",
      "CQW49_04765 {'mtw03030': 'DNA replication'}\n",
      "CQW49_04785 {'mtw00562': 'Inositol phosphate metabolism', 'mtw00564': 'Glycerophospholipid metabolism', 'mtw01100': 'Metabolic pathways', 'mtw01110': 'Biosynthesis of secondary metabolites', 'mtw02024': 'Quorum sensing'}\n",
      "CQW49_04800 {'mtw03410': 'Base excision repair'}\n",
      "CQW49_04965 {'mtw00281': 'Geraniol degradation'}\n",
      "CQW49_05040 {'mtw02010': 'ABC transporters'}\n",
      "CQW49_05060 {'mtw00480': 'Glutathione metabolism', 'mtw01100': 'Metabolic pathways'}\n",
      "CQW49_05095 {'mtw00620': 'Pyruvate metabolism', 'mtw00680': 'Methane metabolism', 'mtw01100': 'Metabolic pathways', 'mtw01120': 'Microbial metabolism in diverse environments', 'mtw01200': 'Carbon metabolism'}\n",
      "CQW49_05105 {'mtw02020': 'Two-component system'}\n",
      "CQW49_05110 {'mtw02020': 'Two-component system'}\n",
      "CQW49_05130 {'mtw03440': 'Homologous recombination'}\n",
      "CQW49_05275 {'mtw03018': 'RNA degradation'}\n",
      "CQW49_05280 {'mtw00780': 'Biotin metabolism', 'mtw01100': 'Metabolic pathways'}\n",
      "CQW49_05435 {'mtw02010': 'ABC transporters'}\n",
      "CQW49_05560 {'mtw00480': 'Glutathione metabolism', 'mtw01100': 'Metabolic pathways'}\n",
      "CQW49_05605 {'mtw02020': 'Two-component system'}\n",
      "CQW49_05610 {'mtw02020': 'Two-component system'}\n",
      "CQW49_05635 {'mtw00350': 'Tyrosine metabolism', 'mtw00643': 'Styrene degradation', 'mtw01100': 'Metabolic pathways', 'mtw01120': 'Microbial metabolism in diverse environments'}\n",
      "CQW49_05640 {'mtw00350': 'Tyrosine metabolism', 'mtw00643': 'Styrene degradation', 'mtw01100': 'Metabolic pathways', 'mtw01120': 'Microbial metabolism in diverse environments'}\n",
      "CQW49_05645 {'mtw00130': 'Ubiquinone and other terpenoid-quinone biosynthesis', 'mtw00350': 'Tyrosine metabolism', 'mtw00360': 'Phenylalanine metabolism', 'mtw01100': 'Metabolic pathways'}\n",
      "CQW49_05670 {'mtw00230': 'Purine metabolism', 'mtw01100': 'Metabolic pathways'}\n",
      "CQW49_05720 {'mtw02020': 'Two-component system', 'mtw02030': 'Bacterial chemotaxis'}\n",
      "CQW49_05885 {'mtw02020': 'Two-component system'}\n",
      "CQW49_06060 {'mtw00480': 'Glutathione metabolism', 'mtw01100': 'Metabolic pathways'}\n",
      "CQW49_06065 {'mtw02010': 'ABC transporters'}\n",
      "CQW49_06090 {'mtw02010': 'ABC transporters'}\n",
      "CQW49_06095 {'mtw02010': 'ABC transporters'}\n",
      "CQW49_06120 {'mtw02020': 'Two-component system'}\n",
      "CQW49_06150 {'mtw00261': 'Monobactam biosynthesis', 'mtw01100': 'Metabolic pathways', 'mtw01110': 'Biosynthesis of secondary metabolites', 'mtw01130': 'Biosynthesis of antibiotics'}\n",
      "CQW49_06175 {'mtw00670': 'One carbon pool by folate', 'mtw01100': 'Metabolic pathways'}\n",
      "CQW49_08815 {'mtw02020': 'Two-component system'}\n",
      "CQW49_08995 {'mtw03410': 'Base excision repair'}\n",
      "CQW49_09095 {'mtw00903': 'Limonene and pinene degradation', 'mtw00930': 'Caprolactam degradation', 'mtw01220': 'Degradation of aromatic compounds'}\n",
      "CQW49_09105 {'mtw00730': 'Thiamine metabolism', 'mtw01100': 'Metabolic pathways'}\n",
      "CQW49_09135 {'mtw03030': 'DNA replication'}\n",
      "CQW49_09160 {'mtw00380': 'Tryptophan metabolism', 'mtw01100': 'Metabolic pathways'}\n",
      "CQW49_09165 {'mtw00360': 'Phenylalanine metabolism', 'mtw00400': 'Phenylalanine, tyrosine and tryptophan biosynthesis', 'mtw00790': 'Folate biosynthesis', 'mtw01100': 'Metabolic pathways', 'mtw01230': 'Biosynthesis of amino acids'}\n",
      "CQW49_09295 {'mtw00900': 'Terpenoid backbone biosynthesis', 'mtw01130': 'Biosynthesis of antibiotics'}\n",
      "CQW49_09305 {'mtw00621': 'Dioxin degradation', 'mtw00624': 'Polycyclic aromatic hydrocarbon degradation', 'mtw00626': 'Naphthalene degradation', 'mtw01100': 'Metabolic pathways', 'mtw01120': 'Microbial metabolism in diverse environments', 'mtw01220': 'Degradation of aromatic compounds'}\n",
      "CQW49_09325 {'mtw02020': 'Two-component system'}\n",
      "CQW49_09330 {'mtw02020': 'Two-component system'}\n",
      "CQW49_09415 {'mtw00230': 'Purine metabolism', 'mtw01100': 'Metabolic pathways'}\n",
      "CQW49_09440 {'mtw00920': 'Sulfur metabolism', 'mtw02010': 'ABC transporters'}\n",
      "CQW49_09570 {'mtw02010': 'ABC transporters'}\n",
      "CQW49_09615 {'mtw00860': 'Porphyrin and chlorophyll metabolism', 'mtw01100': 'Metabolic pathways'}\n",
      "CQW49_09740 {'mtw02020': 'Two-component system', 'mtw02030': 'Bacterial chemotaxis'}\n",
      "CQW49_09745 {'mtw02020': 'Two-component system', 'mtw02030': 'Bacterial chemotaxis'}\n",
      "CQW49_09750 {'mtw02020': 'Two-component system', 'mtw02030': 'Bacterial chemotaxis'}\n",
      "CQW49_09755 {'mtw02020': 'Two-component system', 'mtw02030': 'Bacterial chemotaxis'}\n",
      "CQW49_09760 {'mtw02020': 'Two-component system', 'mtw02030': 'Bacterial chemotaxis'}\n",
      "CQW49_09765 {'mtw02020': 'Two-component system', 'mtw02030': 'Bacterial chemotaxis'}\n",
      "CQW49_09770 {'mtw02020': 'Two-component system', 'mtw02030': 'Bacterial chemotaxis'}\n",
      "CQW49_09775 {'mtw02020': 'Two-component system', 'mtw02030': 'Bacterial chemotaxis'}\n",
      "CQW49_09940 {'mtw00010': 'Glycolysis / Gluconeogenesis', 'mtw00030': 'Pentose phosphate pathway', 'mtw00500': 'Starch and sucrose metabolism', 'mtw00520': 'Amino sugar and nucleotide sugar metabolism', 'mtw01100': 'Metabolic pathways', 'mtw01110': 'Biosynthesis of secondary metabolites', 'mtw01120': 'Microbial metabolism in diverse environments', 'mtw01130': 'Biosynthesis of antibiotics', 'mtw01200': 'Carbon metabolism'}\n",
      "CQW49_10025 {'mtw00190': 'Oxidative phosphorylation', 'mtw01100': 'Metabolic pathways'}\n",
      "CQW49_10100 {'mtw02020': 'Two-component system'}\n",
      "CQW49_10105 {'mtw02020': 'Two-component system'}\n",
      "CQW49_10110 {'mtw02020': 'Two-component system', 'mtw02030': 'Bacterial chemotaxis'}\n",
      "CQW49_10125 {'mtw02020': 'Two-component system'}\n",
      "CQW49_10130 {'mtw00790': 'Folate biosynthesis', 'mtw01100': 'Metabolic pathways'}\n",
      "CQW49_10205 {'mtw03010': 'Ribosome'}\n",
      "CQW49_10250 {'mtw00680': 'Methane metabolism', 'mtw00910': 'Nitrogen metabolism', 'mtw01100': 'Metabolic pathways', 'mtw01120': 'Microbial metabolism in diverse environments', 'mtw01200': 'Carbon metabolism'}\n",
      "CQW49_10255 {'mtw00680': 'Methane metabolism', 'mtw00910': 'Nitrogen metabolism', 'mtw01100': 'Metabolic pathways', 'mtw01120': 'Microbial metabolism in diverse environments', 'mtw01200': 'Carbon metabolism'}\n",
      "CQW49_10260 {'mtw00680': 'Methane metabolism', 'mtw00910': 'Nitrogen metabolism', 'mtw01100': 'Metabolic pathways', 'mtw01120': 'Microbial metabolism in diverse environments', 'mtw01200': 'Carbon metabolism'}\n",
      "CQW49_10275 {'mtw00790': 'Folate biosynthesis', 'mtw01100': 'Metabolic pathways'}\n",
      "CQW49_10360 {'mtw01501': 'beta-Lactam resistance', 'mtw01503': 'Cationic antimicrobial peptide (CAMP) resistance', 'mtw02020': 'Two-component system', 'mtw03070': 'Bacterial secretion system'}\n",
      "CQW49_10375 {'mtw00740': 'Riboflavin metabolism', 'mtw01100': 'Metabolic pathways', 'mtw02020': 'Two-component system'}\n",
      "CQW49_10395 {'mtw02024': 'Quorum sensing', 'mtw03060': 'Protein export', 'mtw03070': 'Bacterial secretion system'}\n",
      "CQW49_10400 {'mtw03010': 'Ribosome'}\n",
      "CQW49_10405 {'mtw03010': 'Ribosome'}\n",
      "CQW49_10410 {'mtw03010': 'Ribosome'}\n",
      "CQW49_10415 {'mtw03010': 'Ribosome'}\n",
      "CQW49_10420 None\n",
      "CQW49_10515 {'mtw03010': 'Ribosome'}\n",
      "CQW49_10520 {'mtw03010': 'Ribosome'}\n",
      "CQW49_10640 {'mtw03010': 'Ribosome'}\n",
      "CQW49_10685 {'mtw02010': 'ABC transporters'}\n",
      "CQW49_10700 {'mtw03010': 'Ribosome'}\n",
      "CQW49_13100 {'mtw03018': 'RNA degradation'}\n",
      "CQW49_13105 {'mtw03060': 'Protein export'}\n",
      "CQW49_13240 {'mtw00550': 'Peptidoglycan biosynthesis'}\n",
      "CQW49_13270 {'mtw02060': 'Phosphotransferase system (PTS)'}\n",
      "CQW49_13280 {'mtw02020': 'Two-component system'}\n",
      "CQW49_13285 {'mtw02010': 'ABC transporters'}\n",
      "CQW49_13305 {'mtw00920': 'Sulfur metabolism'}\n",
      "CQW49_13350 {'mtw00260': 'Glycine, serine and threonine metabolism', 'mtw00630': 'Glyoxylate and dicarboxylate metabolism', 'mtw01100': 'Metabolic pathways', 'mtw01110': 'Biosynthesis of secondary metabolites', 'mtw01130': 'Biosynthesis of antibiotics', 'mtw01200': 'Carbon metabolism'}\n",
      "CQW49_13355 {'mtw00260': 'Glycine, serine and threonine metabolism', 'mtw00630': 'Glyoxylate and dicarboxylate metabolism', 'mtw01100': 'Metabolic pathways', 'mtw01110': 'Biosynthesis of secondary metabolites', 'mtw01130': 'Biosynthesis of antibiotics', 'mtw01200': 'Carbon metabolism'}\n",
      "CQW49_13360 {'mtw00260': 'Glycine, serine and threonine metabolism', 'mtw00630': 'Glyoxylate and dicarboxylate metabolism', 'mtw01100': 'Metabolic pathways', 'mtw01110': 'Biosynthesis of secondary metabolites', 'mtw01130': 'Biosynthesis of antibiotics', 'mtw01200': 'Carbon metabolism'}\n",
      "CQW49_13410 {'mtw03410': 'Base excision repair'}\n",
      "CQW49_13420 {'mtw03020': 'RNA polymerase'}\n",
      "CQW49_13440 {'mtw03060': 'Protein export'}\n",
      "CQW49_13455 {'mtw02010': 'ABC transporters'}\n",
      "CQW49_13460 {'mtw02010': 'ABC transporters'}\n",
      "CQW49_13470 {'mtw00340': 'Histidine metabolism', 'mtw01100': 'Metabolic pathways', 'mtw01110': 'Biosynthesis of secondary metabolites', 'mtw01230': 'Biosynthesis of amino acids'}\n",
      "CQW49_13475 {'mtw00680': 'Methane metabolism', 'mtw01100': 'Metabolic pathways', 'mtw01120': 'Microbial metabolism in diverse environments', 'mtw01200': 'Carbon metabolism'}\n",
      "CQW49_13485 {'mtw02020': 'Two-component system'}\n",
      "CQW49_13535 {'mtw03410': 'Base excision repair'}\n",
      "CQW49_13640 {'mtw02020': 'Two-component system'}\n",
      "CQW49_13645 {'mtw02020': 'Two-component system'}\n",
      "CQW49_13650 {'mtw02020': 'Two-component system'}\n",
      "CQW49_13665 {'mtw02020': 'Two-component system'}\n",
      "CQW49_14080 {'mtw03070': 'Bacterial secretion system'}\n",
      "CQW49_14090 {'mtw02024': 'Quorum sensing'}\n",
      "CQW49_14095 {'mtw02024': 'Quorum sensing'}\n",
      "CQW49_14100 {'mtw02024': 'Quorum sensing'}\n",
      "CQW49_14105 {'mtw02024': 'Quorum sensing'}\n",
      "CQW49_14110 {'mtw02024': 'Quorum sensing'}\n",
      "CQW49_14120 {'mtw02024': 'Quorum sensing'}\n",
      "CQW49_14125 {'mtw02024': 'Quorum sensing'}\n",
      "CQW49_14130 {'mtw02024': 'Quorum sensing'}\n",
      "CQW49_14135 {'mtw02024': 'Quorum sensing'}\n",
      "CQW49_14310 {'mtw00520': 'Amino sugar and nucleotide sugar metabolism', 'mtw01100': 'Metabolic pathways'}\n",
      "CQW49_14315 {'mtw00520': 'Amino sugar and nucleotide sugar metabolism', 'mtw01100': 'Metabolic pathways'}\n",
      "CQW49_14320 {'mtw03010': 'Ribosome'}\n",
      "CQW49_14405 {'mtw00920': 'Sulfur metabolism', 'mtw01100': 'Metabolic pathways', 'mtw01120': 'Microbial metabolism in diverse environments'}\n",
      "CQW49_14430 {'mtw00680': 'Methane metabolism', 'mtw01120': 'Microbial metabolism in diverse environments'}\n",
      "CQW49_14435 {'mtw00680': 'Methane metabolism', 'mtw01120': 'Microbial metabolism in diverse environments'}\n"
     ]
    },
    {
     "name": "stdout",
     "output_type": "stream",
     "text": [
      "CQW49_14460 {'mtw00680': 'Methane metabolism', 'mtw01120': 'Microbial metabolism in diverse environments'}\n",
      "CQW49_14465 {'mtw00680': 'Methane metabolism', 'mtw01120': 'Microbial metabolism in diverse environments'}\n",
      "CQW49_14470 {'mtw00680': 'Methane metabolism', 'mtw01120': 'Microbial metabolism in diverse environments'}\n",
      "CQW49_14475 {'mtw00680': 'Methane metabolism', 'mtw01120': 'Microbial metabolism in diverse environments'}\n",
      "CQW49_14480 {'mtw00680': 'Methane metabolism', 'mtw01120': 'Microbial metabolism in diverse environments'}\n",
      "CQW49_14495 {'mtw02020': 'Two-component system'}\n",
      "CQW49_14840 {'mtw02020': 'Two-component system'}\n",
      "CQW49_14845 {'mtw02020': 'Two-component system'}\n",
      "CQW49_14880 {'mtw02020': 'Two-component system', 'mtw02024': 'Quorum sensing'}\n",
      "CQW49_17050 {'mtw02020': 'Two-component system'}\n",
      "CQW49_17055 {'mtw02020': 'Two-component system'}\n",
      "CQW49_17075 {'mtw00620': 'Pyruvate metabolism', 'mtw01100': 'Metabolic pathways'}\n",
      "CQW49_17085 {'mtw02010': 'ABC transporters'}\n",
      "CQW49_17090 {'mtw02010': 'ABC transporters'}\n",
      "CQW49_17110 {'mtw00909': 'Sesquiterpenoid and triterpenoid biosynthesis', 'mtw01110': 'Biosynthesis of secondary metabolites'}\n",
      "CQW49_17155 {'mtw03010': 'Ribosome'}\n",
      "CQW49_17160 {'mtw03010': 'Ribosome'}\n",
      "CQW49_17175 {'mtw01501': 'beta-Lactam resistance', 'mtw01503': 'Cationic antimicrobial peptide (CAMP) resistance'}\n",
      "CQW49_17205 {'mtw00520': 'Amino sugar and nucleotide sugar metabolism', 'mtw01100': 'Metabolic pathways', 'mtw01501': 'beta-Lactam resistance'}\n",
      "CQW49_17220 {'mtw00520': 'Amino sugar and nucleotide sugar metabolism', 'mtw01100': 'Metabolic pathways'}\n",
      "CQW49_17240 {'mtw00260': 'Glycine, serine and threonine metabolism', 'mtw01100': 'Metabolic pathways'}\n",
      "CQW49_17265 {'mtw03010': 'Ribosome'}\n",
      "CQW49_17270 {'mtw03010': 'Ribosome'}\n",
      "CQW49_17275 {'mtw03020': 'RNA polymerase'}\n",
      "CQW49_17280 {'mtw03020': 'RNA polymerase'}\n",
      "CQW49_17455 {'mtw01100': 'Metabolic pathways', 'mtw01110': 'Biosynthesis of secondary metabolites', 'mtw01130': 'Biosynthesis of antibiotics'}\n",
      "CQW49_17480 {'mtw00600': 'Sphingolipid metabolism', 'mtw01100': 'Metabolic pathways'}\n",
      "CQW49_17515 {'mtw03030': 'DNA replication'}\n",
      "CQW49_17595 {'mtw00521': 'Streptomycin biosynthesis', 'mtw00562': 'Inositol phosphate metabolism', 'mtw01100': 'Metabolic pathways', 'mtw01110': 'Biosynthesis of secondary metabolites', 'mtw01130': 'Biosynthesis of antibiotics'}\n",
      "CQW49_17685 {'mtw01100': 'Metabolic pathways', 'mtw01110': 'Biosynthesis of secondary metabolites', 'mtw01130': 'Biosynthesis of antibiotics'}\n",
      "CQW49_17740 {'mtw02020': 'Two-component system'}\n",
      "CQW49_17760 {'mtw00790': 'Folate biosynthesis', 'mtw01100': 'Metabolic pathways'}\n",
      "CQW49_17850 {'mtw00860': 'Porphyrin and chlorophyll metabolism', 'mtw01100': 'Metabolic pathways'}\n",
      "CQW49_17895 {'mtw00330': 'Arginine and proline metabolism', 'mtw01100': 'Metabolic pathways', 'mtw01110': 'Biosynthesis of secondary metabolites', 'mtw01130': 'Biosynthesis of antibiotics'}\n",
      "CQW49_17905 {'mtw00010': 'Glycolysis / Gluconeogenesis', 'mtw00053': 'Ascorbate and aldarate metabolism', 'mtw00071': 'Fatty acid degradation', 'mtw00280': 'Valine, leucine and isoleucine degradation', 'mtw00310': 'Lysine degradation', 'mtw00330': 'Arginine and proline metabolism', 'mtw00340': 'Histidine metabolism', 'mtw00380': 'Tryptophan metabolism', 'mtw00410': 'beta-Alanine metabolism', 'mtw00561': 'Glycerolipid metabolism', 'mtw00620': 'Pyruvate metabolism', 'mtw00625': 'Chloroalkane and chloroalkene degradation', 'mtw00903': 'Limonene and pinene degradation', 'mtw01100': 'Metabolic pathways', 'mtw01110': 'Biosynthesis of secondary metabolites', 'mtw01120': 'Microbial metabolism in diverse environments', 'mtw01130': 'Biosynthesis of antibiotics'}\n",
      "CQW49_17970 {'mtw02020': 'Two-component system'}\n",
      "CQW49_18060 {'mtw00230': 'Purine metabolism', 'mtw00261': 'Monobactam biosynthesis', 'mtw00450': 'Selenocompound metabolism', 'mtw00920': 'Sulfur metabolism', 'mtw01100': 'Metabolic pathways', 'mtw01120': 'Microbial metabolism in diverse environments', 'mtw01130': 'Biosynthesis of antibiotics'}\n",
      "CQW49_18065 {'mtw00230': 'Purine metabolism', 'mtw00261': 'Monobactam biosynthesis', 'mtw00450': 'Selenocompound metabolism', 'mtw00920': 'Sulfur metabolism', 'mtw01100': 'Metabolic pathways', 'mtw01120': 'Microbial metabolism in diverse environments', 'mtw01130': 'Biosynthesis of antibiotics'}\n",
      "CQW49_18120 {'mtw02020': 'Two-component system'}\n",
      "CQW49_18165 {'mtw02020': 'Two-component system'}\n",
      "CQW49_18170 {'mtw02020': 'Two-component system'}\n",
      "CQW49_18190 {'mtw03430': 'Mismatch repair'}\n",
      "CQW49_18250 {'mtw00250': 'Alanine, aspartate and glutamate metabolism', 'mtw01100': 'Metabolic pathways', 'mtw01110': 'Biosynthesis of secondary metabolites', 'mtw01230': 'Biosynthesis of amino acids'}\n",
      "CQW49_18255 {'mtw00220': 'Arginine biosynthesis', 'mtw00300': 'Lysine biosynthesis', 'mtw01100': 'Metabolic pathways', 'mtw01110': 'Biosynthesis of secondary metabolites', 'mtw01120': 'Microbial metabolism in diverse environments', 'mtw01130': 'Biosynthesis of antibiotics', 'mtw01210': '2-Oxocarboxylic acid metabolism', 'mtw01230': 'Biosynthesis of amino acids'}\n",
      "CQW49_18340 {'mtw00051': 'Fructose and mannose metabolism', 'mtw00053': 'Ascorbate and aldarate metabolism', 'mtw01100': 'Metabolic pathways', 'mtw01110': 'Biosynthesis of secondary metabolites', 'mtw01120': 'Microbial metabolism in diverse environments'}\n",
      "CQW49_18380 {'mtw00010': 'Glycolysis / Gluconeogenesis', 'mtw00230': 'Purine metabolism', 'mtw00620': 'Pyruvate metabolism', 'mtw01100': 'Metabolic pathways', 'mtw01110': 'Biosynthesis of secondary metabolites', 'mtw01120': 'Microbial metabolism in diverse environments', 'mtw01130': 'Biosynthesis of antibiotics', 'mtw01200': 'Carbon metabolism', 'mtw01230': 'Biosynthesis of amino acids'}\n",
      "CQW49_18435 {'mtw00240': 'Pyrimidine metabolism', 'mtw00670': 'One carbon pool by folate', 'mtw01100': 'Metabolic pathways'}\n",
      "CQW49_18445 {'mtw03410': 'Base excision repair'}\n",
      "CQW49_18460 {'mtw02020': 'Two-component system', 'mtw02030': 'Bacterial chemotaxis'}\n",
      "CQW49_18635 {'mtw02020': 'Two-component system', 'mtw02040': 'Flagellar assembly'}\n",
      "CQW49_18640 {'mtw02040': 'Flagellar assembly'}\n",
      "CQW49_18650 {'mtw02030': 'Bacterial chemotaxis', 'mtw02040': 'Flagellar assembly'}\n",
      "CQW49_18710 {'mtw02040': 'Flagellar assembly'}\n",
      "CQW49_18715 {'mtw02040': 'Flagellar assembly'}\n",
      "CQW49_18720 {'mtw02020': 'Two-component system', 'mtw02030': 'Bacterial chemotaxis', 'mtw02040': 'Flagellar assembly'}\n",
      "CQW49_18730 {'mtw02030': 'Bacterial chemotaxis', 'mtw02040': 'Flagellar assembly'}\n",
      "CQW49_18735 {'mtw02030': 'Bacterial chemotaxis', 'mtw02040': 'Flagellar assembly'}\n",
      "CQW49_18740 {'mtw02040': 'Flagellar assembly'}\n",
      "CQW49_18745 {'mtw02040': 'Flagellar assembly'}\n",
      "CQW49_18750 {'mtw02040': 'Flagellar assembly'}\n",
      "CQW49_18755 {'mtw02040': 'Flagellar assembly'}\n",
      "CQW49_18760 {'mtw02040': 'Flagellar assembly'}\n",
      "CQW49_18765 {'mtw02040': 'Flagellar assembly'}\n",
      "CQW49_18770 {'mtw02040': 'Flagellar assembly'}\n",
      "CQW49_21050 {'mtw03010': 'Ribosome'}\n",
      "CQW49_21090 {'mtw00550': 'Peptidoglycan biosynthesis'}\n",
      "CQW49_21150 {'mtw02024': 'Quorum sensing', 'mtw03060': 'Protein export', 'mtw03070': 'Bacterial secretion system'}\n",
      "CQW49_21185 {'mtw03018': 'RNA degradation'}\n",
      "CQW49_21200 {'mtw00930': 'Caprolactam degradation'}\n",
      "CQW49_21205 {'mtw02020': 'Two-component system'}\n",
      "CQW49_21225 {'mtw00790': 'Folate biosynthesis', 'mtw01100': 'Metabolic pathways', 'mtw04122': 'Sulfur relay system'}\n",
      "CQW49_21250 {'mtw00071': 'Fatty acid degradation', 'mtw00280': 'Valine, leucine and isoleucine degradation', 'mtw00281': 'Geraniol degradation', 'mtw00310': 'Lysine degradation', 'mtw00360': 'Phenylalanine metabolism', 'mtw00362': 'Benzoate degradation', 'mtw00380': 'Tryptophan metabolism', 'mtw00410': 'beta-Alanine metabolism', 'mtw00627': 'Aminobenzoate degradation', 'mtw00640': 'Propanoate metabolism', 'mtw00650': 'Butanoate metabolism', 'mtw00903': 'Limonene and pinene degradation', 'mtw00930': 'Caprolactam degradation', 'mtw01100': 'Metabolic pathways', 'mtw01110': 'Biosynthesis of secondary metabolites', 'mtw01120': 'Microbial metabolism in diverse environments', 'mtw01130': 'Biosynthesis of antibiotics', 'mtw01212': 'Fatty acid metabolism'}\n",
      "CQW49_21255 {'mtw03010': 'Ribosome'}\n",
      "CQW49_21325 {'mtw00220': 'Arginine biosynthesis', 'mtw00230': 'Purine metabolism', 'mtw01100': 'Metabolic pathways', 'mtw01120': 'Microbial metabolism in diverse environments'}\n",
      "CQW49_21330 {'mtw00220': 'Arginine biosynthesis', 'mtw00230': 'Purine metabolism', 'mtw01100': 'Metabolic pathways', 'mtw01120': 'Microbial metabolism in diverse environments'}\n",
      "CQW49_21335 {'mtw00220': 'Arginine biosynthesis', 'mtw00230': 'Purine metabolism', 'mtw01100': 'Metabolic pathways', 'mtw01120': 'Microbial metabolism in diverse environments'}\n",
      "CQW49_21345 {'mtw02010': 'ABC transporters'}\n",
      "CQW49_21350 {'mtw02010': 'ABC transporters'}\n",
      "CQW49_21355 {'mtw02010': 'ABC transporters'}\n",
      "CQW49_21360 {'mtw02010': 'ABC transporters'}\n",
      "CQW49_21365 {'mtw02010': 'ABC transporters'}\n",
      "CQW49_21545 {'mtw00770': 'Pantothenate and CoA biosynthesis'}\n",
      "CQW49_21585 {'mtw00920': 'Sulfur metabolism', 'mtw01100': 'Metabolic pathways', 'mtw01120': 'Microbial metabolism in diverse environments'}\n",
      "CQW49_21590 {'mtw00920': 'Sulfur metabolism', 'mtw01100': 'Metabolic pathways', 'mtw01120': 'Microbial metabolism in diverse environments'}\n",
      "CQW49_21595 {'mtw00920': 'Sulfur metabolism', 'mtw01100': 'Metabolic pathways', 'mtw01120': 'Microbial metabolism in diverse environments'}\n",
      "CQW49_21705 {'mtw02020': 'Two-component system'}\n",
      "CQW49_21735 {'mtw02020': 'Two-component system', 'mtw02030': 'Bacterial chemotaxis'}\n",
      "CQW49_21835 {'mtw02020': 'Two-component system'}\n",
      "CQW49_21845 {'mtw02020': 'Two-component system'}\n",
      "CQW49_21875 {'mtw02020': 'Two-component system'}\n",
      "CQW49_21905 {'mtw01501': 'beta-Lactam resistance', 'mtw01503': 'Cationic antimicrobial peptide (CAMP) resistance'}\n",
      "CQW49_21910 {'mtw01501': 'beta-Lactam resistance', 'mtw01503': 'Cationic antimicrobial peptide (CAMP) resistance'}\n",
      "CQW49_21920 {'mtw02010': 'ABC transporters'}\n",
      "CQW49_21925 {'mtw02010': 'ABC transporters'}\n",
      "CQW49_21930 {'mtw02010': 'ABC transporters'}\n",
      "CQW49_21955 {'mtw00625': 'Chloroalkane and chloroalkene degradation', 'mtw00910': 'Nitrogen metabolism', 'mtw01100': 'Metabolic pathways', 'mtw01120': 'Microbial metabolism in diverse environments'}\n",
      "CQW49_21985 {'mtw00450': 'Selenocompound metabolism', 'mtw01100': 'Metabolic pathways'}\n",
      "CQW49_22035 {'mtw00790': 'Folate biosynthesis'}\n",
      "CQW49_22055 {'mtw00600': 'Sphingolipid metabolism'}\n",
      "CQW49_22080 {'mtw00620': 'Pyruvate metabolism', 'mtw00627': 'Aminobenzoate degradation', 'mtw01100': 'Metabolic pathways', 'mtw01120': 'Microbial metabolism in diverse environments'}\n",
      "CQW49_22095 {'mtw00740': 'Riboflavin metabolism', 'mtw00790': 'Folate biosynthesis', 'mtw01100': 'Metabolic pathways', 'mtw01110': 'Biosynthesis of secondary metabolites', 'mtw02024': 'Quorum sensing'}\n",
      "CQW49_22105 {'mtw02020': 'Two-component system'}\n",
      "CQW49_22110 {'mtw02020': 'Two-component system'}\n",
      "CQW49_22115 {'mtw02020': 'Two-component system'}\n",
      "CQW49_22130 {'mtw00920': 'Sulfur metabolism', 'mtw01100': 'Metabolic pathways', 'mtw01120': 'Microbial metabolism in diverse environments'}\n",
      "CQW49_22135 {'mtw00920': 'Sulfur metabolism', 'mtw01100': 'Metabolic pathways', 'mtw01120': 'Microbial metabolism in diverse environments'}\n",
      "CQW49_22225 {'mtw02020': 'Two-component system'}\n",
      "CQW49_22230 {'mtw02020': 'Two-component system'}\n",
      "CQW49_22250 {'mtw02020': 'Two-component system', 'mtw02024': 'Quorum sensing'}\n",
      "CQW49_22355 {'mtw01501': 'beta-Lactam resistance'}\n",
      "CQW49_22875 {'mtw00020': 'Citrate cycle (TCA cycle)', 'mtw00190': 'Oxidative phosphorylation', 'mtw00650': 'Butanoate metabolism', 'mtw01100': 'Metabolic pathways', 'mtw01110': 'Biosynthesis of secondary metabolites', 'mtw01120': 'Microbial metabolism in diverse environments', 'mtw01130': 'Biosynthesis of antibiotics', 'mtw01200': 'Carbon metabolism'}\n",
      "CQW49_22880 {'mtw00020': 'Citrate cycle (TCA cycle)', 'mtw00190': 'Oxidative phosphorylation', 'mtw00650': 'Butanoate metabolism', 'mtw01100': 'Metabolic pathways', 'mtw01110': 'Biosynthesis of secondary metabolites', 'mtw01120': 'Microbial metabolism in diverse environments', 'mtw01130': 'Biosynthesis of antibiotics', 'mtw01200': 'Carbon metabolism'}\n",
      "CQW49_22910 None\n",
      "CQW49_23395 {'mtw00260': 'Glycine, serine and threonine metabolism', 'mtw01100': 'Metabolic pathways', 'mtw01120': 'Microbial metabolism in diverse environments', 'mtw01210': '2-Oxocarboxylic acid metabolism', 'mtw01230': 'Biosynthesis of amino acids'}\n",
      "CQW49_23400 {'mtw02020': 'Two-component system'}\n"
     ]
    }
   ],
   "source": [
    "for locus_tag in list(OB3b_locus_tags_and_their_description):\n",
    "    try:\n",
    "        if len(k.get_pathway_by_gene(locus_tag, \"mtw\")) > 0:\n",
    "            print(locus_tag, k.get_pathway_by_gene(locus_tag, \"mtw\"))\n",
    "        else:\n",
    "            pass\n",
    "    except:\n",
    "            pass"
   ]
  },
  {
   "cell_type": "code",
   "execution_count": 55,
   "metadata": {
    "ExecuteTime": {
     "end_time": "2020-01-14T04:57:07.609067Z",
     "start_time": "2020-01-14T04:45:47.052029Z"
    },
    "scrolled": true
   },
   "outputs": [
    {
     "name": "stdout",
     "output_type": "stream",
     "text": [
      "CQW49_00010 None\n",
      "CQW49_00020 None\n",
      "CQW49_00025 None\n",
      "CQW49_00030 None\n",
      "CQW49_00040 None\n",
      "CQW49_00065 None\n",
      "CQW49_00070 None\n",
      "CQW49_00075 None\n",
      "CQW49_00080 None\n",
      "CQW49_00085 None\n",
      "CQW49_00095 None\n",
      "CQW49_00100 None\n",
      "CQW49_00105 None\n",
      "CQW49_00110 None\n",
      "CQW49_00120 None\n",
      "CQW49_00125 None\n",
      "CQW49_00140 None\n",
      "CQW49_00150 None\n",
      "CQW49_00195 None\n",
      "CQW49_00210 None\n",
      "CQW49_00215 None\n",
      "CQW49_00220 None\n",
      "CQW49_00225 None\n",
      "CQW49_00235 None\n",
      "CQW49_00245 None\n",
      "CQW49_00255 None\n",
      "CQW49_00260 None\n",
      "CQW49_00275 None\n",
      "CQW49_00325 None\n",
      "CQW49_00330 None\n",
      "CQW49_00340 None\n",
      "CQW49_00365 None\n",
      "CQW49_00405 None\n",
      "CQW49_00440 None\n",
      "CQW49_00460 None\n",
      "CQW49_00465 None\n",
      "CQW49_00490 None\n",
      "CQW49_00495 None\n",
      "CQW49_00510 None\n",
      "CQW49_00525 None\n",
      "CQW49_00565 None\n",
      "CQW49_00580 None\n",
      "CQW49_00585 None\n",
      "CQW49_00590 None\n",
      "CQW49_00595 None\n",
      "CQW49_00605 None\n",
      "CQW49_00615 None\n",
      "CQW49_00620 None\n",
      "CQW49_00625 None\n",
      "CQW49_00630 None\n",
      "CQW49_00645 None\n",
      "CQW49_00650 None\n",
      "CQW49_00655 None\n",
      "CQW49_00665 None\n",
      "CQW49_00685 None\n",
      "CQW49_00690 None\n",
      "CQW49_00700 None\n",
      "CQW49_00705 None\n",
      "CQW49_00710 None\n",
      "CQW49_00715 None\n",
      "CQW49_00720 None\n",
      "CQW49_00760 None\n",
      "CQW49_00765 None\n",
      "CQW49_00775 None\n",
      "CQW49_00785 None\n",
      "CQW49_00800 None\n",
      "CQW49_00810 None\n",
      "CQW49_00815 None\n",
      "CQW49_00830 None\n",
      "CQW49_00845 None\n",
      "CQW49_00850 None\n",
      "CQW49_00855 None\n",
      "CQW49_00860 None\n",
      "CQW49_00865 None\n",
      "CQW49_00870 None\n",
      "CQW49_00875 None\n",
      "CQW49_00880 None\n",
      "CQW49_00885 None\n",
      "CQW49_00895 None\n",
      "CQW49_00925 None\n",
      "CQW49_00935 None\n",
      "CQW49_00990 None\n",
      "CQW49_00995 None\n",
      "CQW49_01000 None\n",
      "CQW49_01010 None\n",
      "CQW49_01015 None\n",
      "CQW49_01020 None\n",
      "CQW49_01025 None\n",
      "CQW49_01030 None\n",
      "CQW49_01035 None\n",
      "CQW49_01040 None\n",
      "CQW49_01050 None\n",
      "CQW49_01055 None\n",
      "CQW49_01060 None\n",
      "CQW49_01065 None\n",
      "CQW49_01075 None\n",
      "CQW49_01090 None\n",
      "CQW49_01105 None\n",
      "CQW49_01125 None\n",
      "CQW49_01140 None\n",
      "CQW49_01150 None\n",
      "CQW49_01160 None\n",
      "CQW49_01190 None\n",
      "CQW49_01195 None\n",
      "CQW49_01200 None\n",
      "CQW49_01205 None\n",
      "CQW49_01210 None\n",
      "CQW49_01235 None\n",
      "CQW49_01240 None\n",
      "CQW49_01245 None\n",
      "CQW49_01255 None\n",
      "CQW49_01265 None\n",
      "CQW49_01270 None\n",
      "CQW49_01275 None\n",
      "CQW49_01295 None\n",
      "CQW49_01300 None\n",
      "CQW49_01305 None\n",
      "CQW49_01310 None\n",
      "CQW49_01315 None\n",
      "CQW49_01325 None\n",
      "CQW49_01330 None\n",
      "CQW49_01335 None\n",
      "CQW49_01340 None\n",
      "CQW49_01360 None\n",
      "CQW49_01365 None\n",
      "CQW49_01380 None\n",
      "CQW49_01385 None\n",
      "CQW49_01390 None\n",
      "CQW49_01395 None\n",
      "CQW49_01400 None\n",
      "CQW49_01405 None\n",
      "CQW49_01410 None\n",
      "CQW49_01420 None\n",
      "CQW49_01425 None\n",
      "CQW49_01430 None\n",
      "CQW49_01435 None\n",
      "CQW49_01440 None\n",
      "CQW49_01455 None\n",
      "CQW49_01465 None\n",
      "CQW49_01475 None\n",
      "CQW49_01485 None\n",
      "CQW49_01490 None\n",
      "CQW49_01495 None\n",
      "CQW49_01505 None\n",
      "CQW49_01510 None\n",
      "CQW49_01520 None\n",
      "CQW49_01525 None\n",
      "CQW49_01530 None\n",
      "CQW49_01535 None\n",
      "CQW49_01550 None\n",
      "CQW49_01555 None\n",
      "CQW49_01560 None\n",
      "CQW49_01570 None\n",
      "CQW49_01575 None\n",
      "CQW49_01590 None\n",
      "CQW49_01600 None\n",
      "CQW49_01605 None\n",
      "CQW49_01610 None\n",
      "CQW49_01620 None\n",
      "CQW49_01625 None\n",
      "CQW49_01630 None\n",
      "CQW49_01635 None\n",
      "CQW49_01640 None\n",
      "CQW49_01645 None\n",
      "CQW49_01650 None\n",
      "CQW49_01655 None\n",
      "CQW49_01660 None\n",
      "CQW49_01665 None\n",
      "CQW49_01670 None\n",
      "CQW49_01680 None\n",
      "CQW49_01685 None\n",
      "CQW49_01690 None\n",
      "CQW49_01695 None\n",
      "CQW49_01705 None\n",
      "CQW49_01710 None\n",
      "CQW49_01715 None\n",
      "CQW49_01720 None\n",
      "CQW49_01725 None\n",
      "CQW49_01735 None\n",
      "CQW49_01750 None\n",
      "CQW49_01755 None\n",
      "CQW49_01760 None\n",
      "CQW49_01765 None\n",
      "CQW49_01770 None\n",
      "CQW49_01775 None\n",
      "CQW49_01780 None\n",
      "CQW49_01785 None\n",
      "CQW49_01790 None\n",
      "CQW49_01810 None\n",
      "CQW49_01815 None\n",
      "CQW49_01820 None\n",
      "CQW49_01825 None\n",
      "CQW49_01830 None\n",
      "CQW49_01840 None\n",
      "CQW49_01860 None\n",
      "CQW49_01865 None\n",
      "CQW49_01870 None\n",
      "CQW49_01880 None\n",
      "CQW49_01905 None\n",
      "CQW49_01910 None\n",
      "CQW49_01920 None\n",
      "CQW49_01935 None\n",
      "CQW49_01955 None\n",
      "CQW49_01965 None\n",
      "CQW49_01970 None\n",
      "CQW49_01975 None\n",
      "CQW49_01985 None\n",
      "CQW49_01990 None\n",
      "CQW49_01995 None\n",
      "CQW49_02000 None\n",
      "CQW49_02010 None\n",
      "CQW49_02015 None\n",
      "CQW49_02020 None\n",
      "CQW49_02025 None\n",
      "CQW49_02030 None\n",
      "CQW49_02035 None\n",
      "CQW49_02040 None\n",
      "CQW49_02050 None\n",
      "CQW49_02055 None\n",
      "CQW49_02080 None\n",
      "CQW49_02090 None\n",
      "CQW49_02095 None\n",
      "CQW49_02100 None\n",
      "CQW49_02105 None\n",
      "CQW49_02120 None\n",
      "CQW49_02125 None\n",
      "CQW49_02130 None\n",
      "CQW49_02135 None\n",
      "CQW49_02140 None\n",
      "CQW49_02150 None\n",
      "CQW49_02155 None\n",
      "CQW49_02160 None\n",
      "CQW49_02170 None\n",
      "CQW49_02180 None\n",
      "CQW49_02185 None\n",
      "CQW49_02200 None\n",
      "CQW49_02205 None\n",
      "CQW49_02210 None\n",
      "CQW49_02215 None\n",
      "CQW49_02225 None\n",
      "CQW49_02230 None\n",
      "CQW49_02250 None\n",
      "CQW49_02260 None\n",
      "CQW49_02270 None\n",
      "CQW49_02280 None\n",
      "CQW49_02285 None\n",
      "CQW49_02290 None\n",
      "CQW49_02295 None\n",
      "CQW49_02300 None\n",
      "CQW49_02305 None\n",
      "CQW49_02315 None\n",
      "CQW49_02330 None\n",
      "CQW49_02345 None\n",
      "CQW49_02350 None\n",
      "CQW49_02365 None\n",
      "CQW49_02370 None\n",
      "CQW49_02375 None\n",
      "CQW49_02380 None\n",
      "CQW49_02385 None\n",
      "CQW49_02405 None\n",
      "CQW49_02420 None\n",
      "CQW49_02430 None\n",
      "CQW49_02465 None\n",
      "CQW49_02480 None\n",
      "CQW49_02535 None\n",
      "CQW49_02560 None\n",
      "CQW49_02590 None\n",
      "CQW49_02605 None\n",
      "CQW49_02615 None\n",
      "CQW49_02630 None\n",
      "CQW49_02645 None\n",
      "CQW49_02650 None\n",
      "CQW49_02660 None\n",
      "CQW49_02665 None\n",
      "CQW49_02685 None\n",
      "CQW49_02705 None\n",
      "CQW49_02710 None\n",
      "CQW49_02715 None\n",
      "CQW49_02730 None\n",
      "CQW49_02735 None\n",
      "CQW49_02740 None\n",
      "CQW49_02745 None\n",
      "CQW49_02750 None\n",
      "CQW49_02760 None\n",
      "CQW49_02785 None\n",
      "CQW49_02805 None\n",
      "CQW49_02820 None\n",
      "CQW49_02825 None\n",
      "CQW49_02835 None\n",
      "CQW49_02860 None\n",
      "CQW49_02870 None\n",
      "CQW49_02885 None\n",
      "CQW49_02890 None\n",
      "CQW49_02895 None\n",
      "CQW49_02900 None\n",
      "CQW49_02905 None\n",
      "CQW49_02910 None\n",
      "CQW49_02930 None\n",
      "CQW49_02940 None\n",
      "CQW49_02945 None\n",
      "CQW49_02950 None\n",
      "CQW49_02955 None\n",
      "CQW49_02985 None\n",
      "CQW49_02990 None\n",
      "CQW49_03000 None\n",
      "CQW49_03030 None\n",
      "CQW49_03040 None\n",
      "CQW49_03060 None\n",
      "CQW49_03070 None\n",
      "CQW49_03075 None\n",
      "CQW49_03085 None\n",
      "CQW49_03100 None\n",
      "CQW49_03110 None\n",
      "CQW49_03120 None\n",
      "CQW49_03125 None\n",
      "CQW49_03150 None\n",
      "CQW49_03165 None\n",
      "CQW49_03185 None\n",
      "CQW49_03190 None\n",
      "CQW49_03195 None\n",
      "CQW49_03215 None\n",
      "CQW49_03225 None\n",
      "CQW49_03235 None\n",
      "CQW49_03245 None\n",
      "CQW49_03250 None\n",
      "CQW49_03255 None\n",
      "CQW49_03265 None\n",
      "CQW49_03270 None\n",
      "CQW49_03290 None\n",
      "CQW49_03295 None\n",
      "CQW49_03305 None\n",
      "CQW49_03310 None\n",
      "CQW49_03315 None\n",
      "CQW49_03320 None\n",
      "CQW49_03345 None\n",
      "CQW49_03350 None\n",
      "CQW49_03355 None\n",
      "CQW49_03365 None\n",
      "CQW49_03375 None\n",
      "CQW49_03380 None\n",
      "CQW49_03385 None\n",
      "CQW49_03390 None\n",
      "CQW49_03395 None\n",
      "CQW49_03400 None\n",
      "CQW49_03405 None\n",
      "CQW49_03410 None\n",
      "CQW49_03415 None\n",
      "CQW49_03420 None\n",
      "CQW49_03425 None\n",
      "CQW49_03430 None\n",
      "CQW49_03435 None\n",
      "CQW49_03440 None\n",
      "CQW49_03465 None\n",
      "CQW49_03470 None\n",
      "CQW49_03480 None\n",
      "CQW49_03485 None\n",
      "CQW49_03490 None\n",
      "CQW49_03495 None\n",
      "CQW49_03500 None\n",
      "CQW49_03505 None\n",
      "CQW49_03510 None\n",
      "CQW49_03515 None\n",
      "CQW49_03520 None\n",
      "CQW49_03530 None\n",
      "CQW49_03535 None\n",
      "CQW49_03540 None\n",
      "CQW49_03545 None\n",
      "CQW49_03550 None\n",
      "CQW49_03555 None\n",
      "CQW49_03560 None\n",
      "CQW49_03565 None\n",
      "CQW49_03570 None\n",
      "CQW49_03575 None\n",
      "CQW49_03580 None\n",
      "CQW49_03585 None\n",
      "CQW49_03605 None\n",
      "CQW49_03610 None\n",
      "CQW49_03615 None\n",
      "CQW49_03630 None\n",
      "CQW49_03640 None\n",
      "CQW49_03660 None\n",
      "CQW49_03665 None\n",
      "CQW49_03675 None\n",
      "CQW49_03685 None\n",
      "CQW49_03690 None\n",
      "CQW49_03710 None\n",
      "CQW49_03715 None\n",
      "CQW49_03735 None\n",
      "CQW49_03740 None\n",
      "CQW49_03745 None\n",
      "CQW49_03755 None\n",
      "CQW49_03765 None\n",
      "CQW49_03770 None\n",
      "CQW49_03775 None\n",
      "CQW49_03780 None\n",
      "CQW49_03795 None\n",
      "CQW49_03800 None\n",
      "CQW49_03810 None\n",
      "CQW49_03820 None\n",
      "CQW49_03850 None\n",
      "CQW49_03855 None\n",
      "CQW49_03860 None\n",
      "CQW49_03865 None\n",
      "CQW49_03870 None\n",
      "CQW49_03880 None\n",
      "CQW49_03895 None\n",
      "CQW49_03920 None\n",
      "CQW49_03925 None\n",
      "CQW49_03930 None\n",
      "CQW49_03935 None\n",
      "CQW49_03945 None\n",
      "CQW49_03960 None\n",
      "CQW49_03965 None\n",
      "CQW49_03985 None\n",
      "CQW49_03990 None\n",
      "CQW49_04000 None\n",
      "CQW49_04005 None\n",
      "CQW49_04010 None\n",
      "CQW49_04015 None\n",
      "CQW49_04020 None\n",
      "CQW49_04025 None\n",
      "CQW49_04030 None\n",
      "CQW49_04035 None\n",
      "CQW49_04040 None\n",
      "CQW49_04050 None\n",
      "CQW49_04055 None\n",
      "CQW49_04065 None\n",
      "CQW49_04070 None\n",
      "CQW49_04080 None\n",
      "CQW49_04085 None\n",
      "CQW49_04090 None\n",
      "CQW49_04100 None\n",
      "CQW49_04105 None\n",
      "CQW49_04110 None\n",
      "CQW49_04120 None\n",
      "CQW49_04130 None\n",
      "CQW49_04135 None\n",
      "CQW49_04140 None\n",
      "CQW49_04145 None\n",
      "CQW49_04150 None\n",
      "CQW49_04155 None\n",
      "CQW49_04160 None\n",
      "CQW49_04175 None\n",
      "CQW49_04180 None\n",
      "CQW49_04185 None\n",
      "CQW49_04190 None\n",
      "CQW49_04195 None\n",
      "CQW49_04200 None\n",
      "CQW49_04205 None\n",
      "CQW49_04215 None\n",
      "CQW49_04220 None\n",
      "CQW49_04225 None\n",
      "CQW49_04230 None\n",
      "CQW49_04235 None\n",
      "CQW49_04240 None\n",
      "CQW49_04245 None\n",
      "CQW49_04255 None\n",
      "CQW49_04260 None\n",
      "CQW49_04270 None\n",
      "CQW49_04290 None\n",
      "CQW49_04300 None\n",
      "CQW49_04305 None\n",
      "CQW49_04315 None\n",
      "CQW49_04325 None\n",
      "CQW49_04330 None\n",
      "CQW49_04365 None\n",
      "CQW49_04370 None\n",
      "CQW49_04375 None\n",
      "CQW49_04380 None\n",
      "CQW49_04385 None\n",
      "CQW49_04395 None\n",
      "CQW49_04405 None\n",
      "CQW49_04410 None\n",
      "CQW49_04440 None\n",
      "CQW49_04445 None\n",
      "CQW49_04450 None\n",
      "CQW49_04460 None\n",
      "CQW49_04465 None\n",
      "CQW49_04470 None\n",
      "CQW49_04480 None\n",
      "CQW49_04485 None\n",
      "CQW49_04495 None\n",
      "CQW49_04500 None\n",
      "CQW49_04515 None\n",
      "CQW49_04530 None\n",
      "CQW49_04535 None\n",
      "CQW49_04540 None\n",
      "CQW49_04550 None\n",
      "CQW49_04580 None\n",
      "CQW49_04600 None\n",
      "CQW49_04610 None\n",
      "CQW49_04615 None\n",
      "CQW49_04635 None\n",
      "CQW49_04640 None\n",
      "CQW49_04650 None\n",
      "CQW49_04665 None\n",
      "CQW49_04670 None\n",
      "CQW49_04675 None\n",
      "CQW49_04680 None\n",
      "CQW49_04685 None\n",
      "CQW49_04690 None\n",
      "CQW49_04695 None\n",
      "CQW49_04700 None\n",
      "CQW49_04705 None\n",
      "CQW49_04710 None\n",
      "CQW49_04715 None\n",
      "CQW49_04720 None\n",
      "CQW49_04725 None\n",
      "CQW49_04730 None\n",
      "CQW49_04735 None\n",
      "CQW49_04765 None\n",
      "CQW49_04770 None\n",
      "CQW49_04785 None\n",
      "CQW49_04795 None\n",
      "CQW49_04800 None\n",
      "CQW49_04810 None\n",
      "CQW49_04815 None\n",
      "CQW49_04835 None\n",
      "CQW49_04840 None\n",
      "CQW49_04850 None\n",
      "CQW49_04855 None\n",
      "CQW49_04860 None\n",
      "CQW49_04875 None\n",
      "CQW49_04885 None\n",
      "CQW49_04890 None\n",
      "CQW49_04895 None\n",
      "CQW49_04905 None\n",
      "CQW49_04910 None\n",
      "CQW49_04915 None\n",
      "CQW49_04930 None\n",
      "CQW49_04935 None\n",
      "CQW49_04945 None\n",
      "CQW49_04950 None\n",
      "CQW49_04955 None\n",
      "CQW49_04970 None\n",
      "CQW49_04975 None\n",
      "CQW49_04990 None\n",
      "CQW49_05000 None\n",
      "CQW49_05030 None\n",
      "CQW49_05035 None\n",
      "CQW49_05075 None\n",
      "CQW49_05085 None\n",
      "CQW49_05115 None\n",
      "CQW49_05120 None\n",
      "CQW49_05125 None\n",
      "CQW49_05150 None\n",
      "CQW49_05160 None\n",
      "CQW49_05180 None\n",
      "CQW49_05185 None\n",
      "CQW49_05225 None\n",
      "CQW49_05230 None\n",
      "CQW49_05240 None\n",
      "CQW49_05265 None\n",
      "CQW49_05355 None\n",
      "CQW49_05360 None\n",
      "CQW49_05365 None\n",
      "CQW49_05370 None\n",
      "CQW49_05375 None\n",
      "CQW49_05380 None\n",
      "CQW49_05385 None\n",
      "CQW49_05395 None\n",
      "CQW49_05405 None\n",
      "CQW49_05410 None\n",
      "CQW49_05415 None\n",
      "CQW49_05420 None\n",
      "CQW49_05425 None\n",
      "CQW49_05450 None\n",
      "CQW49_05455 None\n",
      "CQW49_05460 None\n",
      "CQW49_05470 None\n",
      "CQW49_05510 None\n",
      "CQW49_05515 None\n",
      "CQW49_05525 None\n",
      "CQW49_05530 None\n",
      "CQW49_05540 None\n",
      "CQW49_05545 None\n",
      "CQW49_05550 None\n",
      "CQW49_05565 None\n",
      "CQW49_05570 None\n",
      "CQW49_05595 None\n",
      "CQW49_05615 None\n",
      "CQW49_05620 None\n",
      "CQW49_05630 None\n",
      "CQW49_05705 None\n",
      "CQW49_05730 None\n",
      "CQW49_05735 None\n",
      "CQW49_05740 None\n",
      "CQW49_05750 None\n",
      "CQW49_05755 None\n",
      "CQW49_05760 None\n",
      "CQW49_05765 None\n",
      "CQW49_05770 None\n",
      "CQW49_05775 None\n",
      "CQW49_05780 None\n",
      "CQW49_05785 None\n",
      "CQW49_05795 None\n",
      "CQW49_05800 None\n",
      "CQW49_05805 None\n",
      "CQW49_05810 None\n",
      "CQW49_05815 None\n",
      "CQW49_05830 None\n",
      "CQW49_05840 None\n",
      "CQW49_05845 None\n",
      "CQW49_05850 None\n",
      "CQW49_05860 None\n",
      "CQW49_05870 None\n",
      "CQW49_05875 None\n",
      "CQW49_05880 None\n",
      "CQW49_05890 None\n",
      "CQW49_05895 None\n",
      "CQW49_05900 None\n",
      "CQW49_05905 None\n",
      "CQW49_05910 None\n",
      "CQW49_05925 None\n",
      "CQW49_05930 None\n",
      "CQW49_05935 None\n",
      "CQW49_05945 None\n",
      "CQW49_05955 None\n",
      "CQW49_05960 None\n",
      "CQW49_05970 None\n",
      "CQW49_05980 None\n",
      "CQW49_05990 None\n",
      "CQW49_05995 None\n",
      "CQW49_06020 None\n",
      "CQW49_06025 None\n",
      "CQW49_06045 None\n",
      "CQW49_06050 None\n",
      "CQW49_06055 None\n",
      "CQW49_06060 None\n",
      "CQW49_06065 None\n",
      "CQW49_06075 None\n",
      "CQW49_06085 None\n",
      "CQW49_06110 None\n",
      "CQW49_06130 None\n",
      "CQW49_06135 None\n",
      "CQW49_06145 None\n",
      "CQW49_06155 None\n",
      "CQW49_06160 None\n",
      "CQW49_06165 None\n",
      "CQW49_06185 None\n",
      "CQW49_06190 None\n",
      "CQW49_06195 None\n",
      "CQW49_06205 None\n",
      "CQW49_06215 None\n",
      "CQW49_06250 None\n",
      "CQW49_06255 None\n",
      "CQW49_06265 None\n",
      "CQW49_06270 None\n",
      "CQW49_06275 None\n",
      "CQW49_06290 None\n",
      "CQW49_06295 None\n",
      "CQW49_06305 None\n",
      "CQW49_06310 None\n",
      "CQW49_06315 None\n",
      "CQW49_06320 None\n",
      "CQW49_06325 None\n",
      "CQW49_06330 None\n",
      "CQW49_06335 None\n",
      "CQW49_06340 None\n",
      "CQW49_06345 None\n",
      "CQW49_06355 None\n",
      "CQW49_06380 None\n",
      "CQW49_06390 None\n",
      "CQW49_06395 None\n",
      "CQW49_06400 None\n",
      "CQW49_06415 None\n",
      "CQW49_06420 None\n",
      "CQW49_06425 None\n",
      "CQW49_06435 None\n",
      "CQW49_06440 None\n",
      "CQW49_06450 None\n",
      "CQW49_06460 None\n",
      "CQW49_06465 None\n",
      "CQW49_06470 None\n",
      "CQW49_06495 None\n",
      "CQW49_06500 None\n",
      "CQW49_06505 None\n",
      "CQW49_06520 None\n",
      "CQW49_06530 None\n",
      "CQW49_06540 None\n",
      "CQW49_06545 None\n",
      "CQW49_06550 None\n",
      "CQW49_06555 None\n",
      "CQW49_06560 None\n",
      "CQW49_06570 None\n",
      "CQW49_06580 None\n",
      "CQW49_06590 None\n",
      "CQW49_06595 None\n",
      "CQW49_06605 None\n",
      "CQW49_06610 None\n",
      "CQW49_06620 None\n",
      "CQW49_06625 None\n",
      "CQW49_06645 None\n",
      "CQW49_06650 None\n",
      "CQW49_06660 None\n",
      "CQW49_06665 None\n",
      "CQW49_06680 None\n",
      "CQW49_06685 None\n",
      "CQW49_06690 None\n",
      "CQW49_06695 None\n",
      "CQW49_06700 None\n",
      "CQW49_06705 None\n",
      "CQW49_06710 None\n",
      "CQW49_06715 None\n",
      "CQW49_06720 None\n",
      "CQW49_06725 None\n",
      "CQW49_06730 None\n",
      "CQW49_06735 None\n",
      "CQW49_06740 None\n",
      "CQW49_06745 None\n",
      "CQW49_06750 None\n",
      "CQW49_06760 None\n",
      "CQW49_06765 None\n",
      "CQW49_06770 None\n",
      "CQW49_06780 None\n",
      "CQW49_06790 None\n",
      "CQW49_06795 None\n",
      "CQW49_06805 None\n",
      "CQW49_06810 None\n",
      "CQW49_06825 None\n",
      "CQW49_06830 None\n",
      "CQW49_06835 None\n",
      "CQW49_06840 None\n",
      "CQW49_06845 None\n",
      "CQW49_06850 None\n",
      "CQW49_06870 None\n",
      "CQW49_06875 None\n",
      "CQW49_06880 None\n",
      "CQW49_06885 None\n",
      "CQW49_06890 None\n",
      "CQW49_06900 None\n",
      "CQW49_06910 None\n",
      "CQW49_06935 None\n",
      "CQW49_06940 None\n",
      "CQW49_06945 None\n",
      "CQW49_06950 None\n",
      "CQW49_06960 None\n",
      "CQW49_06980 None\n",
      "CQW49_07005 None\n",
      "CQW49_07025 None\n",
      "CQW49_07050 None\n",
      "CQW49_07055 None\n",
      "CQW49_07060 None\n",
      "CQW49_07065 None\n",
      "CQW49_07070 None\n",
      "CQW49_07075 None\n",
      "CQW49_07095 None\n",
      "CQW49_07105 None\n",
      "CQW49_07110 None\n",
      "CQW49_07115 None\n",
      "CQW49_07125 None\n",
      "CQW49_07130 None\n",
      "CQW49_07135 None\n",
      "CQW49_07140 None\n",
      "CQW49_07145 None\n",
      "CQW49_07150 None\n",
      "CQW49_07155 None\n",
      "CQW49_07160 None\n",
      "CQW49_07170 None\n",
      "CQW49_07175 None\n",
      "CQW49_07180 None\n",
      "CQW49_07200 None\n",
      "CQW49_07205 None\n",
      "CQW49_07210 None\n",
      "CQW49_07215 None\n",
      "CQW49_07220 None\n",
      "CQW49_07225 None\n",
      "CQW49_07255 None\n",
      "CQW49_07275 None\n",
      "CQW49_07280 None\n",
      "CQW49_07285 None\n",
      "CQW49_07295 None\n",
      "CQW49_07330 None\n",
      "CQW49_07355 None\n",
      "CQW49_07385 None\n",
      "CQW49_07395 None\n",
      "CQW49_07400 None\n",
      "CQW49_07430 None\n",
      "CQW49_07435 None\n",
      "CQW49_07440 None\n",
      "CQW49_07445 None\n",
      "CQW49_07450 None\n",
      "CQW49_07455 None\n",
      "CQW49_07465 {'mtw03430': 'Mismatch repair'}\n",
      "CQW49_07480 None\n",
      "CQW49_07500 None\n",
      "CQW49_07520 None\n",
      "CQW49_07530 None\n",
      "CQW49_07580 None\n",
      "CQW49_07585 None\n",
      "CQW49_07595 None\n",
      "CQW49_07605 None\n",
      "CQW49_07625 None\n",
      "CQW49_07645 None\n",
      "CQW49_07650 None\n",
      "CQW49_07655 None\n",
      "CQW49_07675 None\n",
      "CQW49_07685 None\n",
      "CQW49_07705 None\n",
      "CQW49_07725 None\n",
      "CQW49_07730 None\n",
      "CQW49_07755 None\n",
      "CQW49_07760 None\n",
      "CQW49_07770 None\n",
      "CQW49_07775 None\n",
      "CQW49_07805 None\n",
      "CQW49_07810 None\n",
      "CQW49_07815 None\n",
      "CQW49_07820 None\n",
      "CQW49_07830 None\n",
      "CQW49_07850 None\n",
      "CQW49_07855 None\n",
      "CQW49_07860 None\n",
      "CQW49_07895 None\n",
      "CQW49_07920 None\n",
      "CQW49_07935 None\n",
      "CQW49_07940 None\n",
      "CQW49_07970 None\n",
      "CQW49_07975 None\n",
      "CQW49_07980 None\n",
      "CQW49_07985 None\n",
      "CQW49_07990 None\n",
      "CQW49_08005 None\n",
      "CQW49_08010 None\n",
      "CQW49_08015 None\n",
      "CQW49_08020 None\n",
      "CQW49_08040 None\n",
      "CQW49_08045 None\n",
      "CQW49_08050 None\n",
      "CQW49_08055 None\n",
      "CQW49_08060 None\n",
      "CQW49_08065 None\n",
      "CQW49_08070 None\n",
      "CQW49_08095 None\n",
      "CQW49_08100 None\n",
      "CQW49_08110 None\n",
      "CQW49_08120 None\n",
      "CQW49_08125 None\n",
      "CQW49_08130 None\n",
      "CQW49_08135 None\n",
      "CQW49_08155 None\n",
      "CQW49_08165 None\n",
      "CQW49_08170 None\n",
      "CQW49_08180 None\n",
      "CQW49_08190 None\n",
      "CQW49_08210 None\n",
      "CQW49_08220 None\n",
      "CQW49_08225 None\n",
      "CQW49_08230 None\n",
      "CQW49_08240 None\n",
      "CQW49_08245 None\n",
      "CQW49_08250 None\n",
      "CQW49_08255 None\n",
      "CQW49_08260 None\n",
      "CQW49_08275 None\n",
      "CQW49_08280 None\n",
      "CQW49_08285 None\n",
      "CQW49_08310 None\n",
      "CQW49_08325 None\n",
      "CQW49_08330 None\n",
      "CQW49_08335 None\n",
      "CQW49_08340 None\n",
      "CQW49_08345 None\n",
      "CQW49_08350 None\n",
      "CQW49_08355 None\n",
      "CQW49_08385 None\n",
      "CQW49_08410 None\n",
      "CQW49_08415 None\n",
      "CQW49_08435 None\n",
      "CQW49_08440 None\n",
      "CQW49_08510 None\n",
      "CQW49_08525 None\n",
      "CQW49_08530 None\n",
      "CQW49_08545 None\n",
      "CQW49_08550 None\n",
      "CQW49_08555 None\n",
      "CQW49_08590 None\n",
      "CQW49_08600 None\n",
      "CQW49_08610 None\n",
      "CQW49_08620 None\n",
      "CQW49_08635 None\n",
      "CQW49_08640 None\n",
      "CQW49_08645 None\n",
      "CQW49_08650 None\n",
      "CQW49_08655 None\n",
      "CQW49_08675 None\n",
      "CQW49_08680 None\n",
      "CQW49_08685 None\n",
      "CQW49_08690 None\n",
      "CQW49_08705 None\n",
      "CQW49_08710 None\n",
      "CQW49_08715 None\n",
      "CQW49_08720 None\n",
      "CQW49_08725 None\n",
      "CQW49_08730 None\n",
      "CQW49_08735 None\n",
      "CQW49_08740 None\n",
      "CQW49_08745 None\n",
      "CQW49_08755 None\n",
      "CQW49_08760 None\n",
      "CQW49_08770 None\n",
      "CQW49_08775 None\n",
      "CQW49_08780 None\n",
      "CQW49_08785 None\n",
      "CQW49_08795 None\n",
      "CQW49_08800 None\n",
      "CQW49_08805 None\n",
      "CQW49_08820 None\n",
      "CQW49_08830 None\n",
      "CQW49_08835 None\n",
      "CQW49_08840 None\n",
      "CQW49_08870 None\n",
      "CQW49_08880 None\n",
      "CQW49_08885 None\n",
      "CQW49_08890 None\n",
      "CQW49_08895 None\n",
      "CQW49_08910 None\n",
      "CQW49_08915 None\n",
      "CQW49_08920 None\n",
      "CQW49_08925 None\n",
      "CQW49_08930 None\n",
      "CQW49_08940 None\n",
      "CQW49_08945 None\n",
      "CQW49_08950 None\n",
      "CQW49_08960 None\n",
      "CQW49_08965 None\n",
      "CQW49_08970 None\n",
      "CQW49_08985 None\n",
      "CQW49_08990 None\n",
      "CQW49_08995 None\n",
      "CQW49_09010 None\n",
      "CQW49_09030 None\n",
      "CQW49_09035 None\n",
      "CQW49_09050 None\n",
      "CQW49_09055 None\n",
      "CQW49_09080 None\n",
      "CQW49_09085 None\n",
      "CQW49_09095 None\n",
      "CQW49_09100 None\n",
      "CQW49_09105 None\n",
      "CQW49_09110 None\n",
      "CQW49_09115 None\n",
      "CQW49_09120 None\n",
      "CQW49_09130 None\n",
      "CQW49_09135 None\n",
      "CQW49_09145 None\n",
      "CQW49_09150 None\n",
      "CQW49_09155 None\n",
      "CQW49_09160 None\n",
      "CQW49_09165 None\n",
      "CQW49_09170 None\n",
      "CQW49_09175 None\n",
      "CQW49_09180 None\n",
      "CQW49_09190 None\n",
      "CQW49_09200 None\n",
      "CQW49_09205 None\n",
      "CQW49_09210 None\n",
      "CQW49_09225 None\n",
      "CQW49_09230 None\n",
      "CQW49_09235 None\n",
      "CQW49_09240 None\n"
     ]
    },
    {
     "name": "stdout",
     "output_type": "stream",
     "text": [
      "CQW49_09245 None\n",
      "CQW49_09250 None\n",
      "CQW49_09255 None\n",
      "CQW49_09260 None\n",
      "CQW49_09270 None\n",
      "CQW49_09275 None\n",
      "CQW49_09280 None\n",
      "CQW49_09290 None\n",
      "CQW49_09295 None\n",
      "CQW49_09300 None\n",
      "CQW49_09305 None\n",
      "CQW49_09325 None\n",
      "CQW49_09330 None\n",
      "CQW49_09335 None\n",
      "CQW49_09340 None\n",
      "CQW49_09345 None\n",
      "CQW49_09350 None\n",
      "CQW49_09355 None\n",
      "CQW49_09365 None\n",
      "CQW49_09370 None\n",
      "CQW49_09375 None\n",
      "CQW49_09380 None\n",
      "CQW49_09395 None\n",
      "CQW49_09400 None\n",
      "CQW49_09405 None\n",
      "CQW49_09415 None\n",
      "CQW49_09420 None\n",
      "CQW49_09425 None\n",
      "CQW49_09440 None\n",
      "CQW49_09450 None\n",
      "CQW49_09455 None\n",
      "CQW49_09465 None\n",
      "CQW49_09470 None\n",
      "CQW49_09485 None\n",
      "CQW49_09500 None\n",
      "CQW49_09510 None\n",
      "CQW49_09550 None\n",
      "CQW49_09570 None\n",
      "CQW49_09575 None\n",
      "CQW49_09595 None\n",
      "CQW49_09610 None\n",
      "CQW49_09615 None\n",
      "CQW49_09675 None\n",
      "CQW49_09685 None\n",
      "CQW49_09705 None\n",
      "CQW49_09710 None\n",
      "CQW49_09725 None\n",
      "CQW49_09730 None\n",
      "CQW49_09740 None\n",
      "CQW49_09745 None\n",
      "CQW49_09750 None\n",
      "CQW49_09755 None\n",
      "CQW49_09760 None\n",
      "CQW49_09765 None\n",
      "CQW49_09770 None\n",
      "CQW49_09775 None\n",
      "CQW49_09780 None\n",
      "CQW49_09785 None\n",
      "CQW49_09790 None\n",
      "CQW49_09795 None\n",
      "CQW49_09800 None\n",
      "CQW49_09830 None\n",
      "CQW49_09895 None\n",
      "CQW49_09910 None\n",
      "CQW49_09935 None\n",
      "CQW49_09940 None\n",
      "CQW49_09955 None\n",
      "CQW49_09960 None\n",
      "CQW49_09965 None\n",
      "CQW49_09970 None\n",
      "CQW49_09985 None\n",
      "CQW49_09990 None\n",
      "CQW49_09995 None\n",
      "CQW49_10010 None\n",
      "CQW49_10015 None\n",
      "CQW49_10025 None\n",
      "CQW49_10050 None\n",
      "CQW49_10065 None\n",
      "CQW49_10070 None\n",
      "CQW49_10075 None\n",
      "CQW49_10080 None\n",
      "CQW49_10090 None\n",
      "CQW49_10100 None\n",
      "CQW49_10105 None\n",
      "CQW49_10110 None\n",
      "CQW49_10120 None\n",
      "CQW49_10125 None\n",
      "CQW49_10130 None\n",
      "CQW49_10135 None\n",
      "CQW49_10140 None\n",
      "CQW49_10145 None\n",
      "CQW49_10150 None\n",
      "CQW49_10155 None\n",
      "CQW49_10175 None\n",
      "CQW49_10180 None\n",
      "CQW49_10215 None\n",
      "CQW49_10220 None\n",
      "CQW49_10225 None\n",
      "CQW49_10235 None\n",
      "CQW49_10240 None\n",
      "CQW49_10245 None\n",
      "CQW49_10285 None\n",
      "CQW49_10290 None\n",
      "CQW49_10295 None\n",
      "CQW49_10300 None\n",
      "CQW49_10315 None\n",
      "CQW49_10325 None\n",
      "CQW49_10345 None\n",
      "CQW49_10350 None\n",
      "CQW49_10355 None\n",
      "CQW49_10365 None\n",
      "CQW49_10385 None\n",
      "CQW49_10505 None\n",
      "CQW49_10510 None\n",
      "CQW49_10525 None\n",
      "CQW49_10535 None\n",
      "CQW49_10540 None\n",
      "CQW49_10545 None\n",
      "CQW49_10555 None\n",
      "CQW49_10560 None\n",
      "CQW49_10570 None\n",
      "CQW49_10585 None\n",
      "CQW49_10610 None\n",
      "CQW49_10615 None\n",
      "CQW49_10650 None\n",
      "CQW49_10655 None\n",
      "CQW49_10665 None\n",
      "CQW49_10675 None\n",
      "CQW49_10680 None\n",
      "CQW49_10695 None\n",
      "CQW49_10710 None\n",
      "CQW49_10725 None\n",
      "CQW49_10730 None\n",
      "CQW49_10735 None\n",
      "CQW49_10750 None\n",
      "CQW49_10760 None\n",
      "CQW49_10765 None\n",
      "CQW49_10770 None\n",
      "CQW49_10775 None\n",
      "CQW49_10820 None\n",
      "CQW49_10835 None\n",
      "CQW49_10855 None\n",
      "CQW49_10870 None\n",
      "CQW49_10880 None\n",
      "CQW49_10900 None\n",
      "CQW49_10905 None\n",
      "CQW49_10915 None\n",
      "CQW49_10955 None\n",
      "CQW49_10965 None\n",
      "CQW49_10970 None\n",
      "CQW49_10995 None\n",
      "CQW49_11005 None\n",
      "CQW49_11020 None\n",
      "CQW49_11025 None\n",
      "CQW49_11030 None\n",
      "CQW49_11035 None\n",
      "CQW49_11040 None\n",
      "CQW49_11055 None\n",
      "CQW49_11060 None\n",
      "CQW49_11070 None\n",
      "CQW49_11075 None\n",
      "CQW49_11080 None\n",
      "CQW49_11085 None\n",
      "CQW49_11095 None\n",
      "CQW49_11100 None\n",
      "CQW49_11130 None\n",
      "CQW49_11140 None\n",
      "CQW49_11145 None\n",
      "CQW49_11150 None\n",
      "CQW49_11155 None\n",
      "CQW49_11165 None\n",
      "CQW49_11170 None\n",
      "CQW49_11175 None\n",
      "CQW49_11190 None\n",
      "CQW49_11225 None\n",
      "CQW49_11250 None\n",
      "CQW49_11260 None\n",
      "CQW49_11265 None\n",
      "CQW49_11270 None\n",
      "CQW49_11280 None\n",
      "CQW49_11285 None\n",
      "CQW49_11290 None\n",
      "CQW49_11295 None\n",
      "CQW49_11300 None\n",
      "CQW49_11315 None\n",
      "CQW49_11325 None\n",
      "CQW49_11330 None\n",
      "CQW49_11335 None\n",
      "CQW49_11340 None\n",
      "CQW49_11350 None\n",
      "CQW49_11355 None\n",
      "CQW49_11360 None\n",
      "CQW49_11365 None\n",
      "CQW49_11370 None\n",
      "CQW49_11395 None\n",
      "CQW49_11415 None\n",
      "CQW49_11420 None\n",
      "CQW49_11430 None\n",
      "CQW49_11435 None\n",
      "CQW49_11440 None\n",
      "CQW49_11450 None\n",
      "CQW49_11455 None\n",
      "CQW49_11465 None\n",
      "CQW49_11470 None\n",
      "CQW49_11475 None\n",
      "CQW49_11480 None\n",
      "CQW49_11485 None\n",
      "CQW49_11490 None\n",
      "CQW49_11495 None\n",
      "CQW49_11510 None\n",
      "CQW49_11515 None\n",
      "CQW49_11520 None\n",
      "CQW49_11525 None\n",
      "CQW49_11535 None\n",
      "CQW49_11545 None\n",
      "CQW49_11550 None\n",
      "CQW49_11555 None\n",
      "CQW49_11560 None\n",
      "CQW49_11575 None\n",
      "CQW49_11590 None\n",
      "CQW49_11595 None\n",
      "CQW49_11605 None\n",
      "CQW49_11620 None\n",
      "CQW49_11650 None\n",
      "CQW49_11655 None\n",
      "CQW49_11660 None\n",
      "CQW49_11665 None\n",
      "CQW49_11670 None\n",
      "CQW49_11675 None\n",
      "CQW49_11685 None\n",
      "CQW49_11695 None\n",
      "CQW49_11735 None\n",
      "CQW49_11745 None\n",
      "CQW49_11750 None\n",
      "CQW49_11755 None\n",
      "CQW49_11760 None\n",
      "CQW49_11765 None\n",
      "CQW49_11780 None\n",
      "CQW49_11785 None\n",
      "CQW49_11790 None\n",
      "CQW49_11795 None\n",
      "CQW49_11800 None\n",
      "CQW49_11810 None\n",
      "CQW49_11820 None\n",
      "CQW49_11825 None\n",
      "CQW49_11830 None\n",
      "CQW49_11835 None\n",
      "CQW49_11845 None\n",
      "CQW49_11855 None\n",
      "CQW49_11865 None\n",
      "CQW49_11870 None\n",
      "CQW49_11890 None\n",
      "CQW49_11895 None\n",
      "CQW49_11900 None\n",
      "CQW49_11910 None\n",
      "CQW49_11925 None\n",
      "CQW49_11940 None\n",
      "CQW49_11945 None\n",
      "CQW49_11965 None\n",
      "CQW49_11970 None\n",
      "CQW49_11975 None\n",
      "CQW49_11990 None\n",
      "CQW49_11995 None\n",
      "CQW49_12000 None\n",
      "CQW49_12005 None\n",
      "CQW49_12010 None\n",
      "CQW49_12015 None\n",
      "CQW49_12020 None\n",
      "CQW49_12025 None\n",
      "CQW49_12030 None\n",
      "CQW49_12035 None\n",
      "CQW49_12050 None\n",
      "CQW49_12055 None\n",
      "CQW49_12060 None\n",
      "CQW49_12065 None\n",
      "CQW49_12075 None\n",
      "CQW49_12080 None\n",
      "CQW49_12090 None\n",
      "CQW49_12095 None\n",
      "CQW49_12100 None\n",
      "CQW49_12105 None\n",
      "CQW49_12110 None\n",
      "CQW49_12120 None\n",
      "CQW49_12125 None\n",
      "CQW49_12135 None\n",
      "CQW49_12140 None\n",
      "CQW49_12145 None\n",
      "CQW49_12150 None\n",
      "CQW49_12155 None\n",
      "CQW49_12165 None\n",
      "CQW49_12170 None\n",
      "CQW49_12175 None\n",
      "CQW49_12180 None\n",
      "CQW49_12185 None\n",
      "CQW49_12190 None\n",
      "CQW49_12240 None\n",
      "CQW49_12245 None\n",
      "CQW49_12255 None\n",
      "CQW49_12260 None\n",
      "CQW49_12265 None\n",
      "CQW49_12270 None\n",
      "CQW49_12275 None\n",
      "CQW49_12285 None\n",
      "CQW49_12290 None\n",
      "CQW49_12295 None\n",
      "CQW49_12300 None\n",
      "CQW49_12310 None\n",
      "CQW49_12315 None\n",
      "CQW49_12335 None\n",
      "CQW49_12340 None\n",
      "CQW49_12345 None\n",
      "CQW49_12350 None\n",
      "CQW49_12355 None\n",
      "CQW49_12360 None\n",
      "CQW49_12365 None\n",
      "CQW49_12400 None\n",
      "CQW49_12405 None\n",
      "CQW49_12410 None\n",
      "CQW49_12420 None\n",
      "CQW49_12425 None\n",
      "CQW49_12430 None\n",
      "CQW49_12435 None\n",
      "CQW49_12450 None\n",
      "CQW49_12460 None\n",
      "CQW49_12500 None\n",
      "CQW49_12510 None\n",
      "CQW49_12515 None\n",
      "CQW49_12520 None\n",
      "CQW49_12530 None\n",
      "CQW49_12535 None\n",
      "CQW49_12540 None\n",
      "CQW49_12545 None\n",
      "CQW49_12565 None\n",
      "CQW49_12570 None\n",
      "CQW49_12590 None\n",
      "CQW49_12595 None\n",
      "CQW49_12625 None\n",
      "CQW49_12635 None\n",
      "CQW49_12640 None\n",
      "CQW49_12645 None\n",
      "CQW49_12650 None\n",
      "CQW49_12655 None\n",
      "CQW49_12660 None\n",
      "CQW49_12665 None\n",
      "CQW49_12670 None\n",
      "CQW49_12675 None\n",
      "CQW49_12680 None\n",
      "CQW49_12685 None\n",
      "CQW49_12690 None\n",
      "CQW49_12695 None\n",
      "CQW49_12705 None\n",
      "CQW49_12710 None\n",
      "CQW49_12720 None\n",
      "CQW49_12730 None\n",
      "CQW49_12750 None\n",
      "CQW49_12755 None\n",
      "CQW49_12760 None\n",
      "CQW49_12765 None\n",
      "CQW49_12770 None\n",
      "CQW49_12780 None\n",
      "CQW49_12790 None\n",
      "CQW49_12810 None\n",
      "CQW49_12815 None\n",
      "CQW49_12820 None\n",
      "CQW49_12825 None\n",
      "CQW49_12830 None\n",
      "CQW49_12850 None\n",
      "CQW49_12880 None\n",
      "CQW49_12885 None\n",
      "CQW49_12890 None\n",
      "CQW49_12895 None\n",
      "CQW49_12910 None\n",
      "CQW49_12975 None\n",
      "CQW49_12995 None\n",
      "CQW49_13015 None\n",
      "CQW49_13025 None\n",
      "CQW49_13030 None\n",
      "CQW49_13035 None\n",
      "CQW49_13040 None\n",
      "CQW49_13050 None\n",
      "CQW49_13065 None\n",
      "CQW49_13085 None\n",
      "CQW49_13090 None\n",
      "CQW49_13115 None\n",
      "CQW49_13120 None\n",
      "CQW49_13140 None\n",
      "CQW49_13145 None\n",
      "CQW49_13150 None\n",
      "CQW49_13155 None\n",
      "CQW49_13170 None\n",
      "CQW49_13180 None\n",
      "CQW49_13190 None\n",
      "CQW49_13195 None\n",
      "CQW49_13205 None\n",
      "CQW49_13235 None\n",
      "CQW49_13250 None\n",
      "CQW49_13260 None\n",
      "CQW49_13265 None\n",
      "CQW49_13275 None\n",
      "CQW49_13295 None\n",
      "CQW49_13300 None\n",
      "CQW49_13310 None\n",
      "CQW49_13315 None\n",
      "CQW49_13320 None\n",
      "CQW49_13330 None\n",
      "CQW49_13340 None\n",
      "CQW49_13345 None\n",
      "CQW49_13380 None\n",
      "CQW49_13390 None\n",
      "CQW49_13395 None\n",
      "CQW49_13405 None\n",
      "CQW49_13415 None\n",
      "CQW49_13425 None\n",
      "CQW49_13445 None\n",
      "CQW49_13450 None\n",
      "CQW49_13490 None\n",
      "CQW49_13505 None\n",
      "CQW49_13510 None\n",
      "CQW49_13515 None\n",
      "CQW49_13520 None\n",
      "CQW49_13540 None\n",
      "CQW49_13545 None\n",
      "CQW49_13550 None\n",
      "CQW49_13560 None\n",
      "CQW49_13570 None\n",
      "CQW49_13575 None\n",
      "CQW49_13580 None\n",
      "CQW49_13590 None\n",
      "CQW49_13595 None\n",
      "CQW49_13600 None\n",
      "CQW49_13605 None\n",
      "CQW49_13610 None\n",
      "CQW49_13620 None\n",
      "CQW49_13660 None\n",
      "CQW49_13670 None\n",
      "CQW49_13690 None\n",
      "CQW49_13700 None\n",
      "CQW49_13710 None\n",
      "CQW49_13720 None\n",
      "CQW49_13725 None\n",
      "CQW49_13730 None\n",
      "CQW49_13735 None\n",
      "CQW49_13740 None\n",
      "CQW49_13745 None\n",
      "CQW49_13750 None\n",
      "CQW49_13765 None\n",
      "CQW49_13775 None\n",
      "CQW49_13780 None\n",
      "CQW49_13795 None\n",
      "CQW49_13800 None\n",
      "CQW49_13810 None\n",
      "CQW49_13830 None\n",
      "CQW49_13840 None\n",
      "CQW49_13855 None\n",
      "CQW49_13860 None\n",
      "CQW49_13870 None\n",
      "CQW49_13880 None\n",
      "CQW49_13915 None\n",
      "CQW49_13920 None\n",
      "CQW49_13930 None\n",
      "CQW49_13935 None\n",
      "CQW49_13945 None\n",
      "CQW49_13955 None\n",
      "CQW49_13965 None\n",
      "CQW49_13970 None\n",
      "CQW49_13975 None\n",
      "CQW49_13980 None\n",
      "CQW49_13985 None\n",
      "CQW49_14005 None\n",
      "CQW49_14010 None\n",
      "CQW49_14015 None\n",
      "CQW49_14020 None\n",
      "CQW49_14030 None\n",
      "CQW49_14035 None\n",
      "CQW49_14040 None\n",
      "CQW49_14045 None\n",
      "CQW49_14055 None\n",
      "CQW49_14060 None\n",
      "CQW49_14065 None\n",
      "CQW49_14070 None\n",
      "CQW49_14075 None\n",
      "CQW49_14080 None\n",
      "CQW49_14085 None\n",
      "CQW49_14090 None\n",
      "CQW49_14095 None\n",
      "CQW49_14100 None\n",
      "CQW49_14105 None\n",
      "CQW49_14110 None\n",
      "CQW49_14120 None\n",
      "CQW49_14125 None\n",
      "CQW49_14130 None\n",
      "CQW49_14135 None\n",
      "CQW49_14140 None\n",
      "CQW49_14145 None\n",
      "CQW49_14155 None\n",
      "CQW49_14170 None\n",
      "CQW49_14195 None\n",
      "CQW49_14200 None\n",
      "CQW49_14210 None\n",
      "CQW49_14230 None\n",
      "CQW49_14235 None\n",
      "CQW49_14245 None\n",
      "CQW49_14275 None\n",
      "CQW49_14280 None\n",
      "CQW49_14285 None\n",
      "CQW49_14295 None\n",
      "CQW49_14305 None\n",
      "CQW49_14310 None\n",
      "CQW49_14315 None\n",
      "CQW49_14320 None\n",
      "CQW49_14325 None\n",
      "CQW49_14350 None\n",
      "CQW49_14355 None\n",
      "CQW49_14360 None\n",
      "CQW49_14370 None\n",
      "CQW49_14375 None\n",
      "CQW49_14380 None\n",
      "CQW49_14385 None\n",
      "CQW49_14390 None\n",
      "CQW49_14400 None\n",
      "CQW49_14405 None\n",
      "CQW49_14420 None\n",
      "CQW49_14430 None\n",
      "CQW49_14435 None\n",
      "CQW49_14450 None\n",
      "CQW49_14455 None\n",
      "CQW49_14460 None\n",
      "CQW49_14465 None\n",
      "CQW49_14470 None\n",
      "CQW49_14475 None\n",
      "CQW49_14480 None\n",
      "CQW49_14490 None\n",
      "CQW49_14495 None\n",
      "CQW49_14500 None\n",
      "CQW49_14505 None\n",
      "CQW49_14515 None\n",
      "CQW49_14520 None\n",
      "CQW49_14525 None\n",
      "CQW49_14535 None\n",
      "CQW49_14540 None\n",
      "CQW49_14545 None\n",
      "CQW49_14550 None\n",
      "CQW49_14555 None\n",
      "CQW49_14575 None\n",
      "CQW49_14580 None\n",
      "CQW49_14585 None\n",
      "CQW49_14600 None\n",
      "CQW49_14605 None\n",
      "CQW49_14610 None\n",
      "CQW49_14615 None\n",
      "CQW49_14625 None\n",
      "CQW49_14630 None\n",
      "CQW49_14635 None\n",
      "CQW49_14640 None\n",
      "CQW49_14645 None\n",
      "CQW49_14650 None\n",
      "CQW49_14660 None\n",
      "CQW49_14675 None\n",
      "CQW49_14680 None\n",
      "CQW49_14685 None\n",
      "CQW49_14690 None\n",
      "CQW49_14695 None\n",
      "CQW49_14700 None\n",
      "CQW49_14715 None\n",
      "CQW49_14735 None\n",
      "CQW49_14740 None\n",
      "CQW49_14745 None\n",
      "CQW49_14755 None\n",
      "CQW49_14770 None\n",
      "CQW49_14775 None\n",
      "CQW49_14785 None\n",
      "CQW49_14790 None\n",
      "CQW49_14800 None\n",
      "CQW49_14805 None\n",
      "CQW49_14820 None\n",
      "CQW49_14825 None\n",
      "CQW49_14830 None\n",
      "CQW49_14835 None\n",
      "CQW49_14840 None\n",
      "CQW49_14845 None\n",
      "CQW49_14855 None\n",
      "CQW49_14860 None\n",
      "CQW49_14865 None\n",
      "CQW49_14870 None\n",
      "CQW49_14875 None\n",
      "CQW49_14880 None\n",
      "CQW49_14890 None\n",
      "CQW49_14895 None\n",
      "CQW49_14900 None\n",
      "CQW49_14905 None\n",
      "CQW49_14910 None\n",
      "CQW49_14920 None\n",
      "CQW49_14925 None\n",
      "CQW49_14930 None\n",
      "CQW49_14935 None\n",
      "CQW49_14940 None\n",
      "CQW49_14945 None\n",
      "CQW49_14955 None\n",
      "CQW49_14960 None\n",
      "CQW49_14965 None\n",
      "CQW49_14970 None\n",
      "CQW49_14975 None\n",
      "CQW49_14980 None\n",
      "CQW49_14985 None\n",
      "CQW49_14990 None\n",
      "CQW49_14995 None\n",
      "CQW49_15000 None\n",
      "CQW49_15005 None\n",
      "CQW49_15010 None\n",
      "CQW49_15015 None\n",
      "CQW49_15020 None\n",
      "CQW49_15030 None\n",
      "CQW49_15035 None\n",
      "CQW49_15040 None\n",
      "CQW49_15045 None\n",
      "CQW49_15055 None\n",
      "CQW49_15060 None\n",
      "CQW49_15065 None\n",
      "CQW49_15080 None\n",
      "CQW49_15085 None\n",
      "CQW49_15090 None\n",
      "CQW49_15120 None\n",
      "CQW49_15130 None\n",
      "CQW49_15140 None\n",
      "CQW49_15150 None\n",
      "CQW49_15155 None\n",
      "CQW49_15175 None\n",
      "CQW49_15180 None\n",
      "CQW49_15185 None\n",
      "CQW49_15205 None\n",
      "CQW49_15210 None\n",
      "CQW49_15215 None\n",
      "CQW49_15220 None\n",
      "CQW49_15230 None\n",
      "CQW49_15240 None\n",
      "CQW49_15250 None\n",
      "CQW49_15265 None\n",
      "CQW49_15275 None\n",
      "CQW49_15280 None\n",
      "CQW49_15290 None\n",
      "CQW49_15295 None\n",
      "CQW49_15305 None\n",
      "CQW49_15315 None\n",
      "CQW49_15325 None\n",
      "CQW49_15330 None\n",
      "CQW49_15340 None\n",
      "CQW49_15345 None\n",
      "CQW49_15365 None\n",
      "CQW49_15385 None\n",
      "CQW49_15390 None\n",
      "CQW49_15400 None\n",
      "CQW49_15405 None\n",
      "CQW49_15410 None\n",
      "CQW49_15415 None\n",
      "CQW49_15435 None\n",
      "CQW49_15450 None\n",
      "CQW49_15455 None\n",
      "CQW49_15470 None\n",
      "CQW49_15485 None\n",
      "CQW49_15520 None\n",
      "CQW49_15525 None\n",
      "CQW49_15530 None\n",
      "CQW49_15535 None\n",
      "CQW49_15540 None\n",
      "CQW49_15545 None\n",
      "CQW49_15550 None\n",
      "CQW49_15560 None\n",
      "CQW49_15565 None\n",
      "CQW49_15570 None\n",
      "CQW49_15575 None\n",
      "CQW49_15580 None\n",
      "CQW49_15585 None\n",
      "CQW49_15590 None\n",
      "CQW49_15600 None\n",
      "CQW49_15605 None\n",
      "CQW49_15615 None\n",
      "CQW49_15630 None\n",
      "CQW49_15635 None\n",
      "CQW49_15650 None\n",
      "CQW49_15655 None\n",
      "CQW49_15660 None\n",
      "CQW49_15680 None\n",
      "CQW49_15685 None\n",
      "CQW49_15710 None\n",
      "CQW49_15720 None\n",
      "CQW49_15730 None\n",
      "CQW49_15780 None\n",
      "CQW49_15785 None\n",
      "CQW49_15795 None\n",
      "CQW49_15805 None\n",
      "CQW49_15810 None\n",
      "CQW49_15820 None\n",
      "CQW49_15835 None\n",
      "CQW49_15840 None\n",
      "CQW49_15845 None\n",
      "CQW49_15860 None\n",
      "CQW49_15865 None\n",
      "CQW49_15885 None\n",
      "CQW49_15890 None\n",
      "CQW49_15895 None\n",
      "CQW49_15900 None\n",
      "CQW49_15905 None\n",
      "CQW49_15920 None\n",
      "CQW49_15950 None\n",
      "CQW49_15960 None\n",
      "CQW49_15980 None\n",
      "CQW49_15990 None\n",
      "CQW49_15995 None\n",
      "CQW49_16000 None\n",
      "CQW49_16005 None\n",
      "CQW49_16010 None\n",
      "CQW49_16020 None\n",
      "CQW49_16025 None\n",
      "CQW49_16035 None\n",
      "CQW49_16040 None\n",
      "CQW49_16045 None\n",
      "CQW49_16050 None\n",
      "CQW49_16060 None\n",
      "CQW49_16070 None\n",
      "CQW49_16075 None\n",
      "CQW49_16080 None\n",
      "CQW49_16100 None\n",
      "CQW49_16105 None\n",
      "CQW49_16110 None\n",
      "CQW49_16115 None\n",
      "CQW49_16120 None\n",
      "CQW49_16125 None\n",
      "CQW49_16130 None\n",
      "CQW49_16135 None\n",
      "CQW49_16145 None\n",
      "CQW49_16150 None\n",
      "CQW49_16155 None\n",
      "CQW49_16160 None\n",
      "CQW49_16165 None\n",
      "CQW49_16185 None\n",
      "CQW49_16195 None\n",
      "CQW49_16205 None\n",
      "CQW49_16210 None\n",
      "CQW49_16235 None\n",
      "CQW49_16240 None\n",
      "CQW49_16245 None\n",
      "CQW49_16250 None\n",
      "CQW49_16265 None\n",
      "CQW49_16270 None\n",
      "CQW49_16275 None\n",
      "CQW49_16280 None\n",
      "CQW49_16290 None\n",
      "CQW49_16300 None\n",
      "CQW49_16305 None\n",
      "CQW49_16310 None\n",
      "CQW49_16315 None\n",
      "CQW49_16320 None\n",
      "CQW49_16325 None\n",
      "CQW49_16330 None\n",
      "CQW49_16335 None\n",
      "CQW49_16340 None\n",
      "CQW49_16345 None\n",
      "CQW49_16355 None\n",
      "CQW49_16360 None\n",
      "CQW49_16365 None\n",
      "CQW49_16370 None\n",
      "CQW49_16375 None\n",
      "CQW49_16380 None\n",
      "CQW49_16400 None\n",
      "CQW49_16410 None\n",
      "CQW49_16425 None\n",
      "CQW49_16435 None\n",
      "CQW49_16440 None\n",
      "CQW49_16450 None\n",
      "CQW49_16455 None\n",
      "CQW49_16460 None\n",
      "CQW49_16465 None\n",
      "CQW49_16470 None\n",
      "CQW49_16485 None\n",
      "CQW49_16490 None\n",
      "CQW49_16495 None\n",
      "CQW49_16505 None\n",
      "CQW49_16510 None\n",
      "CQW49_16520 None\n",
      "CQW49_16525 None\n",
      "CQW49_16545 None\n",
      "CQW49_16550 None\n",
      "CQW49_16555 None\n",
      "CQW49_16560 None\n",
      "CQW49_16575 None\n",
      "CQW49_16580 None\n",
      "CQW49_16585 None\n",
      "CQW49_16605 None\n",
      "CQW49_16610 None\n",
      "CQW49_16620 None\n",
      "CQW49_16640 None\n",
      "CQW49_16655 None\n",
      "CQW49_16660 None\n",
      "CQW49_16665 None\n",
      "CQW49_16670 None\n",
      "CQW49_16680 None\n",
      "CQW49_16685 None\n",
      "CQW49_16690 None\n",
      "CQW49_16695 None\n",
      "CQW49_16700 None\n",
      "CQW49_16705 None\n",
      "CQW49_16715 None\n",
      "CQW49_16720 None\n",
      "CQW49_16730 None\n",
      "CQW49_16735 None\n",
      "CQW49_16740 None\n",
      "CQW49_16755 None\n",
      "CQW49_16765 None\n",
      "CQW49_16770 None\n",
      "CQW49_16775 None\n",
      "CQW49_16785 None\n",
      "CQW49_16805 None\n",
      "CQW49_16810 None\n",
      "CQW49_16820 None\n",
      "CQW49_16840 None\n",
      "CQW49_16845 None\n",
      "CQW49_16850 None\n",
      "CQW49_16855 None\n",
      "CQW49_16860 None\n",
      "CQW49_16865 None\n",
      "CQW49_16875 None\n",
      "CQW49_16880 None\n",
      "CQW49_16885 None\n",
      "CQW49_16890 None\n",
      "CQW49_16895 None\n",
      "CQW49_16900 None\n",
      "CQW49_16905 None\n",
      "CQW49_16920 None\n",
      "CQW49_16925 None\n",
      "CQW49_16930 None\n",
      "CQW49_16935 None\n",
      "CQW49_16940 None\n",
      "CQW49_16945 None\n",
      "CQW49_16950 None\n",
      "CQW49_16955 None\n",
      "CQW49_16960 None\n",
      "CQW49_16965 None\n",
      "CQW49_16980 None\n",
      "CQW49_16985 None\n",
      "CQW49_16990 None\n",
      "CQW49_16995 None\n",
      "CQW49_17000 None\n",
      "CQW49_17005 None\n",
      "CQW49_17010 None\n",
      "CQW49_17025 None\n",
      "CQW49_17030 None\n",
      "CQW49_17040 None\n",
      "CQW49_17045 None\n",
      "CQW49_17050 None\n",
      "CQW49_17055 None\n",
      "CQW49_17060 None\n",
      "CQW49_17065 None\n",
      "CQW49_17070 None\n",
      "CQW49_17075 None\n",
      "CQW49_17080 None\n",
      "CQW49_17085 None\n",
      "CQW49_17090 None\n",
      "CQW49_17100 None\n",
      "CQW49_17105 None\n",
      "CQW49_17110 None\n",
      "CQW49_17115 None\n",
      "CQW49_17120 None\n",
      "CQW49_17135 None\n",
      "CQW49_17145 None\n",
      "CQW49_17155 None\n",
      "CQW49_17160 None\n",
      "CQW49_17165 None\n",
      "CQW49_17170 None\n",
      "CQW49_17175 None\n",
      "CQW49_17180 None\n",
      "CQW49_17185 None\n",
      "CQW49_17190 None\n",
      "CQW49_17195 None\n",
      "CQW49_17200 None\n",
      "CQW49_17205 None\n",
      "CQW49_17220 None\n",
      "CQW49_17240 None\n",
      "CQW49_17265 None\n",
      "CQW49_17270 None\n",
      "CQW49_17275 None\n",
      "CQW49_17280 None\n",
      "CQW49_17285 None\n",
      "CQW49_17290 None\n",
      "CQW49_17305 None\n",
      "CQW49_17315 None\n",
      "CQW49_17320 None\n",
      "CQW49_17330 None\n",
      "CQW49_17335 None\n",
      "CQW49_17340 None\n",
      "CQW49_17350 None\n",
      "CQW49_17355 None\n",
      "CQW49_17360 None\n",
      "CQW49_17365 None\n",
      "CQW49_17370 None\n",
      "CQW49_17375 None\n",
      "CQW49_17380 None\n",
      "CQW49_17390 None\n",
      "CQW49_17395 None\n",
      "CQW49_17405 None\n",
      "CQW49_17415 None\n",
      "CQW49_17420 None\n",
      "CQW49_17425 None\n",
      "CQW49_17430 None\n",
      "CQW49_17435 None\n",
      "CQW49_17440 None\n",
      "CQW49_17460 None\n",
      "CQW49_17475 None\n",
      "CQW49_17485 None\n",
      "CQW49_17490 None\n",
      "CQW49_17500 None\n",
      "CQW49_17505 None\n",
      "CQW49_17530 None\n",
      "CQW49_17535 None\n",
      "CQW49_17540 None\n",
      "CQW49_17570 None\n",
      "CQW49_17600 None\n",
      "CQW49_17615 None\n",
      "CQW49_17625 None\n",
      "CQW49_17630 None\n",
      "CQW49_17635 None\n",
      "CQW49_17640 None\n",
      "CQW49_17645 None\n",
      "CQW49_17650 None\n",
      "CQW49_17655 None\n",
      "CQW49_17660 None\n",
      "CQW49_17665 None\n",
      "CQW49_17675 None\n",
      "CQW49_17695 None\n",
      "CQW49_17700 None\n",
      "CQW49_17715 None\n",
      "CQW49_17720 None\n",
      "CQW49_17725 None\n",
      "CQW49_17730 None\n",
      "CQW49_17735 None\n",
      "CQW49_17755 None\n",
      "CQW49_17775 None\n",
      "CQW49_17780 None\n",
      "CQW49_17785 None\n",
      "CQW49_17790 None\n",
      "CQW49_17795 None\n",
      "CQW49_17800 None\n",
      "CQW49_17805 None\n",
      "CQW49_17815 None\n",
      "CQW49_17820 None\n",
      "CQW49_17830 None\n",
      "CQW49_17845 None\n",
      "CQW49_17870 None\n",
      "CQW49_17875 None\n",
      "CQW49_17880 None\n",
      "CQW49_17885 None\n",
      "CQW49_17890 None\n",
      "CQW49_17910 None\n",
      "CQW49_17920 None\n",
      "CQW49_17925 None\n",
      "CQW49_17930 None\n",
      "CQW49_17945 None\n",
      "CQW49_17950 None\n",
      "CQW49_17960 None\n",
      "CQW49_17965 None\n",
      "CQW49_17975 None\n",
      "CQW49_17995 None\n",
      "CQW49_18010 None\n"
     ]
    },
    {
     "name": "stdout",
     "output_type": "stream",
     "text": [
      "CQW49_18015 None\n",
      "CQW49_18025 None\n",
      "CQW49_18045 None\n",
      "CQW49_18050 None\n",
      "CQW49_18055 None\n",
      "CQW49_18070 None\n",
      "CQW49_18075 None\n",
      "CQW49_18080 None\n",
      "CQW49_18085 None\n",
      "CQW49_18095 None\n",
      "CQW49_18105 None\n",
      "CQW49_18110 None\n",
      "CQW49_18115 None\n",
      "CQW49_18125 None\n",
      "CQW49_18145 None\n",
      "CQW49_18150 None\n",
      "CQW49_18155 None\n",
      "CQW49_18175 None\n",
      "CQW49_18180 None\n",
      "CQW49_18185 None\n",
      "CQW49_18200 None\n",
      "CQW49_18205 None\n",
      "CQW49_18210 None\n",
      "CQW49_18215 None\n",
      "CQW49_18220 None\n",
      "CQW49_18225 None\n",
      "CQW49_18240 None\n",
      "CQW49_18245 None\n",
      "CQW49_18265 None\n",
      "CQW49_18270 None\n",
      "CQW49_18275 None\n",
      "CQW49_18320 None\n",
      "CQW49_18325 None\n",
      "CQW49_18330 None\n",
      "CQW49_18335 None\n",
      "CQW49_18340 None\n",
      "CQW49_18350 None\n",
      "CQW49_18360 None\n",
      "CQW49_18365 None\n",
      "CQW49_18380 None\n",
      "CQW49_18415 None\n",
      "CQW49_18435 None\n",
      "CQW49_18440 None\n",
      "CQW49_18445 {'mtw03410': 'Base excision repair'}\n",
      "CQW49_18490 None\n",
      "CQW49_18495 None\n",
      "CQW49_18500 None\n",
      "CQW49_18505 None\n",
      "CQW49_18510 None\n",
      "CQW49_18515 None\n",
      "CQW49_18520 None\n",
      "CQW49_18525 None\n",
      "CQW49_18530 None\n",
      "CQW49_18535 None\n",
      "CQW49_18540 None\n",
      "CQW49_18545 None\n",
      "CQW49_18560 None\n",
      "CQW49_18570 None\n",
      "CQW49_18575 None\n",
      "CQW49_18585 None\n",
      "CQW49_18590 None\n",
      "CQW49_18595 None\n",
      "CQW49_18600 None\n",
      "CQW49_18620 None\n",
      "CQW49_18625 None\n",
      "CQW49_18635 None\n",
      "CQW49_18640 None\n",
      "CQW49_18650 None\n",
      "CQW49_18685 None\n",
      "CQW49_18690 None\n",
      "CQW49_18710 None\n",
      "CQW49_18715 None\n",
      "CQW49_18720 None\n",
      "CQW49_18730 None\n",
      "CQW49_18735 None\n",
      "CQW49_18740 None\n",
      "CQW49_18745 None\n",
      "CQW49_18750 None\n",
      "CQW49_18755 None\n",
      "CQW49_18760 None\n",
      "CQW49_18765 None\n",
      "CQW49_18770 None\n",
      "CQW49_18775 None\n",
      "CQW49_18780 None\n",
      "CQW49_18800 None\n",
      "CQW49_18810 None\n",
      "CQW49_18815 None\n",
      "CQW49_18830 None\n",
      "CQW49_18835 None\n",
      "CQW49_18840 None\n",
      "CQW49_18845 None\n",
      "CQW49_18850 None\n",
      "CQW49_18855 None\n",
      "CQW49_18860 None\n",
      "CQW49_18865 None\n",
      "CQW49_18875 None\n",
      "CQW49_18880 None\n",
      "CQW49_18885 None\n",
      "CQW49_18890 None\n",
      "CQW49_18895 None\n",
      "CQW49_18900 None\n",
      "CQW49_18905 None\n",
      "CQW49_18920 None\n",
      "CQW49_18935 None\n",
      "CQW49_18960 None\n",
      "CQW49_18965 None\n",
      "CQW49_18970 None\n",
      "CQW49_18980 None\n",
      "CQW49_18985 None\n",
      "CQW49_18995 None\n",
      "CQW49_19000 None\n",
      "CQW49_19005 None\n",
      "CQW49_19010 None\n",
      "CQW49_19020 None\n",
      "CQW49_19025 None\n",
      "CQW49_19030 None\n",
      "CQW49_19040 None\n",
      "CQW49_19045 None\n",
      "CQW49_19065 None\n",
      "CQW49_19070 None\n",
      "CQW49_19075 None\n",
      "CQW49_19085 None\n",
      "CQW49_19090 None\n",
      "CQW49_19115 None\n",
      "CQW49_19120 None\n",
      "CQW49_19130 None\n",
      "CQW49_19140 None\n",
      "CQW49_19145 None\n",
      "CQW49_19155 None\n",
      "CQW49_19160 None\n",
      "CQW49_19170 None\n",
      "CQW49_19175 None\n",
      "CQW49_19195 None\n",
      "CQW49_19200 None\n",
      "CQW49_19205 None\n",
      "CQW49_19210 None\n",
      "CQW49_19250 None\n",
      "CQW49_19255 None\n",
      "CQW49_19265 None\n",
      "CQW49_19270 None\n",
      "CQW49_19280 None\n",
      "CQW49_19285 None\n",
      "CQW49_19290 None\n",
      "CQW49_19320 None\n",
      "CQW49_19325 None\n",
      "CQW49_19330 None\n",
      "CQW49_19335 None\n",
      "CQW49_19340 None\n",
      "CQW49_19345 None\n",
      "CQW49_19350 None\n",
      "CQW49_19355 None\n",
      "CQW49_19360 None\n",
      "CQW49_19365 None\n",
      "CQW49_19370 None\n",
      "CQW49_19385 None\n",
      "CQW49_19390 None\n",
      "CQW49_19400 None\n",
      "CQW49_19405 None\n",
      "CQW49_19415 None\n",
      "CQW49_19420 None\n",
      "CQW49_19430 None\n",
      "CQW49_19435 None\n",
      "CQW49_19440 None\n",
      "CQW49_19445 None\n",
      "CQW49_19450 None\n",
      "CQW49_19455 None\n",
      "CQW49_19460 None\n",
      "CQW49_19475 None\n",
      "CQW49_19480 None\n",
      "CQW49_19505 None\n",
      "CQW49_19525 None\n",
      "CQW49_19530 None\n",
      "CQW49_19540 None\n",
      "CQW49_19545 None\n",
      "CQW49_19565 None\n",
      "CQW49_19570 None\n",
      "CQW49_19580 None\n",
      "CQW49_19585 None\n",
      "CQW49_19590 None\n",
      "CQW49_19595 None\n",
      "CQW49_19600 None\n",
      "CQW49_19605 None\n",
      "CQW49_19625 None\n",
      "CQW49_19630 None\n",
      "CQW49_19635 None\n",
      "CQW49_19640 None\n",
      "CQW49_19645 None\n",
      "CQW49_19650 None\n",
      "CQW49_19655 None\n",
      "CQW49_19660 None\n",
      "CQW49_19665 None\n",
      "CQW49_19680 None\n",
      "CQW49_19685 None\n",
      "CQW49_19690 None\n",
      "CQW49_19695 None\n",
      "CQW49_19700 None\n",
      "CQW49_19705 None\n",
      "CQW49_19710 None\n",
      "CQW49_19715 {'mtw02040': 'Flagellar assembly'}\n",
      "CQW49_19730 None\n",
      "CQW49_19740 None\n",
      "CQW49_19745 None\n",
      "CQW49_19760 None\n",
      "CQW49_19775 None\n",
      "CQW49_19780 None\n",
      "CQW49_19800 None\n",
      "CQW49_19810 None\n",
      "CQW49_19815 None\n",
      "CQW49_19820 None\n",
      "CQW49_19825 None\n",
      "CQW49_19830 None\n",
      "CQW49_19835 None\n",
      "CQW49_19840 None\n",
      "CQW49_19845 None\n",
      "CQW49_19850 None\n",
      "CQW49_19855 None\n",
      "CQW49_19865 None\n",
      "CQW49_19870 None\n",
      "CQW49_19875 None\n",
      "CQW49_19900 None\n",
      "CQW49_19920 None\n",
      "CQW49_19925 None\n",
      "CQW49_19945 None\n",
      "CQW49_19960 None\n",
      "CQW49_19965 None\n",
      "CQW49_20010 None\n",
      "CQW49_20015 None\n",
      "CQW49_20040 None\n",
      "CQW49_20045 None\n",
      "CQW49_20055 None\n",
      "CQW49_20080 None\n",
      "CQW49_20085 None\n",
      "CQW49_20090 None\n",
      "CQW49_20095 None\n",
      "CQW49_20110 None\n",
      "CQW49_20125 None\n",
      "CQW49_20135 None\n",
      "CQW49_20155 None\n",
      "CQW49_20160 None\n",
      "CQW49_20200 None\n",
      "CQW49_20205 None\n",
      "CQW49_20220 None\n",
      "CQW49_20225 None\n",
      "CQW49_20245 None\n",
      "CQW49_20250 None\n",
      "CQW49_20255 None\n",
      "CQW49_20260 None\n",
      "CQW49_20275 None\n",
      "CQW49_20285 None\n",
      "CQW49_20300 None\n",
      "CQW49_20310 None\n",
      "CQW49_20315 None\n",
      "CQW49_20320 None\n",
      "CQW49_20325 None\n",
      "CQW49_20330 None\n",
      "CQW49_20335 None\n",
      "CQW49_20345 None\n",
      "CQW49_20360 None\n",
      "CQW49_20365 None\n",
      "CQW49_20370 None\n",
      "CQW49_20385 None\n",
      "CQW49_20390 None\n",
      "CQW49_20400 None\n",
      "CQW49_20430 None\n",
      "CQW49_20435 None\n",
      "CQW49_20460 None\n",
      "CQW49_20465 None\n",
      "CQW49_20470 None\n",
      "CQW49_20475 None\n",
      "CQW49_20480 None\n",
      "CQW49_20490 None\n",
      "CQW49_20520 None\n",
      "CQW49_20535 None\n",
      "CQW49_20540 None\n",
      "CQW49_20560 None\n",
      "CQW49_20565 {'mtw03018': 'RNA degradation'}\n",
      "CQW49_20570 None\n",
      "CQW49_20575 None\n",
      "CQW49_20595 None\n",
      "CQW49_20610 None\n",
      "CQW49_20615 None\n",
      "CQW49_20620 None\n",
      "CQW49_20635 None\n",
      "CQW49_20640 None\n",
      "CQW49_20660 None\n",
      "CQW49_20690 None\n",
      "CQW49_20695 None\n",
      "CQW49_20705 None\n",
      "CQW49_20710 None\n",
      "CQW49_20720 None\n",
      "CQW49_20735 None\n",
      "CQW49_20740 None\n",
      "CQW49_20750 None\n",
      "CQW49_20770 None\n",
      "CQW49_20780 None\n",
      "CQW49_20800 None\n",
      "CQW49_20810 None\n",
      "CQW49_20815 None\n",
      "CQW49_20825 None\n",
      "CQW49_20830 None\n",
      "CQW49_20835 None\n",
      "CQW49_20840 None\n",
      "CQW49_20850 None\n",
      "CQW49_20855 None\n",
      "CQW49_20860 None\n",
      "CQW49_20870 None\n",
      "CQW49_20880 None\n",
      "CQW49_20885 None\n",
      "CQW49_20890 None\n",
      "CQW49_20900 None\n",
      "CQW49_20920 None\n",
      "CQW49_20935 None\n",
      "CQW49_20940 None\n",
      "CQW49_20990 None\n",
      "CQW49_20995 None\n",
      "CQW49_21000 None\n",
      "CQW49_21010 None\n",
      "CQW49_21015 None\n",
      "CQW49_21020 None\n",
      "CQW49_21040 None\n",
      "CQW49_21045 None\n",
      "CQW49_21050 None\n",
      "CQW49_21055 None\n",
      "CQW49_21060 None\n",
      "CQW49_21065 None\n",
      "CQW49_21080 None\n",
      "CQW49_21090 None\n",
      "CQW49_21105 None\n",
      "CQW49_21125 None\n",
      "CQW49_21130 None\n",
      "CQW49_21140 None\n",
      "CQW49_21145 None\n",
      "CQW49_21150 None\n",
      "CQW49_21155 None\n",
      "CQW49_21160 None\n",
      "CQW49_21165 None\n",
      "CQW49_21170 None\n",
      "CQW49_21175 None\n",
      "CQW49_21185 None\n",
      "CQW49_21190 None\n",
      "CQW49_21200 None\n",
      "CQW49_21205 None\n",
      "CQW49_21210 None\n",
      "CQW49_21225 None\n",
      "CQW49_21230 None\n",
      "CQW49_21245 None\n",
      "CQW49_21250 None\n",
      "CQW49_21255 None\n",
      "CQW49_21260 None\n",
      "CQW49_21275 None\n",
      "CQW49_21280 None\n",
      "CQW49_21285 None\n",
      "CQW49_21290 None\n",
      "CQW49_21295 None\n",
      "CQW49_21300 None\n",
      "CQW49_21305 None\n",
      "CQW49_21310 None\n",
      "CQW49_21315 None\n",
      "CQW49_21320 None\n",
      "CQW49_21325 None\n",
      "CQW49_21330 None\n",
      "CQW49_21335 None\n",
      "CQW49_21345 None\n",
      "CQW49_21350 None\n",
      "CQW49_21355 None\n",
      "CQW49_21360 None\n",
      "CQW49_21365 None\n",
      "CQW49_21380 None\n",
      "CQW49_21385 None\n",
      "CQW49_21390 None\n",
      "CQW49_21395 None\n",
      "CQW49_21400 None\n",
      "CQW49_21405 None\n",
      "CQW49_21450 None\n",
      "CQW49_21465 None\n",
      "CQW49_21480 None\n",
      "CQW49_21495 None\n",
      "CQW49_21500 None\n",
      "CQW49_21505 None\n",
      "CQW49_21510 None\n",
      "CQW49_21515 None\n",
      "CQW49_21520 None\n",
      "CQW49_21525 None\n",
      "CQW49_21545 None\n",
      "CQW49_21555 None\n",
      "CQW49_21560 None\n",
      "CQW49_21565 None\n",
      "CQW49_21570 None\n",
      "CQW49_21585 None\n",
      "CQW49_21590 None\n",
      "CQW49_21595 None\n",
      "CQW49_21600 None\n",
      "CQW49_21605 None\n",
      "CQW49_21620 None\n",
      "CQW49_21625 None\n",
      "CQW49_21630 None\n",
      "CQW49_21635 None\n",
      "CQW49_21640 None\n",
      "CQW49_21645 None\n",
      "CQW49_21660 None\n",
      "CQW49_21665 None\n",
      "CQW49_21685 None\n",
      "CQW49_21690 None\n",
      "CQW49_21695 None\n",
      "CQW49_21700 None\n",
      "CQW49_21705 None\n",
      "CQW49_21710 None\n",
      "CQW49_21715 None\n",
      "CQW49_21735 None\n",
      "CQW49_21740 None\n",
      "CQW49_21760 None\n",
      "CQW49_21765 None\n",
      "CQW49_21780 None\n",
      "CQW49_21785 None\n",
      "CQW49_21790 None\n",
      "CQW49_21800 None\n",
      "CQW49_21810 None\n",
      "CQW49_21835 None\n",
      "CQW49_21840 None\n",
      "CQW49_21845 None\n",
      "CQW49_21855 None\n",
      "CQW49_21870 None\n",
      "CQW49_21875 None\n",
      "CQW49_21885 None\n",
      "CQW49_21895 None\n",
      "CQW49_21900 None\n",
      "CQW49_21905 None\n",
      "CQW49_21910 None\n",
      "CQW49_21920 None\n",
      "CQW49_21925 None\n",
      "CQW49_21930 None\n",
      "CQW49_21945 None\n",
      "CQW49_21950 None\n",
      "CQW49_21955 None\n",
      "CQW49_21960 None\n",
      "CQW49_21965 None\n",
      "CQW49_21970 None\n",
      "CQW49_21975 None\n",
      "CQW49_21985 None\n",
      "CQW49_21990 None\n",
      "CQW49_21995 None\n",
      "CQW49_22000 None\n",
      "CQW49_22010 None\n",
      "CQW49_22015 None\n",
      "CQW49_22025 None\n",
      "CQW49_22030 None\n",
      "CQW49_22035 None\n",
      "CQW49_22040 None\n",
      "CQW49_22045 None\n",
      "CQW49_22050 None\n",
      "CQW49_22055 None\n",
      "CQW49_22060 None\n",
      "CQW49_22075 None\n",
      "CQW49_22080 None\n",
      "CQW49_22085 None\n",
      "CQW49_22095 None\n",
      "CQW49_22105 None\n",
      "CQW49_22110 None\n",
      "CQW49_22115 None\n",
      "CQW49_22120 None\n",
      "CQW49_22125 None\n",
      "CQW49_22130 None\n",
      "CQW49_22135 None\n",
      "CQW49_22140 None\n",
      "CQW49_22145 None\n",
      "CQW49_22150 None\n",
      "CQW49_22155 None\n",
      "CQW49_22160 None\n",
      "CQW49_22165 None\n",
      "CQW49_22170 None\n",
      "CQW49_22175 None\n",
      "CQW49_22185 None\n",
      "CQW49_22190 None\n",
      "CQW49_22195 None\n",
      "CQW49_22200 None\n",
      "CQW49_22205 None\n",
      "CQW49_22210 None\n",
      "CQW49_22235 None\n",
      "CQW49_22240 None\n",
      "CQW49_22255 None\n",
      "CQW49_22260 None\n",
      "CQW49_22265 None\n",
      "CQW49_22275 None\n",
      "CQW49_22290 None\n",
      "CQW49_22295 None\n",
      "CQW49_22300 None\n",
      "CQW49_22310 None\n",
      "CQW49_22325 None\n",
      "CQW49_22335 None\n",
      "CQW49_22340 None\n",
      "CQW49_22350 None\n",
      "CQW49_22360 None\n",
      "CQW49_22385 None\n",
      "CQW49_22420 None\n",
      "CQW49_22430 None\n",
      "CQW49_22435 None\n",
      "CQW49_22440 None\n",
      "CQW49_22535 None\n",
      "CQW49_22585 None\n",
      "CQW49_22605 None\n",
      "CQW49_22620 None\n",
      "CQW49_22630 None\n",
      "CQW49_22635 None\n",
      "CQW49_22660 None\n",
      "CQW49_22670 None\n",
      "CQW49_22675 None\n",
      "CQW49_22690 None\n",
      "CQW49_22695 None\n",
      "CQW49_22700 None\n",
      "CQW49_22705 None\n",
      "CQW49_22710 None\n",
      "CQW49_22715 None\n",
      "CQW49_22740 None\n",
      "CQW49_22750 None\n",
      "CQW49_22755 None\n",
      "CQW49_22760 None\n",
      "CQW49_22765 None\n",
      "CQW49_22775 None\n",
      "CQW49_22785 None\n",
      "CQW49_22790 None\n",
      "CQW49_22795 None\n",
      "CQW49_22800 None\n",
      "CQW49_22805 None\n",
      "CQW49_22810 None\n",
      "CQW49_22815 None\n",
      "CQW49_22820 None\n",
      "CQW49_22825 None\n",
      "CQW49_22845 None\n",
      "CQW49_22850 None\n",
      "CQW49_22855 None\n",
      "CQW49_22860 None\n",
      "CQW49_22865 None\n",
      "CQW49_22890 None\n",
      "CQW49_22895 None\n",
      "CQW49_22900 None\n",
      "CQW49_22905 None\n",
      "CQW49_22915 None\n",
      "CQW49_22920 None\n",
      "CQW49_22925 None\n",
      "CQW49_22930 None\n",
      "CQW49_22940 None\n",
      "CQW49_22950 None\n",
      "CQW49_22965 None\n",
      "CQW49_22970 None\n",
      "CQW49_22975 None\n",
      "CQW49_22985 None\n",
      "CQW49_22990 None\n",
      "CQW49_23000 None\n",
      "CQW49_23005 None\n",
      "CQW49_23010 None\n",
      "CQW49_23015 None\n",
      "CQW49_23035 None\n",
      "CQW49_23055 None\n",
      "CQW49_23075 None\n",
      "CQW49_23085 None\n",
      "CQW49_23090 None\n",
      "CQW49_23095 None\n",
      "CQW49_23100 None\n",
      "CQW49_23105 None\n",
      "CQW49_23110 None\n",
      "CQW49_23140 None\n",
      "CQW49_23150 None\n",
      "CQW49_23155 None\n",
      "CQW49_23160 None\n",
      "CQW49_23180 None\n",
      "CQW49_23190 None\n",
      "CQW49_23200 None\n",
      "CQW49_23215 None\n",
      "CQW49_23295 None\n",
      "CQW49_23315 None\n",
      "CQW49_23320 None\n",
      "CQW49_23335 None\n",
      "CQW49_23350 None\n",
      "CQW49_23355 None\n",
      "CQW49_23365 None\n",
      "CQW49_23370 None\n",
      "CQW49_23375 None\n",
      "CQW49_23380 None\n",
      "CQW49_23390 None\n",
      "CQW49_23395 None\n",
      "CQW49_23400 None\n",
      "CQW49_23405 None\n",
      "CQW49_23410 None\n",
      "CQW49_23415 None\n",
      "CQW49_23420 None\n",
      "CQW49_23425 None\n",
      "CQW49_23430 None\n",
      "CQW49_23435 None\n",
      "CQW49_23445 None\n",
      "CQW49_23455 None\n",
      "CQW49_23460 None\n",
      "CQW49_23465 None\n",
      "CQW49_23470 None\n",
      "CQW49_23480 None\n",
      "CQW49_23500 None\n",
      "CQW49_23510 None\n",
      "CQW49_23515 None\n",
      "CQW49_23520 None\n",
      "CQW49_23525 None\n",
      "CQW49_23530 None\n",
      "CQW49_23535 None\n",
      "CQW49_23540 None\n",
      "CQW49_23545 None\n",
      "CQW49_23550 None\n",
      "CQW49_23555 None\n",
      "CQW49_23560 None\n",
      "CQW49_23565 None\n",
      "CQW49_23570 None\n",
      "CQW49_23575 None\n",
      "CQW49_23580 None\n",
      "CQW49_23590 None\n",
      "CQW49_23595 None\n",
      "CQW49_23600 None\n",
      "CQW49_23605 None\n",
      "CQW49_23620 None\n",
      "CQW49_23640 None\n",
      "CQW49_23645 None\n",
      "CQW49_23650 None\n",
      "CQW49_23675 None\n",
      "CQW49_23690 None\n",
      "CQW49_23695 None\n",
      "CQW49_23700 None\n",
      "CQW49_23715 None\n",
      "CQW49_23720 None\n",
      "CQW49_23725 None\n",
      "CQW49_23735 None\n",
      "CQW49_23740 None\n",
      "CQW49_23745 None\n",
      "CQW49_23750 None\n",
      "CQW49_23755 None\n",
      "CQW49_23760 None\n",
      "CQW49_23765 None\n",
      "CQW49_23770 None\n",
      "CQW49_23780 None\n",
      "CQW49_23785 None\n",
      "CQW49_23790 None\n",
      "CQW49_23795 None\n",
      "CQW49_23800 None\n",
      "CQW49_23805 None\n",
      "CQW49_23810 None\n",
      "CQW49_23815 None\n",
      "CQW49_23820 None\n",
      "CQW49_23825 None\n",
      "CQW49_23835 None\n",
      "CQW49_23840 None\n",
      "CQW49_23850 None\n",
      "CQW49_23860 None\n",
      "CQW49_23865 None\n",
      "CQW49_23870 None\n",
      "CQW49_23875 None\n",
      "CQW49_23880 None\n",
      "CQW49_23885 None\n",
      "CQW49_23890 None\n",
      "CQW49_23910 None\n",
      "CQW49_23915 None\n",
      "CQW49_23920 None\n",
      "CQW49_23925 None\n",
      "CQW49_23930 None\n",
      "CQW49_23940 None\n",
      "CQW49_23945 None\n",
      "CQW49_23950 None\n",
      "CQW49_23955 None\n",
      "CQW49_23965 None\n",
      "CQW49_23970 None\n",
      "CQW49_23975 None\n",
      "CQW49_23990 None\n",
      "CQW49_23995 None\n",
      "CQW49_24000 None\n",
      "CQW49_24005 None\n",
      "CQW49_24010 None\n",
      "CQW49_24020 None\n"
     ]
    }
   ],
   "source": [
    "for locus_tag in list(OB3b_locus_tags_and_their_description):\n",
    "    try:\n",
    "        if len(k.get_pathway_by_gene(locus_tag, \"mtw\")) > 0:\n",
    "            pass\n",
    "        else:\n",
    "            pass\n",
    "    except:\n",
    "            print(locus_tag, k.get_pathway_by_gene(locus_tag, \"mtw\"))"
   ]
  },
  {
   "cell_type": "code",
   "execution_count": 23,
   "metadata": {
    "ExecuteTime": {
     "end_time": "2020-01-14T02:42:04.472063Z",
     "start_time": "2020-01-14T02:42:04.462622Z"
    }
   },
   "outputs": [
    {
     "data": {
      "text/plain": [
       "315"
      ]
     },
     "execution_count": 23,
     "metadata": {},
     "output_type": "execute_result"
    }
   ],
   "source": [
    "len(OB3b_locus_tags_and_their_description)"
   ]
  },
  {
   "cell_type": "markdown",
   "metadata": {},
   "source": [
    "Save the OB3b_locus_tags_and_their_description temporal file with pickle:"
   ]
  },
  {
   "cell_type": "code",
   "execution_count": 17,
   "metadata": {
    "ExecuteTime": {
     "end_time": "2020-01-14T02:35:46.978925Z",
     "start_time": "2020-01-14T02:35:46.926189Z"
    }
   },
   "outputs": [],
   "source": [
    "# write python dict to a file\n",
    "with open(memote_directory + \"gem_reconstruction_supplementary_materials/AM1_based_GEM/\" +\\\n",
    "          'temporal_more_than_0.pkl', 'wb') as output:\n",
    "    pickle.dump(OB3b_locus_tags_and_their_description, output)"
   ]
  },
  {
   "cell_type": "code",
   "execution_count": 20,
   "metadata": {
    "ExecuteTime": {
     "end_time": "2020-01-14T02:38:26.941175Z",
     "start_time": "2020-01-14T02:37:39.085510Z"
    },
    "scrolled": true
   },
   "outputs": [
    {
     "name": "stdout",
     "output_type": "stream",
     "text": [
      "CQW49_00005 {'mtw02020': 'Two-component system'}\n",
      "CQW49_00130 {'mtw02020': 'Two-component system'}\n",
      "CQW49_00190 {'mtw02010': 'ABC transporters'}\n",
      "CQW49_00200 {'mtw03010': 'Ribosome'}\n",
      "CQW49_00370 {'mtw03070': 'Bacterial secretion system'}\n",
      "CQW49_00375 {'mtw03070': 'Bacterial secretion system'}\n",
      "CQW49_00380 {'mtw03070': 'Bacterial secretion system'}\n",
      "CQW49_00385 {'mtw03070': 'Bacterial secretion system'}\n",
      "CQW49_00390 {'mtw03070': 'Bacterial secretion system'}\n",
      "CQW49_00400 {'mtw03070': 'Bacterial secretion system'}\n",
      "CQW49_00415 {'mtw03070': 'Bacterial secretion system'}\n",
      "CQW49_00420 {'mtw03070': 'Bacterial secretion system'}\n",
      "CQW49_00425 {'mtw03070': 'Bacterial secretion system'}\n",
      "CQW49_00500 {'mtw03410': 'Base excision repair'}\n",
      "CQW49_00515 {'mtw00190': 'Oxidative phosphorylation', 'mtw01100': 'Metabolic pathways'}\n",
      "CQW49_00520 {'mtw00190': 'Oxidative phosphorylation', 'mtw01100': 'Metabolic pathways'}\n",
      "CQW49_00535 {'mtw00190': 'Oxidative phosphorylation', 'mtw01100': 'Metabolic pathways'}\n",
      "CQW49_00540 {'mtw00190': 'Oxidative phosphorylation', 'mtw01100': 'Metabolic pathways'}\n",
      "CQW49_00545 {'mtw00190': 'Oxidative phosphorylation', 'mtw01100': 'Metabolic pathways'}\n",
      "CQW49_00550 {'mtw00190': 'Oxidative phosphorylation', 'mtw01100': 'Metabolic pathways'}\n",
      "CQW49_00555 {'mtw00190': 'Oxidative phosphorylation', 'mtw01100': 'Metabolic pathways'}\n",
      "CQW49_00610 {'mtw03430': 'Mismatch repair'}\n",
      "CQW49_00660 {'mtw03440': 'Homologous recombination'}\n",
      "CQW49_00670 {'mtw03030': 'DNA replication', 'mtw03430': 'Mismatch repair', 'mtw03440': 'Homologous recombination'}\n",
      "CQW49_00695 {'mtw00480': 'Glutathione metabolism', 'mtw01100': 'Metabolic pathways'}\n",
      "CQW49_00740 {'mtw00520': 'Amino sugar and nucleotide sugar metabolism', 'mtw01100': 'Metabolic pathways'}\n",
      "CQW49_00750 {'mtw01100': 'Metabolic pathways'}\n",
      "CQW49_00780 {'mtw00520': 'Amino sugar and nucleotide sugar metabolism', 'mtw01100': 'Metabolic pathways', 'mtw02020': 'Two-component system'}\n",
      "CQW49_00820 {'mtw02020': 'Two-component system'}\n",
      "CQW49_00825 {'mtw02020': 'Two-component system'}\n",
      "CQW49_00915 {'mtw00790': 'Folate biosynthesis', 'mtw01100': 'Metabolic pathways'}\n",
      "CQW49_00940 {'mtw03010': 'Ribosome'}\n",
      "CQW49_00945 {'mtw02020': 'Two-component system'}\n",
      "CQW49_00955 {'mtw00521': 'Streptomycin biosynthesis', 'mtw00562': 'Inositol phosphate metabolism', 'mtw01100': 'Metabolic pathways', 'mtw01110': 'Biosynthesis of secondary metabolites', 'mtw01130': 'Biosynthesis of antibiotics'}\n",
      "CQW49_00980 {'mtw00400': 'Phenylalanine, tyrosine and tryptophan biosynthesis', 'mtw01100': 'Metabolic pathways', 'mtw01110': 'Biosynthesis of secondary metabolites', 'mtw01130': 'Biosynthesis of antibiotics', 'mtw01230': 'Biosynthesis of amino acids', 'mtw02024': 'Quorum sensing'}\n",
      "CQW49_01035 {'mtw02060': 'Phosphotransferase system (PTS)'}\n",
      "CQW49_01055 {'mtw03030': 'DNA replication', 'mtw03410': 'Base excision repair', 'mtw03420': 'Nucleotide excision repair', 'mtw03430': 'Mismatch repair'}\n",
      "CQW49_01105 {'mtw01110': 'Biosynthesis of secondary metabolites', 'mtw01130': 'Biosynthesis of antibiotics'}\n",
      "CQW49_01170 {'mtw00770': 'Pantothenate and CoA biosynthesis', 'mtw01100': 'Metabolic pathways', 'mtw01110': 'Biosynthesis of secondary metabolites'}\n",
      "CQW49_01215 {'mtw00680': 'Methane metabolism', 'mtw00910': 'Nitrogen metabolism', 'mtw01100': 'Metabolic pathways', 'mtw01120': 'Microbial metabolism in diverse environments', 'mtw01200': 'Carbon metabolism'}\n",
      "CQW49_01220 {'mtw00680': 'Methane metabolism', 'mtw00910': 'Nitrogen metabolism', 'mtw01100': 'Metabolic pathways', 'mtw01120': 'Microbial metabolism in diverse environments', 'mtw01200': 'Carbon metabolism'}\n",
      "CQW49_01225 {'mtw00680': 'Methane metabolism', 'mtw00910': 'Nitrogen metabolism', 'mtw01100': 'Metabolic pathways', 'mtw01120': 'Microbial metabolism in diverse environments', 'mtw01200': 'Carbon metabolism'}\n",
      "CQW49_01295 {'mtw03410': 'Base excision repair'}\n",
      "CQW49_01305 {'mtw03410': 'Base excision repair', 'mtw03430': 'Mismatch repair', 'mtw03440': 'Homologous recombination'}\n",
      "CQW49_01315 {'mtw00550': 'Peptidoglycan biosynthesis', 'mtw01100': 'Metabolic pathways'}\n",
      "CQW49_01325 {'mtw03030': 'DNA replication', 'mtw03430': 'Mismatch repair', 'mtw03440': 'Homologous recombination'}\n",
      "CQW49_01360 {'mtw00230': 'Purine metabolism', 'mtw00240': 'Pyrimidine metabolism', 'mtw01100': 'Metabolic pathways', 'mtw01110': 'Biosynthesis of secondary metabolites', 'mtw01130': 'Biosynthesis of antibiotics'}\n",
      "CQW49_01395 {'mtw00450': 'Selenocompound metabolism', 'mtw01100': 'Metabolic pathways'}\n",
      "CQW49_01465 {'mtw02020': 'Two-component system'}\n",
      "CQW49_01525 {'mtw01502': 'Vancomycin resistance', 'mtw02020': 'Two-component system'}\n",
      "CQW49_01530 {'mtw03440': 'Homologous recombination'}\n",
      "CQW49_01605 {'mtw01100': 'Metabolic pathways'}\n",
      "CQW49_01630 {'mtw02024': 'Quorum sensing', 'mtw03018': 'RNA degradation'}\n",
      "CQW49_01685 {'mtw00760': 'Nicotinate and nicotinamide metabolism'}\n",
      "CQW49_01705 {'mtw00785': 'Lipoic acid metabolism', 'mtw01100': 'Metabolic pathways'}\n",
      "CQW49_01710 {'mtw03030': 'DNA replication', 'mtw03430': 'Mismatch repair', 'mtw03440': 'Homologous recombination'}\n",
      "CQW49_01780 {'mtw02020': 'Two-component system'}\n",
      "CQW49_01785 {'mtw02020': 'Two-component system'}\n",
      "CQW49_01790 {'mtw02020': 'Two-component system'}\n",
      "CQW49_01860 {'mtw00623': 'Toluene degradation', 'mtw00920': 'Sulfur metabolism', 'mtw01100': 'Metabolic pathways', 'mtw01120': 'Microbial metabolism in diverse environments', 'mtw01220': 'Degradation of aromatic compounds'}\n",
      "CQW49_01865 {'mtw00750': 'Vitamin B6 metabolism', 'mtw01100': 'Metabolic pathways', 'mtw01120': 'Microbial metabolism in diverse environments'}\n",
      "CQW49_01965 {'mtw02010': 'ABC transporters'}\n",
      "CQW49_01970 {'mtw02010': 'ABC transporters'}\n",
      "CQW49_01990 {'mtw01040': 'Biosynthesis of unsaturated fatty acids'}\n",
      "CQW49_02300 {'mtw03018': 'RNA degradation'}\n",
      "CQW49_02390 {'mtw02020': 'Two-component system'}\n",
      "CQW49_02400 {'mtw00430': 'Taurine and hypotaurine metabolism', 'mtw00460': 'Cyanoamino acid metabolism', 'mtw00480': 'Glutathione metabolism', 'mtw01100': 'Metabolic pathways'}\n",
      "CQW49_04375 {'mtw02020': 'Two-component system'}\n",
      "CQW49_04380 {'mtw02020': 'Two-component system'}\n",
      "CQW49_04395 {'mtw00480': 'Glutathione metabolism', 'mtw01100': 'Metabolic pathways'}\n",
      "CQW49_04465 {'mtw01130': 'Biosynthesis of antibiotics'}\n",
      "CQW49_04470 {'mtw02010': 'ABC transporters'}\n",
      "CQW49_04580 {'mtw03010': 'Ribosome'}\n",
      "CQW49_04600 {'mtw03440': 'Homologous recombination'}\n",
      "CQW49_04610 {'mtw03030': 'DNA replication', 'mtw03430': 'Mismatch repair', 'mtw03440': 'Homologous recombination'}\n",
      "CQW49_04680 {'mtw02020': 'Two-component system'}\n",
      "CQW49_04705 {'mtw03018': 'RNA degradation'}\n",
      "CQW49_04765 {'mtw03030': 'DNA replication'}\n",
      "CQW49_04785 {'mtw00562': 'Inositol phosphate metabolism', 'mtw00564': 'Glycerophospholipid metabolism', 'mtw01100': 'Metabolic pathways', 'mtw01110': 'Biosynthesis of secondary metabolites', 'mtw02024': 'Quorum sensing'}\n",
      "CQW49_04800 {'mtw03410': 'Base excision repair'}\n",
      "CQW49_04965 {'mtw00281': 'Geraniol degradation'}\n",
      "CQW49_05040 {'mtw02010': 'ABC transporters'}\n",
      "CQW49_05060 {'mtw00480': 'Glutathione metabolism', 'mtw01100': 'Metabolic pathways'}\n",
      "CQW49_05095 {'mtw00620': 'Pyruvate metabolism', 'mtw00680': 'Methane metabolism', 'mtw01100': 'Metabolic pathways', 'mtw01120': 'Microbial metabolism in diverse environments', 'mtw01200': 'Carbon metabolism'}\n",
      "CQW49_05105 {'mtw02020': 'Two-component system'}\n",
      "CQW49_05110 {'mtw02020': 'Two-component system'}\n",
      "CQW49_05130 {'mtw03440': 'Homologous recombination'}\n",
      "CQW49_05275 {'mtw03018': 'RNA degradation'}\n",
      "CQW49_05280 {'mtw00780': 'Biotin metabolism', 'mtw01100': 'Metabolic pathways'}\n",
      "CQW49_05435 {'mtw02010': 'ABC transporters'}\n",
      "CQW49_05560 {'mtw00480': 'Glutathione metabolism', 'mtw01100': 'Metabolic pathways'}\n",
      "CQW49_05605 {'mtw02020': 'Two-component system'}\n",
      "CQW49_05610 {'mtw02020': 'Two-component system'}\n",
      "CQW49_05635 {'mtw00350': 'Tyrosine metabolism', 'mtw00643': 'Styrene degradation', 'mtw01100': 'Metabolic pathways', 'mtw01120': 'Microbial metabolism in diverse environments'}\n",
      "CQW49_05640 {'mtw00350': 'Tyrosine metabolism', 'mtw00643': 'Styrene degradation', 'mtw01100': 'Metabolic pathways', 'mtw01120': 'Microbial metabolism in diverse environments'}\n",
      "CQW49_05645 {'mtw00130': 'Ubiquinone and other terpenoid-quinone biosynthesis', 'mtw00350': 'Tyrosine metabolism', 'mtw00360': 'Phenylalanine metabolism', 'mtw01100': 'Metabolic pathways'}\n",
      "CQW49_05670 {'mtw00230': 'Purine metabolism', 'mtw01100': 'Metabolic pathways'}\n",
      "CQW49_05720 {'mtw02020': 'Two-component system', 'mtw02030': 'Bacterial chemotaxis'}\n",
      "CQW49_05885 {'mtw02020': 'Two-component system'}\n",
      "CQW49_05940 {'mtw02020': 'Two-component system', 'mtw02030': 'Bacterial chemotaxis'}\n",
      "CQW49_06015 {'mtw00480': 'Glutathione metabolism', 'mtw00590': 'Arachidonic acid metabolism', 'mtw01100': 'Metabolic pathways'}\n",
      "CQW49_06060 {'mtw00480': 'Glutathione metabolism', 'mtw01100': 'Metabolic pathways'}\n",
      "CQW49_06065 {'mtw02010': 'ABC transporters'}\n",
      "CQW49_06090 {'mtw02010': 'ABC transporters'}\n",
      "CQW49_06095 {'mtw02010': 'ABC transporters'}\n",
      "CQW49_06120 {'mtw02020': 'Two-component system'}\n",
      "CQW49_06150 {'mtw00261': 'Monobactam biosynthesis', 'mtw01100': 'Metabolic pathways', 'mtw01110': 'Biosynthesis of secondary metabolites', 'mtw01130': 'Biosynthesis of antibiotics'}\n",
      "CQW49_06175 {'mtw00670': 'One carbon pool by folate', 'mtw01100': 'Metabolic pathways'}\n",
      "CQW49_06290 {'mtw00860': 'Porphyrin and chlorophyll metabolism', 'mtw01100': 'Metabolic pathways', 'mtw01110': 'Biosynthesis of secondary metabolites'}\n",
      "CQW49_06295 {'mtw02020': 'Two-component system', 'mtw02030': 'Bacterial chemotaxis'}\n",
      "CQW49_06315 {'mtw03010': 'Ribosome'}\n",
      "CQW49_06650 {'mtw00250': 'Alanine, aspartate and glutamate metabolism', 'mtw01100': 'Metabolic pathways', 'mtw01110': 'Biosynthesis of secondary metabolites', 'mtw01230': 'Biosynthesis of amino acids'}\n",
      "CQW49_06695 {'mtw00330': 'Arginine and proline metabolism', 'mtw00480': 'Glutathione metabolism', 'mtw01100': 'Metabolic pathways', 'mtw01110': 'Biosynthesis of secondary metabolites', 'mtw01130': 'Biosynthesis of antibiotics'}\n",
      "CQW49_06715 {'mtw00220': 'Arginine biosynthesis', 'mtw00250': 'Alanine, aspartate and glutamate metabolism', 'mtw00471': 'D-Glutamine and D-glutamate metabolism', 'mtw00910': 'Nitrogen metabolism', 'mtw01100': 'Metabolic pathways', 'mtw01120': 'Microbial metabolism in diverse environments', 'mtw01200': 'Carbon metabolism'}\n",
      "CQW49_09295 {'mtw00900': 'Terpenoid backbone biosynthesis', 'mtw01130': 'Biosynthesis of antibiotics'}\n",
      "CQW49_09305 {'mtw00621': 'Dioxin degradation', 'mtw00624': 'Polycyclic aromatic hydrocarbon degradation', 'mtw00626': 'Naphthalene degradation', 'mtw01100': 'Metabolic pathways', 'mtw01120': 'Microbial metabolism in diverse environments', 'mtw01220': 'Degradation of aromatic compounds'}\n",
      "CQW49_09325 {'mtw02020': 'Two-component system'}\n",
      "CQW49_09330 {'mtw02020': 'Two-component system'}\n",
      "CQW49_09415 {'mtw00230': 'Purine metabolism', 'mtw01100': 'Metabolic pathways'}\n",
      "CQW49_09440 {'mtw00920': 'Sulfur metabolism', 'mtw02010': 'ABC transporters'}\n",
      "CQW49_09570 {'mtw02010': 'ABC transporters'}\n",
      "CQW49_09615 {'mtw00860': 'Porphyrin and chlorophyll metabolism', 'mtw01100': 'Metabolic pathways'}\n",
      "CQW49_09740 {'mtw02020': 'Two-component system', 'mtw02030': 'Bacterial chemotaxis'}\n",
      "CQW49_09745 {'mtw02020': 'Two-component system', 'mtw02030': 'Bacterial chemotaxis'}\n",
      "CQW49_09750 {'mtw02020': 'Two-component system', 'mtw02030': 'Bacterial chemotaxis'}\n",
      "CQW49_09755 {'mtw02020': 'Two-component system', 'mtw02030': 'Bacterial chemotaxis'}\n",
      "CQW49_09760 {'mtw02020': 'Two-component system', 'mtw02030': 'Bacterial chemotaxis'}\n",
      "CQW49_09765 {'mtw02020': 'Two-component system', 'mtw02030': 'Bacterial chemotaxis'}\n",
      "CQW49_09770 {'mtw02020': 'Two-component system', 'mtw02030': 'Bacterial chemotaxis'}\n",
      "CQW49_09775 {'mtw02020': 'Two-component system', 'mtw02030': 'Bacterial chemotaxis'}\n",
      "CQW49_09940 {'mtw00010': 'Glycolysis / Gluconeogenesis', 'mtw00030': 'Pentose phosphate pathway', 'mtw00500': 'Starch and sucrose metabolism', 'mtw00520': 'Amino sugar and nucleotide sugar metabolism', 'mtw01100': 'Metabolic pathways', 'mtw01110': 'Biosynthesis of secondary metabolites', 'mtw01120': 'Microbial metabolism in diverse environments', 'mtw01130': 'Biosynthesis of antibiotics', 'mtw01200': 'Carbon metabolism'}\n",
      "CQW49_10025 {'mtw00190': 'Oxidative phosphorylation', 'mtw01100': 'Metabolic pathways'}\n",
      "CQW49_10100 {'mtw02020': 'Two-component system'}\n",
      "CQW49_10105 {'mtw02020': 'Two-component system'}\n",
      "CQW49_10110 {'mtw02020': 'Two-component system', 'mtw02030': 'Bacterial chemotaxis'}\n",
      "CQW49_10125 {'mtw02020': 'Two-component system'}\n",
      "CQW49_10130 {'mtw00790': 'Folate biosynthesis', 'mtw01100': 'Metabolic pathways'}\n",
      "CQW49_10205 {'mtw03010': 'Ribosome'}\n",
      "CQW49_10250 {'mtw00680': 'Methane metabolism', 'mtw00910': 'Nitrogen metabolism', 'mtw01100': 'Metabolic pathways', 'mtw01120': 'Microbial metabolism in diverse environments', 'mtw01200': 'Carbon metabolism'}\n",
      "CQW49_10255 {'mtw00680': 'Methane metabolism', 'mtw00910': 'Nitrogen metabolism', 'mtw01100': 'Metabolic pathways', 'mtw01120': 'Microbial metabolism in diverse environments', 'mtw01200': 'Carbon metabolism'}\n",
      "CQW49_10260 {'mtw00680': 'Methane metabolism', 'mtw00910': 'Nitrogen metabolism', 'mtw01100': 'Metabolic pathways', 'mtw01120': 'Microbial metabolism in diverse environments', 'mtw01200': 'Carbon metabolism'}\n",
      "CQW49_10275 {'mtw00790': 'Folate biosynthesis', 'mtw01100': 'Metabolic pathways'}\n",
      "CQW49_10360 {'mtw01501': 'beta-Lactam resistance', 'mtw01503': 'Cationic antimicrobial peptide (CAMP) resistance', 'mtw02020': 'Two-component system', 'mtw03070': 'Bacterial secretion system'}\n",
      "CQW49_10375 {'mtw00740': 'Riboflavin metabolism', 'mtw01100': 'Metabolic pathways', 'mtw02020': 'Two-component system'}\n",
      "CQW49_10395 {'mtw02024': 'Quorum sensing', 'mtw03060': 'Protein export', 'mtw03070': 'Bacterial secretion system'}\n",
      "CQW49_10400 {'mtw03010': 'Ribosome'}\n",
      "CQW49_10405 {'mtw03010': 'Ribosome'}\n",
      "CQW49_10410 {'mtw03010': 'Ribosome'}\n",
      "CQW49_10415 {'mtw03010': 'Ribosome'}\n",
      "CQW49_10420 {'mtw03010': 'Ribosome'}\n",
      "CQW49_10425 {'mtw03010': 'Ribosome'}\n",
      "CQW49_10430 {'mtw03010': 'Ribosome'}\n",
      "CQW49_10435 {'mtw03010': 'Ribosome'}\n",
      "CQW49_10440 {'mtw03010': 'Ribosome'}\n",
      "CQW49_10445 {'mtw03010': 'Ribosome'}\n",
      "CQW49_10450 {'mtw03010': 'Ribosome'}\n",
      "CQW49_10455 {'mtw03010': 'Ribosome'}\n",
      "CQW49_10460 {'mtw03010': 'Ribosome'}\n",
      "CQW49_10465 {'mtw03010': 'Ribosome'}\n",
      "CQW49_10470 {'mtw03010': 'Ribosome'}\n",
      "CQW49_10475 {'mtw03010': 'Ribosome'}\n",
      "CQW49_10480 {'mtw03010': 'Ribosome'}\n",
      "CQW49_10485 {'mtw03010': 'Ribosome'}\n",
      "CQW49_10490 {'mtw03010': 'Ribosome'}\n",
      "CQW49_10495 {'mtw03010': 'Ribosome'}\n",
      "CQW49_10500 {'mtw03010': 'Ribosome'}\n",
      "CQW49_10515 {'mtw03010': 'Ribosome'}\n",
      "CQW49_10520 {'mtw03010': 'Ribosome'}\n",
      "CQW49_10640 {'mtw03010': 'Ribosome'}\n",
      "CQW49_10685 {'mtw02010': 'ABC transporters'}\n",
      "CQW49_10700 {'mtw03010': 'Ribosome'}\n",
      "CQW49_10755 {'mtw00920': 'Sulfur metabolism'}\n",
      "CQW49_10795 {'mtw02020': 'Two-component system'}\n",
      "CQW49_10805 {'mtw00020': 'Citrate cycle (TCA cycle)', 'mtw00190': 'Oxidative phosphorylation', 'mtw00650': 'Butanoate metabolism', 'mtw01100': 'Metabolic pathways', 'mtw01110': 'Biosynthesis of secondary metabolites', 'mtw01120': 'Microbial metabolism in diverse environments', 'mtw01130': 'Biosynthesis of antibiotics', 'mtw01200': 'Carbon metabolism'}\n",
      "CQW49_10875 {'mtw00910': 'Nitrogen metabolism', 'mtw01100': 'Metabolic pathways'}\n",
      "CQW49_10980 {'mtw00360': 'Phenylalanine metabolism', 'mtw01100': 'Metabolic pathways'}\n",
      "CQW49_11110 {'mtw03440': 'Homologous recombination'}\n",
      "CQW49_11200 {'mtw00550': 'Peptidoglycan biosynthesis', 'mtw01501': 'beta-Lactam resistance'}\n",
      "CQW49_11445 {'mtw00270': 'Cysteine and methionine metabolism', 'mtw00920': 'Sulfur metabolism', 'mtw01100': 'Metabolic pathways', 'mtw01110': 'Biosynthesis of secondary metabolites', 'mtw01120': 'Microbial metabolism in diverse environments', 'mtw01200': 'Carbon metabolism', 'mtw01230': 'Biosynthesis of amino acids'}\n",
      "CQW49_11620 {'mtw00190': 'Oxidative phosphorylation', 'mtw02020': 'Two-component system'}\n",
      "CQW49_14080 {'mtw03070': 'Bacterial secretion system'}\n",
      "CQW49_14090 {'mtw02024': 'Quorum sensing'}\n",
      "CQW49_14095 {'mtw02024': 'Quorum sensing'}\n",
      "CQW49_14100 {'mtw02024': 'Quorum sensing'}\n",
      "CQW49_14105 {'mtw02024': 'Quorum sensing'}\n",
      "CQW49_14110 {'mtw02024': 'Quorum sensing'}\n",
      "CQW49_14120 {'mtw02024': 'Quorum sensing'}\n",
      "CQW49_14125 {'mtw02024': 'Quorum sensing'}\n"
     ]
    },
    {
     "name": "stdout",
     "output_type": "stream",
     "text": [
      "CQW49_14130 {'mtw02024': 'Quorum sensing'}\n",
      "CQW49_14135 {'mtw02024': 'Quorum sensing'}\n",
      "CQW49_14310 {'mtw00520': 'Amino sugar and nucleotide sugar metabolism', 'mtw01100': 'Metabolic pathways'}\n",
      "CQW49_14315 {'mtw00520': 'Amino sugar and nucleotide sugar metabolism', 'mtw01100': 'Metabolic pathways'}\n",
      "CQW49_14320 {'mtw03010': 'Ribosome'}\n",
      "CQW49_14405 {'mtw00920': 'Sulfur metabolism', 'mtw01100': 'Metabolic pathways', 'mtw01120': 'Microbial metabolism in diverse environments'}\n",
      "CQW49_14430 {'mtw00680': 'Methane metabolism', 'mtw01120': 'Microbial metabolism in diverse environments'}\n",
      "CQW49_14435 {'mtw00680': 'Methane metabolism', 'mtw01120': 'Microbial metabolism in diverse environments'}\n",
      "CQW49_14460 {'mtw00680': 'Methane metabolism', 'mtw01120': 'Microbial metabolism in diverse environments'}\n",
      "CQW49_14465 {'mtw00680': 'Methane metabolism', 'mtw01120': 'Microbial metabolism in diverse environments'}\n",
      "CQW49_14470 {'mtw00680': 'Methane metabolism', 'mtw01120': 'Microbial metabolism in diverse environments'}\n",
      "CQW49_14475 {'mtw00680': 'Methane metabolism', 'mtw01120': 'Microbial metabolism in diverse environments'}\n",
      "CQW49_14480 {'mtw00680': 'Methane metabolism', 'mtw01120': 'Microbial metabolism in diverse environments'}\n",
      "CQW49_14495 {'mtw02020': 'Two-component system'}\n",
      "CQW49_14625 {'mtw02024': 'Quorum sensing'}\n",
      "CQW49_14630 {'mtw02024': 'Quorum sensing'}\n",
      "CQW49_14635 {'mtw02024': 'Quorum sensing'}\n",
      "CQW49_14640 {'mtw02024': 'Quorum sensing'}\n",
      "CQW49_14840 {'mtw02020': 'Two-component system'}\n",
      "CQW49_14845 {'mtw02020': 'Two-component system'}\n",
      "CQW49_14880 {'mtw02020': 'Two-component system', 'mtw02024': 'Quorum sensing'}\n",
      "CQW49_14930 {'mtw02024': 'Quorum sensing'}\n",
      "CQW49_14935 {'mtw02024': 'Quorum sensing'}\n",
      "CQW49_14940 {'mtw02024': 'Quorum sensing'}\n",
      "CQW49_14945 {'mtw02024': 'Quorum sensing'}\n",
      "CQW49_14955 {'mtw02024': 'Quorum sensing'}\n",
      "CQW49_14960 {'mtw02024': 'Quorum sensing'}\n",
      "CQW49_14965 {'mtw02024': 'Quorum sensing'}\n",
      "CQW49_14970 {'mtw02024': 'Quorum sensing'}\n",
      "CQW49_14975 {'mtw02024': 'Quorum sensing'}\n",
      "CQW49_14985 {'mtw00910': 'Nitrogen metabolism', 'mtw01100': 'Metabolic pathways'}\n",
      "CQW49_15010 {'mtw03070': 'Bacterial secretion system'}\n",
      "CQW49_15360 {'mtw00051': 'Fructose and mannose metabolism', 'mtw00500': 'Starch and sucrose metabolism', 'mtw00520': 'Amino sugar and nucleotide sugar metabolism', 'mtw01100': 'Metabolic pathways', 'mtw01110': 'Biosynthesis of secondary metabolites'}\n",
      "CQW49_15440 {'mtw02010': 'ABC transporters'}\n",
      "CQW49_15465 {'mtw00310': 'Lysine degradation', 'mtw01100': 'Metabolic pathways'}\n",
      "CQW49_15505 {'mtw00785': 'Lipoic acid metabolism', 'mtw01100': 'Metabolic pathways'}\n",
      "CQW49_15595 {'mtw00790': 'Folate biosynthesis', 'mtw01100': 'Metabolic pathways'}\n",
      "CQW49_15620 {'mtw02024': 'Quorum sensing'}\n",
      "CQW49_15645 {'mtw02020': 'Two-component system', 'mtw02030': 'Bacterial chemotaxis'}\n",
      "CQW49_15665 {'mtw03010': 'Ribosome'}\n",
      "CQW49_15715 {'mtw00061': 'Fatty acid biosynthesis', 'mtw01100': 'Metabolic pathways', 'mtw01212': 'Fatty acid metabolism'}\n",
      "CQW49_15925 {'mtw02020': 'Two-component system'}\n",
      "CQW49_15955 {'mtw02020': 'Two-component system'}\n",
      "CQW49_16015 {'mtw00860': 'Porphyrin and chlorophyll metabolism'}\n",
      "CQW49_16115 {'mtw00010': 'Glycolysis / Gluconeogenesis', 'mtw00030': 'Pentose phosphate pathway', 'mtw00051': 'Fructose and mannose metabolism', 'mtw00052': 'Galactose metabolism', 'mtw00680': 'Methane metabolism', 'mtw01100': 'Metabolic pathways', 'mtw01110': 'Biosynthesis of secondary metabolites', 'mtw01120': 'Microbial metabolism in diverse environments', 'mtw01130': 'Biosynthesis of antibiotics'}\n",
      "CQW49_16120 {'mtw02024': 'Quorum sensing', 'mtw03060': 'Protein export', 'mtw03070': 'Bacterial secretion system'}\n",
      "CQW49_16125 {'mtw00630': 'Glyoxylate and dicarboxylate metabolism', 'mtw00680': 'Methane metabolism', 'mtw01100': 'Metabolic pathways', 'mtw01120': 'Microbial metabolism in diverse environments', 'mtw01200': 'Carbon metabolism'}\n",
      "CQW49_18250 {'mtw00250': 'Alanine, aspartate and glutamate metabolism', 'mtw01100': 'Metabolic pathways', 'mtw01110': 'Biosynthesis of secondary metabolites', 'mtw01230': 'Biosynthesis of amino acids'}\n",
      "CQW49_18255 {'mtw00220': 'Arginine biosynthesis', 'mtw00300': 'Lysine biosynthesis', 'mtw01100': 'Metabolic pathways', 'mtw01110': 'Biosynthesis of secondary metabolites', 'mtw01120': 'Microbial metabolism in diverse environments', 'mtw01130': 'Biosynthesis of antibiotics', 'mtw01210': '2-Oxocarboxylic acid metabolism', 'mtw01230': 'Biosynthesis of amino acids'}\n",
      "CQW49_18340 {'mtw00051': 'Fructose and mannose metabolism', 'mtw00053': 'Ascorbate and aldarate metabolism', 'mtw01100': 'Metabolic pathways', 'mtw01110': 'Biosynthesis of secondary metabolites', 'mtw01120': 'Microbial metabolism in diverse environments'}\n",
      "CQW49_18380 {'mtw00010': 'Glycolysis / Gluconeogenesis', 'mtw00230': 'Purine metabolism', 'mtw00620': 'Pyruvate metabolism', 'mtw01100': 'Metabolic pathways', 'mtw01110': 'Biosynthesis of secondary metabolites', 'mtw01120': 'Microbial metabolism in diverse environments', 'mtw01130': 'Biosynthesis of antibiotics', 'mtw01200': 'Carbon metabolism', 'mtw01230': 'Biosynthesis of amino acids'}\n",
      "CQW49_18435 {'mtw00240': 'Pyrimidine metabolism', 'mtw00670': 'One carbon pool by folate', 'mtw01100': 'Metabolic pathways'}\n",
      "CQW49_18445 {'mtw03410': 'Base excision repair'}\n",
      "CQW49_18460 {'mtw02020': 'Two-component system', 'mtw02030': 'Bacterial chemotaxis'}\n",
      "CQW49_18575 {'mtw01100': 'Metabolic pathways', 'mtw01110': 'Biosynthesis of secondary metabolites'}\n",
      "CQW49_18635 {'mtw02020': 'Two-component system', 'mtw02040': 'Flagellar assembly'}\n",
      "CQW49_18640 {'mtw02040': 'Flagellar assembly'}\n",
      "CQW49_18650 {'mtw02030': 'Bacterial chemotaxis', 'mtw02040': 'Flagellar assembly'}\n",
      "CQW49_18710 {'mtw02040': 'Flagellar assembly'}\n",
      "CQW49_18715 {'mtw02040': 'Flagellar assembly'}\n",
      "CQW49_18720 {'mtw02020': 'Two-component system', 'mtw02030': 'Bacterial chemotaxis', 'mtw02040': 'Flagellar assembly'}\n",
      "CQW49_18730 {'mtw02030': 'Bacterial chemotaxis', 'mtw02040': 'Flagellar assembly'}\n",
      "CQW49_18735 {'mtw02030': 'Bacterial chemotaxis', 'mtw02040': 'Flagellar assembly'}\n",
      "CQW49_18740 None\n",
      "CQW49_18745 None\n",
      "CQW49_18750 None\n",
      "CQW49_18755 None\n",
      "CQW49_18760 None\n",
      "CQW49_18765 None\n",
      "CQW49_18770 None\n",
      "CQW49_18780 None\n",
      "CQW49_18830 {'mtw00640': 'Propanoate metabolism', 'mtw01100': 'Metabolic pathways'}\n",
      "CQW49_18935 {'mtw02024': 'Quorum sensing', 'mtw03060': 'Protein export', 'mtw03070': 'Bacterial secretion system'}\n",
      "CQW49_19005 {'mtw03018': 'RNA degradation'}\n",
      "CQW49_19085 {'mtw01120': 'Microbial metabolism in diverse environments', 'mtw02020': 'Two-component system'}\n",
      "CQW49_19090 {'mtw01120': 'Microbial metabolism in diverse environments', 'mtw02020': 'Two-component system'}\n",
      "CQW49_19195 {'mtw02020': 'Two-component system'}\n",
      "CQW49_19210 {'mtw00680': 'Methane metabolism', 'mtw00910': 'Nitrogen metabolism', 'mtw01100': 'Metabolic pathways', 'mtw01120': 'Microbial metabolism in diverse environments', 'mtw01200': 'Carbon metabolism'}\n",
      "CQW49_19390 {'mtw02020': 'Two-component system', 'mtw02030': 'Bacterial chemotaxis'}\n",
      "CQW49_19400 {'mtw02020': 'Two-component system'}\n",
      "CQW49_19415 {'mtw02020': 'Two-component system'}\n",
      "CQW49_19420 {'mtw02020': 'Two-component system'}\n",
      "CQW49_19440 {'mtw01503': 'Cationic antimicrobial peptide (CAMP) resistance', 'mtw02020': 'Two-component system'}\n",
      "CQW49_19460 {'mtw00480': 'Glutathione metabolism', 'mtw01100': 'Metabolic pathways'}\n",
      "CQW49_19530 {'mtw00550': 'Peptidoglycan biosynthesis', 'mtw01100': 'Metabolic pathways', 'mtw01501': 'beta-Lactam resistance'}\n",
      "CQW49_19545 {'mtw03030': 'DNA replication', 'mtw03430': 'Mismatch repair', 'mtw03440': 'Homologous recombination'}\n",
      "CQW49_19585 {'mtw02010': 'ABC transporters'}\n",
      "CQW49_19605 {'mtw02020': 'Two-component system', 'mtw02030': 'Bacterial chemotaxis'}\n",
      "CQW49_19625 {'mtw02030': 'Bacterial chemotaxis'}\n",
      "CQW49_19630 {'mtw02020': 'Two-component system', 'mtw02030': 'Bacterial chemotaxis'}\n",
      "CQW49_19635 {'mtw02020': 'Two-component system', 'mtw02030': 'Bacterial chemotaxis'}\n",
      "CQW49_19640 {'mtw02020': 'Two-component system', 'mtw02030': 'Bacterial chemotaxis'}\n",
      "CQW49_19650 {'mtw02020': 'Two-component system', 'mtw02030': 'Bacterial chemotaxis'}\n",
      "CQW49_19655 {'mtw02030': 'Bacterial chemotaxis'}\n",
      "CQW49_19660 {'mtw02020': 'Two-component system', 'mtw02030': 'Bacterial chemotaxis'}\n",
      "CQW49_19665 {'mtw02020': 'Two-component system', 'mtw02030': 'Bacterial chemotaxis'}\n",
      "CQW49_19680 {'mtw02040': 'Flagellar assembly'}\n",
      "CQW49_19685 {'mtw02040': 'Flagellar assembly'}\n",
      "CQW49_19690 {'mtw02040': 'Flagellar assembly'}\n",
      "CQW49_19705 {'mtw02040': 'Flagellar assembly'}\n",
      "CQW49_19720 {'mtw02040': 'Flagellar assembly'}\n",
      "CQW49_19755 {'mtw02040': 'Flagellar assembly'}\n",
      "CQW49_19765 {'mtw02040': 'Flagellar assembly'}\n",
      "CQW49_19770 {'mtw02020': 'Two-component system', 'mtw02040': 'Flagellar assembly'}\n",
      "CQW49_19790 {'mtw03018': 'RNA degradation'}\n",
      "CQW49_19860 {'mtw01501': 'beta-Lactam resistance', 'mtw01503': 'Cationic antimicrobial peptide (CAMP) resistance', 'mtw02020': 'Two-component system', 'mtw03070': 'Bacterial secretion system'}\n",
      "CQW49_19905 {'mtw02010': 'ABC transporters'}\n",
      "CQW49_19915 {'mtw02010': 'ABC transporters'}\n",
      "CQW49_19995 {'mtw03440': 'Homologous recombination'}\n",
      "CQW49_20020 {'mtw00630': 'Glyoxylate and dicarboxylate metabolism', 'mtw01100': 'Metabolic pathways'}\n",
      "CQW49_20025 {'mtw03010': 'Ribosome'}\n",
      "CQW49_20030 {'mtw03010': 'Ribosome'}\n",
      "CQW49_20050 {'mtw00190': 'Oxidative phosphorylation', 'mtw00860': 'Porphyrin and chlorophyll metabolism', 'mtw01100': 'Metabolic pathways', 'mtw01110': 'Biosynthesis of secondary metabolites', 'mtw02020': 'Two-component system'}\n",
      "CQW49_20410 None\n",
      "CQW49_20505 None\n",
      "CQW49_20510 None\n",
      "CQW49_20515 None\n",
      "CQW49_23115 None\n",
      "CQW49_23395 None\n",
      "CQW49_23400 None\n",
      "CQW49_23405 None\n",
      "CQW49_23415 None\n",
      "CQW49_23485 None\n",
      "CQW49_23740 None\n",
      "CQW49_23910 None\n",
      "CQW49_23915 None\n",
      "CQW49_23995 None\n"
     ]
    }
   ],
   "source": [
    "for locus_tag in OB3b_locus_tags_and_their_description:\n",
    "    print(locus_tag, k.get_pathway_by_gene(locus_tag, \"mtw\"))"
   ]
  },
  {
   "cell_type": "code",
   "execution_count": 24,
   "metadata": {
    "ExecuteTime": {
     "end_time": "2020-01-14T02:42:16.153675Z",
     "start_time": "2020-01-14T02:42:16.133516Z"
    }
   },
   "outputs": [
    {
     "data": {
      "text/plain": [
       "{'CQW49_00005': 'chromosomal replication initiator protein DnaA',\n",
       " 'CQW49_00130': 'sugar transporter',\n",
       " 'CQW49_00190': 'amino acid ABC transporter substrate-bindnig protein',\n",
       " 'CQW49_00200': '30S ribosomal protein S21',\n",
       " 'CQW49_00370': 'prepilin-type cleavage/methylation domain-containing protein',\n",
       " 'CQW49_00375': 'type II secretion system protein',\n",
       " 'CQW49_00380': 'type II secretion system protein GspH',\n",
       " 'CQW49_00385': 'type II secretion system F family protein',\n",
       " 'CQW49_00390': 'secretion system protein E',\n",
       " 'CQW49_00400': 'fimbrial assembly protein',\n",
       " 'CQW49_00415': 'type II secretion system protein GspD',\n",
       " 'CQW49_00420': 'general secretion pathway protein GspK',\n",
       " 'CQW49_00425': 'type II secretion system protein GspG',\n",
       " 'CQW49_00500': 'uracil-DNA glycosylase',\n",
       " 'CQW49_00515': 'F0F1 ATP synthase subunit beta',\n",
       " 'CQW49_00520': 'F0F1 ATP synthase subunit epsilon',\n",
       " 'CQW49_00535': 'ATP synthase F0 subunit A',\n",
       " 'CQW49_00540': 'ATP synthase F0 subunit C',\n",
       " 'CQW49_00545': 'F0F1 ATP synthase subunit B',\n",
       " 'CQW49_00550': 'F0F1 ATP synthase subunit alpha',\n",
       " 'CQW49_00555': 'H(+)-transporting ATPase',\n",
       " 'CQW49_00610': 'exodeoxyribonuclease VII large subunit',\n",
       " 'CQW49_00660': 'recombination protein RecR',\n",
       " 'CQW49_00670': 'DNA polymerase III subunit gamma/tau',\n",
       " 'CQW49_00695': 'glutathione S-transferase family protein',\n",
       " 'CQW49_00740': 'nucleotide sugar dehydrogenase',\n",
       " 'CQW49_00750': 'glycosyl transferase family 1',\n",
       " 'CQW49_00780': 'UDP-N-acetylglucosamine 2-epimerase (non-hydrolyzing)',\n",
       " 'CQW49_00820': 'capsular biosynthesis protein',\n",
       " 'CQW49_00825': 'sugar transporter',\n",
       " 'CQW49_00915': 'molybdenum cofactor guanylyltransferase MobA',\n",
       " 'CQW49_00940': '50S ribosomal protein L31',\n",
       " 'CQW49_00945': 'response regulator',\n",
       " 'CQW49_00955': 'histidinol-phosphatase',\n",
       " 'CQW49_00980': '3-deoxy-7-phosphoheptulonate synthase',\n",
       " 'CQW49_01035': 'phosphoenolpyruvate--protein phosphotransferase',\n",
       " 'CQW49_01055': 'NAD-dependent DNA ligase LigA',\n",
       " 'CQW49_01105': 'chorismate mutase',\n",
       " 'CQW49_01170': '2-dehydropantoate 2-reductase',\n",
       " 'CQW49_01215': 'methane monooxygenase/ammonia monooxygenase subunit C',\n",
       " 'CQW49_01220': 'methane monooxygenase/ammonia monooxygenase subunit A',\n",
       " 'CQW49_01225': 'methane monooxygenase/ammonia monooxygenase subunit B',\n",
       " 'CQW49_01295': 'exodeoxyribonuclease III',\n",
       " 'CQW49_01305': 'single-stranded-DNA-specific exonuclease RecJ',\n",
       " 'CQW49_01315': 'D-alanyl-D-alanine carboxypeptidase',\n",
       " 'CQW49_01325': \"DNA polymerase III subunit delta'\",\n",
       " 'CQW49_01360': 'nucleoside-diphosphate kinase',\n",
       " 'CQW49_01395': 'cysteine desulfurase',\n",
       " 'CQW49_01465': 'PAS domain-containing sensor histidine kinase',\n",
       " 'CQW49_01525': 'peptidase M15',\n",
       " 'CQW49_01530': 'ATP-dependent DNA helicase RecG',\n",
       " 'CQW49_01605': 'MBL fold metallo-hydrolase',\n",
       " 'CQW49_01630': 'RNA chaperone Hfq',\n",
       " 'CQW49_01685': 'CinA family protein',\n",
       " 'CQW49_01705': 'lipoyl synthase',\n",
       " 'CQW49_01710': 'DNA polymerase III subunit alpha',\n",
       " 'CQW49_01780': 'efflux RND transporter periplasmic adaptor subunit',\n",
       " 'CQW49_01785': 'acriflavine resistance protein B',\n",
       " 'CQW49_01790': 'acriflavine resistance protein B',\n",
       " 'CQW49_01860': 'ferredoxin',\n",
       " 'CQW49_01865': 'oxidoreductase',\n",
       " 'CQW49_01965': 'cell division ATP-binding protein FtsE',\n",
       " 'CQW49_01970': 'ABC transporter permease',\n",
       " 'CQW49_01990': 'arylesterase',\n",
       " 'CQW49_02300': 'ribonuclease R',\n",
       " 'CQW49_02390': 'sigma-70 family RNA polymerase sigma factor',\n",
       " 'CQW49_02400': 'gamma-glutamyltransferase',\n",
       " 'CQW49_04375': 'response regulator',\n",
       " 'CQW49_04380': 'PleD family two-component system response regulator',\n",
       " 'CQW49_04395': 'glutathione S-transferase',\n",
       " 'CQW49_04465': 'penicillin acylase family protein',\n",
       " 'CQW49_04470': 'cyclic peptide transporter',\n",
       " 'CQW49_04580': '50S ribosomal protein L33',\n",
       " 'CQW49_04600': 'DNA replication and repair protein RecF',\n",
       " 'CQW49_04610': 'single-stranded DNA-binding protein',\n",
       " 'CQW49_04680': 'sugar transporter',\n",
       " 'CQW49_04705': 'ATP-dependent helicase',\n",
       " 'CQW49_04765': 'DNA primase',\n",
       " 'CQW49_04785': 'phospholipase C, phosphocholine-specific',\n",
       " 'CQW49_04800': 'A/G-specific adenine glycosylase',\n",
       " 'CQW49_04965': 'short chain dehydrogenase',\n",
       " 'CQW49_05040': 'LPS export ABC transporter permease LptG',\n",
       " 'CQW49_05060': 'leucyl aminopeptidase',\n",
       " 'CQW49_05095': 'phosphoenolpyruvate carboxylase',\n",
       " 'CQW49_05105': 'RNA polymerase subunit sigma-24',\n",
       " 'CQW49_05110': 'iron dicitrate transport regulator FecR',\n",
       " 'CQW49_05130': \"primosomal protein N'\",\n",
       " 'CQW49_05275': 'ribonuclease J',\n",
       " 'CQW49_05280': 'biotin',\n",
       " 'CQW49_05435': 'molybdate ABC transporter substrate-binding protein',\n",
       " 'CQW49_05560': 'glutathione S-transferase',\n",
       " 'CQW49_05605': 'RNA polymerase sigma factor',\n",
       " 'CQW49_05610': 'iron dicitrate transport regulator FecR',\n",
       " 'CQW49_05635': 'FAA hydrolase family protein',\n",
       " 'CQW49_05640': 'homogentisate 1,2-dioxygenase',\n",
       " 'CQW49_05645': '4-hydroxyphenylpyruvate dioxygenase',\n",
       " 'CQW49_05670': 'adenylate/guanylate cyclase domain-containing protein',\n",
       " 'CQW49_05720': 'chemotaxis protein CheR',\n",
       " 'CQW49_05885': 'iron dicitrate transport regulator FecR',\n",
       " 'CQW49_05940': 'chemotaxis protein CheR',\n",
       " 'CQW49_06015': 'glutathione peroxidase',\n",
       " 'CQW49_06060': 'leucyl aminopeptidase',\n",
       " 'CQW49_06065': 'dipeptide ABC transporter ATP-binding protein',\n",
       " 'CQW49_06090': 'ABC transporter permease',\n",
       " 'CQW49_06095': 'microcin C ABC transporter permease YejB',\n",
       " 'CQW49_06120': 'sensor histidine kinase',\n",
       " 'CQW49_06150': 'MbtH family protein',\n",
       " 'CQW49_06175': '5-formyltetrahydrofolate cyclo-ligase',\n",
       " 'CQW49_06290': 'oxygen-independent coproporphyrinogen III oxidase',\n",
       " 'CQW49_06295': 'methyl-accepting chemotaxis protein',\n",
       " 'CQW49_06315': '50S ribosomal protein L36',\n",
       " 'CQW49_06650': 'asparagine synthase',\n",
       " 'CQW49_06695': 'type III PLP-dependent enzyme',\n",
       " 'CQW49_06715': 'Glu/Leu/Phe/Val dehydrogenase',\n",
       " 'CQW49_09295': 'peptidase M48',\n",
       " 'CQW49_09305': 'salicylate 1-monooxygenase',\n",
       " 'CQW49_09325': 'DNA-binding response regulator',\n",
       " 'CQW49_09330': 'PAS domain-containing sensor histidine kinase',\n",
       " 'CQW49_09415': 'deoxyguanosinetriphosphate triphosphohydrolase',\n",
       " 'CQW49_09440': 'sulfate ABC transporter substrate-binding protein',\n",
       " 'CQW49_09570': 'MacB family efflux pump subunit',\n",
       " 'CQW49_09615': 'precorrin methylase',\n",
       " 'CQW49_09740': 'chemotaxis response regulator protein-glutamate methylesterase',\n",
       " 'CQW49_09745': 'chemotaxis protein CheR',\n",
       " 'CQW49_09750': 'chemotaxis protein CheW',\n",
       " 'CQW49_09755': 'methyl-accepting chemotaxis protein',\n",
       " 'CQW49_09760': 'methyl-accepting chemotaxis protein',\n",
       " 'CQW49_09765': 'chemotaxis protein CheW',\n",
       " 'CQW49_09770': 'chemotaxis protein CheA',\n",
       " 'CQW49_09775': 'response regulator',\n",
       " 'CQW49_09940': 'glucose-6-phosphate isomerase',\n",
       " 'CQW49_10025': 'cytochrome c oxidase assembly protein',\n",
       " 'CQW49_10100': 'DNA-binding response regulator',\n",
       " 'CQW49_10105': 'PAS domain-containing sensor histidine kinase',\n",
       " 'CQW49_10110': 'globin-coupled sensor protein',\n",
       " 'CQW49_10125': 'sensor histidine kinase KdpD',\n",
       " 'CQW49_10130': '7-cyano-7-deazaguanine synthase QueC',\n",
       " 'CQW49_10205': '50S ribosomal protein L28',\n",
       " 'CQW49_10250': 'methane monooxygenase/ammonia monooxygenase subunit B',\n",
       " 'CQW49_10255': 'methane monooxygenase/ammonia monooxygenase subunit A',\n",
       " 'CQW49_10260': 'methane monooxygenase/ammonia monooxygenase subunit C',\n",
       " 'CQW49_10275': '4a-hydroxytetrahydrobiopterin dehydratase',\n",
       " 'CQW49_10360': 'channel protein TolC',\n",
       " 'CQW49_10375': 'phosphatase PAP2 family protein',\n",
       " 'CQW49_10395': 'preprotein translocase subunit SecY',\n",
       " 'CQW49_10400': '50S ribosomal protein L15',\n",
       " 'CQW49_10405': '50S ribosomal protein L30',\n",
       " 'CQW49_10410': '30S ribosomal protein S5',\n",
       " 'CQW49_10415': '50S ribosomal protein L18',\n",
       " 'CQW49_10420': '50S ribosomal protein L6',\n",
       " 'CQW49_10425': '30S ribosomal protein S8',\n",
       " 'CQW49_10430': '30S ribosomal protein S14',\n",
       " 'CQW49_10435': '50S ribosomal protein L5',\n",
       " 'CQW49_10440': '50S ribosomal protein L24',\n",
       " 'CQW49_10445': '50S ribosomal protein L14',\n",
       " 'CQW49_10450': '30S ribosomal protein S17',\n",
       " 'CQW49_10455': '50S ribosomal protein L29',\n",
       " 'CQW49_10460': '50S ribosomal protein L16',\n",
       " 'CQW49_10465': '30S ribosomal protein S3',\n",
       " 'CQW49_10470': '50S ribosomal protein L22',\n",
       " 'CQW49_10475': '30S ribosomal protein S19',\n",
       " 'CQW49_10480': '50S ribosomal protein L2',\n",
       " 'CQW49_10485': '50S ribosomal protein L23',\n",
       " 'CQW49_10490': '50S ribosomal protein L4',\n",
       " 'CQW49_10495': '50S ribosomal protein L3',\n",
       " 'CQW49_10500': '30S ribosomal protein S10',\n",
       " 'CQW49_10515': '30S ribosomal protein S7',\n",
       " 'CQW49_10520': '30S ribosomal protein S12',\n",
       " 'CQW49_10640': '50S ribosomal protein L19',\n",
       " 'CQW49_10685': 'ABC transporter',\n",
       " 'CQW49_10700': '50S ribosomal protein L32',\n",
       " 'CQW49_10755': 'TIGR01244 family phosphatase',\n",
       " 'CQW49_10795': 'DNA-binding response regulator',\n",
       " 'CQW49_10805': 'succinate dehydrogenase, hydrophobic membrane anchor protein',\n",
       " 'CQW49_10875': 'carbonate dehydratase',\n",
       " 'CQW49_10980': 'FAD-binding oxidoreductase',\n",
       " 'CQW49_11110': 'recombinase RecA',\n",
       " 'CQW49_11200': 'penicillin-binding protein 2',\n",
       " 'CQW49_11445': 'serine acetyltransferase',\n",
       " 'CQW49_11620': 'cytochrome bd-I oxidase subunit CydX',\n",
       " 'CQW49_14080': 'conjugal transfer protein TraG',\n",
       " 'CQW49_14090': 'P-type conjugative transfer ATPase TrbB',\n",
       " 'CQW49_14095': 'conjugal transfer protein TrbC',\n",
       " 'CQW49_14100': 'conjugal transfer protein',\n",
       " 'CQW49_14105': 'conjugal transfer protein TrbE',\n",
       " 'CQW49_14110': 'P-type conjugative transfer protein TrbJ',\n",
       " 'CQW49_14120': 'P-type conjugative transfer protein TrbL',\n",
       " 'CQW49_14125': 'conjugal transfer protein TrbF',\n",
       " 'CQW49_14130': 'P-type conjugative transfer protein TrbG',\n",
       " 'CQW49_14135': 'conjugal transfer protein TraI',\n",
       " 'CQW49_14310': 'bifunctional tRNA (adenosine(37)-N6)-threonylcarbamoyltransferase complex ATPase subunit type 1 TsaE/phosphotransferase',\n",
       " 'CQW49_14315': 'nucleotidyltransferase family protein',\n",
       " 'CQW49_14320': '50S ribosomal protein L25',\n",
       " 'CQW49_14405': 'quinoprotein dehydrogenase-associated SoxYZ-like carrier',\n",
       " 'CQW49_14430': 'methanol oxidation system protein MoxJ',\n",
       " 'CQW49_14435': 'cytochrome c(L), periplasmic',\n",
       " 'CQW49_14460': 'nonribosomal peptide synthetase MxaA',\n",
       " 'CQW49_14465': 'VWA domain-containing protein',\n",
       " 'CQW49_14470': 'MxaK protein',\n",
       " 'CQW49_14475': 'VWA domain-containing protein',\n",
       " 'CQW49_14480': 'SRPBCC family protein',\n",
       " 'CQW49_14495': 'ATP-binding protein',\n",
       " 'CQW49_14625': 'P-type conjugative transfer protein TrbL',\n",
       " 'CQW49_14630': 'conjugal transfer protein TrbF',\n",
       " 'CQW49_14635': 'P-type conjugative transfer protein TrbG',\n",
       " 'CQW49_14640': 'conjugal transfer protein TraI',\n",
       " 'CQW49_14840': 'CusA/CzcA family heavy metal efflux RND transporter',\n",
       " 'CQW49_14845': 'efflux RND transporter periplasmic adaptor subunit',\n",
       " 'CQW49_14880': 'DNA-binding response regulator',\n",
       " 'CQW49_14930': 'conjugal transfer protein TraI',\n",
       " 'CQW49_14935': 'P-type conjugative transfer protein TrbG',\n",
       " 'CQW49_14940': 'conjugal transfer protein TrbF',\n",
       " 'CQW49_14945': 'P-type conjugative transfer protein TrbL',\n",
       " 'CQW49_14955': 'P-type conjugative transfer protein TrbJ',\n",
       " 'CQW49_14960': 'conjugal transfer protein TrbE',\n",
       " 'CQW49_14965': 'conjugal transfer protein',\n",
       " 'CQW49_14970': 'conjugal transfer protein TrbC',\n",
       " 'CQW49_14975': 'P-type conjugative transfer ATPase TrbB',\n",
       " 'CQW49_14985': 'hydroxylamine reductase',\n",
       " 'CQW49_15010': 'conjugal transfer protein TraG',\n",
       " 'CQW49_15360': 'transcriptional regulator',\n",
       " 'CQW49_15440': 'permease',\n",
       " 'CQW49_15465': 'lysine 2,3-aminomutase',\n",
       " 'CQW49_15505': 'lipoate-protein ligase B',\n",
       " 'CQW49_15595': 'dihydroneopterin aldolase',\n",
       " 'CQW49_15620': 'Fur family transcriptional regulator',\n",
       " 'CQW49_15645': 'methyl-accepting chemotaxis protein',\n",
       " 'CQW49_15665': '30S ribosomal protein S2',\n",
       " 'CQW49_15715': 'ketoacyl-ACP synthase III',\n",
       " 'CQW49_15925': 'two-component sensor histidine kinase',\n",
       " 'CQW49_15955': 'phosphate regulon transcriptional regulatory protein PhoB',\n",
       " 'CQW49_16015': 'bacterioferritin',\n",
       " 'CQW49_16115': '6-phosphofructokinase',\n",
       " 'CQW49_16120': 'preprotein translocase subunit SecA',\n",
       " 'CQW49_16125': 'formate dehydrogenase subunit alpha',\n",
       " 'CQW49_18250': 'asparagine synthase',\n",
       " 'CQW49_18255': 'aminotransferase class III',\n",
       " 'CQW49_18340': 'aldo/keto reductase',\n",
       " 'CQW49_18380': 'pyruvate kinase',\n",
       " 'CQW49_18435': 'thymidylate synthase (FAD)',\n",
       " 'CQW49_18445': 'bifunctional DNA-formamidopyrimidine glycosylase/DNA-(apurinic or apyrimidinic site) lyase',\n",
       " 'CQW49_18460': 'methyl-accepting chemotaxis protein',\n",
       " 'CQW49_18575': 'tRNA (adenosine(37)-N6)-dimethylallyltransferase MiaA',\n",
       " 'CQW49_18635': 'flagellin',\n",
       " 'CQW49_18640': 'flagellar M-ring protein FliF',\n",
       " 'CQW49_18650': 'flagellar motor protein MotB',\n",
       " 'CQW49_18710': 'flagellum-specific ATP synthase FliI',\n",
       " 'CQW49_18715': 'flagellar biosynthesis protein FlgF',\n",
       " 'CQW49_18720': 'flagellar motor stator protein MotA',\n",
       " 'CQW49_18730': 'flagellar motor switch protein FliN',\n",
       " 'CQW49_18735': 'flagellar motor switch protein FliG',\n",
       " 'CQW49_18740': 'flagellar biosynthesis protein FlhB',\n",
       " 'CQW49_18745': 'flagellar basal body rod protein FlgB',\n",
       " 'CQW49_18750': 'flagellar basal body rod protein FlgC',\n",
       " 'CQW49_18755': 'flagellar hook-basal body protein FliE',\n",
       " 'CQW49_18760': 'flagellar basal-body rod protein FlgG',\n",
       " 'CQW49_18765': 'flagella basal body P-ring formation protein FlgA',\n",
       " 'CQW49_18770': 'flagellar biosynthesis protein FlgI',\n",
       " 'CQW49_18780': 'non-canonical purine NTP pyrophosphatase',\n",
       " 'CQW49_18830': 'oxidoreductase',\n",
       " 'CQW49_18935': 'preprotein translocase subunit SecG',\n",
       " 'CQW49_19005': 'chaperonin GroEL',\n",
       " 'CQW49_19085': 'hydrogenase expression protein HypE',\n",
       " 'CQW49_19090': 'hydrogenase',\n",
       " 'CQW49_19195': 'two-component sensor histidine kinase',\n",
       " 'CQW49_19210': 'methane monooxygenase/ammonia monooxygenase subunit C',\n",
       " 'CQW49_19390': 'methyl-accepting chemotaxis protein',\n",
       " 'CQW49_19400': '',\n",
       " 'CQW49_19415': 'sugar transporter',\n",
       " 'CQW49_19420': 'DNA-binding response regulator',\n",
       " 'CQW49_19440': 'serine peptidase',\n",
       " 'CQW49_19460': 'aminopeptidase N',\n",
       " 'CQW49_19530': 'penicillin-binding protein',\n",
       " 'CQW49_19545': 'DNA polymerase III subunit beta',\n",
       " 'CQW49_19585': 'heme transporter HemC',\n",
       " 'CQW49_19605': 'methyl-accepting chemotaxis protein',\n",
       " 'CQW49_19625': 'chemotaxis protein CheD',\n",
       " 'CQW49_19630': 'response regulator',\n",
       " 'CQW49_19635': 'chemotaxis response regulator protein-glutamate methylesterase',\n",
       " 'CQW49_19640': 'chemotaxis protein',\n",
       " 'CQW49_19650': 'response regulator',\n",
       " 'CQW49_19655': 'STAS domain-containing protein',\n",
       " 'CQW49_19660': 'chemotaxis protein CheW',\n",
       " 'CQW49_19665': 'methyl-accepting chemotaxis protein',\n",
       " 'CQW49_19680': 'flagellar hook protein FlgE',\n",
       " 'CQW49_19685': 'flagellar hook-associated protein FlgK',\n",
       " 'CQW49_19690': 'flagellar hook-associated 3 family protein',\n",
       " 'CQW49_19705': 'flagellar basal body rod modification protein',\n",
       " 'CQW49_19720': 'flagellar biosynthetic protein FliR',\n",
       " 'CQW49_19755': 'flagellar basal body L-ring protein FlgH',\n",
       " 'CQW49_19765': 'flagellar biosynthetic protein FliP',\n",
       " 'CQW49_19770': 'flagellin',\n",
       " 'CQW49_19790': 'RNA pyrophosphohydrolase',\n",
       " 'CQW49_19860': 'channel protein TolC',\n",
       " 'CQW49_19905': 'phosphate ABC transporter permease',\n",
       " 'CQW49_19915': 'ABC transporter ATP-binding protein',\n",
       " 'CQW49_19995': 'Holliday junction branch migration DNA helicase RuvB',\n",
       " 'CQW49_20020': 'cupin',\n",
       " 'CQW49_20025': '50S ribosomal protein L13',\n",
       " 'CQW49_20030': '30S ribosomal protein S9',\n",
       " 'CQW49_20050': 'heme A synthase',\n",
       " 'CQW49_20410': 'PAS domain-containing sensor histidine kinase',\n",
       " 'CQW49_20505': 'putrescine ABC transporter permease PotI',\n",
       " 'CQW49_20510': 'putrescine ABC transporter permease',\n",
       " 'CQW49_20515': 'ABC transporter ATP-binding protein',\n",
       " 'CQW49_23115': 'glutathione transferase GstA',\n",
       " 'CQW49_23395': 'diaminobutyrate--2-oxoglutarate transaminase',\n",
       " 'CQW49_23400': 'RNA polymerase factor sigma-70',\n",
       " 'CQW49_23405': 'cyclic peptide transporter',\n",
       " 'CQW49_23415': 'iron dicitrate transport regulator FecR',\n",
       " 'CQW49_23485': 'antibiotic synthesis protein MbtH',\n",
       " 'CQW49_23740': 'beta-ketoacyl-ACP reductase',\n",
       " 'CQW49_23910': 'nicotinate phosphoribosyltransferase',\n",
       " 'CQW49_23915': 'ADP-ribose pyrophosphatase',\n",
       " 'CQW49_23995': 'nitrogenase'}"
      ]
     },
     "execution_count": 24,
     "metadata": {},
     "output_type": "execute_result"
    }
   ],
   "source": [
    "OB3b_locus_tags_and_their_description"
   ]
  },
  {
   "cell_type": "code",
   "execution_count": 142,
   "metadata": {
    "ExecuteTime": {
     "end_time": "2020-01-14T02:02:04.327173Z",
     "start_time": "2020-01-14T02:02:04.321703Z"
    }
   },
   "outputs": [
    {
     "data": {
      "text/plain": [
       "341"
      ]
     },
     "execution_count": 142,
     "metadata": {},
     "output_type": "execute_result"
    }
   ],
   "source": [
    "len(OB3b_locus_tags_and_their_description)"
   ]
  },
  {
   "cell_type": "code",
   "execution_count": 25,
   "metadata": {
    "ExecuteTime": {
     "end_time": "2020-01-14T02:42:22.393779Z",
     "start_time": "2020-01-14T02:42:21.865386Z"
    }
   },
   "outputs": [
    {
     "name": "stdout",
     "output_type": "stream",
     "text": [
      "{'mtw03440': 'Homologous recombination'}\n",
      "{'mtw00630': 'Glyoxylate and dicarboxylate metabolism', 'mtw01100': 'Metabolic pathways'}\n",
      "{'mtw02020': 'Two-component system'}\n"
     ]
    }
   ],
   "source": [
    "check_reactions = ['CQW49_19995', 'CQW49_20020', 'CQW49_23400']\n",
    "for locus_tag in check_reactions:\n",
    "    print(k.get_pathway_by_gene(locus_tag, \"mtw\"))"
   ]
  },
  {
   "cell_type": "markdown",
   "metadata": {},
   "source": [
    "Printing length and elements of OB3b_locus_tags_and_their_description. The number of locus tags that can be potentially included in genome-scale metabolic reconstruction is 341."
   ]
  },
  {
   "cell_type": "code",
   "execution_count": 140,
   "metadata": {
    "ExecuteTime": {
     "end_time": "2020-01-14T01:55:30.546461Z",
     "start_time": "2020-01-14T01:55:30.521775Z"
    }
   },
   "outputs": [
    {
     "name": "stdout",
     "output_type": "stream",
     "text": [
      "341\n"
     ]
    },
    {
     "data": {
      "text/plain": [
       "{'CQW49_00005': 'chromosomal replication initiator protein DnaA',\n",
       " 'CQW49_00130': 'sugar transporter',\n",
       " 'CQW49_00190': 'amino acid ABC transporter substrate-bindnig protein',\n",
       " 'CQW49_00200': '30S ribosomal protein S21',\n",
       " 'CQW49_00370': 'prepilin-type cleavage/methylation domain-containing protein',\n",
       " 'CQW49_00375': 'type II secretion system protein',\n",
       " 'CQW49_00380': 'type II secretion system protein GspH',\n",
       " 'CQW49_00385': 'type II secretion system F family protein',\n",
       " 'CQW49_00390': 'secretion system protein E',\n",
       " 'CQW49_00400': 'fimbrial assembly protein',\n",
       " 'CQW49_00415': 'type II secretion system protein GspD',\n",
       " 'CQW49_00420': 'general secretion pathway protein GspK',\n",
       " 'CQW49_00425': 'type II secretion system protein GspG',\n",
       " 'CQW49_00500': 'uracil-DNA glycosylase',\n",
       " 'CQW49_00515': 'F0F1 ATP synthase subunit beta',\n",
       " 'CQW49_00520': 'F0F1 ATP synthase subunit epsilon',\n",
       " 'CQW49_00535': 'ATP synthase F0 subunit A',\n",
       " 'CQW49_00540': 'ATP synthase F0 subunit C',\n",
       " 'CQW49_00545': 'F0F1 ATP synthase subunit B',\n",
       " 'CQW49_00550': 'F0F1 ATP synthase subunit alpha',\n",
       " 'CQW49_00555': 'H(+)-transporting ATPase',\n",
       " 'CQW49_00610': 'exodeoxyribonuclease VII large subunit',\n",
       " 'CQW49_00660': 'recombination protein RecR',\n",
       " 'CQW49_00670': 'DNA polymerase III subunit gamma/tau',\n",
       " 'CQW49_00695': 'glutathione S-transferase family protein',\n",
       " 'CQW49_00740': 'nucleotide sugar dehydrogenase',\n",
       " 'CQW49_00750': 'glycosyl transferase family 1',\n",
       " 'CQW49_00780': 'UDP-N-acetylglucosamine 2-epimerase (non-hydrolyzing)',\n",
       " 'CQW49_00820': 'capsular biosynthesis protein',\n",
       " 'CQW49_00825': 'sugar transporter',\n",
       " 'CQW49_00915': 'molybdenum cofactor guanylyltransferase MobA',\n",
       " 'CQW49_00940': '50S ribosomal protein L31',\n",
       " 'CQW49_00945': 'response regulator',\n",
       " 'CQW49_00955': 'histidinol-phosphatase',\n",
       " 'CQW49_00980': '3-deoxy-7-phosphoheptulonate synthase',\n",
       " 'CQW49_01035': 'phosphoenolpyruvate--protein phosphotransferase',\n",
       " 'CQW49_01055': 'NAD-dependent DNA ligase LigA',\n",
       " 'CQW49_01105': 'chorismate mutase',\n",
       " 'CQW49_01170': '2-dehydropantoate 2-reductase',\n",
       " 'CQW49_01215': 'methane monooxygenase/ammonia monooxygenase subunit C',\n",
       " 'CQW49_01220': 'methane monooxygenase/ammonia monooxygenase subunit A',\n",
       " 'CQW49_01225': 'methane monooxygenase/ammonia monooxygenase subunit B',\n",
       " 'CQW49_01295': 'exodeoxyribonuclease III',\n",
       " 'CQW49_01305': 'single-stranded-DNA-specific exonuclease RecJ',\n",
       " 'CQW49_01315': 'D-alanyl-D-alanine carboxypeptidase',\n",
       " 'CQW49_01325': \"DNA polymerase III subunit delta'\",\n",
       " 'CQW49_01360': 'nucleoside-diphosphate kinase',\n",
       " 'CQW49_01395': 'cysteine desulfurase',\n",
       " 'CQW49_01465': 'PAS domain-containing sensor histidine kinase',\n",
       " 'CQW49_01525': 'peptidase M15',\n",
       " 'CQW49_01530': 'ATP-dependent DNA helicase RecG',\n",
       " 'CQW49_01605': 'MBL fold metallo-hydrolase',\n",
       " 'CQW49_01630': 'RNA chaperone Hfq',\n",
       " 'CQW49_01640': 'sigma-54-dependent Fis family transcriptional regulator',\n",
       " 'CQW49_01645': 'HAMP domain-containing histidine kinase',\n",
       " 'CQW49_01660': 'nitrogen regulation protein NR(I)',\n",
       " 'CQW49_01665': 'two-component sensor histidine kinase',\n",
       " 'CQW49_01680': 'methyl-accepting chemotaxis protein',\n",
       " 'CQW49_01685': 'CinA family protein',\n",
       " 'CQW49_01705': 'lipoyl synthase',\n",
       " 'CQW49_01710': 'DNA polymerase III subunit alpha',\n",
       " 'CQW49_02015': '50S ribosomal protein L9',\n",
       " 'CQW49_02020': 'replicative DNA helicase',\n",
       " 'CQW49_02040': 'glutathione S-transferase',\n",
       " 'CQW49_02120': 'sigma-70 family RNA polymerase sigma factor',\n",
       " 'CQW49_02125': 'iron dicitrate transport regulator FecR',\n",
       " 'CQW49_04765': 'DNA primase',\n",
       " 'CQW49_04785': 'phospholipase C, phosphocholine-specific',\n",
       " 'CQW49_04800': 'A/G-specific adenine glycosylase',\n",
       " 'CQW49_04965': 'short chain dehydrogenase',\n",
       " 'CQW49_05040': 'LPS export ABC transporter permease LptG',\n",
       " 'CQW49_05060': 'leucyl aminopeptidase',\n",
       " 'CQW49_05095': 'phosphoenolpyruvate carboxylase',\n",
       " 'CQW49_05105': 'RNA polymerase subunit sigma-24',\n",
       " 'CQW49_05110': 'iron dicitrate transport regulator FecR',\n",
       " 'CQW49_05130': \"primosomal protein N'\",\n",
       " 'CQW49_05275': 'ribonuclease J',\n",
       " 'CQW49_05280': 'biotin',\n",
       " 'CQW49_05435': 'molybdate ABC transporter substrate-binding protein',\n",
       " 'CQW49_05560': 'glutathione S-transferase',\n",
       " 'CQW49_05605': 'RNA polymerase sigma factor',\n",
       " 'CQW49_05610': 'iron dicitrate transport regulator FecR',\n",
       " 'CQW49_05635': 'FAA hydrolase family protein',\n",
       " 'CQW49_05640': 'homogentisate 1,2-dioxygenase',\n",
       " 'CQW49_05645': '4-hydroxyphenylpyruvate dioxygenase',\n",
       " 'CQW49_05670': 'adenylate/guanylate cyclase domain-containing protein',\n",
       " 'CQW49_05720': 'chemotaxis protein CheR',\n",
       " 'CQW49_05885': 'iron dicitrate transport regulator FecR',\n",
       " 'CQW49_05940': 'chemotaxis protein CheR',\n",
       " 'CQW49_06015': 'glutathione peroxidase',\n",
       " 'CQW49_06060': 'leucyl aminopeptidase',\n",
       " 'CQW49_06065': 'dipeptide ABC transporter ATP-binding protein',\n",
       " 'CQW49_06090': 'ABC transporter permease',\n",
       " 'CQW49_06095': 'microcin C ABC transporter permease YejB',\n",
       " 'CQW49_06120': 'sensor histidine kinase',\n",
       " 'CQW49_06150': 'MbtH family protein',\n",
       " 'CQW49_06175': '5-formyltetrahydrofolate cyclo-ligase',\n",
       " 'CQW49_06290': 'oxygen-independent coproporphyrinogen III oxidase',\n",
       " 'CQW49_06295': 'methyl-accepting chemotaxis protein',\n",
       " 'CQW49_06315': '50S ribosomal protein L36',\n",
       " 'CQW49_06390': 'DNA-binding response regulator',\n",
       " 'CQW49_06425': 'LamB/YcsF family protein',\n",
       " 'CQW49_06520': 'DNA polymerase III subunit delta',\n",
       " 'CQW49_06650': 'asparagine synthase',\n",
       " 'CQW49_06695': 'type III PLP-dependent enzyme',\n",
       " 'CQW49_06765': 'phosphate ABC transporter substrate-binding protein PstS',\n",
       " 'CQW49_06835': 'asparagine synthetase B family protein',\n",
       " 'CQW49_06845': '50S ribosomal protein L35',\n",
       " 'CQW49_06850': '50S ribosomal protein L20',\n",
       " 'CQW49_06900': 'NAD-dependent epimerase/dehydratase family protein',\n",
       " 'CQW49_06910': 'tRNA 2-thiouridine(34) synthase MnmA',\n",
       " 'CQW49_07590': 'DNA (cytosine-5-)-methyltransferase',\n",
       " 'CQW49_07660': 'ABC transporter ATP-binding protein',\n",
       " 'CQW49_07665': 'lipopolysaccharide biosynthesis protein',\n",
       " 'CQW49_09570': 'MacB family efflux pump subunit',\n",
       " 'CQW49_09615': 'precorrin methylase',\n",
       " 'CQW49_09740': 'chemotaxis response regulator protein-glutamate methylesterase',\n",
       " 'CQW49_09745': 'chemotaxis protein CheR',\n",
       " 'CQW49_09750': 'chemotaxis protein CheW',\n",
       " 'CQW49_09755': 'methyl-accepting chemotaxis protein',\n",
       " 'CQW49_09760': 'methyl-accepting chemotaxis protein',\n",
       " 'CQW49_09765': 'chemotaxis protein CheW',\n",
       " 'CQW49_09770': 'chemotaxis protein CheA',\n",
       " 'CQW49_09775': 'response regulator',\n",
       " 'CQW49_09940': 'glucose-6-phosphate isomerase',\n",
       " 'CQW49_10025': 'cytochrome c oxidase assembly protein',\n",
       " 'CQW49_10100': 'DNA-binding response regulator',\n",
       " 'CQW49_10105': 'PAS domain-containing sensor histidine kinase',\n",
       " 'CQW49_10110': 'globin-coupled sensor protein',\n",
       " 'CQW49_10125': 'sensor histidine kinase KdpD',\n",
       " 'CQW49_10130': '7-cyano-7-deazaguanine synthase QueC',\n",
       " 'CQW49_10205': '50S ribosomal protein L28',\n",
       " 'CQW49_10250': 'methane monooxygenase/ammonia monooxygenase subunit B',\n",
       " 'CQW49_10255': 'methane monooxygenase/ammonia monooxygenase subunit A',\n",
       " 'CQW49_10260': 'methane monooxygenase/ammonia monooxygenase subunit C',\n",
       " 'CQW49_10275': '4a-hydroxytetrahydrobiopterin dehydratase',\n",
       " 'CQW49_10360': 'channel protein TolC',\n",
       " 'CQW49_10375': 'phosphatase PAP2 family protein',\n",
       " 'CQW49_10395': 'preprotein translocase subunit SecY',\n",
       " 'CQW49_10400': '50S ribosomal protein L15',\n",
       " 'CQW49_10405': '50S ribosomal protein L30',\n",
       " 'CQW49_10410': '30S ribosomal protein S5',\n",
       " 'CQW49_10415': '50S ribosomal protein L18',\n",
       " 'CQW49_10420': '50S ribosomal protein L6',\n",
       " 'CQW49_10425': '30S ribosomal protein S8',\n",
       " 'CQW49_10430': '30S ribosomal protein S14',\n",
       " 'CQW49_10435': '50S ribosomal protein L5',\n",
       " 'CQW49_10440': '50S ribosomal protein L24',\n",
       " 'CQW49_10445': '50S ribosomal protein L14',\n",
       " 'CQW49_10450': '30S ribosomal protein S17',\n",
       " 'CQW49_10455': '50S ribosomal protein L29',\n",
       " 'CQW49_10460': '50S ribosomal protein L16',\n",
       " 'CQW49_10465': '30S ribosomal protein S3',\n",
       " 'CQW49_10470': '50S ribosomal protein L22',\n",
       " 'CQW49_10475': '30S ribosomal protein S19',\n",
       " 'CQW49_10480': '50S ribosomal protein L2',\n",
       " 'CQW49_10485': '50S ribosomal protein L23',\n",
       " 'CQW49_10490': '50S ribosomal protein L4',\n",
       " 'CQW49_10495': '50S ribosomal protein L3',\n",
       " 'CQW49_10500': '30S ribosomal protein S10',\n",
       " 'CQW49_10515': '30S ribosomal protein S7',\n",
       " 'CQW49_10520': '30S ribosomal protein S12',\n",
       " 'CQW49_10640': '50S ribosomal protein L19',\n",
       " 'CQW49_10685': 'ABC transporter',\n",
       " 'CQW49_10700': '50S ribosomal protein L32',\n",
       " 'CQW49_10755': 'TIGR01244 family phosphatase',\n",
       " 'CQW49_10795': 'DNA-binding response regulator',\n",
       " 'CQW49_10805': 'succinate dehydrogenase, hydrophobic membrane anchor protein',\n",
       " 'CQW49_10875': 'carbonate dehydratase',\n",
       " 'CQW49_10980': 'FAD-binding oxidoreductase',\n",
       " 'CQW49_11110': 'recombinase RecA',\n",
       " 'CQW49_11200': 'penicillin-binding protein 2',\n",
       " 'CQW49_11325': 'preprotein translocase subunit SecE',\n",
       " 'CQW49_11335': '50S ribosomal protein L11',\n",
       " 'CQW49_11340': '50S ribosomal protein L1',\n",
       " 'CQW49_11355': 'exodeoxyribonuclease VII small subunit',\n",
       " 'CQW49_11405': 'phosphoribosylformylglycinamidine synthase subunit PurS',\n",
       " 'CQW49_11445': 'serine acetyltransferase',\n",
       " 'CQW49_11620': 'cytochrome bd-I oxidase subunit CydX',\n",
       " 'CQW49_11765': 'Crp/Fnr family transcriptional regulator',\n",
       " 'CQW49_11780': 'penicillin-binding protein 1A',\n",
       " 'CQW49_11795': 'heme exporter protein CcmB',\n",
       " 'CQW49_11800': 'heme ABC exporter ATP-binding protein CcmA',\n",
       " 'CQW49_11820': 'fatty acid desaturase',\n",
       " 'CQW49_11900': 'DNA-3-methyladenine glycosylase I',\n",
       " 'CQW49_12245': 'glycerate kinase',\n",
       " 'CQW49_12295': 'FAA hydrolase family protein',\n",
       " 'CQW49_12335': 'DNA-binding response regulator',\n",
       " 'CQW49_14080': 'conjugal transfer protein TraG',\n",
       " 'CQW49_14090': 'P-type conjugative transfer ATPase TrbB',\n",
       " 'CQW49_14095': 'conjugal transfer protein TrbC',\n",
       " 'CQW49_14100': 'conjugal transfer protein',\n",
       " 'CQW49_14105': 'conjugal transfer protein TrbE',\n",
       " 'CQW49_14110': 'P-type conjugative transfer protein TrbJ',\n",
       " 'CQW49_14120': 'P-type conjugative transfer protein TrbL',\n",
       " 'CQW49_14125': 'conjugal transfer protein TrbF',\n",
       " 'CQW49_14130': 'P-type conjugative transfer protein TrbG',\n",
       " 'CQW49_14135': 'conjugal transfer protein TraI',\n",
       " 'CQW49_14310': 'bifunctional tRNA (adenosine(37)-N6)-threonylcarbamoyltransferase complex ATPase subunit type 1 TsaE/phosphotransferase',\n",
       " 'CQW49_14315': 'nucleotidyltransferase family protein',\n",
       " 'CQW49_14320': '50S ribosomal protein L25',\n",
       " 'CQW49_14405': 'quinoprotein dehydrogenase-associated SoxYZ-like carrier',\n",
       " 'CQW49_14430': 'methanol oxidation system protein MoxJ',\n",
       " 'CQW49_14435': 'cytochrome c(L), periplasmic',\n",
       " 'CQW49_14460': 'nonribosomal peptide synthetase MxaA',\n",
       " 'CQW49_14465': 'VWA domain-containing protein',\n",
       " 'CQW49_14470': 'MxaK protein',\n",
       " 'CQW49_14475': 'VWA domain-containing protein',\n",
       " 'CQW49_14480': 'SRPBCC family protein',\n",
       " 'CQW49_14495': 'ATP-binding protein',\n",
       " 'CQW49_14625': 'P-type conjugative transfer protein TrbL',\n",
       " 'CQW49_14630': 'conjugal transfer protein TrbF',\n",
       " 'CQW49_14635': 'P-type conjugative transfer protein TrbG',\n",
       " 'CQW49_14640': 'conjugal transfer protein TraI',\n",
       " 'CQW49_14840': 'CusA/CzcA family heavy metal efflux RND transporter',\n",
       " 'CQW49_14845': 'efflux RND transporter periplasmic adaptor subunit',\n",
       " 'CQW49_14880': 'DNA-binding response regulator',\n",
       " 'CQW49_14930': 'conjugal transfer protein TraI',\n",
       " 'CQW49_14935': 'P-type conjugative transfer protein TrbG',\n",
       " 'CQW49_14940': 'conjugal transfer protein TrbF',\n",
       " 'CQW49_14945': 'P-type conjugative transfer protein TrbL',\n",
       " 'CQW49_14955': 'P-type conjugative transfer protein TrbJ',\n",
       " 'CQW49_14960': 'conjugal transfer protein TrbE',\n",
       " 'CQW49_14965': 'conjugal transfer protein',\n",
       " 'CQW49_14970': 'conjugal transfer protein TrbC',\n",
       " 'CQW49_14975': 'P-type conjugative transfer ATPase TrbB',\n",
       " 'CQW49_14985': 'hydroxylamine reductase',\n",
       " 'CQW49_15010': 'conjugal transfer protein TraG',\n",
       " 'CQW49_15360': 'transcriptional regulator',\n",
       " 'CQW49_15440': 'permease',\n",
       " 'CQW49_15465': 'lysine 2,3-aminomutase',\n",
       " 'CQW49_15505': 'lipoate-protein ligase B',\n",
       " 'CQW49_15595': 'dihydroneopterin aldolase',\n",
       " 'CQW49_15620': 'Fur family transcriptional regulator',\n",
       " 'CQW49_15645': 'methyl-accepting chemotaxis protein',\n",
       " 'CQW49_15665': '30S ribosomal protein S2',\n",
       " 'CQW49_15715': 'ketoacyl-ACP synthase III',\n",
       " 'CQW49_15725': 'iron dicitrate transport regulator FecR',\n",
       " 'CQW49_15740': 'lycopene beta cyclase',\n",
       " 'CQW49_15925': 'two-component sensor histidine kinase',\n",
       " 'CQW49_15955': 'phosphate regulon transcriptional regulatory protein PhoB',\n",
       " 'CQW49_16015': 'bacterioferritin',\n",
       " 'CQW49_16115': '6-phosphofructokinase',\n",
       " 'CQW49_16120': 'preprotein translocase subunit SecA',\n",
       " 'CQW49_16125': 'formate dehydrogenase subunit alpha',\n",
       " 'CQW49_16325': '30S ribosomal protein S1',\n",
       " 'CQW49_16440': 'citramalate synthase',\n",
       " 'CQW49_16525': 'two-component sensor histidine kinase',\n",
       " 'CQW49_16905': 'phosphoglycerate mutase',\n",
       " 'CQW49_16920': 'molybdenum ABC transporter ATP-binding protein',\n",
       " 'CQW49_18060': 'sulfate adenylyltransferase subunit CysD',\n",
       " 'CQW49_18065': 'adenylyl-sulfate kinase',\n",
       " 'CQW49_18120': 'iron dicitrate transport regulator FecR',\n",
       " 'CQW49_18165': 'RNA polymerase sigma factor',\n",
       " 'CQW49_18170': 'iron dicitrate transport regulator FecR',\n",
       " 'CQW49_18190': 'DNA mismatch repair endonuclease MutL',\n",
       " 'CQW49_18250': 'asparagine synthase',\n",
       " 'CQW49_18255': 'aminotransferase class III',\n",
       " 'CQW49_18340': 'aldo/keto reductase',\n",
       " 'CQW49_18380': 'pyruvate kinase',\n",
       " 'CQW49_18435': 'thymidylate synthase (FAD)',\n",
       " 'CQW49_18445': 'bifunctional DNA-formamidopyrimidine glycosylase/DNA-(apurinic or apyrimidinic site) lyase',\n",
       " 'CQW49_18460': 'methyl-accepting chemotaxis protein',\n",
       " 'CQW49_18575': 'tRNA (adenosine(37)-N6)-dimethylallyltransferase MiaA',\n",
       " 'CQW49_18635': 'flagellin',\n",
       " 'CQW49_18640': 'flagellar M-ring protein FliF',\n",
       " 'CQW49_18650': 'flagellar motor protein MotB',\n",
       " 'CQW49_18710': 'flagellum-specific ATP synthase FliI',\n",
       " 'CQW49_18715': 'flagellar biosynthesis protein FlgF',\n",
       " 'CQW49_18720': 'flagellar motor stator protein MotA',\n",
       " 'CQW49_18730': 'flagellar motor switch protein FliN',\n",
       " 'CQW49_18735': 'flagellar motor switch protein FliG',\n",
       " 'CQW49_18740': 'flagellar biosynthesis protein FlhB',\n",
       " 'CQW49_18745': 'flagellar basal body rod protein FlgB',\n",
       " 'CQW49_18750': 'flagellar basal body rod protein FlgC',\n",
       " 'CQW49_18755': 'flagellar hook-basal body protein FliE',\n",
       " 'CQW49_18760': 'flagellar basal-body rod protein FlgG',\n",
       " 'CQW49_18765': 'flagella basal body P-ring formation protein FlgA',\n",
       " 'CQW49_18770': 'flagellar biosynthesis protein FlgI',\n",
       " 'CQW49_18780': 'non-canonical purine NTP pyrophosphatase',\n",
       " 'CQW49_18830': 'oxidoreductase',\n",
       " 'CQW49_18935': 'preprotein translocase subunit SecG',\n",
       " 'CQW49_19005': 'chaperonin GroEL',\n",
       " 'CQW49_19085': 'hydrogenase expression protein HypE',\n",
       " 'CQW49_19090': 'hydrogenase',\n",
       " 'CQW49_19195': 'two-component sensor histidine kinase',\n",
       " 'CQW49_19210': 'methane monooxygenase/ammonia monooxygenase subunit C',\n",
       " 'CQW49_19390': 'methyl-accepting chemotaxis protein',\n",
       " 'CQW49_19400': '',\n",
       " 'CQW49_19415': 'sugar transporter',\n",
       " 'CQW49_19420': 'DNA-binding response regulator',\n",
       " 'CQW49_19440': 'serine peptidase',\n",
       " 'CQW49_19460': 'aminopeptidase N',\n",
       " 'CQW49_19530': 'penicillin-binding protein',\n",
       " 'CQW49_19545': 'DNA polymerase III subunit beta',\n",
       " 'CQW49_19585': 'heme transporter HemC',\n",
       " 'CQW49_19605': 'methyl-accepting chemotaxis protein',\n",
       " 'CQW49_19625': 'chemotaxis protein CheD',\n",
       " 'CQW49_19630': 'response regulator',\n",
       " 'CQW49_19635': 'chemotaxis response regulator protein-glutamate methylesterase',\n",
       " 'CQW49_19640': 'chemotaxis protein',\n",
       " 'CQW49_19650': 'response regulator',\n",
       " 'CQW49_19655': 'STAS domain-containing protein',\n",
       " 'CQW49_19660': 'chemotaxis protein CheW',\n",
       " 'CQW49_19665': 'methyl-accepting chemotaxis protein',\n",
       " 'CQW49_19680': 'flagellar hook protein FlgE',\n",
       " 'CQW49_19685': 'flagellar hook-associated protein FlgK',\n",
       " 'CQW49_19690': 'flagellar hook-associated 3 family protein',\n",
       " 'CQW49_19705': 'flagellar basal body rod modification protein',\n",
       " 'CQW49_19710': 'flagellar biosynthetic protein FliQ',\n",
       " 'CQW49_19715': 'flagellar biosynthesis protein FlhA',\n",
       " 'CQW49_19720': 'flagellar biosynthetic protein FliR',\n",
       " 'CQW49_19860': 'channel protein TolC',\n",
       " 'CQW49_19905': 'phosphate ABC transporter permease',\n",
       " 'CQW49_19915': 'ABC transporter ATP-binding protein',\n",
       " 'CQW49_19995': 'Holliday junction branch migration DNA helicase RuvB',\n",
       " 'CQW49_20020': 'cupin',\n",
       " 'CQW49_20025': '50S ribosomal protein L13',\n",
       " 'CQW49_20030': '30S ribosomal protein S9',\n",
       " 'CQW49_20050': 'heme A synthase',\n",
       " 'CQW49_20105': 'ABC transporter',\n",
       " 'CQW49_20130': 'crossover junction endodeoxyribonuclease RuvC',\n",
       " 'CQW49_20525': 'DNA polymerase III subunit chi',\n",
       " 'CQW49_20530': 'exodeoxyribonuclease III',\n",
       " 'CQW49_20545': 'HAD family phosphatase',\n",
       " 'CQW49_22355': 'RNA ligase RtcB family protein',\n",
       " 'CQW49_22400': 'ATP-dependent DNA helicase',\n",
       " 'CQW49_22875': 'succinate dehydrogenase iron-sulfur subunit',\n",
       " 'CQW49_22880': 'succinate dehydrogenase, cytochrome b556 subunit',\n",
       " 'CQW49_22910': '2-methylcitrate dehydratase',\n",
       " 'CQW49_22935': 'nitric-oxide reductase large subunit',\n",
       " 'CQW49_23115': 'glutathione transferase GstA',\n",
       " 'CQW49_23395': 'diaminobutyrate--2-oxoglutarate transaminase',\n",
       " 'CQW49_23400': 'RNA polymerase factor sigma-70',\n",
       " 'CQW49_23405': 'cyclic peptide transporter',\n",
       " 'CQW49_23415': 'iron dicitrate transport regulator FecR',\n",
       " 'CQW49_23485': 'antibiotic synthesis protein MbtH',\n",
       " 'CQW49_23740': 'beta-ketoacyl-ACP reductase',\n",
       " 'CQW49_23910': 'nicotinate phosphoribosyltransferase',\n",
       " 'CQW49_23915': 'ADP-ribose pyrophosphatase',\n",
       " 'CQW49_23995': 'nitrogenase'}"
      ]
     },
     "execution_count": 140,
     "metadata": {},
     "output_type": "execute_result"
    }
   ],
   "source": [
    "print(len(OB3b_locus_tags_and_their_description))\n",
    "OB3b_locus_tags_and_their_description"
   ]
  },
  {
   "cell_type": "markdown",
   "metadata": {},
   "source": [
    "Writing filtered OB3b_locus_tags_and_their_description to memote/gem_reconstruction_supplementary_materials directory in pkl and txt formats. The pkl format is required to always have access to the data using Python while the txt format is required for easy data access using txt editor:"
   ]
  },
  {
   "cell_type": "code",
   "execution_count": 188,
   "metadata": {
    "ExecuteTime": {
     "end_time": "2020-01-13T10:21:51.915214Z",
     "start_time": "2020-01-13T10:21:51.905695Z"
    }
   },
   "outputs": [],
   "source": [
    "# write python dict to a file\n",
    "with open(memote_directory + \"gem_reconstruction_supplementary_materials/AM1_based_GEM/\" +\\\n",
    "          'OB3b_locus_tags_and_their_description_not_included_in_automatic_GEMs.pkl', 'wb') as output:\n",
    "    pickle.dump(OB3b_locus_tags_and_their_description, output)\n",
    "    \n",
    "import json\n",
    "with open(memote_directory + \"gem_reconstruction_supplementary_materials/AM1_based_GEM/\" +\\\n",
    "          \"OB3b_locus_tags_and_their_description_not_included_in_automatic_GEMs.txt\", \"w\") as file:\n",
    "    file.write(json.dumps(OB3b_locus_tags_and_their_description))"
   ]
  },
  {
   "cell_type": "markdown",
   "metadata": {},
   "source": [
    "Easy access to OB3b_locus_tags_and_their_description_not_included_in_automatic_GEMs.pkl:"
   ]
  },
  {
   "cell_type": "code",
   "execution_count": 214,
   "metadata": {
    "ExecuteTime": {
     "end_time": "2020-01-13T10:38:40.546534Z",
     "start_time": "2020-01-13T10:38:40.528943Z"
    },
    "scrolled": true
   },
   "outputs": [
    {
     "name": "stdout",
     "output_type": "stream",
     "text": [
      "{'CQW49_00005': 'chromosomal replication initiator protein DnaA', 'CQW49_00130': 'sugar transporter', 'CQW49_00190': 'amino acid ABC transporter substrate-bindnig protein', 'CQW49_00200': '30S ribosomal protein S21', 'CQW49_00370': 'prepilin-type cleavage/methylation domain-containing protein', 'CQW49_00375': 'type II secretion system protein', 'CQW49_00380': 'type II secretion system protein GspH', 'CQW49_00385': 'type II secretion system F family protein', 'CQW49_00390': 'secretion system protein E', 'CQW49_00400': 'fimbrial assembly protein', 'CQW49_00415': 'type II secretion system protein GspD', 'CQW49_00420': 'general secretion pathway protein GspK', 'CQW49_00425': 'type II secretion system protein GspG', 'CQW49_00500': 'uracil-DNA glycosylase', 'CQW49_00515': 'F0F1 ATP synthase subunit beta', 'CQW49_00520': 'F0F1 ATP synthase subunit epsilon', 'CQW49_00535': 'ATP synthase F0 subunit A', 'CQW49_00540': 'ATP synthase F0 subunit C', 'CQW49_00545': 'F0F1 ATP synthase subunit B', 'CQW49_00550': 'F0F1 ATP synthase subunit alpha', 'CQW49_00555': 'H(+)-transporting ATPase', 'CQW49_00610': 'exodeoxyribonuclease VII large subunit', 'CQW49_00660': 'recombination protein RecR', 'CQW49_00670': 'DNA polymerase III subunit gamma/tau', 'CQW49_00695': 'glutathione S-transferase family protein', 'CQW49_00740': 'nucleotide sugar dehydrogenase', 'CQW49_00750': 'glycosyl transferase family 1', 'CQW49_00780': 'UDP-N-acetylglucosamine 2-epimerase (non-hydrolyzing)', 'CQW49_00820': 'capsular biosynthesis protein', 'CQW49_00825': 'sugar transporter', 'CQW49_00915': 'molybdenum cofactor guanylyltransferase MobA', 'CQW49_00940': '50S ribosomal protein L31', 'CQW49_00945': 'response regulator', 'CQW49_00955': 'histidinol-phosphatase', 'CQW49_00980': '3-deoxy-7-phosphoheptulonate synthase', 'CQW49_01035': 'phosphoenolpyruvate--protein phosphotransferase', 'CQW49_01055': 'NAD-dependent DNA ligase LigA', 'CQW49_01105': 'chorismate mutase', 'CQW49_01170': '2-dehydropantoate 2-reductase', 'CQW49_01215': 'methane monooxygenase/ammonia monooxygenase subunit C', 'CQW49_01220': 'methane monooxygenase/ammonia monooxygenase subunit A', 'CQW49_01225': 'methane monooxygenase/ammonia monooxygenase subunit B', 'CQW49_01295': 'exodeoxyribonuclease III', 'CQW49_01305': 'single-stranded-DNA-specific exonuclease RecJ', 'CQW49_01315': 'D-alanyl-D-alanine carboxypeptidase', 'CQW49_01325': \"DNA polymerase III subunit delta'\", 'CQW49_01360': 'nucleoside-diphosphate kinase', 'CQW49_01395': 'cysteine desulfurase', 'CQW49_01465': 'PAS domain-containing sensor histidine kinase', 'CQW49_01525': 'peptidase M15', 'CQW49_01530': 'ATP-dependent DNA helicase RecG', 'CQW49_01605': 'MBL fold metallo-hydrolase', 'CQW49_01630': 'RNA chaperone Hfq', 'CQW49_01860': 'ferredoxin', 'CQW49_01865': 'oxidoreductase', 'CQW49_01965': 'cell division ATP-binding protein FtsE', 'CQW49_01970': 'ABC transporter permease', 'CQW49_01990': 'arylesterase', 'CQW49_04270': 'Holliday junction branch migration protein RuvA', 'CQW49_04375': 'response regulator', 'CQW49_04380': 'PleD family two-component system response regulator', 'CQW49_04395': 'glutathione S-transferase', 'CQW49_04465': 'penicillin acylase family protein', 'CQW49_04470': 'cyclic peptide transporter', 'CQW49_04580': '50S ribosomal protein L33', 'CQW49_04600': 'DNA replication and repair protein RecF', 'CQW49_04610': 'single-stranded DNA-binding protein', 'CQW49_04680': 'sugar transporter', 'CQW49_04705': 'ATP-dependent helicase', 'CQW49_04765': 'DNA primase', 'CQW49_04785': 'phospholipase C, phosphocholine-specific', 'CQW49_04800': 'A/G-specific adenine glycosylase', 'CQW49_04965': 'short chain dehydrogenase', 'CQW49_05040': 'LPS export ABC transporter permease LptG', 'CQW49_05060': 'leucyl aminopeptidase', 'CQW49_05095': 'phosphoenolpyruvate carboxylase', 'CQW49_05105': 'RNA polymerase subunit sigma-24', 'CQW49_05110': 'iron dicitrate transport regulator FecR', 'CQW49_05130': \"primosomal protein N'\", 'CQW49_05275': 'ribonuclease J', 'CQW49_05280': 'biotin', 'CQW49_05435': 'molybdate ABC transporter substrate-binding protein', 'CQW49_05560': 'glutathione S-transferase', 'CQW49_05605': 'RNA polymerase sigma factor', 'CQW49_05610': 'iron dicitrate transport regulator FecR', 'CQW49_05635': 'FAA hydrolase family protein', 'CQW49_05640': 'homogentisate 1,2-dioxygenase', 'CQW49_05645': '4-hydroxyphenylpyruvate dioxygenase', 'CQW49_05670': 'adenylate/guanylate cyclase domain-containing protein', 'CQW49_05720': 'chemotaxis protein CheR', 'CQW49_05885': 'iron dicitrate transport regulator FecR', 'CQW49_05940': 'chemotaxis protein CheR', 'CQW49_06015': 'glutathione peroxidase', 'CQW49_06060': 'leucyl aminopeptidase', 'CQW49_06065': 'dipeptide ABC transporter ATP-binding protein', 'CQW49_06090': 'ABC transporter permease', 'CQW49_06095': 'microcin C ABC transporter permease YejB', 'CQW49_06120': 'sensor histidine kinase', 'CQW49_06150': 'MbtH family protein', 'CQW49_06175': '5-formyltetrahydrofolate cyclo-ligase', 'CQW49_06290': 'oxygen-independent coproporphyrinogen III oxidase', 'CQW49_06295': 'methyl-accepting chemotaxis protein', 'CQW49_06315': '50S ribosomal protein L36', 'CQW49_06650': 'asparagine synthase', 'CQW49_06695': 'type III PLP-dependent enzyme', 'CQW49_06715': 'Glu/Leu/Phe/Val dehydrogenase', 'CQW49_06725': 'pyruvate dehydrogenase (acetyl-transferring) E1 component subunit alpha', 'CQW49_06730': 'alpha-ketoacid dehydrogenase subunit beta', 'CQW49_06735': '2-oxo acid dehydrogenase subunit E2', 'CQW49_06750': 'D-glycerate dehydrogenase', 'CQW49_09415': 'deoxyguanosinetriphosphate triphosphohydrolase', 'CQW49_09440': 'sulfate ABC transporter substrate-binding protein', 'CQW49_09570': 'MacB family efflux pump subunit', 'CQW49_09615': 'precorrin methylase', 'CQW49_09740': 'chemotaxis response regulator protein-glutamate methylesterase', 'CQW49_09745': 'chemotaxis protein CheR', 'CQW49_09750': 'chemotaxis protein CheW', 'CQW49_09755': 'methyl-accepting chemotaxis protein', 'CQW49_09760': 'methyl-accepting chemotaxis protein', 'CQW49_09765': 'chemotaxis protein CheW', 'CQW49_09770': 'chemotaxis protein CheA', 'CQW49_09775': 'response regulator', 'CQW49_09940': 'glucose-6-phosphate isomerase', 'CQW49_10025': 'cytochrome c oxidase assembly protein', 'CQW49_10100': 'DNA-binding response regulator', 'CQW49_10105': 'PAS domain-containing sensor histidine kinase', 'CQW49_10110': 'globin-coupled sensor protein', 'CQW49_10125': 'sensor histidine kinase KdpD', 'CQW49_10130': '7-cyano-7-deazaguanine synthase QueC', 'CQW49_10205': '50S ribosomal protein L28', 'CQW49_10250': 'methane monooxygenase/ammonia monooxygenase subunit B', 'CQW49_10255': 'methane monooxygenase/ammonia monooxygenase subunit A', 'CQW49_10260': 'methane monooxygenase/ammonia monooxygenase subunit C', 'CQW49_10275': '4a-hydroxytetrahydrobiopterin dehydratase', 'CQW49_10360': 'channel protein TolC', 'CQW49_10375': 'phosphatase PAP2 family protein', 'CQW49_10395': 'preprotein translocase subunit SecY', 'CQW49_10400': '50S ribosomal protein L15', 'CQW49_10405': '50S ribosomal protein L30', 'CQW49_10410': '30S ribosomal protein S5', 'CQW49_10415': '50S ribosomal protein L18', 'CQW49_10420': '50S ribosomal protein L6', 'CQW49_10425': '30S ribosomal protein S8', 'CQW49_10430': '30S ribosomal protein S14', 'CQW49_10435': '50S ribosomal protein L5', 'CQW49_10440': '50S ribosomal protein L24', 'CQW49_10445': '50S ribosomal protein L14', 'CQW49_10450': '30S ribosomal protein S17', 'CQW49_10455': '50S ribosomal protein L29', 'CQW49_10460': '50S ribosomal protein L16', 'CQW49_10465': '30S ribosomal protein S3', 'CQW49_10470': '50S ribosomal protein L22', 'CQW49_10475': '30S ribosomal protein S19', 'CQW49_10480': '50S ribosomal protein L2', 'CQW49_10485': '50S ribosomal protein L23', 'CQW49_10490': '50S ribosomal protein L4', 'CQW49_10495': '50S ribosomal protein L3', 'CQW49_10500': '30S ribosomal protein S10', 'CQW49_10515': '30S ribosomal protein S7', 'CQW49_10520': '30S ribosomal protein S12', 'CQW49_10640': '50S ribosomal protein L19', 'CQW49_10685': 'ABC transporter', 'CQW49_10700': '50S ribosomal protein L32', 'CQW49_10755': 'TIGR01244 family phosphatase', 'CQW49_10795': 'DNA-binding response regulator', 'CQW49_10805': 'succinate dehydrogenase, hydrophobic membrane anchor protein', 'CQW49_10875': 'carbonate dehydratase', 'CQW49_10980': 'FAD-binding oxidoreductase', 'CQW49_11110': 'recombinase RecA', 'CQW49_11200': 'penicillin-binding protein 2', 'CQW49_11325': 'preprotein translocase subunit SecE', 'CQW49_11335': '50S ribosomal protein L11', 'CQW49_11340': '50S ribosomal protein L1', 'CQW49_11355': 'exodeoxyribonuclease VII small subunit', 'CQW49_11620': 'cytochrome bd-I oxidase subunit CydX', 'CQW49_11765': 'Crp/Fnr family transcriptional regulator', 'CQW49_11780': 'penicillin-binding protein 1A', 'CQW49_11795': 'heme exporter protein CcmB', 'CQW49_11800': 'heme ABC exporter ATP-binding protein CcmA', 'CQW49_14310': 'bifunctional tRNA (adenosine(37)-N6)-threonylcarbamoyltransferase complex ATPase subunit type 1 TsaE/phosphotransferase', 'CQW49_14315': 'nucleotidyltransferase family protein', 'CQW49_14320': '50S ribosomal protein L25', 'CQW49_14405': 'quinoprotein dehydrogenase-associated SoxYZ-like carrier', 'CQW49_14430': 'methanol oxidation system protein MoxJ', 'CQW49_14435': 'cytochrome c(L), periplasmic', 'CQW49_14460': 'nonribosomal peptide synthetase MxaA', 'CQW49_14465': 'VWA domain-containing protein', 'CQW49_14470': 'MxaK protein', 'CQW49_14475': 'VWA domain-containing protein', 'CQW49_14480': 'SRPBCC family protein', 'CQW49_14495': 'ATP-binding protein', 'CQW49_14625': 'P-type conjugative transfer protein TrbL', 'CQW49_14630': 'conjugal transfer protein TrbF', 'CQW49_14635': 'P-type conjugative transfer protein TrbG', 'CQW49_14640': 'conjugal transfer protein TraI', 'CQW49_14840': 'CusA/CzcA family heavy metal efflux RND transporter', 'CQW49_14845': 'efflux RND transporter periplasmic adaptor subunit', 'CQW49_14880': 'DNA-binding response regulator', 'CQW49_14930': 'conjugal transfer protein TraI', 'CQW49_14935': 'P-type conjugative transfer protein TrbG', 'CQW49_15725': 'iron dicitrate transport regulator FecR', 'CQW49_15740': 'lycopene beta cyclase', 'CQW49_15925': 'two-component sensor histidine kinase', 'CQW49_16215': 'CoA ester lyase', 'CQW49_18935': 'preprotein translocase subunit SecG', 'CQW49_19005': 'chaperonin GroEL', 'CQW49_19085': 'hydrogenase expression protein HypE', 'CQW49_19090': 'hydrogenase', 'CQW49_19195': 'two-component sensor histidine kinase', 'CQW49_19210': 'methane monooxygenase/ammonia monooxygenase subunit C', 'CQW49_19390': 'methyl-accepting chemotaxis protein', 'CQW49_19400': '', 'CQW49_19415': 'sugar transporter', 'CQW49_19420': 'DNA-binding response regulator', 'CQW49_19440': 'serine peptidase', 'CQW49_19460': 'aminopeptidase N', 'CQW49_19530': 'penicillin-binding protein', 'CQW49_19545': 'DNA polymerase III subunit beta', 'CQW49_19585': 'heme transporter HemC', 'CQW49_19605': 'methyl-accepting chemotaxis protein', 'CQW49_19625': 'chemotaxis protein CheD', 'CQW49_19630': 'response regulator', 'CQW49_19635': 'chemotaxis response regulator protein-glutamate methylesterase', 'CQW49_19640': 'chemotaxis protein', 'CQW49_19650': 'response regulator', 'CQW49_19655': 'STAS domain-containing protein', 'CQW49_19660': 'chemotaxis protein CheW', 'CQW49_19665': 'methyl-accepting chemotaxis protein', 'CQW49_19680': 'flagellar hook protein FlgE', 'CQW49_19685': 'flagellar hook-associated protein FlgK', 'CQW49_19690': 'flagellar hook-associated 3 family protein', 'CQW49_19705': 'flagellar basal body rod modification protein'}"
     ]
    },
    {
     "name": "stdout",
     "output_type": "stream",
     "text": [
      "\n"
     ]
    }
   ],
   "source": [
    "# read python dict back from the file\n",
    "pkl_file = open(memote_directory + \"gem_reconstruction_supplementary_materials/AM1_based_GEM/\" +\\\n",
    "                'OB3b_locus_tags_and_their_description_not_included_in_automatic_GEMs.pkl', 'rb')\n",
    "OB3b_locus_tags_and_their_description = pickle.load(pkl_file)\n",
    "pkl_file.close()\n",
    "\n",
    "print (OB3b_locus_tags_and_their_description)"
   ]
  },
  {
   "cell_type": "markdown",
   "metadata": {},
   "source": [
    "Leave only pathways that are directly related to metabolism:\n",
    "Here is the list of pathways not related to metabolism directly (starts from genetic information processing section) --> https://www.genome.jp/kegg-bin/show_organism?menu_type=pathway_maps&org=mtw:"
   ]
  },
  {
   "cell_type": "code",
   "execution_count": 27,
   "metadata": {
    "ExecuteTime": {
     "end_time": "2020-01-14T02:44:12.691963Z",
     "start_time": "2020-01-14T02:44:12.687180Z"
    }
   },
   "outputs": [],
   "source": [
    "kegg_non_metabolic_pathways = ['03020', '03010', '00970', '03060', '04122', '03018', '03030', '03410', \n",
    "                               '03420','03430', '03440', '03450', '02010', '02060', '03070', '02020', \n",
    "                               '02024', '02030', '02040', '01501', '01502', '01503']"
   ]
  },
  {
   "cell_type": "code",
   "execution_count": 28,
   "metadata": {
    "ExecuteTime": {
     "end_time": "2020-01-14T02:58:56.710541Z",
     "start_time": "2020-01-14T02:44:13.958479Z"
    }
   },
   "outputs": [],
   "source": [
    "for locus_tag in list(OB3b_locus_tags_and_their_description):\n",
    "    for non_metabolic_pathway in kegg_non_metabolic_pathways:\n",
    "        try:\n",
    "            if 'mtw' + non_metabolic_pathway in k.get_pathway_by_gene(locus_tag, \"mtw\"):\n",
    "                del OB3b_locus_tags_and_their_description[locus_tag]\n",
    "        except:\n",
    "            pass"
   ]
  },
  {
   "cell_type": "code",
   "execution_count": 31,
   "metadata": {
    "ExecuteTime": {
     "end_time": "2020-01-14T03:05:20.902473Z",
     "start_time": "2020-01-14T03:05:20.892260Z"
    }
   },
   "outputs": [
    {
     "data": {
      "text/plain": [
       "{'CQW49_00500': 'uracil-DNA glycosylase',\n",
       " 'CQW49_00515': 'F0F1 ATP synthase subunit beta',\n",
       " 'CQW49_00520': 'F0F1 ATP synthase subunit epsilon',\n",
       " 'CQW49_00535': 'ATP synthase F0 subunit A',\n",
       " 'CQW49_00540': 'ATP synthase F0 subunit C',\n",
       " 'CQW49_00545': 'F0F1 ATP synthase subunit B',\n",
       " 'CQW49_00550': 'F0F1 ATP synthase subunit alpha',\n",
       " 'CQW49_00555': 'H(+)-transporting ATPase',\n",
       " 'CQW49_00610': 'exodeoxyribonuclease VII large subunit',\n",
       " 'CQW49_00660': 'recombination protein RecR',\n",
       " 'CQW49_00670': 'DNA polymerase III subunit gamma/tau',\n",
       " 'CQW49_00695': 'glutathione S-transferase family protein',\n",
       " 'CQW49_00740': 'nucleotide sugar dehydrogenase',\n",
       " 'CQW49_00750': 'glycosyl transferase family 1',\n",
       " 'CQW49_00915': 'molybdenum cofactor guanylyltransferase MobA',\n",
       " 'CQW49_00955': 'histidinol-phosphatase',\n",
       " 'CQW49_01035': 'phosphoenolpyruvate--protein phosphotransferase',\n",
       " 'CQW49_01055': 'NAD-dependent DNA ligase LigA',\n",
       " 'CQW49_01105': 'chorismate mutase',\n",
       " 'CQW49_01170': '2-dehydropantoate 2-reductase',\n",
       " 'CQW49_01215': 'methane monooxygenase/ammonia monooxygenase subunit C',\n",
       " 'CQW49_01220': 'methane monooxygenase/ammonia monooxygenase subunit A',\n",
       " 'CQW49_01225': 'methane monooxygenase/ammonia monooxygenase subunit B',\n",
       " 'CQW49_01295': 'exodeoxyribonuclease III',\n",
       " 'CQW49_01305': 'single-stranded-DNA-specific exonuclease RecJ',\n",
       " 'CQW49_01315': 'D-alanyl-D-alanine carboxypeptidase',\n",
       " 'CQW49_01325': \"DNA polymerase III subunit delta'\",\n",
       " 'CQW49_01360': 'nucleoside-diphosphate kinase',\n",
       " 'CQW49_01395': 'cysteine desulfurase',\n",
       " 'CQW49_01465': 'PAS domain-containing sensor histidine kinase',\n",
       " 'CQW49_01525': 'peptidase M15',\n",
       " 'CQW49_01530': 'ATP-dependent DNA helicase RecG',\n",
       " 'CQW49_01605': 'MBL fold metallo-hydrolase',\n",
       " 'CQW49_01685': 'CinA family protein',\n",
       " 'CQW49_01705': 'lipoyl synthase',\n",
       " 'CQW49_01860': 'ferredoxin',\n",
       " 'CQW49_01865': 'oxidoreductase',\n",
       " 'CQW49_01965': 'cell division ATP-binding protein FtsE',\n",
       " 'CQW49_01970': 'ABC transporter permease',\n",
       " 'CQW49_01990': 'arylesterase',\n",
       " 'CQW49_02300': 'ribonuclease R',\n",
       " 'CQW49_02390': 'sigma-70 family RNA polymerase sigma factor',\n",
       " 'CQW49_02400': 'gamma-glutamyltransferase',\n",
       " 'CQW49_04375': 'response regulator',\n",
       " 'CQW49_04380': 'PleD family two-component system response regulator',\n",
       " 'CQW49_04395': 'glutathione S-transferase',\n",
       " 'CQW49_04465': 'penicillin acylase family protein',\n",
       " 'CQW49_04470': 'cyclic peptide transporter',\n",
       " 'CQW49_04580': '50S ribosomal protein L33',\n",
       " 'CQW49_04600': 'DNA replication and repair protein RecF',\n",
       " 'CQW49_04610': 'single-stranded DNA-binding protein',\n",
       " 'CQW49_04680': 'sugar transporter',\n",
       " 'CQW49_04705': 'ATP-dependent helicase',\n",
       " 'CQW49_04965': 'short chain dehydrogenase',\n",
       " 'CQW49_05060': 'leucyl aminopeptidase',\n",
       " 'CQW49_05095': 'phosphoenolpyruvate carboxylase',\n",
       " 'CQW49_05280': 'biotin',\n",
       " 'CQW49_05560': 'glutathione S-transferase',\n",
       " 'CQW49_05605': 'RNA polymerase sigma factor',\n",
       " 'CQW49_05610': 'iron dicitrate transport regulator FecR',\n",
       " 'CQW49_05635': 'FAA hydrolase family protein',\n",
       " 'CQW49_05640': 'homogentisate 1,2-dioxygenase',\n",
       " 'CQW49_05645': '4-hydroxyphenylpyruvate dioxygenase',\n",
       " 'CQW49_05670': 'adenylate/guanylate cyclase domain-containing protein',\n",
       " 'CQW49_05720': 'chemotaxis protein CheR',\n",
       " 'CQW49_05885': 'iron dicitrate transport regulator FecR',\n",
       " 'CQW49_05940': 'chemotaxis protein CheR',\n",
       " 'CQW49_06015': 'glutathione peroxidase',\n",
       " 'CQW49_06060': 'leucyl aminopeptidase',\n",
       " 'CQW49_06065': 'dipeptide ABC transporter ATP-binding protein',\n",
       " 'CQW49_06150': 'MbtH family protein',\n",
       " 'CQW49_06175': '5-formyltetrahydrofolate cyclo-ligase',\n",
       " 'CQW49_06290': 'oxygen-independent coproporphyrinogen III oxidase',\n",
       " 'CQW49_06650': 'asparagine synthase',\n",
       " 'CQW49_06695': 'type III PLP-dependent enzyme',\n",
       " 'CQW49_06715': 'Glu/Leu/Phe/Val dehydrogenase',\n",
       " 'CQW49_09295': 'peptidase M48',\n",
       " 'CQW49_09305': 'salicylate 1-monooxygenase',\n",
       " 'CQW49_09325': 'DNA-binding response regulator',\n",
       " 'CQW49_09330': 'PAS domain-containing sensor histidine kinase',\n",
       " 'CQW49_09415': 'deoxyguanosinetriphosphate triphosphohydrolase',\n",
       " 'CQW49_09440': 'sulfate ABC transporter substrate-binding protein',\n",
       " 'CQW49_09570': 'MacB family efflux pump subunit',\n",
       " 'CQW49_09615': 'precorrin methylase',\n",
       " 'CQW49_09740': 'chemotaxis response regulator protein-glutamate methylesterase',\n",
       " 'CQW49_09745': 'chemotaxis protein CheR',\n",
       " 'CQW49_09750': 'chemotaxis protein CheW',\n",
       " 'CQW49_09755': 'methyl-accepting chemotaxis protein',\n",
       " 'CQW49_09760': 'methyl-accepting chemotaxis protein',\n",
       " 'CQW49_09940': 'glucose-6-phosphate isomerase',\n",
       " 'CQW49_10025': 'cytochrome c oxidase assembly protein',\n",
       " 'CQW49_10130': '7-cyano-7-deazaguanine synthase QueC',\n",
       " 'CQW49_10250': 'methane monooxygenase/ammonia monooxygenase subunit B',\n",
       " 'CQW49_10255': 'methane monooxygenase/ammonia monooxygenase subunit A',\n",
       " 'CQW49_10260': 'methane monooxygenase/ammonia monooxygenase subunit C',\n",
       " 'CQW49_10275': '4a-hydroxytetrahydrobiopterin dehydratase',\n",
       " 'CQW49_10360': 'channel protein TolC',\n",
       " 'CQW49_10375': 'phosphatase PAP2 family protein',\n",
       " 'CQW49_10395': 'preprotein translocase subunit SecY',\n",
       " 'CQW49_10400': '50S ribosomal protein L15',\n",
       " 'CQW49_10405': '50S ribosomal protein L30',\n",
       " 'CQW49_10410': '30S ribosomal protein S5',\n",
       " 'CQW49_10415': '50S ribosomal protein L18',\n",
       " 'CQW49_10420': '50S ribosomal protein L6',\n",
       " 'CQW49_10425': '30S ribosomal protein S8',\n",
       " 'CQW49_10430': '30S ribosomal protein S14',\n",
       " 'CQW49_10435': '50S ribosomal protein L5',\n",
       " 'CQW49_10490': '50S ribosomal protein L4',\n",
       " 'CQW49_10515': '30S ribosomal protein S7',\n",
       " 'CQW49_10520': '30S ribosomal protein S12',\n",
       " 'CQW49_10640': '50S ribosomal protein L19',\n",
       " 'CQW49_10685': 'ABC transporter',\n",
       " 'CQW49_10700': '50S ribosomal protein L32',\n",
       " 'CQW49_10755': 'TIGR01244 family phosphatase',\n",
       " 'CQW49_10795': 'DNA-binding response regulator',\n",
       " 'CQW49_10805': 'succinate dehydrogenase, hydrophobic membrane anchor protein',\n",
       " 'CQW49_10875': 'carbonate dehydratase',\n",
       " 'CQW49_10980': 'FAD-binding oxidoreductase',\n",
       " 'CQW49_11110': 'recombinase RecA',\n",
       " 'CQW49_11445': 'serine acetyltransferase',\n",
       " 'CQW49_14125': 'conjugal transfer protein TrbF',\n",
       " 'CQW49_14135': 'conjugal transfer protein TraI',\n",
       " 'CQW49_14310': 'bifunctional tRNA (adenosine(37)-N6)-threonylcarbamoyltransferase complex ATPase subunit type 1 TsaE/phosphotransferase',\n",
       " 'CQW49_14315': 'nucleotidyltransferase family protein',\n",
       " 'CQW49_14320': '50S ribosomal protein L25',\n",
       " 'CQW49_14405': 'quinoprotein dehydrogenase-associated SoxYZ-like carrier',\n",
       " 'CQW49_14430': 'methanol oxidation system protein MoxJ',\n",
       " 'CQW49_14435': 'cytochrome c(L), periplasmic',\n",
       " 'CQW49_14460': 'nonribosomal peptide synthetase MxaA',\n",
       " 'CQW49_14465': 'VWA domain-containing protein',\n",
       " 'CQW49_14470': 'MxaK protein',\n",
       " 'CQW49_14475': 'VWA domain-containing protein',\n",
       " 'CQW49_14480': 'SRPBCC family protein',\n",
       " 'CQW49_14495': 'ATP-binding protein',\n",
       " 'CQW49_14945': 'P-type conjugative transfer protein TrbL',\n",
       " 'CQW49_14960': 'conjugal transfer protein TrbE',\n",
       " 'CQW49_14965': 'conjugal transfer protein',\n",
       " 'CQW49_14970': 'conjugal transfer protein TrbC',\n",
       " 'CQW49_14975': 'P-type conjugative transfer ATPase TrbB',\n",
       " 'CQW49_14985': 'hydroxylamine reductase',\n",
       " 'CQW49_15010': 'conjugal transfer protein TraG',\n",
       " 'CQW49_15360': 'transcriptional regulator',\n",
       " 'CQW49_15440': 'permease',\n",
       " 'CQW49_15465': 'lysine 2,3-aminomutase',\n",
       " 'CQW49_15505': 'lipoate-protein ligase B',\n",
       " 'CQW49_15595': 'dihydroneopterin aldolase',\n",
       " 'CQW49_15620': 'Fur family transcriptional regulator',\n",
       " 'CQW49_15645': 'methyl-accepting chemotaxis protein',\n",
       " 'CQW49_15715': 'ketoacyl-ACP synthase III',\n",
       " 'CQW49_16015': 'bacterioferritin',\n",
       " 'CQW49_16115': '6-phosphofructokinase',\n",
       " 'CQW49_16125': 'formate dehydrogenase subunit alpha',\n",
       " 'CQW49_18250': 'asparagine synthase',\n",
       " 'CQW49_18255': 'aminotransferase class III',\n",
       " 'CQW49_18340': 'aldo/keto reductase',\n",
       " 'CQW49_18380': 'pyruvate kinase',\n",
       " 'CQW49_18435': 'thymidylate synthase (FAD)',\n",
       " 'CQW49_18445': 'bifunctional DNA-formamidopyrimidine glycosylase/DNA-(apurinic or apyrimidinic site) lyase',\n",
       " 'CQW49_18460': 'methyl-accepting chemotaxis protein',\n",
       " 'CQW49_18575': 'tRNA (adenosine(37)-N6)-dimethylallyltransferase MiaA',\n",
       " 'CQW49_18635': 'flagellin',\n",
       " 'CQW49_18640': 'flagellar M-ring protein FliF',\n",
       " 'CQW49_18650': 'flagellar motor protein MotB',\n",
       " 'CQW49_18710': 'flagellum-specific ATP synthase FliI',\n",
       " 'CQW49_18715': 'flagellar biosynthesis protein FlgF',\n",
       " 'CQW49_18720': 'flagellar motor stator protein MotA',\n",
       " 'CQW49_18730': 'flagellar motor switch protein FliN',\n",
       " 'CQW49_18735': 'flagellar motor switch protein FliG',\n",
       " 'CQW49_18780': 'non-canonical purine NTP pyrophosphatase',\n",
       " 'CQW49_18830': 'oxidoreductase',\n",
       " 'CQW49_19195': 'two-component sensor histidine kinase',\n",
       " 'CQW49_19210': 'methane monooxygenase/ammonia monooxygenase subunit C',\n",
       " 'CQW49_19390': 'methyl-accepting chemotaxis protein',\n",
       " 'CQW49_19400': '',\n",
       " 'CQW49_19415': 'sugar transporter',\n",
       " 'CQW49_19420': 'DNA-binding response regulator',\n",
       " 'CQW49_19440': 'serine peptidase',\n",
       " 'CQW49_19460': 'aminopeptidase N',\n",
       " 'CQW49_19530': 'penicillin-binding protein',\n",
       " 'CQW49_19545': 'DNA polymerase III subunit beta',\n",
       " 'CQW49_19585': 'heme transporter HemC',\n",
       " 'CQW49_19605': 'methyl-accepting chemotaxis protein',\n",
       " 'CQW49_19690': 'flagellar hook-associated 3 family protein',\n",
       " 'CQW49_19755': 'flagellar basal body L-ring protein FlgH',\n",
       " 'CQW49_19765': 'flagellar biosynthetic protein FliP',\n",
       " 'CQW49_19770': 'flagellin',\n",
       " 'CQW49_19790': 'RNA pyrophosphohydrolase',\n",
       " 'CQW49_19860': 'channel protein TolC',\n",
       " 'CQW49_19905': 'phosphate ABC transporter permease',\n",
       " 'CQW49_19915': 'ABC transporter ATP-binding protein',\n",
       " 'CQW49_19995': 'Holliday junction branch migration DNA helicase RuvB',\n",
       " 'CQW49_20020': 'cupin',\n",
       " 'CQW49_20025': '50S ribosomal protein L13',\n",
       " 'CQW49_20030': '30S ribosomal protein S9',\n",
       " 'CQW49_20050': 'heme A synthase',\n",
       " 'CQW49_23115': 'glutathione transferase GstA',\n",
       " 'CQW49_23395': 'diaminobutyrate--2-oxoglutarate transaminase',\n",
       " 'CQW49_23485': 'antibiotic synthesis protein MbtH',\n",
       " 'CQW49_23740': 'beta-ketoacyl-ACP reductase',\n",
       " 'CQW49_23910': 'nicotinate phosphoribosyltransferase',\n",
       " 'CQW49_23915': 'ADP-ribose pyrophosphatase',\n",
       " 'CQW49_23995': 'nitrogenase'}"
      ]
     },
     "execution_count": 31,
     "metadata": {},
     "output_type": "execute_result"
    }
   ],
   "source": [
    "OB3b_locus_tags_and_their_description"
   ]
  },
  {
   "cell_type": "code",
   "execution_count": 231,
   "metadata": {
    "ExecuteTime": {
     "end_time": "2020-01-13T11:06:37.194481Z",
     "start_time": "2020-01-13T11:06:37.188119Z"
    }
   },
   "outputs": [],
   "source": [
    "# write python dict to a file\n",
    "with open(memote_directory + \"gem_reconstruction_supplementary_materials/AM1_based_GEM/\" +\\\n",
    "          'OB3b_locus_tags_and_their_description_not_included_in_automatic_GEMs.pkl', 'wb') as output:\n",
    "    pickle.dump(OB3b_locus_tags_and_their_description, output)\n",
    "    \n",
    "import json\n",
    "with open(memote_directory + \"gem_reconstruction_supplementary_materials/AM1_based_GEM/\" +\\\n",
    "          \"OB3b_locus_tags_and_their_description_not_included_in_automatic_GEMs.txt\", \"w\") as file:\n",
    "    file.write(json.dumps(OB3b_locus_tags_and_their_description))"
   ]
  },
  {
   "cell_type": "code",
   "execution_count": 235,
   "metadata": {
    "ExecuteTime": {
     "end_time": "2020-01-13T11:07:21.717052Z",
     "start_time": "2020-01-13T11:07:21.705203Z"
    },
    "scrolled": true
   },
   "outputs": [
    {
     "name": "stdout",
     "output_type": "stream",
     "text": [
      "164 \n",
      " {'CQW49_00415': 'type II secretion system protein GspD', 'CQW49_00425': 'type II secretion system protein GspG', 'CQW49_00500': 'uracil-DNA glycosylase', 'CQW49_00515': 'F0F1 ATP synthase subunit beta', 'CQW49_00520': 'F0F1 ATP synthase subunit epsilon', 'CQW49_00535': 'ATP synthase F0 subunit A', 'CQW49_00540': 'ATP synthase F0 subunit C', 'CQW49_00545': 'F0F1 ATP synthase subunit B', 'CQW49_00550': 'F0F1 ATP synthase subunit alpha', 'CQW49_00555': 'H(+)-transporting ATPase', 'CQW49_00610': 'exodeoxyribonuclease VII large subunit', 'CQW49_00660': 'recombination protein RecR', 'CQW49_00670': 'DNA polymerase III subunit gamma/tau', 'CQW49_00695': 'glutathione S-transferase family protein', 'CQW49_00740': 'nucleotide sugar dehydrogenase', 'CQW49_00750': 'glycosyl transferase family 1', 'CQW49_00915': 'molybdenum cofactor guanylyltransferase MobA', 'CQW49_00955': 'histidinol-phosphatase', 'CQW49_01035': 'phosphoenolpyruvate--protein phosphotransferase', 'CQW49_01055': 'NAD-dependent DNA ligase LigA', 'CQW49_01105': 'chorismate mutase', 'CQW49_01170': '2-dehydropantoate 2-reductase', 'CQW49_01215': 'methane monooxygenase/ammonia monooxygenase subunit C', 'CQW49_01220': 'methane monooxygenase/ammonia monooxygenase subunit A', 'CQW49_01225': 'methane monooxygenase/ammonia monooxygenase subunit B', 'CQW49_01295': 'exodeoxyribonuclease III', 'CQW49_01305': 'single-stranded-DNA-specific exonuclease RecJ', 'CQW49_01315': 'D-alanyl-D-alanine carboxypeptidase', 'CQW49_01325': \"DNA polymerase III subunit delta'\", 'CQW49_01360': 'nucleoside-diphosphate kinase', 'CQW49_01395': 'cysteine desulfurase', 'CQW49_01465': 'PAS domain-containing sensor histidine kinase', 'CQW49_01525': 'peptidase M15', 'CQW49_01530': 'ATP-dependent DNA helicase RecG', 'CQW49_01605': 'MBL fold metallo-hydrolase', 'CQW49_01860': 'ferredoxin', 'CQW49_01865': 'oxidoreductase', 'CQW49_01990': 'arylesterase', 'CQW49_04380': 'PleD family two-component system response regulator', 'CQW49_04395': 'glutathione S-transferase', 'CQW49_04465': 'penicillin acylase family protein', 'CQW49_04470': 'cyclic peptide transporter', 'CQW49_04580': '50S ribosomal protein L33', 'CQW49_04600': 'DNA replication and repair protein RecF', 'CQW49_04610': 'single-stranded DNA-binding protein', 'CQW49_04680': 'sugar transporter', 'CQW49_04705': 'ATP-dependent helicase', 'CQW49_04765': 'DNA primase', 'CQW49_04785': 'phospholipase C, phosphocholine-specific', 'CQW49_04800': 'A/G-specific adenine glycosylase', 'CQW49_04965': 'short chain dehydrogenase', 'CQW49_05040': 'LPS export ABC transporter permease LptG', 'CQW49_05060': 'leucyl aminopeptidase', 'CQW49_05095': 'phosphoenolpyruvate carboxylase', 'CQW49_05280': 'biotin', 'CQW49_05560': 'glutathione S-transferase', 'CQW49_05635': 'FAA hydrolase family protein', 'CQW49_05640': 'homogentisate 1,2-dioxygenase', 'CQW49_05645': '4-hydroxyphenylpyruvate dioxygenase', 'CQW49_05670': 'adenylate/guanylate cyclase domain-containing protein', 'CQW49_05720': 'chemotaxis protein CheR', 'CQW49_05885': 'iron dicitrate transport regulator FecR', 'CQW49_05940': 'chemotaxis protein CheR', 'CQW49_06015': 'glutathione peroxidase', 'CQW49_06060': 'leucyl aminopeptidase', 'CQW49_06065': 'dipeptide ABC transporter ATP-binding protein', 'CQW49_06090': 'ABC transporter permease', 'CQW49_06095': 'microcin C ABC transporter permease YejB', 'CQW49_06120': 'sensor histidine kinase', 'CQW49_06150': 'MbtH family protein', 'CQW49_06175': '5-formyltetrahydrofolate cyclo-ligase', 'CQW49_06290': 'oxygen-independent coproporphyrinogen III oxidase', 'CQW49_06650': 'asparagine synthase', 'CQW49_06695': 'type III PLP-dependent enzyme', 'CQW49_06715': 'Glu/Leu/Phe/Val dehydrogenase', 'CQW49_06725': 'pyruvate dehydrogenase (acetyl-transferring) E1 component subunit alpha', 'CQW49_06730': 'alpha-ketoacid dehydrogenase subunit beta', 'CQW49_06735': '2-oxo acid dehydrogenase subunit E2', 'CQW49_06750': 'D-glycerate dehydrogenase', 'CQW49_09415': 'deoxyguanosinetriphosphate triphosphohydrolase', 'CQW49_09440': 'sulfate ABC transporter substrate-binding protein', 'CQW49_09615': 'precorrin methylase', 'CQW49_09740': 'chemotaxis response regulator protein-glutamate methylesterase', 'CQW49_09745': 'chemotaxis protein CheR', 'CQW49_09750': 'chemotaxis protein CheW', 'CQW49_09755': 'methyl-accepting chemotaxis protein', 'CQW49_09760': 'methyl-accepting chemotaxis protein', 'CQW49_09765': 'chemotaxis protein CheW', 'CQW49_09770': 'chemotaxis protein CheA', 'CQW49_09775': 'response regulator', 'CQW49_09940': 'glucose-6-phosphate isomerase', 'CQW49_10025': 'cytochrome c oxidase assembly protein', 'CQW49_10100': 'DNA-binding response regulator', 'CQW49_10105': 'PAS domain-containing sensor histidine kinase', 'CQW49_10130': '7-cyano-7-deazaguanine synthase QueC', 'CQW49_10250': 'methane monooxygenase/ammonia monooxygenase subunit B', 'CQW49_10255': 'methane monooxygenase/ammonia monooxygenase subunit A', 'CQW49_10260': 'methane monooxygenase/ammonia monooxygenase subunit C', 'CQW49_10275': '4a-hydroxytetrahydrobiopterin dehydratase', 'CQW49_10400': '50S ribosomal protein L15', 'CQW49_10410': '30S ribosomal protein S5', 'CQW49_10415': '50S ribosomal protein L18', 'CQW49_10420': '50S ribosomal protein L6', 'CQW49_10425': '30S ribosomal protein S8', 'CQW49_10430': '30S ribosomal protein S14', 'CQW49_10435': '50S ribosomal protein L5', 'CQW49_10440': '50S ribosomal protein L24', 'CQW49_10445': '50S ribosomal protein L14', 'CQW49_10450': '30S ribosomal protein S17', 'CQW49_10455': '50S ribosomal protein L29', 'CQW49_10460': '50S ribosomal protein L16', 'CQW49_10465': '30S ribosomal protein S3', 'CQW49_10685': 'ABC transporter', 'CQW49_10700': '50S ribosomal protein L32', 'CQW49_10755': 'TIGR01244 family phosphatase', 'CQW49_10795': 'DNA-binding response regulator', 'CQW49_10805': 'succinate dehydrogenase, hydrophobic membrane anchor protein', 'CQW49_10875': 'carbonate dehydratase', 'CQW49_10980': 'FAD-binding oxidoreductase', 'CQW49_11110': 'recombinase RecA', 'CQW49_11200': 'penicillin-binding protein 2', 'CQW49_11325': 'preprotein translocase subunit SecE', 'CQW49_11335': '50S ribosomal protein L11', 'CQW49_11340': '50S ribosomal protein L1', 'CQW49_11355': 'exodeoxyribonuclease VII small subunit', 'CQW49_11620': 'cytochrome bd-I oxidase subunit CydX', 'CQW49_11765': 'Crp/Fnr family transcriptional regulator', 'CQW49_14310': 'bifunctional tRNA (adenosine(37)-N6)-threonylcarbamoyltransferase complex ATPase subunit type 1 TsaE/phosphotransferase', 'CQW49_14315': 'nucleotidyltransferase family protein', 'CQW49_14405': 'quinoprotein dehydrogenase-associated SoxYZ-like carrier', 'CQW49_14430': 'methanol oxidation system protein MoxJ', 'CQW49_14435': 'cytochrome c(L), periplasmic', 'CQW49_14460': 'nonribosomal peptide synthetase MxaA', 'CQW49_14465': 'VWA domain-containing protein', 'CQW49_14470': 'MxaK protein', 'CQW49_14475': 'VWA domain-containing protein', 'CQW49_14480': 'SRPBCC family protein', 'CQW49_14495': 'ATP-binding protein', 'CQW49_14625': 'P-type conjugative transfer protein TrbL', 'CQW49_14630': 'conjugal transfer protein TrbF', 'CQW49_14635': 'P-type conjugative transfer protein TrbG', 'CQW49_14640': 'conjugal transfer protein TraI', 'CQW49_14840': 'CusA/CzcA family heavy metal efflux RND transporter', 'CQW49_14845': 'efflux RND transporter periplasmic adaptor subunit', 'CQW49_14880': 'DNA-binding response regulator', 'CQW49_14930': 'conjugal transfer protein TraI', 'CQW49_14935': 'P-type conjugative transfer protein TrbG', 'CQW49_15725': 'iron dicitrate transport regulator FecR', 'CQW49_15740': 'lycopene beta cyclase', 'CQW49_16215': 'CoA ester lyase', 'CQW49_19210': 'methane monooxygenase/ammonia monooxygenase subunit C', 'CQW49_19415': 'sugar transporter', 'CQW49_19440': 'serine peptidase', 'CQW49_19460': 'aminopeptidase N', 'CQW49_19530': 'penicillin-binding protein', 'CQW49_19545': 'DNA polymerase III subunit beta', 'CQW49_19585': 'heme transporter HemC', 'CQW49_19605': 'methyl-accepting chemotaxis protein', 'CQW49_19625': 'chemotaxis protein CheD', 'CQW49_19630': 'response regulator', 'CQW49_19635': 'chemotaxis response regulator protein-glutamate methylesterase', 'CQW49_19640': 'chemotaxis protein', 'CQW49_19650': 'response regulator', 'CQW49_19655': 'STAS domain-containing protein'}\n"
     ]
    }
   ],
   "source": [
    "# read python dict back from the file\n",
    "pkl_file = open(memote_directory + \"gem_reconstruction_supplementary_materials/AM1_based_GEM/\" +\\\n",
    "                'OB3b_locus_tags_and_their_description_not_included_in_automatic_GEMs.pkl', 'rb')\n",
    "OB3b_locus_tags_and_their_description = pickle.load(pkl_file)\n",
    "pkl_file.close()\n",
    "\n",
    "print (len(OB3b_locus_tags_and_their_description), '\\n', OB3b_locus_tags_and_their_description)"
   ]
  },
  {
   "cell_type": "markdown",
   "metadata": {},
   "source": [
    "# Add reactions based on the files:\n",
    "2 files to look for are reactions are OB3b_locus_tags_and_their_description_not_included_in_automatic_GEMs.pkl and OB3b_locus_tags_EC_number_no_KEGG_subsystems_filtered.pkl\n",
    "<br>**Note:** Ignore genes which have unspecified metabolites in reactions"
   ]
  },
  {
   "cell_type": "code",
   "execution_count": 534,
   "metadata": {
    "ExecuteTime": {
     "end_time": "2020-01-14T09:48:43.266667Z",
     "start_time": "2020-01-14T09:48:41.999181Z"
    }
   },
   "outputs": [
    {
     "name": "stdout",
     "output_type": "stream",
     "text": [
      "CQW49_00515 K02112  F-type H+/Na+-transporting ATPase subunit beta [EC:7.1.2.2 7.2.2.1]\n",
      "CQW49_00550 K02111  F-type H+/Na+-transporting ATPase subunit alpha [EC:7.1.2.2 7.2.2.1]\n",
      "CQW49_00695 K00799  glutathione S-transferase [EC:2.5.1.18]\n",
      "CQW49_00740 K13015  UDP-N-acetyl-D-glucosamine dehydrogenase [EC:1.1.1.136]\n",
      "CQW49_00750 K13668  phosphatidyl-myo-inositol dimannoside synthase [EC:2.4.1.346]\n",
      "CQW49_00915 K03752  molybdenum cofactor guanylyltransferase [EC:2.7.7.77]\n",
      "CQW49_00955 K01092  myo-inositol-1(or 4)-monophosphatase [EC:3.1.3.25]\n",
      "CQW49_01105 K04782  isochorismate pyruvate lyase [EC:4.2.99.21]\n",
      "CQW49_01170 K00077  2-dehydropantoate 2-reductase [EC:1.1.1.169]\n",
      "CQW49_01220 K10944  methane/ammonia monooxygenase subunit A [EC:1.14.18.3 1.14.99.39]\n",
      "CQW49_01315 K07258  serine-type D-Ala-D-Ala carboxypeptidase (penicillin-binding protein 5/6) [EC:3.4.16.4]\n",
      "CQW49_01360 K00940  nucleoside-diphosphate kinase [EC:2.7.4.6]\n",
      "CQW49_01395 K11717  cysteine desulfurase / selenocysteine lyase [EC:2.8.1.7 4.4.1.16]\n",
      "CQW49_01605 K06167  phosphoribosyl 1,2-cyclic phosphate phosphodiesterase [EC:3.1.4.55]\n",
      "CQW49_01685 K03743  nicotinamide-nucleotide amidase [EC:3.5.1.42]\n",
      "CQW49_01705 K03644  lipoyl synthase [EC:2.8.1.8]\n",
      "CQW49_01865 K05275  pyridoxine 4-dehydrogenase [EC:1.1.1.65]\n",
      "CQW49_01990 K10804  acyl-CoA thioesterase I [EC:3.1.2.- 3.1.2.2 3.1.1.2 3.1.1.5]\n",
      "CQW49_02040 K00799  glutathione S-transferase [EC:2.5.1.18]\n",
      "CQW49_02400 K00681  gamma-glutamyltranspeptidase / glutathione hydrolase [EC:2.3.2.2 3.4.19.13]\n",
      "CQW49_02415 K01007  pyruvate, water dikinase [EC:2.7.9.2]\n",
      "CQW49_02635 K00819  ornithine--oxo-acid transaminase [EC:2.6.1.13]\n",
      "CQW49_02845 K01524  exopolyphosphatase / guanosine-5'-triphosphate,3'-diphosphate pyrophosphatase [EC:3.6.1.11 3.6.1.40]\n",
      "CQW49_02865 K08744  cardiolipin synthase (CMP-forming) [EC:2.7.8.41]\n",
      "CQW49_02960 K10764  O-succinylhomoserine sulfhydrylase [EC:2.5.1.-]\n",
      "CQW49_03105 K00384  thioredoxin reductase (NADPH) [EC:1.8.1.9]\n",
      "CQW49_03170 K00836  diaminobutyrate-2-oxoglutarate transaminase [EC:2.6.1.76]\n",
      "CQW49_03180 K00274  monoamine oxidase [EC:1.4.3.4]\n",
      "CQW49_03300 K01535  H+-transporting ATPase [EC:7.1.2.1]\n",
      "CQW49_03335 K00697  trehalose 6-phosphate synthase [EC:2.4.1.15 2.4.1.347]\n",
      "CQW49_03485 K00333  NADH-quinone oxidoreductase subunit D [EC:7.1.1.2]\n",
      "CQW49_03930 K00769  xanthine phosphoribosyltransferase [EC:2.4.2.22]\n",
      "CQW49_04105 K02619  4-amino-4-deoxychorismate lyase [EC:4.1.3.38]\n",
      "CQW49_04110 K01665  para-aminobenzoate synthetase component I [EC:2.6.1.85]\n",
      "CQW49_04145 K00059  3-oxoacyl-[acyl-carrier protein] reductase [EC:1.1.1.100]\n",
      "CQW49_04245 K09019  3-hydroxypropanoate dehydrogenase [EC:1.1.1.-]\n",
      "CQW49_04395 K00799  glutathione S-transferase [EC:2.5.1.18]\n",
      "CQW49_04465 K01434  penicillin amidase [EC:3.5.1.11]\n",
      "CQW49_05060 K01255  leucyl aminopeptidase [EC:3.4.11.1]\n",
      "CQW49_05095 K01595  phosphoenolpyruvate carboxylase [EC:4.1.1.31]\n",
      "CQW49_05280 K03524  BirA family transcriptional regulator, biotin operon repressor / biotin---[acetyl-CoA-carboxylase] ligase [EC:6.3.4.15]\n",
      "CQW49_05560 K00799  glutathione S-transferase [EC:2.5.1.18]\n",
      "CQW49_05635 K16171  fumarylacetoacetate (FAA) hydrolase [EC:3.7.1.2]\n",
      "CQW49_05640 K00451  homogentisate 1,2-dioxygenase [EC:1.13.11.5]\n",
      "CQW49_05645 K00457  4-hydroxyphenylpyruvate dioxygenase [EC:1.13.11.27]\n",
      "CQW49_05670 K01768  adenylate cyclase [EC:4.6.1.1]\n",
      "CQW49_06015 K00432  glutathione peroxidase [EC:1.11.1.9]\n",
      "CQW49_06060 K01255  leucyl aminopeptidase [EC:3.4.11.1]\n",
      "CQW49_06175 K01934  5-formyltetrahydrofolate cyclo-ligase [EC:6.3.3.2]\n",
      "CQW49_06290 K02495  oxygen-independent coproporphyrinogen III oxidase [EC:1.3.98.3]\n",
      "CQW49_06425 K07160  5-oxoprolinase (ATP-hydrolysing) subunit A [EC:3.5.2.9]\n",
      "CQW49_06650 K01953  asparagine synthase (glutamine-hydrolysing) [EC:6.3.5.4]\n",
      "CQW49_06695 K01581  ornithine decarboxylase [EC:4.1.1.17]\n",
      "CQW49_06715 K00261  glutamate dehydrogenase (NAD(P)+) [EC:1.4.1.3]\n",
      "CQW49_06725 K00161  pyruvate dehydrogenase E1 component alpha subunit [EC:1.2.4.1]\n",
      "CQW49_06730 K00162  pyruvate dehydrogenase E1 component beta subunit [EC:1.2.4.1]\n",
      "CQW49_06735 K00627  pyruvate dehydrogenase E2 component (dihydrolipoamide acetyltransferase) [EC:2.3.1.12]\n",
      "CQW49_06750 K00015  glyoxylate reductase [EC:1.1.1.26]\n",
      "CQW49_06835 K01953  asparagine synthase (glutamine-hydrolysing) [EC:6.3.5.4]\n",
      "CQW49_06900 K08678  UDP-glucuronate decarboxylase [EC:4.1.1.35]\n",
      "CQW49_07145 K00817  histidinol-phosphate aminotransferase [EC:2.6.1.9]\n",
      "CQW49_07215 K18199  cyclohexyl-isocyanide hydratase [EC:4.2.1.103]\n",
      "CQW49_07590 K00558  DNA (cytosine-5)-methyltransferase 1 [EC:2.1.1.37]\n",
      "CQW49_07785 K00558  DNA (cytosine-5)-methyltransferase 1 [EC:2.1.1.37]\n",
      "CQW49_08660 K00640  serine O-acetyltransferase [EC:2.3.1.30]\n",
      "CQW49_08665 K02594  homocitrate synthase NifV [EC:2.3.3.14]\n",
      "CQW49_08720 K02591  nitrogenase molybdenum-iron protein beta chain [EC:1.18.6.1]\n",
      "CQW49_08725 K02586  nitrogenase molybdenum-iron protein alpha chain [EC:1.18.6.1]\n",
      "CQW49_09000 K01183  chitinase [EC:3.2.1.14]\n",
      "CQW49_09095 K14731  epsilon-lactone hydrolase [EC:3.1.1.83]\n",
      "CQW49_09105 K00788  thiamine-phosphate pyrophosphorylase [EC:2.5.1.3]\n",
      "CQW49_09160 K01667  tryptophanase [EC:4.1.99.1]\n",
      "CQW49_09165 K00500  phenylalanine-4-hydroxylase [EC:1.14.16.1]\n",
      "CQW49_09295 K06013  STE24 endopeptidase [EC:3.4.24.84]\n",
      "CQW49_09305 K00480  salicylate hydroxylase [EC:1.14.13.1]\n",
      "CQW49_09405 K00329  NADH dehydrogenase [EC:7.1.1.2]\n",
      "K00356  NADH dehydrogenase [EC:1.6.99.3]\n",
      "CQW49_09415 K01129  dGTPase [EC:3.1.5.1]\n",
      "CQW49_09585 K02229  precorrin-3B synthase [EC:1.14.13.83]\n",
      "CQW49_09615 K02189  cobalt-precorrin 5A hydrolase [EC:3.7.1.12]\n",
      "CQW49_09715 K01666  4-hydroxy 2-oxovalerate aldolase [EC:4.1.3.39]\n",
      "CQW49_09940 K01810  glucose-6-phosphate isomerase [EC:5.3.1.9]\n",
      "CQW49_10130 K06920  7-cyano-7-deazaguanine synthase [EC:6.3.4.20]\n",
      "CQW49_10255 K10944  methane/ammonia monooxygenase subunit A [EC:1.14.18.3 1.14.99.39]\n",
      "CQW49_10275 K01724  4a-hydroxytetrahydrobiopterin dehydratase [EC:4.2.1.96]\n",
      "CQW49_10755 K17218  sulfide:quinone oxidoreductase [EC:1.8.5.4]\n",
      "CQW49_10875 K01673  carbonic anhydrase [EC:4.2.1.1]\n",
      "CQW49_10980 K00285  D-amino-acid dehydrogenase [EC:1.4.5.1]\n",
      "CQW49_11405 K23264  phosphoribosylformylglycinamidine synthase subunit PurS [EC:6.3.5.3]\n",
      "CQW49_11445 K00640  serine O-acetyltransferase [EC:2.3.1.30]\n",
      "CQW49_11820 K04712  sphingolipid 4-desaturase/C4-monooxygenase [EC:1.14.19.17 1.14.18.5]\n",
      "CQW49_12010 K00259  alanine dehydrogenase [EC:1.4.1.1]\n",
      "CQW49_12030 K00948  ribose-phosphate pyrophosphokinase [EC:2.7.6.1]\n",
      "CQW49_12035 K00763  nicotinate phosphoribosyltransferase [EC:6.3.4.21]\n",
      "CQW49_12140 K19664  CDP-2,3-bis-(O-geranylgeranyl)-sn-glycerol synthase [EC:2.7.7.67]\n",
      "CQW49_12245 K11529  glycerate 2-kinase [EC:2.7.1.165]\n",
      "CQW49_12295 K16165  fumarylpyruvate hydrolase [EC:3.7.1.20]\n",
      "CQW49_12405 K00640  serine O-acetyltransferase [EC:2.3.1.30]\n",
      "CQW49_12520 K00558  DNA (cytosine-5)-methyltransferase 1 [EC:2.1.1.37]\n",
      "CQW49_12845 K01673  carbonic anhydrase [EC:4.2.1.1]\n",
      "CQW49_12935 K01692  enoyl-CoA hydratase [EC:4.2.1.17]\n",
      "CQW49_12940 K01640  hydroxymethylglutaryl-CoA lyase [EC:4.1.3.4]\n",
      "CQW49_12945 K01968  3-methylcrotonyl-CoA carboxylase alpha subunit [EC:6.4.1.4]\n",
      "CQW49_12950 K13766  methylglutaconyl-CoA hydratase [EC:4.2.1.18]\n",
      "CQW49_12955 K01969  3-methylcrotonyl-CoA carboxylase beta subunit [EC:6.4.1.4]\n",
      "CQW49_12960 K00253  isovaleryl-CoA dehydrogenase [EC:1.3.8.4]\n",
      "CQW49_12970 K01087  trehalose 6-phosphate phosphatase [EC:3.1.3.12]\n",
      "CQW49_13000 K02275  cytochrome c oxidase subunit II [EC:1.9.3.1]\n",
      "CQW49_13005 K15408  cytochrome c oxidase subunit I+III [EC:1.9.3.1]\n",
      "CQW49_13240 K05367  penicillin-binding protein 1C [EC:2.4.1.129]\n",
      "CQW49_13305 K17218  sulfide:quinone oxidoreductase [EC:1.8.5.4]\n",
      "CQW49_13350 K00283  glycine dehydrogenase subunit 2 [EC:1.4.4.2]\n",
      "CQW49_13355 K00282  glycine dehydrogenase subunit 1 [EC:1.4.4.2]\n",
      "CQW49_13470 K01814  phosphoribosylformimino-5-aminoimidazole carboxamide ribotide isomerase [EC:5.3.1.16]\n",
      "CQW49_13475 K10713  5,6,7,8-tetrahydromethanopterin hydro-lyase [EC:4.2.1.147]\n",
      "CQW49_14310 K07102  N-acetylmuramate 1-kinase [EC:2.7.1.221]\n",
      "CQW49_14315 K00992  N-acetyl-alpha-D-muramate 1-phosphate uridylyltransferase [EC:2.7.7.99]\n",
      "CQW49_14985 K05601  hydroxylamine reductase [EC:1.7.99.1]\n",
      "CQW49_15360 K00847  fructokinase [EC:2.7.1.4]\n",
      "CQW49_15465 K01843  lysine 2,3-aminomutase [EC:5.4.3.2]\n",
      "CQW49_15505 K03801  lipoyl(octanoyl) transferase [EC:2.3.1.181]\n",
      "CQW49_15595 K01633  7,8-dihydroneopterin aldolase/epimerase/oxygenase [EC:4.1.2.25 5.1.99.8 1.13.11.81]\n",
      "CQW49_15715 K00648  3-oxoacyl-[acyl-carrier-protein] synthase III [EC:2.3.1.180]\n",
      "CQW49_15740 K00316  spermidine dehydrogenase [EC:1.5.99.6]\n",
      "CQW49_16015 K03594  bacterioferritin [EC:1.16.3.1]\n",
      "CQW49_16115 K21071  ATP-dependent phosphofructokinase / diphosphate-dependent phosphofructokinase [EC:2.7.1.11 2.7.1.90]\n",
      "CQW49_16125 K00123  formate dehydrogenase major subunit [EC:1.17.1.9]\n",
      "CQW49_16180 K00762  orotate phosphoribosyltransferase [EC:2.4.2.10]\n",
      "CQW49_16215 K08691  malyl-CoA/(S)-citramalyl-CoA lyase [EC:4.1.3.24 4.1.3.25]\n",
      "CQW49_16440 K01649  2-isopropylmalate synthase [EC:2.3.3.13]\n",
      "CQW49_16550 K00799  glutathione S-transferase [EC:2.5.1.18]\n",
      "CQW49_16720 K15856  GDP-4-dehydro-6-deoxy-D-mannose reductase [EC:1.1.1.281]\n",
      "CQW49_16905 K15634  probable phosphoglycerate mutase [EC:5.4.2.12]\n",
      "CQW49_17075 K00101  L-lactate dehydrogenase (cytochrome) [EC:1.1.2.3]\n",
      "CQW49_17110 K06045  squalene-hopene/tetraprenyl-beta-curcumene cyclase [EC:5.4.99.17 4.2.1.129]\n",
      "CQW49_17220 K07106  N-acetylmuramic acid 6-phosphate etherase [EC:4.2.1.126]\n",
      "CQW49_17240 K00108  choline dehydrogenase [EC:1.1.99.1]\n",
      "CQW49_17480 K00720  ceramide glucosyltransferase [EC:2.4.1.80]\n",
      "CQW49_17595 K01092  myo-inositol-1(or 4)-monophosphatase [EC:3.1.3.25]\n",
      "CQW49_17760 K10026  7-carboxy-7-deazaguanine synthase [EC:4.3.99.3]\n",
      "CQW49_17850 K02230  cobaltochelatase CobN [EC:6.6.1.2]\n",
      "CQW49_17895 K00819  ornithine--oxo-acid transaminase [EC:2.6.1.13]\n",
      "CQW49_17905 K00128  aldehyde dehydrogenase (NAD+) [EC:1.2.1.3]\n",
      "CQW49_18060 K00957  sulfate adenylyltransferase subunit 2 [EC:2.7.7.4]\n",
      "CQW49_18065 K00955  bifunctional enzyme CysN/CysC [EC:2.7.7.4 2.7.1.25]\n",
      "CQW49_18250 K01953  asparagine synthase (glutamine-hydrolysing) [EC:6.3.5.4]\n",
      "CQW49_18255 K00821  acetylornithine/N-succinyldiaminopimelate aminotransferase [EC:2.6.1.11 2.6.1.17]\n",
      "CQW49_18340 K00064  D-threo-aldose 1-dehydrogenase [EC:1.1.1.122]\n",
      "CQW49_18380 K00873  pyruvate kinase [EC:2.7.1.40]\n",
      "CQW49_18435 K03465  thymidylate synthase (FAD) [EC:2.1.1.148]\n",
      "CQW49_18575 K00791  tRNA dimethylallyltransferase [EC:2.5.1.75]\n",
      "CQW49_18780 K02428  XTP/dITP diphosphohydrolase [EC:3.6.1.66]\n",
      "CQW49_18830 K19745  acrylyl-CoA reductase (NADPH) [EC:1.3.1.-]\n",
      "CQW49_19460 K01256  aminopeptidase N [EC:3.4.11.2]\n",
      "CQW49_19980 K00274  monoamine oxidase [EC:1.4.3.4]\n",
      "CQW49_20020 K01569  oxalate decarboxylase [EC:4.1.1.2]\n",
      "CQW49_20165 K03750  molybdopterin molybdotransferase [EC:2.10.1.1]\n",
      "CQW49_20215 K01673  carbonic anhydrase [EC:4.2.1.1]\n",
      "CQW49_20545 K01560  2-haloacid dehalogenase [EC:3.8.1.2]\n",
      "CQW49_20655 K09880  enolase-phosphatase E1 [EC:3.1.3.77]\n",
      "CQW49_20700 K01574  acetoacetate decarboxylase [EC:4.1.1.4]\n",
      "CQW49_20725 K10804  acyl-CoA thioesterase I [EC:3.1.2.- 3.1.2.2 3.1.1.2 3.1.1.5]\n",
      "CQW49_20795 K01907  acetoacetyl-CoA synthetase [EC:6.2.1.16]\n",
      "CQW49_20955 K07232  glutathione-specific gamma-glutamylcyclotransferase [EC:4.3.2.7]\n",
      "CQW49_21030 K01761  methionine-gamma-lyase [EC:4.4.1.11]\n",
      "CQW49_21090 K19302  undecaprenyl-diphosphatase [EC:3.6.1.27]\n",
      "CQW49_21200 K18199  cyclohexyl-isocyanide hydratase [EC:4.2.1.103]\n",
      "CQW49_21250 K01692  enoyl-CoA hydratase [EC:4.2.1.17]\n",
      "CQW49_21325 K01428  urease subunit alpha [EC:3.5.1.5]\n",
      "CQW49_21330 K01429  urease subunit beta [EC:3.5.1.5]\n",
      "CQW49_21335 K01430  urease subunit gamma [EC:3.5.1.5]\n",
      "CQW49_21545 K06133  4'-phosphopantetheinyl transferase [EC:2.7.8.-]\n",
      "CQW49_21585 K17224  S-sulfosulfanyl-L-cysteine sulfohydrolase [EC:3.1.6.20]\n",
      "CQW49_21955 K02586  nitrogenase molybdenum-iron protein alpha chain [EC:1.18.6.1]\n",
      "CQW49_21985 K11717  cysteine desulfurase / selenocysteine lyase [EC:2.8.1.7 4.4.1.16]\n",
      "CQW49_22035 K07141  molybdenum cofactor cytidylyltransferase [EC:2.7.7.76]\n",
      "CQW49_22055 K01130  arylsulfatase [EC:3.1.6.1]\n",
      "CQW49_22080 K01512  acylphosphatase [EC:3.6.1.7]\n",
      "CQW49_22130 K22622  S-disulfanyl-L-cysteine oxidoreductase SoxD [EC:1.8.2.6]\n",
      "CQW49_22875 K00240  succinate dehydrogenase / fumarate reductase, iron-sulfur subunit [EC:1.3.5.1 1.3.5.4]\n",
      "CQW49_22910 K01720  2-methylcitrate dehydratase [EC:4.2.1.79]\n",
      "CQW49_22935 K04561  nitric oxide reductase subunit B [EC:1.7.2.5]\n",
      "CQW49_23115 K00799  glutathione S-transferase [EC:2.5.1.18]\n",
      "CQW49_23395 K00836  diaminobutyrate-2-oxoglutarate transaminase [EC:2.6.1.76]\n",
      "CQW49_23740 K00648  3-oxoacyl-[acyl-carrier-protein] synthase III [EC:2.3.1.180]\n",
      "CQW49_23910 K03462  nicotinamide phosphoribosyltransferase [EC:2.4.2.12]\n",
      "CQW49_23915 K13522  bifunctional NMN adenylyltransferase/nudix hydrolase [EC:2.7.7.1 3.6.1.-]\n",
      "CQW49_23995 K02586  nitrogenase molybdenum-iron protein alpha chain [EC:1.18.6.1]\n"
     ]
    }
   ],
   "source": [
    "for locus_tag in OB3b_locus_tags_and_their_description:\n",
    "    gene_entry = genes[\"mtw:\"+locus_tag]\n",
    "    print(locus_tag, gene_entry.orthology)"
   ]
  },
  {
   "cell_type": "code",
   "execution_count": 561,
   "metadata": {
    "ExecuteTime": {
     "end_time": "2020-01-14T10:02:17.174556Z",
     "start_time": "2020-01-14T10:02:17.170393Z"
    }
   },
   "outputs": [
    {
     "data": {
      "text/plain": [
       "531"
      ]
     },
     "execution_count": 561,
     "metadata": {},
     "output_type": "execute_result"
    }
   ],
   "source": [
    "len(OB3b_locus_tags_and_their_description)"
   ]
  },
  {
   "cell_type": "code",
   "execution_count": 540,
   "metadata": {
    "ExecuteTime": {
     "end_time": "2020-01-14T09:49:52.667693Z",
     "start_time": "2020-01-14T09:49:52.346646Z"
    },
    "scrolled": true
   },
   "outputs": [
    {
     "name": "stdout",
     "output_type": "stream",
     "text": [
      "CQW49_00140 K00091  dihydroflavonol-4-reductase [EC:1.1.1.219]\n",
      "CQW49_01090 K07447  putative holliday junction resolvase [EC:3.1.-.-]\n",
      "CQW49_01150 K03827  putative acetyltransferase [EC:2.3.1.-]\n",
      "CQW49_01200 K00428  cytochrome c peroxidase [EC:1.11.1.5]\n",
      "CQW49_01205 K00428  cytochrome c peroxidase [EC:1.11.1.5]\n",
      "CQW49_01435 K09001  anhydro-N-acetylmuramic acid kinase [EC:2.7.1.170]\n",
      "CQW49_01520 K03824  putative acetyltransferase [EC:2.3.1.-]\n",
      "CQW49_01535 K11209  GSH-dependent disulfide-bond oxidoreductase [EC:1.8.4.-]\n",
      "CQW49_01600 K03424  TatD DNase family protein [EC:3.1.21.-]\n",
      "CQW49_01720 K01286  D-alanyl-D-alanine carboxypeptidase [EC:3.4.16.4]\n",
      "CQW49_01820 K04090  indolepyruvate ferredoxin oxidoreductase [EC:1.2.7.8]\n",
      "CQW49_02170 K03564  peroxiredoxin Q/BCP [EC:1.11.1.15]\n",
      "CQW49_02185 K00573  protein-L-isoaspartate(D-aspartate) O-methyltransferase [EC:2.1.1.77]\n",
      "CQW49_03190 K03579  ATP-dependent helicase HrpB [EC:3.6.4.13]\n",
      "CQW49_03350 K06137  pyrroloquinoline-quinone synthase [EC:1.3.3.11]\n",
      "CQW49_03355 K06139  PqqA peptide cyclase [EC:1.21.98.4]\n",
      "CQW49_03410 K07336  PKHD-type hydroxylase [EC:1.14.11.-]\n",
      "CQW49_03415 K07336  PKHD-type hydroxylase [EC:1.14.11.-]\n",
      "CQW49_03865 K00428  cytochrome c peroxidase [EC:1.11.1.5]\n",
      "CQW49_04460 K22310  L-ornithine Nalpha-acyltransferase [EC:2.3.2.30]\n",
      "CQW49_04835 K03820  apolipoprotein N-acyltransferase [EC:2.3.1.269]\n",
      "CQW49_06355 K08296  phosphohistidine phosphatase [EC:3.1.3.-]\n",
      "CQW49_07135 K00428  cytochrome c peroxidase [EC:1.11.1.5]\n",
      "CQW49_07330 K01185  lysozyme [EC:3.2.1.17]\n",
      "CQW49_08325 K10531  L-ornithine N5-monooxygenase [EC:1.14.13.195 1.14.13.196]\n",
      "CQW49_08480 K14744  prophage endopeptidase [EC:3.4.-.-]\n",
      "CQW49_08640 K00313  electron transfer flavoprotein-quinone oxidoreductase [EC:1.5.5.-]\n",
      "CQW49_08840 K19428  sugar transferase EpsL [EC:2.-.-.-]\n",
      "CQW49_08960 K11206  deaminated glutathione amidase [EC:3.5.1.128]\n",
      "CQW49_09565 K00612  carbamoyltransferase [EC:2.1.3.-]\n",
      "CQW49_10295 K03478  chitin disaccharide deacetylase [EC:3.5.1.105]\n",
      "CQW49_10355 K00573  protein-L-isoaspartate(D-aspartate) O-methyltransferase [EC:2.1.1.77]\n",
      "CQW49_11480 K00537  arsenate reductase (glutaredoxin) [EC:1.20.4.1]\n",
      "CQW49_11545 K14660  nodulation protein E [EC:2.3.1.-]\n",
      "CQW49_11730 K21677  hydroxysqualene dehydroxylase [EC:1.17.8.1]\n",
      "CQW49_11735 K21678  presqualene diphosphate synthase [EC:2.5.1.103]\n",
      "CQW49_12170 K05810  polyphenol oxidase [EC:1.10.3.-]\n",
      "CQW49_12180 K13292  phosphatidylglycerol---prolipoprotein diacylglyceryl transferase [EC:2.5.1.145]\n",
      "CQW49_12190 K07305  peptide-methionine (R)-S-oxide reductase [EC:1.8.4.12]\n",
      "CQW49_12730 K00982  [glutamine synthetase] adenylyltransferase / [glutamine synthetase]-adenylyl-L-tyrosine phosphorylase [EC:2.7.7.42 2.7.7.89]\n",
      "CQW49_13155 K07304  peptide-methionine (S)-S-oxide reductase [EC:1.8.4.11]\n",
      "CQW49_13610 K01286  D-alanyl-D-alanine carboxypeptidase [EC:3.4.16.4]\n",
      "CQW49_14685 K07336  PKHD-type hydroxylase [EC:1.14.11.-]\n",
      "CQW49_15865 K01537  P-type Ca2+ transporter type 2C [EC:7.2.2.10]\n",
      "CQW49_16435 K03830  putative acetyltransferase [EC:2.3.1.-]\n",
      "CQW49_17395 K01531  P-type Mg2+ transporter [EC:7.2.2.14]\n",
      "CQW49_17425 K21420  leucyl-tRNA---protein transferase [EC:2.3.2.29]\n",
      "CQW49_17460 K14660  nodulation protein E [EC:2.3.1.-]\n",
      "CQW49_18105 K00428  cytochrome c peroxidase [EC:1.11.1.5]\n",
      "CQW49_18185 K00428  cytochrome c peroxidase [EC:1.11.1.5]\n",
      "CQW49_18215 K00344  NADPH:quinone reductase [EC:1.6.5.5]\n",
      "CQW49_18625 K00684  leucyl/phenylalanyl-tRNA---protein transferase [EC:2.3.2.6]\n",
      "CQW49_19130 K01462  peptide deformylase [EC:3.5.1.88]\n",
      "CQW49_19345 K12140  hydrogenase-4 component E [EC:1.-.-.-]\n",
      "CQW49_19350 K12141  hydrogenase-4 component F [EC:1.-.-.-]\n",
      "CQW49_19840 K03387  alkyl hydroperoxide reductase subunit F [EC:1.6.4.-]\n",
      "CQW49_19965 K00612  carbamoyltransferase [EC:2.1.3.-]\n",
      "CQW49_20390 K00537  arsenate reductase (glutaredoxin) [EC:1.20.4.1]\n",
      "CQW49_20880 K03924  MoxR-like ATPase [EC:3.6.3.-]\n",
      "CQW49_21260 K01974  RNA 3'-terminal phosphate cyclase (ATP) [EC:6.5.1.4]\n",
      "CQW49_21560 K00344  NADPH:quinone reductase [EC:1.6.5.5]\n",
      "CQW49_22040 K07303  isoquinoline 1-oxidoreductase subunit beta [EC:1.3.99.16]\n",
      "CQW49_22045 K07302  isoquinoline 1-oxidoreductase subunit alpha [EC:1.3.99.16]\n",
      "CQW49_23370 K07116  acyl-homoserine-lactone acylase [EC:3.5.1.97]\n",
      "CQW49_23390 K10531  L-ornithine N5-monooxygenase [EC:1.14.13.195 1.14.13.196]\n"
     ]
    }
   ],
   "source": [
    "for locus_tag in temporal_file:\n",
    "    gene_entry = genes[\"mtw:\"+locus_tag]\n",
    "    print(locus_tag, gene_entry.orthology)"
   ]
  },
  {
   "cell_type": "code",
   "execution_count": 559,
   "metadata": {
    "ExecuteTime": {
     "end_time": "2020-01-14T10:02:12.485751Z",
     "start_time": "2020-01-14T10:02:12.480259Z"
    }
   },
   "outputs": [
    {
     "data": {
      "text/plain": [
       "65"
      ]
     },
     "execution_count": 559,
     "metadata": {},
     "output_type": "execute_result"
    }
   ],
   "source": [
    "len(temporal_file)"
   ]
  },
  {
   "cell_type": "markdown",
   "metadata": {},
   "source": [
    "## Try manual way to add reactions"
   ]
  },
  {
   "cell_type": "markdown",
   "metadata": {},
   "source": [
    "### ATPase genes: CQW49_00515, CQW49_00550"
   ]
  },
  {
   "cell_type": "code",
   "execution_count": 491,
   "metadata": {
    "ExecuteTime": {
     "end_time": "2020-01-14T07:40:41.972466Z",
     "start_time": "2020-01-14T07:40:41.930702Z"
    }
   },
   "outputs": [
    {
     "name": "stdout",
     "output_type": "stream",
     "text": [
      "ATPM ATP maintenance requirement\n",
      "CU2abcpp copper exporting ATPase\n",
      "Kabcpp potassium transporting ATPase\n",
      "PRATPP phosphoribosyl ATP pyrophosphatase\n",
      "ATPS4rpp ATP synthase\n",
      "ATPPRTr ATP phosphoribosyltransferase\n",
      "NTPP5 deoxynucleoside triphosphate pyrophosphohydrolase  dATP \n",
      "NTPP6 nucleoside triphosphate pyrophosphohydrolase  ATP \n"
     ]
    }
   ],
   "source": [
    "import re\n",
    "for reaction in iMsOB3b.reactions:\n",
    "    if re.search(\"ATP\", reaction.name, re.IGNORECASE):\n",
    "        print(reaction.id, reaction.name)"
   ]
  },
  {
   "cell_type": "code",
   "execution_count": 535,
   "metadata": {
    "ExecuteTime": {
     "end_time": "2020-01-14T09:48:52.594871Z",
     "start_time": "2020-01-14T09:48:52.587489Z"
    }
   },
   "outputs": [],
   "source": [
    "iMsOB3b.reactions.ATPS4rpp.gene_reaction_rule = 'CQW49_19220 and CQW49_00300 and CQW49_19240 and CQW49_19235 and CQW49_00305 and CQW49_19230 and CQW49_19225 and CQW49_00310 and CQW49_00290 and CQW49_00295 and CQW49_00515 and CQW49_00550'"
   ]
  },
  {
   "cell_type": "markdown",
   "metadata": {},
   "source": [
    "### CQW49_00695 --> unspecified, vague metabolites\n",
    "https://www.genome.jp/dbget-bin/www_bget?ec:2.5.1.18"
   ]
  },
  {
   "cell_type": "code",
   "execution_count": 507,
   "metadata": {
    "ExecuteTime": {
     "end_time": "2020-01-14T08:03:31.307147Z",
     "start_time": "2020-01-14T08:03:31.277469Z"
    }
   },
   "outputs": [
    {
     "name": "stdout",
     "output_type": "stream",
     "text": [
      "GTHS glutathione synthetase\n",
      "LGTHL lactoylglutathione lyase\n",
      "GTHPp glutathione peroxidase  periplasmic \n",
      "GTHOr glutathione reductase\n",
      "GLYOX S lactoylglutathione hydrolase\n"
     ]
    }
   ],
   "source": [
    "import re\n",
    "for reaction in iMsOB3b.reactions:\n",
    "    if re.search(\"glutathione\", reaction.name, re.IGNORECASE):\n",
    "        print(reaction.id, reaction.name)"
   ]
  },
  {
   "cell_type": "code",
   "execution_count": 502,
   "metadata": {
    "ExecuteTime": {
     "end_time": "2020-01-14T07:49:44.874322Z",
     "start_time": "2020-01-14T07:49:44.861963Z"
    }
   },
   "outputs": [
    {
     "name": "stdout",
     "output_type": "stream",
     "text": [
      "DSBGGT DsbG:glutathione thiotransferase\n"
     ]
    }
   ],
   "source": [
    "for reaction in model_OB3b_old.reactions:\n",
    "    if re.search(\"glutathione\n",
    "                 \", reaction.name, re.IGNORECASE):\n",
    "        print(reaction.id, reaction.name)"
   ]
  },
  {
   "cell_type": "code",
   "execution_count": 503,
   "metadata": {
    "ExecuteTime": {
     "end_time": "2020-01-14T07:49:59.215846Z",
     "start_time": "2020-01-14T07:49:59.205983Z"
    }
   },
   "outputs": [
    {
     "data": {
      "text/html": [
       "\n",
       "        <table>\n",
       "            <tr>\n",
       "                <td><strong>Reaction identifier</strong></td><td>DSBGGT</td>\n",
       "            </tr><tr>\n",
       "                <td><strong>Name</strong></td><td>DsbG:glutathione thiotransferase</td>\n",
       "            </tr><tr>\n",
       "                <td><strong>Memory address</strong></td>\n",
       "                <td>0x07f32a737b780</td>\n",
       "            </tr><tr>\n",
       "                <td><strong>Stoichiometry</strong></td>\n",
       "                <td>\n",
       "                    <p style='text-align:right'>dsbgox_p + 2.0 gthrd_p --> dsbgrd_p + gthox_p</p>\n",
       "                    <p style='text-align:right'>Periplasmic disulfide isomerase/thiol-disulphide oxidase (oxidized) + 2.0 Reduced glutathione --> Periplasmic disulfide isomerase/thiol-disulphide oxidase (reduced) + Oxidized glutathione</p>\n",
       "                </td>\n",
       "            </tr><tr>\n",
       "                <td><strong>GPR</strong></td><td>CQW49_23230</td>\n",
       "            </tr><tr>\n",
       "                <td><strong>Lower bound</strong></td><td>0.0</td>\n",
       "            </tr><tr>\n",
       "                <td><strong>Upper bound</strong></td><td>1000.0</td>\n",
       "            </tr>\n",
       "        </table>\n",
       "        "
      ],
      "text/plain": [
       "<Reaction DSBGGT at 0x7f32a737b780>"
      ]
     },
     "execution_count": 503,
     "metadata": {},
     "output_type": "execute_result"
    }
   ],
   "source": [
    "model_OB3b_old.reactions.DSBGGT"
   ]
  },
  {
   "cell_type": "markdown",
   "metadata": {},
   "source": [
    "### CQW49_00740"
   ]
  },
  {
   "cell_type": "code",
   "execution_count": 511,
   "metadata": {
    "ExecuteTime": {
     "end_time": "2020-01-14T08:14:16.757545Z",
     "start_time": "2020-01-14T08:14:16.733796Z"
    }
   },
   "outputs": [],
   "source": [
    "iMsOB3b.add_reaction(model_universal.reactions.UDPACGA6D)"
   ]
  },
  {
   "cell_type": "code",
   "execution_count": 513,
   "metadata": {
    "ExecuteTime": {
     "end_time": "2020-01-14T08:14:38.032886Z",
     "start_time": "2020-01-14T08:14:38.025152Z"
    }
   },
   "outputs": [],
   "source": [
    "iMsOB3b.reactions.UDPACGA6D.gene_reaction_rule = \"CQW49_00740\""
   ]
  },
  {
   "cell_type": "markdown",
   "metadata": {},
   "source": [
    "## Semiautomatic way of adding reactions to GEM:"
   ]
  },
  {
   "cell_type": "markdown",
   "metadata": {},
   "source": [
    "List of models from which I can take reactions based on gene reaction rules:\n",
    "- old OB3b Carveme-based model\n"
   ]
  },
  {
   "cell_type": "markdown",
   "metadata": {},
   "source": [
    "List of models from which I take reactions based on reaction name:\n",
    "- old AM1 model (this is not possible as ortholog analysis for old AM1 model has been already done)"
   ]
  },
  {
   "cell_type": "markdown",
   "metadata": {},
   "source": [
    "Reload pickle again:"
   ]
  },
  {
   "cell_type": "code",
   "execution_count": 578,
   "metadata": {
    "ExecuteTime": {
     "end_time": "2020-01-14T10:10:17.769386Z",
     "start_time": "2020-01-14T10:10:17.762611Z"
    }
   },
   "outputs": [
    {
     "name": "stdout",
     "output_type": "stream",
     "text": [
      "187\n"
     ]
    }
   ],
   "source": [
    "import pickle\n",
    "pkl_file = open(memote_directory + \"gem_reconstruction_supplementary_materials/AM1_based_GEM/\" +\\\n",
    "                'OB3b_locus_tags_and_their_description_not_included_in_automatic_GEMs.pkl', 'rb')\n",
    "OB3b_locus_tags_and_their_description = pickle.load(pkl_file)\n",
    "pkl_file.close()\n",
    "\n",
    "print (len(OB3b_locus_tags_and_their_description))"
   ]
  },
  {
   "cell_type": "code",
   "execution_count": 579,
   "metadata": {
    "ExecuteTime": {
     "end_time": "2020-01-14T10:10:18.427029Z",
     "start_time": "2020-01-14T10:10:18.420609Z"
    }
   },
   "outputs": [
    {
     "name": "stdout",
     "output_type": "stream",
     "text": [
      "65\n"
     ]
    }
   ],
   "source": [
    "import pickle\n",
    "pkl_file = open(memote_directory + \"gem_reconstruction_supplementary_materials/AM1_based_GEM/\" +\\\n",
    "                'OB3b_locus_tags_EC_number_no_KEGG_subsystems_filtered.pkl', 'rb')\n",
    "temporal_file = pickle.load(pkl_file)\n",
    "pkl_file.close()\n",
    "\n",
    "print (len(temporal_file))"
   ]
  },
  {
   "cell_type": "markdown",
   "metadata": {},
   "source": [
    "### Temporal_file "
   ]
  },
  {
   "cell_type": "code",
   "execution_count": 580,
   "metadata": {
    "ExecuteTime": {
     "end_time": "2020-01-14T10:10:23.194393Z",
     "start_time": "2020-01-14T10:10:23.142680Z"
    }
   },
   "outputs": [
    {
     "name": "stdout",
     "output_type": "stream",
     "text": [
      "CQW49_01205 frozenset({<Reaction CyLCyHORpp at 0x7f32911025c0>, <Reaction CYTBCYTC at 0x7f3290c26ef0>})\n",
      "CQW49_01435 frozenset({<Reaction ANHMK at 0x7f329069dc18>})\n",
      "CQW49_08960 frozenset({<Reaction NTRLASE at 0x7f32901cf0f0>})\n",
      "CQW49_11545 frozenset({<Reaction KAS16 at 0x7f3290da3d30>, <Reaction KAS17 at 0x7f3290da3358>, <Reaction KAS13 at 0x7f3290da3668>, <Reaction KAS8 at 0x7f3290e06d68>, <Reaction KAS2 at 0x7f3290da3898>, <Reaction KAS7 at 0x7f3290e06eb8>})\n",
      "CQW49_12190 frozenset({<Reaction METSOXR2 at 0x7f3290e94278>})\n",
      "CQW49_13155 frozenset({<Reaction METSOXR1 at 0x7f3290e943c8>})\n",
      "CQW49_15865 frozenset()\n",
      "CQW49_17395 frozenset({<Reaction NI2uabcpp at 0x7f32901226a0>, <Reaction MG2uabcpp at 0x7f3290100fd0>})\n",
      "CQW49_18215 frozenset({<Reaction NADPHQR2 at 0x7f3290ec3550>})\n",
      "CQW49_21560 frozenset({<Reaction QRr at 0x7f3290fa2e10>})\n"
     ]
    }
   ],
   "source": [
    "for locus_tag in temporal_file:\n",
    "    try:\n",
    "        print(model_OB3b_old.genes.get_by_id(locus_tag).id, \n",
    "              model_OB3b_old.genes.get_by_id(locus_tag).reactions)\n",
    "    except:\n",
    "        pass      "
   ]
  },
  {
   "cell_type": "markdown",
   "metadata": {
    "ExecuteTime": {
     "end_time": "2020-01-14T10:36:51.436691Z",
     "start_time": "2020-01-14T10:36:51.415222Z"
    }
   },
   "source": [
    "CQW49_01205"
   ]
  },
  {
   "cell_type": "code",
   "execution_count": 587,
   "metadata": {
    "ExecuteTime": {
     "end_time": "2020-01-14T10:15:52.781860Z",
     "start_time": "2020-01-14T10:15:52.765900Z"
    }
   },
   "outputs": [
    {
     "name": "stdout",
     "output_type": "stream",
     "text": [
      "CyLCyHORpp Cytochrome c-555 (cL):cytochrome c-553(cH) oxidoreductase ficytcc553_p + focytcc555_p <=> ficytcc555_p + focytcc553_p\n",
      "CYTBCYTC Cytochrome b Cytochrome c electron transfer ficytC_c + focytc_c <=> ficytb_c + focytC_c\n"
     ]
    }
   ],
   "source": [
    "for reaction in model_OB3b_old.genes.CQW49_01205.reactions:\n",
    "    print(reaction.id, reaction.name, reaction.reaction)"
   ]
  },
  {
   "cell_type": "code",
   "execution_count": 586,
   "metadata": {
    "ExecuteTime": {
     "end_time": "2020-01-14T10:15:30.722997Z",
     "start_time": "2020-01-14T10:15:30.714040Z"
    }
   },
   "outputs": [
    {
     "name": "stdout",
     "output_type": "stream",
     "text": [
      "K00428  cytochrome c peroxidase [EC:1.11.1.5]\n"
     ]
    }
   ],
   "source": [
    "gene_entry = genes[\"mtw:\"+\"CQW49_01205\"]\n",
    "print(gene_entry.orthology)"
   ]
  },
  {
   "cell_type": "code",
   "execution_count": 589,
   "metadata": {
    "ExecuteTime": {
     "end_time": "2020-01-14T10:17:34.038364Z",
     "start_time": "2020-01-14T10:17:34.034206Z"
    }
   },
   "outputs": [
    {
     "data": {
      "text/html": [
       "\n",
       "        <table>\n",
       "            <tr>\n",
       "                <td><strong>Reaction identifier</strong></td><td>CYTBCYTC</td>\n",
       "            </tr><tr>\n",
       "                <td><strong>Name</strong></td><td>Cytochrome b Cytochrome c electron transfer</td>\n",
       "            </tr><tr>\n",
       "                <td><strong>Memory address</strong></td>\n",
       "                <td>0x07f3290c26ef0</td>\n",
       "            </tr><tr>\n",
       "                <td><strong>Stoichiometry</strong></td>\n",
       "                <td>\n",
       "                    <p style='text-align:right'>ficytC_c + focytc_c <=> ficytb_c + focytC_c</p>\n",
       "                    <p style='text-align:right'>Ferricytochrome c + Ferrocytochrome c C42H53FeN8O6S2 <=> Ferricytochrome b + Ferrocytochrome C</p>\n",
       "                </td>\n",
       "            </tr><tr>\n",
       "                <td><strong>GPR</strong></td><td>CQW49_01205</td>\n",
       "            </tr><tr>\n",
       "                <td><strong>Lower bound</strong></td><td>-1000.0</td>\n",
       "            </tr><tr>\n",
       "                <td><strong>Upper bound</strong></td><td>1000.0</td>\n",
       "            </tr>\n",
       "        </table>\n",
       "        "
      ],
      "text/plain": [
       "<Reaction CYTBCYTC at 0x7f3290c26ef0>"
      ]
     },
     "execution_count": 589,
     "metadata": {},
     "output_type": "execute_result"
    }
   ],
   "source": [
    "model_OB3b_old.reactions.CYTBCYTC"
   ]
  },
  {
   "cell_type": "code",
   "execution_count": 594,
   "metadata": {
    "ExecuteTime": {
     "end_time": "2020-01-14T10:20:14.992197Z",
     "start_time": "2020-01-14T10:20:14.935900Z"
    }
   },
   "outputs": [
    {
     "name": "stdout",
     "output_type": "stream",
     "text": [
      "PRODUCING REACTIONS -- reduced_cytochrome_c (focytc_c)\n",
      "------------------------------------------------------\n",
      "%       FLUX  RXN ID     REACTION\n",
      "----  ------  ---------  --------------------------------------------------\n",
      "90%    8.16   MEOHDH     2.0 ficytc_c + meoh_p --> fald_p + 2.0 focytc_c...\n",
      "10%    0.944  UQCYOR_2p  2.0 ficytc_c + qh2_c --> 2.0 focytc_c + 2.0 h_p...\n",
      "\n",
      "CONSUMING REACTIONS -- reduced_cytochrome_c (focytc_c)\n",
      "------------------------------------------------------\n",
      "%       FLUX  RXN ID     REACTION\n",
      "----  ------  ---------  --------------------------------------------------\n",
      "101%   9.18   CYO_2p     2.0 focytc_c + 4.0 h_c + 0.5 o2_c --> 2.0 ficyt...\n"
     ]
    }
   ],
   "source": [
    "iMsOB3b.metabolites.focytc_c.summary()"
   ]
  },
  {
   "cell_type": "markdown",
   "metadata": {},
   "source": [
    "CQW49_01435"
   ]
  },
  {
   "cell_type": "code",
   "execution_count": 597,
   "metadata": {
    "ExecuteTime": {
     "end_time": "2020-01-14T10:37:12.411077Z",
     "start_time": "2020-01-14T10:37:12.401296Z"
    }
   },
   "outputs": [
    {
     "name": "stdout",
     "output_type": "stream",
     "text": [
      "ANHMK 1,6-anhydrous-N-Acetylmuramate kinase anhm_c + atp_c + h2o_c --> acmum6p_c + adp_c + h_c\n"
     ]
    }
   ],
   "source": [
    "for reaction in model_OB3b_old.genes.CQW49_01435.reactions:\n",
    "    print(reaction.id, reaction.name, reaction.reaction)"
   ]
  },
  {
   "cell_type": "code",
   "execution_count": 598,
   "metadata": {
    "ExecuteTime": {
     "end_time": "2020-01-14T10:38:19.910588Z",
     "start_time": "2020-01-14T10:38:19.874712Z"
    }
   },
   "outputs": [],
   "source": [
    "iMsOB3b.add_reaction(model_OB3b_old.reactions.ANHMK)"
   ]
  },
  {
   "cell_type": "code",
   "execution_count": 599,
   "metadata": {
    "ExecuteTime": {
     "end_time": "2020-01-14T10:38:34.128221Z",
     "start_time": "2020-01-14T10:38:34.123375Z"
    }
   },
   "outputs": [
    {
     "data": {
      "text/html": [
       "\n",
       "        <table>\n",
       "            <tr>\n",
       "                <td><strong>Reaction identifier</strong></td><td>ANHMK</td>\n",
       "            </tr><tr>\n",
       "                <td><strong>Name</strong></td><td>1,6-anhydrous-N-Acetylmuramate kinase</td>\n",
       "            </tr><tr>\n",
       "                <td><strong>Memory address</strong></td>\n",
       "                <td>0x07f329069dc18</td>\n",
       "            </tr><tr>\n",
       "                <td><strong>Stoichiometry</strong></td>\n",
       "                <td>\n",
       "                    <p style='text-align:right'>anhm_c + atp_c + h2o_c --> acmum6p_c + adp_c + h_c</p>\n",
       "                    <p style='text-align:right'>1,6-anhydrous-N-Acetylmuramate + ATP + H2O --> N-acetylmuramate 6-phosphate + ADP + H_</p>\n",
       "                </td>\n",
       "            </tr><tr>\n",
       "                <td><strong>GPR</strong></td><td>CQW49_01435</td>\n",
       "            </tr><tr>\n",
       "                <td><strong>Lower bound</strong></td><td>0.0</td>\n",
       "            </tr><tr>\n",
       "                <td><strong>Upper bound</strong></td><td>1000.0</td>\n",
       "            </tr>\n",
       "        </table>\n",
       "        "
      ],
      "text/plain": [
       "<Reaction ANHMK at 0x7f329069dc18>"
      ]
     },
     "execution_count": 599,
     "metadata": {},
     "output_type": "execute_result"
    }
   ],
   "source": [
    "iMsOB3b.reactions.ANHMK"
   ]
  },
  {
   "cell_type": "markdown",
   "metadata": {},
   "source": [
    "CQW49_08960"
   ]
  },
  {
   "cell_type": "code",
   "execution_count": 600,
   "metadata": {
    "ExecuteTime": {
     "end_time": "2020-01-14T10:40:26.261458Z",
     "start_time": "2020-01-14T10:40:26.254393Z"
    }
   },
   "outputs": [
    {
     "name": "stdout",
     "output_type": "stream",
     "text": [
      "NTRLASE Nitrilase 2.0 h2o_c + ind3acnl_c --> ind3ac_c + nh4_c\n"
     ]
    }
   ],
   "source": [
    "for reaction in model_OB3b_old.genes.CQW49_08960.reactions:\n",
    "    print(reaction.id, reaction.name, reaction.reaction)"
   ]
  },
  {
   "cell_type": "code",
   "execution_count": 602,
   "metadata": {
    "ExecuteTime": {
     "end_time": "2020-01-14T10:42:12.550953Z",
     "start_time": "2020-01-14T10:42:12.545127Z"
    }
   },
   "outputs": [
    {
     "data": {
      "text/html": [
       "\n",
       "        <table>\n",
       "            <tr>\n",
       "                <td><strong>Reaction identifier</strong></td><td>NTRLASE</td>\n",
       "            </tr><tr>\n",
       "                <td><strong>Name</strong></td><td>Nitrilase</td>\n",
       "            </tr><tr>\n",
       "                <td><strong>Memory address</strong></td>\n",
       "                <td>0x07f32901cf0f0</td>\n",
       "            </tr><tr>\n",
       "                <td><strong>Stoichiometry</strong></td>\n",
       "                <td>\n",
       "                    <p style='text-align:right'>2.0 h2o_c + ind3acnl_c --> ind3ac_c + nh4_c</p>\n",
       "                    <p style='text-align:right'>2.0 H2O + indole-3-acetonitrile --> indole-3-acetate + Ammonium</p>\n",
       "                </td>\n",
       "            </tr><tr>\n",
       "                <td><strong>GPR</strong></td><td>CQW49_08960</td>\n",
       "            </tr><tr>\n",
       "                <td><strong>Lower bound</strong></td><td>0.0</td>\n",
       "            </tr><tr>\n",
       "                <td><strong>Upper bound</strong></td><td>1000.0</td>\n",
       "            </tr>\n",
       "        </table>\n",
       "        "
      ],
      "text/plain": [
       "<Reaction NTRLASE at 0x7f32901cf0f0>"
      ]
     },
     "execution_count": 602,
     "metadata": {},
     "output_type": "execute_result"
    }
   ],
   "source": [
    "model_OB3b_old.reactions.NTRLASE"
   ]
  },
  {
   "cell_type": "markdown",
   "metadata": {},
   "source": [
    "CQW49_11545 --> unclear EC number convention (nodulation protein E [EC:2.3.1.-])"
   ]
  },
  {
   "cell_type": "code",
   "execution_count": 603,
   "metadata": {
    "ExecuteTime": {
     "end_time": "2020-01-14T10:43:48.665156Z",
     "start_time": "2020-01-14T10:43:48.621284Z"
    }
   },
   "outputs": [
    {
     "name": "stdout",
     "output_type": "stream",
     "text": [
      "KAS16 3-hydroxy-myristoyl-ACP synthesis ddcaACP_c + 2.0 h_c + malACP_c + nadph_c --> 3hmrsACP_c + ACP_c + co2_c + nadp_c\n",
      "KAS17 B-ketoacyl synthetase (n-C18:1) accoa_c + 22.0 h_c + 8.0 malcoa_c + 15.0 nadph_c --> 8.0 co2_c + 9.0 coa_c + 7.0 h2o_c + 15.0 nadp_c + ocdcea_c\n",
      "KAS13 B-ketoacyl synthetase (octadecanoate) accoa_c + 23.0 h_c + 8.0 malcoa_c + 16.0 nadph_c --> 8.0 co2_c + 9.0 coa_c + 7.0 h2o_c + 16.0 nadp_c + ocdca_c\n",
      "KAS8 B-ketoacyl synthetase (palmitate, n-C16:0) accoa_c + 20.0 h_c + 7.0 malcoa_c + 14.0 nadph_c --> 7.0 co2_c + 8.0 coa_c + 6.0 h2o_c + hdca_c + 14.0 nadp_c\n",
      "KAS2 B-ketoacyl synthetase (n-C14:0) accoa_c + 17.0 h_c + 6.0 malcoa_c + 12.0 nadph_c --> 6.0 co2_c + 7.0 coa_c + 5.0 h2o_c + 12.0 nadp_c + ttdca_c\n",
      "KAS7 B-ketoacyl synthetase (n-C16:1) accoa_c + 19.0 h_c + 7.0 malcoa_c + 13.0 nadph_c --> 7.0 co2_c + 8.0 coa_c + 6.0 h2o_c + hdcea_c + 13.0 nadp_c\n"
     ]
    }
   ],
   "source": [
    "for reaction in model_OB3b_old.genes.CQW49_11545.reactions:\n",
    "    print(reaction.id, reaction.name, reaction.reaction)"
   ]
  },
  {
   "cell_type": "markdown",
   "metadata": {},
   "source": [
    "CQW49_12190"
   ]
  },
  {
   "cell_type": "code",
   "execution_count": 605,
   "metadata": {
    "ExecuteTime": {
     "end_time": "2020-01-14T10:45:24.038894Z",
     "start_time": "2020-01-14T10:45:24.029142Z"
    }
   },
   "outputs": [
    {
     "name": "stdout",
     "output_type": "stream",
     "text": [
      "METSOXR2 L-methionine-R-sulfoxide reductase metsox_R__L_c + trdrd_c --> h2o_c + met__L_c + trdox_c\n"
     ]
    }
   ],
   "source": [
    "for reaction in model_OB3b_old.genes.CQW49_12190.reactions:\n",
    "    print(reaction.id, reaction.name, reaction.reaction)"
   ]
  },
  {
   "cell_type": "code",
   "execution_count": 609,
   "metadata": {
    "ExecuteTime": {
     "end_time": "2020-01-14T10:51:08.659864Z",
     "start_time": "2020-01-14T10:51:08.653019Z"
    }
   },
   "outputs": [
    {
     "name": "stderr",
     "output_type": "stream",
     "text": [
      "Ignoring reaction 'METSOXR2' since it already exists.\n"
     ]
    }
   ],
   "source": [
    "iMsOB3b.add_reaction(model_OB3b_old.reactions.METSOXR2)"
   ]
  },
  {
   "cell_type": "markdown",
   "metadata": {
    "ExecuteTime": {
     "end_time": "2020-01-14T10:51:13.868724Z",
     "start_time": "2020-01-14T10:51:13.860599Z"
    }
   },
   "source": [
    "CQW49_13155"
   ]
  },
  {
   "cell_type": "code",
   "execution_count": 611,
   "metadata": {
    "ExecuteTime": {
     "end_time": "2020-01-14T10:51:44.010591Z",
     "start_time": "2020-01-14T10:51:44.002682Z"
    }
   },
   "outputs": [
    {
     "name": "stdout",
     "output_type": "stream",
     "text": [
      "METSOXR1 L-methionine-S-oxide reductase metsox_S__L_c + trdrd_c --> h2o_c + met__L_c + trdox_c\n"
     ]
    }
   ],
   "source": [
    "for reaction in model_OB3b_old.genes.CQW49_13155.reactions:\n",
    "    print(reaction.id, reaction.name, reaction.reaction)"
   ]
  },
  {
   "cell_type": "code",
   "execution_count": 612,
   "metadata": {
    "ExecuteTime": {
     "end_time": "2020-01-14T10:51:51.360355Z",
     "start_time": "2020-01-14T10:51:51.354897Z"
    }
   },
   "outputs": [
    {
     "name": "stderr",
     "output_type": "stream",
     "text": [
      "Ignoring reaction 'METSOXR2' since it already exists.\n"
     ]
    }
   ],
   "source": [
    "iMsOB3b.add_reaction(model_OB3b_old.reactions.METSOXR2)"
   ]
  },
  {
   "cell_type": "markdown",
   "metadata": {},
   "source": [
    "CQW49_15865 --> not added, no corresponding reaction"
   ]
  },
  {
   "cell_type": "code",
   "execution_count": 613,
   "metadata": {
    "ExecuteTime": {
     "end_time": "2020-01-14T10:55:15.936574Z",
     "start_time": "2020-01-14T10:55:15.929933Z"
    }
   },
   "outputs": [],
   "source": [
    "for reaction in model_OB3b_old.genes.CQW49_15865.reactions:\n",
    "    print(reaction.id, reaction.name, reaction.reaction)"
   ]
  },
  {
   "cell_type": "markdown",
   "metadata": {},
   "source": [
    "CQW49_17395"
   ]
  },
  {
   "cell_type": "code",
   "execution_count": 615,
   "metadata": {
    "ExecuteTime": {
     "end_time": "2020-01-14T11:01:50.350545Z",
     "start_time": "2020-01-14T11:01:50.325542Z"
    }
   },
   "outputs": [
    {
     "name": "stdout",
     "output_type": "stream",
     "text": [
      "NI2uabcpp Nickel transport via ABC system (uptake, periplasm) atp_c + h2o_c + ni2_p --> adp_c + h_c + ni2_c + pi_c\n",
      "MG2uabcpp Magnesium (Mg+2) ABC transporter (ubtake, periplasm) atp_c + h2o_c + mg2_p --> adp_c + h_c + mg2_c + pi_c\n"
     ]
    }
   ],
   "source": [
    "for reaction in model_OB3b_old.genes.CQW49_17395.reactions:\n",
    "    print(reaction.id, reaction.name, reaction.reaction)"
   ]
  },
  {
   "cell_type": "markdown",
   "metadata": {},
   "source": [
    "CQW49_18215"
   ]
  },
  {
   "cell_type": "code",
   "execution_count": 616,
   "metadata": {
    "ExecuteTime": {
     "end_time": "2020-01-14T11:03:01.595830Z",
     "start_time": "2020-01-14T11:03:01.577689Z"
    }
   },
   "outputs": [
    {
     "name": "stdout",
     "output_type": "stream",
     "text": [
      "NADPHQR2 NADPH Quinone Reductase (Ubiquinone-8) h_c + nadph_c + q8_c --> nadp_c + q8h2_c\n"
     ]
    }
   ],
   "source": [
    "for reaction in model_OB3b_old.genes.CQW49_18215.reactions:\n",
    "    print(reaction.id, reaction.name, reaction.reaction)"
   ]
  },
  {
   "cell_type": "code",
   "execution_count": 619,
   "metadata": {
    "ExecuteTime": {
     "end_time": "2020-01-14T11:04:30.027572Z",
     "start_time": "2020-01-14T11:04:30.020816Z"
    }
   },
   "outputs": [
    {
     "name": "stderr",
     "output_type": "stream",
     "text": [
      "Ignoring reaction 'NADPHQR2' since it already exists.\n"
     ]
    }
   ],
   "source": [
    "iMsOB3b.add_reaction(model_OB3b_old.reactions.NADPHQR2)"
   ]
  },
  {
   "cell_type": "code",
   "execution_count": 628,
   "metadata": {
    "ExecuteTime": {
     "end_time": "2020-01-14T11:08:15.637712Z",
     "start_time": "2020-01-14T11:08:15.557715Z"
    }
   },
   "outputs": [],
   "source": [
    "iMsOB3b.reactions.get_by_id('NADPHQR2').reaction = 'h_c + nadph_c + q_c --> nadp_c + qh2_c'"
   ]
  },
  {
   "cell_type": "markdown",
   "metadata": {
    "ExecuteTime": {
     "end_time": "2020-01-14T11:08:35.469709Z",
     "start_time": "2020-01-14T11:08:35.381738Z"
    }
   },
   "source": [
    "CQW49_21560"
   ]
  },
  {
   "cell_type": "code",
   "execution_count": 634,
   "metadata": {
    "ExecuteTime": {
     "end_time": "2020-01-14T11:09:04.827036Z",
     "start_time": "2020-01-14T11:09:04.811884Z"
    }
   },
   "outputs": [
    {
     "name": "stdout",
     "output_type": "stream",
     "text": [
      "QRr QRr h_c + nadph_c + q_c --> nadp_c + qh2_c\n"
     ]
    }
   ],
   "source": [
    "for reaction in model_OB3b_old.genes.CQW49_21560.reactions:\n",
    "    print(reaction.id, reaction.name, reaction.reaction)"
   ]
  },
  {
   "cell_type": "code",
   "execution_count": 638,
   "metadata": {
    "ExecuteTime": {
     "end_time": "2020-01-14T11:11:04.579697Z",
     "start_time": "2020-01-14T11:11:04.569310Z"
    }
   },
   "outputs": [
    {
     "name": "stderr",
     "output_type": "stream",
     "text": [
      "Ignoring reaction 'QRr' since it already exists.\n"
     ]
    }
   ],
   "source": [
    "iMsOB3b.add_reaction(model_OB3b_old.reactions.QRr)"
   ]
  },
  {
   "cell_type": "markdown",
   "metadata": {},
   "source": [
    "Save model for now:"
   ]
  },
  {
   "cell_type": "code",
   "execution_count": 644,
   "metadata": {
    "ExecuteTime": {
     "end_time": "2020-01-14T11:12:32.027842Z",
     "start_time": "2020-01-14T11:12:31.832614Z"
    }
   },
   "outputs": [],
   "source": [
    "cobra.io.save_json_model(iMsOB3b, memote_directory + draft_gems_dir_8 + \"bigg_OB3b_14_01_2020.json\")"
   ]
  },
  {
   "cell_type": "markdown",
   "metadata": {},
   "source": [
    "### OB3b_locus_tags_and_their_description_not_included_in_automatic_GEMs"
   ]
  },
  {
   "cell_type": "code",
   "execution_count": 637,
   "metadata": {
    "ExecuteTime": {
     "end_time": "2020-01-14T11:10:31.945074Z",
     "start_time": "2020-01-14T11:10:31.590730Z"
    }
   },
   "outputs": [
    {
     "name": "stdout",
     "output_type": "stream",
     "text": [
      "CQW49_00515 frozenset({<Reaction ATPSipp at 0x7f32910a10f0>})\n",
      "CQW49_00550 frozenset({<Reaction ATPSipp at 0x7f32910a10f0>})\n",
      "CQW49_00740 frozenset({<Reaction UACMAMO at 0x7f3290abfef0>})\n",
      "CQW49_00915 frozenset({<Reaction BMOGDS2 at 0x7f3290c126a0>, <Reaction BMOGDS1 at 0x7f3290bfdcf8>})\n",
      "CQW49_01170 frozenset({<Reaction DPR at 0x7f328fdc6588>})\n",
      "CQW49_01220 frozenset({<Reaction PMMODCipp at 0x7f32910e5e80>, <Reaction PMMOipp at 0x7f32911026a0>})\n",
      "CQW49_01360 frozenset({<Reaction NDPK4 at 0x7f3290142208>, <Reaction NDPK6 at 0x7f3290122e48>, <Reaction NDPK7 at 0x7f3290122c88>, <Reaction NDPK1 at 0x7f3290142eb8>, <Reaction NDPK5 at 0x7f32901428d0>, <Reaction NDPK2 at 0x7f3290142518>, <Reaction NDPK8 at 0x7f3290122b38>, <Reaction NDPK10 at 0x7f3290142748>, <Reaction NDPK3 at 0x7f3290142358>, <Reaction PYK at 0x7f3290277748>, <Reaction NDPK9 at 0x7f3290122978>})\n",
      "CQW49_01705 frozenset({<Reaction LIPOS at 0x7f32908079e8>})\n",
      "CQW49_01990 frozenset({<Reaction LPLIPAL1A160pp at 0x7f3290807048>, <Reaction LPLIPAL1A140pp at 0x7f3290807c50>, <Reaction LPLIPAL1G160pp at 0x7f329084b898>, <Reaction LPLIPAL1G140pp at 0x7f329084bcc0>, <Reaction LPLIPAL1E120pp at 0x7f32907eccf8>, <Reaction LPLIPAL1E141pp at 0x7f32907ec908>, <Reaction LPLIPAL1E161pp at 0x7f32907ec518>, <Reaction LPLIPAL1A180pp at 0x7f3290807128>, <Reaction LPLIPAL1A120pp at 0x7f3290807dd8>, <Reaction FACOAE181 at 0x7f328fedce10>, <Reaction LPLIPAL1G161pp at 0x7f329084b630>, <Reaction PALMTE at 0x7f32903e9240>, <Reaction LPLIPAL1G141pp at 0x7f329084ba58>, <Reaction LPLIPAL1G181pp at 0x7f329084b240>, <Reaction LPLIPAL1E180pp at 0x7f32907ec278>, <Reaction LPLIPAL1G120pp at 0x7f329084be48>, <Reaction FACOAE180 at 0x7f328fe802b0>, <Reaction FACOAE141 at 0x7f328fe80ac8>, <Reaction FACOAE160 at 0x7f328fe806d8>, <Reaction LPLIPAL1A181pp at 0x7f32907ecef0>, <Reaction LPLIPAL1A141pp at 0x7f3290807748>, <Reaction LPLIPAL1A161pp at 0x7f3290807358>, <Reaction LPLIPAL1E160pp at 0x7f32907ec748>, <Reaction LPLIPAL1E140pp at 0x7f32907ecb70>, <Reaction LPLIPAL1G180pp at 0x7f329084b390>, <Reaction LPLIPAL1E181pp at 0x7f329084bfd0>})\n",
      "CQW49_02400 frozenset({<Reaction GTHRDHpp at 0x7f3290009160>})\n",
      "CQW49_02415 frozenset({<Reaction PPS at 0x7f32909ff320>})\n",
      "CQW49_02635 frozenset({<Reaction ORNTA at 0x7f32901aee80>, <Reaction PTRCTA at 0x7f32909e7d30>})\n",
      "CQW49_02865 frozenset({<Reaction PGSA_MCi at 0x7f32901e79b0>})\n",
      "CQW49_02960 frozenset({<Reaction SHSL1 at 0x7f3290a1fb00>, <Reaction SHSL2 at 0x7f32904295c0>, <Reaction SHSL2r at 0x7f32902aebe0>})\n",
      "CQW49_03300 frozenset({<Reaction CA2abcpp at 0x7f3290be62b0>})\n",
      "CQW49_03485 frozenset({<Reaction NADH16pp at 0x7f3291102f28>})\n",
      "CQW49_03930 frozenset({<Reaction GUAPRT at 0x7f3290d4bdd8>, <Reaction HXPRT at 0x7f3290d6a4a8>, <Reaction XPPT at 0x7f3290abf1d0>})\n",
      "CQW49_04245 frozenset({<Reaction MSAR at 0x7f32908f5dd8>})\n",
      "CQW49_04395 frozenset()\n",
      "CQW49_04465 frozenset()\n",
      "CQW49_05060 frozenset({<Reaction AMPTASECG at 0x7f328fb12080>, <Reaction AMPTASEPG at 0x7f3290c12a90>})\n",
      "CQW49_05095 frozenset({<Reaction PPC at 0x7f32909ffd30>})\n",
      "CQW49_05280 frozenset({<Reaction BACCL at 0x7f328fc1a898>})\n",
      "CQW49_05640 frozenset({<Reaction HGNTOR at 0x7f3290d909e8>})\n",
      "CQW49_05645 frozenset({<Reaction 34HPPOR at 0x7f3290b11f60>})\n",
      "CQW49_06015 frozenset({<Reaction THIORDXi at 0x7f329105d7b8>})\n",
      "CQW49_06060 frozenset({<Reaction AMPTASEPG at 0x7f3290c12a90>})\n",
      "CQW49_06175 frozenset({<Reaction FTHFCL at 0x7f328ff120b8>})\n",
      "CQW49_06290 frozenset({<Reaction CPPPGO2 at 0x7f32906ad978>})\n",
      "CQW49_06695 frozenset({<Reaction ORNDC at 0x7f3290f4e940>})\n",
      "CQW49_06715 frozenset({<Reaction GLUDy at 0x7f329079e080>, <Reaction GLUDxi at 0x7f3290d0bc18>})\n",
      "CQW49_06730 frozenset({<Reaction OIVD2 at 0x7f3290ef7710>, <Reaction OBDHc at 0x7f3290ef7860>, <Reaction OIVD3 at 0x7f3290ef70f0>})\n",
      "CQW49_06735 frozenset({<Reaction OIVD2 at 0x7f3290ef7710>, <Reaction OBDHc at 0x7f3290ef7860>, <Reaction OIVD3 at 0x7f3290ef70f0>})\n",
      "CQW49_06750 frozenset({<Reaction HPYRRy at 0x7f32910e52e8>, <Reaction 2DGULRx at 0x7f3290540d68>, <Reaction 2DGULRGy at 0x7f3290503f60>, <Reaction DKGLCNR2x at 0x7f32906e4b70>, <Reaction 2DGULRy at 0x7f3290540ba8>, <Reaction HPYRRx at 0x7f3290d6a9b0>, <Reaction 2DGULRGx at 0x7f3290540fd0>, <Reaction DKGLCNR2y at 0x7f32906e49e8>})\n",
      "CQW49_06900 frozenset({<Reaction UDPGDC at 0x7f3290abf710>, <Reaction TDPGDH at 0x7f32902e4da0>, <Reaction ULA4NFT at 0x7f3290abf390>})\n",
      "CQW49_07145 frozenset({<Reaction HSTPT at 0x7f32907be7b8>, <Reaction HSTPTr at 0x7f3290485048>})\n",
      "CQW49_07785 frozenset({<Reaction CYTOM at 0x7f3290c267b8>})\n",
      "CQW49_08660 frozenset({<Reaction SERAT at 0x7f32904297f0>})\n",
      "CQW49_08665 frozenset({<Reaction HCITS at 0x7f3290043630>})\n",
      "CQW49_08720 frozenset({<Reaction NIT1b at 0x7f3290f1cd68>, <Reaction NIT_mc at 0x7f3290122470>})\n",
      "CQW49_08725 frozenset({<Reaction NIT1b at 0x7f3290f1cd68>, <Reaction NIT_mc at 0x7f3290122470>})\n",
      "CQW49_09160 frozenset({<Reaction CYSDS at 0x7f32906ad390>, <Reaction TRPAS2 at 0x7f3290a6feb8>, <Reaction SERD_L at 0x7f32910006d8>})\n",
      "CQW49_09295 frozenset()\n",
      "CQW49_09405 frozenset({<Reaction NADH16pp at 0x7f3291102f28>})\n",
      "CQW49_09415 frozenset({<Reaction NTPTP1 at 0x7f329095a6d8>, <Reaction NTPTP2 at 0x7f329095a4e0>})\n",
      "CQW49_09715 frozenset({<Reaction HOPNTAL at 0x7f3290d906d8>})\n",
      "CQW49_09940 frozenset({<Reaction PGI at 0x7f32901e7c18>, <Reaction PGIA at 0x7f32901e7f60>, <Reaction G6PI3 at 0x7f3290ca3390>, <Reaction G6PI at 0x7f3290ca3198>, <Reaction G6PI_1 at 0x7f328ff3ff98>})\n",
      "CQW49_10130 frozenset({<Reaction CCGS at 0x7f32906ca898>})\n",
      "CQW49_10255 frozenset({<Reaction PMMODCipp at 0x7f32910e5e80>, <Reaction PMMOipp at 0x7f32911026a0>, <Reaction pMMO at 0x7f32903bfac8>})\n",
      "CQW49_10875 frozenset({<Reaction HCO3E at 0x7f32907d7940>})\n",
      "CQW49_10980 frozenset({<Reaction DAAD at 0x7f3290709e48>})\n",
      "CQW49_11405 frozenset({<Reaction PRFGS_1 at 0x7f3290f6ab70>})\n",
      "CQW49_12010 frozenset({<Reaction ASPTA6 at 0x7f328fbbf0b8>, <Reaction ALAD_L at 0x7f328faace48>, <Reaction AGTi at 0x7f328fa2a780>, <Reaction ALAD_syn at 0x7f32903a20b8>, <Reaction ALATA_L at 0x7f328faac5f8>})\n",
      "CQW49_12035 frozenset({<Reaction NAPRT at 0x7f3290142128>})\n",
      "CQW49_12245 frozenset({<Reaction GLYCK2 at 0x7f329114afd0>})\n",
      "CQW49_12295 frozenset({<Reaction OPTCCL at 0x7f3290f4eda0>, <Reaction HHDDI at 0x7f3290d90278>})\n",
      "CQW49_12520 frozenset({<Reaction DMT at 0x7f328fd8a240>})\n",
      "CQW49_12845 frozenset({<Reaction H2CO3D at 0x7f3290d4b4a8>})\n",
      "CQW49_12940 frozenset({<Reaction HMGL at 0x7f3290d90240>})\n",
      "CQW49_12970 frozenset({<Reaction TRE6PP at 0x7f3290a1f940>})\n",
      "CQW49_13000 frozenset({<Reaction CYTAA3ipp at 0x7f32910a1048>})\n",
      "CQW49_13005 frozenset({<Reaction CYTAA3ipp at 0x7f32910a1048>})\n",
      "CQW49_13305 frozenset()\n",
      "CQW49_13350 frozenset({<Reaction GCCa at 0x7f328ff1fe48>})\n",
      "CQW49_13355 frozenset({<Reaction GCCa at 0x7f328ff1fe48>})\n",
      "CQW49_13470 frozenset({<Reaction PRMICI at 0x7f32902926a0>})\n",
      "CQW49_14985 frozenset({<Reaction N2OR at 0x7f3290ec3be0>})\n",
      "CQW49_15360 frozenset({<Reaction HEX7 at 0x7f32907d7198>})\n",
      "CQW49_15505 frozenset({<Reaction LIPOCT at 0x7f32907a8198>})\n",
      "CQW49_16115 frozenset({<Reaction PFK_ppi at 0x7f329020d780>, <Reaction PFK_2 at 0x7f3290965f98>, <Reaction PFK_3 at 0x7f3290965cc0>, <Reaction PFK_3_ppi at 0x7f329020d8d0>})\n",
      "CQW49_16125 frozenset()\n",
      "CQW49_16180 frozenset({<Reaction ORPT at 0x7f32901ae6a0>})\n",
      "CQW49_16905 frozenset({<Reaction PGM_1 at 0x7f3290f29b70>})\n",
      "CQW49_17075 frozenset({<Reaction L_LACD3 at 0x7f3290de2898>, <Reaction L_LACD2 at 0x7f3290de2a58>})\n",
      "CQW49_17110 frozenset({<Reaction SQLC2 at 0x7f3290306ba8>, <Reaction SQLC at 0x7f32903067b8>})\n",
      "CQW49_17220 frozenset({<Reaction ACM6PH at 0x7f32906192e8>})\n",
      "CQW49_17240 frozenset({<Reaction CHOLD at 0x7f32906ca6d8>})\n",
      "CQW49_17595 frozenset({<Reaction FBP at 0x7f3290cc2748>})\n",
      "CQW49_17895 frozenset({<Reaction ORNTA_1 at 0x7f3290f4e7f0>})\n",
      "CQW49_17905 frozenset({<Reaction ALDD2x at 0x7f3290ba7390>, <Reaction AASAD3 at 0x7f3290b11278>})\n",
      "CQW49_18435 frozenset({<Reaction TMDS3 at 0x7f329105d2b0>})\n",
      "CQW49_18575 frozenset()\n",
      "CQW49_18780 frozenset({<Reaction NTPP10 at 0x7f3290181320>, <Reaction NTPP1 at 0x7f32901817b8>, <Reaction NTPP9 at 0x7f32901de940>, <Reaction NTPP11 at 0x7f3290181160>, <Reaction NTPP8 at 0x7f32901dea90>, <Reaction NTPP2 at 0x7f32901810b8>, <Reaction DUTPDP at 0x7f328fdc65f8>})\n",
      "CQW49_19460 frozenset({<Reaction AMPTASECG at 0x7f328fb12080>, <Reaction AMPTASEPG at 0x7f3290c12a90>})\n",
      "CQW49_20020 frozenset({<Reaction OXADC at 0x7f3290f4e630>})\n",
      "CQW49_20165 frozenset({<Reaction MOCOS at 0x7f329091b518>, <Reaction WCOS at 0x7f3290abf550>, <Reaction BMOCOS at 0x7f32906cadd8>, <Reaction BWCOS at 0x7f32906cab70>})\n",
      "CQW49_20215 frozenset()\n",
      "CQW49_20655 frozenset({<Reaction 2OH3K5MPPISO at 0x7f328f93c6d8>})\n",
      "CQW49_20795 frozenset({<Reaction ACS2 at 0x7f3290b7f4e0>})\n",
      "CQW49_21030 frozenset({<Reaction METGL at 0x7f3290e94978>})\n",
      "CQW49_21250 frozenset({<Reaction ECOAH2 at 0x7f3290c7ac18>, <Reaction DHACOAH at 0x7f3290709128>, <Reaction ECOAH3 at 0x7f3290c7af28>, <Reaction ECOAH5 at 0x7f3290c7a668>, <Reaction ECOAH7 at 0x7f3290c7a198>, <Reaction ECOAH4 at 0x7f3290c7a7f0>, <Reaction ECOAH6 at 0x7f3290c7a390>})\n",
      "CQW49_21325 frozenset({<Reaction UREA at 0x7f329103bd68>})\n",
      "CQW49_21330 frozenset({<Reaction UREA at 0x7f329103bd68>})\n",
      "CQW49_21335 frozenset({<Reaction UREA at 0x7f329103bd68>})\n",
      "CQW49_21545 frozenset({<Reaction ACPS1 at 0x7f328f9c5198>})\n",
      "CQW49_21585 frozenset({<Reaction NICRNS at 0x7f3290ec30b8>, <Reaction NMNHYD at 0x7f3290f1c860>})\n",
      "CQW49_21985 frozenset({<Reaction SCYSDS at 0x7f3290a4f710>, <Reaction S2FE2SR at 0x7f3290a4fc50>})\n",
      "CQW49_22035 frozenset({<Reaction XAND at 0x7f329103b710>, <Reaction HXAND at 0x7f3290d6a240>, <Reaction MOCDS at 0x7f329091b978>})\n",
      "CQW49_22875 frozenset({<Reaction SUCDH_q8_pp at 0x7f32911024a8>})\n",
      "CQW49_22910 frozenset({<Reaction MCITD at 0x7f329091bba8>})\n",
      "CQW49_22935 frozenset()\n",
      "CQW49_23115 frozenset()\n",
      "CQW49_23740 frozenset({<Reaction KAS16 at 0x7f3290da3d30>, <Reaction KAS17 at 0x7f3290da3358>, <Reaction KAS13 at 0x7f3290da3668>, <Reaction KAS8 at 0x7f3290e06d68>, <Reaction KAS2 at 0x7f3290da3898>, <Reaction KAS7 at 0x7f3290e06eb8>})\n",
      "CQW49_23910 frozenset({<Reaction NMNS at 0x7f3290f1c278>})\n"
     ]
    }
   ],
   "source": [
    "for locus_tag in OB3b_locus_tags_and_their_description:\n",
    "    try:\n",
    "        print(model_OB3b_old.genes.get_by_id(locus_tag).id, \n",
    "              model_OB3b_old.genes.get_by_id(locus_tag).reactions)\n",
    "    except:\n",
    "        pass   "
   ]
  },
  {
   "cell_type": "markdown",
   "metadata": {},
   "source": [
    "CQW49_00515"
   ]
  },
  {
   "cell_type": "code",
   "execution_count": 645,
   "metadata": {
    "ExecuteTime": {
     "end_time": "2020-01-14T11:31:30.622067Z",
     "start_time": "2020-01-14T11:31:30.608029Z"
    }
   },
   "outputs": [
    {
     "name": "stdout",
     "output_type": "stream",
     "text": [
      "ATPSipp ATP synthase F0 - H+ - complex V adp_c + 4.0 h_p + pi_c --> atp_c + h2o_c + 3.0 h_c\n"
     ]
    }
   ],
   "source": [
    "for reaction in model_OB3b_old.genes.CQW49_00515.reactions:\n",
    "    print(reaction.id, reaction.name, reaction.reaction)"
   ]
  },
  {
   "cell_type": "code",
   "execution_count": 650,
   "metadata": {
    "ExecuteTime": {
     "end_time": "2020-01-14T11:32:14.590021Z",
     "start_time": "2020-01-14T11:32:14.581803Z"
    }
   },
   "outputs": [
    {
     "data": {
      "text/plain": [
       "'CQW49_19220 and CQW49_00300 and CQW49_19240 and CQW49_19235 and CQW49_00305 and CQW49_19230 and CQW49_19225 and CQW49_00310 and CQW49_00290 and CQW49_00295 and CQW49_00515 and CQW49_00550'"
      ]
     },
     "execution_count": 650,
     "metadata": {},
     "output_type": "execute_result"
    }
   ],
   "source": [
    "iMsOB3b.reactions.ATPS4rpp.gene_reaction_rule"
   ]
  },
  {
   "cell_type": "markdown",
   "metadata": {},
   "source": [
    "CQW49_00550"
   ]
  },
  {
   "cell_type": "code",
   "execution_count": 646,
   "metadata": {
    "ExecuteTime": {
     "end_time": "2020-01-14T11:31:48.827534Z",
     "start_time": "2020-01-14T11:31:48.819441Z"
    }
   },
   "outputs": [
    {
     "name": "stdout",
     "output_type": "stream",
     "text": [
      "ATPSipp ATP synthase F0 - H+ - complex V adp_c + 4.0 h_p + pi_c --> atp_c + h2o_c + 3.0 h_c\n"
     ]
    }
   ],
   "source": [
    "for reaction in model_OB3b_old.genes.CQW49_00550.reactions:\n",
    "    print(reaction.id, reaction.name, reaction.reaction)"
   ]
  },
  {
   "cell_type": "code",
   "execution_count": 649,
   "metadata": {
    "ExecuteTime": {
     "end_time": "2020-01-14T11:32:07.410837Z",
     "start_time": "2020-01-14T11:32:07.401782Z"
    }
   },
   "outputs": [
    {
     "data": {
      "text/plain": [
       "'CQW49_19220 and CQW49_00300 and CQW49_19240 and CQW49_19235 and CQW49_00305 and CQW49_19230 and CQW49_19225 and CQW49_00310 and CQW49_00290 and CQW49_00295 and CQW49_00515 and CQW49_00550'"
      ]
     },
     "execution_count": 649,
     "metadata": {},
     "output_type": "execute_result"
    }
   ],
   "source": [
    "iMsOB3b.reactions.ATPS4rpp.gene_reaction_rule"
   ]
  },
  {
   "cell_type": "markdown",
   "metadata": {},
   "source": [
    "CQW49_00740"
   ]
  },
  {
   "cell_type": "code",
   "execution_count": 652,
   "metadata": {
    "ExecuteTime": {
     "end_time": "2020-01-14T11:34:00.694455Z",
     "start_time": "2020-01-14T11:34:00.680343Z"
    }
   },
   "outputs": [
    {
     "name": "stdout",
     "output_type": "stream",
     "text": [
      "UACMAMO UDP-N-acetyl-D-mannosamine oxidoreductase h2o_c + 2.0 nad_c + uacmam_c --> 3.0 h_c + 2.0 nadh_c + uacmamu_c\n"
     ]
    }
   ],
   "source": [
    "for reaction in model_OB3b_old.genes.CQW49_00740.reactions:\n",
    "    print(reaction.id, reaction.name, reaction.reaction)"
   ]
  },
  {
   "cell_type": "code",
   "execution_count": 658,
   "metadata": {
    "ExecuteTime": {
     "end_time": "2020-01-14T11:38:58.119238Z",
     "start_time": "2020-01-14T11:38:58.082006Z"
    }
   },
   "outputs": [],
   "source": [
    "iMsOB3b.add_reaction(model_OB3b_old.reactions.UACMAMO)"
   ]
  },
  {
   "cell_type": "markdown",
   "metadata": {
    "ExecuteTime": {
     "end_time": "2020-01-14T11:35:32.016758Z",
     "start_time": "2020-01-14T11:35:32.011482Z"
    }
   },
   "source": [
    "CQW49_00915"
   ]
  },
  {
   "cell_type": "code",
   "execution_count": 660,
   "metadata": {
    "ExecuteTime": {
     "end_time": "2020-01-14T11:40:30.733377Z",
     "start_time": "2020-01-14T11:40:30.717608Z"
    }
   },
   "outputs": [
    {
     "name": "stdout",
     "output_type": "stream",
     "text": [
      "BMOGDS2 Bis-molybdopterin guanine dinucleotide synthase bmoco1gdp_c + gtp_c + h_c --> bmocogdp_c + ppi_c\n",
      "BMOGDS1 Bis-molybdopterin guanine dinucleotide synthase (single GDP) bmoco_c + gtp_c + h_c --> bmoco1gdp_c + ppi_c\n"
     ]
    }
   ],
   "source": [
    "for reaction in model_OB3b_old.genes.CQW49_00915.reactions:\n",
    "    print(reaction.id, reaction.name, reaction.reaction)"
   ]
  },
  {
   "cell_type": "markdown",
   "metadata": {
    "ExecuteTime": {
     "end_time": "2020-01-14T11:41:52.376129Z",
     "start_time": "2020-01-14T11:41:52.371907Z"
    }
   },
   "source": [
    "CQW49_01170"
   ]
  },
  {
   "cell_type": "code",
   "execution_count": 662,
   "metadata": {
    "ExecuteTime": {
     "end_time": "2020-01-14T11:42:44.604347Z",
     "start_time": "2020-01-14T11:42:44.595964Z"
    }
   },
   "outputs": [
    {
     "name": "stdout",
     "output_type": "stream",
     "text": [
      "DPR 2-dehydropantoate 2-reductase 2dhp_c + h_c + nadph_c --> nadp_c + pant_R_c\n"
     ]
    }
   ],
   "source": [
    "for reaction in model_OB3b_old.genes.CQW49_01170.reactions:\n",
    "    print(reaction.id, reaction.name, reaction.reaction)"
   ]
  },
  {
   "cell_type": "code",
   "execution_count": 665,
   "metadata": {
    "ExecuteTime": {
     "end_time": "2020-01-14T11:44:12.140629Z",
     "start_time": "2020-01-14T11:44:12.137178Z"
    }
   },
   "outputs": [],
   "source": [
    "iMsOB3b.reactions.DPR.gene_reaction_rule = 'CQW49_01170'"
   ]
  },
  {
   "cell_type": "markdown",
   "metadata": {},
   "source": [
    "CQW49_01220"
   ]
  },
  {
   "cell_type": "code",
   "execution_count": 666,
   "metadata": {
    "ExecuteTime": {
     "end_time": "2020-01-14T11:44:41.440051Z",
     "start_time": "2020-01-14T11:44:41.426506Z"
    }
   },
   "outputs": [
    {
     "name": "stdout",
     "output_type": "stream",
     "text": [
      "PMMODCipp particulate Methane Monooxygenase - Direct Coupling ch4_p + 2.0 focytcc555_p + 2.0 h_p + o2_p --> 2.0 ficytcc555_p + h2o_p + meoh_p\n",
      "PMMOipp particulate Methane Monooxygenase ch4_p + o2_p + q8h2_im --> h2o_p + meoh_p + q8_im\n"
     ]
    }
   ],
   "source": [
    "for reaction in model_OB3b_old.genes.CQW49_01220.reactions:\n",
    "    print(reaction.id, reaction.name, reaction.reaction)"
   ]
  },
  {
   "cell_type": "code",
   "execution_count": 667,
   "metadata": {
    "ExecuteTime": {
     "end_time": "2020-01-14T11:45:19.008625Z",
     "start_time": "2020-01-14T11:45:19.003534Z"
    }
   },
   "outputs": [
    {
     "data": {
      "text/html": [
       "\n",
       "        <table>\n",
       "            <tr>\n",
       "                <td><strong>Gene identifier</strong></td><td>CQW49_01220</td>\n",
       "            </tr><tr>\n",
       "                <td><strong>Name</strong></td><td></td>\n",
       "            </tr><tr>\n",
       "                <td><strong>Memory address</strong></td>\n",
       "                <td>0x07f329f2aff98</td>\n",
       "            </tr><tr>\n",
       "                <td><strong>Functional</strong></td><td>True</td>\n",
       "            </tr><tr>\n",
       "                <td><strong>In 2 reaction(s)</strong></td><td>\n",
       "                    PMMOipp, PMMODCipp</td>\n",
       "            </tr>\n",
       "        </table>"
      ],
      "text/plain": [
       "<Gene CQW49_01220 at 0x7f329f2aff98>"
      ]
     },
     "execution_count": 667,
     "metadata": {},
     "output_type": "execute_result"
    }
   ],
   "source": [
    "iMsOB3b.genes.CQW49_01220"
   ]
  },
  {
   "cell_type": "markdown",
   "metadata": {},
   "source": [
    "CQW49_01360"
   ]
  },
  {
   "cell_type": "code",
   "execution_count": 668,
   "metadata": {
    "ExecuteTime": {
     "end_time": "2020-01-14T11:45:54.788167Z",
     "start_time": "2020-01-14T11:45:54.716744Z"
    }
   },
   "outputs": [
    {
     "name": "stdout",
     "output_type": "stream",
     "text": [
      "NDPK4 Nucleoside-diphosphate kinase (ATP:dTDP) atp_c + dtdp_c <=> adp_c + dttp_c\n",
      "NDPK6 Nucleoside-diphosphate kinase (ATP:dUDP) atp_c + dudp_c <=> adp_c + dutp_c\n",
      "NDPK7 Nucleoside-diphosphate kinase (ATP:dCDP) atp_c + dcdp_c <=> adp_c + dctp_c\n",
      "NDPK1 Nucleoside-diphosphate kinase (ATP:GDP) adp_c + gtp_c <=> atp_c + gdp_c\n",
      "NDPK5 Nucleoside-diphosphate kinase (ATP:dGDP) atp_c + dgdp_c <=> adp_c + dgtp_c\n",
      "NDPK2 Nucleoside-diphosphate kinase (ATP:UDP) atp_c + udp_c --> adp_c + utp_c\n",
      "NDPK8 Nucleoside-diphosphate kinase (ATP:dADP) atp_c + dadp_c --> adp_c + datp_c\n",
      "NDPK10 Nucleoside-diphosphate kinase (ATP dIDP) atp_c + didp_c <=> adp_c + ditp_c\n",
      "NDPK3 Nucleoside-diphosphate kinase (ATP:CDP) atp_c + cdp_c --> adp_c + ctp_c\n",
      "PYK Pyruvate kinase adp_c + h_c + pep_c --> atp_c + pyr_c\n",
      "NDPK9 Nucleoside diphosphate kinase  ATPIDP  atp_c + idp_c <=> adp_c + itp_c\n"
     ]
    }
   ],
   "source": [
    "for reaction in model_OB3b_old.genes.CQW49_01360.reactions:\n",
    "    print(reaction.id, reaction.name, reaction.reaction)"
   ]
  },
  {
   "cell_type": "code",
   "execution_count": 673,
   "metadata": {
    "ExecuteTime": {
     "end_time": "2020-01-14T11:53:54.966499Z",
     "start_time": "2020-01-14T11:53:54.924300Z"
    }
   },
   "outputs": [
    {
     "name": "stderr",
     "output_type": "stream",
     "text": [
      "Ignoring reaction 'NDPK1' since it already exists.\n",
      "Ignoring reaction 'NDPK2' since it already exists.\n",
      "Ignoring reaction 'NDPK3' since it already exists.\n",
      "Ignoring reaction 'NDPK4' since it already exists.\n",
      "Ignoring reaction 'NDPK5' since it already exists.\n",
      "Ignoring reaction 'NDPK6' since it already exists.\n",
      "Ignoring reaction 'NDPK7' since it already exists.\n",
      "Ignoring reaction 'NDPK8' since it already exists.\n",
      "Ignoring reaction 'NDPK9' since it already exists.\n",
      "Ignoring reaction 'NDPK10' since it already exists.\n"
     ]
    }
   ],
   "source": [
    "iMsOB3b.add_reaction(model_OB3b_old.reactions.NDPK1)\n",
    "iMsOB3b.add_reaction(model_OB3b_old.reactions.NDPK2)\n",
    "iMsOB3b.add_reaction(model_OB3b_old.reactions.NDPK3)\n",
    "iMsOB3b.add_reaction(model_OB3b_old.reactions.NDPK4)\n",
    "iMsOB3b.add_reaction(model_OB3b_old.reactions.NDPK5)\n",
    "iMsOB3b.add_reaction(model_OB3b_old.reactions.NDPK6)\n",
    "iMsOB3b.add_reaction(model_OB3b_old.reactions.NDPK7)\n",
    "iMsOB3b.add_reaction(model_OB3b_old.reactions.NDPK8)\n",
    "iMsOB3b.add_reaction(model_OB3b_old.reactions.NDPK9)\n",
    "iMsOB3b.add_reaction(model_OB3b_old.reactions.NDPK10)"
   ]
  },
  {
   "cell_type": "markdown",
   "metadata": {},
   "source": [
    "CQW49_01705"
   ]
  },
  {
   "cell_type": "code",
   "execution_count": 675,
   "metadata": {
    "ExecuteTime": {
     "end_time": "2020-01-14T11:54:46.378415Z",
     "start_time": "2020-01-14T11:54:46.368421Z"
    }
   },
   "outputs": [
    {
     "name": "stdout",
     "output_type": "stream",
     "text": [
      "LIPOS Lipoate synthase 4fe4s_c + 2.0 amet_c + h_c + nad_c + octapb_c --> 2fe2s_c + 2.0 dad_5_c + 2.0 fe2_c + lipopb_c + 2.0 met__L_c + nadh_c\n"
     ]
    }
   ],
   "source": [
    "for reaction in model_OB3b_old.genes.CQW49_01705.reactions:\n",
    "    print(reaction.id, reaction.name, reaction.reaction)"
   ]
  },
  {
   "cell_type": "code",
   "execution_count": 677,
   "metadata": {
    "ExecuteTime": {
     "end_time": "2020-01-14T11:56:08.540477Z",
     "start_time": "2020-01-14T11:56:08.503702Z"
    }
   },
   "outputs": [],
   "source": [
    "iMsOB3b.add_reaction(model_OB3b_old.reactions.LIPOS)"
   ]
  },
  {
   "cell_type": "markdown",
   "metadata": {},
   "source": [
    "CQW49_01990"
   ]
  },
  {
   "cell_type": "code",
   "execution_count": 679,
   "metadata": {
    "ExecuteTime": {
     "end_time": "2020-01-14T11:56:32.623061Z",
     "start_time": "2020-01-14T11:56:32.497989Z"
    },
    "scrolled": true
   },
   "outputs": [
    {
     "name": "stdout",
     "output_type": "stream",
     "text": [
      "LPLIPAL1A160pp Lysophospholipase L1 (2-acylglycerophosphotidate, n-C16:0) (periplasm) 1hdecg3p_p + h2o_p --> glyc3p_p + h_p + hdca_p\n",
      "LPLIPAL1A140pp Lysophospholipase L1 (2-acylglycerophosphotidate, n-C14:0) (periplasm) 1tdecg3p_p + h2o_p --> glyc3p_p + h_p + ttdca_p\n",
      "LPLIPAL1G160pp Lysophospholipase L1 (2-acylglycerophosphoglycerol, n-C16:0) (periplasm) 1agpg160_p + h2o_p --> g3pg_p + h_p + hdca_p\n",
      "LPLIPAL1G140pp Lysophospholipase L1 (2-acylglycerophosphoglycerol, n-C14:0) (periplasm) 1agpg140_p + h2o_p --> g3pg_p + h_p + ttdca_p\n",
      "LPLIPAL1E120pp Lysophospholipase L1 (2-acylglycerophosphoethanolamine, n-C12:0) (periplasm) 1agpe120_p + h2o_p --> ddca_p + g3pe_p + h_p\n",
      "LPLIPAL1E141pp Lysophospholipase L1 (2-acylglycerophosphoethanolamine, n-C14:1) (periplasm) 1agpe141_p + h2o_p --> g3pe_p + h_p + ttdcea_p\n",
      "LPLIPAL1E161pp Lysophospholipase L1 (2-acylglycerophosphoethanolamine, n-C16:1) (periplasm) 1agpe161_p + h2o_p --> g3pe_p + h_p + hdcea_p\n",
      "LPLIPAL1A180pp Lysophospholipase L1 (2-acylglycerophosphotidate, n-C18:0) (periplasm) 1odecg3p_p + h2o_p --> glyc3p_p + h_p + ocdca_p\n",
      "LPLIPAL1A120pp Lysophospholipase L1 (2-acylglycerophosphotidate, n-C12:0) (periplasm) 1ddecg3p_p + h2o_p --> ddca_p + glyc3p_p + h_p\n",
      "FACOAE181 Fatty-acid-CoA thioesterase (octadecenoate) h2o_c + odecoa_c --> coa_c + h_c + ocdcea_c\n",
      "LPLIPAL1G161pp Lysophospholipase L1 (2-acylglycerophosphoglycerol, n-C16:1) (periplasm) 1agpg161_p + h2o_p --> g3pg_p + h_p + hdcea_p\n",
      "PALMTE palmitoyl-CoA ligase atp_c + coa_c + palmt_c --> amp_c + pmtcoa_c + ppi_c\n",
      "LPLIPAL1G141pp Lysophospholipase L1 (2-acylglycerophosphoglycerol, n-C14:1) (periplasm) 1agpg141_p + h2o_p --> g3pg_p + h_p + ttdcea_p\n",
      "LPLIPAL1G181pp Lysophospholipase L1 (2-acylglycerophosphoglycerol, n-C18:1) (periplasm) 1agpg181_p + h2o_p --> g3pg_p + h_p + ocdcea_p\n",
      "LPLIPAL1E180pp Lysophospholipase L1 (2-acylglycerophosphoethanolamine, n-C18:0) (periplasm) 1agpe180_p + h2o_p --> g3pe_p + h_p + ocdca_p\n",
      "LPLIPAL1G120pp Lysophospholipase L1 (2-acylglycerophosphoglycerol, n-C12:0) (periplasm) 1agpg120_p + h2o_p --> ddca_p + g3pg_p + h_p\n",
      "FACOAE180 Fatty-acid-CoA thioesterase (octadecanoate) h2o_c + stcoa_c --> coa_c + h_c + ocdca_c\n",
      "FACOAE141 Fatty-acid-CoA thioesterase (tetradecenoate) h2o_c + tdecoa_c --> coa_c + h_c + ttdcea_c\n",
      "FACOAE160 Fatty-acid-CoA thioesterase (hexadecanoate) h2o_c + pmtcoa_c --> coa_c + h_c + hdca_c\n",
      "LPLIPAL1A181pp Lysophospholipase L1 (2-acylglycerophosphotidate, n-C18:1) (periplasm) 1odec11eg3p_p + h2o_p --> glyc3p_p + h_p + ocdcea_p\n",
      "LPLIPAL1A141pp Lysophospholipase L1 (2-acylglycerophosphotidate, n-C14:1) (periplasm) 1tdec7eg3p_p + h2o_p --> glyc3p_p + h_p + ttdcea_p\n",
      "LPLIPAL1A161pp Lysophospholipase L1 (2-acylglycerophosphotidate, n-C16:1) (periplasm) 1hdec9eg3p_p + h2o_p --> glyc3p_p + h_p + hdcea_p\n",
      "LPLIPAL1E160pp Lysophospholipase L1 (2-acylglycerophosphoethanolamine, n-C16:0) (periplasm) 1agpe160_p + h2o_p --> g3pe_p + h_p + hdca_p\n",
      "LPLIPAL1E140pp Lysophospholipase L1 (2-acylglycerophosphoethanolamine, n-C14:0) (periplasm) 1agpe140_p + h2o_p --> g3pe_p + h_p + ttdca_p\n",
      "LPLIPAL1G180pp Lysophospholipase L1 (2-acylglycerophosphoglycerol, n-C18:0) (periplasm) 1agpg180_p + h2o_p --> g3pg_p + h_p + ocdca_p\n",
      "LPLIPAL1E181pp Lysophospholipase L1 (2-acylglycerophosphoethanolamine, n-C18:1) (periplasm) 1agpe181_p + h2o_p --> g3pe_p + h_p + ocdcea_p\n"
     ]
    }
   ],
   "source": [
    "for reaction in model_OB3b_old.genes.CQW49_01990.reactions:\n",
    "    print(reaction.id, reaction.name, reaction.reaction)"
   ]
  },
  {
   "cell_type": "code",
   "execution_count": 688,
   "metadata": {
    "ExecuteTime": {
     "end_time": "2020-01-14T12:02:57.810114Z",
     "start_time": "2020-01-14T12:02:57.706269Z"
    }
   },
   "outputs": [
    {
     "name": "stdout",
     "output_type": "stream",
     "text": [
      "B hydroxydecanoyl thioester dehydrase 3HAD100: 3hdecACP_c <=> h2o_c + tdec2eACP_c CQW49_00475 or CQW49_09310\n",
      "acyl CoA thioesterase II  n h6 0  HFACOAE60: R_3hhcoa_c + h2o_c --> R_3hhc_c + coa_c + h_c CQW49_00725 or CQW49_04870\n",
      "malyl CoA thioesterase MALCOATE: h2o_c + malScoa_c --> coa_c + h_c + mal_L_c CQW49_12840\n",
      "acyl CoA thioesterase II  n 18 0  FACOAE180: h2o_c + stcoa_c --> coa_c + h_c + ocdca_c CQW49_00725 or CQW49_04870\n",
      "acyl CoA thioesterase II  n 16 0  FACOAE160: h2o_c + pmtcoa_c --> coa_c + h_c + hdca_c CQW49_00725 or CQW49_04870\n",
      "acyl CoA thioesterase II  n 14 0  FACOAE140: h2o_c + tdcoa_c --> coa_c + h_c + ttdca_c CQW49_00725 or CQW49_04870\n",
      "acyl CoA thioesterase II  n h8 0  HFACOAE80: R_3hocoa_c + h2o_c --> R_3hoct_c + coa_c + h_c CQW49_00725 or CQW49_04870\n",
      "acyl CoA thioesterase II  n 6 0  FACOAE60: h2o_c + hxcoa_c --> coa_c + h_c + hxa_c CQW49_00725 or CQW49_04870\n",
      "acyl CoA thioesterase II  n 8 0  FACOAE80: h2o_c + occoa_c --> coa_c + h_c + octa_c CQW49_00725 or CQW49_04870\n",
      "acyl CoA thioesterase II  n h18 0  HFACOAE180: R_3hoctdccoa_c + h2o_c --> R_3hoctdc_c + coa_c + h_c CQW49_00725 or CQW49_04870\n",
      "acyl CoA thioesterase II  n h12 0  HFACOAE120: R_3hddcoa_c + h2o_c --> R_3hddc_c + coa_c + h_c CQW49_00725 or CQW49_04870\n",
      "acyl CoA thioesterase II  n 12 0  FACOAE120: ddcacoa_c + h2o_c --> coa_c + ddca_c + h_c CQW49_00725 or CQW49_04870\n",
      "acyl CoA thioesterase II  n h10 0  HFACOAE100: R_3hdcoa_c + h2o_c --> R_3hdc_c + coa_c + h_c CQW49_00725 or CQW49_04870\n",
      "acyl CoA thioesterase II  n 10 0  FACOAE100: dcacoa_c + h2o_c --> coa_c + dca_c + h_c CQW49_00725 or CQW49_04870\n",
      "acyl CoA thioesterase II  n h16 0  HFACOAE160: R_3hhdccoa_c + h2o_c --> R_3hhdc_c + coa_c + h_c CQW49_00725 or CQW49_04870\n",
      "acyl CoA thioesterase II  n h14 0  HFACOAE140: R_3hmrscoa_c + h2o_c --> R_3htdc_c + coa_c + h_c CQW49_00725 or CQW49_04870\n"
     ]
    }
   ],
   "source": [
    "for reaction in iMsOB3b.reactions:\n",
    "    if \"thioeste\" in reaction.name:\n",
    "        print(reaction.name, reaction.id, reaction.gene_reaction_rule)"
   ]
  },
  {
   "cell_type": "code",
   "execution_count": 689,
   "metadata": {
    "ExecuteTime": {
     "end_time": "2020-01-15T00:38:13.324669Z",
     "start_time": "2020-01-15T00:38:13.299695Z"
    }
   },
   "outputs": [],
   "source": [
    "iMsOB3b.reactions.HFACOAE60.gene_reaction_rule = 'CQW49_00725 or CQW49_04870 or CQW49_01990'\n",
    "iMsOB3b.reactions.FACOAE180.gene_reaction_rule = 'CQW49_00725 or CQW49_04870 or CQW49_01990'\n",
    "iMsOB3b.reactions.FACOAE160.gene_reaction_rule = 'CQW49_00725 or CQW49_04870 or CQW49_01990'\n",
    "iMsOB3b.reactions.FACOAE140.gene_reaction_rule = 'CQW49_00725 or CQW49_04870 or CQW49_01990'\n",
    "iMsOB3b.reactions.HFACOAE80.gene_reaction_rule = 'CQW49_00725 or CQW49_04870 or CQW49_01990'\n",
    "iMsOB3b.reactions.FACOAE60.gene_reaction_rule = 'CQW49_00725 or CQW49_04870 or CQW49_01990'\n",
    "iMsOB3b.reactions.FACOAE80.gene_reaction_rule = 'CQW49_00725 or CQW49_04870 or CQW49_01990'\n",
    "iMsOB3b.reactions.HFACOAE180.gene_reaction_rule = 'CQW49_00725 or CQW49_04870 or CQW49_01990'\n",
    "iMsOB3b.reactions.HFACOAE120.gene_reaction_rule = 'CQW49_00725 or CQW49_04870 or CQW49_01990'\n",
    "iMsOB3b.reactions.FACOAE120.gene_reaction_rule = 'CQW49_00725 or CQW49_04870 or CQW49_01990'\n",
    "iMsOB3b.reactions.HFACOAE100.gene_reaction_rule = 'CQW49_00725 or CQW49_04870 or CQW49_01990'\n",
    "iMsOB3b.reactions.FACOAE100.gene_reaction_rule = 'CQW49_00725 or CQW49_04870 or CQW49_01990'\n",
    "iMsOB3b.reactions.HFACOAE160.gene_reaction_rule = 'CQW49_00725 or CQW49_04870 or CQW49_01990'\n",
    "iMsOB3b.reactions.HFACOAE140.gene_reaction_rule = 'CQW49_00725 or CQW49_04870 or CQW49_01990'"
   ]
  },
  {
   "cell_type": "markdown",
   "metadata": {
    "ExecuteTime": {
     "end_time": "2020-01-14T12:00:25.344007Z",
     "start_time": "2020-01-14T12:00:25.335076Z"
    }
   },
   "source": [
    "CQW49_02400"
   ]
  },
  {
   "cell_type": "code",
   "execution_count": 690,
   "metadata": {
    "ExecuteTime": {
     "end_time": "2020-01-15T00:39:55.030104Z",
     "start_time": "2020-01-15T00:39:55.017256Z"
    }
   },
   "outputs": [
    {
     "name": "stdout",
     "output_type": "stream",
     "text": [
      "GTHRDHpp Glutathione hydralase (periplasmic) gthrd_c + h2o_c --> cgly_c + glu__L_c\n"
     ]
    }
   ],
   "source": [
    "for reaction in model_OB3b_old.genes.CQW49_02400.reactions:\n",
    "    print(reaction.id, reaction.name, reaction.reaction)"
   ]
  },
  {
   "cell_type": "code",
   "execution_count": 692,
   "metadata": {
    "ExecuteTime": {
     "end_time": "2020-01-15T00:46:44.959937Z",
     "start_time": "2020-01-15T00:46:44.931508Z"
    }
   },
   "outputs": [],
   "source": [
    "iMsOB3b.add_reaction(model_OB3b_old.reactions.GTHRDHpp)"
   ]
  },
  {
   "cell_type": "markdown",
   "metadata": {},
   "source": [
    "CQW49_02415"
   ]
  },
  {
   "cell_type": "code",
   "execution_count": 693,
   "metadata": {
    "ExecuteTime": {
     "end_time": "2020-01-15T00:47:32.324655Z",
     "start_time": "2020-01-15T00:47:32.316009Z"
    }
   },
   "outputs": [
    {
     "name": "stdout",
     "output_type": "stream",
     "text": [
      "PPS Phosphoenolpyruvate synthase atp_c + h2o_c + pyr_c --> amp_c + 2.0 h_c + pep_c + pi_c\n"
     ]
    }
   ],
   "source": [
    "for reaction in model_OB3b_old.genes.CQW49_02415.reactions:\n",
    "    print(reaction.id, reaction.name, reaction.reaction)"
   ]
  },
  {
   "cell_type": "code",
   "execution_count": 694,
   "metadata": {
    "ExecuteTime": {
     "end_time": "2020-01-15T00:48:32.311797Z",
     "start_time": "2020-01-15T00:48:32.281258Z"
    }
   },
   "outputs": [],
   "source": [
    "iMsOB3b.add_reaction(model_OB3b_old.reactions.PPS)"
   ]
  },
  {
   "cell_type": "markdown",
   "metadata": {
    "ExecuteTime": {
     "end_time": "2020-01-15T00:48:42.157318Z",
     "start_time": "2020-01-15T00:48:42.151832Z"
    }
   },
   "source": [
    "CQW49_02635"
   ]
  },
  {
   "cell_type": "code",
   "execution_count": 697,
   "metadata": {
    "ExecuteTime": {
     "end_time": "2020-01-15T00:49:43.587416Z",
     "start_time": "2020-01-15T00:49:43.572673Z"
    }
   },
   "outputs": [
    {
     "name": "stdout",
     "output_type": "stream",
     "text": [
      "ORNTA Ornithine transaminase akg_c + orn_c --> glu5sa_c + glu__L_c\n",
      "PTRCTA Putrescine Transaminase akg_c + ptrc_c --> 4abutn_c + glu__L_c\n"
     ]
    }
   ],
   "source": [
    "for reaction in model_OB3b_old.genes.CQW49_02635.reactions:\n",
    "    print(reaction.id, reaction.name, reaction.reaction)"
   ]
  },
  {
   "cell_type": "code",
   "execution_count": 703,
   "metadata": {
    "ExecuteTime": {
     "end_time": "2020-01-15T00:51:03.597056Z",
     "start_time": "2020-01-15T00:51:03.588662Z"
    }
   },
   "outputs": [],
   "source": [
    "iMsOB3b.add_reaction(model_OB3b_old.reactions.ORNTA)"
   ]
  },
  {
   "cell_type": "markdown",
   "metadata": {},
   "source": [
    "CQW49_02865\n",
    "<br> build reaction based on http://bigg.ucsd.edu/universal/reactions/CLS_m\n",
    "<br> these reactions belong to glycerolphospholipid metabolism"
   ]
  },
  {
   "cell_type": "code",
   "execution_count": 704,
   "metadata": {
    "ExecuteTime": {
     "end_time": "2020-01-15T00:52:10.263497Z",
     "start_time": "2020-01-15T00:52:10.256370Z"
    }
   },
   "outputs": [
    {
     "name": "stdout",
     "output_type": "stream",
     "text": [
      "PGSA_MCi Phosphatidylglycerol synthase 0.001 cdpdag_MC_c + glyc1p_c --> cmp_c + h_c + 0.001 pgp_MC_c\n"
     ]
    }
   ],
   "source": [
    "for reaction in model_OB3b_old.genes.CQW49_02865.reactions:\n",
    "    print(reaction.id, reaction.name, reaction.reaction)"
   ]
  },
  {
   "cell_type": "code",
   "execution_count": 713,
   "metadata": {
    "ExecuteTime": {
     "end_time": "2020-01-15T01:01:02.194998Z",
     "start_time": "2020-01-15T01:01:02.164263Z"
    }
   },
   "outputs": [
    {
     "name": "stdout",
     "output_type": "stream",
     "text": [
      "clpnd181_c cardiolipin_dioctadec_9_enoyl_\n",
      "clpnd180_c cardiolipin_dioctadecanoyl_\n",
      "clpnd160_c cardiolipin_dihexadecanoyl_\n",
      "clpnd161_c cardiolipin_dihexadec_9_enoyl_\n"
     ]
    }
   ],
   "source": [
    "import re\n",
    "for metabolite in iMsOB3b.metabolites:\n",
    "    if re.search(\"cardiolipin\", metabolite.name, re.IGNORECASE):\n",
    "        print(metabolite.id, metabolite.name)"
   ]
  },
  {
   "cell_type": "code",
   "execution_count": 714,
   "metadata": {
    "ExecuteTime": {
     "end_time": "2020-01-15T01:01:14.329026Z",
     "start_time": "2020-01-15T01:01:14.324743Z"
    }
   },
   "outputs": [
    {
     "data": {
      "text/html": [
       "\n",
       "        <table>\n",
       "            <tr>\n",
       "                <td><strong>Metabolite identifier</strong></td><td>clpnd161_c</td>\n",
       "            </tr><tr>\n",
       "                <td><strong>Name</strong></td><td>cardiolipin_dihexadec_9_enoyl_</td>\n",
       "            </tr><tr>\n",
       "                <td><strong>Memory address</strong></td>\n",
       "                <td>0x07f329bdaae80</td>\n",
       "            </tr><tr>\n",
       "                <td><strong>Formula</strong></td><td>None</td>\n",
       "            </tr><tr>\n",
       "                <td><strong>Compartment</strong></td><td>c</td>\n",
       "            </tr><tr>\n",
       "                <td><strong>In 0 reaction(s)</strong></td><td>\n",
       "                    </td>\n",
       "            </tr>\n",
       "        </table>"
      ],
      "text/plain": [
       "<Metabolite clpnd161_c at 0x7f329bdaae80>"
      ]
     },
     "execution_count": 714,
     "metadata": {},
     "output_type": "execute_result"
    }
   ],
   "source": [
    "iMsOB3b.metabolites.clpnd161_c"
   ]
  },
  {
   "cell_type": "code",
   "execution_count": 716,
   "metadata": {
    "ExecuteTime": {
     "end_time": "2020-01-15T01:02:04.488052Z",
     "start_time": "2020-01-15T01:02:04.449656Z"
    }
   },
   "outputs": [
    {
     "name": "stdout",
     "output_type": "stream",
     "text": [
      "pg161_c phosphatidylglycerol_dihexadec_9_enoyl_\n",
      "pgp160_c phosphatidylglycerolphosphate_dihexadecanoyl_\n",
      "pg180_c phosphatidylglycerol_dioctadecanoyl_\n",
      "pgp181_c phosphatidylglycerolphosphate_dioctadec_9_enoyl_\n",
      "pg181_c phosphatidylglycerol_dioctadec_9_enoyl_\n",
      "pg160_c phosphatidylglycerol_dihexadecanoyl_\n",
      "pgp161_c phosphatidylglycerolphosphate_dihexadec_9_enoyl_\n",
      "pgp180_c phosphatidylglycerolphosphate_dioctadecanoyl_\n"
     ]
    }
   ],
   "source": [
    "import re\n",
    "for metabolite in iMsOB3b.metabolites:\n",
    "    if re.search(\"phosphatidylglycerol\", metabolite.name, re.IGNORECASE):\n",
    "        print(metabolite.id, metabolite.name)"
   ]
  },
  {
   "cell_type": "code",
   "execution_count": 717,
   "metadata": {
    "ExecuteTime": {
     "end_time": "2020-01-15T01:02:51.681865Z",
     "start_time": "2020-01-15T01:02:51.677957Z"
    }
   },
   "outputs": [
    {
     "data": {
      "text/html": [
       "\n",
       "        <table>\n",
       "            <tr>\n",
       "                <td><strong>Metabolite identifier</strong></td><td>pg160_c</td>\n",
       "            </tr><tr>\n",
       "                <td><strong>Name</strong></td><td>phosphatidylglycerol_dihexadecanoyl_</td>\n",
       "            </tr><tr>\n",
       "                <td><strong>Memory address</strong></td>\n",
       "                <td>0x07f329eba8710</td>\n",
       "            </tr><tr>\n",
       "                <td><strong>Formula</strong></td><td>None</td>\n",
       "            </tr><tr>\n",
       "                <td><strong>Compartment</strong></td><td>c</td>\n",
       "            </tr><tr>\n",
       "                <td><strong>In 2 reaction(s)</strong></td><td>\n",
       "                    Biomass_Mextorquens_AM1_core, PGPP160</td>\n",
       "            </tr>\n",
       "        </table>"
      ],
      "text/plain": [
       "<Metabolite pg160_c at 0x7f329eba8710>"
      ]
     },
     "execution_count": 717,
     "metadata": {},
     "output_type": "execute_result"
    }
   ],
   "source": [
    "iMsOB3b.metabolites.pg160_c"
   ]
  },
  {
   "cell_type": "code",
   "execution_count": 720,
   "metadata": {
    "ExecuteTime": {
     "end_time": "2020-01-15T01:03:26.711240Z",
     "start_time": "2020-01-15T01:03:26.706316Z"
    }
   },
   "outputs": [
    {
     "data": {
      "text/html": [
       "\n",
       "        <table>\n",
       "            <tr>\n",
       "                <td><strong>Reaction identifier</strong></td><td>PGPP160</td>\n",
       "            </tr><tr>\n",
       "                <td><strong>Name</strong></td><td>phosphatidylglycerophosphatase  n 16 0 </td>\n",
       "            </tr><tr>\n",
       "                <td><strong>Memory address</strong></td>\n",
       "                <td>0x07f329b4038d0</td>\n",
       "            </tr><tr>\n",
       "                <td><strong>Stoichiometry</strong></td>\n",
       "                <td>\n",
       "                    <p style='text-align:right'>h2o_c + pgp160_c <=> pg160_c + pi_c</p>\n",
       "                    <p style='text-align:right'>H2O + phosphatidylglycerolphosphate_dihexadecanoyl_ <=> phosphatidylglycerol_dihexadecanoyl_ + phosphate</p>\n",
       "                </td>\n",
       "            </tr><tr>\n",
       "                <td><strong>GPR</strong></td><td></td>\n",
       "            </tr><tr>\n",
       "                <td><strong>Lower bound</strong></td><td>-1000.0</td>\n",
       "            </tr><tr>\n",
       "                <td><strong>Upper bound</strong></td><td>1000.0</td>\n",
       "            </tr>\n",
       "        </table>\n",
       "        "
      ],
      "text/plain": [
       "<Reaction PGPP160 at 0x7f329b4038d0>"
      ]
     },
     "execution_count": 720,
     "metadata": {},
     "output_type": "execute_result"
    }
   ],
   "source": [
    "iMsOB3b.reactions.PGPP160"
   ]
  },
  {
   "cell_type": "code",
   "execution_count": 724,
   "metadata": {
    "ExecuteTime": {
     "end_time": "2020-01-15T01:09:26.625307Z",
     "start_time": "2020-01-15T01:09:26.594110Z"
    }
   },
   "outputs": [
    {
     "name": "stdout",
     "output_type": "stream",
     "text": [
      "RNDR3 CDP reductase\n",
      "CDPGD cdp glucose 4 6 dehydratase\n",
      "NDPK7 dCDP kinase\n",
      "NDPK3 CDP kinase\n",
      "DASYN160 CDP diacylglycerol synthetase  n 16 0 \n",
      "DASYN161 CDP diacylglycerol synthetase  n 16 1 \n",
      "DASYN180 CDP diacylglycerol synthetase  n 18 0 \n",
      "DASYN181 CDP diacylglycerol synthetase  n 18 1 \n"
     ]
    }
   ],
   "source": [
    "import re\n",
    "for reaction in iMsOB3b.reactions:\n",
    "    if re.search(\"CDP\", reaction.name, re.IGNORECASE):\n",
    "        print(reaction.id, reaction.name)"
   ]
  },
  {
   "cell_type": "code",
   "execution_count": 732,
   "metadata": {
    "ExecuteTime": {
     "end_time": "2020-01-15T01:34:00.595150Z",
     "start_time": "2020-01-15T01:34:00.590336Z"
    }
   },
   "outputs": [
    {
     "data": {
      "text/html": [
       "\n",
       "        <table>\n",
       "            <tr>\n",
       "                <td><strong>Reaction identifier</strong></td><td>DASYN181</td>\n",
       "            </tr><tr>\n",
       "                <td><strong>Name</strong></td><td>CDP diacylglycerol synthetase  n 18 1 </td>\n",
       "            </tr><tr>\n",
       "                <td><strong>Memory address</strong></td>\n",
       "                <td>0x07f329f96ee10</td>\n",
       "            </tr><tr>\n",
       "                <td><strong>Stoichiometry</strong></td>\n",
       "                <td>\n",
       "                    <p style='text-align:right'>ctp_c + h_c + pa181_c --> cdpdodec11eg_c + ppi_c</p>\n",
       "                    <p style='text-align:right'>CTP + H_ + 1_2_dioctadec_9_enoyl_sn_glycerol_3_phosphate --> CDP_1_2_dioctadec_9_enoyl_glycerol + diphosphate</p>\n",
       "                </td>\n",
       "            </tr><tr>\n",
       "                <td><strong>GPR</strong></td><td>CQW49_00450</td>\n",
       "            </tr><tr>\n",
       "                <td><strong>Lower bound</strong></td><td>0.0</td>\n",
       "            </tr><tr>\n",
       "                <td><strong>Upper bound</strong></td><td>1000.0</td>\n",
       "            </tr>\n",
       "        </table>\n",
       "        "
      ],
      "text/plain": [
       "<Reaction DASYN181 at 0x7f329f96ee10>"
      ]
     },
     "execution_count": 732,
     "metadata": {},
     "output_type": "execute_result"
    }
   ],
   "source": [
    "#iMsOB3b.reactions.DASYN160\n",
    "#iMsOB3b.reactions.DASYN161\n",
    "#iMsOB3b.reactions.DASYN180\n",
    "iMsOB3b.reactions.DASYN181"
   ]
  },
  {
   "cell_type": "code",
   "execution_count": null,
   "metadata": {},
   "outputs": [],
   "source": [
    "iMsOB3b.reactions.CLPNS160\n",
    "\n",
    "iMsOB3b.reactions.CLPNS161\n",
    "\n",
    "iMsOB3b.reactions.CLPNS180\n",
    "\n",
    "iMsOB3b.reactions.CLPNS181\n",
    "\n",
    "cdp12dgr160_m + pg160_m ⇌ cmp_m + h_m + clpn160_m"
   ]
  },
  {
   "cell_type": "code",
   "execution_count": 735,
   "metadata": {
    "ExecuteTime": {
     "end_time": "2020-01-15T01:34:50.169844Z",
     "start_time": "2020-01-15T01:34:50.157166Z"
    }
   },
   "outputs": [
    {
     "name": "stderr",
     "output_type": "stream",
     "text": [
      "Ignoring reaction 'CLPNS160' since it already exists.\n"
     ]
    }
   ],
   "source": [
    "from cobra import Model, Reaction, Metabolite\n",
    "# Best practise: SBML compliant IDs\n",
    "\n",
    "reaction = Reaction('CLPNS160')\n",
    "reaction.name = 'Cardiolipin synthase (n-16:0)'\n",
    "reaction.lower_bound = -1000.  # This is the default\n",
    "reaction.upper_bound = 1000.  # This is the default\n",
    "\n",
    "iMsOB3b.add_reaction(reaction)\n",
    "iMsOB3b.reactions.CLPNS160.reaction = 'cdpdhdecg_c + pg160_c <=> cmp_c + clpnd160_c'"
   ]
  },
  {
   "cell_type": "code",
   "execution_count": 736,
   "metadata": {
    "ExecuteTime": {
     "end_time": "2020-01-15T01:35:01.714171Z",
     "start_time": "2020-01-15T01:35:01.701376Z"
    }
   },
   "outputs": [],
   "source": [
    "from cobra import Model, Reaction, Metabolite\n",
    "# Best practise: SBML compliant IDs\n",
    "\n",
    "reaction = Reaction('CLPNS161')\n",
    "reaction.name = 'Cardiolipin synthase (n-16:1)'\n",
    "reaction.lower_bound = -1000.  # This is the default\n",
    "reaction.upper_bound = 1000.  # This is the default\n",
    "\n",
    "iMsOB3b.add_reaction(reaction)\n",
    "iMsOB3b.reactions.CLPNS161.reaction = 'cdpdhdec9eg_c + pg161_c <=> cmp_c + clpnd161_c'"
   ]
  },
  {
   "cell_type": "code",
   "execution_count": 737,
   "metadata": {
    "ExecuteTime": {
     "end_time": "2020-01-15T01:35:02.197593Z",
     "start_time": "2020-01-15T01:35:02.189355Z"
    }
   },
   "outputs": [],
   "source": [
    "from cobra import Model, Reaction, Metabolite\n",
    "# Best practise: SBML compliant IDs\n",
    "\n",
    "reaction = Reaction('CLPNS180')\n",
    "reaction.name = 'Cardiolipin synthase (n-18:0)'\n",
    "reaction.lower_bound = -1000.  # This is the default\n",
    "reaction.upper_bound = 1000.  # This is the default\n",
    "\n",
    "iMsOB3b.add_reaction(reaction)\n",
    "iMsOB3b.reactions.CLPNS180.reaction = 'cdpdodecg_c + pg180_c <=> cmp_c + clpnd180_c'"
   ]
  },
  {
   "cell_type": "code",
   "execution_count": 738,
   "metadata": {
    "ExecuteTime": {
     "end_time": "2020-01-15T01:35:02.643976Z",
     "start_time": "2020-01-15T01:35:02.631702Z"
    }
   },
   "outputs": [],
   "source": [
    "from cobra import Model, Reaction, Metabolite\n",
    "# Best practise: SBML compliant IDs\n",
    "\n",
    "reaction = Reaction('CLPNS181')\n",
    "reaction.name = 'Cardiolipin synthase (n-18:1)'\n",
    "reaction.lower_bound = -1000.  # This is the default\n",
    "reaction.upper_bound = 1000.  # This is the default\n",
    "\n",
    "iMsOB3b.add_reaction(reaction)\n",
    "iMsOB3b.reactions.CLPNS181.reaction = 'cdpdodec11eg_c + pg181_c <=> cmp_c + clpnd181_c'"
   ]
  },
  {
   "cell_type": "code",
   "execution_count": 740,
   "metadata": {
    "ExecuteTime": {
     "end_time": "2020-01-15T01:36:03.090932Z",
     "start_time": "2020-01-15T01:36:03.085811Z"
    }
   },
   "outputs": [],
   "source": [
    "iMsOB3b.reactions.CLPNS160.gene_reaction_rule = 'CQW49_02865'\n",
    "iMsOB3b.reactions.CLPNS161.gene_reaction_rule = 'CQW49_02865'\n",
    "iMsOB3b.reactions.CLPNS180.gene_reaction_rule = 'CQW49_02865'\n",
    "iMsOB3b.reactions.CLPNS181.gene_reaction_rule = 'CQW49_02865'"
   ]
  },
  {
   "cell_type": "markdown",
   "metadata": {},
   "source": [
    "CQW49_02960"
   ]
  },
  {
   "cell_type": "code",
   "execution_count": 741,
   "metadata": {
    "ExecuteTime": {
     "end_time": "2020-01-15T01:37:55.608688Z",
     "start_time": "2020-01-15T01:37:55.588056Z"
    }
   },
   "outputs": [
    {
     "name": "stdout",
     "output_type": "stream",
     "text": [
      "SHSL1 O-succinylhomoserine lyase (L-cysteine) cys__L_c + suchms_c --> cyst__L_c + h_c + succ_c\n",
      "SHSL2 o-succinylhomoserine sulfhydrylase h2s_c + suchms_c --> h_c + lhcys_c + succ_c\n",
      "SHSL2r SHSL2r h2s_c + suchms_c --> h_c + hcys__L_c + succ_c\n"
     ]
    }
   ],
   "source": [
    "for reaction in model_OB3b_old.genes.CQW49_02960.reactions:\n",
    "    print(reaction.id, reaction.name, reaction.reaction)"
   ]
  },
  {
   "cell_type": "code",
   "execution_count": 742,
   "metadata": {
    "ExecuteTime": {
     "end_time": "2020-01-15T01:39:17.996341Z",
     "start_time": "2020-01-15T01:39:17.978393Z"
    }
   },
   "outputs": [],
   "source": [
    "iMsOB3b.add_reaction(model_OB3b_old.reactions.SHSL2)"
   ]
  },
  {
   "cell_type": "markdown",
   "metadata": {},
   "source": [
    "CQW49_03300"
   ]
  },
  {
   "cell_type": "code",
   "execution_count": 743,
   "metadata": {
    "ExecuteTime": {
     "end_time": "2020-01-15T01:40:05.286483Z",
     "start_time": "2020-01-15T01:40:05.278005Z"
    }
   },
   "outputs": [
    {
     "name": "stdout",
     "output_type": "stream",
     "text": [
      "CA2abcpp Calcium transport via ABC system (periplasm) atp_c + ca2_p + h2o_c --> adp_c + ca2_c + h_c + pi_c\n"
     ]
    }
   ],
   "source": [
    "for reaction in model_OB3b_old.genes.CQW49_03300.reactions:\n",
    "    print(reaction.id, reaction.name, reaction.reaction)"
   ]
  },
  {
   "cell_type": "code",
   "execution_count": 745,
   "metadata": {
    "ExecuteTime": {
     "end_time": "2020-01-15T01:41:01.917456Z",
     "start_time": "2020-01-15T01:41:01.907976Z"
    }
   },
   "outputs": [],
   "source": [
    "iMsOB3b.reactions.CA2abctpp.gene_reaction_rule = 'CQW49_03300'"
   ]
  },
  {
   "cell_type": "markdown",
   "metadata": {},
   "source": [
    "CQW49_03485"
   ]
  },
  {
   "cell_type": "code",
   "execution_count": 746,
   "metadata": {
    "ExecuteTime": {
     "end_time": "2020-01-15T01:41:31.381844Z",
     "start_time": "2020-01-15T01:41:31.371294Z"
    }
   },
   "outputs": [
    {
     "name": "stdout",
     "output_type": "stream",
     "text": [
      "NADH16pp type-1 nadh:quinone oxidoreductase (H+-translocating) 4.0 h_c + nadh_c + q8_im --> 3.0 h_p + nad_c + q8h2_im\n"
     ]
    }
   ],
   "source": [
    "for reaction in model_OB3b_old.genes.CQW49_03485.reactions:\n",
    "    print(reaction.id, reaction.name, reaction.reaction)"
   ]
  },
  {
   "cell_type": "code",
   "execution_count": 749,
   "metadata": {
    "ExecuteTime": {
     "end_time": "2020-01-15T01:43:08.924614Z",
     "start_time": "2020-01-15T01:43:08.917461Z"
    }
   },
   "outputs": [],
   "source": [
    "iMsOB3b.reactions.NADH11.gene_reaction_rule = 'CQW49_05325 and CQW49_05330 and CQW49_18615 and CQW49_05310 and CQW49_05315 and CQW49_05300 and CQW49_05305 and CQW49_05290 and CQW49_05335 and CQW49_05295 and CQW49_05340 and CQW49_05345 and CQW49_05285 and CQW49_05350 and CQW49_05320 and CQW49_03485'"
   ]
  },
  {
   "cell_type": "markdown",
   "metadata": {},
   "source": [
    "CQW49_03930"
   ]
  },
  {
   "cell_type": "code",
   "execution_count": 750,
   "metadata": {
    "ExecuteTime": {
     "end_time": "2020-01-15T01:44:48.741836Z",
     "start_time": "2020-01-15T01:44:48.707828Z"
    }
   },
   "outputs": [
    {
     "name": "stdout",
     "output_type": "stream",
     "text": [
      "GUAPRT Guanine phosphoribosyltransferase gua_c + prpp_c --> gmp_c + ppi_c\n",
      "HXPRT Hypoxanthine phosphoribosyltransferase (Hypoxanthine) hxan_c + prpp_c --> imp_c + ppi_c\n",
      "XPPT Xanthine phosphoribosyltransferase prpp_c + xan_c --> ppi_c + xmp_c\n"
     ]
    }
   ],
   "source": [
    "for reaction in model_OB3b_old.genes.CQW49_03930.reactions:\n",
    "    print(reaction.id, reaction.name, reaction.reaction)"
   ]
  },
  {
   "cell_type": "code",
   "execution_count": 753,
   "metadata": {
    "ExecuteTime": {
     "end_time": "2020-01-15T01:46:11.882252Z",
     "start_time": "2020-01-15T01:46:11.873968Z"
    }
   },
   "outputs": [],
   "source": [
    "iMsOB3b.add_reaction(model_OB3b_old.reactions.XPPT)"
   ]
  },
  {
   "cell_type": "markdown",
   "metadata": {
    "ExecuteTime": {
     "end_time": "2020-01-15T01:46:22.287416Z",
     "start_time": "2020-01-15T01:46:22.282348Z"
    }
   },
   "source": [
    "CQW49_04245\n",
    "<br> Add reaction since it is present in genbank annotation"
   ]
  },
  {
   "cell_type": "code",
   "execution_count": 755,
   "metadata": {
    "ExecuteTime": {
     "end_time": "2020-01-15T01:46:57.051142Z",
     "start_time": "2020-01-15T01:46:57.041342Z"
    }
   },
   "outputs": [
    {
     "name": "stdout",
     "output_type": "stream",
     "text": [
      "MSAR Malonic semialdehyde reductase h_c + msa_c + nadph_c --> 3hpp_c + nadp_c\n"
     ]
    }
   ],
   "source": [
    "for reaction in model_OB3b_old.genes.CQW49_04245.reactions:\n",
    "    print(reaction.id, reaction.name, reaction.reaction)"
   ]
  },
  {
   "cell_type": "code",
   "execution_count": 758,
   "metadata": {
    "ExecuteTime": {
     "end_time": "2020-01-15T02:08:26.964393Z",
     "start_time": "2020-01-15T02:08:26.944736Z"
    },
    "scrolled": true
   },
   "outputs": [],
   "source": [
    "iMsOB3b.add_reaction(model_OB3b_old.reactions.MSAR)"
   ]
  },
  {
   "cell_type": "markdown",
   "metadata": {
    "ExecuteTime": {
     "end_time": "2020-01-15T02:05:16.286216Z",
     "start_time": "2020-01-15T02:05:16.251892Z"
    }
   },
   "source": [
    "CQW49_04395"
   ]
  },
  {
   "cell_type": "code",
   "execution_count": 759,
   "metadata": {
    "ExecuteTime": {
     "end_time": "2020-01-15T02:09:02.111727Z",
     "start_time": "2020-01-15T02:09:02.108404Z"
    }
   },
   "outputs": [],
   "source": [
    "for reaction in model_OB3b_old.genes.CQW49_04395.reactions:\n",
    "    print(reaction.id, reaction.name, reaction.reaction)"
   ]
  },
  {
   "cell_type": "markdown",
   "metadata": {
    "ExecuteTime": {
     "end_time": "2020-01-15T02:12:36.034934Z",
     "start_time": "2020-01-15T02:12:36.007506Z"
    }
   },
   "source": [
    "CQW49_04465"
   ]
  },
  {
   "cell_type": "code",
   "execution_count": 760,
   "metadata": {
    "ExecuteTime": {
     "end_time": "2020-01-15T02:12:29.698391Z",
     "start_time": "2020-01-15T02:12:29.695052Z"
    }
   },
   "outputs": [],
   "source": [
    "for reaction in model_OB3b_old.genes.CQW49_04465.reactions:\n",
    "    print(reaction.id, reaction.name, reaction.reaction)"
   ]
  },
  {
   "cell_type": "markdown",
   "metadata": {},
   "source": [
    "CQW49_05060 --> too broad definition"
   ]
  },
  {
   "cell_type": "code",
   "execution_count": 762,
   "metadata": {
    "ExecuteTime": {
     "end_time": "2020-01-15T02:13:01.652809Z",
     "start_time": "2020-01-15T02:13:01.630230Z"
    }
   },
   "outputs": [
    {
     "name": "stdout",
     "output_type": "stream",
     "text": [
      "AMPTASECG Alanyl aminopeptidase (cys-gly) cgly_c + h2o_c --> cys__L_c + gly_c\n",
      "AMPTASEPG Aminopeptidase (pro-gly) h2o_c + progly_c --> gly_c + pro__L_c\n"
     ]
    }
   ],
   "source": [
    "for reaction in model_OB3b_old.genes.CQW49_05060.reactions:\n",
    "    print(reaction.id, reaction.name, reaction.reaction)"
   ]
  },
  {
   "cell_type": "markdown",
   "metadata": {
    "ExecuteTime": {
     "end_time": "2020-01-15T02:18:20.248844Z",
     "start_time": "2020-01-15T02:18:20.243599Z"
    }
   },
   "source": [
    "CQW49_05095"
   ]
  },
  {
   "cell_type": "code",
   "execution_count": 773,
   "metadata": {
    "ExecuteTime": {
     "end_time": "2020-01-15T02:18:48.210927Z",
     "start_time": "2020-01-15T02:18:48.203054Z"
    }
   },
   "outputs": [
    {
     "name": "stdout",
     "output_type": "stream",
     "text": [
      "PPC Phosphoenolpyruvate carboxylase co2_c + h2o_c + pep_c --> h_c + oaa_c + pi_c\n"
     ]
    }
   ],
   "source": [
    "for reaction in model_OB3b_old.genes.CQW49_05095.reactions:\n",
    "    print(reaction.id, reaction.name, reaction.reaction)"
   ]
  },
  {
   "cell_type": "code",
   "execution_count": 776,
   "metadata": {
    "ExecuteTime": {
     "end_time": "2020-01-15T02:19:13.614422Z",
     "start_time": "2020-01-15T02:19:13.610139Z"
    }
   },
   "outputs": [
    {
     "data": {
      "text/plain": [
       "'CQW49_05095 or CQW49_12230'"
      ]
     },
     "execution_count": 776,
     "metadata": {},
     "output_type": "execute_result"
    }
   ],
   "source": [
    "iMsOB3b.reactions.PPC.gene_reaction_rule"
   ]
  },
  {
   "cell_type": "markdown",
   "metadata": {},
   "source": [
    "CQW49_05280"
   ]
  },
  {
   "cell_type": "code",
   "execution_count": 777,
   "metadata": {
    "ExecuteTime": {
     "end_time": "2020-01-15T02:19:51.437360Z",
     "start_time": "2020-01-15T02:19:51.427186Z"
    }
   },
   "outputs": [
    {
     "name": "stdout",
     "output_type": "stream",
     "text": [
      "BACCL Biotin acetyl CoA carboxylase ligase atp_c + btn_c + h_c --> btamp_c + ppi_c\n"
     ]
    }
   ],
   "source": [
    "for reaction in model_OB3b_old.genes.CQW49_05280.reactions:\n",
    "    print(reaction.id, reaction.name, reaction.reaction)"
   ]
  },
  {
   "cell_type": "code",
   "execution_count": 778,
   "metadata": {
    "ExecuteTime": {
     "end_time": "2020-01-15T02:20:27.040275Z",
     "start_time": "2020-01-15T02:20:27.011581Z"
    }
   },
   "outputs": [],
   "source": [
    "iMsOB3b.add_reaction(model_OB3b_old.reactions.BACCL)"
   ]
  },
  {
   "cell_type": "markdown",
   "metadata": {},
   "source": [
    "CQW49_05640"
   ]
  },
  {
   "cell_type": "code",
   "execution_count": 784,
   "metadata": {
    "ExecuteTime": {
     "end_time": "2020-01-15T02:25:10.735423Z",
     "start_time": "2020-01-15T02:25:10.715074Z"
    }
   },
   "outputs": [
    {
     "name": "stdout",
     "output_type": "stream",
     "text": [
      "HGNTOR Homogentisateoxygen 1 2 oxidoreductase  decyclizing  hgentis_c + o2_c --> 4mlacac_c + h_c\n"
     ]
    }
   ],
   "source": [
    "for reaction in model_OB3b_old.genes.CQW49_05640.reactions:\n",
    "    print(reaction.id, reaction.name, reaction.reaction)"
   ]
  },
  {
   "cell_type": "code",
   "execution_count": 783,
   "metadata": {
    "ExecuteTime": {
     "end_time": "2020-01-15T02:24:16.745672Z",
     "start_time": "2020-01-15T02:24:16.741132Z"
    }
   },
   "outputs": [
    {
     "name": "stderr",
     "output_type": "stream",
     "text": [
      "Ignoring reaction 'HGNTOR' since it already exists.\n"
     ]
    }
   ],
   "source": [
    "iMsOB3b.add_reaction(model_OB3b_old.reactions.HGNTOR)"
   ]
  },
  {
   "cell_type": "markdown",
   "metadata": {},
   "source": [
    "CQW49_05645"
   ]
  },
  {
   "cell_type": "code",
   "execution_count": 786,
   "metadata": {
    "ExecuteTime": {
     "end_time": "2020-01-15T02:25:40.363556Z",
     "start_time": "2020-01-15T02:25:40.356157Z"
    }
   },
   "outputs": [
    {
     "name": "stdout",
     "output_type": "stream",
     "text": [
      "34HPPOR 4 Hydroxyphenylpyruvateoxygen oxidoreductase 34hpp_c + o2_c --> co2_c + hgentis_c\n"
     ]
    }
   ],
   "source": [
    "for reaction in model_OB3b_old.genes.CQW49_05645.reactions:\n",
    "    print(reaction.id, reaction.name, reaction.reaction)"
   ]
  },
  {
   "cell_type": "code",
   "execution_count": 789,
   "metadata": {
    "ExecuteTime": {
     "end_time": "2020-01-15T02:27:23.540463Z",
     "start_time": "2020-01-15T02:27:23.535068Z"
    }
   },
   "outputs": [
    {
     "name": "stderr",
     "output_type": "stream",
     "text": [
      "Ignoring reaction '34HPPOR' since it already exists.\n"
     ]
    }
   ],
   "source": [
    "iMsOB3b.add_reaction(model_OB3b_old.reactions.get_by_id('34HPPOR'))"
   ]
  },
  {
   "cell_type": "markdown",
   "metadata": {},
   "source": [
    "CQW49_06015"
   ]
  },
  {
   "cell_type": "code",
   "execution_count": 790,
   "metadata": {
    "ExecuteTime": {
     "end_time": "2020-01-15T02:28:19.603974Z",
     "start_time": "2020-01-15T02:28:19.585328Z"
    }
   },
   "outputs": [
    {
     "name": "stdout",
     "output_type": "stream",
     "text": [
      "THIORDXi Hydrogen peroxide reductase (thioredoxin) h2o2_c + trdrd_c --> 2.0 h2o_c + trdox_c\n"
     ]
    }
   ],
   "source": [
    "for reaction in model_OB3b_old.genes.CQW49_06015.reactions:\n",
    "    print(reaction.id, reaction.name, reaction.reaction)"
   ]
  },
  {
   "cell_type": "code",
   "execution_count": 794,
   "metadata": {
    "ExecuteTime": {
     "end_time": "2020-01-15T02:30:18.573266Z",
     "start_time": "2020-01-15T02:30:18.544368Z"
    }
   },
   "outputs": [
    {
     "name": "stdout",
     "output_type": "stream",
     "text": [
      "lgt_S_c S_lactoylglutathione\n",
      "gthrd_c glutathione\n",
      "gthox_c glutathione_disulfide\n"
     ]
    }
   ],
   "source": [
    "import re\n",
    "for metabolite in iMsOB3b.metabolites:\n",
    "    if re.search(\"glutathione\", metabolite.name, re.IGNORECASE):\n",
    "        print(metabolite.id, metabolite.name)"
   ]
  },
  {
   "cell_type": "code",
   "execution_count": 799,
   "metadata": {
    "ExecuteTime": {
     "end_time": "2020-01-15T02:31:22.100353Z",
     "start_time": "2020-01-15T02:31:22.092931Z"
    }
   },
   "outputs": [],
   "source": [
    "iMsOB3b.reactions.GTHPp.gene_reaction_rule = \"CQW49_06010 or CQW49_06015\""
   ]
  },
  {
   "cell_type": "markdown",
   "metadata": {},
   "source": [
    "Save model for now:"
   ]
  },
  {
   "cell_type": "code",
   "execution_count": 800,
   "metadata": {
    "ExecuteTime": {
     "end_time": "2020-01-15T02:32:16.328264Z",
     "start_time": "2020-01-15T02:32:16.119176Z"
    }
   },
   "outputs": [],
   "source": [
    "cobra.io.save_json_model(iMsOB3b, memote_directory + draft_gems_dir_8 + \"bigg_OB3b_15_01_2020.json\")"
   ]
  },
  {
   "cell_type": "markdown",
   "metadata": {},
   "source": [
    "CQW49_06060 \n",
    "<br> too broad definition\n",
    "<br> not added"
   ]
  },
  {
   "cell_type": "code",
   "execution_count": 804,
   "metadata": {
    "ExecuteTime": {
     "end_time": "2020-01-15T02:33:14.008740Z",
     "start_time": "2020-01-15T02:33:14.000237Z"
    }
   },
   "outputs": [
    {
     "name": "stdout",
     "output_type": "stream",
     "text": [
      "AMPTASEPG Aminopeptidase (pro-gly) h2o_c + progly_c --> gly_c + pro__L_c\n"
     ]
    }
   ],
   "source": [
    "for reaction in model_OB3b_old.genes.CQW49_06060.reactions:\n",
    "    print(reaction.id, reaction.name, reaction.reaction)"
   ]
  },
  {
   "cell_type": "markdown",
   "metadata": {},
   "source": [
    "CQW49_06175"
   ]
  },
  {
   "cell_type": "code",
   "execution_count": 806,
   "metadata": {
    "ExecuteTime": {
     "end_time": "2020-01-15T02:35:20.398943Z",
     "start_time": "2020-01-15T02:35:20.380585Z"
    }
   },
   "outputs": [
    {
     "name": "stdout",
     "output_type": "stream",
     "text": [
      "FTHFCL 5 formethyltetrahydrofolate cyclo ligase 5fthf_c + atp_c --> adp_c + methf_c + pi_c\n"
     ]
    }
   ],
   "source": [
    "for reaction in model_OB3b_old.genes.CQW49_06175.reactions:\n",
    "    print(reaction.id, reaction.name, reaction.reaction)"
   ]
  },
  {
   "cell_type": "code",
   "execution_count": 809,
   "metadata": {
    "ExecuteTime": {
     "end_time": "2020-01-15T05:13:04.852304Z",
     "start_time": "2020-01-15T05:13:04.836589Z"
    }
   },
   "outputs": [],
   "source": [
    "iMsOB3b.add_reaction(model_OB3b_old.reactions.FTHFCL)"
   ]
  },
  {
   "cell_type": "markdown",
   "metadata": {
    "ExecuteTime": {
     "end_time": "2020-01-15T05:02:27.664208Z",
     "start_time": "2020-01-15T05:02:27.659672Z"
    }
   },
   "source": [
    "CQW49_06290"
   ]
  },
  {
   "cell_type": "code",
   "execution_count": 810,
   "metadata": {
    "ExecuteTime": {
     "end_time": "2020-01-15T05:13:34.658297Z",
     "start_time": "2020-01-15T05:13:34.648767Z"
    }
   },
   "outputs": [
    {
     "name": "stdout",
     "output_type": "stream",
     "text": [
      "CPPPGO2 Oxygen Independent coproporphyrinogen-III oxidase 2.0 amet_c + cpppg3_c --> 2.0 co2_c + 2.0 dad_5_c + 2.0 met__L_c + pppg9_c\n"
     ]
    }
   ],
   "source": [
    "for reaction in model_OB3b_old.genes.CQW49_06290.reactions:\n",
    "    print(reaction.id, reaction.name, reaction.reaction)"
   ]
  },
  {
   "cell_type": "code",
   "execution_count": 818,
   "metadata": {
    "ExecuteTime": {
     "end_time": "2020-01-15T05:17:19.683826Z",
     "start_time": "2020-01-15T05:17:19.673038Z"
    }
   },
   "outputs": [
    {
     "name": "stdout",
     "output_type": "stream",
     "text": [
      "coproporphyrinogen_III\n",
      "S__adenosyl_L_methionine\n",
      "5'-deoxyadenosine\n",
      "Protoporphyrinogen_IX\n"
     ]
    }
   ],
   "source": [
    "print(iMsOB3b.metabolites.cpppg3_c.name)\n",
    "print(iMsOB3b.metabolites.amet_c.name)\n",
    "print(iMsOB3b.metabolites.dad_5_c.name)\n",
    "print(iMsOB3b.metabolites.pppg9_c.name)"
   ]
  },
  {
   "cell_type": "code",
   "execution_count": 819,
   "metadata": {
    "ExecuteTime": {
     "end_time": "2020-01-15T05:18:47.747869Z",
     "start_time": "2020-01-15T05:18:47.740010Z"
    }
   },
   "outputs": [],
   "source": [
    "iMsOB3b.add_reaction(model_OB3b_old.reactions.CPPPGO2)"
   ]
  },
  {
   "cell_type": "markdown",
   "metadata": {},
   "source": [
    "CQW49_06695"
   ]
  },
  {
   "cell_type": "code",
   "execution_count": 820,
   "metadata": {
    "ExecuteTime": {
     "end_time": "2020-01-15T05:19:11.860222Z",
     "start_time": "2020-01-15T05:19:11.852470Z"
    }
   },
   "outputs": [
    {
     "name": "stdout",
     "output_type": "stream",
     "text": [
      "ORNDC Ornithine Decarboxylase h_c + orn_c --> co2_c + ptrc_c\n"
     ]
    }
   ],
   "source": [
    "for reaction in model_OB3b_old.genes.CQW49_06695.reactions:\n",
    "    print(reaction.id, reaction.name, reaction.reaction)"
   ]
  },
  {
   "cell_type": "code",
   "execution_count": 821,
   "metadata": {
    "ExecuteTime": {
     "end_time": "2020-01-15T05:19:54.927880Z",
     "start_time": "2020-01-15T05:19:54.909606Z"
    }
   },
   "outputs": [
    {
     "name": "stdout",
     "output_type": "stream",
     "text": [
      "orn_c L_ornithine\n",
      "sucorn_c N2_succinyl_L_ornithine\n",
      "acorn_c N_acetyl_L_ornithine\n"
     ]
    }
   ],
   "source": [
    "import re\n",
    "for metabolite in iMsOB3b.metabolites:\n",
    "    if re.search(\"ornithine\", metabolite.name, re.IGNORECASE):\n",
    "        print(metabolite.id, metabolite.name)"
   ]
  },
  {
   "cell_type": "code",
   "execution_count": 823,
   "metadata": {
    "ExecuteTime": {
     "end_time": "2020-01-15T05:20:23.333858Z",
     "start_time": "2020-01-15T05:20:23.328300Z"
    }
   },
   "outputs": [
    {
     "data": {
      "text/plain": [
       "frozenset({<Reaction ACODA at 0x7f329f700588>,\n",
       "           <Reaction GLYAMDTRc at 0x7f329b4700b8>,\n",
       "           <Reaction OCBT at 0x7f329f5e08d0>,\n",
       "           <Reaction ORNDC at 0x7f329f4fdc88>,\n",
       "           <Reaction ORNTA at 0x7f32901aee80>,\n",
       "           <Reaction ORNTAC at 0x7f329b183dd8>})"
      ]
     },
     "execution_count": 823,
     "metadata": {},
     "output_type": "execute_result"
    }
   ],
   "source": [
    "iMsOB3b.metabolites.orn_c.reactions"
   ]
  },
  {
   "cell_type": "code",
   "execution_count": 827,
   "metadata": {
    "ExecuteTime": {
     "end_time": "2020-01-15T05:20:53.875989Z",
     "start_time": "2020-01-15T05:20:53.872444Z"
    }
   },
   "outputs": [],
   "source": [
    "iMsOB3b.reactions.ORNDC.gene_reaction_rule = 'CQW49_06695'"
   ]
  },
  {
   "cell_type": "markdown",
   "metadata": {},
   "source": [
    "CQW49_06715\n",
    "<br> change reaction bounds so that nh4_c is not assimilated via glutamate dehydrogenase"
   ]
  },
  {
   "cell_type": "code",
   "execution_count": 828,
   "metadata": {
    "ExecuteTime": {
     "end_time": "2020-01-15T05:21:30.115949Z",
     "start_time": "2020-01-15T05:21:30.099053Z"
    }
   },
   "outputs": [
    {
     "name": "stdout",
     "output_type": "stream",
     "text": [
      "GLUDy Glutamate dehydrogenase (NADP) glu__L_c + h2o_c + nadp_c <=> akg_c + h_c + nadph_c + nh4_c\n",
      "GLUDxi Glutamate dehydrogenase  NAD  glu__L_c + h2o_c + nad_c --> akg_c + h_c + nadh_c + nh4_c\n"
     ]
    }
   ],
   "source": [
    "for reaction in model_OB3b_old.genes.CQW49_06715.reactions:\n",
    "    print(reaction.id, reaction.name, reaction.reaction)"
   ]
  },
  {
   "cell_type": "code",
   "execution_count": 831,
   "metadata": {
    "ExecuteTime": {
     "end_time": "2020-01-15T05:22:28.056803Z",
     "start_time": "2020-01-15T05:22:28.022292Z"
    },
    "scrolled": true
   },
   "outputs": [
    {
     "name": "stdout",
     "output_type": "stream",
     "text": [
      "glu_D_c D_glutamate\n",
      "glu_L_e L_glutamate\n",
      "glu_L_p L_glutamate\n",
      "glu_L_c L_glutamate\n",
      "uamag_c UDP_N_acetylmuramoyl_L_alanyl_D_glutamate\n",
      "Nforglu_c N_formyl_L_glutamate\n",
      "glu5p_c L_glutamate_5_phosphate\n",
      "acg5sa_c N_acetyl_L_glutamate_5_semialdehyde\n",
      "sucgsa_c N2_succinyl_L_glutamate_5_semialdehyde\n",
      "acglu_c N_acetyl_L_glutamate\n",
      "glu5sa_c L_glutamate_gamma_semialdehyde\n",
      "glu__L_c L-glutamate\n"
     ]
    }
   ],
   "source": [
    "import re\n",
    "for metabolite in iMsOB3b.metabolites:\n",
    "    if re.search(\"glutamate\", metabolite.name, re.IGNORECASE):\n",
    "        print(metabolite.id, metabolite.name)"
   ]
  },
  {
   "cell_type": "code",
   "execution_count": 835,
   "metadata": {
    "ExecuteTime": {
     "end_time": "2020-01-15T05:23:32.260726Z",
     "start_time": "2020-01-15T05:23:32.238740Z"
    }
   },
   "outputs": [
    {
     "name": "stdout",
     "output_type": "stream",
     "text": [
      "UAMAGS UDP N acetylmuramoylalanine  D glutamate ligase atp_c + glu_D_c + uama_c --> adp_c + h_c + pi_c + uamag_c\n",
      "GLUR glutamate racemase glu_L_c <=> glu_D_c\n",
      "ALATA_D D alanine aminotransferase glu_D_c + pyr_c <=> akg_c + ala_D_c\n"
     ]
    }
   ],
   "source": [
    "for reaction in iMsOB3b.metabolites.glu_D_c.reactions:\n",
    "    print(reaction.id, reaction.name, reaction.reaction)"
   ]
  },
  {
   "cell_type": "code",
   "execution_count": 840,
   "metadata": {
    "ExecuteTime": {
     "end_time": "2020-01-15T05:29:34.393230Z",
     "start_time": "2020-01-15T05:29:34.381052Z"
    },
    "scrolled": true
   },
   "outputs": [
    {
     "name": "stdout",
     "output_type": "stream",
     "text": [
      "GLNS: atp_c + glu_L_c + nh4_c --> adp_c + gln_L_c + h_c + pi_c\n",
      "GLUSy: akg_c + gln_L_c + h_c + nadph_c --> 2.0 glu_L_c + nadp_c\n"
     ]
    }
   ],
   "source": [
    "print(iMsOB3b.reactions.GLNS)\n",
    "print(iMsOB3b.reactions.GLUSy)"
   ]
  },
  {
   "cell_type": "code",
   "execution_count": 841,
   "metadata": {
    "ExecuteTime": {
     "end_time": "2020-01-15T05:30:15.620586Z",
     "start_time": "2020-01-15T05:30:15.574896Z"
    }
   },
   "outputs": [],
   "source": [
    "iMsOB3b.add_reaction(model_OB3b_old.reactions.GLUDy)\n",
    "iMsOB3b.add_reaction(model_OB3b_old.reactions.GLUDxi)"
   ]
  },
  {
   "cell_type": "code",
   "execution_count": 846,
   "metadata": {
    "ExecuteTime": {
     "end_time": "2020-01-15T05:31:47.343888Z",
     "start_time": "2020-01-15T05:31:47.339571Z"
    }
   },
   "outputs": [],
   "source": [
    "iMsOB3b.reactions.GLUDy.bounds = (0, 1000)\n",
    "iMsOB3b.reactions.GLUDxi.bounds = (0, 1000)"
   ]
  },
  {
   "cell_type": "markdown",
   "metadata": {
    "ExecuteTime": {
     "end_time": "2020-01-15T05:31:20.561740Z",
     "start_time": "2020-01-15T05:31:20.557396Z"
    }
   },
   "source": [
    "CQW49_06730"
   ]
  },
  {
   "cell_type": "code",
   "execution_count": 847,
   "metadata": {
    "ExecuteTime": {
     "end_time": "2020-01-15T05:32:50.558270Z",
     "start_time": "2020-01-15T05:32:50.532305Z"
    }
   },
   "outputs": [
    {
     "name": "stdout",
     "output_type": "stream",
     "text": [
      "OIVD2 2-oxoisovalerate dehydrogenase (acylating; 3-methyl-2-oxobutanoate) 3mob_c + coa_c + nad_c --> co2_c + ibcoa_c + nadh_c\n",
      "OBDHc OBDHc 2obut_c + coa_c + nad_c --> co2_c + nadh_c + ppcoa_c\n",
      "OIVD3 2-oxoisovalerate dehydrogenase (acylating; 3-methyl-2-oxopentanoate) 3mop_c + coa_c + nad_c --> 2mbcoa_c + co2_c + nadh_c\n"
     ]
    }
   ],
   "source": [
    "for reaction in model_OB3b_old.genes.CQW49_06730.reactions:\n",
    "    print(reaction.id, reaction.name, reaction.reaction)"
   ]
  },
  {
   "cell_type": "code",
   "execution_count": 848,
   "metadata": {
    "ExecuteTime": {
     "end_time": "2020-01-15T05:33:36.725855Z",
     "start_time": "2020-01-15T05:33:36.669902Z"
    }
   },
   "outputs": [
    {
     "name": "stdout",
     "output_type": "stream",
     "text": [
      "EX_pyr_e exchange flux   pyruvate\n",
      "PYRtex pyruvate transport via diffusion  extracellular to periplasm \n",
      "PPDK pyruvate phosphate dikinase\n",
      "PYK pyruvate kinase\n",
      "MCPST 3 mercaptopyruvate sulfurtransferase\n",
      "PPC phosphoenolpyruvate carboxylase\n",
      "PYRt2rpp pyruvate symport  periplasm to cytoplasm \n",
      "PDH pyruvate dehydrogenase\n",
      "GLYD hydroxypyruvate reductase\n",
      "PPS Phosphoenolpyruvate synthase\n",
      "34HPPOR 4 Hydroxyphenylpyruvateoxygen oxidoreductase\n"
     ]
    }
   ],
   "source": [
    "import re\n",
    "for reaction in iMsOB3b.reactions:\n",
    "    if re.search(\"pyruvate\", reaction.name, re.IGNORECASE):\n",
    "        print(reaction.id, reaction.name)"
   ]
  },
  {
   "cell_type": "code",
   "execution_count": 851,
   "metadata": {
    "ExecuteTime": {
     "end_time": "2020-01-15T05:34:12.068340Z",
     "start_time": "2020-01-15T05:34:12.058681Z"
    }
   },
   "outputs": [],
   "source": [
    "iMsOB3b.reactions.PDH.gene_reaction_rule = 'CQW49_01940 and CQW49_01945 and CQW49_01950 and CQW49_06860 and CQW49_06730'"
   ]
  },
  {
   "cell_type": "markdown",
   "metadata": {},
   "source": [
    "CQW49_06735\n",
    "<br> \"Dihydrolipoyl transacetylase (or dihydrolipoamide acetyltransferase) is an enzyme component of the multienzyme pyruvate dehydrogenase complex. The pyruvate dehydrogenase complex is responsible for the pyruvate decarboxylation step that links glycolysis to the citric acid cycle. This involves the transformation of pyruvate from glycolysis into acetyl-CoA which is then used in the citric acid cycle to carry out cellular respiration.\" --> https://en.wikipedia.org/wiki/Dihydrolipoyl_transacetylase"
   ]
  },
  {
   "cell_type": "code",
   "execution_count": 852,
   "metadata": {
    "ExecuteTime": {
     "end_time": "2020-01-15T05:34:36.883360Z",
     "start_time": "2020-01-15T05:34:36.865862Z"
    }
   },
   "outputs": [
    {
     "name": "stdout",
     "output_type": "stream",
     "text": [
      "OIVD2 2-oxoisovalerate dehydrogenase (acylating; 3-methyl-2-oxobutanoate) 3mob_c + coa_c + nad_c --> co2_c + ibcoa_c + nadh_c\n",
      "OBDHc OBDHc 2obut_c + coa_c + nad_c --> co2_c + nadh_c + ppcoa_c\n",
      "OIVD3 2-oxoisovalerate dehydrogenase (acylating; 3-methyl-2-oxopentanoate) 3mop_c + coa_c + nad_c --> 2mbcoa_c + co2_c + nadh_c\n"
     ]
    }
   ],
   "source": [
    "for reaction in model_OB3b_old.genes.CQW49_06735.reactions:\n",
    "    print(reaction.id, reaction.name, reaction.reaction)"
   ]
  },
  {
   "cell_type": "code",
   "execution_count": 857,
   "metadata": {
    "ExecuteTime": {
     "end_time": "2020-01-15T05:44:58.078727Z",
     "start_time": "2020-01-15T05:44:58.074825Z"
    }
   },
   "outputs": [],
   "source": [
    "iMsOB3b.reactions.PDH.gene_reaction_rule = 'CQW49_01940 and CQW49_01945 and CQW49_01950 and CQW49_06860 and CQW49_06730 and CQW49_06735'"
   ]
  },
  {
   "cell_type": "markdown",
   "metadata": {},
   "source": [
    "CQW49_06750"
   ]
  },
  {
   "cell_type": "code",
   "execution_count": 858,
   "metadata": {
    "ExecuteTime": {
     "end_time": "2020-01-15T05:45:04.439833Z",
     "start_time": "2020-01-15T05:45:04.405855Z"
    }
   },
   "outputs": [
    {
     "name": "stdout",
     "output_type": "stream",
     "text": [
      "HPYRRy Hydroxypyruvate reductase (NADPH) h_c + hpyr_c + nadph_c --> glyc__R_c + nadp_c\n",
      "2DGULRx 2-dehydro-L-gulonate reductase (NADH) 2dhguln_c + h_c + nadh_c --> idon__L_c + nad_c\n",
      "2DGULRGy 2-Dehydro-L-gulonate reductase to gluconate (NADPH) 2dhguln_c + h_c + nadph_c --> glcn_c + nadp_c\n",
      "DKGLCNR2x 2,5-diketo-D-gluconate reductase (NADH) 25dkglcn_c + h_c + nadh_c --> 5dglcn_c + nad_c\n",
      "2DGULRy 2-dehydro-L-gulonate reductase (NADPH) 2dhguln_c + h_c + nadph_c --> idon__L_c + nadp_c\n",
      "HPYRRx Hydroxypyruvate reductase (NADH) h_c + hpyr_c + nadh_c --> glyc__R_c + nad_c\n",
      "2DGULRGx 2-Dehydro-L-gulonate reductase to gluconate (NADH) 2dhguln_c + h_c + nadh_c --> glcn_c + nad_c\n",
      "DKGLCNR2y 2,5-diketo-D-gluconate reductase (NADPH) 25dkglcn_c + h_c + nadph_c --> 5dglcn_c + nadp_c\n"
     ]
    }
   ],
   "source": [
    "for reaction in model_OB3b_old.genes.CQW49_06750.reactions:\n",
    "    print(reaction.id, reaction.name, reaction.reaction)"
   ]
  },
  {
   "cell_type": "code",
   "execution_count": 859,
   "metadata": {
    "ExecuteTime": {
     "end_time": "2020-01-15T05:45:43.227981Z",
     "start_time": "2020-01-15T05:45:43.210834Z"
    }
   },
   "outputs": [
    {
     "name": "stdout",
     "output_type": "stream",
     "text": [
      "GLYCLTDx glyoxylate reductase\n",
      "GLXDH glyoxylate dehydrogenase\n",
      "SERGLXAT L serine glyoxylate aminotransferase\n"
     ]
    }
   ],
   "source": [
    "import re\n",
    "for reaction in iMsOB3b.reactions:\n",
    "    if re.search(\"glyoxylate\", reaction.name, re.IGNORECASE):\n",
    "        print(reaction.id, reaction.name)"
   ]
  },
  {
   "cell_type": "code",
   "execution_count": 862,
   "metadata": {
    "ExecuteTime": {
     "end_time": "2020-01-15T05:46:20.223386Z",
     "start_time": "2020-01-15T05:46:20.217060Z"
    }
   },
   "outputs": [],
   "source": [
    "iMsOB3b.reactions.GLYCLTDx.gene_reaction_rule = 'CQW49_04355 and CQW49_04350 and CQW49_04360 and CQW49_06750'"
   ]
  },
  {
   "cell_type": "markdown",
   "metadata": {},
   "source": [
    "CQW49_06900"
   ]
  },
  {
   "cell_type": "code",
   "execution_count": 863,
   "metadata": {
    "ExecuteTime": {
     "end_time": "2020-01-15T05:47:11.169186Z",
     "start_time": "2020-01-15T05:47:11.150186Z"
    }
   },
   "outputs": [
    {
     "name": "stdout",
     "output_type": "stream",
     "text": [
      "UDPGDC UDP-glucuronate C-4'' decarboxylase nad_c + udpglcur_c --> co2_c + nadh_c + udpLa4o_c\n",
      "TDPGDH DTDPglucose 4,6-dehydratase dtdpglu_c --> dtdp4d6dg_c + h2o_c\n",
      "ULA4NFT UDP-L-Ara4N formyltransferase 10fthf_c + udpLa4n_c --> h_c + thf_c + udpLa4fn_c\n"
     ]
    }
   ],
   "source": [
    "for reaction in model_OB3b_old.genes.CQW49_06900.reactions:\n",
    "    print(reaction.id, reaction.name, reaction.reaction)"
   ]
  },
  {
   "cell_type": "code",
   "execution_count": 866,
   "metadata": {
    "ExecuteTime": {
     "end_time": "2020-01-15T05:49:25.998819Z",
     "start_time": "2020-01-15T05:49:25.989126Z"
    }
   },
   "outputs": [],
   "source": [
    "iMsOB3b.add_reaction(model_OB3b_old.reactions.UDPGDC)"
   ]
  },
  {
   "cell_type": "markdown",
   "metadata": {
    "ExecuteTime": {
     "end_time": "2020-01-15T05:48:58.925113Z",
     "start_time": "2020-01-15T05:48:58.879474Z"
    }
   },
   "source": [
    "CQW49_07145"
   ]
  },
  {
   "cell_type": "code",
   "execution_count": 867,
   "metadata": {
    "ExecuteTime": {
     "end_time": "2020-01-15T05:49:53.588533Z",
     "start_time": "2020-01-15T05:49:53.574406Z"
    }
   },
   "outputs": [
    {
     "name": "stdout",
     "output_type": "stream",
     "text": [
      "HSTPT Histidinol-phosphate transaminase glu__L_c + imacp_c --> akg_c + hisp_c\n",
      "HSTPTr histidinol phosphate transaminase imactp_c + lglu_c --> akg_c + hispP_c\n"
     ]
    }
   ],
   "source": [
    "for reaction in model_OB3b_old.genes.CQW49_07145.reactions:\n",
    "    print(reaction.id, reaction.name, reaction.reaction)"
   ]
  },
  {
   "cell_type": "code",
   "execution_count": 868,
   "metadata": {
    "ExecuteTime": {
     "end_time": "2020-01-15T05:51:03.115604Z",
     "start_time": "2020-01-15T05:51:03.110501Z"
    }
   },
   "outputs": [
    {
     "data": {
      "text/html": [
       "\n",
       "        <table>\n",
       "            <tr>\n",
       "                <td><strong>Metabolite identifier</strong></td><td>hisp_c</td>\n",
       "            </tr><tr>\n",
       "                <td><strong>Name</strong></td><td>L_histidinol_phosphate</td>\n",
       "            </tr><tr>\n",
       "                <td><strong>Memory address</strong></td>\n",
       "                <td>0x07f329bcc2278</td>\n",
       "            </tr><tr>\n",
       "                <td><strong>Formula</strong></td><td>None</td>\n",
       "            </tr><tr>\n",
       "                <td><strong>Compartment</strong></td><td>c</td>\n",
       "            </tr><tr>\n",
       "                <td><strong>In 2 reaction(s)</strong></td><td>\n",
       "                    HISTP, HSTPTr</td>\n",
       "            </tr>\n",
       "        </table>"
      ],
      "text/plain": [
       "<Metabolite hisp_c at 0x7f329bcc2278>"
      ]
     },
     "execution_count": 868,
     "metadata": {},
     "output_type": "execute_result"
    }
   ],
   "source": [
    "iMsOB3b.metabolites.hisp_c"
   ]
  },
  {
   "cell_type": "code",
   "execution_count": 869,
   "metadata": {
    "ExecuteTime": {
     "end_time": "2020-01-15T05:51:18.142855Z",
     "start_time": "2020-01-15T05:51:18.137240Z"
    }
   },
   "outputs": [
    {
     "data": {
      "text/html": [
       "\n",
       "        <table>\n",
       "            <tr>\n",
       "                <td><strong>Metabolite identifier</strong></td><td>imacp_c</td>\n",
       "            </tr><tr>\n",
       "                <td><strong>Name</strong></td><td>imidazol_acetol_phosphate</td>\n",
       "            </tr><tr>\n",
       "                <td><strong>Memory address</strong></td>\n",
       "                <td>0x07f329bcff240</td>\n",
       "            </tr><tr>\n",
       "                <td><strong>Formula</strong></td><td>None</td>\n",
       "            </tr><tr>\n",
       "                <td><strong>Compartment</strong></td><td>c</td>\n",
       "            </tr><tr>\n",
       "                <td><strong>In 2 reaction(s)</strong></td><td>\n",
       "                    IGPDH, HSTPTr</td>\n",
       "            </tr>\n",
       "        </table>"
      ],
      "text/plain": [
       "<Metabolite imacp_c at 0x7f329bcff240>"
      ]
     },
     "execution_count": 869,
     "metadata": {},
     "output_type": "execute_result"
    }
   ],
   "source": [
    "iMsOB3b.metabolites.imacp_c"
   ]
  },
  {
   "cell_type": "code",
   "execution_count": 871,
   "metadata": {
    "ExecuteTime": {
     "end_time": "2020-01-15T05:52:58.315633Z",
     "start_time": "2020-01-15T05:52:58.310957Z"
    }
   },
   "outputs": [],
   "source": [
    "iMsOB3b.reactions.HSTPTr.gene_reaction_rule = \"CQW49_07145 or CQW49_08850\""
   ]
  },
  {
   "cell_type": "markdown",
   "metadata": {},
   "source": [
    "CQW49_07785\n",
    "<br> 'DNA (cytosine-5)-methyltransferase 3A is an enzyme that catalyzes the transfer of methyl groups to specific CpG structures in DNA, a process called DNA methylation.' --> https://en.wikipedia.org/wiki/DNA_(cytosine-5)-methyltransferase_3A"
   ]
  },
  {
   "cell_type": "code",
   "execution_count": 872,
   "metadata": {
    "ExecuteTime": {
     "end_time": "2020-01-15T05:53:50.586350Z",
     "start_time": "2020-01-15T05:53:50.570398Z"
    }
   },
   "outputs": [
    {
     "name": "stdout",
     "output_type": "stream",
     "text": [
      "CYTOM Cytosine 5 methyltransferase amet_c + csn_c <=> 5mcsn_c + ahcys_c + h_c\n"
     ]
    }
   ],
   "source": [
    "for reaction in model_OB3b_old.genes.CQW49_07785.reactions:\n",
    "    print(reaction.id, reaction.name, reaction.reaction)"
   ]
  },
  {
   "cell_type": "markdown",
   "metadata": {},
   "source": [
    "CQW49_08660"
   ]
  },
  {
   "cell_type": "code",
   "execution_count": 874,
   "metadata": {
    "ExecuteTime": {
     "end_time": "2020-01-15T06:11:07.000900Z",
     "start_time": "2020-01-15T06:11:06.991043Z"
    }
   },
   "outputs": [
    {
     "name": "stdout",
     "output_type": "stream",
     "text": [
      "SERAT serine acetyltransferase accoa_c + lser_c --> acser_c + coa_c\n"
     ]
    }
   ],
   "source": [
    "for reaction in model_OB3b_old.genes.CQW49_08660.reactions:\n",
    "    print(reaction.id, reaction.name, reaction.reaction)"
   ]
  },
  {
   "cell_type": "code",
   "execution_count": 881,
   "metadata": {
    "ExecuteTime": {
     "end_time": "2020-01-15T06:13:21.897729Z",
     "start_time": "2020-01-15T06:13:21.891293Z"
    }
   },
   "outputs": [],
   "source": [
    "iMsOB3b.reactions.SERAT.gene_reaction_rule = 'CQW49_00250 or CQW49_08660 or (CQW49_00250 and CQW49_10340)'"
   ]
  },
  {
   "cell_type": "markdown",
   "metadata": {},
   "source": [
    "CQW49_08665"
   ]
  },
  {
   "cell_type": "code",
   "execution_count": 882,
   "metadata": {
    "ExecuteTime": {
     "end_time": "2020-01-15T06:13:48.645341Z",
     "start_time": "2020-01-15T06:13:48.628467Z"
    }
   },
   "outputs": [
    {
     "name": "stdout",
     "output_type": "stream",
     "text": [
      "HCITS Homocitrate synthase accoa_c + akg_c + h2o_c --> coa_c + h_c + hcit_c\n"
     ]
    }
   ],
   "source": [
    "for reaction in model_OB3b_old.genes.CQW49_08665.reactions:\n",
    "    print(reaction.id, reaction.name, reaction.reaction)"
   ]
  },
  {
   "cell_type": "code",
   "execution_count": 884,
   "metadata": {
    "ExecuteTime": {
     "end_time": "2020-01-15T06:17:11.743878Z",
     "start_time": "2020-01-15T06:17:11.720731Z"
    }
   },
   "outputs": [],
   "source": [
    "iMsOB3b.add_reaction(model_OB3b_old.reactions.HCITS)"
   ]
  },
  {
   "cell_type": "markdown",
   "metadata": {},
   "source": [
    "CQW49_08720 and CQW49_08725"
   ]
  },
  {
   "cell_type": "code",
   "execution_count": 885,
   "metadata": {
    "ExecuteTime": {
     "end_time": "2020-01-15T06:17:46.989722Z",
     "start_time": "2020-01-15T06:17:46.975736Z"
    }
   },
   "outputs": [
    {
     "name": "stdout",
     "output_type": "stream",
     "text": [
      "NIT1b Nitrogenase 16.0 atp_c + 4.0 fdxr_42_c + 16.0 h2o_c + n2_c --> 16.0 adp_c + 4.0 fdxo_42_c + h2_c + 6.0 h_c + 2.0 nh4_c + 16.0 pi_c\n",
      "NIT_mc Nitrogenase 16.0 atp_c + 4.0 fdxrd_c + 16.0 h2o_c + n2_c --> 16.0 adp_c + 4.0 fdxox_c + h2_c + 14.0 h_c + 2.0 nh4_c + 16.0 pi_c\n"
     ]
    }
   ],
   "source": [
    "for reaction in model_OB3b_old.genes.CQW49_08720.reactions:\n",
    "    print(reaction.id, reaction.name, reaction.reaction)"
   ]
  },
  {
   "cell_type": "code",
   "execution_count": 889,
   "metadata": {
    "ExecuteTime": {
     "end_time": "2020-01-15T06:19:08.167431Z",
     "start_time": "2020-01-15T06:19:08.150506Z"
    }
   },
   "outputs": [
    {
     "name": "stdout",
     "output_type": "stream",
     "text": [
      "NIT1b Nitrogenase 16.0 atp_c + 4.0 fdxr_42_c + 16.0 h2o_c + n2_c --> 16.0 adp_c + 4.0 fdxo_42_c + h2_c + 6.0 h_c + 2.0 nh4_c + 16.0 pi_c\n",
      "NIT_mc Nitrogenase 16.0 atp_c + 4.0 fdxrd_c + 16.0 h2o_c + n2_c --> 16.0 adp_c + 4.0 fdxox_c + h2_c + 14.0 h_c + 2.0 nh4_c + 16.0 pi_c\n"
     ]
    }
   ],
   "source": [
    "for reaction in model_OB3b_old.genes.CQW49_08725.reactions:\n",
    "    print(reaction.id, reaction.name, reaction.reaction)"
   ]
  },
  {
   "cell_type": "code",
   "execution_count": 887,
   "metadata": {
    "ExecuteTime": {
     "end_time": "2020-01-15T06:18:27.605637Z",
     "start_time": "2020-01-15T06:18:27.588527Z"
    }
   },
   "outputs": [],
   "source": [
    "iMsOB3b.reactions.NIT_mc.gene_reaction_rule = 'CQW49_08720 and CQW49_08725'"
   ]
  },
  {
   "cell_type": "markdown",
   "metadata": {
    "ExecuteTime": {
     "end_time": "2020-01-15T06:18:31.518945Z",
     "start_time": "2020-01-15T06:18:31.514828Z"
    }
   },
   "source": [
    "CQW49_09160"
   ]
  },
  {
   "cell_type": "code",
   "execution_count": 890,
   "metadata": {
    "ExecuteTime": {
     "end_time": "2020-01-15T06:19:13.551992Z",
     "start_time": "2020-01-15T06:19:13.509572Z"
    }
   },
   "outputs": [
    {
     "name": "stdout",
     "output_type": "stream",
     "text": [
      "CYSDS Cysteine Desulfhydrase cys__L_c + h2o_c --> h2s_c + nh4_c + pyr_c\n",
      "TRPAS2 Tryptophanase (L-tryptophan) h2o_c + trp__L_c <=> indole_c + nh4_c + pyr_c\n",
      "SERD_L L-serine deaminase ser__L_c --> nh4_c + pyr_c\n"
     ]
    }
   ],
   "source": [
    "for reaction in model_OB3b_old.genes.CQW49_09160.reactions:\n",
    "    print(reaction.id, reaction.name, reaction.reaction)"
   ]
  },
  {
   "cell_type": "code",
   "execution_count": 891,
   "metadata": {
    "ExecuteTime": {
     "end_time": "2020-01-15T06:20:30.150435Z",
     "start_time": "2020-01-15T06:20:30.137431Z"
    }
   },
   "outputs": [],
   "source": [
    "iMsOB3b.add_reaction(model_OB3b_old.reactions.TRPAS2)"
   ]
  },
  {
   "cell_type": "code",
   "execution_count": 906,
   "metadata": {
    "ExecuteTime": {
     "end_time": "2020-01-15T06:24:04.753097Z",
     "start_time": "2020-01-15T06:24:04.694613Z"
    }
   },
   "outputs": [],
   "source": [
    "iMsOB3b.reactions.TRPAS2.bounds = (0, 1000)\n",
    "iMsOB3b.reactions.TRPAS2.reaction = 'h2o_c + trp_L_c --> indole_c + nh4_c + pyr_c'"
   ]
  },
  {
   "cell_type": "markdown",
   "metadata": {},
   "source": [
    "CQW49_09295\n",
    "<br> https://www.genome.jp/dbget-bin/www_bget?mtw:CQW49_09295\n"
   ]
  },
  {
   "cell_type": "markdown",
   "metadata": {
    "ExecuteTime": {
     "end_time": "2020-01-15T06:24:51.217999Z",
     "start_time": "2020-01-15T06:24:51.212819Z"
    }
   },
   "source": [
    "CQW49_09405\n",
    "<br> (GenBank) complex I NDUFA9 subunit family protein --> not added\n",
    "https://www.genome.jp/dbget-bin/www_bget?mtw:CQW49_09405"
   ]
  },
  {
   "cell_type": "code",
   "execution_count": 910,
   "metadata": {
    "ExecuteTime": {
     "end_time": "2020-01-15T06:28:42.834231Z",
     "start_time": "2020-01-15T06:28:42.814434Z"
    }
   },
   "outputs": [
    {
     "name": "stdout",
     "output_type": "stream",
     "text": [
      "NADH16pp type-1 nadh:quinone oxidoreductase (H+-translocating) 4.0 h_c + nadh_c + q8_im --> 3.0 h_p + nad_c + q8h2_im\n"
     ]
    }
   ],
   "source": [
    "for reaction in model_OB3b_old.genes.CQW49_09405.reactions:\n",
    "    print(reaction.id, reaction.name, reaction.reaction)"
   ]
  },
  {
   "cell_type": "markdown",
   "metadata": {
    "ExecuteTime": {
     "end_time": "2020-01-15T06:28:54.237425Z",
     "start_time": "2020-01-15T06:28:54.232209Z"
    }
   },
   "source": [
    "CQW49_09415"
   ]
  },
  {
   "cell_type": "code",
   "execution_count": 912,
   "metadata": {
    "ExecuteTime": {
     "end_time": "2020-01-15T06:30:17.964173Z",
     "start_time": "2020-01-15T06:30:17.951105Z"
    }
   },
   "outputs": [
    {
     "name": "stdout",
     "output_type": "stream",
     "text": [
      "NTPTP1 Nucleoside triphosphate tripolyhydrolase dgtp_c + h2o_c --> dgsn_c + pppi_c\n",
      "NTPTP2 Nucleoside triphosphate tripolyhydrolase gtp_c + h2o_c --> gsn_c + pppi_c\n"
     ]
    }
   ],
   "source": [
    "for reaction in model_OB3b_old.genes.CQW49_09415.reactions:\n",
    "    print(reaction.id, reaction.name, reaction.reaction)"
   ]
  },
  {
   "cell_type": "code",
   "execution_count": 913,
   "metadata": {
    "ExecuteTime": {
     "end_time": "2020-01-15T06:39:27.065189Z",
     "start_time": "2020-01-15T06:39:27.054336Z"
    }
   },
   "outputs": [],
   "source": [
    "iMsOB3b.add_reaction(model_OB3b_old.reactions.NTPTP1)"
   ]
  },
  {
   "cell_type": "markdown",
   "metadata": {},
   "source": [
    "CQW49_09715"
   ]
  },
  {
   "cell_type": "code",
   "execution_count": 914,
   "metadata": {
    "ExecuteTime": {
     "end_time": "2020-01-15T06:39:49.139679Z",
     "start_time": "2020-01-15T06:39:49.129563Z"
    }
   },
   "outputs": [
    {
     "name": "stdout",
     "output_type": "stream",
     "text": [
      "HOPNTAL 4-hydroxy-2-oxopentanoate aldolase 4h2opntn_c --> acald_c + pyr_c\n"
     ]
    }
   ],
   "source": [
    "for reaction in model_OB3b_old.genes.CQW49_09715.reactions:\n",
    "    print(reaction.id, reaction.name, reaction.reaction)"
   ]
  },
  {
   "cell_type": "code",
   "execution_count": 917,
   "metadata": {
    "ExecuteTime": {
     "end_time": "2020-01-15T06:43:43.302373Z",
     "start_time": "2020-01-15T06:43:43.283462Z"
    }
   },
   "outputs": [
    {
     "name": "stdout",
     "output_type": "stream",
     "text": [
      "4mop_c 4_methyl_2_oxopentanoate\n"
     ]
    }
   ],
   "source": [
    "import re\n",
    "for metabolite in iMsOB3b.metabolites:\n",
    "    if re.search(\"oxopentanoate\", metabolite.name, re.IGNORECASE):\n",
    "        print(metabolite.id, metabolite.name)"
   ]
  },
  {
   "cell_type": "code",
   "execution_count": 918,
   "metadata": {
    "ExecuteTime": {
     "end_time": "2020-01-15T06:45:52.541592Z",
     "start_time": "2020-01-15T06:45:52.533750Z"
    }
   },
   "outputs": [],
   "source": [
    "iMsOB3b.add_reaction(model_OB3b_old.reactions.HOPNTAL)"
   ]
  },
  {
   "cell_type": "markdown",
   "metadata": {},
   "source": [
    "CQW49_09940"
   ]
  },
  {
   "cell_type": "code",
   "execution_count": 919,
   "metadata": {
    "ExecuteTime": {
     "end_time": "2020-01-15T06:46:18.224387Z",
     "start_time": "2020-01-15T06:46:18.202679Z"
    }
   },
   "outputs": [
    {
     "name": "stdout",
     "output_type": "stream",
     "text": [
      "PGI Glucose-6-phosphate isomerase f6p_c <=> g6p_c\n",
      "PGIA Glucose-6-phosphate isomerase (g6p-A) f6p_c <=> g6p_A_c\n",
      "G6PI3 Glucose 6 phosphate isomerase g6p_B_c <=> f6p_c\n",
      "G6PI Glucose 6 phosphate isomerase g6p_c <=> g6p_B_c\n",
      "G6PI_1 Glucose-6-phosphate isomerase g6p_A_c <=> g6p_c\n"
     ]
    }
   ],
   "source": [
    "for reaction in model_OB3b_old.genes.CQW49_09940.reactions:\n",
    "    print(reaction.id, reaction.name, reaction.reaction)"
   ]
  },
  {
   "cell_type": "code",
   "execution_count": 923,
   "metadata": {
    "ExecuteTime": {
     "end_time": "2020-01-15T06:47:51.015699Z",
     "start_time": "2020-01-15T06:47:50.949119Z"
    }
   },
   "outputs": [
    {
     "name": "stdout",
     "output_type": "stream",
     "text": [
      "glc_D_p D_glucose\n",
      "cdpddglc_c CDP_4_dehydro_6_deoxy_D_glucose\n",
      "glc_D_c D_glucose\n",
      "glc_D_e D_glucose\n",
      "g1p_D_B_c b_D_glucose_1_phosphate\n",
      "dtdpglu_c dTDP_glucose\n",
      "g6p_B_c b_D_glucose_6_phosphate\n",
      "g6p_c D_glucose_6_phosphate\n",
      "cdpd2dglc_c CDP_4_dehydro_3_6_dideoxy_D_glucose\n",
      "udpg_c UDP_glucose\n",
      "adpglc_c ADP_glucose\n",
      "dtdp4d6dg_c dTDP_4_dehydro_6_deoxy_D_glucose\n",
      "g1p_c D_glucose_1_phosphate\n",
      "cdpglc_c CDP_glucose\n",
      "b_glc_D_c b_D_glucose\n"
     ]
    }
   ],
   "source": [
    "import re\n",
    "for metabolite in iMsOB3b.metabolites:\n",
    "    if re.search(\"glucose\", metabolite.name, re.IGNORECASE):\n",
    "        print(metabolite.id, metabolite.name)"
   ]
  },
  {
   "cell_type": "code",
   "execution_count": 926,
   "metadata": {
    "ExecuteTime": {
     "end_time": "2020-01-15T06:49:01.131471Z",
     "start_time": "2020-01-15T06:49:01.111458Z"
    }
   },
   "outputs": [
    {
     "name": "stdout",
     "output_type": "stream",
     "text": [
      "FBP: fdp_c + h2o_c --> f6p_c + pi_c\n",
      "MAN6PI: f6p_c <=> man6p_c\n",
      "F6PPKL: f6p_c + pi_c <=> actp_c + e4p_c + h2o_c\n",
      "PGI: f6p_c <=> g6p_c\n",
      "GF6PTAr: f6p_c + gln_L_c --> gam6p_c + glu_L_c\n",
      "TALA: g3p_c + s7p_c <=> e4p_c + f6p_c\n"
     ]
    }
   ],
   "source": [
    "for reaction in iMsOB3b.metabolites.f6p_c.reactions:\n",
    "    print(reaction)"
   ]
  },
  {
   "cell_type": "code",
   "execution_count": 929,
   "metadata": {
    "ExecuteTime": {
     "end_time": "2020-01-15T06:49:55.263697Z",
     "start_time": "2020-01-15T06:49:55.257834Z"
    }
   },
   "outputs": [],
   "source": [
    "iMsOB3b.reactions.PGI.gene_reaction_rule = 'CQW49_09940'"
   ]
  },
  {
   "cell_type": "markdown",
   "metadata": {},
   "source": [
    "CQW49_10130"
   ]
  },
  {
   "cell_type": "code",
   "execution_count": 930,
   "metadata": {
    "ExecuteTime": {
     "end_time": "2020-01-15T06:50:33.262671Z",
     "start_time": "2020-01-15T06:50:33.252840Z"
    },
    "scrolled": true
   },
   "outputs": [
    {
     "name": "stdout",
     "output_type": "stream",
     "text": [
      "CCGS 7-cyano-7-carbaguanine synthase atp_c + cdg_c + nh4_c --> adp_c + h2o_c + h_c + pi_c + preq0_c\n"
     ]
    }
   ],
   "source": [
    "for reaction in model_OB3b_old.genes.CQW49_10130.reactions:\n",
    "    print(reaction.id, reaction.name, reaction.reaction)"
   ]
  },
  {
   "cell_type": "code",
   "execution_count": 931,
   "metadata": {
    "ExecuteTime": {
     "end_time": "2020-01-15T06:51:27.292135Z",
     "start_time": "2020-01-15T06:51:27.256124Z"
    }
   },
   "outputs": [],
   "source": [
    "iMsOB3b.add_reaction(model_OB3b_old.reactions.CCGS)"
   ]
  },
  {
   "cell_type": "code",
   "execution_count": 933,
   "metadata": {
    "ExecuteTime": {
     "end_time": "2020-01-15T06:51:50.254539Z",
     "start_time": "2020-01-15T06:51:50.251469Z"
    }
   },
   "outputs": [],
   "source": [
    "iMsOB3b.reactions.CCGS.bounds = (-1000, 0)"
   ]
  },
  {
   "cell_type": "markdown",
   "metadata": {
    "ExecuteTime": {
     "end_time": "2020-01-15T06:51:53.723407Z",
     "start_time": "2020-01-15T06:51:53.717828Z"
    }
   },
   "source": [
    "CQW49_10255"
   ]
  },
  {
   "cell_type": "code",
   "execution_count": 935,
   "metadata": {
    "ExecuteTime": {
     "end_time": "2020-01-15T07:08:23.436019Z",
     "start_time": "2020-01-15T07:08:23.407013Z"
    }
   },
   "outputs": [
    {
     "name": "stdout",
     "output_type": "stream",
     "text": [
      "PMMODCipp particulate Methane Monooxygenase - Direct Coupling ch4_p + 2.0 focytcc555_p + 2.0 h_p + o2_p --> 2.0 ficytcc555_p + h2o_p + meoh_p\n",
      "PMMOipp particulate Methane Monooxygenase ch4_p + o2_p + q8h2_im --> h2o_p + meoh_p + q8_im\n",
      "pMMO particulate methane monooxygenase ch4_p + elacrd_p + o2_p --> elaco_p + h2o_p + meoh_p\n"
     ]
    }
   ],
   "source": [
    "for reaction in model_OB3b_old.genes.CQW49_10255.reactions:\n",
    "    print(reaction.id, reaction.name, reaction.reaction)"
   ]
  },
  {
   "cell_type": "code",
   "execution_count": 936,
   "metadata": {
    "ExecuteTime": {
     "end_time": "2020-01-15T07:08:33.532027Z",
     "start_time": "2020-01-15T07:08:33.526079Z"
    }
   },
   "outputs": [
    {
     "data": {
      "text/html": [
       "\n",
       "        <table>\n",
       "            <tr>\n",
       "                <td><strong>Gene identifier</strong></td><td>CQW49_10255</td>\n",
       "            </tr><tr>\n",
       "                <td><strong>Name</strong></td><td></td>\n",
       "            </tr><tr>\n",
       "                <td><strong>Memory address</strong></td>\n",
       "                <td>0x07f329f2afa90</td>\n",
       "            </tr><tr>\n",
       "                <td><strong>Functional</strong></td><td>True</td>\n",
       "            </tr><tr>\n",
       "                <td><strong>In 2 reaction(s)</strong></td><td>\n",
       "                    PMMOipp, PMMODCipp</td>\n",
       "            </tr>\n",
       "        </table>"
      ],
      "text/plain": [
       "<Gene CQW49_10255 at 0x7f329f2afa90>"
      ]
     },
     "execution_count": 936,
     "metadata": {},
     "output_type": "execute_result"
    }
   ],
   "source": [
    "iMsOB3b.genes.CQW49_10255"
   ]
  },
  {
   "cell_type": "markdown",
   "metadata": {},
   "source": [
    "CQW49_10875"
   ]
  },
  {
   "cell_type": "code",
   "execution_count": 937,
   "metadata": {
    "ExecuteTime": {
     "end_time": "2020-01-15T07:09:38.312483Z",
     "start_time": "2020-01-15T07:09:38.304053Z"
    }
   },
   "outputs": [
    {
     "name": "stdout",
     "output_type": "stream",
     "text": [
      "HCO3E HCO3 equilibration reaction co2_c + h2o_c <=> h_c + hco3_c\n"
     ]
    }
   ],
   "source": [
    "for reaction in model_OB3b_old.genes.CQW49_10875.reactions:\n",
    "    print(reaction.id, reaction.name, reaction.reaction)"
   ]
  },
  {
   "cell_type": "code",
   "execution_count": 940,
   "metadata": {
    "ExecuteTime": {
     "end_time": "2020-01-15T07:10:36.655227Z",
     "start_time": "2020-01-15T07:10:36.643986Z"
    }
   },
   "outputs": [
    {
     "name": "stdout",
     "output_type": "stream",
     "text": [
      "HCO3E carbonic anhydrase\n"
     ]
    }
   ],
   "source": [
    "import re\n",
    "for reaction in iMsOB3b.reactions:\n",
    "    if re.search(\"carbonic\", reaction.name, re.IGNORECASE):\n",
    "        print(reaction.id, reaction.name)"
   ]
  },
  {
   "cell_type": "code",
   "execution_count": 942,
   "metadata": {
    "ExecuteTime": {
     "end_time": "2020-01-15T07:11:17.268586Z",
     "start_time": "2020-01-15T07:11:17.258460Z"
    }
   },
   "outputs": [],
   "source": [
    "iMsOB3b.reactions.HCO3E.gene_reaction_rule = 'CQW49_10875 or CQW49_20715'"
   ]
  },
  {
   "cell_type": "markdown",
   "metadata": {},
   "source": [
    "CQW49_10980"
   ]
  },
  {
   "cell_type": "code",
   "execution_count": 943,
   "metadata": {
    "ExecuteTime": {
     "end_time": "2020-01-15T07:11:55.679875Z",
     "start_time": "2020-01-15T07:11:55.670637Z"
    }
   },
   "outputs": [
    {
     "name": "stdout",
     "output_type": "stream",
     "text": [
      "DAAD D-Amino acid dehydrogenase ala__D_c + fad_c + h2o_c --> fadh2_c + nh4_c + pyr_c\n"
     ]
    }
   ],
   "source": [
    "for reaction in model_OB3b_old.genes.CQW49_10980.reactions:\n",
    "    print(reaction.id, reaction.name, reaction.reaction)"
   ]
  },
  {
   "cell_type": "code",
   "execution_count": 944,
   "metadata": {
    "ExecuteTime": {
     "end_time": "2020-01-15T07:12:42.796909Z",
     "start_time": "2020-01-15T07:12:42.783103Z"
    }
   },
   "outputs": [],
   "source": [
    "iMsOB3b.add_reaction(model_OB3b_old.reactions.DAAD)"
   ]
  },
  {
   "cell_type": "markdown",
   "metadata": {},
   "source": [
    "CQW49_12035"
   ]
  },
  {
   "cell_type": "code",
   "execution_count": 945,
   "metadata": {
    "ExecuteTime": {
     "end_time": "2020-01-15T07:13:08.874772Z",
     "start_time": "2020-01-15T07:13:08.866680Z"
    }
   },
   "outputs": [
    {
     "name": "stdout",
     "output_type": "stream",
     "text": [
      "NAPRT NAPRTase h_c + nac_c + prpp_c --> nicrnt_c + ppi_c\n"
     ]
    }
   ],
   "source": [
    "for reaction in model_OB3b_old.genes.CQW49_12035.reactions:\n",
    "    print(reaction.id, reaction.name, reaction.reaction)"
   ]
  },
  {
   "cell_type": "code",
   "execution_count": 946,
   "metadata": {
    "ExecuteTime": {
     "end_time": "2020-01-15T07:14:11.597709Z",
     "start_time": "2020-01-15T07:14:11.574649Z"
    }
   },
   "outputs": [
    {
     "name": "stdout",
     "output_type": "stream",
     "text": [
      "NNDMBRT nicotinate nucleotide  dimethylbenzimidazole phosphoribosyltransferase\n",
      "NNATr nicotinate nucleotide adenylyltransferase\n",
      "NAPRTr nicotinate phosphoribosyltransferase\n"
     ]
    }
   ],
   "source": [
    "import re\n",
    "for reaction in iMsOB3b.reactions:\n",
    "    if re.search(\"nicotinate\", reaction.name, re.IGNORECASE):\n",
    "        print(reaction.id, reaction.name)"
   ]
  },
  {
   "cell_type": "code",
   "execution_count": 948,
   "metadata": {
    "ExecuteTime": {
     "end_time": "2020-01-15T07:14:33.825963Z",
     "start_time": "2020-01-15T07:14:33.823192Z"
    }
   },
   "outputs": [],
   "source": [
    "iMsOB3b.reactions.NAPRTr.gene_reaction_rule = 'CQW49_12035'"
   ]
  },
  {
   "cell_type": "markdown",
   "metadata": {},
   "source": [
    "CQW49_12245"
   ]
  },
  {
   "cell_type": "code",
   "execution_count": 949,
   "metadata": {
    "ExecuteTime": {
     "end_time": "2020-01-15T07:15:08.810949Z",
     "start_time": "2020-01-15T07:15:08.802163Z"
    }
   },
   "outputs": [
    {
     "name": "stdout",
     "output_type": "stream",
     "text": [
      "GLYCK2 Glycerate kinase atp_c + glyc__R_c --> 2pg_c + adp_c + h_c\n"
     ]
    }
   ],
   "source": [
    "for reaction in model_OB3b_old.genes.CQW49_12245.reactions:\n",
    "    print(reaction.id, reaction.name, reaction.reaction)"
   ]
  },
  {
   "cell_type": "code",
   "execution_count": 951,
   "metadata": {
    "ExecuteTime": {
     "end_time": "2020-01-15T07:15:44.780916Z",
     "start_time": "2020-01-15T07:15:44.773083Z"
    }
   },
   "outputs": [
    {
     "data": {
      "text/plain": [
       "'CQW49_12245'"
      ]
     },
     "execution_count": 951,
     "metadata": {},
     "output_type": "execute_result"
    }
   ],
   "source": [
    "iMsOB3b.reactions.GLYCK2.gene_reaction_rule"
   ]
  },
  {
   "cell_type": "markdown",
   "metadata": {},
   "source": [
    "CQW49_12295\n",
    "inconsistent annotation for this gene --> https://www.genome.jp/dbget-bin/www_bget?ec:3.7.1.20"
   ]
  },
  {
   "cell_type": "code",
   "execution_count": 952,
   "metadata": {
    "ExecuteTime": {
     "end_time": "2020-01-15T07:16:13.683974Z",
     "start_time": "2020-01-15T07:16:13.666839Z"
    }
   },
   "outputs": [
    {
     "name": "stdout",
     "output_type": "stream",
     "text": [
      "OPTCCL 5 carboxy 2 oxohept 3 enedioate decarboxylation 5cohe_c + h_c --> 2hh24dd_c + co2_c\n",
      "HHDDI 2-hydroxyhepta-2,4-diene-1,7-dioate isomerase 2hh24dd_c <=> 2ohed_c\n"
     ]
    }
   ],
   "source": [
    "for reaction in model_OB3b_old.genes.CQW49_12295.reactions:\n",
    "    print(reaction.id, reaction.name, reaction.reaction)"
   ]
  },
  {
   "cell_type": "markdown",
   "metadata": {},
   "source": [
    "CQW49_12520\n",
    "<br>not added, not directly related to cellular metabolism --> https://www.genome.jp/dbget-bin/www_bget?ec:2.1.1.37 "
   ]
  },
  {
   "cell_type": "code",
   "execution_count": 954,
   "metadata": {
    "ExecuteTime": {
     "end_time": "2020-01-15T07:17:20.284832Z",
     "start_time": "2020-01-15T07:17:20.273911Z"
    }
   },
   "outputs": [
    {
     "name": "stdout",
     "output_type": "stream",
     "text": [
      "DMT DNA (cytosine-5-)-methyltransferase ahcys_c + dna5mtc_c + h_c --> amet_c + dnac_c\n"
     ]
    }
   ],
   "source": [
    "for reaction in model_OB3b_old.genes.CQW49_12520.reactions:\n",
    "    print(reaction.id, reaction.name, reaction.reaction)"
   ]
  },
  {
   "cell_type": "markdown",
   "metadata": {},
   "source": [
    "CQW49_12845"
   ]
  },
  {
   "cell_type": "code",
   "execution_count": 955,
   "metadata": {
    "ExecuteTime": {
     "end_time": "2020-01-15T07:20:08.835170Z",
     "start_time": "2020-01-15T07:20:08.827695Z"
    }
   },
   "outputs": [
    {
     "name": "stdout",
     "output_type": "stream",
     "text": [
      "H2CO3D H2CO3D co2_c + h2o_c <=> h2co3_c\n"
     ]
    }
   ],
   "source": [
    "for reaction in model_OB3b_old.genes.CQW49_12845.reactions:\n",
    "    print(reaction.id, reaction.name, reaction.reaction)"
   ]
  },
  {
   "cell_type": "code",
   "execution_count": 956,
   "metadata": {
    "ExecuteTime": {
     "end_time": "2020-01-15T07:20:27.677875Z",
     "start_time": "2020-01-15T07:20:27.645204Z"
    }
   },
   "outputs": [
    {
     "name": "stdout",
     "output_type": "stream",
     "text": [
      "HCO3E carbonic anhydrase\n"
     ]
    }
   ],
   "source": [
    "import re\n",
    "for reaction in iMsOB3b.reactions:\n",
    "    if re.search(\"carbonic\", reaction.name, re.IGNORECASE):\n",
    "        print(reaction.id, reaction.name)"
   ]
  },
  {
   "cell_type": "code",
   "execution_count": 958,
   "metadata": {
    "ExecuteTime": {
     "end_time": "2020-01-15T07:21:32.712724Z",
     "start_time": "2020-01-15T07:21:32.706143Z"
    }
   },
   "outputs": [],
   "source": [
    "iMsOB3b.reactions.HCO3E.gene_reaction_rule = 'CQW49_10875 or CQW49_20715 or CQW49_12845'"
   ]
  },
  {
   "cell_type": "markdown",
   "metadata": {},
   "source": [
    "CQW49_12940"
   ]
  },
  {
   "cell_type": "code",
   "execution_count": 959,
   "metadata": {
    "ExecuteTime": {
     "end_time": "2020-01-15T07:22:27.199892Z",
     "start_time": "2020-01-15T07:22:27.190237Z"
    }
   },
   "outputs": [
    {
     "name": "stdout",
     "output_type": "stream",
     "text": [
      "HMGL HMGL hmgcoa_c --> acac_c + accoa_c\n"
     ]
    }
   ],
   "source": [
    "for reaction in model_OB3b_old.genes.CQW49_12940.reactions:\n",
    "    print(reaction.id, reaction.name, reaction.reaction)"
   ]
  },
  {
   "cell_type": "code",
   "execution_count": 961,
   "metadata": {
    "ExecuteTime": {
     "end_time": "2020-01-15T07:23:34.166473Z",
     "start_time": "2020-01-15T07:23:34.146068Z"
    }
   },
   "outputs": [
    {
     "name": "stdout",
     "output_type": "stream",
     "text": [
      "AKGDH 2 oxoglutarate dehydrogenase\n",
      "AKGtex a ketoglutarate transport via diffusion  extracellular to periplasm \n",
      "EX_akg_e exchange flux   2 oxoglutarate\n",
      "AKGt2rpp a ketoglutarate MFS transporter\n"
     ]
    }
   ],
   "source": [
    "import re\n",
    "for reaction in iMsOB3b.reactions:\n",
    "    if re.search(\"glutar\", reaction.name, re.IGNORECASE):\n",
    "        print(reaction.id, reaction.name)"
   ]
  },
  {
   "cell_type": "code",
   "execution_count": 963,
   "metadata": {
    "ExecuteTime": {
     "end_time": "2020-01-15T07:28:49.298072Z",
     "start_time": "2020-01-15T07:28:49.285364Z"
    }
   },
   "outputs": [
    {
     "name": "stderr",
     "output_type": "stream",
     "text": [
      "Ignoring reaction 'HMGL' since it already exists.\n"
     ]
    }
   ],
   "source": [
    "iMsOB3b.add_reaction(model_OB3b_old.reactions.HMGL)"
   ]
  },
  {
   "cell_type": "markdown",
   "metadata": {},
   "source": [
    "CQW49_12970"
   ]
  },
  {
   "cell_type": "code",
   "execution_count": 965,
   "metadata": {
    "ExecuteTime": {
     "end_time": "2020-01-15T07:29:38.479548Z",
     "start_time": "2020-01-15T07:29:38.470357Z"
    }
   },
   "outputs": [
    {
     "name": "stdout",
     "output_type": "stream",
     "text": [
      "TRE6PP Trehalose-phosphatase h2o_c + tre6p_c --> pi_c + tre_c\n"
     ]
    }
   ],
   "source": [
    "for reaction in model_OB3b_old.genes.CQW49_12970.reactions:\n",
    "    print(reaction.id, reaction.name, reaction.reaction)"
   ]
  },
  {
   "cell_type": "code",
   "execution_count": 966,
   "metadata": {
    "ExecuteTime": {
     "end_time": "2020-01-15T07:30:03.445444Z",
     "start_time": "2020-01-15T07:30:03.428918Z"
    }
   },
   "outputs": [
    {
     "name": "stdout",
     "output_type": "stream",
     "text": [
      "TRE6PP trehalose 6 phosphate phosphatase\n",
      "TRE6PS trehalose 6 phosphate synthase\n"
     ]
    }
   ],
   "source": [
    "import re\n",
    "for reaction in iMsOB3b.reactions:\n",
    "    if re.search(\"trehal\", reaction.name, re.IGNORECASE):\n",
    "        print(reaction.id, reaction.name)"
   ]
  },
  {
   "cell_type": "code",
   "execution_count": 968,
   "metadata": {
    "ExecuteTime": {
     "end_time": "2020-01-15T07:30:40.927856Z",
     "start_time": "2020-01-15T07:30:40.921867Z"
    }
   },
   "outputs": [],
   "source": [
    "iMsOB3b.reactions.TRE6PP.gene_reaction_rule = 'CQW49_03340 or CQW49_12970'"
   ]
  },
  {
   "cell_type": "markdown",
   "metadata": {},
   "source": [
    "CQW49_13000 and CQW49_13005"
   ]
  },
  {
   "cell_type": "code",
   "execution_count": 970,
   "metadata": {
    "ExecuteTime": {
     "end_time": "2020-01-15T07:33:25.457556Z",
     "start_time": "2020-01-15T07:33:25.443809Z"
    }
   },
   "outputs": [
    {
     "name": "stdout",
     "output_type": "stream",
     "text": [
      "CYTAA3ipp cytochrome aa3 terminal oxidase - Complex IV 4.0 focytcc553_p + 8.0 h_c + o2_c --> 4.0 ficytcc553_p + 2.0 h2o_c + 4.0 h_p\n"
     ]
    }
   ],
   "source": [
    "for reaction in model_OB3b_old.genes.CQW49_13000.reactions:\n",
    "    print(reaction.id, reaction.name, reaction.reaction)"
   ]
  },
  {
   "cell_type": "code",
   "execution_count": 972,
   "metadata": {
    "ExecuteTime": {
     "end_time": "2020-01-15T07:42:18.662001Z",
     "start_time": "2020-01-15T07:42:18.652048Z"
    }
   },
   "outputs": [
    {
     "name": "stdout",
     "output_type": "stream",
     "text": [
      "CYTAA3ipp cytochrome aa3 terminal oxidase - Complex IV 4.0 focytcc553_p + 8.0 h_c + o2_c --> 4.0 ficytcc553_p + 2.0 h2o_c + 4.0 h_p\n"
     ]
    }
   ],
   "source": [
    "for reaction in model_OB3b_old.genes.CQW49_13005.reactions:\n",
    "    print(reaction.id, reaction.name, reaction.reaction)"
   ]
  },
  {
   "cell_type": "code",
   "execution_count": 971,
   "metadata": {
    "ExecuteTime": {
     "end_time": "2020-01-15T07:41:54.764965Z",
     "start_time": "2020-01-15T07:41:54.725756Z"
    }
   },
   "outputs": [
    {
     "name": "stdout",
     "output_type": "stream",
     "text": [
      "CYO_2p cytochrome c oxidase\n",
      "CYOO_4p cytochrome o ubiquinol oxidase\n",
      "LDH_D3 D lactate dehydrogenase  cytochrome \n",
      "UQCYOR_2p ubiquinol cytochrome c reductase\n",
      "CYOD cytochrome d terminal oxidase\n",
      "NITR_NOpp Nitrite reductase (cytochrome; NO-forming)\n",
      "NITR_AMpp Nitrite reductase (cytochrome; ammonia-forming)\n",
      "CYP460ipp Cytochrome P460 - Hydroxylamine Dehydrogenase\n",
      "NORZ2pp Nitric oxide reductase (cytochrome c)\n"
     ]
    }
   ],
   "source": [
    "import re\n",
    "for reaction in iMsOB3b.reactions:\n",
    "    if re.search(\"cytochrome\", reaction.name, re.IGNORECASE):\n",
    "        print(reaction.id, reaction.name)"
   ]
  },
  {
   "cell_type": "code",
   "execution_count": 974,
   "metadata": {
    "ExecuteTime": {
     "end_time": "2020-01-15T07:45:39.721779Z",
     "start_time": "2020-01-15T07:45:39.718276Z"
    }
   },
   "outputs": [],
   "source": [
    "iMsOB3b.reactions.CYO_2p.gene_reaction_rule = '((CQW49_10040 and CQW49_10020) or CQW49_13005) and (CQW49_10045 or CQW49_13000)'"
   ]
  },
  {
   "cell_type": "markdown",
   "metadata": {},
   "source": [
    "CQW49_13305 \n",
    "<br> unclear metabolites --> https://www.genome.jp/dbget-bin/www_bget?mtw:CQW49_13305"
   ]
  },
  {
   "cell_type": "markdown",
   "metadata": {},
   "source": [
    "CQW49_13350 and CQW49_13355 \n",
    "<br>this reaction will be added from old AM1 model"
   ]
  },
  {
   "cell_type": "code",
   "execution_count": 975,
   "metadata": {
    "ExecuteTime": {
     "end_time": "2020-01-15T07:48:02.761271Z",
     "start_time": "2020-01-15T07:48:02.752315Z"
    }
   },
   "outputs": [
    {
     "name": "stdout",
     "output_type": "stream",
     "text": [
      "GCCa Glycine-cleavage complex gly_c + h_c + lpro_c --> alpro_c + co2_c\n"
     ]
    }
   ],
   "source": [
    "for reaction in model_OB3b_old.genes.CQW49_13350.reactions:\n",
    "    print(reaction.id, reaction.name, reaction.reaction)"
   ]
  },
  {
   "cell_type": "code",
   "execution_count": 976,
   "metadata": {
    "ExecuteTime": {
     "end_time": "2020-01-15T07:48:16.137794Z",
     "start_time": "2020-01-15T07:48:16.126798Z"
    }
   },
   "outputs": [
    {
     "name": "stdout",
     "output_type": "stream",
     "text": [
      "GCCa Glycine-cleavage complex gly_c + h_c + lpro_c --> alpro_c + co2_c\n"
     ]
    }
   ],
   "source": [
    "for reaction in model_OB3b_old.genes.CQW49_13355.reactions:\n",
    "    print(reaction.id, reaction.name, reaction.reaction)"
   ]
  },
  {
   "cell_type": "code",
   "execution_count": 980,
   "metadata": {
    "ExecuteTime": {
     "end_time": "2020-01-15T07:50:27.894106Z",
     "start_time": "2020-01-15T07:50:27.855011Z"
    }
   },
   "outputs": [
    {
     "name": "stdout",
     "output_type": "stream",
     "text": [
      "DALAOX glycine oxidase 2\n",
      "PRFGS phosphoribosylformylglycinamide synthetase\n",
      "GLYAMDTRc glycine amidinotransferase\n",
      "GLYTRS glycine tRNA synthetase\n",
      "GLYCOX3 glycine oxidase 3\n",
      "GLYCOX4 glycine oxidase 4\n",
      "GLYCOX5 glycine oxidase 5\n",
      "GARFT phosphoribosylglycinamide formyltransferase\n",
      "PRAGSr phosphoribosylglycinamide synthetase\n",
      "GLYO1 glycine oxidase 1\n"
     ]
    }
   ],
   "source": [
    "import re\n",
    "for reaction in iMsOB3b.reactions:\n",
    "    if re.search(\"glycin\", reaction.name, re.IGNORECASE):\n",
    "        print(reaction.id, reaction.name)"
   ]
  },
  {
   "cell_type": "markdown",
   "metadata": {
    "ExecuteTime": {
     "end_time": "2020-01-15T07:50:00.861997Z",
     "start_time": "2020-01-15T07:50:00.833543Z"
    }
   },
   "source": [
    "CQW49_13470"
   ]
  },
  {
   "cell_type": "code",
   "execution_count": 982,
   "metadata": {
    "ExecuteTime": {
     "end_time": "2020-01-15T07:53:36.504752Z",
     "start_time": "2020-01-15T07:53:36.495025Z"
    }
   },
   "outputs": [
    {
     "name": "stdout",
     "output_type": "stream",
     "text": [
      "PRMICI 1-(5-phosphoribosyl)-5-[(5-phosphoribosylamino)methylideneamino)imidazole-4-carboxamide isomerase prfp_c --> prlp_c\n"
     ]
    }
   ],
   "source": [
    "for reaction in model_OB3b_old.genes.CQW49_13470.reactions:\n",
    "    print(reaction.id, reaction.name, reaction.reaction)"
   ]
  },
  {
   "cell_type": "code",
   "execution_count": 983,
   "metadata": {
    "ExecuteTime": {
     "end_time": "2020-01-15T07:55:20.651275Z",
     "start_time": "2020-01-15T07:55:20.628468Z"
    }
   },
   "outputs": [
    {
     "name": "stdout",
     "output_type": "stream",
     "text": [
      "PRMICI N  5  phospho L ribosyl formimino  5 amino 1  5  phosphoribosyl  4 imidazolecarboxamide isomerase\n",
      "NITR_NOpp Nitrite reductase (cytochrome; NO-forming)\n",
      "NITR_AMpp Nitrite reductase (cytochrome; ammonia-forming)\n"
     ]
    }
   ],
   "source": [
    "import re\n",
    "for reaction in iMsOB3b.reactions:\n",
    "    if re.search(\"formi\", reaction.name, re.IGNORECASE):\n",
    "        print(reaction.id, reaction.name)"
   ]
  },
  {
   "cell_type": "code",
   "execution_count": 986,
   "metadata": {
    "ExecuteTime": {
     "end_time": "2020-01-15T07:55:59.907883Z",
     "start_time": "2020-01-15T07:55:59.905151Z"
    }
   },
   "outputs": [],
   "source": [
    "iMsOB3b.reactions.PRMICI.gene_reaction_rule = 'CQW49_07615 or CQW49_13470'"
   ]
  },
  {
   "cell_type": "markdown",
   "metadata": {},
   "source": [
    "CQW49_14985\n",
    "<br> https://en.wikipedia.org/wiki/Hydroxylamine_reductase\n",
    "<br> https://www.genome.jp/dbget-bin/www_bget?ec:1.7.99.1"
   ]
  },
  {
   "cell_type": "code",
   "execution_count": 987,
   "metadata": {
    "ExecuteTime": {
     "end_time": "2020-01-15T07:56:44.297673Z",
     "start_time": "2020-01-15T07:56:44.289622Z"
    }
   },
   "outputs": [
    {
     "name": "stdout",
     "output_type": "stream",
     "text": [
      "N2OR Nitrous oxide reductase (nadh) h_c + n2o_c + nadh_c --> h2o_c + n2_c + nad_c\n"
     ]
    }
   ],
   "source": [
    "for reaction in model_OB3b_old.genes.CQW49_14985.reactions:\n",
    "    print(reaction.id, reaction.name, reaction.reaction)"
   ]
  },
  {
   "cell_type": "code",
   "execution_count": 989,
   "metadata": {
    "ExecuteTime": {
     "end_time": "2020-01-15T08:00:19.907059Z",
     "start_time": "2020-01-15T08:00:19.903784Z"
    }
   },
   "outputs": [],
   "source": [
    "iMsOB3b.reactions.PAMMOipp.gene_reaction_rule = 'CQW49_14985'"
   ]
  },
  {
   "cell_type": "markdown",
   "metadata": {},
   "source": [
    "CQW49_15360"
   ]
  },
  {
   "cell_type": "code",
   "execution_count": 990,
   "metadata": {
    "ExecuteTime": {
     "end_time": "2020-01-15T08:00:50.343173Z",
     "start_time": "2020-01-15T08:00:50.335245Z"
    }
   },
   "outputs": [
    {
     "name": "stdout",
     "output_type": "stream",
     "text": [
      "HEX7 Hexokinase (D-fructose:ATP) atp_c + fru_c --> adp_c + f6p_c + h_c\n"
     ]
    }
   ],
   "source": [
    "for reaction in model_OB3b_old.genes.CQW49_15360.reactions:\n",
    "    print(reaction.id, reaction.name, reaction.reaction)"
   ]
  },
  {
   "cell_type": "code",
   "execution_count": 991,
   "metadata": {
    "ExecuteTime": {
     "end_time": "2020-01-15T08:01:02.081612Z",
     "start_time": "2020-01-15T08:01:02.069909Z"
    }
   },
   "outputs": [],
   "source": [
    "import re\n",
    "for reaction in iMsOB3b.reactions:\n",
    "    if re.search(\"Hexokinase\", reaction.name, re.IGNORECASE):\n",
    "        print(reaction.id, reaction.name)"
   ]
  },
  {
   "cell_type": "code",
   "execution_count": 997,
   "metadata": {
    "ExecuteTime": {
     "end_time": "2020-01-15T08:02:19.527653Z",
     "start_time": "2020-01-15T08:02:19.509192Z"
    }
   },
   "outputs": [
    {
     "name": "stdout",
     "output_type": "stream",
     "text": [
      "FBP: fdp_c + h2o_c --> f6p_c + pi_c\n",
      "MAN6PI: f6p_c <=> man6p_c\n",
      "F6PPKL: f6p_c + pi_c <=> actp_c + e4p_c + h2o_c\n",
      "PGI: f6p_c <=> g6p_c\n",
      "GF6PTAr: f6p_c + gln_L_c --> gam6p_c + glu_L_c\n",
      "TALA: g3p_c + s7p_c <=> e4p_c + f6p_c\n"
     ]
    }
   ],
   "source": [
    "for reaction in iMsOB3b.metabolites.f6p_c.reactions:\n",
    "    print(reaction)"
   ]
  },
  {
   "cell_type": "code",
   "execution_count": 998,
   "metadata": {
    "ExecuteTime": {
     "end_time": "2020-01-15T08:03:33.948793Z",
     "start_time": "2020-01-15T08:03:33.925415Z"
    }
   },
   "outputs": [],
   "source": [
    "iMsOB3b.add_reaction(model_OB3b_old.reactions.HEX7)"
   ]
  },
  {
   "cell_type": "markdown",
   "metadata": {},
   "source": [
    "CQW49_15505"
   ]
  },
  {
   "cell_type": "code",
   "execution_count": 999,
   "metadata": {
    "ExecuteTime": {
     "end_time": "2020-01-15T08:03:56.083263Z",
     "start_time": "2020-01-15T08:03:56.072981Z"
    }
   },
   "outputs": [
    {
     "name": "stdout",
     "output_type": "stream",
     "text": [
      "LIPOCT Lipoyl(octanoyl) transferase h_c + ocACP_c --> ACP_c + octapb_c\n"
     ]
    }
   ],
   "source": [
    "for reaction in model_OB3b_old.genes.CQW49_15505.reactions:\n",
    "    print(reaction.id, reaction.name, reaction.reaction)"
   ]
  },
  {
   "cell_type": "code",
   "execution_count": 1006,
   "metadata": {
    "ExecuteTime": {
     "end_time": "2020-01-15T08:06:31.245712Z",
     "start_time": "2020-01-15T08:06:31.241487Z"
    }
   },
   "outputs": [
    {
     "data": {
      "text/plain": [
       "'holo-[acyl-carrier protein]'"
      ]
     },
     "execution_count": 1006,
     "metadata": {},
     "output_type": "execute_result"
    }
   ],
   "source": [
    "model_OB3b_old.metabolites.ACP_c.name"
   ]
  },
  {
   "cell_type": "code",
   "execution_count": 1007,
   "metadata": {
    "ExecuteTime": {
     "end_time": "2020-01-15T08:06:36.527804Z",
     "start_time": "2020-01-15T08:06:36.523407Z"
    }
   },
   "outputs": [
    {
     "data": {
      "text/plain": [
       "'octanoyl-[acyl-carrier protein]'"
      ]
     },
     "execution_count": 1007,
     "metadata": {},
     "output_type": "execute_result"
    }
   ],
   "source": [
    "model_OB3b_old.metabolites.ocACP_c.name"
   ]
  },
  {
   "cell_type": "code",
   "execution_count": 1008,
   "metadata": {
    "ExecuteTime": {
     "end_time": "2020-01-15T08:06:46.955835Z",
     "start_time": "2020-01-15T08:06:46.938756Z"
    }
   },
   "outputs": [
    {
     "data": {
      "text/plain": [
       "'Octanoate (protein bound)'"
      ]
     },
     "execution_count": 1008,
     "metadata": {},
     "output_type": "execute_result"
    }
   ],
   "source": [
    "model_OB3b_old.metabolites.octapb_c.name"
   ]
  },
  {
   "cell_type": "code",
   "execution_count": 1001,
   "metadata": {
    "ExecuteTime": {
     "end_time": "2020-01-15T08:05:29.305170Z",
     "start_time": "2020-01-15T08:05:29.269810Z"
    }
   },
   "outputs": [
    {
     "name": "stdout",
     "output_type": "stream",
     "text": [
      "3hoctACP_c 3R__3_hydroxyoctanoyl__acyl_carrier_protein_\n",
      "3oocoa_c 3_oxooctanoyl_CoA\n",
      "ocACP_c octanoyl__acyl_carrier_protein_\n",
      "occoa_c octanoyl_CoA\n",
      "3hocoa_c 3S__3_hydroxyoctanoyl_CoA\n",
      "3ooctACP_c 3_oxooctanoyl__acyl_carrier_protein_\n",
      "R_3hocoa_c 3R__3_hydroxyoctanoyl_CoA\n"
     ]
    }
   ],
   "source": [
    "import re\n",
    "for metabolite in iMsOB3b.metabolites:\n",
    "    if re.search(\"octanoyl\", metabolite.name, re.IGNORECASE):\n",
    "        print(metabolite.id, metabolite.name)"
   ]
  },
  {
   "cell_type": "code",
   "execution_count": 1004,
   "metadata": {
    "ExecuteTime": {
     "end_time": "2020-01-15T08:06:08.657132Z",
     "start_time": "2020-01-15T08:06:08.449922Z"
    },
    "scrolled": true
   },
   "outputs": [
    {
     "name": "stdout",
     "output_type": "stream",
     "text": [
      "thex2eACP_c trans_hex_2_enoyl__acyl_carrier_protein_\n",
      "tdeACP_c cis_tetradec_7_enoyl__acyl_carrier_protein_\n",
      "toct2eACP_c trans_oct_2_enoyl__acyl_carrier_protein_\n",
      "t3c9palmeACP_c trans_3_cis_9_hexadecenoyl__acyl_carrier_protein_\n",
      "3opalmACP_c 3_oxohexadecanoyl__acyl_carrier_protein_\n",
      "butACP_c butyryl__acyl_carrier_protein_\n",
      "3ocpalm9eACP_c 3_oxo_cis_hexadec_9_enoyl__acyl_carrier_protein_\n",
      "toctd2eACP_c trans_octadec_2_enoyl__acyl_carrier_protein_\n",
      "apoACP_c apo__acyl_carrier_protein_\n",
      "3ooctdACP_c 3_oxooctadecanoyl__acyl_carrier_protein_\n",
      "myrsACP_c tetradecanoyl__acyl_carrier_protein_\n",
      "3oddecACP_c 3_oxododecanoyl__acyl_carrier_protein_\n",
      "R_3hbacp_c 3R__3_hydroxybutanoyl__acyl_carrier_protein_\n",
      "t3c5ddeceACP_c trans_3_cis_5_dodecenoyl__acyl_carrier_protein_\n",
      "3hcvac11eACP_c 3R__3_hydroxy_cis_octadec_11_enoyl__acyl_carrier_protein_\n",
      "cddec5eACP_c cis_dodec_5_enoyl__acyl_carrier_protein_\n",
      "3ohexACP_c 3_oxohexanoyl__acyl_carrier_protein_\n",
      "maldcapoacp_c malonate_decarboxylase_apo__acyl_carrier_protein_\n",
      "3hoctACP_c 3R__3_hydroxyoctanoyl__acyl_carrier_protein_\n",
      "t3c7mrseACP_c trans_3_cis_7_tetradecenoyl__acyl_carrier_protein_\n",
      "3hcpalm9eACP_c 3R__3_hydroxy_cis_hexadec_9_enoyl__acyl_carrier_protein_\n",
      "t3c11vaceACP_c trans_3_cis_11_octadecenoyl__acyl_carrier_protein_\n",
      "dcaACP_c decanoyl__acyl_carrier_protein_\n",
      "maldcoloacp_c malonate_decarboxylase_holo__acyl_carrier_protein_\n",
      "3hcddec5eACP_c 3R__3_hydroxy_cis_dodec_5_enoyl__acyl_carrier_protein_\n",
      "3omrsACP_c 3_oxotetradecanoyl__acyl_carrier_protein_\n",
      "ocACP_c octanoyl__acyl_carrier_protein_\n",
      "3ocddec5eACP_c 3_oxo_cis_dodec_5_enoyl__acyl_carrier_protein_\n",
      "3hmrsACP_c 3R__3_hydroxytetradecanoyl__acyl_carrier_protein_\n",
      "acACP_c acetyl__acyl_carrier_protein_\n",
      "cdec3eACP_c cis_dec_3_enoyl__acyl_carrier_protein_\n",
      "tddec2eACP_c trans_dodec_2_enoyl__acyl_carrier_protein_\n",
      "3hddecACP_c 3R__3_hydroxydodecanoyl__acyl_carrier_protein_\n",
      "3hdecACP_c 3R__3_hydroxydecanoyl__acyl_carrier_protein_\n",
      "3hhexACP_c 3R__3_hydroxyhexanoyl__acyl_carrier_protein_\n",
      "hexACP_c hexanoyl__acyl_carrier_protein_\n",
      "ocdcaACP_c octadecanoyl__acyl_carrier_protein_\n",
      "3hcmrs7eACP_c 3R__3_hydroxy_cis_tetradec_7_enoyl__acyl_carrier_protein_\n",
      "malACP_c malonyl__acyl_carrier_protein_\n",
      "3ocmrs7eACP_c 3_oxo_cis_tetradec_7_enoyl__acyl_carrier_protein_\n",
      "3ocvac11eACP_c 3_oxo_cis_octadec_11_enoyl__acyl_carrier_protein_\n",
      "3ooctACP_c 3_oxooctanoyl__acyl_carrier_protein_\n",
      "tdec2eACP_c trans_dec_2_enoyl__acyl_carrier_protein_\n",
      "3hpalmACP_c 3R__3_hydroxyhexadecanoyl__acyl_carrier_protein_\n",
      "but2eACP_c crotonyl__acyl_carrier_protein_\n",
      "ACP_c acyl_carrier_protein_\n",
      "tpalm2eACP_c trans_hexadec_2_enoyl__acyl_carrier_protein_\n",
      "octeACP_c octadec_9_enoyl__acyl_carrier_protein_\n",
      "palmACP_c hexadecanoyl__acyl_carrier_protein_\n",
      "3odecACP_c 3_oxodecanoyl__acyl_carrier_protein_\n",
      "3hoctaACP_c 3R__3_hydroxyoctadecanoyl__acyl_carrier_protein_\n",
      "actACP_c acetoacetyl__acyl_carrier_protein_\n",
      "tmrs2eACP_c trans_tetradec_2_enoyl__acyl_carrier_protein_\n",
      "ddcaACP_c dodecanoyl__acyl_carrier_protein_\n",
      "hdeACP_c hexadec_9_enoyl__acyl_carrier_protein_\n"
     ]
    }
   ],
   "source": [
    "import re\n",
    "for metabolite in iMsOB3b.metabolites:\n",
    "    if re.search(\"acyl_carri\", metabolite.name, re.IGNORECASE):\n",
    "        print(metabolite.id, metabolite.name)"
   ]
  },
  {
   "cell_type": "code",
   "execution_count": 1010,
   "metadata": {
    "ExecuteTime": {
     "end_time": "2020-01-15T08:07:15.009581Z",
     "start_time": "2020-01-15T08:07:15.005657Z"
    }
   },
   "outputs": [
    {
     "data": {
      "text/html": [
       "\n",
       "        <table>\n",
       "            <tr>\n",
       "                <td><strong>Metabolite identifier</strong></td><td>octapb_c</td>\n",
       "            </tr><tr>\n",
       "                <td><strong>Name</strong></td><td>Octanoate (protein bound)</td>\n",
       "            </tr><tr>\n",
       "                <td><strong>Memory address</strong></td>\n",
       "                <td>0x07f328f3aab00</td>\n",
       "            </tr><tr>\n",
       "                <td><strong>Formula</strong></td><td>C8H15O</td>\n",
       "            </tr><tr>\n",
       "                <td><strong>Compartment</strong></td><td>c</td>\n",
       "            </tr><tr>\n",
       "                <td><strong>In 2 reaction(s)</strong></td><td>\n",
       "                    LIPOCT, LIPOS</td>\n",
       "            </tr>\n",
       "        </table>"
      ],
      "text/plain": [
       "<Metabolite octapb_c at 0x7f328f3aab00>"
      ]
     },
     "execution_count": 1010,
     "metadata": {},
     "output_type": "execute_result"
    }
   ],
   "source": [
    "iMsOB3b.metabolites.octapb_c"
   ]
  },
  {
   "cell_type": "code",
   "execution_count": 1011,
   "metadata": {
    "ExecuteTime": {
     "end_time": "2020-01-15T08:07:44.611029Z",
     "start_time": "2020-01-15T08:07:44.591472Z"
    }
   },
   "outputs": [],
   "source": [
    "iMsOB3b.add_reaction(model_OB3b_old.reactions.LIPOCT)"
   ]
  },
  {
   "cell_type": "markdown",
   "metadata": {},
   "source": [
    "CQW49_16115\n",
    "<br> https://www.genome.jp/dbget-bin/www_bget?mtw:CQW49_16115"
   ]
  },
  {
   "cell_type": "code",
   "execution_count": 1012,
   "metadata": {
    "ExecuteTime": {
     "end_time": "2020-01-15T08:08:22.361928Z",
     "start_time": "2020-01-15T08:08:22.341378Z"
    }
   },
   "outputs": [
    {
     "name": "stdout",
     "output_type": "stream",
     "text": [
      "PFK_ppi Phosphofructokinase (ppi-dependent f6p_c + ppi_c <=> fdp_c + h_c + pi_c\n",
      "PFK_2 Phosphofructokinase atp_c + tag6p__D_c --> adp_c + h_c + tagdp__D_c\n",
      "PFK_3 Phosphofructokinase (s7p) atp_c + s7p_c --> adp_c + h_c + s17bp_c\n",
      "PFK_3_ppi Pyrophosphate-dependent Phosphofructokinase (s7p) ppi_c + s7p_c <=> h_c + pi_c + s17bp_c\n"
     ]
    }
   ],
   "source": [
    "for reaction in model_OB3b_old.genes.CQW49_16115.reactions:\n",
    "    print(reaction.id, reaction.name, reaction.reaction)"
   ]
  },
  {
   "cell_type": "code",
   "execution_count": 1013,
   "metadata": {
    "ExecuteTime": {
     "end_time": "2020-01-15T08:18:37.986731Z",
     "start_time": "2020-01-15T08:18:37.963205Z"
    }
   },
   "outputs": [],
   "source": [
    "iMsOB3b.add_reaction(model_OB3b_old.reactions.PFK_ppi)"
   ]
  },
  {
   "cell_type": "code",
   "execution_count": 1014,
   "metadata": {
    "ExecuteTime": {
     "end_time": "2020-01-15T08:19:55.332872Z",
     "start_time": "2020-01-15T08:19:55.286980Z"
    }
   },
   "outputs": [],
   "source": [
    "from cobra import Model, Reaction, Metabolite\n",
    "# Best practise: SBML compliant IDs\n",
    "\n",
    "reaction = Reaction('PFK')\n",
    "reaction.name = 'Phosphofructokinase'\n",
    "reaction.lower_bound = -1000.  # This is the default\n",
    "reaction.upper_bound = 1000.  # This is the default\n",
    "\n",
    "iMsOB3b.add_reaction(reaction)\n",
    "iMsOB3b.reactions.PFK.reaction = 'atp_c + f6p_c <=> adp_c + fdp_c + h_c'"
   ]
  },
  {
   "cell_type": "markdown",
   "metadata": {},
   "source": [
    "CQW49_16125"
   ]
  },
  {
   "cell_type": "code",
   "execution_count": 1016,
   "metadata": {
    "ExecuteTime": {
     "end_time": "2020-01-15T08:21:54.776463Z",
     "start_time": "2020-01-15T08:21:54.772744Z"
    }
   },
   "outputs": [],
   "source": [
    "iMsOB3b.reactions.FDHr.gene_reaction_rule = 'CQW49_16615 and CQW49_16630 and (CQW49_16625 or CQW49_16125) and CQW49_16635'"
   ]
  },
  {
   "cell_type": "markdown",
   "metadata": {},
   "source": [
    "CQW49_16180"
   ]
  },
  {
   "cell_type": "code",
   "execution_count": 1017,
   "metadata": {
    "ExecuteTime": {
     "end_time": "2020-01-15T08:22:35.892427Z",
     "start_time": "2020-01-15T08:22:35.877697Z"
    }
   },
   "outputs": [
    {
     "name": "stdout",
     "output_type": "stream",
     "text": [
      "ORPT Orotate phosphoribosyltransferase orot_c + prpp_c --> orot5p_c + ppi_c\n"
     ]
    }
   ],
   "source": [
    "for reaction in model_OB3b_old.genes.CQW49_16180.reactions:\n",
    "    print(reaction.id, reaction.name, reaction.reaction)"
   ]
  },
  {
   "cell_type": "code",
   "execution_count": 1018,
   "metadata": {
    "ExecuteTime": {
     "end_time": "2020-01-15T08:23:15.051292Z",
     "start_time": "2020-01-15T08:23:15.034436Z"
    }
   },
   "outputs": [
    {
     "name": "stdout",
     "output_type": "stream",
     "text": [
      "orot_c orotate\n",
      "dhor_S_c dihydroorotate\n"
     ]
    }
   ],
   "source": [
    "import re\n",
    "for metabolite in iMsOB3b.metabolites:\n",
    "    if re.search(\"Orotate\", metabolite.name, re.IGNORECASE):\n",
    "        print(metabolite.id, metabolite.name)"
   ]
  },
  {
   "cell_type": "code",
   "execution_count": 1023,
   "metadata": {
    "ExecuteTime": {
     "end_time": "2020-01-15T08:23:45.639168Z",
     "start_time": "2020-01-15T08:23:45.635112Z"
    }
   },
   "outputs": [],
   "source": [
    "iMsOB3b.reactions.ORPT.gene_reaction_rule = 'CQW49_16180'"
   ]
  },
  {
   "cell_type": "markdown",
   "metadata": {},
   "source": [
    "CQW49_16905"
   ]
  },
  {
   "cell_type": "code",
   "execution_count": 1024,
   "metadata": {
    "ExecuteTime": {
     "end_time": "2020-01-15T08:24:14.262264Z",
     "start_time": "2020-01-15T08:24:14.252421Z"
    }
   },
   "outputs": [
    {
     "name": "stdout",
     "output_type": "stream",
     "text": [
      "PGM_1 Phosphoglycerate mutase 3pg_c <=> 2pg_c\n"
     ]
    }
   ],
   "source": [
    "for reaction in model_OB3b_old.genes.CQW49_16905.reactions:\n",
    "    print(reaction.id, reaction.name, reaction.reaction)"
   ]
  },
  {
   "cell_type": "code",
   "execution_count": 1026,
   "metadata": {
    "ExecuteTime": {
     "end_time": "2020-01-15T08:25:08.112783Z",
     "start_time": "2020-01-15T08:25:08.105882Z"
    }
   },
   "outputs": [],
   "source": [
    "iMsOB3b.reactions.PGM.gene_reaction_rule = 'CQW49_16905'"
   ]
  },
  {
   "cell_type": "markdown",
   "metadata": {},
   "source": [
    "CQW49_17075"
   ]
  },
  {
   "cell_type": "code",
   "execution_count": 1027,
   "metadata": {
    "ExecuteTime": {
     "end_time": "2020-01-15T08:25:31.586616Z",
     "start_time": "2020-01-15T08:25:31.574079Z"
    }
   },
   "outputs": [
    {
     "name": "stdout",
     "output_type": "stream",
     "text": [
      "L_LACD3 L-Lactate dehydrogenase (menaquinone) lac__L_c + mqn8_c --> mql8_c + pyr_c\n",
      "L_LACD2 L-Lactate dehydrogenase (ubiquinone) lac__L_c + q8_c --> pyr_c + q8h2_c\n"
     ]
    }
   ],
   "source": [
    "for reaction in model_OB3b_old.genes.CQW49_17075.reactions:\n",
    "    print(reaction.id, reaction.name, reaction.reaction)"
   ]
  },
  {
   "cell_type": "code",
   "execution_count": 1029,
   "metadata": {
    "ExecuteTime": {
     "end_time": "2020-01-15T08:26:28.254945Z",
     "start_time": "2020-01-15T08:26:28.203746Z"
    }
   },
   "outputs": [
    {
     "name": "stdout",
     "output_type": "stream",
     "text": [
      "L_LACt2rpp  S  lactate transport  periplasm to cytoplasm \n",
      "EX_lac_L_e exchange flux    S  lactate\n",
      "LDH_L S lactate dehydrogenase\n",
      "KARA1 2 acetolactate reductoisomerase\n",
      "ACLS acetolactate synthase\n",
      "L_LACtex  S  lactate transport via diffusion  extracellular to periplasm \n",
      "LDH_D3 D lactate dehydrogenase  cytochrome \n"
     ]
    }
   ],
   "source": [
    "import re\n",
    "for reaction in iMsOB3b.reactions:\n",
    "    if re.search(\"lactate\", reaction.name, re.IGNORECASE):\n",
    "        print(reaction.id, reaction.name)"
   ]
  },
  {
   "cell_type": "code",
   "execution_count": 1031,
   "metadata": {
    "ExecuteTime": {
     "end_time": "2020-01-15T08:27:23.721565Z",
     "start_time": "2020-01-15T08:27:23.718194Z"
    }
   },
   "outputs": [],
   "source": [
    "iMsOB3b.reactions.LDH_D3.gene_reaction_rule = 'CQW49_17075 or CQW49_10060'"
   ]
  },
  {
   "cell_type": "markdown",
   "metadata": {},
   "source": [
    "CQW49_17110"
   ]
  },
  {
   "cell_type": "code",
   "execution_count": 1032,
   "metadata": {
    "ExecuteTime": {
     "end_time": "2020-01-15T08:27:48.315363Z",
     "start_time": "2020-01-15T08:27:48.294923Z"
    }
   },
   "outputs": [
    {
     "name": "stdout",
     "output_type": "stream",
     "text": [
      "SQLC2 Squalene mutase (cyclizing) h2o_c + sql_c --> dpterol_c\n",
      "SQLC Squalene mutase (cyclizing) sql_c --> dplpt_c\n"
     ]
    }
   ],
   "source": [
    "for reaction in model_OB3b_old.genes.CQW49_17110.reactions:\n",
    "    print(reaction.id, reaction.name, reaction.reaction)"
   ]
  },
  {
   "cell_type": "code",
   "execution_count": 1034,
   "metadata": {
    "ExecuteTime": {
     "end_time": "2020-01-15T08:31:47.691490Z",
     "start_time": "2020-01-15T08:31:47.687140Z"
    }
   },
   "outputs": [
    {
     "data": {
      "text/html": [
       "\n",
       "        <table>\n",
       "            <tr>\n",
       "                <td><strong>Metabolite identifier</strong></td><td>sql_c</td>\n",
       "            </tr><tr>\n",
       "                <td><strong>Name</strong></td><td>squalene</td>\n",
       "            </tr><tr>\n",
       "                <td><strong>Memory address</strong></td>\n",
       "                <td>0x07f328f35cef0</td>\n",
       "            </tr><tr>\n",
       "                <td><strong>Formula</strong></td><td>C30H50</td>\n",
       "            </tr><tr>\n",
       "                <td><strong>Compartment</strong></td><td>c</td>\n",
       "            </tr><tr>\n",
       "                <td><strong>In 3 reaction(s)</strong></td><td>\n",
       "                    SQLC2, SQLC, BIOMASS_Mcapsulatus</td>\n",
       "            </tr>\n",
       "        </table>"
      ],
      "text/plain": [
       "<Metabolite sql_c at 0x7f328f35cef0>"
      ]
     },
     "execution_count": 1034,
     "metadata": {},
     "output_type": "execute_result"
    }
   ],
   "source": [
    "model_OB3b_old.metabolites.sql_c"
   ]
  },
  {
   "cell_type": "code",
   "execution_count": 1035,
   "metadata": {
    "ExecuteTime": {
     "end_time": "2020-01-15T08:32:06.805446Z",
     "start_time": "2020-01-15T08:32:06.795245Z"
    }
   },
   "outputs": [
    {
     "data": {
      "text/html": [
       "\n",
       "        <table>\n",
       "            <tr>\n",
       "                <td><strong>Metabolite identifier</strong></td><td>dpterol_c</td>\n",
       "            </tr><tr>\n",
       "                <td><strong>Name</strong></td><td>hopan-22-ol</td>\n",
       "            </tr><tr>\n",
       "                <td><strong>Memory address</strong></td>\n",
       "                <td>0x07f328f2667f0</td>\n",
       "            </tr><tr>\n",
       "                <td><strong>Formula</strong></td><td>C30H52O</td>\n",
       "            </tr><tr>\n",
       "                <td><strong>Compartment</strong></td><td>c</td>\n",
       "            </tr><tr>\n",
       "                <td><strong>In 2 reaction(s)</strong></td><td>\n",
       "                    SQLC2, BIOMASS_Mcapsulatus</td>\n",
       "            </tr>\n",
       "        </table>"
      ],
      "text/plain": [
       "<Metabolite dpterol_c at 0x7f328f2667f0>"
      ]
     },
     "execution_count": 1035,
     "metadata": {},
     "output_type": "execute_result"
    }
   ],
   "source": [
    "model_OB3b_old.metabolites.dpterol_c"
   ]
  },
  {
   "cell_type": "code",
   "execution_count": 1038,
   "metadata": {
    "ExecuteTime": {
     "end_time": "2020-01-15T08:32:38.205701Z",
     "start_time": "2020-01-15T08:32:38.200888Z"
    }
   },
   "outputs": [
    {
     "data": {
      "text/html": [
       "\n",
       "        <table>\n",
       "            <tr>\n",
       "                <td><strong>Metabolite identifier</strong></td><td>dplpt_c</td>\n",
       "            </tr><tr>\n",
       "                <td><strong>Name</strong></td><td>hop-22(29)-ene</td>\n",
       "            </tr><tr>\n",
       "                <td><strong>Memory address</strong></td>\n",
       "                <td>0x07f328f2667b8</td>\n",
       "            </tr><tr>\n",
       "                <td><strong>Formula</strong></td><td>C30H50</td>\n",
       "            </tr><tr>\n",
       "                <td><strong>Compartment</strong></td><td>c</td>\n",
       "            </tr><tr>\n",
       "                <td><strong>In 1 reaction(s)</strong></td><td>\n",
       "                    SQLC</td>\n",
       "            </tr>\n",
       "        </table>"
      ],
      "text/plain": [
       "<Metabolite dplpt_c at 0x7f328f2667b8>"
      ]
     },
     "execution_count": 1038,
     "metadata": {},
     "output_type": "execute_result"
    }
   ],
   "source": [
    "model_OB3b_old.metabolites.dplpt_c"
   ]
  },
  {
   "cell_type": "code",
   "execution_count": 1039,
   "metadata": {
    "ExecuteTime": {
     "end_time": "2020-01-15T08:33:17.745323Z",
     "start_time": "2020-01-15T08:33:17.733216Z"
    }
   },
   "outputs": [],
   "source": [
    "iMsOB3b.add_reaction(model_OB3b_old.reactions.SQLC)\n",
    "iMsOB3b.add_reaction(model_OB3b_old.reactions.SQLC2)"
   ]
  },
  {
   "cell_type": "markdown",
   "metadata": {},
   "source": [
    "Checkpoint: save gem now:"
   ]
  },
  {
   "cell_type": "code",
   "execution_count": 1041,
   "metadata": {
    "ExecuteTime": {
     "end_time": "2020-01-15T09:41:51.231316Z",
     "start_time": "2020-01-15T09:41:51.037964Z"
    }
   },
   "outputs": [],
   "source": [
    "cobra.io.save_json_model(iMsOB3b, memote_directory + draft_gems_dir_8 + \"bigg_OB3b_15_01_2020.json\")"
   ]
  },
  {
   "cell_type": "markdown",
   "metadata": {},
   "source": [
    "CQW49_17220"
   ]
  },
  {
   "cell_type": "code",
   "execution_count": 7,
   "metadata": {
    "ExecuteTime": {
     "end_time": "2020-01-16T10:22:03.655768Z",
     "start_time": "2020-01-16T10:22:03.650883Z"
    }
   },
   "outputs": [
    {
     "name": "stdout",
     "output_type": "stream",
     "text": [
      "ACM6PH N-acetylmuramate 6-phosphate hydrolase acmum6p_c + h2o_c --> acgam6p_c + lac__D_c\n"
     ]
    }
   ],
   "source": [
    "for reaction in model_OB3b_old.genes.CQW49_17220.reactions:\n",
    "    print(reaction.id, reaction.name, reaction.reaction)"
   ]
  },
  {
   "cell_type": "code",
   "execution_count": 8,
   "metadata": {
    "ExecuteTime": {
     "end_time": "2020-01-16T10:22:04.179085Z",
     "start_time": "2020-01-16T10:22:04.151657Z"
    }
   },
   "outputs": [],
   "source": [
    "iMsOB3b.add_reaction(model_OB3b_old.reactions.ACM6PH)"
   ]
  },
  {
   "cell_type": "markdown",
   "metadata": {
    "ExecuteTime": {
     "end_time": "2020-01-16T07:06:51.643562Z",
     "start_time": "2020-01-16T07:06:51.638639Z"
    }
   },
   "source": [
    "CQW49_17240"
   ]
  },
  {
   "cell_type": "code",
   "execution_count": 9,
   "metadata": {
    "ExecuteTime": {
     "end_time": "2020-01-16T10:22:04.608234Z",
     "start_time": "2020-01-16T10:22:04.603071Z"
    }
   },
   "outputs": [
    {
     "name": "stdout",
     "output_type": "stream",
     "text": [
      "CHOLD Choline dehydrogenase chol_c + nad_c --> betald_c + h_c + nadh_c\n"
     ]
    }
   ],
   "source": [
    "for reaction in model_OB3b_old.genes.CQW49_17240.reactions:\n",
    "    print(reaction.id, reaction.name, reaction.reaction)"
   ]
  },
  {
   "cell_type": "code",
   "execution_count": 10,
   "metadata": {
    "ExecuteTime": {
     "end_time": "2020-01-16T10:22:04.869446Z",
     "start_time": "2020-01-16T10:22:04.852211Z"
    }
   },
   "outputs": [
    {
     "data": {
      "text/html": [
       "\n",
       "        <table>\n",
       "            <tr>\n",
       "                <td><strong>Metabolite identifier</strong></td><td>betald_c</td>\n",
       "            </tr><tr>\n",
       "                <td><strong>Name</strong></td><td>Betaine aldehyde</td>\n",
       "            </tr><tr>\n",
       "                <td><strong>Memory address</strong></td>\n",
       "                <td>0x07fb215c04d68</td>\n",
       "            </tr><tr>\n",
       "                <td><strong>Formula</strong></td><td>C5H12NO</td>\n",
       "            </tr><tr>\n",
       "                <td><strong>Compartment</strong></td><td>c</td>\n",
       "            </tr><tr>\n",
       "                <td><strong>In 1 reaction(s)</strong></td><td>\n",
       "                    CHOLD</td>\n",
       "            </tr>\n",
       "        </table>"
      ],
      "text/plain": [
       "<Metabolite betald_c at 0x7fb215c04d68>"
      ]
     },
     "execution_count": 10,
     "metadata": {},
     "output_type": "execute_result"
    }
   ],
   "source": [
    "model_OB3b_old.metabolites.betald_c"
   ]
  },
  {
   "cell_type": "code",
   "execution_count": 11,
   "metadata": {
    "ExecuteTime": {
     "end_time": "2020-01-16T10:22:05.115155Z",
     "start_time": "2020-01-16T10:22:05.110515Z"
    }
   },
   "outputs": [
    {
     "data": {
      "text/html": [
       "\n",
       "        <table>\n",
       "            <tr>\n",
       "                <td><strong>Metabolite identifier</strong></td><td>chol_c</td>\n",
       "            </tr><tr>\n",
       "                <td><strong>Name</strong></td><td>choline</td>\n",
       "            </tr><tr>\n",
       "                <td><strong>Memory address</strong></td>\n",
       "                <td>0x07fb210e7edd8</td>\n",
       "            </tr><tr>\n",
       "                <td><strong>Formula</strong></td><td>None</td>\n",
       "            </tr><tr>\n",
       "                <td><strong>Compartment</strong></td><td>c</td>\n",
       "            </tr><tr>\n",
       "                <td><strong>In 1 reaction(s)</strong></td><td>\n",
       "                    GPDDA1</td>\n",
       "            </tr>\n",
       "        </table>"
      ],
      "text/plain": [
       "<Metabolite chol_c at 0x7fb210e7edd8>"
      ]
     },
     "execution_count": 11,
     "metadata": {},
     "output_type": "execute_result"
    }
   ],
   "source": [
    "iMsOB3b.metabolites.chol_c"
   ]
  },
  {
   "cell_type": "code",
   "execution_count": 12,
   "metadata": {
    "ExecuteTime": {
     "end_time": "2020-01-16T10:22:05.906111Z",
     "start_time": "2020-01-16T10:22:05.888342Z"
    }
   },
   "outputs": [],
   "source": [
    "iMsOB3b.add_reaction(model_OB3b_old.reactions.CHOLD)"
   ]
  },
  {
   "cell_type": "markdown",
   "metadata": {},
   "source": [
    "CQW49_17595\n",
    "<br>Gene annotation does not match up with the KEGG definition or genbank annotation --> https://www.genome.jp/dbget-bin/www_bget?mtw:CQW49_17595"
   ]
  },
  {
   "cell_type": "code",
   "execution_count": 13,
   "metadata": {
    "ExecuteTime": {
     "end_time": "2020-01-16T10:22:06.650125Z",
     "start_time": "2020-01-16T10:22:06.642163Z"
    }
   },
   "outputs": [
    {
     "name": "stdout",
     "output_type": "stream",
     "text": [
      "FBP Fructose-bisphosphatase fdp_c + h2o_c --> f6p_c + pi_c\n"
     ]
    }
   ],
   "source": [
    "for reaction in model_OB3b_old.genes.CQW49_17595.reactions:\n",
    "    print(reaction.id, reaction.name, reaction.reaction)"
   ]
  },
  {
   "cell_type": "markdown",
   "metadata": {},
   "source": [
    "CQW49_17895"
   ]
  },
  {
   "cell_type": "code",
   "execution_count": 14,
   "metadata": {
    "ExecuteTime": {
     "end_time": "2020-01-16T10:22:07.142816Z",
     "start_time": "2020-01-16T10:22:07.134546Z"
    }
   },
   "outputs": [
    {
     "name": "stdout",
     "output_type": "stream",
     "text": [
      "ORNTA_1 Ornithine transaminase akg_c + orn__L_c --> glu5sa_c + glu__L_c\n"
     ]
    }
   ],
   "source": [
    "for reaction in model_OB3b_old.genes.CQW49_17895.reactions:\n",
    "    print(reaction.id, reaction.name, reaction.reaction)"
   ]
  },
  {
   "cell_type": "code",
   "execution_count": 15,
   "metadata": {
    "ExecuteTime": {
     "end_time": "2020-01-16T10:22:07.390771Z",
     "start_time": "2020-01-16T10:22:07.383321Z"
    }
   },
   "outputs": [],
   "source": [
    "iMsOB3b.reactions.ORNTA.gene_reaction_rule = 'CQW49_02635 or CQW49_17895'"
   ]
  },
  {
   "cell_type": "markdown",
   "metadata": {},
   "source": [
    "CQW49_17905\n",
    "<br>unclear definition, I am not sure which aldehyde dehydrogenase it is.\n",
    "<br> https://www.genome.jp/dbget-bin/www_bget?ec:1.2.1.3"
   ]
  },
  {
   "cell_type": "code",
   "execution_count": 16,
   "metadata": {
    "ExecuteTime": {
     "end_time": "2020-01-16T10:22:07.875102Z",
     "start_time": "2020-01-16T10:22:07.866152Z"
    }
   },
   "outputs": [
    {
     "name": "stdout",
     "output_type": "stream",
     "text": [
      "AASAD3 AASAD3 L2aadp6sa_c + h2o_c + nad_c --> L2aadp_c + 2.0 h_c + nadh_c\n",
      "ALDD2x Aldehyde dehydrogenase (acetaldehyde, NAD) acald_c + h2o_c + nad_c --> ac_c + 2.0 h_c + nadh_c\n"
     ]
    }
   ],
   "source": [
    "for reaction in model_OB3b_old.genes.CQW49_17905.reactions:\n",
    "    print(reaction.id, reaction.name, reaction.reaction)"
   ]
  },
  {
   "cell_type": "markdown",
   "metadata": {},
   "source": [
    "CQW49_18435"
   ]
  },
  {
   "cell_type": "code",
   "execution_count": 17,
   "metadata": {
    "ExecuteTime": {
     "end_time": "2020-01-16T10:22:08.381897Z",
     "start_time": "2020-01-16T10:22:08.372987Z"
    }
   },
   "outputs": [
    {
     "name": "stdout",
     "output_type": "stream",
     "text": [
      "TMDS3 Thymidylate synthase (FAD dependent) dump_c + h_c + mlthf_c + nadph_c --> dtmp_c + nadp_c + thf_c\n"
     ]
    }
   ],
   "source": [
    "for reaction in model_OB3b_old.genes.CQW49_18435.reactions:\n",
    "    print(reaction.id, reaction.name, reaction.reaction)"
   ]
  },
  {
   "cell_type": "code",
   "execution_count": 18,
   "metadata": {
    "ExecuteTime": {
     "end_time": "2020-01-16T10:22:08.621041Z",
     "start_time": "2020-01-16T10:22:08.613402Z"
    }
   },
   "outputs": [
    {
     "name": "stdout",
     "output_type": "stream",
     "text": [
      "frozenset({<Reaction DUTPDP at 0x7fb207cfada0>, <Reaction TMDS at 0x7fb207c643c8>})\n",
      "frozenset({<Reaction GLYCL_3 at 0x7fb207492518>, <Reaction MOHMT at 0x7fb207ec4a20>, <Reaction FALDA at 0x7fb207d24710>, <Reaction MTHFR3 at 0x7fb20834df28>, <Reaction MTHFD at 0x7fb2073c0780>, <Reaction GHMT2r at 0x7fb2081aaac8>, <Reaction TMDS at 0x7fb207c643c8>})\n",
      "frozenset({<Reaction DTMPK at 0x7fb207347080>, <Reaction TMDS at 0x7fb207c643c8>, <Reaction NTPP7 at 0x7fb20823d470>})\n",
      "frozenset({<Reaction MOHMT at 0x7fb207ec4a20>, <Reaction GARFT at 0x7fb20818d630>, <Reaction AICART at 0x7fb207827470>, <Reaction DHFR at 0x7fb207ce1080>, <Reaction GHMT2r at 0x7fb2081aaac8>, <Reaction METSr at 0x7fb207fe34e0>, <Reaction FTHFL at 0x7fb207c88ef0>, <Reaction Biomass_Mextorquens_AM1_core at 0x7fb2083fdb00>, <Reaction GLYCL_3 at 0x7fb207492518>, <Reaction FALDA at 0x7fb207d24710>, <Reaction FMETTRS at 0x7fb207cfa7f0>})\n"
     ]
    }
   ],
   "source": [
    "print(iMsOB3b.metabolites.dump_c.reactions)\n",
    "print(iMsOB3b.metabolites.mlthf_c.reactions)\n",
    "print(iMsOB3b.metabolites.dtmp_c.reactions)\n",
    "print(iMsOB3b.metabolites.thf_c.reactions)"
   ]
  },
  {
   "cell_type": "code",
   "execution_count": 19,
   "metadata": {
    "ExecuteTime": {
     "end_time": "2020-01-16T10:22:08.872616Z",
     "start_time": "2020-01-16T10:22:08.852259Z"
    }
   },
   "outputs": [],
   "source": [
    "iMsOB3b.add_reaction(model_OB3b_old.reactions.TMDS3)"
   ]
  },
  {
   "cell_type": "markdown",
   "metadata": {},
   "source": [
    "CQW49_18575\n",
    "<br> Gene codes for tRNA dimethylallyltransferase [EC:2.5.1.75] which cannot be included into GEM\n",
    "<br> https://www.genome.jp/dbget-bin/www_bget?mtw:CQW49_18575"
   ]
  },
  {
   "cell_type": "code",
   "execution_count": 20,
   "metadata": {
    "ExecuteTime": {
     "end_time": "2020-01-16T10:22:09.339672Z",
     "start_time": "2020-01-16T10:22:09.335248Z"
    }
   },
   "outputs": [],
   "source": [
    "for reaction in model_OB3b_old.genes.CQW49_18575.reactions:\n",
    "    print(reaction.id, reaction.name, reaction.reaction)"
   ]
  },
  {
   "cell_type": "markdown",
   "metadata": {},
   "source": [
    "CQW49_18780"
   ]
  },
  {
   "cell_type": "code",
   "execution_count": 21,
   "metadata": {
    "ExecuteTime": {
     "end_time": "2020-01-16T10:22:09.837865Z",
     "start_time": "2020-01-16T10:22:09.832166Z"
    }
   },
   "outputs": [
    {
     "name": "stdout",
     "output_type": "stream",
     "text": [
      "NTPP11 Nucleoside triphosphate pyrophosphorylase (xtp) h_c + ppi_c + xmp_c --> h2o_c + xtp_c\n",
      "NTPP8 Nucleoside triphosphate pyrophosphorylase (utp) h_c + ppi_c + ump_c --> h2o_c + utp_c\n",
      "NTPP10 Nucleoside triphosphate pyrophosphorylase (ditp) ditp_c + h2o_c --> dimp_c + h_c + ppi_c\n",
      "DUTPDP DUTP diphosphatase dutp_c + h2o_c --> dump_c + h_c + ppi_c\n",
      "NTPP2 Nucleoside triphosphate pyrophosphorylase (gtp) gtp_c + h2o_c --> gmp_c + h_c + ppi_c\n",
      "NTPP9 Nucleoside triphosphate pyrophosphorylase (itp) h2o_c + itp_c --> h_c + imp_c + ppi_c\n",
      "NTPP1 Nucleoside triphosphate pyrophosphorylase (dgtp) dgtp_c + h2o_c --> dgmp_c + h_c + ppi_c\n"
     ]
    }
   ],
   "source": [
    "for reaction in model_OB3b_old.genes.CQW49_18780.reactions:\n",
    "    print(reaction.id, reaction.name, reaction.reaction)"
   ]
  },
  {
   "cell_type": "code",
   "execution_count": 22,
   "metadata": {
    "ExecuteTime": {
     "end_time": "2020-01-16T10:22:10.075840Z",
     "start_time": "2020-01-16T10:22:10.065794Z"
    }
   },
   "outputs": [
    {
     "name": "stdout",
     "output_type": "stream",
     "text": [
      "NTPP7 deoxynucleoside triphosphate pyrophosphohydrolase  dTTP \n",
      "NTPP8 nucleoside triphosphate pyrophosphohydrolase  UTP \n",
      "NTPP3 deoxynucleoside triphosphate pyrophosphohydrolase  dCTP \n",
      "NTPP4 nucleoside triphosphate pyrophosphohydrolase  CTP \n",
      "NTPP5 deoxynucleoside triphosphate pyrophosphohydrolase  dATP \n",
      "NTPP6 nucleoside triphosphate pyrophosphohydrolase  ATP \n",
      "NTPP1 deoxynucleoside triphosphate pyrophosphohydrolase  dGTP \n",
      "NTPP2 nucleoside triphosphate pyrophosphohydrolase  GTP \n",
      "NTPTP1 Nucleoside triphosphate tripolyhydrolase\n"
     ]
    }
   ],
   "source": [
    "import re\n",
    "for reaction in iMsOB3b.reactions:\n",
    "    if re.search(\"nucleoside triphosphate\", reaction.name, re.IGNORECASE):\n",
    "        print(reaction.id, reaction.name)"
   ]
  },
  {
   "cell_type": "code",
   "execution_count": 23,
   "metadata": {
    "ExecuteTime": {
     "end_time": "2020-01-16T10:22:10.347444Z",
     "start_time": "2020-01-16T10:22:10.340345Z"
    }
   },
   "outputs": [],
   "source": [
    "iMsOB3b.reactions.NTPP8.gene_reaction_rule = 'CQW49_01615 or CQW49_18780'\n",
    "iMsOB3b.reactions.NTPP6.gene_reaction_rule = 'CQW49_01615 or CQW49_11120'\n",
    "iMsOB3b.reactions.NTPP4.gene_reaction_rule = 'CQW49_01615 or CQW49_11120'\n",
    "iMsOB3b.reactions.NTPP2.gene_reaction_rule = 'CQW49_01615 or CQW49_11120'"
   ]
  },
  {
   "cell_type": "markdown",
   "metadata": {
    "ExecuteTime": {
     "end_time": "2020-01-16T07:31:35.953608Z",
     "start_time": "2020-01-16T07:31:35.949270Z"
    }
   },
   "source": [
    "CQW49_19460\n",
    "<br> Not clarified enough\n",
    "<br> https://www.genome.jp/dbget-bin/www_bget?ec:3.4.11.2"
   ]
  },
  {
   "cell_type": "code",
   "execution_count": 24,
   "metadata": {
    "ExecuteTime": {
     "end_time": "2020-01-16T10:22:10.801282Z",
     "start_time": "2020-01-16T10:22:10.795591Z"
    }
   },
   "outputs": [
    {
     "name": "stdout",
     "output_type": "stream",
     "text": [
      "AMPTASEPG Aminopeptidase (pro-gly) h2o_c + progly_c --> gly_c + pro__L_c\n",
      "AMPTASECG Alanyl aminopeptidase (cys-gly) cgly_c + h2o_c --> cys__L_c + gly_c\n"
     ]
    }
   ],
   "source": [
    "for reaction in model_OB3b_old.genes.CQW49_19460.reactions:\n",
    "    print(reaction.id, reaction.name, reaction.reaction)"
   ]
  },
  {
   "cell_type": "markdown",
   "metadata": {
    "ExecuteTime": {
     "end_time": "2020-01-16T07:31:00.588037Z",
     "start_time": "2020-01-16T07:31:00.583662Z"
    }
   },
   "source": [
    "CQW49_20020"
   ]
  },
  {
   "cell_type": "code",
   "execution_count": 25,
   "metadata": {
    "ExecuteTime": {
     "end_time": "2020-01-16T10:22:11.240180Z",
     "start_time": "2020-01-16T10:22:11.235464Z"
    }
   },
   "outputs": [
    {
     "name": "stdout",
     "output_type": "stream",
     "text": [
      "OXADC Oxalate decarboxylase h_c + oxa_c --> co2_c + for_c\n"
     ]
    }
   ],
   "source": [
    "for reaction in model_OB3b_old.genes.CQW49_20020.reactions:\n",
    "    print(reaction.id, reaction.name, reaction.reaction)"
   ]
  },
  {
   "cell_type": "code",
   "execution_count": 26,
   "metadata": {
    "ExecuteTime": {
     "end_time": "2020-01-16T10:22:11.518167Z",
     "start_time": "2020-01-16T10:22:11.504289Z"
    }
   },
   "outputs": [],
   "source": [
    "iMsOB3b.add_reaction(model_OB3b_old.reactions.OXADC)"
   ]
  },
  {
   "cell_type": "markdown",
   "metadata": {
    "ExecuteTime": {
     "end_time": "2020-01-16T07:34:58.418502Z",
     "start_time": "2020-01-16T07:34:58.386221Z"
    }
   },
   "source": [
    "CQW49_20165\n",
    "<br> https://www.genome.jp/dbget-bin/www_bget?ec:2.10.1.1"
   ]
  },
  {
   "cell_type": "code",
   "execution_count": 27,
   "metadata": {
    "ExecuteTime": {
     "end_time": "2020-01-16T10:22:11.970736Z",
     "start_time": "2020-01-16T10:22:11.965565Z"
    }
   },
   "outputs": [
    {
     "name": "stdout",
     "output_type": "stream",
     "text": [
      "BWCOS Tungsten bispterin cofactor synthase mptamp_c + wco_c --> amp_c + bwco_c + cu2_c\n",
      "BMOCOS Bis-molybdenum cofactor synthase moco_c + mptamp_c --> amp_c + bmoco_c + cu2_c\n",
      "MOCOS Molybdenum cofactor synthase 2.0 h_c + mobd_c + mptamp_c --> amp_c + cu2_c + h2o_c + moco_c\n",
      "WCOS Tungsten pterin cofactor synthase 2.0 h_c + mptamp_c + tungs_c --> amp_c + cu2_c + h2o_c + wco_c\n"
     ]
    }
   ],
   "source": [
    "for reaction in model_OB3b_old.genes.CQW49_20165.reactions:\n",
    "    print(reaction.id, reaction.name, reaction.reaction)"
   ]
  },
  {
   "cell_type": "code",
   "execution_count": 28,
   "metadata": {
    "ExecuteTime": {
     "end_time": "2020-01-16T10:22:12.211863Z",
     "start_time": "2020-01-16T10:22:12.206643Z"
    }
   },
   "outputs": [
    {
     "data": {
      "text/html": [
       "\n",
       "        <table>\n",
       "            <tr>\n",
       "                <td><strong>Reaction identifier</strong></td><td>BMOCOS</td>\n",
       "            </tr><tr>\n",
       "                <td><strong>Name</strong></td><td>Bis-molybdenum cofactor synthase</td>\n",
       "            </tr><tr>\n",
       "                <td><strong>Memory address</strong></td>\n",
       "                <td>0x07fb2156ddda0</td>\n",
       "            </tr><tr>\n",
       "                <td><strong>Stoichiometry</strong></td>\n",
       "                <td>\n",
       "                    <p style='text-align:right'>moco_c + mptamp_c --> amp_c + bmoco_c + cu2_c</p>\n",
       "                    <p style='text-align:right'>Molybdenum cofactor + Adenylated molybdopterin --> AMP + Bis-molybdenum cofactor + Copper</p>\n",
       "                </td>\n",
       "            </tr><tr>\n",
       "                <td><strong>GPR</strong></td><td>CQW49_20165</td>\n",
       "            </tr><tr>\n",
       "                <td><strong>Lower bound</strong></td><td>0.0</td>\n",
       "            </tr><tr>\n",
       "                <td><strong>Upper bound</strong></td><td>1000.0</td>\n",
       "            </tr>\n",
       "        </table>\n",
       "        "
      ],
      "text/plain": [
       "<Reaction BMOCOS at 0x7fb2156ddda0>"
      ]
     },
     "execution_count": 28,
     "metadata": {},
     "output_type": "execute_result"
    }
   ],
   "source": [
    "model_OB3b_old.reactions.BMOCOS"
   ]
  },
  {
   "cell_type": "code",
   "execution_count": 29,
   "metadata": {
    "ExecuteTime": {
     "end_time": "2020-01-16T10:22:12.488274Z",
     "start_time": "2020-01-16T10:22:12.483569Z"
    }
   },
   "outputs": [
    {
     "data": {
      "text/html": [
       "\n",
       "        <table>\n",
       "            <tr>\n",
       "                <td><strong>Reaction identifier</strong></td><td>BWCOS</td>\n",
       "            </tr><tr>\n",
       "                <td><strong>Name</strong></td><td>Tungsten bispterin cofactor synthase</td>\n",
       "            </tr><tr>\n",
       "                <td><strong>Memory address</strong></td>\n",
       "                <td>0x07fb2156ddf28</td>\n",
       "            </tr><tr>\n",
       "                <td><strong>Stoichiometry</strong></td>\n",
       "                <td>\n",
       "                    <p style='text-align:right'>mptamp_c + wco_c --> amp_c + bwco_c + cu2_c</p>\n",
       "                    <p style='text-align:right'>Adenylated molybdopterin + Tungsten binding cofactor --> AMP + Tungsten bispterin cofactor + Copper</p>\n",
       "                </td>\n",
       "            </tr><tr>\n",
       "                <td><strong>GPR</strong></td><td>CQW49_20165</td>\n",
       "            </tr><tr>\n",
       "                <td><strong>Lower bound</strong></td><td>0.0</td>\n",
       "            </tr><tr>\n",
       "                <td><strong>Upper bound</strong></td><td>1000.0</td>\n",
       "            </tr>\n",
       "        </table>\n",
       "        "
      ],
      "text/plain": [
       "<Reaction BWCOS at 0x7fb2156ddf28>"
      ]
     },
     "execution_count": 29,
     "metadata": {},
     "output_type": "execute_result"
    }
   ],
   "source": [
    "model_OB3b_old.reactions.BWCOS"
   ]
  },
  {
   "cell_type": "code",
   "execution_count": 30,
   "metadata": {
    "ExecuteTime": {
     "end_time": "2020-01-16T10:22:12.754802Z",
     "start_time": "2020-01-16T10:22:12.749587Z"
    }
   },
   "outputs": [
    {
     "data": {
      "text/html": [
       "\n",
       "        <table>\n",
       "            <tr>\n",
       "                <td><strong>Reaction identifier</strong></td><td>WCOS</td>\n",
       "            </tr><tr>\n",
       "                <td><strong>Name</strong></td><td>Tungsten pterin cofactor synthase</td>\n",
       "            </tr><tr>\n",
       "                <td><strong>Memory address</strong></td>\n",
       "                <td>0x07fb216d60be0</td>\n",
       "            </tr><tr>\n",
       "                <td><strong>Stoichiometry</strong></td>\n",
       "                <td>\n",
       "                    <p style='text-align:right'>2.0 h_c + mptamp_c + tungs_c --> amp_c + cu2_c + h2o_c + wco_c</p>\n",
       "                    <p style='text-align:right'>2.0 H(+) + Adenylated molybdopterin + Tungstate --> AMP + Copper + H2O + Tungsten binding cofactor</p>\n",
       "                </td>\n",
       "            </tr><tr>\n",
       "                <td><strong>GPR</strong></td><td>CQW49_20165</td>\n",
       "            </tr><tr>\n",
       "                <td><strong>Lower bound</strong></td><td>0.0</td>\n",
       "            </tr><tr>\n",
       "                <td><strong>Upper bound</strong></td><td>1000.0</td>\n",
       "            </tr>\n",
       "        </table>\n",
       "        "
      ],
      "text/plain": [
       "<Reaction WCOS at 0x7fb216d60be0>"
      ]
     },
     "execution_count": 30,
     "metadata": {},
     "output_type": "execute_result"
    }
   ],
   "source": [
    "model_OB3b_old.reactions.WCOS"
   ]
  },
  {
   "cell_type": "code",
   "execution_count": 31,
   "metadata": {
    "ExecuteTime": {
     "end_time": "2020-01-16T10:22:13.061429Z",
     "start_time": "2020-01-16T10:22:13.056367Z"
    }
   },
   "outputs": [
    {
     "data": {
      "text/html": [
       "\n",
       "        <table>\n",
       "            <tr>\n",
       "                <td><strong>Reaction identifier</strong></td><td>MOCOS</td>\n",
       "            </tr><tr>\n",
       "                <td><strong>Name</strong></td><td>Molybdenum cofactor synthase</td>\n",
       "            </tr><tr>\n",
       "                <td><strong>Memory address</strong></td>\n",
       "                <td>0x07fb21558c1d0</td>\n",
       "            </tr><tr>\n",
       "                <td><strong>Stoichiometry</strong></td>\n",
       "                <td>\n",
       "                    <p style='text-align:right'>2.0 h_c + mobd_c + mptamp_c --> amp_c + cu2_c + h2o_c + moco_c</p>\n",
       "                    <p style='text-align:right'>2.0 H(+) + Molybdate + Adenylated molybdopterin --> AMP + Copper + H2O + Molybdenum cofactor</p>\n",
       "                </td>\n",
       "            </tr><tr>\n",
       "                <td><strong>GPR</strong></td><td>CQW49_20165</td>\n",
       "            </tr><tr>\n",
       "                <td><strong>Lower bound</strong></td><td>0.0</td>\n",
       "            </tr><tr>\n",
       "                <td><strong>Upper bound</strong></td><td>1000.0</td>\n",
       "            </tr>\n",
       "        </table>\n",
       "        "
      ],
      "text/plain": [
       "<Reaction MOCOS at 0x7fb21558c1d0>"
      ]
     },
     "execution_count": 31,
     "metadata": {},
     "output_type": "execute_result"
    }
   ],
   "source": [
    "model_OB3b_old.reactions.MOCOS"
   ]
  },
  {
   "cell_type": "code",
   "execution_count": 32,
   "metadata": {
    "ExecuteTime": {
     "end_time": "2020-01-16T10:22:13.345930Z",
     "start_time": "2020-01-16T10:22:13.336985Z"
    }
   },
   "outputs": [
    {
     "name": "stdout",
     "output_type": "stream",
     "text": [
      "MOBDMPTL molybdenum  molybdopterin ligase\n",
      "MOGDS molybdopterin guanine dinucleotide synthase\n",
      "MPTAT molybdopterin adenylyltransferase\n",
      "MPTSA molybdopterin synthase activations\n",
      "MPTSS molybdopterin synthase sulfurylase\n"
     ]
    }
   ],
   "source": [
    "import re\n",
    "for reaction in iMsOB3b.reactions:\n",
    "    if re.search(\"molybdo\", reaction.name, re.IGNORECASE):\n",
    "        print(reaction.id, reaction.name)"
   ]
  },
  {
   "cell_type": "code",
   "execution_count": 33,
   "metadata": {
    "ExecuteTime": {
     "end_time": "2020-01-16T10:22:13.630039Z",
     "start_time": "2020-01-16T10:22:13.626384Z"
    }
   },
   "outputs": [],
   "source": [
    "iMsOB3b.reactions.MOBDMPTL.gene_reaction_rule = 'CQW49_20165'"
   ]
  },
  {
   "cell_type": "markdown",
   "metadata": {},
   "source": [
    "CQW49_20215"
   ]
  },
  {
   "cell_type": "code",
   "execution_count": 34,
   "metadata": {
    "ExecuteTime": {
     "end_time": "2020-01-16T10:22:14.084686Z",
     "start_time": "2020-01-16T10:22:14.080925Z"
    }
   },
   "outputs": [],
   "source": [
    "for reaction in model_OB3b_old.genes.CQW49_20215.reactions:\n",
    "    print(reaction.id, reaction.name, reaction.reaction)"
   ]
  },
  {
   "cell_type": "code",
   "execution_count": 35,
   "metadata": {
    "ExecuteTime": {
     "end_time": "2020-01-16T10:22:14.337709Z",
     "start_time": "2020-01-16T10:22:14.328979Z"
    }
   },
   "outputs": [
    {
     "name": "stdout",
     "output_type": "stream",
     "text": [
      "HCO3E carbonic anhydrase\n"
     ]
    }
   ],
   "source": [
    "import re\n",
    "for reaction in iMsOB3b.reactions:\n",
    "    if re.search(\"carbonic\", reaction.name, re.IGNORECASE):\n",
    "        print(reaction.id, reaction.name)"
   ]
  },
  {
   "cell_type": "code",
   "execution_count": 36,
   "metadata": {
    "ExecuteTime": {
     "end_time": "2020-01-16T10:22:14.586492Z",
     "start_time": "2020-01-16T10:22:14.583164Z"
    }
   },
   "outputs": [],
   "source": [
    "iMsOB3b.reactions.HCO3E.gene_reaction_rule = 'CQW49_10875 or CQW49_20715 or CQW49_12845 or CQW49_20215'"
   ]
  },
  {
   "cell_type": "markdown",
   "metadata": {},
   "source": [
    "CQW49_20655\n",
    "<br> different annotation between kegg, genbank and OB3b-related gem https://www.genome.jp/dbget-bin/www_bget?mtw:CQW49_20655"
   ]
  },
  {
   "cell_type": "code",
   "execution_count": 37,
   "metadata": {
    "ExecuteTime": {
     "end_time": "2020-01-16T10:22:15.093294Z",
     "start_time": "2020-01-16T10:22:15.088205Z"
    }
   },
   "outputs": [
    {
     "name": "stdout",
     "output_type": "stream",
     "text": [
      "2OH3K5MPPISO 2-hydroxy-3-keto-5-methylthiopentenyl-1-phosphate phosphatase 2h3kmtp_c + h2o_c --> 12dmpo_c + h_c + pi_c\n"
     ]
    }
   ],
   "source": [
    "for reaction in model_OB3b_old.genes.CQW49_20655.reactions:\n",
    "    print(reaction.id, reaction.name, reaction.reaction)"
   ]
  },
  {
   "cell_type": "code",
   "execution_count": 38,
   "metadata": {
    "ExecuteTime": {
     "end_time": "2020-01-16T10:22:15.648096Z",
     "start_time": "2020-01-16T10:22:15.340672Z"
    },
    "scrolled": true
   },
   "outputs": [
    {
     "ename": "KeyError",
     "evalue": "'2h3kmpt_c'",
     "output_type": "error",
     "traceback": [
      "\u001b[0;31m---------------------------------------------------------------------------\u001b[0m",
      "\u001b[0;31mKeyError\u001b[0m                                  Traceback (most recent call last)",
      "\u001b[0;32m<ipython-input-38-cf3c56f652e2>\u001b[0m in \u001b[0;36m<module>\u001b[0;34m\u001b[0m\n\u001b[0;32m----> 1\u001b[0;31m \u001b[0mprint\u001b[0m\u001b[0;34m(\u001b[0m\u001b[0miMsOB3b\u001b[0m\u001b[0;34m.\u001b[0m\u001b[0mmetabolites\u001b[0m\u001b[0;34m.\u001b[0m\u001b[0mget_by_id\u001b[0m\u001b[0;34m(\u001b[0m\u001b[0;34m'2h3kmpt_c'\u001b[0m\u001b[0;34m)\u001b[0m\u001b[0;34m)\u001b[0m\u001b[0;34m\u001b[0m\u001b[0;34m\u001b[0m\u001b[0m\n\u001b[0m",
      "\u001b[0;32m~/anaconda3/envs/GEM_py36/lib/python3.6/site-packages/cobra/core/dictlist.py\u001b[0m in \u001b[0;36mget_by_id\u001b[0;34m(self, id)\u001b[0m\n\u001b[1;32m     56\u001b[0m     \u001b[0;32mdef\u001b[0m \u001b[0mget_by_id\u001b[0m\u001b[0;34m(\u001b[0m\u001b[0mself\u001b[0m\u001b[0;34m,\u001b[0m \u001b[0mid\u001b[0m\u001b[0;34m)\u001b[0m\u001b[0;34m:\u001b[0m\u001b[0;34m\u001b[0m\u001b[0;34m\u001b[0m\u001b[0m\n\u001b[1;32m     57\u001b[0m         \u001b[0;34m\"\"\"return the element with a matching id\"\"\"\u001b[0m\u001b[0;34m\u001b[0m\u001b[0;34m\u001b[0m\u001b[0m\n\u001b[0;32m---> 58\u001b[0;31m         \u001b[0;32mreturn\u001b[0m \u001b[0mlist\u001b[0m\u001b[0;34m.\u001b[0m\u001b[0m__getitem__\u001b[0m\u001b[0;34m(\u001b[0m\u001b[0mself\u001b[0m\u001b[0;34m,\u001b[0m \u001b[0mself\u001b[0m\u001b[0;34m.\u001b[0m\u001b[0m_dict\u001b[0m\u001b[0;34m[\u001b[0m\u001b[0mid\u001b[0m\u001b[0;34m]\u001b[0m\u001b[0;34m)\u001b[0m\u001b[0;34m\u001b[0m\u001b[0;34m\u001b[0m\u001b[0m\n\u001b[0m\u001b[1;32m     59\u001b[0m \u001b[0;34m\u001b[0m\u001b[0m\n\u001b[1;32m     60\u001b[0m     \u001b[0;32mdef\u001b[0m \u001b[0mlist_attr\u001b[0m\u001b[0;34m(\u001b[0m\u001b[0mself\u001b[0m\u001b[0;34m,\u001b[0m \u001b[0mattribute\u001b[0m\u001b[0;34m)\u001b[0m\u001b[0;34m:\u001b[0m\u001b[0;34m\u001b[0m\u001b[0;34m\u001b[0m\u001b[0m\n",
      "\u001b[0;31mKeyError\u001b[0m: '2h3kmpt_c'"
     ]
    }
   ],
   "source": [
    "print(iMsOB3b.metabolites.get_by_id('2h3kmpt_c'))"
   ]
  },
  {
   "cell_type": "code",
   "execution_count": 40,
   "metadata": {
    "ExecuteTime": {
     "end_time": "2020-01-16T10:22:23.928967Z",
     "start_time": "2020-01-16T10:22:23.909405Z"
    }
   },
   "outputs": [
    {
     "ename": "KeyError",
     "evalue": "'12dmpo_c'",
     "output_type": "error",
     "traceback": [
      "\u001b[0;31m---------------------------------------------------------------------------\u001b[0m",
      "\u001b[0;31mKeyError\u001b[0m                                  Traceback (most recent call last)",
      "\u001b[0;32m<ipython-input-40-caeafe662101>\u001b[0m in \u001b[0;36m<module>\u001b[0;34m\u001b[0m\n\u001b[0;32m----> 1\u001b[0;31m \u001b[0mprint\u001b[0m\u001b[0;34m(\u001b[0m\u001b[0miMsOB3b\u001b[0m\u001b[0;34m.\u001b[0m\u001b[0mmetabolites\u001b[0m\u001b[0;34m.\u001b[0m\u001b[0mget_by_id\u001b[0m\u001b[0;34m(\u001b[0m\u001b[0;34m'12dmpo_c'\u001b[0m\u001b[0;34m)\u001b[0m\u001b[0;34m)\u001b[0m\u001b[0;34m\u001b[0m\u001b[0;34m\u001b[0m\u001b[0m\n\u001b[0m",
      "\u001b[0;32m~/anaconda3/envs/GEM_py36/lib/python3.6/site-packages/cobra/core/dictlist.py\u001b[0m in \u001b[0;36mget_by_id\u001b[0;34m(self, id)\u001b[0m\n\u001b[1;32m     56\u001b[0m     \u001b[0;32mdef\u001b[0m \u001b[0mget_by_id\u001b[0m\u001b[0;34m(\u001b[0m\u001b[0mself\u001b[0m\u001b[0;34m,\u001b[0m \u001b[0mid\u001b[0m\u001b[0;34m)\u001b[0m\u001b[0;34m:\u001b[0m\u001b[0;34m\u001b[0m\u001b[0;34m\u001b[0m\u001b[0m\n\u001b[1;32m     57\u001b[0m         \u001b[0;34m\"\"\"return the element with a matching id\"\"\"\u001b[0m\u001b[0;34m\u001b[0m\u001b[0;34m\u001b[0m\u001b[0m\n\u001b[0;32m---> 58\u001b[0;31m         \u001b[0;32mreturn\u001b[0m \u001b[0mlist\u001b[0m\u001b[0;34m.\u001b[0m\u001b[0m__getitem__\u001b[0m\u001b[0;34m(\u001b[0m\u001b[0mself\u001b[0m\u001b[0;34m,\u001b[0m \u001b[0mself\u001b[0m\u001b[0;34m.\u001b[0m\u001b[0m_dict\u001b[0m\u001b[0;34m[\u001b[0m\u001b[0mid\u001b[0m\u001b[0;34m]\u001b[0m\u001b[0;34m)\u001b[0m\u001b[0;34m\u001b[0m\u001b[0;34m\u001b[0m\u001b[0m\n\u001b[0m\u001b[1;32m     59\u001b[0m \u001b[0;34m\u001b[0m\u001b[0m\n\u001b[1;32m     60\u001b[0m     \u001b[0;32mdef\u001b[0m \u001b[0mlist_attr\u001b[0m\u001b[0;34m(\u001b[0m\u001b[0mself\u001b[0m\u001b[0;34m,\u001b[0m \u001b[0mattribute\u001b[0m\u001b[0;34m)\u001b[0m\u001b[0;34m:\u001b[0m\u001b[0;34m\u001b[0m\u001b[0;34m\u001b[0m\u001b[0m\n",
      "\u001b[0;31mKeyError\u001b[0m: '12dmpo_c'"
     ]
    }
   ],
   "source": [
    "print(iMsOB3b.metabolites.get_by_id('12dmpo_c'))"
   ]
  },
  {
   "cell_type": "markdown",
   "metadata": {},
   "source": [
    "CQW49_20795\n",
    "<br> https://www.genome.jp/dbget-bin/www_bget?mtw:CQW49_20795"
   ]
  },
  {
   "cell_type": "code",
   "execution_count": 41,
   "metadata": {
    "ExecuteTime": {
     "end_time": "2020-01-16T10:22:27.661494Z",
     "start_time": "2020-01-16T10:22:27.652790Z"
    }
   },
   "outputs": [
    {
     "name": "stdout",
     "output_type": "stream",
     "text": [
      "ACS2 ACS2 atp_c + coa_c + ppa_c --> amp_c + ppcoa_c + ppi_c\n"
     ]
    }
   ],
   "source": [
    "for reaction in model_OB3b_old.genes.CQW49_20795.reactions:\n",
    "    print(reaction.id, reaction.name, reaction.reaction)"
   ]
  },
  {
   "cell_type": "code",
   "execution_count": 42,
   "metadata": {
    "ExecuteTime": {
     "end_time": "2020-01-16T10:22:28.292372Z",
     "start_time": "2020-01-16T10:22:28.285520Z"
    }
   },
   "outputs": [],
   "source": [
    "iMsOB3b.reactions.ACS.gene_reaction_rule = 'CQW49_20795 or CQW49_13835'"
   ]
  },
  {
   "cell_type": "markdown",
   "metadata": {
    "ExecuteTime": {
     "end_time": "2020-01-16T07:53:10.467566Z",
     "start_time": "2020-01-16T07:53:10.462881Z"
    }
   },
   "source": [
    "CQW49_21030"
   ]
  },
  {
   "cell_type": "code",
   "execution_count": 43,
   "metadata": {
    "ExecuteTime": {
     "end_time": "2020-01-16T10:22:29.048027Z",
     "start_time": "2020-01-16T10:22:29.039436Z"
    }
   },
   "outputs": [
    {
     "name": "stdout",
     "output_type": "stream",
     "text": [
      "METGL METGL h2o_c + met__L_c --> 2obut_c + ch4s_c + nh4_c\n"
     ]
    }
   ],
   "source": [
    "for reaction in model_OB3b_old.genes.CQW49_21030.reactions:\n",
    "    print(reaction.id, reaction.name, reaction.reaction)"
   ]
  },
  {
   "cell_type": "code",
   "execution_count": 44,
   "metadata": {
    "ExecuteTime": {
     "end_time": "2020-01-16T10:22:31.095671Z",
     "start_time": "2020-01-16T10:22:31.085471Z"
    }
   },
   "outputs": [
    {
     "data": {
      "text/html": [
       "\n",
       "        <table>\n",
       "            <tr>\n",
       "                <td><strong>Reaction identifier</strong></td><td>METGL</td>\n",
       "            </tr><tr>\n",
       "                <td><strong>Name</strong></td><td>METGL</td>\n",
       "            </tr><tr>\n",
       "                <td><strong>Memory address</strong></td>\n",
       "                <td>0x07fb2152c6668</td>\n",
       "            </tr><tr>\n",
       "                <td><strong>Stoichiometry</strong></td>\n",
       "                <td>\n",
       "                    <p style='text-align:right'>h2o_c + met__L_c --> 2obut_c + ch4s_c + nh4_c</p>\n",
       "                    <p style='text-align:right'>H2O + L-methionine zwitterion --> 2-oxobutanoate + Methanethiol CH4S + Ammonium</p>\n",
       "                </td>\n",
       "            </tr><tr>\n",
       "                <td><strong>GPR</strong></td><td>CQW49_21030</td>\n",
       "            </tr><tr>\n",
       "                <td><strong>Lower bound</strong></td><td>0.0</td>\n",
       "            </tr><tr>\n",
       "                <td><strong>Upper bound</strong></td><td>1000.0</td>\n",
       "            </tr>\n",
       "        </table>\n",
       "        "
      ],
      "text/plain": [
       "<Reaction METGL at 0x7fb2152c6668>"
      ]
     },
     "execution_count": 44,
     "metadata": {},
     "output_type": "execute_result"
    }
   ],
   "source": [
    "model_OB3b_old.reactions.METGL"
   ]
  },
  {
   "cell_type": "code",
   "execution_count": 45,
   "metadata": {
    "ExecuteTime": {
     "end_time": "2020-01-16T10:22:31.366451Z",
     "start_time": "2020-01-16T10:22:31.358242Z"
    }
   },
   "outputs": [
    {
     "data": {
      "text/html": [
       "\n",
       "        <table>\n",
       "            <tr>\n",
       "                <td><strong>Metabolite identifier</strong></td><td>met__L_c</td>\n",
       "            </tr><tr>\n",
       "                <td><strong>Name</strong></td><td>L-methionine zwitterion</td>\n",
       "            </tr><tr>\n",
       "                <td><strong>Memory address</strong></td>\n",
       "                <td>0x07fb20f5f0e48</td>\n",
       "            </tr><tr>\n",
       "                <td><strong>Formula</strong></td><td>C5H11NO2S</td>\n",
       "            </tr><tr>\n",
       "                <td><strong>Compartment</strong></td><td>c</td>\n",
       "            </tr><tr>\n",
       "                <td><strong>In 3 reaction(s)</strong></td><td>\n",
       "                    CPPPGO2, LIPOS, METSOXR2</td>\n",
       "            </tr>\n",
       "        </table>"
      ],
      "text/plain": [
       "<Metabolite met__L_c at 0x7fb20f5f0e48>"
      ]
     },
     "execution_count": 45,
     "metadata": {},
     "output_type": "execute_result"
    }
   ],
   "source": [
    "iMsOB3b.metabolites.met__L_c"
   ]
  },
  {
   "cell_type": "code",
   "execution_count": 46,
   "metadata": {
    "ExecuteTime": {
     "end_time": "2020-01-16T10:22:31.629762Z",
     "start_time": "2020-01-16T10:22:31.624905Z"
    }
   },
   "outputs": [
    {
     "data": {
      "text/html": [
       "\n",
       "        <table>\n",
       "            <tr>\n",
       "                <td><strong>Metabolite identifier</strong></td><td>2obut_c</td>\n",
       "            </tr><tr>\n",
       "                <td><strong>Name</strong></td><td>2_oxobutanoate</td>\n",
       "            </tr><tr>\n",
       "                <td><strong>Memory address</strong></td>\n",
       "                <td>0x07fb20fd93470</td>\n",
       "            </tr><tr>\n",
       "                <td><strong>Formula</strong></td><td>None</td>\n",
       "            </tr><tr>\n",
       "                <td><strong>Compartment</strong></td><td>c</td>\n",
       "            </tr><tr>\n",
       "                <td><strong>In 2 reaction(s)</strong></td><td>\n",
       "                    THRD_L, ACHBS</td>\n",
       "            </tr>\n",
       "        </table>"
      ],
      "text/plain": [
       "<Metabolite 2obut_c at 0x7fb20fd93470>"
      ]
     },
     "execution_count": 46,
     "metadata": {},
     "output_type": "execute_result"
    }
   ],
   "source": [
    "iMsOB3b.metabolites.get_by_id('2obut_c')"
   ]
  },
  {
   "cell_type": "code",
   "execution_count": 47,
   "metadata": {
    "ExecuteTime": {
     "end_time": "2020-01-16T10:22:31.922422Z",
     "start_time": "2020-01-16T10:22:31.911327Z"
    }
   },
   "outputs": [],
   "source": [
    "iMsOB3b.add_reaction(model_OB3b_old.reactions.METGL)"
   ]
  },
  {
   "cell_type": "markdown",
   "metadata": {},
   "source": [
    "CQW49_21250 -->\n",
    "<br> too broad definition --> https://www.genome.jp/dbget-bin/www_bget?ec:4.2.1.17"
   ]
  },
  {
   "cell_type": "code",
   "execution_count": 48,
   "metadata": {
    "ExecuteTime": {
     "end_time": "2020-01-16T10:22:33.548990Z",
     "start_time": "2020-01-16T10:22:33.543293Z"
    }
   },
   "outputs": [
    {
     "name": "stdout",
     "output_type": "stream",
     "text": [
      "ECOAH2 3-hydroxyacyl-CoA dehydratase (3-hydroxyhexanoyl-CoA) 3hhcoa_c <=> h2o_c + hx2coa_c\n",
      "ECOAH7 3-hydroxyacyl-CoA dehydratase (3-hydroxyhexadecanoyl-CoA) 3hhdcoa_c <=> h2o_c + hdd2coa_c\n",
      "ECOAH3 3-hydroxyacyl-CoA dehydratase (3-hydroxyoctanoyl-CoA) 3hocoa_c <=> h2o_c + oc2coa_c\n",
      "DHACOAH 2,3-dehydroadipyl-CoA hydratase 23dhacoa_c + h2o_c <=> 3hadpcoa_c\n",
      "ECOAH6 3-hydroxyacyl-CoA dehydratase (3-hydroxytetradecanoyl-CoA) 3htdcoa_c <=> h2o_c + td2coa_c\n",
      "ECOAH5 3-hydroxyacyl-CoA dehydratase (3-hydroxydodecanoyl-CoA) 3hddcoa_c <=> dd2coa_c + h2o_c\n",
      "ECOAH4 3-hydroxyacyl-CoA dehydratase (3-hydroxydecanoyl-CoA) 3hdcoa_c <=> dc2coa_c + h2o_c\n"
     ]
    }
   ],
   "source": [
    "for reaction in model_OB3b_old.genes.CQW49_21250.reactions:\n",
    "    print(reaction.id, reaction.name, reaction.reaction)"
   ]
  },
  {
   "cell_type": "markdown",
   "metadata": {},
   "source": [
    "CQW49_21325 and CQW49_21330 and CQW49_21335"
   ]
  },
  {
   "cell_type": "code",
   "execution_count": 49,
   "metadata": {
    "ExecuteTime": {
     "end_time": "2020-01-16T10:22:34.762475Z",
     "start_time": "2020-01-16T10:22:34.754721Z"
    }
   },
   "outputs": [
    {
     "name": "stdout",
     "output_type": "stream",
     "text": [
      "UREA Urease h2o_c + 2.0 h_c + urea_c --> co2_c + 2.0 nh4_c\n"
     ]
    }
   ],
   "source": [
    "for reaction in model_OB3b_old.genes.CQW49_21325.reactions:\n",
    "    print(reaction.id, reaction.name, reaction.reaction)"
   ]
  },
  {
   "cell_type": "code",
   "execution_count": 50,
   "metadata": {
    "ExecuteTime": {
     "end_time": "2020-01-16T10:22:35.043665Z",
     "start_time": "2020-01-16T10:22:35.035629Z"
    }
   },
   "outputs": [
    {
     "name": "stdout",
     "output_type": "stream",
     "text": [
      "UREA Urease h2o_c + 2.0 h_c + urea_c --> co2_c + 2.0 nh4_c\n"
     ]
    }
   ],
   "source": [
    "for reaction in model_OB3b_old.genes.CQW49_21330.reactions:\n",
    "    print(reaction.id, reaction.name, reaction.reaction)"
   ]
  },
  {
   "cell_type": "code",
   "execution_count": 51,
   "metadata": {
    "ExecuteTime": {
     "end_time": "2020-01-16T10:22:35.346990Z",
     "start_time": "2020-01-16T10:22:35.337405Z"
    }
   },
   "outputs": [
    {
     "name": "stdout",
     "output_type": "stream",
     "text": [
      "UREA Urease h2o_c + 2.0 h_c + urea_c --> co2_c + 2.0 nh4_c\n"
     ]
    }
   ],
   "source": [
    "for reaction in model_OB3b_old.genes.CQW49_21335.reactions:\n",
    "    print(reaction.id, reaction.name, reaction.reaction)"
   ]
  },
  {
   "cell_type": "code",
   "execution_count": 52,
   "metadata": {
    "ExecuteTime": {
     "end_time": "2020-01-16T10:22:35.584244Z",
     "start_time": "2020-01-16T10:22:35.575362Z"
    }
   },
   "outputs": [],
   "source": [
    "import re\n",
    "for reaction in iMsOB3b.reactions:\n",
    "    if re.search(\"urea\", reaction.name, re.IGNORECASE):\n",
    "        print(reaction.id, reaction.name)"
   ]
  },
  {
   "cell_type": "code",
   "execution_count": 53,
   "metadata": {
    "ExecuteTime": {
     "end_time": "2020-01-16T10:22:35.866254Z",
     "start_time": "2020-01-16T10:22:35.844187Z"
    }
   },
   "outputs": [],
   "source": [
    "iMsOB3b.add_reaction(model_OB3b_old.reactions.UREA)"
   ]
  },
  {
   "cell_type": "code",
   "execution_count": 54,
   "metadata": {
    "ExecuteTime": {
     "end_time": "2020-01-16T10:22:36.885488Z",
     "start_time": "2020-01-16T10:22:36.879513Z"
    }
   },
   "outputs": [],
   "source": [
    "iMsOB3b.reactions.UREA.gene_reaction_rule = 'CQW49_21325 and CQW49_21330 and CQW49_21335'"
   ]
  },
  {
   "cell_type": "markdown",
   "metadata": {},
   "source": [
    "CQW49_21545\n",
    "<br> unclear enzyme function --> https://www.genome.jp/dbget-bin/www_bget?mtw:CQW49_21545"
   ]
  },
  {
   "cell_type": "code",
   "execution_count": 55,
   "metadata": {
    "ExecuteTime": {
     "end_time": "2020-01-16T10:22:37.368342Z",
     "start_time": "2020-01-16T10:22:37.363011Z"
    }
   },
   "outputs": [
    {
     "name": "stdout",
     "output_type": "stream",
     "text": [
      "ACPS1 Acyl-carrier protein synthase apoACP_c + coa_c --> ACP_c + h_c + pap_c\n"
     ]
    }
   ],
   "source": [
    "for reaction in model_OB3b_old.genes.CQW49_21545.reactions:\n",
    "    print(reaction.id, reaction.name, reaction.reaction)"
   ]
  },
  {
   "cell_type": "markdown",
   "metadata": {},
   "source": [
    "CQW49_21585"
   ]
  },
  {
   "cell_type": "code",
   "execution_count": 56,
   "metadata": {
    "ExecuteTime": {
     "end_time": "2020-01-16T10:22:37.760933Z",
     "start_time": "2020-01-16T10:22:37.755675Z"
    }
   },
   "outputs": [
    {
     "name": "stdout",
     "output_type": "stream",
     "text": [
      "NICRNS NICRNS atp_c + nicrns_c --> adp_c + h_c + nicrnt_c\n",
      "NMNHYD Nicotinamide ribonucleotide phosphohydrolase h2o_c + nmn_c --> pi_c + rnam_c\n"
     ]
    }
   ],
   "source": [
    "for reaction in model_OB3b_old.genes.CQW49_21585.reactions:\n",
    "    print(reaction.id, reaction.name, reaction.reaction)"
   ]
  },
  {
   "cell_type": "markdown",
   "metadata": {},
   "source": [
    "CQW49_21985"
   ]
  },
  {
   "cell_type": "code",
   "execution_count": 57,
   "metadata": {
    "ExecuteTime": {
     "end_time": "2020-01-16T10:22:38.338138Z",
     "start_time": "2020-01-16T10:22:38.331579Z"
    }
   },
   "outputs": [
    {
     "name": "stdout",
     "output_type": "stream",
     "text": [
      "SCYSDS SUF Cysteine desulfuration cys__L_c + sufse_c --> ala__L_c + sufsesh_c\n",
      "S2FE2SR SUF [2Fe-2S] regeneration 2fe1s_c + atp_c + h2o_c + sufbcd_c + sufsesh_c --> adp_c + 5.0 h_c + pi_c + sufbcd_2fe2s_c + sufse_c\n"
     ]
    }
   ],
   "source": [
    "for reaction in model_OB3b_old.genes.CQW49_21985.reactions:\n",
    "    print(reaction.id, reaction.name, reaction.reaction)"
   ]
  },
  {
   "cell_type": "code",
   "execution_count": 58,
   "metadata": {
    "ExecuteTime": {
     "end_time": "2020-01-16T10:22:38.567389Z",
     "start_time": "2020-01-16T10:22:38.562009Z"
    }
   },
   "outputs": [],
   "source": [
    "iMsOB3b.add_reaction(model_OB3b_old.reactions.SCYSDS)"
   ]
  },
  {
   "cell_type": "markdown",
   "metadata": {},
   "source": [
    "CQW49_22035"
   ]
  },
  {
   "cell_type": "code",
   "execution_count": 59,
   "metadata": {
    "ExecuteTime": {
     "end_time": "2020-01-16T10:22:40.038649Z",
     "start_time": "2020-01-16T10:22:40.033109Z"
    }
   },
   "outputs": [
    {
     "name": "stdout",
     "output_type": "stream",
     "text": [
      "MOCDS Molybdopterin cytidine dinucleotide synthase ctp_c + h_c + moco_c --> mococdp_c + ppi_c\n",
      "XAND Xanthine dehydrogenase h2o_c + nad_c + xan_c --> h_c + nadh_c + urate_c\n",
      "HXAND Hypoxanthine dehydrogenase h2o_c + hxan_c + nad_c --> h_c + nadh_c + xan_c\n"
     ]
    }
   ],
   "source": [
    "for reaction in model_OB3b_old.genes.CQW49_22035.reactions:\n",
    "    print(reaction.id, reaction.name, reaction.reaction)"
   ]
  },
  {
   "cell_type": "code",
   "execution_count": 60,
   "metadata": {
    "ExecuteTime": {
     "end_time": "2020-01-16T10:22:40.340698Z",
     "start_time": "2020-01-16T10:22:40.336097Z"
    }
   },
   "outputs": [
    {
     "data": {
      "text/html": [
       "\n",
       "        <table>\n",
       "            <tr>\n",
       "                <td><strong>Reaction identifier</strong></td><td>MOCDS</td>\n",
       "            </tr><tr>\n",
       "                <td><strong>Name</strong></td><td>Molybdopterin cytidine dinucleotide synthase</td>\n",
       "            </tr><tr>\n",
       "                <td><strong>Memory address</strong></td>\n",
       "                <td>0x07fb215574e48</td>\n",
       "            </tr><tr>\n",
       "                <td><strong>Stoichiometry</strong></td>\n",
       "                <td>\n",
       "                    <p style='text-align:right'>ctp_c + h_c + moco_c --> mococdp_c + ppi_c</p>\n",
       "                    <p style='text-align:right'>CTP(3-) + H(+) + Molybdenum cofactor --> Molybdopterin cytosine dinucleotide + diphosphate(3-)</p>\n",
       "                </td>\n",
       "            </tr><tr>\n",
       "                <td><strong>GPR</strong></td><td>CQW49_22035</td>\n",
       "            </tr><tr>\n",
       "                <td><strong>Lower bound</strong></td><td>0.0</td>\n",
       "            </tr><tr>\n",
       "                <td><strong>Upper bound</strong></td><td>1000.0</td>\n",
       "            </tr>\n",
       "        </table>\n",
       "        "
      ],
      "text/plain": [
       "<Reaction MOCDS at 0x7fb215574e48>"
      ]
     },
     "execution_count": 60,
     "metadata": {},
     "output_type": "execute_result"
    }
   ],
   "source": [
    "model_OB3b_old.reactions.MOCDS"
   ]
  },
  {
   "cell_type": "code",
   "execution_count": 61,
   "metadata": {
    "ExecuteTime": {
     "end_time": "2020-01-16T10:22:40.552227Z",
     "start_time": "2020-01-16T10:22:40.548080Z"
    }
   },
   "outputs": [
    {
     "data": {
      "text/html": [
       "\n",
       "        <table>\n",
       "            <tr>\n",
       "                <td><strong>Metabolite identifier</strong></td><td>moco_c</td>\n",
       "            </tr><tr>\n",
       "                <td><strong>Name</strong></td><td>molybdenum_cofactor</td>\n",
       "            </tr><tr>\n",
       "                <td><strong>Memory address</strong></td>\n",
       "                <td>0x07fb210479320</td>\n",
       "            </tr><tr>\n",
       "                <td><strong>Formula</strong></td><td>None</td>\n",
       "            </tr><tr>\n",
       "                <td><strong>Compartment</strong></td><td>c</td>\n",
       "            </tr><tr>\n",
       "                <td><strong>In 2 reaction(s)</strong></td><td>\n",
       "                    MOBDMPTL, MOGDS</td>\n",
       "            </tr>\n",
       "        </table>"
      ],
      "text/plain": [
       "<Metabolite moco_c at 0x7fb210479320>"
      ]
     },
     "execution_count": 61,
     "metadata": {},
     "output_type": "execute_result"
    }
   ],
   "source": [
    "iMsOB3b.metabolites.moco_c"
   ]
  },
  {
   "cell_type": "code",
   "execution_count": 62,
   "metadata": {
    "ExecuteTime": {
     "end_time": "2020-01-16T10:22:40.792618Z",
     "start_time": "2020-01-16T10:22:40.788478Z"
    }
   },
   "outputs": [
    {
     "data": {
      "text/html": [
       "\n",
       "        <table>\n",
       "            <tr>\n",
       "                <td><strong>Reaction identifier</strong></td><td>MOGDS</td>\n",
       "            </tr><tr>\n",
       "                <td><strong>Name</strong></td><td>molybdopterin guanine dinucleotide synthase</td>\n",
       "            </tr><tr>\n",
       "                <td><strong>Memory address</strong></td>\n",
       "                <td>0x07fb207a9b470</td>\n",
       "            </tr><tr>\n",
       "                <td><strong>Stoichiometry</strong></td>\n",
       "                <td>\n",
       "                    <p style='text-align:right'>gtp_c + h_c + moco_c <=> mocogdp_c + ppi_c</p>\n",
       "                    <p style='text-align:right'>GTP + H_ + molybdenum_cofactor <=> molybdopterin_guanine_dinucleotide + diphosphate</p>\n",
       "                </td>\n",
       "            </tr><tr>\n",
       "                <td><strong>GPR</strong></td><td>META1_3049 or (CQW49_12160 and META1_0772)</td>\n",
       "            </tr><tr>\n",
       "                <td><strong>Lower bound</strong></td><td>-1000.0</td>\n",
       "            </tr><tr>\n",
       "                <td><strong>Upper bound</strong></td><td>1000.0</td>\n",
       "            </tr>\n",
       "        </table>\n",
       "        "
      ],
      "text/plain": [
       "<Reaction MOGDS at 0x7fb207a9b470>"
      ]
     },
     "execution_count": 62,
     "metadata": {},
     "output_type": "execute_result"
    }
   ],
   "source": [
    "iMsOB3b.reactions.MOGDS"
   ]
  },
  {
   "cell_type": "code",
   "execution_count": 63,
   "metadata": {
    "ExecuteTime": {
     "end_time": "2020-01-16T10:22:42.391863Z",
     "start_time": "2020-01-16T10:22:42.387880Z"
    }
   },
   "outputs": [
    {
     "data": {
      "text/html": [
       "\n",
       "        <table>\n",
       "            <tr>\n",
       "                <td><strong>Reaction identifier</strong></td><td>MOBDMPTL</td>\n",
       "            </tr><tr>\n",
       "                <td><strong>Name</strong></td><td>molybdenum  molybdopterin ligase</td>\n",
       "            </tr><tr>\n",
       "                <td><strong>Memory address</strong></td>\n",
       "                <td>0x07fb207603780</td>\n",
       "            </tr><tr>\n",
       "                <td><strong>Stoichiometry</strong></td>\n",
       "                <td>\n",
       "                    <p style='text-align:right'>h_c + mobd_c + mptamp_c --> amp_c + h2o_c + moco_c</p>\n",
       "                    <p style='text-align:right'>H_ + molybdate + molybdopterin_AMP --> AMP + H2O + molybdenum_cofactor</p>\n",
       "                </td>\n",
       "            </tr><tr>\n",
       "                <td><strong>GPR</strong></td><td>CQW49_20165</td>\n",
       "            </tr><tr>\n",
       "                <td><strong>Lower bound</strong></td><td>0.0</td>\n",
       "            </tr><tr>\n",
       "                <td><strong>Upper bound</strong></td><td>1000.0</td>\n",
       "            </tr>\n",
       "        </table>\n",
       "        "
      ],
      "text/plain": [
       "<Reaction MOBDMPTL at 0x7fb207603780>"
      ]
     },
     "execution_count": 63,
     "metadata": {},
     "output_type": "execute_result"
    }
   ],
   "source": [
    "iMsOB3b.reactions.MOBDMPTL"
   ]
  },
  {
   "cell_type": "code",
   "execution_count": 64,
   "metadata": {
    "ExecuteTime": {
     "end_time": "2020-01-16T10:22:42.647592Z",
     "start_time": "2020-01-16T10:22:42.632575Z"
    }
   },
   "outputs": [],
   "source": [
    "iMsOB3b.add_reaction(model_OB3b_old.reactions.MOCDS)"
   ]
  },
  {
   "cell_type": "markdown",
   "metadata": {},
   "source": [
    "CQW49_22875"
   ]
  },
  {
   "cell_type": "code",
   "execution_count": 65,
   "metadata": {
    "ExecuteTime": {
     "end_time": "2020-01-16T10:22:44.014137Z",
     "start_time": "2020-01-16T10:22:44.009772Z"
    }
   },
   "outputs": [
    {
     "name": "stdout",
     "output_type": "stream",
     "text": [
      "SUCDH_q8_pp succinate dehydrogenase q8_im + succ_c <=> fum_c + q8h2_im\n"
     ]
    }
   ],
   "source": [
    "for reaction in model_OB3b_old.genes.CQW49_22875.reactions:\n",
    "    print(reaction.id, reaction.name, reaction.reaction)"
   ]
  },
  {
   "cell_type": "code",
   "execution_count": 66,
   "metadata": {
    "ExecuteTime": {
     "end_time": "2020-01-16T10:22:44.509192Z",
     "start_time": "2020-01-16T10:22:44.505277Z"
    }
   },
   "outputs": [
    {
     "data": {
      "text/html": [
       "\n",
       "        <table>\n",
       "            <tr>\n",
       "                <td><strong>Reaction identifier</strong></td><td>SUCCD1</td>\n",
       "            </tr><tr>\n",
       "                <td><strong>Name</strong></td><td>succinate dehydrogenase</td>\n",
       "            </tr><tr>\n",
       "                <td><strong>Memory address</strong></td>\n",
       "                <td>0x07fb207acbb38</td>\n",
       "            </tr><tr>\n",
       "                <td><strong>Stoichiometry</strong></td>\n",
       "                <td>\n",
       "                    <p style='text-align:right'>q_c + succ_c <=> fum_c + qh2_c</p>\n",
       "                    <p style='text-align:right'>UQ + succinate <=> fumarate + UQH2</p>\n",
       "                </td>\n",
       "            </tr><tr>\n",
       "                <td><strong>GPR</strong></td><td>CQW49_22885 and CQW49_10810 and (CQW49_10825 or CQW49_22875) and CQW49_10800</td>\n",
       "            </tr><tr>\n",
       "                <td><strong>Lower bound</strong></td><td>-1000.0</td>\n",
       "            </tr><tr>\n",
       "                <td><strong>Upper bound</strong></td><td>1000.0</td>\n",
       "            </tr>\n",
       "        </table>\n",
       "        "
      ],
      "text/plain": [
       "<Reaction SUCCD1 at 0x7fb207acbb38>"
      ]
     },
     "execution_count": 66,
     "metadata": {},
     "output_type": "execute_result"
    }
   ],
   "source": [
    "iMsOB3b.reactions.SUCCD1"
   ]
  },
  {
   "cell_type": "markdown",
   "metadata": {},
   "source": [
    "CQW49_22910"
   ]
  },
  {
   "cell_type": "code",
   "execution_count": 67,
   "metadata": {
    "ExecuteTime": {
     "end_time": "2020-01-16T10:22:46.400551Z",
     "start_time": "2020-01-16T10:22:46.396167Z"
    }
   },
   "outputs": [
    {
     "name": "stdout",
     "output_type": "stream",
     "text": [
      "MCITD 2-methylcitrate dehydratase 2mcit_c --> 2mcacn_c + h2o_c\n"
     ]
    }
   ],
   "source": [
    "for reaction in model_OB3b_old.genes.CQW49_22910.reactions:\n",
    "    print(reaction.id, reaction.name, reaction.reaction)"
   ]
  },
  {
   "cell_type": "code",
   "execution_count": 68,
   "metadata": {
    "ExecuteTime": {
     "end_time": "2020-01-16T10:22:46.909261Z",
     "start_time": "2020-01-16T10:22:46.897808Z"
    }
   },
   "outputs": [],
   "source": [
    "iMsOB3b.add_reaction(model_OB3b_old.reactions.MCITD)"
   ]
  },
  {
   "cell_type": "markdown",
   "metadata": {},
   "source": [
    "CQW49_22935\n",
    "<br> https://www.genome.jp/dbget-bin/www_bget?mtw:CQW49_22935"
   ]
  },
  {
   "cell_type": "code",
   "execution_count": 69,
   "metadata": {
    "ExecuteTime": {
     "end_time": "2020-01-16T10:22:48.393786Z",
     "start_time": "2020-01-16T10:22:48.389986Z"
    }
   },
   "outputs": [],
   "source": [
    "for reaction in model_OB3b_old.genes.CQW49_22935.reactions:\n",
    "    print(reaction.id, reaction.name, reaction.reaction)"
   ]
  },
  {
   "cell_type": "code",
   "execution_count": 70,
   "metadata": {
    "ExecuteTime": {
     "end_time": "2020-01-16T10:22:49.070488Z",
     "start_time": "2020-01-16T10:22:49.057254Z"
    }
   },
   "outputs": [
    {
     "name": "stdout",
     "output_type": "stream",
     "text": [
      "NTRIR4 ferredoxin  nitrite reductase\n",
      "NODOy nitric oxide dioxygenase\n",
      "EX_no2_e nitrite exchange\n",
      "NO2tex nitrite transport via diffusion (extracellular to periplasm)\n",
      "NO3t7pp Nitrate transport in via nitrite antiport (periplasm)\n",
      "NITR_NOpp Nitrite reductase (cytochrome; NO-forming)\n",
      "NITR_AMpp Nitrite reductase (cytochrome; ammonia-forming)\n",
      "NTRIR2x Nitrite Reductase (NADH)\n",
      "NORZ2pp Nitric oxide reductase (cytochrome c)\n"
     ]
    }
   ],
   "source": [
    "import re\n",
    "for reaction in iMsOB3b.reactions:\n",
    "    if re.search(\"nitri\", reaction.name, re.IGNORECASE):\n",
    "        print(reaction.id, reaction.name)"
   ]
  },
  {
   "cell_type": "code",
   "execution_count": 71,
   "metadata": {
    "ExecuteTime": {
     "end_time": "2020-01-16T10:22:49.324684Z",
     "start_time": "2020-01-16T10:22:49.320788Z"
    }
   },
   "outputs": [],
   "source": [
    "iMsOB3b.reactions.NORZ2pp.gene_reaction_rule = 'CQW49_22935'"
   ]
  },
  {
   "cell_type": "markdown",
   "metadata": {},
   "source": [
    "CQW49_23115\n",
    "<br> too broad definition in the KEGG https://www.genome.jp/dbget-bin/www_bget?mtw:CQW49_23115"
   ]
  },
  {
   "cell_type": "code",
   "execution_count": 72,
   "metadata": {
    "ExecuteTime": {
     "end_time": "2020-01-16T10:22:51.087061Z",
     "start_time": "2020-01-16T10:22:51.082951Z"
    }
   },
   "outputs": [],
   "source": [
    "for reaction in model_OB3b_old.genes.CQW49_23115.reactions:\n",
    "    print(reaction.id, reaction.name, reaction.reaction)"
   ]
  },
  {
   "cell_type": "code",
   "execution_count": 73,
   "metadata": {
    "ExecuteTime": {
     "end_time": "2020-01-16T10:22:51.349272Z",
     "start_time": "2020-01-16T10:22:51.335706Z"
    }
   },
   "outputs": [
    {
     "name": "stdout",
     "output_type": "stream",
     "text": [
      "GTHS glutathione synthetase\n",
      "LGTHL lactoylglutathione lyase\n",
      "GTHPp glutathione peroxidase  periplasmic \n",
      "GTHOr glutathione reductase\n",
      "GLYOX S lactoylglutathione hydrolase\n",
      "GTHRDHpp Glutathione hydralase (periplasmic)\n"
     ]
    }
   ],
   "source": [
    "import re\n",
    "for reaction in iMsOB3b.reactions:\n",
    "    if re.search(\"glutath\", reaction.name, re.IGNORECASE):\n",
    "        print(reaction.id, reaction.name)"
   ]
  },
  {
   "cell_type": "markdown",
   "metadata": {},
   "source": [
    "CQW49_23740\n",
    "<br> too broad definition"
   ]
  },
  {
   "cell_type": "code",
   "execution_count": 74,
   "metadata": {
    "ExecuteTime": {
     "end_time": "2020-01-16T10:22:53.106320Z",
     "start_time": "2020-01-16T10:22:53.083543Z"
    }
   },
   "outputs": [
    {
     "name": "stdout",
     "output_type": "stream",
     "text": [
      "KAS2 B-ketoacyl synthetase (n-C14:0) accoa_c + 17.0 h_c + 6.0 malcoa_c + 12.0 nadph_c --> 6.0 co2_c + 7.0 coa_c + 5.0 h2o_c + 12.0 nadp_c + ttdca_c\n",
      "KAS13 B-ketoacyl synthetase (octadecanoate) accoa_c + 23.0 h_c + 8.0 malcoa_c + 16.0 nadph_c --> 8.0 co2_c + 9.0 coa_c + 7.0 h2o_c + 16.0 nadp_c + ocdca_c\n",
      "KAS16 3-hydroxy-myristoyl-ACP synthesis ddcaACP_c + 2.0 h_c + malACP_c + nadph_c --> 3hmrsACP_c + ACP_c + co2_c + nadp_c\n",
      "KAS8 B-ketoacyl synthetase (palmitate, n-C16:0) accoa_c + 20.0 h_c + 7.0 malcoa_c + 14.0 nadph_c --> 7.0 co2_c + 8.0 coa_c + 6.0 h2o_c + hdca_c + 14.0 nadp_c\n",
      "KAS7 B-ketoacyl synthetase (n-C16:1) accoa_c + 19.0 h_c + 7.0 malcoa_c + 13.0 nadph_c --> 7.0 co2_c + 8.0 coa_c + 6.0 h2o_c + hdcea_c + 13.0 nadp_c\n",
      "KAS17 B-ketoacyl synthetase (n-C18:1) accoa_c + 22.0 h_c + 8.0 malcoa_c + 15.0 nadph_c --> 8.0 co2_c + 9.0 coa_c + 7.0 h2o_c + 15.0 nadp_c + ocdcea_c\n"
     ]
    }
   ],
   "source": [
    "for reaction in model_OB3b_old.genes.CQW49_23740.reactions:\n",
    "    print(reaction.id, reaction.name, reaction.reaction)"
   ]
  },
  {
   "cell_type": "markdown",
   "metadata": {
    "ExecuteTime": {
     "end_time": "2020-01-16T10:23:28.605116Z",
     "start_time": "2020-01-16T10:23:28.597207Z"
    }
   },
   "source": [
    "CQW49_23910"
   ]
  },
  {
   "cell_type": "code",
   "execution_count": 76,
   "metadata": {
    "ExecuteTime": {
     "end_time": "2020-01-16T10:34:34.423580Z",
     "start_time": "2020-01-16T10:34:34.414893Z"
    }
   },
   "outputs": [
    {
     "name": "stdout",
     "output_type": "stream",
     "text": [
      "NMNS NMN synthetase h_c + ncam_c + prpp_c --> nmn_c + ppi_c\n"
     ]
    }
   ],
   "source": [
    "for reaction in model_OB3b_old.genes.CQW49_23910.reactions:\n",
    "    print(reaction.id, reaction.name, reaction.reaction)"
   ]
  },
  {
   "cell_type": "code",
   "execution_count": 77,
   "metadata": {
    "ExecuteTime": {
     "end_time": "2020-01-16T10:34:50.540520Z",
     "start_time": "2020-01-16T10:34:50.535917Z"
    }
   },
   "outputs": [
    {
     "data": {
      "text/html": [
       "\n",
       "        <table>\n",
       "            <tr>\n",
       "                <td><strong>Reaction identifier</strong></td><td>NMNS</td>\n",
       "            </tr><tr>\n",
       "                <td><strong>Name</strong></td><td>NMN synthetase</td>\n",
       "            </tr><tr>\n",
       "                <td><strong>Memory address</strong></td>\n",
       "                <td>0x07fb21527ef28</td>\n",
       "            </tr><tr>\n",
       "                <td><strong>Stoichiometry</strong></td>\n",
       "                <td>\n",
       "                    <p style='text-align:right'>h_c + ncam_c + prpp_c --> nmn_c + ppi_c</p>\n",
       "                    <p style='text-align:right'>H(+) + nicotinamide + 5-phosphoribosyl diphosphate --> beta-nicotinamide D-ribonucleotide + diphosphate(3-)</p>\n",
       "                </td>\n",
       "            </tr><tr>\n",
       "                <td><strong>GPR</strong></td><td>CQW49_23910</td>\n",
       "            </tr><tr>\n",
       "                <td><strong>Lower bound</strong></td><td>0.0</td>\n",
       "            </tr><tr>\n",
       "                <td><strong>Upper bound</strong></td><td>1000.0</td>\n",
       "            </tr>\n",
       "        </table>\n",
       "        "
      ],
      "text/plain": [
       "<Reaction NMNS at 0x7fb21527ef28>"
      ]
     },
     "execution_count": 77,
     "metadata": {},
     "output_type": "execute_result"
    }
   ],
   "source": [
    "model_OB3b_old.reactions.NMNS"
   ]
  },
  {
   "cell_type": "code",
   "execution_count": 78,
   "metadata": {
    "ExecuteTime": {
     "end_time": "2020-01-16T10:37:26.328029Z",
     "start_time": "2020-01-16T10:37:26.309589Z"
    }
   },
   "outputs": [],
   "source": [
    "iMsOB3b.add_reaction(model_OB3b_old.reactions.NMNS)"
   ]
  },
  {
   "cell_type": "markdown",
   "metadata": {},
   "source": [
    "Save model again:"
   ]
  },
  {
   "cell_type": "code",
   "execution_count": 79,
   "metadata": {
    "ExecuteTime": {
     "end_time": "2020-01-16T10:38:51.508899Z",
     "start_time": "2020-01-16T10:38:51.313191Z"
    }
   },
   "outputs": [],
   "source": [
    "cobra.io.save_json_model(iMsOB3b, memote_directory + draft_gems_dir_8 + \"bigg_OB3b_16_01_2020.json\")"
   ]
  },
  {
   "cell_type": "markdown",
   "metadata": {
    "ExecuteTime": {
     "end_time": "2020-01-16T10:42:34.870689Z",
     "start_time": "2020-01-16T10:42:34.854080Z"
    }
   },
   "source": [
    "CQW49_00915"
   ]
  },
  {
   "cell_type": "code",
   "execution_count": 89,
   "metadata": {
    "ExecuteTime": {
     "end_time": "2020-01-16T10:44:02.646625Z",
     "start_time": "2020-01-16T10:44:02.628378Z"
    }
   },
   "outputs": [
    {
     "name": "stdout",
     "output_type": "stream",
     "text": [
      "MOBDMPTL molybdenum__molybdopterin_ligase h_c + mobd_c + mptamp_c --> amp_c + h2o_c + moco_c\n",
      "MOBDabcpp molybdate_ABC_transporter atp_c + h2o_c + mobd_p --> adp_c + h_c + mobd_c + pi_c\n",
      "MOGDS molybdopterin_guanine_dinucleotide_synthase gtp_c + h_c + moco_c <=> mocogdp_c + ppi_c\n",
      "EX_mobd_e_ exchange_flux___molybdate mobd_e <=> \n",
      "MOBDtex molybdate_transport_via_diffusion__extracellular_to_periplasm_ mobd_e <=> mobd_p\n",
      "MPTAT molybdopterin_adenylyltransferase atp_c + h_c + mpt_c --> mptamp_c + ppi_c\n",
      "MPTSA molybdopterin_synthase_activations Ssact_c + mptS_c --> 2.0 h_c + mptSs_c + uSsact_c\n",
      "MPTSS molybdopterin_synthase_sulfurylase 2.0 mptSs_c + precZ_c --> 2.0 mptS_c + mpt_c\n",
      "MPTSP molybderin_biosynthesis_protein gtp_c + h2o_c --> 2.0 h_c + ppi_c + precZ_c\n"
     ]
    }
   ],
   "source": [
    "import re\n",
    "for reaction in model_AM1.reactions:\n",
    "    if re.search(\"molyb\", reaction.name, re.IGNORECASE):\n",
    "        print(reaction.id, reaction.name, reaction.reaction)"
   ]
  },
  {
   "cell_type": "code",
   "execution_count": 93,
   "metadata": {
    "ExecuteTime": {
     "end_time": "2020-01-16T10:47:07.695042Z",
     "start_time": "2020-01-16T10:47:07.691944Z"
    }
   },
   "outputs": [],
   "source": [
    "iMsOB3b.reactions.MOGDS.gene_reaction_rule = 'CQW49_12160 or CQW49_00915'"
   ]
  },
  {
   "cell_type": "markdown",
   "metadata": {},
   "source": [
    "CQW49_13350 and CQW49_13355"
   ]
  },
  {
   "cell_type": "code",
   "execution_count": 94,
   "metadata": {
    "ExecuteTime": {
     "end_time": "2020-01-16T10:48:21.186439Z",
     "start_time": "2020-01-16T10:48:21.170290Z"
    }
   },
   "outputs": [
    {
     "name": "stdout",
     "output_type": "stream",
     "text": [
      "DALAOX glycine_oxidase_2 ala_D_c + h2o_c + o2_c --> h2o2_c + nh4_c + pyr_c\n",
      "PRFGS phosphoribosylformylglycinamide_synthetase atp_c + fgam_c + gln_L_c + h2o_c --> adp_c + fpram_c + glu_L_c + h_c + pi_c\n",
      "GLYAMDTRc glycine_amidinotransferase arg_L_c + gly_c --> gudac_c + orn_c\n",
      "GLYTRS glycine_tRNA_synthetase atp_c + gly_c + trnagly_c --> amp_c + glytrna_c + ppi_c\n",
      "GCCa glycine_decarboxylase Gcvpll_c + gly_c --> co2_c + pSamdhll_c\n",
      "GLYCOX3 glycine_oxidase_3 h2o_c + o2_c + sarcs_c --> glx_c + h2o2_c + mma_c\n",
      "GLYCOX4 glycine_oxidase_4 etgly_c + h2o_c + o2_c --> ethlam_c + glx_c + h2o2_c\n",
      "GLYCOX5 glycine_oxidase_5 gly_c + o2_c --> h2o2_c + imgly_c\n",
      "GARFT phosphoribosylglycinamide_formyltransferase 10fthf_c + gar_c <=> fgam_c + h_c + thf_c\n",
      "PRAGSr phosphoribosylglycinamide_synthetase atp_c + gly_c + pram_c <=> adp_c + gar_c + h_c + pi_c\n",
      "GLYO1 glycine_oxidase_1 gly_c + h2o_c + o2_c --> glx_c + h2o2_c + nh4_c\n"
     ]
    }
   ],
   "source": [
    "import re\n",
    "for reaction in model_AM1.reactions:\n",
    "    if re.search(\"glycin\", reaction.name, re.IGNORECASE):\n",
    "        print(reaction.id, reaction.name, reaction.reaction)"
   ]
  },
  {
   "cell_type": "code",
   "execution_count": 97,
   "metadata": {
    "ExecuteTime": {
     "end_time": "2020-01-16T10:49:29.388229Z",
     "start_time": "2020-01-16T10:49:29.385361Z"
    }
   },
   "outputs": [],
   "source": [
    "model_AM1.reactions.GCCa.gene_reaction_rule = 'CQW49_13350 and CQW49_13355'"
   ]
  },
  {
   "cell_type": "markdown",
   "metadata": {},
   "source": [
    "CQW49_01205"
   ]
  },
  {
   "cell_type": "code",
   "execution_count": 100,
   "metadata": {
    "ExecuteTime": {
     "end_time": "2020-01-16T10:51:31.192516Z",
     "start_time": "2020-01-16T10:51:31.181825Z"
    }
   },
   "outputs": [
    {
     "name": "stdout",
     "output_type": "stream",
     "text": [
      "DHCYTCPEROX di_haem_cytochrome_c_peroxidase 2.0 focytc_c + h2o2_p + 2.0 h_c --> 2.0 ficytc_c + 2.0 h2o_p\n"
     ]
    }
   ],
   "source": [
    "import re\n",
    "for reaction in model_AM1.reactions:\n",
    "    if re.search(\"di_haem\", reaction.name, re.IGNORECASE):\n",
    "        print(reaction.id, reaction.name, reaction.reaction)"
   ]
  },
  {
   "cell_type": "code",
   "execution_count": 102,
   "metadata": {
    "ExecuteTime": {
     "end_time": "2020-01-16T10:53:26.693858Z",
     "start_time": "2020-01-16T10:53:26.667670Z"
    }
   },
   "outputs": [],
   "source": [
    "iMsOB3b.add_reaction(model_AM1.reactions.DHCYTCPEROX)"
   ]
  },
  {
   "cell_type": "code",
   "execution_count": 106,
   "metadata": {
    "ExecuteTime": {
     "end_time": "2020-01-16T10:54:26.299662Z",
     "start_time": "2020-01-16T10:54:26.296799Z"
    }
   },
   "outputs": [],
   "source": [
    "iMsOB3b.reactions.DHCYTCPEROX.gene_reaction_rule = 'CQW49_01205'"
   ]
  },
  {
   "cell_type": "markdown",
   "metadata": {},
   "source": [
    "CQW49_08960"
   ]
  },
  {
   "cell_type": "code",
   "execution_count": 107,
   "metadata": {
    "ExecuteTime": {
     "end_time": "2020-01-16T10:54:56.631628Z",
     "start_time": "2020-01-16T10:54:56.618146Z"
    }
   },
   "outputs": [
    {
     "name": "stdout",
     "output_type": "stream",
     "text": [
      "GTHS glutathione_synthetase atp_c + glucys_c + gly_c <=> adp_c + gthrd_c + h_c + pi_c\n",
      "LGTHL lactoylglutathione_lyase lgt_S_c <=> gthrd_c + mthgxl_c\n",
      "GTHPp glutathione_peroxidase__periplasmic_ 2.0 gthrd_c + h2o2_p --> gthox_c + 2.0 h2o_p\n",
      "GTHOr glutathione_reductase gthox_c + h_c + nadph_c --> 2.0 gthrd_c + nadp_c\n",
      "GLYOX S_lactoylglutathione_hydrolase h2o_c + lgt_S_c <=> gthrd_c + h_c + lac_D_c\n"
     ]
    }
   ],
   "source": [
    "import re\n",
    "for reaction in model_AM1.reactions:\n",
    "    if re.search(\"glutathione\", reaction.name, re.IGNORECASE):\n",
    "        print(reaction.id, reaction.name, reaction.reaction)"
   ]
  },
  {
   "cell_type": "code",
   "execution_count": 108,
   "metadata": {
    "ExecuteTime": {
     "end_time": "2020-01-16T10:57:12.115748Z",
     "start_time": "2020-01-16T10:57:12.098542Z"
    }
   },
   "outputs": [
    {
     "name": "stdout",
     "output_type": "stream",
     "text": [
      "THRD_L threonine_deaminase thr_L_c --> 2obut_c + nh4_c\n",
      "DHPPDA2 diaminohydroxyphosphoribosylaminopyrimidine_deaminase 25drapp_c + h2o_c + h_c --> 5apru_c + nh4_c\n",
      "ADD adenine_deaminase ade_c + h2o_c + h_c --> hxan_c + nh4_c\n",
      "DCYTD cytidine_deaminase_2 dcyt_c + h2o_c + h_c --> duri_c + nh4_c\n",
      "ORNCD ornithine_cyclodeaminase orn_c --> nh4_c + pro_L_c\n",
      "SERD_L L_serine_deaminase ser_L_c --> nh4_c + pyr_c\n",
      "HMBS porphobilinogen_deaminase h2o_c + 4.0 ppbng_c <=> hmbil_c + 4.0 nh4_c\n",
      "DCTPD dCTP_deaminase dctp_c + h2o_c + h_c --> dutp_c + nh4_c\n",
      "CYTD cytidine_deaminase_1 cytd_c + h2o_c + h_c --> nh4_c + uri_c\n",
      "GUAD guanine_deaminase gua_c + h2o_c + h_c <=> nh4_c + xan_c\n"
     ]
    }
   ],
   "source": [
    "import re\n",
    "for reaction in model_AM1.reactions:\n",
    "    if re.search(\"deaminase\", reaction.name, re.IGNORECASE):\n",
    "        print(reaction.id, reaction.name, reaction.reaction)"
   ]
  },
  {
   "cell_type": "markdown",
   "metadata": {},
   "source": [
    "CQW49_17395"
   ]
  },
  {
   "cell_type": "code",
   "execution_count": 110,
   "metadata": {
    "ExecuteTime": {
     "end_time": "2020-01-16T10:59:02.874648Z",
     "start_time": "2020-01-16T10:59:02.835203Z"
    }
   },
   "outputs": [
    {
     "name": "stdout",
     "output_type": "stream",
     "text": [
      "MPML magnesium_chelatase atp_c + h2o_c + mg2_c + ppp9_c --> adp_c + 3.0 h_c + mppp9_c + pi_c\n",
      "EX_mg2_e_ exchange_flux___magnesium mg2_e <=> \n",
      "AMP9MC aerobic_magnesium_protoporphyrin_IX_monomethyl_ester_cyclase_1 nadph_c + o2_c + omgppp9me_c --> dvpclphd_c + 2.0 h2o_c + nadp_c\n",
      "AMP9MC2 aerobic_magnesium_protoporphyrin_IX_monomethyl_ester_cyclase_2 h_c + hmgppp9me_c + nadph_c + o2_c --> 2.0 h2o_c + nadp_c + omgppp9me_c\n",
      "AMP9MC3 aerobic_magnesium_protoporphyrin_IX_monomethyl_ester_cyclase_3 h_c + mgppp9me_c + nadph_c + o2_c --> h2o_c + hmgppp9me_c + nadp_c\n",
      "MG2tex magnesium_transport_via_diffusion__extracellular_to_periplasm_ mg2_e <=> mg2_p\n",
      "MP9MT magnesium_protoporphyrin_IX_methyltransferase amet_c + mppp9_c --> ahcys_c + mgppp9me_c\n",
      "MG2uabcpp magnesium_ABC_transporter atp_c + h2o_c + mg2_p --> adp_c + h_c + mg2_c + pi_c\n"
     ]
    }
   ],
   "source": [
    "import re\n",
    "for reaction in model_AM1.reactions:\n",
    "    if re.search(\"magnesium\", reaction.name, re.IGNORECASE):\n",
    "        print(reaction.id, reaction.name, reaction.reaction)"
   ]
  },
  {
   "cell_type": "code",
   "execution_count": 112,
   "metadata": {
    "ExecuteTime": {
     "end_time": "2020-01-16T10:59:56.503399Z",
     "start_time": "2020-01-16T10:59:56.496261Z"
    }
   },
   "outputs": [],
   "source": [
    "iMsOB3b.reactions.MG2uabcpp.gene_reaction_rule = 'CQW49_12745 or CQW49_17395'"
   ]
  },
  {
   "cell_type": "markdown",
   "metadata": {},
   "source": [
    "Save model before proceeding further:"
   ]
  },
  {
   "cell_type": "code",
   "execution_count": 114,
   "metadata": {
    "ExecuteTime": {
     "end_time": "2020-01-16T11:00:29.129772Z",
     "start_time": "2020-01-16T11:00:28.934792Z"
    }
   },
   "outputs": [],
   "source": [
    "cobra.io.save_json_model(iMsOB3b, memote_directory + draft_gems_dir_8 + \"bigg_OB3b_16_01_2020.json\")"
   ]
  }
 ],
 "metadata": {
  "kernelspec": {
   "display_name": "Python [conda env:GEM_py36]",
   "language": "python",
   "name": "conda-env-GEM_py36-py"
  },
  "language_info": {
   "codemirror_mode": {
    "name": "ipython",
    "version": 3
   },
   "file_extension": ".py",
   "mimetype": "text/x-python",
   "name": "python",
   "nbconvert_exporter": "python",
   "pygments_lexer": "ipython3",
   "version": "3.6.9"
  },
  "toc": {
   "base_numbering": 1,
   "nav_menu": {},
   "number_sections": true,
   "sideBar": true,
   "skip_h1_title": false,
   "title_cell": "Table of Contents",
   "title_sidebar": "Contents",
   "toc_cell": false,
   "toc_position": {
    "height": "calc(100% - 180px)",
    "left": "10px",
    "top": "150px",
    "width": "370.6px"
   },
   "toc_section_display": true,
   "toc_window_display": true
  },
  "varInspector": {
   "cols": {
    "lenName": 16,
    "lenType": 16,
    "lenVar": 40
   },
   "kernels_config": {
    "python": {
     "delete_cmd_postfix": "",
     "delete_cmd_prefix": "del ",
     "library": "var_list.py",
     "varRefreshCmd": "print(var_dic_list())"
    },
    "r": {
     "delete_cmd_postfix": ") ",
     "delete_cmd_prefix": "rm(",
     "library": "var_list.r",
     "varRefreshCmd": "cat(var_dic_list()) "
    }
   },
   "position": {
    "height": "318.85px",
    "left": "1534px",
    "right": "20px",
    "top": "120px",
    "width": "313px"
   },
   "types_to_exclude": [
    "module",
    "function",
    "builtin_function_or_method",
    "instance",
    "_Feature"
   ],
   "window_display": true
  }
 },
 "nbformat": 4,
 "nbformat_minor": 2
}
