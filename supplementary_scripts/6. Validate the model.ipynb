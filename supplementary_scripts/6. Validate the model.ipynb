{
 "cells": [
  {
   "cell_type": "markdown",
   "metadata": {},
   "source": [
    "# Load dependencies"
   ]
  },
  {
   "cell_type": "code",
   "execution_count": 538,
   "metadata": {
    "ExecuteTime": {
     "end_time": "2020-02-19T06:01:09.538935Z",
     "start_time": "2020-02-19T06:01:09.533816Z"
    }
   },
   "outputs": [],
   "source": [
    "import cobra\n",
    "import libsbml\n",
    "import lxml\n",
    "\n",
    "models_directory = '/media/sf_Shared/Systems_biology/Metabolic_models/'\n",
    "OB3b_directory = '/media/sf_Shared/GEM_OB3b/'\n",
    "memote_directory = '/home/ensakz/Desktop/memote_m_trichosporium/'\n",
    "fastas_directory = '/media/sf_Shared/Systems_biology/Fastas_and_annotations/'\n",
    "inparanoid_directory = '/media/sf_Shared/Systems_biology/InParanoid_runs/'\n",
    "draft_gems_dir_8 = 'draft_gems/8.OB3b_draft_gem_during_pathway_manual_curation/'\n",
    "gem_confirmation = 'gem_confirmation/'"
   ]
  },
  {
   "cell_type": "code",
   "execution_count": 539,
   "metadata": {
    "ExecuteTime": {
     "end_time": "2020-02-19T06:01:10.896428Z",
     "start_time": "2020-02-19T06:01:09.840195Z"
    }
   },
   "outputs": [],
   "source": [
    "iMsOB3b = cobra.io.load_json_model(memote_directory + draft_gems_dir_8 + \"bigg_OB3b_18_01_2020.json\")"
   ]
  },
  {
   "cell_type": "code",
   "execution_count": 228,
   "metadata": {
    "ExecuteTime": {
     "end_time": "2020-02-18T11:28:40.120099Z",
     "start_time": "2020-02-18T11:28:38.514300Z"
    }
   },
   "outputs": [],
   "source": [
    "model_Bath = cobra.io.load_json_model(models_directory + \"iMcBath.json\")"
   ]
  },
  {
   "cell_type": "code",
   "execution_count": 5,
   "metadata": {
    "ExecuteTime": {
     "end_time": "2020-01-29T01:23:44.377924Z",
     "start_time": "2020-01-29T01:23:00.255975Z"
    }
   },
   "outputs": [],
   "source": [
    "model_universal = cobra.io.load_json_model(models_directory + 'universal_model.json')"
   ]
  },
  {
   "cell_type": "code",
   "execution_count": 6,
   "metadata": {
    "ExecuteTime": {
     "end_time": "2020-01-29T01:23:46.272903Z",
     "start_time": "2020-01-29T01:23:44.536001Z"
    }
   },
   "outputs": [],
   "source": [
    "model_parvus = cobra.io.read_sbml_model(models_directory + \"Methylocystis_parvus.xml\")"
   ]
  },
  {
   "cell_type": "markdown",
   "metadata": {},
   "source": [
    "Before you start, fix reaction annotation in GEM:"
   ]
  },
  {
   "cell_type": "code",
   "execution_count": 541,
   "metadata": {
    "ExecuteTime": {
     "end_time": "2020-02-19T06:01:20.641263Z",
     "start_time": "2020-02-19T06:01:20.637384Z"
    }
   },
   "outputs": [],
   "source": [
    "for reaction in iMsOB3b.reactions:\n",
    "    reaction.annotation = {}"
   ]
  },
  {
   "cell_type": "code",
   "execution_count": 13,
   "metadata": {
    "ExecuteTime": {
     "end_time": "2020-01-20T01:39:16.071438Z",
     "start_time": "2020-01-20T01:39:15.876111Z"
    }
   },
   "outputs": [],
   "source": [
    "cobra.io.save_json_model(iMsOB3b, memote_directory + draft_gems_dir_8 + \"bigg_OB3b_19_01_2020.json\")"
   ]
  },
  {
   "cell_type": "markdown",
   "metadata": {},
   "source": [
    "# Adjust reaction bounds"
   ]
  },
  {
   "cell_type": "code",
   "execution_count": 542,
   "metadata": {
    "ExecuteTime": {
     "end_time": "2020-02-19T06:01:21.745792Z",
     "start_time": "2020-02-19T06:01:21.742708Z"
    }
   },
   "outputs": [],
   "source": [
    "iMsOB3b.reactions.EX_ch4_e.bounds = (-14.9, 0)"
   ]
  },
  {
   "cell_type": "markdown",
   "metadata": {},
   "source": [
    "# Growth on molecular nitrogen:"
   ]
  },
  {
   "cell_type": "markdown",
   "metadata": {},
   "source": [
    "Check whether there is in silico growth rate using molecular nitrogen:"
   ]
  },
  {
   "cell_type": "code",
   "execution_count": 35,
   "metadata": {
    "ExecuteTime": {
     "end_time": "2020-02-18T09:51:02.927197Z",
     "start_time": "2020-02-18T09:51:02.923890Z"
    }
   },
   "outputs": [],
   "source": [
    "iMsOB3b.reactions.EX_nh4_e.bounds = (0, 0)"
   ]
  },
  {
   "cell_type": "code",
   "execution_count": 22,
   "metadata": {
    "ExecuteTime": {
     "end_time": "2020-02-18T08:17:20.328343Z",
     "start_time": "2020-02-18T08:17:20.085015Z"
    },
    "scrolled": true
   },
   "outputs": [
    {
     "name": "stdout",
     "output_type": "stream",
     "text": [
      "IN FLUXES    OUT FLUXES    OBJECTIVES\n",
      "-----------  ------------  --------------------------\n",
      "o2_e   2     h2o_e  2      Biomass_Mext...  -1.29e-17\n",
      "ch4_e  1     co2_e  1\n"
     ]
    }
   ],
   "source": [
    "iMsOB3b.summary()"
   ]
  },
  {
   "cell_type": "code",
   "execution_count": 23,
   "metadata": {
    "ExecuteTime": {
     "end_time": "2020-02-18T08:17:20.423878Z",
     "start_time": "2020-02-18T08:17:20.420635Z"
    }
   },
   "outputs": [],
   "source": [
    "iMsOB3b.reactions.EX_n2_e.bounds = (-1000, 0)"
   ]
  },
  {
   "cell_type": "code",
   "execution_count": 24,
   "metadata": {
    "ExecuteTime": {
     "end_time": "2020-02-18T08:17:21.540426Z",
     "start_time": "2020-02-18T08:17:21.467084Z"
    }
   },
   "outputs": [
    {
     "name": "stdout",
     "output_type": "stream",
     "text": [
      "IN FLUXES    OUT FLUXES    OBJECTIVES\n",
      "-----------  ------------  --------------------------\n",
      "o2_e   2     h2o_e  2      Biomass_Mext...  -1.29e-17\n",
      "ch4_e  1     co2_e  1\n"
     ]
    }
   ],
   "source": [
    "iMsOB3b.summary()"
   ]
  },
  {
   "cell_type": "code",
   "execution_count": 25,
   "metadata": {
    "ExecuteTime": {
     "end_time": "2020-02-18T08:17:21.686533Z",
     "start_time": "2020-02-18T08:17:21.682769Z"
    }
   },
   "outputs": [
    {
     "data": {
      "text/html": [
       "\n",
       "        <table>\n",
       "            <tr>\n",
       "                <td><strong>Reaction identifier</strong></td><td>EX_n2_e</td>\n",
       "            </tr><tr>\n",
       "                <td><strong>Name</strong></td><td>N2 exchange</td>\n",
       "            </tr><tr>\n",
       "                <td><strong>Memory address</strong></td>\n",
       "                <td>0x07fee0d99c0f0</td>\n",
       "            </tr><tr>\n",
       "                <td><strong>Stoichiometry</strong></td>\n",
       "                <td>\n",
       "                    <p style='text-align:right'>n2_e <-- </p>\n",
       "                    <p style='text-align:right'>dinitrogen <-- </p>\n",
       "                </td>\n",
       "            </tr><tr>\n",
       "                <td><strong>GPR</strong></td><td></td>\n",
       "            </tr><tr>\n",
       "                <td><strong>Lower bound</strong></td><td>-1000</td>\n",
       "            </tr><tr>\n",
       "                <td><strong>Upper bound</strong></td><td>0</td>\n",
       "            </tr>\n",
       "        </table>\n",
       "        "
      ],
      "text/plain": [
       "<Reaction EX_n2_e at 0x7fee0d99c0f0>"
      ]
     },
     "execution_count": 25,
     "metadata": {},
     "output_type": "execute_result"
    }
   ],
   "source": [
    "iMsOB3b.reactions.EX_n2_e"
   ]
  },
  {
   "cell_type": "code",
   "execution_count": 26,
   "metadata": {
    "ExecuteTime": {
     "end_time": "2020-02-18T08:17:21.895503Z",
     "start_time": "2020-02-18T08:17:21.887262Z"
    }
   },
   "outputs": [
    {
     "data": {
      "text/html": [
       "\n",
       "        <table>\n",
       "            <tr>\n",
       "                <td><strong>Metabolite identifier</strong></td><td>n2_p</td>\n",
       "            </tr><tr>\n",
       "                <td><strong>Name</strong></td><td>dinitrogen</td>\n",
       "            </tr><tr>\n",
       "                <td><strong>Memory address</strong></td>\n",
       "                <td>0x07fee0b783438</td>\n",
       "            </tr><tr>\n",
       "                <td><strong>Formula</strong></td><td>N2</td>\n",
       "            </tr><tr>\n",
       "                <td><strong>Compartment</strong></td><td>p</td>\n",
       "            </tr><tr>\n",
       "                <td><strong>In 2 reaction(s)</strong></td><td>\n",
       "                    N2trpp, N2tex</td>\n",
       "            </tr>\n",
       "        </table>"
      ],
      "text/plain": [
       "<Metabolite n2_p at 0x7fee0b783438>"
      ]
     },
     "execution_count": 26,
     "metadata": {},
     "output_type": "execute_result"
    }
   ],
   "source": [
    "iMsOB3b.metabolites.n2_p"
   ]
  },
  {
   "cell_type": "code",
   "execution_count": 27,
   "metadata": {
    "ExecuteTime": {
     "end_time": "2020-02-18T08:17:22.829575Z",
     "start_time": "2020-02-18T08:17:22.820445Z"
    }
   },
   "outputs": [
    {
     "data": {
      "text/html": [
       "\n",
       "        <table>\n",
       "            <tr>\n",
       "                <td><strong>Reaction identifier</strong></td><td>N2tex</td>\n",
       "            </tr><tr>\n",
       "                <td><strong>Name</strong></td><td>Nitrogen exchange, diffusion (extra-organism to periplasm)</td>\n",
       "            </tr><tr>\n",
       "                <td><strong>Memory address</strong></td>\n",
       "                <td>0x07fee0dbb8f60</td>\n",
       "            </tr><tr>\n",
       "                <td><strong>Stoichiometry</strong></td>\n",
       "                <td>\n",
       "                    <p style='text-align:right'>n2_e <=> n2_p</p>\n",
       "                    <p style='text-align:right'>dinitrogen <=> dinitrogen</p>\n",
       "                </td>\n",
       "            </tr><tr>\n",
       "                <td><strong>GPR</strong></td><td></td>\n",
       "            </tr><tr>\n",
       "                <td><strong>Lower bound</strong></td><td>-1000.0</td>\n",
       "            </tr><tr>\n",
       "                <td><strong>Upper bound</strong></td><td>1000.0</td>\n",
       "            </tr>\n",
       "        </table>\n",
       "        "
      ],
      "text/plain": [
       "<Reaction N2tex at 0x7fee0dbb8f60>"
      ]
     },
     "execution_count": 27,
     "metadata": {},
     "output_type": "execute_result"
    }
   ],
   "source": [
    "iMsOB3b.reactions.N2tex"
   ]
  },
  {
   "cell_type": "code",
   "execution_count": 28,
   "metadata": {
    "ExecuteTime": {
     "end_time": "2020-02-18T08:17:23.014702Z",
     "start_time": "2020-02-18T08:17:23.007495Z"
    }
   },
   "outputs": [
    {
     "data": {
      "text/html": [
       "\n",
       "        <table>\n",
       "            <tr>\n",
       "                <td><strong>Reaction identifier</strong></td><td>N2trpp</td>\n",
       "            </tr><tr>\n",
       "                <td><strong>Name</strong></td><td>Nitrogen exchange, diffusion (periplasm)</td>\n",
       "            </tr><tr>\n",
       "                <td><strong>Memory address</strong></td>\n",
       "                <td>0x07fee0dbb8dd8</td>\n",
       "            </tr><tr>\n",
       "                <td><strong>Stoichiometry</strong></td>\n",
       "                <td>\n",
       "                    <p style='text-align:right'>n2_p <=> n2_c</p>\n",
       "                    <p style='text-align:right'>dinitrogen <=> dinitrogen</p>\n",
       "                </td>\n",
       "            </tr><tr>\n",
       "                <td><strong>GPR</strong></td><td></td>\n",
       "            </tr><tr>\n",
       "                <td><strong>Lower bound</strong></td><td>-1000.0</td>\n",
       "            </tr><tr>\n",
       "                <td><strong>Upper bound</strong></td><td>1000.0</td>\n",
       "            </tr>\n",
       "        </table>\n",
       "        "
      ],
      "text/plain": [
       "<Reaction N2trpp at 0x7fee0dbb8dd8>"
      ]
     },
     "execution_count": 28,
     "metadata": {},
     "output_type": "execute_result"
    }
   ],
   "source": [
    "iMsOB3b.reactions.N2trpp"
   ]
  },
  {
   "cell_type": "code",
   "execution_count": 29,
   "metadata": {
    "ExecuteTime": {
     "end_time": "2020-02-18T08:17:23.226137Z",
     "start_time": "2020-02-18T08:17:23.220519Z"
    }
   },
   "outputs": [
    {
     "data": {
      "text/html": [
       "\n",
       "        <table>\n",
       "            <tr>\n",
       "                <td><strong>Reaction identifier</strong></td><td>NIT_mc</td>\n",
       "            </tr><tr>\n",
       "                <td><strong>Name</strong></td><td>Nitrogenase</td>\n",
       "            </tr><tr>\n",
       "                <td><strong>Memory address</strong></td>\n",
       "                <td>0x07fee0d99ce80</td>\n",
       "            </tr><tr>\n",
       "                <td><strong>Stoichiometry</strong></td>\n",
       "                <td>\n",
       "                    <p style='text-align:right'>16.0 atp_c + 4.0 fdxrd_c + 16.0 h2o_c + n2_c --> 16.0 adp_c + 4.0 fdxox_c + h2_c + 14.0 h_c + 2.0 nh4_c + 16.0 pi_c</p>\n",
       "                    <p style='text-align:right'>16.0 ATP + 4.0 reduced_ferredoxin + 16.0 H2O + dinitrogen --> 16.0 ADP + 4.0 oxidized_ferredoxin + H2 + 14.0 H_ + 2.0 NH3 + 16.0 phosphate</p>\n",
       "                </td>\n",
       "            </tr><tr>\n",
       "                <td><strong>GPR</strong></td><td>CQW49_08720 and CQW49_08725</td>\n",
       "            </tr><tr>\n",
       "                <td><strong>Lower bound</strong></td><td>0.0</td>\n",
       "            </tr><tr>\n",
       "                <td><strong>Upper bound</strong></td><td>1000.0</td>\n",
       "            </tr>\n",
       "        </table>\n",
       "        "
      ],
      "text/plain": [
       "<Reaction NIT_mc at 0x7fee0d99ce80>"
      ]
     },
     "execution_count": 29,
     "metadata": {},
     "output_type": "execute_result"
    }
   ],
   "source": [
    "iMsOB3b.reactions.NIT_mc"
   ]
  },
  {
   "cell_type": "markdown",
   "metadata": {},
   "source": [
    "## Compare modes of methane oxidation after GAM/NGAM adjustments: NO3\n",
    "GAM: AM1, NGAM: Methylocystis parvus (default condition)\n",
    "<br> create pandas dataframe to store results:"
   ]
  },
  {
   "cell_type": "code",
   "execution_count": 579,
   "metadata": {
    "ExecuteTime": {
     "end_time": "2020-02-19T06:20:00.077600Z",
     "start_time": "2020-02-19T06:20:00.072863Z"
    }
   },
   "outputs": [],
   "source": [
    "iMsOB3b.reactions.FALDA.bounds = (0, 0)\n",
    "iMsOB3b.reactions.EX_nh4_e.bounds = (0, 0)\n",
    "iMsOB3b.reactions.EX_n2_e.bounds = (0, 0)\n",
    "iMsOB3b.reactions.EX_no3_e.bounds = (-1000, 0)"
   ]
  },
  {
   "cell_type": "code",
   "execution_count": 580,
   "metadata": {
    "ExecuteTime": {
     "end_time": "2020-02-19T06:20:00.317109Z",
     "start_time": "2020-02-19T06:20:00.312595Z"
    }
   },
   "outputs": [],
   "source": [
    "import pandas as pd\n",
    "df = pd.DataFrame(index=[\"Methane UTR\",\"Oxygen UTR\", \"CO2 UTR\", \"NH4 UTR\", \"N2 UTR\",\n",
    "                         \"NO3 UTR\", \"Uphill Electron Transfer Flux\", \"Growth Rate\" ,\n",
    "                         \"Growth Yield\", \"O2/CH4 Ratio\", \"NH4/CH4 Ratio\", \"N2/CH4 Ratio\",\n",
    "                         \"NO3/CH4 Ratio\", \"ATP/CH4 Ratio\"])"
   ]
  },
  {
   "cell_type": "code",
   "execution_count": 581,
   "metadata": {
    "ExecuteTime": {
     "end_time": "2020-02-19T06:20:00.565613Z",
     "start_time": "2020-02-19T06:20:00.553556Z"
    }
   },
   "outputs": [],
   "source": [
    "def df_record(solution, df, column):\n",
    "    gr = solution.fluxes.Biomass_Mextorquens_AM1_core\n",
    "    yx = gr/(abs((solution.fluxes.EX_ch4_e/1000)*16.04))\n",
    "    data = [solution.fluxes.EX_ch4_e, solution.fluxes.EX_o2_e, solution.fluxes.EX_co2_e, solution.fluxes.EX_nh4_e,\n",
    "            solution.fluxes.EX_n2_e, solution.fluxes.EX_no3_e, solution.fluxes.UQCYOR_2p, gr, yx,\n",
    "            solution.fluxes.EX_o2_e/solution.fluxes.EX_ch4_e, solution.fluxes.EX_nh4_e/solution.fluxes.EX_ch4_e,\n",
    "            solution.fluxes.EX_n2_e/solution.fluxes.EX_ch4_e, solution.fluxes.EX_no3_e/solution.fluxes.EX_ch4_e,\n",
    "            solution.fluxes.ATPS4rpp/abs(solution.fluxes.EX_ch4_e)]\n",
    "    df[column] = data\n",
    "    return df"
   ]
  },
  {
   "cell_type": "markdown",
   "metadata": {},
   "source": [
    "### Direct coupling:"
   ]
  },
  {
   "cell_type": "markdown",
   "metadata": {},
   "source": [
    "- Integrate redox arm and direct coupling with different ratios at the same time"
   ]
  },
  {
   "cell_type": "code",
   "execution_count": 582,
   "metadata": {
    "ExecuteTime": {
     "end_time": "2020-02-19T06:20:06.503362Z",
     "start_time": "2020-02-19T06:20:03.017039Z"
    },
    "scrolled": true
   },
   "outputs": [
    {
     "name": "stdout",
     "output_type": "stream",
     "text": [
      "14.9 14.9 0.0\n",
      "0.5 is infeasible\n",
      "14.9 7.45 7.45\n",
      "14.9 5.959999999999999 8.940000000000001\n",
      "2.0 is infeasible\n",
      "14.9 4.257142857142858 10.642857142857142\n",
      "14.9 3.7249999999999996 11.175\n",
      "14.9 3.311111111111112 11.588888888888889\n",
      "14.89999999999647 2.9799999999992934 11.919999999997177\n",
      "14.900000054940708 2.709090919080129 12.19090913586058\n",
      "14.899999976020213 2.483333329336702 12.416666646683511\n",
      "14.900000000137059 2.2923076923287784 12.60769230780828\n",
      "14.900000000148719 2.128571428592675 12.771428571556044\n"
     ]
    }
   ],
   "source": [
    "for r in np.arange(0,6.5,0.5):\n",
    "    with iMsOB3b as model:\n",
    "        try:\n",
    "            model.reactions.EX_no3_e.bounds = -1000, 0\n",
    "            model.reactions.PMMOipp.bounds = 0, 1000\n",
    "            model.reactions.PMMODCipp.bounds = 0, 1000\n",
    "            c3 = model.problem.Constraint(\n",
    "                    model.reactions.PMMOipp.flux_expression - \n",
    "                    r* model.reactions.PMMODCipp.flux_expression, lb=0, ub=0, name='c3')\n",
    "            model.add_cons_vars(c3)\n",
    "            solution = cobra.flux_analysis.pfba(model)\n",
    "            print(solution.fluxes.MEOHDH,solution.fluxes.PMMODCipp, solution.fluxes.PMMOipp)\n",
    "        except:\n",
    "            #pass\n",
    "            print(r, 'is infeasible')\n",
    "    df = df_record(solution, df, 'NO3, pMMODC, RedEff {}'.format(r))"
   ]
  },
  {
   "cell_type": "markdown",
   "metadata": {},
   "source": [
    "There is a problem with pFBA when simulating via direct coupling mode of methane oxidation."
   ]
  },
  {
   "cell_type": "code",
   "execution_count": 583,
   "metadata": {
    "ExecuteTime": {
     "end_time": "2020-02-19T06:20:07.988075Z",
     "start_time": "2020-02-19T06:20:07.956247Z"
    }
   },
   "outputs": [
    {
     "data": {
      "text/html": [
       "<div>\n",
       "<style scoped>\n",
       "    .dataframe tbody tr th:only-of-type {\n",
       "        vertical-align: middle;\n",
       "    }\n",
       "\n",
       "    .dataframe tbody tr th {\n",
       "        vertical-align: top;\n",
       "    }\n",
       "\n",
       "    .dataframe thead th {\n",
       "        text-align: right;\n",
       "    }\n",
       "</style>\n",
       "<table border=\"1\" class=\"dataframe\">\n",
       "  <thead>\n",
       "    <tr style=\"text-align: right;\">\n",
       "      <th></th>\n",
       "      <th>NO3, pMMODC, RedEff 0.0</th>\n",
       "      <th>NO3, pMMODC, RedEff 0.5</th>\n",
       "      <th>NO3, pMMODC, RedEff 1.0</th>\n",
       "      <th>NO3, pMMODC, RedEff 1.5</th>\n",
       "      <th>NO3, pMMODC, RedEff 2.0</th>\n",
       "      <th>NO3, pMMODC, RedEff 2.5</th>\n",
       "      <th>NO3, pMMODC, RedEff 3.0</th>\n",
       "      <th>NO3, pMMODC, RedEff 3.5</th>\n",
       "      <th>NO3, pMMODC, RedEff 4.0</th>\n",
       "      <th>NO3, pMMODC, RedEff 4.5</th>\n",
       "      <th>NO3, pMMODC, RedEff 5.0</th>\n",
       "      <th>NO3, pMMODC, RedEff 5.5</th>\n",
       "      <th>NO3, pMMODC, RedEff 6.0</th>\n",
       "    </tr>\n",
       "  </thead>\n",
       "  <tbody>\n",
       "    <tr>\n",
       "      <th>Methane UTR</th>\n",
       "      <td>-14.900000</td>\n",
       "      <td>-14.900000</td>\n",
       "      <td>-14.900000</td>\n",
       "      <td>-14.900000</td>\n",
       "      <td>-14.900000</td>\n",
       "      <td>-14.900000</td>\n",
       "      <td>-14.900000</td>\n",
       "      <td>-14.900000</td>\n",
       "      <td>-14.900000</td>\n",
       "      <td>-14.900000</td>\n",
       "      <td>-14.900000</td>\n",
       "      <td>-14.900000</td>\n",
       "      <td>-14.900000</td>\n",
       "    </tr>\n",
       "    <tr>\n",
       "      <th>Oxygen UTR</th>\n",
       "      <td>-20.759965</td>\n",
       "      <td>-20.759965</td>\n",
       "      <td>-20.759965</td>\n",
       "      <td>-20.759965</td>\n",
       "      <td>-20.759965</td>\n",
       "      <td>-20.759965</td>\n",
       "      <td>-20.759965</td>\n",
       "      <td>-20.759965</td>\n",
       "      <td>-20.874001</td>\n",
       "      <td>-21.009243</td>\n",
       "      <td>-21.121945</td>\n",
       "      <td>-21.217309</td>\n",
       "      <td>-21.299049</td>\n",
       "    </tr>\n",
       "    <tr>\n",
       "      <th>CO2 UTR</th>\n",
       "      <td>8.913091</td>\n",
       "      <td>8.913091</td>\n",
       "      <td>8.913091</td>\n",
       "      <td>8.913091</td>\n",
       "      <td>8.913091</td>\n",
       "      <td>8.913091</td>\n",
       "      <td>8.913091</td>\n",
       "      <td>8.913091</td>\n",
       "      <td>8.988613</td>\n",
       "      <td>9.078180</td>\n",
       "      <td>9.152818</td>\n",
       "      <td>9.215974</td>\n",
       "      <td>9.270108</td>\n",
       "    </tr>\n",
       "    <tr>\n",
       "      <th>NH4 UTR</th>\n",
       "      <td>0.000000</td>\n",
       "      <td>0.000000</td>\n",
       "      <td>0.000000</td>\n",
       "      <td>0.000000</td>\n",
       "      <td>0.000000</td>\n",
       "      <td>0.000000</td>\n",
       "      <td>0.000000</td>\n",
       "      <td>0.000000</td>\n",
       "      <td>0.000000</td>\n",
       "      <td>0.000000</td>\n",
       "      <td>0.000000</td>\n",
       "      <td>0.000000</td>\n",
       "      <td>0.000000</td>\n",
       "    </tr>\n",
       "    <tr>\n",
       "      <th>N2 UTR</th>\n",
       "      <td>0.000000</td>\n",
       "      <td>0.000000</td>\n",
       "      <td>0.000000</td>\n",
       "      <td>0.000000</td>\n",
       "      <td>0.000000</td>\n",
       "      <td>0.000000</td>\n",
       "      <td>0.000000</td>\n",
       "      <td>0.000000</td>\n",
       "      <td>0.000000</td>\n",
       "      <td>0.000000</td>\n",
       "      <td>0.000000</td>\n",
       "      <td>0.000000</td>\n",
       "      <td>0.000000</td>\n",
       "    </tr>\n",
       "    <tr>\n",
       "      <th>NO3 UTR</th>\n",
       "      <td>-1.457561</td>\n",
       "      <td>-1.457561</td>\n",
       "      <td>-1.457561</td>\n",
       "      <td>-1.457561</td>\n",
       "      <td>-1.457561</td>\n",
       "      <td>-1.457561</td>\n",
       "      <td>-1.457561</td>\n",
       "      <td>-1.457561</td>\n",
       "      <td>-1.439175</td>\n",
       "      <td>-1.417369</td>\n",
       "      <td>-1.399198</td>\n",
       "      <td>-1.383822</td>\n",
       "      <td>-1.370643</td>\n",
       "    </tr>\n",
       "    <tr>\n",
       "      <th>Uphill Electron Transfer Flux</th>\n",
       "      <td>0.000000</td>\n",
       "      <td>0.000000</td>\n",
       "      <td>0.000000</td>\n",
       "      <td>0.000000</td>\n",
       "      <td>0.000000</td>\n",
       "      <td>0.000000</td>\n",
       "      <td>0.000000</td>\n",
       "      <td>0.000000</td>\n",
       "      <td>0.000000</td>\n",
       "      <td>0.000000</td>\n",
       "      <td>0.000000</td>\n",
       "      <td>0.000000</td>\n",
       "      <td>0.000000</td>\n",
       "    </tr>\n",
       "    <tr>\n",
       "      <th>Growth Rate</th>\n",
       "      <td>0.149004</td>\n",
       "      <td>0.149004</td>\n",
       "      <td>0.149004</td>\n",
       "      <td>0.149004</td>\n",
       "      <td>0.149004</td>\n",
       "      <td>0.149004</td>\n",
       "      <td>0.149004</td>\n",
       "      <td>0.149004</td>\n",
       "      <td>0.147125</td>\n",
       "      <td>0.144895</td>\n",
       "      <td>0.143038</td>\n",
       "      <td>0.141466</td>\n",
       "      <td>0.140119</td>\n",
       "    </tr>\n",
       "    <tr>\n",
       "      <th>Growth Yield</th>\n",
       "      <td>0.623459</td>\n",
       "      <td>0.623459</td>\n",
       "      <td>0.623459</td>\n",
       "      <td>0.623459</td>\n",
       "      <td>0.623459</td>\n",
       "      <td>0.623459</td>\n",
       "      <td>0.623459</td>\n",
       "      <td>0.623459</td>\n",
       "      <td>0.615594</td>\n",
       "      <td>0.606267</td>\n",
       "      <td>0.598494</td>\n",
       "      <td>0.591917</td>\n",
       "      <td>0.586280</td>\n",
       "    </tr>\n",
       "    <tr>\n",
       "      <th>O2/CH4 Ratio</th>\n",
       "      <td>1.393286</td>\n",
       "      <td>1.393286</td>\n",
       "      <td>1.393286</td>\n",
       "      <td>1.393286</td>\n",
       "      <td>1.393286</td>\n",
       "      <td>1.393286</td>\n",
       "      <td>1.393286</td>\n",
       "      <td>1.393286</td>\n",
       "      <td>1.400940</td>\n",
       "      <td>1.410016</td>\n",
       "      <td>1.417580</td>\n",
       "      <td>1.423980</td>\n",
       "      <td>1.429466</td>\n",
       "    </tr>\n",
       "    <tr>\n",
       "      <th>NH4/CH4 Ratio</th>\n",
       "      <td>-0.000000</td>\n",
       "      <td>-0.000000</td>\n",
       "      <td>-0.000000</td>\n",
       "      <td>-0.000000</td>\n",
       "      <td>-0.000000</td>\n",
       "      <td>-0.000000</td>\n",
       "      <td>-0.000000</td>\n",
       "      <td>-0.000000</td>\n",
       "      <td>-0.000000</td>\n",
       "      <td>-0.000000</td>\n",
       "      <td>-0.000000</td>\n",
       "      <td>-0.000000</td>\n",
       "      <td>-0.000000</td>\n",
       "    </tr>\n",
       "    <tr>\n",
       "      <th>N2/CH4 Ratio</th>\n",
       "      <td>-0.000000</td>\n",
       "      <td>-0.000000</td>\n",
       "      <td>-0.000000</td>\n",
       "      <td>-0.000000</td>\n",
       "      <td>-0.000000</td>\n",
       "      <td>-0.000000</td>\n",
       "      <td>-0.000000</td>\n",
       "      <td>-0.000000</td>\n",
       "      <td>-0.000000</td>\n",
       "      <td>-0.000000</td>\n",
       "      <td>-0.000000</td>\n",
       "      <td>-0.000000</td>\n",
       "      <td>-0.000000</td>\n",
       "    </tr>\n",
       "    <tr>\n",
       "      <th>NO3/CH4 Ratio</th>\n",
       "      <td>0.097823</td>\n",
       "      <td>0.097823</td>\n",
       "      <td>0.097823</td>\n",
       "      <td>0.097823</td>\n",
       "      <td>0.097823</td>\n",
       "      <td>0.097823</td>\n",
       "      <td>0.097823</td>\n",
       "      <td>0.097823</td>\n",
       "      <td>0.096589</td>\n",
       "      <td>0.095125</td>\n",
       "      <td>0.093906</td>\n",
       "      <td>0.092874</td>\n",
       "      <td>0.091989</td>\n",
       "    </tr>\n",
       "    <tr>\n",
       "      <th>ATP/CH4 Ratio</th>\n",
       "      <td>1.604901</td>\n",
       "      <td>1.604901</td>\n",
       "      <td>1.604901</td>\n",
       "      <td>1.604901</td>\n",
       "      <td>1.604901</td>\n",
       "      <td>1.604901</td>\n",
       "      <td>1.604901</td>\n",
       "      <td>1.604901</td>\n",
       "      <td>1.587619</td>\n",
       "      <td>1.567123</td>\n",
       "      <td>1.550043</td>\n",
       "      <td>1.535591</td>\n",
       "      <td>1.523204</td>\n",
       "    </tr>\n",
       "  </tbody>\n",
       "</table>\n",
       "</div>"
      ],
      "text/plain": [
       "                               NO3, pMMODC, RedEff 0.0  \\\n",
       "Methane UTR                                 -14.900000   \n",
       "Oxygen UTR                                  -20.759965   \n",
       "CO2 UTR                                       8.913091   \n",
       "NH4 UTR                                       0.000000   \n",
       "N2 UTR                                        0.000000   \n",
       "NO3 UTR                                      -1.457561   \n",
       "Uphill Electron Transfer Flux                 0.000000   \n",
       "Growth Rate                                   0.149004   \n",
       "Growth Yield                                  0.623459   \n",
       "O2/CH4 Ratio                                  1.393286   \n",
       "NH4/CH4 Ratio                                -0.000000   \n",
       "N2/CH4 Ratio                                 -0.000000   \n",
       "NO3/CH4 Ratio                                 0.097823   \n",
       "ATP/CH4 Ratio                                 1.604901   \n",
       "\n",
       "                               NO3, pMMODC, RedEff 0.5  \\\n",
       "Methane UTR                                 -14.900000   \n",
       "Oxygen UTR                                  -20.759965   \n",
       "CO2 UTR                                       8.913091   \n",
       "NH4 UTR                                       0.000000   \n",
       "N2 UTR                                        0.000000   \n",
       "NO3 UTR                                      -1.457561   \n",
       "Uphill Electron Transfer Flux                 0.000000   \n",
       "Growth Rate                                   0.149004   \n",
       "Growth Yield                                  0.623459   \n",
       "O2/CH4 Ratio                                  1.393286   \n",
       "NH4/CH4 Ratio                                -0.000000   \n",
       "N2/CH4 Ratio                                 -0.000000   \n",
       "NO3/CH4 Ratio                                 0.097823   \n",
       "ATP/CH4 Ratio                                 1.604901   \n",
       "\n",
       "                               NO3, pMMODC, RedEff 1.0  \\\n",
       "Methane UTR                                 -14.900000   \n",
       "Oxygen UTR                                  -20.759965   \n",
       "CO2 UTR                                       8.913091   \n",
       "NH4 UTR                                       0.000000   \n",
       "N2 UTR                                        0.000000   \n",
       "NO3 UTR                                      -1.457561   \n",
       "Uphill Electron Transfer Flux                 0.000000   \n",
       "Growth Rate                                   0.149004   \n",
       "Growth Yield                                  0.623459   \n",
       "O2/CH4 Ratio                                  1.393286   \n",
       "NH4/CH4 Ratio                                -0.000000   \n",
       "N2/CH4 Ratio                                 -0.000000   \n",
       "NO3/CH4 Ratio                                 0.097823   \n",
       "ATP/CH4 Ratio                                 1.604901   \n",
       "\n",
       "                               NO3, pMMODC, RedEff 1.5  \\\n",
       "Methane UTR                                 -14.900000   \n",
       "Oxygen UTR                                  -20.759965   \n",
       "CO2 UTR                                       8.913091   \n",
       "NH4 UTR                                       0.000000   \n",
       "N2 UTR                                        0.000000   \n",
       "NO3 UTR                                      -1.457561   \n",
       "Uphill Electron Transfer Flux                 0.000000   \n",
       "Growth Rate                                   0.149004   \n",
       "Growth Yield                                  0.623459   \n",
       "O2/CH4 Ratio                                  1.393286   \n",
       "NH4/CH4 Ratio                                -0.000000   \n",
       "N2/CH4 Ratio                                 -0.000000   \n",
       "NO3/CH4 Ratio                                 0.097823   \n",
       "ATP/CH4 Ratio                                 1.604901   \n",
       "\n",
       "                               NO3, pMMODC, RedEff 2.0  \\\n",
       "Methane UTR                                 -14.900000   \n",
       "Oxygen UTR                                  -20.759965   \n",
       "CO2 UTR                                       8.913091   \n",
       "NH4 UTR                                       0.000000   \n",
       "N2 UTR                                        0.000000   \n",
       "NO3 UTR                                      -1.457561   \n",
       "Uphill Electron Transfer Flux                 0.000000   \n",
       "Growth Rate                                   0.149004   \n",
       "Growth Yield                                  0.623459   \n",
       "O2/CH4 Ratio                                  1.393286   \n",
       "NH4/CH4 Ratio                                -0.000000   \n",
       "N2/CH4 Ratio                                 -0.000000   \n",
       "NO3/CH4 Ratio                                 0.097823   \n",
       "ATP/CH4 Ratio                                 1.604901   \n",
       "\n",
       "                               NO3, pMMODC, RedEff 2.5  \\\n",
       "Methane UTR                                 -14.900000   \n",
       "Oxygen UTR                                  -20.759965   \n",
       "CO2 UTR                                       8.913091   \n",
       "NH4 UTR                                       0.000000   \n",
       "N2 UTR                                        0.000000   \n",
       "NO3 UTR                                      -1.457561   \n",
       "Uphill Electron Transfer Flux                 0.000000   \n",
       "Growth Rate                                   0.149004   \n",
       "Growth Yield                                  0.623459   \n",
       "O2/CH4 Ratio                                  1.393286   \n",
       "NH4/CH4 Ratio                                -0.000000   \n",
       "N2/CH4 Ratio                                 -0.000000   \n",
       "NO3/CH4 Ratio                                 0.097823   \n",
       "ATP/CH4 Ratio                                 1.604901   \n",
       "\n",
       "                               NO3, pMMODC, RedEff 3.0  \\\n",
       "Methane UTR                                 -14.900000   \n",
       "Oxygen UTR                                  -20.759965   \n",
       "CO2 UTR                                       8.913091   \n",
       "NH4 UTR                                       0.000000   \n",
       "N2 UTR                                        0.000000   \n",
       "NO3 UTR                                      -1.457561   \n",
       "Uphill Electron Transfer Flux                 0.000000   \n",
       "Growth Rate                                   0.149004   \n",
       "Growth Yield                                  0.623459   \n",
       "O2/CH4 Ratio                                  1.393286   \n",
       "NH4/CH4 Ratio                                -0.000000   \n",
       "N2/CH4 Ratio                                 -0.000000   \n",
       "NO3/CH4 Ratio                                 0.097823   \n",
       "ATP/CH4 Ratio                                 1.604901   \n",
       "\n",
       "                               NO3, pMMODC, RedEff 3.5  \\\n",
       "Methane UTR                                 -14.900000   \n",
       "Oxygen UTR                                  -20.759965   \n",
       "CO2 UTR                                       8.913091   \n",
       "NH4 UTR                                       0.000000   \n",
       "N2 UTR                                        0.000000   \n",
       "NO3 UTR                                      -1.457561   \n",
       "Uphill Electron Transfer Flux                 0.000000   \n",
       "Growth Rate                                   0.149004   \n",
       "Growth Yield                                  0.623459   \n",
       "O2/CH4 Ratio                                  1.393286   \n",
       "NH4/CH4 Ratio                                -0.000000   \n",
       "N2/CH4 Ratio                                 -0.000000   \n",
       "NO3/CH4 Ratio                                 0.097823   \n",
       "ATP/CH4 Ratio                                 1.604901   \n",
       "\n",
       "                               NO3, pMMODC, RedEff 4.0  \\\n",
       "Methane UTR                                 -14.900000   \n",
       "Oxygen UTR                                  -20.874001   \n",
       "CO2 UTR                                       8.988613   \n",
       "NH4 UTR                                       0.000000   \n",
       "N2 UTR                                        0.000000   \n",
       "NO3 UTR                                      -1.439175   \n",
       "Uphill Electron Transfer Flux                 0.000000   \n",
       "Growth Rate                                   0.147125   \n",
       "Growth Yield                                  0.615594   \n",
       "O2/CH4 Ratio                                  1.400940   \n",
       "NH4/CH4 Ratio                                -0.000000   \n",
       "N2/CH4 Ratio                                 -0.000000   \n",
       "NO3/CH4 Ratio                                 0.096589   \n",
       "ATP/CH4 Ratio                                 1.587619   \n",
       "\n",
       "                               NO3, pMMODC, RedEff 4.5  \\\n",
       "Methane UTR                                 -14.900000   \n",
       "Oxygen UTR                                  -21.009243   \n",
       "CO2 UTR                                       9.078180   \n",
       "NH4 UTR                                       0.000000   \n",
       "N2 UTR                                        0.000000   \n",
       "NO3 UTR                                      -1.417369   \n",
       "Uphill Electron Transfer Flux                 0.000000   \n",
       "Growth Rate                                   0.144895   \n",
       "Growth Yield                                  0.606267   \n",
       "O2/CH4 Ratio                                  1.410016   \n",
       "NH4/CH4 Ratio                                -0.000000   \n",
       "N2/CH4 Ratio                                 -0.000000   \n",
       "NO3/CH4 Ratio                                 0.095125   \n",
       "ATP/CH4 Ratio                                 1.567123   \n",
       "\n",
       "                               NO3, pMMODC, RedEff 5.0  \\\n",
       "Methane UTR                                 -14.900000   \n",
       "Oxygen UTR                                  -21.121945   \n",
       "CO2 UTR                                       9.152818   \n",
       "NH4 UTR                                       0.000000   \n",
       "N2 UTR                                        0.000000   \n",
       "NO3 UTR                                      -1.399198   \n",
       "Uphill Electron Transfer Flux                 0.000000   \n",
       "Growth Rate                                   0.143038   \n",
       "Growth Yield                                  0.598494   \n",
       "O2/CH4 Ratio                                  1.417580   \n",
       "NH4/CH4 Ratio                                -0.000000   \n",
       "N2/CH4 Ratio                                 -0.000000   \n",
       "NO3/CH4 Ratio                                 0.093906   \n",
       "ATP/CH4 Ratio                                 1.550043   \n",
       "\n",
       "                               NO3, pMMODC, RedEff 5.5  \\\n",
       "Methane UTR                                 -14.900000   \n",
       "Oxygen UTR                                  -21.217309   \n",
       "CO2 UTR                                       9.215974   \n",
       "NH4 UTR                                       0.000000   \n",
       "N2 UTR                                        0.000000   \n",
       "NO3 UTR                                      -1.383822   \n",
       "Uphill Electron Transfer Flux                 0.000000   \n",
       "Growth Rate                                   0.141466   \n",
       "Growth Yield                                  0.591917   \n",
       "O2/CH4 Ratio                                  1.423980   \n",
       "NH4/CH4 Ratio                                -0.000000   \n",
       "N2/CH4 Ratio                                 -0.000000   \n",
       "NO3/CH4 Ratio                                 0.092874   \n",
       "ATP/CH4 Ratio                                 1.535591   \n",
       "\n",
       "                               NO3, pMMODC, RedEff 6.0  \n",
       "Methane UTR                                 -14.900000  \n",
       "Oxygen UTR                                  -21.299049  \n",
       "CO2 UTR                                       9.270108  \n",
       "NH4 UTR                                       0.000000  \n",
       "N2 UTR                                        0.000000  \n",
       "NO3 UTR                                      -1.370643  \n",
       "Uphill Electron Transfer Flux                 0.000000  \n",
       "Growth Rate                                   0.140119  \n",
       "Growth Yield                                  0.586280  \n",
       "O2/CH4 Ratio                                  1.429466  \n",
       "NH4/CH4 Ratio                                -0.000000  \n",
       "N2/CH4 Ratio                                 -0.000000  \n",
       "NO3/CH4 Ratio                                 0.091989  \n",
       "ATP/CH4 Ratio                                 1.523204  "
      ]
     },
     "execution_count": 583,
     "metadata": {},
     "output_type": "execute_result"
    }
   ],
   "source": [
    "df"
   ]
  },
  {
   "cell_type": "markdown",
   "metadata": {},
   "source": [
    "Plot the figure:"
   ]
  },
  {
   "cell_type": "code",
   "execution_count": 584,
   "metadata": {
    "ExecuteTime": {
     "end_time": "2020-02-19T06:20:10.319198Z",
     "start_time": "2020-02-19T06:20:10.315738Z"
    }
   },
   "outputs": [],
   "source": [
    "df.at['O2/CH4 Ratio', 'NO3, pMMODC, RedEff 0.5'] = 0.00\n",
    "df.at['O2/CH4 Ratio', 'NO3, pMMODC, RedEff 2.0'] = 0.00"
   ]
  },
  {
   "cell_type": "code",
   "execution_count": 585,
   "metadata": {
    "ExecuteTime": {
     "end_time": "2020-02-19T06:20:11.959794Z",
     "start_time": "2020-02-19T06:20:11.953259Z"
    }
   },
   "outputs": [
    {
     "data": {
      "text/plain": [
       "NO3, pMMODC, RedEff 0.0    1.393286\n",
       "NO3, pMMODC, RedEff 0.5    0.000000\n",
       "NO3, pMMODC, RedEff 1.0    1.393286\n",
       "NO3, pMMODC, RedEff 1.5    1.393286\n",
       "NO3, pMMODC, RedEff 2.0    0.000000\n",
       "NO3, pMMODC, RedEff 2.5    1.393286\n",
       "NO3, pMMODC, RedEff 3.0    1.393286\n",
       "NO3, pMMODC, RedEff 3.5    1.393286\n",
       "NO3, pMMODC, RedEff 4.0    1.400940\n",
       "NO3, pMMODC, RedEff 4.5    1.410016\n",
       "NO3, pMMODC, RedEff 5.0    1.417580\n",
       "NO3, pMMODC, RedEff 5.5    1.423980\n",
       "NO3, pMMODC, RedEff 6.0    1.429466\n",
       "Name: O2/CH4 Ratio, dtype: float64"
      ]
     },
     "execution_count": 585,
     "metadata": {},
     "output_type": "execute_result"
    }
   ],
   "source": [
    "df.iloc[9]['NO3, pMMODC, RedEff 0.0':'NO3, pMMODC, RedEff 6.0']"
   ]
  },
  {
   "cell_type": "code",
   "execution_count": 576,
   "metadata": {
    "ExecuteTime": {
     "end_time": "2020-02-19T06:19:31.393835Z",
     "start_time": "2020-02-19T06:19:31.193072Z"
    }
   },
   "outputs": [
    {
     "data": {
      "image/png": "[encoded data removed]",
      "text/plain": [
       "<Figure size 432x288 with 1 Axes>"
      ]
     },
     "metadata": {
      "needs_background": "light"
     },
     "output_type": "display_data"
    }
   ],
   "source": [
    "import matplotlib.pyplot as plt\n",
    "import pandas\n",
    "\n",
    "x=np.arange(0,6.5,0.5)\n",
    "plt.scatter(x, y=df.iloc[9]['NO3, pMMODC, RedEff 0.0':'NO3, pMMODC, RedEff 6.0'])\n",
    "plt.axhline(y=1.46, color='darkgray', linestyle='--')\n",
    "plt.axhline(y=1.50, color='darkgray', linestyle='--')\n",
    "plt.text(6.7, 1.478,'Reference NO\\u2083', fontsize='large')\n",
    "#plt.fill_between((-0.5, 6.5), 1.48, 1.50, facecolor = 'darkgray')\n",
    "plt.xlim((-0.5,6.5))\n",
    "plt.ylim((1.37,1.51))\n",
    "plt.xlabel('Reduced Efficiency', fontsize='x-large')\n",
    "plt.ylabel('Predicted O\\u2082/CH\\u2084', fontsize='x-large')\n",
    "plt.show()"
   ]
  },
  {
   "cell_type": "markdown",
   "metadata": {},
   "source": [
    "### Uphill electron transfer:"
   ]
  },
  {
   "cell_type": "markdown",
   "metadata": {},
   "source": [
    "- Iteratively limit the flux of reverse electron in uphill electron transfer mode"
   ]
  },
  {
   "cell_type": "code",
   "execution_count": 586,
   "metadata": {
    "ExecuteTime": {
     "end_time": "2020-02-19T06:20:15.661266Z",
     "start_time": "2020-02-19T06:20:15.366685Z"
    }
   },
   "outputs": [],
   "source": [
    "with iMsOB3b as model:\n",
    "    model.reactions.UQCYOR_2p.bounds = -1000, 1000\n",
    "    model.reactions.EX_no3_e.bounds = -1000, 0\n",
    "    solution = cobra.flux_analysis.pfba(model)\n",
    "\n",
    "df = df_record(solution, df, 'NO3, pMMO, Uphill Unconstrained')"
   ]
  },
  {
   "cell_type": "code",
   "execution_count": 587,
   "metadata": {
    "ExecuteTime": {
     "end_time": "2020-02-19T06:20:24.096597Z",
     "start_time": "2020-02-19T06:20:17.562172Z"
    }
   },
   "outputs": [],
   "source": [
    "for r in np.arange(-5,0,0.2):\n",
    "    with iMsOB3b as model:\n",
    "        model.reactions.UQCYOR_2p.bounds = r, 1000\n",
    "        model.reactions.EX_no3_e.bounds = -1000, 0\n",
    "        solution = cobra.flux_analysis.pfba(model)\n",
    "\n",
    "    df = df_record(solution, df, 'NO3, pMMO, Uphill ET, {}'.format(r))"
   ]
  },
  {
   "cell_type": "markdown",
   "metadata": {},
   "source": [
    "Plot the figure:"
   ]
  },
  {
   "cell_type": "code",
   "execution_count": 588,
   "metadata": {
    "ExecuteTime": {
     "end_time": "2020-02-19T06:20:25.425469Z",
     "start_time": "2020-02-19T06:20:25.416624Z"
    }
   },
   "outputs": [
    {
     "data": {
      "text/plain": [
       "NO3, pMMO, Uphill ET, -5.0                    1.393286\n",
       "NO3, pMMO, Uphill ET, -4.8                    1.393286\n",
       "NO3, pMMO, Uphill ET, -4.6                    1.393286\n",
       "NO3, pMMO, Uphill ET, -4.3999999999999995     1.393286\n",
       "NO3, pMMO, Uphill ET, -4.199999999999999      1.393286\n",
       "NO3, pMMO, Uphill ET, -3.999999999999999      1.393286\n",
       "NO3, pMMO, Uphill ET, -3.799999999999999      1.393286\n",
       "NO3, pMMO, Uphill ET, -3.5999999999999988     1.393286\n",
       "NO3, pMMO, Uphill ET, -3.3999999999999986     1.393286\n",
       "NO3, pMMO, Uphill ET, -3.1999999999999984     1.393569\n",
       "NO3, pMMO, Uphill ET, -2.9999999999999982     1.400270\n",
       "NO3, pMMO, Uphill ET, -2.799999999999998      1.406970\n",
       "NO3, pMMO, Uphill ET, -2.599999999999998      1.413671\n",
       "NO3, pMMO, Uphill ET, -2.3999999999999977     1.420372\n",
       "NO3, pMMO, Uphill ET, -2.1999999999999975     1.427073\n",
       "NO3, pMMO, Uphill ET, -1.9999999999999973     1.433774\n",
       "NO3, pMMO, Uphill ET, -1.7999999999999972     1.440475\n",
       "NO3, pMMO, Uphill ET, -1.599999999999997      1.447176\n",
       "NO3, pMMO, Uphill ET, -1.3999999999999968     1.453877\n",
       "NO3, pMMO, Uphill ET, -1.1999999999999966     1.460578\n",
       "NO3, pMMO, Uphill ET, -0.9999999999999964     1.467279\n",
       "NO3, pMMO, Uphill ET, -0.7999999999999963     1.473979\n",
       "NO3, pMMO, Uphill ET, -0.5999999999999961     1.480680\n",
       "NO3, pMMO, Uphill ET, -0.3999999999999959     1.487381\n",
       "NO3, pMMO, Uphill ET, -0.19999999999999574    1.494082\n",
       "Name: O2/CH4 Ratio, dtype: float64"
      ]
     },
     "execution_count": 588,
     "metadata": {},
     "output_type": "execute_result"
    }
   ],
   "source": [
    "df.iloc[9]['NO3, pMMO, Uphill ET, -5.0':'NO3, pMMO, Uphill ET, -0.19999999999999574']"
   ]
  },
  {
   "cell_type": "code",
   "execution_count": 589,
   "metadata": {
    "ExecuteTime": {
     "end_time": "2020-02-19T06:20:36.259028Z",
     "start_time": "2020-02-19T06:20:36.052066Z"
    }
   },
   "outputs": [
    {
     "data": {
      "image/png": "[encoded data removed]",
      "text/plain": [
       "<Figure size 432x288 with 1 Axes>"
      ]
     },
     "metadata": {
      "needs_background": "light"
     },
     "output_type": "display_data"
    }
   ],
   "source": [
    "import matplotlib.pyplot as plt\n",
    "import pandas\n",
    "\n",
    "x=np.arange(-5,0,0.2)\n",
    "plt.scatter(x, y=df.iloc[9]['NO3, pMMO, Uphill ET, -5.0':'NO3, pMMO, Uphill ET, -0.19999999999999574'])\n",
    "plt.axhline(y=1.46, color='darkgray', linestyle='--')\n",
    "plt.axhline(y=1.50, color='darkgray', linestyle='--')\n",
    "plt.text(0.2, 1.478,'Reference NO\\u2083', fontsize='large')\n",
    "#plt.fill_between((-5.5,0), 1.48, 1.50, facecolor = 'darkgray')\n",
    "plt.xlim((-5.5,0))\n",
    "plt.ylim((1.37,1.51))\n",
    "plt.xlabel('Flux via UQCYOR_2p', fontsize='x-large')\n",
    "plt.ylabel('Predicted O\\u2082/CH\\u2084', fontsize='x-large')\n",
    "plt.show()"
   ]
  },
  {
   "cell_type": "markdown",
   "metadata": {},
   "source": [
    "### Redox-arm:"
   ]
  },
  {
   "cell_type": "markdown",
   "metadata": {},
   "source": [
    "- Value ratio of protons required for synthesis of 1 ATP molecule"
   ]
  },
  {
   "cell_type": "code",
   "execution_count": 590,
   "metadata": {
    "ExecuteTime": {
     "end_time": "2020-02-19T06:20:50.139032Z",
     "start_time": "2020-02-19T06:20:50.133452Z"
    }
   },
   "outputs": [
    {
     "data": {
      "text/plain": [
       "{<Metabolite adp_c at 0x7fee07314828>: -1.0,\n",
       " <Metabolite atp_c at 0x7fee04d60cc0>: 1.0,\n",
       " <Metabolite h2o_c at 0x7fee051df400>: 1.0,\n",
       " <Metabolite h_c at 0x7fee05c4f828>: 3.0,\n",
       " <Metabolite h_p at 0x7fee05c4ffd0>: -4.0,\n",
       " <Metabolite pi_c at 0x7fee05d59198>: -1.0}"
      ]
     },
     "execution_count": 590,
     "metadata": {},
     "output_type": "execute_result"
    }
   ],
   "source": [
    "iMsOB3b.reactions.ATPS4rpp.metabolites"
   ]
  },
  {
   "cell_type": "code",
   "execution_count": 591,
   "metadata": {
    "ExecuteTime": {
     "end_time": "2020-02-19T06:20:55.312500Z",
     "start_time": "2020-02-19T06:20:52.189391Z"
    }
   },
   "outputs": [],
   "source": [
    "for r in np.arange(0,2,0.2):\n",
    "    with iMsOB3b as model:\n",
    "        #try:\n",
    "            model.reactions.EX_no3_e.bounds = -1000, 0\n",
    "            model.reactions.ATPS4rpp.add_metabolites(\n",
    "                {model.metabolites.adp_c: -1.0, \n",
    "                 model.metabolites.atp_c: 1.0,\n",
    "                 model.metabolites.h2o_c: 1.0,\n",
    "                 model.metabolites.h_c: (3.0-r),\n",
    "                 model.metabolites.h_p: -(4.0-r), \n",
    "                 model.metabolites.pi_c: -1.0}, combine=False)\n",
    "            solution = cobra.flux_analysis.pfba(model)\n",
    "    #         print(model.reactions.ATPS4rpp)\n",
    "    #         print(solution.fluxes.ATPS4rpp)\n",
    "        #except:\n",
    "            #pass\n",
    "\n",
    "    df = df_record(solution, df, 'NO3, pMMO, Redox-Arm, H/ATP {}'.format(3-r))"
   ]
  },
  {
   "cell_type": "markdown",
   "metadata": {},
   "source": [
    "Plot the figure:"
   ]
  },
  {
   "cell_type": "code",
   "execution_count": 592,
   "metadata": {
    "ExecuteTime": {
     "end_time": "2020-02-19T06:20:56.150917Z",
     "start_time": "2020-02-19T06:20:56.138656Z"
    },
    "scrolled": false
   },
   "outputs": [
    {
     "data": {
      "text/plain": [
       "NO3, pMMO, Redox-Arm, H/ATP 3.0                   1.500783\n",
       "NO3, pMMO, Redox-Arm, H/ATP 2.8                   1.500783\n",
       "NO3, pMMO, Redox-Arm, H/ATP 2.6                   1.500783\n",
       "NO3, pMMO, Redox-Arm, H/ATP 2.4                   1.500783\n",
       "NO3, pMMO, Redox-Arm, H/ATP 2.2                   1.500783\n",
       "NO3, pMMO, Redox-Arm, H/ATP 2.0                   1.500783\n",
       "NO3, pMMO, Redox-Arm, H/ATP 1.7999999999999998    1.500783\n",
       "NO3, pMMO, Redox-Arm, H/ATP 1.5999999999999999    1.500783\n",
       "NO3, pMMO, Redox-Arm, H/ATP 1.4                   1.500783\n",
       "NO3, pMMO, Redox-Arm, H/ATP 1.2                   1.500783\n",
       "Name: O2/CH4 Ratio, dtype: float64"
      ]
     },
     "execution_count": 592,
     "metadata": {},
     "output_type": "execute_result"
    }
   ],
   "source": [
    "df.iloc[9]['NO3, pMMO, Redox-Arm, H/ATP 3.0':'NO3, pMMO, Redox-Arm, H/ATP 1.2']"
   ]
  },
  {
   "cell_type": "code",
   "execution_count": 638,
   "metadata": {
    "ExecuteTime": {
     "end_time": "2020-02-19T07:56:49.196233Z",
     "start_time": "2020-02-19T07:56:49.192789Z"
    }
   },
   "outputs": [],
   "source": [
    "x=np.arange(1.2,3.2,0.2)"
   ]
  },
  {
   "cell_type": "code",
   "execution_count": 639,
   "metadata": {
    "ExecuteTime": {
     "end_time": "2020-02-19T07:56:50.081667Z",
     "start_time": "2020-02-19T07:56:50.076520Z"
    }
   },
   "outputs": [
    {
     "data": {
      "text/plain": [
       "array([1.2, 1.4, 1.6, 1.8, 2. , 2.2, 2.4, 2.6, 2.8, 3. ])"
      ]
     },
     "execution_count": 639,
     "metadata": {},
     "output_type": "execute_result"
    }
   ],
   "source": [
    "x"
   ]
  },
  {
   "cell_type": "code",
   "execution_count": 640,
   "metadata": {
    "ExecuteTime": {
     "end_time": "2020-02-19T07:56:53.433721Z",
     "start_time": "2020-02-19T07:56:53.422257Z"
    }
   },
   "outputs": [
    {
     "data": {
      "text/plain": [
       "array([3. , 2.8, 2.6, 2.4, 2.2, 2. , 1.8, 1.6, 1.4, 1.2])"
      ]
     },
     "execution_count": 640,
     "metadata": {},
     "output_type": "execute_result"
    }
   ],
   "source": [
    "x[::-1]"
   ]
  },
  {
   "cell_type": "code",
   "execution_count": 646,
   "metadata": {
    "ExecuteTime": {
     "end_time": "2020-02-19T07:58:38.647257Z",
     "start_time": "2020-02-19T07:58:38.419233Z"
    },
    "scrolled": true
   },
   "outputs": [
    {
     "data": {
      "image/png": "[encoded data removed]",
      "text/plain": [
       "<Figure size 432x288 with 1 Axes>"
      ]
     },
     "metadata": {
      "needs_background": "light"
     },
     "output_type": "display_data"
    }
   ],
   "source": [
    "import matplotlib.pyplot as plt\n",
    "import pandas\n",
    "\n",
    "x=np.arange(1.2,3.2,0.2)\n",
    "x=x[::-1]\n",
    "plt.scatter(x, y=df.iloc[9]['NO3, pMMO, Redox-Arm, H/ATP 3.0':'NO3, pMMO, Redox-Arm, H/ATP 1.2'])\n",
    "plt.axhline(y=1.46, color='darkgray', linestyle='--')\n",
    "plt.axhline(y=1.50, color='darkgray', linestyle='--')\n",
    "plt.text(3.4, 1.478,'Reference NO\\u2083', fontsize='large')\n",
    "#plt.fill_between((-5.5,0), 1.48, 1.50, facecolor = 'darkgray')\n",
    "plt.xlim((1.0,3.2))\n",
    "plt.ylim((1.37,1.51))\n",
    "plt.xlabel('H/ATP ratio', fontsize='x-large')\n",
    "plt.ylabel('Predicted O\\u2082/CH\\u2084', fontsize='x-large')\n",
    "plt.show()"
   ]
  },
  {
   "cell_type": "markdown",
   "metadata": {},
   "source": [
    "Inspect dataframe:"
   ]
  },
  {
   "cell_type": "code",
   "execution_count": 595,
   "metadata": {
    "ExecuteTime": {
     "end_time": "2020-02-19T06:21:20.028911Z",
     "start_time": "2020-02-19T06:21:19.946444Z"
    }
   },
   "outputs": [
    {
     "data": {
      "text/html": [
       "<div>\n",
       "<style scoped>\n",
       "    .dataframe tbody tr th:only-of-type {\n",
       "        vertical-align: middle;\n",
       "    }\n",
       "\n",
       "    .dataframe tbody tr th {\n",
       "        vertical-align: top;\n",
       "    }\n",
       "\n",
       "    .dataframe thead th {\n",
       "        text-align: right;\n",
       "    }\n",
       "</style>\n",
       "<table border=\"1\" class=\"dataframe\">\n",
       "  <thead>\n",
       "    <tr style=\"text-align: right;\">\n",
       "      <th></th>\n",
       "      <th>NO3, pMMODC, RedEff 0.0</th>\n",
       "      <th>NO3, pMMODC, RedEff 0.5</th>\n",
       "      <th>NO3, pMMODC, RedEff 1.0</th>\n",
       "      <th>NO3, pMMODC, RedEff 1.5</th>\n",
       "      <th>NO3, pMMODC, RedEff 2.0</th>\n",
       "      <th>NO3, pMMODC, RedEff 2.5</th>\n",
       "      <th>NO3, pMMODC, RedEff 3.0</th>\n",
       "      <th>NO3, pMMODC, RedEff 3.5</th>\n",
       "      <th>NO3, pMMODC, RedEff 4.0</th>\n",
       "      <th>NO3, pMMODC, RedEff 4.5</th>\n",
       "      <th>...</th>\n",
       "      <th>NO3, pMMO, Redox-Arm, H/ATP 3.0</th>\n",
       "      <th>NO3, pMMO, Redox-Arm, H/ATP 2.8</th>\n",
       "      <th>NO3, pMMO, Redox-Arm, H/ATP 2.6</th>\n",
       "      <th>NO3, pMMO, Redox-Arm, H/ATP 2.4</th>\n",
       "      <th>NO3, pMMO, Redox-Arm, H/ATP 2.2</th>\n",
       "      <th>NO3, pMMO, Redox-Arm, H/ATP 2.0</th>\n",
       "      <th>NO3, pMMO, Redox-Arm, H/ATP 1.7999999999999998</th>\n",
       "      <th>NO3, pMMO, Redox-Arm, H/ATP 1.5999999999999999</th>\n",
       "      <th>NO3, pMMO, Redox-Arm, H/ATP 1.4</th>\n",
       "      <th>NO3, pMMO, Redox-Arm, H/ATP 1.2</th>\n",
       "    </tr>\n",
       "  </thead>\n",
       "  <tbody>\n",
       "    <tr>\n",
       "      <th>Methane UTR</th>\n",
       "      <td>-14.900000</td>\n",
       "      <td>-14.900000</td>\n",
       "      <td>-14.900000</td>\n",
       "      <td>-14.900000</td>\n",
       "      <td>-14.900000</td>\n",
       "      <td>-14.900000</td>\n",
       "      <td>-14.900000</td>\n",
       "      <td>-14.900000</td>\n",
       "      <td>-14.900000</td>\n",
       "      <td>-14.900000</td>\n",
       "      <td>...</td>\n",
       "      <td>-14.900000</td>\n",
       "      <td>-14.900000</td>\n",
       "      <td>-14.900000</td>\n",
       "      <td>-14.900000</td>\n",
       "      <td>-14.900000</td>\n",
       "      <td>-14.900000</td>\n",
       "      <td>-14.900000</td>\n",
       "      <td>-14.900000</td>\n",
       "      <td>-14.900000</td>\n",
       "      <td>-14.900000</td>\n",
       "    </tr>\n",
       "    <tr>\n",
       "      <th>Oxygen UTR</th>\n",
       "      <td>-20.759965</td>\n",
       "      <td>-20.759965</td>\n",
       "      <td>-20.759965</td>\n",
       "      <td>-20.759965</td>\n",
       "      <td>-20.759965</td>\n",
       "      <td>-20.759965</td>\n",
       "      <td>-20.759965</td>\n",
       "      <td>-20.759965</td>\n",
       "      <td>-20.874001</td>\n",
       "      <td>-21.009243</td>\n",
       "      <td>...</td>\n",
       "      <td>-22.361667</td>\n",
       "      <td>-22.361667</td>\n",
       "      <td>-22.361667</td>\n",
       "      <td>-22.361667</td>\n",
       "      <td>-22.361667</td>\n",
       "      <td>-22.361667</td>\n",
       "      <td>-22.361667</td>\n",
       "      <td>-22.361667</td>\n",
       "      <td>-22.361667</td>\n",
       "      <td>-22.361667</td>\n",
       "    </tr>\n",
       "    <tr>\n",
       "      <th>CO2 UTR</th>\n",
       "      <td>8.913091</td>\n",
       "      <td>8.913091</td>\n",
       "      <td>8.913091</td>\n",
       "      <td>8.913091</td>\n",
       "      <td>8.913091</td>\n",
       "      <td>8.913091</td>\n",
       "      <td>8.913091</td>\n",
       "      <td>8.913091</td>\n",
       "      <td>8.988613</td>\n",
       "      <td>9.078180</td>\n",
       "      <td>...</td>\n",
       "      <td>9.973844</td>\n",
       "      <td>9.973844</td>\n",
       "      <td>9.973844</td>\n",
       "      <td>9.973844</td>\n",
       "      <td>9.973844</td>\n",
       "      <td>9.973844</td>\n",
       "      <td>9.973844</td>\n",
       "      <td>9.973844</td>\n",
       "      <td>9.973844</td>\n",
       "      <td>9.973844</td>\n",
       "    </tr>\n",
       "    <tr>\n",
       "      <th>NH4 UTR</th>\n",
       "      <td>0.000000</td>\n",
       "      <td>0.000000</td>\n",
       "      <td>0.000000</td>\n",
       "      <td>0.000000</td>\n",
       "      <td>0.000000</td>\n",
       "      <td>0.000000</td>\n",
       "      <td>0.000000</td>\n",
       "      <td>0.000000</td>\n",
       "      <td>0.000000</td>\n",
       "      <td>0.000000</td>\n",
       "      <td>...</td>\n",
       "      <td>0.000000</td>\n",
       "      <td>0.000000</td>\n",
       "      <td>0.000000</td>\n",
       "      <td>0.000000</td>\n",
       "      <td>0.000000</td>\n",
       "      <td>0.000000</td>\n",
       "      <td>0.000000</td>\n",
       "      <td>0.000000</td>\n",
       "      <td>0.000000</td>\n",
       "      <td>0.000000</td>\n",
       "    </tr>\n",
       "    <tr>\n",
       "      <th>N2 UTR</th>\n",
       "      <td>0.000000</td>\n",
       "      <td>0.000000</td>\n",
       "      <td>0.000000</td>\n",
       "      <td>0.000000</td>\n",
       "      <td>0.000000</td>\n",
       "      <td>0.000000</td>\n",
       "      <td>0.000000</td>\n",
       "      <td>0.000000</td>\n",
       "      <td>0.000000</td>\n",
       "      <td>0.000000</td>\n",
       "      <td>...</td>\n",
       "      <td>0.000000</td>\n",
       "      <td>0.000000</td>\n",
       "      <td>0.000000</td>\n",
       "      <td>0.000000</td>\n",
       "      <td>0.000000</td>\n",
       "      <td>0.000000</td>\n",
       "      <td>0.000000</td>\n",
       "      <td>0.000000</td>\n",
       "      <td>0.000000</td>\n",
       "      <td>0.000000</td>\n",
       "    </tr>\n",
       "    <tr>\n",
       "      <th>NO3 UTR</th>\n",
       "      <td>-1.457561</td>\n",
       "      <td>-1.457561</td>\n",
       "      <td>-1.457561</td>\n",
       "      <td>-1.457561</td>\n",
       "      <td>-1.457561</td>\n",
       "      <td>-1.457561</td>\n",
       "      <td>-1.457561</td>\n",
       "      <td>-1.457561</td>\n",
       "      <td>-1.439175</td>\n",
       "      <td>-1.417369</td>\n",
       "      <td>...</td>\n",
       "      <td>-1.199312</td>\n",
       "      <td>-1.199312</td>\n",
       "      <td>-1.199312</td>\n",
       "      <td>-1.199312</td>\n",
       "      <td>-1.199312</td>\n",
       "      <td>-1.199312</td>\n",
       "      <td>-1.199312</td>\n",
       "      <td>-1.199312</td>\n",
       "      <td>-1.199312</td>\n",
       "      <td>-1.199312</td>\n",
       "    </tr>\n",
       "    <tr>\n",
       "      <th>Uphill Electron Transfer Flux</th>\n",
       "      <td>0.000000</td>\n",
       "      <td>0.000000</td>\n",
       "      <td>0.000000</td>\n",
       "      <td>0.000000</td>\n",
       "      <td>0.000000</td>\n",
       "      <td>0.000000</td>\n",
       "      <td>0.000000</td>\n",
       "      <td>0.000000</td>\n",
       "      <td>0.000000</td>\n",
       "      <td>0.000000</td>\n",
       "      <td>...</td>\n",
       "      <td>0.000000</td>\n",
       "      <td>0.000000</td>\n",
       "      <td>0.000000</td>\n",
       "      <td>0.000000</td>\n",
       "      <td>0.000000</td>\n",
       "      <td>0.000000</td>\n",
       "      <td>0.000000</td>\n",
       "      <td>0.000000</td>\n",
       "      <td>0.000000</td>\n",
       "      <td>0.000000</td>\n",
       "    </tr>\n",
       "    <tr>\n",
       "      <th>Growth Rate</th>\n",
       "      <td>0.149004</td>\n",
       "      <td>0.149004</td>\n",
       "      <td>0.149004</td>\n",
       "      <td>0.149004</td>\n",
       "      <td>0.149004</td>\n",
       "      <td>0.149004</td>\n",
       "      <td>0.149004</td>\n",
       "      <td>0.149004</td>\n",
       "      <td>0.147125</td>\n",
       "      <td>0.144895</td>\n",
       "      <td>...</td>\n",
       "      <td>0.122604</td>\n",
       "      <td>0.122604</td>\n",
       "      <td>0.122604</td>\n",
       "      <td>0.122604</td>\n",
       "      <td>0.122604</td>\n",
       "      <td>0.122604</td>\n",
       "      <td>0.122604</td>\n",
       "      <td>0.122604</td>\n",
       "      <td>0.122604</td>\n",
       "      <td>0.122604</td>\n",
       "    </tr>\n",
       "    <tr>\n",
       "      <th>Growth Yield</th>\n",
       "      <td>0.623459</td>\n",
       "      <td>0.623459</td>\n",
       "      <td>0.623459</td>\n",
       "      <td>0.623459</td>\n",
       "      <td>0.623459</td>\n",
       "      <td>0.623459</td>\n",
       "      <td>0.623459</td>\n",
       "      <td>0.623459</td>\n",
       "      <td>0.615594</td>\n",
       "      <td>0.606267</td>\n",
       "      <td>...</td>\n",
       "      <td>0.512995</td>\n",
       "      <td>0.512995</td>\n",
       "      <td>0.512995</td>\n",
       "      <td>0.512995</td>\n",
       "      <td>0.512995</td>\n",
       "      <td>0.512995</td>\n",
       "      <td>0.512995</td>\n",
       "      <td>0.512995</td>\n",
       "      <td>0.512995</td>\n",
       "      <td>0.512995</td>\n",
       "    </tr>\n",
       "    <tr>\n",
       "      <th>O2/CH4 Ratio</th>\n",
       "      <td>1.393286</td>\n",
       "      <td>0.000000</td>\n",
       "      <td>1.393286</td>\n",
       "      <td>1.393286</td>\n",
       "      <td>0.000000</td>\n",
       "      <td>1.393286</td>\n",
       "      <td>1.393286</td>\n",
       "      <td>1.393286</td>\n",
       "      <td>1.400940</td>\n",
       "      <td>1.410016</td>\n",
       "      <td>...</td>\n",
       "      <td>1.500783</td>\n",
       "      <td>1.500783</td>\n",
       "      <td>1.500783</td>\n",
       "      <td>1.500783</td>\n",
       "      <td>1.500783</td>\n",
       "      <td>1.500783</td>\n",
       "      <td>1.500783</td>\n",
       "      <td>1.500783</td>\n",
       "      <td>1.500783</td>\n",
       "      <td>1.500783</td>\n",
       "    </tr>\n",
       "    <tr>\n",
       "      <th>NH4/CH4 Ratio</th>\n",
       "      <td>-0.000000</td>\n",
       "      <td>-0.000000</td>\n",
       "      <td>-0.000000</td>\n",
       "      <td>-0.000000</td>\n",
       "      <td>-0.000000</td>\n",
       "      <td>-0.000000</td>\n",
       "      <td>-0.000000</td>\n",
       "      <td>-0.000000</td>\n",
       "      <td>-0.000000</td>\n",
       "      <td>-0.000000</td>\n",
       "      <td>...</td>\n",
       "      <td>-0.000000</td>\n",
       "      <td>-0.000000</td>\n",
       "      <td>-0.000000</td>\n",
       "      <td>-0.000000</td>\n",
       "      <td>-0.000000</td>\n",
       "      <td>-0.000000</td>\n",
       "      <td>-0.000000</td>\n",
       "      <td>-0.000000</td>\n",
       "      <td>-0.000000</td>\n",
       "      <td>-0.000000</td>\n",
       "    </tr>\n",
       "    <tr>\n",
       "      <th>N2/CH4 Ratio</th>\n",
       "      <td>-0.000000</td>\n",
       "      <td>-0.000000</td>\n",
       "      <td>-0.000000</td>\n",
       "      <td>-0.000000</td>\n",
       "      <td>-0.000000</td>\n",
       "      <td>-0.000000</td>\n",
       "      <td>-0.000000</td>\n",
       "      <td>-0.000000</td>\n",
       "      <td>-0.000000</td>\n",
       "      <td>-0.000000</td>\n",
       "      <td>...</td>\n",
       "      <td>-0.000000</td>\n",
       "      <td>-0.000000</td>\n",
       "      <td>-0.000000</td>\n",
       "      <td>-0.000000</td>\n",
       "      <td>-0.000000</td>\n",
       "      <td>-0.000000</td>\n",
       "      <td>-0.000000</td>\n",
       "      <td>-0.000000</td>\n",
       "      <td>-0.000000</td>\n",
       "      <td>-0.000000</td>\n",
       "    </tr>\n",
       "    <tr>\n",
       "      <th>NO3/CH4 Ratio</th>\n",
       "      <td>0.097823</td>\n",
       "      <td>0.097823</td>\n",
       "      <td>0.097823</td>\n",
       "      <td>0.097823</td>\n",
       "      <td>0.097823</td>\n",
       "      <td>0.097823</td>\n",
       "      <td>0.097823</td>\n",
       "      <td>0.097823</td>\n",
       "      <td>0.096589</td>\n",
       "      <td>0.095125</td>\n",
       "      <td>...</td>\n",
       "      <td>0.080491</td>\n",
       "      <td>0.080491</td>\n",
       "      <td>0.080491</td>\n",
       "      <td>0.080491</td>\n",
       "      <td>0.080491</td>\n",
       "      <td>0.080491</td>\n",
       "      <td>0.080491</td>\n",
       "      <td>0.080491</td>\n",
       "      <td>0.080491</td>\n",
       "      <td>0.080491</td>\n",
       "    </tr>\n",
       "    <tr>\n",
       "      <th>ATP/CH4 Ratio</th>\n",
       "      <td>1.604901</td>\n",
       "      <td>1.604901</td>\n",
       "      <td>1.604901</td>\n",
       "      <td>1.604901</td>\n",
       "      <td>1.604901</td>\n",
       "      <td>1.604901</td>\n",
       "      <td>1.604901</td>\n",
       "      <td>1.604901</td>\n",
       "      <td>1.587619</td>\n",
       "      <td>1.567123</td>\n",
       "      <td>...</td>\n",
       "      <td>1.433119</td>\n",
       "      <td>1.407737</td>\n",
       "      <td>1.433119</td>\n",
       "      <td>1.433119</td>\n",
       "      <td>1.433119</td>\n",
       "      <td>1.433119</td>\n",
       "      <td>1.433119</td>\n",
       "      <td>1.469544</td>\n",
       "      <td>1.592006</td>\n",
       "      <td>1.736734</td>\n",
       "    </tr>\n",
       "  </tbody>\n",
       "</table>\n",
       "<p>14 rows × 49 columns</p>\n",
       "</div>"
      ],
      "text/plain": [
       "                               NO3, pMMODC, RedEff 0.0  \\\n",
       "Methane UTR                                 -14.900000   \n",
       "Oxygen UTR                                  -20.759965   \n",
       "CO2 UTR                                       8.913091   \n",
       "NH4 UTR                                       0.000000   \n",
       "N2 UTR                                        0.000000   \n",
       "NO3 UTR                                      -1.457561   \n",
       "Uphill Electron Transfer Flux                 0.000000   \n",
       "Growth Rate                                   0.149004   \n",
       "Growth Yield                                  0.623459   \n",
       "O2/CH4 Ratio                                  1.393286   \n",
       "NH4/CH4 Ratio                                -0.000000   \n",
       "N2/CH4 Ratio                                 -0.000000   \n",
       "NO3/CH4 Ratio                                 0.097823   \n",
       "ATP/CH4 Ratio                                 1.604901   \n",
       "\n",
       "                               NO3, pMMODC, RedEff 0.5  \\\n",
       "Methane UTR                                 -14.900000   \n",
       "Oxygen UTR                                  -20.759965   \n",
       "CO2 UTR                                       8.913091   \n",
       "NH4 UTR                                       0.000000   \n",
       "N2 UTR                                        0.000000   \n",
       "NO3 UTR                                      -1.457561   \n",
       "Uphill Electron Transfer Flux                 0.000000   \n",
       "Growth Rate                                   0.149004   \n",
       "Growth Yield                                  0.623459   \n",
       "O2/CH4 Ratio                                  0.000000   \n",
       "NH4/CH4 Ratio                                -0.000000   \n",
       "N2/CH4 Ratio                                 -0.000000   \n",
       "NO3/CH4 Ratio                                 0.097823   \n",
       "ATP/CH4 Ratio                                 1.604901   \n",
       "\n",
       "                               NO3, pMMODC, RedEff 1.0  \\\n",
       "Methane UTR                                 -14.900000   \n",
       "Oxygen UTR                                  -20.759965   \n",
       "CO2 UTR                                       8.913091   \n",
       "NH4 UTR                                       0.000000   \n",
       "N2 UTR                                        0.000000   \n",
       "NO3 UTR                                      -1.457561   \n",
       "Uphill Electron Transfer Flux                 0.000000   \n",
       "Growth Rate                                   0.149004   \n",
       "Growth Yield                                  0.623459   \n",
       "O2/CH4 Ratio                                  1.393286   \n",
       "NH4/CH4 Ratio                                -0.000000   \n",
       "N2/CH4 Ratio                                 -0.000000   \n",
       "NO3/CH4 Ratio                                 0.097823   \n",
       "ATP/CH4 Ratio                                 1.604901   \n",
       "\n",
       "                               NO3, pMMODC, RedEff 1.5  \\\n",
       "Methane UTR                                 -14.900000   \n",
       "Oxygen UTR                                  -20.759965   \n",
       "CO2 UTR                                       8.913091   \n",
       "NH4 UTR                                       0.000000   \n",
       "N2 UTR                                        0.000000   \n",
       "NO3 UTR                                      -1.457561   \n",
       "Uphill Electron Transfer Flux                 0.000000   \n",
       "Growth Rate                                   0.149004   \n",
       "Growth Yield                                  0.623459   \n",
       "O2/CH4 Ratio                                  1.393286   \n",
       "NH4/CH4 Ratio                                -0.000000   \n",
       "N2/CH4 Ratio                                 -0.000000   \n",
       "NO3/CH4 Ratio                                 0.097823   \n",
       "ATP/CH4 Ratio                                 1.604901   \n",
       "\n",
       "                               NO3, pMMODC, RedEff 2.0  \\\n",
       "Methane UTR                                 -14.900000   \n",
       "Oxygen UTR                                  -20.759965   \n",
       "CO2 UTR                                       8.913091   \n",
       "NH4 UTR                                       0.000000   \n",
       "N2 UTR                                        0.000000   \n",
       "NO3 UTR                                      -1.457561   \n",
       "Uphill Electron Transfer Flux                 0.000000   \n",
       "Growth Rate                                   0.149004   \n",
       "Growth Yield                                  0.623459   \n",
       "O2/CH4 Ratio                                  0.000000   \n",
       "NH4/CH4 Ratio                                -0.000000   \n",
       "N2/CH4 Ratio                                 -0.000000   \n",
       "NO3/CH4 Ratio                                 0.097823   \n",
       "ATP/CH4 Ratio                                 1.604901   \n",
       "\n",
       "                               NO3, pMMODC, RedEff 2.5  \\\n",
       "Methane UTR                                 -14.900000   \n",
       "Oxygen UTR                                  -20.759965   \n",
       "CO2 UTR                                       8.913091   \n",
       "NH4 UTR                                       0.000000   \n",
       "N2 UTR                                        0.000000   \n",
       "NO3 UTR                                      -1.457561   \n",
       "Uphill Electron Transfer Flux                 0.000000   \n",
       "Growth Rate                                   0.149004   \n",
       "Growth Yield                                  0.623459   \n",
       "O2/CH4 Ratio                                  1.393286   \n",
       "NH4/CH4 Ratio                                -0.000000   \n",
       "N2/CH4 Ratio                                 -0.000000   \n",
       "NO3/CH4 Ratio                                 0.097823   \n",
       "ATP/CH4 Ratio                                 1.604901   \n",
       "\n",
       "                               NO3, pMMODC, RedEff 3.0  \\\n",
       "Methane UTR                                 -14.900000   \n",
       "Oxygen UTR                                  -20.759965   \n",
       "CO2 UTR                                       8.913091   \n",
       "NH4 UTR                                       0.000000   \n",
       "N2 UTR                                        0.000000   \n",
       "NO3 UTR                                      -1.457561   \n",
       "Uphill Electron Transfer Flux                 0.000000   \n",
       "Growth Rate                                   0.149004   \n",
       "Growth Yield                                  0.623459   \n",
       "O2/CH4 Ratio                                  1.393286   \n",
       "NH4/CH4 Ratio                                -0.000000   \n",
       "N2/CH4 Ratio                                 -0.000000   \n",
       "NO3/CH4 Ratio                                 0.097823   \n",
       "ATP/CH4 Ratio                                 1.604901   \n",
       "\n",
       "                               NO3, pMMODC, RedEff 3.5  \\\n",
       "Methane UTR                                 -14.900000   \n",
       "Oxygen UTR                                  -20.759965   \n",
       "CO2 UTR                                       8.913091   \n",
       "NH4 UTR                                       0.000000   \n",
       "N2 UTR                                        0.000000   \n",
       "NO3 UTR                                      -1.457561   \n",
       "Uphill Electron Transfer Flux                 0.000000   \n",
       "Growth Rate                                   0.149004   \n",
       "Growth Yield                                  0.623459   \n",
       "O2/CH4 Ratio                                  1.393286   \n",
       "NH4/CH4 Ratio                                -0.000000   \n",
       "N2/CH4 Ratio                                 -0.000000   \n",
       "NO3/CH4 Ratio                                 0.097823   \n",
       "ATP/CH4 Ratio                                 1.604901   \n",
       "\n",
       "                               NO3, pMMODC, RedEff 4.0  \\\n",
       "Methane UTR                                 -14.900000   \n",
       "Oxygen UTR                                  -20.874001   \n",
       "CO2 UTR                                       8.988613   \n",
       "NH4 UTR                                       0.000000   \n",
       "N2 UTR                                        0.000000   \n",
       "NO3 UTR                                      -1.439175   \n",
       "Uphill Electron Transfer Flux                 0.000000   \n",
       "Growth Rate                                   0.147125   \n",
       "Growth Yield                                  0.615594   \n",
       "O2/CH4 Ratio                                  1.400940   \n",
       "NH4/CH4 Ratio                                -0.000000   \n",
       "N2/CH4 Ratio                                 -0.000000   \n",
       "NO3/CH4 Ratio                                 0.096589   \n",
       "ATP/CH4 Ratio                                 1.587619   \n",
       "\n",
       "                               NO3, pMMODC, RedEff 4.5  ...  \\\n",
       "Methane UTR                                 -14.900000  ...   \n",
       "Oxygen UTR                                  -21.009243  ...   \n",
       "CO2 UTR                                       9.078180  ...   \n",
       "NH4 UTR                                       0.000000  ...   \n",
       "N2 UTR                                        0.000000  ...   \n",
       "NO3 UTR                                      -1.417369  ...   \n",
       "Uphill Electron Transfer Flux                 0.000000  ...   \n",
       "Growth Rate                                   0.144895  ...   \n",
       "Growth Yield                                  0.606267  ...   \n",
       "O2/CH4 Ratio                                  1.410016  ...   \n",
       "NH4/CH4 Ratio                                -0.000000  ...   \n",
       "N2/CH4 Ratio                                 -0.000000  ...   \n",
       "NO3/CH4 Ratio                                 0.095125  ...   \n",
       "ATP/CH4 Ratio                                 1.567123  ...   \n",
       "\n",
       "                               NO3, pMMO, Redox-Arm, H/ATP 3.0  \\\n",
       "Methane UTR                                         -14.900000   \n",
       "Oxygen UTR                                          -22.361667   \n",
       "CO2 UTR                                               9.973844   \n",
       "NH4 UTR                                               0.000000   \n",
       "N2 UTR                                                0.000000   \n",
       "NO3 UTR                                              -1.199312   \n",
       "Uphill Electron Transfer Flux                         0.000000   \n",
       "Growth Rate                                           0.122604   \n",
       "Growth Yield                                          0.512995   \n",
       "O2/CH4 Ratio                                          1.500783   \n",
       "NH4/CH4 Ratio                                        -0.000000   \n",
       "N2/CH4 Ratio                                         -0.000000   \n",
       "NO3/CH4 Ratio                                         0.080491   \n",
       "ATP/CH4 Ratio                                         1.433119   \n",
       "\n",
       "                               NO3, pMMO, Redox-Arm, H/ATP 2.8  \\\n",
       "Methane UTR                                         -14.900000   \n",
       "Oxygen UTR                                          -22.361667   \n",
       "CO2 UTR                                               9.973844   \n",
       "NH4 UTR                                               0.000000   \n",
       "N2 UTR                                                0.000000   \n",
       "NO3 UTR                                              -1.199312   \n",
       "Uphill Electron Transfer Flux                         0.000000   \n",
       "Growth Rate                                           0.122604   \n",
       "Growth Yield                                          0.512995   \n",
       "O2/CH4 Ratio                                          1.500783   \n",
       "NH4/CH4 Ratio                                        -0.000000   \n",
       "N2/CH4 Ratio                                         -0.000000   \n",
       "NO3/CH4 Ratio                                         0.080491   \n",
       "ATP/CH4 Ratio                                         1.407737   \n",
       "\n",
       "                               NO3, pMMO, Redox-Arm, H/ATP 2.6  \\\n",
       "Methane UTR                                         -14.900000   \n",
       "Oxygen UTR                                          -22.361667   \n",
       "CO2 UTR                                               9.973844   \n",
       "NH4 UTR                                               0.000000   \n",
       "N2 UTR                                                0.000000   \n",
       "NO3 UTR                                              -1.199312   \n",
       "Uphill Electron Transfer Flux                         0.000000   \n",
       "Growth Rate                                           0.122604   \n",
       "Growth Yield                                          0.512995   \n",
       "O2/CH4 Ratio                                          1.500783   \n",
       "NH4/CH4 Ratio                                        -0.000000   \n",
       "N2/CH4 Ratio                                         -0.000000   \n",
       "NO3/CH4 Ratio                                         0.080491   \n",
       "ATP/CH4 Ratio                                         1.433119   \n",
       "\n",
       "                               NO3, pMMO, Redox-Arm, H/ATP 2.4  \\\n",
       "Methane UTR                                         -14.900000   \n",
       "Oxygen UTR                                          -22.361667   \n",
       "CO2 UTR                                               9.973844   \n",
       "NH4 UTR                                               0.000000   \n",
       "N2 UTR                                                0.000000   \n",
       "NO3 UTR                                              -1.199312   \n",
       "Uphill Electron Transfer Flux                         0.000000   \n",
       "Growth Rate                                           0.122604   \n",
       "Growth Yield                                          0.512995   \n",
       "O2/CH4 Ratio                                          1.500783   \n",
       "NH4/CH4 Ratio                                        -0.000000   \n",
       "N2/CH4 Ratio                                         -0.000000   \n",
       "NO3/CH4 Ratio                                         0.080491   \n",
       "ATP/CH4 Ratio                                         1.433119   \n",
       "\n",
       "                               NO3, pMMO, Redox-Arm, H/ATP 2.2  \\\n",
       "Methane UTR                                         -14.900000   \n",
       "Oxygen UTR                                          -22.361667   \n",
       "CO2 UTR                                               9.973844   \n",
       "NH4 UTR                                               0.000000   \n",
       "N2 UTR                                                0.000000   \n",
       "NO3 UTR                                              -1.199312   \n",
       "Uphill Electron Transfer Flux                         0.000000   \n",
       "Growth Rate                                           0.122604   \n",
       "Growth Yield                                          0.512995   \n",
       "O2/CH4 Ratio                                          1.500783   \n",
       "NH4/CH4 Ratio                                        -0.000000   \n",
       "N2/CH4 Ratio                                         -0.000000   \n",
       "NO3/CH4 Ratio                                         0.080491   \n",
       "ATP/CH4 Ratio                                         1.433119   \n",
       "\n",
       "                               NO3, pMMO, Redox-Arm, H/ATP 2.0  \\\n",
       "Methane UTR                                         -14.900000   \n",
       "Oxygen UTR                                          -22.361667   \n",
       "CO2 UTR                                               9.973844   \n",
       "NH4 UTR                                               0.000000   \n",
       "N2 UTR                                                0.000000   \n",
       "NO3 UTR                                              -1.199312   \n",
       "Uphill Electron Transfer Flux                         0.000000   \n",
       "Growth Rate                                           0.122604   \n",
       "Growth Yield                                          0.512995   \n",
       "O2/CH4 Ratio                                          1.500783   \n",
       "NH4/CH4 Ratio                                        -0.000000   \n",
       "N2/CH4 Ratio                                         -0.000000   \n",
       "NO3/CH4 Ratio                                         0.080491   \n",
       "ATP/CH4 Ratio                                         1.433119   \n",
       "\n",
       "                               NO3, pMMO, Redox-Arm, H/ATP 1.7999999999999998  \\\n",
       "Methane UTR                                                        -14.900000   \n",
       "Oxygen UTR                                                         -22.361667   \n",
       "CO2 UTR                                                              9.973844   \n",
       "NH4 UTR                                                              0.000000   \n",
       "N2 UTR                                                               0.000000   \n",
       "NO3 UTR                                                             -1.199312   \n",
       "Uphill Electron Transfer Flux                                        0.000000   \n",
       "Growth Rate                                                          0.122604   \n",
       "Growth Yield                                                         0.512995   \n",
       "O2/CH4 Ratio                                                         1.500783   \n",
       "NH4/CH4 Ratio                                                       -0.000000   \n",
       "N2/CH4 Ratio                                                        -0.000000   \n",
       "NO3/CH4 Ratio                                                        0.080491   \n",
       "ATP/CH4 Ratio                                                        1.433119   \n",
       "\n",
       "                               NO3, pMMO, Redox-Arm, H/ATP 1.5999999999999999  \\\n",
       "Methane UTR                                                        -14.900000   \n",
       "Oxygen UTR                                                         -22.361667   \n",
       "CO2 UTR                                                              9.973844   \n",
       "NH4 UTR                                                              0.000000   \n",
       "N2 UTR                                                               0.000000   \n",
       "NO3 UTR                                                             -1.199312   \n",
       "Uphill Electron Transfer Flux                                        0.000000   \n",
       "Growth Rate                                                          0.122604   \n",
       "Growth Yield                                                         0.512995   \n",
       "O2/CH4 Ratio                                                         1.500783   \n",
       "NH4/CH4 Ratio                                                       -0.000000   \n",
       "N2/CH4 Ratio                                                        -0.000000   \n",
       "NO3/CH4 Ratio                                                        0.080491   \n",
       "ATP/CH4 Ratio                                                        1.469544   \n",
       "\n",
       "                               NO3, pMMO, Redox-Arm, H/ATP 1.4  \\\n",
       "Methane UTR                                         -14.900000   \n",
       "Oxygen UTR                                          -22.361667   \n",
       "CO2 UTR                                               9.973844   \n",
       "NH4 UTR                                               0.000000   \n",
       "N2 UTR                                                0.000000   \n",
       "NO3 UTR                                              -1.199312   \n",
       "Uphill Electron Transfer Flux                         0.000000   \n",
       "Growth Rate                                           0.122604   \n",
       "Growth Yield                                          0.512995   \n",
       "O2/CH4 Ratio                                          1.500783   \n",
       "NH4/CH4 Ratio                                        -0.000000   \n",
       "N2/CH4 Ratio                                         -0.000000   \n",
       "NO3/CH4 Ratio                                         0.080491   \n",
       "ATP/CH4 Ratio                                         1.592006   \n",
       "\n",
       "                               NO3, pMMO, Redox-Arm, H/ATP 1.2  \n",
       "Methane UTR                                         -14.900000  \n",
       "Oxygen UTR                                          -22.361667  \n",
       "CO2 UTR                                               9.973844  \n",
       "NH4 UTR                                               0.000000  \n",
       "N2 UTR                                                0.000000  \n",
       "NO3 UTR                                              -1.199312  \n",
       "Uphill Electron Transfer Flux                         0.000000  \n",
       "Growth Rate                                           0.122604  \n",
       "Growth Yield                                          0.512995  \n",
       "O2/CH4 Ratio                                          1.500783  \n",
       "NH4/CH4 Ratio                                        -0.000000  \n",
       "N2/CH4 Ratio                                         -0.000000  \n",
       "NO3/CH4 Ratio                                         0.080491  \n",
       "ATP/CH4 Ratio                                         1.736734  \n",
       "\n",
       "[14 rows x 49 columns]"
      ]
     },
     "execution_count": 595,
     "metadata": {},
     "output_type": "execute_result"
    }
   ],
   "source": [
    "df"
   ]
  },
  {
   "cell_type": "markdown",
   "metadata": {},
   "source": [
    "Save the simulation results to excel:"
   ]
  },
  {
   "cell_type": "code",
   "execution_count": 596,
   "metadata": {
    "ExecuteTime": {
     "end_time": "2020-02-19T06:21:22.887548Z",
     "start_time": "2020-02-19T06:21:22.851892Z"
    }
   },
   "outputs": [],
   "source": [
    "df.to_excel(memote_directory + 'gem_confirmation/parameter_comparison/modes_of_methane_oxidation/' +\n",
    "                    'gam_ngam_fixed_at_default.xls')"
   ]
  },
  {
   "cell_type": "code",
   "execution_count": 597,
   "metadata": {
    "ExecuteTime": {
     "end_time": "2020-02-19T06:21:24.274530Z",
     "start_time": "2020-02-19T06:21:24.264288Z"
    }
   },
   "outputs": [],
   "source": [
    "df.to_csv(memote_directory + 'gem_confirmation/parameter_comparison/modes_of_methane_oxidation/' +\n",
    "         'gam_ngam_fixed_at_default.csv')"
   ]
  },
  {
   "cell_type": "markdown",
   "metadata": {},
   "source": [
    "## Draw figure for comparison of modes of methane oxidation (without parameter fit):"
   ]
  },
  {
   "cell_type": "code",
   "execution_count": 737,
   "metadata": {
    "ExecuteTime": {
     "end_time": "2020-02-19T09:02:01.126879Z",
     "start_time": "2020-02-19T09:02:00.928226Z"
    },
    "scrolled": false
   },
   "outputs": [
    {
     "data": {
      "text/plain": [
       "<matplotlib.lines.Line2D at 0x7fee007fce48>"
      ]
     },
     "execution_count": 737,
     "metadata": {},
     "output_type": "execute_result"
    },
    {
     "data": {
      "image/png": "[encoded data removed]",
      "text/plain": [
       "<Figure size 432x288 with 1 Axes>"
      ]
     },
     "metadata": {
      "needs_background": "light"
     },
     "output_type": "display_data"
    }
   ],
   "source": [
    "#plt.figure(figsize=(5,3), dpi=300);\n",
    "\n",
    "plt=df[['NO3, pMMO, Redox-Arm, H/ATP 3.0','NO3, pMMODC, RedEff 0.0', 'NO3, pMMO, Uphill ET, -5.0']].loc['O2/CH4 Ratio'].plot.bar(ylim=(1,1.7))\n",
    "plt.text(2.6, 1.478,'Reference NO\\u2083', fontsize='large')\n",
    "plt.axhline(y=1.46, color='darkgray', linestyle='--')\n",
    "plt.axhline(y=1.50, color='darkgray', linestyle='--')\n",
    "#plt.xlabel('H/ATP ratio', fontsize='x-large')"
   ]
  },
  {
   "cell_type": "markdown",
   "metadata": {},
   "source": [
    "## Check GEM's in silico parameters under different environmental conditions:\n",
    "sMMO, pMMO and different nitrogen sources belong to different conditions:"
   ]
  },
  {
   "cell_type": "markdown",
   "metadata": {},
   "source": [
    "Just noticed that GEM does not have meoh_c <-> meoh_p transport reaction for SMMOi to function:"
   ]
  },
  {
   "cell_type": "code",
   "execution_count": 167,
   "metadata": {
    "ExecuteTime": {
     "end_time": "2020-02-18T10:28:51.413794Z",
     "start_time": "2020-02-18T10:28:51.409234Z"
    }
   },
   "outputs": [
    {
     "name": "stderr",
     "output_type": "stream",
     "text": [
      "Ignoring reaction 'MEOHtrpp' since it already exists.\n"
     ]
    }
   ],
   "source": [
    "iMsOB3b.add_reaction(model_Bath.reactions.MEOHtrpp)"
   ]
  },
  {
   "cell_type": "code",
   "execution_count": 168,
   "metadata": {
    "ExecuteTime": {
     "end_time": "2020-02-18T10:28:51.697735Z",
     "start_time": "2020-02-18T10:28:51.692357Z"
    }
   },
   "outputs": [],
   "source": [
    "import pandas as pd\n",
    "df2 = pd.DataFrame(index=[\"Methane UTR\",\"Oxygen UTR\", \"CO2 UTR\", \"NH4 UTR\", \"N2 UTR\",\n",
    "                         \"NO3 UTR\", \"Uphill Electron Transfer Flux\", \"Growth Rate\" ,\n",
    "                          \"Growth Yield\", \"O2/CH4 Ratio\", \"NH4/CH4 Ratio\", \"N2/CH4 Ratio\",\n",
    "                         \"NO3/CH4 Ratio\", \"ATP/CH4 Ratio\"])"
   ]
  },
  {
   "cell_type": "code",
   "execution_count": 169,
   "metadata": {
    "ExecuteTime": {
     "end_time": "2020-02-18T10:28:52.244813Z",
     "start_time": "2020-02-18T10:28:52.235804Z"
    }
   },
   "outputs": [],
   "source": [
    "def df_record(solution, df2, column):\n",
    "    gr = solution.fluxes.Biomass_Mextorquens_AM1_core\n",
    "    yx = gr/(abs((solution.fluxes.EX_ch4_e/1000)*16.04))\n",
    "    data = [solution.fluxes.EX_ch4_e, solution.fluxes.EX_o2_e, solution.fluxes.EX_co2_e, solution.fluxes.EX_nh4_e,\n",
    "            solution.fluxes.EX_n2_e, solution.fluxes.EX_no3_e, solution.fluxes.UQCYOR_2p, gr, yx,\n",
    "            solution.fluxes.EX_o2_e/solution.fluxes.EX_ch4_e, solution.fluxes.EX_nh4_e/solution.fluxes.EX_ch4_e,\n",
    "            solution.fluxes.EX_n2_e/solution.fluxes.EX_ch4_e, solution.fluxes.EX_no3_e/solution.fluxes.EX_ch4_e,\n",
    "            solution.fluxes.ATPS4rpp/abs(solution.fluxes.EX_ch4_e)]\n",
    "    df2[column] = data\n",
    "    return df2"
   ]
  },
  {
   "cell_type": "markdown",
   "metadata": {},
   "source": [
    "NO3, pMMO:"
   ]
  },
  {
   "cell_type": "code",
   "execution_count": 170,
   "metadata": {
    "ExecuteTime": {
     "end_time": "2020-02-18T10:28:58.971399Z",
     "start_time": "2020-02-18T10:28:58.751178Z"
    }
   },
   "outputs": [],
   "source": [
    "with iMsOB3b as model:\n",
    "    #try:\n",
    "        reaction_id = \"Biomass_Mextorquens_AM1_core\"\n",
    "        model.objective = reaction_id\n",
    "        #PARAMETERS:\n",
    "        #NITROGEN:\n",
    "        model.reactions.get_by_id('EX_no3_e').bounds = (-1000, 0)\n",
    "        model.reactions.EX_nh4_e.bounds = (0, 0)\n",
    "        #METHANE OXIDATION:\n",
    "        model.reactions.SMMOi.bounds = (0, 0)\n",
    "        model.reactions.PMMOipp.bounds = (0, 1000)\n",
    "        model.reactions.PMMODCipp.bounds = (0, 0)\n",
    "        model.reactions.UQCYOR_2p.bounds = (0, 1000)\n",
    "        #SIMULATION:\n",
    "        #solution = model.optimize()\n",
    "        solution = cobra.flux_analysis.pfba(mcaps)\n",
    "    #except:\n",
    "        #pass\n",
    "df2 = df_record(solution, df2, 'NO3, pMMO'.format(r))"
   ]
  },
  {
   "cell_type": "markdown",
   "metadata": {},
   "source": [
    "NO3, sMMO:"
   ]
  },
  {
   "cell_type": "code",
   "execution_count": 171,
   "metadata": {
    "ExecuteTime": {
     "end_time": "2020-02-18T10:29:02.017859Z",
     "start_time": "2020-02-18T10:29:01.730366Z"
    }
   },
   "outputs": [],
   "source": [
    "with iMsOB3b as model:\n",
    "    #try:\n",
    "        reaction_id = \"Biomass_Mextorquens_AM1_core\"\n",
    "        model.objective = reaction_id\n",
    "        #PARAMETERS:\n",
    "        #NITROGEN:\n",
    "        model.reactions.get_by_id('EX_no3_e').bounds = (-1000, 0)\n",
    "        model.reactions.EX_nh4_e.bounds = (0, 0)\n",
    "        #METHANE OXIDATION:\n",
    "        model.reactions.SMMOi.bounds = (0, 1000)\n",
    "        model.reactions.PMMOipp.bounds = (0, 0)\n",
    "        model.reactions.PMMODCipp.bounds = (0, 0)\n",
    "        model.reactions.UQCYOR_2p.bounds = (0, 1000)\n",
    "        #SIMULATION:\n",
    "        #solution = model.optimize()\n",
    "        solution = cobra.flux_analysis.pfba(mcaps)\n",
    "    #except:\n",
    "        #pass\n",
    "df2 = df_record(solution, df2, 'NO3, sMMO'.format(r))"
   ]
  },
  {
   "cell_type": "markdown",
   "metadata": {
    "ExecuteTime": {
     "end_time": "2020-01-28T02:36:46.073214Z",
     "start_time": "2020-01-28T02:36:46.063316Z"
    }
   },
   "source": [
    "NH4, pMMO:"
   ]
  },
  {
   "cell_type": "code",
   "execution_count": 172,
   "metadata": {
    "ExecuteTime": {
     "end_time": "2020-02-18T10:29:03.523769Z",
     "start_time": "2020-02-18T10:29:03.243378Z"
    }
   },
   "outputs": [],
   "source": [
    "with iMsOB3b as model:\n",
    "    #try:\n",
    "        reaction_id = \"Biomass_Mextorquens_AM1_core\"\n",
    "        model.objective = reaction_id\n",
    "        #PARAMETERS:\n",
    "        #NITROGEN:\n",
    "        model.reactions.get_by_id('EX_no3_e').bounds = (0, 0)\n",
    "        model.reactions.EX_nh4_e.bounds = (-1000, 0)\n",
    "        #METHANE OXIDATION:\n",
    "        model.reactions.SMMOi.bounds = (0, 0)\n",
    "        model.reactions.PMMOipp.bounds = (0, 1000)\n",
    "        model.reactions.PMMODCipp.bounds = (0, 0)\n",
    "        model.reactions.UQCYOR_2p.bounds = (0, 1000)\n",
    "        #SIMULATION:\n",
    "        #solution = model.optimize()\n",
    "        solution = cobra.flux_analysis.pfba(mcaps)\n",
    "    #except:\n",
    "        #pass\n",
    "df2 = df_record(solution, df2, 'NH3, pMMO'.format(r))"
   ]
  },
  {
   "cell_type": "markdown",
   "metadata": {},
   "source": [
    "NH4, sMMO:"
   ]
  },
  {
   "cell_type": "code",
   "execution_count": 173,
   "metadata": {
    "ExecuteTime": {
     "end_time": "2020-02-18T10:29:05.267147Z",
     "start_time": "2020-02-18T10:29:04.990016Z"
    }
   },
   "outputs": [],
   "source": [
    "with iMsOB3b as model:\n",
    "    #try:\n",
    "        reaction_id = \"Biomass_Mextorquens_AM1_core\"\n",
    "        model.objective = reaction_id\n",
    "        #PARAMETERS:\n",
    "        #NITROGEN:\n",
    "        model.reactions.get_by_id('EX_no3_e').bounds = (0, 0)\n",
    "        model.reactions.EX_nh4_e.bounds = (-1000, 0)\n",
    "        #METHANE OXIDATION:\n",
    "        model.reactions.SMMOi.bounds = (0, 1000)\n",
    "        model.reactions.PMMOipp.bounds = (0, 0)\n",
    "        model.reactions.PMMODCipp.bounds = (0, 0)\n",
    "        model.reactions.UQCYOR_2p.bounds = (0, 1000)\n",
    "        #SIMULATION:\n",
    "        #solution = model.optimize()\n",
    "        solution = cobra.flux_analysis.pfba(mcaps)\n",
    "    #except:\n",
    "        #pass\n",
    "df2 = df_record(solution, df2, 'NH3, sMMO'.format(r))"
   ]
  },
  {
   "cell_type": "markdown",
   "metadata": {},
   "source": [
    "N2, pMMO:"
   ]
  },
  {
   "cell_type": "code",
   "execution_count": 176,
   "metadata": {
    "ExecuteTime": {
     "end_time": "2020-02-18T10:29:12.248344Z",
     "start_time": "2020-02-18T10:29:11.967641Z"
    }
   },
   "outputs": [],
   "source": [
    "with iMsOB3b as model:\n",
    "    #try:\n",
    "        reaction_id = \"Biomass_Mextorquens_AM1_core\"\n",
    "        model.objective = reaction_id\n",
    "        #PARAMETERS:\n",
    "        #NITROGEN:\n",
    "        model.reactions.get_by_id('EX_no3_e').bounds = (0, 0)\n",
    "        model.reactions.EX_nh4_e.bounds = (0, 0)\n",
    "        model.reactions.EX_n2_e.bounds = (-1000, 0)\n",
    "        #METHANE OXIDATION:\n",
    "        model.reactions.SMMOi.bounds = (0, 0)\n",
    "        model.reactions.PMMOipp.bounds = (0, 1000)\n",
    "        model.reactions.PMMODCipp.bounds = (0, 0)\n",
    "        model.reactions.UQCYOR_2p.bounds = (0, 1000)\n",
    "        #SIMULATION:\n",
    "        #solution = model.optimize()\n",
    "        solution = cobra.flux_analysis.pfba(mcaps)\n",
    "    #except:\n",
    "        #pass\n",
    "df2 = df_record(solution, df2, 'N2, pMMO'.format(r))"
   ]
  },
  {
   "cell_type": "markdown",
   "metadata": {
    "ExecuteTime": {
     "end_time": "2020-01-28T02:51:48.323626Z",
     "start_time": "2020-01-28T02:51:48.303088Z"
    }
   },
   "source": [
    "N2, sMMO:"
   ]
  },
  {
   "cell_type": "code",
   "execution_count": 177,
   "metadata": {
    "ExecuteTime": {
     "end_time": "2020-02-18T10:29:15.822234Z",
     "start_time": "2020-02-18T10:29:15.616556Z"
    }
   },
   "outputs": [],
   "source": [
    "with iMsOB3b as model:\n",
    "    #try:\n",
    "        reaction_id = \"Biomass_Mextorquens_AM1_core\"\n",
    "        model.objective = reaction_id\n",
    "        #PARAMETERS:\n",
    "        #NITROGEN:\n",
    "        model.reactions.get_by_id('EX_no3_e').bounds = (0, 0)\n",
    "        model.reactions.EX_nh4_e.bounds = (0, 0)\n",
    "        model.reactions.EX_n2_e.bounds = (-1000, 0)\n",
    "        #METHANE OXIDATION:\n",
    "        model.reactions.SMMOi.bounds = (0, 1000)\n",
    "        model.reactions.PMMOipp.bounds = (0, 0)\n",
    "        model.reactions.PMMODCipp.bounds = (0, 0)\n",
    "        model.reactions.UQCYOR_2p.bounds = (0, 1000)\n",
    "        #SIMULATION:\n",
    "        #solution = model.optimize()\n",
    "        solution = cobra.flux_analysis.pfba(mcaps)\n",
    "    #except:\n",
    "        #pass\n",
    "df2 = df_record(solution, df2, 'N2, sMMO'.format(r))"
   ]
  },
  {
   "cell_type": "code",
   "execution_count": 178,
   "metadata": {
    "ExecuteTime": {
     "end_time": "2020-02-18T10:29:17.429669Z",
     "start_time": "2020-02-18T10:29:17.404975Z"
    }
   },
   "outputs": [
    {
     "data": {
      "text/html": [
       "<div>\n",
       "<style scoped>\n",
       "    .dataframe tbody tr th:only-of-type {\n",
       "        vertical-align: middle;\n",
       "    }\n",
       "\n",
       "    .dataframe tbody tr th {\n",
       "        vertical-align: top;\n",
       "    }\n",
       "\n",
       "    .dataframe thead th {\n",
       "        text-align: right;\n",
       "    }\n",
       "</style>\n",
       "<table border=\"1\" class=\"dataframe\">\n",
       "  <thead>\n",
       "    <tr style=\"text-align: right;\">\n",
       "      <th></th>\n",
       "      <th>NO3, pMMO</th>\n",
       "      <th>NO3, sMMO</th>\n",
       "      <th>NH3, pMMO</th>\n",
       "      <th>NH3, sMMO</th>\n",
       "      <th>N2, pMMO</th>\n",
       "      <th>N2, sMMO</th>\n",
       "    </tr>\n",
       "  </thead>\n",
       "  <tbody>\n",
       "    <tr>\n",
       "      <th>Methane UTR</th>\n",
       "      <td>-14.900000</td>\n",
       "      <td>-14.900000</td>\n",
       "      <td>-14.900000</td>\n",
       "      <td>-14.900000</td>\n",
       "      <td>-0.875</td>\n",
       "      <td>-1.166667e+00</td>\n",
       "    </tr>\n",
       "    <tr>\n",
       "      <th>Oxygen UTR</th>\n",
       "      <td>-22.361667</td>\n",
       "      <td>-23.160973</td>\n",
       "      <td>-22.487682</td>\n",
       "      <td>-24.429813</td>\n",
       "      <td>-1.750</td>\n",
       "      <td>-2.333333e+00</td>\n",
       "    </tr>\n",
       "    <tr>\n",
       "      <th>CO2 UTR</th>\n",
       "      <td>9.973844</td>\n",
       "      <td>10.503197</td>\n",
       "      <td>7.752439</td>\n",
       "      <td>9.650811</td>\n",
       "      <td>0.875</td>\n",
       "      <td>1.166667e+00</td>\n",
       "    </tr>\n",
       "    <tr>\n",
       "      <th>NH4 UTR</th>\n",
       "      <td>0.000000</td>\n",
       "      <td>0.000000</td>\n",
       "      <td>-1.740131</td>\n",
       "      <td>-1.277957</td>\n",
       "      <td>0.000</td>\n",
       "      <td>0.000000e+00</td>\n",
       "    </tr>\n",
       "    <tr>\n",
       "      <th>N2 UTR</th>\n",
       "      <td>0.000000</td>\n",
       "      <td>0.000000</td>\n",
       "      <td>0.000000</td>\n",
       "      <td>0.000000</td>\n",
       "      <td>0.000</td>\n",
       "      <td>0.000000e+00</td>\n",
       "    </tr>\n",
       "    <tr>\n",
       "      <th>NO3 UTR</th>\n",
       "      <td>-1.199312</td>\n",
       "      <td>-1.070437</td>\n",
       "      <td>0.000000</td>\n",
       "      <td>0.000000</td>\n",
       "      <td>0.000</td>\n",
       "      <td>0.000000e+00</td>\n",
       "    </tr>\n",
       "    <tr>\n",
       "      <th>Uphill Electron Transfer Flux</th>\n",
       "      <td>0.000000</td>\n",
       "      <td>0.000000</td>\n",
       "      <td>0.000000</td>\n",
       "      <td>0.000000</td>\n",
       "      <td>0.000</td>\n",
       "      <td>0.000000e+00</td>\n",
       "    </tr>\n",
       "    <tr>\n",
       "      <th>Growth Rate</th>\n",
       "      <td>0.122604</td>\n",
       "      <td>0.109429</td>\n",
       "      <td>0.177891</td>\n",
       "      <td>0.130644</td>\n",
       "      <td>0.000</td>\n",
       "      <td>7.643565e-18</td>\n",
       "    </tr>\n",
       "    <tr>\n",
       "      <th>Growth Yield</th>\n",
       "      <td>0.512995</td>\n",
       "      <td>0.457870</td>\n",
       "      <td>0.744326</td>\n",
       "      <td>0.546635</td>\n",
       "      <td>0.000</td>\n",
       "      <td>4.084556e-16</td>\n",
       "    </tr>\n",
       "    <tr>\n",
       "      <th>O2/CH4 Ratio</th>\n",
       "      <td>1.500783</td>\n",
       "      <td>1.554428</td>\n",
       "      <td>1.509240</td>\n",
       "      <td>1.639585</td>\n",
       "      <td>2.000</td>\n",
       "      <td>2.000000e+00</td>\n",
       "    </tr>\n",
       "    <tr>\n",
       "      <th>NH4/CH4 Ratio</th>\n",
       "      <td>-0.000000</td>\n",
       "      <td>-0.000000</td>\n",
       "      <td>0.116787</td>\n",
       "      <td>0.085769</td>\n",
       "      <td>-0.000</td>\n",
       "      <td>-0.000000e+00</td>\n",
       "    </tr>\n",
       "    <tr>\n",
       "      <th>N2/CH4 Ratio</th>\n",
       "      <td>-0.000000</td>\n",
       "      <td>-0.000000</td>\n",
       "      <td>-0.000000</td>\n",
       "      <td>-0.000000</td>\n",
       "      <td>-0.000</td>\n",
       "      <td>-0.000000e+00</td>\n",
       "    </tr>\n",
       "    <tr>\n",
       "      <th>NO3/CH4 Ratio</th>\n",
       "      <td>0.080491</td>\n",
       "      <td>0.071841</td>\n",
       "      <td>-0.000000</td>\n",
       "      <td>-0.000000</td>\n",
       "      <td>-0.000</td>\n",
       "      <td>-0.000000e+00</td>\n",
       "    </tr>\n",
       "    <tr>\n",
       "      <th>ATP/CH4 Ratio</th>\n",
       "      <td>1.433119</td>\n",
       "      <td>1.241032</td>\n",
       "      <td>1.870496</td>\n",
       "      <td>1.436086</td>\n",
       "      <td>4.000</td>\n",
       "      <td>3.000000e+00</td>\n",
       "    </tr>\n",
       "  </tbody>\n",
       "</table>\n",
       "</div>"
      ],
      "text/plain": [
       "                               NO3, pMMO  NO3, sMMO  NH3, pMMO  NH3, sMMO  \\\n",
       "Methane UTR                   -14.900000 -14.900000 -14.900000 -14.900000   \n",
       "Oxygen UTR                    -22.361667 -23.160973 -22.487682 -24.429813   \n",
       "CO2 UTR                         9.973844  10.503197   7.752439   9.650811   \n",
       "NH4 UTR                         0.000000   0.000000  -1.740131  -1.277957   \n",
       "N2 UTR                          0.000000   0.000000   0.000000   0.000000   \n",
       "NO3 UTR                        -1.199312  -1.070437   0.000000   0.000000   \n",
       "Uphill Electron Transfer Flux   0.000000   0.000000   0.000000   0.000000   \n",
       "Growth Rate                     0.122604   0.109429   0.177891   0.130644   \n",
       "Growth Yield                    0.512995   0.457870   0.744326   0.546635   \n",
       "O2/CH4 Ratio                    1.500783   1.554428   1.509240   1.639585   \n",
       "NH4/CH4 Ratio                  -0.000000  -0.000000   0.116787   0.085769   \n",
       "N2/CH4 Ratio                   -0.000000  -0.000000  -0.000000  -0.000000   \n",
       "NO3/CH4 Ratio                   0.080491   0.071841  -0.000000  -0.000000   \n",
       "ATP/CH4 Ratio                   1.433119   1.241032   1.870496   1.436086   \n",
       "\n",
       "                               N2, pMMO      N2, sMMO  \n",
       "Methane UTR                      -0.875 -1.166667e+00  \n",
       "Oxygen UTR                       -1.750 -2.333333e+00  \n",
       "CO2 UTR                           0.875  1.166667e+00  \n",
       "NH4 UTR                           0.000  0.000000e+00  \n",
       "N2 UTR                            0.000  0.000000e+00  \n",
       "NO3 UTR                           0.000  0.000000e+00  \n",
       "Uphill Electron Transfer Flux     0.000  0.000000e+00  \n",
       "Growth Rate                       0.000  7.643565e-18  \n",
       "Growth Yield                      0.000  4.084556e-16  \n",
       "O2/CH4 Ratio                      2.000  2.000000e+00  \n",
       "NH4/CH4 Ratio                    -0.000 -0.000000e+00  \n",
       "N2/CH4 Ratio                     -0.000 -0.000000e+00  \n",
       "NO3/CH4 Ratio                    -0.000 -0.000000e+00  \n",
       "ATP/CH4 Ratio                     4.000  3.000000e+00  "
      ]
     },
     "execution_count": 178,
     "metadata": {},
     "output_type": "execute_result"
    }
   ],
   "source": [
    "df2"
   ]
  },
  {
   "cell_type": "code",
   "execution_count": 179,
   "metadata": {
    "ExecuteTime": {
     "end_time": "2020-02-18T10:29:47.043363Z",
     "start_time": "2020-02-18T10:29:46.639827Z"
    }
   },
   "outputs": [],
   "source": [
    "df2.to_excel(memote_directory + 'gem_confirmation/parameter_comparison/modes_of_methane_oxidation/' +\n",
    "                    'gam_ngam_fixed_at_default_redox_arm_different_nitrogen_sources.xls')"
   ]
  },
  {
   "cell_type": "code",
   "execution_count": 180,
   "metadata": {
    "ExecuteTime": {
     "end_time": "2020-02-18T10:29:47.596292Z",
     "start_time": "2020-02-18T10:29:47.576996Z"
    }
   },
   "outputs": [],
   "source": [
    "df2.to_csv(memote_directory + 'gem_confirmation/parameter_comparison/modes_of_methane_oxidation/' +\n",
    "                    'gam_ngam_fixed_at_default_redox_arm_different_nitrogen_sources.csv')"
   ]
  },
  {
   "cell_type": "code",
   "execution_count": 8,
   "metadata": {
    "ExecuteTime": {
     "end_time": "2020-01-29T01:23:48.951110Z",
     "start_time": "2020-01-29T01:23:48.419389Z"
    }
   },
   "outputs": [],
   "source": [
    "cobra.io.save_json_model(iMsOB3b, memote_directory + draft_gems_dir_8 + \"bigg_OB3b_29_01_2020.json\")"
   ]
  },
  {
   "cell_type": "code",
   "execution_count": null,
   "metadata": {},
   "outputs": [],
   "source": []
  }
 ],
 "metadata": {
  "kernelspec": {
   "display_name": "Python [conda env:GEM_py36]",
   "language": "python",
   "name": "conda-env-GEM_py36-py"
  },
  "language_info": {
   "codemirror_mode": {
    "name": "ipython",
    "version": 3
   },
   "file_extension": ".py",
   "mimetype": "text/x-python",
   "name": "python",
   "nbconvert_exporter": "python",
   "pygments_lexer": "ipython3",
   "version": "3.6.9"
  },
  "toc": {
   "base_numbering": 1,
   "nav_menu": {},
   "number_sections": true,
   "sideBar": true,
   "skip_h1_title": false,
   "title_cell": "Table of Contents",
   "title_sidebar": "Contents",
   "toc_cell": false,
   "toc_position": {
    "height": "calc(100% - 180px)",
    "left": "10px",
    "top": "150px",
    "width": "344.6px"
   },
   "toc_section_display": true,
   "toc_window_display": true
  },
  "varInspector": {
   "cols": {
    "lenName": 16,
    "lenType": 16,
    "lenVar": 40
   },
   "kernels_config": {
    "python": {
     "delete_cmd_postfix": "",
     "delete_cmd_prefix": "del ",
     "library": "var_list.py",
     "varRefreshCmd": "print(var_dic_list())"
    },
    "r": {
     "delete_cmd_postfix": ") ",
     "delete_cmd_prefix": "rm(",
     "library": "var_list.r",
     "varRefreshCmd": "cat(var_dic_list()) "
    }
   },
   "position": {
    "height": "372.85px",
    "left": "1519px",
    "right": "20px",
    "top": "108px",
    "width": "350px"
   },
   "types_to_exclude": [
    "module",
    "function",
    "builtin_function_or_method",
    "instance",
    "_Feature"
   ],
   "window_display": true
  }
 },
 "nbformat": 4,
 "nbformat_minor": 2
}
