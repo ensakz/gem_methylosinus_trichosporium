{
 "cells": [
  {
   "cell_type": "markdown",
   "metadata": {},
   "source": [
    "# Load dependencies"
   ]
  },
  {
   "cell_type": "code",
   "execution_count": 1,
   "metadata": {
    "ExecuteTime": {
     "end_time": "2020-01-08T06:54:28.234905Z",
     "start_time": "2020-01-08T06:54:14.968983Z"
    }
   },
   "outputs": [],
   "source": [
    "import cobra\n",
    "import libsbml\n",
    "import lxml"
   ]
  },
  {
   "cell_type": "code",
   "execution_count": 2,
   "metadata": {
    "ExecuteTime": {
     "end_time": "2020-01-08T06:54:28.255451Z",
     "start_time": "2020-01-08T06:54:28.251712Z"
    }
   },
   "outputs": [],
   "source": [
    "models_directory = '/media/sf_Shared/Systems_biology/Metabolic_models/'\n",
    "OB3b_directory = '/media/sf_Shared/GEM_OB3b/'\n",
    "memote_directory = '/home/ensakz/Desktop/memote_m_trichosporium/'\n",
    "fastas_directory = '/media/sf_Shared/Systems_biology/Fastas_and_annotations/'\n",
    "inparanoid_directory = '/media/sf_Shared/Systems_biology/InParanoid_runs/'"
   ]
  },
  {
   "cell_type": "code",
   "execution_count": 69,
   "metadata": {
    "ExecuteTime": {
     "end_time": "2019-11-21T07:13:04.228423Z",
     "start_time": "2019-11-21T07:13:04.222438Z"
    }
   },
   "outputs": [],
   "source": [
    "old_models_directory = \"/media/sf_Shared/GEM_OB3b/Previous_work_2018/\"+\\\n",
    "\"OB3b_history_files_from_ubuntu_virtual_box_desktop/\""
   ]
  },
  {
   "cell_type": "code",
   "execution_count": 720,
   "metadata": {
    "ExecuteTime": {
     "end_time": "2019-11-28T00:38:42.389245Z",
     "start_time": "2019-11-28T00:38:39.482607Z"
    }
   },
   "outputs": [],
   "source": [
    "AM1_bigg = cobra.io.read_sbml_model(old_models_directory + \"AM1_model_methylotrophic_network_BIGG_\"+\\\n",
    "                                    \"renamedGPR_renamed_workable_model_only_essential_reactions.xml\")"
   ]
  },
  {
   "cell_type": "code",
   "execution_count": 72,
   "metadata": {
    "ExecuteTime": {
     "end_time": "2019-11-21T07:13:07.869322Z",
     "start_time": "2019-11-21T07:13:06.613958Z"
    }
   },
   "outputs": [],
   "source": [
    "model_Bath = cobra.io.load_json_model(models_directory + \"iMcBath.json\")"
   ]
  },
  {
   "cell_type": "code",
   "execution_count": 114,
   "metadata": {
    "ExecuteTime": {
     "end_time": "2019-11-21T07:38:03.997173Z",
     "start_time": "2019-11-21T07:38:02.292275Z"
    }
   },
   "outputs": [],
   "source": [
    "AM1_OB3b_combined=cobra.io.read_sbml_model(models_directory + \"OB3b_draft_GEM_based_on_AM1_and_Bath_GEMs.xml\")    "
   ]
  },
  {
   "cell_type": "markdown",
   "metadata": {},
   "source": [
    "## AM1_OB3b old model BiGG exploration:"
   ]
  },
  {
   "cell_type": "markdown",
   "metadata": {},
   "source": [
    "Loading combined AM1 GEM with OB3b:"
   ]
  },
  {
   "cell_type": "code",
   "execution_count": 76,
   "metadata": {
    "ExecuteTime": {
     "end_time": "2019-11-21T07:13:08.247814Z",
     "start_time": "2019-11-21T07:13:08.240257Z"
    }
   },
   "outputs": [],
   "source": [
    "META_reactions = []\n",
    "for reaction in AM1_bigg.reactions:\n",
    "    if \"META\" in reaction.gene_reaction_rule:\n",
    "        META_reactions.append(reaction)"
   ]
  },
  {
   "cell_type": "code",
   "execution_count": 77,
   "metadata": {
    "ExecuteTime": {
     "end_time": "2019-11-21T07:13:08.261773Z",
     "start_time": "2019-11-21T07:13:08.257490Z"
    },
    "scrolled": false
   },
   "outputs": [
    {
     "name": "stdout",
     "output_type": "stream",
     "text": [
      "60\n",
      "[<Reaction EAOXRED at 0x7fd7deac5e10>, <Reaction PPND at 0x7fd7deae4390>, <Reaction MNEUROPNDH3 at 0x7fd7deae4908>, <Reaction MNEUROPNDH2 at 0x7fd7deae4c50>, <Reaction PEPGLYCANGT at 0x7fd7deaf23c8>, <Reaction THRD_L at 0x7fd7deaf24e0>, <Reaction EDTXS1 at 0x7fd7de8ce908>, <Reaction PRE3BS at 0x7fd7de8ce940>, <Reaction SULabcpp at 0x7fd7de8e97f0>, <Reaction PC6YM at 0x7fd7de8fb438>, <Reaction MOBDMPTL at 0x7fd7de8492e8>, <Reaction LYSTRS at 0x7fd7de870a20>, <Reaction COBALT2tpp at 0x7fd7de7dc400>, <Reaction RNDR3 at 0x7fd7de7dccc0>, <Reaction RNDR2 at 0x7fd7de7dcda0>, <Reaction RNDR1 at 0x7fd7de7ed7b8>, <Reaction ALATA_D at 0x7fd7de70e860>, <Reaction ZCARDS2 at 0x7fd7de70ecc0>, <Reaction CHORM at 0x7fd7de6c5f60>, <Reaction ZCARDS at 0x7fd7de6e2be0>, <Reaction MOGDS at 0x7fd7de6f6cf8>, <Reaction CPPPGO at 0x7fd7de647c50>, <Reaction FRDOr at 0x7fd7de67dd30>, <Reaction ORPT at 0x7fd7de443e48>, <Reaction FMNRx2 at 0x7fd7de468c18>, <Reaction ORNDC at 0x7fd7de2992e8>, <Reaction HNEUROPNS2 at 0x7fd7ddfbea20>, <Reaction HNEUROPNS1 at 0x7fd7ddfbecc0>, <Reaction TMDS at 0x7fd7ddf894a8>, <Reaction METTRS at 0x7fd7ddd7a518>, <Reaction H2MPTR2 at 0x7fd7ddd7ad68>, <Reaction PGI at 0x7fd7dda04160>, <Reaction TALA at 0x7fd7dd808a20>, <Reaction NDPK8 at 0x7fd7dd529320>, <Reaction NDPK7 at 0x7fd7dd529470>, <Reaction NDPK5 at 0x7fd7dd529828>, <Reaction NDPK4 at 0x7fd7dd529c88>, <Reaction NDPK3 at 0x7fd7dd529e10>, <Reaction NDPK2 at 0x7fd7dd4c9160>, <Reaction NDPK1 at 0x7fd7dd4c9320>, <Reaction CA2NAtpp at 0x7fd7dd5296a0>, <Reaction METACH at 0x7fd7dd4c9518>, <Reaction F6PPKL at 0x7fd7dd4ec470>, <Reaction PHYNDH2 at 0x7fd7dd34d748>, <Reaction HEMEDS2 at 0x7fd7dd1c4fd0>, <Reaction THRA at 0x7fd7dd10c470>, <Reaction PC20M at 0x7fd7dd013240>, <Reaction GLYCK2 at 0x7fd7dd013eb8>, <Reaction DPR at 0x7fd7dd035908>, <Reaction DHNPA2 at 0x7fd7dc9f11d0>, <Reaction PHYNDH at 0x7fd7dc9f14a8>, <Reaction H2Otpp at 0x7fd7dc93a5c0>, <Reaction MMM2r at 0x7fd7dc89b278>, <Reaction HISTP at 0x7fd7dcb7fe80>, <Reaction ADCS at 0x7fd7dcb87780>, <Reaction SULR at 0x7fd7de1d86d8>, <Reaction NAPRTr at 0x7fd7de529208>, <Reaction A5PISO at 0x7fd7de5a2b70>, <Reaction MPTSP at 0x7fd7e3628da0>, <Reaction CELLS at 0x7fd7dfd957b8>]\n"
     ]
    }
   ],
   "source": [
    "print(len(META_reactions))\n",
    "print(META_reactions)"
   ]
  },
  {
   "cell_type": "code",
   "execution_count": 78,
   "metadata": {
    "ExecuteTime": {
     "end_time": "2019-11-21T07:13:08.299986Z",
     "start_time": "2019-11-21T07:13:08.272207Z"
    }
   },
   "outputs": [
    {
     "data": {
      "text/plain": [
       "[<Reaction EAOXRED at 0x7fd7deac5e10>,\n",
       " <Reaction IMPC at 0x7fd7dead4358>,\n",
       " <Reaction HACD8i at 0x7fd7dead44e0>,\n",
       " <Reaction PANTS at 0x7fd7dead4940>,\n",
       " <Reaction IMPD at 0x7fd7dead4f60>,\n",
       " <Reaction OCPPH3 at 0x7fd7dead9400>,\n",
       " <Reaction PGSA161 at 0x7fd7dead97b8>,\n",
       " <Reaction LCAD at 0x7fd7dead9a58>,\n",
       " <Reaction PGSA160 at 0x7fd7dead9c18>,\n",
       " <Reaction GLUDy at 0x7fd7dead9e10>,\n",
       " <Reaction PPAtex at 0x7fd7deae40b8>,\n",
       " <Reaction DTMPK at 0x7fd7deae40f0>,\n",
       " <Reaction PPND at 0x7fd7deae4390>,\n",
       " <Reaction DXPRIi at 0x7fd7deae44a8>,\n",
       " <Reaction PC11M at 0x7fd7deae4710>,\n",
       " <Reaction PSERTr at 0x7fd7deae4828>,\n",
       " <Reaction CAT at 0x7fd7deae4a20>,\n",
       " <Reaction CYO_2p at 0x7fd7deae4a90>,\n",
       " <Reaction UAMAS at 0x7fd7deae4da0>,\n",
       " <Reaction MNEUROPNDH3 at 0x7fd7deae4908>,\n",
       " <Reaction EX_DM_trnathr at 0x7fd7deae4b70>,\n",
       " <Reaction MNEUROPNDH2 at 0x7fd7deae4c50>,\n",
       " <Reaction 2AGPEAT161acp at 0x7fd7deae4e10>,\n",
       " <Reaction PEPGLYCANGT at 0x7fd7deaf23c8>,\n",
       " <Reaction MTHFC at 0x7fd7deaf25c0>,\n",
       " <Reaction MTHFD at 0x7fd7deaf27b8>,\n",
       " <Reaction THRD_L at 0x7fd7deaf24e0>,\n",
       " <Reaction EAR60y at 0x7fd7deaf2978>,\n",
       " <Reaction CDPMEK at 0x7fd7deaf2b70>,\n",
       " <Reaction PGMT at 0x7fd7deaf2e80>,\n",
       " <Reaction PGSA181 at 0x7fd7deaf2e10>,\n",
       " <Reaction PItex at 0x7fd7de8c1128>,\n",
       " <Reaction ASPCTr at 0x7fd7de8c10b8>,\n",
       " <Reaction MALtex at 0x7fd7de8c1390>,\n",
       " <Reaction CYTK1 at 0x7fd7de8c14a8>,\n",
       " <Reaction SUCCOAH at 0x7fd7de8c1278>,\n",
       " <Reaction HNEUROPNMT2 at 0x7fd7deaf2ac8>,\n",
       " <Reaction 2AGPEAT180acp at 0x7fd7de8c1588>,\n",
       " <Reaction HNEUROPNMT3 at 0x7fd7de8c19b0>,\n",
       " <Reaction HNEUROPNMT4 at 0x7fd7de8c1518>,\n",
       " <Reaction DHPPDA2 at 0x7fd7de8c1cf8>,\n",
       " <Reaction PGSA180 at 0x7fd7de8c1ef0>,\n",
       " <Reaction CITtex at 0x7fd7de8ce080>,\n",
       " <Reaction PHYNDH_e at 0x7fd7de8c1fd0>,\n",
       " <Reaction HNEUROPNMT6 at 0x7fd7de8ce198>,\n",
       " <Reaction HNEUROPNMT5 at 0x7fd7de8c1e80>,\n",
       " <Reaction GLYCL_3 at 0x7fd7de8ce668>,\n",
       " <Reaction EX_ac_e at 0x7fd7de8ce898>,\n",
       " <Reaction EX_etma_e at 0x7fd7de8ce240>,\n",
       " <Reaction EDTXS1 at 0x7fd7de8ce908>,\n",
       " <Reaction PRE3BS at 0x7fd7de8ce940>,\n",
       " <Reaction HACD1 at 0x7fd7de8cef28>,\n",
       " <Reaction HACD2 at 0x7fd7de8dd048>,\n",
       " <Reaction HACD5 at 0x7fd7de8dd208>,\n",
       " <Reaction HACD6 at 0x7fd7de8dd400>,\n",
       " <Reaction HACD3 at 0x7fd7de8dd5f8>,\n",
       " <Reaction MTRI2 at 0x7fd7de8dd7f0>,\n",
       " <Reaction HACD4 at 0x7fd7de8dd8d0>,\n",
       " <Reaction ARGTRS at 0x7fd7de8dda58>,\n",
       " <Reaction AACPS3 at 0x7fd7de8ddcc0>,\n",
       " <Reaction AACPS4 at 0x7fd7de8ddef0>,\n",
       " <Reaction SHK3Dr at 0x7fd7de8e9128>,\n",
       " <Reaction AACPS5 at 0x7fd7de8e92e8>,\n",
       " <Reaction AACPS6 at 0x7fd7de8e94a8>,\n",
       " <Reaction IGPS at 0x7fd7de8e97b8>,\n",
       " <Reaction EX_h2o_e at 0x7fd7de8ddb38>,\n",
       " <Reaction GLYCLTDx at 0x7fd7de8e9630>,\n",
       " <Reaction SULabcpp at 0x7fd7de8e97f0>,\n",
       " <Reaction HACD7 at 0x7fd7de8e9e10>,\n",
       " <Reaction SHCHD2 at 0x7fd7de8e9588>,\n",
       " <Reaction RIBONAtex at 0x7fd7de8e9cc0>,\n",
       " <Reaction ADK1 at 0x7fd7de8fb0f0>,\n",
       " <Reaction PC6YM at 0x7fd7de8fb438>,\n",
       " <Reaction EX_pyr_e at 0x7fd7de8e9c50>,\n",
       " <Reaction SALMMT at 0x7fd7de8fb630>,\n",
       " <Reaction GFUCS at 0x7fd7de8fb828>,\n",
       " <Reaction GMPS at 0x7fd7de8fb9e8>,\n",
       " <Reaction POLYPIP at 0x7fd7de8fbc18>,\n",
       " <Reaction DNTPPA at 0x7fd7de8fbb70>,\n",
       " <Reaction MALTATr at 0x7fd7de8fbef0>,\n",
       " <Reaction ACACt2pp at 0x7fd7de8fbfd0>,\n",
       " <Reaction PYRtex at 0x7fd7de849198>,\n",
       " <Reaction GLUTRS at 0x7fd7de849208>,\n",
       " <Reaction ATPM at 0x7fd7de8494e0>,\n",
       " <Reaction FE2tex at 0x7fd7de8496a0>,\n",
       " <Reaction GLXDH at 0x7fd7de849780>,\n",
       " <Reaction MOBDMPTL at 0x7fd7de8492e8>,\n",
       " <Reaction HACYLCOAEPI100 at 0x7fd7de849898>,\n",
       " <Reaction DB4PS at 0x7fd7de849630>,\n",
       " <Reaction LEUTRS at 0x7fd7de849860>,\n",
       " <Reaction GLUPRT at 0x7fd7de854048>,\n",
       " <Reaction HNEUROPNMT at 0x7fd7de849f60>,\n",
       " <Reaction PTPAT at 0x7fd7de854470>,\n",
       " <Reaction DDPA at 0x7fd7de8546a0>,\n",
       " <Reaction ASPtex at 0x7fd7de854748>,\n",
       " <Reaction FBA at 0x7fd7de854898>,\n",
       " <Reaction HEXTT at 0x7fd7de854a20>,\n",
       " <Reaction RIBtex at 0x7fd7de854b00>,\n",
       " <Reaction AKGDH at 0x7fd7de854c50>,\n",
       " <Reaction LYXtex at 0x7fd7de854e10>,\n",
       " <Reaction EAR181y at 0x7fd7de854e80>,\n",
       " <Reaction 2KDRIBtex at 0x7fd7de8544a8>,\n",
       " <Reaction ALATRS at 0x7fd7de861160>,\n",
       " <Reaction PC17M at 0x7fd7de8614e0>,\n",
       " <Reaction HSERTA at 0x7fd7de8615f8>,\n",
       " <Reaction TKT1 at 0x7fd7de8617f0>,\n",
       " <Reaction LPLIPAL2C161 at 0x7fd7de8618d0>,\n",
       " <Reaction CCR at 0x7fd7de861b70>,\n",
       " <Reaction PHETRS at 0x7fd7de861c88>,\n",
       " <Reaction P5CR at 0x7fd7de861ef0>,\n",
       " <Reaction EX_5dglcn_e at 0x7fd7de861710>,\n",
       " <Reaction ACACT7r at 0x7fd7de861320>,\n",
       " <Reaction ACACT5r at 0x7fd7de870240>,\n",
       " <Reaction P5CD at 0x7fd7de870470>,\n",
       " <Reaction ETFDH at 0x7fd7de870780>,\n",
       " <Reaction PYAM5POr at 0x7fd7de8707f0>,\n",
       " <Reaction LYSTRS at 0x7fd7de870a20>,\n",
       " <Reaction EAR141y at 0x7fd7de870c18>,\n",
       " <Reaction UDPGLCUREPI at 0x7fd7de861f28>,\n",
       " <Reaction PC8XM at 0x7fd7de870e80>,\n",
       " <Reaction ACACT6r at 0x7fd7de7c3048>,\n",
       " <Reaction FBP at 0x7fd7de7c3240>,\n",
       " <Reaction DALAOX at 0x7fd7de7c33c8>,\n",
       " <Reaction EX_for_e at 0x7fd7de7c3358>,\n",
       " <Reaction KAT8 at 0x7fd7de7c34a8>,\n",
       " <Reaction DHAtpp at 0x7fd7de7c3748>,\n",
       " <Reaction EAR140y at 0x7fd7de7c37b8>,\n",
       " <Reaction ADCPS2 at 0x7fd7de7c3a58>,\n",
       " <Reaction LPLIPAL2C181 at 0x7fd7de7c3828>,\n",
       " <Reaction EAR80y at 0x7fd7de7c3e48>,\n",
       " <Reaction LPLIPAL2C180 at 0x7fd7de7c3c88>,\n",
       " <Reaction EX_h_e at 0x7fd7de7ce240>,\n",
       " <Reaction MOBDabcpp at 0x7fd7de7c3f60>,\n",
       " <Reaction DHORD at 0x7fd7de7ce630>,\n",
       " <Reaction EAR160y at 0x7fd7de7ce390>,\n",
       " <Reaction PEMT181 at 0x7fd7de7ce860>,\n",
       " <Reaction PEMT180 at 0x7fd7de7cea90>,\n",
       " <Reaction SOTA at 0x7fd7de7ced30>,\n",
       " <Reaction APRAUR at 0x7fd7de7ceb70>,\n",
       " <Reaction CA2tex at 0x7fd7de7dc048>,\n",
       " <Reaction ACACT4r at 0x7fd7de7dc0b8>,\n",
       " <Reaction AICART at 0x7fd7de7dc278>,\n",
       " <Reaction NADS1 at 0x7fd7de7dc4e0>,\n",
       " <Reaction HACYLCOAEPI140 at 0x7fd7de7ce470>,\n",
       " <Reaction NADS2 at 0x7fd7de7dc588>,\n",
       " <Reaction HPPK2 at 0x7fd7de7dcc50>,\n",
       " <Reaction COBALT2tpp at 0x7fd7de7dc400>,\n",
       " <Reaction RNDR3 at 0x7fd7de7dccc0>,\n",
       " <Reaction ENCOAI81 at 0x7fd7de7dc908>,\n",
       " <Reaction RNDR2 at 0x7fd7de7dcda0>,\n",
       " <Reaction UAGDP at 0x7fd7de7ed3c8>,\n",
       " <Reaction PDX5PS2 at 0x7fd7de7ed400>,\n",
       " <Reaction RNDR1 at 0x7fd7de7ed7b8>,\n",
       " <Reaction AKGtex at 0x7fd7de7ed908>,\n",
       " <Reaction PUNP8 at 0x7fd7de7ed9b0>,\n",
       " <Reaction L_LALDtex at 0x7fd7de7edb38>,\n",
       " <Reaction PUNP9 at 0x7fd7de7ed198>,\n",
       " <Reaction L_LACt2rpp at 0x7fd7de7edd30>,\n",
       " <Reaction EAR40y at 0x7fd7de7edcc0>,\n",
       " <Reaction ALAGLUEPI at 0x7fd7de7dcf98>,\n",
       " <Reaction GPDDA1 at 0x7fd7de7fa080>,\n",
       " <Reaction GPDDA2 at 0x7fd7de7fa320>,\n",
       " <Reaction DAHETBCLPHDDH at 0x7fd7de7fa0f0>,\n",
       " <Reaction PUNP7 at 0x7fd7de7fa630>,\n",
       " <Reaction EX_DM_trnaala at 0x7fd7de7fa780>,\n",
       " <Reaction GLNTRAT at 0x7fd7de7fa7b8>,\n",
       " <Reaction ACACT3r at 0x7fd7de7fab38>,\n",
       " <Reaction EX_DM_trnaile at 0x7fd7de7fa898>,\n",
       " <Reaction EX_photon_e at 0x7fd7de7fa208>,\n",
       " <Reaction DCAtex at 0x7fd7de7fac18>,\n",
       " <Reaction NTPPD11 at 0x7fd7de7fac50>,\n",
       " <Reaction 3HBCDH at 0x7fd7de70e0b8>,\n",
       " <Reaction GCALDDr at 0x7fd7de70e2b0>,\n",
       " <Reaction ACACT2r at 0x7fd7de70e4e0>,\n",
       " <Reaction PPNDH at 0x7fd7de70e6a0>,\n",
       " <Reaction EX_xylnt_D_e at 0x7fd7de7fafd0>,\n",
       " <Reaction FPGS8 at 0x7fd7de70e390>,\n",
       " <Reaction ACtex at 0x7fd7de70ebe0>,\n",
       " <Reaction AHC at 0x7fd7de70ec18>,\n",
       " <Reaction ALATA_D at 0x7fd7de70e860>,\n",
       " <Reaction ZCARDS2 at 0x7fd7de70ecc0>,\n",
       " <Reaction ADSK at 0x7fd7de71c1d0>,\n",
       " <Reaction GTPCII2 at 0x7fd7de71c2e8>,\n",
       " <Reaction HACYLCOAEPI120 at 0x7fd7de70efd0>,\n",
       " <Reaction LYXNTtex at 0x7fd7de70edd8>,\n",
       " <Reaction ENCOAI61 at 0x7fd7de71c518>,\n",
       " <Reaction TDSK at 0x7fd7de71c6d8>,\n",
       " <Reaction APG3PAT160 at 0x7fd7de70ef98>,\n",
       " <Reaction ACALDtpp at 0x7fd7de71c9e8>,\n",
       " <Reaction APG3PAT161 at 0x7fd7de71c8d0>,\n",
       " <Reaction ADSS at 0x7fd7de71cc88>,\n",
       " <Reaction FACOAL60 at 0x7fd7de71c4a8>,\n",
       " <Reaction EX_DM_AMOB at 0x7fd7de71ce80>,\n",
       " <Reaction ACACT1r at 0x7fd7de71cda0>,\n",
       " <Reaction GLUTRS_Gln_ at 0x7fd7de71ce10>,\n",
       " <Reaction CYOO_4p at 0x7fd7de7314e0>,\n",
       " <Reaction MEOHDH at 0x7fd7de731710>,\n",
       " <Reaction PHYNS at 0x7fd7de731978>,\n",
       " <Reaction CDPGD at 0x7fd7de731b00>,\n",
       " <Reaction G2PP at 0x7fd7de731c88>,\n",
       " <Reaction TRPS1r at 0x7fd7de731668>,\n",
       " <Reaction OPHBDC at 0x7fd7de731fd0>,\n",
       " <Reaction ENCOAI41 at 0x7fd7de731eb8>,\n",
       " <Reaction TSULtex at 0x7fd7de6c5208>,\n",
       " <Reaction SORBNLDH at 0x7fd7de731cf8>,\n",
       " <Reaction APG3PAT180 at 0x7fd7de6c5278>,\n",
       " <Reaction APG3PAT181 at 0x7fd7de6c5518>,\n",
       " <Reaction APH181 at 0x7fd7de6c53c8>,\n",
       " <Reaction ACPpds at 0x7fd7de6c5940>,\n",
       " <Reaction EX_rib_D_e at 0x7fd7de6c56d8>,\n",
       " <Reaction CHORS at 0x7fd7de6c5b38>,\n",
       " <Reaction APH180 at 0x7fd7de6c5c50>,\n",
       " <Reaction CHORM at 0x7fd7de6c5f60>,\n",
       " <Reaction SUCOAS at 0x7fd7de6c5ef0>,\n",
       " <Reaction FACOAL80 at 0x7fd7de6c5d68>,\n",
       " <Reaction 5DGLCNR at 0x7fd7de6d4438>,\n",
       " <Reaction PPDK at 0x7fd7de6d4630>,\n",
       " <Reaction BTCAL at 0x7fd7de6d4908>,\n",
       " <Reaction H2MB4PRD at 0x7fd7de6d4780>,\n",
       " <Reaction GTHS at 0x7fd7de6d4c50>,\n",
       " <Reaction XYLNTtex at 0x7fd7de6c5c88>,\n",
       " <Reaction APH161 at 0x7fd7de6d4e48>,\n",
       " <Reaction TRPS3r at 0x7fd7de6d4fd0>,\n",
       " <Reaction ADPT at 0x7fd7de6e21d0>,\n",
       " <Reaction EX_DM_trnatrp at 0x7fd7de6d4eb8>,\n",
       " <Reaction CATetoh at 0x7fd7de6e2320>,\n",
       " <Reaction ACS at 0x7fd7de6e25c0>,\n",
       " <Reaction MREDR at 0x7fd7de6e2828>,\n",
       " <Reaction PPPGO at 0x7fd7de6e29e8>,\n",
       " <Reaction USHD at 0x7fd7de6e2b00>,\n",
       " <Reaction ZCARDS at 0x7fd7de6e2be0>,\n",
       " <Reaction EX_ca2_e at 0x7fd7de6e2b70>,\n",
       " <Reaction APH160 at 0x7fd7de6e2e10>,\n",
       " <Reaction UAGAAT at 0x7fd7de6f6048>,\n",
       " <Reaction CA2abctpp at 0x7fd7de6e2f98>,\n",
       " <Reaction HSTPTr at 0x7fd7de6f6438>,\n",
       " <Reaction ZCARDS2_e at 0x7fd7de6f64e0>,\n",
       " <Reaction EX_lald_L_e_ at 0x7fd7de6f6278>,\n",
       " <Reaction TRPTRS at 0x7fd7de6f6710>,\n",
       " <Reaction PROD2 at 0x7fd7de6f6a20>,\n",
       " <Reaction DHORTS at 0x7fd7de6f6b00>,\n",
       " <Reaction MOGDS at 0x7fd7de6f6cf8>,\n",
       " <Reaction EAR161y at 0x7fd7de6f6e80>,\n",
       " <Reaction CYSTRS at 0x7fd7de6f6fd0>,\n",
       " <Reaction 3HAD121 at 0x7fd7de647320>,\n",
       " <Reaction EX_DM_trnaval at 0x7fd7de6f6e10>,\n",
       " <Reaction 3HAD120 at 0x7fd7de647240>,\n",
       " <Reaction IPMD2r at 0x7fd7de647550>,\n",
       " <Reaction FCLPA at 0x7fd7de647860>,\n",
       " <Reaction EX_dca_e at 0x7fd7de647518>,\n",
       " <Reaction COCHL at 0x7fd7de6479b0>,\n",
       " <Reaction CPPPGO at 0x7fd7de647c50>,\n",
       " <Reaction EX_galcDarab_e at 0x7fd7de647b70>,\n",
       " <Reaction HISTDADH at 0x7fd7de6474a8>,\n",
       " <Reaction EX_tsul_e at 0x7fd7de647e80>,\n",
       " <Reaction ASPTA at 0x7fd7de6560f0>,\n",
       " <Reaction KAT141 at 0x7fd7de656278>,\n",
       " <Reaction TARTRtex at 0x7fd7de656358>,\n",
       " <Reaction PSD161 at 0x7fd7de656438>,\n",
       " <Reaction GLU5K at 0x7fd7de656780>,\n",
       " <Reaction PSD160 at 0x7fd7de6565c0>,\n",
       " <Reaction TARTR_Ltpp at 0x7fd7de656978>,\n",
       " <Reaction DXPS at 0x7fd7de656ba8>,\n",
       " <Reaction FACOAL121 at 0x7fd7de647f60>,\n",
       " <Reaction FACOAL120 at 0x7fd7de656c50>,\n",
       " <Reaction VALTRS at 0x7fd7de67d0f0>,\n",
       " <Reaction EX_D_araba_e at 0x7fd7de6566a0>,\n",
       " <Reaction PHAS at 0x7fd7de67d1d0>,\n",
       " <Reaction EX_mg2_e at 0x7fd7de656c18>,\n",
       " <Reaction SUCCD1 at 0x7fd7de67d400>,\n",
       " <Reaction MEPCT at 0x7fd7de67d6d8>,\n",
       " <Reaction EX_lac_L_e at 0x7fd7de67d278>,\n",
       " <Reaction METAT at 0x7fd7de67d518>,\n",
       " <Reaction ETOHtex at 0x7fd7de67db70>,\n",
       " <Reaction 3HAD100 at 0x7fd7de67dbe0>,\n",
       " <Reaction FRDOr at 0x7fd7de67dd30>,\n",
       " <Reaction THRTRS at 0x7fd7de67df60>,\n",
       " <Reaction EX_co2_e at 0x7fd7de67de48>,\n",
       " <Reaction TMPPP at 0x7fd7de55e160>,\n",
       " <Reaction KAT121 at 0x7fd7de55e358>,\n",
       " <Reaction HACDHG at 0x7fd7de55e240>,\n",
       " <Reaction PRMICI at 0x7fd7de55e278>,\n",
       " <Reaction EX_araba_e at 0x7fd7de55e630>,\n",
       " <Reaction VALTA at 0x7fd7de55e898>,\n",
       " <Reaction FCLT at 0x7fd7de55eac8>,\n",
       " <Reaction PRFGS at 0x7fd7de55ec50>,\n",
       " <Reaction MFPGS5 at 0x7fd7de55ef28>,\n",
       " <Reaction TYRTA at 0x7fd7de4431d0>,\n",
       " <Reaction T2DECAI at 0x7fd7de443240>,\n",
       " <Reaction THMBIOS2 at 0x7fd7de67dc88>,\n",
       " <Reaction THMBIOS3 at 0x7fd7de443470>,\n",
       " <Reaction THMBIOS4 at 0x7fd7de443550>,\n",
       " <Reaction PPCDC at 0x7fd7de443748>,\n",
       " <Reaction FACOAL100 at 0x7fd7de443828>,\n",
       " <Reaction PPA2 at 0x7fd7de443b38>,\n",
       " <Reaction RPI at 0x7fd7de443cc0>,\n",
       " <Reaction DHXANTI at 0x7fd7de443c88>,\n",
       " <Reaction EX_DM_trnaphe at 0x7fd7de4433c8>,\n",
       " <Reaction ORPT at 0x7fd7de443e48>,\n",
       " <Reaction DHXANTH at 0x7fd7de4439b0>,\n",
       " <Reaction GMPS2 at 0x7fd7de4681d0>,\n",
       " <Reaction PYK at 0x7fd7de4685f8>,\n",
       " <Reaction RPE at 0x7fd7de4686d8>,\n",
       " <Reaction PTA2 at 0x7fd7de468320>,\n",
       " <Reaction ASAD at 0x7fd7de468940>,\n",
       " <Reaction ACPS1 at 0x7fd7de468ba8>,\n",
       " <Reaction FMNRx2 at 0x7fd7de468c18>,\n",
       " <Reaction HACOAEPI141 at 0x7fd7de443f28>,\n",
       " <Reaction BMMALCOAL at 0x7fd7de468cf8>,\n",
       " <Reaction EX_DM_thif at 0x7fd7de4687b8>,\n",
       " <Reaction PRAMPC at 0x7fd7de468f98>,\n",
       " <Reaction FUM at 0x7fd7de3893c8>,\n",
       " <Reaction EX_fe2_e at 0x7fd7de468f60>,\n",
       " <Reaction EX_acac_e at 0x7fd7de468710>,\n",
       " <Reaction EX_DM_thil at 0x7fd7de3892b0>,\n",
       " <Reaction KAT181 at 0x7fd7de389400>,\n",
       " <Reaction HGBAMS at 0x7fd7de3895c0>,\n",
       " <Reaction DHDPRy at 0x7fd7de389b70>,\n",
       " <Reaction EX_DM_trnagln at 0x7fd7de3896d8>,\n",
       " <Reaction BRFAPS at 0x7fd7de389c50>,\n",
       " <Reaction EX_DM_this at 0x7fd7de389668>,\n",
       " <Reaction EX_ppa_e at 0x7fd7de3898d0>,\n",
       " <Reaction LPLIPAL1E181 at 0x7fd7de389e10>,\n",
       " <Reaction LEUTAi at 0x7fd7de3b10f0>,\n",
       " <Reaction EX_DM_trnaglu at 0x7fd7de389ef0>,\n",
       " <Reaction ACONT at 0x7fd7de3b1080>,\n",
       " <Reaction EX_DM_trnagly at 0x7fd7de389828>,\n",
       " <Reaction FPGS10 at 0x7fd7de3b1400>,\n",
       " <Reaction ENCOAI162 at 0x7fd7de3b12b0>,\n",
       " <Reaction FACOAL161 at 0x7fd7de3b1630>,\n",
       " <Reaction ENCOAI161 at 0x7fd7de3b1780>,\n",
       " <Reaction FACOAL160 at 0x7fd7de3b1940>,\n",
       " <Reaction NNDMBRT at 0x7fd7de3b1cc0>,\n",
       " <Reaction ALAR at 0x7fd7de3b1eb8>,\n",
       " <Reaction ALAS at 0x7fd7de3b1f98>,\n",
       " <Reaction ORNDC at 0x7fd7de2992e8>,\n",
       " <Reaction NADK at 0x7fd7de299438>,\n",
       " <Reaction EX_cu2_e at 0x7fd7de3b1be0>,\n",
       " <Reaction DBTSr at 0x7fd7de2990b8>,\n",
       " <Reaction GLUtex at 0x7fd7de299860>,\n",
       " <Reaction HACOAEPI121 at 0x7fd7de2997b8>,\n",
       " <Reaction GAPD at 0x7fd7de299940>,\n",
       " <Reaction CU2abcpp at 0x7fd7de299710>,\n",
       " <Reaction KDOPS at 0x7fd7de299f28>,\n",
       " <Reaction GLYAMDTRc at 0x7fd7de299ac8>,\n",
       " <Reaction UPP3S at 0x7fd7de2bc1d0>,\n",
       " <Reaction UPP3MT at 0x7fd7de2bc208>,\n",
       " <Reaction KDOPP at 0x7fd7de2bc518>,\n",
       " <Reaction THD2pp at 0x7fd7de2bc588>,\n",
       " <Reaction EX_so4_e at 0x7fd7de299cf8>,\n",
       " <Reaction ETHMALCOAM at 0x7fd7de299a20>,\n",
       " <Reaction LPLIPAL1E160 at 0x7fd7de2bc630>,\n",
       " <Reaction LPLIPAL1E161 at 0x7fd7de2bc668>,\n",
       " <Reaction KAT161 at 0x7fd7de2bcc18>,\n",
       " <Reaction HSK at 0x7fd7de2bcdd8>,\n",
       " <Reaction EX_glyclt_e at 0x7fd7de2bc8d0>,\n",
       " <Reaction MLMPTDHy at 0x7fd7de2bc860>,\n",
       " <Reaction PHBD2 at 0x7fd7de25d1d0>,\n",
       " <Reaction ENCOAI182 at 0x7fd7de2bce10>,\n",
       " <Reaction FACOAL141 at 0x7fd7de2bc898>,\n",
       " <Reaction ENCOAI181 at 0x7fd7de25d358>,\n",
       " <Reaction FRTT at 0x7fd7de25d630>,\n",
       " <Reaction FACOAL140 at 0x7fd7de25d8d0>,\n",
       " <Reaction ASP1DC at 0x7fd7de25db00>,\n",
       " <Reaction DHQS at 0x7fd7de25dcc0>,\n",
       " <Reaction CBPS at 0x7fd7de25dda0>,\n",
       " <Reaction LDH_L at 0x7fd7ddfbe1d0>,\n",
       " <Reaction ETHAtex at 0x7fd7ddfbe160>,\n",
       " <Reaction THZS at 0x7fd7ddfbe320>,\n",
       " <Reaction DNMPPA at 0x7fd7ddfbe4a8>,\n",
       " <Reaction EX_mobd_e at 0x7fd7de25ddd8>,\n",
       " <Reaction DHQD at 0x7fd7ddfbe630>,\n",
       " <Reaction CLt4 at 0x7fd7ddfbe860>,\n",
       " <Reaction GLYTRS at 0x7fd7ddfbe7f0>,\n",
       " <Reaction Kabcpp at 0x7fd7ddfbeac8>,\n",
       " <Reaction PPAt7 at 0x7fd7ddfbee80>,\n",
       " <Reaction MALDHDC at 0x7fd7ddfbe978>,\n",
       " <Reaction HNEUROPNS2 at 0x7fd7ddfbea20>,\n",
       " <Reaction EX_dha_e at 0x7fd7ddfbeb70>,\n",
       " <Reaction HNEUROPNS1 at 0x7fd7ddfbecc0>,\n",
       " <Reaction ACPPAT181 at 0x7fd7ddfbec88>,\n",
       " <Reaction UAAGDS at 0x7fd7ddfe72b0>,\n",
       " <Reaction SDPDS at 0x7fd7ddfe7860>,\n",
       " <Reaction HACOAEPI181 at 0x7fd7ddfe7550>,\n",
       " <Reaction MCPST at 0x7fd7ddfe7940>,\n",
       " <Reaction ACPPAT180 at 0x7fd7ddfe7588>,\n",
       " <Reaction AIRCr at 0x7fd7ddfe7d30>,\n",
       " <Reaction IG3PS at 0x7fd7ddfe7ef0>,\n",
       " <Reaction MOBDtex at 0x7fd7ddf89128>,\n",
       " <Reaction GLYCLTtex at 0x7fd7ddfe7fd0>,\n",
       " <Reaction ACOTA at 0x7fd7ddf89208>,\n",
       " <Reaction TMDS at 0x7fd7ddf894a8>,\n",
       " <Reaction PRAIS at 0x7fd7ddf89668>,\n",
       " <Reaction ANACMURLALAA at 0x7fd7ddfe7c50>,\n",
       " <Reaction UPPDC1 at 0x7fd7ddf89780>,\n",
       " <Reaction ARABA_Dtex at 0x7fd7ddf89a20>,\n",
       " <Reaction EX_arab_D_e at 0x7fd7ddf899b0>,\n",
       " <Reaction SPOTN at 0x7fd7ddf89b70>,\n",
       " <Reaction 3OAR40 at 0x7fd7ddf89da0>,\n",
       " <Reaction XYLtex at 0x7fd7ddf89ef0>,\n",
       " <Reaction SSALyr at 0x7fd7ddf89f60>,\n",
       " <Reaction UDPGDr at 0x7fd7ddfab2b0>,\n",
       " <Reaction DTPCUDCPPP at 0x7fd7ddfab1d0>,\n",
       " <Reaction PPC at 0x7fd7ddfab6d8>,\n",
       " <Reaction PPA at 0x7fd7ddfab940>,\n",
       " <Reaction BTCOAC at 0x7fd7ddfab978>,\n",
       " <Reaction 3HAD181 at 0x7fd7ddfabc18>,\n",
       " <Reaction PPDODH at 0x7fd7ddfabb00>,\n",
       " <Reaction 3HAD180 at 0x7fd7ddfabe48>,\n",
       " <Reaction ACPPAT161 at 0x7fd7ddfaba58>,\n",
       " <Reaction ACPPAT160 at 0x7fd7ddfabf28>,\n",
       " <Reaction HACOAEPI161 at 0x7fd7dde54320>,\n",
       " <Reaction MLMPTDH at 0x7fd7dde54390>,\n",
       " <Reaction PRAI at 0x7fd7dde54668>,\n",
       " <Reaction CBLAT at 0x7fd7dde54748>,\n",
       " <Reaction DPCOAK at 0x7fd7dde548d0>,\n",
       " <Reaction FTHFL at 0x7fd7dde54ba8>,\n",
       " <Reaction EX_akg_e at 0x7fd7dde54a58>,\n",
       " <Reaction ILETRS at 0x7fd7dde54cf8>,\n",
       " <Reaction ASPO6 at 0x7fd7dde54fd0>,\n",
       " <Reaction PRE5MT at 0x7fd7dde71128>,\n",
       " <Reaction FACOAL180 at 0x7fd7dde54e48>,\n",
       " <Reaction FACOAL181 at 0x7fd7dde54cc0>,\n",
       " <Reaction FALDHp at 0x7fd7dde716a0>,\n",
       " <Reaction TRSARr at 0x7fd7dde71898>,\n",
       " <Reaction DHOANTC at 0x7fd7dde71a20>,\n",
       " <Reaction PRBK at 0x7fd7dde71c88>,\n",
       " <Reaction LPLIP2AGPC160 at 0x7fd7dde71780>,\n",
       " <Reaction DHFS at 0x7fd7ddd5a048>,\n",
       " <Reaction PGPP160 at 0x7fd7ddd5a240>,\n",
       " <Reaction DHFR at 0x7fd7ddd5a390>,\n",
       " <Reaction EX_meoh_e at 0x7fd7dde71d68>,\n",
       " <Reaction PGPP161 at 0x7fd7ddd5a518>,\n",
       " <Reaction 3HAD160 at 0x7fd7ddd5a668>,\n",
       " <Reaction 3HAD161 at 0x7fd7ddd5a5c0>,\n",
       " <Reaction LGTHL at 0x7fd7ddd5a940>,\n",
       " <Reaction PTAr at 0x7fd7ddd5aac8>,\n",
       " <Reaction FMFTFMPT at 0x7fd7ddd5abe0>,\n",
       " <Reaction PMPK at 0x7fd7ddd5ada0>,\n",
       " <Reaction GMAND at 0x7fd7ddd7a080>,\n",
       " <Reaction G3PD2 at 0x7fd7ddd7a128>,\n",
       " <Reaction 12PPDStex at 0x7fd7ddd5ae48>,\n",
       " <Reaction 3OAR80 at 0x7fd7ddd7a320>,\n",
       " <Reaction METTRS at 0x7fd7ddd7a518>,\n",
       " <Reaction TRPS2 at 0x7fd7ddd7a860>,\n",
       " <Reaction AMAOTr at 0x7fd7ddd7a6d8>,\n",
       " <Reaction FALDA at 0x7fd7ddd7ab70>,\n",
       " <Reaction ADOCBLPS at 0x7fd7ddd7aa20>,\n",
       " <Reaction H2MPTR2 at 0x7fd7ddd7ad68>,\n",
       " <Reaction PRATPP at 0x7fd7ddd7afd0>,\n",
       " <Reaction OMMBZH2 at 0x7fd7ddc1b160>,\n",
       " <Reaction ADMDCr at 0x7fd7ddc1b320>,\n",
       " <Reaction PGPP180 at 0x7fd7ddc1b278>,\n",
       " <Reaction EX_DM_5dr1p at 0x7fd7ddc1b5c0>,\n",
       " <Reaction 3HAD140 at 0x7fd7ddc1b5f8>,\n",
       " <Reaction PGPP181 at 0x7fd7ddc1b6a0>,\n",
       " <Reaction TMPKr at 0x7fd7ddc1b978>,\n",
       " <Reaction 3HAD141 at 0x7fd7ddc1b860>,\n",
       " <Reaction EX_h2o2_e at 0x7fd7ddc1b518>,\n",
       " <Reaction EX_asp_L_e at 0x7fd7ddc1b9b0>,\n",
       " <Reaction EX_DM_trnaleu at 0x7fd7ddc1b8d0>,\n",
       " <Reaction DUTPDP at 0x7fd7ddc1bc18>,\n",
       " <Reaction 3PSMES at 0x7fd7ddc1bef0>,\n",
       " <Reaction FMETTRS at 0x7fd7ddb01080>,\n",
       " <Reaction NAtex at 0x7fd7ddb012b0>,\n",
       " <Reaction MI3PP at 0x7fd7ddb01390>,\n",
       " <Reaction 2AGPEAT160acp at 0x7fd7ddc1bda0>,\n",
       " <Reaction OCOAT1r at 0x7fd7ddb01438>,\n",
       " <Reaction ADCMS2 at 0x7fd7ddb013c8>,\n",
       " <Reaction PSD181 at 0x7fd7ddb016d8>,\n",
       " <Reaction PSD180 at 0x7fd7ddb01860>,\n",
       " <Reaction 3OAR60 at 0x7fd7ddb019b0>,\n",
       " <Reaction ADOCBIK at 0x7fd7ddb01d68>,\n",
       " <Reaction PERD at 0x7fd7ddb22080>,\n",
       " <Reaction H2MB4P at 0x7fd7ddb221d0>,\n",
       " <Reaction UDPACGAM at 0x7fd7ddb01b38>,\n",
       " <Reaction HACOADH121 at 0x7fd7ddb01e10>,\n",
       " <Reaction E4PD at 0x7fd7ddb22668>,\n",
       " <Reaction CLtex at 0x7fd7ddb22940>,\n",
       " <Reaction KDOCT at 0x7fd7ddb224e0>,\n",
       " <Reaction 3OAR160 at 0x7fd7ddb22a20>,\n",
       " <Reaction ADSL1r at 0x7fd7ddb22be0>,\n",
       " <Reaction 3OAR161 at 0x7fd7ddb22c88>,\n",
       " <Reaction PHYNS2 at 0x7fd7ddb22f28>,\n",
       " <Reaction PGI at 0x7fd7dda04160>,\n",
       " <Reaction HFACOAE60 at 0x7fd7ddb22e48>,\n",
       " <Reaction PGK at 0x7fd7dda044a8>,\n",
       " <Reaction GF6PTAr at 0x7fd7dda045f8>,\n",
       " <Reaction UAMAGS at 0x7fd7dda045c0>,\n",
       " <Reaction PGM at 0x7fd7dda04b70>,\n",
       " <Reaction MMPTC at 0x7fd7dda042b0>,\n",
       " <Reaction MG2tex at 0x7fd7dda04828>,\n",
       " <Reaction MPTAT at 0x7fd7dda04e10>,\n",
       " <Reaction FUMtex at 0x7fd7dda04f60>,\n",
       " <Reaction EX_cl_e at 0x7fd7dda04fd0>,\n",
       " <Reaction LPLIP1AGPC160 at 0x7fd7dda04da0>,\n",
       " <Reaction PPBNGS at 0x7fd7dda27278>,\n",
       " <Reaction PAPR at 0x7fd7dda274e0>,\n",
       " <Reaction PYRt2rpp at 0x7fd7dda04e80>,\n",
       " <Reaction PSP_D at 0x7fd7dda277b8>,\n",
       " <Reaction MALCOATE at 0x7fd7dda27828>,\n",
       " <Reaction OCMPH2 at 0x7fd7dda279e8>,\n",
       " <Reaction PIt2rpp at 0x7fd7dda27ba8>,\n",
       " <Reaction PSP_L at 0x7fd7dda27e10>,\n",
       " <Reaction SPMS at 0x7fd7dda27f60>,\n",
       " <Reaction FACOAE180 at 0x7fd7dda27128>,\n",
       " <Reaction EX_pi_e at 0x7fd7dd84c278>,\n",
       " <Reaction UGMDDS at 0x7fd7dd84c2b0>,\n",
       " <Reaction OCBT at 0x7fd7dd84c6a0>,\n",
       " <Reaction MNtex at 0x7fd7dd84c7f0>,\n",
       " <Reaction HEMEOS at 0x7fd7dd84c780>,\n",
       " <Reaction BDH at 0x7fd7dd84cac8>,\n",
       " <Reaction G5SD at 0x7fd7dd84cc88>,\n",
       " <Reaction AGPR at 0x7fd7dd84ce48>,\n",
       " <Reaction 3OAR140 at 0x7fd7dd84cfd0>,\n",
       " <Reaction 3OAR141 at 0x7fd7dd872160>,\n",
       " <Reaction EX_ribona_e at 0x7fd7dd84ceb8>,\n",
       " <Reaction OHPHM at 0x7fd7dd872358>,\n",
       " <Reaction GALCDARABtex at 0x7fd7dd84c908>,\n",
       " <Reaction O2tex at 0x7fd7dd872400>,\n",
       " <Reaction ARABAtex at 0x7fd7dd872588>,\n",
       " <Reaction MAN1PT at 0x7fd7dd8727b8>,\n",
       " <Reaction Biomass_Mextorquens_AM1 at 0x7fd7dd84c8d0>,\n",
       " <Reaction ADSL2r at 0x7fd7dd837588>,\n",
       " <Reaction TALA at 0x7fd7dd808a20>,\n",
       " <Reaction AGPAT161 at 0x7fd7dd808908>,\n",
       " <Reaction 3HAD60 at 0x7fd7dd8088d0>,\n",
       " <Reaction PGCDr at 0x7fd7dd808588>,\n",
       " <Reaction AGPAT160 at 0x7fd7dd808940>,\n",
       " <Reaction GTHPp at 0x7fd7dd8082b0>,\n",
       " <Reaction FACOAE160 at 0x7fd7dd808080>,\n",
       " <Reaction PDH at 0x7fd7dd872ef0>,\n",
       " <Reaction 3OAR120 at 0x7fd7dd872cf8>,\n",
       " <Reaction ILETA at 0x7fd7dd872908>,\n",
       " <Reaction 3OAR121 at 0x7fd7dd8376a0>,\n",
       " <Reaction MTAP at 0x7fd7dd8378d0>,\n",
       " <Reaction EX_k_e at 0x7fd7dd8379e8>,\n",
       " <Reaction H2Otex at 0x7fd7dd837a20>,\n",
       " <Reaction DAPE at 0x7fd7dd837c18>,\n",
       " <Reaction ASPK at 0x7fd7dd837cc0>,\n",
       " <Reaction EX_DM_h2mpt at 0x7fd7dd837e48>,\n",
       " <Reaction NO3tex at 0x7fd7dd837e80>,\n",
       " <Reaction EX_xyl_D_e at 0x7fd7dd837d68>,\n",
       " <Reaction HMPK1 at 0x7fd7dd507080>,\n",
       " <Reaction Htex at 0x7fd7dd5072e8>,\n",
       " <Reaction PDX5PO at 0x7fd7dd507278>,\n",
       " <Reaction UPP3MT2 at 0x7fd7dd5070f0>,\n",
       " <Reaction FORtex at 0x7fd7dd5073c8>,\n",
       " <Reaction GTHOr at 0x7fd7dd507780>,\n",
       " <Reaction ACS2 at 0x7fd7dd5079e8>,\n",
       " <Reaction AGPAT180 at 0x7fd7dd837cf8>,\n",
       " <Reaction G5SADr at 0x7fd7dd507a90>,\n",
       " <Reaction AGPAT181 at 0x7fd7dd507a20>,\n",
       " <Reaction EX_etoh_e at 0x7fd7dd507ef0>,\n",
       " <Reaction UAPGR at 0x7fd7dd507fd0>,\n",
       " <Reaction NDPK8 at 0x7fd7dd529320>,\n",
       " <Reaction NDPK7 at 0x7fd7dd529470>,\n",
       " <Reaction ATPS4rpp at 0x7fd7dd507e10>,\n",
       " <Reaction 3HAD80 at 0x7fd7dd529748>,\n",
       " <Reaction NDPK5 at 0x7fd7dd529828>,\n",
       " <Reaction NDPK4 at 0x7fd7dd529c88>,\n",
       " <Reaction NDPK3 at 0x7fd7dd529e10>,\n",
       " <Reaction FACOAE140 at 0x7fd7dd507d30>,\n",
       " <Reaction NDPK2 at 0x7fd7dd4c9160>,\n",
       " <Reaction NDPK1 at 0x7fd7dd4c9320>,\n",
       " <Reaction CA2NAtpp at 0x7fd7dd5296a0>,\n",
       " <Reaction METACH at 0x7fd7dd4c9518>,\n",
       " <Reaction GGTT at 0x7fd7dd4c9780>,\n",
       " <Reaction ANPRT at 0x7fd7dd4c99e8>,\n",
       " <Reaction AKGt2rpp at 0x7fd7dd529e80>,\n",
       " <Reaction EX_12ppd_S_e at 0x7fd7dd4c9be0>,\n",
       " <Reaction HFACOAE80 at 0x7fd7dd4c94e0>,\n",
       " <Reaction 3OAR100 at 0x7fd7dd4c9da0>,\n",
       " <Reaction MECDPS at 0x7fd7dd4c9f98>,\n",
       " <Reaction GLNS at 0x7fd7dd4ec1d0>,\n",
       " <Reaction F6PPKL at 0x7fd7dd4ec470>,\n",
       " <Reaction Zn2tex at 0x7fd7dd4ec5f8>,\n",
       " <Reaction MG2uabcpp at 0x7fd7dd4ec518>,\n",
       " <Reaction ACOATA at 0x7fd7dd4ec978>,\n",
       " <Reaction EX_fald_e at 0x7fd7dd4eca58>,\n",
       " <Reaction EX_nh4_e at 0x7fd7dd4ec320>,\n",
       " <Reaction MOHMT at 0x7fd7dd4ecb70>,\n",
       " <Reaction CMBLD2 at 0x7fd7dd4ecd30>,\n",
       " <Reaction 5DGLCNtex at 0x7fd7dd4ece80>,\n",
       " <Reaction AGDC_r at 0x7fd7dd4ecef0>,\n",
       " <Reaction HCO3E at 0x7fd7dd34d198>,\n",
       " <Reaction CMBLD4 at 0x7fd7dd34d278>,\n",
       " <Reaction CMBLD3 at 0x7fd7dd34d3c8>,\n",
       " <Reaction OXAFORtpp at 0x7fd7dd34d518>,\n",
       " <Reaction EX_na1_e at 0x7fd7dd34d6d8>,\n",
       " <Reaction EX_oxa_e at 0x7fd7dd4ecb38>,\n",
       " <Reaction PHYNDH2 at 0x7fd7dd34d748>,\n",
       " <Reaction QULNS at 0x7fd7dd34da90>,\n",
       " <Reaction GLUCYS at 0x7fd7dd34dbe0>,\n",
       " <Reaction EX_glc_e at 0x7fd7dd34d908>,\n",
       " <Reaction IGPDH at 0x7fd7dd34d7b8>,\n",
       " <Reaction ICDHyr at 0x7fd7dd34df60>,\n",
       " <Reaction MACACI at 0x7fd7dd3711d0>,\n",
       " <Reaction FORMMFRHD at 0x7fd7dd34d828>,\n",
       " <Reaction R3HAD40 at 0x7fd7dd371240>,\n",
       " <Reaction ENCOAI141 at 0x7fd7dd34de48>,\n",
       " <Reaction ENCOAI142 at 0x7fd7dd371438>,\n",
       " <Reaction ACGLCAM at 0x7fd7dd371668>,\n",
       " <Reaction ARGSSr at 0x7fd7dd3717b8>,\n",
       " <Reaction FACOAE60 at 0x7fd7dd371320>,\n",
       " <Reaction ACOAD161 at 0x7fd7dd371a20>,\n",
       " <Reaction UMPK at 0x7fd7dd371f60>,\n",
       " <Reaction PRASCS at 0x7fd7dd2d8128>,\n",
       " <Reaction ASNS1 at 0x7fd7dd2d84a8>,\n",
       " <Reaction SDPTA at 0x7fd7dd2d87f0>,\n",
       " <Reaction TPI at 0x7fd7dd2d82e8>,\n",
       " <Reaction PSSA181 at 0x7fd7dd2d84e0>,\n",
       " <Reaction PSSA180 at 0x7fd7dd2d8a20>,\n",
       " <Reaction NH4tpp at 0x7fd7dd2d8be0>,\n",
       " <Reaction TRE6PP at 0x7fd7dd2d88d0>,\n",
       " <Reaction TRE6PS at 0x7fd7dd2d8d30>,\n",
       " <Reaction THRPD at 0x7fd7dd280208>,\n",
       " <Reaction ACBIPGT at 0x7fd7dd280278>,\n",
       " <Reaction MAN6PI at 0x7fd7dd280400>,\n",
       " <Reaction THRPS at 0x7fd7dd2805c0>,\n",
       " <Reaction MESACOAH at 0x7fd7dd2d8908>,\n",
       " <Reaction LPLIPAL1C180 at 0x7fd7dd2d8940>,\n",
       " <Reaction ADCYRS at 0x7fd7dd280978>,\n",
       " <Reaction LPLIPAL1C181 at 0x7fd7dd2804e0>,\n",
       " <Reaction EX_DM_trnacys at 0x7fd7dd280860>,\n",
       " <Reaction EX_no3_e at 0x7fd7dd280b70>,\n",
       " <Reaction ETOHDH at 0x7fd7dd280dd8>,\n",
       " <Reaction ARGSL at 0x7fd7dd29f0f0>,\n",
       " <Reaction PTHPS at 0x7fd7dd29f278>,\n",
       " <Reaction ENCOAI121 at 0x7fd7dd280f98>,\n",
       " <Reaction ASPTRNAAMT at 0x7fd7dd280e48>,\n",
       " <Reaction EX_o2_e at 0x7fd7dd29f710>,\n",
       " <Reaction ACODA at 0x7fd7dd29f438>,\n",
       " <Reaction ENCOAI122 at 0x7fd7dd280ef0>,\n",
       " <Reaction RZ5PP at 0x7fd7dd29f898>,\n",
       " <Reaction ASPTRS at 0x7fd7dd29f860>,\n",
       " <Reaction NNAMr at 0x7fd7dd29fef0>,\n",
       " <Reaction UDPG4E at 0x7fd7dd29fd30>,\n",
       " <Reaction ACGS at 0x7fd7dd1c4128>,\n",
       " <Reaction ACOAD181 at 0x7fd7dd29f5f8>,\n",
       " <Reaction Ktex at 0x7fd7dd1c4438>,\n",
       " <Reaction HACOADH181 at 0x7fd7dd29ff60>,\n",
       " <Reaction HACOADH180 at 0x7fd7dd29fcc0>,\n",
       " <Reaction HTHRPD at 0x7fd7dd1c4710>,\n",
       " <Reaction ACGK at 0x7fd7dd1c4ac8>,\n",
       " <Reaction FACOAE80 at 0x7fd7dd1c4b70>,\n",
       " <Reaction CMPKDOT2 at 0x7fd7dd1c4748>,\n",
       " <Reaction CMPKDOT1 at 0x7fd7dd1c4b38>,\n",
       " <Reaction HEMEDS2 at 0x7fd7dd1c4fd0>,\n",
       " <Reaction SPODM at 0x7fd7dd1eb2e8>,\n",
       " <Reaction PSSA161 at 0x7fd7dd1eb390>,\n",
       " <Reaction PSSA160 at 0x7fd7dd1eb550>,\n",
       " <Reaction NTRIR4 at 0x7fd7dd1eb710>,\n",
       " <Reaction GLYCOX3 at 0x7fd7dd1eb978>,\n",
       " <Reaction GLYCOX4 at 0x7fd7dd1ebb70>,\n",
       " <Reaction OXAtex at 0x7fd7dd1ebd30>,\n",
       " <Reaction PPNCL2 at 0x7fd7dd1ebda0>,\n",
       " <Reaction GLYCOX5 at 0x7fd7dd10c0b8>,\n",
       " <Reaction UHGADA at 0x7fd7dd10c1d0>,\n",
       " <Reaction THRS at 0x7fd7dd10c438>,\n",
       " <Reaction BB_RMN at 0x7fd7dd10c4e0>,\n",
       " <Reaction METSr at 0x7fd7dd10c748>,\n",
       " <Reaction EX_DM_trnahis at 0x7fd7dd1ebe80>,\n",
       " <Reaction THRA at 0x7fd7dd10c470>,\n",
       " <Reaction LPLIPAL1C161 at 0x7fd7dd1eba58>,\n",
       " <Reaction HMBS at 0x7fd7dd10cc50>,\n",
       " <Reaction CYSTL at 0x7fd7dd10cdd8>,\n",
       " <Reaction CYSSr at 0x7fd7dd10cf60>,\n",
       " <Reaction ACOAD121 at 0x7fd7dd1ebe48>,\n",
       " <Reaction CBIAT at 0x7fd7dd130208>,\n",
       " <Reaction FMNAT at 0x7fd7dd130550>,\n",
       " <Reaction ENCOAI101 at 0x7fd7dd10cfd0>,\n",
       " <Reaction PGLYCP at 0x7fd7dd130748>,\n",
       " <Reaction KARA2 at 0x7fd7dd1309b0>,\n",
       " <Reaction HACOADH160 at 0x7fd7dd10cf98>,\n",
       " <Reaction HACOADH161 at 0x7fd7dd130a20>,\n",
       " <Reaction DHPS2 at 0x7fd7dd130e10>,\n",
       " <Reaction SADT at 0x7fd7dd013048>,\n",
       " <Reaction PC20M at 0x7fd7dd013240>,\n",
       " <Reaction KARA1 at 0x7fd7dd013470>,\n",
       " <Reaction 2DRIBOAtex at 0x7fd7dd130f28>,\n",
       " <Reaction IPPMIb at 0x7fd7dd013550>,\n",
       " <Reaction G1PTT at 0x7fd7dd013748>,\n",
       " <Reaction SKMK at 0x7fd7dd013a20>,\n",
       " <Reaction EX_fum_e at 0x7fd7dd130b38>,\n",
       " <Reaction PC6AR at 0x7fd7dd013668>,\n",
       " <Reaction 3OAR181 at 0x7fd7dd013d68>,\n",
       " <Reaction GLYCK2 at 0x7fd7dd013eb8>,\n",
       " <Reaction H2O2tpp at 0x7fd7dd035128>,\n",
       " <Reaction H2MB4PRD2 at 0x7fd7dd013f98>,\n",
       " <Reaction EX_DM_trnapro at 0x7fd7dd013f60>,\n",
       " <Reaction U23GAAT at 0x7fd7dd035438>,\n",
       " <Reaction THMBTHIC at 0x7fd7dd035320>,\n",
       " <Reaction ACOAD141 at 0x7fd7dd035198>,\n",
       " <Reaction DPR at 0x7fd7dd035908>,\n",
       " <Reaction SERGLXAT at 0x7fd7dd035400>,\n",
       " <Reaction EX_2kdrib_e at 0x7fd7dd035c50>,\n",
       " <Reaction 3OAR180 at 0x7fd7dd035c88>,\n",
       " <Reaction HACOADH141 at 0x7fd7dd0354e0>,\n",
       " <Reaction 5DGLCNt2rpp at 0x7fd7dd035940>,\n",
       " <Reaction MPTFALDA at 0x7fd7dd035d30>,\n",
       " <Reaction 3HBCD at 0x7fd7dcd653c8>,\n",
       " <Reaction PMDPHT at 0x7fd7dcd65400>,\n",
       " <Reaction CO2tex at 0x7fd7dcd652e8>,\n",
       " <Reaction NTD10 at 0x7fd7dcd65710>,\n",
       " <Reaction NTD11 at 0x7fd7dcd65908>,\n",
       " <Reaction EX_lyxnt_e at 0x7fd7dcd659b0>,\n",
       " <Reaction ACKr at 0x7fd7dcd65588>,\n",
       " <Reaction ACLS at 0x7fd7dcd65c88>,\n",
       " <Reaction FALDtpp at 0x7fd7dcd65b70>,\n",
       " <Reaction HSDyi at 0x7fd7dcd65eb8>,\n",
       " <Reaction ATPPRTr at 0x7fd7dcb02080>,\n",
       " <Reaction NNDPR at 0x7fd7dcb02278>,\n",
       " <Reaction NO3Ras at 0x7fd7dcb02400>,\n",
       " <Reaction EX_DM_trnaarg at 0x7fd7dcd65f28>,\n",
       " <Reaction PPTT at 0x7fd7dcb02518>,\n",
       " <Reaction PTRCtex at 0x7fd7dcb02780>,\n",
       " <Reaction GLUSy at 0x7fd7dcb028d0>,\n",
       " <Reaction LPLIPAL2E180 at 0x7fd7dcb024e0>,\n",
       " <Reaction EX_succ_e at 0x7fd7dcd65f98>,\n",
       " <Reaction LPLIPAL2E181 at 0x7fd7dcb029e8>,\n",
       " <Reaction PIuabcpp at 0x7fd7dcb02908>,\n",
       " <Reaction THMBIOS at 0x7fd7dcb29080>,\n",
       " <Reaction FE2t2pp at 0x7fd7dcb29198>,\n",
       " <Reaction NNATr at 0x7fd7dcb294a8>,\n",
       " <Reaction EX_DM_trnalys at 0x7fd7dcb02f60>,\n",
       " <Reaction ARAB_Dtex at 0x7fd7dcb02eb8>,\n",
       " <Reaction ALDD2y at 0x7fd7dcb29128>,\n",
       " <Reaction HPTRED at 0x7fd7dcb29978>,\n",
       " <Reaction PHYNDH2_e at 0x7fd7dcb02ef0>,\n",
       " <Reaction MPTSA at 0x7fd7dcb29da0>,\n",
       " <Reaction TRDR at 0x7fd7dcb29ef0>,\n",
       " <Reaction FE2abcpp at 0x7fd7dcb29be0>,\n",
       " <Reaction ZCARDS_e at 0x7fd7dcb29780>,\n",
       " <Reaction 3OAS100 at 0x7fd7dc9cb3c8>,\n",
       " <Reaction PGAMT at 0x7fd7dc9cb780>,\n",
       " <Reaction OMBZLM at 0x7fd7dc9cb748>,\n",
       " <Reaction ETHMALCOAEPM at 0x7fd7dcb29f28>,\n",
       " <Reaction RBFK at 0x7fd7dc9cbb00>,\n",
       " <Reaction MNt2pp at 0x7fd7dc9cbcc0>,\n",
       " <Reaction HBZOPT at 0x7fd7dc9cbc18>,\n",
       " <Reaction LPLIPAL2E160 at 0x7fd7dc9cbe10>,\n",
       " <Reaction DHNPA2 at 0x7fd7dc9f11d0>,\n",
       " <Reaction LPLIPAL2E161 at 0x7fd7dc9cbfd0>,\n",
       " <Reaction PHYNDH at 0x7fd7dc9f14a8>,\n",
       " <Reaction EX_DM_trnatyr at 0x7fd7dc9f13c8>,\n",
       " <Reaction EX_lyx_L_e at 0x7fd7dc9cbda0>,\n",
       " <Reaction CHRPL at 0x7fd7dc9f1780>,\n",
       " <Reaction SERAT at 0x7fd7dc9f1978>,\n",
       " <Reaction PPCOAC at 0x7fd7dc9f18d0>,\n",
       " <Reaction H2O2syn at 0x7fd7dc9f1d30>,\n",
       " <Reaction TYRTRS at 0x7fd7dc9f1ef0>,\n",
       " <Reaction 2AGPEAT181acp at 0x7fd7dc9f1dd8>,\n",
       " <Reaction NODOy at 0x7fd7dc91a2b0>,\n",
       " <Reaction PMANM at 0x7fd7dc91a588>,\n",
       " <Reaction NTD9 at 0x7fd7dc91a5c0>,\n",
       " <Reaction HFACOAE180 at 0x7fd7dc9f17b8>,\n",
       " <Reaction NTD7 at 0x7fd7dc91a8d0>,\n",
       " <Reaction EX_DM_rbrdxOX at 0x7fd7dc9f1c88>,\n",
       " <Reaction L_LACtex at 0x7fd7dc91a6a0>,\n",
       " <Reaction UDPDPS5 at 0x7fd7dc91a908>,\n",
       " <Reaction UDPDPS6 at 0x7fd7dc91aa20>,\n",
       " <Reaction UDPDPS3 at 0x7fd7dc91ac18>,\n",
       " <Reaction ENO at 0x7fd7dc93a080>,\n",
       " <Reaction UDPDPS4 at 0x7fd7dc93a0b8>,\n",
       " <Reaction MME at 0x7fd7dc93a390>,\n",
       " <Reaction CYRDAAT at 0x7fd7dc93a320>,\n",
       " <Reaction H2Otpp at 0x7fd7dc93a5c0>,\n",
       " <Reaction UDPDPS9 at 0x7fd7dc93a630>,\n",
       " <Reaction UDPDPS7 at 0x7fd7dc93a6d8>,\n",
       " <Reaction GHMT2r at 0x7fd7dc93a7f0>,\n",
       " <Reaction UDPDPS8 at 0x7fd7dc93ac18>,\n",
       " <Reaction 3OAS121 at 0x7fd7dc93aba8>,\n",
       " <Reaction 3OAS120 at 0x7fd7dc93af28>,\n",
       " <Reaction MMM2r at 0x7fd7dc89b278>,\n",
       " <Reaction AACOAR at 0x7fd7dc89b240>,\n",
       " <Reaction ADOCBLPPA at 0x7fd7dc93a978>,\n",
       " <Reaction ECOAH5 at 0x7fd7dc89b518>,\n",
       " <Reaction ECOAH6 at 0x7fd7e37bc748>,\n",
       " <Reaction BB_ACGAM at 0x7fd7de604c88>,\n",
       " <Reaction ECOAH3 at 0x7fd7de6042b0>,\n",
       " <Reaction ECOAH4 at 0x7fd7de604320>,\n",
       " <Reaction AOXSr at 0x7fd7de625080>,\n",
       " <Reaction GARFT at 0x7fd7dcc92d30>,\n",
       " <Reaction ECOAH7 at 0x7fd7dcc9c320>,\n",
       " <Reaction COBS2 at 0x7fd7dcc9c9b0>,\n",
       " <Reaction ECOAH8 at 0x7fd7dcc9cdd8>,\n",
       " <Reaction EX_DM_trnaasn at 0x7fd7dcca55c0>,\n",
       " <Reaction ECOAH1 at 0x7fd7dcca57b8>,\n",
       " <Reaction ECOAH2 at 0x7fd7dcca5be0>,\n",
       " <Reaction EX_DM_trnaasp at 0x7fd7dccb10f0>,\n",
       " <Reaction CO2tpp at 0x7fd7dccb1518>,\n",
       " <Reaction FMNDESTRUC at 0x7fd7dccb1a90>,\n",
       " <Reaction TDPGDH at 0x7fd7dcb7f240>,\n",
       " <Reaction PHETA1 at 0x7fd7dcb7f400>,\n",
       " <Reaction HISTP at 0x7fd7dcb7fe80>,\n",
       " <Reaction ADCS at 0x7fd7dcb87780>,\n",
       " <Reaction GALU at 0x7fd7dcb87cc0>,\n",
       " <Reaction CCRC at 0x7fd7dcb966a0>,\n",
       " <Reaction IPPS2 at 0x7fd7dcb96c50>,\n",
       " <Reaction HISTRS at 0x7fd7dcb9f128>,\n",
       " <Reaction ACOAD2f at 0x7fd7e0395710>,\n",
       " <Reaction CU2abctpp at 0x7fd7dead43c8>,\n",
       " <Reaction MMAtex at 0x7fd7dead9080>,\n",
       " <Reaction PPAppt at 0x7fd7dead9278>,\n",
       " <Reaction PEMT160 at 0x7fd7dead9828>,\n",
       " <Reaction HACYLCOAEPI80 at 0x7fd7de1d1f60>,\n",
       " <Reaction ADCL at 0x7fd7de1d19e8>,\n",
       " <Reaction PEMT161 at 0x7fd7de1d10f0>,\n",
       " <Reaction EX_etha_e at 0x7fd7de1ebb38>,\n",
       " <Reaction CTPS2 at 0x7fd7de1eba90>,\n",
       " <Reaction ACHBS at 0x7fd7de5940f0>,\n",
       " <Reaction ORNTAC at 0x7fd7de5949b0>,\n",
       " <Reaction EX_ptrc_e at 0x7fd7de63ae48>,\n",
       " <Reaction ACOAD3f at 0x7fd7de63ada0>,\n",
       " <Reaction DMATT at 0x7fd7de62bc18>,\n",
       " <Reaction FDHr at 0x7fd7de62b780>,\n",
       " <Reaction ETMAt_e at 0x7fd7de62ba58>,\n",
       " <Reaction AROGDH at 0x7fd7de62bda0>,\n",
       " <Reaction GTPCI at 0x7fd7de61df98>,\n",
       " <Reaction SO4tex at 0x7fd7de61d908>,\n",
       " <Reaction LDH_D3 at 0x7fd7de61d8d0>,\n",
       " <Reaction HSPMDS at 0x7fd7de61d518>,\n",
       " <Reaction HSPMS at 0x7fd7de63dd68>,\n",
       " <Reaction DCTPD at 0x7fd7de63df60>,\n",
       " <Reaction BIOTINS at 0x7fd7de63deb8>,\n",
       " <Reaction PAPPT3 at 0x7fd7de1d6748>,\n",
       " <Reaction COBALT2tex at 0x7fd7de1d6be0>,\n",
       " <Reaction PAPPT1 at 0x7fd7de1d6cf8>,\n",
       " <Reaction HISTD at 0x7fd7de61ac18>,\n",
       " <Reaction DVPCLPHVR at 0x7fd7de61a9b0>,\n",
       " <Reaction UQCYOR_2p at 0x7fd7de61a6d8>,\n",
       " <Reaction EX_galcDaraba_e at 0x7fd7de61aba8>,\n",
       " <Reaction EX_arab_L_e at 0x7fd7de1d81d0>,\n",
       " <Reaction ACOAD1f at 0x7fd7de1d8a58>,\n",
       " <Reaction SULR at 0x7fd7de1d86d8>,\n",
       " <Reaction G1PACT at 0x7fd7de5ff588>,\n",
       " <Reaction DMQMT2 at 0x7fd7de5ff080>,\n",
       " <Reaction ANS at 0x7fd7de5ff8d0>,\n",
       " <Reaction MSUCCCOADH at 0x7fd7de1e1748>,\n",
       " <Reaction NTPP7 at 0x7fd7de1e1b70>,\n",
       " <Reaction NIGOSH at 0x7fd7de1e11d0>,\n",
       " <Reaction NTPP8 at 0x7fd7de1e1630>,\n",
       " <Reaction ACOAD6f at 0x7fd7de1deac8>,\n",
       " <Reaction NTPP3 at 0x7fd7de1deb38>,\n",
       " <Reaction NTPP4 at 0x7fd7de1cc668>,\n",
       " <Reaction UAGCVT at 0x7fd7de1cca20>,\n",
       " <Reaction CU2tex at 0x7fd7de1cc278>,\n",
       " <Reaction NTPP5 at 0x7fd7e310a898>,\n",
       " <Reaction NTPP6 at 0x7fd7de500588>,\n",
       " <Reaction HFACOAE120 at 0x7fd7de500470>,\n",
       " <Reaction EAR121y at 0x7fd7de500f98>,\n",
       " <Reaction ALAALAr at 0x7fd7de500518>,\n",
       " <Reaction FALDtex at 0x7fd7de4fed68>,\n",
       " <Reaction ECOAH181 at 0x7fd7de4fe940>,\n",
       " <Reaction GLYKr at 0x7fd7de4fe668>,\n",
       " <Reaction EX_mn2_e at 0x7fd7de4fe978>,\n",
       " <Reaction DGK1 at 0x7fd7de4fe748>,\n",
       " <Reaction ACOAD7f at 0x7fd7de60df28>,\n",
       " <Reaction 3OAS180 at 0x7fd7de60d668>,\n",
       " <Reaction 3OAS181 at 0x7fd7de60dd68>,\n",
       " <Reaction NAPRTr at 0x7fd7de529208>,\n",
       " <Reaction NADH11 at 0x7fd7de529668>,\n",
       " <Reaction HACYLCOAEPI40 at 0x7fd7de529eb8>,\n",
       " <Reaction FACOAE120 at 0x7fd7de529da0>,\n",
       " <Reaction DHAtex at 0x7fd7de524860>,\n",
       " <Reaction PNTK at 0x7fd7de524be0>,\n",
       " <Reaction PHOTOSYS1C at 0x7fd7de524048>,\n",
       " <Reaction OMPDC at 0x7fd7de524358>,\n",
       " <Reaction H2O2tex at 0x7fd7de535160>,\n",
       " <Reaction SERTRS at 0x7fd7de535a58>,\n",
       " <Reaction Kt3pp at 0x7fd7de535d30>,\n",
       " <Reaction ACOAD4f at 0x7fd7de532da0>,\n",
       " <Reaction CO2DAMR at 0x7fd7de532f60>,\n",
       " <Reaction AMMQT8_2 at 0x7fd7de532e48>,\n",
       " <Reaction CO2DAMS at 0x7fd7de5321d0>,\n",
       " <Reaction CYOD at 0x7fd7de530dd8>,\n",
       " <Reaction EX_glu_L_e at 0x7fd7de5301d0>,\n",
       " <Reaction HFACOAE100 at 0x7fd7de530da0>,\n",
       " <Reaction EX_DM_oxEA at 0x7fd7de522710>,\n",
       " <Reaction GRTT at 0x7fd7de522cf8>,\n",
       " <Reaction THDPS at 0x7fd7eb3bd630>,\n",
       " <Reaction PRPPS at 0x7fd7eb3bde80>,\n",
       " <Reaction EAR180y at 0x7fd7de5a2be0>,\n",
       " <Reaction DAPDC at 0x7fd7de5a28d0>,\n",
       " <Reaction CREAH at 0x7fd7de5a23c8>,\n",
       " <Reaction EX_zn2_e at 0x7fd7de5a2da0>,\n",
       " <Reaction A5PISO at 0x7fd7de5a2b70>,\n",
       " <Reaction KAS14 at 0x7fd7de5a2518>,\n",
       " <Reaction SHCHF at 0x7fd7de59bb00>,\n",
       " <Reaction ACOAD5f at 0x7fd7de588278>,\n",
       " <Reaction CS at 0x7fd7de588a90>,\n",
       " <Reaction MDH at 0x7fd7de588da0>,\n",
       " <Reaction PROTRS at 0x7fd7de5885c0>,\n",
       " <Reaction BPNT at 0x7fd7de596390>,\n",
       " <Reaction HACYLCOAEPI60 at 0x7fd7de596be0>,\n",
       " <Reaction 3OAS60 at 0x7fd7de596780>,\n",
       " <Reaction ECOAH161 at 0x7fd7de596908>,\n",
       " <Reaction FACOAE100 at 0x7fd7de596080>,\n",
       " <Reaction NFORGLUAH at 0x7fd7debacba8>,\n",
       " <Reaction TDPDRR at 0x7fd7debac1d0>,\n",
       " <Reaction EX_mal_L_e at 0x7fd7debac0f0>,\n",
       " <Reaction HFACOAE160 at 0x7fd7debae908>,\n",
       " <Reaction ACACtex at 0x7fd7debaea90>,\n",
       " <Reaction TDPDRE at 0x7fd7debae978>,\n",
       " <Reaction ARBtex at 0x7fd7debae2e8>,\n",
       " <Reaction MTHFR3 at 0x7fd7debaecf8>,\n",
       " <Reaction OMCDC at 0x7fd7debb30b8>,\n",
       " <Reaction EX_cit_e at 0x7fd7debb3358>,\n",
       " <Reaction DPGM at 0x7fd7debb3cc0>,\n",
       " <Reaction GLYD at 0x7fd7debb32b0>,\n",
       " <Reaction O2tpp at 0x7fd7debb33c8>,\n",
       " <Reaction MEOHtex at 0x7fd7e37e9fd0>,\n",
       " <Reaction ACCOACr at 0x7fd7e37e96d8>,\n",
       " <Reaction EX_glcn_e at 0x7fd7ec84fcf8>,\n",
       " <Reaction DHAD2 at 0x7fd7ec84fc18>,\n",
       " <Reaction GLYOX at 0x7fd7deb9bb38>,\n",
       " <Reaction DHAD1 at 0x7fd7deb9bba8>,\n",
       " <Reaction DASYN160 at 0x7fd7deb9b518>,\n",
       " <Reaction 3OAS140 at 0x7fd7deb9b7b8>,\n",
       " <Reaction BTS6 at 0x7fd7deba1898>,\n",
       " <Reaction 3OAS141 at 0x7fd7deba1c88>,\n",
       " <Reaction DASYN161 at 0x7fd7deb91e48>,\n",
       " <Reaction NH4tex at 0x7fd7deb91630>,\n",
       " <Reaction MALCOAL at 0x7fd7deb91f28>,\n",
       " <Reaction ECOAH141 at 0x7fd7deb91a90>,\n",
       " <Reaction SULFOX2 at 0x7fd7deb912b0>,\n",
       " <Reaction 3OAS80 at 0x7fd7dfd97b00>,\n",
       " <Reaction EX_tartr_L_e at 0x7fd7dfd97c18>,\n",
       " <Reaction MALCOAS at 0x7fd7dfd97b70>,\n",
       " <Reaction EX_2driboa_e at 0x7fd7eb8a4f98>,\n",
       " <Reaction OCTDPS2 at 0x7fd7dfd976d8>,\n",
       " <Reaction PRAGSr at 0x7fd7e37e4518>,\n",
       " <Reaction MPTSS at 0x7fd7e3628048>,\n",
       " <Reaction MPTSP at 0x7fd7e3628da0>,\n",
       " <Reaction HFACOAE140 at 0x7fd7ec3f4080>,\n",
       " <Reaction UDPGCGT at 0x7fd7eb7a2630>,\n",
       " <Reaction EX_DM_trnaser at 0x7fd7deb82b70>,\n",
       " <Reaction UAGPT3 at 0x7fd7deb82a58>,\n",
       " <Reaction FT at 0x7fd7deb82fd0>,\n",
       " <Reaction ACOAD8f at 0x7fd7deb82e48>,\n",
       " <Reaction EX_cobalt2_e at 0x7fd7deb82a20>,\n",
       " <Reaction LPADSS at 0x7fd7deb829b0>,\n",
       " <Reaction GLYO1 at 0x7fd7ec942a58>,\n",
       " <Reaction DHDPS at 0x7fd7ec934438>,\n",
       " <Reaction GLCNtex at 0x7fd7dfd9f9b0>,\n",
       " <Reaction GLUR at 0x7fd7dfd9fc50>,\n",
       " <Reaction GK1 at 0x7fd7dfd95a90>,\n",
       " <Reaction MCOATA at 0x7fd7dfd95438>,\n",
       " <Reaction CELLS at 0x7fd7dfd957b8>,\n",
       " <Reaction EX_mma_e at 0x7fd7dfd95cc0>,\n",
       " <Reaction EAR120y at 0x7fd7dfd95208>,\n",
       " <Reaction ASPTRS_tASN at 0x7fd7dfd95e48>,\n",
       " <Reaction SDACT at 0x7fd7dfd994a8>,\n",
       " <Reaction NO3Rpp at 0x7fd7dfd99fd0>,\n",
       " <Reaction SPMDAT1 at 0x7fd7dfd99ac8>,\n",
       " <Reaction SUCCtex at 0x7fd7dfdb0358>,\n",
       " <Reaction EX_DM_trnamet at 0x7fd7dfdb04e0>,\n",
       " <Reaction OHPBAT at 0x7fd7dfdb0710>,\n",
       " <Reaction DASYN180 at 0x7fd7dfdb0b70>,\n",
       " <Reaction ZNabcpp at 0x7fd7dfdb0da0>,\n",
       " <Reaction NTPP1 at 0x7fd7e0647eb8>,\n",
       " <Reaction NTPP2 at 0x7fd7e065b400>,\n",
       " <Reaction DASYN181 at 0x7fd7e065b438>,\n",
       " <Reaction GALCDARABAtex at 0x7fd7e065bc18>,\n",
       " <Reaction RBFSa at 0x7fd7e065bf28>,\n",
       " <Reaction 3OAS160 at 0x7fd7eb8ae208>,\n",
       " <Reaction 3OAS161 at 0x7fd7e06843c8>,\n",
       " <Reaction EAR100y at 0x7fd7e0684c50>,\n",
       " <Reaction RBFSb at 0x7fd7ec87d898>,\n",
       " <Reaction ECOAH121 at 0x7fd7ec87da58>,\n",
       " <Reaction DADK at 0x7fd7e1af51d0>,\n",
       " <Reaction Biomass_Mextorquens_AM1_core at 0x7fd7e1af5eb8>]"
      ]
     },
     "execution_count": 78,
     "metadata": {},
     "output_type": "execute_result"
    }
   ],
   "source": [
    "AM1_bigg.reactions"
   ]
  },
  {
   "cell_type": "markdown",
   "metadata": {},
   "source": [
    "### Add methane exchange and 3 modes of methane oxidation to the GEM:"
   ]
  },
  {
   "cell_type": "code",
   "execution_count": 723,
   "metadata": {
    "ExecuteTime": {
     "end_time": "2019-11-28T00:39:03.010853Z",
     "start_time": "2019-11-28T00:39:03.002868Z"
    }
   },
   "outputs": [],
   "source": [
    "reaction_1 = model_Bath.reactions.EX_ch4_e\n",
    "reaction_2 = model_Bath.reactions.CH4tex\n",
    "reaction_3 = model_Bath.reactions.PMMOipp #redox-arm, change cofactor\n",
    "reaction_4 = model_Bath.reactions.PMMODCipp #direct coupling, change cofactor\n",
    "#reaction_5 = model_Bath.reactions.CYOR_q8ppi #uphill electron transfer, don't add this reaction, change cofactor \n",
    "                                             #in ubiquinol-cytochrome-c reductase and keep its reversible and keep\n",
    "                                             #pMMOipp active"
   ]
  },
  {
   "cell_type": "markdown",
   "metadata": {},
   "source": [
    "reaction_3 manipulation:"
   ]
  },
  {
   "cell_type": "code",
   "execution_count": 724,
   "metadata": {
    "ExecuteTime": {
     "end_time": "2019-11-28T00:39:05.082262Z",
     "start_time": "2019-11-28T00:39:05.073622Z"
    },
    "scrolled": true
   },
   "outputs": [
    {
     "data": {
      "text/html": [
       "\n",
       "        <table>\n",
       "            <tr>\n",
       "                <td><strong>Reaction identifier</strong></td><td>PMMOipp</td>\n",
       "            </tr><tr>\n",
       "                <td><strong>Name</strong></td><td>particulate Methane Monooxygenase</td>\n",
       "            </tr><tr>\n",
       "                <td><strong>Memory address</strong></td>\n",
       "                <td>0x07fd7df00f320</td>\n",
       "            </tr><tr>\n",
       "                <td><strong>Stoichiometry</strong></td>\n",
       "                <td>\n",
       "                    <p style='text-align:right'>ch4_p + o2_p + q8h2_im --> h2o_p + meoh_p + q8_im</p>\n",
       "                    <p style='text-align:right'>methane + dioxygen + Ubiquinol-8 --> H2O + methanol + Ubiquinone-8</p>\n",
       "                </td>\n",
       "            </tr><tr>\n",
       "                <td><strong>GPR</strong></td><td>( ( MCA1796 and MCA1797 and MCA1798 ) or ( MCA2853 and MCA2854 and MCA2855 ) ) and MCA0295</td>\n",
       "            </tr><tr>\n",
       "                <td><strong>Lower bound</strong></td><td>0</td>\n",
       "            </tr><tr>\n",
       "                <td><strong>Upper bound</strong></td><td>0</td>\n",
       "            </tr>\n",
       "        </table>\n",
       "        "
      ],
      "text/plain": [
       "<Reaction PMMOipp at 0x7fd7df00f320>"
      ]
     },
     "execution_count": 724,
     "metadata": {},
     "output_type": "execute_result"
    }
   ],
   "source": [
    "reaction_3"
   ]
  },
  {
   "cell_type": "code",
   "execution_count": 725,
   "metadata": {
    "ExecuteTime": {
     "end_time": "2019-11-28T00:39:05.531613Z",
     "start_time": "2019-11-28T00:39:05.486680Z"
    },
    "scrolled": true
   },
   "outputs": [
    {
     "name": "stdout",
     "output_type": "stream",
     "text": [
      "unknown metabolite 'qh2_c' created\n",
      "unknown metabolite 'q_c' created\n"
     ]
    }
   ],
   "source": [
    "reaction_3.reaction = \"ch4_p + o2_p + qh2_c --> h2o_p + meoh_p + q_c\""
   ]
  },
  {
   "cell_type": "markdown",
   "metadata": {},
   "source": [
    "reaction_4 manipulation:"
   ]
  },
  {
   "cell_type": "code",
   "execution_count": 726,
   "metadata": {
    "ExecuteTime": {
     "end_time": "2019-11-28T00:39:10.121933Z",
     "start_time": "2019-11-28T00:39:10.117763Z"
    }
   },
   "outputs": [
    {
     "data": {
      "text/html": [
       "\n",
       "        <table>\n",
       "            <tr>\n",
       "                <td><strong>Reaction identifier</strong></td><td>PMMODCipp</td>\n",
       "            </tr><tr>\n",
       "                <td><strong>Name</strong></td><td>particulate Methane Monooxygenase - Direct Coupling</td>\n",
       "            </tr><tr>\n",
       "                <td><strong>Memory address</strong></td>\n",
       "                <td>0x07fd7df033470</td>\n",
       "            </tr><tr>\n",
       "                <td><strong>Stoichiometry</strong></td>\n",
       "                <td>\n",
       "                    <p style='text-align:right'>ch4_p + 2.0 focytcc555_p + 2.0 h_p + o2_p --> 2.0 ficytcc555_p + h2o_p + meoh_p</p>\n",
       "                    <p style='text-align:right'>methane + 2.0 ferrocytochrome c + 2.0 H(+) + dioxygen --> 2.0 ferricytochrome c + H2O + methanol</p>\n",
       "                </td>\n",
       "            </tr><tr>\n",
       "                <td><strong>GPR</strong></td><td>( ( MCA1796 and MCA1797 and MCA1798 ) or ( MCA2853 and MCA2854 and MCA2855 ) ) and MCA0295</td>\n",
       "            </tr><tr>\n",
       "                <td><strong>Lower bound</strong></td><td>0</td>\n",
       "            </tr><tr>\n",
       "                <td><strong>Upper bound</strong></td><td>0</td>\n",
       "            </tr>\n",
       "        </table>\n",
       "        "
      ],
      "text/plain": [
       "<Reaction PMMODCipp at 0x7fd7df033470>"
      ]
     },
     "execution_count": 726,
     "metadata": {},
     "output_type": "execute_result"
    }
   ],
   "source": [
    "reaction_4"
   ]
  },
  {
   "cell_type": "code",
   "execution_count": 727,
   "metadata": {
    "ExecuteTime": {
     "end_time": "2019-11-28T00:39:10.833610Z",
     "start_time": "2019-11-28T00:39:10.774497Z"
    }
   },
   "outputs": [
    {
     "name": "stdout",
     "output_type": "stream",
     "text": [
      "unknown metabolite 'focytc_c' created\n",
      "unknown metabolite 'ficytc_c' created\n"
     ]
    }
   ],
   "source": [
    "reaction_4.reaction = \"ch4_p + 2.0 focytc_c + 2.0 h_p + o2_p --> 2.0 ficytc_c + h2o_p + meoh_p\""
   ]
  },
  {
   "cell_type": "markdown",
   "metadata": {},
   "source": [
    "reaction_5 adjustment:"
   ]
  },
  {
   "cell_type": "code",
   "execution_count": 728,
   "metadata": {
    "ExecuteTime": {
     "end_time": "2019-11-28T00:39:12.821137Z",
     "start_time": "2019-11-28T00:39:12.805262Z"
    }
   },
   "outputs": [
    {
     "ename": "NameError",
     "evalue": "name 'reaction_5' is not defined",
     "output_type": "error",
     "traceback": [
      "\u001b[0;31m---------------------------------------------------------------------------\u001b[0m",
      "\u001b[0;31mNameError\u001b[0m                                 Traceback (most recent call last)",
      "\u001b[0;32m<ipython-input-728-8851ad5a712a>\u001b[0m in \u001b[0;36m<module>\u001b[0;34m\u001b[0m\n\u001b[0;32m----> 1\u001b[0;31m \u001b[0mreaction_5\u001b[0m\u001b[0;34m\u001b[0m\u001b[0;34m\u001b[0m\u001b[0m\n\u001b[0m",
      "\u001b[0;31mNameError\u001b[0m: name 'reaction_5' is not defined"
     ]
    }
   ],
   "source": [
    "reaction_5"
   ]
  },
  {
   "cell_type": "code",
   "execution_count": 729,
   "metadata": {
    "ExecuteTime": {
     "end_time": "2019-11-28T00:39:14.614673Z",
     "start_time": "2019-11-28T00:39:14.608379Z"
    }
   },
   "outputs": [
    {
     "name": "stdout",
     "output_type": "stream",
     "text": [
      "succinate_dehydrogenase SUCCD1: q_c + succ_c <=> fum_c + qh2_c\n",
      "ETF_dehydrogenase ETFDH: q_c + rETF_c <=> oxETF_c + qh2_c\n",
      "cytochrome_o_ubiquinol_oxidase CYOO_4p: 4.0 h_c + 0.5 o2_c + qh2_c --> h2o_c + 4.0 h_p + q_c\n",
      "cytochrome_d_terminal_oxidase CYOD: 4.0 h_c + o2_c + 2.0 qh2_c --> 2.0 h2o_c + 4.0 h_p + 2.0 q_c\n",
      "NADH_ubiquinone_oxidoreductase_I NADH11: 5.0 h_c + nadh_c + q_c --> 4.0 h_p + nad_c + qh2_c\n",
      "nitrate_reductase__periplasmic_ NO3Rpp: no3_p + qh2_c --> h2o_p + no2_p + q_c\n",
      "ubiquinol_cytochrome_c_reductase UQCYOR_2p: 2.0 ficytc_c + qh2_c --> 2.0 focytc_c + 2.0 h_p + q_c\n",
      "photosystem_I_cyclic PHOTOSYS1C: 2.0 fdxrd_c + 2.0 h_c + q_c --> 2.0 fdxox_c + qh2_c\n"
     ]
    }
   ],
   "source": [
    "for reaction in AM1_bigg.metabolites.q_c.reactions:\n",
    "    print(reaction.name, reaction)"
   ]
  },
  {
   "cell_type": "code",
   "execution_count": 730,
   "metadata": {
    "ExecuteTime": {
     "end_time": "2019-11-28T00:39:15.580242Z",
     "start_time": "2019-11-28T00:39:15.574913Z"
    }
   },
   "outputs": [
    {
     "data": {
      "text/html": [
       "\n",
       "        <table>\n",
       "            <tr>\n",
       "                <td><strong>Reaction identifier</strong></td><td>UQCYOR_2p</td>\n",
       "            </tr><tr>\n",
       "                <td><strong>Name</strong></td><td>ubiquinol_cytochrome_c_reductase</td>\n",
       "            </tr><tr>\n",
       "                <td><strong>Memory address</strong></td>\n",
       "                <td>0x07fd7d29365c0</td>\n",
       "            </tr><tr>\n",
       "                <td><strong>Stoichiometry</strong></td>\n",
       "                <td>\n",
       "                    <p style='text-align:right'>2.0 ficytc_c + qh2_c --> 2.0 focytc_c + 2.0 h_p + q_c</p>\n",
       "                    <p style='text-align:right'>2.0 oxidized_cytochrome_c + UQH2 --> 2.0 reduced_cytochrome_c + 2.0 H_ + UQ</p>\n",
       "                </td>\n",
       "            </tr><tr>\n",
       "                <td><strong>GPR</strong></td><td>CQW49_RS00050 and CQW49_RS00055 and CQW49_RS00060</td>\n",
       "            </tr><tr>\n",
       "                <td><strong>Lower bound</strong></td><td>0.0</td>\n",
       "            </tr><tr>\n",
       "                <td><strong>Upper bound</strong></td><td>1000.0</td>\n",
       "            </tr>\n",
       "        </table>\n",
       "        "
      ],
      "text/plain": [
       "<Reaction UQCYOR_2p at 0x7fd7d29365c0>"
      ]
     },
     "execution_count": 730,
     "metadata": {},
     "output_type": "execute_result"
    }
   ],
   "source": [
    "AM1_bigg.reactions.UQCYOR_2p"
   ]
  },
  {
   "cell_type": "markdown",
   "metadata": {},
   "source": [
    "Add reactions 1-4 to AM1_bigg GEM:"
   ]
  },
  {
   "cell_type": "code",
   "execution_count": 731,
   "metadata": {
    "ExecuteTime": {
     "end_time": "2019-11-28T00:39:18.562762Z",
     "start_time": "2019-11-28T00:39:18.559402Z"
    }
   },
   "outputs": [],
   "source": [
    "methane_reactions_to_add = [reaction_1, reaction_2, reaction_3, reaction_4]"
   ]
  },
  {
   "cell_type": "code",
   "execution_count": 732,
   "metadata": {
    "ExecuteTime": {
     "end_time": "2019-11-28T00:39:18.962469Z",
     "start_time": "2019-11-28T00:39:18.956821Z"
    }
   },
   "outputs": [
    {
     "name": "stdout",
     "output_type": "stream",
     "text": [
      "EX_ch4_e ch4_e <-- \n",
      "CH4tex ch4_e <=> ch4_p\n",
      "PMMOipp ch4_p + o2_p + qh2_c --> h2o_p + meoh_p + q_c\n",
      "PMMODCipp ch4_p + 2.0 focytc_c + 2.0 h_p + o2_p --> 2.0 ficytc_c + h2o_p + meoh_p\n"
     ]
    }
   ],
   "source": [
    "for reaction in methane_reactions_to_add:\n",
    "    print(reaction.id, reaction.reaction)"
   ]
  },
  {
   "cell_type": "code",
   "execution_count": 733,
   "metadata": {
    "ExecuteTime": {
     "end_time": "2019-11-28T00:39:20.224069Z",
     "start_time": "2019-11-28T00:39:20.214538Z"
    }
   },
   "outputs": [],
   "source": [
    "AM1_bigg.add_reactions(methane_reactions_to_add)"
   ]
  },
  {
   "cell_type": "code",
   "execution_count": 90,
   "metadata": {
    "ExecuteTime": {
     "end_time": "2019-11-21T07:13:20.671860Z",
     "start_time": "2019-11-21T07:13:20.592174Z"
    }
   },
   "outputs": [
    {
     "name": "stdout",
     "output_type": "stream",
     "text": [
      "IN FLUXES             OUT FLUXES     OBJECTIVES\n",
      "--------------------  -------------  ----------------------\n",
      "o2_e       26.8       h2o_e  36.6    Biomass_Mext...  0.355\n",
      "ch4_e      18.5       co2_e   7.21\n",
      "nh4_e       3.47      h_e     0.791\n",
      "meoh_e      3\n",
      "pi_e        0.248\n",
      "k_e         0.0654\n",
      "so4_e       0.0224\n",
      "mg2_e       0.00292\n",
      "fe2_e       0.00285\n",
      "cl_e        0.00175\n",
      "ca2_e       0.00175\n",
      "na1_e       0.00144\n",
      "mobd_e      0.00125\n",
      "cu2_e       0.00117\n",
      "mn2_e       0.00117\n",
      "zn2_e       0.00117\n",
      "cobalt2_e   7.79e-05\n"
     ]
    }
   ],
   "source": [
    "AM1_bigg.summary()"
   ]
  },
  {
   "cell_type": "markdown",
   "metadata": {},
   "source": [
    "Let's knockout meoh_e first:"
   ]
  },
  {
   "cell_type": "code",
   "execution_count": 91,
   "metadata": {
    "ExecuteTime": {
     "end_time": "2019-11-21T07:13:22.569595Z",
     "start_time": "2019-11-21T07:13:22.565976Z"
    }
   },
   "outputs": [],
   "source": [
    "AM1_bigg.reactions.EX_meoh_e.knock_out()"
   ]
  },
  {
   "cell_type": "code",
   "execution_count": 92,
   "metadata": {
    "ExecuteTime": {
     "end_time": "2019-11-21T07:13:23.396239Z",
     "start_time": "2019-11-21T07:13:23.318219Z"
    }
   },
   "outputs": [
    {
     "name": "stdout",
     "output_type": "stream",
     "text": [
      "IN FLUXES             OUT FLUXES     OBJECTIVES\n",
      "--------------------  -------------  ----------------------\n",
      "o2_e       24.7       h2o_e  31.7    Biomass_Mext...  0.297\n",
      "ch4_e      18.5       co2_e   6.54\n",
      "nh4_e       2.9       h_e     0.662\n",
      "pi_e        0.207\n",
      "k_e         0.0547\n",
      "so4_e       0.0187\n",
      "mg2_e       0.00245\n",
      "fe2_e       0.00238\n",
      "cl_e        0.00147\n",
      "ca2_e       0.00147\n",
      "na1_e       0.00121\n",
      "mobd_e      0.00104\n",
      "cu2_e       0.000979\n",
      "mn2_e       0.000979\n",
      "zn2_e       0.000979\n",
      "cobalt2_e   6.52e-05\n"
     ]
    }
   ],
   "source": [
    "AM1_bigg.summary()"
   ]
  },
  {
   "cell_type": "markdown",
   "metadata": {},
   "source": [
    "#### Let's knockout PMMODCipp second, so that only PMMOipp (redox arm is active):"
   ]
  },
  {
   "cell_type": "code",
   "execution_count": 93,
   "metadata": {
    "ExecuteTime": {
     "end_time": "2019-11-21T07:13:26.493953Z",
     "start_time": "2019-11-21T07:13:26.490843Z"
    }
   },
   "outputs": [],
   "source": [
    "AM1_bigg.reactions.PMMODCipp.knock_out()"
   ]
  },
  {
   "cell_type": "code",
   "execution_count": 94,
   "metadata": {
    "ExecuteTime": {
     "end_time": "2019-11-21T07:13:27.507322Z",
     "start_time": "2019-11-21T07:13:27.434555Z"
    },
    "scrolled": true
   },
   "outputs": [
    {
     "name": "stdout",
     "output_type": "stream",
     "text": [
      "IN FLUXES             OUT FLUXES    OBJECTIVES\n",
      "--------------------  ------------  ----------------------\n",
      "o2_e       27.7       h2o_e  33     Biomass_Mext...  0.224\n",
      "ch4_e      18.5       co2_e   9.46\n",
      "nh4_e       2.19      h_e     0.5\n",
      "pi_e        0.157\n",
      "k_e         0.0413\n",
      "so4_e       0.0141\n",
      "mg2_e       0.00185\n",
      "fe2_e       0.0018\n",
      "ca2_e       0.00111\n",
      "cl_e        0.00111\n",
      "na1_e       0.000912\n",
      "mobd_e      0.000788\n",
      "cu2_e       0.000739\n",
      "mn2_e       0.000739\n",
      "zn2_e       0.000739\n",
      "cobalt2_e   4.92e-05\n"
     ]
    }
   ],
   "source": [
    "AM1_bigg.summary()"
   ]
  },
  {
   "cell_type": "markdown",
   "metadata": {},
   "source": [
    "Try to change reaction bounds to lower methane uptake rates:"
   ]
  },
  {
   "cell_type": "code",
   "execution_count": 734,
   "metadata": {
    "ExecuteTime": {
     "end_time": "2019-11-28T00:39:26.974727Z",
     "start_time": "2019-11-28T00:39:26.970125Z"
    }
   },
   "outputs": [],
   "source": [
    "AM1_bigg.reactions.EX_ch4_e.bounds = (-4.079, -4.079)"
   ]
  },
  {
   "cell_type": "code",
   "execution_count": 171,
   "metadata": {
    "ExecuteTime": {
     "end_time": "2019-11-21T11:25:05.524691Z",
     "start_time": "2019-11-21T11:25:05.401322Z"
    }
   },
   "outputs": [
    {
     "name": "stdout",
     "output_type": "stream",
     "text": [
      "IN FLUXES            OUT FLUXES    OBJECTIVES\n",
      "-------------------  ------------  -----------------------\n",
      "o2_e       6.12      h2o_e  7.28   Biomass_Mext...  0.0495\n",
      "ch4_e      4.08      co2_e  2.09\n",
      "nh4_e      0.484     h_e    0.11\n",
      "pi_e       0.0346\n",
      "k_e        0.00913\n",
      "so4_e      0.00312\n",
      "mg2_e      0.000408\n",
      "fe2_e      0.000397\n",
      "ca2_e      0.000245\n",
      "cl_e       0.000245\n",
      "na1_e      0.000201\n",
      "mobd_e     0.000174\n",
      "cu2_e      0.000163\n",
      "mn2_e      0.000163\n",
      "zn2_e      0.000163\n",
      "cobalt2_e  1.09e-05\n"
     ]
    }
   ],
   "source": [
    "with AM1_bigg as model:\n",
    "    reaction_id = \"Biomass_Mextorquens_AM1_core\"\n",
    "    model.objective = reaction_id\n",
    "    model.optimize()\n",
    "    model_objective = model.optimize().fluxes\n",
    "    model_objective.to_csv(Escher_gapfilling_dir + reaction_id + \"_PMMOipp\"+ \"_AM1\" + '.csv')\n",
    "    model.summary()"
   ]
  },
  {
   "cell_type": "code",
   "execution_count": 174,
   "metadata": {
    "ExecuteTime": {
     "end_time": "2019-11-21T11:34:26.647259Z",
     "start_time": "2019-11-21T11:34:26.612900Z"
    }
   },
   "outputs": [
    {
     "name": "stdout",
     "output_type": "stream",
     "text": [
      "PRODUCING REACTIONS -- O2 (o2_c)\n",
      "--------------------------------\n",
      "%       FLUX  RXN ID    REACTION\n",
      "----  ------  --------  --------------------------------------------------\n",
      "100%    2.04  O2tpp     o2_p <=> o2_c\n",
      "\n",
      "CONSUMING REACTIONS -- O2 (o2_c)\n",
      "--------------------------------\n",
      "%       FLUX  RXN ID    REACTION\n",
      "----  ------  --------  --------------------------------------------------\n",
      "100%    2.04  CYO_2p    2.0 focytc_c + 4.0 h_c + 0.5 o2_c --> 2.0 ficyt...\n"
     ]
    }
   ],
   "source": [
    "AM1_bigg.metabolites.o2_c.summary()"
   ]
  },
  {
   "cell_type": "code",
   "execution_count": 177,
   "metadata": {
    "ExecuteTime": {
     "end_time": "2019-11-21T11:35:56.839904Z",
     "start_time": "2019-11-21T11:35:56.835019Z"
    }
   },
   "outputs": [
    {
     "data": {
      "text/html": [
       "\n",
       "        <table>\n",
       "            <tr>\n",
       "                <td><strong>Reaction identifier</strong></td><td>CyLCyHORpp</td>\n",
       "            </tr><tr>\n",
       "                <td><strong>Name</strong></td><td>Cytochrome c-555 (cL):cytochrome c-553(cH) oxidoreductase</td>\n",
       "            </tr><tr>\n",
       "                <td><strong>Memory address</strong></td>\n",
       "                <td>0x07fd7df2312b0</td>\n",
       "            </tr><tr>\n",
       "                <td><strong>Stoichiometry</strong></td>\n",
       "                <td>\n",
       "                    <p style='text-align:right'>ficytcc553_p + focytcc555_p <=> ficytcc555_p + focytcc553_p</p>\n",
       "                    <p style='text-align:right'>ferricytochrome c + ferrocytochrome c <=> ferricytochrome c + ferrocytochrome c</p>\n",
       "                </td>\n",
       "            </tr><tr>\n",
       "                <td><strong>GPR</strong></td><td>MCA2618 and MCA2405</td>\n",
       "            </tr><tr>\n",
       "                <td><strong>Lower bound</strong></td><td>-1000.0</td>\n",
       "            </tr><tr>\n",
       "                <td><strong>Upper bound</strong></td><td>1000.0</td>\n",
       "            </tr>\n",
       "        </table>\n",
       "        "
      ],
      "text/plain": [
       "<Reaction CyLCyHORpp at 0x7fd7df2312b0>"
      ]
     },
     "execution_count": 177,
     "metadata": {},
     "output_type": "execute_result"
    }
   ],
   "source": [
    "model_Bath.reactions.CyLCyHORpp"
   ]
  },
  {
   "cell_type": "code",
   "execution_count": 178,
   "metadata": {
    "ExecuteTime": {
     "end_time": "2019-11-21T11:36:13.896839Z",
     "start_time": "2019-11-21T11:36:13.892623Z"
    }
   },
   "outputs": [
    {
     "data": {
      "text/html": [
       "\n",
       "        <table>\n",
       "            <tr>\n",
       "                <td><strong>Reaction identifier</strong></td><td>MEOHDHipp</td>\n",
       "            </tr><tr>\n",
       "                <td><strong>Name</strong></td><td>methanol dehydrogenase (cytochrome c)</td>\n",
       "            </tr><tr>\n",
       "                <td><strong>Memory address</strong></td>\n",
       "                <td>0x07fd7deb29f28</td>\n",
       "            </tr><tr>\n",
       "                <td><strong>Stoichiometry</strong></td>\n",
       "                <td>\n",
       "                    <p style='text-align:right'>2.0 ficytcc555_p + meoh_p --> fald_p + 2.0 focytcc555_p + 2.0 h_p</p>\n",
       "                    <p style='text-align:right'>2.0 ferricytochrome c + methanol --> formaldehyde + 2.0 ferrocytochrome c + 2.0 H(+)</p>\n",
       "                </td>\n",
       "            </tr><tr>\n",
       "                <td><strong>GPR</strong></td><td>( ( ( MCA0299 and MCA0300 ) and ( MCA1528 and MCA1529 and MCA1530 and MCA1525 and MCA1527 ) ) or ...</td>\n",
       "            </tr><tr>\n",
       "                <td><strong>Lower bound</strong></td><td>0.0</td>\n",
       "            </tr><tr>\n",
       "                <td><strong>Upper bound</strong></td><td>1000.0</td>\n",
       "            </tr>\n",
       "        </table>\n",
       "        "
      ],
      "text/plain": [
       "<Reaction MEOHDHipp at 0x7fd7deb29f28>"
      ]
     },
     "execution_count": 178,
     "metadata": {},
     "output_type": "execute_result"
    }
   ],
   "source": [
    "model_Bath.reactions.MEOHDHipp"
   ]
  },
  {
   "cell_type": "markdown",
   "metadata": {},
   "source": [
    "This looks quite similar to Bath GEM"
   ]
  },
  {
   "cell_type": "markdown",
   "metadata": {},
   "source": [
    "#### Let's try direct coupling:\n",
    "Direct coupling between methane monooxygenase and methanol dehydrogenase"
   ]
  },
  {
   "cell_type": "code",
   "execution_count": 97,
   "metadata": {
    "ExecuteTime": {
     "end_time": "2019-11-21T07:13:48.635909Z",
     "start_time": "2019-11-21T07:13:48.560181Z"
    }
   },
   "outputs": [
    {
     "name": "stdout",
     "output_type": "stream",
     "text": [
      "IN FLUXES            OUT FLUXES    OBJECTIVES\n",
      "-------------------  ------------  -----------------------\n",
      "o2_e       5.46      h2o_e  7      Biomass_Mext...  0.0656\n",
      "ch4_e      4.08      co2_e  1.44\n",
      "nh4_e      0.641     h_e    0.146\n",
      "pi_e       0.0458\n",
      "k_e        0.0121\n",
      "so4_e      0.00414\n",
      "mg2_e      0.000541\n",
      "fe2_e      0.000526\n",
      "ca2_e      0.000325\n",
      "cl_e       0.000325\n",
      "na1_e      0.000267\n",
      "mobd_e     0.000231\n",
      "cu2_e      0.000216\n",
      "mn2_e      0.000216\n",
      "zn2_e      0.000216\n",
      "cobalt2_e  1.44e-05\n"
     ]
    }
   ],
   "source": [
    "with AM1_bigg:\n",
    "    AM1_bigg.reactions.PMMOipp.knock_out()\n",
    "    AM1_bigg.reactions.PMMODCipp.bounds = (0, 1000)\n",
    "    AM1_bigg.summary()"
   ]
  },
  {
   "cell_type": "code",
   "execution_count": 179,
   "metadata": {
    "ExecuteTime": {
     "end_time": "2019-11-21T11:39:59.104327Z",
     "start_time": "2019-11-21T11:39:58.979074Z"
    }
   },
   "outputs": [
    {
     "name": "stdout",
     "output_type": "stream",
     "text": [
      "IN FLUXES            OUT FLUXES    OBJECTIVES\n",
      "-------------------  ------------  -----------------------\n",
      "o2_e       5.46      h2o_e  7      Biomass_Mext...  0.0656\n",
      "ch4_e      4.08      co2_e  1.44\n",
      "nh4_e      0.641     h_e    0.146\n",
      "pi_e       0.0458\n",
      "k_e        0.0121\n",
      "so4_e      0.00414\n",
      "mg2_e      0.000541\n",
      "fe2_e      0.000526\n",
      "ca2_e      0.000325\n",
      "cl_e       0.000325\n",
      "na1_e      0.000267\n",
      "mobd_e     0.000231\n",
      "cu2_e      0.000216\n",
      "mn2_e      0.000216\n",
      "zn2_e      0.000216\n",
      "cobalt2_e  1.44e-05\n"
     ]
    }
   ],
   "source": [
    "with AM1_bigg as model:\n",
    "    reaction_id = \"Biomass_Mextorquens_AM1_core\"\n",
    "    model.objective = reaction_id\n",
    "    model.reactions.PMMOipp.knock_out()\n",
    "    model.reactions.PMMODCipp.bounds = (0, 1000)\n",
    "    model.optimize()\n",
    "    model_objective = model.optimize().fluxes\n",
    "    model_objective.to_csv(Escher_gapfilling_dir + reaction_id + \"_PMMODCipp\"+ \"_AM1\" + '.csv')\n",
    "    model.summary()"
   ]
  },
  {
   "cell_type": "code",
   "execution_count": 183,
   "metadata": {
    "ExecuteTime": {
     "end_time": "2019-11-22T02:05:07.103425Z",
     "start_time": "2019-11-22T02:05:07.097627Z"
    }
   },
   "outputs": [
    {
     "data": {
      "text/html": [
       "\n",
       "        <table>\n",
       "            <tr>\n",
       "                <td><strong>Reaction identifier</strong></td><td>ATPS4rpp</td>\n",
       "            </tr><tr>\n",
       "                <td><strong>Name</strong></td><td>ATP_synthase</td>\n",
       "            </tr><tr>\n",
       "                <td><strong>Memory address</strong></td>\n",
       "                <td>0x07fd7dd507e10</td>\n",
       "            </tr><tr>\n",
       "                <td><strong>Stoichiometry</strong></td>\n",
       "                <td>\n",
       "                    <p style='text-align:right'>adp_c + 4.0 h_p + pi_c --> atp_c + h2o_c + 3.0 h_c</p>\n",
       "                    <p style='text-align:right'>ADP + 4.0 H_ + phosphate --> ATP + H2O + 3.0 H_</p>\n",
       "                </td>\n",
       "            </tr><tr>\n",
       "                <td><strong>GPR</strong></td><td>CQW49_RS19275 and CQW49_RS00300 and CQW49_RS19295 and CQW49_RS19290 and CQW49_RS00305 and CQW49_R...</td>\n",
       "            </tr><tr>\n",
       "                <td><strong>Lower bound</strong></td><td>0.0</td>\n",
       "            </tr><tr>\n",
       "                <td><strong>Upper bound</strong></td><td>1000.0</td>\n",
       "            </tr>\n",
       "        </table>\n",
       "        "
      ],
      "text/plain": [
       "<Reaction ATPS4rpp at 0x7fd7dd507e10>"
      ]
     },
     "execution_count": 183,
     "metadata": {},
     "output_type": "execute_result"
    }
   ],
   "source": [
    "AM1_bigg.reactions.ATPS4rpp"
   ]
  },
  {
   "cell_type": "markdown",
   "metadata": {},
   "source": [
    "May be my issue is in complex IV where I can regenerate qh2_c using complex IV variants. In Bath GEM, I cannot do it. --> Check electron transport chains of other methanotrophs. "
   ]
  },
  {
   "cell_type": "markdown",
   "metadata": {},
   "source": [
    "Let's try Methylococcus capsulatus Bath implementation for direct coupling:"
   ]
  },
  {
   "cell_type": "code",
   "execution_count": 186,
   "metadata": {
    "ExecuteTime": {
     "end_time": "2019-11-22T03:07:49.694483Z",
     "start_time": "2019-11-22T03:07:49.559064Z"
    }
   },
   "outputs": [
    {
     "name": "stdout",
     "output_type": "stream",
     "text": [
      "IN FLUXES            OUT FLUXES    OBJECTIVES\n",
      "-------------------  ------------  -----------------------\n",
      "o2_e       5.46      h2o_e  7      Biomass_Mext...  0.0656\n",
      "ch4_e      4.08      co2_e  1.44\n",
      "nh4_e      0.641     h_e    0.146\n",
      "pi_e       0.0458\n",
      "k_e        0.0121\n",
      "so4_e      0.00414\n",
      "mg2_e      0.000541\n",
      "fe2_e      0.000526\n",
      "ca2_e      0.000325\n",
      "cl_e       0.000325\n",
      "na1_e      0.000267\n",
      "mobd_e     0.000231\n",
      "cu2_e      0.000216\n",
      "mn2_e      0.000216\n",
      "zn2_e      0.000216\n",
      "cobalt2_e  1.44e-05\n"
     ]
    }
   ],
   "source": [
    "with AM1_bigg as model:\n",
    "    reaction_id = \"Biomass_Mextorquens_AM1_core\"\n",
    "    model.objective = reaction_id\n",
    "    model.reactions.PMMOipp.knock_out()\n",
    "    model.reactions.CYOD.knock_out()\n",
    "    model.reactions.CYOO_4p.knock_out()\n",
    "    model.reactions.PMMODCipp.bounds = (0, 1000)\n",
    "    model.optimize()\n",
    "    model_objective = model.optimize().fluxes\n",
    "    model_objective.to_csv(Escher_gapfilling_dir + reaction_id + \"_PMMODCipp\"+ \"_AM1\" + '.csv')\n",
    "    model.summary()"
   ]
  },
  {
   "cell_type": "markdown",
   "metadata": {},
   "source": [
    "Save your GEM:"
   ]
  },
  {
   "cell_type": "code",
   "execution_count": 348,
   "metadata": {
    "ExecuteTime": {
     "end_time": "2019-11-19T12:14:11.178523Z",
     "start_time": "2019-11-19T12:14:10.966661Z"
    }
   },
   "outputs": [],
   "source": [
    "cobra.io.save_json_model(AM1_bigg, memote_directory + \"AM1_bigg.json\")"
   ]
  },
  {
   "cell_type": "markdown",
   "metadata": {},
   "source": [
    "Sanity check before going further:"
   ]
  },
  {
   "cell_type": "code",
   "execution_count": 98,
   "metadata": {
    "ExecuteTime": {
     "end_time": "2019-11-21T07:13:59.301192Z",
     "start_time": "2019-11-21T07:13:59.195800Z"
    }
   },
   "outputs": [
    {
     "name": "stdout",
     "output_type": "stream",
     "text": [
      "IN FLUXES            OUT FLUXES    OBJECTIVES\n",
      "-------------------  ------------  -----------------------\n",
      "o2_e       5.46      h2o_e  7      Biomass_Mext...  0.0656\n",
      "ch4_e      4.08      co2_e  1.44\n",
      "nh4_e      0.641     h_e    0.146\n",
      "pi_e       0.0458\n",
      "k_e        0.0121\n",
      "so4_e      0.00414\n",
      "mg2_e      0.000541\n",
      "fe2_e      0.000526\n",
      "ca2_e      0.000325\n",
      "cl_e       0.000325\n",
      "na1_e      0.000267\n",
      "mobd_e     0.000231\n",
      "cu2_e      0.000216\n",
      "mn2_e      0.000216\n",
      "zn2_e      0.000216\n",
      "cobalt2_e  1.44e-05\n",
      "PRODUCING REACTIONS -- UQ (q_c)\n",
      "-------------------------------\n",
      "%       FLUX  RXN ID    REACTION\n",
      "----  ------  --------  --------------------------------------------------\n",
      "100%   2.76   CYOO_4p   4.0 h_c + 0.5 o2_c + qh2_c --> h2o_c + 4.0 h_p ...\n",
      "\n",
      "CONSUMING REACTIONS -- UQ (q_c)\n",
      "-------------------------------\n",
      "%       FLUX  RXN ID    REACTION\n",
      "----  ------  --------  --------------------------------------------------\n",
      "72%    1.98   NADH11    5.0 h_c + nadh_c + q_c --> 4.0 h_p + nad_c + qh2_c\n",
      "14%    0.387  ETFDH     q_c + rETF_c <=> oxETF_c + qh2_c\n",
      "14%    0.386  SUCCD1    q_c + succ_c <=> fum_c + qh2_c\n"
     ]
    }
   ],
   "source": [
    "with AM1_bigg:\n",
    "    AM1_bigg.reactions.PMMOipp.knock_out()\n",
    "    AM1_bigg.reactions.PMMODCipp.bounds = (0, 1000)\n",
    "    #AM1_bigg.reactions.UQCYOR_2p.knock_out()\n",
    "    AM1_bigg.summary()\n",
    "    AM1_bigg.metabolites.q_c.summary()"
   ]
  },
  {
   "cell_type": "code",
   "execution_count": 99,
   "metadata": {
    "ExecuteTime": {
     "end_time": "2019-11-21T07:14:03.264394Z",
     "start_time": "2019-11-21T07:14:03.228720Z"
    }
   },
   "outputs": [
    {
     "name": "stdout",
     "output_type": "stream",
     "text": [
      "PRODUCING REACTIONS -- UQ (q_c)\n",
      "-------------------------------\n",
      "%       FLUX  RXN ID    REACTION\n",
      "----  ------  --------  --------------------------------------------------\n",
      "100%   4.08   PMMOipp   ch4_p + o2_p + qh2_c --> h2o_p + meoh_p + q_c\n",
      "\n",
      "CONSUMING REACTIONS -- UQ (q_c)\n",
      "-------------------------------\n",
      "%       FLUX  RXN ID    REACTION\n",
      "----  ------  --------  --------------------------------------------------\n",
      "48%    1.95   SUCCD1    q_c + succ_c <=> fum_c + qh2_c\n",
      "45%    1.83   NADH11    5.0 h_c + nadh_c + q_c --> 4.0 h_p + nad_c + qh2_c\n",
      "7%     0.292  ETFDH     q_c + rETF_c <=> oxETF_c + qh2_c\n"
     ]
    }
   ],
   "source": [
    "AM1_bigg.metabolites.q_c.summary()"
   ]
  },
  {
   "cell_type": "code",
   "execution_count": 100,
   "metadata": {
    "ExecuteTime": {
     "end_time": "2019-11-21T07:14:04.746985Z",
     "start_time": "2019-11-21T07:14:04.617532Z"
    }
   },
   "outputs": [
    {
     "name": "stdout",
     "output_type": "stream",
     "text": [
      "IN FLUXES            OUT FLUXES    OBJECTIVES\n",
      "-------------------  ------------  -----------------------\n",
      "o2_e       5.46      h2o_e  7      Biomass_Mext...  0.0656\n",
      "ch4_e      4.08      co2_e  1.44\n",
      "nh4_e      0.641     h_e    0.146\n",
      "pi_e       0.0458\n",
      "k_e        0.0121\n",
      "so4_e      0.00414\n",
      "mg2_e      0.000541\n",
      "fe2_e      0.000526\n",
      "ca2_e      0.000325\n",
      "cl_e       0.000325\n",
      "na1_e      0.000267\n",
      "mobd_e     0.000231\n",
      "cu2_e      0.000216\n",
      "mn2_e      0.000216\n",
      "zn2_e      0.000216\n",
      "cobalt2_e  1.44e-05\n",
      "PRODUCING REACTIONS -- UQ (q_c)\n",
      "-------------------------------\n",
      "%       FLUX  RXN ID     REACTION\n",
      "----  ------  ---------  --------------------------------------------------\n",
      "100%   4.08   PMMOipp    ch4_p + o2_p + qh2_c --> h2o_p + meoh_p + q_c\n",
      "\n",
      "CONSUMING REACTIONS -- UQ (q_c)\n",
      "-------------------------------\n",
      "%       FLUX  RXN ID     REACTION\n",
      "----  ------  ---------  --------------------------------------------------\n",
      "49%    1.98   NADH11     5.0 h_c + nadh_c + q_c --> 4.0 h_p + nad_c + qh2_c\n",
      "32%    1.32   UQCYOR_2p  2.0 ficytc_c + qh2_c <=> 2.0 focytc_c + 2.0 h_p...\n",
      "9%     0.387  ETFDH      q_c + rETF_c <=> oxETF_c + qh2_c\n",
      "9%     0.386  SUCCD1     q_c + succ_c <=> fum_c + qh2_c\n"
     ]
    }
   ],
   "source": [
    "with AM1_bigg:\n",
    "    #AM1_bigg.reactions.PMMOipp.knock_out()\n",
    "    #AM1_bigg.reactions.PMMODCipp.bounds = (0, 1000)\n",
    "    AM1_bigg.reactions.UQCYOR_2p.bounds = (-1000, 1000)\n",
    "    AM1_bigg.summary()\n",
    "    AM1_bigg.metabolites.q_c.summary()"
   ]
  },
  {
   "cell_type": "code",
   "execution_count": 101,
   "metadata": {
    "ExecuteTime": {
     "end_time": "2019-11-21T07:14:06.214003Z",
     "start_time": "2019-11-21T07:14:06.179912Z"
    }
   },
   "outputs": [
    {
     "name": "stdout",
     "output_type": "stream",
     "text": [
      "PRODUCING REACTIONS -- H2O (h2o_p)\n",
      "----------------------------------\n",
      "%       FLUX  RXN ID    REACTION\n",
      "----  ------  --------  ---------------------------------------------\n",
      "56%     4.08  PMMOipp   ch4_p + o2_p + qh2_c --> h2o_p + meoh_p + q_c\n",
      "44%     3.2   H2Otpp    h2o_p <=> h2o_c\n",
      "\n",
      "CONSUMING REACTIONS -- H2O (h2o_p)\n",
      "----------------------------------\n",
      "%       FLUX  RXN ID    REACTION\n",
      "----  ------  --------  ---------------------------------------------\n",
      "100%    7.28  H2Otex    h2o_e <=> h2o_p\n"
     ]
    }
   ],
   "source": [
    "AM1_bigg.metabolites.h2o_p.summary()"
   ]
  },
  {
   "cell_type": "code",
   "execution_count": 102,
   "metadata": {
    "ExecuteTime": {
     "end_time": "2019-11-21T07:14:07.133037Z",
     "start_time": "2019-11-21T07:14:07.128239Z"
    }
   },
   "outputs": [
    {
     "data": {
      "text/html": [
       "\n",
       "        <table>\n",
       "            <tr>\n",
       "                <td><strong>Reaction identifier</strong></td><td>UQCYOR_2p</td>\n",
       "            </tr><tr>\n",
       "                <td><strong>Name</strong></td><td>ubiquinol_cytochrome_c_reductase</td>\n",
       "            </tr><tr>\n",
       "                <td><strong>Memory address</strong></td>\n",
       "                <td>0x07fd7de61a6d8</td>\n",
       "            </tr><tr>\n",
       "                <td><strong>Stoichiometry</strong></td>\n",
       "                <td>\n",
       "                    <p style='text-align:right'>2.0 ficytc_c + qh2_c --> 2.0 focytc_c + 2.0 h_p + q_c</p>\n",
       "                    <p style='text-align:right'>2.0 oxidized_cytochrome_c + UQH2 --> 2.0 reduced_cytochrome_c + 2.0 H_ + UQ</p>\n",
       "                </td>\n",
       "            </tr><tr>\n",
       "                <td><strong>GPR</strong></td><td>CQW49_RS00050 and CQW49_RS00055 and CQW49_RS00060</td>\n",
       "            </tr><tr>\n",
       "                <td><strong>Lower bound</strong></td><td>0.0</td>\n",
       "            </tr><tr>\n",
       "                <td><strong>Upper bound</strong></td><td>1000.0</td>\n",
       "            </tr>\n",
       "        </table>\n",
       "        "
      ],
      "text/plain": [
       "<Reaction UQCYOR_2p at 0x7fd7de61a6d8>"
      ]
     },
     "execution_count": 102,
     "metadata": {},
     "output_type": "execute_result"
    }
   ],
   "source": [
    "AM1_bigg.reactions.UQCYOR_2p"
   ]
  },
  {
   "cell_type": "code",
   "execution_count": 103,
   "metadata": {
    "ExecuteTime": {
     "end_time": "2019-11-21T07:14:07.884291Z",
     "start_time": "2019-11-21T07:14:07.879419Z"
    }
   },
   "outputs": [
    {
     "data": {
      "text/html": [
       "\n",
       "        <table>\n",
       "            <tr>\n",
       "                <td><strong>Reaction identifier</strong></td><td>CYO_2p</td>\n",
       "            </tr><tr>\n",
       "                <td><strong>Name</strong></td><td>cytochrome_c_oxidase</td>\n",
       "            </tr><tr>\n",
       "                <td><strong>Memory address</strong></td>\n",
       "                <td>0x07fd7deae4a90</td>\n",
       "            </tr><tr>\n",
       "                <td><strong>Stoichiometry</strong></td>\n",
       "                <td>\n",
       "                    <p style='text-align:right'>2.0 focytc_c + 4.0 h_c + 0.5 o2_c --> 2.0 ficytc_c + h2o_c + 2.0 h_p</p>\n",
       "                    <p style='text-align:right'>2.0 reduced_cytochrome_c + 4.0 H_ + 0.5 O2 --> 2.0 oxidized_cytochrome_c + H2O + 2.0 H_</p>\n",
       "                </td>\n",
       "            </tr><tr>\n",
       "                <td><strong>GPR</strong></td><td>CQW49_RS10045 and CQW49_RS10065 and CQW49_RS10070</td>\n",
       "            </tr><tr>\n",
       "                <td><strong>Lower bound</strong></td><td>0.0</td>\n",
       "            </tr><tr>\n",
       "                <td><strong>Upper bound</strong></td><td>1000.0</td>\n",
       "            </tr>\n",
       "        </table>\n",
       "        "
      ],
      "text/plain": [
       "<Reaction CYO_2p at 0x7fd7deae4a90>"
      ]
     },
     "execution_count": 103,
     "metadata": {},
     "output_type": "execute_result"
    }
   ],
   "source": [
    "AM1_bigg.reactions.CYO_2p"
   ]
  },
  {
   "cell_type": "markdown",
   "metadata": {},
   "source": [
    "#### Let's try uphill electron transfer:"
   ]
  },
  {
   "cell_type": "code",
   "execution_count": 104,
   "metadata": {
    "ExecuteTime": {
     "end_time": "2019-11-21T07:14:10.609855Z",
     "start_time": "2019-11-21T07:14:10.604432Z"
    }
   },
   "outputs": [],
   "source": [
    "with AM1_bigg:\n",
    "    AM1_bigg.reactions.PMMODCipp.knock_out()\n",
    "    AM1_bigg.reactions.PMMOipp.bounds = (0, 1000)\n",
    "    AM1_bigg.reactions.UQCYOR_2p.bounds = (-1000, 1000)"
   ]
  },
  {
   "cell_type": "markdown",
   "metadata": {},
   "source": [
    "It seems like there is no difference in growth rate predictions between direct coupling and uphill electron flow modes of methane oxidation:\n",
    "You have 2 options to understand this:\n",
    "1. Draw or restructure Escher map for OB3b central carbon metabolism.\n",
    "2. Understand modes of methane oxidation in detail. Refer to specific literature, Bath GEM Escher map and reconstruction. Try to correct these problems"
   ]
  },
  {
   "cell_type": "markdown",
   "metadata": {},
   "source": [
    "Save GEM in a json format so that it can loaded into Escher. --> I have already saved GEM in json format yesterday"
   ]
  },
  {
   "cell_type": "markdown",
   "metadata": {},
   "source": [
    "Look for flux in metabolites so that you can draw Escher GEM reconstruction:"
   ]
  },
  {
   "cell_type": "code",
   "execution_count": 377,
   "metadata": {
    "ExecuteTime": {
     "end_time": "2019-11-20T04:42:08.872166Z",
     "start_time": "2019-11-20T04:42:08.830951Z"
    }
   },
   "outputs": [
    {
     "name": "stdout",
     "output_type": "stream",
     "text": [
      "PRODUCING REACTIONS -- formaldehyde (fald_c)\n",
      "--------------------------------------------\n",
      "%       FLUX  RXN ID    REACTION\n",
      "----  ------  --------  ----------------------------------\n",
      "100%    4.08  FALDtpp   fald_p <=> fald_c\n",
      "\n",
      "CONSUMING REACTIONS -- formaldehyde (fald_c)\n",
      "--------------------------------------------\n",
      "%       FLUX  RXN ID    REACTION\n",
      "----  ------  --------  ----------------------------------\n",
      "100%    4.08  FALDA     fald_c + thf_c --> h2o_c + mlthf_c\n"
     ]
    }
   ],
   "source": [
    "AM1_bigg.metabolites.fald_c.summary()"
   ]
  },
  {
   "cell_type": "code",
   "execution_count": 133,
   "metadata": {
    "ExecuteTime": {
     "end_time": "2019-11-21T07:45:56.619901Z",
     "start_time": "2019-11-21T07:45:56.582367Z"
    }
   },
   "outputs": [
    {
     "name": "stdout",
     "output_type": "stream",
     "text": [
      "PRODUCING REACTIONS -- Ubiquinol-8 (q8h2_im)\n",
      "--------------------------------------------\n",
      "%       FLUX  RXN ID    REACTION\n",
      "----  ------  --------  --------------------------------------------------\n",
      "100%      25  NADH16pp  4.0 h_c + nadh_c + q8_im --> 3.0 h_p + nad_c + ...\n",
      "\n",
      "CONSUMING REACTIONS -- Ubiquinol-8 (q8h2_im)\n",
      "--------------------------------------------\n",
      "%       FLUX  RXN ID    REACTION\n",
      "----  ------  --------  --------------------------------------------------\n",
      "100%      25  PMMOipp   ch4_p + o2_p + q8h2_im --> h2o_p + meoh_p + q8_im\n"
     ]
    }
   ],
   "source": [
    "AM1_OB3b_combined.metabolites.q8h2_im.summary()"
   ]
  },
  {
   "cell_type": "code",
   "execution_count": 128,
   "metadata": {
    "ExecuteTime": {
     "end_time": "2019-11-21T07:44:01.025924Z",
     "start_time": "2019-11-21T07:44:00.990297Z"
    }
   },
   "outputs": [
    {
     "name": "stdout",
     "output_type": "stream",
     "text": [
      "PRODUCING REACTIONS -- UQH2 (qh2_c)\n",
      "-----------------------------------\n",
      "%       FLUX  RXN ID    REACTION\n",
      "----  ------  --------  --------------------------------------------------\n",
      "48%    1.95   SUCCD1    q_c + succ_c <=> fum_c + qh2_c\n",
      "45%    1.83   NADH11    5.0 h_c + nadh_c + q_c --> 4.0 h_p + nad_c + qh2_c\n",
      "7%     0.292  ETFDH     q_c + rETF_c <=> oxETF_c + qh2_c\n",
      "\n",
      "CONSUMING REACTIONS -- UQH2 (qh2_c)\n",
      "-----------------------------------\n",
      "%       FLUX  RXN ID    REACTION\n",
      "----  ------  --------  --------------------------------------------------\n",
      "100%   4.08   PMMOipp   ch4_p + o2_p + qh2_c --> h2o_p + meoh_p + q_c\n"
     ]
    }
   ],
   "source": [
    "AM1_bigg.metabolites.qh2_c.summary()"
   ]
  },
  {
   "cell_type": "code",
   "execution_count": 124,
   "metadata": {
    "ExecuteTime": {
     "end_time": "2019-11-21T07:41:54.485182Z",
     "start_time": "2019-11-21T07:41:54.449511Z"
    }
   },
   "outputs": [
    {
     "name": "stdout",
     "output_type": "stream",
     "text": [
      "PRODUCING REACTIONS -- reduced_cytochrome_c (focytc_c)\n",
      "------------------------------------------------------\n",
      "%       FLUX  RXN ID    REACTION\n",
      "----  ------  --------  --------------------------------------------------\n",
      "100%    8.16  MEOHDH    2.0 ficytc_c + meoh_p --> fald_p + 2.0 focytc_c...\n",
      "\n",
      "CONSUMING REACTIONS -- reduced_cytochrome_c (focytc_c)\n",
      "------------------------------------------------------\n",
      "%       FLUX  RXN ID    REACTION\n",
      "----  ------  --------  --------------------------------------------------\n",
      "100%    8.16  CYO_2p    2.0 focytc_c + 4.0 h_c + 0.5 o2_c --> 2.0 ficyt...\n"
     ]
    }
   ],
   "source": [
    "AM1_bigg.metabolites.focytc_c.summary()"
   ]
  },
  {
   "cell_type": "code",
   "execution_count": 384,
   "metadata": {
    "ExecuteTime": {
     "end_time": "2019-11-20T05:02:09.715523Z",
     "start_time": "2019-11-20T05:02:09.670222Z"
    }
   },
   "outputs": [
    {
     "name": "stdout",
     "output_type": "stream",
     "text": [
      "PRODUCING REACTIONS -- 5_10_methylenetetrahydrofolate (mlthf_c)\n",
      "---------------------------------------------------------------\n",
      "%       FLUX  RXN ID    REACTION\n",
      "----  ------  --------  -------------------------------------------\n",
      "100%    4.08  FALDA     fald_c + thf_c --> h2o_c + mlthf_c\n",
      "\n",
      "CONSUMING REACTIONS -- 5_10_methylenetetrahydrofolate (mlthf_c)\n",
      "---------------------------------------------------------------\n",
      "%       FLUX  RXN ID    REACTION\n",
      "----  ------  --------  -------------------------------------------\n",
      "64%     2.6   GHMT2r    gly_c + h2o_c + mlthf_c <=> ser_L_c + thf_c\n",
      "36%     1.47  MTHFD     methf_c + nadph_c <=> mlthf_c + nadp_c\n"
     ]
    }
   ],
   "source": [
    "AM1_bigg.metabolites.mlthf_c.summary()"
   ]
  },
  {
   "cell_type": "markdown",
   "metadata": {},
   "source": [
    "Check GEM reactions that have SP0001 gene reaction rule:"
   ]
  },
  {
   "cell_type": "code",
   "execution_count": 382,
   "metadata": {
    "ExecuteTime": {
     "end_time": "2019-11-20T04:51:17.821485Z",
     "start_time": "2019-11-20T04:51:17.811218Z"
    }
   },
   "outputs": [
    {
     "name": "stdout",
     "output_type": "stream",
     "text": [
      "SPOTN 1_amino_propan_2_one_3_phosphate_synthesis ao4pob_c + h_c --> 3a2op_c + co2_c\n",
      "FALDA H4F_dependent_formaldehyde_activating fald_c + thf_c --> h2o_c + mlthf_c\n",
      "G5SADr L_glutamate_gamma_semialdehyde__cyclase_dehydratase_ glu5sa_c <=> 1pyr5c_c + h2o_c + h_c\n",
      "OMCDC 2_isopropyl_3_oxosuccinate_decarboxylase 3c4mop_c + h_c --> 4mop_c + co2_c\n"
     ]
    }
   ],
   "source": [
    "for reaction in AM1_bigg.reactions:\n",
    "    if \"SP\" in reaction.gene_reaction_rule:\n",
    "        print(reaction.id, reaction.name, reaction.reaction)"
   ]
  },
  {
   "cell_type": "markdown",
   "metadata": {},
   "source": [
    "Let's try uphill electron transfer as implemented in Methylococcus capsulatus Bath:"
   ]
  },
  {
   "cell_type": "code",
   "execution_count": 187,
   "metadata": {
    "ExecuteTime": {
     "end_time": "2019-11-22T03:08:05.284541Z",
     "start_time": "2019-11-22T03:08:05.150344Z"
    }
   },
   "outputs": [
    {
     "name": "stdout",
     "output_type": "stream",
     "text": [
      "IN FLUXES            OUT FLUXES    OBJECTIVES\n",
      "-------------------  ------------  -----------------------\n",
      "o2_e       5.46      h2o_e  7      Biomass_Mext...  0.0656\n",
      "ch4_e      4.08      co2_e  1.44\n",
      "nh4_e      0.641     h_e    0.146\n",
      "pi_e       0.0458\n",
      "k_e        0.0121\n",
      "so4_e      0.00414\n",
      "mg2_e      0.000541\n",
      "fe2_e      0.000526\n",
      "ca2_e      0.000325\n",
      "cl_e       0.000325\n",
      "na1_e      0.000267\n",
      "mobd_e     0.000231\n",
      "cu2_e      0.000216\n",
      "mn2_e      0.000216\n",
      "zn2_e      0.000216\n",
      "cobalt2_e  1.44e-05\n"
     ]
    }
   ],
   "source": [
    "with AM1_bigg as model:\n",
    "    reaction_id = \"Biomass_Mextorquens_AM1_core\"\n",
    "    model.objective = reaction_id\n",
    "    model.reactions.CYOD.knock_out()\n",
    "    model.reactions.CYOO_4p.knock_out()\n",
    "    AM1_bigg.reactions.PMMODCipp.knock_out()\n",
    "    AM1_bigg.reactions.PMMOipp.bounds = (0, 1000)\n",
    "    AM1_bigg.reactions.UQCYOR_2p.bounds = (-1000, 1000)\n",
    "    model.optimize()\n",
    "    model_objective = model.optimize().fluxes\n",
    "    model_objective.to_csv(Escher_gapfilling_dir + reaction_id + \"_UQCYOR_2p\"+ \"_AM1\" + '.csv')\n",
    "    model.summary()"
   ]
  },
  {
   "cell_type": "markdown",
   "metadata": {},
   "source": [
    "#### Study why uphill electron transfer does not work properly! \n",
    "Block UQCYOR_2R reaction in Bath and AM1 and see what happens:"
   ]
  },
  {
   "cell_type": "code",
   "execution_count": 217,
   "metadata": {
    "ExecuteTime": {
     "end_time": "2019-11-22T10:49:18.540081Z",
     "start_time": "2019-11-22T10:49:18.285274Z"
    },
    "scrolled": true
   },
   "outputs": [
    {
     "name": "stdout",
     "output_type": "stream",
     "text": [
      "IN FLUXES         OUT FLUXES    OBJECTIVES\n",
      "----------------  ------------  ----------------------\n",
      "o2_e   27.8       h2o_e  33     BIOMASS_Mcap...  0.178\n",
      "ch4_e  18.5       co2_e  12.5\n",
      "no3_e   1.46\n",
      "h_e     1.46\n",
      "pi_e    0.0981\n",
      "cl_e    0.0382\n",
      "k_e     0.0314\n",
      "so4_e   0.03\n",
      "mg2_e   0.022\n",
      "ca2_e   0.0124\n",
      "na1_e   0.00697\n",
      "fe2_e   0.00109\n",
      "cu2_e   0.000269\n",
      "zn2_e   0.000178\n",
      " \n",
      "PRODUCING REACTIONS -- ferricytochrome c (ficytcc...)\n",
      "-----------------------------------------------------\n",
      "%       FLUX  RXN ID      REACTION\n",
      "----  ------  ----------  --------------------------------------------------\n",
      "100%    36.9  CYTAA3ipp   4.0 focytcc553_p + 8.0 h_c + o2_c --> 4.0 ficyt...\n",
      "\n",
      "CONSUMING REACTIONS -- ferricytochrome c (ficytcc...)\n",
      "-----------------------------------------------------\n",
      "%       FLUX  RXN ID      REACTION\n",
      "----  ------  ----------  --------------------------------------------------\n",
      "100%    36.9  CyLCyHORpp  ficytcc553_p + focytcc555_p <=> ficytcc555_p + ...\n",
      " \n",
      "PRODUCING REACTIONS -- Ubiquinol-8 (q8h2_im)\n",
      "--------------------------------------------\n",
      "%       FLUX  RXN ID    REACTION\n",
      "----  ------  --------  --------------------------------------------------\n",
      "100%   19.9   NADH16pp  4.0 h_c + nadh_c + q8_im --> 3.0 h_p + nad_c + ...\n",
      "\n",
      "CONSUMING REACTIONS -- Ubiquinol-8 (q8h2_im)\n",
      "--------------------------------------------\n",
      "%       FLUX  RXN ID    REACTION\n",
      "----  ------  --------  --------------------------------------------------\n",
      "93%    18.5   PMMOipp   ch4_p + o2_p + q8h2_im --> h2o_p + meoh_p + q8_im\n",
      "7%      1.46  NO3R1     no3_c + q8h2_im --> h2o_c + no2_c + q8_im\n",
      " \n",
      "PRODUCING REACTIONS -- NADH(2-) (nadh_c)\n",
      "----------------------------------------\n",
      "%      FLUX  RXN ID    REACTION\n",
      "---  ------  --------  --------------------------------------------------\n",
      "58%  12.3    FDH       for_c + nad_c --> co2_c + nadh_c\n",
      "41%   8.61   MDH       mal__L_c + nad_c --> h_c + nadh_c + oaa_c\n",
      "1%    0.218  ICDHxm    icit_c + nad_c --> akg_c + co2_c + nadh_c\n",
      "\n",
      "CONSUMING REACTIONS -- NADH(2-) (nadh_c)\n",
      "----------------------------------------\n",
      "%      FLUX  RXN ID    REACTION\n",
      "---  ------  --------  --------------------------------------------------\n",
      "94%  19.9    NADH16pp  4.0 h_c + nadh_c + q8_im --> 3.0 h_p + nad_c + ...\n",
      "7%    1.5    ALAD_L    h_c + nadh_c + nh4_c + pyr_c --> ala__L_c + h2o...\n",
      " \n",
      "PRODUCING REACTIONS -- ATP (atp_c)\n",
      "----------------------------------\n",
      "%      FLUX  RXN ID      REACTION\n",
      "---  ------  ----------  --------------------------------------------------\n",
      "90%  40.5    ATPSNaipp   adp_c + h_c + 3.0 na1_p + pi_c --> atp_c + h2o_...\n",
      "7%    2.99   PYK         adp_c + h_c + pep_c --> atp_c + pyr_c\n",
      "4%    1.64   PGK         13dpg_c + adp_c <=> 3pg_c + atp_c\n",
      "\n",
      "CONSUMING REACTIONS -- ATP (atp_c)\n",
      "----------------------------------\n",
      "%      FLUX  RXN ID      REACTION\n",
      "---  ------  ----------  --------------------------------------------------\n",
      "60%  27.2    NI2uabcpp   atp_c + h2o_c + ni2_p --> adp_c + h_c + ni2_c +...\n",
      "19%   8.39   ATPM        atp_c + h2o_c --> adp_c + h_c + pi_c\n",
      "9%    4.11   BIOMASS...  3e-06 2ddg6p_c + 0.006 2pg_c + 0.00015 6pgc_c +...\n",
      "4%    1.84   ADK1        amp_c + atp_c --> 2.0 adp_c\n",
      "4%    1.59   PPDK        atp_c + pi_c + pyr_c --> amp_c + h_c + pep_c + ...\n",
      "1%    0.516  PC          atp_c + hco3_c + pyr_c --> adp_c + h_c + oaa_c ...\n"
     ]
    }
   ],
   "source": [
    "with model_Bath as model:\n",
    "    reaction_id = \"BIOMASS_Mcapsulatus\"\n",
    "    model.objective = reaction_id\n",
    "    model.reactions.SMMOi.knock_out()\n",
    "    model.reactions.PMMODCipp.knock_out()\n",
    "    model.reactions.PMMOipp.bounds = (0, 1000)\n",
    "    model.reactions.CYOR_q8ppi.knock_out()\n",
    "    model.optimize()\n",
    "    model_objective = model.optimize().fluxes\n",
    "    model_objective.to_csv(Escher_gapfilling_dir + reaction_id + \"_CYOR_q8ppi_blocked\"+ \"_AM1\" + '.csv')\n",
    "    model.summary()\n",
    "    print(\" \")\n",
    "    model.metabolites.ficytcc553_p.summary()\n",
    "    print(\" \")\n",
    "    model.metabolites.q8h2_im.summary()\n",
    "    print(\" \")\n",
    "    model.metabolites.nadh_c.summary()\n",
    "    print(\" \")\n",
    "    model.metabolites.atp_c.summary()"
   ]
  },
  {
   "cell_type": "code",
   "execution_count": 216,
   "metadata": {
    "ExecuteTime": {
     "end_time": "2019-11-22T10:48:40.840322Z",
     "start_time": "2019-11-22T10:48:40.576835Z"
    }
   },
   "outputs": [
    {
     "name": "stdout",
     "output_type": "stream",
     "text": [
      "IN FLUXES            OUT FLUXES    OBJECTIVES\n",
      "-------------------  ------------  -----------------------\n",
      "o2_e       6.12      h2o_e  7.28   Biomass_Mext...  0.0495\n",
      "ch4_e      4.08      co2_e  2.09\n",
      "nh4_e      0.484     h_e    0.11\n",
      "pi_e       0.0346\n",
      "k_e        0.00913\n",
      "so4_e      0.00312\n",
      "mg2_e      0.000408\n",
      "fe2_e      0.000397\n",
      "ca2_e      0.000245\n",
      "cl_e       0.000245\n",
      "na1_e      0.000201\n",
      "mobd_e     0.000174\n",
      "cu2_e      0.000163\n",
      "mn2_e      0.000163\n",
      "zn2_e      0.000163\n",
      "cobalt2_e  1.09e-05\n",
      " \n",
      "PRODUCING REACTIONS -- oxidized_cytochrome_c (ficytc_c)\n",
      "-------------------------------------------------------\n",
      "%       FLUX  RXN ID    REACTION\n",
      "----  ------  --------  --------------------------------------------------\n",
      "100%    8.16  CYO_2p    2.0 focytc_c + 4.0 h_c + 0.5 o2_c --> 2.0 ficyt...\n",
      "\n",
      "CONSUMING REACTIONS -- oxidized_cytochrome_c (ficytc_c)\n",
      "-------------------------------------------------------\n",
      "%       FLUX  RXN ID    REACTION\n",
      "----  ------  --------  --------------------------------------------------\n",
      "100%    8.16  MEOHDH    2.0 ficytc_c + meoh_p --> fald_p + 2.0 focytc_c...\n",
      " \n",
      "PRODUCING REACTIONS -- UQH2 (qh2_c)\n",
      "-----------------------------------\n",
      "%       FLUX  RXN ID    REACTION\n",
      "----  ------  --------  --------------------------------------------------\n",
      "48%    1.95   SUCCD1    q_c + succ_c <=> fum_c + qh2_c\n",
      "45%    1.83   NADH11    5.0 h_c + nadh_c + q_c --> 4.0 h_p + nad_c + qh2_c\n",
      "7%     0.292  ETFDH     q_c + rETF_c <=> oxETF_c + qh2_c\n",
      "\n",
      "CONSUMING REACTIONS -- UQH2 (qh2_c)\n",
      "-----------------------------------\n",
      "%       FLUX  RXN ID    REACTION\n",
      "----  ------  --------  --------------------------------------------------\n",
      "100%   4.08   PMMOipp   ch4_p + o2_p + qh2_c --> h2o_p + meoh_p + q_c\n",
      " \n",
      "PRODUCING REACTIONS -- NADH (nadh_c)\n",
      "------------------------------------\n",
      "%      FLUX  RXN ID    REACTION\n",
      "---  ------  --------  --------------------------------------------------\n",
      "37%  1.85    HACD1     3hbcoa_c + nad_c <=> aacoa_c + h_c + nadh_c\n",
      "33%  1.66    AKGDH     akg_c + coa_c + nad_c --> co2_c + nadh_c + succ...\n",
      "29%  1.44    FDHr      for_c + nad_c <=> co2_c + nadh_c\n",
      "2%   0.0894  PGCDr     3pg_c + nad_c <=> 3php_c + h_c + nadh_c\n",
      "\n",
      "CONSUMING REACTIONS -- NADH (nadh_c)\n",
      "------------------------------------\n",
      "%      FLUX  RXN ID    REACTION\n",
      "---  ------  --------  --------------------------------------------------\n",
      "53%  2.68    GLYD      h_c + hpyr_c + nadh_c <=> glyc_R_c + nad_c\n",
      "36%  1.83    NADH11    5.0 h_c + nadh_c + q_c --> 4.0 h_p + nad_c + qh2_c\n",
      "8%   0.393   MDH       mal_L_c + nad_c <=> h_c + nadh_c + oaa_c\n",
      "4%   0.183   GAPD      g3p_c + nad_c + pi_c <=> 13dpg_c + h_c + nadh_c\n",
      " \n",
      "PRODUCING REACTIONS -- ATP (atp_c)\n",
      "----------------------------------\n",
      "%      FLUX  RXN ID      REACTION\n",
      "---  ------  ----------  --------------------------------------------------\n",
      "62%  5.86    ATPS4rpp    adp_c + 4.0 h_p + pi_c --> atp_c + h2o_c + 3.0 h_c\n",
      "21%  1.94    SUCOAS      atp_c + coa_c + succ_c <=> adp_c + pi_c + succoa_c\n",
      "15%  1.44    FTHFL       atp_c + for_c + thf_c <=> 10fthf_c + adp_c + pi_c\n",
      "2%   0.159   PYK         atp_c + pyr_c <=> adp_c + h_c + pep_c\n",
      "\n",
      "CONSUMING REACTIONS -- ATP (atp_c)\n",
      "----------------------------------\n",
      "%      FLUX  RXN ID      REACTION\n",
      "---  ------  ----------  --------------------------------------------------\n",
      "28%  2.68    GLYCK2      atp_c + glyc_R_c --> 2pg_c + adp_c + h_c\n",
      "28%  2.66    Biomass...  0.034671 14bglu_c + 0.033189 acgam_c + 0.000219...\n",
      "25%  2.38    MALCOAS     atp_c + coa_c + mal_L_c --> adp_c + malScoa_c +...\n",
      "4%   0.361   ADK1        amp_c + atp_c <=> 2.0 adp_c\n",
      "3%   0.292   PPCOAC      atp_c + hco3_c + ppcoa_c --> adp_c + h_c + mmco...\n",
      "2%   0.183   PGK         3pg_c + atp_c <=> 13dpg_c + adp_c\n",
      "1%   0.0853  GLNS        atp_c + glu_L_c + nh4_c --> adp_c + gln_L_c + h...\n"
     ]
    }
   ],
   "source": [
    "with AM1_bigg as model:\n",
    "    reaction_id = \"Biomass_Mextorquens_AM1_core\"\n",
    "    model.objective = reaction_id\n",
    "    model.reactions.CYOD.knock_out()\n",
    "    model.reactions.CYOO_4p.knock_out()\n",
    "    model.reactions.PMMODCipp.knock_out()\n",
    "    model.reactions.PMMOipp.bounds = (0, 1000)\n",
    "    model.reactions.UQCYOR_2p.knock_out()\n",
    "    model.optimize()\n",
    "    model_objective = model.optimize().fluxes\n",
    "    model_objective.to_csv(Escher_gapfilling_dir + reaction_id + \"_UQCYOR_2p_blocked\"+ \"_AM1\" + '.csv')\n",
    "    model.summary()\n",
    "    print(\" \")\n",
    "    model.metabolites.ficytc_c.summary()\n",
    "    print(\" \")\n",
    "    model.metabolites.qh2_c.summary()\n",
    "    print(\" \")\n",
    "    model.metabolites.nadh_c.summary()\n",
    "    print(\" \")\n",
    "    model.metabolites.atp_c.summary()"
   ]
  },
  {
   "cell_type": "code",
   "execution_count": 199,
   "metadata": {
    "ExecuteTime": {
     "end_time": "2019-11-22T10:13:55.798435Z",
     "start_time": "2019-11-22T10:13:55.760572Z"
    }
   },
   "outputs": [
    {
     "name": "stdout",
     "output_type": "stream",
     "text": [
      "PRODUCING REACTIONS -- oxidized_cytochrome_c (ficytc_c)\n",
      "-------------------------------------------------------\n",
      "%       FLUX  RXN ID     REACTION\n",
      "----  ------  ---------  --------------------------------------------------\n",
      "68%     5.51  CYO_2p     2.0 focytc_c + 4.0 h_c + 0.5 o2_c --> 2.0 ficyt...\n",
      "32%     2.65  UQCYOR_2p  2.0 ficytc_c + qh2_c <=> 2.0 focytc_c + 2.0 h_p...\n",
      "\n",
      "CONSUMING REACTIONS -- oxidized_cytochrome_c (ficytc_c)\n",
      "-------------------------------------------------------\n",
      "%       FLUX  RXN ID     REACTION\n",
      "----  ------  ---------  --------------------------------------------------\n",
      "100%    8.16  MEOHDH     2.0 ficytc_c + meoh_p --> fald_p + 2.0 focytc_c...\n"
     ]
    }
   ],
   "source": [
    "AM1_bigg.metabolites.ficytc_c.summary()"
   ]
  },
  {
   "cell_type": "code",
   "execution_count": 207,
   "metadata": {
    "ExecuteTime": {
     "end_time": "2019-11-22T10:26:48.177671Z",
     "start_time": "2019-11-22T10:26:48.172822Z"
    }
   },
   "outputs": [
    {
     "data": {
      "text/html": [
       "\n",
       "        <table>\n",
       "            <tr>\n",
       "                <td><strong>Reaction identifier</strong></td><td>MSUCCCOADH</td>\n",
       "            </tr><tr>\n",
       "                <td><strong>Name</strong></td><td>methylsuccinyl_CoA_dehydrogenase</td>\n",
       "            </tr><tr>\n",
       "                <td><strong>Memory address</strong></td>\n",
       "                <td>0x07fd7de1e1748</td>\n",
       "            </tr><tr>\n",
       "                <td><strong>Stoichiometry</strong></td>\n",
       "                <td>\n",
       "                    <p style='text-align:right'>2Smsucccoa_c + oxETF_c --> mesaccoa_c + rETF_c</p>\n",
       "                    <p style='text-align:right'>2S__methylsuccinyl_CoA + oxidized_ETF --> mesaconyl_CoA + reduced_ETF</p>\n",
       "                </td>\n",
       "            </tr><tr>\n",
       "                <td><strong>GPR</strong></td><td>CQW49_RS16385</td>\n",
       "            </tr><tr>\n",
       "                <td><strong>Lower bound</strong></td><td>0.0</td>\n",
       "            </tr><tr>\n",
       "                <td><strong>Upper bound</strong></td><td>1000.0</td>\n",
       "            </tr>\n",
       "        </table>\n",
       "        "
      ],
      "text/plain": [
       "<Reaction MSUCCCOADH at 0x7fd7de1e1748>"
      ]
     },
     "execution_count": 207,
     "metadata": {},
     "output_type": "execute_result"
    }
   ],
   "source": [
    "AM1_bigg.reactions.MSUCCCOADH"
   ]
  },
  {
   "cell_type": "code",
   "execution_count": 209,
   "metadata": {
    "ExecuteTime": {
     "end_time": "2019-11-22T10:27:16.401539Z",
     "start_time": "2019-11-22T10:27:16.394162Z"
    }
   },
   "outputs": [
    {
     "data": {
      "text/html": [
       "\n",
       "        <table>\n",
       "            <tr>\n",
       "                <td><strong>Reaction identifier</strong></td><td>ETFDH</td>\n",
       "            </tr><tr>\n",
       "                <td><strong>Name</strong></td><td>ETF_dehydrogenase</td>\n",
       "            </tr><tr>\n",
       "                <td><strong>Memory address</strong></td>\n",
       "                <td>0x07fd7de870780</td>\n",
       "            </tr><tr>\n",
       "                <td><strong>Stoichiometry</strong></td>\n",
       "                <td>\n",
       "                    <p style='text-align:right'>q_c + rETF_c <=> oxETF_c + qh2_c</p>\n",
       "                    <p style='text-align:right'>UQ + reduced_ETF <=> oxidized_ETF + UQH2</p>\n",
       "                </td>\n",
       "            </tr><tr>\n",
       "                <td><strong>GPR</strong></td><td>CQW49_RS05985 or ( CQW49_RS20305 and CQW49_RS20300 )</td>\n",
       "            </tr><tr>\n",
       "                <td><strong>Lower bound</strong></td><td>-1000.0</td>\n",
       "            </tr><tr>\n",
       "                <td><strong>Upper bound</strong></td><td>1000.0</td>\n",
       "            </tr>\n",
       "        </table>\n",
       "        "
      ],
      "text/plain": [
       "<Reaction ETFDH at 0x7fd7de870780>"
      ]
     },
     "execution_count": 209,
     "metadata": {},
     "output_type": "execute_result"
    }
   ],
   "source": [
    "AM1_bigg.reactions.ETFDH"
   ]
  },
  {
   "cell_type": "markdown",
   "metadata": {},
   "source": [
    "## Central carbon metabolism addition/curation:\n",
    "In OB3b, formate is the key entry point to the serine cycle and subsequent metabolism, not the formaldehyde. This is the main difference between OB3b and AM1\n",
    "<br>Below is the exploration of AM1-style formaldehyde entry to serine cycle:"
   ]
  },
  {
   "cell_type": "code",
   "execution_count": 106,
   "metadata": {
    "ExecuteTime": {
     "end_time": "2019-11-21T07:21:16.230721Z",
     "start_time": "2019-11-21T07:21:16.197539Z"
    }
   },
   "outputs": [
    {
     "name": "stdout",
     "output_type": "stream",
     "text": [
      "PRODUCING REACTIONS -- 5_10_methenyltetrahydrofolate (methf_c)\n",
      "--------------------------------------------------------------\n",
      "%       FLUX  RXN ID    REACTION\n",
      "----  ------  --------  --------------------------------------\n",
      "100%    1.47  MTHFD     methf_c + nadph_c <=> mlthf_c + nadp_c\n",
      "\n",
      "CONSUMING REACTIONS -- 5_10_methenyltetrahydrofolate (methf_c)\n",
      "--------------------------------------------------------------\n",
      "%       FLUX  RXN ID    REACTION\n",
      "----  ------  --------  --------------------------------------\n",
      "100%    1.47  MTHFC     10fthf_c + h_c <=> h2o_c + methf_c\n"
     ]
    }
   ],
   "source": [
    "AM1_bigg.metabolites.methf_c.summary()"
   ]
  },
  {
   "cell_type": "code",
   "execution_count": 107,
   "metadata": {
    "ExecuteTime": {
     "end_time": "2019-11-21T07:21:52.420385Z",
     "start_time": "2019-11-21T07:21:52.377892Z"
    }
   },
   "outputs": [
    {
     "name": "stdout",
     "output_type": "stream",
     "text": [
      "PRODUCING REACTIONS -- 10_formyltetrahydrofolate (10fthf_c)\n",
      "-----------------------------------------------------------\n",
      "%       FLUX  RXN ID    REACTION\n",
      "----  ------  --------  -------------------------------------------------\n",
      "100%  1.47    MTHFC     10fthf_c + h_c <=> h2o_c + methf_c\n",
      "\n",
      "CONSUMING REACTIONS -- 10_formyltetrahydrofolate (10fthf_c)\n",
      "-----------------------------------------------------------\n",
      "%       FLUX  RXN ID    REACTION\n",
      "----  ------  --------  -------------------------------------------------\n",
      "98%   1.44    FTHFL     atp_c + for_c + thf_c <=> 10fthf_c + adp_c + pi_c\n",
      "1%    0.0167  AICART    10fthf_c + aicar_c <=> fprica_c + thf_c\n"
     ]
    }
   ],
   "source": [
    "AM1_bigg.metabolites.get_by_id(\"10fthf_c\").summary()"
   ]
  },
  {
   "cell_type": "code",
   "execution_count": 108,
   "metadata": {
    "ExecuteTime": {
     "end_time": "2019-11-21T07:22:41.346303Z",
     "start_time": "2019-11-21T07:22:41.305871Z"
    }
   },
   "outputs": [
    {
     "name": "stdout",
     "output_type": "stream",
     "text": [
      "PRODUCING REACTIONS -- formate (for_c)\n",
      "--------------------------------------\n",
      "%       FLUX  RXN ID    REACTION\n",
      "----  ------  --------  -------------------------------------------------\n",
      "100%    1.44  FTHFL     atp_c + for_c + thf_c <=> 10fthf_c + adp_c + pi_c\n",
      "\n",
      "CONSUMING REACTIONS -- formate (for_c)\n",
      "--------------------------------------\n",
      "%       FLUX  RXN ID    REACTION\n",
      "----  ------  --------  -------------------------------------------------\n",
      "100%    1.44  FDHr      for_c + nad_c <=> co2_c + nadh_c\n"
     ]
    }
   ],
   "source": [
    "AM1_bigg.metabolites.get_by_id(\"for_c\").summary()"
   ]
  },
  {
   "cell_type": "markdown",
   "metadata": {},
   "source": [
    "### Escher map drawing fixing of central carbon metabolism of OB3b \n",
    "Important reactions for central carbon metabolism include:\n",
    "- H4MTP pathway\n",
    "- H4Folate pathway\n",
    "- Electron transport chain\n",
    "- EMC pahtway \n",
    "- Serine cycle\n",
    "- Some downstream pathways:\n",
    "- Glycolysis and PPP pathway\n",
    "<br>**Strategy:** 1. For each of the pathway try to refer to professional literature about the nature of this pathways\n",
    "<br> 2. Use scripts from http://localhost:8888/notebooks/Scripts/GEM_OB3b/3.%20Pathway-to-pathway%20manual%20curation.ipynb amd your Carveme GEM for assisting in reconstructing OB3b central carbon metabolism pathways."
   ]
  },
  {
   "cell_type": "markdown",
   "metadata": {},
   "source": [
    "#### ETC"
   ]
  },
  {
   "cell_type": "code",
   "execution_count": 164,
   "metadata": {
    "ExecuteTime": {
     "end_time": "2019-11-21T10:41:13.434481Z",
     "start_time": "2019-11-21T10:41:13.423917Z"
    }
   },
   "outputs": [
    {
     "name": "stdout",
     "output_type": "stream",
     "text": [
      "ATPM ATP_maintenance_requirement atp_c + h2o_c --> adp_c + h_c + pi_c\n",
      "CU2abcpp copper_exporting_ATPase atp_c + cu2_c + h2o_c --> adp_c + cu2_p + h_c + pi_c\n",
      "Kabcpp potassium_transporting_ATPase atp_c + h2o_c + k_p --> adp_c + h_c + k_c + pi_c\n",
      "PRATPP phosphoribosyl_ATP_pyrophosphatase h2o_c + prbatp_c --> h_c + ppi_c + prbamp_c\n",
      "ATPS4rpp ATP_synthase adp_c + 4.0 h_p + pi_c --> atp_c + h2o_c + 3.0 h_c\n",
      "ATPPRTr ATP_phosphoribosyltransferase atp_c + prpp_c <=> ppi_c + prbatp_c\n",
      "NTPP5 deoxynucleoside_triphosphate_pyrophosphohydrolase__dATP_ datp_c + h2o_c --> damp_c + h_c + ppi_c\n",
      "NTPP6 nucleoside_triphosphate_pyrophosphohydrolase__ATP_ atp_c + h2o_c --> amp_c + h_c + ppi_c\n"
     ]
    }
   ],
   "source": [
    "import re\n",
    "for reaction in AM1_bigg.reactions:\n",
    "    if re.search(\"ATP\", reaction.name, re.IGNORECASE):\n",
    "        print(reaction.id, reaction.name, reaction.reaction)"
   ]
  },
  {
   "cell_type": "code",
   "execution_count": 165,
   "metadata": {
    "ExecuteTime": {
     "end_time": "2019-11-21T10:43:35.272696Z",
     "start_time": "2019-11-21T10:43:35.256834Z"
    }
   },
   "outputs": [
    {
     "name": "stdout",
     "output_type": "stream",
     "text": [
      "CYO_2p cytochrome_c_oxidase 2.0 focytc_c + 4.0 h_c + 0.5 o2_c --> 2.0 ficytc_c + h2o_c + 2.0 h_p\n",
      "CYOO_4p cytochrome_o_ubiquinol_oxidase 4.0 h_c + 0.5 o2_c + qh2_c --> h2o_c + 4.0 h_p + q_c\n",
      "LDH_D3 D_lactate_dehydrogenase__cytochrome_ 2.0 ficytc_c + lac_D_c --> 2.0 focytc_c + 2.0 h_c + pyr_c\n",
      "UQCYOR_2p ubiquinol_cytochrome_c_reductase 2.0 ficytc_c + qh2_c --> 2.0 focytc_c + 2.0 h_p + q_c\n",
      "CYOD cytochrome_d_terminal_oxidase 4.0 h_c + o2_c + 2.0 qh2_c --> 2.0 h2o_c + 4.0 h_p + 2.0 q_c\n"
     ]
    }
   ],
   "source": [
    "import re\n",
    "for reaction in AM1_bigg.reactions:\n",
    "    if re.search(\"cytochrome\", reaction.name, re.IGNORECASE):\n",
    "        print(reaction.id, reaction.name, reaction.reaction)"
   ]
  },
  {
   "cell_type": "code",
   "execution_count": 166,
   "metadata": {
    "ExecuteTime": {
     "end_time": "2019-11-21T10:44:08.892719Z",
     "start_time": "2019-11-21T10:44:08.883324Z"
    }
   },
   "outputs": [
    {
     "name": "stdout",
     "output_type": "stream",
     "text": [
      "DMQMT2 3_demethylubiquinone_8_3_O_methyltransferase amet_c + dmuqh2_c --> ahcys_c + h_c + q8h2_c\n",
      "NADH11 NADH_ubiquinone_oxidoreductase_I 5.0 h_c + nadh_c + q_c --> 4.0 h_p + nad_c + qh2_c\n"
     ]
    }
   ],
   "source": [
    "import re\n",
    "for reaction in AM1_bigg.reactions:\n",
    "    if re.search(\"ubiquinone\", reaction.name, re.IGNORECASE):\n",
    "        print(reaction.id, reaction.name, reaction.reaction)"
   ]
  },
  {
   "cell_type": "code",
   "execution_count": 167,
   "metadata": {
    "ExecuteTime": {
     "end_time": "2019-11-21T10:44:23.226485Z",
     "start_time": "2019-11-21T10:44:23.218534Z"
    }
   },
   "outputs": [
    {
     "name": "stdout",
     "output_type": "stream",
     "text": [
      "THD2pp NAD_P__transhydrogenase h_p + nadh_c + nadp_c --> h_c + nad_c + nadph_c\n"
     ]
    }
   ],
   "source": [
    "import re\n",
    "for reaction in AM1_bigg.reactions:\n",
    "    if re.search(\"transhydrogenase\", reaction.name, re.IGNORECASE):\n",
    "        print(reaction.id, reaction.name, reaction.reaction)"
   ]
  },
  {
   "cell_type": "markdown",
   "metadata": {
    "ExecuteTime": {
     "end_time": "2019-11-21T10:46:24.183007Z",
     "start_time": "2019-11-21T10:46:24.177728Z"
    }
   },
   "source": [
    "Here is the list for oxidative phosphorylation subsystem as implemented in AM1:"
   ]
  },
  {
   "cell_type": "code",
   "execution_count": null,
   "metadata": {},
   "outputs": [],
   "source": [
    "ATPS4rpp --> ATP production\n",
    "CYO_2p --> Complex IV, cytochrome c oxidase\n",
    "CYOO_4p --> Complex IV\n",
    "UQCYOR_2p --> type III complex, cytochrome c reductase\n",
    "CYOD --> Complex IV, terminal oxidase, difference in cofactor used with Bath (qh2_c in AM1, ficytcc553_p in Bath)\n",
    "NADH11 --> energy balance\n",
    "THD2pp --> "
   ]
  },
  {
   "cell_type": "markdown",
   "metadata": {},
   "source": [
    "#### Formaldehyde oxidation\n",
    "Use highly-curated reactions from carveme GEM and put them inside your AM1-based GEM"
   ]
  },
  {
   "cell_type": "code",
   "execution_count": 220,
   "metadata": {
    "ExecuteTime": {
     "end_time": "2019-11-25T04:00:12.870742Z",
     "start_time": "2019-11-25T04:00:10.744728Z"
    }
   },
   "outputs": [],
   "source": [
    "memote_directory = '/home/ensakz/Desktop/memote_m_trichosporium/'\n",
    "draft_gems_dir_8 = 'draft_gems/8.OB3b_draft_gem_during_pathway_manual_curation/'\n",
    "carveme_GEM = cobra.io.read_sbml_model(memote_directory + draft_gems_dir_8 + 'iMsOB3b_11_14_2019.xml')"
   ]
  },
  {
   "cell_type": "code",
   "execution_count": 310,
   "metadata": {
    "ExecuteTime": {
     "end_time": "2019-11-25T13:21:08.999863Z",
     "start_time": "2019-11-25T13:21:07.965065Z"
    }
   },
   "outputs": [],
   "source": [
    "bigg_OB3b = cobra.io.load_json_model(memote_directory + \"AM1_bigg.json\")"
   ]
  },
  {
   "cell_type": "markdown",
   "metadata": {},
   "source": [
    "#### Add H4MTP pathway for potential formaldehyde oxidation:"
   ]
  },
  {
   "cell_type": "code",
   "execution_count": 242,
   "metadata": {
    "ExecuteTime": {
     "end_time": "2019-11-25T05:00:37.109482Z",
     "start_time": "2019-11-25T05:00:37.094627Z"
    }
   },
   "outputs": [
    {
     "name": "stderr",
     "output_type": "stream",
     "text": [
      "Ignoring reaction 'FAEi' since it already exists.\n",
      "Ignoring reaction 'MTDBi' since it already exists.\n",
      "Ignoring reaction 'MCHi' since it already exists.\n",
      "Ignoring reaction 'FTR' since it already exists.\n",
      "Ignoring reaction 'FMFRDHi' since it already exists.\n",
      "Ignoring reaction 'FDH' since it already exists.\n",
      "Ignoring reaction 'ALDD1' since it already exists.\n"
     ]
    },
    {
     "name": "stdout",
     "output_type": "stream",
     "text": [
      "FALDDHipp is absent\n",
      "\n",
      "Checking whether H4MTP pathway reactions have been added to bigg_OB3b GEM:\n",
      "FAEi\n",
      "MTDBi\n",
      "MCHi\n",
      "FTR\n",
      "FMFRDHi\n",
      "FDH\n",
      "FALDDHipp is absent\n",
      "ALDD1\n"
     ]
    }
   ],
   "source": [
    "H4MTP_pathway = ['FAEi', 'MTDBi', 'MCHi', 'FTR', 'FMFRDHi', 'FDH', 'FALDDHipp', 'ALDD1']\n",
    "#other_pathways = ['ALDD1', 'FALDDHipp']\n",
    "for reaction_id in H4MTP_pathway:\n",
    "    try:\n",
    "        bigg_OB3b.add_reaction(carveme_GEM.reactions.get_by_id(reaction_id))\n",
    "    except:\n",
    "        print(reaction_id, \"is absent\")\n",
    "        \n",
    "print(\"\\nChecking whether H4MTP pathway reactions have been added to bigg_OB3b GEM:\")\n",
    "        \n",
    "for reaction_id in H4MTP_pathway:\n",
    "    try:\n",
    "        print(bigg_OB3b.reactions.get_by_id(reaction_id).id)\n",
    "    except:\n",
    "        print(reaction_id, \"is absent\")"
   ]
  },
  {
   "cell_type": "markdown",
   "metadata": {},
   "source": [
    "H4MTP pathway added:"
   ]
  },
  {
   "cell_type": "code",
   "execution_count": 247,
   "metadata": {
    "ExecuteTime": {
     "end_time": "2019-11-25T05:06:04.720817Z",
     "start_time": "2019-11-25T05:06:04.537789Z"
    }
   },
   "outputs": [],
   "source": [
    "draft_gems_dir_8 = 'draft_gems/8.OB3b_draft_gem_during_pathway_manual_curation/'\n",
    "cobra.io.save_json_model(bigg_OB3b, memote_directory + draft_gems_dir_8 + \"bigg_OB3b_25_11_2019.json\")"
   ]
  },
  {
   "cell_type": "markdown",
   "metadata": {},
   "source": [
    "Let's try to see how flux goes in simulation after H4MTP-pathway addition:"
   ]
  },
  {
   "cell_type": "code",
   "execution_count": 311,
   "metadata": {
    "ExecuteTime": {
     "end_time": "2019-11-25T13:21:20.809399Z",
     "start_time": "2019-11-25T13:21:20.443181Z"
    }
   },
   "outputs": [
    {
     "name": "stdout",
     "output_type": "stream",
     "text": [
      "IN FLUXES            OUT FLUXES    OBJECTIVES\n",
      "-------------------  ------------  -----------------------\n",
      "o2_e       6.12      h2o_e  7.28   Biomass_Mext...  0.0495\n",
      "ch4_e      4.08      co2_e  2.09\n",
      "nh4_e      0.484     h_e    0.11\n",
      "pi_e       0.0346\n",
      "k_e        0.00913\n",
      "so4_e      0.00312\n",
      "mg2_e      0.000408\n",
      "fe2_e      0.000397\n",
      "ca2_e      0.000245\n",
      "cl_e       0.000245\n",
      "na1_e      0.000201\n",
      "mobd_e     0.000174\n",
      "cu2_e      0.000163\n",
      "mn2_e      0.000163\n",
      "zn2_e      0.000163\n",
      "cobalt2_e  1.09e-05\n"
     ]
    }
   ],
   "source": [
    "model_version = \"bigg_OB3b_25_11_2019/\"\n",
    "with bigg_OB3b as model:\n",
    "    reaction_id = \"Biomass_Mextorquens_AM1_core\"\n",
    "    model.objective = reaction_id\n",
    "    model.optimize()\n",
    "    model_objective = model.optimize().fluxes\n",
    "    model_objective.to_csv(Escher_gapfilling_dir + model_version + reaction_id + \"_PMMOipp\"+ \"_AM1\" + '.csv')\n",
    "    model.summary()"
   ]
  },
  {
   "cell_type": "markdown",
   "metadata": {},
   "source": [
    "Let's check where mlthf_c (5_10_methylenetetrahydrofolate) comes from in bigg_OB3b_25_11_2019.json GEM: "
   ]
  },
  {
   "cell_type": "code",
   "execution_count": 312,
   "metadata": {
    "ExecuteTime": {
     "end_time": "2019-11-25T13:21:26.345374Z",
     "start_time": "2019-11-25T13:21:26.339120Z"
    }
   },
   "outputs": [
    {
     "name": "stdout",
     "output_type": "stream",
     "text": [
      "GHMT2r serine_hydroxymethyltransferase CQW49_RS06375 GHMT2r: gly_c + h2o_c + mlthf_c <=> ser_L_c + thf_c\n",
      "MTHFD methylenetetrahydrofolate_dehydrogenase CQW49_RS12245 MTHFD: methf_c + nadph_c <=> mlthf_c + nadp_c\n",
      "MOHMT 3_methyl_2_oxobutanoate_hydroxymethyltransferase CQW49_RS13560 MOHMT: 3mob_c + h2o_c + mlthf_c <=> 2dhp_c + thf_c\n",
      "FALDA H4F_dependent_formaldehyde_activating SP0001 FALDA: fald_c + thf_c --> h2o_c + mlthf_c\n",
      "MTHFR3 5_10_methylenetetrahydrofolate_reductase CQW49_RS19120 MTHFR3: 2.0 h_c + mlthf_c + nadph_c <=> 5mthf_c + nadp_c\n",
      "TMDS thymidylate_synthetase META1_2853 TMDS: dump_c + mlthf_c <=> dhf_c + dtmp_c\n",
      "GLYCL_3 H_protein_aminomethyltransferase CQW49_RS13400 or CQW49_RS20565 GLYCL_3: h_c + pSamdhll_c + thf_c --> Gcvpdhll_c + mlthf_c + nh4_c\n"
     ]
    }
   ],
   "source": [
    "for reaction in bigg_OB3b.metabolites.mlthf_c.reactions:\n",
    "    print(reaction.id, reaction.name, reaction.gene_reaction_rule, reaction)"
   ]
  },
  {
   "cell_type": "code",
   "execution_count": 313,
   "metadata": {
    "ExecuteTime": {
     "end_time": "2019-11-25T13:21:27.652460Z",
     "start_time": "2019-11-25T13:21:27.619896Z"
    }
   },
   "outputs": [
    {
     "name": "stdout",
     "output_type": "stream",
     "text": [
      "PRODUCING REACTIONS -- 5_10_methylenetetrahydrofolate (mlthf_c)\n",
      "---------------------------------------------------------------\n",
      "%       FLUX  RXN ID    REACTION\n",
      "----  ------  --------  -------------------------------------------\n",
      "100%    3.81  FALDA     fald_c + thf_c --> h2o_c + mlthf_c\n",
      "\n",
      "CONSUMING REACTIONS -- 5_10_methylenetetrahydrofolate (mlthf_c)\n",
      "---------------------------------------------------------------\n",
      "%       FLUX  RXN ID    REACTION\n",
      "----  ------  --------  -------------------------------------------\n",
      "67%     2.56  MTHFD     methf_c + nadph_c <=> mlthf_c + nadp_c\n",
      "33%     1.24  GHMT2r    gly_c + h2o_c + mlthf_c <=> ser_L_c + thf_c\n"
     ]
    }
   ],
   "source": [
    "bigg_OB3b.metabolites.mlthf_c.summary()"
   ]
  },
  {
   "cell_type": "markdown",
   "metadata": {},
   "source": [
    "FALDA is the spontaneous (non-enzymatic) condensation of formaldehyde with H4F. Let's see what happens with FALDA knocked out:"
   ]
  },
  {
   "cell_type": "code",
   "execution_count": 314,
   "metadata": {
    "ExecuteTime": {
     "end_time": "2019-11-25T13:21:30.493765Z",
     "start_time": "2019-11-25T13:21:30.292717Z"
    }
   },
   "outputs": [
    {
     "name": "stdout",
     "output_type": "stream",
     "text": [
      "IN FLUXES            OUT FLUXES    OBJECTIVES\n",
      "-------------------  ------------  -----------------------\n",
      "o2_e       6.12      h2o_e  7.28   Biomass_Mext...  0.0495\n",
      "ch4_e      4.08      co2_e  2.09\n",
      "nh4_e      0.484     h_e    0.11\n",
      "pi_e       0.0346\n",
      "k_e        0.00913\n",
      "so4_e      0.00312\n",
      "mg2_e      0.000408\n",
      "fe2_e      0.000397\n",
      "cl_e       0.000245\n",
      "ca2_e      0.000245\n",
      "na1_e      0.000201\n",
      "mobd_e     0.000174\n",
      "cu2_e      0.000163\n",
      "mn2_e      0.000163\n",
      "zn2_e      0.000163\n",
      "cobalt2_e  1.09e-05\n",
      "PRODUCING REACTIONS -- formaldehyde (fald_c)\n",
      "--------------------------------------------\n",
      "%       FLUX  RXN ID    REACTION\n",
      "----  ------  --------  --------------------------------------\n",
      "100%    4.08  FALDtpp   fald_p <=> fald_c\n",
      "\n",
      "CONSUMING REACTIONS -- formaldehyde (fald_c)\n",
      "--------------------------------------------\n",
      "%       FLUX  RXN ID    REACTION\n",
      "----  ------  --------  --------------------------------------\n",
      "100%    4.08  MPTFALDA  fald_c + h4mpt_c --> h2o_c + mlh4mpt_c\n",
      "PRODUCING REACTIONS -- 5_10_methylenetetrahydrofolate (mlthf_c)\n",
      "---------------------------------------------------------------\n",
      "%       FLUX  RXN ID    REACTION\n",
      "----  ------  --------  -------------------------------------------\n",
      "100%   0.945  MTHFD     methf_c + nadph_c <=> mlthf_c + nadp_c\n",
      "\n",
      "CONSUMING REACTIONS -- 5_10_methylenetetrahydrofolate (mlthf_c)\n",
      "---------------------------------------------------------------\n",
      "%       FLUX  RXN ID    REACTION\n",
      "----  ------  --------  -------------------------------------------\n",
      "100%   0.941  GHMT2r    gly_c + h2o_c + mlthf_c <=> ser_L_c + thf_c\n"
     ]
    }
   ],
   "source": [
    "with bigg_OB3b as model:\n",
    "    biomass_id = \"Biomass_Mextorquens_AM1_core\"\n",
    "    model.objective = biomass_id\n",
    "    reaction_id = \"FALDA_ko\"\n",
    "    model.reactions.FALDA.knock_out()\n",
    "    model.optimize()\n",
    "    model_objective = model.optimize().fluxes\n",
    "    model_objective.to_csv(Escher_gapfilling_dir + model_version + reaction_id + \"_PMMOipp\"+ \"_AM1\" + '.csv')\n",
    "    model.summary()\n",
    "    bigg_OB3b.metabolites.fald_c.summary()\n",
    "    bigg_OB3b.metabolites.mlthf_c.summary()"
   ]
  },
  {
   "cell_type": "markdown",
   "metadata": {},
   "source": [
    "H4MTP pathway is already present in the GEM, there is no reason to add alternative reactions to this GEM. --> delete H4MTP pathway alternatives from OB3b or load clean bigg_OB3b GEM again:"
   ]
  },
  {
   "cell_type": "code",
   "execution_count": 263,
   "metadata": {
    "ExecuteTime": {
     "end_time": "2019-11-25T06:10:51.179487Z",
     "start_time": "2019-11-25T06:10:50.228996Z"
    }
   },
   "outputs": [],
   "source": [
    "bigg_OB3b = cobra.io.load_json_model(memote_directory + \"AM1_bigg.json\")"
   ]
  },
  {
   "cell_type": "code",
   "execution_count": 264,
   "metadata": {
    "ExecuteTime": {
     "end_time": "2019-11-25T06:16:10.597923Z",
     "start_time": "2019-11-25T06:16:10.593084Z"
    }
   },
   "outputs": [],
   "source": [
    "import re\n",
    "def reaction_id_search(model_from_list, word_to_search):\n",
    "    for reaction in model_from_list.reactions:\n",
    "        if re.search(word_to_search, reaction.name, re.IGNORECASE):\n",
    "            print(reaction.id, reaction.name, reaction.reaction, reaction.gene_reaction_rule)"
   ]
  },
  {
   "cell_type": "code",
   "execution_count": 266,
   "metadata": {
    "ExecuteTime": {
     "end_time": "2019-11-25T06:16:45.785185Z",
     "start_time": "2019-11-25T06:16:45.773236Z"
    }
   },
   "outputs": [
    {
     "name": "stdout",
     "output_type": "stream",
     "text": [
      "FALDHp formaldehyde_dehydrogenase fald_p + 2.0 ficytc_c + h2o_p --> 2.0 focytc_c + for_p + 3.0 h_p CQW49_RS14430\n",
      "FALDA H4F_dependent_formaldehyde_activating fald_c + thf_c --> h2o_c + mlthf_c SP0001\n",
      "EX_fald_e exchange_flux___formaldehyde fald_e -->  \n",
      "MPTFALDA H4MPT_dependent_formaldehyde_activating fald_c + h4mpt_c --> h2o_c + mlh4mpt_c CQW49_RS13515\n",
      "FALDtpp formaldehyde_transport_via_diffusion__periplasm_to_cytoplasm_ fald_p <=> fald_c \n",
      "FALDtex formaldehyde_transport_via_diffusion__extracellular_to_periplasm_ fald_e <=> fald_p \n"
     ]
    }
   ],
   "source": [
    "reaction_id_search(bigg_OB3b, 'formaldehyde')"
   ]
  },
  {
   "cell_type": "code",
   "execution_count": 268,
   "metadata": {
    "ExecuteTime": {
     "end_time": "2019-11-25T06:21:45.890015Z",
     "start_time": "2019-11-25T06:21:45.875996Z"
    }
   },
   "outputs": [
    {
     "name": "stdout",
     "output_type": "stream",
     "text": [
      "FALDHp formaldehyde_dehydrogenase fald_p + 2.0 ficytc_c + h2o_p --> 2.0 focytc_c + for_p + 3.0 h_p CQW49_RS14430\n",
      "FALDA H4F_dependent_formaldehyde_activating fald_c + thf_c --> h2o_c + mlthf_c SP0001\n",
      "EX_fald_e exchange_flux___formaldehyde fald_e -->  \n",
      "MPTFALDA H4MPT_dependent_formaldehyde_activating fald_c + h4mpt_c --> h2o_c + mlh4mpt_c CQW49_RS13515\n",
      "FALDtpp formaldehyde_transport_via_diffusion__periplasm_to_cytoplasm_ fald_p <=> fald_c \n",
      "FALDtex formaldehyde_transport_via_diffusion__extracellular_to_periplasm_ fald_e <=> fald_p \n"
     ]
    }
   ],
   "source": [
    "reaction_id_search(bigg_OB3b, 'formaldehyde')"
   ]
  },
  {
   "cell_type": "code",
   "execution_count": 317,
   "metadata": {
    "ExecuteTime": {
     "end_time": "2019-11-25T13:23:35.208641Z",
     "start_time": "2019-11-25T13:23:35.199833Z"
    }
   },
   "outputs": [
    {
     "name": "stderr",
     "output_type": "stream",
     "text": [
      "Ignoring reaction 'ALDD1' since it already exists.\n"
     ]
    }
   ],
   "source": [
    "bigg_OB3b.add_reaction(carveme_GEM.reactions.ALDD1)"
   ]
  },
  {
   "cell_type": "markdown",
   "metadata": {},
   "source": [
    "**Conclusion: FALDA is spontaneous reaction, and there is evidence that formaldehyde assimilation into serine cycle is done via H4MTP and downstream pathways. To keep flux going through, H4MTP pathway, I have to knockout FALDA**\n",
    "This is interesting as inclusion of ALDD1 reaction makes all flux go through it for H4MTP pathway."
   ]
  },
  {
   "cell_type": "markdown",
   "metadata": {},
   "source": [
    "Set reaction constraint of FALDHp to (0, 0) as there almost no evidence this reaction is present/active in OB3b. (Based on ortholog analysis and inspection of other models (look at section 4 Formaldehyde and formate oxidation) + literature review, there is no evidence of the presence of this enzyme in OB3b.)"
   ]
  },
  {
   "cell_type": "code",
   "execution_count": 329,
   "metadata": {
    "ExecuteTime": {
     "end_time": "2019-11-25T13:27:29.561143Z",
     "start_time": "2019-11-25T13:27:29.554574Z"
    }
   },
   "outputs": [],
   "source": [
    "bigg_OB3b.reactions.FALDHp.bounds = (0, 0)"
   ]
  },
  {
   "cell_type": "markdown",
   "metadata": {},
   "source": [
    "#### Formate to CO2\n",
    "NADH-dependent formate dehydrogenase"
   ]
  },
  {
   "cell_type": "markdown",
   "metadata": {},
   "source": [
    "#### Check serine cycle"
   ]
  },
  {
   "cell_type": "code",
   "execution_count": 332,
   "metadata": {
    "ExecuteTime": {
     "end_time": "2019-11-25T13:40:18.267032Z",
     "start_time": "2019-11-25T13:40:18.227561Z"
    }
   },
   "outputs": [
    {
     "name": "stdout",
     "output_type": "stream",
     "text": [
      "PRODUCING REACTIONS -- oxaloacetate (oaa_c)\n",
      "-------------------------------------------\n",
      "%       FLUX  RXN ID    REACTION\n",
      "----  ------  --------  -----------------------------------------------\n",
      "100%  0.561   PPC       co2_c + h2o_c + pep_c --> h_c + oaa_c + pi_c\n",
      "\n",
      "CONSUMING REACTIONS -- oxaloacetate (oaa_c)\n",
      "-------------------------------------------\n",
      "%       FLUX  RXN ID    REACTION\n",
      "----  ------  --------  -----------------------------------------------\n",
      "70%   0.393   MDH       mal_L_c + nad_c <=> h_c + nadh_c + oaa_c\n",
      "20%   0.111   ASPTA     akg_c + asp_L_c <=> glu_L_c + oaa_c\n",
      "10%   0.0569  CS        accoa_c + h2o_c + oaa_c <=> cit_c + coa_c + h_c\n"
     ]
    }
   ],
   "source": [
    "bigg_OB3b.metabolites.oaa_c.summary()"
   ]
  },
  {
   "cell_type": "code",
   "execution_count": 334,
   "metadata": {
    "ExecuteTime": {
     "end_time": "2019-11-25T13:41:19.340403Z",
     "start_time": "2019-11-25T13:41:19.336596Z"
    }
   },
   "outputs": [
    {
     "data": {
      "text/html": [
       "\n",
       "        <table>\n",
       "            <tr>\n",
       "                <td><strong>Reaction identifier</strong></td><td>ASPTA</td>\n",
       "            </tr><tr>\n",
       "                <td><strong>Name</strong></td><td>aspartate_aminotransferase</td>\n",
       "            </tr><tr>\n",
       "                <td><strong>Memory address</strong></td>\n",
       "                <td>0x07fd7d85fff98</td>\n",
       "            </tr><tr>\n",
       "                <td><strong>Stoichiometry</strong></td>\n",
       "                <td>\n",
       "                    <p style='text-align:right'>akg_c + asp_L_c <=> glu_L_c + oaa_c</p>\n",
       "                    <p style='text-align:right'>2_oxoglutarate + L_aspartate <=> L_glutamate + oxaloacetate</p>\n",
       "                </td>\n",
       "            </tr><tr>\n",
       "                <td><strong>GPR</strong></td><td>CQW49_RS01265 or CQW49_RS14445</td>\n",
       "            </tr><tr>\n",
       "                <td><strong>Lower bound</strong></td><td>-1000.0</td>\n",
       "            </tr><tr>\n",
       "                <td><strong>Upper bound</strong></td><td>1000.0</td>\n",
       "            </tr>\n",
       "        </table>\n",
       "        "
      ],
      "text/plain": [
       "<Reaction ASPTA at 0x7fd7d85fff98>"
      ]
     },
     "execution_count": 334,
     "metadata": {},
     "output_type": "execute_result"
    }
   ],
   "source": [
    "bigg_OB3b.reactions.ASPTA"
   ]
  },
  {
   "cell_type": "code",
   "execution_count": 333,
   "metadata": {
    "ExecuteTime": {
     "end_time": "2019-11-25T13:41:09.448105Z",
     "start_time": "2019-11-25T13:41:09.441802Z"
    }
   },
   "outputs": [
    {
     "data": {
      "text/html": [
       "\n",
       "        <table>\n",
       "            <tr>\n",
       "                <td><strong>Reaction identifier</strong></td><td>CS</td>\n",
       "            </tr><tr>\n",
       "                <td><strong>Name</strong></td><td>citrate_synthase</td>\n",
       "            </tr><tr>\n",
       "                <td><strong>Memory address</strong></td>\n",
       "                <td>0x07fd7d8249a90</td>\n",
       "            </tr><tr>\n",
       "                <td><strong>Stoichiometry</strong></td>\n",
       "                <td>\n",
       "                    <p style='text-align:right'>accoa_c + h2o_c + oaa_c <=> cit_c + coa_c + h_c</p>\n",
       "                    <p style='text-align:right'>acetyl_CoA + H2O + oxaloacetate <=> citrate + CoA + H_</p>\n",
       "                </td>\n",
       "            </tr><tr>\n",
       "                <td><strong>GPR</strong></td><td>CQW49_RS04760</td>\n",
       "            </tr><tr>\n",
       "                <td><strong>Lower bound</strong></td><td>-1000.0</td>\n",
       "            </tr><tr>\n",
       "                <td><strong>Upper bound</strong></td><td>1000.0</td>\n",
       "            </tr>\n",
       "        </table>\n",
       "        "
      ],
      "text/plain": [
       "<Reaction CS at 0x7fd7d8249a90>"
      ]
     },
     "execution_count": 333,
     "metadata": {},
     "output_type": "execute_result"
    }
   ],
   "source": [
    "bigg_OB3b.reactions.CS"
   ]
  },
  {
   "cell_type": "markdown",
   "metadata": {},
   "source": [
    "ACITL reaction from Escher map which is ATP-dependent citrate synthase is absent in OB3b GEM:"
   ]
  },
  {
   "cell_type": "code",
   "execution_count": 335,
   "metadata": {
    "ExecuteTime": {
     "end_time": "2019-11-25T13:42:55.845873Z",
     "start_time": "2019-11-25T13:42:55.816428Z"
    },
    "collapsed": true
   },
   "outputs": [
    {
     "ename": "AttributeError",
     "evalue": "DictList has no attribute or entry ACITL",
     "output_type": "error",
     "traceback": [
      "\u001b[0;31m---------------------------------------------------------------------------\u001b[0m",
      "\u001b[0;31mKeyError\u001b[0m                                  Traceback (most recent call last)",
      "\u001b[0;32m~/anaconda3/envs/GEM_py36/lib/python3.6/site-packages/cobra/core/dictlist.py\u001b[0m in \u001b[0;36m__getattr__\u001b[0;34m(self, attr)\u001b[0m\n\u001b[1;32m    450\u001b[0m         \u001b[0;32mtry\u001b[0m\u001b[0;34m:\u001b[0m\u001b[0;34m\u001b[0m\u001b[0;34m\u001b[0m\u001b[0m\n\u001b[0;32m--> 451\u001b[0;31m             \u001b[0;32mreturn\u001b[0m \u001b[0mDictList\u001b[0m\u001b[0;34m.\u001b[0m\u001b[0mget_by_id\u001b[0m\u001b[0;34m(\u001b[0m\u001b[0mself\u001b[0m\u001b[0;34m,\u001b[0m \u001b[0mattr\u001b[0m\u001b[0;34m)\u001b[0m\u001b[0;34m\u001b[0m\u001b[0;34m\u001b[0m\u001b[0m\n\u001b[0m\u001b[1;32m    452\u001b[0m         \u001b[0;32mexcept\u001b[0m \u001b[0mKeyError\u001b[0m\u001b[0;34m:\u001b[0m\u001b[0;34m\u001b[0m\u001b[0;34m\u001b[0m\u001b[0m\n",
      "\u001b[0;32m~/anaconda3/envs/GEM_py36/lib/python3.6/site-packages/cobra/core/dictlist.py\u001b[0m in \u001b[0;36mget_by_id\u001b[0;34m(self, id)\u001b[0m\n\u001b[1;32m     57\u001b[0m         \u001b[0;34m\"\"\"return the element with a matching id\"\"\"\u001b[0m\u001b[0;34m\u001b[0m\u001b[0;34m\u001b[0m\u001b[0m\n\u001b[0;32m---> 58\u001b[0;31m         \u001b[0;32mreturn\u001b[0m \u001b[0mlist\u001b[0m\u001b[0;34m.\u001b[0m\u001b[0m__getitem__\u001b[0m\u001b[0;34m(\u001b[0m\u001b[0mself\u001b[0m\u001b[0;34m,\u001b[0m \u001b[0mself\u001b[0m\u001b[0;34m.\u001b[0m\u001b[0m_dict\u001b[0m\u001b[0;34m[\u001b[0m\u001b[0mid\u001b[0m\u001b[0;34m]\u001b[0m\u001b[0;34m)\u001b[0m\u001b[0;34m\u001b[0m\u001b[0;34m\u001b[0m\u001b[0m\n\u001b[0m\u001b[1;32m     59\u001b[0m \u001b[0;34m\u001b[0m\u001b[0m\n",
      "\u001b[0;31mKeyError\u001b[0m: 'ACITL'",
      "\nDuring handling of the above exception, another exception occurred:\n",
      "\u001b[0;31mAttributeError\u001b[0m                            Traceback (most recent call last)",
      "\u001b[0;32m<ipython-input-335-90a19e94a4b5>\u001b[0m in \u001b[0;36m<module>\u001b[0;34m\u001b[0m\n\u001b[0;32m----> 1\u001b[0;31m \u001b[0mbigg_OB3b\u001b[0m\u001b[0;34m.\u001b[0m\u001b[0mreactions\u001b[0m\u001b[0;34m.\u001b[0m\u001b[0mACITL\u001b[0m\u001b[0;34m\u001b[0m\u001b[0;34m\u001b[0m\u001b[0m\n\u001b[0m",
      "\u001b[0;32m~/anaconda3/envs/GEM_py36/lib/python3.6/site-packages/cobra/core/dictlist.py\u001b[0m in \u001b[0;36m__getattr__\u001b[0;34m(self, attr)\u001b[0m\n\u001b[1;32m    452\u001b[0m         \u001b[0;32mexcept\u001b[0m \u001b[0mKeyError\u001b[0m\u001b[0;34m:\u001b[0m\u001b[0;34m\u001b[0m\u001b[0;34m\u001b[0m\u001b[0m\n\u001b[1;32m    453\u001b[0m             raise AttributeError(\"DictList has no attribute or entry %s\" %\n\u001b[0;32m--> 454\u001b[0;31m                                  attr)\n\u001b[0m\u001b[1;32m    455\u001b[0m \u001b[0;34m\u001b[0m\u001b[0m\n\u001b[1;32m    456\u001b[0m     \u001b[0;32mdef\u001b[0m \u001b[0m__dir__\u001b[0m\u001b[0;34m(\u001b[0m\u001b[0mself\u001b[0m\u001b[0;34m)\u001b[0m\u001b[0;34m:\u001b[0m\u001b[0;34m\u001b[0m\u001b[0;34m\u001b[0m\u001b[0m\n",
      "\u001b[0;31mAttributeError\u001b[0m: DictList has no attribute or entry ACITL"
     ]
    }
   ],
   "source": [
    "bigg_OB3b.reactions.ACITL"
   ]
  },
  {
   "cell_type": "markdown",
   "metadata": {},
   "source": [
    "**Note:** 2_oxoglutarate_dehydrogenase has no flux in OB3b GEM"
   ]
  },
  {
   "cell_type": "code",
   "execution_count": 338,
   "metadata": {
    "ExecuteTime": {
     "end_time": "2019-11-25T13:45:53.034539Z",
     "start_time": "2019-11-25T13:45:52.993084Z"
    }
   },
   "outputs": [
    {
     "name": "stdout",
     "output_type": "stream",
     "text": [
      "PRODUCING REACTIONS -- 2_oxoglutarate (akg_c)\n",
      "---------------------------------------------\n",
      "%        FLUX  RXN ID    REACTION\n",
      "----  -------  --------  --------------------------------------------------\n",
      "28%   0.111    ASPTA     akg_c + asp_L_c <=> glu_L_c + oaa_c\n",
      "23%   0.0894   PSERTr    3php_c + glu_L_c <=> akg_c + pser_L_c\n",
      "14%   0.0569   ICDHyr    icit_c + nadp_c --> akg_c + co2_c + nadph_c\n",
      "14%   0.0546   ALATA_D   glu_D_c + pyr_c <=> akg_c + ala_D_c\n",
      "5%    0.0208   VALTA     3mob_c + glu_L_c <=> akg_c + val_L_c\n",
      "5%    0.0196   LEUTAi    4mop_c + glu_L_c <=> akg_c + leu_L_c\n",
      "4%    0.0142   ACOTA     acorn_c + akg_c <=> acg5sa_c + glu_L_c\n",
      "3%    0.0128   SDPTA     glu_L_c + sl2a6o_c <=> akg_c + sl26da_c\n",
      "3%    0.0103   ILETA     3mop_c + glu_L_c <=> akg_c + ile_L_c\n",
      "2%    0.00673  PHETA1    glu_L_c + phpyr_c <=> akg_c + phe_L_c\n",
      "\n",
      "CONSUMING REACTIONS -- 2_oxoglutarate (akg_c)\n",
      "---------------------------------------------\n",
      "%        FLUX  RXN ID    REACTION\n",
      "----  -------  --------  --------------------------------------------------\n",
      "102%  0.403    GLUDy     akg_c + h_c + nadph_c + nh4_c <=> glu_L_c + h2o...\n"
     ]
    }
   ],
   "source": [
    "bigg_OB3b.metabolites.akg_c.summary()"
   ]
  },
  {
   "cell_type": "code",
   "execution_count": 339,
   "metadata": {
    "ExecuteTime": {
     "end_time": "2019-11-25T13:47:03.977105Z",
     "start_time": "2019-11-25T13:47:03.970431Z"
    }
   },
   "outputs": [
    {
     "data": {
      "text/html": [
       "\n",
       "        <table>\n",
       "            <tr>\n",
       "                <td><strong>Reaction identifier</strong></td><td>AKGDH</td>\n",
       "            </tr><tr>\n",
       "                <td><strong>Name</strong></td><td>2_oxoglutarate_dehydrogenase</td>\n",
       "            </tr><tr>\n",
       "                <td><strong>Memory address</strong></td>\n",
       "                <td>0x07fd7d8712ac8</td>\n",
       "            </tr><tr>\n",
       "                <td><strong>Stoichiometry</strong></td>\n",
       "                <td>\n",
       "                    <p style='text-align:right'>akg_c + coa_c + nad_c --> co2_c + nadh_c + succoa_c</p>\n",
       "                    <p style='text-align:right'>2_oxoglutarate + CoA + NAD_ --> CO2 + NADH + succinyl_CoA</p>\n",
       "                </td>\n",
       "            </tr><tr>\n",
       "                <td><strong>GPR</strong></td><td>CQW49_RS16425 and CQW49_RS16430 and CQW49_RS12150</td>\n",
       "            </tr><tr>\n",
       "                <td><strong>Lower bound</strong></td><td>0.0</td>\n",
       "            </tr><tr>\n",
       "                <td><strong>Upper bound</strong></td><td>1000.0</td>\n",
       "            </tr>\n",
       "        </table>\n",
       "        "
      ],
      "text/plain": [
       "<Reaction AKGDH at 0x7fd7d8712ac8>"
      ]
     },
     "execution_count": 339,
     "metadata": {},
     "output_type": "execute_result"
    }
   ],
   "source": [
    "bigg_OB3b.reactions.AKGDH"
   ]
  },
  {
   "cell_type": "markdown",
   "metadata": {},
   "source": [
    "In Bath, corresponding reactions are knocked out (2_oxoglutarate_dehydrogenase)."
   ]
  },
  {
   "cell_type": "code",
   "execution_count": 341,
   "metadata": {
    "ExecuteTime": {
     "end_time": "2019-11-25T13:47:56.758138Z",
     "start_time": "2019-11-25T13:47:56.753920Z"
    }
   },
   "outputs": [
    {
     "data": {
      "text/html": [
       "\n",
       "        <table>\n",
       "            <tr>\n",
       "                <td><strong>Reaction identifier</strong></td><td>OOR3r</td>\n",
       "            </tr><tr>\n",
       "                <td><strong>Name</strong></td><td>2-oxoglutarate synthase (rev)</td>\n",
       "            </tr><tr>\n",
       "                <td><strong>Memory address</strong></td>\n",
       "                <td>0x07fd7dccf6da0</td>\n",
       "            </tr><tr>\n",
       "                <td><strong>Stoichiometry</strong></td>\n",
       "                <td>\n",
       "                    <p style='text-align:right'>co2_c + fdxrd_c + succoa_c --> akg_c + coa_c + fdxox_c + h_c</p>\n",
       "                    <p style='text-align:right'>CO(2) + reduced ferredoxin + succinyl-CoA(5-) --> 2-oxoglutarate + CoA + oxidized ferredoxin + H(+)</p>\n",
       "                </td>\n",
       "            </tr><tr>\n",
       "                <td><strong>GPR</strong></td><td>MCA1952 and MCA1953</td>\n",
       "            </tr><tr>\n",
       "                <td><strong>Lower bound</strong></td><td>0.0</td>\n",
       "            </tr><tr>\n",
       "                <td><strong>Upper bound</strong></td><td>0.0</td>\n",
       "            </tr>\n",
       "        </table>\n",
       "        "
      ],
      "text/plain": [
       "<Reaction OOR3r at 0x7fd7dccf6da0>"
      ]
     },
     "execution_count": 341,
     "metadata": {},
     "output_type": "execute_result"
    }
   ],
   "source": [
    "model_Bath.reactions.AKGDH.bounds\n",
    "model_Bath.reactions.OOR3r"
   ]
  },
  {
   "cell_type": "code",
   "execution_count": 342,
   "metadata": {
    "ExecuteTime": {
     "end_time": "2019-11-25T13:53:10.615438Z",
     "start_time": "2019-11-25T13:53:10.580395Z"
    }
   },
   "outputs": [
    {
     "name": "stdout",
     "output_type": "stream",
     "text": [
      "PRODUCING REACTIONS -- succinate (succ_c)\n",
      "-----------------------------------------\n",
      "%       FLUX  RXN ID    REACTION\n",
      "----  ------  --------  --------------------------------------------------\n",
      "96%   0.279   SUCOAS    atp_c + coa_c + succ_c <=> adp_c + pi_c + succoa_c\n",
      "4%    0.0128  SDPDS     h2o_c + sl26da_c <=> 26dap_LL_c + succ_c\n",
      "\n",
      "CONSUMING REACTIONS -- succinate (succ_c)\n",
      "-----------------------------------------\n",
      "%       FLUX  RXN ID    REACTION\n",
      "----  ------  --------  --------------------------------------------------\n",
      "100%  0.292   SUCCD1    q_c + succ_c <=> fum_c + qh2_c\n"
     ]
    }
   ],
   "source": [
    "bigg_OB3b.metabolites.succ_c.summary()"
   ]
  },
  {
   "cell_type": "code",
   "execution_count": 343,
   "metadata": {
    "ExecuteTime": {
     "end_time": "2019-11-25T13:53:52.722521Z",
     "start_time": "2019-11-25T13:53:52.701926Z"
    },
    "scrolled": true
   },
   "outputs": [
    {
     "ename": "AttributeError",
     "evalue": "DictList has no attribute or entry FRD",
     "output_type": "error",
     "traceback": [
      "\u001b[0;31m---------------------------------------------------------------------------\u001b[0m",
      "\u001b[0;31mKeyError\u001b[0m                                  Traceback (most recent call last)",
      "\u001b[0;32m~/anaconda3/envs/GEM_py36/lib/python3.6/site-packages/cobra/core/dictlist.py\u001b[0m in \u001b[0;36m__getattr__\u001b[0;34m(self, attr)\u001b[0m\n\u001b[1;32m    450\u001b[0m         \u001b[0;32mtry\u001b[0m\u001b[0;34m:\u001b[0m\u001b[0;34m\u001b[0m\u001b[0;34m\u001b[0m\u001b[0m\n\u001b[0;32m--> 451\u001b[0;31m             \u001b[0;32mreturn\u001b[0m \u001b[0mDictList\u001b[0m\u001b[0;34m.\u001b[0m\u001b[0mget_by_id\u001b[0m\u001b[0;34m(\u001b[0m\u001b[0mself\u001b[0m\u001b[0;34m,\u001b[0m \u001b[0mattr\u001b[0m\u001b[0;34m)\u001b[0m\u001b[0;34m\u001b[0m\u001b[0;34m\u001b[0m\u001b[0m\n\u001b[0m\u001b[1;32m    452\u001b[0m         \u001b[0;32mexcept\u001b[0m \u001b[0mKeyError\u001b[0m\u001b[0;34m:\u001b[0m\u001b[0;34m\u001b[0m\u001b[0;34m\u001b[0m\u001b[0m\n",
      "\u001b[0;32m~/anaconda3/envs/GEM_py36/lib/python3.6/site-packages/cobra/core/dictlist.py\u001b[0m in \u001b[0;36mget_by_id\u001b[0;34m(self, id)\u001b[0m\n\u001b[1;32m     57\u001b[0m         \u001b[0;34m\"\"\"return the element with a matching id\"\"\"\u001b[0m\u001b[0;34m\u001b[0m\u001b[0;34m\u001b[0m\u001b[0m\n\u001b[0;32m---> 58\u001b[0;31m         \u001b[0;32mreturn\u001b[0m \u001b[0mlist\u001b[0m\u001b[0;34m.\u001b[0m\u001b[0m__getitem__\u001b[0m\u001b[0;34m(\u001b[0m\u001b[0mself\u001b[0m\u001b[0;34m,\u001b[0m \u001b[0mself\u001b[0m\u001b[0;34m.\u001b[0m\u001b[0m_dict\u001b[0m\u001b[0;34m[\u001b[0m\u001b[0mid\u001b[0m\u001b[0;34m]\u001b[0m\u001b[0;34m)\u001b[0m\u001b[0;34m\u001b[0m\u001b[0;34m\u001b[0m\u001b[0m\n\u001b[0m\u001b[1;32m     59\u001b[0m \u001b[0;34m\u001b[0m\u001b[0m\n",
      "\u001b[0;31mKeyError\u001b[0m: 'FRD'",
      "\nDuring handling of the above exception, another exception occurred:\n",
      "\u001b[0;31mAttributeError\u001b[0m                            Traceback (most recent call last)",
      "\u001b[0;32m<ipython-input-343-8ba651e1177d>\u001b[0m in \u001b[0;36m<module>\u001b[0;34m\u001b[0m\n\u001b[0;32m----> 1\u001b[0;31m \u001b[0mbigg_OB3b\u001b[0m\u001b[0;34m.\u001b[0m\u001b[0mreactions\u001b[0m\u001b[0;34m.\u001b[0m\u001b[0mFRD\u001b[0m\u001b[0;34m\u001b[0m\u001b[0;34m\u001b[0m\u001b[0m\n\u001b[0m",
      "\u001b[0;32m~/anaconda3/envs/GEM_py36/lib/python3.6/site-packages/cobra/core/dictlist.py\u001b[0m in \u001b[0;36m__getattr__\u001b[0;34m(self, attr)\u001b[0m\n\u001b[1;32m    452\u001b[0m         \u001b[0;32mexcept\u001b[0m \u001b[0mKeyError\u001b[0m\u001b[0;34m:\u001b[0m\u001b[0;34m\u001b[0m\u001b[0;34m\u001b[0m\u001b[0m\n\u001b[1;32m    453\u001b[0m             raise AttributeError(\"DictList has no attribute or entry %s\" %\n\u001b[0;32m--> 454\u001b[0;31m                                  attr)\n\u001b[0m\u001b[1;32m    455\u001b[0m \u001b[0;34m\u001b[0m\u001b[0m\n\u001b[1;32m    456\u001b[0m     \u001b[0;32mdef\u001b[0m \u001b[0m__dir__\u001b[0m\u001b[0;34m(\u001b[0m\u001b[0mself\u001b[0m\u001b[0;34m)\u001b[0m\u001b[0;34m:\u001b[0m\u001b[0;34m\u001b[0m\u001b[0;34m\u001b[0m\u001b[0m\n",
      "\u001b[0;31mAttributeError\u001b[0m: DictList has no attribute or entry FRD"
     ]
    }
   ],
   "source": [
    "bigg_OB3b.reactions.FRD"
   ]
  },
  {
   "cell_type": "code",
   "execution_count": 345,
   "metadata": {
    "ExecuteTime": {
     "end_time": "2019-11-25T13:54:55.799196Z",
     "start_time": "2019-11-25T13:54:55.760031Z"
    }
   },
   "outputs": [
    {
     "name": "stdout",
     "output_type": "stream",
     "text": [
      "PRODUCING REACTIONS -- fumarate (fum_c)\n",
      "---------------------------------------\n",
      "%       FLUX  RXN ID    REACTION\n",
      "----  ------  --------  ------------------------------\n",
      "89%   0.292   SUCCD1    q_c + succ_c <=> fum_c + qh2_c\n",
      "4%    0.0134  ADSL2r    25aics_c <=> aicar_c + fum_c\n",
      "4%    0.0119  ARGSL     argsuc_c <=> arg_L_c + fum_c\n",
      "3%    0.0107  ADSL1r    dcamp_c <=> amp_c + fum_c\n",
      "\n",
      "CONSUMING REACTIONS -- fumarate (fum_c)\n",
      "---------------------------------------\n",
      "%       FLUX  RXN ID    REACTION\n",
      "----  ------  --------  ------------------------------\n",
      "100%  0.328   FUM       fum_c + h2o_c <=> mal_L_c\n"
     ]
    }
   ],
   "source": [
    "bigg_OB3b.metabolites.fum_c.summary()"
   ]
  },
  {
   "cell_type": "markdown",
   "metadata": {},
   "source": [
    "#### EMC pathway"
   ]
  },
  {
   "cell_type": "code",
   "execution_count": 348,
   "metadata": {
    "ExecuteTime": {
     "end_time": "2019-11-25T13:58:40.491436Z",
     "start_time": "2019-11-25T13:58:40.449812Z"
    }
   },
   "outputs": [
    {
     "name": "stdout",
     "output_type": "stream",
     "text": [
      "PRODUCING REACTIONS -- R__3_hydroxybutanoyl_CoA (r3hbcoa_c)\n",
      "-----------------------------------------------------------\n",
      "%       FLUX  RXN ID    REACTION\n",
      "----  ------  --------  ----------------------------------------------\n",
      "100%  0.0137  AACOAR    aacoa_c + h_c + nadph_c --> nadp_c + r3hbcoa_c\n",
      "\n",
      "CONSUMING REACTIONS -- R__3_hydroxybutanoyl_CoA (r3hbcoa_c)\n",
      "-----------------------------------------------------------\n",
      "%       FLUX  RXN ID    REACTION\n",
      "----  ------  --------  ----------------------------------------------\n",
      "100%  0.0137  PHAS      r3hbcoa_c --> coa_c + pbhb_c\n"
     ]
    }
   ],
   "source": [
    "bigg_OB3b.metabolites.r3hbcoa_c.summary()"
   ]
  },
  {
   "cell_type": "code",
   "execution_count": 349,
   "metadata": {
    "ExecuteTime": {
     "end_time": "2019-11-25T13:59:14.773841Z",
     "start_time": "2019-11-25T13:59:14.770100Z"
    }
   },
   "outputs": [
    {
     "data": {
      "text/html": [
       "\n",
       "        <table>\n",
       "            <tr>\n",
       "                <td><strong>Reaction identifier</strong></td><td>AACOAR</td>\n",
       "            </tr><tr>\n",
       "                <td><strong>Name</strong></td><td>acetoacetyl_CoA_reductase_1</td>\n",
       "            </tr><tr>\n",
       "                <td><strong>Memory address</strong></td>\n",
       "                <td>0x07fd7d831d320</td>\n",
       "            </tr><tr>\n",
       "                <td><strong>Stoichiometry</strong></td>\n",
       "                <td>\n",
       "                    <p style='text-align:right'>aacoa_c + h_c + nadph_c --> nadp_c + r3hbcoa_c</p>\n",
       "                    <p style='text-align:right'>acetoacetyl_CoA + H_ + NADPH --> NADP_ + R__3_hydroxybutanoyl_CoA</p>\n",
       "                </td>\n",
       "            </tr><tr>\n",
       "                <td><strong>GPR</strong></td><td>CQW49_RS17800</td>\n",
       "            </tr><tr>\n",
       "                <td><strong>Lower bound</strong></td><td>0.0</td>\n",
       "            </tr><tr>\n",
       "                <td><strong>Upper bound</strong></td><td>1000.0</td>\n",
       "            </tr>\n",
       "        </table>\n",
       "        "
      ],
      "text/plain": [
       "<Reaction AACOAR at 0x7fd7d831d320>"
      ]
     },
     "execution_count": 349,
     "metadata": {},
     "output_type": "execute_result"
    }
   ],
   "source": [
    "bigg_OB3b.reactions.AACOAR"
   ]
  },
  {
   "cell_type": "markdown",
   "metadata": {},
   "source": [
    "**Note:** Pathway interconversions and cofactors are important. Think about them"
   ]
  },
  {
   "cell_type": "markdown",
   "metadata": {},
   "source": [
    "## Check GEM for sanity:\n",
    "One way to check GEM for sanity is to perform memote snapshot report.\n",
    "Another is to do several functional tests based on other GEM papers:\n",
    "Examples of such functional tests are given in Methylococcus capsulatus Bath GEM complimentary scripts and Methylocystis GEM paper."
   ]
  },
  {
   "cell_type": "markdown",
   "metadata": {},
   "source": [
    "Reference used to check GEM sanity:\n",
    "- https://microbialcellfactories.biomedcentral.com/articles/10.1186/s12934-019-1154-5#Sec9 +\n",
    "- https://www.sciencedirect.com/science/article/pii/S1096717618304592?via%3Dihub +\n",
    "- https://bmcsystbiol.biomedcentral.com/articles/10.1186/1752-0509-5-189#Sec18 +\n",
    "- \n",
    "- https://memote.io/\n",
    "- Personal OneNote notes +\n",
    "- Previous Jupyter notebook scripts +"
   ]
  },
  {
   "cell_type": "markdown",
   "metadata": {
    "hideCode": true,
    "hideOutput": true
   },
   "source": [
    "### Step 1: Generate memote snapshot report\n",
    "Report was generated using https://memote.io/ --> takes too much time. Finally, report was generated using memote local version:"
   ]
  },
  {
   "cell_type": "code",
   "execution_count": null,
   "metadata": {},
   "outputs": [],
   "source": [
    "$ memote report snapshot path/to/model.xml"
   ]
  },
  {
   "cell_type": "markdown",
   "metadata": {},
   "source": [
    "Inspect report:"
   ]
  },
  {
   "cell_type": "markdown",
   "metadata": {
    "ExecuteTime": {
     "end_time": "2019-11-26T07:33:24.308134Z",
     "start_time": "2019-11-26T07:33:24.283320Z"
    }
   },
   "source": [
    "Memote snapshot report looks really good! It can be inspected in greater detail later"
   ]
  },
  {
   "cell_type": "markdown",
   "metadata": {},
   "source": [
    "### Step 2: Methylococcus capsulatus GEM complimentary scripts\n",
    "Make a list of key metabolites sanity of which should be checked:\n",
    "1. ATP: Reaction directionality was modified in order to avoid unfeasible ATP production, so that the model only simulates ATP production in the respiratory chain and in the lower glycolysis. +\n",
    "2. H+: Directionality of the reactions involving proton transport was also modified in order to guarantee that no proton flux towards the exterior of the cell is allowed if it is not mediated by the components of the respiratory chain or associated to some energy cost. This was done in order to avoid proton flux against its concentration gradient. +"
   ]
  },
  {
   "cell_type": "markdown",
   "metadata": {},
   "source": [
    "#### ATP"
   ]
  },
  {
   "cell_type": "code",
   "execution_count": 361,
   "metadata": {
    "ExecuteTime": {
     "end_time": "2019-11-26T01:22:05.781559Z",
     "start_time": "2019-11-26T01:22:05.761077Z"
    }
   },
   "outputs": [
    {
     "name": "stdout",
     "output_type": "stream",
     "text": [
      "ARGTRS: arg_L_c + atp_c + trnaarg_c --> amp_c + argtrna_c + ppi_c\n",
      "FMNAT: atp_c + fmn_c + h_c --> fad_c + ppi_c\n",
      "ACKr: ac_c + atp_c <=> actp_c + adp_c\n",
      "PMPK: 4ampm_c + atp_c <=> 2mahmp_c + adp_c\n",
      "SUCOAS: atp_c + coa_c + succ_c <=> adp_c + pi_c + succoa_c\n",
      "FACOAL160: atp_c + coa_c + hdca_c <=> amp_c + pmtcoa_c + ppi_c\n",
      "ASPK: asp_L_c + atp_c <=> 4pasp_c + adp_c\n",
      "CBLAT: atp_c + cbl1_c + h_c --> adocbl_c + pppi_c\n",
      "GMPS: atp_c + nh4_c + xmp_c --> amp_c + gmp_c + 2.0 h_c + ppi_c\n",
      "FTHFL: atp_c + for_c + thf_c <=> 10fthf_c + adp_c + pi_c\n",
      "ADOCBIK: adocbi_c + atp_c <=> adocbip_c + adp_c + h_c\n",
      "HMPK1: 4ahmmp_c + atp_c <=> 4ampm_c + adp_c + h_c\n",
      "RBFK: atp_c + ribflv_c --> adp_c + fmn_c + h_c\n",
      "PRBK: atp_c + ru5p_D_c <=> adp_c + h_c + rb15bp_c\n",
      "CBIAT: atp_c + cbi_c + h_c --> adocbi_c + pppi_c\n",
      "ATPPRTr: atp_c + prpp_c <=> ppi_c + prbatp_c\n",
      "PRAGSr: atp_c + gly_c + pram_c <=> adp_c + gar_c + h_c + pi_c\n",
      "ILETRS: atp_c + ile_L_c + trnaile_c --> amp_c + iletrna_c + ppi_c\n",
      "FACOAL100: atp_c + coa_c + dca_c <=> amp_c + dcacoa_c + ppi_c\n",
      "GLUTRS_Gln_: atp_c + glu_L_c + h_c + trnagln_c --> amp_c + glutrna_gln__c + ppi_c\n",
      "AACPS3: ACP_c + atp_c + hdca_c --> amp_c + palmACP_c + ppi_c\n",
      "ACS2: atp_c + coa_c + ppa_c --> amp_c + ppcoa_c + ppi_c\n",
      "SKMK: atp_c + skm_c <=> adp_c + h_c + skm3p_c\n",
      "BIOTINS: adp_c + 2.0 malcoa_c + pi_c <=> atp_c + coa_c + 2.0 h_c + hco3_c + pmcoa_c\n",
      "GLUTRS: atp_c + glu_L_c + trnaglu_c --> amp_c + glutrna_c + ppi_c\n",
      "FACOAL80: atp_c + coa_c + octa_c <=> amp_c + occoa_c + ppi_c\n",
      "UAAGDS: 26dap_M_c + atp_c + uamag_c --> adp_c + h_c + pi_c + ugmd_c\n",
      "UAMAGS: atp_c + glu_D_c + uama_c --> adp_c + h_c + pi_c + uamag_c\n",
      "DHFS: atp_c + dhpt_c + glu_L_c --> adp_c + dhf_c + h_c + pi_c\n",
      "ARGSSr: asp_L_c + atp_c + citr_L_c --> amp_c + argsuc_c + h_c + ppi_c\n",
      "CA2abctpp: atp_c + ca2_p + h2o_c --> adp_c + ca2_c + h_c + pi_c\n",
      "BTCOAC: atp_c + btcoa_c + hco3_c --> 2Sethmalcoa_c + adp_c + h_c + pi_c\n",
      "PIuabcpp: atp_c + h2o_c + pi_p --> adp_c + h_c + 2.0 pi_c\n",
      "NTPP6: atp_c + h2o_c --> amp_c + h_c + ppi_c\n",
      "ALATRS: ala_L_c + atp_c + trnaala_c --> alatrna_c + amp_c + ppi_c\n",
      "GK1: atp_c + gmp_c <=> adp_c + gdp_c\n",
      "ASNS1: asp_L_c + atp_c + gln_L_c + h2o_c --> amp_c + asn_L_c + glu_L_c + h_c + ppi_c\n",
      "METTRS: atp_c + met_L_c + trnamet_c --> amp_c + mettrna_c + ppi_c\n",
      "DADK: atp_c + damp_c <=> adp_c + dadp_c\n",
      "THMBIOS: atp_c + h_c + this_c --> ppi_c + thisamp_c\n",
      "DBTSr: atp_c + co2_c + dann_c --> adp_c + dtbt_c + 3.0 h_c + pi_c\n",
      "MPTAT: atp_c + h_c + mpt_c --> mptamp_c + ppi_c\n",
      "PYK: atp_c + pyr_c <=> adp_c + h_c + pep_c\n",
      "AACPS4: ACP_c + atp_c + hdcea_c --> amp_c + hdeACP_c + ppi_c\n",
      "LYSTRS: atp_c + lys_L_c + trnalys_c --> amp_c + lystrna_c + ppi_c\n",
      "GLYTRS: atp_c + gly_c + trnagly_c --> amp_c + glytrna_c + ppi_c\n",
      "ATPM: atp_c + h2o_c --> adp_c + h_c + pi_c\n",
      "NADK: atp_c + nad_c --> adp_c + h_c + nadp_c\n",
      "FACOAL180: atp_c + coa_c + ocdca_c <=> amp_c + ppi_c + stcoa_c\n",
      "Kabcpp: atp_c + h2o_c + k_p --> adp_c + h_c + k_c + pi_c\n",
      "GLYCK2: atp_c + glyc_R_c --> 2pg_c + adp_c + h_c\n",
      "UMPK: atp_c + ump_c <=> adp_c + udp_c\n",
      "TRPTRS: atp_c + trnatrp_c + trp_L_c --> amp_c + ppi_c + trptrna_c\n",
      "DPCOAK: atp_c + dpcoa_c --> adp_c + coa_c + h_c\n",
      "MALCOAS: atp_c + coa_c + mal_L_c --> adp_c + malScoa_c + pi_c\n",
      "PRASCS: 5aizc_c + asp_L_c + atp_c <=> 25aics_c + adp_c + h_c + pi_c\n",
      "ASPTRS_tASN: asp_L_c + atp_c + trnaasn_c --> amp_c + asptrna_asn_c + ppi_c\n",
      "GMPS2: atp_c + gln_L_c + h2o_c + xmp_c --> amp_c + glu_L_c + gmp_c + 2.0 h_c + ppi_c\n",
      "MOBDabcpp: atp_c + h2o_c + mobd_p --> adp_c + h_c + mobd_c + pi_c\n",
      "TMPKr: atp_c + thmmp_c --> adp_c + thmpp_c\n",
      "PHETRS: atp_c + phe_L_c + trnaphe_c --> amp_c + phetrna_c + ppi_c\n",
      "FACOAL181: atp_c + coa_c + ocdcea_c <=> amp_c + odecoa_c + ppi_c\n",
      "THRPS: atp_c + thr_L_c --> adp_c + h_c + thrp_c\n",
      "ALAALAr: 2.0 ala_D_c + atp_c <=> adp_c + alaala_c + h_c + pi_c\n",
      "FPGS8: 10fthf5glu_c + atp_c + glu_L_c --> 10fthf6glu_c + adp_c + h_c + pi_c\n",
      "NNATr: atp_c + h_c + nicrnt_c --> dnad_c + ppi_c\n",
      "PPDK: atp_c + pi_c + pyr_c --> amp_c + h_c + pep_c + ppi_c\n",
      "UAMAS: ala_L_c + atp_c + uamr_c <=> adp_c + h_c + pi_c + uama_c\n",
      "ADSK: aps_c + atp_c <=> adp_c + h_c + paps_c\n",
      "PGK: 3pg_c + atp_c <=> 13dpg_c + adp_c\n",
      "CU2abcpp: atp_c + cu2_c + h2o_c --> adp_c + cu2_p + h_c + pi_c\n",
      "GLYKr: atp_c + glyc_c --> adp_c + glyc3p_c + h_c\n",
      "ADCYRS: adcobdam_c + 4.0 atp_c + 4.0 gln_L_c + 4.0 h2o_c <=> adcobhex_c + 4.0 adp_c + 4.0 glu_L_c + 4.0 h_c + 4.0 pi_c\n",
      "PPCOAC: atp_c + hco3_c + ppcoa_c --> adp_c + h_c + mmcoa_S_c + pi_c\n",
      "SADT: atp_c + h_c + so4_c <=> aps_c + ppi_c\n",
      "NADS1: atp_c + dnad_c + nh4_c --> amp_c + h_c + nad_c + ppi_c\n",
      "CYSTRS: atp_c + cys_L_c + trnacys_c --> amp_c + cystrna_c + ppi_c\n",
      "TYRTRS: atp_c + trnatyr_c + tyr_L_c --> amp_c + ppi_c + tyrtrna_c\n",
      "NDPK8: atp_c + dadp_c --> adp_c + datp_c\n",
      "CO2DAMS: 2.0 atp_c + cobya_c + 2.0 gln_L_c + 2.0 h2o_c --> 2.0 adp_c + co2dam_c + 2.0 glu_L_c + 2.0 h_c + 2.0 pi_c\n",
      "AACPS5: ACP_c + atp_c + ocdcea_c --> amp_c + octeACP_c + ppi_c\n",
      "HSK: atp_c + hom_L_c <=> adp_c + h_c + phom_c\n",
      "FACOAL121: atp_c + coa_c + ddc5e_c <=> amp_c + cdd5ecoa_c + ppi_c\n",
      "CTPS2: atp_c + gln_L_c + h2o_c + utp_c --> adp_c + ctp_c + glu_L_c + 2.0 h_c + pi_c\n",
      "NDPK5: atp_c + dgdp_c --> adp_c + dgtp_c\n",
      "BTCAL: atp_c + but_c + coa_c <=> amp_c + btcoa_c + ppi_c\n",
      "SULabcpp: atp_c + h2o_c + so4_p --> adp_c + h_c + pi_c + so4_c\n",
      "ADK1: amp_c + atp_c <=> 2.0 adp_c\n",
      "NDPK1: atp_c + gdp_c --> adp_c + gtp_c\n",
      "PNTK: atp_c + pnto_R_c --> 4ppan_c + adp_c + h_c\n",
      "CBPS: 2.0 atp_c + gln_L_c + h2o_c + hco3_c <=> 2.0 adp_c + cbp_c + glu_L_c + 2.0 h_c + pi_c\n",
      "METAT: atp_c + h2o_c + met_L_c --> amet_c + pi_c + ppi_c\n",
      "PRAIS: atp_c + fpram_c --> adp_c + air_c + 2.0 h_c + pi_c\n",
      "HISTRS: atp_c + his_L_c + trnahis_c --> amp_c + histrna_c + ppi_c\n",
      "GLUCYS: atp_c + cys_L_c + glu_L_c <=> adp_c + glucys_c + h_c + pi_c\n",
      "DGK1: atp_c + dgmp_c <=> adp_c + dgdp_c\n",
      "PROTRS: atp_c + pro_L_c + trnapro_c --> amp_c + ppi_c + protrna_c\n",
      "PANTS: ala_B_c + atp_c + pant_R_c --> amp_c + h_c + pnto_R_c + ppi_c\n",
      "MFPGS5: atp_c + glu_L_c + mlthf5glu_c --> adp_c + h_c + mlthf6glu_c + pi_c\n",
      "MG2uabcpp: atp_c + h2o_c + mg2_p --> adp_c + h_c + mg2_c + pi_c\n",
      "CYRDAAT: atp_c + co1dam_c + h_c --> adcobdam_c + pppi_c\n",
      "ZNabcpp: atp_c + h2o_c + zn2_p --> adp_c + h_c + pi_c + zn2_c\n",
      "FE2abcpp: atp_c + fe2_p + h2o_c --> adp_c + fe2_c + h_c + pi_c\n",
      "DTMPK: atp_c + dtmp_c <=> adp_c + dtdp_c\n",
      "NDPK7: atp_c + dcdp_c --> adp_c + dctp_c\n",
      "AACPS6: ACP_c + atp_c + ocdca_c --> amp_c + ocdcaACP_c + ppi_c\n",
      "FACOAL141: atp_c + coa_c + ttdcea_c <=> amp_c + ppi_c + tdecoa_c\n",
      "ACCOACr: accoa_c + atp_c + hco3_c --> adp_c + h_c + malcoa_c + pi_c\n",
      "NADS2: atp_c + dnad_c + gln_L_c + h2o_c --> amp_c + glu_L_c + h_c + nad_c + ppi_c\n",
      "ATPS4rpp: adp_c + 4.0 h_p + pi_c --> atp_c + h2o_c + 3.0 h_c\n",
      "GLU5K: atp_c + glu_L_c --> adp_c + glu5p_c\n",
      "PRFGS: atp_c + fgam_c + gln_L_c + h2o_c --> adp_c + fpram_c + glu_L_c + h_c + pi_c\n",
      "FPGS10: atp_c + glu_L_c + thf5glu_c --> adp_c + h_c + pi_c + thf6glu_c\n",
      "NDPK2: atp_c + udp_c --> adp_c + utp_c\n",
      "CU2abctpp: atp_c + cu2_p + h2o_c --> adp_c + cu2_c + h_c + pi_c\n",
      "COCHL: atp_c + cobalt2_c + h2o_c + hgbam_c --> adp_c + co2dam_c + 2.0 h_c + pi_c\n",
      "ACGK: acglu_c + atp_c <=> acg5p_c + adp_c\n",
      "PTPAT: atp_c + h_c + pan4p_c <=> dpcoa_c + ppi_c\n",
      "ADCPS2: adcobhex_c + applp_c + atp_c --> adocbip_c + adp_c + h_c + pi_c\n",
      "THRTRS: atp_c + thr_L_c + trnathr_c --> amp_c + ppi_c + thrtrna_c\n",
      "ASPTRNAAMT: asptrna_asn_c + atp_c + gln_L_c + h2o_c --> adp_c + asntrna_c + glu_L_c + pi_c\n",
      "ACS: ac_c + atp_c + coa_c --> accoa_c + amp_c + ppi_c\n",
      "SERTRS: atp_c + ser_L_c + trnaser_c --> amp_c + ppi_c + sertrna_c\n",
      "NDPK4: atp_c + dtdp_c --> adp_c + dttp_c\n",
      "PRPPS: atp_c + r5p_c --> amp_c + h_c + prpp_c\n",
      "GLNTRAT: atp_c + gln_L_c + glutrna_gln__c + h2o_c --> adp_c + glntrna_c + glu_L_c + 2.0 h_c + pi_c\n",
      "GTHS: atp_c + glucys_c + gly_c <=> adp_c + gthrd_c + h_c + pi_c\n",
      "UGMDDS: alaala_c + atp_c + ugmd_c --> adp_c + h_c + pi_c + ugmda_c\n",
      "TDSK: atp_c + lipidAds_c <=> adp_c + h_c + lipidA_c\n",
      "FACOAL140: atp_c + coa_c + ttdca_c <=> amp_c + ppi_c + tdcoa_c\n",
      "FACOAL60: atp_c + coa_c + hxa_c <=> amp_c + hxcoa_c + ppi_c\n",
      "ASPTRS: asp_L_c + atp_c + trnaasp_c --> amp_c + asptrna_c + ppi_c\n",
      "CDPMEK: 4c2me_c + atp_c --> 2p4c2me_c + adp_c + h_c\n",
      "HPPK2: 6hmhpt_c + atp_c <=> 6hmhptpp_c + amp_c + h_c\n",
      "FACOAL120: atp_c + coa_c + ddca_c <=> amp_c + ddcacoa_c + ppi_c\n",
      "LEUTRS: atp_c + leu_L_c + trnaleu_c --> amp_c + leutrna_c + ppi_c\n",
      "CYTK1: atp_c + cmp_c <=> adp_c + cdp_c\n",
      "FACOAL161: atp_c + coa_c + hdcea_c <=> amp_c + hdcoa_c + ppi_c\n",
      "GLNS: atp_c + glu_L_c + nh4_c --> adp_c + gln_L_c + h_c + pi_c\n",
      "NDPK3: atp_c + cdp_c --> adp_c + ctp_c\n",
      "VALTRS: atp_c + val_L_c --> amp_c + ppi_c + valtrna_c\n",
      "HGBAMS: 2.0 atp_c + 2.0 gln_L_c + 2.0 h2o_c + hgbyr_c <=> 2.0 adp_c + 2.0 glu_L_c + 3.0 h_c + hgbam_c + 2.0 pi_c\n"
     ]
    }
   ],
   "source": [
    "for reaction in bigg_OB3b.metabolites.atp_c.reactions:\n",
    "    if \"Biomass\" in reaction.id:\n",
    "        pass\n",
    "    else:\n",
    "        print(reaction)"
   ]
  },
  {
   "cell_type": "markdown",
   "metadata": {},
   "source": [
    "All reactions that can produce ATP:"
   ]
  },
  {
   "cell_type": "code",
   "execution_count": 363,
   "metadata": {
    "ExecuteTime": {
     "end_time": "2019-11-26T01:25:31.362591Z",
     "start_time": "2019-11-26T01:25:31.352442Z"
    }
   },
   "outputs": [
    {
     "data": {
      "text/plain": [
       "[<Reaction ACKr at 0x7fd7d83b4048>,\n",
       " <Reaction PMPK at 0x7fd7d85160b8>,\n",
       " <Reaction SUCOAS at 0x7fd7d86520f0>,\n",
       " <Reaction FACOAL160 at 0x7fd7d85fa0f0>,\n",
       " <Reaction ASPK at 0x7fd7d8442128>,\n",
       " <Reaction FTHFL at 0x7fd7d85741d0>,\n",
       " <Reaction ATPPRTr at 0x7fd7d83b4320>,\n",
       " <Reaction PRAGSr at 0x7fd7d820e320>,\n",
       " <Reaction SKMK at 0x7fd7d83924e0>,\n",
       " <Reaction BIOTINS at 0x7fd7d82e0518>,\n",
       " <Reaction GK1 at 0x7fd7d82206d8>,\n",
       " <Reaction PYK at 0x7fd7d85c6898>,\n",
       " <Reaction FACOAL180 at 0x7fd7d8574940>,\n",
       " <Reaction UMPK at 0x7fd7d8418a58>,\n",
       " <Reaction PRASCS at 0x7fd7d8418b70>,\n",
       " <Reaction ALAALAr at 0x7fd7d8284cf8>,\n",
       " <Reaction UAMAS at 0x7fd7d878cdd8>,\n",
       " <Reaction ADSK at 0x7fd7d869ae48>,\n",
       " <Reaction PGK at 0x7fd7d84cce48>,\n",
       " <Reaction ADCYRS at 0x7fd7d842af28>,\n",
       " <Reaction SADT at 0x7fd7d8382f60>,\n",
       " <Reaction HSK at 0x7fd7d859d1d0>,\n",
       " <Reaction ADK1 at 0x7fd7d876b2e8>,\n",
       " <Reaction CBPS at 0x7fd7d859d3c8>,\n",
       " <Reaction GLUCYS at 0x7fd7d8407470>,\n",
       " <Reaction DTMPK at 0x7fd7d8783588>,\n",
       " <Reaction ATPS4rpp at 0x7fd7d8453710>,\n",
       " <Reaction ACGK at 0x7fd7d83cba20>,\n",
       " <Reaction PTPAT at 0x7fd7d8709a58>,\n",
       " <Reaction GTHS at 0x7fd7d865bb70>,\n",
       " <Reaction TDSK at 0x7fd7d86a3ba8>,\n",
       " <Reaction HPPK2 at 0x7fd7d86e3d30>,\n",
       " <Reaction CYTK1 at 0x7fd7d87a3dd8>,\n",
       " <Reaction HGBAMS at 0x7fd7d85d7fd0>]"
      ]
     },
     "execution_count": 363,
     "metadata": {},
     "output_type": "execute_result"
    }
   ],
   "source": [
    "model=bigg_OB3b\n",
    "[rxn for rxn in model.metabolites.atp_c.reactions if (model.metabolites.atp_c in rxn.products or rxn.reversibility) and abs(rxn.flux) > 0]"
   ]
  },
  {
   "cell_type": "markdown",
   "metadata": {},
   "source": [
    "Reactions that where atp is a product, reaction is reversible and atp is produced:"
   ]
  },
  {
   "cell_type": "code",
   "execution_count": 390,
   "metadata": {
    "ExecuteTime": {
     "end_time": "2019-11-26T01:45:22.135144Z",
     "start_time": "2019-11-26T01:45:22.123126Z"
    }
   },
   "outputs": [
    {
     "data": {
      "text/plain": [
       "[<Reaction BIOTINS at 0x7fd7d82e0518>]"
      ]
     },
     "execution_count": 390,
     "metadata": {},
     "output_type": "execute_result"
    }
   ],
   "source": [
    "[rxn for rxn in model.metabolites.atp_c.reactions if (model.metabolites.atp_c in rxn.products and rxn.reversibility) and abs(rxn.flux) > 0]"
   ]
  },
  {
   "cell_type": "markdown",
   "metadata": {},
   "source": [
    "BIOTINS is a gapfilling reaction:"
   ]
  },
  {
   "cell_type": "code",
   "execution_count": 405,
   "metadata": {
    "ExecuteTime": {
     "end_time": "2019-11-26T01:54:13.736233Z",
     "start_time": "2019-11-26T01:54:13.708090Z"
    }
   },
   "outputs": [
    {
     "name": "stdout",
     "output_type": "stream",
     "text": [
      "<Solution 0.050 at 0x7fd7d8f6ec50>\n"
     ]
    }
   ],
   "source": [
    "reaction = bigg_OB3b.reactions.BIOTINS\n",
    "with bigg_OB3b as model:\n",
    "    reaction.bounds = (-1000, 1000)\n",
    "    print(model.optimize())\n",
    "reaction.bounds = (-1000, 1000)\n",
    "reaction.gene_reaction_rule = \"SP0001\""
   ]
  },
  {
   "cell_type": "markdown",
   "metadata": {},
   "source": [
    "Reactions where atp is a reactant, reaction is reversible and  atp is produced:"
   ]
  },
  {
   "cell_type": "code",
   "execution_count": 408,
   "metadata": {
    "ExecuteTime": {
     "end_time": "2019-11-26T01:55:02.062151Z",
     "start_time": "2019-11-26T01:55:02.045941Z"
    }
   },
   "outputs": [],
   "source": [
    "atp_in_reactants=[rxn for rxn in model.metabolites.atp_c.reactions if (model.metabolites.atp_c in rxn.reactants and rxn.reversibility) and abs(rxn.flux) > 0]"
   ]
  },
  {
   "cell_type": "code",
   "execution_count": 418,
   "metadata": {
    "ExecuteTime": {
     "end_time": "2019-11-26T02:05:31.578121Z",
     "start_time": "2019-11-26T02:05:31.511627Z"
    }
   },
   "outputs": [
    {
     "name": "stdout",
     "output_type": "stream",
     "text": [
      "ASPK 0.04112718403702419\n",
      "FTHFL 0.030074790479727834\n",
      "ATPPRTr 0.0033543670203390772\n",
      "PRAGSr 0.013365646989332096\n",
      "SKMK 0.010522526529696676\n",
      "GK1 0.006016042375791347\n",
      "UMPK 0.008699336006188762\n",
      "PRASCS 0.013354776470056584\n",
      "ALAALAr 4.950145389577022e-06\n",
      "UAMAS 4.950145389577022e-06\n",
      "ADSK 0.002922651970536141\n",
      "PGK 0.18253907448250312\n",
      "ADCYRS 1.087051927551114e-05\n",
      "SADT 0.002922651970536141\n",
      "HSK 0.025564511049350012\n",
      "ADK1 0.36067886654569525\n",
      "CBPS 0.020619781118829186\n",
      "GLUCYS 1.087051927551114e-05\n",
      "DTMPK 0.0007567782271585335\n",
      "ACGK 0.01417652337539405\n",
      "PTPAT 1.0870519275600022e-05\n",
      "GTHS 1.087051927551114e-05\n",
      "TDSK 4.950145389577022e-06\n",
      "HPPK2 4.0511989869381786e-06\n",
      "CYTK1 0.003392376761214487\n",
      "FACOAL161 4.448992368209088e-17\n",
      "HGBAMS 1.087051927551114e-05\n",
      "<Solution 0.050 at 0x7fd7daaa3c88>\n",
      "<Solution 0.050 at 0x7fd7daaa3828>\n"
     ]
    }
   ],
   "source": [
    "with bigg_OB3b as model:\n",
    "    for reaction in atp_in_reactants:\n",
    "        if reaction.flux > 0:\n",
    "            print(reaction.id, reaction.flux)\n",
    "            bigg_OB3b.reactions.get_by_id(reaction.id).bounds = (0, 1000)\n",
    "        else:\n",
    "            pass\n",
    "            #print(reaction.id)\n",
    "    print(model.optimize())\n",
    "    \n",
    "for reaction in atp_in_reactants:\n",
    "    if reaction.flux > 0:\n",
    "        bigg_OB3b.reactions.get_by_id(reaction.id).bounds = (0, 1000)\n",
    "print(model.optimize())"
   ]
  },
  {
   "cell_type": "code",
   "execution_count": 427,
   "metadata": {
    "ExecuteTime": {
     "end_time": "2019-11-26T02:07:32.791308Z",
     "start_time": "2019-11-26T02:07:32.782353Z"
    }
   },
   "outputs": [
    {
     "data": {
      "text/plain": [
       "[<Reaction BIOTINS at 0x7fd7d82e0518>,\n",
       " <Reaction FACOAL180 at 0x7fd7d8574940>,\n",
       " <Reaction FACOAL181 at 0x7fd7d8574cc0>,\n",
       " <Reaction ATPS4rpp at 0x7fd7d8453710>]"
      ]
     },
     "execution_count": 427,
     "metadata": {},
     "output_type": "execute_result"
    }
   ],
   "source": [
    "[rxn for rxn in model.metabolites.atp_c.reactions if (model.metabolites.atp_c in rxn.products or rxn.reversibility) and abs(rxn.flux) > 0]"
   ]
  },
  {
   "cell_type": "code",
   "execution_count": 426,
   "metadata": {
    "ExecuteTime": {
     "end_time": "2019-11-26T02:07:29.921466Z",
     "start_time": "2019-11-26T02:07:29.896847Z"
    }
   },
   "outputs": [
    {
     "name": "stdout",
     "output_type": "stream",
     "text": [
      "<Solution 0.050 at 0x7fd7d93a59e8>\n"
     ]
    }
   ],
   "source": [
    "reaction = bigg_OB3b.reactions.PYK\n",
    "with bigg_OB3b as model:\n",
    "    reaction.bounds = (0, 1000)\n",
    "    print(model.optimize())\n",
    "reaction.bounds = (0, 1000)"
   ]
  },
  {
   "cell_type": "code",
   "execution_count": 433,
   "metadata": {
    "ExecuteTime": {
     "end_time": "2019-11-26T02:09:47.521793Z",
     "start_time": "2019-11-26T02:09:47.499091Z"
    }
   },
   "outputs": [
    {
     "name": "stdout",
     "output_type": "stream",
     "text": [
      "FACOAL180: atp_c + coa_c + ocdca_c --> amp_c + ppi_c + stcoa_c\n",
      "<Solution 0.050 at 0x7fd7d93a5208>\n"
     ]
    }
   ],
   "source": [
    "reaction = bigg_OB3b.reactions.FACOAL180\n",
    "print(reaction)\n",
    "with bigg_OB3b as model:\n",
    "    reaction.bounds = (0, 1000)\n",
    "    print(model.optimize())\n",
    "reaction.bounds = (0, 1000)"
   ]
  },
  {
   "cell_type": "code",
   "execution_count": 432,
   "metadata": {
    "ExecuteTime": {
     "end_time": "2019-11-26T02:09:37.595518Z",
     "start_time": "2019-11-26T02:09:37.572736Z"
    }
   },
   "outputs": [
    {
     "name": "stdout",
     "output_type": "stream",
     "text": [
      "FACOAL181: atp_c + coa_c + ocdcea_c <=> amp_c + odecoa_c + ppi_c\n",
      "<Solution 0.050 at 0x7fd7d9f8fdd8>\n"
     ]
    }
   ],
   "source": [
    "reaction = bigg_OB3b.reactions.FACOAL181\n",
    "print(reaction)\n",
    "with bigg_OB3b as model:\n",
    "    reaction.bounds = (0, 1000)\n",
    "    print(model.optimize())\n",
    "reaction.bounds = (0, 1000)"
   ]
  },
  {
   "cell_type": "markdown",
   "metadata": {},
   "source": [
    "Finally, only BIOTINS (gapfilling reaction) and ATPS4rpp is allowed to produce ATP in the system:"
   ]
  },
  {
   "cell_type": "code",
   "execution_count": 466,
   "metadata": {
    "ExecuteTime": {
     "end_time": "2019-11-26T02:38:59.768101Z",
     "start_time": "2019-11-26T02:38:59.754686Z"
    }
   },
   "outputs": [
    {
     "data": {
      "text/plain": [
       "[<Reaction BIOTINS at 0x7fd7d82e0518>, <Reaction ATPS4rpp at 0x7fd7d8453710>]"
      ]
     },
     "execution_count": 466,
     "metadata": {},
     "output_type": "execute_result"
    }
   ],
   "source": [
    "[rxn for rxn in model.metabolites.atp_c.reactions if (model.metabolites.atp_c in rxn.products or rxn.reversibility) and abs(rxn.flux) > 0]"
   ]
  },
  {
   "cell_type": "markdown",
   "metadata": {},
   "source": [
    "Fixing ATP maintenance requirement:"
   ]
  },
  {
   "cell_type": "code",
   "execution_count": 464,
   "metadata": {
    "ExecuteTime": {
     "end_time": "2019-11-26T02:38:24.503067Z",
     "start_time": "2019-11-26T02:38:24.496921Z"
    }
   },
   "outputs": [],
   "source": [
    "bigg_OB3b.reactions.ATPM.gene_reaction_rule = \"SP0001\""
   ]
  },
  {
   "cell_type": "markdown",
   "metadata": {},
   "source": [
    "The value for growth associated maintenance was taken from:\n",
    "https://microbialcellfactories.biomedcentral.com/articles/10.1186/s12934-019-1154-5\n",
    "<br><br>In order to obtain an estimation of the non-growth associated ATP requirements (which in the absence of methane are supplied by endogenous respiration), oxygen consumption was monitored following total methane depletion (in triplicate serum bottles), leading to a value of 0.71 ± 0.2 mmolO2 g-DW−1 h−1. In this context, assuming five molecules of ATP produced per oxygen molecule, the non-growth associated ATP maintenance would be 3.5 mmol ATP g-DW−1 h−1."
   ]
  },
  {
   "cell_type": "code",
   "execution_count": 461,
   "metadata": {
    "ExecuteTime": {
     "end_time": "2019-11-26T02:25:56.346941Z",
     "start_time": "2019-11-26T02:25:56.343246Z"
    }
   },
   "outputs": [],
   "source": [
    "bigg_OB3b.reactions.ATPM.bounds = (3.5,3.5)"
   ]
  },
  {
   "cell_type": "code",
   "execution_count": 462,
   "metadata": {
    "ExecuteTime": {
     "end_time": "2019-11-26T02:27:03.189002Z",
     "start_time": "2019-11-26T02:27:03.098210Z"
    }
   },
   "outputs": [
    {
     "name": "stdout",
     "output_type": "stream",
     "text": [
      "IN FLUXES            OUT FLUXES    OBJECTIVES\n",
      "-------------------  ------------  -----------------------\n",
      "o2_e       6.4       h2o_e  7.4    Biomass_Mext...  0.0429\n",
      "ch4_e      4.08      co2_e  2.36\n",
      "nh4_e      0.419\n",
      "h_e        0.146\n",
      "pi_e       0.03\n",
      "k_e        0.00791\n",
      "so4_e      0.00271\n",
      "mg2_e      0.000354\n",
      "fe2_e      0.000344\n",
      "cl_e       0.000212\n",
      "ca2_e      0.000212\n",
      "na1_e      0.000175\n",
      "mobd_e     0.000151\n",
      "cu2_e      0.000142\n",
      "mn2_e      0.000142\n",
      "zn2_e      0.000142\n",
      "cobalt2_e  9.42e-06\n"
     ]
    }
   ],
   "source": [
    "bigg_OB3b.summary()"
   ]
  },
  {
   "cell_type": "code",
   "execution_count": 463,
   "metadata": {
    "ExecuteTime": {
     "end_time": "2019-11-26T02:37:11.780302Z",
     "start_time": "2019-11-26T02:37:11.738595Z"
    }
   },
   "outputs": [
    {
     "name": "stdout",
     "output_type": "stream",
     "text": [
      "PRODUCING REACTIONS -- ATP (atp_c)\n",
      "----------------------------------\n",
      "%       FLUX  RXN ID      REACTION\n",
      "----  ------  ----------  --------------------------------------------------\n",
      "100%   8.76   ATPS4rpp    adp_c + 4.0 h_p + pi_c --> atp_c + h2o_c + 3.0 h_c\n",
      "\n",
      "CONSUMING REACTIONS -- ATP (atp_c)\n",
      "----------------------------------\n",
      "%       FLUX  RXN ID      REACTION\n",
      "----  ------  ----------  --------------------------------------------------\n",
      "40%    3.5    ATPM        atp_c + h2o_c --> adp_c + h_c + pi_c\n",
      "26%    2.31   Biomass...  0.034671 14bglu_c + 0.033189 acgam_c + 0.000219...\n",
      "10%    0.877  GLYCK2      atp_c + glyc_R_c --> 2pg_c + adp_c + h_c\n",
      "7%     0.624  MALCOAS     atp_c + coa_c + mal_L_c --> adp_c + malScoa_c +...\n",
      "4%     0.313  ADK1        amp_c + atp_c --> 2.0 adp_c\n",
      "3%     0.253  PPCOAC      atp_c + hco3_c + ppcoa_c --> adp_c + h_c + mmco...\n",
      "2%     0.158  PGK         3pg_c + atp_c --> 13dpg_c + adp_c\n"
     ]
    }
   ],
   "source": [
    "bigg_OB3b.metabolites.atp_c.summary()"
   ]
  },
  {
   "cell_type": "markdown",
   "metadata": {},
   "source": [
    "Check ATP-producing reactions again setting objective as ATP exchange reaction:"
   ]
  },
  {
   "cell_type": "code",
   "execution_count": 468,
   "metadata": {
    "ExecuteTime": {
     "end_time": "2019-11-26T02:43:00.899454Z",
     "start_time": "2019-11-26T02:42:22.268480Z"
    }
   },
   "outputs": [],
   "source": [
    "model_universal = cobra.io.load_json_model(models_directory + \"universal_model.json\")"
   ]
  },
  {
   "cell_type": "code",
   "execution_count": 473,
   "metadata": {
    "ExecuteTime": {
     "end_time": "2019-11-26T02:45:05.766672Z",
     "start_time": "2019-11-26T02:45:05.635949Z"
    }
   },
   "outputs": [],
   "source": [
    "model_universal.reactions.EX_atp_e.reaction = 'atp_c --> '\n",
    "model_universal.reactions.EX_atp_e.id = 'EX_atp_c'"
   ]
  },
  {
   "cell_type": "markdown",
   "metadata": {},
   "source": [
    "\"The proof for this is that when we optimize the production of ATP and at the same time have an insanely high turnover of ATP when the model is carbon limited, the solution will be infeasible.\" --> Taken from 8. Corrections to Validation Methylococcus capsulatus complimentary scritps"
   ]
  },
  {
   "cell_type": "code",
   "execution_count": 490,
   "metadata": {
    "ExecuteTime": {
     "end_time": "2019-11-26T02:52:00.222590Z",
     "start_time": "2019-11-26T02:52:00.034684Z"
    }
   },
   "outputs": [
    {
     "name": "stdout",
     "output_type": "stream",
     "text": [
      "SUCOAS 96.49999999999999\n",
      "ATPM 3.5\n",
      "ATPS4rpp 100.0\n"
     ]
    },
    {
     "name": "stderr",
     "output_type": "stream",
     "text": [
      "cobra/util/solver.py:416 \u001b[1;31mUserWarning\u001b[0m: solver status is 'infeasible'\n"
     ]
    }
   ],
   "source": [
    "with bigg_OB3b as model:\n",
    "    model.add_reaction(model_universal.reactions.EX_atp_c)\n",
    "    model.objective = \"EX_atp_c\"\n",
    "    model.reactions.ATPS4rpp.bounds = (100, 100)\n",
    "    model.optimize()\n",
    "    for rxn in model.metabolites.atp_c.reactions:\n",
    "        if rxn.flux > 1:\n",
    "            print (rxn.id,rxn.flux)"
   ]
  },
  {
   "cell_type": "markdown",
   "metadata": {},
   "source": [
    "Let's fix this:\n",
    "<br>Reaction directionality was modified in order to avoid unfeasible ATP production, so that the model only simulates ATP production in the respiratory chain and in the lower glycolysis.\n",
    "- Respiratory chain --> ATPase\n",
    "- Lower glycolysis:\n",
    "2 reactions that produce ATP in lower part of glycolysis:\n",
    "1) phosphoglycerokinase\n",
    "2) pyruvate kinase\n",
    "\n",
    "--> https://laboratoryinfo.com/wp-content/uploads/2016/02/glycolysis.png"
   ]
  },
  {
   "cell_type": "code",
   "execution_count": 492,
   "metadata": {
    "ExecuteTime": {
     "end_time": "2019-11-26T04:14:44.265957Z",
     "start_time": "2019-11-26T04:14:44.255901Z"
    }
   },
   "outputs": [
    {
     "name": "stdout",
     "output_type": "stream",
     "text": [
      "PGK phosphoglycerate_kinase 3pg_c + atp_c --> 13dpg_c + adp_c CQW49_RS11910\n",
      "PGM phosphoglyceromutase 2pg_c <=> 3pg_c CQW49_RS04790 or CQW49_RS21290\n",
      "PGCDr D_3_phosphoglycerate_dehydrogenase 3pg_c + nad_c <=> 3php_c + h_c + nadh_c CQW49_RS10875\n",
      "PGLYCP phosphoglycolate_phosphatase 2pglyc_c + h2o_c --> glyclt_c + pi_c CQW49_RS14255\n",
      "DPGM bisphosphoglycerate_mutase 13dpg_c <=> 23dpg_c + h_c CQW49_RS04790 or CQW49_RS21290\n"
     ]
    }
   ],
   "source": [
    "reaction_id_search(bigg_OB3b, \"phosphogly\")"
   ]
  },
  {
   "cell_type": "code",
   "execution_count": 494,
   "metadata": {
    "ExecuteTime": {
     "end_time": "2019-11-26T04:16:07.134893Z",
     "start_time": "2019-11-26T04:16:07.119290Z"
    }
   },
   "outputs": [],
   "source": [
    "bigg_OB3b.reactions.PGK.bounds = (-1000, 1000)"
   ]
  },
  {
   "cell_type": "code",
   "execution_count": 498,
   "metadata": {
    "ExecuteTime": {
     "end_time": "2019-11-26T04:17:25.863204Z",
     "start_time": "2019-11-26T04:17:25.853702Z"
    }
   },
   "outputs": [
    {
     "name": "stdout",
     "output_type": "stream",
     "text": [
      "EX_pyr_e exchange_flux___pyruvate pyr_e -->  \n",
      "PYRtex pyruvate_transport_via_diffusion__extracellular_to_periplasm_ pyr_e <=> pyr_p \n",
      "PPDK pyruvate_phosphate_dikinase atp_c + pi_c + pyr_c --> amp_c + h_c + pep_c + ppi_c CQW49_RS04525\n",
      "PYK pyruvate_kinase atp_c + pyr_c --> adp_c + h_c + pep_c CQW49_RS01150\n",
      "MCPST 3_mercaptopyruvate_sulfurtransferase cyan_c + mercppyr_c --> h_c + pyr_c + tcynt_c CQW49_RS20755\n",
      "PPC phosphoenolpyruvate_carboxylase co2_c + h2o_c + pep_c --> h_c + oaa_c + pi_c CQW49_RS12265\n",
      "PYRt2rpp pyruvate_symport__periplasm_to_cytoplasm_ h_p + pyr_p --> h_c + pyr_c \n",
      "PDH pyruvate_dehydrogenase coa_c + nad_c + pyr_c --> accoa_c + co2_c + nadh_c CQW49_RS01945 and CQW49_RS01950 and CQW49_RS01955 and CQW49_RS06870\n",
      "GLYD hydroxypyruvate_reductase h_c + hpyr_c + nadh_c <=> glyc_R_c + nad_c CQW49_RS12240\n"
     ]
    }
   ],
   "source": [
    "reaction_id_search(bigg_OB3b, \"pyruvate\")"
   ]
  },
  {
   "cell_type": "code",
   "execution_count": 500,
   "metadata": {
    "ExecuteTime": {
     "end_time": "2019-11-26T04:17:57.879365Z",
     "start_time": "2019-11-26T04:17:57.848195Z"
    }
   },
   "outputs": [
    {
     "name": "stdout",
     "output_type": "stream",
     "text": [
      "PYK: atp_c + pyr_c --> adp_c + h_c + pep_c\n",
      "<Solution 0.043 at 0x7fd7d62a0d68>\n"
     ]
    }
   ],
   "source": [
    "reaction = bigg_OB3b.reactions.PYK\n",
    "print(reaction)\n",
    "with bigg_OB3b as model:\n",
    "    reaction.bounds = (-1000, 1000)\n",
    "    print(model.optimize())\n",
    "reaction.bounds = (-1000, 1000)"
   ]
  },
  {
   "cell_type": "markdown",
   "metadata": {},
   "source": [
    "See how ATP distribution and growth rate changes (growth rate up from 0.0429 to 0.0433):"
   ]
  },
  {
   "cell_type": "code",
   "execution_count": 504,
   "metadata": {
    "ExecuteTime": {
     "end_time": "2019-11-26T04:20:12.191778Z",
     "start_time": "2019-11-26T04:20:12.137342Z"
    }
   },
   "outputs": [
    {
     "name": "stdout",
     "output_type": "stream",
     "text": [
      "PRODUCING REACTIONS -- ATP (atp_c)\n",
      "----------------------------------\n",
      "%      FLUX  RXN ID      REACTION\n",
      "---  ------  ----------  --------------------------------------------------\n",
      "98%   8.68   ATPS4rpp    adp_c + 4.0 h_p + pi_c --> atp_c + h2o_c + 3.0 h_c\n",
      "2%    0.139  PYK         atp_c + pyr_c <=> adp_c + h_c + pep_c\n",
      "\n",
      "CONSUMING REACTIONS -- ATP (atp_c)\n",
      "----------------------------------\n",
      "%      FLUX  RXN ID      REACTION\n",
      "---  ------  ----------  --------------------------------------------------\n",
      "40%   3.5    ATPM        atp_c + h2o_c --> adp_c + h_c + pi_c\n",
      "26%   2.33   Biomass...  0.034671 14bglu_c + 0.033189 acgam_c + 0.000219...\n",
      "10%   0.887  GLYCK2      atp_c + glyc_R_c --> 2pg_c + adp_c + h_c\n",
      "7%    0.631  MALCOAS     atp_c + coa_c + mal_L_c --> adp_c + malScoa_c +...\n",
      "4%    0.316  ADK1        amp_c + atp_c --> 2.0 adp_c\n",
      "3%    0.256  PPCOAC      atp_c + hco3_c + ppcoa_c --> adp_c + h_c + mmco...\n",
      "2%    0.16   PGK         3pg_c + atp_c <=> 13dpg_c + adp_c\n"
     ]
    }
   ],
   "source": [
    "bigg_OB3b.metabolites.atp_c.summary()"
   ]
  },
  {
   "cell_type": "code",
   "execution_count": 503,
   "metadata": {
    "ExecuteTime": {
     "end_time": "2019-11-26T04:18:25.281879Z",
     "start_time": "2019-11-26T04:18:25.206521Z"
    }
   },
   "outputs": [
    {
     "name": "stdout",
     "output_type": "stream",
     "text": [
      "IN FLUXES            OUT FLUXES    OBJECTIVES\n",
      "-------------------  ------------  -----------------------\n",
      "o2_e       6.38      h2o_e  7.39   Biomass_Mext...  0.0433\n",
      "ch4_e      4.08      co2_e  2.34\n",
      "nh4_e      0.424\n",
      "h_e        0.147\n",
      "pi_e       0.0303\n",
      "k_e        0.008\n",
      "so4_e      0.00274\n",
      "mg2_e      0.000358\n",
      "fe2_e      0.000348\n",
      "ca2_e      0.000215\n",
      "cl_e       0.000215\n",
      "na1_e      0.000176\n",
      "mobd_e     0.000153\n",
      "cu2_e      0.000143\n",
      "mn2_e      0.000143\n",
      "zn2_e      0.000143\n",
      "cobalt2_e  9.52e-06\n"
     ]
    }
   ],
   "source": [
    "bigg_OB3b.summary()"
   ]
  },
  {
   "cell_type": "code",
   "execution_count": 511,
   "metadata": {
    "ExecuteTime": {
     "end_time": "2019-11-26T04:27:37.368117Z",
     "start_time": "2019-11-26T04:27:37.360655Z"
    }
   },
   "outputs": [
    {
     "data": {
      "text/plain": [
       "[<Reaction BIOTINS at 0x7fd7d82e0518>,\n",
       " <Reaction PYK at 0x7fd7d85c6898>,\n",
       " <Reaction PGK at 0x7fd7d84cce48>,\n",
       " <Reaction ATPS4rpp at 0x7fd7d8453710>]"
      ]
     },
     "execution_count": 511,
     "metadata": {},
     "output_type": "execute_result"
    }
   ],
   "source": [
    "[rxn for rxn in bigg_OB3b.metabolites.atp_c.reactions if (bigg_OB3b.metabolites.atp_c in rxn.products or rxn.reversibility) and abs(rxn.flux) > 0]"
   ]
  },
  {
   "cell_type": "markdown",
   "metadata": {},
   "source": [
    "Save ATP-consistent GEM:"
   ]
  },
  {
   "cell_type": "code",
   "execution_count": 510,
   "metadata": {
    "ExecuteTime": {
     "end_time": "2019-11-26T04:23:43.508514Z",
     "start_time": "2019-11-26T04:23:43.320334Z"
    }
   },
   "outputs": [],
   "source": [
    "cobra.io.save_json_model(bigg_OB3b, memote_directory + draft_gems_dir_8 + \"bigg_OB3b_26_11_2019.json\")"
   ]
  },
  {
   "cell_type": "markdown",
   "metadata": {},
   "source": [
    "#### H+ proton leakage outside the GEM\n",
    "Let's fix this: H+ --> Directionality of the reactions involving proton transport was also modified in order to guarantee that no proton flux towards the exterior of the cell is allowed if it is not mediated by the components of the respiratory chain or associated to some energy cost. This was done in order to avoid proton flux against its concentration gradient. "
   ]
  },
  {
   "cell_type": "code",
   "execution_count": null,
   "metadata": {},
   "outputs": [],
   "source": []
  },
  {
   "cell_type": "code",
   "execution_count": null,
   "metadata": {},
   "outputs": [],
   "source": []
  },
  {
   "cell_type": "code",
   "execution_count": null,
   "metadata": {},
   "outputs": [],
   "source": []
  },
  {
   "cell_type": "code",
   "execution_count": 514,
   "metadata": {
    "ExecuteTime": {
     "end_time": "2019-11-26T04:28:04.376603Z",
     "start_time": "2019-11-26T04:28:04.341687Z"
    }
   },
   "outputs": [
    {
     "name": "stdout",
     "output_type": "stream",
     "text": [
      "PRODUCING REACTIONS -- H_ (h_p)\n",
      "-------------------------------\n",
      "%      FLUX  RXN ID    REACTION\n",
      "---  ------  --------  --------------------------------------------------\n",
      "47%  16.3    NADH11    5.0 h_c + nadh_c + q_c --> 4.0 h_p + nad_c + qh2_c\n",
      "23%   8.16   CYO_2p    2.0 focytc_c + 4.0 h_c + 0.5 o2_c --> 2.0 ficyt...\n",
      "23%   8.16   MEOHDH    2.0 ficytc_c + meoh_p --> fald_p + 2.0 focytc_c...\n",
      "6%    2.03   CYOO_4p   4.0 h_c + 0.5 o2_c + qh2_c --> h2o_c + 4.0 h_p ...\n",
      "1%    0.374  PPAppt    h2o_c + ppi_c --> h_p + 2.0 pi_c\n",
      "\n",
      "CONSUMING REACTIONS -- H_ (h_p)\n",
      "-------------------------------\n",
      "%      FLUX  RXN ID    REACTION\n",
      "---  ------  --------  --------------------------------------------------\n",
      "99%  34.7    ATPS4rpp  adp_c + 4.0 h_p + pi_c --> atp_c + h2o_c + 3.0 h_c\n",
      "1%    0.424  NH4tpp    h_p + nh4_p <=> h_c + nh4_c\n"
     ]
    }
   ],
   "source": [
    "bigg_OB3b.metabolites.h_p.summary()"
   ]
  },
  {
   "cell_type": "code",
   "execution_count": 520,
   "metadata": {
    "ExecuteTime": {
     "end_time": "2019-11-26T04:34:57.892277Z",
     "start_time": "2019-11-26T04:34:57.884407Z"
    }
   },
   "outputs": [
    {
     "data": {
      "text/plain": [
       "[<Reaction Htex at 0x7fd7d8442470>,\n",
       " <Reaction PIt2rpp at 0x7fd7d84ed1d0>,\n",
       " <Reaction FE2t2pp at 0x7fd7d8346630>,\n",
       " <Reaction NH4tpp at 0x7fd7d842a278>,\n",
       " <Reaction ATPS4rpp at 0x7fd7d8453710>,\n",
       " <Reaction MNt2pp at 0x7fd7d8357f28>]"
      ]
     },
     "execution_count": 520,
     "metadata": {},
     "output_type": "execute_result"
    }
   ],
   "source": [
    "[rxn for rxn in model.metabolites.h_p.reactions if (model.metabolites.h_p in rxn.reactants or rxn.reversibility) and abs(rxn.flux) > 0]"
   ]
  },
  {
   "cell_type": "code",
   "execution_count": 522,
   "metadata": {
    "ExecuteTime": {
     "end_time": "2019-11-26T04:35:39.538382Z",
     "start_time": "2019-11-26T04:35:39.533495Z"
    }
   },
   "outputs": [
    {
     "data": {
      "text/plain": [
       "frozenset({<Reaction EX_h_e at 0x7fd7d86cab38>,\n",
       "           <Reaction Htex at 0x7fd7d8442470>})"
      ]
     },
     "execution_count": 522,
     "metadata": {},
     "output_type": "execute_result"
    }
   ],
   "source": [
    "model.metabolites.h_e.reactions"
   ]
  },
  {
   "cell_type": "code",
   "execution_count": 523,
   "metadata": {
    "ExecuteTime": {
     "end_time": "2019-11-26T04:37:33.182667Z",
     "start_time": "2019-11-26T04:37:33.170275Z"
    }
   },
   "outputs": [
    {
     "name": "stdout",
     "output_type": "stream",
     "text": [
      "PPAt7 propanoate_symport__periplasm_to_cytoplasm_ h_p + ppa_p --> h_c + ppa_c\n",
      "Kt3pp potassium_proton_antiporter h_p + k_c --> h_c + k_p\n",
      "Htex H__transport_via_diffusion__extracellular_to_periplasm_ h_e <=> h_p\n",
      "PMMODCipp particulate Methane Monooxygenase - Direct Coupling ch4_p + 2.0 focytc_c + 2.0 h_p + o2_p --> 2.0 ficytc_c + h2o_p + meoh_p\n",
      "L_LACt2rpp _S__lactate_transport__periplasm_to_cytoplasm_ h_p + lac_L_p --> h_c + lac_L_c\n",
      "PPDODH 1_2_propanediol_dehydrogenase 12ppd_S_p + 4.0 ficytc_c --> 4.0 focytc_c + 2.0 h_p + lald_L_p\n",
      "UQCYOR_2p ubiquinol_cytochrome_c_reductase 2.0 ficytc_c + qh2_c --> 2.0 focytc_c + 2.0 h_p + q_c\n",
      "ACACt2pp acetoacetate_symport__periplasm_to_cytoplasm_ acac_p + h_p --> acac_c + h_c\n",
      "PYRt2rpp pyruvate_symport__periplasm_to_cytoplasm_ h_p + pyr_p --> h_c + pyr_c\n",
      "CYO_2p cytochrome_c_oxidase 2.0 focytc_c + 4.0 h_c + 0.5 o2_c --> 2.0 ficytc_c + h2o_c + 2.0 h_p\n",
      "ETOHDH quinoprotein_ethanol_dehydrogenase etoh_p + 2.0 ficytc_c <=> acald_p + 2.0 focytc_c + 2.0 h_p\n",
      "PIt2rpp PiT_phosphate_transporter h_p + pi_p --> h_c + pi_c\n",
      "TARTR_Ltpp L_tartrate_transporter h_p + tartr_L_p --> h_c + tartr_L_c\n",
      "THD2pp NAD_P__transhydrogenase h_p + nadh_c + nadp_c --> h_c + nad_c + nadph_c\n",
      "5DGLCNt2rpp 5_dehydro_D_gluconate_transporter__inferred_from_physiology_ 5dglcn_p + h_p --> 5dglcn_c + h_c\n",
      "CYOO_4p cytochrome_o_ubiquinol_oxidase 4.0 h_c + 0.5 o2_c + qh2_c --> h2o_c + 4.0 h_p + q_c\n",
      "FE2t2pp iron_proton_symport fe2_p + h_p --> fe2_c + h_c\n",
      "MEOHDH methanol_dehydrogenase 2.0 ficytc_c + meoh_p --> fald_p + 2.0 focytc_c + 2.0 h_p\n",
      "NADH11 NADH_ubiquinone_oxidoreductase_I 5.0 h_c + nadh_c + q_c --> 4.0 h_p + nad_c + qh2_c\n",
      "NH4tpp NH3_transport__periplasm_to_cytoplasm_ h_p + nh4_p <=> h_c + nh4_c\n",
      "FALDHp formaldehyde_dehydrogenase fald_p + 2.0 ficytc_c + h2o_p --> 2.0 focytc_c + for_p + 3.0 h_p\n",
      "AKGt2rpp a_ketoglutarate_MFS_transporter akg_p + h_p --> akg_c + h_c\n",
      "ATPS4rpp ATP_synthase adp_c + 4.0 h_p + pi_c --> atp_c + h2o_c + 3.0 h_c\n",
      "CYOD cytochrome_d_terminal_oxidase 4.0 h_c + o2_c + 2.0 qh2_c --> 2.0 h2o_c + 4.0 h_p + 2.0 q_c\n",
      "MNt2pp manganese_proton_symport h_p + mn2_p --> h_c + mn2_c\n",
      "PPAppt H____translocating_pyrophosphatases h2o_c + ppi_c --> h_p + 2.0 pi_c\n"
     ]
    }
   ],
   "source": [
    "for reaction in bigg_OB3b.metabolites.h_p.reactions:\n",
    "    print(reaction.id, reaction.name, reaction.reaction)"
   ]
  },
  {
   "cell_type": "markdown",
   "metadata": {},
   "source": [
    "Inspect whether the following reactions pump H+ out of the system against concentration gradient:"
   ]
  },
  {
   "cell_type": "markdown",
   "metadata": {},
   "source": [
    "PPDODH PPDODH: 12ppd_S_p + 4.0 ficytc_c --> 4.0 focytc_c + 2.0 h_p + lald_L_p --> mediated by cytochrome C\n",
    "ETOHDH ETOHDH: etoh_p + 2.0 ficytc_c <=> acald_p + 2.0 focytc_c + 2.0 h_p --> mediated by cytochrome C\n",
    "MEOHDH MEOHDH: 2.0 ficytc_c + meoh_p --> fald_p + 2.0 focytc_c + 2.0 h_p --> mediated by cytochrome C\n",
    "NADH11 NADH11: 5.0 h_c + nadh_c + q_c --> 4.0 h_p + nad_c + qh2_c --> energy cost, part of electron-transport chain \n",
    "NH4tpp NH4tpp: h_p + nh4_p <=> h_c + nh4_c --> type of transporter\n",
    "FALDHp FALDHp: fald_p + 2.0 ficytc_c + h2o_p --> 2.0 focytc_c + for_p + 3.0 h_p --> mediated by cytochrome C\n",
    "PPAppt PPAppt: h2o_c + ppi_c --> h_p + 2.0 pi_c --> energy cost"
   ]
  },
  {
   "cell_type": "code",
   "execution_count": 525,
   "metadata": {
    "ExecuteTime": {
     "end_time": "2019-11-26T04:38:48.948629Z",
     "start_time": "2019-11-26T04:38:48.944382Z"
    }
   },
   "outputs": [],
   "source": [
    "h_dubious_reactions = ['PPDODH', 'ETOHDH', 'MEOHDH', 'NADH11', 'NH4tpp', 'FALDHp', 'PPAppt']"
   ]
  },
  {
   "cell_type": "code",
   "execution_count": 527,
   "metadata": {
    "ExecuteTime": {
     "end_time": "2019-11-26T04:39:25.813789Z",
     "start_time": "2019-11-26T04:39:25.805636Z"
    }
   },
   "outputs": [
    {
     "name": "stdout",
     "output_type": "stream",
     "text": [
      "1_2_propanediol_dehydrogenase PPDODH: 12ppd_S_p + 4.0 ficytc_c --> 4.0 focytc_c + 2.0 h_p + lald_L_p\n",
      "quinoprotein_ethanol_dehydrogenase ETOHDH: etoh_p + 2.0 ficytc_c <=> acald_p + 2.0 focytc_c + 2.0 h_p\n",
      "methanol_dehydrogenase MEOHDH: 2.0 ficytc_c + meoh_p --> fald_p + 2.0 focytc_c + 2.0 h_p\n",
      "NADH_ubiquinone_oxidoreductase_I NADH11: 5.0 h_c + nadh_c + q_c --> 4.0 h_p + nad_c + qh2_c\n",
      "NH3_transport__periplasm_to_cytoplasm_ NH4tpp: h_p + nh4_p <=> h_c + nh4_c\n",
      "formaldehyde_dehydrogenase FALDHp: fald_p + 2.0 ficytc_c + h2o_p --> 2.0 focytc_c + for_p + 3.0 h_p\n",
      "H____translocating_pyrophosphatases PPAppt: h2o_c + ppi_c --> h_p + 2.0 pi_c\n"
     ]
    }
   ],
   "source": [
    "for reaction in h_dubious_reactions:\n",
    "    print(model.reactions.get_by_id(reaction).name, model.reactions.get_by_id(reaction))"
   ]
  },
  {
   "cell_type": "code",
   "execution_count": 528,
   "metadata": {
    "ExecuteTime": {
     "end_time": "2019-11-26T04:40:39.145525Z",
     "start_time": "2019-11-26T04:40:39.135699Z"
    }
   },
   "outputs": [
    {
     "data": {
      "text/html": [
       "\n",
       "        <table>\n",
       "            <tr>\n",
       "                <td><strong>Reaction identifier</strong></td><td>PPDODH</td>\n",
       "            </tr><tr>\n",
       "                <td><strong>Name</strong></td><td>1_2_propanediol_dehydrogenase</td>\n",
       "            </tr><tr>\n",
       "                <td><strong>Memory address</strong></td>\n",
       "                <td>0x07fd7d85624a8</td>\n",
       "            </tr><tr>\n",
       "                <td><strong>Stoichiometry</strong></td>\n",
       "                <td>\n",
       "                    <p style='text-align:right'>12ppd_S_p + 4.0 ficytc_c --> 4.0 focytc_c + 2.0 h_p + lald_L_p</p>\n",
       "                    <p style='text-align:right'>1_2_propanediol + 4.0 oxidized_cytochrome_c --> 4.0 reduced_cytochrome_c + 2.0 H_ + S__lactaldehyde</p>\n",
       "                </td>\n",
       "            </tr><tr>\n",
       "                <td><strong>GPR</strong></td><td>CQW49_RS14460 and CQW49_RS14475</td>\n",
       "            </tr><tr>\n",
       "                <td><strong>Lower bound</strong></td><td>0.0</td>\n",
       "            </tr><tr>\n",
       "                <td><strong>Upper bound</strong></td><td>1000.0</td>\n",
       "            </tr>\n",
       "        </table>\n",
       "        "
      ],
      "text/plain": [
       "<Reaction PPDODH at 0x7fd7d85624a8>"
      ]
     },
     "execution_count": 528,
     "metadata": {},
     "output_type": "execute_result"
    }
   ],
   "source": [
    "model.reactions.PPDODH"
   ]
  },
  {
   "cell_type": "code",
   "execution_count": 545,
   "metadata": {
    "ExecuteTime": {
     "end_time": "2019-11-26T04:48:33.202720Z",
     "start_time": "2019-11-26T04:48:33.197401Z"
    }
   },
   "outputs": [
    {
     "name": "stdout",
     "output_type": "stream",
     "text": [
      "NH4tpp: h_p + nh4_p --> h_c + nh4_c\n"
     ]
    }
   ],
   "source": [
    "print(model.reactions.NH4tpp)\n",
    "model.reactions.NH4tpp.bounds = (0, 1000)"
   ]
  },
  {
   "cell_type": "code",
   "execution_count": 530,
   "metadata": {
    "ExecuteTime": {
     "end_time": "2019-11-26T04:42:22.215496Z",
     "start_time": "2019-11-26T04:42:22.211155Z"
    }
   },
   "outputs": [
    {
     "data": {
      "text/html": [
       "\n",
       "        <table>\n",
       "            <tr>\n",
       "                <td><strong>Reaction identifier</strong></td><td>NH4tpp</td>\n",
       "            </tr><tr>\n",
       "                <td><strong>Name</strong></td><td>Diffusion NH3 between Periplasm and Cytosol</td>\n",
       "            </tr><tr>\n",
       "                <td><strong>Memory address</strong></td>\n",
       "                <td>0x07fd7df210128</td>\n",
       "            </tr><tr>\n",
       "                <td><strong>Stoichiometry</strong></td>\n",
       "                <td>\n",
       "                    <p style='text-align:right'>nh4_p <=> nh4_c</p>\n",
       "                    <p style='text-align:right'>Ammonium <=> Ammonium</p>\n",
       "                </td>\n",
       "            </tr><tr>\n",
       "                <td><strong>GPR</strong></td><td>( MCA0268 and MCA0490 and MCA2136 ) or MCA1581</td>\n",
       "            </tr><tr>\n",
       "                <td><strong>Lower bound</strong></td><td>-1000.0</td>\n",
       "            </tr><tr>\n",
       "                <td><strong>Upper bound</strong></td><td>1000.0</td>\n",
       "            </tr>\n",
       "        </table>\n",
       "        "
      ],
      "text/plain": [
       "<Reaction NH4tpp at 0x7fd7df210128>"
      ]
     },
     "execution_count": 530,
     "metadata": {},
     "output_type": "execute_result"
    }
   ],
   "source": [
    "model_Bath.reactions.NH4tpp"
   ]
  },
  {
   "cell_type": "code",
   "execution_count": 531,
   "metadata": {
    "ExecuteTime": {
     "end_time": "2019-11-26T04:43:03.919503Z",
     "start_time": "2019-11-26T04:43:03.915437Z"
    }
   },
   "outputs": [
    {
     "data": {
      "text/html": [
       "\n",
       "        <table>\n",
       "            <tr>\n",
       "                <td><strong>Reaction identifier</strong></td><td>FALDHp</td>\n",
       "            </tr><tr>\n",
       "                <td><strong>Name</strong></td><td>formaldehyde_dehydrogenase</td>\n",
       "            </tr><tr>\n",
       "                <td><strong>Memory address</strong></td>\n",
       "                <td>0x07fd7d8574e80</td>\n",
       "            </tr><tr>\n",
       "                <td><strong>Stoichiometry</strong></td>\n",
       "                <td>\n",
       "                    <p style='text-align:right'>fald_p + 2.0 ficytc_c + h2o_p --> 2.0 focytc_c + for_p + 3.0 h_p</p>\n",
       "                    <p style='text-align:right'>formaldehyde + 2.0 oxidized_cytochrome_c + H2O --> 2.0 reduced_cytochrome_c + formate + 3.0 H_</p>\n",
       "                </td>\n",
       "            </tr><tr>\n",
       "                <td><strong>GPR</strong></td><td>CQW49_RS14430</td>\n",
       "            </tr><tr>\n",
       "                <td><strong>Lower bound</strong></td><td>0</td>\n",
       "            </tr><tr>\n",
       "                <td><strong>Upper bound</strong></td><td>0</td>\n",
       "            </tr>\n",
       "        </table>\n",
       "        "
      ],
      "text/plain": [
       "<Reaction FALDHp at 0x7fd7d8574e80>"
      ]
     },
     "execution_count": 531,
     "metadata": {},
     "output_type": "execute_result"
    }
   ],
   "source": [
    "model.reactions.FALDHp"
   ]
  },
  {
   "cell_type": "markdown",
   "metadata": {},
   "source": [
    "Double checking H+ proton leakage outside of GEM:"
   ]
  },
  {
   "cell_type": "code",
   "execution_count": 538,
   "metadata": {
    "ExecuteTime": {
     "end_time": "2019-11-26T04:46:28.266573Z",
     "start_time": "2019-11-26T04:46:28.257664Z"
    }
   },
   "outputs": [
    {
     "data": {
      "text/plain": [
       "[]"
      ]
     },
     "execution_count": 538,
     "metadata": {},
     "output_type": "execute_result"
    }
   ],
   "source": [
    "[rxn for rxn in model.metabolites.h_p.reactions if (model.metabolites.h_p in rxn.reactants and rxn.reversibility) and abs(rxn.flux) > 0]"
   ]
  },
  {
   "cell_type": "code",
   "execution_count": 539,
   "metadata": {
    "ExecuteTime": {
     "end_time": "2019-11-26T04:46:40.465409Z",
     "start_time": "2019-11-26T04:46:40.459523Z"
    }
   },
   "outputs": [
    {
     "data": {
      "text/plain": [
       "[<Reaction Htex at 0x7fd7d8442470>]"
      ]
     },
     "execution_count": 539,
     "metadata": {},
     "output_type": "execute_result"
    }
   ],
   "source": [
    "[rxn for rxn in model.metabolites.h_p.reactions if (model.metabolites.h_p in rxn.products and rxn.reversibility) and abs(rxn.flux) > 0]"
   ]
  },
  {
   "cell_type": "code",
   "execution_count": 547,
   "metadata": {
    "ExecuteTime": {
     "end_time": "2019-11-26T04:49:27.154905Z",
     "start_time": "2019-11-26T04:49:27.148872Z"
    }
   },
   "outputs": [
    {
     "name": "stdout",
     "output_type": "stream",
     "text": [
      "Htex: h_e --> h_p\n",
      "Htex: h_e --> h_p\n"
     ]
    }
   ],
   "source": [
    "print(model.reactions.Htex)\n",
    "model.reactions.Htex.bounds = (0, 1000)\n",
    "print(model.reactions.Htex)"
   ]
  },
  {
   "cell_type": "code",
   "execution_count": 550,
   "metadata": {
    "ExecuteTime": {
     "end_time": "2019-11-26T04:50:48.620996Z",
     "start_time": "2019-11-26T04:50:48.615559Z"
    }
   },
   "outputs": [],
   "source": [
    "h_p_reactants_irr = [rxn for rxn in model.metabolites.h_p.reactions if (model.metabolites.h_p in rxn.reactants) and abs(rxn.flux) > 0]"
   ]
  },
  {
   "cell_type": "code",
   "execution_count": 551,
   "metadata": {
    "ExecuteTime": {
     "end_time": "2019-11-26T04:51:06.553261Z",
     "start_time": "2019-11-26T04:51:06.548370Z"
    }
   },
   "outputs": [
    {
     "name": "stdout",
     "output_type": "stream",
     "text": [
      "PiT_phosphate_transporter PIt2rpp: h_p + pi_p --> h_c + pi_c\n",
      "iron_proton_symport FE2t2pp: fe2_p + h_p --> fe2_c + h_c\n",
      "NH3_transport__periplasm_to_cytoplasm_ NH4tpp: h_p + nh4_p --> h_c + nh4_c\n",
      "ATP_synthase ATPS4rpp: adp_c + 4.0 h_p + pi_c --> atp_c + h2o_c + 3.0 h_c\n",
      "manganese_proton_symport MNt2pp: h_p + mn2_p --> h_c + mn2_c\n"
     ]
    }
   ],
   "source": [
    "for reaction in h_p_reactants_irr:\n",
    "    print(reaction.name,  reaction)"
   ]
  },
  {
   "cell_type": "code",
   "execution_count": 552,
   "metadata": {
    "ExecuteTime": {
     "end_time": "2019-11-26T04:51:48.138673Z",
     "start_time": "2019-11-26T04:51:48.131237Z"
    }
   },
   "outputs": [
    {
     "name": "stdout",
     "output_type": "stream",
     "text": [
      "H__transport_via_diffusion__extracellular_to_periplasm_ Htex: h_e --> h_p\n",
      "cytochrome_c_oxidase CYO_2p: 2.0 focytc_c + 4.0 h_c + 0.5 o2_c --> 2.0 ficytc_c + h2o_c + 2.0 h_p\n",
      "cytochrome_o_ubiquinol_oxidase CYOO_4p: 4.0 h_c + 0.5 o2_c + qh2_c --> h2o_c + 4.0 h_p + q_c\n",
      "methanol_dehydrogenase MEOHDH: 2.0 ficytc_c + meoh_p --> fald_p + 2.0 focytc_c + 2.0 h_p\n",
      "NADH_ubiquinone_oxidoreductase_I NADH11: 5.0 h_c + nadh_c + q_c --> 4.0 h_p + nad_c + qh2_c\n",
      "H____translocating_pyrophosphatases PPAppt: h2o_c + ppi_c --> h_p + 2.0 pi_c\n"
     ]
    }
   ],
   "source": [
    "h_p_products_irr = [rxn for rxn in model.metabolites.h_p.reactions if (model.metabolites.h_p in rxn.products) and abs(rxn.flux) > 0]\n",
    "for reaction in h_p_products_irr:\n",
    "    print(reaction.name,  reaction)"
   ]
  },
  {
   "cell_type": "markdown",
   "metadata": {},
   "source": [
    "#### NH3 \n",
    "Following 8. Corrections to Validation Methylococcus capsulatus GEM complimentary scripts:"
   ]
  },
  {
   "cell_type": "code",
   "execution_count": 574,
   "metadata": {
    "ExecuteTime": {
     "end_time": "2019-11-26T05:15:56.804991Z",
     "start_time": "2019-11-26T05:15:56.799165Z"
    }
   },
   "outputs": [
    {
     "data": {
      "text/plain": [
       "[<Reaction Biomass_Mextorquens_AM1 at 0x7fd7d847ec50>,\n",
       " <Reaction PYAM5POr at 0x7fd7d87324a8>,\n",
       " <Reaction GLNS at 0x7fd7d8465dd8>,\n",
       " <Reaction GMPS at 0x7fd7d87721d0>,\n",
       " <Reaction GLUDy at 0x7fd7d87fde48>,\n",
       " <Reaction HMBS at 0x7fd7d83f0a58>,\n",
       " <Reaction CYSTL at 0x7fd7d83f0e80>,\n",
       " <Reaction NNAMr at 0x7fd7d83cb320>,\n",
       " <Reaction NADS1 at 0x7fd7d86dafd0>,\n",
       " <Reaction Biomass_Mextorquens_AM1_core at 0x7fd7d81c2be0>]"
      ]
     },
     "execution_count": 574,
     "metadata": {},
     "output_type": "execute_result"
    }
   ],
   "source": [
    "[rxn for rxn in model.metabolites.nh4_c.reactions if rxn.reversibility or model.metabolites.nh4_c in rxn.reactants]"
   ]
  },
  {
   "cell_type": "code",
   "execution_count": 555,
   "metadata": {
    "ExecuteTime": {
     "end_time": "2019-11-26T05:03:27.894329Z",
     "start_time": "2019-11-26T05:03:27.859117Z"
    }
   },
   "outputs": [
    {
     "name": "stdout",
     "output_type": "stream",
     "text": [
      "PRODUCING REACTIONS -- NH3 (nh4_c)\n",
      "----------------------------------\n",
      "%       FLUX  RXN ID    REACTION\n",
      "---  -------  --------  --------------------------------------------------\n",
      "98%  0.424    NH4tpp    h_p + nh4_p --> h_c + nh4_c\n",
      "2%   0.00904  THRD_L    thr_L_c --> 2obut_c + nh4_c\n",
      "\n",
      "CONSUMING REACTIONS -- NH3 (nh4_c)\n",
      "----------------------------------\n",
      "%       FLUX  RXN ID    REACTION\n",
      "---  -------  --------  --------------------------------------------------\n",
      "82%  0.353    GLUDy     akg_c + h_c + nadph_c + nh4_c <=> glu_L_c + h2o...\n",
      "17%  0.0747   GLNS      atp_c + glu_L_c + nh4_c --> adp_c + gln_L_c + h...\n",
      "1%   0.00526  GMPS      atp_c + nh4_c + xmp_c --> amp_c + gmp_c + 2.0 h...\n"
     ]
    }
   ],
   "source": [
    "model.metabolites.nh4_c.summary()"
   ]
  },
  {
   "cell_type": "code",
   "execution_count": 565,
   "metadata": {
    "ExecuteTime": {
     "end_time": "2019-11-26T05:08:28.119464Z",
     "start_time": "2019-11-26T05:08:28.082389Z"
    }
   },
   "outputs": [
    {
     "name": "stdout",
     "output_type": "stream",
     "text": [
      "PRODUCING REACTIONS -- Ammonium (nh4_c)\n",
      "---------------------------------------\n",
      "%       FLUX  RXN ID    REACTION\n",
      "----  ------  --------  --------------------------------------------------\n",
      "97%   1.46    NTRIR2y   5.0 h_c + 3.0 nadph_c + no2_c --> 2.0 h2o_c + 3...\n",
      "3%    0.0434  THRD_L    thr__L_c --> 2obut_c + nh4_c\n",
      "\n",
      "CONSUMING REACTIONS -- Ammonium (nh4_c)\n",
      "---------------------------------------\n",
      "%       FLUX  RXN ID    REACTION\n",
      "----  ------  --------  --------------------------------------------------\n",
      "100%  1.5     ALAD_L    h_c + nadh_c + nh4_c + pyr_c --> ala__L_c + h2o...\n"
     ]
    }
   ],
   "source": [
    "model_Bath.metabolites.nh4_c.summary()"
   ]
  },
  {
   "cell_type": "code",
   "execution_count": 559,
   "metadata": {
    "ExecuteTime": {
     "end_time": "2019-11-26T05:07:09.833142Z",
     "start_time": "2019-11-26T05:07:09.820613Z"
    }
   },
   "outputs": [
    {
     "name": "stdout",
     "output_type": "stream",
     "text": [
      "UAMAS UDP_N_acetylmuramate_alanine_ligase ala_L_c + atp_c + uamr_c --> adp_c + h_c + pi_c + uama_c CQW49_RS11265\n",
      "PHETRS phenylalanine_tRNA_synthetase atp_c + phe_L_c + trnaphe_c --> amp_c + phetrna_c + ppi_c CQW49_RS15785 and CQW49_RS15795\n",
      "ALATA_D D_alanine_aminotransferase glu_D_c + pyr_c <=> akg_c + ala_D_c META1_0774\n",
      "ALAR alanine_racemase ala_L_c <=> ala_D_c CQW49_RS10820 or CQW49_RS10555\n",
      "ANACMURLALAA anhydro_N_acetylmuramoyl_L_alanine_amidase GlcNacanhMurNacAlagGlucDAPAla_c + h2o_c --> GlcNacanhMurNac_c + alagDgluDAPDala_c CQW49_RS11810\n",
      "UAMAGS UDP_N_acetylmuramoylalanine__D_glutamate_ligase atp_c + glu_D_c + uama_c --> adp_c + h_c + pi_c + uamag_c CQW49_RS11250\n",
      "UGMDDS UDP_N_acetylmuramoylalanyl_D_glutamyl_2_6_diaminopimelate_D_alanyl_D_alanine_ligase alaala_c + atp_c + ugmd_c --> adp_c + h_c + pi_c + ugmda_c CQW49_RS11240\n",
      "ALAALAr D_alanine_D_alanine_ligase_B 2.0 ala_D_c + atp_c --> adp_c + alaala_c + h_c + pi_c CQW49_RS11285\n"
     ]
    }
   ],
   "source": [
    "reaction_id_search(model, \"alani\")"
   ]
  },
  {
   "cell_type": "markdown",
   "metadata": {},
   "source": [
    "Corrresponding glutamine synthase BiGG-reaction: atp_c + glu__L_c + nh4_c ⇌ adp_c + gln__L_c + h_c + pi_c\n",
    "Reference: http://bigg.ucsd.edu/universal/reactions/GLNS\n",
    "\n",
    "Corresponding glutamate synthase BiGG-reaction: akg_h + gln__L_h + h_h + nadh_h ⇌ 2.0 glu__L_h + nad_h\n",
    "Reference: http://bigg.ucsd.edu/universal/reactions/GLUS\n"
   ]
  },
  {
   "cell_type": "markdown",
   "metadata": {},
   "source": [
    "Glutamine synthetase and glutamine-dependent NAD-synthetase are present in OB3b-GEM. However, I would care only about GLNS reaction as it assimilates NH4 (ammonia) well."
   ]
  },
  {
   "cell_type": "code",
   "execution_count": 575,
   "metadata": {
    "ExecuteTime": {
     "end_time": "2019-11-26T05:17:03.744683Z",
     "start_time": "2019-11-26T05:17:03.735424Z"
    }
   },
   "outputs": [
    {
     "name": "stdout",
     "output_type": "stream",
     "text": [
      "NADS2 glutamine_dependent_NAD____synthetase atp_c + dnad_c + gln_L_c + h2o_c --> amp_c + glu_L_c + h_c + nad_c + ppi_c CQW49_RS00090\n",
      "GF6PTAr L_glutamine_D_fructose_6_phosphate_aminotransferase f6p_c + gln_L_c --> gam6p_c + glu_L_c CQW49_RS17260 or CQW49_RS06615\n",
      "GLNS glutamine_synthetase atp_c + glu_L_c + nh4_c --> adp_c + gln_L_c + h_c + pi_c CQW49_RS20750 or CQW49_RS20740\n"
     ]
    }
   ],
   "source": [
    "reaction_id_search(model, \"glutamine\")"
   ]
  },
  {
   "cell_type": "markdown",
   "metadata": {},
   "source": [
    "Glutamate synthase is present in the GEM too:"
   ]
  },
  {
   "cell_type": "code",
   "execution_count": 576,
   "metadata": {
    "ExecuteTime": {
     "end_time": "2019-11-26T05:20:43.754472Z",
     "start_time": "2019-11-26T05:20:43.739026Z"
    }
   },
   "outputs": [
    {
     "name": "stdout",
     "output_type": "stream",
     "text": [
      "GLUDy glutamate_synthase_1 akg_c + h_c + nadph_c + nh4_c <=> glu_L_c + h2o_c + nadp_c CQW49_RS02665 and CQW49_RS02785\n",
      "FPGS8 folylpolyglutamate_synthase_2 10fthf5glu_c + atp_c + glu_L_c --> 10fthf6glu_c + adp_c + h_c + pi_c CQW49_RS15465\n",
      "MFPGS5 folylpolyglutamate_synthase_1 atp_c + glu_L_c + mlthf5glu_c --> adp_c + h_c + mlthf6glu_c + pi_c CQW49_RS15465\n",
      "FPGS10 folylpolyglutamate_synthase_3 atp_c + glu_L_c + thf5glu_c --> adp_c + h_c + pi_c + thf6glu_c CQW49_RS15465\n",
      "ACGS N_acetylglutamate_synthase accoa_c + glu_L_c <=> acglu_c + coa_c + h_c CQW49_RS12750\n",
      "GLUSy glutamate_synthase_2 akg_c + gln_L_c + h_c + nadph_c --> 2.0 glu_L_c + nadp_c CQW49_RS02665 and CQW49_RS02785\n"
     ]
    }
   ],
   "source": [
    "reaction_id_search(model, \"glutamate_s\")"
   ]
  },
  {
   "cell_type": "markdown",
   "metadata": {},
   "source": [
    "Let's fix ammonia assimilation in OB3b GEM --> No activities of alanine or glutamate dehydrogenases were detected in cell extracts of M. trichosporium OB3b grown on any source of nitrogen (Shishkina and Trotsenko, 1979; Murrell and Dalton, 1983a,b). **It has been concluded that ammonia was assimilated exclusively via the glutamine synthetase/glutamate synthase pathway (Murrell and Dalton, 1983b)** --> \n",
    "Reference: https://www.ncbi.nlm.nih.gov/pmc/articles/PMC3615186/#B76"
   ]
  },
  {
   "cell_type": "code",
   "execution_count": 583,
   "metadata": {
    "ExecuteTime": {
     "end_time": "2019-11-26T05:34:43.541663Z",
     "start_time": "2019-11-26T05:34:43.537381Z"
    }
   },
   "outputs": [],
   "source": [
    "nh4_reactions = [rxn for rxn in model.metabolites.nh4_c.reactions if rxn.reversibility or model.metabolites.nh4_c in rxn.reactants]"
   ]
  },
  {
   "cell_type": "code",
   "execution_count": 578,
   "metadata": {
    "ExecuteTime": {
     "end_time": "2019-11-26T05:23:21.346891Z",
     "start_time": "2019-11-26T05:23:21.341936Z"
    }
   },
   "outputs": [
    {
     "data": {
      "text/html": [
       "\n",
       "        <table>\n",
       "            <tr>\n",
       "                <td><strong>Reaction identifier</strong></td><td>GLUDy</td>\n",
       "            </tr><tr>\n",
       "                <td><strong>Name</strong></td><td>glutamate_synthase_1</td>\n",
       "            </tr><tr>\n",
       "                <td><strong>Memory address</strong></td>\n",
       "                <td>0x07fd7d87fde48</td>\n",
       "            </tr><tr>\n",
       "                <td><strong>Stoichiometry</strong></td>\n",
       "                <td>\n",
       "                    <p style='text-align:right'>akg_c + h_c + nadph_c + nh4_c <=> glu_L_c + h2o_c + nadp_c</p>\n",
       "                    <p style='text-align:right'>2_oxoglutarate + H_ + NADPH + NH3 <=> L_glutamate + H2O + NADP_</p>\n",
       "                </td>\n",
       "            </tr><tr>\n",
       "                <td><strong>GPR</strong></td><td>CQW49_RS02665 and CQW49_RS02785</td>\n",
       "            </tr><tr>\n",
       "                <td><strong>Lower bound</strong></td><td>-1000.0</td>\n",
       "            </tr><tr>\n",
       "                <td><strong>Upper bound</strong></td><td>1000.0</td>\n",
       "            </tr>\n",
       "        </table>\n",
       "        "
      ],
      "text/plain": [
       "<Reaction GLUDy at 0x7fd7d87fde48>"
      ]
     },
     "execution_count": 578,
     "metadata": {},
     "output_type": "execute_result"
    }
   ],
   "source": [
    "model.reactions.GLUDy"
   ]
  },
  {
   "cell_type": "code",
   "execution_count": 581,
   "metadata": {
    "ExecuteTime": {
     "end_time": "2019-11-26T05:24:08.763789Z",
     "start_time": "2019-11-26T05:24:08.758990Z"
    }
   },
   "outputs": [
    {
     "data": {
      "text/html": [
       "\n",
       "        <table>\n",
       "            <tr>\n",
       "                <td><strong>Reaction identifier</strong></td><td>GLUDxi</td>\n",
       "            </tr><tr>\n",
       "                <td><strong>Name</strong></td><td>Glutamate dehydrogenase  NAD </td>\n",
       "            </tr><tr>\n",
       "                <td><strong>Memory address</strong></td>\n",
       "                <td>0x07fd7f3ea20b8</td>\n",
       "            </tr><tr>\n",
       "                <td><strong>Stoichiometry</strong></td>\n",
       "                <td>\n",
       "                    <p style='text-align:right'>glu__L_c + h2o_c + nad_c --> akg_c + h_c + nadh_c + nh4_c</p>\n",
       "                    <p style='text-align:right'>L-glutamate + H2O + NAD(+) --> 2-oxoglutarate + H(+) + NADH(2-) + Ammonium</p>\n",
       "                </td>\n",
       "            </tr><tr>\n",
       "                <td><strong>GPR</strong></td><td>MCA1684 or MCA1030 or MCA2039 or MCA2040 or MCA2202</td>\n",
       "            </tr><tr>\n",
       "                <td><strong>Lower bound</strong></td><td>0.0</td>\n",
       "            </tr><tr>\n",
       "                <td><strong>Upper bound</strong></td><td>1000.0</td>\n",
       "            </tr>\n",
       "        </table>\n",
       "        "
      ],
      "text/plain": [
       "<Reaction GLUDxi at 0x7fd7f3ea20b8>"
      ]
     },
     "execution_count": 581,
     "metadata": {},
     "output_type": "execute_result"
    }
   ],
   "source": [
    "model_Bath.reactions.GLUDxi"
   ]
  },
  {
   "cell_type": "code",
   "execution_count": 589,
   "metadata": {
    "ExecuteTime": {
     "end_time": "2019-11-26T05:38:17.400733Z",
     "start_time": "2019-11-26T05:38:17.394075Z"
    }
   },
   "outputs": [
    {
     "name": "stdout",
     "output_type": "stream",
     "text": [
      "pyridoxamine_5__phosphate_oxidase PYAM5POr: h2o_c + o2_c + pyam5p_c <=> h2o2_c + nh4_c + pydx5p_c\n",
      "glutamine_synthetase GLNS: atp_c + glu_L_c + nh4_c --> adp_c + gln_L_c + h_c + pi_c\n",
      "GMP_synthetase__ammonia_dependent_ GMPS: atp_c + nh4_c + xmp_c --> amp_c + gmp_c + 2.0 h_c + ppi_c\n",
      "glutamate_synthase_1 GLUDy: akg_c + h_c + nadph_c + nh4_c <=> glu_L_c + h2o_c + nadp_c\n",
      "porphobilinogen_deaminase HMBS: h2o_c + 4.0 ppbng_c <=> hmbil_c + 4.0 nh4_c\n",
      "cystathionine_beta_lyase CYSTL: cyst_L_c + h2o_c <=> hcys_L_c + nh4_c + pyr_c\n",
      "nicotinamidase NNAMr: h2o_c + ncam_c <=> nac_c + nh4_c\n",
      "NH3_dependent_NAD____synthetase NADS1: atp_c + dnad_c + nh4_c --> amp_c + h_c + nad_c + ppi_c\n"
     ]
    }
   ],
   "source": [
    "for reaction in nh4_reactions:\n",
    "    if \"Biomass\" in reaction.id:\n",
    "        pass\n",
    "    else:\n",
    "        print(reaction.name, reaction)"
   ]
  },
  {
   "cell_type": "markdown",
   "metadata": {},
   "source": [
    "Reactions that should be fixed so that ammonia assimilation is done via GLNS/GLUDy complex only "
   ]
  },
  {
   "cell_type": "markdown",
   "metadata": {},
   "source": [
    "pyridoxamine_5__phosphate_oxidase PYAM5POr: h2o_c + o2_c + pyam5p_c <=> h2o2_c + nh4_c + pydx5p_c --> fixed\n",
    "glutamine_synthetase GLNS: atp_c + glu_L_c + nh4_c --> adp_c + gln_L_c + h_c + pi_c --> GLNS complex\n",
    "GMP_synthetase__ammonia_dependent_ GMPS: atp_c + nh4_c + xmp_c --> amp_c + gmp_c + 2.0 h_c + ppi_c --> fixed\n",
    "glutamate_synthase_1 GLUDy: akg_c + h_c + nadph_c + nh4_c <=> glu_L_c + h2o_c + nadp_c --> fixed directionality based on model_Bath\n",
    "porphobilinogen_deaminase HMBS: h2o_c + 4.0 ppbng_c <=> hmbil_c + 4.0 nh4_c --> fixed\n",
    "cystathionine_beta_lyase CYSTL: cyst_L_c + h2o_c <=> hcys_L_c + nh4_c + pyr_c --> fixed\n",
    "nicotinamidase NNAMr: h2o_c + ncam_c <=> nac_c + nh4_c --> fixed\n",
    "NH3_dependent_NAD____synthetase NADS1: atp_c + dnad_c + nh4_c --> amp_c + h_c + nad_c + ppi_c\n"
   ]
  },
  {
   "cell_type": "code",
   "execution_count": 597,
   "metadata": {
    "ExecuteTime": {
     "end_time": "2019-11-26T05:41:59.232412Z",
     "start_time": "2019-11-26T05:41:59.209037Z"
    }
   },
   "outputs": [
    {
     "name": "stdout",
     "output_type": "stream",
     "text": [
      "PYAM5POr: h2o_c + o2_c + pyam5p_c --> h2o2_c + nh4_c + pydx5p_c\n",
      "<Solution 0.043 at 0x7fd7ce104390>\n",
      "PYAM5POr: h2o_c + o2_c + pyam5p_c --> h2o2_c + nh4_c + pydx5p_c\n"
     ]
    }
   ],
   "source": [
    "reaction = bigg_OB3b.reactions.PYAM5POr\n",
    "print(reaction)\n",
    "with bigg_OB3b as model:\n",
    "    reaction.bounds = (0, 1000)\n",
    "    print(model.optimize())\n",
    "reaction.bounds = (0, 1000)\n",
    "print(reaction)"
   ]
  },
  {
   "cell_type": "code",
   "execution_count": 595,
   "metadata": {
    "ExecuteTime": {
     "end_time": "2019-11-26T05:41:35.997316Z",
     "start_time": "2019-11-26T05:41:35.967489Z"
    }
   },
   "outputs": [
    {
     "name": "stdout",
     "output_type": "stream",
     "text": [
      "GMPS: atp_c + nh4_c + xmp_c --> amp_c + gmp_c + 2.0 h_c + ppi_c\n",
      "<Solution 0.043 at 0x7fd7d1e9a2b0>\n",
      "GMPS: atp_c + nh4_c + xmp_c <-- amp_c + gmp_c + 2.0 h_c + ppi_c\n"
     ]
    }
   ],
   "source": [
    "reaction = bigg_OB3b.reactions.GMPS\n",
    "print(reaction)\n",
    "with bigg_OB3b as model:\n",
    "    reaction.bounds = (-1000, 0)\n",
    "    print(model.optimize())\n",
    "reaction.bounds = (-1000, 0)\n",
    "print(reaction)"
   ]
  },
  {
   "cell_type": "code",
   "execution_count": 602,
   "metadata": {
    "ExecuteTime": {
     "end_time": "2019-11-26T05:43:48.425586Z",
     "start_time": "2019-11-26T05:43:48.420438Z"
    }
   },
   "outputs": [
    {
     "name": "stdout",
     "output_type": "stream",
     "text": [
      "GLUDy: akg_c + h_c + nadph_c + nh4_c --> glu_L_c + h2o_c + nadp_c\n",
      "GLUDy: akg_c + h_c + nadph_c + nh4_c --> glu_L_c + h2o_c + nadp_c\n"
     ]
    }
   ],
   "source": [
    "print(model.reactions.GLUDy)\n",
    "model.reactions.GLUDy.bounds = (0, 1000)\n",
    "print(model.reactions.GLUDy)"
   ]
  },
  {
   "cell_type": "code",
   "execution_count": 599,
   "metadata": {
    "ExecuteTime": {
     "end_time": "2019-11-26T05:42:50.248091Z",
     "start_time": "2019-11-26T05:42:50.243196Z"
    }
   },
   "outputs": [
    {
     "data": {
      "text/html": [
       "\n",
       "        <table>\n",
       "            <tr>\n",
       "                <td><strong>Reaction identifier</strong></td><td>GLUDy</td>\n",
       "            </tr><tr>\n",
       "                <td><strong>Name</strong></td><td>Glutamate dehydrogenase (NADP)</td>\n",
       "            </tr><tr>\n",
       "                <td><strong>Memory address</strong></td>\n",
       "                <td>0x07fd7f3e9fa90</td>\n",
       "            </tr><tr>\n",
       "                <td><strong>Stoichiometry</strong></td>\n",
       "                <td>\n",
       "                    <p style='text-align:right'>glu__L_c + h2o_c + nadp_c --> akg_c + h_c + nadph_c + nh4_c</p>\n",
       "                    <p style='text-align:right'>L-glutamate + H2O + NADP(+) --> 2-oxoglutarate + H(+) + NADPH + Ammonium</p>\n",
       "                </td>\n",
       "            </tr><tr>\n",
       "                <td><strong>GPR</strong></td><td>MCA1030 or MCA1684 or MCA2039 or MCA2040 or MCA2202</td>\n",
       "            </tr><tr>\n",
       "                <td><strong>Lower bound</strong></td><td>0.0</td>\n",
       "            </tr><tr>\n",
       "                <td><strong>Upper bound</strong></td><td>1000.0</td>\n",
       "            </tr>\n",
       "        </table>\n",
       "        "
      ],
      "text/plain": [
       "<Reaction GLUDy at 0x7fd7f3e9fa90>"
      ]
     },
     "execution_count": 599,
     "metadata": {},
     "output_type": "execute_result"
    }
   ],
   "source": [
    "model_Bath.reactions.GLUDy"
   ]
  },
  {
   "cell_type": "code",
   "execution_count": 605,
   "metadata": {
    "ExecuteTime": {
     "end_time": "2019-11-26T05:44:53.587016Z",
     "start_time": "2019-11-26T05:44:53.560303Z"
    }
   },
   "outputs": [
    {
     "name": "stdout",
     "output_type": "stream",
     "text": [
      "HMBS: h2o_c + 4.0 ppbng_c <=> hmbil_c + 4.0 nh4_c\n",
      "<Solution 0.043 at 0x7fd7cb8024a8>\n",
      "HMBS: h2o_c + 4.0 ppbng_c --> hmbil_c + 4.0 nh4_c\n"
     ]
    }
   ],
   "source": [
    "reaction = bigg_OB3b.reactions.HMBS\n",
    "print(reaction)\n",
    "with bigg_OB3b as model:\n",
    "    reaction.bounds = (0, 1000)\n",
    "    print(model.optimize())\n",
    "reaction.bounds = (0, 1000)\n",
    "print(reaction)"
   ]
  },
  {
   "cell_type": "code",
   "execution_count": 607,
   "metadata": {
    "ExecuteTime": {
     "end_time": "2019-11-26T05:45:39.496694Z",
     "start_time": "2019-11-26T05:45:39.470617Z"
    }
   },
   "outputs": [
    {
     "name": "stdout",
     "output_type": "stream",
     "text": [
      "CYSTL: cyst_L_c + h2o_c <=> hcys_L_c + nh4_c + pyr_c\n",
      "<Solution 0.043 at 0x7fd7cacfecf8>\n",
      "CYSTL: cyst_L_c + h2o_c --> hcys_L_c + nh4_c + pyr_c\n"
     ]
    }
   ],
   "source": [
    "reaction = bigg_OB3b.reactions.CYSTL\n",
    "print(reaction)\n",
    "with bigg_OB3b as model:\n",
    "    reaction.bounds = (0, 1000)\n",
    "    print(model.optimize())\n",
    "reaction.bounds = (0, 1000)\n",
    "print(reaction)"
   ]
  },
  {
   "cell_type": "code",
   "execution_count": 609,
   "metadata": {
    "ExecuteTime": {
     "end_time": "2019-11-26T05:46:22.465499Z",
     "start_time": "2019-11-26T05:46:22.441687Z"
    }
   },
   "outputs": [
    {
     "name": "stdout",
     "output_type": "stream",
     "text": [
      "NNAMr: h2o_c + ncam_c <=> nac_c + nh4_c\n",
      "<Solution 0.043 at 0x7fd7cacfeb70>\n",
      "NNAMr: h2o_c + ncam_c --> nac_c + nh4_c\n"
     ]
    }
   ],
   "source": [
    "reaction = bigg_OB3b.reactions.NNAMr\n",
    "print(reaction)\n",
    "with bigg_OB3b as model:\n",
    "    reaction.bounds = (0, 1000)\n",
    "    print(model.optimize())\n",
    "reaction.bounds = (0, 1000)\n",
    "print(reaction)"
   ]
  },
  {
   "cell_type": "code",
   "execution_count": 612,
   "metadata": {
    "ExecuteTime": {
     "end_time": "2019-11-26T05:47:16.234743Z",
     "start_time": "2019-11-26T05:47:16.209140Z"
    }
   },
   "outputs": [
    {
     "name": "stdout",
     "output_type": "stream",
     "text": [
      "NADS1: atp_c + dnad_c + nh4_c --> amp_c + h_c + nad_c + ppi_c\n",
      "<Solution 0.043 at 0x7fd7cdd3e898>\n",
      "NADS1: atp_c + dnad_c + nh4_c <-- amp_c + h_c + nad_c + ppi_c\n"
     ]
    }
   ],
   "source": [
    "reaction = bigg_OB3b.reactions.NADS1\n",
    "print(reaction)\n",
    "with bigg_OB3b as model:\n",
    "    reaction.bounds = (-1000, 0)\n",
    "    print(model.optimize())\n",
    "reaction.bounds = (-1000, 0)\n",
    "print(reaction)"
   ]
  },
  {
   "cell_type": "markdown",
   "metadata": {},
   "source": [
    "Recheck NH3 sanity again:"
   ]
  },
  {
   "cell_type": "code",
   "execution_count": 613,
   "metadata": {
    "ExecuteTime": {
     "end_time": "2019-11-26T05:47:46.199565Z",
     "start_time": "2019-11-26T05:47:46.189075Z"
    }
   },
   "outputs": [
    {
     "data": {
      "text/plain": [
       "[<Reaction Biomass_Mextorquens_AM1 at 0x7fd7d847ec50>,\n",
       " <Reaction GLNS at 0x7fd7d8465dd8>,\n",
       " <Reaction GMPS at 0x7fd7d87721d0>,\n",
       " <Reaction GLUDy at 0x7fd7d87fde48>,\n",
       " <Reaction NADS1 at 0x7fd7d86dafd0>,\n",
       " <Reaction Biomass_Mextorquens_AM1_core at 0x7fd7d81c2be0>]"
      ]
     },
     "execution_count": 613,
     "metadata": {},
     "output_type": "execute_result"
    }
   ],
   "source": [
    "[rxn for rxn in model.metabolites.nh4_c.reactions if rxn.reversibility or model.metabolites.nh4_c in rxn.reactants]"
   ]
  },
  {
   "cell_type": "code",
   "execution_count": 618,
   "metadata": {
    "ExecuteTime": {
     "end_time": "2019-11-26T05:49:53.032003Z",
     "start_time": "2019-11-26T05:49:53.027375Z"
    }
   },
   "outputs": [
    {
     "data": {
      "text/plain": [
       "'atp_c + nh4_c + xmp_c <-- amp_c + gmp_c + 2.0 h_c + ppi_c'"
      ]
     },
     "execution_count": 618,
     "metadata": {},
     "output_type": "execute_result"
    }
   ],
   "source": [
    "model.reactions.GMPS.reaction"
   ]
  },
  {
   "cell_type": "code",
   "execution_count": 619,
   "metadata": {
    "ExecuteTime": {
     "end_time": "2019-11-26T05:50:00.708658Z",
     "start_time": "2019-11-26T05:50:00.703781Z"
    }
   },
   "outputs": [
    {
     "data": {
      "text/plain": [
       "'atp_c + dnad_c + nh4_c <-- amp_c + h_c + nad_c + ppi_c'"
      ]
     },
     "execution_count": 619,
     "metadata": {},
     "output_type": "execute_result"
    }
   ],
   "source": [
    "model.reactions.NADS1.reaction"
   ]
  },
  {
   "cell_type": "code",
   "execution_count": 620,
   "metadata": {
    "ExecuteTime": {
     "end_time": "2019-11-26T05:50:05.385310Z",
     "start_time": "2019-11-26T05:50:05.380800Z"
    }
   },
   "outputs": [
    {
     "data": {
      "text/plain": [
       "'akg_c + h_c + nadph_c + nh4_c --> glu_L_c + h2o_c + nadp_c'"
      ]
     },
     "execution_count": 620,
     "metadata": {},
     "output_type": "execute_result"
    }
   ],
   "source": [
    "model.reactions.GLUDy.reaction"
   ]
  },
  {
   "cell_type": "code",
   "execution_count": 621,
   "metadata": {
    "ExecuteTime": {
     "end_time": "2019-11-26T05:50:08.406200Z",
     "start_time": "2019-11-26T05:50:08.402079Z"
    }
   },
   "outputs": [
    {
     "data": {
      "text/plain": [
       "'atp_c + glu_L_c + nh4_c --> adp_c + gln_L_c + h_c + pi_c'"
      ]
     },
     "execution_count": 621,
     "metadata": {},
     "output_type": "execute_result"
    }
   ],
   "source": [
    "model.reactions.GLNS.reaction"
   ]
  },
  {
   "cell_type": "code",
   "execution_count": 789,
   "metadata": {
    "ExecuteTime": {
     "end_time": "2019-11-28T04:28:26.849155Z",
     "start_time": "2019-11-28T04:28:26.686533Z"
    }
   },
   "outputs": [
    {
     "name": "stdout",
     "output_type": "stream",
     "text": [
      "PRODUCING REACTIONS -- NH3 (nh4_c)\n",
      "----------------------------------\n",
      "%       FLUX  RXN ID    REACTION\n",
      "---  -------  --------  --------------------------------------------------\n",
      "98%  0.424    NH4tpp    h_p + nh4_p --> h_c + nh4_c\n",
      "2%   0.00904  THRD_L    thr_L_c --> 2obut_c + nh4_c\n",
      "\n",
      "CONSUMING REACTIONS -- NH3 (nh4_c)\n",
      "----------------------------------\n",
      "%       FLUX  RXN ID    REACTION\n",
      "---  -------  --------  --------------------------------------------------\n",
      "82%  0.353    GLUDy     akg_c + h_c + nadph_c + nh4_c --> glu_L_c + h2o...\n",
      "19%  0.0802   GLNS      atp_c + glu_L_c + nh4_c --> adp_c + gln_L_c + h...\n"
     ]
    }
   ],
   "source": [
    "bigg_OB3b.metabolites.nh4_c.summary()"
   ]
  },
  {
   "cell_type": "markdown",
   "metadata": {},
   "source": [
    "#### NADH\n",
    "Following 8. Corrections to Validation Methylococcus capsulatus GEM complimentary scripts:"
   ]
  },
  {
   "cell_type": "code",
   "execution_count": 627,
   "metadata": {
    "ExecuteTime": {
     "end_time": "2019-11-26T05:54:47.721981Z",
     "start_time": "2019-11-26T05:54:47.718091Z"
    }
   },
   "outputs": [],
   "source": [
    "nadh_reactions = [rxn for rxn in model.metabolites.nadh_c.reactions if rxn.reversibility or model.metabolites.nadh_c in rxn.products]"
   ]
  },
  {
   "cell_type": "code",
   "execution_count": 626,
   "metadata": {
    "ExecuteTime": {
     "end_time": "2019-11-26T05:52:25.932677Z",
     "start_time": "2019-11-26T05:52:25.886442Z"
    }
   },
   "outputs": [
    {
     "name": "stdout",
     "output_type": "stream",
     "text": [
      "PRODUCING REACTIONS -- NADH (nadh_c)\n",
      "------------------------------------\n",
      "%      FLUX  RXN ID    REACTION\n",
      "---  ------  --------  --------------------------------------------------\n",
      "54%  3.23    FDHr      for_c + nad_c <=> co2_c + nadh_c\n",
      "40%  2.4     ALDD1     fald_c + h2o_c + nad_c --> for_c + 2.0 h_c + na...\n",
      "4%   0.244   BDH       bhb_c + nad_c <=> acac_c + h_c + nadh_c\n",
      "1%   0.0782  PGCDr     3pg_c + nad_c <=> 3php_c + h_c + nadh_c\n",
      "\n",
      "CONSUMING REACTIONS -- NADH (nadh_c)\n",
      "------------------------------------\n",
      "%      FLUX  RXN ID    REACTION\n",
      "---  ------  --------  --------------------------------------------------\n",
      "68%  4.08    NADH11    5.0 h_c + nadh_c + q_c --> 4.0 h_p + nad_c + qh2_c\n",
      "15%  0.887   GLYD      h_c + hpyr_c + nadh_c <=> glyc_R_c + nad_c\n",
      "9%   0.512   HACD1     3hbcoa_c + nad_c <=> aacoa_c + h_c + nadh_c\n",
      "6%   0.344   MDH       mal_L_c + nad_c <=> h_c + nadh_c + oaa_c\n",
      "3%   0.16    GAPD      g3p_c + nad_c + pi_c <=> 13dpg_c + h_c + nadh_c\n"
     ]
    }
   ],
   "source": [
    "model.metabolites.nadh_c.summary()"
   ]
  },
  {
   "cell_type": "code",
   "execution_count": 629,
   "metadata": {
    "ExecuteTime": {
     "end_time": "2019-11-26T05:55:15.663688Z",
     "start_time": "2019-11-26T05:55:15.648368Z"
    }
   },
   "outputs": [
    {
     "name": "stdout",
     "output_type": "stream",
     "text": [
      "3_hydroxyacyl_CoA_dehydrogenase__n_16_0_ HACD7: 3hhdcoa_c + nad_c <=> 3ohdcoa_c + h_c + nadh_c\n",
      "3_hydroxyacyl_CoA_dehydrogenase__n_18_1_ HACOADH181: 3hcoctd11ecoa_c + nad_c <=> 3ococtd11ecoa_c + h_c + nadh_c\n",
      "2_hydroxy_3_oxopropionate_reductase__NAD_ TRSARr: glyc_R_c + nad_c <=> 2h3oppan_c + h_c + nadh_c\n",
      "prephenate_dehydrogenase PPND: nad_c + pphn_c --> 34hpp_c + co2_c + nadh_c\n",
      "erythrose_4_phosphate_dehydrogenase E4PD: e4p_c + h2o_c + nad_c <=> 4per_c + 2.0 h_c + nadh_c\n",
      "glycolaldehyde_dehydrogenase GCALDDr: gcald_c + h2o_c + nad_c --> glyclt_c + 2.0 h_c + nadh_c\n",
      "pyruvate_dehydrogenase PDH: coa_c + nad_c + pyr_c --> accoa_c + co2_c + nadh_c\n",
      "3_hydroxyacyl_CoA_dehydrogenase__n_14_1_ HACOADH141: 3hctd7ecoa_c + nad_c <=> 3octd7ecoa_c + h_c + nadh_c\n",
      "3_hydroxyacyl_CoA_dehydrogenase__n_18_0_ HACD8i: 3hodcoa_c + nad_c <=> 3oodcoa_c + h_c + nadh_c\n",
      "NADH_azoreductase MREDR: 2.0 h_c + mred_c + 2.0 nadh_c <=> Nndmetphenda_c + anth_c + 2.0 nad_c\n",
      "hydroxypyruvate_reductase GLYD: h_c + hpyr_c + nadh_c <=> glyc_R_c + nad_c\n",
      "cyclohexadienyl_dehydrogenase AROGDH: arog_c + nad_c --> co2_c + nadh_c + tyr_L_c\n",
      "precorrin_3B_synthase PRE3BS: 2.0 h_c + nadh_c + o2_c + pre3a_c <=> h2o_c + nad_c + pre3b_c\n",
      "IMP_dehydrogenase IMPD: h2o_c + imp_c + nad_c <=> h_c + nadh_c + xmp_c\n",
      "3_hydroxyacyl_CoA_dehydrogenase__n_6_0_ HACD2: 3hhcoa_c + nad_c <=> 3ohcoa_c + h_c + nadh_c\n",
      "3_hydroxyacyl_CoA_dehydrogenase__n_14_0_ HACD6: 3htdcoa_c + nad_c <=> 3otdcoa_c + h_c + nadh_c\n",
      "2_oxoglutarate_dehydrogenase AKGDH: akg_c + coa_c + nad_c --> co2_c + nadh_c + succoa_c\n",
      "histidinal_dehydrogenase HISTDADH: h2o_c + histda_c + nad_c --> 2.0 h_c + his_L_c + nadh_c\n",
      "3_hydroxyacyl_CoA_dehydrogenase__n_16_1_ HACOADH161: 3hchd9ecoa_c + nad_c <=> 3ochd9ecoa_c + h_c + nadh_c\n",
      "methylenetetrahydromethanopterin_dehydrogenase_2 MLMPTDH: mlh4mpt_c + nad_c --> meh4mpt_c + nadh_c\n",
      "D_3_phosphoglycerate_dehydrogenase PGCDr: 3pg_c + nad_c <=> 3php_c + h_c + nadh_c\n",
      "3_hydroxyacyl_CoA_dehydrogenase__n_10_0_ HACD4: 3hdcoa_c + nad_c <=> 3odcoa_c + h_c + nadh_c\n",
      "4_hydroxy_L_threonine_phosphate_dehydrogenase__NAD_dependent HTHRPD: nad_c + phthr_c <=> ao4pob_c + h_c + nadh_c\n",
      "formate_dehydrogenase FDHr: for_c + nad_c <=> co2_c + nadh_c\n",
      "ALDD1 ALDD1: fald_c + h2o_c + nad_c --> for_c + 2.0 h_c + nadh_c\n",
      "1_pyrroline_5_carboxylate_dehydrogenase P5CD: 1pyr5c_c + 2.0 h2o_c + nad_c --> glu_L_c + h_c + nadh_c\n",
      "3_hydroxyacyl_CoA_dehydrogenase__n_12_1_ HACOADH121: 3hcdd5ecoa_c + nad_c <=> 3ocdd5ecoa_c + h_c + nadh_c\n",
      "precorrin_2_dehydrogenase SHCHD2: dscl_c + nad_c <=> h_c + nadh_c + scl_c\n",
      "erythronate_4_phosphate_dehydrogenase PERD: 4per_c + nad_c <=> h_c + nadh_c + ohpb_c\n",
      "UDP_glucose_6_dehydrogenase UDPGDr: h2o_c + 2.0 nad_c + udpg_c <=> 3.0 h_c + 2.0 nadh_c + udpglcur_c\n",
      "glyceraldehyde_3_phosphate_dehydrogenase GAPD: g3p_c + nad_c + pi_c <=> 13dpg_c + h_c + nadh_c\n",
      "S_lactate_dehydrogenase LDH_L: lac_L_c + nad_c <=> h_c + nadh_c + pyr_c\n",
      "3_isopropylmalate_dehydrogenase IPMD2r: 3c3hmp_c + nad_c <=> 3c4mop_c + h_c + nadh_c\n",
      "lactaldehyde_dehydrogenase LCAD: h2o_c + lald_L_c + nad_c --> 2.0 h_c + lac_L_c + nadh_c\n",
      "3_hydroxyacyl_CoA_dehydrogenase__n_12_0_ HACD5: 3hddcoa_c + nad_c <=> 3oddcoa_c + h_c + nadh_c\n",
      "histidinol_dehydrogenase HISTD: histd_c + nad_c --> h_c + histda_c + nadh_c\n",
      "3_hydroxyacyl_CoA_dehydrogenase__n_8_0_ HACD3: 3hocoa_c + nad_c <=> 3oocoa_c + h_c + nadh_c\n",
      "3_hydroxyacyl_CoA_dehydrogenase__n_4_0_ HACD1: 3hbcoa_c + nad_c <=> aacoa_c + h_c + nadh_c\n",
      "glyoxylate_reductase GLYCLTDx: glx_c + h_c + nadh_c <=> glyclt_c + nad_c\n",
      "malate_dehydrogenase__decarboxylating_ MALDHDC: mal_L_c + nad_c --> co2_c + nadh_c + pyr_c\n",
      "malate_dehydrogenase MDH: mal_L_c + nad_c <=> h_c + nadh_c + oaa_c\n",
      "D_beta_hydroxybutyrate_dehydrogenase BDH: bhb_c + nad_c <=> acac_c + h_c + nadh_c\n"
     ]
    }
   ],
   "source": [
    "for reaction in nadh_reactions:\n",
    "    print(reaction.name, reaction)"
   ]
  },
  {
   "cell_type": "code",
   "execution_count": 631,
   "metadata": {
    "ExecuteTime": {
     "end_time": "2019-11-26T05:57:06.924231Z",
     "start_time": "2019-11-26T05:57:06.870839Z"
    }
   },
   "outputs": [
    {
     "name": "stdout",
     "output_type": "stream",
     "text": [
      "PRODUCING REACTIONS -- NADH(2-) (nadh_c)\n",
      "----------------------------------------\n",
      "%      FLUX  RXN ID    REACTION\n",
      "---  ------  --------  --------------------------------------------------\n",
      "58%  12.3    FDH       for_c + nad_c --> co2_c + nadh_c\n",
      "41%   8.61   MDH       mal__L_c + nad_c --> h_c + nadh_c + oaa_c\n",
      "1%    0.218  ICDHxm    icit_c + nad_c --> akg_c + co2_c + nadh_c\n",
      "\n",
      "CONSUMING REACTIONS -- NADH(2-) (nadh_c)\n",
      "----------------------------------------\n",
      "%      FLUX  RXN ID    REACTION\n",
      "---  ------  --------  --------------------------------------------------\n",
      "87%  18.5    SMMOi     ch4_c + h_c + nadh_c + o2_c --> h2o_c + meoh_c ...\n",
      "7%    1.5    ALAD_L    h_c + nadh_c + nh4_c + pyr_c --> ala__L_c + h2o...\n",
      "7%    1.46   NADH16pp  4.0 h_c + nadh_c + q8_im --> 3.0 h_p + nad_c + ...\n"
     ]
    }
   ],
   "source": [
    "model_Bath.metabolites.nadh_c.summary()"
   ]
  },
  {
   "cell_type": "code",
   "execution_count": 633,
   "metadata": {
    "ExecuteTime": {
     "end_time": "2019-11-26T05:58:19.042930Z",
     "start_time": "2019-11-26T05:58:19.035785Z"
    }
   },
   "outputs": [
    {
     "data": {
      "text/plain": [
       "[<Reaction GLUDxi at 0x7fd7f3ea20b8>,\n",
       " <Reaction GCCc at 0x7fd7f3ea58d0>,\n",
       " <Reaction PGCD_GAPFILLING at 0x7fd7de80b908>,\n",
       " <Reaction AKGDH at 0x7fd7db143198>,\n",
       " <Reaction GLYCL at 0x7fd7f3e9a198>,\n",
       " <Reaction SHCHD2 at 0x7fd7e1642978>,\n",
       " <Reaction GAPD at 0x7fd7f3ea91d0>,\n",
       " <Reaction IMPD at 0x7fd7dea4a9e8>,\n",
       " <Reaction G3PD1 at 0x7fd7f3ead208>,\n",
       " <Reaction PDH at 0x7fd7de814a58>,\n",
       " <Reaction VALDHr at 0x7fd7dec16a58>,\n",
       " <Reaction FDH at 0x7fd7f3eb8278>,\n",
       " <Reaction NADTRHD at 0x7fd7dc5f0ac8>,\n",
       " <Reaction GLYCDx at 0x7fd7f3e9a358>,\n",
       " <Reaction ALCD2ir at 0x7fd7db199b70>,\n",
       " <Reaction ICDHxm at 0x7fd7dea75b70>,\n",
       " <Reaction UDPGD at 0x7fd7e004a390>,\n",
       " <Reaction 34DHOXPEGOX at 0x7fd7dfbbf438>,\n",
       " <Reaction DHORD_NADi at 0x7fd7df21bcc0>,\n",
       " <Reaction ME1 at 0x7fd7deb39cf8>,\n",
       " <Reaction PPND at 0x7fd7df012d30>,\n",
       " <Reaction IPMD at 0x7fd7dea4a630>,\n",
       " <Reaction NAD_H2 at 0x7fd7dc5f0ef0>,\n",
       " <Reaction OBDHc at 0x7fd7dccc0f60>,\n",
       " <Reaction MDH at 0x7fd7deb39780>,\n",
       " <Reaction HISTD_GAPFILLING at 0x7fd7de9d9f98>,\n",
       " <Reaction ALDD1 at 0x7fd7db18ffd0>]"
      ]
     },
     "execution_count": 633,
     "metadata": {},
     "output_type": "execute_result"
    }
   ],
   "source": [
    "[rxn for rxn in model_Bath.metabolites.nadh_c.reactions if rxn.reversibility or model_Bath.metabolites.nadh_c in rxn.products]"
   ]
  },
  {
   "cell_type": "code",
   "execution_count": 634,
   "metadata": {
    "ExecuteTime": {
     "end_time": "2019-11-26T05:59:06.557484Z",
     "start_time": "2019-11-26T05:59:06.554125Z"
    }
   },
   "outputs": [],
   "source": [
    "model.reactions.ALDD1.knock_out()"
   ]
  },
  {
   "cell_type": "code",
   "execution_count": 636,
   "metadata": {
    "ExecuteTime": {
     "end_time": "2019-11-26T05:59:28.149056Z",
     "start_time": "2019-11-26T05:59:28.107795Z"
    }
   },
   "outputs": [
    {
     "name": "stdout",
     "output_type": "stream",
     "text": [
      "PRODUCING REACTIONS -- NADH (nadh_c)\n",
      "------------------------------------\n",
      "%      FLUX  RXN ID    REACTION\n",
      "---  ------  --------  --------------------------------------------------\n",
      "57%  3.23    FDHr      for_c + nad_c <=> co2_c + nadh_c\n",
      "38%  2.15    MLMPTDH   mlh4mpt_c + nad_c --> meh4mpt_c + nadh_c\n",
      "4%   0.244   BDH       bhb_c + nad_c <=> acac_c + h_c + nadh_c\n",
      "1%   0.0782  PGCDr     3pg_c + nad_c <=> 3php_c + h_c + nadh_c\n",
      "\n",
      "CONSUMING REACTIONS -- NADH (nadh_c)\n",
      "------------------------------------\n",
      "%      FLUX  RXN ID    REACTION\n",
      "---  ------  --------  --------------------------------------------------\n",
      "72%  4.08    NADH11    5.0 h_c + nadh_c + q_c --> 4.0 h_p + nad_c + qh2_c\n",
      "16%  0.887   GLYD      h_c + hpyr_c + nadh_c <=> glyc_R_c + nad_c\n",
      "6%   0.344   MDH       mal_L_c + nad_c <=> h_c + nadh_c + oaa_c\n",
      "4%   0.256   HACD1     3hbcoa_c + nad_c <=> aacoa_c + h_c + nadh_c\n",
      "3%   0.16    GAPD      g3p_c + nad_c + pi_c <=> 13dpg_c + h_c + nadh_c\n"
     ]
    }
   ],
   "source": [
    "model.metabolites.nadh_c.summary()"
   ]
  },
  {
   "cell_type": "code",
   "execution_count": 637,
   "metadata": {
    "ExecuteTime": {
     "end_time": "2019-11-26T06:02:08.074088Z",
     "start_time": "2019-11-26T06:02:08.023738Z"
    }
   },
   "outputs": [
    {
     "name": "stdout",
     "output_type": "stream",
     "text": [
      "PRODUCING REACTIONS -- NADPH (nadph_c)\n",
      "--------------------------------------\n",
      "%      FLUX  RXN ID    REACTION\n",
      "---  ------  --------  --------------------------------------------------\n",
      "93%  1.08    MLMPTDHy  mlh4mpt_c + nadp_c --> meh4mpt_c + nadph_c\n",
      "4%   0.0498  ICDHyr    icit_c + nadp_c --> akg_c + co2_c + nadph_c\n",
      "2%   0.0263  MTHFD     methf_c + nadph_c <=> mlthf_c + nadp_c\n",
      "\n",
      "CONSUMING REACTIONS -- NADPH (nadph_c)\n",
      "--------------------------------------\n",
      "%      FLUX  RXN ID    REACTION\n",
      "---  ------  --------  --------------------------------------------------\n",
      "31%  0.353   GLUDy     akg_c + h_c + nadph_c + nh4_c --> glu_L_c + h2o...\n",
      "22%  0.256   AACOAR    aacoa_c + h_c + nadph_c --> nadp_c + r3hbcoa_c\n",
      "22%  0.256   CCRC      b2coa_c + co2_c + nadph_c <=> 2Sethmalcoa_c + n...\n",
      "3%   0.036   ASAD      4pasp_c + h_c + nadph_c <=> aspsa_c + nadp_c + ...\n",
      "3%   0.0354  KARA1     alac_S_c + h_c + nadph_c <=> 23dhmb_c + nadp_c\n",
      "2%   0.0264  TDPDRR    dtdp4d6dm_c + h_c + nadph_c <=> dtdprmn_c + nadp_c\n",
      "2%   0.0248  HSDyi     aspsa_c + h_c + nadph_c --> hom_L_c + nadp_c\n",
      "2%   0.0177  P5CR      1pyr5c_c + 2.0 h_c + nadph_c --> nadp_c + pro_L_c\n",
      "1%   0.0135  G5SD      glu5p_c + h_c + nadph_c <=> glu5sa_c + nadp_c +...\n",
      "1%   0.0124  AGPR      acg5p_c + h_c + nadph_c <=> acg5sa_c + nadp_c +...\n",
      "1%   0.0112  DHDPRy    23dhdp_c + h_c + nadph_c --> nadp_c + thdp_c\n"
     ]
    }
   ],
   "source": [
    "model.metabolites.nadph_c.summary()"
   ]
  },
  {
   "cell_type": "code",
   "execution_count": 638,
   "metadata": {
    "ExecuteTime": {
     "end_time": "2019-11-26T06:02:37.316113Z",
     "start_time": "2019-11-26T06:02:37.277445Z"
    }
   },
   "outputs": [
    {
     "name": "stdout",
     "output_type": "stream",
     "text": [
      "PRODUCING REACTIONS -- NAD(+) (nad_c)\n",
      "-------------------------------------\n",
      "%      FLUX  RXN ID    REACTION\n",
      "---  ------  --------  --------------------------------------------------\n",
      "86%  18.5    SMMOi     ch4_c + h_c + nadh_c + o2_c --> h2o_c + meoh_c ...\n",
      "7%    1.5    ALAD_L    h_c + nadh_c + nh4_c + pyr_c --> ala__L_c + h2o...\n",
      "7%    1.46   NADH16pp  4.0 h_c + nadh_c + q8_im --> 3.0 h_p + nad_c + ...\n",
      "\n",
      "CONSUMING REACTIONS -- NAD(+) (nad_c)\n",
      "-------------------------------------\n",
      "%      FLUX  RXN ID    REACTION\n",
      "---  ------  --------  --------------------------------------------------\n",
      "58%  12.3    FDH       for_c + nad_c --> co2_c + nadh_c\n",
      "40%   8.61   MDH       mal__L_c + nad_c --> h_c + nadh_c + oaa_c\n",
      "1%    0.218  ICDHxm    icit_c + nad_c --> akg_c + co2_c + nadh_c\n"
     ]
    }
   ],
   "source": [
    "model_Bath.metabolites.nad_c.summary()"
   ]
  },
  {
   "cell_type": "markdown",
   "metadata": {},
   "source": [
    "\"It has been suggested that most of the reducing power required for methane metabolism is produced by formaldehyde oxidation to formate and then to CO2. --> Idea: Check where the reducing power from methane metabolism comes from? You can do simulations for checking this idea\n",
    "NAD-dependent formate dehydrogenase from M. trichosporium OB3b has been purified and characterized (Jollie and Lipscomb, 1991). The enzyme is composed of four subunit types and contained flavin, iron, and molybdenum (Jollie and Lipscomb, 1991). The genome of M. trichosporium OB3b predicts one NAD-dependent molybdenum-containing formate dehydrogenase encoded by fdsABGCD and an additional single copy of the alpha subunit (fdhA). The two genes fdsA and fdhA share 81% identity. Only one of them, fdsA as well as the rest of the fds cluster genes were expressed in the transcriptome\" --> I think there is no way how I can constrain NADH, NADPH metabolism.\n",
    "<br><br>Reference: https://www.ncbi.nlm.nih.gov/pmc/articles/PMC3615186/#B5"
   ]
  },
  {
   "cell_type": "markdown",
   "metadata": {},
   "source": [
    "Save H_, NH3 and NADH-curated GEM:"
   ]
  },
  {
   "cell_type": "code",
   "execution_count": 656,
   "metadata": {
    "ExecuteTime": {
     "end_time": "2019-11-26T07:01:11.106076Z",
     "start_time": "2019-11-26T07:01:10.916694Z"
    }
   },
   "outputs": [],
   "source": [
    "cobra.io.save_json_model(model, memote_directory + draft_gems_dir_8 + \"bigg_OB3b_26_11_2019_2.json\")"
   ]
  },
  {
   "cell_type": "code",
   "execution_count": 655,
   "metadata": {
    "ExecuteTime": {
     "end_time": "2019-11-26T07:01:05.477056Z",
     "start_time": "2019-11-26T07:01:05.209568Z"
    }
   },
   "outputs": [],
   "source": [
    "cobra.io.write_sbml_model(model, memote_directory + draft_gems_dir_8 + \"bigg_OB3b_26_11_2019_2.xml\")"
   ]
  },
  {
   "cell_type": "code",
   "execution_count": 658,
   "metadata": {
    "ExecuteTime": {
     "end_time": "2019-11-26T07:01:22.520693Z",
     "start_time": "2019-11-26T07:01:22.435062Z"
    }
   },
   "outputs": [
    {
     "name": "stdout",
     "output_type": "stream",
     "text": [
      "IN FLUXES            OUT FLUXES    OBJECTIVES\n",
      "-------------------  ------------  -----------------------\n",
      "o2_e       6.38      h2o_e  7.39   Biomass_Mext...  0.0433\n",
      "ch4_e      4.08      co2_e  2.34\n",
      "nh4_e      0.424\n",
      "h_e        0.147\n",
      "pi_e       0.0303\n",
      "k_e        0.00799\n",
      "so4_e      0.00273\n",
      "mg2_e      0.000357\n",
      "fe2_e      0.000348\n",
      "ca2_e      0.000214\n",
      "cl_e       0.000214\n",
      "na1_e      0.000176\n",
      "mobd_e     0.000153\n",
      "cu2_e      0.000143\n",
      "mn2_e      0.000143\n",
      "zn2_e      0.000143\n",
      "cobalt2_e  9.52e-06\n"
     ]
    }
   ],
   "source": [
    "model.summary()"
   ]
  },
  {
   "cell_type": "markdown",
   "metadata": {},
   "source": [
    "#### Check GEM for sanity based on Palsson protocol + memote internal tests:"
   ]
  },
  {
   "cell_type": "markdown",
   "metadata": {},
   "source": [
    "This can be done later (as of 26/11/2019)"
   ]
  },
  {
   "cell_type": "code",
   "execution_count": null,
   "metadata": {},
   "outputs": [],
   "source": []
  }
 ],
 "metadata": {
  "kernelspec": {
   "display_name": "Python [conda env:GEM_py36]",
   "language": "python",
   "name": "conda-env-GEM_py36-py"
  },
  "language_info": {
   "codemirror_mode": {
    "name": "ipython",
    "version": 3
   },
   "file_extension": ".py",
   "mimetype": "text/x-python",
   "name": "python",
   "nbconvert_exporter": "python",
   "pygments_lexer": "ipython3",
   "version": "3.6.9"
  },
  "toc": {
   "base_numbering": 1,
   "nav_menu": {},
   "number_sections": true,
   "sideBar": true,
   "skip_h1_title": false,
   "title_cell": "Table of Contents",
   "title_sidebar": "Contents",
   "toc_cell": false,
   "toc_position": {
    "height": "calc(100% - 180px)",
    "left": "10px",
    "top": "150px",
    "width": "352.6px"
   },
   "toc_section_display": true,
   "toc_window_display": true
  },
  "varInspector": {
   "cols": {
    "lenName": 16,
    "lenType": 16,
    "lenVar": 40
   },
   "kernels_config": {
    "python": {
     "delete_cmd_postfix": "",
     "delete_cmd_prefix": "del ",
     "library": "var_list.py",
     "varRefreshCmd": "print(var_dic_list())"
    },
    "r": {
     "delete_cmd_postfix": ") ",
     "delete_cmd_prefix": "rm(",
     "library": "var_list.r",
     "varRefreshCmd": "cat(var_dic_list()) "
    }
   },
   "position": {
    "height": "279.85px",
    "left": "1530px",
    "right": "20px",
    "top": "129px",
    "width": "350px"
   },
   "types_to_exclude": [
    "module",
    "function",
    "builtin_function_or_method",
    "instance",
    "_Feature"
   ],
   "window_display": true
  }
 },
 "nbformat": 4,
 "nbformat_minor": 2
}
