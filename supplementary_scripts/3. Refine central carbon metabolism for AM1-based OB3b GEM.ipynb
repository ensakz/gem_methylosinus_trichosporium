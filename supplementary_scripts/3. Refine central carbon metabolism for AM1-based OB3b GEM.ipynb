{
 "cells": [
  {
   "cell_type": "markdown",
   "metadata": {},
   "source": [
    "I have to recheck central carbon metabolism to with the required gene reaction rules + cofactors that are really present in OB3b so that my predictions will be more or less accurate: The pathways I want to refine are:\n",
    "\n",
    "    Electron transport chain\n",
    "    Central carbon metabolism\n",
    "    Nitrogen metabolism\n",
    "    \n",
    "Implement version control after refinining this pathways\n",
    "<br>**Note:** Gene reaction rules and other information was changed according to 3. Pathway-to-pathway manual curation.ipynb file"
   ]
  },
  {
   "cell_type": "markdown",
   "metadata": {},
   "source": [
    "# Load dependencies"
   ]
  },
  {
   "cell_type": "code",
   "execution_count": 217,
   "metadata": {
    "ExecuteTime": {
     "end_time": "2020-01-14T08:28:16.764183Z",
     "start_time": "2020-01-14T08:28:16.759547Z"
    }
   },
   "outputs": [],
   "source": [
    "import cobra\n",
    "import libsbml\n",
    "import lxml\n",
    "\n",
    "models_directory = '/media/sf_Shared/Systems_biology/Metabolic_models/'\n",
    "OB3b_directory = '/media/sf_Shared/GEM_OB3b/'\n",
    "memote_directory = '/home/ensakz/Desktop/memote_m_trichosporium/'\n",
    "fastas_directory = '/media/sf_Shared/Systems_biology/Fastas_and_annotations/'\n",
    "inparanoid_directory = '/media/sf_Shared/Systems_biology/InParanoid_runs/'\n",
    "draft_gems_dir_8 = 'draft_gems/8.OB3b_draft_gem_during_pathway_manual_curation/'"
   ]
  },
  {
   "cell_type": "code",
   "execution_count": 221,
   "metadata": {
    "ExecuteTime": {
     "end_time": "2020-01-14T08:28:41.305349Z",
     "start_time": "2020-01-14T08:28:40.237647Z"
    }
   },
   "outputs": [],
   "source": [
    "model_OB3b = cobra.io.load_json_model(memote_directory + draft_gems_dir_8 + \"bigg_OB3b_02_01_2020.json\")"
   ]
  },
  {
   "cell_type": "code",
   "execution_count": 219,
   "metadata": {
    "ExecuteTime": {
     "end_time": "2020-01-14T08:28:19.552941Z",
     "start_time": "2020-01-14T08:28:18.317601Z"
    }
   },
   "outputs": [],
   "source": [
    "model_Bath = cobra.io.load_json_model(models_directory + \"iMcBath.json\")"
   ]
  },
  {
   "cell_type": "markdown",
   "metadata": {},
   "source": [
    "The model_OB3b_old corresponds to my old attempt to reconstruct genome-scale metabolic model for OB3b:"
   ]
  },
  {
   "cell_type": "code",
   "execution_count": 220,
   "metadata": {
    "ExecuteTime": {
     "end_time": "2020-01-14T08:28:21.783470Z",
     "start_time": "2020-01-14T08:28:19.568230Z"
    }
   },
   "outputs": [],
   "source": [
    "model_OB3b_old = cobra.io.load_json_model(memote_directory + draft_gems_dir_8 + \"iMsOB3b_11_14_2019.json\")"
   ]
  },
  {
   "cell_type": "markdown",
   "metadata": {},
   "source": [
    "# Change refseq into genbank gprs"
   ]
  },
  {
   "cell_type": "code",
   "execution_count": 5,
   "metadata": {
    "ExecuteTime": {
     "end_time": "2020-01-06T01:31:31.904825Z",
     "start_time": "2020-01-06T01:31:31.901744Z"
    }
   },
   "outputs": [],
   "source": [
    "model_OB3b.id = \"iMsOB3b\""
   ]
  },
  {
   "cell_type": "code",
   "execution_count": 7,
   "metadata": {
    "ExecuteTime": {
     "end_time": "2020-01-06T01:36:45.574913Z",
     "start_time": "2020-01-06T01:36:45.541208Z"
    }
   },
   "outputs": [
    {
     "data": {
      "text/plain": [
       "[<Gene META1_4439 at 0x7f04f6713710>,\n",
       " <Gene META1_4519 at 0x7f0525746a20>,\n",
       " <Gene META1_2535 at 0x7f04f5ad3940>,\n",
       " <Gene META1_3455 at 0x7f052575c160>,\n",
       " <Gene META1_3452 at 0x7f05263dd8d0>,\n",
       " <Gene META1_2235 at 0x7f04f65e21d0>,\n",
       " <Gene META1_3145 at 0x7f04f65e22b0>,\n",
       " <Gene META1_4408 at 0x7f0525456160>,\n",
       " <Gene META1_4585 at 0x7f04f251ecc0>,\n",
       " <Gene META1_4584 at 0x7f04f251ecf8>,\n",
       " <Gene META1_4583 at 0x7f04f251ed30>,\n",
       " <Gene META1_4310 at 0x7f04f251ed68>,\n",
       " <Gene META1_3082 at 0x7f04f251eda0>,\n",
       " <Gene META1_3652 at 0x7f04f251edd8>,\n",
       " <Gene META1_3477 at 0x7f04f251ee10>,\n",
       " <Gene META1_1551 at 0x7f04f251ee48>,\n",
       " <Gene META1_3478 at 0x7f04f251ee80>,\n",
       " <Gene META1_4582 at 0x7f04f251eeb8>,\n",
       " <Gene META2_0607 at 0x7f04f251eef0>,\n",
       " <Gene META1_0478 at 0x7f04f251ef28>,\n",
       " <Gene META1_2068 at 0x7f04f251ef60>,\n",
       " <Gene META1_5277 at 0x7f04f251ef98>,\n",
       " <Gene META1_1850 at 0x7f04f251efd0>,\n",
       " <Gene META1_2910 at 0x7f04f24a6048>,\n",
       " <Gene META1_0804 at 0x7f04f24a6080>,\n",
       " <Gene META1_0485 at 0x7f04f24a60b8>,\n",
       " <Gene META1_4617 at 0x7f04f24a60f0>,\n",
       " <Gene META1_3421 at 0x7f04f24a6128>,\n",
       " <Gene META1_0179 at 0x7f04f24a6160>,\n",
       " <Gene META2_1021 at 0x7f04f24a6198>,\n",
       " <Gene META1_0114 at 0x7f04f24a61d0>,\n",
       " <Gene META1_0116 at 0x7f04f24a6208>,\n",
       " <Gene META1_0117 at 0x7f04f24a6240>,\n",
       " <Gene META1_3473 at 0x7f04f24a6278>,\n",
       " <Gene META1_3469 at 0x7f04f24a62b0>,\n",
       " <Gene META1_3474 at 0x7f04f24a62e8>,\n",
       " <Gene META1_0115 at 0x7f04f24a6320>,\n",
       " <Gene META1_3169 at 0x7f04f24a6358>,\n",
       " <Gene META1_3148 at 0x7f04f24a6390>,\n",
       " <Gene META1_2923 at 0x7f04f24a63c8>,\n",
       " <Gene META1_1393 at 0x7f04f24a6400>,\n",
       " <Gene META1_2774 at 0x7f04f24a6438>,\n",
       " <Gene META1_2776 at 0x7f04f24a6470>,\n",
       " <Gene META1_2777 at 0x7f04f24a64a8>,\n",
       " <Gene META1_2770 at 0x7f04f24a64e0>,\n",
       " <Gene META1_2773 at 0x7f04f24a6518>,\n",
       " <Gene META1_2772 at 0x7f04f24a6550>,\n",
       " <Gene META1_2769 at 0x7f04f24a6588>,\n",
       " <Gene META1_2771 at 0x7f04f24a65c0>,\n",
       " <Gene META1_2497 at 0x7f04f24a65f8>,\n",
       " <Gene META1_1729 at 0x7f04f24a6630>,\n",
       " <Gene META1_1728 at 0x7f04f24a6668>,\n",
       " <Gene META1_3241 at 0x7f04f24a66a0>,\n",
       " <Gene META1_0342 at 0x7f04f24a66d8>,\n",
       " <Gene META1_4689 at 0x7f04f24a6710>,\n",
       " <Gene META1_0612 at 0x7f04f24a6748>,\n",
       " <Gene META1_3320 at 0x7f04f24a6780>,\n",
       " <Gene META1_3093 at 0x7f04f24a67b8>,\n",
       " <Gene META1_4513 at 0x7f04f24a67f0>,\n",
       " <Gene META1_3527 at 0x7f04f24a6828>,\n",
       " <Gene META1_2119 at 0x7f04f24a6860>,\n",
       " <Gene META1_2925 at 0x7f04f24a6898>,\n",
       " <Gene META1_3381 at 0x7f04f24a68d0>,\n",
       " <Gene META1_3665 at 0x7f04f24a6908>,\n",
       " <Gene META1_4616 at 0x7f04f24a6940>,\n",
       " <Gene META1_0622 at 0x7f04f24a6978>,\n",
       " <Gene META1_0620 at 0x7f04f24a69b0>,\n",
       " <Gene META1_0621 at 0x7f04f24a69e8>,\n",
       " <Gene META1_4701 at 0x7f04f24a6a20>,\n",
       " <Gene META1_3702 at 0x7f04f24a6a58>,\n",
       " <Gene META1_1327 at 0x7f04f24a6a90>,\n",
       " <Gene META1_0488 at 0x7f04f24a6ac8>,\n",
       " <Gene META1_3624 at 0x7f04f24a6b00>,\n",
       " <Gene META2_0600 at 0x7f04f24a6b38>,\n",
       " <Gene META1_1380 at 0x7f04f24a6b70>,\n",
       " <Gene META1_5121 at 0x7f04f24a6ba8>,\n",
       " <Gene META1_0694 at 0x7f04f24a6be0>,\n",
       " <Gene META1_5244 at 0x7f04f24a6c18>,\n",
       " <Gene META1_3364 at 0x7f04f24a6c50>,\n",
       " <Gene META1_0404 at 0x7f04f24a6c88>,\n",
       " <Gene META1_0403 at 0x7f04f24a6cc0>,\n",
       " <Gene META1_0405 at 0x7f04f24a6cf8>,\n",
       " <Gene META1_0390 at 0x7f04f24a6d30>,\n",
       " <Gene META1_0406 at 0x7f04f24a6d68>,\n",
       " <Gene META1_4884 at 0x7f04f24a6da0>,\n",
       " <Gene META1_3434 at 0x7f04f24a6dd8>,\n",
       " <Gene META1_0990 at 0x7f04f24a6e10>,\n",
       " <Gene META1_2171 at 0x7f04f24a6e48>,\n",
       " <Gene META1_0799 at 0x7f04f24a6e80>,\n",
       " <Gene META1_5071 at 0x7f04f24a6eb8>,\n",
       " <Gene META1_0546 at 0x7f04f24a6ef0>,\n",
       " <Gene META1_3135 at 0x7f04f24a6f28>,\n",
       " <Gene META1_3666 at 0x7f04f24a6f60>,\n",
       " <Gene META1_3662 at 0x7f04f24a6f98>,\n",
       " <Gene META1_4639 at 0x7f04f24a6fd0>,\n",
       " <Gene META1_0388 at 0x7f04f24b7048>,\n",
       " <Gene META1_5130 at 0x7f04f24b7080>,\n",
       " <Gene META1_0790 at 0x7f04f24b70b8>,\n",
       " <Gene META1_5208 at 0x7f04f24b70f0>,\n",
       " <Gene META1_5282 at 0x7f04f24b7128>,\n",
       " <Gene SP0001 at 0x7f04f24b7160>,\n",
       " <Gene META2_0870 at 0x7f04f24b7198>,\n",
       " <Gene META2_0097 at 0x7f04f24b71d0>,\n",
       " <Gene META1_1268 at 0x7f04f24b7208>,\n",
       " <Gene META1_3048 at 0x7f04f24b7240>,\n",
       " <Gene META1_3050 at 0x7f04f24b7278>,\n",
       " <Gene META1_3047 at 0x7f04f24b72b0>,\n",
       " <Gene META1_3198 at 0x7f04f24b72e8>,\n",
       " <Gene META1_1470 at 0x7f04f24b7320>,\n",
       " <Gene META1_1550 at 0x7f04f24b7358>,\n",
       " <Gene META1_4314 at 0x7f04f24b7390>,\n",
       " <Gene META1_5018 at 0x7f04f24b73c8>,\n",
       " <Gene META1_1974 at 0x7f04f24b7400>,\n",
       " <Gene META1_1408 at 0x7f04f24b7438>,\n",
       " <Gene META1_2490 at 0x7f04f24b7470>,\n",
       " <Gene META1_0364 at 0x7f04f24b74a8>,\n",
       " <Gene META1_1864 at 0x7f04f24b74e0>,\n",
       " <Gene META1_2370 at 0x7f04f24b7518>,\n",
       " <Gene META1_3319 at 0x7f04f24b7550>,\n",
       " <Gene META1_1540 at 0x7f04f24b7588>,\n",
       " <Gene META1_1542 at 0x7f04f24b75c0>,\n",
       " <Gene META1_1541 at 0x7f04f24b75f8>,\n",
       " <Gene META1_2718 at 0x7f04f24b7630>,\n",
       " <Gene META1_1808 at 0x7f04f24b7668>,\n",
       " <Gene META1_1324 at 0x7f04f24b76a0>,\n",
       " <Gene META1_3602 at 0x7f04f24b76d8>,\n",
       " <Gene META1_1689 at 0x7f04f24b7710>,\n",
       " <Gene META1_2079 at 0x7f04f24b7748>,\n",
       " <Gene META1_1861 at 0x7f04f24b7780>,\n",
       " <Gene META1_4949 at 0x7f04f24b77b8>,\n",
       " <Gene META1_2078 at 0x7f04f24b77f0>,\n",
       " <Gene META1_5006 at 0x7f04f24b7828>,\n",
       " <Gene META1_0178 at 0x7f04f24b7860>,\n",
       " <Gene META1_1523 at 0x7f04f24b7898>,\n",
       " <Gene META1_1524 at 0x7f04f24b78d0>,\n",
       " <Gene META1_4140 at 0x7f04f24b7908>,\n",
       " <Gene META1_0211 at 0x7f04f24b7940>,\n",
       " <Gene META1_1435 at 0x7f04f24b7978>,\n",
       " <Gene META1_1434 at 0x7f04f24b79b0>,\n",
       " <Gene META1_4642 at 0x7f04f24b79e8>,\n",
       " <Gene META1_0176 at 0x7f04f24b7a20>,\n",
       " <Gene META1_4936 at 0x7f04f24b7a58>,\n",
       " <Gene META1_3184 at 0x7f04f24b7a90>,\n",
       " <Gene META1_4339 at 0x7f04f24b7ac8>,\n",
       " <Gene META1_3271 at 0x7f04f24b7b00>,\n",
       " <Gene META1_0381 at 0x7f04f24b7b38>,\n",
       " <Gene META1_3234 at 0x7f04f24b7b70>,\n",
       " <Gene META1_1326 at 0x7f04f24b7ba8>,\n",
       " <Gene META1_0757 at 0x7f04f24b7be0>,\n",
       " <Gene META1_1940 at 0x7f04f24b7c18>,\n",
       " <Gene META1_0430 at 0x7f04f24b7c50>,\n",
       " <Gene META1_5175 at 0x7f04f24b7c88>,\n",
       " <Gene META1_3890 at 0x7f04f24b7cc0>,\n",
       " <Gene META1_4922 at 0x7f04f24b7cf8>,\n",
       " <Gene META1_3893 at 0x7f04f24b7d30>,\n",
       " <Gene META1_2095 at 0x7f04f24b7d68>,\n",
       " <Gene META1_4487 at 0x7f04f24b7da0>,\n",
       " <Gene META1_3166 at 0x7f04f24b7dd8>,\n",
       " <Gene META1_4464 at 0x7f04f24b7e10>,\n",
       " <Gene META2_1120 at 0x7f04f24b7e48>,\n",
       " <Gene META2_1117 at 0x7f04f24b7e80>,\n",
       " <Gene META1_4425 at 0x7f04f24b7eb8>,\n",
       " <Gene META1_1743 at 0x7f04f24b7ef0>,\n",
       " <Gene META1_1333 at 0x7f04f24b7f28>,\n",
       " <Gene META1_1332 at 0x7f04f24b7f60>,\n",
       " <Gene META2_0021 at 0x7f04f24b7f98>,\n",
       " <Gene META1_0872 at 0x7f04f24b7fd0>,\n",
       " <Gene META1_4544 at 0x7f04f24c7048>,\n",
       " <Gene META1_2271 at 0x7f04f24c7080>,\n",
       " <Gene META1_2512 at 0x7f04f24c70b8>,\n",
       " <Gene META1_2870 at 0x7f04f24c70f0>,\n",
       " <Gene META1_4458 at 0x7f04f24c7128>,\n",
       " <Gene META1_2926 at 0x7f04f24c7160>,\n",
       " <Gene META1_3170 at 0x7f04f24c7198>,\n",
       " <Gene META1_2922 at 0x7f04f24c71d0>,\n",
       " <Gene META1_4092 at 0x7f04f24c7208>,\n",
       " <Gene META1_3277 at 0x7f04f24c7240>,\n",
       " <Gene META1_3537 at 0x7f04f24c7278>,\n",
       " <Gene META1_0439 at 0x7f04f24c72b0>,\n",
       " <Gene META1_3538 at 0x7f04f24c72e8>,\n",
       " <Gene META1_0988 at 0x7f04f24c7320>,\n",
       " <Gene META1_0999 at 0x7f04f24c7358>,\n",
       " <Gene META1_5191 at 0x7f04f24c7390>,\n",
       " <Gene META1_1436 at 0x7f04f24c73c8>,\n",
       " <Gene META1_0232 at 0x7f04f24c7400>,\n",
       " <Gene META1_4888 at 0x7f04f24c7438>,\n",
       " <Gene META1_4876 at 0x7f04f24c7470>,\n",
       " <Gene META1_0774 at 0x7f04f24c74a8>,\n",
       " <Gene META1_3670 at 0x7f04f24c74e0>,\n",
       " <Gene META1_2563 at 0x7f04f24c7518>,\n",
       " <Gene META1_2562 at 0x7f04f24c7550>,\n",
       " <Gene META1_2565 at 0x7f04f24c7588>,\n",
       " <Gene META1_2564 at 0x7f04f24c75c0>,\n",
       " <Gene META1_2558 at 0x7f04f24c75f8>,\n",
       " <Gene META1_2566 at 0x7f04f24c7630>,\n",
       " <Gene META1_2568 at 0x7f04f24c7668>,\n",
       " <Gene META1_2567 at 0x7f04f24c76a0>,\n",
       " <Gene META1_2561 at 0x7f04f24c76d8>,\n",
       " <Gene META1_3168 at 0x7f04f24c7710>,\n",
       " <Gene META2_1135 at 0x7f04f24c7748>,\n",
       " <Gene META1_3173 at 0x7f04f24c7780>,\n",
       " <Gene META1_3529 at 0x7f04f24c77b8>,\n",
       " <Gene META1_0776 at 0x7f04f24c77f0>,\n",
       " <Gene META1_3655 at 0x7f04f24c7828>,\n",
       " <Gene META1_3910 at 0x7f04f24c7860>,\n",
       " <Gene META1_3700 at 0x7f04f24c7898>,\n",
       " <Gene META1_1545 at 0x7f04f24c78d0>,\n",
       " <Gene META1_1548 at 0x7f04f24c7908>,\n",
       " <Gene META1_4111 at 0x7f04f24c7940>,\n",
       " <Gene META1_4110 at 0x7f04f24c7978>,\n",
       " <Gene META1_4109 at 0x7f04f24c79b0>,\n",
       " <Gene META1_4108 at 0x7f04f24c79e8>,\n",
       " <Gene META1_1546 at 0x7f04f24c7a20>,\n",
       " <Gene META1_1547 at 0x7f04f24c7a58>,\n",
       " <Gene META1_0918 at 0x7f04f24c7a90>,\n",
       " <Gene META1_4943 at 0x7f04f24c7ac8>,\n",
       " <Gene META1_0920 at 0x7f04f24c7b00>,\n",
       " <Gene META1_4944 at 0x7f04f24c7b38>,\n",
       " <Gene META1_0919 at 0x7f04f24c7b70>,\n",
       " <Gene META1_4942 at 0x7f04f24c7ba8>,\n",
       " <Gene META1_1122 at 0x7f04f24c7be0>,\n",
       " <Gene META1_4733 at 0x7f04f24c7c18>,\n",
       " <Gene META1_4734 at 0x7f04f24c7c50>,\n",
       " <Gene META1_4206 at 0x7f04f24c7c88>,\n",
       " <Gene META1_1952 at 0x7f04f24c7cc0>,\n",
       " <Gene META2_1122 at 0x7f04f24c7cf8>,\n",
       " <Gene META1_0527 at 0x7f04f24c7d30>,\n",
       " <Gene META1_4732 at 0x7f04f24c7d68>,\n",
       " <Gene META1_4731 at 0x7f04f24c7da0>,\n",
       " <Gene META2_1123 at 0x7f04f24c7dd8>,\n",
       " <Gene META1_4205 at 0x7f04f24c7e10>,\n",
       " <Gene META1_1740 at 0x7f04f24c7e48>,\n",
       " <Gene META1_4538 at 0x7f04f24c7e80>,\n",
       " <Gene META1_4535 at 0x7f04f24c7eb8>,\n",
       " <Gene META1_3220 at 0x7f04f24c7ef0>,\n",
       " <Gene META1_1815 at 0x7f04f24c7f28>,\n",
       " <Gene META1_4618 at 0x7f04f24c7f60>,\n",
       " <Gene META1_0613 at 0x7f04f24c7f98>,\n",
       " <Gene META1_0426 at 0x7f04f24c7fd0>,\n",
       " <Gene META1_0027 at 0x7f04f24d7048>,\n",
       " <Gene META1_0049 at 0x7f04f24d7080>,\n",
       " <Gene META1_4890 at 0x7f04f24d70b8>,\n",
       " <Gene META1_2996 at 0x7f04f24d70f0>,\n",
       " <Gene META1_3206 at 0x7f04f24d7128>,\n",
       " <Gene META1_3197 at 0x7f04f24d7160>,\n",
       " <Gene META1_0363 at 0x7f04f24d7198>,\n",
       " <Gene META1_1539 at 0x7f04f24d71d0>,\n",
       " <Gene META1_1538 at 0x7f04f24d7208>,\n",
       " <Gene META1_0140 at 0x7f04f24d7240>,\n",
       " <Gene META1_2872 at 0x7f04f24d7278>,\n",
       " <Gene META1_3097 at 0x7f04f24d72b0>,\n",
       " <Gene META1_3660 at 0x7f04f24d72e8>,\n",
       " <Gene META1_2713 at 0x7f04f24d7320>,\n",
       " <Gene META1_0712 at 0x7f04f24d7358>,\n",
       " <Gene META1_3424 at 0x7f04f24d7390>,\n",
       " <Gene META1_1458 at 0x7f04f24d73c8>,\n",
       " <Gene META1_4867 at 0x7f04f24d7400>,\n",
       " <Gene META1_0425 at 0x7f04f24d7438>,\n",
       " <Gene META1_2531 at 0x7f04f24d7470>,\n",
       " <Gene META1_4877 at 0x7f04f24d74a8>,\n",
       " <Gene META1_2017 at 0x7f04f24d74e0>,\n",
       " <Gene META1_2533 at 0x7f04f24d7518>,\n",
       " <Gene META1_0927 at 0x7f04f24d7550>,\n",
       " <Gene META1_5125 at 0x7f04f24d7588>,\n",
       " <Gene META1_1486 at 0x7f04f24d75c0>,\n",
       " <Gene META1_5274 at 0x7f04f24d75f8>,\n",
       " <Gene META1_0184 at 0x7f04f24d7630>,\n",
       " <Gene META2_1058 at 0x7f04f24d7668>,\n",
       " <Gene META1_3217 at 0x7f04f24d76a0>,\n",
       " <Gene META1_3528 at 0x7f04f24d76d8>,\n",
       " <Gene META1_4700 at 0x7f04f24d7710>,\n",
       " <Gene META1_0772 at 0x7f04f24d7748>,\n",
       " <Gene META1_2843 at 0x7f04f24d7780>,\n",
       " <Gene META1_3049 at 0x7f04f24d77b8>,\n",
       " <Gene META1_5200 at 0x7f04f24d77f0>,\n",
       " <Gene META1_3806 at 0x7f04f24d7828>,\n",
       " <Gene META1_0387 at 0x7f04f24d7860>,\n",
       " <Gene META1_5124 at 0x7f04f24d7898>,\n",
       " <Gene META1_4996 at 0x7f04f24d78d0>,\n",
       " <Gene META1_2491 at 0x7f04f24d7908>,\n",
       " <Gene META1_5229 at 0x7f04f24d7940>,\n",
       " <Gene META1_3441 at 0x7f04f24d7978>,\n",
       " <Gene META1_3440 at 0x7f04f24d79b0>,\n",
       " <Gene META1_0498 at 0x7f04f24d79e8>,\n",
       " <Gene META1_2927 at 0x7f04f24d7a20>,\n",
       " <Gene META1_2929 at 0x7f04f24d7a58>,\n",
       " <Gene META1_2928 at 0x7f04f24d7a90>,\n",
       " <Gene META1_1961 at 0x7f04f24d7ac8>,\n",
       " <Gene META1_2053 at 0x7f04f24d7b00>,\n",
       " <Gene META1_2702 at 0x7f04f24d7b38>,\n",
       " <Gene META1_3915 at 0x7f04f24d7b70>,\n",
       " <Gene META1_3171 at 0x7f04f24d7ba8>,\n",
       " <Gene META1_5193 at 0x7f04f24d7be0>,\n",
       " <Gene META1_3072 at 0x7f04f24d7c18>,\n",
       " <Gene META1_3071 at 0x7f04f24d7c50>,\n",
       " <Gene META1_4094 at 0x7f04f24d7c88>,\n",
       " <Gene META1_5318 at 0x7f04f24d7cc0>,\n",
       " <Gene META1_1813 at 0x7f04f24d7cf8>,\n",
       " <Gene META1_4706 at 0x7f04f24d7d30>,\n",
       " <Gene META1_5143 at 0x7f04f24d7d68>,\n",
       " <Gene META1_3304 at 0x7f04f24d7da0>,\n",
       " <Gene META1_3861 at 0x7f04f24d7dd8>,\n",
       " <Gene META1_3859 at 0x7f04f24d7e10>,\n",
       " <Gene META1_3860 at 0x7f04f24d7e48>,\n",
       " <Gene META1_3863 at 0x7f04f24d7e80>,\n",
       " <Gene META1_3018 at 0x7f04f24d7eb8>,\n",
       " <Gene META1_3521 at 0x7f04f24d7ef0>,\n",
       " <Gene META1_0339 at 0x7f04f24d7f28>,\n",
       " <Gene META1_2334 at 0x7f04f24d7f60>,\n",
       " <Gene META1_2323 at 0x7f04f24d7f98>,\n",
       " <Gene META1_4985 at 0x7f04f24d7fd0>,\n",
       " <Gene META1_5100 at 0x7f04f2468048>,\n",
       " <Gene META1_3334 at 0x7f04f2468080>,\n",
       " <Gene META1_0028 at 0x7f04f24680b8>,\n",
       " <Gene META1_4916 at 0x7f04f24680f0>,\n",
       " <Gene META1_0427 at 0x7f04f2468128>,\n",
       " <Gene META1_3510 at 0x7f04f2468160>,\n",
       " <Gene META1_2518 at 0x7f04f2468198>,\n",
       " <Gene META1_2707 at 0x7f04f24681d0>,\n",
       " <Gene META1_5053 at 0x7f04f2468208>,\n",
       " <Gene META1_1363 at 0x7f04f2468240>,\n",
       " <Gene META1_1221 at 0x7f04f2468278>,\n",
       " <Gene META1_0424 at 0x7f04f24682b0>,\n",
       " <Gene META1_0010 at 0x7f04f24682e8>,\n",
       " <Gene META1_4360 at 0x7f04f2468320>,\n",
       " <Gene META1_4307 at 0x7f04f2468358>,\n",
       " <Gene META1_2299 at 0x7f04f2468390>,\n",
       " <Gene META1_2864 at 0x7f04f24683c8>,\n",
       " <Gene META1_3406 at 0x7f04f2468400>,\n",
       " <Gene META1_2749 at 0x7f04f2468438>,\n",
       " <Gene META1_2941 at 0x7f04f2468470>,\n",
       " <Gene META1_0768 at 0x7f04f24684a8>,\n",
       " <Gene META1_1893 at 0x7f04f24684e0>,\n",
       " <Gene META1_2896 at 0x7f04f2468518>,\n",
       " <Gene META1_2272 at 0x7f04f2468550>,\n",
       " <Gene META1_2601 at 0x7f04f2468588>,\n",
       " <Gene META1_2233 at 0x7f04f24685c0>,\n",
       " <Gene META1_4236 at 0x7f04f24685f8>,\n",
       " <Gene META2_0363 at 0x7f04f2468630>,\n",
       " <Gene META1_3632 at 0x7f04f2468668>,\n",
       " <Gene META1_2380 at 0x7f04f24686a0>,\n",
       " <Gene META1_1214 at 0x7f04f24686d8>,\n",
       " <Gene META1_2232 at 0x7f04f2468710>,\n",
       " <Gene META1_1733 at 0x7f04f2468748>,\n",
       " <Gene META1_2263 at 0x7f04f2468780>,\n",
       " <Gene META1_2857 at 0x7f04f24687b8>,\n",
       " <Gene META1_1338 at 0x7f04f24687f0>,\n",
       " <Gene META1_0805 at 0x7f04f2468828>,\n",
       " <Gene META1_2473 at 0x7f04f2468860>,\n",
       " <Gene META1_1760 at 0x7f04f2468898>,\n",
       " <Gene META2_0203 at 0x7f04f24688d0>,\n",
       " <Gene META1_2828 at 0x7f04f2468908>,\n",
       " <Gene META1_0535 at 0x7f04f2468940>,\n",
       " <Gene META1_5270 at 0x7f04f2468978>,\n",
       " <Gene META1_0682 at 0x7f04f24689b0>,\n",
       " <Gene META1_1469 at 0x7f04f24689e8>,\n",
       " <Gene META1_4319 at 0x7f04f2468a20>,\n",
       " <Gene META1_1968 at 0x7f04f2468a58>,\n",
       " <Gene META2_1124 at 0x7f04f2468a90>,\n",
       " <Gene META1_0249 at 0x7f04f2468ac8>,\n",
       " <Gene META1_5261 at 0x7f04f2468b00>,\n",
       " <Gene META1_0770 at 0x7f04f2468b38>,\n",
       " <Gene META1_0369 at 0x7f04f2468b70>,\n",
       " <Gene META1_2335 at 0x7f04f2468ba8>,\n",
       " <Gene META1_5279 at 0x7f04f2468be0>,\n",
       " <Gene META1_2367 at 0x7f04f2468c18>,\n",
       " <Gene META1_3601 at 0x7f04f2468c50>,\n",
       " <Gene META1_2883 at 0x7f04f2468c88>,\n",
       " <Gene META1_2624 at 0x7f04f2468cc0>,\n",
       " <Gene META1_2981 at 0x7f04f2468cf8>,\n",
       " <Gene META1_2008 at 0x7f04f2468d30>,\n",
       " <Gene META1_3682 at 0x7f04f2468d68>,\n",
       " <Gene META1_0559 at 0x7f04f2468da0>,\n",
       " <Gene META1_2956 at 0x7f04f2468dd8>,\n",
       " <Gene META1_2958 at 0x7f04f2468e10>,\n",
       " <Gene META1_2957 at 0x7f04f2468e48>,\n",
       " <Gene META1_1401 at 0x7f04f2468e80>,\n",
       " <Gene META1_0180 at 0x7f04f2468eb8>,\n",
       " <Gene META1_2714 at 0x7f04f2468ef0>,\n",
       " <Gene META1_3003 at 0x7f04f2468f28>,\n",
       " <Gene META1_1761 at 0x7f04f2468f60>,\n",
       " <Gene META1_1079 at 0x7f04f2468f98>,\n",
       " <Gene META1_4597 at 0x7f04f2468fd0>,\n",
       " <Gene META1_0419 at 0x7f04f2478048>,\n",
       " <Gene META1_4189 at 0x7f04f2478080>,\n",
       " <Gene META1_1376 at 0x7f04f24780b8>,\n",
       " <Gene META1_4122 at 0x7f04f24780f0>,\n",
       " <Gene META1_2924 at 0x7f04f2478128>,\n",
       " <Gene META1_1535 at 0x7f04f2478160>,\n",
       " <Gene META1_4794 at 0x7f04f2478198>,\n",
       " <Gene META1_0858 at 0x7f04f24781d0>,\n",
       " <Gene META1_0440 at 0x7f04f2478208>,\n",
       " <Gene META1_2863 at 0x7f04f2478240>,\n",
       " <Gene META1_0428 at 0x7f04f2478278>,\n",
       " <Gene META1_0864 at 0x7f04f24782b0>,\n",
       " <Gene META1_1217 at 0x7f04f24782e8>,\n",
       " <Gene META1_3370 at 0x7f04f2478320>,\n",
       " <Gene META1_2979 at 0x7f04f2478358>,\n",
       " <Gene META1_4201 at 0x7f04f2478390>,\n",
       " <Gene META1_3307 at 0x7f04f24783c8>,\n",
       " <Gene META1_3311 at 0x7f04f2478400>,\n",
       " <Gene META1_0131 at 0x7f04f2478438>,\n",
       " <Gene META1_0128 at 0x7f04f2478470>,\n",
       " <Gene META1_0130 at 0x7f04f24784a8>,\n",
       " <Gene META1_0594 at 0x7f04f24784e0>,\n",
       " <Gene META1_2035 at 0x7f04f2478518>,\n",
       " <Gene META1_5087 at 0x7f04f2478550>,\n",
       " <Gene META1_1527 at 0x7f04f2478588>,\n",
       " <Gene META1_4707 at 0x7f04f24785c0>,\n",
       " <Gene META1_2537 at 0x7f04f24785f8>,\n",
       " <Gene META1_1937 at 0x7f04f2478630>,\n",
       " <Gene META1_1936 at 0x7f04f2478668>,\n",
       " <Gene META1_2519 at 0x7f04f24786a0>,\n",
       " <Gene META1_2517 at 0x7f04f24786d8>,\n",
       " <Gene META1_2853 at 0x7f04f2478710>,\n",
       " <Gene META1_2045 at 0x7f04f2478748>,\n",
       " <Gene META1_3918 at 0x7f04f2478780>,\n",
       " <Gene META1_1385 at 0x7f04f24787b8>,\n",
       " <Gene META1_0037 at 0x7f04f24787f0>,\n",
       " <Gene META1_0991 at 0x7f04f2478828>,\n",
       " <Gene META1_4569 at 0x7f04f2478860>,\n",
       " <Gene META1_0377 at 0x7f04f2478898>,\n",
       " <Gene META1_4313 at 0x7f04f24788d0>,\n",
       " <Gene META1_2077 at 0x7f04f2478908>,\n",
       " <Gene META1_4955 at 0x7f04f2478940>,\n",
       " <Gene META1_4993 at 0x7f04f2478978>,\n",
       " <Gene META2_1226 at 0x7f04f24789b0>,\n",
       " <Gene META1_4469 at 0x7f04f24789e8>,\n",
       " <Gene META1_5043 at 0x7f04f2478a20>,\n",
       " <Gene META1_4694 at 0x7f04f2478a58>,\n",
       " <Gene META1_4598 at 0x7f04f2478a90>,\n",
       " <Gene META1_1822 at 0x7f04f2478ac8>,\n",
       " <Gene META1_3235 at 0x7f04f2478b00>,\n",
       " <Gene META1_2389 at 0x7f04f2478b38>,\n",
       " <Gene META1_4982 at 0x7f04f2478b70>,\n",
       " <Gene META1_1732 at 0x7f04f2478ba8>,\n",
       " <Gene META1_2060 at 0x7f04f2478be0>,\n",
       " <Gene META1_3203 at 0x7f04f2478c18>,\n",
       " <Gene META1_0172 at 0x7f04f2478c50>,\n",
       " <Gene META1_0050 at 0x7f04f2478c88>,\n",
       " <Gene META1_1337 at 0x7f04f2478cc0>,\n",
       " <Gene META1_1379 at 0x7f04f2478cf8>,\n",
       " <Gene META1_0329 at 0x7f04f2478d30>,\n",
       " <Gene META1_2327 at 0x7f04f2478d68>,\n",
       " <Gene META1_2836 at 0x7f04f2478da0>,\n",
       " <Gene META1_3613 at 0x7f04f2478dd8>,\n",
       " <Gene META1_2846 at 0x7f04f2478e10>,\n",
       " <Gene META1_3344 at 0x7f04f2478e48>,\n",
       " <Gene META1_0758 at 0x7f04f2478e80>,\n",
       " <Gene META1_4950 at 0x7f04f2478eb8>,\n",
       " <Gene META1_1862 at 0x7f04f2478ef0>,\n",
       " <Gene META2_0242 at 0x7f04f2478f28>,\n",
       " <Gene META1_2852 at 0x7f04f2478f60>,\n",
       " <Gene META1_5056 at 0x7f04f2478f98>,\n",
       " <Gene META1_0359 at 0x7f04f2478fd0>,\n",
       " <Gene META1_4683 at 0x7f04f2489048>,\n",
       " <Gene META1_1755 at 0x7f04f2489080>,\n",
       " <Gene META1_1756 at 0x7f04f24890b8>,\n",
       " <Gene META1_1758 at 0x7f04f24890f0>,\n",
       " <Gene META1_1757 at 0x7f04f2489128>,\n",
       " <Gene META1_4348 at 0x7f04f2489160>,\n",
       " <Gene META1_4346 at 0x7f04f2489198>,\n",
       " <Gene META1_4349 at 0x7f04f24891d0>,\n",
       " <Gene META1_4347 at 0x7f04f2489208>,\n",
       " <Gene META1_2351 at 0x7f04f2489240>,\n",
       " <Gene META1_4915 at 0x7f04f2489278>,\n",
       " <Gene META1_5263 at 0x7f04f24892b0>,\n",
       " <Gene META1_5249 at 0x7f04f24892e8>,\n",
       " <Gene META1_0556 at 0x7f04f2489320>,\n",
       " <Gene META1_4578 at 0x7f04f2489358>,\n",
       " <Gene META1_0619 at 0x7f04f2489390>,\n",
       " <Gene META1_0681 at 0x7f04f24893c8>,\n",
       " <Gene META1_4312 at 0x7f04f2489400>,\n",
       " <Gene META1_2520 at 0x7f04f2489438>,\n",
       " <Gene META1_1439 at 0x7f04f2489470>,\n",
       " <Gene META1_3373 at 0x7f04f24894a8>,\n",
       " <Gene META1_1415 at 0x7f04f24894e0>,\n",
       " <Gene META1_2118 at 0x7f04f2489518>,\n",
       " <Gene META1_0830 at 0x7f04f2489550>,\n",
       " <Gene META1_1529 at 0x7f04f2489588>,\n",
       " <Gene META1_2507 at 0x7f04f24895c0>,\n",
       " <Gene META1_2054 at 0x7f04f24895f8>,\n",
       " <Gene META1_1336 at 0x7f04f2489630>,\n",
       " <Gene META1_1490 at 0x7f04f2489668>,\n",
       " <Gene META1_0233 at 0x7f04f24896a0>,\n",
       " <Gene META1_4118 at 0x7f04f24896d8>,\n",
       " <Gene META1_5136 at 0x7f04f2489710>,\n",
       " <Gene META1_1985 at 0x7f04f2489748>,\n",
       " <Gene META1_0773 at 0x7f04f2489780>,\n",
       " <Gene META1_2086 at 0x7f04f24897b8>,\n",
       " <Gene META1_5221 at 0x7f04f24897f0>,\n",
       " <Gene META1_2369 at 0x7f04f2489828>,\n",
       " <Gene META1_4723 at 0x7f04f2489860>,\n",
       " <Gene META1_4546 at 0x7f04f2489898>,\n",
       " <Gene META1_5084 at 0x7f04f24898d0>,\n",
       " <Gene META1_1116 at 0x7f04f2489908>,\n",
       " <Gene META1_2472 at 0x7f04f2489940>,\n",
       " <Gene META1_4686 at 0x7f04f2489978>,\n",
       " <Gene META1_1218 at 0x7f04f24899b0>,\n",
       " <Gene META1_1763 at 0x7f04f24899e8>,\n",
       " <Gene META1_1866 at 0x7f04f2489a20>,\n",
       " <Gene META1_5284 at 0x7f04f2489a58>,\n",
       " <Gene META1_4303 at 0x7f04f2489a90>,\n",
       " <Gene META1_4633 at 0x7f04f2489ac8>,\n",
       " <Gene META1_2230 at 0x7f04f2489b00>,\n",
       " <Gene META1_2848 at 0x7f04f2489b38>,\n",
       " <Gene META1_2137 at 0x7f04f2489b70>,\n",
       " <Gene META1_4277 at 0x7f04f2489ba8>,\n",
       " <Gene META1_5245 at 0x7f04f2489be0>,\n",
       " <Gene META1_2977 at 0x7f04f2489c18>,\n",
       " <Gene META1_1819 at 0x7f04f2489c50>,\n",
       " <Gene META1_5086 at 0x7f04f2489c88>,\n",
       " <Gene META1_2969 at 0x7f04f2489cc0>,\n",
       " <Gene META1_4465 at 0x7f04f2489cf8>,\n",
       " <Gene META1_3472 at 0x7f04f2489d30>,\n",
       " <Gene META1_5182 at 0x7f04f2489d68>,\n",
       " <Gene META1_4920 at 0x7f04f2489da0>,\n",
       " <Gene META1_4341 at 0x7f04f2489dd8>,\n",
       " <Gene META1_0733 at 0x7f04f2489e10>,\n",
       " <Gene META1_3063 at 0x7f04f2489e48>,\n",
       " <Gene META1_3015 at 0x7f04f2489e80>,\n",
       " <Gene META1_1654 at 0x7f04f2489eb8>,\n",
       " <Gene META1_3923 at 0x7f04f2489ef0>,\n",
       " <Gene META1_4523 at 0x7f04f2489f28>,\n",
       " <Gene META1_5250 at 0x7f04f2489f60>,\n",
       " <Gene META1_4124 at 0x7f04f2489f98>,\n",
       " <Gene META1_1685 at 0x7f04f2489fd0>,\n",
       " <Gene META1_3413 at 0x7f04f2498048>,\n",
       " <Gene META1_0105 at 0x7f04f2498080>,\n",
       " <Gene META1_0486 at 0x7f04f24980b8>,\n",
       " <Gene META1_1891 at 0x7f04f24980f0>,\n",
       " <Gene META1_2128 at 0x7f04f2498128>,\n",
       " <Gene META1_0207 at 0x7f04f2498160>,\n",
       " <Gene META1_3265 at 0x7f04f2498198>,\n",
       " <Gene META1_2989 at 0x7f04f24981d0>,\n",
       " <Gene META1_2986 at 0x7f04f2498208>,\n",
       " <Gene META1_2990 at 0x7f04f2498240>,\n",
       " <Gene META1_2987 at 0x7f04f2498278>,\n",
       " <Gene META1_0796 at 0x7f04f24982b0>,\n",
       " <Gene META1_5269 at 0x7f04f24982e8>,\n",
       " <Gene META1_3563 at 0x7f04f2498320>,\n",
       " <Gene META1_0023 at 0x7f04f2498358>,\n",
       " <Gene META1_0024 at 0x7f04f2498390>,\n",
       " <Gene META1_0026 at 0x7f04f24983c8>,\n",
       " <Gene META1_0025 at 0x7f04f2498400>,\n",
       " <Gene META1_4726 at 0x7f04f2498438>,\n",
       " <Gene META1_2917 at 0x7f04f2498470>,\n",
       " <Gene META1_0732 at 0x7f04f24984a8>,\n",
       " <Gene META1_0103 at 0x7f04f24984e0>,\n",
       " <Gene META1_0102 at 0x7f04f2498518>,\n",
       " <Gene META1_1666 at 0x7f04f2498550>,\n",
       " <Gene META1_4720 at 0x7f04f2498588>,\n",
       " <Gene META1_1858 at 0x7f04f24985c0>,\n",
       " <Gene META1_2934 at 0x7f04f24985f8>,\n",
       " <Gene META1_5268 at 0x7f04f2498630>,\n",
       " <Gene META1_5267 at 0x7f04f2498668>,\n",
       " <Gene META1_2931 at 0x7f04f24986a0>,\n",
       " <Gene META1_2933 at 0x7f04f24986d8>,\n",
       " <Gene META1_2932 at 0x7f04f2498710>,\n",
       " <Gene META1_2935 at 0x7f04f2498748>,\n",
       " <Gene META1_4692 at 0x7f04f2498780>,\n",
       " <Gene META1_2302 at 0x7f04f24987b8>,\n",
       " <Gene META1_1932 at 0x7f04f24987f0>,\n",
       " <Gene META1_3150 at 0x7f04f2498828>,\n",
       " <Gene META1_1990 at 0x7f04f2498860>,\n",
       " <Gene META1_3387 at 0x7f04f2498898>,\n",
       " <Gene META1_1361 at 0x7f04f24988d0>,\n",
       " <Gene META1_3389 at 0x7f04f2498908>,\n",
       " <Gene META1_1360 at 0x7f04f2498940>,\n",
       " <Gene META1_3385 at 0x7f04f2498978>,\n",
       " <Gene META1_1362 at 0x7f04f24989b0>,\n",
       " <Gene META1_3388 at 0x7f04f24989e8>,\n",
       " <Gene META1_1357 at 0x7f04f2498a20>,\n",
       " <Gene META1_3386 at 0x7f04f2498a58>,\n",
       " <Gene META1_1359 at 0x7f04f2498a90>,\n",
       " <Gene META1_2668 at 0x7f04f2498ac8>,\n",
       " <Gene META1_2508 at 0x7f04f2498b00>,\n",
       " <Gene META1_5055 at 0x7f04f2498b38>,\n",
       " <Gene META1_3362 at 0x7f04f2498b70>,\n",
       " <Gene META1_3547 at 0x7f04f2498ba8>,\n",
       " <Gene META1_5120 at 0x7f04f2498be0>,\n",
       " <Gene META1_5134 at 0x7f04f2498c18>,\n",
       " <Gene META1_4098 at 0x7f04f2498c50>,\n",
       " <Gene META1_2379 at 0x7f04f2498c88>,\n",
       " <Gene META1_2378 at 0x7f04f2498cc0>,\n",
       " <Gene META1_1553 at 0x7f04f2498cf8>,\n",
       " <Gene META1_0628 at 0x7f04f2498d30>,\n",
       " <Gene META1_2036 at 0x7f04f2498d68>,\n",
       " <Gene META1_3004 at 0x7f04f2498da0>,\n",
       " <Gene META1_0670 at 0x7f04f2498dd8>,\n",
       " <Gene META1_1701 at 0x7f04f2498e10>,\n",
       " <Gene META1_1735 at 0x7f04f2498e48>,\n",
       " <Gene META1_4722 at 0x7f04f2498e80>,\n",
       " <Gene META1_4490 at 0x7f04f2498eb8>,\n",
       " <Gene META1_3028 at 0x7f04f2498ef0>,\n",
       " <Gene META1_0992 at 0x7f04f2498f28>,\n",
       " <Gene META1_2127 at 0x7f04f2498f60>,\n",
       " <Gene META1_0798 at 0x7f04f2498f98>,\n",
       " <Gene META1_0993 at 0x7f04f2498fd0>,\n",
       " <Gene META1_1925 at 0x7f04f2429048>,\n",
       " <Gene META1_3219 at 0x7f04f2429080>,\n",
       " <Gene META1_2835 at 0x7f04f24290b8>,\n",
       " <Gene META1_0671 at 0x7f04f24290f0>,\n",
       " <Gene META1_0437 at 0x7f04f2429128>,\n",
       " <Gene META1_2515 at 0x7f04f2429160>,\n",
       " <Gene META1_3354 at 0x7f04f2429198>,\n",
       " <Gene META1_2830 at 0x7f04f24291d0>,\n",
       " <Gene META1_1440 at 0x7f04f2429208>,\n",
       " <Gene META1_3626 at 0x7f04f2429240>,\n",
       " <Gene META1_2294 at 0x7f04f2429278>,\n",
       " <Gene META1_5048 at 0x7f04f24292b0>,\n",
       " <Gene META1_3456 at 0x7f04f24292e8>,\n",
       " <Gene META1_4494 at 0x7f04f2429320>,\n",
       " <Gene META1_3748 at 0x7f04f2429358>,\n",
       " <Gene META1_2059 at 0x7f04f2429390>,\n",
       " <Gene META1_0412 at 0x7f04f24293c8>,\n",
       " <Gene META1_5325 at 0x7f04f2429400>,\n",
       " <Gene META1_5115 at 0x7f04f2429438>,\n",
       " <Gene META1_5192 at 0x7f04f2429470>,\n",
       " <Gene META1_2088 at 0x7f04f24294a8>,\n",
       " <Gene META1_4841 at 0x7f04f24294e0>,\n",
       " <Gene META1_1441 at 0x7f04f2429518>,\n",
       " <Gene META1_5176 at 0x7f04f2429550>,\n",
       " <Gene META1_2904 at 0x7f04f2429588>,\n",
       " <Gene META1_4153 at 0x7f04f24295c0>,\n",
       " <Gene META1_4881 at 0x7f04f24295f8>,\n",
       " <Gene META1_5174 at 0x7f04f2429630>,\n",
       " <Gene META1_0616 at 0x7f04f2429668>,\n",
       " <Gene META1_1139 at 0x7f04f24296a0>,\n",
       " <Gene META1_2030 at 0x7f04f24296d8>,\n",
       " <Gene META1_3503 at 0x7f04f2429710>,\n",
       " <Gene META1_1009 at 0x7f04f2429748>,\n",
       " <Gene META1_0283 at 0x7f04f2429780>,\n",
       " <Gene META1_4393 at 0x7f04f24297b8>,\n",
       " <Gene META1_4281 at 0x7f04f24297f0>,\n",
       " <Gene META1_0148 at 0x7f04f2429828>,\n",
       " <Gene META1_2016 at 0x7f04f2429860>,\n",
       " <Gene META1_5070 at 0x7f04f2429898>,\n",
       " <Gene META1_3485 at 0x7f04f24298d0>,\n",
       " <Gene META1_0204 at 0x7f04f2429908>,\n",
       " <Gene META1_3894 at 0x7f04f2429940>,\n",
       " <Gene META1_2345 at 0x7f04f2429978>,\n",
       " <Gene META1_3174 at 0x7f04f24299b0>,\n",
       " <Gene META1_0892 at 0x7f04f24299e8>,\n",
       " <Gene META1_4112 at 0x7f04f2429a20>,\n",
       " <Gene META1_3512 at 0x7f04f2429a58>,\n",
       " <Gene META1_4940 at 0x7f04f2429a90>,\n",
       " <Gene META1_3155 at 0x7f04f2429ac8>,\n",
       " <Gene META1_2909 at 0x7f04f2429b00>,\n",
       " <Gene META1_2908 at 0x7f04f2429b38>,\n",
       " <Gene META1_3465 at 0x7f04f2429b70>,\n",
       " <Gene META1_1494 at 0x7f04f2429ba8>,\n",
       " <Gene META1_0977 at 0x7f04f2429be0>,\n",
       " <Gene META1_1073 at 0x7f04f2429c18>,\n",
       " <Gene META1_0976 at 0x7f04f2429c50>,\n",
       " <Gene META1_3224 at 0x7f04f2429c88>,\n",
       " <Gene META1_1075 at 0x7f04f2429cc0>,\n",
       " <Gene META1_0975 at 0x7f04f2429cf8>,\n",
       " <Gene META1_3227 at 0x7f04f2429d30>,\n",
       " <Gene META1_1169 at 0x7f04f2429d68>,\n",
       " <Gene META1_1533 at 0x7f04f2429da0>,\n",
       " <Gene META1_5307 at 0x7f04f2429dd8>,\n",
       " <Gene META1_4647 at 0x7f04f2429e10>,\n",
       " <Gene META1_0751 at 0x7f04f2429e48>,\n",
       " <Gene META1_0953 at 0x7f04f2429e80>,\n",
       " <Gene META1_1278 at 0x7f04f2429eb8>,\n",
       " <Gene META1_2100 at 0x7f04f2429ef0>,\n",
       " <Gene META1_1433 at 0x7f04f2429f28>,\n",
       " <Gene META1_0335 at 0x7f04f2429f60>,\n",
       " <Gene META1_2031 at 0x7f04f2429f98>,\n",
       " <Gene META1_2297 at 0x7f04f2429fd0>,\n",
       " <Gene META1_0175 at 0x7f04f2439048>,\n",
       " <Gene META1_1745 at 0x7f04f2439080>,\n",
       " <Gene META1_2228 at 0x7f04f24390b8>,\n",
       " <Gene META1_2229 at 0x7f04f24390f0>,\n",
       " <Gene META1_1325 at 0x7f04f2439128>,\n",
       " <Gene META1_4800 at 0x7f04f2439160>,\n",
       " <Gene META1_0186 at 0x7f04f2439198>,\n",
       " <Gene META1_4039 at 0x7f04f24391d0>,\n",
       " <Gene META1_2397 at 0x7f04f2439208>,\n",
       " <Gene META1_2101 at 0x7f04f2439240>,\n",
       " <Gene META2_0462 at 0x7f04f2439278>,\n",
       " <Gene META1_0109 at 0x7f04f24392b0>,\n",
       " <Gene META1_5173 at 0x7f04f24392e8>,\n",
       " <Gene META1_2944 at 0x7f04f2439320>,\n",
       " <Gene META1_2065 at 0x7f04f2439358>,\n",
       " <Gene META1_1503 at 0x7f04f2439390>,\n",
       " <Gene META1_2129 at 0x7f04f24393c8>,\n",
       " <Gene META1_1726 at 0x7f04f2439400>,\n",
       " <Gene META1_4592 at 0x7f04f2439438>,\n",
       " <Gene META1_1766 at 0x7f04f2439470>,\n",
       " <Gene META1_3675 at 0x7f04f24394a8>,\n",
       " <Gene META1_2085 at 0x7f04f24394e0>,\n",
       " <Gene META1_1365 at 0x7f04f2439518>,\n",
       " <Gene META1_4626 at 0x7f04f2439550>,\n",
       " <Gene META2_0144 at 0x7f04f2439588>,\n",
       " <Gene META2_0145 at 0x7f04f24395c0>,\n",
       " <Gene META1_4396 at 0x7f04f24395f8>,\n",
       " <Gene META1_0383 at 0x7f04f2439630>,\n",
       " <Gene META1_3807 at 0x7f04f2439668>,\n",
       " <Gene META1_5323 at 0x7f04f24396a0>,\n",
       " <Gene META1_5051 at 0x7f04f24396d8>,\n",
       " <Gene META1_5321 at 0x7f04f2439710>,\n",
       " <Gene META1_1941 at 0x7f04f2439748>,\n",
       " <Gene META1_1389 at 0x7f04f2439780>,\n",
       " <Gene META1_2837 at 0x7f04f24397b8>,\n",
       " <Gene META1_5165 at 0x7f04f24397f0>,\n",
       " <Gene META1_5164 at 0x7f04f2439828>,\n",
       " <Gene META1_5166 at 0x7f04f2439860>,\n",
       " <Gene META1_5167 at 0x7f04f2439898>,\n",
       " <Gene META1_0429 at 0x7f04f24398d0>,\n",
       " <Gene META1_3795 at 0x7f04f2439908>,\n",
       " <Gene META1_3856 at 0x7f04f2439940>,\n",
       " <Gene META1_3073 at 0x7f04f2439978>,\n",
       " <Gene META1_3768 at 0x7f04f24399b0>,\n",
       " <Gene META1_0746 at 0x7f04f24399e8>,\n",
       " <Gene META1_0013 at 0x7f04f2439a20>,\n",
       " <Gene META1_0862 at 0x7f04f2439a58>,\n",
       " <Gene META1_0957 at 0x7f04f2439a90>,\n",
       " <Gene META1_4216 at 0x7f04f2439ac8>,\n",
       " <Gene META1_4215 at 0x7f04f2439b00>,\n",
       " <Gene META1_0392 at 0x7f04f2439b38>,\n",
       " <Gene META1_3131 at 0x7f04f2439b70>,\n",
       " <Gene META1_3133 at 0x7f04f2439ba8>,\n",
       " <Gene META1_3132 at 0x7f04f2439be0>,\n",
       " <Gene META1_4214 at 0x7f04f2439c18>,\n",
       " <Gene META1_0391 at 0x7f04f2439c50>,\n",
       " <Gene META1_0340 at 0x7f04f2439c88>,\n",
       " <Gene META1_0379 at 0x7f04f2439cc0>,\n",
       " <Gene META1_4995 at 0x7f04f2439cf8>,\n",
       " <Gene META1_4994 at 0x7f04f2439d30>,\n",
       " <Gene META1_5297 at 0x7f04f2439d68>,\n",
       " <Gene META1_4311 at 0x7f04f2439da0>,\n",
       " <Gene META1_0839 at 0x7f04f2439dd8>,\n",
       " <Gene META1_0303 at 0x7f04f2439e10>,\n",
       " <Gene META1_0305 at 0x7f04f2439e48>,\n",
       " <Gene META1_0304 at 0x7f04f2439e80>,\n",
       " <Gene META1_4260 at 0x7f04f2439eb8>,\n",
       " <Gene META1_0666 at 0x7f04f2439ef0>,\n",
       " <Gene META1_1744 at 0x7f04f2439f28>,\n",
       " <Gene META1_2244 at 0x7f04f2439f60>,\n",
       " <Gene META1_3192 at 0x7f04f2439f98>,\n",
       " <Gene META1_3351 at 0x7f04f2439fd0>,\n",
       " <Gene META1_4452 at 0x7f04f2449048>,\n",
       " <Gene META1_2070 at 0x7f04f2449080>,\n",
       " <Gene META1_2984 at 0x7f04f24490b8>,\n",
       " <Gene META1_3809 at 0x7f04f24490f0>,\n",
       " <Gene META1_3384 at 0x7f04f2449128>,\n",
       " <Gene META1_0188 at 0x7f04f2449160>,\n",
       " <Gene META1_5251 at 0x7f04f2449198>,\n",
       " <Gene META1_2390 at 0x7f04f24491d0>,\n",
       " <Gene META1_3078 at 0x7f04f2449208>,\n",
       " <Gene META1_3701 at 0x7f04f2449240>,\n",
       " <Gene META1_0926 at 0x7f04f2449278>,\n",
       " <Gene META1_4879 at 0x7f04f24492b0>,\n",
       " <Gene META1_0624 at 0x7f04f24492e8>,\n",
       " <Gene META1_2044 at 0x7f04f2449320>,\n",
       " <Gene META1_5098 at 0x7f04f2449358>,\n",
       " <Gene META1_0147 at 0x7f04f2449390>,\n",
       " <Gene META1_0141 at 0x7f04f24493c8>,\n",
       " <Gene META1_2395 at 0x7f04f2449400>,\n",
       " <Gene META1_4041 at 0x7f04f2449438>,\n",
       " <Gene META1_3124 at 0x7f04f2449470>,\n",
       " <Gene META1_3125 at 0x7f04f24494a8>,\n",
       " <Gene META2_0360 at 0x7f04f24494e0>,\n",
       " <Gene META2_1233 at 0x7f04f2449518>,\n",
       " <Gene META1_4121 at 0x7f04f2449550>,\n",
       " <Gene META1_4284 at 0x7f04f2449588>,\n",
       " <Gene META1_4283 at 0x7f04f24495c0>,\n",
       " <Gene META1_3486 at 0x7f04f24495f8>,\n",
       " <Gene META1_2867 at 0x7f04f2449630>,\n",
       " <Gene META1_1390 at 0x7f04f2449668>,\n",
       " <Gene META1_1446 at 0x7f04f24496a0>,\n",
       " <Gene META1_3668 at 0x7f04f24496d8>,\n",
       " <Gene META1_3299 at 0x7f04f2449710>,\n",
       " <Gene META1_4338 at 0x7f04f2449748>,\n",
       " <Gene META1_0545 at 0x7f04f2449780>,\n",
       " <Gene META1_5110 at 0x7f04f24497b8>,\n",
       " <Gene META1_2496 at 0x7f04f24497f0>,\n",
       " <Gene META1_4849 at 0x7f04f2449828>,\n",
       " <Gene META1_2093 at 0x7f04f2449860>,\n",
       " <Gene META1_4848 at 0x7f04f2449898>,\n",
       " <Gene META1_4847 at 0x7f04f24498d0>,\n",
       " <Gene META1_4846 at 0x7f04f2449908>,\n",
       " <Gene META1_5031 at 0x7f04f2449940>,\n",
       " <Gene META1_5032 at 0x7f04f2449978>,\n",
       " <Gene META1_2094 at 0x7f04f24499b0>,\n",
       " <Gene META1_1485 at 0x7f04f24499e8>,\n",
       " <Gene META1_2264 at 0x7f04f2449a20>,\n",
       " <Gene META1_2983 at 0x7f04f2449a58>,\n",
       " <Gene META2_0163 at 0x7f04f2449a90>,\n",
       " <Gene META1_4596 at 0x7f04f2449ac8>,\n",
       " <Gene META1_3705 at 0x7f04f2449b00>,\n",
       " <Gene META1_2024 at 0x7f04f2449b38>,\n",
       " <Gene META1_0286 at 0x7f04f2449b70>,\n",
       " <Gene META1_5085 at 0x7f04f2449ba8>,\n",
       " <Gene META1_2510 at 0x7f04f2449be0>,\n",
       " <Gene META1_2509 at 0x7f04f2449c18>,\n",
       " <Gene META1_2511 at 0x7f04f2449c50>,\n",
       " <Gene META1_1653 at 0x7f04f2449c88>,\n",
       " <Gene META1_3348 at 0x7f04f2449cc0>,\n",
       " <Gene META1_4939 at 0x7f04f2449cf8>,\n",
       " <Gene META1_5117 at 0x7f04f2449d30>,\n",
       " <Gene META1_5119 at 0x7f04f2449d68>,\n",
       " <Gene META1_2223 at 0x7f04f2449da0>,\n",
       " <Gene META2_0871 at 0x7f04f2449dd8>,\n",
       " <Gene META1_0202 at 0x7f04f2449e10>,\n",
       " <Gene META1_4275 at 0x7f04f2449e48>,\n",
       " <Gene META1_4291 at 0x7f04f2449e80>,\n",
       " <Gene META1_1964 at 0x7f04f2449eb8>,\n",
       " <Gene META1_3151 at 0x7f04f2449ef0>,\n",
       " <Gene META1_4455 at 0x7f04f2449f28>,\n",
       " <Gene META1_2360 at 0x7f04f2449f60>,\n",
       " <Gene META1_1978 at 0x7f04f2449f98>,\n",
       " <Gene META1_5011 at 0x7f04f2449fd0>,\n",
       " <Gene META1_1927 at 0x7f04f245a048>,\n",
       " <Gene META1_1926 at 0x7f04f245a080>,\n",
       " <Gene META1_0849 at 0x7f04f245a0b8>,\n",
       " <Gene META1_0854 at 0x7f04f245a0f0>,\n",
       " <Gene META1_0845 at 0x7f04f245a128>,\n",
       " <Gene META1_0844 at 0x7f04f245a160>,\n",
       " <Gene META1_0871 at 0x7f04f245a198>,\n",
       " <Gene META1_0847 at 0x7f04f245a1d0>,\n",
       " <Gene META1_0851 at 0x7f04f245a208>,\n",
       " <Gene META1_0852 at 0x7f04f245a240>,\n",
       " <Gene META1_0850 at 0x7f04f245a278>,\n",
       " <Gene META1_0855 at 0x7f04f245a2b0>,\n",
       " <Gene META1_0842 at 0x7f04f245a2e8>,\n",
       " <Gene META1_0853 at 0x7f04f245a320>,\n",
       " <Gene META1_0846 at 0x7f04f245a358>,\n",
       " <Gene META1_0843 at 0x7f04f245a390>,\n",
       " <Gene META1_0848 at 0x7f04f245a3c8>,\n",
       " <Gene META1_1986 at 0x7f04f245a400>,\n",
       " <Gene META1_2521 at 0x7f04f245a438>,\n",
       " <Gene META1_1411 at 0x7f04f245a470>,\n",
       " <Gene META1_4627 at 0x7f04f245a4a8>,\n",
       " <Gene META1_0077 at 0x7f04f245a4e0>,\n",
       " <Gene META1_1981 at 0x7f04f245a518>,\n",
       " <Gene META1_1161 at 0x7f04f245a550>,\n",
       " <Gene META1_1160 at 0x7f04f245a588>,\n",
       " <Gene META1_5180 at 0x7f04f245a5c0>,\n",
       " <Gene META1_3060 at 0x7f04f245a5f8>,\n",
       " <Gene META1_3766 at 0x7f04f245a630>,\n",
       " <Gene META1_1465 at 0x7f04f245a668>,\n",
       " <Gene META1_4249 at 0x7f04f245a6a0>,\n",
       " <Gene META1_3654 at 0x7f04f245a6d8>,\n",
       " <Gene META1_1718 at 0x7f04f245a710>,\n",
       " <Gene META1_2123 at 0x7f04f245a748>,\n",
       " <Gene META1_4099 at 0x7f04f245a780>,\n",
       " <Gene META1_3866 at 0x7f04f245a7b8>,\n",
       " <Gene META1_1863 at 0x7f04f245a7f0>,\n",
       " <Gene META1_5283 at 0x7f04f245a828>,\n",
       " <Gene META1_5129 at 0x7f04f245a860>,\n",
       " <Gene META1_3694 at 0x7f04f245a898>,\n",
       " <Gene META1_1537 at 0x7f04f245a8d0>,\n",
       " <Gene META1_0837 at 0x7f04f245a908>,\n",
       " <Gene META1_1419 at 0x7f04f245a940>,\n",
       " <Gene META1_3487 at 0x7f04f245a978>,\n",
       " <Gene META1_3787 at 0x7f04f245a9b0>,\n",
       " <Gene META1_4840 at 0x7f04f245a9e8>,\n",
       " <Gene META1_2394 at 0x7f04f245aa20>,\n",
       " <Gene META1_2396 at 0x7f04f245aa58>,\n",
       " <Gene META1_4040 at 0x7f04f245aa90>,\n",
       " <Gene META1_4042 at 0x7f04f245aac8>,\n",
       " <Gene META1_2831 at 0x7f04f245ab00>,\n",
       " <Gene META1_0615 at 0x7f04f245ab38>,\n",
       " <Gene META1_1493 at 0x7f04f245ab70>,\n",
       " <Gene META1_1727 at 0x7f04f245aba8>,\n",
       " <Gene META1_0866 at 0x7f04f245abe0>,\n",
       " <Gene META1_0865 at 0x7f04f245ac18>,\n",
       " <Gene META1_4889 at 0x7f04f245ac50>,\n",
       " <Gene META1_5183 at 0x7f04f245ac88>,\n",
       " <Gene META1_2868 at 0x7f04f245acc0>,\n",
       " <Gene META1_1928 at 0x7f04f245acf8>,\n",
       " <Gene META1_1207 at 0x7f04f245ad30>,\n",
       " <Gene META1_2476 at 0x7f04f245ad68>,\n",
       " <Gene META1_4209 at 0x7f04f245ada0>,\n",
       " <Gene META1_2069 at 0x7f04f245add8>,\n",
       " <Gene META1_4394 at 0x7f04f245ae10>,\n",
       " <Gene META1_2004 at 0x7f04f245ae48>,\n",
       " <Gene META1_1851 at 0x7f04f245ae80>,\n",
       " <Gene META1_3524 at 0x7f04f245aeb8>,\n",
       " <Gene META1_4217 at 0x7f04f245aef0>,\n",
       " <Gene META1_1730 at 0x7f04f245af28>,\n",
       " <Gene META1_1731 at 0x7f04f245af60>,\n",
       " <Gene META1_1455 at 0x7f04f245af98>,\n",
       " <Gene META1_4244 at 0x7f04f245afd0>,\n",
       " <Gene META1_3081 at 0x7f04f23ea048>,\n",
       " <Gene META1_1526 at 0x7f04f23ea080>,\n",
       " <Gene META1_1399 at 0x7f04f23ea0b8>,\n",
       " <Gene META1_3858 at 0x7f04f23ea0f0>,\n",
       " <Gene META1_0541 at 0x7f04f23ea128>,\n",
       " <Gene META1_3147 at 0x7f04f23ea160>,\n",
       " <Gene META1_2377 at 0x7f04f23ea198>,\n",
       " <Gene META1_5127 at 0x7f04f23ea1d0>,\n",
       " <Gene META1_0521 at 0x7f04f23ea208>,\n",
       " <Gene META1_3403 at 0x7f04f23ea240>,\n",
       " <Gene META1_2966 at 0x7f04f23ea278>,\n",
       " <Gene META1_3428 at 0x7f04f23ea2b0>,\n",
       " <Gene META1_0012 at 0x7f04f23ea2e8>,\n",
       " <Gene META1_0029 at 0x7f04f23ea320>,\n",
       " <Gene META1_0376 at 0x7f04f23ea358>,\n",
       " <Gene META1_0898 at 0x7f04f23ea390>,\n",
       " <Gene META1_0940 at 0x7f04f23ea3c8>,\n",
       " <Gene META1_1167 at 0x7f04f23ea400>,\n",
       " <Gene META1_3433 at 0x7f04f23ea438>,\n",
       " <Gene META1_2899 at 0x7f04f23ea470>,\n",
       " <Gene META1_4594 at 0x7f04f23ea4a8>,\n",
       " <Gene META1_0921 at 0x7f04f23ea4e0>,\n",
       " <Gene META1_3380 at 0x7f04f23ea518>,\n",
       " <Gene META1_3375 at 0x7f04f23ea550>,\n",
       " <Gene CQW49_RS12450 at 0x7f04f23ea588>,\n",
       " <Gene CQW49_RS18690 at 0x7f04f23ea5c0>,\n",
       " <Gene CQW49_RS15535 at 0x7f04f23ea5f8>,\n",
       " <Gene CQW49_RS04965 at 0x7f04f23ea630>,\n",
       " <Gene CQW49_RS16630 at 0x7f04f23ea668>,\n",
       " <Gene CQW49_RS11030 at 0x7f04f23ea6a0>,\n",
       " <Gene CQW49_RS11885 at 0x7f04f23ea6d8>,\n",
       " <Gene CQW49_RS15530 at 0x7f04f23ea710>,\n",
       " <Gene CQW49_RS06785 at 0x7f04f23ea748>,\n",
       " <Gene CQW49_RS10895 at 0x7f04f23ea780>,\n",
       " <Gene CQW49_RS04365 at 0x7f04f23ea7b8>,\n",
       " <Gene CQW49_RS02420 at 0x7f04f23ea7f0>,\n",
       " <Gene CQW49_RS10085 at 0x7f04f23ea828>,\n",
       " <Gene CQW49_RS02790 at 0x7f04f23ea860>,\n",
       " <Gene CQW49_RS14445 at 0x7f04f23ea898>,\n",
       " <Gene CQW49_RS10335 at 0x7f04f23ea8d0>,\n",
       " <Gene CQW49_RS00280 at 0x7f04f23ea908>,\n",
       " <Gene CQW49_RS08855 at 0x7f04f23ea940>,\n",
       " <Gene CQW49_RS09040 at 0x7f04f23ea978>,\n",
       " <Gene CQW49_RS06210 at 0x7f04f23ea9b0>,\n",
       " <Gene CQW49_RS10345 at 0x7f04f23ea9e8>,\n",
       " <Gene CQW49_RS20450 at 0x7f04f23eaa20>,\n",
       " <Gene CQW49_RS04595 at 0x7f04f23eaa58>,\n",
       " <Gene CQW49_RS12760 at 0x7f04f23eaa90>,\n",
       " <Gene CQW49_RS09450 at 0x7f04f23eaac8>,\n",
       " <Gene CQW49_RS15800 at 0x7f04f23eab00>,\n",
       " <Gene CQW49_RS00950 at 0x7f04f23eab38>,\n",
       " <Gene CQW49_RS16175 at 0x7f04f23eab70>,\n",
       " <Gene CQW49_RS04360 at 0x7f04f23eaba8>,\n",
       " <Gene CQW49_RS17895 at 0x7f04f23eabe0>,\n",
       " <Gene CQW49_RS20410 at 0x7f04f23eac18>,\n",
       " <Gene CQW49_RS11810 at 0x7f04f23eac50>,\n",
       " <Gene CQW49_RS02685 at 0x7f04f23eac88>,\n",
       " <Gene CQW49_RS09935 at 0x7f04f23eacc0>,\n",
       " <Gene CQW49_RS06545 at 0x7f04f23eacf8>,\n",
       " <Gene CQW49_RS11840 at 0x7f04f23ead30>,\n",
       " <Gene CQW49_RS02240 at 0x7f04f23ead68>,\n",
       " <Gene CQW49_RS06465 at 0x7f04f23eada0>,\n",
       " <Gene CQW49_RS10555 at 0x7f04f23eadd8>,\n",
       " <Gene CQW49_RS09685 at 0x7f04f23eae10>,\n",
       " <Gene CQW49_RS12780 at 0x7f04f23eae48>,\n",
       " <Gene CQW49_RS12875 at 0x7f04f23eae80>,\n",
       " <Gene CQW49_RS06795 at 0x7f04f23eaeb8>,\n",
       " <Gene CQW49_RS13850 at 0x7f04f23eaef0>,\n",
       " <Gene CQW49_RS09465 at 0x7f04f23eaf28>,\n",
       " <Gene CQW49_RS16320 at 0x7f04f23eaf60>,\n",
       " <Gene CQW49_RS10675 at 0x7f04f23eaf98>,\n",
       " <Gene CQW49_RS04180 at 0x7f04f23eafd0>,\n",
       " <Gene CQW49_RS01985 at 0x7f04f23fb048>,\n",
       " <Gene CQW49_RS01070 at 0x7f04f23fb080>,\n",
       " <Gene CQW49_RS17890 at 0x7f04f23fb0b8>,\n",
       " <Gene CQW49_RS17260 at 0x7f04f23fb0f0>,\n",
       " <Gene CQW49_RS20565 at 0x7f04f23fb128>,\n",
       " <Gene CQW49_RS03035 at 0x7f04f23fb160>,\n",
       " <Gene CQW49_RS11150 at 0x7f04f23fb198>,\n",
       " <Gene CQW49_RS06020 at 0x7f04f23fb1d0>,\n",
       " <Gene CQW49_RS00290 at 0x7f04f23fb208>,\n",
       " <Gene CQW49_RS13130 at 0x7f04f23fb240>,\n",
       " <Gene CQW49_RS09690 at 0x7f04f23fb278>,\n",
       " <Gene CQW49_RS12675 at 0x7f04f23fb2b0>,\n",
       " <Gene CQW49_RS18675 at 0x7f04f23fb2e8>,\n",
       " <Gene CQW49_RS00335 at 0x7f04f23fb320>,\n",
       " <Gene CQW49_RS06915 at 0x7f04f23fb358>,\n",
       " <Gene CQW49_RS17915 at 0x7f04f23fb390>,\n",
       " <Gene CQW49_RS09975 at 0x7f04f23fb3c8>,\n",
       " <Gene CQW49_RS00575 at 0x7f04f23fb400>,\n",
       " <Gene CQW49_RS19295 at 0x7f04f23fb438>,\n",
       " <Gene CQW49_RS15430 at 0x7f04f23fb470>,\n",
       " <Gene CQW49_RS05975 at 0x7f04f23fb4a8>,\n",
       " <Gene CQW49_RS19290 at 0x7f04f23fb4e0>,\n",
       " <Gene CQW49_RS00570 at 0x7f04f23fb518>,\n",
       " <Gene CQW49_RS08315 at 0x7f04f23fb550>,\n",
       " <Gene CQW49_RS06520 at 0x7f04f23fb588>,\n",
       " <Gene CQW49_RS13790 at 0x7f04f23fb5c0>,\n",
       " <Gene CQW49_RS11565 at 0x7f04f23fb5f8>,\n",
       " <Gene CQW49_RS04790 at 0x7f04f23fb630>,\n",
       " <Gene CQW49_RS19275 at 0x7f04f23fb668>,\n",
       " <Gene CQW49_RS02665 at 0x7f04f23fb6a0>,\n",
       " <Gene CQW49_RS05145 at 0x7f04f23fb6d8>,\n",
       " <Gene CQW49_RS19115 at 0x7f04f23fb710>,\n",
       " <Gene CQW49_RS10620 at 0x7f04f23fb748>,\n",
       " <Gene CQW49_RS16665 at 0x7f04f23fb780>,\n",
       " <Gene CQW49_RS16425 at 0x7f04f23fb7b8>,\n",
       " <Gene CQW49_RS20490 at 0x7f04f23fb7f0>,\n",
       " <Gene CQW49_RS13170 at 0x7f04f23fb828>,\n",
       " <Gene CQW49_RS08640 at 0x7f04f23fb860>,\n",
       " <Gene CQW49_RS04525 at 0x7f04f23fb898>,\n",
       " <Gene CQW49_RS11135 at 0x7f04f23fb8d0>,\n",
       " <Gene CQW49_RS10965 at 0x7f04f23fb908>,\n",
       " ...]"
      ]
     },
     "execution_count": 7,
     "metadata": {},
     "output_type": "execute_result"
    }
   ],
   "source": [
    "model_OB3b.genes"
   ]
  },
  {
   "cell_type": "code",
   "execution_count": 8,
   "metadata": {
    "ExecuteTime": {
     "end_time": "2020-01-06T01:41:05.973160Z",
     "start_time": "2020-01-06T01:41:05.275965Z"
    }
   },
   "outputs": [],
   "source": [
    "import pandas as pd\n",
    "bp_data = pd.read_csv(inparanoid_directory + \"GEM_OB3b_inparanoid_runs/\" +\n",
    "                      \"OB3b_refseq_genome_ids_vs_OB3b_genbank_genome_ids/Output/\" +\n",
    "                      \"table.OB3b_Refseq_for_inparanoid.faa-OB3b_Genbank_for_inparanoid.csv\", index_col=None)"
   ]
  },
  {
   "cell_type": "code",
   "execution_count": 10,
   "metadata": {
    "ExecuteTime": {
     "end_time": "2020-01-06T01:41:23.910519Z",
     "start_time": "2020-01-06T01:41:23.886729Z"
    }
   },
   "outputs": [],
   "source": [
    "bp_data = bp_data.drop(columns=\"OrtoID\")\n",
    "bp_data = bp_data.drop(columns=\"Score\")"
   ]
  },
  {
   "cell_type": "code",
   "execution_count": 11,
   "metadata": {
    "ExecuteTime": {
     "end_time": "2020-01-06T01:41:31.006748Z",
     "start_time": "2020-01-06T01:41:30.983210Z"
    }
   },
   "outputs": [
    {
     "data": {
      "text/html": [
       "<div>\n",
       "<style scoped>\n",
       "    .dataframe tbody tr th:only-of-type {\n",
       "        vertical-align: middle;\n",
       "    }\n",
       "\n",
       "    .dataframe tbody tr th {\n",
       "        vertical-align: top;\n",
       "    }\n",
       "\n",
       "    .dataframe thead th {\n",
       "        text-align: right;\n",
       "    }\n",
       "</style>\n",
       "<table border=\"1\" class=\"dataframe\">\n",
       "  <thead>\n",
       "    <tr style=\"text-align: right;\">\n",
       "      <th></th>\n",
       "      <th>OrtoA</th>\n",
       "      <th>OrtoB</th>\n",
       "    </tr>\n",
       "  </thead>\n",
       "  <tbody>\n",
       "    <tr>\n",
       "      <th>0</th>\n",
       "      <td>CQW49_RS17720 1.000</td>\n",
       "      <td>CQW49_17665 1.000</td>\n",
       "    </tr>\n",
       "    <tr>\n",
       "      <th>1</th>\n",
       "      <td>CQW49_RS02345 1.000</td>\n",
       "      <td>CQW49_02340 1.000</td>\n",
       "    </tr>\n",
       "    <tr>\n",
       "      <th>2</th>\n",
       "      <td>CQW49_RS13625 1.000</td>\n",
       "      <td>CQW49_13590 1.000</td>\n",
       "    </tr>\n",
       "    <tr>\n",
       "      <th>3</th>\n",
       "      <td>CQW49_RS21565 1.000</td>\n",
       "      <td>CQW49_21485 1.000</td>\n",
       "    </tr>\n",
       "    <tr>\n",
       "      <th>4</th>\n",
       "      <td>CQW49_RS21480 1.000</td>\n",
       "      <td>CQW49_21405 1.000</td>\n",
       "    </tr>\n",
       "    <tr>\n",
       "      <th>5</th>\n",
       "      <td>CQW49_RS22310 1.000</td>\n",
       "      <td>CQW49_22215 1.000</td>\n",
       "    </tr>\n",
       "    <tr>\n",
       "      <th>6</th>\n",
       "      <td>CQW49_RS21485 1.000</td>\n",
       "      <td>CQW49_21410 1.000</td>\n",
       "    </tr>\n",
       "    <tr>\n",
       "      <th>7</th>\n",
       "      <td>CQW49_RS00015 1.000</td>\n",
       "      <td>CQW49_00015 1.000</td>\n",
       "    </tr>\n",
       "    <tr>\n",
       "      <th>8</th>\n",
       "      <td>CQW49_RS09840 1.000</td>\n",
       "      <td>CQW49_09820 1.000</td>\n",
       "    </tr>\n",
       "    <tr>\n",
       "      <th>9</th>\n",
       "      <td>CQW49_RS21550 1.000</td>\n",
       "      <td>CQW49_21470 1.000</td>\n",
       "    </tr>\n",
       "    <tr>\n",
       "      <th>10</th>\n",
       "      <td>CQW49_RS23880 1.000</td>\n",
       "      <td>CQW49_23775 1.000</td>\n",
       "    </tr>\n",
       "    <tr>\n",
       "      <th>11</th>\n",
       "      <td>CQW49_RS21490 1.000</td>\n",
       "      <td>CQW49_21415 1.000</td>\n",
       "    </tr>\n",
       "    <tr>\n",
       "      <th>12</th>\n",
       "      <td>CQW49_RS23535 1.000</td>\n",
       "      <td>CQW49_23435 1.000</td>\n",
       "    </tr>\n",
       "    <tr>\n",
       "      <th>13</th>\n",
       "      <td>CQW49_RS12625 1.000</td>\n",
       "      <td>CQW49_12590 1.000</td>\n",
       "    </tr>\n",
       "    <tr>\n",
       "      <th>14</th>\n",
       "      <td>CQW49_RS23555 1.000</td>\n",
       "      <td>CQW49_23455 1.000</td>\n",
       "    </tr>\n",
       "    <tr>\n",
       "      <th>15</th>\n",
       "      <td>CQW49_RS23875 1.000</td>\n",
       "      <td>CQW49_23770 1.000</td>\n",
       "    </tr>\n",
       "    <tr>\n",
       "      <th>16</th>\n",
       "      <td>CQW49_RS09700 1.000</td>\n",
       "      <td>CQW49_09680 1.000</td>\n",
       "    </tr>\n",
       "    <tr>\n",
       "      <th>17</th>\n",
       "      <td>CQW49_RS12915 1.000</td>\n",
       "      <td>CQW49_12880 1.000</td>\n",
       "    </tr>\n",
       "    <tr>\n",
       "      <th>18</th>\n",
       "      <td>CQW49_RS21495 1.000</td>\n",
       "      <td>CQW49_21420 1.000</td>\n",
       "    </tr>\n",
       "    <tr>\n",
       "      <th>19</th>\n",
       "      <td>CQW49_RS00895 1.000</td>\n",
       "      <td>CQW49_00895 1.000</td>\n",
       "    </tr>\n",
       "    <tr>\n",
       "      <th>20</th>\n",
       "      <td>CQW49_RS23570 1.000</td>\n",
       "      <td>CQW49_23470 1.000</td>\n",
       "    </tr>\n",
       "    <tr>\n",
       "      <th>21</th>\n",
       "      <td>CQW49_RS22705 1.000</td>\n",
       "      <td>CQW49_22605 1.000</td>\n",
       "    </tr>\n",
       "    <tr>\n",
       "      <th>22</th>\n",
       "      <td>CQW49_RS12910 1.000</td>\n",
       "      <td>CQW49_12875 1.000</td>\n",
       "    </tr>\n",
       "    <tr>\n",
       "      <th>23</th>\n",
       "      <td>CQW49_RS23955 1.000</td>\n",
       "      <td>CQW49_23850 1.000</td>\n",
       "    </tr>\n",
       "    <tr>\n",
       "      <th>24</th>\n",
       "      <td>CQW49_RS02665 1.000</td>\n",
       "      <td>CQW49_02655 1.000</td>\n",
       "    </tr>\n",
       "    <tr>\n",
       "      <th>25</th>\n",
       "      <td>CQW49_RS23565 1.000</td>\n",
       "      <td>CQW49_23465 1.000</td>\n",
       "    </tr>\n",
       "    <tr>\n",
       "      <th>26</th>\n",
       "      <td>CQW49_RS15250 1.000</td>\n",
       "      <td>CQW49_15215 1.000</td>\n",
       "    </tr>\n",
       "    <tr>\n",
       "      <th>27</th>\n",
       "      <td>CQW49_RS14010 1.000</td>\n",
       "      <td>CQW49_13975 1.000</td>\n",
       "    </tr>\n",
       "    <tr>\n",
       "      <th>28</th>\n",
       "      <td>CQW49_RS17930 1.000</td>\n",
       "      <td>CQW49_17875 1.000</td>\n",
       "    </tr>\n",
       "    <tr>\n",
       "      <th>29</th>\n",
       "      <td>CQW49_RS17330 1.000</td>\n",
       "      <td>CQW49_17280 1.000</td>\n",
       "    </tr>\n",
       "    <tr>\n",
       "      <th>...</th>\n",
       "      <td>...</td>\n",
       "      <td>...</td>\n",
       "    </tr>\n",
       "    <tr>\n",
       "      <th>4620</th>\n",
       "      <td>CQW49_RS17380 1.000</td>\n",
       "      <td>CQW49_17330 1.000</td>\n",
       "    </tr>\n",
       "    <tr>\n",
       "      <th>4621</th>\n",
       "      <td>CQW49_RS17385 1.000</td>\n",
       "      <td>CQW49_17335 1.000</td>\n",
       "    </tr>\n",
       "    <tr>\n",
       "      <th>4622</th>\n",
       "      <td>CQW49_RS18385 1.000</td>\n",
       "      <td>CQW49_18325 1.000</td>\n",
       "    </tr>\n",
       "    <tr>\n",
       "      <th>4623</th>\n",
       "      <td>CQW49_RS23225 1.000</td>\n",
       "      <td>CQW49_23120 1.000</td>\n",
       "    </tr>\n",
       "    <tr>\n",
       "      <th>4624</th>\n",
       "      <td>CQW49_RS09580 1.000</td>\n",
       "      <td>CQW49_09560 1.000</td>\n",
       "    </tr>\n",
       "    <tr>\n",
       "      <th>4625</th>\n",
       "      <td>CQW49_RS22020 1.000</td>\n",
       "      <td>CQW49_21935 1.000</td>\n",
       "    </tr>\n",
       "    <tr>\n",
       "      <th>4626</th>\n",
       "      <td>CQW49_RS13120 1.000</td>\n",
       "      <td>CQW49_13085 1.000</td>\n",
       "    </tr>\n",
       "    <tr>\n",
       "      <th>4627</th>\n",
       "      <td>CQW49_RS23210 1.000</td>\n",
       "      <td>CQW49_23105 1.000</td>\n",
       "    </tr>\n",
       "    <tr>\n",
       "      <th>4628</th>\n",
       "      <td>CQW49_RS16405 1.000</td>\n",
       "      <td>CQW49_16370 1.000</td>\n",
       "    </tr>\n",
       "    <tr>\n",
       "      <th>4629</th>\n",
       "      <td>CQW49_RS22880 1.000</td>\n",
       "      <td>CQW49_22780 1.000</td>\n",
       "    </tr>\n",
       "    <tr>\n",
       "      <th>4630</th>\n",
       "      <td>CQW49_RS04485 1.000</td>\n",
       "      <td>CQW49_04480 1.000</td>\n",
       "    </tr>\n",
       "    <tr>\n",
       "      <th>4631</th>\n",
       "      <td>CQW49_RS08605 1.000</td>\n",
       "      <td>CQW49_08595 1.000</td>\n",
       "    </tr>\n",
       "    <tr>\n",
       "      <th>4632</th>\n",
       "      <td>CQW49_RS08905 1.000</td>\n",
       "      <td>CQW49_08895 1.000</td>\n",
       "    </tr>\n",
       "    <tr>\n",
       "      <th>4633</th>\n",
       "      <td>CQW49_RS06325 1.000</td>\n",
       "      <td>CQW49_06315 1.000</td>\n",
       "    </tr>\n",
       "    <tr>\n",
       "      <th>4634</th>\n",
       "      <td>CQW49_RS18955 1.000</td>\n",
       "      <td>CQW49_18895 1.000</td>\n",
       "    </tr>\n",
       "    <tr>\n",
       "      <th>4635</th>\n",
       "      <td>CQW49_RS16480 1.000</td>\n",
       "      <td>CQW49_16445 1.000</td>\n",
       "    </tr>\n",
       "    <tr>\n",
       "      <th>4636</th>\n",
       "      <td>CQW49_RS24085 1.000</td>\n",
       "      <td>CQW49_23970 1.000</td>\n",
       "    </tr>\n",
       "    <tr>\n",
       "      <th>4637</th>\n",
       "      <td>CQW49_RS08270 1.000</td>\n",
       "      <td>CQW49_08260 1.000</td>\n",
       "    </tr>\n",
       "    <tr>\n",
       "      <th>4638</th>\n",
       "      <td>CQW49_RS08350 1.000</td>\n",
       "      <td>CQW49_08340 1.000</td>\n",
       "    </tr>\n",
       "    <tr>\n",
       "      <th>4639</th>\n",
       "      <td>CQW49_RS21810 1.000</td>\n",
       "      <td>CQW49_21725 1.000</td>\n",
       "    </tr>\n",
       "    <tr>\n",
       "      <th>4640</th>\n",
       "      <td>CQW49_RS11655 1.000</td>\n",
       "      <td>CQW49_11620 1.000</td>\n",
       "    </tr>\n",
       "    <tr>\n",
       "      <th>4641</th>\n",
       "      <td>CQW49_RS06605 1.000</td>\n",
       "      <td>CQW49_06590 1.000</td>\n",
       "    </tr>\n",
       "    <tr>\n",
       "      <th>4642</th>\n",
       "      <td>CQW49_RS07175 1.000</td>\n",
       "      <td>CQW49_07165 1.000</td>\n",
       "    </tr>\n",
       "    <tr>\n",
       "      <th>4643</th>\n",
       "      <td>CQW49_RS18960 1.000</td>\n",
       "      <td>CQW49_18900 1.000</td>\n",
       "    </tr>\n",
       "    <tr>\n",
       "      <th>4644</th>\n",
       "      <td>CQW49_RS23200 1.000</td>\n",
       "      <td>CQW49_23095 1.000</td>\n",
       "    </tr>\n",
       "    <tr>\n",
       "      <th>4645</th>\n",
       "      <td>CQW49_RS12285 1.000</td>\n",
       "      <td>CQW49_12250 1.000</td>\n",
       "    </tr>\n",
       "    <tr>\n",
       "      <th>4646</th>\n",
       "      <td>CQW49_RS05230 1.000</td>\n",
       "      <td>CQW49_05225 1.000</td>\n",
       "    </tr>\n",
       "    <tr>\n",
       "      <th>4647</th>\n",
       "      <td>CQW49_RS10645 1.000</td>\n",
       "      <td>CQW49_10615 1.000</td>\n",
       "    </tr>\n",
       "    <tr>\n",
       "      <th>4648</th>\n",
       "      <td>CQW49_RS22360 1.000</td>\n",
       "      <td>CQW49_22265 1.000</td>\n",
       "    </tr>\n",
       "    <tr>\n",
       "      <th>4649</th>\n",
       "      <td>CQW49_RS03860 1.000</td>\n",
       "      <td>CQW49_03850 1.000</td>\n",
       "    </tr>\n",
       "  </tbody>\n",
       "</table>\n",
       "<p>4650 rows × 2 columns</p>\n",
       "</div>"
      ],
      "text/plain": [
       "                     OrtoA               OrtoB\n",
       "0     CQW49_RS17720 1.000   CQW49_17665 1.000 \n",
       "1     CQW49_RS02345 1.000   CQW49_02340 1.000 \n",
       "2     CQW49_RS13625 1.000   CQW49_13590 1.000 \n",
       "3     CQW49_RS21565 1.000   CQW49_21485 1.000 \n",
       "4     CQW49_RS21480 1.000   CQW49_21405 1.000 \n",
       "5     CQW49_RS22310 1.000   CQW49_22215 1.000 \n",
       "6     CQW49_RS21485 1.000   CQW49_21410 1.000 \n",
       "7     CQW49_RS00015 1.000   CQW49_00015 1.000 \n",
       "8     CQW49_RS09840 1.000   CQW49_09820 1.000 \n",
       "9     CQW49_RS21550 1.000   CQW49_21470 1.000 \n",
       "10    CQW49_RS23880 1.000   CQW49_23775 1.000 \n",
       "11    CQW49_RS21490 1.000   CQW49_21415 1.000 \n",
       "12    CQW49_RS23535 1.000   CQW49_23435 1.000 \n",
       "13    CQW49_RS12625 1.000   CQW49_12590 1.000 \n",
       "14    CQW49_RS23555 1.000   CQW49_23455 1.000 \n",
       "15    CQW49_RS23875 1.000   CQW49_23770 1.000 \n",
       "16    CQW49_RS09700 1.000   CQW49_09680 1.000 \n",
       "17    CQW49_RS12915 1.000   CQW49_12880 1.000 \n",
       "18    CQW49_RS21495 1.000   CQW49_21420 1.000 \n",
       "19    CQW49_RS00895 1.000   CQW49_00895 1.000 \n",
       "20    CQW49_RS23570 1.000   CQW49_23470 1.000 \n",
       "21    CQW49_RS22705 1.000   CQW49_22605 1.000 \n",
       "22    CQW49_RS12910 1.000   CQW49_12875 1.000 \n",
       "23    CQW49_RS23955 1.000   CQW49_23850 1.000 \n",
       "24    CQW49_RS02665 1.000   CQW49_02655 1.000 \n",
       "25    CQW49_RS23565 1.000   CQW49_23465 1.000 \n",
       "26    CQW49_RS15250 1.000   CQW49_15215 1.000 \n",
       "27    CQW49_RS14010 1.000   CQW49_13975 1.000 \n",
       "28    CQW49_RS17930 1.000   CQW49_17875 1.000 \n",
       "29    CQW49_RS17330 1.000   CQW49_17280 1.000 \n",
       "...                    ...                 ...\n",
       "4620  CQW49_RS17380 1.000   CQW49_17330 1.000 \n",
       "4621  CQW49_RS17385 1.000   CQW49_17335 1.000 \n",
       "4622  CQW49_RS18385 1.000   CQW49_18325 1.000 \n",
       "4623  CQW49_RS23225 1.000   CQW49_23120 1.000 \n",
       "4624  CQW49_RS09580 1.000   CQW49_09560 1.000 \n",
       "4625  CQW49_RS22020 1.000   CQW49_21935 1.000 \n",
       "4626  CQW49_RS13120 1.000   CQW49_13085 1.000 \n",
       "4627  CQW49_RS23210 1.000   CQW49_23105 1.000 \n",
       "4628  CQW49_RS16405 1.000   CQW49_16370 1.000 \n",
       "4629  CQW49_RS22880 1.000   CQW49_22780 1.000 \n",
       "4630  CQW49_RS04485 1.000   CQW49_04480 1.000 \n",
       "4631  CQW49_RS08605 1.000   CQW49_08595 1.000 \n",
       "4632  CQW49_RS08905 1.000   CQW49_08895 1.000 \n",
       "4633  CQW49_RS06325 1.000   CQW49_06315 1.000 \n",
       "4634  CQW49_RS18955 1.000   CQW49_18895 1.000 \n",
       "4635  CQW49_RS16480 1.000   CQW49_16445 1.000 \n",
       "4636  CQW49_RS24085 1.000   CQW49_23970 1.000 \n",
       "4637  CQW49_RS08270 1.000   CQW49_08260 1.000 \n",
       "4638  CQW49_RS08350 1.000   CQW49_08340 1.000 \n",
       "4639  CQW49_RS21810 1.000   CQW49_21725 1.000 \n",
       "4640  CQW49_RS11655 1.000   CQW49_11620 1.000 \n",
       "4641  CQW49_RS06605 1.000   CQW49_06590 1.000 \n",
       "4642  CQW49_RS07175 1.000   CQW49_07165 1.000 \n",
       "4643  CQW49_RS18960 1.000   CQW49_18900 1.000 \n",
       "4644  CQW49_RS23200 1.000   CQW49_23095 1.000 \n",
       "4645  CQW49_RS12285 1.000   CQW49_12250 1.000 \n",
       "4646  CQW49_RS05230 1.000   CQW49_05225 1.000 \n",
       "4647  CQW49_RS10645 1.000   CQW49_10615 1.000 \n",
       "4648  CQW49_RS22360 1.000   CQW49_22265 1.000 \n",
       "4649  CQW49_RS03860 1.000   CQW49_03850 1.000 \n",
       "\n",
       "[4650 rows x 2 columns]"
      ]
     },
     "execution_count": 11,
     "metadata": {},
     "output_type": "execute_result"
    }
   ],
   "source": [
    "bp_data"
   ]
  },
  {
   "cell_type": "code",
   "execution_count": 12,
   "metadata": {
    "ExecuteTime": {
     "end_time": "2020-01-06T01:42:39.412452Z",
     "start_time": "2020-01-06T01:42:39.353928Z"
    }
   },
   "outputs": [],
   "source": [
    "bp_data.to_csv(inparanoid_directory + \"GEM_OB3b_inparanoid_runs/\" +\n",
    "                      \"OB3b_refseq_genome_ids_vs_OB3b_genbank_genome_ids/Output/\" +\n",
    "                      \"table.OB3b_Refseq_for_inparanoid.faa-OB3b_Genbank_for_inparanoid_intermediate.csv\", \n",
    "                       index = False)"
   ]
  },
  {
   "cell_type": "code",
   "execution_count": 13,
   "metadata": {
    "ExecuteTime": {
     "end_time": "2020-01-06T01:46:15.386275Z",
     "start_time": "2020-01-06T01:46:14.817444Z"
    }
   },
   "outputs": [],
   "source": [
    "bp_data = pd.read_csv(inparanoid_directory + \"GEM_OB3b_inparanoid_runs/\" +\n",
    "                      \"OB3b_refseq_genome_ids_vs_OB3b_genbank_genome_ids/Output/\" +\n",
    "                      \"table.OB3b_Refseq_for_inparanoid.faa-OB3b_Genbank_for_inparanoid_intermediate_2.csv\")\n",
    "\n",
    "#script to get only one locus tag name for each position\n",
    "#OrtoA in this case\n",
    "inparanoid_core=bp_data\n",
    "\n",
    "for each_gene_name_number in range(0, len(inparanoid_core.iloc[:,0])):\n",
    "    each_gene_name_splitted = inparanoid_core.iloc[each_gene_name_number,0].split()\n",
    "    for item in each_gene_name_splitted:\n",
    "        item_indexed = each_gene_name_splitted.index(item)\n",
    "        if len(each_gene_name_splitted) > 1:\n",
    "            inparanoid_core.iloc[each_gene_name_number,0] = each_gene_name_splitted[0]        \n",
    "            \n",
    "#script to get only one locus tag name for each position\n",
    "#OrtoB in this case\n",
    "\n",
    "for each_gene_name_number in range(0, len(inparanoid_core.iloc[:,1])):\n",
    "    each_gene_name_splitted = inparanoid_core.iloc[each_gene_name_number,1].split()\n",
    "    for item in each_gene_name_splitted:\n",
    "        item_indexed = each_gene_name_splitted.index(item)\n",
    "        if len(each_gene_name_splitted) > 1:\n",
    "            inparanoid_core.iloc[each_gene_name_number,1] = each_gene_name_splitted[0]  \n",
    "\n",
    "bp_data.to_csv(inparanoid_directory + \"GEM_OB3b_inparanoid_runs/\" +\n",
    "                      \"OB3b_refseq_genome_ids_vs_OB3b_genbank_genome_ids/Output/\" +\n",
    "                      \"table.OB3b_Refseq_for_inparanoid.faa-OB3b_Genbank_for_inparanoid_intermediate_3.csv\", index=False)"
   ]
  },
  {
   "cell_type": "code",
   "execution_count": 14,
   "metadata": {
    "ExecuteTime": {
     "end_time": "2020-01-06T01:51:45.448923Z",
     "start_time": "2020-01-06T01:51:45.405224Z"
    }
   },
   "outputs": [
    {
     "name": "stdout",
     "output_type": "stream",
     "text": [
      "{'OrtoA': 'OrtoB', 'CQW49_RS17720': 'CQW49_17665', 'CQW49_RS02345': 'CQW49_02340', 'CQW49_RS13625': 'CQW49_13590', 'CQW49_RS21565': 'CQW49_21485', 'CQW49_RS21480': 'CQW49_21405', 'CQW49_RS22310': 'CQW49_22215', 'CQW49_RS21485': 'CQW49_21410', 'CQW49_RS00015': 'CQW49_00015', 'CQW49_RS09840': 'CQW49_09820', 'CQW49_RS21550': 'CQW49_21470', 'CQW49_RS23880': 'CQW49_23775', 'CQW49_RS21490': 'CQW49_21415', 'CQW49_RS23535': 'CQW49_23435', 'CQW49_RS12625': 'CQW49_12590', 'CQW49_RS23555': 'CQW49_23455', 'CQW49_RS23875': 'CQW49_23770', 'CQW49_RS09700': 'CQW49_09680', 'CQW49_RS12915': 'CQW49_12880', 'CQW49_RS21495': 'CQW49_21420', 'CQW49_RS00895': 'CQW49_00895', 'CQW49_RS23570': 'CQW49_23470', 'CQW49_RS22705': 'CQW49_22605', 'CQW49_RS12910': 'CQW49_12875', 'CQW49_RS23955': 'CQW49_23850', 'CQW49_RS02665': 'CQW49_02655', 'CQW49_RS23565': 'CQW49_23465', 'CQW49_RS15250': 'CQW49_15215', 'CQW49_RS14010': 'CQW49_13975', 'CQW49_RS17930': 'CQW49_17875', 'CQW49_RS17330': 'CQW49_17280', 'CQW49_RS17320': 'CQW49_17275', 'CQW49_RS08505': 'CQW49_08495', 'CQW49_RS19210': 'CQW49_19155', 'CQW49_RS21015': 'CQW49_20940', 'CQW49_RS11690': 'CQW49_11655', 'CQW49_RS06985': 'CQW49_06975', 'CQW49_RS01580': 'CQW49_01575', 'CQW49_RS15520': 'CQW49_15485', 'CQW49_RS04005': 'CQW49_03995', 'CQW49_RS05215': 'CQW49_05210', 'CQW49_RS21505': 'CQW49_21430', 'CQW49_RS17905': 'CQW49_17850', 'CQW49_RS19115': 'CQW49_19055', 'CQW49_RS05145': 'CQW49_05140', 'CQW49_RS01825': 'CQW49_01820', 'CQW49_RS07940': 'CQW49_07930', 'CQW49_RS05405': 'CQW49_05400', 'CQW49_RS16705': 'CQW49_16665', 'CQW49_RS02170': 'CQW49_02165', 'CQW49_RS08085': 'CQW49_08075', 'CQW49_RS12670': 'CQW49_12635', 'CQW49_RS10620': 'CQW49_10590', 'CQW49_RS20810': 'CQW49_20735', 'CQW49_RS07105': 'CQW49_07095', 'CQW49_RS15155': 'CQW49_15120', 'CQW49_RS01715': 'CQW49_01710', 'CQW49_RS12450': 'CQW49_12415', 'CQW49_RS22315': 'CQW49_22220', 'CQW49_RS09375': 'CQW49_09355', 'CQW49_RS13830': 'CQW49_13795', 'CQW49_RS23280': 'CQW49_23175', 'CQW49_RS22800': 'CQW49_22700', 'CQW49_RS05945': 'CQW49_05935', 'CQW49_RS21455': 'CQW49_21380', 'CQW49_RS05735': 'CQW49_05725', 'CQW49_RS18415': 'CQW49_18355', 'CQW49_RS23560': 'CQW49_23460', 'CQW49_RS18155': 'CQW49_18095', 'CQW49_RS09805': 'CQW49_09785', 'CQW49_RS07995': 'CQW49_07985', 'CQW49_RS23145': 'CQW49_23045', 'CQW49_RS22535': 'CQW49_22440', 'CQW49_RS08095': 'CQW49_08085', 'CQW49_RS21180': 'CQW49_21105', 'CQW49_RS23550': 'CQW49_23450', 'CQW49_RS05430': 'CQW49_05425', 'CQW49_RS20490': 'CQW49_20420', 'CQW49_RS24065': 'CQW49_23950', 'CQW49_RS02085': 'CQW49_02080', 'CQW49_RS09845': 'CQW49_09825', 'CQW49_RS13970': 'CQW49_13935', 'CQW49_RS22435': 'CQW49_22340', 'CQW49_RS13675': 'CQW49_13640', 'CQW49_RS19930': 'CQW49_19865', 'CQW49_RS22290': 'CQW49_22205', 'CQW49_RS08385': 'CQW49_08375', 'CQW49_RS11395': 'CQW49_11365', 'CQW49_RS16425': 'CQW49_16390', 'CQW49_RS21995': 'CQW49_21910', 'CQW49_RS14875': 'CQW49_14840', 'CQW49_RS16570': 'CQW49_16530', 'CQW49_RS21720': 'CQW49_21635', 'CQW49_RS09355': 'CQW49_09335', 'CQW49_RS16935': 'CQW49_16890', 'CQW49_RS23440': 'CQW49_23335', 'CQW49_RS04935': 'CQW49_04930', 'CQW49_RS13955': 'CQW49_13920', 'CQW49_RS20705': 'CQW49_20630', 'CQW49_RS22200': 'CQW49_22115', 'CQW49_RS01790': 'CQW49_01785', 'CQW49_RS13965': 'CQW49_13930', 'CQW49_RS16160': 'CQW49_16125', 'CQW49_RS16665': 'CQW49_16625', 'CQW49_RS14895': 'CQW49_14860', 'CQW49_RS11710': 'CQW49_11675', 'CQW49_RS17010': 'CQW49_16965', 'CQW49_RS22815': 'CQW49_22715', 'CQW49_RS08380': 'CQW49_08370', 'CQW49_RS13680': 'CQW49_13645', 'CQW49_RS22195': 'CQW49_22110', 'CQW49_RS03165': 'CQW49_03155', 'CQW49_RS01795': 'CQW49_01790', 'CQW49_RS13000': 'CQW49_12965', 'CQW49_RS13135': 'CQW49_13100', 'CQW49_RS17215': 'CQW49_17170', 'CQW49_RS02295': 'CQW49_02290', 'CQW49_RS08930': 'CQW49_08920', 'CQW49_RS13720': 'CQW49_13685', 'CQW49_RS23310': 'CQW49_23205', 'CQW49_RS08345': 'CQW49_08335', 'CQW49_RS12765': 'CQW49_12730', 'CQW49_RS07365': 'CQW49_07355', 'CQW49_RS15900': 'CQW49_15865', 'CQW49_RS02135': 'CQW49_02130', 'CQW49_RS01040': 'CQW49_01040', 'CQW49_RS05810': 'CQW49_05800', 'CQW49_RS08020': 'CQW49_08010', 'CQW49_RS19455': 'CQW49_19400', 'CQW49_RS16155': 'CQW49_16120', 'CQW49_RS22850': 'CQW49_22750', 'CQW49_RS11735': 'CQW49_11700', 'CQW49_RS08640': 'CQW49_08630', 'CQW49_RS12400': 'CQW49_12365', 'CQW49_RS20965': 'CQW49_20890', 'CQW49_RS13170': 'CQW49_13135', 'CQW49_RS07355': 'CQW49_07345', 'CQW49_RS15755': 'CQW49_15720', 'CQW49_RS10690': 'CQW49_10660', 'CQW49_RS10130': 'CQW49_10105', 'CQW49_RS05100': 'CQW49_05095', 'CQW49_RS17290': 'CQW49_17245', 'CQW49_RS19355': 'CQW49_19300', 'CQW49_RS10965': 'CQW49_10935', 'CQW49_RS12265': 'CQW49_12230', 'CQW49_RS04965': 'CQW49_04960', 'CQW49_RS17305': 'CQW49_17260', 'CQW49_RS02060': 'CQW49_02055', 'CQW49_RS11135': 'CQW49_11105', 'CQW49_RS15855': 'CQW49_15820', 'CQW49_RS04525': 'CQW49_04520', 'CQW49_RS22000': 'CQW49_21915', 'CQW49_RS06445': 'CQW49_06435', 'CQW49_RS11185': 'CQW49_11155', 'CQW49_RS19515': 'CQW49_19460', 'CQW49_RS02080': 'CQW49_02075', 'CQW49_RS05040': 'CQW49_05035', 'CQW49_RS02600': 'CQW49_02590', 'CQW49_RS10150': 'CQW49_10125', 'CQW49_RS19070': 'CQW49_19010', 'CQW49_RS01770': 'CQW49_01765', 'CQW49_RS02995': 'CQW49_02985', 'CQW49_RS13940': 'CQW49_13905', 'CQW49_RS02430': 'CQW49_02420', 'CQW49_RS18175': 'CQW49_18115', 'CQW49_RS13925': 'CQW49_13890', 'CQW49_RS16775': 'CQW49_16735', 'CQW49_RS16815': 'CQW49_16775', 'CQW49_RS03310': 'CQW49_03300', 'CQW49_RS17445': 'CQW49_17395', 'CQW49_RS22080': 'CQW49_21995', 'CQW49_RS23515': 'CQW49_23410', 'CQW49_RS21955': 'CQW49_21870', 'CQW49_RS18940': 'CQW49_18880', 'CQW49_RS15505': 'CQW49_15470', 'CQW49_RS17585': 'CQW49_17530', 'CQW49_RS10140': 'CQW49_10115', 'CQW49_RS13695': 'CQW49_13660', 'CQW49_RS23475': 'CQW49_23370', 'CQW49_RS00465': 'CQW49_00465', 'CQW49_RS03435': 'CQW49_03420', 'CQW49_RS04460': 'CQW49_04455', 'CQW49_RS13750': 'CQW49_13715', 'CQW49_RS12665': 'CQW49_12630', 'CQW49_RS13040': 'CQW49_13005', 'CQW49_RS18235': 'CQW49_18175', 'CQW49_RS22230': 'CQW49_22145', 'CQW49_RS24105': 'CQW49_23990', 'CQW49_RS14340': 'CQW49_14305', 'CQW49_RS21785': 'CQW49_21700', 'CQW49_RS03090': 'CQW49_03080', 'CQW49_RS07180': 'CQW49_07170', 'CQW49_RS04520': 'CQW49_04515', 'CQW49_RS10240': 'CQW49_10215', 'CQW49_RS19365': 'CQW49_19310', 'CQW49_RS01470': 'CQW49_01465', 'CQW49_RS08575': 'CQW49_08565', 'CQW49_RS14140': 'CQW49_14105', 'CQW49_RS18320': 'CQW49_18260', 'CQW49_RS14995': 'CQW49_14960', 'CQW49_RS11815': 'CQW49_11780', 'CQW49_RS12015': 'CQW49_11980', 'CQW49_RS20690': 'CQW49_20615', 'CQW49_RS01940': 'CQW49_01935', 'CQW49_RS03785': 'CQW49_03775', 'CQW49_RS02005': 'CQW49_02000', 'CQW49_RS02145': 'CQW49_02140', 'CQW49_RS12610': 'CQW49_12575', 'CQW49_RS07220': 'CQW49_07210', 'CQW49_RS03200': 'CQW49_03190', 'CQW49_RS06195': 'CQW49_06185', 'CQW49_RS15785': 'CQW49_15750', 'CQW49_RS21925': 'CQW49_21840', 'CQW49_RS05120': 'CQW49_05115', 'CQW49_RS19200': 'CQW49_19140', 'CQW49_RS04470': 'CQW49_04465', 'CQW49_RS23355': 'CQW49_23250', 'CQW49_RS09720': 'CQW49_09700', 'CQW49_RS02425': 'CQW49_02415', 'CQW49_RS16140': 'CQW49_16105', 'CQW49_RS22140': 'CQW49_22055', 'CQW49_RS13805': 'CQW49_13770', 'CQW49_RS23885': 'CQW49_23780', 'CQW49_RS05765': 'CQW49_05755', 'CQW49_RS08515': 'CQW49_08505', 'CQW49_RS10975': 'CQW49_10945', 'CQW49_RS23035': 'CQW49_22935', 'CQW49_RS13595': 'CQW49_13560', 'CQW49_RS17045': 'CQW49_17000', 'CQW49_RS03580': 'CQW49_03570', 'CQW49_RS14725': 'CQW49_14690', 'CQW49_RS07385': 'CQW49_07375', 'CQW49_RS09855': 'CQW49_09835', 'CQW49_RS03265': 'CQW49_03255', 'CQW49_RS10895': 'CQW49_10865', 'CQW49_RS05625': 'CQW49_05615', 'CQW49_RS19865': 'CQW49_19810', 'CQW49_RS22335': 'CQW49_22240', 'CQW49_RS22420': 'CQW49_22325', 'CQW49_RS13920': 'CQW49_13885', 'CQW49_RS10595': 'CQW49_10565', 'CQW49_RS20910': 'CQW49_20835', 'CQW49_RS14620': 'CQW49_14585', 'CQW49_RS17695': 'CQW49_17640', 'CQW49_RS06265': 'CQW49_06255', 'CQW49_RS00415': 'CQW49_00415', 'CQW49_RS04325': 'CQW49_04315', 'CQW49_RS00830': 'CQW49_00830', 'CQW49_RS11030': 'CQW49_11000', 'CQW49_RS07060': 'CQW49_07050', 'CQW49_RS07875': 'CQW49_07865', 'CQW49_RS22035': 'CQW49_21950', 'CQW49_RS09285': 'CQW49_09265', 'CQW49_RS02305': 'CQW49_02300', 'CQW49_RS07665': 'CQW49_07655', 'CQW49_RS18035': 'CQW49_17975', 'CQW49_RS15510': 'CQW49_15475', 'CQW49_RS09135': 'CQW49_09115', 'CQW49_RS17090': 'CQW49_17045', 'CQW49_RS21200': 'CQW49_21125', 'CQW49_RS13275': 'CQW49_13240', 'CQW49_RS18975': 'CQW49_18915', 'CQW49_RS14935': 'CQW49_14900', 'CQW49_RS02860': 'CQW49_02850', 'CQW49_RS16300': 'CQW49_16265', 'CQW49_RS21600': 'CQW49_21520', 'CQW49_RS05135': 'CQW49_05130', 'CQW49_RS16335': 'CQW49_16300', 'CQW49_RS10940': 'CQW49_10910', 'CQW49_RS05900': 'CQW49_05890', 'CQW49_RS09520': 'CQW49_09500', 'CQW49_RS16340': 'CQW49_16305', 'CQW49_RS19585': 'CQW49_19530', 'CQW49_RS03345': 'CQW49_03335', 'CQW49_RS18215': 'CQW49_18155', 'CQW49_RS02335': 'CQW49_02330', 'CQW49_RS22070': 'CQW49_21985', 'CQW49_RS05680': 'CQW49_05670', 'CQW49_RS09385': 'CQW49_09365', 'CQW49_RS13460': 'CQW49_13425', 'CQW49_RS01035': 'CQW49_01035', 'CQW49_RS06330': 'CQW49_06320', 'CQW49_RS11955': 'CQW49_11920', 'CQW49_RS24070': 'CQW49_23955', 'CQW49_RS18210': 'CQW49_18150', 'CQW49_RS04795': 'CQW49_04785', 'CQW49_RS22125': 'CQW49_22040', 'CQW49_RS07560': 'CQW49_07550', 'CQW49_RS04000': 'CQW49_03990', 'CQW49_RS04095': 'CQW49_04085', 'CQW49_RS17935': 'CQW49_17880', 'CQW49_RS04730': 'CQW49_04720', 'CQW49_RS05825': 'CQW49_05815', 'CQW49_RS20480': 'CQW49_20410', 'CQW49_RS03830': 'CQW49_03820', 'CQW49_RS23725': 'CQW49_23625', 'CQW49_RS15535': 'CQW49_15500', 'CQW49_RS17270': 'CQW49_17225', 'CQW49_RS19700': 'CQW49_19645', 'CQW49_RS06720': 'CQW49_06710', 'CQW49_RS21160': 'CQW49_21085', 'CQW49_RS01650': 'CQW49_01645', 'CQW49_RS09220': 'CQW49_09200', 'CQW49_RS21895': 'CQW49_21810', 'CQW49_RS03695': 'CQW49_03685', 'CQW49_RS14870': 'CQW49_14835', 'CQW49_RS13430': 'CQW49_13395', 'CQW49_RS04685': 'CQW49_04675', 'CQW49_RS07815': 'CQW49_07805', 'CQW49_RS12585': 'CQW49_12550', 'CQW49_RS13815': 'CQW49_13780', 'CQW49_RS07885': 'CQW49_07875', 'CQW49_RS22805': 'CQW49_22705', 'CQW49_RS19550': 'CQW49_19495', 'CQW49_RS01055': 'CQW49_01055', 'CQW49_RS12700': 'CQW49_12665', 'CQW49_RS14555': 'CQW49_14520', 'CQW49_RS21230': 'CQW49_21155', 'CQW49_RS21265': 'CQW49_21190', 'CQW49_RS15870': 'CQW49_15835', 'CQW49_RS07350': 'CQW49_07340', 'CQW49_RS03945': 'CQW49_03935', 'CQW49_RS04985': 'CQW49_04980', 'CQW49_RS15255': 'CQW49_15220', 'CQW49_RS05300': 'CQW49_05295', 'CQW49_RS21120': 'CQW49_21045', 'CQW49_RS05700': 'CQW49_05690', 'CQW49_RS10535': 'CQW49_10510', 'CQW49_RS14005': 'CQW49_13970', 'CQW49_RS04920': 'CQW49_04915', 'CQW49_RS05325': 'CQW49_05320', 'CQW49_RS22495': 'CQW49_22400', 'CQW49_RS03195': 'CQW49_03185', 'CQW49_RS03635': 'CQW49_03625', 'CQW49_RS00010': 'CQW49_00010', 'CQW49_RS20170': 'CQW49_20105', 'CQW49_RS16865': 'CQW49_16820', 'CQW49_RS09775': 'CQW49_09755', 'CQW49_RS04175': 'CQW49_04165', 'CQW49_RS23150': 'CQW49_23050', 'CQW49_RS22840': 'CQW49_22740', 'CQW49_RS01535': 'CQW49_01530', 'CQW49_RS03950': 'CQW49_03940', 'CQW49_RS00090': 'CQW49_00090', 'CQW49_RS19130': 'CQW49_19070', 'CQW49_RS00020': 'CQW49_00020', 'CQW49_RS17155': 'CQW49_17110', 'CQW49_RS17790': 'CQW49_17735', 'CQW49_RS14115': 'CQW49_14080', 'CQW49_RS18420': 'CQW49_18360', 'CQW49_RS10010': 'CQW49_09985', 'CQW49_RS21185': 'CQW49_21110', 'CQW49_RS15045': 'CQW49_15010', 'CQW49_RS09485': 'CQW49_09465', 'CQW49_RS10795': 'CQW49_10765', 'CQW49_RS17795': 'CQW49_17740', 'CQW49_RS20870': 'CQW49_20795', 'CQW49_RS10655': 'CQW49_10625', 'CQW49_RS22135': 'CQW49_22050', 'CQW49_RS19770': 'CQW49_19715', 'CQW49_RS22770': 'CQW49_22670', 'CQW49_RS17990': 'CQW49_17935', 'CQW49_RS20880': 'CQW49_20805', 'CQW49_RS18460': 'CQW49_18400', 'CQW49_RS17335': 'CQW49_17285', 'CQW49_RS03700': 'CQW49_03690', 'CQW49_RS17285': 'CQW49_17240', 'CQW49_RS09915': 'CQW49_09895', 'CQW49_RS23360': 'CQW49_23255', 'CQW49_RS10215': 'CQW49_10190', 'CQW49_RS14460': 'CQW49_14425', 'CQW49_RS03315': 'CQW49_03305', 'CQW49_RS16010': 'CQW49_15975', 'CQW49_RS19390': 'CQW49_19335', 'CQW49_RS00685': 'CQW49_00685', 'CQW49_RS04780': 'CQW49_04770', 'CQW49_RS20220': 'CQW49_20150', 'CQW49_RS15650': 'CQW49_15615', 'CQW49_RS09780': 'CQW49_09760', 'CQW49_RS11320': 'CQW49_11290', 'CQW49_RS12980': 'CQW49_12945', 'CQW49_RS18690': 'CQW49_18630', 'CQW49_RS01245': 'CQW49_01240', 'CQW49_RS09705': 'CQW49_09685', 'CQW49_RS21010': 'CQW49_20935', 'CQW49_RS17395': 'CQW49_17345', 'CQW49_RS19150': 'CQW49_19090', 'CQW49_RS22510': 'CQW49_22415', 'CQW49_RS09190': 'CQW49_09170', 'CQW49_RS18310': 'CQW49_18250', 'CQW49_RS18920': 'CQW49_18860', 'CQW49_RS12530': 'CQW49_12495', 'CQW49_RS15875': 'CQW49_15840', 'CQW49_RS14430': 'CQW49_14395', 'CQW49_RS04775': 'CQW49_04765', 'CQW49_RS09240': 'CQW49_09220', 'CQW49_RS06110': 'CQW49_06100', 'CQW49_RS11790': 'CQW49_11755', 'CQW49_RS02340': 'CQW49_02335', 'CQW49_RS13870': 'CQW49_13835', 'CQW49_RS16895': 'CQW49_16850', 'CQW49_RS18575': 'CQW49_18515', 'CQW49_RS18565': 'CQW49_18505', 'CQW49_RS09790': 'CQW49_09770', 'CQW49_RS10235': 'CQW49_10210', 'CQW49_RS18125': 'CQW49_18065', 'CQW49_RS00765': 'CQW49_00765', 'CQW49_RS02365': 'CQW49_02360', 'CQW49_RS09590': 'CQW49_09570', 'CQW49_RS13985': 'CQW49_13950', 'CQW49_RS10840': 'CQW49_10810', 'CQW49_RS04945': 'CQW49_04940', 'CQW49_RS03520': 'CQW49_03510', 'CQW49_RS07785': 'CQW49_07775', 'CQW49_RS23850': 'CQW49_23745', 'CQW49_RS06035': 'CQW49_06025', 'CQW49_RS12465': 'CQW49_12430', 'CQW49_RS20505': 'CQW49_20435', 'CQW49_RS08615': 'CQW49_08605', 'CQW49_RS18980': 'CQW49_18920', 'CQW49_RS13010': 'CQW49_12975', 'CQW49_RS07235': 'CQW49_07225', 'CQW49_RS05580': 'CQW49_05570', 'CQW49_RS09585': 'CQW49_09565', 'CQW49_RS07925': 'CQW49_07915', 'CQW49_RS12590': 'CQW49_12555', 'CQW49_RS03645': 'CQW49_03635', 'CQW49_RS20640': 'CQW49_20565', 'CQW49_RS16495': 'CQW49_16460', 'CQW49_RS02385': 'CQW49_02375', 'CQW49_RS16235': 'CQW49_16200', 'CQW49_RS19960': 'CQW49_19895', 'CQW49_RS20345': 'CQW49_20275', 'CQW49_RS21625': 'CQW49_21540', 'CQW49_RS12800': 'CQW49_12765', 'CQW49_RS03915': 'CQW49_03905', 'CQW49_RS17505': 'CQW49_17450', 'CQW49_RS07455': 'CQW49_07445', 'CQW49_RS17750': 'CQW49_17695', 'CQW49_RS15680': 'CQW49_15645', 'CQW49_RS06830': 'CQW49_06820', 'CQW49_RS05005': 'CQW49_05000', 'CQW49_RS19850': 'CQW49_19795', 'CQW49_RS09405': 'CQW49_09385', 'CQW49_RS04925': 'CQW49_04920', 'CQW49_RS17550': 'CQW49_17495', 'CQW49_RS00850': 'CQW49_00850', 'CQW49_RS02695': 'CQW49_02685', 'CQW49_RS09825': 'CQW49_09805', 'CQW49_RS22270': 'CQW49_22185', 'CQW49_RS15775': 'CQW49_15740', 'CQW49_RS20985': 'CQW49_20910', 'CQW49_RS08140': 'CQW49_08130', 'CQW49_RS18855': 'CQW49_18795', 'CQW49_RS11600': 'CQW49_11565', 'CQW49_RS13050': 'CQW49_13015', 'CQW49_RS06660': 'CQW49_06650', 'CQW49_RS15525': 'CQW49_15490', 'CQW49_RS19005': 'CQW49_18945', 'CQW49_RS04230': 'CQW49_04220', 'CQW49_RS07100': 'CQW49_07090', 'CQW49_RS18520': 'CQW49_18460', 'CQW49_RS02390': 'CQW49_02380', 'CQW49_RS20045': 'CQW49_19980', 'CQW49_RS21260': 'CQW49_21185', 'CQW49_RS14840': 'CQW49_14805', 'CQW49_RS12090': 'CQW49_12055', 'CQW49_RS18250': 'CQW49_18190', 'CQW49_RS15050': 'CQW49_15015', 'CQW49_RS01310': 'CQW49_01305', 'CQW49_RS06615': 'CQW49_06600', 'CQW49_RS12375': 'CQW49_12340', 'CQW49_RS20030': 'CQW49_19965', 'CQW49_RS02910': 'CQW49_02900', 'CQW49_RS14110': 'CQW49_14075', 'CQW49_RS11095': 'CQW49_11065', 'CQW49_RS00670': 'CQW49_00670', 'CQW49_RS06220': 'CQW49_06210', 'CQW49_RS21890': 'CQW49_21805', 'CQW49_RS12365': 'CQW49_12330', 'CQW49_RS19420': 'CQW49_19365', 'CQW49_RS21070': 'CQW49_20995', 'CQW49_RS21875': 'CQW49_21790', 'CQW49_RS08185': 'CQW49_08175', 'CQW49_RS16785': 'CQW49_16745', 'CQW49_RS11230': 'CQW49_11200', 'CQW49_RS11885': 'CQW49_11850', 'CQW49_RS06785': 'CQW49_06775', 'CQW49_RS08825': 'CQW49_08815', 'CQW49_RS18335': 'CQW49_18275', 'CQW49_RS05425': 'CQW49_05420', 'CQW49_RS05985': 'CQW49_05975', 'CQW49_RS05795': 'CQW49_05785', 'CQW49_RS02300': 'CQW49_02295', 'CQW49_RS09105': 'CQW49_09085', 'CQW49_RS24135': 'CQW49_24020', 'CQW49_RS21400': 'CQW49_21325', 'CQW49_RS00335': 'CQW49_00335', 'CQW49_RS15935': 'CQW49_15900', 'CQW49_RS04290': 'CQW49_04280', 'CQW49_RS09015': 'CQW49_09000', 'CQW49_RS10065': 'CQW49_10040', 'CQW49_RS19620': 'CQW49_19565', 'CQW49_RS01840': 'CQW49_01835', 'CQW49_RS06305': 'CQW49_06295', 'CQW49_RS08180': 'CQW49_08170', 'CQW49_RS12230': 'CQW49_12195', 'CQW49_RS01065': 'CQW49_01065', 'CQW49_RS11520': 'CQW49_11490', 'CQW49_RS12345': 'CQW49_12310', 'CQW49_RS00390': 'CQW49_00390', 'CQW49_RS06165': 'CQW49_06155', 'CQW49_RS06845': 'CQW49_06835', 'CQW49_RS16360': 'CQW49_16325', 'CQW49_RS10785': 'CQW49_10755', 'CQW49_RS13835': 'CQW49_13800', 'CQW49_RS16600': 'CQW49_16560', 'CQW49_RS17465': 'CQW49_17410', 'CQW49_RS23910': 'CQW49_23805', 'CQW49_RS11300': 'CQW49_11270', 'CQW49_RS23700': 'CQW49_23600', 'CQW49_RS07825': 'CQW49_07815', 'CQW49_RS08725': 'CQW49_08715', 'CQW49_RS09225': 'CQW49_09205', 'CQW49_RS03160': 'CQW49_03150', 'CQW49_RS08090': 'CQW49_08080', 'CQW49_RS21670': 'CQW49_21585', 'CQW49_RS00770': 'CQW49_00770', 'CQW49_RS01685': 'CQW49_01680', 'CQW49_RS12515': 'CQW49_12480', 'CQW49_RS20650': 'CQW49_20575', 'CQW49_RS01755': 'CQW49_01750', 'CQW49_RS04845': 'CQW49_04835', 'CQW49_RS09715': 'CQW49_09695', 'CQW49_RS22685': 'CQW49_22585', 'CQW49_RS23510': 'CQW49_23405', 'CQW49_RS05280': 'CQW49_05275', 'CQW49_RS05400': 'CQW49_05395', 'CQW49_RS06480': 'CQW49_06470', 'CQW49_RS19345': 'CQW49_19290', 'CQW49_RS15020': 'CQW49_14985', 'CQW49_RS06130': 'CQW49_06120', 'CQW49_RS19385': 'CQW49_19330', 'CQW49_RS10650': 'CQW49_10620', 'CQW49_RS23810': 'CQW49_23710', 'CQW49_RS04455': 'CQW49_04450', 'CQW49_RS19000': 'CQW49_18940', 'CQW49_RS03840': 'CQW49_03830', 'CQW49_RS05560': 'CQW49_05550', 'CQW49_RS07685': 'CQW49_07675', 'CQW49_RS10195': 'CQW49_10170', 'CQW49_RS02410': 'CQW49_02400', 'CQW49_RS03065': 'CQW49_03055', 'CQW49_RS04480': 'CQW49_04475', 'CQW49_RS09755': 'CQW49_09735', 'CQW49_RS16385': 'CQW49_16350', 'CQW49_RS12520': 'CQW49_12485', 'CQW49_RS01725': 'CQW49_01720', 'CQW49_RS09195': 'CQW49_09175', 'CQW49_RS09965': 'CQW49_09940', 'CQW49_RS10250': 'CQW49_10225', 'CQW49_RS12350': 'CQW49_12315', 'CQW49_RS03190': 'CQW49_03180', 'CQW49_RS04475': 'CQW49_04470', 'CQW49_RS08730': 'CQW49_08720', 'CQW49_RS05520': 'CQW49_05510', 'CQW49_RS01165': 'CQW49_01160', 'CQW49_RS23635': 'CQW49_23535', 'CQW49_RS08050': 'CQW49_08040', 'CQW49_RS15410': 'CQW49_15375', 'CQW49_RS08075': 'CQW49_08065', 'CQW49_RS10220': 'CQW49_10195', 'CQW49_RS11175': 'CQW49_11145', 'CQW49_RS13415': 'CQW49_13380', 'CQW49_RS01925': 'CQW49_01920', 'CQW49_RS20850': 'CQW49_20775', 'CQW49_RS23175': 'CQW49_23070', 'CQW49_RS17840': 'CQW49_17785', 'CQW49_RS00355': 'CQW49_00355', 'CQW49_RS21195': 'CQW49_21120', 'CQW49_RS12990': 'CQW49_12955', 'CQW49_RS24110': 'CQW49_23995', 'CQW49_RS06710': 'CQW49_06700', 'CQW49_RS10920': 'CQW49_10890', 'CQW49_RS08315': 'CQW49_08305', 'CQW49_RS17855': 'CQW49_17800', 'CQW49_RS08815': 'CQW49_08805', 'CQW49_RS11055': 'CQW49_11025', 'CQW49_RS18700': 'CQW49_18640', 'CQW49_RS18450': 'CQW49_18390', 'CQW49_RS03610': 'CQW49_03600', 'CQW49_RS06840': 'CQW49_06830', 'CQW49_RS22895': 'CQW49_22795', 'CQW49_RS09735': 'CQW49_09715', 'CQW49_RS06075': 'CQW49_06065', 'CQW49_RS11065': 'CQW49_11035', 'CQW49_RS20470': 'CQW49_20400', 'CQW49_RS05770': 'CQW49_05760', 'CQW49_RS07025': 'CQW49_07015', 'CQW49_RS15640': 'CQW49_15605', 'CQW49_RS16475': 'CQW49_16440', 'CQW49_RS16670': 'CQW49_16630', 'CQW49_RS23000': 'CQW49_22900', 'CQW49_RS01595': 'CQW49_01590', 'CQW49_RS15175': 'CQW49_15140', 'CQW49_RS09815': 'CQW49_09795', 'CQW49_RS15365': 'CQW49_15330', 'CQW49_RS02185': 'CQW49_02180', 'CQW49_RS05955': 'CQW49_05945', 'CQW49_RS11665': 'CQW49_11630', 'CQW49_RS12960': 'CQW49_12925', 'CQW49_RS18560': 'CQW49_18500', 'CQW49_RS24050': 'CQW49_23940', 'CQW49_RS14770': 'CQW49_14735', 'CQW49_RS12125': 'CQW49_12090', 'CQW49_RS12485': 'CQW49_12450', 'CQW49_RS22040': 'CQW49_21955', 'CQW49_RS22385': 'CQW49_22290', 'CQW49_RS04980': 'CQW49_04975', 'CQW49_RS16685': 'CQW49_16645', 'CQW49_RS19065': 'CQW49_19005', 'CQW49_RS21305': 'CQW49_21230', 'CQW49_RS17005': 'CQW49_16960', 'CQW49_RS00610': 'CQW49_00610', 'CQW49_RS13850': 'CQW49_13815', 'CQW49_RS19410': 'CQW49_19355', 'CQW49_RS19215': 'CQW49_19160', 'CQW49_RS03465': 'CQW49_03455', 'CQW49_RS20070': 'CQW49_20005', 'CQW49_RS01750': 'CQW49_01745', 'CQW49_RS20010': 'CQW49_19945', 'CQW49_RS20280': 'CQW49_20210', 'CQW49_RS07125': 'CQW49_07115', 'CQW49_RS09140': 'CQW49_09120', 'CQW49_RS09455': 'CQW49_09435', 'CQW49_RS12140': 'CQW49_12105', 'CQW49_RS16120': 'CQW49_16085', 'CQW49_RS22390': 'CQW49_22295', 'CQW49_RS13165': 'CQW49_13130', 'CQW49_RS05540': 'CQW49_05530', 'CQW49_RS18060': 'CQW49_18000', 'CQW49_RS13315': 'CQW49_13280', 'CQW49_RS14890': 'CQW49_14855', 'CQW49_RS20020': 'CQW49_19955', 'CQW49_RS11455': 'CQW49_11425', 'CQW49_RS15950': 'CQW49_15915', 'CQW49_RS20715': 'CQW49_20640', 'CQW49_RS04165': 'CQW49_04155', 'CQW49_RS10875': 'CQW49_10845', 'CQW49_RS10910': 'CQW49_10880', 'CQW49_RS17920': 'CQW49_17865', 'CQW49_RS03020': 'CQW49_03010', 'CQW49_RS10135': 'CQW49_10110', 'CQW49_RS00805': 'CQW49_00805', 'CQW49_RS08220': 'CQW49_08210', 'CQW49_RS08280': 'CQW49_08270', 'CQW49_RS08735': 'CQW49_08725', 'CQW49_RS10695': 'CQW49_10665', 'CQW49_RS19905': 'CQW49_19840', 'CQW49_RS22185': 'CQW49_22100', 'CQW49_RS06285': 'CQW49_06275', 'CQW49_RS05065': 'CQW49_05060', 'CQW49_RS11590': 'CQW49_11555', 'CQW49_RS18485': 'CQW49_18425', 'CQW49_RS22530': 'CQW49_22435', 'CQW49_RS13385': 'CQW49_13350', 'CQW49_RS17960': 'CQW49_17905', 'CQW49_RS22900': 'CQW49_22800', 'CQW49_RS04700': 'CQW49_04690', 'CQW49_RS14835': 'CQW49_14800', 'CQW49_RS16630': 'CQW49_16590', 'CQW49_RS21870': 'CQW49_21785', 'CQW49_RS22280': 'CQW49_22195', 'CQW49_RS14345': 'CQW49_14310', 'CQW49_RS15830': 'CQW49_15795', 'CQW49_RS01780': 'CQW49_01775', 'CQW49_RS19495': 'CQW49_19440', 'CQW49_RS20340': 'CQW49_20270', 'CQW49_RS11865': 'CQW49_11830', 'CQW49_RS16565': 'CQW49_16525', 'CQW49_RS04450': 'CQW49_04445', 'CQW49_RS00815': 'CQW49_00815', 'CQW49_RS20795': 'CQW49_20720', 'CQW49_RS03040': 'CQW49_03030', 'CQW49_RS07770': 'CQW49_07760', 'CQW49_RS08845': 'CQW49_08835', 'CQW49_RS04365': 'CQW49_04360', 'CQW49_RS02855': 'CQW49_02845', 'CQW49_RS13585': 'CQW49_13550', 'CQW49_RS00995': 'CQW49_00995', 'CQW49_RS04890': 'CQW49_04880', 'CQW49_RS15135': 'CQW49_15100', 'CQW49_RS17225': 'CQW49_17180', 'CQW49_RS20425': 'CQW49_20355', 'CQW49_RS23500': 'CQW49_23395', 'CQW49_RS10335': 'CQW49_10310', 'CQW49_RS14880': 'CQW49_14845', 'CQW49_RS16455': 'CQW49_16420', 'CQW49_RS00295': 'CQW49_00295', 'CQW49_RS01100': 'CQW49_01100', 'CQW49_RS01415': 'CQW49_01410', 'CQW49_RS05295': 'CQW49_05290', 'CQW49_RS06010': 'CQW49_06000', 'CQW49_RS06880': 'CQW49_06870', 'CQW49_RS08265': 'CQW49_08255', 'CQW49_RS13800': 'CQW49_13765', 'CQW49_RS00255': 'CQW49_00255', 'CQW49_RS02545': 'CQW49_02535', 'CQW49_RS02730': 'CQW49_02720', 'CQW49_RS10210': 'CQW49_10185', 'CQW49_RS12360': 'CQW49_12325', 'CQW49_RS19990': 'CQW49_19925', 'CQW49_RS03440': 'CQW49_03425', 'CQW49_RS06355': 'CQW49_06345', 'CQW49_RS03365': 'CQW49_03355', 'CQW49_RS01030': 'CQW49_01030', 'CQW49_RS01215': 'CQW49_01210', 'CQW49_RS22160': 'CQW49_22075', 'CQW49_RS22910': 'CQW49_22810', 'CQW49_RS18055': 'CQW49_17995', 'CQW49_RS02235': 'CQW49_02230', 'CQW49_RS03600': 'CQW49_03590', 'CQW49_RS04755': 'CQW49_04745', 'CQW49_RS13080': 'CQW49_13045', 'CQW49_RS21435': 'CQW49_21360', 'CQW49_RS01000': 'CQW49_01000', 'CQW49_RS10640': 'CQW49_10610', 'CQW49_RS10960': 'CQW49_10930', 'CQW49_RS00550': 'CQW49_00550', 'CQW49_RS03180': 'CQW49_03170', 'CQW49_RS10310': 'CQW49_10285', 'CQW49_RS20670': 'CQW49_20595', 'CQW49_RS01110': 'CQW49_01110', 'CQW49_RS09475': 'CQW49_09455', 'CQW49_RS22830': 'CQW49_22730', 'CQW49_RS02025': 'CQW49_02020', 'CQW49_RS03770': 'CQW49_03760', 'CQW49_RS07660': 'CQW49_07650', 'CQW49_RS08850': 'CQW49_08840', 'CQW49_RS00005': 'CQW49_00005', 'CQW49_RS18440': 'CQW49_18380', 'CQW49_RS23545': 'CQW49_23445', 'CQW49_RS08145': 'CQW49_08135', 'CQW49_RS19655': 'CQW49_19600', 'CQW49_RS21695': 'CQW49_21610', 'CQW49_RS13330': 'CQW49_13295', 'CQW49_RS20000': 'CQW49_19935', 'CQW49_RS02785': 'CQW49_02775', 'CQW49_RS11275': 'CQW49_11245', 'CQW49_RS01015': 'CQW49_01015', 'CQW49_RS03870': 'CQW49_03860', 'CQW49_RS22170': 'CQW49_22085', 'CQW49_RS01665': 'CQW49_01660', 'CQW49_RS13240': 'CQW49_13205', 'CQW49_RS20740': 'CQW49_20665', 'CQW49_RS01020': 'CQW49_01020', 'CQW49_RS01170': 'CQW49_01165', 'CQW49_RS02645': 'CQW49_02635', 'CQW49_RS07080': 'CQW49_07070', 'CQW49_RS12220': 'CQW49_12185', 'CQW49_RS12620': 'CQW49_12585', 'CQW49_RS16345': 'CQW49_16310', 'CQW49_RS03510': 'CQW49_03500', 'CQW49_RS06030': 'CQW49_06020', 'CQW49_RS12065': 'CQW49_12030', 'CQW49_RS02740': 'CQW49_02730', 'CQW49_RS15735': 'CQW49_15700', 'CQW49_RS21835': 'CQW49_21750', 'CQW49_RS08360': 'CQW49_08350', 'CQW49_RS14235': 'CQW49_14200', 'CQW49_RS02450': 'CQW49_02440', 'CQW49_RS11250': 'CQW49_11220', 'CQW49_RS14325': 'CQW49_14290', 'CQW49_RS15740': 'CQW49_15705', 'CQW49_RS06115': 'CQW49_06105', 'CQW49_RS16195': 'CQW49_16160', 'CQW49_RS00515': 'CQW49_00515', 'CQW49_RS16020': 'CQW49_15985', 'CQW49_RS12165': 'CQW49_12130', 'CQW49_RS16595': 'CQW49_16555', 'CQW49_RS12870': 'CQW49_12835', 'CQW49_RS13490': 'CQW49_13455', 'CQW49_RS06870': 'CQW49_06860', 'CQW49_RS13015': 'CQW49_12980', 'CQW49_RS19405': 'CQW49_19350', 'CQW49_RS02965': 'CQW49_02955', 'CQW49_RS03400': 'CQW49_03385', 'CQW49_RS08915': 'CQW49_08905', 'CQW49_RS08720': 'CQW49_08710', 'CQW49_RS07115': 'CQW49_07105', 'CQW49_RS19485': 'CQW49_19430', 'CQW49_RS19890': 'CQW49_19830', 'CQW49_RS21175': 'CQW49_21100', 'CQW49_RS03755': 'CQW49_03745', 'CQW49_RS13630': 'CQW49_13595', 'CQW49_RS19740': 'CQW49_19685', 'CQW49_RS11235': 'CQW49_11205', 'CQW49_RS17405': 'CQW49_17355', 'CQW49_RS17420': 'CQW49_17370', 'CQW49_RS23710': 'CQW49_23610', 'CQW49_RS00305': 'CQW49_00305', 'CQW49_RS04915': 'CQW49_04910', 'CQW49_RS23715': 'CQW49_23615', 'CQW49_RS02705': 'CQW49_02695', 'CQW49_RS06070': 'CQW49_06060', 'CQW49_RS09110': 'CQW49_09090', 'CQW49_RS18595': 'CQW49_18535', 'CQW49_RS18745': 'CQW49_18685', 'CQW49_RS22925': 'CQW49_22825', 'CQW49_RS12150': 'CQW49_12115', 'CQW49_RS19995': 'CQW49_19930', 'CQW49_RS22875': 'CQW49_22775', 'CQW49_RS01760': 'CQW49_01755', 'CQW49_RS11265': 'CQW49_11235', 'CQW49_RS21500': 'CQW49_21425', 'CQW49_RS21880': 'CQW49_21795', 'CQW49_RS24020': 'CQW49_23910', 'CQW49_RS06850': 'CQW49_06840', 'CQW49_RS09980': 'CQW49_09955', 'CQW49_RS15845': 'CQW49_15810', 'CQW49_RS06280': 'CQW49_06270', 'CQW49_RS09180': 'CQW49_09160', 'CQW49_RS04225': 'CQW49_04215', 'CQW49_RS11070': 'CQW49_11040', 'CQW49_RS24095': 'CQW49_23980', 'CQW49_RS15615': 'CQW49_15580', 'CQW49_RS08080': 'CQW49_08070', 'CQW49_RS20290': 'CQW49_20220', 'CQW49_RS20900': 'CQW49_20825', 'CQW49_RS05725': 'CQW49_05715', 'CQW49_RS18090': 'CQW49_18030', 'CQW49_RS11240': 'CQW49_11210', 'CQW49_RS16445': 'CQW49_16410', 'CQW49_RS00075': 'CQW49_00075', 'CQW49_RS06345': 'CQW49_06335', 'CQW49_RS13280': 'CQW49_13245', 'CQW49_RS14210': 'CQW49_14175', 'CQW49_RS05020': 'CQW49_05015', 'CQW49_RS15570': 'CQW49_15535', 'CQW49_RS17600': 'CQW49_17545', 'CQW49_RS18070': 'CQW49_18010', 'CQW49_RS01150': 'CQW49_01145', 'CQW49_RS01910': 'CQW49_01905', 'CQW49_RS08995': 'CQW49_08985', 'CQW49_RS16820': 'CQW49_16780', 'CQW49_RS06595': 'CQW49_06580', 'CQW49_RS09370': 'CQW49_09350', 'CQW49_RS11100': 'CQW49_11070', 'CQW49_RS23410': 'CQW49_23305', 'CQW49_RS23800': 'CQW49_23700', 'CQW49_RS01885': 'CQW49_01880', 'CQW49_RS01950': 'CQW49_01945', 'CQW49_RS10680': 'CQW49_10650', 'CQW49_RS18205': 'CQW49_18145', 'CQW49_RS09070': 'CQW49_09055', 'CQW49_RS10025': 'CQW49_10000', 'CQW49_RS01260': 'CQW49_01255', 'CQW49_RS05290': 'CQW49_05285', 'CQW49_RS09465': 'CQW49_09445', 'CQW49_RS20200': 'CQW49_20135', 'CQW49_RS08260': 'CQW49_08250', 'CQW49_RS10385': 'CQW49_10360', 'CQW49_RS12865': 'CQW49_12830', 'CQW49_RS15555': 'CQW49_15520', 'CQW49_RS15745': 'CQW49_15710', 'CQW49_RS01025': 'CQW49_01025', 'CQW49_RS02925': 'CQW49_02915', 'CQW49_RS19660': 'CQW49_19605', 'CQW49_RS15495': 'CQW49_15460', 'CQW49_RS20780': 'CQW49_20705', 'CQW49_RS10865': 'CQW49_10835', 'CQW49_RS05650': 'CQW49_05640', 'CQW49_RS21270': 'CQW49_21195', 'CQW49_RS01630': 'CQW49_01625', 'CQW49_RS18555': 'CQW49_18495', 'CQW49_RS21610': 'CQW49_21525', 'CQW49_RS05330': 'CQW49_05325', 'CQW49_RS11985': 'CQW49_11950', 'CQW49_RS13105': 'CQW49_13070', 'CQW49_RS19925': 'CQW49_19860', 'CQW49_RS21775': 'CQW49_21690', 'CQW49_RS22825': 'CQW49_22725', 'CQW49_RS00740': 'CQW49_00740', 'CQW49_RS03280': 'CQW49_03270', 'CQW49_RS20570': 'CQW49_20500', 'CQW49_RS21760': 'CQW49_21675', 'CQW49_RS09030': 'CQW49_09015', 'CQW49_RS17965': 'CQW49_17910', 'CQW49_RS04335': 'CQW49_04330', 'CQW49_RS02805': 'CQW49_02795', 'CQW49_RS09130': 'CQW49_09110', 'CQW49_RS13365': 'CQW49_13330', 'CQW49_RS13610': 'CQW49_13575', 'CQW49_RS16755': 'CQW49_16715', 'CQW49_RS17275': 'CQW49_17230', 'CQW49_RS23010': 'CQW49_22910', 'CQW49_RS02540': 'CQW49_02530', 'CQW49_RS02770': 'CQW49_02760', 'CQW49_RS10085': 'CQW49_10060', 'CQW49_RS14530': 'CQW49_14495', 'CQW49_RS02405': 'CQW49_02395', 'CQW49_RS03970': 'CQW49_03960', 'CQW49_RS15140': 'CQW49_15105', 'CQW49_RS16845': 'CQW49_16805', 'CQW49_RS18115': 'CQW49_18055', 'CQW49_RS20890': 'CQW49_20815', 'CQW49_RS14285': 'CQW49_14250', 'CQW49_RS17495': 'CQW49_17440', 'CQW49_RS18770': 'CQW49_18710', 'CQW49_RS06300': 'CQW49_06290', 'CQW49_RS11380': 'CQW49_11350', 'CQW49_RS20770': 'CQW49_20695', 'CQW49_RS06730': 'CQW49_06720', 'CQW49_RS08395': 'CQW49_08385', 'CQW49_RS12070': 'CQW49_12035', 'CQW49_RS13645': 'CQW49_13610', 'CQW49_RS15865': 'CQW49_15830', 'CQW49_RS14905': 'CQW49_14870', 'CQW49_RS19720': 'CQW49_19665', 'CQW49_RS03605': 'CQW49_03595', 'CQW49_RS06215': 'CQW49_06205', 'CQW49_RS10410': 'CQW49_10385', 'CQW49_RS16305': 'CQW49_16270', 'CQW49_RS18950': 'CQW49_18890', 'CQW49_RS03800': 'CQW49_03790', 'CQW49_RS07295': 'CQW49_07285', 'CQW49_RS15300': 'CQW49_15265', 'CQW49_RS02200': 'CQW49_02195', 'CQW49_RS16310': 'CQW49_16275', 'CQW49_RS17705': 'CQW49_17650', 'CQW49_RS18370': 'CQW49_18310', 'CQW49_RS20465': 'CQW49_20395', 'CQW49_RS02475': 'CQW49_02465', 'CQW49_RS01645': 'CQW49_01640', 'CQW49_RS09145': 'CQW49_09125', 'CQW49_RS10030': 'CQW49_10005', 'CQW49_RS13070': 'CQW49_13035', 'CQW49_RS20515': 'CQW49_20445', 'CQW49_RS00705': 'CQW49_00705', 'CQW49_RS09945': 'CQW49_09925', 'CQW49_RS02715': 'CQW49_02705', 'CQW49_RS08100': 'CQW49_08090', 'CQW49_RS05690': 'CQW49_05680', 'CQW49_RS16650': 'CQW49_16610', 'CQW49_RS16920': 'CQW49_16875', 'CQW49_RS04715': 'CQW49_04705', 'CQW49_RS04760': 'CQW49_04750', 'CQW49_RS08650': 'CQW49_08640', 'CQW49_RS10585': 'CQW49_10555', 'CQW49_RS14405': 'CQW49_14370', 'CQW49_RS20005': 'CQW49_19940', 'CQW49_RS02220': 'CQW49_02215', 'CQW49_RS06895': 'CQW49_06885', 'CQW49_RS08245': 'CQW49_08235', 'CQW49_RS04385': 'CQW49_04380', 'CQW49_RS06505': 'CQW49_06495', 'CQW49_RS07160': 'CQW49_07150', 'CQW49_RS09380': 'CQW49_09360', 'CQW49_RS10145': 'CQW49_10120', 'CQW49_RS21045': 'CQW49_20970', 'CQW49_RS10420': 'CQW49_10395', 'CQW49_RS13390': 'CQW49_13355', 'CQW49_RS16725': 'CQW49_16685', 'CQW49_RS19635': 'CQW49_19580', 'CQW49_RS00150': 'CQW49_00150', 'CQW49_RS08335': 'CQW49_08325', 'CQW49_RS14575': 'CQW49_14540', 'CQW49_RS15645': 'CQW49_15610', 'CQW49_RS17540': 'CQW49_17485', 'CQW49_RS04355': 'CQW49_04350', 'CQW49_RS20400': 'CQW49_20330', 'CQW49_RS23105': 'CQW49_23005', 'CQW49_RS00785': 'CQW49_00785', 'CQW49_RS09645': 'CQW49_09625', 'CQW49_RS15310': 'CQW49_15275', 'CQW49_RS18905': 'CQW49_18845', 'CQW49_RS14535': 'CQW49_14500', 'CQW49_RS22345': 'CQW49_22250', 'CQW49_RS23495': 'CQW49_23390', 'CQW49_RS08540': 'CQW49_08530', 'CQW49_RS09160': 'CQW49_09140', 'CQW49_RS21365': 'CQW49_21290', 'CQW49_RS06980': 'CQW49_06970', 'CQW49_RS20040': 'CQW49_19975', 'CQW49_RS16190': 'CQW49_16155', 'CQW49_RS19240': 'CQW49_19185', 'CQW49_RS23980': 'CQW49_23875', 'CQW49_RS00055': 'CQW49_00055', 'CQW49_RS03815': 'CQW49_03805', 'CQW49_RS13930': 'CQW49_13895', 'CQW49_RS22610': 'CQW49_22515', 'CQW49_RS10275': 'CQW49_10250', 'CQW49_RS15465': 'CQW49_15430', 'CQW49_RS16715': 'CQW49_16675', 'CQW49_RS16840': 'CQW49_16800', 'CQW49_RS14910': 'CQW49_14875', 'CQW49_RS19045': 'CQW49_18985', 'CQW49_RS23405': 'CQW49_23300', 'CQW49_RS14980': 'CQW49_14945', 'CQW49_RS07830': 'CQW49_07820', 'CQW49_RS08375': 'CQW49_08365', 'CQW49_RS20845': 'CQW49_20770', 'CQW49_RS12760': 'CQW49_12725', 'CQW49_RS14155': 'CQW49_14120', 'CQW49_RS22220': 'CQW49_22135', 'CQW49_RS06260': 'CQW49_06250', 'CQW49_RS11295': 'CQW49_11265', 'CQW49_RS11755': 'CQW49_11720', 'CQW49_RS21765': 'CQW49_21680', 'CQW49_RS06780': 'CQW49_06770', 'CQW49_RS11010': 'CQW49_10980', 'CQW49_RS19630': 'CQW49_19575', 'CQW49_RS03320': 'CQW49_03310', 'CQW49_RS20085': 'CQW49_20020', 'CQW49_RS21440': 'CQW49_21365', 'CQW49_RS05165': 'CQW49_05160', 'CQW49_RS11810': 'CQW49_11775', 'CQW49_RS04545': 'CQW49_04540', 'CQW49_RS06375': 'CQW49_06365', 'CQW49_RS11085': 'CQW49_11055', 'CQW49_RS11845': 'CQW49_11810', 'CQW49_RS15665': 'CQW49_15630', 'CQW49_RS19250': 'CQW49_19195', 'CQW49_RS09245': 'CQW49_09225', 'CQW49_RS13205': 'CQW49_13170', 'CQW49_RS11785': 'CQW49_11750', 'CQW49_RS17185': 'CQW49_17140', 'CQW49_RS18085': 'CQW49_18025', 'CQW49_RS00745': 'CQW49_00745', 'CQW49_RS01850': 'CQW49_01845', 'CQW49_RS14780': 'CQW49_14745', 'CQW49_RS06230': 'CQW49_06220', 'CQW49_RS13060': 'CQW49_13025', 'CQW49_RS20530': 'CQW49_20460', 'CQW49_RS22395': 'CQW49_22300', 'CQW49_RS12340': 'CQW49_12305', 'CQW49_RS13225': 'CQW49_13190', 'CQW49_RS17745': 'CQW49_17690', 'CQW49_RS04905': 'CQW49_04895', 'CQW49_RS07070': 'CQW49_07060', 'CQW49_RS02150': 'CQW49_02145', 'CQW49_RS02830': 'CQW49_02820', 'CQW49_RS11075': 'CQW49_11045', 'CQW49_RS12805': 'CQW49_12770', 'CQW49_RS23790': 'CQW49_23690', 'CQW49_RS05460': 'CQW49_05450', 'CQW49_RS10745': 'CQW49_10715', 'CQW49_RS15710': 'CQW49_15675', 'CQW49_RS17660': 'CQW49_17605', 'CQW49_RS01400': 'CQW49_01395', 'CQW49_RS04315': 'CQW49_04305', 'CQW49_RS04415': 'CQW49_04410', 'CQW49_RS09065': 'CQW49_09050', 'CQW49_RS17515': 'CQW49_17460', 'CQW49_RS10890': 'CQW49_10860', 'CQW49_RS17925': 'CQW49_17870', 'CQW49_RS19170': 'CQW49_19110', 'CQW49_RS20930': 'CQW49_20855', 'CQW49_RS21105': 'CQW49_21030', 'CQW49_RS23595': 'CQW49_23495', 'CQW49_RS07695': 'CQW49_07685', 'CQW49_RS11765': 'CQW49_11730', 'CQW49_RS00600': 'CQW49_00600', 'CQW49_RS14945': 'CQW49_14910', 'CQW49_RS16940': 'CQW49_16895', 'CQW49_RS00710': 'CQW49_00710', 'CQW49_RS02260': 'CQW49_02255', 'CQW49_RS09605': 'CQW49_09585', 'CQW49_RS17080': 'CQW49_17035', 'CQW49_RS01405': 'CQW49_01400', 'CQW49_RS07440': 'CQW49_07430', 'CQW49_RS00680': 'CQW49_00680', 'CQW49_RS00775': 'CQW49_00775', 'CQW49_RS09595': 'CQW49_09575', 'CQW49_RS01515': 'CQW49_01510', 'CQW49_RS08635': 'CQW49_08625', 'CQW49_RS15490': 'CQW49_15455', 'CQW49_RS20265': 'CQW49_20195', 'CQW49_RS05575': 'CQW49_05565', 'CQW49_RS12510': 'CQW49_12475', 'CQW49_RS16145': 'CQW49_16110', 'CQW49_RS19980': 'CQW49_19915', 'CQW49_RS20830': 'CQW49_20755', 'CQW49_RS22190': 'CQW49_22105', 'CQW49_RS04505': 'CQW49_04500', 'CQW49_RS12280': 'CQW49_12245', 'CQW49_RS19350': 'CQW49_19295', 'CQW49_RS06920': 'CQW49_06910', 'CQW49_RS15660': 'CQW49_15625', 'CQW49_RS07305': 'CQW49_07295', 'CQW49_RS01455': 'CQW49_01450', 'CQW49_RS01785': 'CQW49_01780', 'CQW49_RS12810': 'CQW49_12775', 'CQW49_RS16150': 'CQW49_16115', 'CQW49_RS03895': 'CQW49_03885', 'CQW49_RS05340': 'CQW49_05335', 'CQW49_RS05630': 'CQW49_05620', 'CQW49_RS06645': 'CQW49_06635', 'CQW49_RS18410': 'CQW49_18350', 'CQW49_RS13550': 'CQW49_13515', 'CQW49_RS16430': 'CQW49_16395', 'CQW49_RS00130': 'CQW49_00130', 'CQW49_RS03495': 'CQW49_03485', 'CQW49_RS05595': 'CQW49_05585', 'CQW49_RS08190': 'CQW49_08180', 'CQW49_RS13875': 'CQW49_13840', 'CQW49_RS23165': 'CQW49_23060', 'CQW49_RS06875': 'CQW49_06865', 'CQW49_RS08425': 'CQW49_08415', 'CQW49_RS17950': 'CQW49_17895', 'CQW49_RS21445': 'CQW49_21370', 'CQW49_RS07285': 'CQW49_07275', 'CQW49_RS16625': 'CQW49_16585', 'CQW49_RS10090': 'CQW49_10065', 'CQW49_RS18045': 'CQW49_17985', 'CQW49_RS09255': 'CQW49_09235', 'CQW49_RS10985': 'CQW49_10955', 'CQW49_RS11990': 'CQW49_11955', 'CQW49_RS13685': 'CQW49_13650', 'CQW49_RS09335': 'CQW49_09315', 'CQW49_RS18755': 'CQW49_18695', 'CQW49_RS21575': 'CQW49_21495', 'CQW49_RS07040': 'CQW49_07030', 'CQW49_RS07870': 'CQW49_07860', 'CQW49_RS12750': 'CQW49_12715', 'CQW49_RS13340': 'CQW49_13305', 'CQW49_RS01670': 'CQW49_01665', 'CQW49_RS03640': 'CQW49_03630', 'CQW49_RS07450': 'CQW49_07440', 'CQW49_RS11390': 'CQW49_11360', 'CQW49_RS12000': 'CQW49_11965', 'CQW49_RS17450': 'CQW49_17400', 'CQW49_RS00455': 'CQW49_00455', 'CQW49_RS03460': 'CQW49_03445', 'CQW49_RS05535': 'CQW49_05525', 'CQW49_RS07675': 'CQW49_07665', 'CQW49_RS17415': 'CQW49_17365', 'CQW49_RS04855': 'CQW49_04845', 'CQW49_RS07595': 'CQW49_07585', 'CQW49_RS11580': 'CQW49_11545', 'CQW49_RS01265': 'CQW49_01260', 'CQW49_RS09315': 'CQW49_09295', 'CQW49_RS13380': 'CQW49_13345', 'CQW49_RS19445': 'CQW49_19390', 'CQW49_RS24030': 'CQW49_23920', 'CQW49_RS07210': 'CQW49_07200', 'CQW49_RS04075': 'CQW49_04065', 'CQW49_RS16070': 'CQW49_16035', 'CQW49_RS23820': 'CQW49_23720', 'CQW49_RS02310': 'CQW49_02305', 'CQW49_RS13915': 'CQW49_13880', 'CQW49_RS14000': 'CQW49_13965', 'CQW49_RS20710': 'CQW49_20635', 'CQW49_RS22915': 'CQW49_22815', 'CQW49_RS12325': 'CQW49_12290', 'CQW49_RS14245': 'CQW49_14210', 'CQW49_RS23170': 'CQW49_23065', 'CQW49_RS23865': 'CQW49_23760', 'CQW49_RS11850': 'CQW49_11815', 'CQW49_RS04695': 'CQW49_04685', 'CQW49_RS06360': 'CQW49_06350', 'CQW49_RS16695': 'CQW49_16655', 'CQW49_RS17190': 'CQW49_17145', 'CQW49_RS20235': 'CQW49_20165', 'CQW49_RS01075': 'CQW49_01075', 'CQW49_RS06975': 'CQW49_06965', 'CQW49_RS21115': 'CQW49_21040', 'CQW49_RS00265': 'CQW49_00265', 'CQW49_RS04060': 'CQW49_04050', 'CQW49_RS09570': 'CQW49_09550', 'CQW49_RS17165': 'CQW49_17120', 'CQW49_RS22810': 'CQW49_22710', 'CQW49_RS00400': 'CQW49_00400', 'CQW49_RS00840': 'CQW49_00840', 'CQW49_RS06625': 'CQW49_06610', 'CQW49_RS12235': 'CQW49_12200', 'CQW49_RS19735': 'CQW49_19680', 'CQW49_RS17060': 'CQW49_17015', 'CQW49_RS10530': 'CQW49_10505', 'CQW49_RS10870': 'CQW49_10840', 'CQW49_RS13640': 'CQW49_13605', 'CQW49_RS22500': 'CQW49_22405', 'CQW49_RS22835': 'CQW49_22735', 'CQW49_RS00575': 'CQW49_00575', 'CQW49_RS04120': 'CQW49_04110', 'CQW49_RS06685': 'CQW49_06675', 'CQW49_RS14565': 'CQW49_14530', 'CQW49_RS19860': 'CQW49_19805', 'CQW49_RS00235': 'CQW49_00235', 'CQW49_RS02245': 'CQW49_02240', 'CQW49_RS06750': 'CQW49_06740', 'CQW49_RS08495': 'CQW49_08485', 'CQW49_RS11130': 'CQW49_11100', 'CQW49_RS13095': 'CQW49_13060', 'CQW49_RS14075': 'CQW49_14040', 'CQW49_RS18630': 'CQW49_18570', 'CQW49_RS06100': 'CQW49_06090', 'CQW49_RS06950': 'CQW49_06940', 'CQW49_RS15530': 'CQW49_15495', 'CQW49_RS23115': 'CQW49_23015', 'CQW49_RS09150': 'CQW49_09130', 'CQW49_RS18570': 'CQW49_18510', 'CQW49_RS20945': 'CQW49_20870', 'CQW49_RS05085': 'CQW49_05080', 'CQW49_RS09230': 'CQW49_09210', 'CQW49_RS11720': 'CQW49_11685', 'CQW49_RS13615': 'CQW49_13580', 'CQW49_RS16580': 'CQW49_16540', 'CQW49_RS23990': 'CQW49_23885', 'CQW49_RS04390': 'CQW49_04385', 'CQW49_RS14965': 'CQW49_14930', 'CQW49_RS01680': 'CQW49_01675', 'CQW49_RS12595': 'CQW49_12560', 'CQW49_RS18860': 'CQW49_18800', 'CQW49_RS20875': 'CQW49_20800', 'CQW49_RS21990': 'CQW49_21905', 'CQW49_RS06335': 'CQW49_06325', 'CQW49_RS09810': 'CQW49_09790', 'CQW49_RS21940': 'CQW49_21855', 'CQW49_RS00185': 'CQW49_00185', 'CQW49_RS06900': 'CQW49_06890', 'CQW49_RS08680': 'CQW49_08670', 'CQW49_RS09435': 'CQW49_09415', 'CQW49_RS15095': 'CQW49_15060', 'CQW49_RS18425': 'CQW49_18365', 'CQW49_RS08525': 'CQW49_08515', 'CQW49_RS12995': 'CQW49_12960', 'CQW49_RS14170': 'CQW49_14135', 'CQW49_RS15035': 'CQW49_15000', 'CQW49_RS20315': 'CQW49_20245', 'CQW49_RS21375': 'CQW49_21300', 'CQW49_RS03615': 'CQW49_03605', 'CQW49_RS11910': 'CQW49_11875', 'CQW49_RS16740': 'CQW49_16700', 'CQW49_RS18725': 'CQW49_18665', 'CQW49_RS19335': 'CQW49_19280', 'CQW49_RS20380': 'CQW49_20310', 'CQW49_RS23365': 'CQW49_23260', 'CQW49_RS05170': 'CQW49_05165', 'CQW49_RS08940': 'CQW49_08930', 'CQW49_RS09165': 'CQW49_09145', 'CQW49_RS21310': 'CQW49_21235', 'CQW49_RS23195': 'CQW49_23090', 'CQW49_RS01445': 'CQW49_01440', 'CQW49_RS06650': 'CQW49_06640', 'CQW49_RS07145': 'CQW49_07135', 'CQW49_RS19840': 'CQW49_19785', 'CQW49_RS21570': 'CQW49_21490', 'CQW49_RS15485': 'CQW49_15450', 'CQW49_RS00755': 'CQW49_00755', 'CQW49_RS10610': 'CQW49_10580', 'CQW49_RS12685': 'CQW49_12650', 'CQW49_RS02970': 'CQW49_02960', 'CQW49_RS06835': 'CQW49_06825', 'CQW49_RS18165': 'CQW49_18105', 'CQW49_RS18245': 'CQW49_18185', 'CQW49_RS19145': 'CQW49_19085', 'CQW49_RS22905': 'CQW49_22805', 'CQW49_RS12965': 'CQW49_12930', 'CQW49_RS16585': 'CQW49_16545', 'CQW49_RS17685': 'CQW49_17630', 'CQW49_RS19010': 'CQW49_18950', 'CQW49_RS19525': 'CQW49_19470', 'CQW49_RS15800': 'CQW49_15765', 'CQW49_RS02905': 'CQW49_02895', 'CQW49_RS09500': 'CQW49_09480', 'CQW49_RS17455': 'CQW49_17405', 'CQW49_RS03005': 'CQW49_02995', 'CQW49_RS16700': 'CQW49_16660', 'CQW49_RS16285': 'CQW49_16250', 'CQW49_RS03515': 'CQW49_03505', 'CQW49_RS22285': 'CQW49_22200', 'CQW49_RS23730': 'CQW49_23630', 'CQW49_RS00700': 'CQW49_00700', 'CQW49_RS01510': 'CQW49_01505', 'CQW49_RS09325': 'CQW49_09305', 'CQW49_RS12555': 'CQW49_12520', 'CQW49_RS04080': 'CQW49_04070', 'CQW49_RS09040': 'CQW49_09025', 'CQW49_RS11780': 'CQW49_11745', 'CQW49_RS14445': 'CQW49_14410', 'CQW49_RS17535': 'CQW49_17480', 'CQW49_RS06705': 'CQW49_06695', 'CQW49_RS17675': 'CQW49_17620', 'CQW49_RS23665': 'CQW49_23565', 'CQW49_RS07600': 'CQW49_07590', 'CQW49_RS07795': 'CQW49_07785', 'CQW49_RS17295': 'CQW49_17250', 'CQW49_RS17830': 'CQW49_17775', 'CQW49_RS00385': 'CQW49_00385', 'CQW49_RS08770': 'CQW49_08760', 'CQW49_RS04360': 'CQW49_04355', 'CQW49_RS13895': 'CQW49_13860', 'CQW49_RS21430': 'CQW49_21355', 'CQW49_RS22450': 'CQW49_22355', 'CQW49_RS03590': 'CQW49_03580', 'CQW49_RS02950': 'CQW49_02940', 'CQW49_RS05760': 'CQW49_05750', 'CQW49_RS12255': 'CQW49_12220', 'CQW49_RS12600': 'CQW49_12565', 'CQW49_RS20630': 'CQW49_20560', 'CQW49_RS16620': 'CQW49_16580', 'CQW49_RS01320': 'CQW49_01315', 'CQW49_RS18500': 'CQW49_18440', 'CQW49_RS02845': 'CQW49_02835', 'CQW49_RS10820': 'CQW49_10790', 'CQW49_RS14560': 'CQW49_14525', 'CQW49_RS19870': 'CQW49_19815', 'CQW49_RS01205': 'CQW49_01200', 'CQW49_RS02675': 'CQW49_02665', 'CQW49_RS17805': 'CQW49_17750', 'CQW49_RS19965': 'CQW49_19900', 'CQW49_RS02525': 'CQW49_02515', 'CQW49_RS11255': 'CQW49_11225', 'CQW49_RS11660': 'CQW49_11625', 'CQW49_RS03075': 'CQW49_03065', 'CQW49_RS17255': 'CQW49_17210', 'CQW49_RS18710': 'CQW49_18650', 'CQW49_RS00460': 'CQW49_00460', 'CQW49_RS02420': 'CQW49_02410', 'CQW49_RS08675': 'CQW49_08665', 'CQW49_RS09210': 'CQW49_09190', 'CQW49_RS12320': 'CQW49_12285', 'CQW49_RS15955': 'CQW49_15920', 'CQW49_RS18105': 'CQW49_18045', 'CQW49_RS18645': 'CQW49_18585', 'CQW49_RS05395': 'CQW49_05390', 'CQW49_RS06255': 'CQW49_06245', 'CQW49_RS17220': 'CQW49_17175', 'CQW49_RS22410': 'CQW49_22315', 'CQW49_RS22180': 'CQW49_22095', 'CQW49_RS05655': 'CQW49_05645', 'CQW49_RS09560': 'CQW49_09540', 'CQW49_RS13400': 'CQW49_13365', 'CQW49_RS15475': 'CQW49_15440', 'CQW49_RS02935': 'CQW49_02925', 'CQW49_RS12110': 'CQW49_12075', 'CQW49_RS19370': 'CQW49_19315', 'CQW49_RS23460': 'CQW49_23355', 'CQW49_RS04770': 'CQW49_04760', 'CQW49_RS09630': 'CQW49_09610', 'CQW49_RS01200': 'CQW49_01195', 'CQW49_RS04555': 'CQW49_04550', 'CQW49_RS19935': 'CQW49_19870', 'CQW49_RS23270': 'CQW49_23165', 'CQW49_RS03060': 'CQW49_03050', 'CQW49_RS04680': 'CQW49_04670', 'CQW49_RS04910': 'CQW49_04900', 'CQW49_RS15630': 'CQW49_15595', 'CQW49_RS17120': 'CQW49_17075', 'CQW49_RS18730': 'CQW49_18670', 'CQW49_RS08105': 'CQW49_08095', 'CQW49_RS01355': 'CQW49_01350', 'CQW49_RS14270': 'CQW49_14235', 'CQW49_RS20695': 'CQW49_20620', 'CQW49_RS00780': 'CQW49_00780', 'CQW49_RS02720': 'CQW49_02710', 'CQW49_RS02870': 'CQW49_02860', 'CQW49_RS21715': 'CQW49_21630', 'CQW49_RS05970': 'CQW49_05960', 'CQW49_RS16950': 'CQW49_16905', 'CQW49_RS04605': 'CQW49_04600', 'CQW49_RS09350': 'CQW49_09330', 'CQW49_RS17300': 'CQW49_17255', 'CQW49_RS19380': 'CQW49_19325', 'CQW49_RS19470': 'CQW49_19415', 'CQW49_RS22855': 'CQW49_22755', 'CQW49_RS01420': 'CQW49_01415', 'CQW49_RS13370': 'CQW49_13335', 'CQW49_RS15500': 'CQW49_15465', 'CQW49_RS07030': 'CQW49_07020', 'CQW49_RS21340': 'CQW49_21265', 'CQW49_RS06565': 'CQW49_06555', 'CQW49_RS07015': 'CQW49_07005', 'CQW49_RS08120': 'CQW49_08110', 'CQW49_RS14615': 'CQW49_14580', 'CQW49_RS16770': 'CQW49_16730', 'CQW49_RS18325': 'CQW49_18265', 'CQW49_RS00490': 'CQW49_00490', 'CQW49_RS02685': 'CQW49_02675', 'CQW49_RS04495': 'CQW49_04490', 'CQW49_RS05365': 'CQW49_05360', 'CQW49_RS21465': 'CQW49_21390', 'CQW49_RS05590': 'CQW49_05580', 'CQW49_RS06725': 'CQW49_06715', 'CQW49_RS15795': 'CQW49_15760', 'CQW49_RS08655': 'CQW49_08645', 'CQW49_RS16540': 'CQW49_16500', 'CQW49_RS17070': 'CQW49_17025', 'CQW49_RS23085': 'CQW49_22985', 'CQW49_RS06105': 'CQW49_06095', 'CQW49_RS09820': 'CQW49_09800', 'CQW49_RS16805': 'CQW49_16765', 'CQW49_RS23905': 'CQW49_23800', 'CQW49_RS24025': 'CQW49_23915', 'CQW49_RS08860': 'CQW49_08850', 'CQW49_RS12115': 'CQW49_12080', 'CQW49_RS17940': 'CQW49_17885', 'CQW49_RS20375': 'CQW49_20305', 'CQW49_RS02225': 'CQW49_02220', 'CQW49_RS03150': 'CQW49_03140', 'CQW49_RS12045': 'CQW49_12010', 'CQW49_RS14230': 'CQW49_14195', 'CQW49_RS20115': 'CQW49_20050', 'CQW49_RS00790': 'CQW49_00790', 'CQW49_RS10345': 'CQW49_10320', 'CQW49_RS17555': 'CQW49_17500', 'CQW49_RS00750': 'CQW49_00750', 'CQW49_RS01440': 'CQW49_01435', 'CQW49_RS03055': 'CQW49_03045', 'CQW49_RS16085': 'CQW49_16050', 'CQW49_RS24100': 'CQW49_23985', 'CQW49_RS00855': 'CQW49_00855', 'CQW49_RS09280': 'CQW49_09260', 'CQW49_RS12855': 'CQW49_12820', 'CQW49_RS19520': 'CQW49_19465', 'CQW49_RS02960': 'CQW49_02950', 'CQW49_RS03835': 'CQW49_03825', 'CQW49_RS06970': 'CQW49_06960', 'CQW49_RS19575': 'CQW49_19520', 'CQW49_RS03750': 'CQW49_03740', 'CQW49_RS06735': 'CQW49_06725', 'CQW49_RS08450': 'CQW49_08440', 'CQW49_RS14550': 'CQW49_14515', 'CQW49_RS00485': 'CQW49_00485', 'CQW49_RS16915': 'CQW49_16870', 'CQW49_RS09395': 'CQW49_09375', 'CQW49_RS16910': 'CQW49_16865', 'CQW49_RS18715': 'CQW49_18655', 'CQW49_RS23470': 'CQW49_23365', 'CQW49_RS23900': 'CQW49_23795', 'CQW49_RS01555': 'CQW49_01550', 'CQW49_RS04810': 'CQW49_04800', 'CQW49_RS05010': 'CQW49_05005', 'CQW49_RS09760': 'CQW49_09740', 'CQW49_RS13500': 'CQW49_13465', 'CQW49_RS18455': 'CQW49_18395', 'CQW49_RS18845': 'CQW49_18785', 'CQW49_RS19600': 'CQW49_19545', 'CQW49_RS00980': 'CQW49_00980', 'CQW49_RS01560': 'CQW49_01555', 'CQW49_RS05820': 'CQW49_05810', 'CQW49_RS07710': 'CQW49_07700', 'CQW49_RS16210': 'CQW49_16175', 'CQW49_RS18315': 'CQW49_18255', 'CQW49_RS22015': 'CQW49_21930', 'CQW49_RS23335': 'CQW49_23230', 'CQW49_RS01860': 'CQW49_01855', 'CQW49_RS15055': 'CQW49_15020', 'CQW49_RS18150': 'CQW49_18090', 'CQW49_RS16930': 'CQW49_16885', 'CQW49_RS18985': 'CQW49_18925', 'CQW49_RS20750': 'CQW49_20675', 'CQW49_RS21865': 'CQW49_21780', 'CQW49_RS03505': 'CQW49_03495', 'CQW49_RS06745': 'CQW49_06735', 'CQW49_RS13115': 'CQW49_13080', 'CQW49_RS14970': 'CQW49_14935', 'CQW49_RS01915': 'CQW49_01910', 'CQW49_RS08340': 'CQW49_08330', 'CQW49_RS11245': 'CQW49_11215', 'CQW49_RS12545': 'CQW49_12510', 'CQW49_RS14165': 'CQW49_14130', 'CQW49_RS17785': 'CQW49_17730', 'CQW49_RS21150': 'CQW49_21075', 'CQW49_RS01210': 'CQW49_01205', 'CQW49_RS02280': 'CQW49_02275', 'CQW49_RS03920': 'CQW49_03910', 'CQW49_RS08320': 'CQW49_08310', 'CQW49_RS09415': 'CQW49_09395', 'CQW49_RS12745': 'CQW49_12710', 'CQW49_RS14015': 'CQW49_13980', 'CQW49_RS04820': 'CQW49_04810', 'CQW49_RS07955': 'CQW49_07945', 'CQW49_RS20855': 'CQW49_20780', 'CQW49_RS03735': 'CQW49_03725', 'CQW49_RS05755': 'CQW49_05745', 'CQW49_RS22025': 'CQW49_21940', 'CQW49_RS22720': 'CQW49_22620', 'CQW49_RS23080': 'CQW49_22980', 'CQW49_RS08110': 'CQW49_08100', 'CQW49_RS09970': 'CQW49_09945', 'CQW49_RS15245': 'CQW49_15210', 'CQW49_RS23720': 'CQW49_23620', 'CQW49_RS00030': 'CQW49_00030', 'CQW49_RS01330': 'CQW49_01325', 'CQW49_RS09490': 'CQW49_09470', 'CQW49_RS12210': 'CQW49_12175', 'CQW49_RS15700': 'CQW49_15665', 'CQW49_RS20325': 'CQW49_20255', 'CQW49_RS21005': 'CQW49_20930', 'CQW49_RS02065': 'CQW49_02060', 'CQW49_RS11260': 'CQW49_11230', 'CQW49_RS16250': 'CQW49_16215', 'CQW49_RS22210': 'CQW49_22125', 'CQW49_RS22295': 'CQW49_22210', 'CQW49_RS15600': 'CQW49_15565', 'CQW49_RS18015': 'CQW49_17960', 'CQW49_RS11330': 'CQW49_11300', 'CQW49_RS20545': 'CQW49_20475', 'CQW49_RS04675': 'CQW49_04665', 'CQW49_RS18830': 'CQW49_18770', 'CQW49_RS06775': 'CQW49_06765', 'CQW49_RS07840': 'CQW49_07830', 'CQW49_RS09710': 'CQW49_09690', 'CQW49_RS11640': 'CQW49_11605', 'CQW49_RS22110': 'CQW49_22025', 'CQW49_RS05200': 'CQW49_05195', 'CQW49_RS06715': 'CQW49_06705', 'CQW49_RS15965': 'CQW49_15930', 'CQW49_RS16835': 'CQW49_16795', 'CQW49_RS17125': 'CQW49_17080', 'CQW49_RS22780': 'CQW49_22680', 'CQW49_RS03955': 'CQW49_03945', 'CQW49_RS14305': 'CQW49_14270', 'CQW49_RS18100': 'CQW49_18040', 'CQW49_RS18530': 'CQW49_18470', 'CQW49_RS21535': 'CQW49_21455', 'CQW49_RS12195': 'CQW49_12160', 'CQW49_RS12820': 'CQW49_12785', 'CQW49_RS14390': 'CQW49_14355', 'CQW49_RS21650': 'CQW49_21565', 'CQW49_RS01955': 'CQW49_01950', 'CQW49_RS03115': 'CQW49_03105', 'CQW49_RS03350': 'CQW49_03340', 'CQW49_RS05045': 'CQW49_05040', 'CQW49_RS11625': 'CQW49_11590', 'CQW49_RS12455': 'CQW49_12420', 'CQW49_RS19955': 'CQW49_19890', 'CQW49_RS22150': 'CQW49_22065', 'CQW49_RS00140': 'CQW49_00140', 'CQW49_RS09305': 'CQW49_09285', 'CQW49_RS09985': 'CQW49_09960', 'CQW49_RS11855': 'CQW49_11820', 'CQW49_RS09450': 'CQW49_09430', 'CQW49_RS20160': 'CQW49_20095', 'CQW49_RS00190': 'CQW49_00190', 'CQW49_RS03875': 'CQW49_03865', 'CQW49_RS19330': 'CQW49_19275', 'CQW49_RS03720': 'CQW49_03710', 'CQW49_RS10325': 'CQW49_10300', 'CQW49_RS00100': 'CQW49_00100', 'CQW49_RS00470': 'CQW49_00470', 'CQW49_RS03595': 'CQW49_03585', 'CQW49_RS07715': 'CQW49_07705', 'CQW49_RS10000': 'CQW49_09975', 'CQW49_RS04940': 'CQW49_04935', 'CQW49_RS12490': 'CQW49_12455', 'CQW49_RS12715': 'CQW49_12680', 'CQW49_RS12970': 'CQW49_12935', 'CQW49_RS18545': 'CQW49_18485', 'CQW49_RS23480': 'CQW49_23375', 'CQW49_RS00990': 'CQW49_00990', 'CQW49_RS07155': 'CQW49_07145', 'CQW49_RS11140': 'CQW49_11110', 'CQW49_RS15025': 'CQW49_14990', 'CQW49_RS01380': 'CQW49_01375', 'CQW49_RS11700': 'CQW49_11665', 'CQW49_RS17825': 'CQW49_17770', 'CQW49_RS23845': 'CQW49_23740', 'CQW49_RS15960': 'CQW49_15925', 'CQW49_RS18800': 'CQW49_18740', 'CQW49_RS01305': 'CQW49_01300', 'CQW49_RS05640': 'CQW49_05630', 'CQW49_RS02840': 'CQW49_02830', 'CQW49_RS09690': 'CQW49_09670', 'CQW49_RS13820': 'CQW49_13785', 'CQW49_RS22255': 'CQW49_22170', 'CQW49_RS22845': 'CQW49_22745', 'CQW49_RS00690': 'CQW49_00690', 'CQW49_RS01500': 'CQW49_01495', 'CQW49_RS12170': 'CQW49_12135', 'CQW49_RS21050': 'CQW49_20975', 'CQW49_RS03565': 'CQW49_03555', 'CQW49_RS03575': 'CQW49_03565', 'CQW49_RS04345': 'CQW49_04340', 'CQW49_RS06810': 'CQW49_06800', 'CQW49_RS20060': 'CQW49_19995', 'CQW49_RS03085': 'CQW49_03075', 'CQW49_RS06145': 'CQW49_06135', 'CQW49_RS07260': 'CQW49_07250', 'CQW49_RS08900': 'CQW49_08890', 'CQW49_RS11605': 'CQW49_11570', 'CQW49_RS13150': 'CQW49_13115', 'CQW49_RS22225': 'CQW49_22140', 'CQW49_RS16525': 'CQW49_16485', 'CQW49_RS17900': 'CQW49_17845', 'CQW49_RS19505': 'CQW49_19450', 'CQW49_RS19610': 'CQW49_19555', 'CQW49_RS06910': 'CQW49_06900', 'CQW49_RS05320': 'CQW49_05315', 'CQW49_RS16230': 'CQW49_16195', 'CQW49_RS19690': 'CQW49_19635', 'CQW49_RS02275': 'CQW49_02270', 'CQW49_RS13725': 'CQW49_13690', 'CQW49_RS15205': 'CQW49_15170', 'CQW49_RS00920': 'CQW49_00920', 'CQW49_RS01135': 'CQW49_01135', 'CQW49_RS09055': 'CQW49_09040', 'CQW49_RS15575': 'CQW49_15540', 'CQW49_RS19985': 'CQW49_19920', 'CQW49_RS23575': 'CQW49_23475', 'CQW49_RS13125': 'CQW49_13090', 'CQW49_RS16795': 'CQW49_16755', 'CQW49_RS17440': 'CQW49_17390', 'CQW49_RS18580': 'CQW49_18520', 'CQW49_RS18585': 'CQW49_18525', 'CQW49_RS22725': 'CQW49_22625', 'CQW49_RS03380': 'CQW49_03365', 'CQW49_RS06550': 'CQW49_06540', 'CQW49_RS07485': 'CQW49_07475', 'CQW49_RS11525': 'CQW49_11495', 'CQW49_RS18400': 'CQW49_18340', 'CQW49_RS18880': 'CQW49_18820', 'CQW49_RS20585': 'CQW49_20515', 'CQW49_RS21225': 'CQW49_21150', 'CQW49_RS03650': 'CQW49_03640', 'CQW49_RS08685': 'CQW49_08675', 'CQW49_RS05645': 'CQW49_05635', 'CQW49_RS10675': 'CQW49_10645', 'CQW49_RS11615': 'CQW49_11580', 'CQW49_RS12570': 'CQW49_12535', 'CQW49_RS14730': 'CQW49_14695', 'CQW49_RS16800': 'CQW49_16760', 'CQW49_RS21335': 'CQW49_21260', 'CQW49_RS02330': 'CQW49_02325', 'CQW49_RS04995': 'CQW49_04990', 'CQW49_RS07635': 'CQW49_07625', 'CQW49_RS14020': 'CQW49_13985', 'CQW49_RS14485': 'CQW49_14450', 'CQW49_RS14510': 'CQW49_14475', 'CQW49_RS00760': 'CQW49_00760', 'CQW49_RS22045': 'CQW49_21960', 'CQW49_RS22515': 'CQW49_22420', 'CQW49_RS22030': 'CQW49_21945', 'CQW49_RS23520': 'CQW49_23415', 'CQW49_RS06425': 'CQW49_06415', 'CQW49_RS15240': 'CQW49_15205', 'CQW49_RS17105': 'CQW49_17060', 'CQW49_RS22320': 'CQW49_22225', 'CQW49_RS00120': 'CQW49_00120', 'CQW49_RS06210': 'CQW49_06200', 'CQW49_RS17250': 'CQW49_17205', 'CQW49_RS21525': 'CQW49_21445', 'CQW49_RS11090': 'CQW49_11060', 'CQW49_RS13735': 'CQW49_13700', 'CQW49_RS15260': 'CQW49_15225', 'CQW49_RS05685': 'CQW49_05675', 'CQW49_RS11920': 'CQW49_11885', 'CQW49_RS23455': 'CQW49_23350', 'CQW49_RS09460': 'CQW49_09440', 'CQW49_RS18170': 'CQW49_18110', 'CQW49_RS20250': 'CQW49_20180', 'CQW49_RS02460': 'CQW49_02450', 'CQW49_RS07150': 'CQW49_07140', 'CQW49_RS11870': 'CQW49_11835', 'CQW49_RS16635': 'CQW49_16595', 'CQW49_RS18240': 'CQW49_18180', 'CQW49_RS18295': 'CQW49_18235', 'CQW49_RS18935': 'CQW49_18875', 'CQW49_RS11340': 'CQW49_11310', 'CQW49_RS19915': 'CQW49_19850', 'CQW49_RS06760': 'CQW49_06750', 'CQW49_RS13565': 'CQW49_13530', 'CQW49_RS18785': 'CQW49_18725', 'CQW49_RS19535': 'CQW49_19480', 'CQW49_RS19745': 'CQW49_19690', 'CQW49_RS22115': 'CQW49_22030', 'CQW49_RS09930': 'CQW49_09910', 'CQW49_RS18135': 'CQW49_18075', 'CQW49_RS18255': 'CQW49_18195', 'CQW49_RS11220': 'CQW49_11190', 'CQW49_RS13890': 'CQW49_13855', 'CQW49_RS16765': 'CQW49_16725', 'CQW49_RS16875': 'CQW49_16830', 'CQW49_RS19125': 'CQW49_19065', 'CQW49_RS06530': 'CQW49_06520', 'CQW49_RS10605': 'CQW49_10575', 'CQW49_RS16025': 'CQW49_15990', 'CQW49_RS17260': 'CQW49_17215', 'CQW49_RS19975': 'CQW49_19910', 'CQW49_RS02445': 'CQW49_02435', 'CQW49_RS14250': 'CQW49_14215', 'CQW49_RS23985': 'CQW49_23880', 'CQW49_RS11425': 'CQW49_11395', 'CQW49_RS12120': 'CQW49_12085', 'CQW49_RS12925': 'CQW49_12890', 'CQW49_RS20355': 'CQW49_20285', 'CQW49_RS20835': 'CQW49_20760', 'CQW49_RS10205': 'CQW49_10180', 'CQW49_RS15265': 'CQW49_15230', 'CQW49_RS21800': 'CQW49_21715', 'CQW49_RS04725': 'CQW49_04715', 'CQW49_RS07650': 'CQW49_07640', 'CQW49_RS09425': 'CQW49_09405', 'CQW49_RS17575': 'CQW49_17520', 'CQW49_RS02015': 'CQW49_02010', 'CQW49_RS06540': 'CQW49_06530', 'CQW49_RS09060': 'CQW49_09045', 'CQW49_RS18475': 'CQW49_18415', 'CQW49_RS18890': 'CQW49_18830', 'CQW49_RS21635': 'CQW49_21550', 'CQW49_RS23600': 'CQW49_23500', 'CQW49_RS01465': 'CQW49_01460', 'CQW49_RS10260': 'CQW49_10235', 'CQW49_RS12645': 'CQW49_12610', 'CQW49_RS13525': 'CQW49_13490', 'CQW49_RS21370': 'CQW49_21295', 'CQW49_RS13530': 'CQW49_13495', 'CQW49_RS13745': 'CQW49_13710', 'CQW49_RS16980': 'CQW49_16935', 'CQW49_RS03905': 'CQW49_03895', 'CQW49_RS13975': 'CQW49_13940', 'CQW49_RS14500': 'CQW49_14465', 'CQW49_RS22265': 'CQW49_22180', 'CQW49_RS01710': 'CQW49_01705', 'CQW49_RS06740': 'CQW49_06730', 'CQW49_RS09745': 'CQW49_09725', 'CQW49_RS13085': 'CQW49_13050', 'CQW49_RS13185': 'CQW49_13150', 'CQW49_RS18795': 'CQW49_18735', 'CQW49_RS20410': 'CQW49_20340', 'CQW49_RS05980': 'CQW49_05970', 'CQW49_RS07230': 'CQW49_07220', 'CQW49_RS09995': 'CQW49_09970', 'CQW49_RS12270': 'CQW49_12235', 'CQW49_RS14900': 'CQW49_14865', 'CQW49_RS05070': 'CQW49_05065', 'CQW49_RS11725': 'CQW49_11690', 'CQW49_RS16760': 'CQW49_16720', 'CQW49_RS23400': 'CQW49_23295', 'CQW49_RS02355': 'CQW49_02350', 'CQW49_RS01675': 'CQW49_01670', 'CQW49_RS01835': 'CQW49_01830', 'CQW49_RS05115': 'CQW49_05110', 'CQW49_RS05895': 'CQW49_05885', 'CQW49_RS07005': 'CQW49_06995', 'CQW49_RS18275': 'CQW49_18215', 'CQW49_RS21645': 'CQW49_21560', 'CQW49_RS22065': 'CQW49_21980', 'CQW49_RS08555': 'CQW49_08545', 'CQW49_RS17430': 'CQW49_17380', 'CQW49_RS20955': 'CQW49_20880', 'CQW49_RS03475': 'CQW49_03465', 'CQW49_RS08250': 'CQW49_08240', 'CQW49_RS12930': 'CQW49_12895', 'CQW49_RS16060': 'CQW49_16025', 'CQW49_RS16515': 'CQW49_16475', 'CQW49_RS17665': 'CQW49_17610', 'CQW49_RS17995': 'CQW49_17940', 'CQW49_RS19555': 'CQW49_19500', 'CQW49_RS21770': 'CQW49_21685', 'CQW49_RS23915': 'CQW49_23810', 'CQW49_RS15585': 'CQW49_15550', 'CQW49_RS17580': 'CQW49_17525', 'CQW49_RS18735': 'CQW49_18675', 'CQW49_RS01545': 'CQW49_01540', 'CQW49_RS03740': 'CQW49_03730', 'CQW49_RS11310': 'CQW49_11280', 'CQW49_RS15970': 'CQW49_15935', 'CQW49_RS16350': 'CQW49_16315', 'CQW49_RS23250': 'CQW49_23145', 'CQW49_RS11680': 'CQW49_11645', 'CQW49_RS03155': 'CQW49_03145', 'CQW49_RS09685': 'CQW49_09665', 'CQW49_RS10200': 'CQW49_10175', 'CQW49_RS11160': 'CQW49_11130', 'CQW49_RS12395': 'CQW49_12360', 'CQW49_RS13270': 'CQW49_13235', 'CQW49_RS14125': 'CQW49_14090', 'CQW49_RS15010': 'CQW49_14975', 'CQW49_RS15395': 'CQW49_15360', 'CQW49_RS00880': 'CQW49_00880', 'CQW49_RS02655': 'CQW49_02645', 'CQW49_RS04235': 'CQW49_04225', 'CQW49_RS07120': 'CQW49_07110', 'CQW49_RS07980': 'CQW49_07970', 'CQW49_RS10315': 'CQW49_10290', 'CQW49_RS11290': 'CQW49_11260', 'CQW49_RS13090': 'CQW49_13055', 'CQW49_RS21020': 'CQW49_20945', 'CQW49_RS21930': 'CQW49_21845', 'CQW49_RS21790': 'CQW49_21705', 'CQW49_RS00950': 'CQW49_00950', 'CQW49_RS04195': 'CQW49_04185', 'CQW49_RS08880': 'CQW49_08870', 'CQW49_RS10365': 'CQW49_10340', 'CQW49_RS13825': 'CQW49_13790', 'CQW49_RS00070': 'CQW49_00070', 'CQW49_RS03080': 'CQW49_03070', 'CQW49_RS03865': 'CQW49_03855', 'CQW49_RS10160': 'CQW49_10135', 'CQW49_RS19450': 'CQW49_19395', 'CQW49_RS02690': 'CQW49_02680', 'CQW49_RS05620': 'CQW49_05610', 'CQW49_RS11080': 'CQW49_11050', 'CQW49_RS23110': 'CQW49_23010', 'CQW49_RS06320': 'CQW49_06310', 'CQW49_RS10305': 'CQW49_10280', 'CQW49_RS15750': 'CQW49_15715', 'CQW49_RS18230': 'CQW49_18170', 'CQW49_RS04135': 'CQW49_04125', 'CQW49_RS05695': 'CQW49_05685', 'CQW49_RS22700': 'CQW49_22600', 'CQW49_RS03025': 'CQW49_03015', 'CQW49_RS06440': 'CQW49_06430', 'CQW49_RS08855': 'CQW49_08845', 'CQW49_RS09505': 'CQW49_09485', 'CQW49_RS09975': 'CQW49_09950', 'CQW49_RS11285': 'CQW49_11255', 'CQW49_RS11635': 'CQW49_11600', 'CQW49_RS23795': 'CQW49_23695', 'CQW49_RS01975': 'CQW49_01970', 'CQW49_RS10765': 'CQW49_10735', 'CQW49_RS16325': 'CQW49_16290', 'CQW49_RS00350': 'CQW49_00350', 'CQW49_RS07800': 'CQW49_07790', 'CQW49_RS10355': 'CQW49_10330', 'CQW49_RS17425': 'CQW49_17375', 'CQW49_RS19015': 'CQW49_18955', 'CQW49_RS19895': 'CQW49_19835', 'CQW49_RS21960': 'CQW49_21875', 'CQW49_RS03355': 'CQW49_03345', 'CQW49_RS05885': 'CQW49_05875', 'CQW49_RS14610': 'CQW49_14575', 'CQW49_RS15920': 'CQW49_15885', 'CQW49_RS00420': 'CQW49_00420', 'CQW49_RS02605': 'CQW49_02595', 'CQW49_RS04285': 'CQW49_04275', 'CQW49_RS09740': 'CQW49_09720', 'CQW49_RS16375': 'CQW49_16340', 'CQW49_RS17635': 'CQW49_17580', 'CQW49_RS01945': 'CQW49_01940', 'CQW49_RS06155': 'CQW49_06145', 'CQW49_RS19195': 'CQW49_19135', 'CQW49_RS03395': 'CQW49_03380', 'CQW49_RS03620': 'CQW49_03610', 'CQW49_RS10045': 'CQW49_10020', 'CQW49_RS11475': 'CQW49_11445', 'CQW49_RS12240': 'CQW49_12205', 'CQW49_RS16730': 'CQW49_16690', 'CQW49_RS17075': 'CQW49_17030', 'CQW49_RS05190': 'CQW49_05185', 'CQW49_RS07730': 'CQW49_07720', 'CQW49_RS11450': 'CQW49_11420', 'CQW49_RS18120': 'CQW49_18060', 'CQW49_RS05975': 'CQW49_05965', 'CQW49_RS13700': 'CQW49_13665', 'CQW49_RS17895': 'CQW49_17840', 'CQW49_RS21975': 'CQW49_21890', 'CQW49_RS02435': 'CQW49_02425', 'CQW49_RS16410': 'CQW49_16375', 'CQW49_RS17730': 'CQW49_17675', 'CQW49_RS02455': 'CQW49_02445', 'CQW49_RS08000': 'CQW49_07990', 'CQW49_RS11550': 'CQW49_11515', 'CQW49_RS15805': 'CQW49_15770', 'CQW49_RS14955': 'CQW49_14920', 'CQW49_RS03845': 'CQW49_03835', 'CQW49_RS09445': 'CQW49_09425', 'CQW49_RS12660': 'CQW49_12625', 'CQW49_RS15340': 'CQW49_15305', 'CQW49_RS23095': 'CQW49_22995', 'CQW49_RS02790': 'CQW49_02780', 'CQW49_RS07185': 'CQW49_07175', 'CQW49_RS02130': 'CQW49_02125', 'CQW49_RS04535': 'CQW49_04530', 'CQW49_RS14180': 'CQW49_14145', 'CQW49_RS15760': 'CQW49_15725', 'CQW49_RS22960': 'CQW49_22860', 'CQW49_RS23245': 'CQW49_23140', 'CQW49_RS02095': 'CQW49_02090', 'CQW49_RS05745': 'CQW49_05735', 'CQW49_RS07250': 'CQW49_07240', 'CQW49_RS10685': 'CQW49_10655', 'CQW49_RS11610': 'CQW49_11575', 'CQW49_RS13485': 'CQW49_13450', 'CQW49_RS13790': 'CQW49_13755', 'CQW49_RS14435': 'CQW49_14400', 'CQW49_RS18180': 'CQW49_18120', 'CQW49_RS18635': 'CQW49_18575', 'CQW49_RS01350': 'CQW49_01345', 'CQW49_RS08600': 'CQW49_08590', 'CQW49_RS17265': 'CQW49_17220', 'CQW49_RS19120': 'CQW49_19060', 'CQW49_RS19260': 'CQW49_19205', 'CQW49_RS04130': 'CQW49_04120', 'CQW49_RS09185': 'CQW49_09165', 'CQW49_RS12885': 'CQW49_12850', 'CQW49_RS20580': 'CQW49_20510', 'CQW49_RS13320': 'CQW49_13285', 'CQW49_RS19395': 'CQW49_19340', 'CQW49_RS03035': 'CQW49_03025', 'CQW49_RS14585': 'CQW49_14550', 'CQW49_RS00925': 'CQW49_00925', 'CQW49_RS04465': 'CQW49_04460', 'CQW49_RS10060': 'CQW49_10035', 'CQW49_RS11200': 'CQW49_11170', 'CQW49_RS11270': 'CQW49_11240', 'CQW49_RS09765': 'CQW49_09745', 'CQW49_RS15480': 'CQW49_15445', 'CQW49_RS12075': 'CQW49_12040', 'CQW49_RS16745': 'CQW49_16705', 'CQW49_RS03690': 'CQW49_03680', 'CQW49_RS07035': 'CQW49_07025', 'CQW49_RS17245': 'CQW49_17200', 'CQW49_RS01820': 'CQW49_01815', 'CQW49_RS06935': 'CQW49_06925', 'CQW49_RS07990': 'CQW49_07980', 'CQW49_RS18380': 'CQW49_18320', 'CQW49_RS20520': 'CQW49_20450', 'CQW49_RS20905': 'CQW49_20830', 'CQW49_RS06040': 'CQW49_06030', 'CQW49_RS20785': 'CQW49_20710', 'CQW49_RS01175': 'CQW49_01170', 'CQW49_RS03325': 'CQW49_03315', 'CQW49_RS09200': 'CQW49_09180', 'CQW49_RS17725': 'CQW49_17670', 'CQW49_RS00630': 'CQW49_00630', 'CQW49_RS05815': 'CQW49_05805', 'CQW49_RS06525': 'CQW49_06515', 'CQW49_RS11305': 'CQW49_11275', 'CQW49_RS12975': 'CQW49_12940', 'CQW49_RS10070': 'CQW49_10045', 'CQW49_RS16415': 'CQW49_16380', 'CQW49_RS18465': 'CQW49_18405', 'CQW49_RS19695': 'CQW49_19640', 'CQW49_RS20305': 'CQW49_20235', 'CQW49_RS21360': 'CQW49_21285', 'CQW49_RS23100': 'CQW49_23000', 'CQW49_RS23975': 'CQW49_23870', 'CQW49_RS00800': 'CQW49_00800', 'CQW49_RS00885': 'CQW49_00885', 'CQW49_RS04015': 'CQW49_04005', 'CQW49_RS06240': 'CQW49_06230', 'CQW49_RS15430': 'CQW49_15395', 'CQW49_RS17100': 'CQW49_17055', 'CQW49_RS20100': 'CQW49_20035', 'CQW49_RS20525': 'CQW49_20455', 'CQW49_RS11585': 'CQW49_11550', 'CQW49_RS19920': 'CQW49_19855', 'CQW49_RS00045': 'CQW49_00045', 'CQW49_RS00280': 'CQW49_00280', 'CQW49_RS05600': 'CQW49_05590', 'CQW49_RS07855': 'CQW49_07845', 'CQW49_RS13175': 'CQW49_13140', 'CQW49_RS14420': 'CQW49_14385', 'CQW49_RS14465': 'CQW49_14430', 'CQW49_RS14495': 'CQW49_14460', 'CQW49_RS16510': 'CQW49_16470', 'CQW49_RS19530': 'CQW49_19475', 'CQW49_RS21460': 'CQW49_21385', 'CQW49_RS24075': 'CQW49_23960', 'CQW49_RS03305': 'CQW49_03295', 'CQW49_RS04595': 'CQW49_04590', 'CQW49_RS12300': 'CQW49_12265', 'CQW49_RS16680': 'CQW49_16640', 'CQW49_RS17850': 'CQW49_17795', 'CQW49_RS18925': 'CQW49_18865', 'CQW49_RS15335': 'CQW49_15300', 'CQW49_RS18505': 'CQW49_18445', 'CQW49_RS20500': 'CQW49_20430', 'CQW49_RS21630': 'CQW49_21545', 'CQW49_RS24125': 'CQW49_24010', 'CQW49_RS00795': 'CQW49_00795', 'CQW49_RS06795': 'CQW49_06785', 'CQW49_RS09090': 'CQW49_09070', 'CQW49_RS11555': 'CQW49_11520', 'CQW49_RS15695': 'CQW49_15660', 'CQW49_RS20450': 'CQW49_20380', 'CQW49_RS20860': 'CQW49_20785', 'CQW49_RS01315': 'CQW49_01310', 'CQW49_RS12260': 'CQW49_12225', 'CQW49_RS20960': 'CQW49_20885', 'CQW49_RS00480': 'CQW49_00480', 'CQW49_RS02105': 'CQW49_02100', 'CQW49_RS04880': 'CQW49_04870', 'CQW49_RS04970': 'CQW49_04965', 'CQW49_RS08740': 'CQW49_08730', 'CQW49_RS15860': 'CQW49_15825', 'CQW49_RS16640': 'CQW49_16600', 'CQW49_RS19970': 'CQW49_19905', 'CQW49_RS23190': 'CQW49_23085', 'CQW49_RS03470': 'CQW49_03460', 'CQW49_RS05260': 'CQW49_05255', 'CQW49_RS06945': 'CQW49_06935', 'CQW49_RS09480': 'CQW49_09460', 'CQW49_RS16555': 'CQW49_16515', 'CQW49_RS20755': 'CQW49_20680', 'CQW49_RS03775': 'CQW49_03765', 'CQW49_RS05730': 'CQW49_05720', 'CQW49_RS06245': 'CQW49_06235', 'CQW49_RS15150': 'CQW49_15115', 'CQW49_RS15595': 'CQW49_15560', 'CQW49_RS23650': 'CQW49_23550', 'CQW49_RS03625': 'CQW49_03615', 'CQW49_RS16080': 'CQW49_16045', 'CQW49_RS16420': 'CQW49_16385', 'CQW49_RS17945': 'CQW49_17890', 'CQW49_RS18000': 'CQW49_17945', 'CQW49_RS23260': 'CQW49_23155', 'CQW49_RS00110': 'CQW49_00110', 'CQW49_RS18065': 'CQW49_18005', 'CQW49_RS23025': 'CQW49_22925', 'CQW49_RS00230': 'CQW49_00230', 'CQW49_RS09115': 'CQW49_09095', 'CQW49_RS09935': 'CQW49_09915', 'CQW49_RS12755': 'CQW49_12720', 'CQW49_RS15455': 'CQW49_15420', 'CQW49_RS16735': 'CQW49_16695', 'CQW49_RS20440': 'CQW49_20370', 'CQW49_RS21640': 'CQW49_21555', 'CQW49_RS08865': 'CQW49_08855', 'CQW49_RS14455': 'CQW49_14420', 'CQW49_RS22470': 'CQW49_22375', 'CQW49_RS23485': 'CQW49_23380', 'CQW49_RS00435': 'CQW49_00435', 'CQW49_RS01430': 'CQW49_01425', 'CQW49_RS06665': 'CQW49_06655', 'CQW49_RS08755': 'CQW49_08745', 'CQW49_RS12155': 'CQW49_12120', 'CQW49_RS21215': 'CQW49_21140', 'CQW49_RS02725': 'CQW49_02715', 'CQW49_RS04865': 'CQW49_04855', 'CQW49_RS08625': 'CQW49_08615', 'CQW49_RS16605': 'CQW49_16565', 'CQW49_RS18640': 'CQW49_18580', 'CQW49_RS18780': 'CQW49_18720', 'CQW49_RS18945': 'CQW49_18885', 'CQW49_RS00060': 'CQW49_00060', 'CQW49_RS15460': 'CQW49_15425', 'CQW49_RS20310': 'CQW49_20240', 'CQW49_RS11770': 'CQW49_11735', 'CQW49_RS13435': 'CQW49_13400', 'CQW49_RS20125': 'CQW49_20060', 'CQW49_RS22795': 'CQW49_22695', 'CQW49_RS00450': 'CQW49_00450', 'CQW49_RS07170': 'CQW49_07160', 'CQW49_RS15440': 'CQW49_15405', 'CQW49_RS20610': 'CQW49_20540', 'CQW49_RS21840': 'CQW49_21755', 'CQW49_RS06065': 'CQW49_06055', 'CQW49_RS16880': 'CQW49_16835', 'CQW49_RS02900': 'CQW49_02890', 'CQW49_RS10705': 'CQW49_10675', 'CQW49_RS13885': 'CQW49_13850', 'CQW49_RS21100': 'CQW49_21025', 'CQW49_RS10505': 'CQW49_10480', 'CQW49_RS07445': 'CQW49_07435', 'CQW49_RS14395': 'CQW49_14360', 'CQW49_RS17130': 'CQW49_17085', 'CQW49_RS22250': 'CQW49_22165', 'CQW49_RS22735': 'CQW49_22635', 'CQW49_RS06045': 'CQW49_06035', 'CQW49_RS13360': 'CQW49_13325', 'CQW49_RS16000': 'CQW49_15965', 'CQW49_RS05390': 'CQW49_05385', 'CQW49_RS07475': 'CQW49_07465', 'CQW49_RS15880': 'CQW49_15845', 'CQW49_RS15915': 'CQW49_15880', 'CQW49_RS00955': 'CQW49_00955', 'CQW49_RS10320': 'CQW49_10295', 'CQW49_RS11775': 'CQW49_11740', 'CQW49_RS13520': 'CQW49_13485', 'CQW49_RS16040': 'CQW49_16005', 'CQW49_RS17755': 'CQW49_17700', 'CQW49_RS20025': 'CQW49_19960', 'CQW49_RS22975': 'CQW49_22875', 'CQW49_RS02755': 'CQW49_02745', 'CQW49_RS03140': 'CQW49_03130', 'CQW49_RS11345': 'CQW49_11315', 'CQW49_RS18540': 'CQW49_18480', 'CQW49_RS21850': 'CQW49_21765', 'CQW49_RS03550': 'CQW49_03540', 'CQW49_RS04625': 'CQW49_04620', 'CQW49_RS07900': 'CQW49_07890', 'CQW49_RS08590': 'CQW49_08580', 'CQW49_RS09850': 'CQW49_09830', 'CQW49_RS12405': 'CQW49_12370', 'CQW49_RS16955': 'CQW49_16910', 'CQW49_RS18200': 'CQW49_18140', 'CQW49_RS18900': 'CQW49_18840', 'CQW49_RS20825': 'CQW49_20750', 'CQW49_RS00205': 'CQW49_00205', 'CQW49_RS07470': 'CQW49_07460', 'CQW49_RS19185': 'CQW49_19125', 'CQW49_RS23070': 'CQW49_22970', 'CQW49_RS04295': 'CQW49_04285', 'CQW49_RS09750': 'CQW49_09730', 'CQW49_RS15275': 'CQW49_15240', 'CQW49_RS00300': 'CQW49_00300', 'CQW49_RS00555': 'CQW49_00555', 'CQW49_RS01605': 'CQW49_01600', 'CQW49_RS04445': 'CQW49_04440', 'CQW49_RS09215': 'CQW49_09195', 'CQW49_RS18075': 'CQW49_18015', 'CQW49_RS24115': 'CQW49_24000', 'CQW49_RS04190': 'CQW49_04180', 'CQW49_RS06465': 'CQW49_06455', 'CQW49_RS19315': 'CQW49_19260', 'CQW49_RS01870': 'CQW49_01865', 'CQW49_RS03330': 'CQW49_03320', 'CQW49_RS12440': 'CQW49_12405', 'CQW49_RS18600': 'CQW49_18540', 'CQW49_RS19825': 'CQW49_19770', 'CQW49_RS00730': 'CQW49_00730', 'CQW49_RS03135': 'CQW49_03125', 'CQW49_RS16890': 'CQW49_16845', 'CQW49_RS01300': 'CQW49_01295', 'CQW49_RS07905': 'CQW49_07895', 'CQW49_RS08970': 'CQW49_08960', 'CQW49_RS10855': 'CQW49_10825', 'CQW49_RS17915': 'CQW49_17860', 'CQW49_RS18095': 'CQW49_18035', 'CQW49_RS18695': 'CQW49_18635', 'CQW49_RS18910': 'CQW49_18850', 'CQW49_RS07140': 'CQW49_07130', 'CQW49_RS11210': 'CQW49_11180', 'CQW49_RS12785': 'CQW49_12750', 'CQW49_RS14320': 'CQW49_14285', 'CQW49_RS15580': 'CQW49_15545', 'CQW49_RS20390': 'CQW49_20320', 'CQW49_RS20765': 'CQW49_20690', 'CQW49_RS07340': 'CQW49_07330', 'CQW49_RS09120': 'CQW49_09100', 'CQW49_RS12245': 'CQW49_12210', 'CQW49_RS06680': 'CQW49_06670', 'CQW49_RS16270': 'CQW49_16235', 'CQW49_RS21825': 'CQW49_21740', 'CQW49_RS10885': 'CQW49_10855', 'CQW49_RS18535': 'CQW49_18475', 'CQW49_RS08660': 'CQW49_08650', 'CQW49_RS11760': 'CQW49_11725', 'CQW49_RS00195': 'CQW49_00195', 'CQW49_RS08795': 'CQW49_08785', 'CQW49_RS10565': 'CQW49_10540', 'CQW49_RS12560': 'CQW49_12525', 'CQW49_RS12875': 'CQW49_12840', 'CQW49_RS13580': 'CQW49_13545', 'CQW49_RS22545': 'CQW49_22450', 'CQW49_RS23005': 'CQW49_22905', 'CQW49_RS05440': 'CQW49_05435', 'CQW49_RS17690': 'CQW49_17635', 'CQW49_RS01610': 'CQW49_01605', 'CQW49_RS03145': 'CQW49_03135', 'CQW49_RS14735': 'CQW49_14700', 'CQW49_RS20565': 'CQW49_20495', 'CQW49_RS04975': 'CQW49_04970', 'CQW49_RS20840': 'CQW49_20765', 'CQW49_RS05950': 'CQW49_05940', 'CQW49_RS06515': 'CQW49_06505', 'CQW49_RS07135': 'CQW49_07125', 'CQW49_RS12720': 'CQW49_12685', 'CQW49_RS17845': 'CQW49_17790', 'CQW49_RS00565': 'CQW49_00565', 'CQW49_RS04635': 'CQW49_04630', 'CQW49_RS06170': 'CQW49_06160', 'CQW49_RS11415': 'CQW49_11385', 'CQW49_RS12710': 'CQW49_12675', 'CQW49_RS14490': 'CQW49_14455', 'CQW49_RS16355': 'CQW49_16320', 'CQW49_RS19320': 'CQW49_19265', 'CQW49_RS08200': 'CQW49_08190', 'CQW49_RS12215': 'CQW49_12180', 'CQW49_RS13155': 'CQW49_13120', 'CQW49_RS20050': 'CQW49_19985', 'CQW49_RS05935': 'CQW49_05925', 'CQW49_RS12295': 'CQW49_12260', 'CQW49_RS00250': 'CQW49_00250', 'CQW49_RS00820': 'CQW49_00820', 'CQW49_RS00910': 'CQW49_00910', 'CQW49_RS06385': 'CQW49_06375', 'CQW49_RS07225': 'CQW49_07215', 'CQW49_RS20395': 'CQW49_20325', 'CQW49_RS23630': 'CQW49_23530', 'CQW49_RS02100': 'CQW49_02095', 'CQW49_RS08910': 'CQW49_08900', 'CQW49_RS10330': 'CQW49_10305', 'CQW49_RS13475': 'CQW49_13440', 'CQW49_RS00215': 'CQW49_00215', 'CQW49_RS12475': 'CQW49_12440', 'CQW49_RS18110': 'CQW49_18050', 'CQW49_RS04750': 'CQW49_04740', 'CQW49_RS05435': 'CQW49_05430', 'CQW49_RS12695': 'CQW49_12660', 'CQW49_RS16660': 'CQW49_16620', 'CQW49_RS19265': 'CQW49_19210', 'CQW49_RS03340': 'CQW49_03330', 'CQW49_RS09410': 'CQW49_09390', 'CQW49_RS16975': 'CQW49_16930', 'CQW49_RS05360': 'CQW49_05355', 'CQW49_RS06205': 'CQW49_06195', 'CQW49_RS09340': 'CQW49_09320', 'CQW49_RS14750': 'CQW49_14715', 'CQW49_RS20245': 'CQW49_20175', 'CQW49_RS22205': 'CQW49_22120', 'CQW49_RS10285': 'CQW49_10260', 'CQW49_RS05285': 'CQW49_05280', 'CQW49_RS23890': 'CQW49_23785', 'CQW49_RS10280': 'CQW49_10255', 'CQW49_RS17435': 'CQW49_17385', 'CQW49_RS19235': 'CQW49_19180', 'CQW49_RS08470': 'CQW49_08460', 'CQW49_RS12985': 'CQW49_12950', 'CQW49_RS09250': 'CQW49_09230', 'CQW49_RS09680': 'CQW49_09660', 'CQW49_RS14715': 'CQW49_14680', 'CQW49_RS16275': 'CQW49_16240', 'CQW49_RS15030': 'CQW49_14995', 'CQW49_RS15165': 'CQW49_15130', 'CQW49_RS15945': 'CQW49_15910', 'CQW49_RS17650': 'CQW49_17595', 'CQW49_RS20560': 'CQW49_20490', 'CQW49_RS22050': 'CQW49_21965', 'CQW49_RS02230': 'CQW49_02225', 'CQW49_RS01620': 'CQW49_01615', 'CQW49_RS06545': 'CQW49_06535', 'CQW49_RS12415': 'CQW49_12380', 'CQW49_RS16280': 'CQW49_16245', 'CQW49_RS03850': 'CQW49_03840', 'CQW49_RS02880': 'CQW49_02870', 'CQW49_RS18025': 'CQW49_17965', 'CQW49_RS20435': 'CQW49_20365', 'CQW49_RS02735': 'CQW49_02725', 'CQW49_RS05940': 'CQW49_05930', 'CQW49_RS11465': 'CQW49_11435', 'CQW49_RS16400': 'CQW49_16365', 'CQW49_RS17565': 'CQW49_17510', 'CQW49_RS01160': 'CQW49_01155', 'CQW49_RS17775': 'CQW49_17720', 'CQW49_RS02240': 'CQW49_02235', 'CQW49_RS13655': 'CQW49_13620', 'CQW49_RS17345': 'CQW49_17295', 'CQW49_RS18625': 'CQW49_18565', 'CQW49_RS20600': 'CQW49_20530', 'CQW49_RS24120': 'CQW49_24005', 'CQW49_RS01985': 'CQW49_01980', 'CQW49_RS13570': 'CQW49_13535', 'CQW49_RS03410': 'CQW49_03395', 'CQW49_RS10390': 'CQW49_10365', 'CQW49_RS10715': 'CQW49_10685', 'CQW49_RS13145': 'CQW49_13110', 'CQW49_RS13295': 'CQW49_13260', 'CQW49_RS21560': 'CQW49_21480', 'CQW49_RS23215': 'CQW49_23110', 'CQW49_RS02885': 'CQW49_02875', 'CQW49_RS03235': 'CQW49_03225', 'CQW49_RS03360': 'CQW49_03350', 'CQW49_RS09075': 'CQW49_09060', 'CQW49_RS21295': 'CQW49_21220', 'CQW49_RS15980': 'CQW49_15945', 'CQW49_RS17400': 'CQW49_17350', 'CQW49_RS02615': 'CQW49_02605', 'CQW49_RS14295': 'CQW49_14260', 'CQW49_RS19180': 'CQW49_19120', 'CQW49_RS09650': 'CQW49_09630', 'CQW49_RS10015': 'CQW49_09990', 'CQW49_RS14105': 'CQW49_14070', 'CQW49_RS15380': 'CQW49_15345', 'CQW49_RS16315': 'CQW49_16280', 'CQW49_RS18590': 'CQW49_18530', 'CQW49_RS21080': 'CQW49_21005', 'CQW49_RS00085': 'CQW49_00085', 'CQW49_RS09640': 'CQW49_09620', 'CQW49_RS12205': 'CQW49_12170', 'CQW49_RS12615': 'CQW49_12580', 'CQW49_RS15065': 'CQW49_15030', 'CQW49_RS16100': 'CQW49_16065', 'CQW49_RS18195': 'CQW49_18135', 'CQW49_RS20150': 'CQW49_20085', 'CQW49_RS00570': 'CQW49_00570', 'CQW49_RS06295': 'CQW49_06285', 'CQW49_RS13065': 'CQW49_13030', 'CQW49_RS13765': 'CQW49_13730', 'CQW49_RS15815': 'CQW49_15780', 'CQW49_RS00495': 'CQW49_00495', 'CQW49_RS04785': 'CQW49_04775', 'CQW49_RS21250': 'CQW49_21175', 'CQW49_RS00445': 'CQW49_00445', 'CQW49_RS01550': 'CQW49_01545', 'CQW49_RS10105': 'CQW49_10080', 'CQW49_RS19640': 'CQW49_19585', 'CQW49_RS04340': 'CQW49_04335', 'CQW49_RS08960': 'CQW49_08950', 'CQW49_RS11750': 'CQW49_11715', 'CQW49_RS22085': 'CQW49_22000', 'CQW49_RS13560': 'CQW49_13525', 'CQW49_RS15675': 'CQW49_15640', 'CQW49_RS17530': 'CQW49_17475', 'CQW49_RS23940': 'CQW49_23835', 'CQW49_RS03130': 'CQW49_03120', 'CQW49_RS03385': 'CQW49_03370', 'CQW49_RS05035': 'CQW49_05030', 'CQW49_RS08830': 'CQW49_08820', 'CQW49_RS11460': 'CQW49_11430', 'CQW49_RS12435': 'CQW49_12400', 'CQW49_RS15975': 'CQW49_15940', 'CQW49_RS18190': 'CQW49_18130', 'CQW49_RS18870': 'CQW49_18810', 'CQW49_RS04180': 'CQW49_04170', 'CQW49_RS06990': 'CQW49_06980', 'CQW49_RS07010': 'CQW49_07000', 'CQW49_RS07020': 'CQW49_07010', 'CQW49_RS10700': 'CQW49_10670', 'CQW49_RS10790': 'CQW49_10760', 'CQW49_RS15405': 'CQW49_15370', 'CQW49_RS23615': 'CQW49_23515', 'CQW49_RS00345': 'CQW49_00345', 'CQW49_RS07640': 'CQW49_07630', 'CQW49_RS20775': 'CQW49_20700', 'CQW49_RS02195': 'CQW49_02190', 'CQW49_RS02270': 'CQW49_02265', 'CQW49_RS03525': 'CQW49_03515', 'CQW49_RS17615': 'CQW49_17560', 'CQW49_RS18490': 'CQW49_18430', 'CQW49_RS18820': 'CQW49_18760', 'CQW49_RS23840': 'CQW49_23735', 'CQW49_RS02110': 'CQW49_02105', 'CQW49_RS04830': 'CQW49_04820', 'CQW49_RS10255': 'CQW49_10230', 'CQW49_RS12160': 'CQW49_12125', 'CQW49_RS00810': 'CQW49_00810', 'CQW49_RS02800': 'CQW49_02790', 'CQW49_RS17140': 'CQW49_17095', 'CQW49_RS19940': 'CQW49_19875', 'CQW49_RS06420': 'CQW49_06410', 'CQW49_RS10035': 'CQW49_10010', 'CQW49_RS17480': 'CQW49_17425', 'CQW49_RS07345': 'CQW49_07335', 'CQW49_RS10295': 'CQW49_10270', 'CQW49_RS20935': 'CQW49_20860', 'CQW49_RS21325': 'CQW49_21250', 'CQW49_RS02205': 'CQW49_02200', 'CQW49_RS06435': 'CQW49_06425', 'CQW49_RS04840': 'CQW49_04830', 'CQW49_RS12790': 'CQW49_12755', 'CQW49_RS20575': 'CQW49_20505', 'CQW49_RS21580': 'CQW49_21500', 'CQW49_RS22245': 'CQW49_22160', 'CQW49_RS23580': 'CQW49_23480', 'CQW49_RS03420': 'CQW49_03405', 'CQW49_RS08670': 'CQW49_08660', 'CQW49_RS06430': 'CQW49_06420', 'CQW49_RS06555': 'CQW49_06545', 'CQW49_RS17890': 'CQW49_17835', 'CQW49_RS19545': 'CQW49_19490', 'CQW49_RS22005': 'CQW49_21920', 'CQW49_RS23660': 'CQW49_23560', 'CQW49_RS11000': 'CQW49_10970', 'CQW49_RS03910': 'CQW49_03900', 'CQW49_RS04860': 'CQW49_04850', 'CQW49_RS14440': 'CQW49_14405', 'CQW49_RS18130': 'CQW49_18070', 'CQW49_RS11745': 'CQW49_11710', 'CQW49_RS12200': 'CQW49_12165', 'CQW49_RS18375': 'CQW49_18315', 'CQW49_RS22525': 'CQW49_22430', 'CQW49_RS23305': 'CQW49_23200', 'CQW49_RS04835': 'CQW49_04825', 'CQW49_RS05880': 'CQW49_05870', 'CQW49_RS06925': 'CQW49_06915', 'CQW49_RS10490': 'CQW49_10465', 'CQW49_RS10950': 'CQW49_10920', 'CQW49_RS13005': 'CQW49_12970', 'CQW49_RS13465': 'CQW49_13430', 'CQW49_RS16175': 'CQW49_16140', 'CQW49_RS16200': 'CQW49_16165', 'CQW49_RS16945': 'CQW49_16900', 'CQW49_RS19225': 'CQW49_19170', 'CQW49_RS21140': 'CQW49_21065', 'CQW49_RS22235': 'CQW49_22150', 'CQW49_RS23860': 'CQW49_23755', 'CQW49_RS17135': 'CQW49_17090', 'CQW49_RS09625': 'CQW49_09605', 'CQW49_RS12030': 'CQW49_11995', 'CQW49_RS12290': 'CQW49_12255', 'CQW49_RS03290': 'CQW49_03280', 'CQW49_RS06560': 'CQW49_06550', 'CQW49_RS07850': 'CQW49_07840', 'CQW49_RS13355': 'CQW49_13320', 'CQW49_RS21425': 'CQW49_21350', 'CQW49_RS11170': 'CQW49_11140', 'CQW49_RS16065': 'CQW49_16030', 'CQW49_RS01410': 'CQW49_01405', 'CQW49_RS07780': 'CQW49_07770', 'CQW49_RS11375': 'CQW49_11345', 'CQW49_RS11890': 'CQW49_11855', 'CQW49_RS13495': 'CQW49_13460', 'CQW49_RS15400': 'CQW49_15365', 'CQW49_RS16240': 'CQW49_16205', 'CQW49_RS21085': 'CQW49_21010', 'CQW49_RS00735': 'CQW49_00735', 'CQW49_RS01540': 'CQW49_01535', 'CQW49_RS20295': 'CQW49_20225', 'CQW49_RS20915': 'CQW49_20840', 'CQW49_RS08035': 'CQW49_08025', 'CQW49_RS10155': 'CQW49_10130', 'CQW49_RS21585': 'CQW49_21505', 'CQW49_RS14765': 'CQW49_14730', 'CQW49_RS06790': 'CQW49_06780', 'CQW49_RS06915': 'CQW49_06905', 'CQW49_RS13990': 'CQW49_13955', 'CQW49_RS15370': 'CQW49_15335', 'CQW49_RS15540': 'CQW49_15505', 'CQW49_RS15990': 'CQW49_15955', 'CQW49_RS17590': 'CQW49_17535', 'CQW49_RS19775': 'CQW49_19720', 'CQW49_RS21415': 'CQW49_21340', 'CQW49_RS02760': 'CQW49_02750', 'CQW49_RS10550': 'CQW49_10525', 'CQW49_RS12880': 'CQW49_12845', 'CQW49_RS13770': 'CQW49_13735', 'CQW49_RS00320': 'CQW49_00320', 'CQW49_RS01360': 'CQW49_01355', 'CQW49_RS09620': 'CQW49_09600', 'CQW49_RS11900': 'CQW49_11865', 'CQW49_RS13575': 'CQW49_13540', 'CQW49_RS13945': 'CQW49_13910', 'CQW49_RS17625': 'CQW49_17570', 'CQW49_RS20055': 'CQW49_19990', 'CQW49_RS05920': 'CQW49_05910', 'CQW49_RS09675': 'CQW49_09655', 'CQW49_RS19325': 'CQW49_19270', 'CQW49_RS20800': 'CQW49_20725', 'CQW49_RS22240': 'CQW49_22155', 'CQW49_RS08885': 'CQW49_08875', 'CQW49_RS15925': 'CQW49_15890', 'CQW49_RS08255': 'CQW49_08245', 'CQW49_RS09615': 'CQW49_09595', 'CQW49_RS16990': 'CQW49_16945', 'CQW49_RS18270': 'CQW49_18210', 'CQW49_RS18680': 'CQW49_18620', 'CQW49_RS20590': 'CQW49_20520', 'CQW49_RS01060': 'CQW49_01060', 'CQW49_RS05210': 'CQW49_05205', 'CQW49_RS15930': 'CQW49_15895', 'CQW49_RS20980': 'CQW49_20905', 'CQW49_RS04155': 'CQW49_04145', 'CQW49_RS07625': 'CQW49_07615', 'CQW49_RS12650': 'CQW49_12615', 'CQW49_RS12675': 'CQW49_12640', 'CQW49_RS15425': 'CQW49_15390', 'CQW49_RS17095': 'CQW49_17050', 'CQW49_RS17365': 'CQW49_17315', 'CQW49_RS18005': 'CQW49_17950', 'CQW49_RS18835': 'CQW49_18775', 'CQW49_RS03935': 'CQW49_03925', 'CQW49_RS05740': 'CQW49_05730', 'CQW49_RS08630': 'CQW49_08620', 'CQW49_RS14595': 'CQW49_14560', 'CQW49_RS19280': 'CQW49_19225', 'CQW49_RS22465': 'CQW49_22370', 'CQW49_RS06060': 'CQW49_06050', 'CQW49_RS08620': 'CQW49_08610', 'CQW49_RS09170': 'CQW49_09150', 'CQW49_RS09725': 'CQW49_09705', 'CQW49_RS11060': 'CQW49_11030', 'CQW49_RS17000': 'CQW49_16955', 'CQW49_RS19095': 'CQW49_19035', 'CQW49_RS21090': 'CQW49_21015', 'CQW49_RS24090': 'CQW49_23975', 'CQW49_RS00225': 'CQW49_00225', 'CQW49_RS19205': 'CQW49_19145', 'CQW49_RS19810': 'CQW49_19755', 'CQW49_RS20300': 'CQW49_20230', 'CQW49_RS00720': 'CQW49_00720', 'CQW49_RS00890': 'CQW49_00890', 'CQW49_RS01980': 'CQW49_01975', 'CQW49_RS02415': 'CQW49_02405', 'CQW49_RS10520': 'CQW49_10495', 'CQW49_RS11570': 'CQW49_11535', 'CQW49_RS16590': 'CQW49_16550', 'CQW49_RS18030': 'CQW49_17970', 'CQW49_RS01370': 'CQW49_01365', 'CQW49_RS05715': 'CQW49_05705', 'CQW49_RS10095': 'CQW49_10070', 'CQW49_RS12835': 'CQW49_12800', 'CQW49_RS17735': 'CQW49_17680', 'CQW49_RS18395': 'CQW49_18335', 'CQW49_RS23075': 'CQW49_22975', 'CQW49_RS00410': 'CQW49_00410', 'CQW49_RS01325': 'CQW49_01320', 'CQW49_RS05385': 'CQW49_05380', 'CQW49_RS17030': 'CQW49_16985', 'CQW49_RS17800': 'CQW49_17745', 'CQW49_RS23870': 'CQW49_23765', 'CQW49_RS02320': 'CQW49_02315', 'CQW49_RS03825': 'CQW49_03815', 'CQW49_RS06200': 'CQW49_06190', 'CQW49_RS06520': 'CQW49_06510', 'CQW49_RS17115': 'CQW49_17070', 'CQW49_RS17560': 'CQW49_17505', 'CQW49_RS17680': 'CQW49_17625', 'CQW49_RS23140': 'CQW49_23040', 'CQW49_RS00315': 'CQW49_00315', 'CQW49_RS15290': 'CQW49_15255', 'CQW49_RS16185': 'CQW49_16150', 'CQW49_RS03890': 'CQW49_03880', 'CQW49_RS06400': 'CQW49_06390', 'CQW49_RS09175': 'CQW49_09155', 'CQW49_RS13760': 'CQW49_13725', 'CQW49_RS22095': 'CQW49_22010', 'CQW49_RS01730': 'CQW49_01725', 'CQW49_RS09670': 'CQW49_09650', 'CQW49_RS00545': 'CQW49_00545', 'CQW49_RS01805': 'CQW49_01800', 'CQW49_RS13840': 'CQW49_13805', 'CQW49_RS18040': 'CQW49_17980', 'CQW49_RS18775': 'CQW49_18715', 'CQW49_RS23015': 'CQW49_22915', 'CQW49_RS04735': 'CQW49_04725', 'CQW49_RS10400': 'CQW49_10375', 'CQW49_RS11180': 'CQW49_11150', 'CQW49_RS11840': 'CQW49_11805', 'CQW49_RS13020': 'CQW49_12985', 'CQW49_RS15985': 'CQW49_15950', 'CQW49_RS19820': 'CQW49_19765', 'CQW49_RS21530': 'CQW49_21450', 'CQW49_RS05410': 'CQW49_05405', 'CQW49_RS06590': 'CQW49_06575', 'CQW49_RS10945': 'CQW49_10915', 'CQW49_RS13445': 'CQW49_13410', 'CQW49_RS14145': 'CQW49_14110', 'CQW49_RS03335': 'CQW49_03325', 'CQW49_RS11430': 'CQW49_11400', 'CQW49_RS11800': 'CQW49_11765', 'CQW49_RS01995': 'CQW49_01990', 'CQW49_RS10380': 'CQW49_10355', 'CQW49_RS12330': 'CQW49_12295', 'CQW49_RS13480': 'CQW49_13445', 'CQW49_RS17210': 'CQW49_17165', 'CQW49_RS18365': 'CQW49_18305', 'CQW49_RS20035': 'CQW49_19970', 'CQW49_RS20550': 'CQW49_20480', 'CQW49_RS14350': 'CQW49_14315', 'CQW49_RS14990': 'CQW49_14955', 'CQW49_RS20175': 'CQW49_20110', 'CQW49_RS22550': 'CQW49_22455', 'CQW49_RS00500': 'CQW49_00500', 'CQW49_RS01425': 'CQW49_01420', 'CQW49_RS02955': 'CQW49_02945', 'CQW49_RS06135': 'CQW49_06125', 'CQW49_RS08410': 'CQW49_08400', 'CQW49_RS08455': 'CQW49_08445', 'CQW49_RS11860': 'CQW49_11825', 'CQW49_RS14160': 'CQW49_14125', 'CQW49_RS14975': 'CQW49_14940', 'CQW49_RS08465': 'CQW49_08455', 'CQW49_RS15420': 'CQW49_15385', 'CQW49_RS00835': 'CQW49_00835', 'CQW49_RS01735': 'CQW49_01730', 'CQW49_RS02515': 'CQW49_02505', 'CQW49_RS08695': 'CQW49_08685', 'CQW49_RS13035': 'CQW49_13000', 'CQW49_RS17160': 'CQW49_17115', 'CQW49_RS18495': 'CQW49_18435', 'CQW49_RS00025': 'CQW49_00025', 'CQW49_RS08595': 'CQW49_08585', 'CQW49_RS16550': 'CQW49_16510', 'CQW49_RS21885': 'CQW49_21800', 'CQW49_RS09005': 'CQW49_08995', 'CQW49_RS12370': 'CQW49_12335', 'CQW49_RS12780': 'CQW49_12745', 'CQW49_RS14355': 'CQW49_14320', 'CQW49_RS18615': 'CQW49_18555', 'CQW49_RS19475': 'CQW49_19420', 'CQW49_RS19605': 'CQW49_19550', 'CQW49_RS00220': 'CQW49_00220', 'CQW49_RS00275': 'CQW49_00275', 'CQW49_RS05675': 'CQW49_05665', 'CQW49_RS07325': 'CQW49_07315', 'CQW49_RS14720': 'CQW49_14685', 'CQW49_RS22540': 'CQW49_22445', 'CQW49_RS23065': 'CQW49_22965', 'CQW49_RS01615': 'CQW49_01610', 'CQW49_RS09730': 'CQW49_09710', 'CQW49_RS14275': 'CQW49_14240', 'CQW49_RS15635': 'CQW49_15600', 'CQW49_RS21730': 'CQW49_21645', 'CQW49_RS00825': 'CQW49_00825', 'CQW49_RS01530': 'CQW49_01525', 'CQW49_RS03425': 'CQW49_03410', 'CQW49_RS03430': 'CQW49_03415', 'CQW49_RS09275': 'CQW49_09255', 'CQW49_RS11370': 'CQW49_11340', 'CQW49_RS12605': 'CQW49_12570', 'CQW49_RS22145': 'CQW49_22060', 'CQW49_RS23610': 'CQW49_23510', 'CQW49_RS02865': 'CQW49_02855', 'CQW49_RS04260': 'CQW49_04250', 'CQW49_RS09100': 'CQW49_09080', 'CQW49_RS12850': 'CQW49_12815', 'CQW49_RS23135': 'CQW49_23035', 'CQW49_RS23285': 'CQW49_23180', 'CQW49_RS04540': 'CQW49_04535', 'CQW49_RS14255': 'CQW49_14220', 'CQW49_RS20320': 'CQW49_20250', 'CQW49_RS21420': 'CQW49_21345', 'CQW49_RS23155': 'CQW49_23055', 'CQW49_RS03975': 'CQW49_03965', 'CQW49_RS11980': 'CQW49_11945', 'CQW49_RS17880': 'CQW49_17825', 'CQW49_RS18305': 'CQW49_18245', 'CQW49_RS20620': 'CQW49_20550', 'CQW49_RS23185': 'CQW49_23080', 'CQW49_RS21275': 'CQW49_21200', 'CQW49_RS21390': 'CQW49_21315', 'CQW49_RS02045': 'CQW49_02040', 'CQW49_RS03765': 'CQW49_03755', 'CQW49_RS05140': 'CQW49_05135', 'CQW49_RS17050': 'CQW49_17005', 'CQW49_RS18330': 'CQW49_18270', 'CQW49_RS00115': 'CQW49_00115', 'CQW49_RS00510': 'CQW49_00510', 'CQW49_RS02035': 'CQW49_02030', 'CQW49_RS13505': 'CQW49_13470', 'CQW49_RS16450': 'CQW49_16415', 'CQW49_RS17545': 'CQW49_17490', 'CQW49_RS21515': 'CQW49_21440', 'CQW49_RS22010': 'CQW49_21925', 'CQW49_RS00105': 'CQW49_00105', 'CQW49_RS02815': 'CQW49_02805', 'CQW49_RS08240': 'CQW49_08230', 'CQW49_RS09830': 'CQW49_09810', 'CQW49_RS10760': 'CQW49_10730', 'CQW49_RS14775': 'CQW49_14740', 'CQW49_RS17410': 'CQW49_17360', 'CQW49_RS19490': 'CQW49_19435', 'CQW49_RS23530': 'CQW49_23425', 'CQW49_RS10625': 'CQW49_10595', 'CQW49_RS15995': 'CQW49_15960', 'CQW49_RS16830': 'CQW49_16790', 'CQW49_RS20730': 'CQW49_20655', 'CQW49_RS02190': 'CQW49_02185', 'CQW49_RS04895': 'CQW49_04885', 'CQW49_RS05570': 'CQW49_05560', 'CQW49_RS07270': 'CQW49_07260', 'CQW49_RS10460': 'CQW49_10435', 'CQW49_RS20790': 'CQW49_20715', 'CQW49_RS22430': 'CQW49_22335', 'CQW49_RS03095': 'CQW49_03085', 'CQW49_RS06655': 'CQW49_06645', 'CQW49_RS18445': 'CQW49_18385', 'CQW49_RS19800': 'CQW49_19745', 'CQW49_RS04870': 'CQW49_04860', 'CQW49_RS07835': 'CQW49_07825', 'CQW49_RS08980': 'CQW49_08970', 'CQW49_RS10555': 'CQW49_10530', 'CQW49_RS10905': 'CQW49_10875', 'CQW49_RS15690': 'CQW49_15655', 'CQW49_RS18685': 'CQW49_18625', 'CQW49_RS20925': 'CQW49_20850', 'CQW49_RS00125': 'CQW49_00125', 'CQW49_RS04115': 'CQW49_04105', 'CQW49_RS05705': 'CQW49_05695', 'CQW49_RS07865': 'CQW49_07855', 'CQW49_RS10825': 'CQW49_10795', 'CQW49_RS05910': 'CQW49_05900', 'CQW49_RS09420': 'CQW49_09400', 'CQW49_RS15625': 'CQW49_15590', 'CQW49_RS22330': 'CQW49_22235', 'CQW49_RS03275': 'CQW49_03265', 'CQW49_RS07390': 'CQW49_07380', 'CQW49_RS07620': 'CQW49_07610', 'CQW49_RS16560': 'CQW49_16520', 'CQW49_RS07360': 'CQW49_07350', 'CQW49_RS19465': 'CQW49_19410', 'CQW49_RS00535': 'CQW49_00535', 'CQW49_RS07065': 'CQW49_07055', 'CQW49_RS13605': 'CQW49_13570', 'CQW49_RS19835': 'CQW49_19780', 'CQW49_RS04765': 'CQW49_04755', 'CQW49_RS14915': 'CQW49_14880', 'CQW49_RS17815': 'CQW49_17760', 'CQW49_RS02000': 'CQW49_01995', 'CQW49_RS12795': 'CQW49_12760', 'CQW49_RS13635': 'CQW49_13600', 'CQW49_RS16090': 'CQW49_16055', 'CQW49_RS16925': 'CQW49_16880', 'CQW49_RS18430': 'CQW49_18370', 'CQW49_RS22790': 'CQW49_22690', 'CQW49_RS07670': 'CQW49_07660', 'CQW49_RS08510': 'CQW49_08500', 'CQW49_RS08570': 'CQW49_08560', 'CQW49_RS14940': 'CQW49_14905', 'CQW49_RS15315': 'CQW49_15280', 'CQW49_RS01830': 'CQW49_01825', 'CQW49_RS04330': 'CQW49_04325', 'CQW49_RS07215': 'CQW49_07205', 'CQW49_RS08365': 'CQW49_08355', 'CQW49_RS13215': 'CQW49_13180', 'CQW49_RS03110': 'CQW49_03100', 'CQW49_RS13590': 'CQW49_13555', 'CQW49_RS13980': 'CQW49_13945', 'CQW49_RS00655': 'CQW49_00655', 'CQW49_RS00695': 'CQW49_00695', 'CQW49_RS04405': 'CQW49_04400', 'CQW49_RS11950': 'CQW49_11915', 'CQW49_RS12895': 'CQW49_12860', 'CQW49_RS17700': 'CQW49_17645', 'CQW49_RS04665': 'CQW49_04655', 'CQW49_RS05845': 'CQW49_05835', 'CQW49_RS11935': 'CQW49_11900', 'CQW49_RS03780': 'CQW49_03770', 'CQW49_RS17230': 'CQW49_17185', 'CQW49_RS00395': 'CQW49_00395', 'CQW49_RS04430': 'CQW49_04425', 'CQW49_RS07430': 'CQW49_07420', 'CQW49_RS16125': 'CQW49_16090', 'CQW49_RS21130': 'CQW49_21055', 'CQW49_RS22350': 'CQW49_22255', 'CQW49_RS15560': 'CQW49_15525', 'CQW49_RS18840': 'CQW49_18780', 'CQW49_RS01970': 'CQW49_01965', 'CQW49_RS11830': 'CQW49_11795', 'CQW49_RS14330': 'CQW49_14295', 'CQW49_RS05335': 'CQW49_05330', 'CQW49_RS06640': 'CQW49_06625', 'CQW49_RS19165': 'CQW49_19105', 'CQW49_RS01290': 'CQW49_01285', 'CQW49_RS01960': 'CQW49_01955', 'CQW49_RS04020': 'CQW49_04010', 'CQW49_RS11110': 'CQW49_11080', 'CQW49_RS01235': 'CQW49_01230', 'CQW49_RS03390': 'CQW49_03375', 'CQW49_RS06315': 'CQW49_06305', 'CQW49_RS08115': 'CQW49_08105', 'CQW49_RS09050': 'CQW49_09035', 'CQW49_RS00915': 'CQW49_00915', 'CQW49_RS01285': 'CQW49_01280', 'CQW49_RS01375': 'CQW49_01370', 'CQW49_RS05660': 'CQW49_05650', 'CQW49_RS07130': 'CQW49_07120', 'CQW49_RS20885': 'CQW49_20810', 'CQW49_RS22455': 'CQW49_22360', 'CQW49_RS05225': 'CQW49_05220', 'CQW49_RS12060': 'CQW49_12025', 'CQW49_RS12445': 'CQW49_12410', 'CQW49_RS13180': 'CQW49_13145', 'CQW49_RS14810': 'CQW49_14775', 'CQW49_RS10340': 'CQW49_10315', 'CQW49_RS04790': 'CQW49_04780', 'CQW49_RS15820': 'CQW49_15785', 'CQW49_RS17760': 'CQW49_17705', 'CQW49_RS20185': 'CQW49_20120', 'CQW49_RS21285': 'CQW49_21210', 'CQW49_RS21980': 'CQW49_21895', 'CQW49_RS03220': 'CQW49_03210', 'CQW49_RS09940': 'CQW49_09920', 'CQW49_RS18705': 'CQW49_18645', 'CQW49_RS20255': 'CQW49_20185', 'CQW49_RS24080': 'CQW49_23965', 'CQW49_RS06690': 'CQW49_06680', 'CQW49_RS06700': 'CQW49_06690', 'CQW49_RS09345': 'CQW49_09325', 'CQW49_RS10020': 'CQW49_09995', 'CQW49_RS10125': 'CQW49_10100', 'CQW49_RS12050': 'CQW49_12015', 'CQW49_RS17860': 'CQW49_17805', 'CQW49_RS21555': 'CQW49_21475', 'CQW49_RS10080': 'CQW49_10055', 'CQW49_RS11835': 'CQW49_11800', 'CQW49_RS14400': 'CQW49_14365', 'CQW49_RS15850': 'CQW49_15815', 'CQW49_RS16985': 'CQW49_16940', 'CQW49_RS09610': 'CQW49_09590', 'CQW49_RS12940': 'CQW49_12905', 'CQW49_RS17370': 'CQW49_17320', 'CQW49_RS21725': 'CQW49_21640', 'CQW49_RS01250': 'CQW49_01245', 'CQW49_RS05250': 'CQW49_05245', 'CQW49_RS10805': 'CQW49_10775', 'CQW49_RS14080': 'CQW49_14045', 'CQW49_RS15090': 'CQW49_15055', 'CQW49_RS21290': 'CQW49_21215', 'CQW49_RS23505': 'CQW49_23400', 'CQW49_RS22640': 'CQW49_22545', 'CQW49_RS23395': 'CQW49_23290', 'CQW49_RS04255': 'CQW49_04245', 'CQW49_RS04400': 'CQW49_04395', 'CQW49_RS05255': 'CQW49_05250', 'CQW49_RS07725': 'CQW49_07715', 'CQW49_RS07765': 'CQW49_07755', 'CQW49_RS14760': 'CQW49_14725', 'CQW49_RS14950': 'CQW49_14915', 'CQW49_RS19400': 'CQW49_19345', 'CQW49_RS22375': 'CQW49_22280', 'CQW49_RS12025': 'CQW49_11990', 'CQW49_RS13190': 'CQW49_13155', 'CQW49_RS18660': 'CQW49_18600', 'CQW49_RS05345': 'CQW49_05340', 'CQW49_RS10100': 'CQW49_10075', 'CQW49_RS12020': 'CQW49_11985', 'CQW49_RS17055': 'CQW49_17010', 'CQW49_RS07165': 'CQW49_07155', 'CQW49_RS14185': 'CQW49_14150', 'CQW49_RS14690': 'CQW49_14655', 'CQW49_RS14815': 'CQW49_14780', 'CQW49_RS17175': 'CQW49_17130', 'CQW49_RS18510': 'CQW49_18450', 'CQW49_RS19085': 'CQW49_19025', 'CQW49_RS22765': 'CQW49_22665', 'CQW49_RS16165': 'CQW49_16130', 'CQW49_RS16850': 'CQW49_16810', 'CQW49_RS21220': 'CQW49_21145', 'CQW49_RS21380': 'CQW49_21305', 'CQW49_RS04570': 'CQW49_04565', 'CQW49_RS09400': 'CQW49_09380', 'CQW49_RS10515': 'CQW49_10490', 'CQW49_RS11565': 'CQW49_11530', 'CQW49_RS20080': 'CQW49_20015', 'CQW49_RS23435': 'CQW49_23330', 'CQW49_RS02835': 'CQW49_02825', 'CQW49_RS13325': 'CQW49_13290', 'CQW49_RS14360': 'CQW49_14325', 'CQW49_RS16490': 'CQW49_16455', 'CQW49_RS20615': 'CQW49_20545', 'CQW49_RS01855': 'CQW49_01850', 'CQW49_RS06885': 'CQW49_06875', 'CQW49_RS10270': 'CQW49_10245', 'CQW49_RS12740': 'CQW49_12705', 'CQW49_RS14525': 'CQW49_14490', 'CQW49_RS21065': 'CQW49_20990', 'CQW49_RS23220': 'CQW49_23115', 'CQW49_RS23920': 'CQW49_23815', 'CQW49_RS24035': 'CQW49_23925', 'CQW49_RS03705': 'CQW49_03695', 'CQW49_RS03730': 'CQW49_03720', 'CQW49_RS06670': 'CQW49_06660', 'CQW49_RS13450': 'CQW49_13415', 'CQW49_RS23090': 'CQW49_22990', 'CQW49_RS00370': 'CQW49_00370', 'CQW49_RS07535': 'CQW49_07525', 'CQW49_RS11315': 'CQW49_11285', 'CQW49_RS13375': 'CQW49_13340', 'CQW49_RS14505': 'CQW49_14470', 'CQW49_RS22090': 'CQW49_22005', 'CQW49_RS02775': 'CQW49_02765', 'CQW49_RS11805': 'CQW49_11770', 'CQW49_RS18605': 'CQW49_18545', 'CQW49_RS20625': 'CQW49_20555', 'CQW49_RS10120': 'CQW49_10095', 'CQW49_RS17910': 'CQW49_17855', 'CQW49_RS21385': 'CQW49_21310', 'CQW49_RS10050': 'CQW49_10025', 'CQW49_RS12860': 'CQW49_12825', 'CQW49_RS20145': 'CQW49_20080', 'CQW49_RS22775': 'CQW49_22675', 'CQW49_RS04220': 'CQW49_04210', 'CQW49_RS05350': 'CQW49_05345', 'CQW49_RS06005': 'CQW49_05995', 'CQW49_RS11695': 'CQW49_11660', 'CQW49_RS12185': 'CQW49_12150', 'CQW49_RS13235': 'CQW49_13200', 'CQW49_RS16075': 'CQW49_16040', 'CQW49_RS16535': 'CQW49_16495', 'CQW49_RS20350': 'CQW49_20280', 'CQW49_RS02030': 'CQW49_02025', 'CQW49_RS06000': 'CQW49_05990', 'CQW49_RS07460': 'CQW49_07450', 'CQW49_RS12470': 'CQW49_12435', 'CQW49_RS17885': 'CQW49_17830', 'CQW49_RS19950': 'CQW49_19885', 'CQW49_RS00660': 'CQW49_00660', 'CQW49_RS11485': 'CQW49_11455', 'CQW49_RS14290': 'CQW49_14255', 'CQW49_RS19160': 'CQW49_19100', 'CQW49_RS02555': 'CQW49_02545', 'CQW49_RS09265': 'CQW49_09245', 'CQW49_RS09270': 'CQW49_09250', 'CQW49_RS19570': 'CQW49_19515', 'CQW49_RS20555': 'CQW49_20485', 'CQW49_RS21690': 'CQW49_21605', 'CQW49_RS10720': 'CQW49_10690', 'CQW49_RS11705': 'CQW49_11670', 'CQW49_RS13335': 'CQW49_13300', 'CQW49_RS18280': 'CQW49_18220', 'CQW49_RS18525': 'CQW49_18465', 'CQW49_RS19255': 'CQW49_19200', 'CQW49_RS19375': 'CQW49_19320', 'CQW49_RS20285': 'CQW49_20215', 'CQW49_RS07610': 'CQW49_07600', 'CQW49_RS08835': 'CQW49_08825', 'CQW49_RS09125': 'CQW49_09105', 'CQW49_RS13905': 'CQW49_13870', 'CQW49_RS21805': 'CQW49_21720', 'CQW49_RS22120': 'CQW49_22035', 'CQW49_RS03530': 'CQW49_03520', 'CQW49_RS04640': 'CQW49_04635', 'CQW49_RS10115': 'CQW49_10090', 'CQW49_RS11685': 'CQW49_11650', 'CQW49_RS16215': 'CQW49_16180', 'CQW49_RS02915': 'CQW49_02905', 'CQW49_RS04105': 'CQW49_04095', 'CQW49_RS04655': 'CQW49_04645', 'CQW49_RS07275': 'CQW49_07265', 'CQW49_RS09155': 'CQW49_09135', 'CQW49_RS12480': 'CQW49_12445', 'CQW49_RS13555': 'CQW49_13520', 'CQW49_RS00645': 'CQW49_00645', 'CQW49_RS04100': 'CQW49_04090', 'CQW49_RS06340': 'CQW49_06330', 'CQW49_RS12250': 'CQW49_12215', 'CQW49_RS03900': 'CQW49_03890', 'CQW49_RS04650': 'CQW49_04640', 'CQW49_RS12135': 'CQW49_12100', 'CQW49_RS18970': 'CQW49_18910', 'CQW49_RS19650': 'CQW49_19595', 'CQW49_RS22890': 'CQW49_22790', 'CQW49_RS23180': 'CQW49_23075', 'CQW49_RS17835': 'CQW49_17780', 'CQW49_RS21985': 'CQW49_21900', 'CQW49_RS01875': 'CQW49_01870', 'CQW49_RS03670': 'CQW49_03660', 'CQW49_RS04440': 'CQW49_04435', 'CQW49_RS11975': 'CQW49_11940', 'CQW49_RS21030': 'CQW49_20955', 'CQW49_RS21165': 'CQW49_21090', 'CQW49_RS21655': 'CQW49_21570', 'CQW49_RS04350': 'CQW49_04345', 'CQW49_RS14045': 'CQW49_14010', 'CQW49_RS20920': 'CQW49_20845', 'CQW49_RS01965': 'CQW49_01960', 'CQW49_RS02550': 'CQW49_02540', 'CQW49_RS02680': 'CQW49_02670', 'CQW49_RS04280': 'CQW49_04270', 'CQW49_RS10415': 'CQW49_10390', 'CQW49_RS12055': 'CQW49_12020', 'CQW49_RS14410': 'CQW49_14375', 'CQW49_RS15620': 'CQW49_15585', 'CQW49_RS22575': 'CQW49_22480', 'CQW49_RS10350': 'CQW49_10325', 'CQW49_RS10955': 'CQW49_10925', 'CQW49_RS15725': 'CQW49_15690', 'CQW49_RS20335': 'CQW49_20265', 'CQW49_RS23830': 'CQW49_23725', 'CQW49_RS10560': 'CQW49_10535', 'CQW49_RS12830': 'CQW49_12795', 'CQW49_RS19910': 'CQW49_19845', 'CQW49_RS20075': 'CQW49_20010', 'CQW49_RS00405': 'CQW49_00405', 'CQW49_RS00865': 'CQW49_00865', 'CQW49_RS02640': 'CQW49_02630', 'CQW49_RS04055': 'CQW49_04045', 'CQW49_RS12305': 'CQW49_12270', 'CQW49_RS13310': 'CQW49_13275', 'CQW49_RS14845': 'CQW49_14810', 'CQW49_RS21190': 'CQW49_21115', 'CQW49_RS22425': 'CQW49_22330', 'CQW49_RS03045': 'CQW49_03035', 'CQW49_RS06250': 'CQW49_06240', 'CQW49_RS16720': 'CQW49_16680', 'CQW49_RS17035': 'CQW49_16990', 'CQW49_RS01070': 'CQW49_01070', 'CQW49_RS12725': 'CQW49_12690', 'CQW49_RS14415': 'CQW49_14380', 'CQW49_RS15610': 'CQW49_15575', 'CQW49_RS17085': 'CQW49_17040', 'CQW49_RS20605': 'CQW49_20535', 'CQW49_RS22620': 'CQW49_22525', 'CQW49_RS23350': 'CQW49_23245', 'CQW49_RS02360': 'CQW49_02355', 'CQW49_RS06485': 'CQW49_06475', 'CQW49_RS08565': 'CQW49_08555', 'CQW49_RS10660': 'CQW49_10630', 'CQW49_RS13285': 'CQW49_13250', 'CQW49_RS14470': 'CQW49_14435', 'CQW49_RS15685': 'CQW49_15650', 'CQW49_RS02895': 'CQW49_02885', 'CQW49_RS04065': 'CQW49_04055', 'CQW49_RS04690': 'CQW49_04680', 'CQW49_RS05310': 'CQW49_05305', 'CQW49_RS07240': 'CQW49_07230', 'CQW49_RS22590': 'CQW49_22495', 'CQW49_RS06185': 'CQW49_06175', 'CQW49_RS11445': 'CQW49_11415', 'CQW49_RS12945': 'CQW49_12910', 'CQW49_RS14220': 'CQW49_14185', 'CQW49_RS15285': 'CQW49_15250', 'CQW49_RS18760': 'CQW49_18700', 'CQW49_RS20540': 'CQW49_20470', 'CQW49_RS00365': 'CQW49_00365', 'CQW49_RS10435': 'CQW49_10410', 'CQW49_RS11205': 'CQW49_11175', 'CQW49_RS13100': 'CQW49_13065', 'CQW49_RS19510': 'CQW49_19455', 'CQW49_RS06580': 'CQW49_06565', 'CQW49_RS12080': 'CQW49_12045', 'CQW49_RS12825': 'CQW49_12790', 'CQW49_RS15160': 'CQW49_15125', 'CQW49_RS01435': 'CQW49_01430', 'CQW49_RS04565': 'CQW49_04560', 'CQW49_RS06765': 'CQW49_06755', 'CQW49_RS16110': 'CQW49_16075', 'CQW49_RS08530': 'CQW49_08520', 'CQW49_RS15075': 'CQW49_15040', 'CQW49_RS15840': 'CQW49_15805', 'CQW49_RS21240': 'CQW49_21165', 'CQW49_RS01880': 'CQW49_01875', 'CQW49_RS02945': 'CQW49_02935', 'CQW49_RS13780': 'CQW49_13745', 'CQW49_RS05375': 'CQW49_05370', 'CQW49_RS06055': 'CQW49_06045', 'CQW49_RS06455': 'CQW49_06445', 'CQW49_RS07805': 'CQW49_07795', 'CQW49_RS15605': 'CQW49_15570', 'CQW49_RS23370': 'CQW49_23265', 'CQW49_RS04410': 'CQW49_04405', 'CQW49_RS19050': 'CQW49_18990', 'CQW49_RS19290': 'CQW49_19235', 'CQW49_RS01570': 'CQW49_01565', 'CQW49_RS02040': 'CQW49_02035', 'CQW49_RS03125': 'CQW49_03115', 'CQW49_RS14095': 'CQW49_14060', 'CQW49_RS19460': 'CQW49_19405', 'CQW49_RS24000': 'CQW49_23895', 'CQW49_RS24040': 'CQW49_23930', 'CQW49_RS01490': 'CQW49_01485', 'CQW49_RS05605': 'CQW49_05595', 'CQW49_RS06535': 'CQW49_06525', 'CQW49_RS07490': 'CQW49_07480', 'CQW49_RS15130': 'CQW49_15095', 'CQW49_RS19880': 'CQW49_19820', 'CQW49_RS20360': 'CQW49_20290', 'CQW49_RS22920': 'CQW49_22820', 'CQW49_RS13510': 'CQW49_13475', 'CQW49_RS16035': 'CQW49_16000', 'CQW49_RS16170': 'CQW49_16135', 'CQW49_RS23415': 'CQW49_23310', 'CQW49_RS05205': 'CQW49_05200', 'CQW49_RS08800': 'CQW49_08790', 'CQW49_RS11105': 'CQW49_11075', 'CQW49_RS11145': 'CQW49_11115', 'CQW49_RS12770': 'CQW49_12735', 'CQW49_RS17870': 'CQW49_17815', 'CQW49_RS23655': 'CQW49_23555', 'CQW49_RS23785': 'CQW49_23685', 'CQW49_RS00440': 'CQW49_00440', 'CQW49_RS05915': 'CQW49_05905', 'CQW49_RS06175': 'CQW49_06165', 'CQW49_RS09330': 'CQW49_09310', 'CQW49_RS12035': 'CQW49_12000', 'CQW49_RS16180': 'CQW49_16145', 'CQW49_RS19680': 'CQW49_19625', 'CQW49_RS03300': 'CQW49_03290', 'CQW49_RS03995': 'CQW49_03985', 'CQW49_RS04615': 'CQW49_04610', 'CQW49_RS11505': 'CQW49_11475', 'CQW49_RS04305': 'CQW49_04295', 'CQW49_RS05670': 'CQW49_05660', 'CQW49_RS10290': 'CQW49_10265', 'CQW49_RS20990': 'CQW49_20915', 'CQW49_RS01990': 'CQW49_01985', 'CQW49_RS05500': 'CQW49_05490', 'CQW49_RS20120': 'CQW49_20055', 'CQW49_RS01740': 'CQW49_01735', 'CQW49_RS02020': 'CQW49_02015', 'CQW49_RS02580': 'CQW49_02570', 'CQW49_RS02795': 'CQW49_02785', 'CQW49_RS03805': 'CQW49_03795', 'CQW49_RS20645': 'CQW49_20570', 'CQW49_RS00650': 'CQW49_00650', 'CQW49_RS02125': 'CQW49_02120', 'CQW49_RS05510': 'CQW49_05500', 'CQW49_RS07810': 'CQW49_07800', 'CQW49_RS09390': 'CQW49_09370', 'CQW49_RS15080': 'CQW49_15045', 'CQW49_RS18050': 'CQW49_17990', 'CQW49_RS04090': 'CQW49_04080', 'CQW49_RS09000': 'CQW49_08990', 'CQW49_RS11645': 'CQW49_11610', 'CQW49_RS21300': 'CQW49_21225', 'CQW49_RS04300': 'CQW49_04290', 'CQW49_RS06365': 'CQW49_06355', 'CQW49_RS07930': 'CQW49_07920', 'CQW49_RS09300': 'CQW49_09280', 'CQW49_RS00050': 'CQW49_00050', 'CQW49_RS02710': 'CQW49_02700', 'CQW49_RS05025': 'CQW49_05020', 'CQW49_RS14090': 'CQW49_14055', 'CQW49_RS14380': 'CQW49_14345', 'CQW49_RS15185': 'CQW49_15150', 'CQW49_RS17645': 'CQW49_17590', 'CQW49_RS22215': 'CQW49_22130', 'CQW49_RS22405': 'CQW49_22310', 'CQW49_RS02750': 'CQW49_02740', 'CQW49_RS05380': 'CQW49_05375', 'CQW49_RS06825': 'CQW49_06815', 'CQW49_RS13030': 'CQW49_12995', 'CQW49_RS00290': 'CQW49_00290', 'CQW49_RS00870': 'CQW49_00870', 'CQW49_RS02400': 'CQW49_02390', 'CQW49_RS02875': 'CQW49_02865', 'CQW49_RS10445': 'CQW49_10420', 'CQW49_RS19190': 'CQW49_19130', 'CQW49_RS05050': 'CQW49_05045', 'CQW49_RS13845': 'CQW49_13810', 'CQW49_RS14515': 'CQW49_14480', 'CQW49_RS14280': 'CQW49_14245', 'CQW49_RS09430': 'CQW49_09410', 'CQW49_RS15170': 'CQW49_15135', 'CQW49_RS04025': 'CQW49_04015', 'CQW49_RS10075': 'CQW49_10050', 'CQW49_RS13540': 'CQW49_13505', 'CQW49_RS19805': 'CQW49_19750', 'CQW49_RS21395': 'CQW49_21320', 'CQW49_RS24140': 'CQW49_24025', 'CQW49_RS01600': 'CQW49_01595', 'CQW49_RS02890': 'CQW49_02880', 'CQW49_RS07290': 'CQW49_07280', 'CQW49_RS12535': 'CQW49_12500', 'CQW49_RS16750': 'CQW49_16710', 'CQW49_RS19845': 'CQW49_19790', 'CQW49_RS01085': 'CQW49_01085', 'CQW49_RS03170': 'CQW49_03160', 'CQW49_RS05445': 'CQW49_05440', 'CQW49_RS06150': 'CQW49_06140', 'CQW49_RS06500': 'CQW49_06490', 'CQW49_RS11360': 'CQW49_11330', 'CQW49_RS11940': 'CQW49_11905', 'CQW49_RS13025': 'CQW49_12990', 'CQW49_RS15565': 'CQW49_15530', 'CQW49_RS00270': 'CQW49_00270', 'CQW49_RS00635': 'CQW49_00635', 'CQW49_RS01345': 'CQW49_01340', 'CQW49_RS05890': 'CQW49_05880', 'CQW49_RS11630': 'CQW49_11595', 'CQW49_RS12920': 'CQW49_12885', 'CQW49_RS15105': 'CQW49_15070', 'CQW49_RS23835': 'CQW49_23730', 'CQW49_RS05315': 'CQW49_05310', 'CQW49_RS09290': 'CQW49_09270', 'CQW49_RS13140': 'CQW49_13105', 'CQW49_RS18995': 'CQW49_18935', 'CQW49_RS19310': 'CQW49_19255', 'CQW49_RS00595': 'CQW49_00595', 'CQW49_RS00935': 'CQW49_00935', 'CQW49_RS06575': 'CQW49_06560', 'CQW49_RS07375': 'CQW49_07365', 'CQW49_RS07415': 'CQW49_07405', 'CQW49_RS14215': 'CQW49_14180', 'CQW49_RS18355': 'CQW49_18295', 'CQW49_RS07565': 'CQW49_07555', 'CQW49_RS08370': 'CQW49_08360', 'CQW49_RS08580': 'CQW49_08570', 'CQW49_RS17570': 'CQW49_17515', 'CQW49_RS18655': 'CQW49_18595', 'CQW49_RS19815': 'CQW49_19760', 'CQW49_RS05075': 'CQW49_05070', 'CQW49_RS12955': 'CQW49_12920', 'CQW49_RS18885': 'CQW49_18825', 'CQW49_RS19090': 'CQW49_19030', 'CQW49_RS19415': 'CQW49_19360', 'CQW49_RS21735': 'CQW49_21650', 'CQW49_RS13160': 'CQW49_13125', 'CQW49_RS14605': 'CQW49_14570', 'CQW49_RS14790': 'CQW49_14755', 'CQW49_RS20455': 'CQW49_20385', 'CQW49_RS09990': 'CQW49_09965', 'CQW49_RS22325': 'CQW49_22230', 'CQW49_RS23060': 'CQW49_22960', 'CQW49_RS10005': 'CQW49_09980', 'CQW49_RS10265': 'CQW49_10240', 'CQW49_RS14425': 'CQW49_14390', 'CQW49_RS15390': 'CQW49_15355', 'CQW49_RS04160': 'CQW49_04150', 'CQW49_RS10970': 'CQW49_10940', 'CQW49_RS20415': 'CQW49_20345', 'CQW49_RS08485': 'CQW49_08475', 'CQW49_RS08560': 'CQW49_08550', 'CQW49_RS11050': 'CQW49_11020', 'CQW49_RS12500': 'CQW49_12465', 'CQW49_RS12840': 'CQW49_12805', 'CQW49_RS20330': 'CQW49_20260', 'CQW49_RS08460': 'CQW49_08450', 'CQW49_RS09920': 'CQW49_09900', 'CQW49_RS23525': 'CQW49_23420', 'CQW49_RS07705': 'CQW49_07695', 'CQW49_RS08415': 'CQW49_08405', 'CQW49_RS09235': 'CQW49_09215', 'CQW49_RS11155': 'CQW49_11125', 'CQW49_RS13515': 'CQW49_13480', 'CQW49_RS13935': 'CQW49_13900', 'CQW49_RS16055': 'CQW49_16020', 'CQW49_RS21935': 'CQW49_21850', 'CQW49_RS01525': 'CQW49_01520', 'CQW49_RS03225': 'CQW49_03215', 'CQW49_RS04085': 'CQW49_04075', 'CQW49_RS04170': 'CQW49_04160', 'CQW49_RS08985': 'CQW49_08975', 'CQW49_RS11895': 'CQW49_11860', 'CQW49_RS16645': 'CQW49_16605', 'CQW49_RS20195': 'CQW49_20130', 'CQW49_RS01155': 'CQW49_01150', 'CQW49_RS02745': 'CQW49_02735', 'CQW49_RS03940': 'CQW49_03930', 'CQW49_RS05530': 'CQW49_05520', 'CQW49_RS08290': 'CQW49_08280', 'CQW49_RS13535': 'CQW49_13500', 'CQW49_RS13705': 'CQW49_13670', 'CQW49_RS23450': 'CQW49_23345', 'CQW49_RS00155': 'CQW49_00155', 'CQW49_RS02610': 'CQW49_02600', 'CQW49_RS07190': 'CQW49_07180', 'CQW49_RS07480': 'CQW49_07470', 'CQW49_RS13775': 'CQW49_13740', 'CQW49_RS14520': 'CQW49_14485', 'CQW49_RS18225': 'CQW49_18165', 'CQW49_RS18750': 'CQW49_18690', 'CQW49_RS20090': 'CQW49_20025', 'CQW49_RS21795': 'CQW49_21710', 'CQW49_RS22505': 'CQW49_22410', 'CQW49_RS13855': 'CQW49_13820', 'CQW49_RS18185': 'CQW49_18125', 'CQW49_RS19040': 'CQW49_18980', 'CQW49_RS05615': 'CQW49_05605', 'CQW49_RS05905': 'CQW49_05895', 'CQW49_RS16320': 'CQW49_16285', 'CQW49_RS16470': 'CQW49_16435', 'CQW49_RS19055': 'CQW49_18995', 'CQW49_RS19580': 'CQW49_19525', 'CQW49_RS21965': 'CQW49_21880', 'CQW49_RS00425': 'CQW49_00425', 'CQW49_RS00860': 'CQW49_00860', 'CQW49_RS06020': 'CQW49_06010', 'CQW49_RS06025': 'CQW49_06015', 'CQW49_RS10165': 'CQW49_10140', 'CQW49_RS11560': 'CQW49_11525', 'CQW49_RS12040': 'CQW49_12005', 'CQW49_RS13785': 'CQW49_13750', 'CQW49_RS15270': 'CQW49_15235', 'CQW49_RS17310': 'CQW49_17265', 'CQW49_RS22595': 'CQW49_22500', 'CQW49_RS00640': 'CQW49_00640', 'CQW49_RS20975': 'CQW49_20900', 'CQW49_RS00340': 'CQW49_00340', 'CQW49_RS02440': 'CQW49_02430', 'CQW49_RS03560': 'CQW49_03550', 'CQW49_RS15545': 'CQW49_15510', 'CQW49_RS16810': 'CQW49_16770', 'CQW49_RS17975': 'CQW49_17920', 'CQW49_RS23385': 'CQW49_23280', 'CQW49_RS02465': 'CQW49_02455', 'CQW49_RS04805': 'CQW49_04795', 'CQW49_RS10180': 'CQW49_10155', 'CQW49_RS01485': 'CQW49_01480', 'CQW49_RS01690': 'CQW49_01685', 'CQW49_RS03685': 'CQW49_03675', 'CQW49_RS08150': 'CQW49_08140', 'CQW49_RS08820': 'CQW49_08810', 'CQW49_RS10370': 'CQW49_10345', 'CQW49_RS11115': 'CQW49_11085', 'CQW49_RS11480': 'CQW49_11450', 'CQW49_RS16675': 'CQW49_16635', 'CQW49_RS18965': 'CQW49_18905', 'CQW49_RS21920': 'CQW49_21835', 'CQW49_RS02160': 'CQW49_02155', 'CQW49_RS04960': 'CQW49_04955', 'CQW49_RS08005': 'CQW49_07995', 'CQW49_RS09950': 'CQW49_09930', 'CQW49_RS15345': 'CQW49_15310', 'CQW49_RS15765': 'CQW49_15730', 'CQW49_RS19795': 'CQW49_19740', 'CQW49_RS20595': 'CQW49_20525', 'CQW49_RS06755': 'CQW49_06745', 'CQW49_RS22730': 'CQW49_22630', 'CQW49_RS00900': 'CQW49_00900', 'CQW49_RS05835': 'CQW49_05825', 'CQW49_RS08550': 'CQW49_08540', 'CQW49_RS11545': 'CQW49_11510', 'CQW49_RS19175': 'CQW49_19115', 'CQW49_RS19565': 'CQW49_19510', 'CQW49_RS00605': 'CQW49_00605', 'CQW49_RS05110': 'CQW49_05105', 'CQW49_RS12550': 'CQW49_12515', 'CQW49_RS03260': 'CQW49_03250', 'CQW49_RS07055': 'CQW49_07045', 'CQW49_RS11020': 'CQW49_10990', 'CQW49_RS11190': 'CQW49_11160', 'CQW49_RS11440': 'CQW49_11410', 'CQW49_RS12460': 'CQW49_12425', 'CQW49_RS13410': 'CQW49_13375', 'CQW49_RS13440': 'CQW49_13405', 'CQW49_RS16610': 'CQW49_16570', 'CQW49_RS16885': 'CQW49_16840', 'CQW49_RS18990': 'CQW49_18930', 'CQW49_RS19785': 'CQW49_19730', 'CQW49_RS20240': 'CQW49_20170', 'CQW49_RS01695': 'CQW49_01690', 'CQW49_RS03485': 'CQW49_03475', 'CQW49_RS06235': 'CQW49_06225', 'CQW49_RS07545': 'CQW49_07535', 'CQW49_RS09770': 'CQW49_09750', 'CQW49_RS11005': 'CQW49_10975', 'CQW49_RS12890': 'CQW49_12855', 'CQW49_RS15435': 'CQW49_15400', 'CQW49_RS17605': 'CQW49_17550', 'CQW49_RS17610': 'CQW49_17555', 'CQW49_RS06290': 'CQW49_06280', 'CQW49_RS16050': 'CQW49_16015', 'CQW49_RS21315': 'CQW49_21240', 'CQW49_RS23390': 'CQW49_23285', 'CQW49_RS08710': 'CQW49_08700', 'CQW49_RS10900': 'CQW49_10870', 'CQW49_RS16900': 'CQW49_16855', 'CQW49_RS20385': 'CQW49_20315', 'CQW49_RS02920': 'CQW49_02910', 'CQW49_RS13130': 'CQW49_13095', 'CQW49_RS21075': 'CQW49_21000', 'CQW49_RS22570': 'CQW49_22475', 'CQW49_RS01495': 'CQW49_01490', 'CQW49_RS03990': 'CQW49_03980', 'CQW49_RS06800': 'CQW49_06790', 'CQW49_RS06805': 'CQW49_06795', 'CQW49_RS10425': 'CQW49_10400', 'CQW49_RS22585': 'CQW49_22490', 'CQW49_RS02505': 'CQW49_02495', 'CQW49_RS04185': 'CQW49_04175', 'CQW49_RS12175': 'CQW49_12140', 'CQW49_RS13350': 'CQW49_13315', 'CQW49_RS15835': 'CQW49_15800', 'CQW49_RS16965': 'CQW49_16920', 'CQW49_RS19100': 'CQW49_19040', 'CQW49_RS03050': 'CQW49_03040', 'CQW49_RS04825': 'CQW49_04815', 'CQW49_RS07400': 'CQW49_07390', 'CQW49_RS17110': 'CQW49_17065', 'CQW49_RS20095': 'CQW49_20030', 'CQW49_RS00960': 'CQW49_00960', 'CQW49_RS01775': 'CQW49_01770', 'CQW49_RS06095': 'CQW49_06085', 'CQW49_RS07110': 'CQW49_07100', 'CQW49_RS17475': 'CQW49_17420', 'CQW49_RS18360': 'CQW49_18300', 'CQW49_RS23770': 'CQW49_23670', 'CQW49_RS04010': 'CQW49_04000', 'CQW49_RS08275': 'CQW49_08265', 'CQW49_RS11400': 'CQW49_11370', 'CQW49_RS19155': 'CQW49_19095', 'CQW49_RS20760': 'CQW49_20685', 'CQW49_RS02175': 'CQW49_02170', 'CQW49_RS07915': 'CQW49_07905', 'CQW49_RS16115': 'CQW49_16080', 'CQW49_RS16500': 'CQW49_16465', 'CQW49_RS18285': 'CQW49_18225', 'CQW49_RS03715': 'CQW49_03705', 'CQW49_RS10540': 'CQW49_10515', 'CQW49_RS15910': 'CQW49_15875', 'CQW49_RS16870': 'CQW49_16825', 'CQW49_RS18895': 'CQW49_18835', 'CQW49_RS22130': 'CQW49_22045', 'CQW49_RS23590': 'CQW49_23490', 'CQW49_RS00475': 'CQW49_00475', 'CQW49_RS03675': 'CQW49_03665', 'CQW49_RS03725': 'CQW49_03715', 'CQW49_RS05095': 'CQW49_05090', 'CQW49_RS07605': 'CQW49_07595', 'CQW49_RS10175': 'CQW49_10150', 'CQW49_RS10375': 'CQW49_10350', 'CQW49_RS19715': 'CQW49_19660', 'CQW49_RS22485': 'CQW49_22390', 'CQW49_RS24145': 'CQW49_24030', 'CQW49_RS00875': 'CQW49_00875', 'CQW49_RS01090': 'CQW49_01090', 'CQW49_RS02635': 'CQW49_02625', 'CQW49_RS06380': 'CQW49_06370', 'CQW49_RS07745': 'CQW49_07735', 'CQW49_RS12005': 'CQW49_11970', 'CQW49_RS17390': 'CQW49_17340', 'CQW49_RS17985': 'CQW49_17930', 'CQW49_RS22075': 'CQW49_21990', 'CQW49_RS01145': 'CQW49_01140', 'CQW49_RS03210': 'CQW49_03200', 'CQW49_RS07615': 'CQW49_07605', 'CQW49_RS10615': 'CQW49_10585', 'CQW49_RS12775': 'CQW49_12740', 'CQW49_RS19560': 'CQW49_19505', 'CQW49_RS23895': 'CQW49_23790', 'CQW49_RS02055': 'CQW49_02050', 'CQW49_RS02700': 'CQW49_02690', 'CQW49_RS04660': 'CQW49_04650', 'CQW49_RS06510': 'CQW49_06500', 'CQW49_RS12275': 'CQW49_12240', 'CQW49_RS15375': 'CQW49_15340', 'CQW49_RS16780': 'CQW49_16740', 'CQW49_RS17375': 'CQW49_17325', 'CQW49_RS18675': 'CQW49_18615', 'CQW49_RS23235': 'CQW49_23130', 'CQW49_RS24010': 'CQW49_23900', 'CQW49_RS12845': 'CQW49_12810', 'CQW49_RS22715': 'CQW49_22615', 'CQW49_RS00590': 'CQW49_00590', 'CQW49_RS08225': 'CQW49_08215', 'CQW49_RS10850': 'CQW49_10820', 'CQW49_RS23675': 'CQW49_23575', 'CQW49_RS23695': 'CQW49_23595', 'CQW49_RS03215': 'CQW49_03205', 'CQW49_RS04620': 'CQW49_04615', 'CQW49_RS05475': 'CQW49_05465', 'CQW49_RS06390': 'CQW49_06380', 'CQW49_RS07655': 'CQW49_07645', 'CQW49_RS12935': 'CQW49_12900', 'CQW49_RS21665': 'CQW49_21580', 'CQW49_RS22480': 'CQW49_22385', 'CQW49_RS01565': 'CQW49_01560', 'CQW49_RS05015': 'CQW49_05010', 'CQW49_RS07045': 'CQW49_07035', 'CQW49_RS13995': 'CQW49_13960', 'CQW49_RS21000': 'CQW49_20925', 'CQW49_RS22520': 'CQW49_22425', 'CQW49_RS01130': 'CQW49_01130', 'CQW49_RS01390': 'CQW49_01385', 'CQW49_RS05925': 'CQW49_05915', 'CQW49_RS07380': 'CQW49_07370', 'CQW49_RS07520': 'CQW49_07510', 'CQW49_RS07735': 'CQW49_07725', 'CQW49_RS07910': 'CQW49_07900', 'CQW49_RS08875': 'CQW49_08865', 'CQW49_RS09785': 'CQW49_09765', 'CQW49_RS11970': 'CQW49_11935', 'CQW49_RS13305': 'CQW49_13270', 'CQW49_RS14030': 'CQW49_13995', 'CQW49_RS15190': 'CQW49_15155', 'CQW49_RS15670': 'CQW49_15635', 'CQW49_RS15810': 'CQW49_15775', 'CQW49_RS18765': 'CQW49_18705', 'CQW49_RS19730': 'CQW49_19675', 'CQW49_RS21245': 'CQW49_21170', 'CQW49_RS00380': 'CQW49_00380', 'CQW49_RS17180': 'CQW49_17135', 'CQW49_RS21145': 'CQW49_21070', 'CQW49_RS22695': 'CQW49_22595', 'CQW49_RS02325': 'CQW49_02320', 'CQW49_RS02350': 'CQW49_02345', 'CQW49_RS03270': 'CQW49_03260', 'CQW49_RS15230': 'CQW49_15195', 'CQW49_RS12900': 'CQW49_12865', 'CQW49_RS17205': 'CQW49_17160', 'CQW49_RS19295': 'CQW49_19240', 'CQW49_RS19885': 'CQW49_19825', 'CQW49_RS23375': 'CQW49_23270', 'CQW49_RS01295': 'CQW49_01290', 'CQW49_RS03545': 'CQW49_03535', 'CQW49_RS12380': 'CQW49_12345', 'CQW49_RS04670': 'CQW49_04660', 'CQW49_RS06770': 'CQW49_06760', 'CQW49_RS07945': 'CQW49_07935', 'CQW49_RS09575': 'CQW49_09555', 'CQW49_RS10110': 'CQW49_10085', 'CQW49_RS12225': 'CQW49_12190', 'CQW49_RS08840': 'CQW49_08830', 'CQW49_RS19500': 'CQW49_19445', 'CQW49_RS00715': 'CQW49_00715', 'CQW49_RS03790': 'CQW49_03780', 'CQW49_RS10710': 'CQW49_10680', 'CQW49_RS00375': 'CQW49_00375', 'CQW49_RS01590': 'CQW49_01585', 'CQW49_RS02765': 'CQW49_02755', 'CQW49_RS04745': 'CQW49_04735', 'CQW49_RS06270': 'CQW49_06260', 'CQW49_RS11510': 'CQW49_11480', 'CQW49_RS15905': 'CQW49_15870', 'CQW49_RS20995': 'CQW49_20920', 'CQW49_RS02670': 'CQW49_02660', 'CQW49_RS08235': 'CQW49_08225', 'CQW49_RS16370': 'CQW49_16335', 'CQW49_RS17780': 'CQW49_17725', 'CQW49_RS23705': 'CQW49_23605', 'CQW49_RS00520': 'CQW49_00520', 'CQW49_RS11195': 'CQW49_11165', 'CQW49_RS11325': 'CQW49_11295', 'CQW49_RS13075': 'CQW49_13040', 'CQW49_RS13250': 'CQW49_13215', 'CQW49_RS15040': 'CQW49_15005', 'CQW49_RS16030': 'CQW49_15995', 'CQW49_RS17500': 'CQW49_17445', 'CQW49_RS17630': 'CQW49_17575', 'CQW49_RS18825': 'CQW49_18765', 'CQW49_RS22415': 'CQW49_22320', 'CQW49_RS06410': 'CQW49_06400', 'CQW49_RS13740': 'CQW49_13705', 'CQW49_RS16015': 'CQW49_15980', 'CQW49_RS17235': 'CQW49_17190', 'CQW49_RS20405': 'CQW49_20335', 'CQW49_RS23300': 'CQW49_23195', 'CQW49_RS04850': 'CQW49_04840', 'CQW49_RS07405': 'CQW49_07395', 'CQW49_RS09470': 'CQW49_09450', 'CQW49_RS14120': 'CQW49_14085', 'CQW49_RS15015': 'CQW49_14980', 'CQW49_RS15715': 'CQW49_15680', 'CQW49_RS16520': 'CQW49_16480', 'CQW49_RS17340': 'CQW49_17290', 'CQW49_RS21660': 'CQW49_21575', 'CQW49_RS02650': 'CQW49_02640', 'CQW49_RS04720': 'CQW49_04710', 'CQW49_RS05030': 'CQW49_05025', 'CQW49_RS11595': 'CQW49_11560', 'CQW49_RS13110': 'CQW49_13075', 'CQW49_RS13960': 'CQW49_13925', 'CQW49_RS03455': 'CQW49_03440', 'CQW49_RS05780': 'CQW49_05770', 'CQW49_RS06350': 'CQW49_06340', 'CQW49_RS06415': 'CQW49_06405', 'CQW49_RS15655': 'CQW49_15620', 'CQW49_RS18740': 'CQW49_18680', 'CQW49_RS22100': 'CQW49_22015', 'CQW49_RS00725': 'CQW49_00725', 'CQW49_RS02510': 'CQW49_02500', 'CQW49_RS05525': 'CQW49_05515', 'CQW49_RS07515': 'CQW49_07505', 'CQW49_RS14740': 'CQW49_14705', 'CQW49_RS19080': 'CQW49_19020', 'CQW49_RS19590': 'CQW49_19535', 'CQW49_RS20105': 'CQW49_20040', 'CQW49_RS21320': 'CQW49_21245', 'CQW49_RS07280': 'CQW49_07270', 'CQW49_RS12815': 'CQW49_12780', 'CQW49_RS20190': 'CQW49_20125', 'CQW49_RS01815': 'CQW49_01810', 'CQW49_RS04550': 'CQW49_04545', 'CQW49_RS05545': 'CQW49_05535', 'CQW49_RS09365': 'CQW49_09345', 'CQW49_RS10725': 'CQW49_10695', 'CQW49_RS13600': 'CQW49_13565', 'CQW49_RS16365': 'CQW49_16330', 'CQW49_RS19030': 'CQW49_18970', 'CQW49_RS03415': 'CQW49_03400', 'CQW49_RS06120': 'CQW49_06110', 'CQW49_RS07505': 'CQW49_07495', 'CQW49_RS11045': 'CQW49_11015', 'CQW49_RS11365': 'CQW49_11335', 'CQW49_RS11995': 'CQW49_11960', 'CQW49_RS16225': 'CQW49_16190', 'CQW49_RS20535': 'CQW49_20465', 'CQW49_RS21595': 'CQW49_21515', 'CQW49_RS22860': 'CQW49_22760', 'CQW49_RS22990': 'CQW49_22890', 'CQW49_RS06630': 'CQW49_06615', 'CQW49_RS10770': 'CQW49_10740', 'CQW49_RS16905': 'CQW49_16860', 'CQW49_RS01585': 'CQW49_01580', 'CQW49_RS07370': 'CQW49_07360', 'CQW49_RS09085': 'CQW49_09065', 'CQW49_RS10570': 'CQW49_10545', 'CQW49_RS10665': 'CQW49_10635', 'CQW49_RS10775': 'CQW49_10745', 'CQW49_RS16860': 'CQW49_16815', 'CQW49_RS17525': 'CQW49_17470', 'CQW49_RS21055': 'CQW49_20980', 'CQW49_RS21350': 'CQW49_21275', 'CQW49_RS22980': 'CQW49_22880', 'CQW49_RS03680': 'CQW49_03670', 'CQW49_RS09660': 'CQW49_09640', 'CQW49_RS10600': 'CQW49_10570', 'CQW49_RS11795': 'CQW49_11760', 'CQW49_RS19270': 'CQW49_19215', 'CQW49_RS08745': 'CQW49_08735', 'CQW49_RS10485': 'CQW49_10460', 'CQW49_RS11035': 'CQW49_11005', 'CQW49_RS17520': 'CQW49_17465', 'CQW49_RS19855': 'CQW49_19800', 'CQW49_RS20155': 'CQW49_20090', 'CQW49_RS20180': 'CQW49_20115', 'CQW49_RS22655': 'CQW49_22555', 'CQW49_RS00585': 'CQW49_00585', 'CQW49_RS01365': 'CQW49_01360', 'CQW49_RS01460': 'CQW49_01455', 'CQW49_RS08610': 'CQW49_08600', 'CQW49_RS08950': 'CQW49_08940', 'CQW49_RS11125': 'CQW49_11095', 'CQW49_RS12565': 'CQW49_12530', 'CQW49_RS13710': 'CQW49_13675', 'CQW49_RS21620': 'CQW49_21535', 'CQW49_RS06600': 'CQW49_06585', 'CQW49_RS08715': 'CQW49_08705', 'CQW49_RS11905': 'CQW49_11870', 'CQW49_RS01195': 'CQW49_01190', 'CQW49_RS03175': 'CQW49_03165', 'CQW49_RS12505': 'CQW49_12470', 'CQW49_RS15940': 'CQW49_15905', 'CQW49_RS17865': 'CQW49_17810', 'CQW49_RS18140': 'CQW49_18080', 'CQW49_RS18810': 'CQW49_18750', 'CQW49_RS21710': 'CQW49_21625', 'CQW49_RS23965': 'CQW49_23860', 'CQW49_RS02940': 'CQW49_02930', 'CQW49_RS03120': 'CQW49_03110', 'CQW49_RS05420': 'CQW49_05415', 'CQW49_RS12180': 'CQW49_12145', 'CQW49_RS18915': 'CQW49_18855', 'CQW49_RS10830': 'CQW49_10800', 'CQW49_RS11915': 'CQW49_11880', 'CQW49_RS12085': 'CQW49_12050', 'CQW49_RS15145': 'CQW49_15110', 'CQW49_RS17980': 'CQW49_17925', 'CQW49_RS21680': 'CQW49_21595', 'CQW49_RS21860': 'CQW49_21775', 'CQW49_RS22260': 'CQW49_22175', 'CQW49_RS04425': 'CQW49_04420', 'CQW49_RS11150': 'CQW49_11120', 'CQW49_RS12100': 'CQW49_12065', 'CQW49_RS03000': 'CQW49_02990', 'CQW49_RS04250': 'CQW49_04240', 'CQW49_RS17970': 'CQW49_17915', 'CQW49_RS18160': 'CQW49_18100', 'CQW49_RS21280': 'CQW49_21205', 'CQW49_RS05275': 'CQW49_05270', 'CQW49_RS08230': 'CQW49_08220', 'CQW49_RS10450': 'CQW49_10425', 'CQW49_RS17145': 'CQW49_17100', 'CQW49_RS17820': 'CQW49_17765', 'CQW49_RS20805': 'CQW49_20730', 'CQW49_RS20815': 'CQW49_20740', 'CQW49_RS01395': 'CQW49_01390', 'CQW49_RS02530': 'CQW49_02520', 'CQW49_RS05000': 'CQW49_04995', 'CQW49_RS05550': 'CQW49_05540', 'CQW49_RS06635': 'CQW49_06620', 'CQW49_RS06890': 'CQW49_06880', 'CQW49_RS08440': 'CQW49_08430', 'CQW49_RS10300': 'CQW49_10275', 'CQW49_RS10670': 'CQW49_10640', 'CQW49_RS16970': 'CQW49_16925', 'CQW49_RS17280': 'CQW49_17235', 'CQW49_RS22400': 'CQW49_22305', 'CQW49_RS23430': 'CQW49_23325', 'CQW49_RS02265': 'CQW49_02260', 'CQW49_RS04045': 'CQW49_04035', 'CQW49_RS05555': 'CQW49_05545', 'CQW49_RS05785': 'CQW49_05775', 'CQW49_RS06225': 'CQW49_06215', 'CQW49_RS08330': 'CQW49_08320', 'CQW49_RS10740': 'CQW49_10710', 'CQW49_RS13425': 'CQW49_13390', 'CQW49_RS07395': 'CQW49_07385', 'CQW49_RS14065': 'CQW49_14030', 'CQW49_RS02250': 'CQW49_02245', 'CQW49_RS04040': 'CQW49_04030', 'CQW49_RS10040': 'CQW49_10015', 'CQW49_RS13345': 'CQW49_13310', 'CQW49_RS01700': 'CQW49_01695', 'CQW49_RS02120': 'CQW49_02115', 'CQW49_RS02255': 'CQW49_02250', 'CQW49_RS04590': 'CQW49_04585', 'CQW49_RS06310': 'CQW49_06300', 'CQW49_RS19755': 'CQW49_19700', 'CQW49_RS21845': 'CQW49_21760', 'CQW49_RS03745': 'CQW49_03735', 'CQW49_RS09205': 'CQW49_09185', 'CQW49_RS11945': 'CQW49_11910', 'CQW49_RS13470': 'CQW49_13435', 'CQW49_RS19340': 'CQW49_19285', 'CQW49_RS20685': 'CQW49_20610', 'CQW49_RS20700': 'CQW49_20625', 'CQW49_RS04370': 'CQW49_04365', 'CQW49_RS05125': 'CQW49_05120', 'CQW49_RS07700': 'CQW49_07690', 'CQW49_RS09955': 'CQW49_09935', 'CQW49_RS18650': 'CQW49_18590', 'CQW49_RS21025': 'CQW49_20950', 'CQW49_RS02380': 'CQW49_02370', 'CQW49_RS13900': 'CQW49_13865', 'CQW49_RS21470': 'CQW49_21395', 'CQW49_RS00040': 'CQW49_00040', 'CQW49_RS02590': 'CQW49_02580', 'CQW49_RS03405': 'CQW49_03390', 'CQW49_RS05185': 'CQW49_05180', 'CQW49_RS06180': 'CQW49_06170', 'CQW49_RS07935': 'CQW49_07925', 'CQW49_RS10930': 'CQW49_10900', 'CQW49_RS12385': 'CQW49_12350', 'CQW49_RS12575': 'CQW49_12540', 'CQW49_RS13795': 'CQW49_13760', 'CQW49_RS14590': 'CQW49_14555', 'CQW49_RS00310': 'CQW49_00310', 'CQW49_RS11120': 'CQW49_11090', 'CQW49_RS17485': 'CQW49_17430', 'CQW49_RS18220': 'CQW49_18160', 'CQW49_RS21205': 'CQW49_21130', 'CQW49_RS05830': 'CQW49_05820', 'CQW49_RS07845': 'CQW49_07835', 'CQW49_RS11825': 'CQW49_11790', 'CQW49_RS14315': 'CQW49_14280', 'CQW49_RS21745': 'CQW49_21660', 'CQW49_RS21950': 'CQW49_21865', 'CQW49_RS23425': 'CQW49_23320', 'CQW49_RS05370': 'CQW49_05365', 'CQW49_RS10545': 'CQW49_10520', 'CQW49_RS10755': 'CQW49_10725', 'CQW49_RS16330': 'CQW49_16295', 'CQW49_RS04955': 'CQW49_04950', 'CQW49_RS06495': 'CQW49_06485', 'CQW49_RS06960': 'CQW49_06950', 'CQW49_RS07590': 'CQW49_07580', 'CQW49_RS12190': 'CQW49_12155', 'CQW49_RS16460': 'CQW49_16425', 'CQW49_RS16690': 'CQW49_16650', 'CQW49_RS16960': 'CQW49_16915', 'CQW49_RS17015': 'CQW49_16970', 'CQW49_RS18620': 'CQW49_18560', 'CQW49_RS19780': 'CQW49_19725', 'CQW49_RS20225': 'CQW49_20155', 'CQW49_RS00360': 'CQW49_00360', 'CQW49_RS01900': 'CQW49_01895', 'CQW49_RS03105': 'CQW49_03095', 'CQW49_RS13455': 'CQW49_13420', 'CQW49_RS14820': 'CQW49_14785', 'CQW49_RS19685': 'CQW49_19630', 'CQW49_RS22600': 'CQW49_22505', 'CQW49_RS00430': 'CQW49_00430', 'CQW49_RS02500': 'CQW49_02490', 'CQW49_RS06620': 'CQW49_06605', 'CQW49_RS11420': 'CQW49_11390', 'CQW49_RS17810': 'CQW49_17755', 'CQW49_RS22970': 'CQW49_22870', 'CQW49_RS01180': 'CQW49_01175', 'CQW49_RS04275': 'CQW49_04265', 'CQW49_RS04740': 'CQW49_04730', 'CQW49_RS05355': 'CQW49_05350', 'CQW49_RS07550': 'CQW49_07540', 'CQW49_RS08295': 'CQW49_08285', 'CQW49_RS13650': 'CQW49_13615', 'CQW49_RS14755': 'CQW49_14720', 'CQW49_RS18805': 'CQW49_18745', 'CQW49_RS01865': 'CQW49_01860', 'CQW49_RS07860': 'CQW49_07850', 'CQW49_RS09295': 'CQW49_09275', 'CQW49_RS19675': 'CQW49_19620', 'CQW49_RS23945': 'CQW49_23840', 'CQW49_RS05635': 'CQW49_05625', 'CQW49_RS05805': 'CQW49_05795', 'CQW49_RS05995': 'CQW49_05985', 'CQW49_RS08895': 'CQW49_08885', 'CQW49_RS10835': 'CQW49_10805', 'CQW49_RS11225': 'CQW49_11195', 'CQW49_RS15215': 'CQW49_15180', 'CQW49_RS15720': 'CQW49_15685', 'CQW49_RS19760': 'CQW49_19705', 'CQW49_RS21135': 'CQW49_21060', 'CQW49_RS23120': 'CQW49_23020', 'CQW49_RS03030': 'CQW49_03020', 'CQW49_RS03880': 'CQW49_03870', 'CQW49_RS04800': 'CQW49_04790', 'CQW49_RS05610': 'CQW49_05600', 'CQW49_RS15220': 'CQW49_15185', 'CQW49_RS15770': 'CQW49_15735', 'CQW49_RS22885': 'CQW49_22785', 'CQW49_RS05485': 'CQW49_05475', 'CQW49_RS22650': 'CQW49_22550', 'CQW49_RS02850': 'CQW49_02840', 'CQW49_RS04395': 'CQW49_04390', 'CQW49_RS06940': 'CQW49_06930', 'CQW49_RS10815': 'CQW49_10785', 'CQW49_RS13245': 'CQW49_13210', 'CQW49_RS13395': 'CQW49_13360', 'CQW49_RS20275': 'CQW49_20205', 'CQW49_RS05105': 'CQW49_05100', 'CQW49_RS08475': 'CQW49_08465', 'CQW49_RS19480': 'CQW49_19425', 'CQW49_RS19670': 'CQW49_19615', 'CQW49_RS23735': 'CQW49_23635', 'CQW49_RS04310': 'CQW49_04300', 'CQW49_RS10630': 'CQW49_10600', 'CQW49_RS11930': 'CQW49_11895', 'CQW49_RS15415': 'CQW49_15380', 'CQW49_RS17195': 'CQW49_17150', 'CQW49_RS08055': 'CQW49_08045', 'CQW49_RS02395': 'CQW49_02385', 'CQW49_RS07255': 'CQW49_07245', 'CQW49_RS09525': 'CQW49_09505', 'CQW49_RS10495': 'CQW49_10470', 'CQW49_RS11515': 'CQW49_11485', 'CQW49_RS12580': 'CQW49_12545', 'CQW49_RS22985': 'CQW49_22885', 'CQW49_RS04380': 'CQW49_04375', 'CQW49_RS05080': 'CQW49_05075', 'CQW49_RS05710': 'CQW49_05700', 'CQW49_RS06695': 'CQW49_06685', 'CQW49_RS11015': 'CQW49_10985', 'CQW49_RS15325': 'CQW49_15290', 'CQW49_RS19075': 'CQW49_19015', 'CQW49_RS22275': 'CQW49_22190', 'CQW49_RS00945': 'CQW49_00945', 'CQW49_RS02990': 'CQW49_02980', 'CQW49_RS05195': 'CQW49_05190', 'CQW49_RS08585': 'CQW49_08575', 'CQW49_RS12680': 'CQW49_12645', 'CQW49_RS16440': 'CQW49_16405', 'CQW49_RS17355': 'CQW49_17305', 'CQW49_RS18665': 'CQW49_18605', 'CQW49_RS19705': 'CQW49_19650', 'CQW49_RS23275': 'CQW49_23170', 'CQW49_RS23995': 'CQW49_23890', 'CQW49_RS00580': 'CQW49_00580', 'CQW49_RS01385': 'CQW49_01380', 'CQW49_RS04710': 'CQW49_04700', 'CQW49_RS15885': 'CQW49_15850', 'CQW49_RS21820': 'CQW49_21735', 'CQW49_RS08060': 'CQW49_08050', 'CQW49_RS01280': 'CQW49_01275', 'CQW49_RS01705': 'CQW49_01700', 'CQW49_RS08805': 'CQW49_08795', 'CQW49_RS12315': 'CQW49_12280', 'CQW49_RS23490': 'CQW49_23385', 'CQW49_RS22995': 'CQW49_22895', 'CQW49_RS02985': 'CQW49_02975', 'CQW49_RS04110': 'CQW49_04100', 'CQW49_RS07000': 'CQW49_06990', 'CQW49_RS08070': 'CQW49_08060', 'CQW49_RS08750': 'CQW49_08740', 'CQW49_RS10470': 'CQW49_10445', 'CQW49_RS18345': 'CQW49_18285', 'CQW49_RS18790': 'CQW49_18730', 'CQW49_RS22785': 'CQW49_22685', 'CQW49_RS23625': 'CQW49_23525', 'CQW49_RS23640': 'CQW49_23540', 'CQW49_RS01240': 'CQW49_01235', 'CQW49_RS04215': 'CQW49_04205', 'CQW49_RS05415': 'CQW49_05410', 'CQW49_RS16245': 'CQW49_16210', 'CQW49_RS17315': 'CQW49_17270', 'CQW49_RS03250': 'CQW49_03240', 'CQW49_RS03965': 'CQW49_03955', 'CQW49_RS05180': 'CQW49_05175', 'CQW49_RS06860': 'CQW49_06850', 'CQW49_RS13290': 'CQW49_13255', 'CQW49_RS18145': 'CQW49_18085', 'CQW49_RS21235': 'CQW49_21160', 'CQW49_RS23645': 'CQW49_23545', 'CQW49_RS00285': 'CQW49_00285', 'CQW49_RS00985': 'CQW49_00985', 'CQW49_RS12690': 'CQW49_12655', 'CQW49_RS13665': 'CQW49_13630', 'CQW49_RS14260': 'CQW49_14225', 'CQW49_RS16095': 'CQW49_16060', 'CQW49_RS00160': 'CQW49_00160', 'CQW49_RS00245': 'CQW49_00245', 'CQW49_RS03570': 'CQW49_03560', 'CQW49_RS06815': 'CQW49_06805', 'CQW49_RS06865': 'CQW49_06855', 'CQW49_RS07495': 'CQW49_07485', 'CQW49_RS09635': 'CQW49_09615', 'CQW49_RS10405': 'CQW49_10380', 'CQW49_RS10810': 'CQW49_10780', 'CQW49_RS14925': 'CQW49_14890', 'CQW49_RS19360': 'CQW49_19305', 'CQW49_RS07720': 'CQW49_07710', 'CQW49_RS09795': 'CQW49_09775', 'CQW49_RS12655': 'CQW49_12620', 'CQW49_RS14265': 'CQW49_14230', 'CQW49_RS15125': 'CQW49_15090', 'CQW49_RS14600': 'CQW49_14565', 'CQW49_RS19790': 'CQW49_19735', 'CQW49_RS20460': 'CQW49_20390', 'CQW49_RS04205': 'CQW49_04195', 'CQW49_RS08700': 'CQW49_08690', 'CQW49_RS10440': 'CQW49_10415', 'CQW49_RS10980': 'CQW49_10950', 'CQW49_RS08990': 'CQW49_08980', 'CQW49_RS09310': 'CQW49_09290', 'CQW49_RS14190': 'CQW49_14155', 'CQW49_RS18390': 'CQW49_18330', 'CQW49_RS18610': 'CQW49_18550', 'CQW49_RS06140': 'CQW49_06130', 'CQW49_RS06450': 'CQW49_06440', 'CQW49_RS11500': 'CQW49_11470', 'CQW49_RS14695': 'CQW49_14660', 'CQW49_RS17765': 'CQW49_17710', 'CQW49_RS19275': 'CQW49_19220', 'CQW49_RS20420': 'CQW49_20350', 'CQW49_RS23935': 'CQW49_23830', 'CQW49_RS00625': 'CQW49_00625', 'CQW49_RS01905': 'CQW49_01900', 'CQW49_RS15070': 'CQW49_15035', 'CQW49_RS16380': 'CQW49_16345', 'CQW49_RS17715': 'CQW49_17660', 'CQW49_RS18265': 'CQW49_18205', 'CQW49_RS20725': 'CQW49_20650', 'CQW49_RS22710': 'CQW49_22610', 'CQW49_RS22760': 'CQW49_22660', 'CQW49_RS23055': 'CQW49_22955', 'CQW49_RS07205': 'CQW49_07195', 'CQW49_RS08545': 'CQW49_08535', 'CQW49_RS08665': 'CQW49_08655', 'CQW49_RS18930': 'CQW49_18870', 'CQW49_RS19750': 'CQW49_19695', 'CQW49_RS00845': 'CQW49_00845', 'CQW49_RS02070': 'CQW49_02065', 'CQW49_RS03665': 'CQW49_03655', 'CQW49_RS06405': 'CQW49_06395', 'CQW49_RS09020': 'CQW49_09005', 'CQW49_RS09095': 'CQW49_09075', 'CQW49_RS12425': 'CQW49_12390', 'CQW49_RS14100': 'CQW49_14065', 'CQW49_RS16575': 'CQW49_16535', 'CQW49_RS22690': 'CQW49_22590', 'CQW49_RS23315': 'CQW49_23210', 'CQW49_RS07410': 'CQW49_07400', 'CQW49_RS07775': 'CQW49_07765', 'CQW49_RS16105': 'CQW49_16070', 'CQW49_RS19665': 'CQW49_19610', 'CQW49_RS23255': 'CQW49_23150', 'CQW49_RS00260': 'CQW49_00260', 'CQW49_RS06085': 'CQW49_06075', 'CQW49_RS11965': 'CQW49_11930', 'CQW49_RS12105': 'CQW49_12070', 'CQW49_RS13670': 'CQW49_13635', 'CQW49_RS14040': 'CQW49_14005', 'CQW49_RS15705': 'CQW49_15670', 'CQW49_RS00145': 'CQW49_00145', 'CQW49_RS00325': 'CQW49_00325', 'CQW49_RS01450': 'CQW49_01445', 'CQW49_RS01505': 'CQW49_01500', 'CQW49_RS07760': 'CQW49_07750', 'CQW49_RS11650': 'CQW49_11615', 'CQW49_RS17040': 'CQW49_16995', 'CQW49_RS20735': 'CQW49_20660', 'CQW49_RS21675': 'CQW49_21590', 'CQW49_RS21900': 'CQW49_21815', 'CQW49_RS23050': 'CQW49_22950', 'CQW49_RS06995': 'CQW49_06985', 'CQW49_RS08975': 'CQW49_08965', 'CQW49_RS13910': 'CQW49_13875', 'CQW49_RS14310': 'CQW49_14275', 'CQW49_RS01125': 'CQW49_01125', 'CQW49_RS02165': 'CQW49_02160', 'CQW49_RS02290': 'CQW49_02285', 'CQW49_RS06820': 'CQW49_06810', 'CQW49_RS06965': 'CQW49_06955', 'CQW49_RS12540': 'CQW49_12505', 'CQW49_RS16825': 'CQW49_16785', 'CQW49_RS08925': 'CQW49_08915', 'CQW49_RS11730': 'CQW49_11695', 'CQW49_RS20660': 'CQW49_20585', 'CQW49_RS21815': 'CQW49_21730', 'CQW49_RS01895': 'CQW49_01890', 'CQW49_RS04245': 'CQW49_04235', 'CQW49_RS04885': 'CQW49_04875', 'CQW49_RS05840': 'CQW49_05830', 'CQW49_RS06470': 'CQW49_06460', 'CQW49_RS11495': 'CQW49_11465', 'CQW49_RS20140': 'CQW49_20075', 'CQW49_RS21405': 'CQW49_21330', 'CQW49_RS22055': 'CQW49_21970', 'CQW49_RS23345': 'CQW49_23240', 'CQW49_RS07740': 'CQW49_07730', 'CQW49_RS12495': 'CQW49_12460', 'CQW49_RS12525': 'CQW49_12490', 'CQW49_RS20745': 'CQW49_20670', 'CQW49_RS21450': 'CQW49_21375', 'CQW49_RS02625': 'CQW49_02615', 'CQW49_RS03015': 'CQW49_03005', 'CQW49_RS06490': 'CQW49_06480', 'CQW49_RS07095': 'CQW49_07085', 'CQW49_RS07985': 'CQW49_07975', 'CQW49_RS12905': 'CQW49_12870', 'CQW49_RS01720': 'CQW49_01715', 'CQW49_RS08130': 'CQW49_08120', 'CQW49_RS08480': 'CQW49_08470', 'CQW49_RS08690': 'CQW49_08680', 'CQW49_RS14655': 'CQW49_14620', 'CQW49_RS23540': 'CQW49_23440', 'CQW49_RS02825': 'CQW49_02815', 'CQW49_RS04050': 'CQW49_04040', 'CQW49_RS05990': 'CQW49_05980', 'CQW49_RS06955': 'CQW49_06945', 'CQW49_RS09440': 'CQW49_09420', 'CQW49_RS14930': 'CQW49_14895', 'CQW49_RS15005': 'CQW49_14970', 'CQW49_RS03205': 'CQW49_03195', 'CQW49_RS04375': 'CQW49_04370', 'CQW49_RS05160': 'CQW49_05155', 'CQW49_RS07540': 'CQW49_07530', 'CQW49_RS23950': 'CQW49_23845', 'CQW49_RS00330': 'CQW49_00330', 'CQW49_RS03855': 'CQW49_03845', 'CQW49_RS03925': 'CQW49_03915', 'CQW49_RS04035': 'CQW49_04025', 'CQW49_RS05790': 'CQW49_05780', 'CQW49_RS10995': 'CQW49_10965', 'CQW49_RS14130': 'CQW49_14095', 'CQW49_RS14475': 'CQW49_14440', 'CQW49_RS15445': 'CQW49_15410', 'CQW49_RS17620': 'CQW49_17565', 'CQW49_RS17770': 'CQW49_17715', 'CQW49_RS22155': 'CQW49_22070', 'CQW49_RS23765': 'CQW49_23665', 'CQW49_RS01745': 'CQW49_01740', 'CQW49_RS05450': 'CQW49_05445', 'CQW49_RS07585': 'CQW49_07575', 'CQW49_RS08300': 'CQW49_08290', 'CQW49_RS08645': 'CQW49_08635', 'CQW49_RS10360': 'CQW49_10335', 'CQW49_RS13045': 'CQW49_13010', 'CQW49_RS14860': 'CQW49_14825', 'CQW49_RS14985': 'CQW49_14950', 'CQW49_RS21970': 'CQW49_21885', 'CQW49_RS05515': 'CQW49_05505', 'CQW49_RS14150': 'CQW49_14115', 'CQW49_RS21750': 'CQW49_21665', 'CQW49_RS23420': 'CQW49_23315', 'CQW49_RS10990': 'CQW49_10960', 'CQW49_RS12410': 'CQW49_12375', 'CQW49_RS22555': 'CQW49_22460', 'CQW49_RS11875': 'CQW49_11840', 'CQW49_RS14540': 'CQW49_14505', 'CQW49_RS16220': 'CQW49_16185', 'CQW49_RS22745': 'CQW49_22645', 'CQW49_RS03480': 'CQW49_03470', 'CQW49_RS06370': 'CQW49_06360', 'CQW49_RS08025': 'CQW49_08015', 'CQW49_RS08420': 'CQW49_08410', 'CQW49_RS08535': 'CQW49_08525', 'CQW49_RS18300': 'CQW49_18240', 'CQW49_RS19020': 'CQW49_18960', 'CQW49_RS19220': 'CQW49_19165', 'CQW49_RS23620': 'CQW49_23520', 'CQW49_RS00665': 'CQW49_00665', 'CQW49_RS09530': 'CQW49_09510', 'CQW49_RS10465': 'CQW49_10440', 'CQW49_RS11820': 'CQW49_11785', 'CQW49_RS14370': 'CQW49_14335', 'CQW49_RS23340': 'CQW49_23235', 'CQW49_RS01625': 'CQW49_01620', 'CQW49_RS11410': 'CQW49_11380', 'CQW49_RS14855': 'CQW49_14820', 'CQW49_RS15210': 'CQW49_15175', 'CQW49_RS12355': 'CQW49_12320', 'CQW49_RS04210': 'CQW49_04200', 'CQW49_RS07050': 'CQW49_07040', 'CQW49_RS07645': 'CQW49_07635', 'CQW49_RS09925': 'CQW49_09905', 'CQW49_RS12390': 'CQW49_12355', 'CQW49_RS13950': 'CQW49_13915', 'CQW49_RS15115': 'CQW49_15080', 'CQW49_RS19230': 'CQW49_19175', 'CQW49_RS19540': 'CQW49_19485', 'CQW49_RS03185': 'CQW49_03175', 'CQW49_RS03540': 'CQW49_03530', 'CQW49_RS10525': 'CQW49_10500', 'CQW49_RS12630': 'CQW49_12595', 'CQW49_RS12640': 'CQW49_12605', 'CQW49_RS12730': 'CQW49_12695', 'CQW49_RS22440': 'CQW49_22345', 'CQW49_RS00165': 'CQW49_00165', 'CQW49_RS01480': 'CQW49_01475', 'CQW49_RS01660': 'CQW49_01655', 'CQW49_RS16710': 'CQW49_16670', 'CQW49_RS22060': 'CQW49_21975', 'CQW49_RS22165': 'CQW49_22080', 'CQW49_RS02575': 'CQW49_02565', 'CQW49_RS08765': 'CQW49_08755', 'CQW49_RS08790': 'CQW49_08780', 'CQW49_RS14885': 'CQW49_14850', 'CQW49_RS19300': 'CQW49_19245', 'CQW49_RS03810': 'CQW49_03800', 'CQW49_RS14545': 'CQW49_14510', 'CQW49_RS18815': 'CQW49_18755', 'CQW49_RS18875': 'CQW49_18815', 'CQW49_RS00240': 'CQW49_00240', 'CQW49_RS05470': 'CQW49_05460', 'CQW49_RS15360': 'CQW49_15325', 'CQW49_RS18470': 'CQW49_18410', 'CQW49_RS19140': 'CQW49_19080', 'CQW49_RS22665': 'CQW49_22565', 'CQW49_RS22930': 'CQW49_22830', 'CQW49_RS02210': 'CQW49_02205', 'CQW49_RS02660': 'CQW49_02650', 'CQW49_RS13195': 'CQW49_13160', 'CQW49_RS21615': 'CQW49_21530', 'CQW49_RS01105': 'CQW49_01105', 'CQW49_RS02090': 'CQW49_02085', 'CQW49_RS04630': 'CQW49_04625', 'CQW49_RS09045': 'CQW49_09030', 'CQW49_RS13260': 'CQW49_13225', 'CQW49_RS17150': 'CQW49_17105', 'CQW49_RS20720': 'CQW49_20645', 'CQW49_RS22475': 'CQW49_22380', 'CQW49_RS23805': 'CQW49_23705', 'CQW49_RS01800': 'CQW49_01795', 'CQW49_RS01920': 'CQW49_01915', 'CQW49_RS02535': 'CQW49_02525', 'CQW49_RS06125': 'CQW49_06115', 'CQW49_RS10455': 'CQW49_10430', 'CQW49_RS10500': 'CQW49_10475', 'CQW49_RS14625': 'CQW49_14590', 'CQW49_RS14920': 'CQW49_14885', 'CQW49_RS15100': 'CQW49_15065', 'CQW49_RS15790': 'CQW49_15755', 'CQW49_RS20485': 'CQW49_20415', 'CQW49_RS22625': 'CQW49_22530', 'CQW49_RS02980': 'CQW49_02970', 'CQW49_RS09800': 'CQW49_09780', 'CQW49_RS18010': 'CQW49_17955', 'CQW49_RS01930': 'CQW49_01925', 'CQW49_RS02180': 'CQW49_02175', 'CQW49_RS03450': 'CQW49_03435', 'CQW49_RS07570': 'CQW49_07560', 'CQW49_RS07970': 'CQW49_07960', 'CQW49_RS11530': 'CQW49_11500', 'CQW49_RS14195': 'CQW49_14160', 'CQW49_RS20475': 'CQW49_20405', 'CQW49_RS21410': 'CQW49_21335', 'CQW49_RS07420': 'CQW49_07410', 'CQW49_RS13210': 'CQW49_13175', 'CQW49_RS14700': 'CQW49_14665', 'CQW49_RS01005': 'CQW49_01005', 'CQW49_RS05585': 'CQW49_05575', 'CQW49_RS07200': 'CQW49_07190', 'CQW49_RS07315': 'CQW49_07305', 'CQW49_RS14070': 'CQW49_14035', 'CQW49_RS04510': 'CQW49_04505', 'CQW49_RS10510': 'CQW49_10485', 'CQW49_RS12420': 'CQW49_12385', 'CQW49_RS14135': 'CQW49_14100', 'CQW49_RS14580': 'CQW49_14545', 'CQW49_RS22580': 'CQW49_22485', 'CQW49_RS22755': 'CQW49_22655', 'CQW49_RS05465': 'CQW49_05455', 'CQW49_RS12145': 'CQW49_12110', 'CQW49_RS15000': 'CQW49_14965', 'CQW49_RS19060': 'CQW49_19000', 'CQW49_RS23605': 'CQW49_23505', 'CQW49_RS03295': 'CQW49_03285', 'CQW49_RS03930': 'CQW49_03920', 'CQW49_RS04200': 'CQW49_04190', 'CQW49_RS05055': 'CQW49_05050', 'CQW49_RS05305': 'CQW49_05300', 'CQW49_RS09320': 'CQW49_09300', 'CQW49_RS15195': 'CQW49_15160', 'CQW49_RS15225': 'CQW49_15190', 'CQW49_RS15730': 'CQW49_15695', 'CQW49_RS15780': 'CQW49_15745', 'CQW49_RS19035': 'CQW49_18975', 'CQW49_RS22935': 'CQW49_22835', 'CQW49_RS01080': 'CQW49_01080', 'CQW49_RS01185': 'CQW49_01180', 'CQW49_RS04240': 'CQW49_04230', 'CQW49_RS07510': 'CQW49_07500', 'CQW49_RS15450': 'CQW49_15415', 'CQW49_RS20665': 'CQW49_20590', 'CQW49_RS21035': 'CQW49_20960', 'CQW49_RS01095': 'CQW49_01095', 'CQW49_RS01575': 'CQW49_01570', 'CQW49_RS07750': 'CQW49_07740', 'CQW49_RS10230': 'CQW49_10205', 'CQW49_RS11165': 'CQW49_11135', 'CQW49_RS19105': 'CQW49_19045', 'CQW49_RS02155': 'CQW49_02150', 'CQW49_RS02480': 'CQW49_02470', 'CQW49_RS03245': 'CQW49_03235', 'CQW49_RS05060': 'CQW49_05055', 'CQW49_RS05800': 'CQW49_05790', 'CQW49_RS07300': 'CQW49_07290', 'CQW49_RS08210': 'CQW49_08200', 'CQW49_RS15330': 'CQW49_15295', 'CQW49_RS19025': 'CQW49_18965', 'CQW49_RS20260': 'CQW49_20190', 'CQW49_RS21255': 'CQW49_21180', 'CQW49_RS00930': 'CQW49_00930', 'CQW49_RS04150': 'CQW49_04140', 'CQW49_RS06015': 'CQW49_06005', 'CQW49_RS06675': 'CQW49_06665', 'CQW49_RS08955': 'CQW49_08945', 'CQW49_RS10750': 'CQW49_10720', 'CQW49_RS12735': 'CQW49_12700', 'CQW49_RS16435': 'CQW49_16400', 'CQW49_RS22675': 'CQW49_22575', 'CQW49_RS23320': 'CQW49_23215', 'CQW49_RS00170': 'CQW49_00170', 'CQW49_RS02285': 'CQW49_02280', 'CQW49_RS08490': 'CQW49_08480', 'CQW49_RS08870': 'CQW49_08860', 'CQW49_RS11880': 'CQW49_11845', 'CQW49_RS20510': 'CQW49_20440', 'CQW49_RS01635': 'CQW49_01630', 'CQW49_RS04530': 'CQW49_04525', 'CQW49_RS05175': 'CQW49_05170', 'CQW49_RS12095': 'CQW49_12060', 'CQW49_RS13300': 'CQW49_13265', 'CQW49_RS14850': 'CQW49_14815', 'CQW49_RS21060': 'CQW49_20985', 'CQW49_RS23325': 'CQW49_23220', 'CQW49_RS23585': 'CQW49_23485', 'CQW49_RS00905': 'CQW49_00905', 'CQW49_RS05965': 'CQW49_05955', 'CQW49_RS06395': 'CQW49_06385', 'CQW49_RS11620': 'CQW49_11585', 'CQW49_RS11670': 'CQW49_11635', 'CQW49_RS11925': 'CQW49_11890', 'CQW49_RS12010': 'CQW49_11975', 'CQW49_RS14055': 'CQW49_14020', 'CQW49_RS16135': 'CQW49_16100', 'CQW49_RS23265': 'CQW49_23160', 'CQW49_RS24015': 'CQW49_23905', 'CQW49_RS05220': 'CQW49_05215', 'CQW49_RS13230': 'CQW49_13195', 'CQW49_RS23045': 'CQW49_22945', 'CQW49_RS23125': 'CQW49_23025', 'CQW49_RS00620': 'CQW49_00620', 'CQW49_RS04610': 'CQW49_04605', 'CQW49_RS05665': 'CQW49_05655', 'CQW49_RS08040': 'CQW49_08030', 'CQW49_RS08160': 'CQW49_08150', 'CQW49_RS20430': 'CQW49_20360', 'CQW49_RS21110': 'CQW49_21035', 'CQW49_RS23760': 'CQW49_23660', 'CQW49_RS00175': 'CQW49_00175', 'CQW49_RS07465': 'CQW49_07455', 'CQW49_RS11535': 'CQW49_11505', 'CQW49_RS19595': 'CQW49_19540', 'CQW49_RS00530': 'CQW49_00530', 'CQW49_RS08030': 'CQW49_08020', 'CQW49_RS11025': 'CQW49_10995', 'CQW49_RS18865': 'CQW49_18805', 'CQW49_RS21125': 'CQW49_21050', 'CQW49_RS21355': 'CQW49_21280', 'CQW49_RS23685': 'CQW49_23585', 'CQW49_RS01270': 'CQW49_01265', 'CQW49_RS05490': 'CQW49_05480', 'CQW49_RS07500': 'CQW49_07490', 'CQW49_RS07890': 'CQW49_07880', 'CQW49_RS08775': 'CQW49_08765', 'CQW49_RS13255': 'CQW49_13220', 'CQW49_RS13545': 'CQW49_13510', 'CQW49_RS19710': 'CQW49_19655', 'CQW49_RS20015': 'CQW49_19950', 'CQW49_RS21915': 'CQW49_21830', 'CQW49_RS23295': 'CQW49_23190', 'CQW49_RS00525': 'CQW49_00525', 'CQW49_RS11470': 'CQW49_11440', 'CQW49_RS17020': 'CQW49_16975', 'CQW49_RS17510': 'CQW49_17455', 'CQW49_RS20370': 'CQW49_20300', 'CQW49_RS20940': 'CQW49_20865', 'CQW49_RS00035': 'CQW49_00035', 'CQW49_RS03100': 'CQW49_03090', 'CQW49_RS04560': 'CQW49_04555', 'CQW49_RS04815': 'CQW49_04805', 'CQW49_RS08195': 'CQW49_08185', 'CQW49_RS10170': 'CQW49_10145', 'CQW49_RS14365': 'CQW49_14330', 'CQW49_RS17490': 'CQW49_17435', 'CQW49_RS21510': 'CQW49_21435', 'CQW49_RS22490': 'CQW49_22395', 'CQW49_RS01190': 'CQW49_01185', 'CQW49_RS02495': 'CQW49_02485', 'CQW49_RS10915': 'CQW49_10885', 'CQW49_RS20820': 'CQW49_20745', 'CQW49_RS21590': 'CQW49_21510', 'CQW49_RS02215': 'CQW49_02210', 'CQW49_RS03710': 'CQW49_03700', 'CQW49_RS07690': 'CQW49_07680', 'CQW49_RS07975': 'CQW49_07965', 'CQW49_RS14085': 'CQW49_14050', 'CQW49_RS15085': 'CQW49_15050', 'CQW49_RS17655': 'CQW49_17600', 'CQW49_RS19305': 'CQW49_19250', 'CQW49_RS19435': 'CQW49_19380', 'CQW49_RS19725': 'CQW49_19670', 'CQW49_RS20950': 'CQW49_20875', 'CQW49_RS23130': 'CQW49_23030', 'CQW49_RS23465': 'CQW49_23360', 'CQW49_RS02975': 'CQW49_02965', 'CQW49_RS03500': 'CQW49_03490', 'CQW49_RS03795': 'CQW49_03785', 'CQW49_RS09510': 'CQW49_09490', 'CQW49_RS16005': 'CQW49_15970', 'CQW49_RS19945': 'CQW49_19880', 'CQW49_RS22660': 'CQW49_22560', 'CQW49_RS22870': 'CQW49_22770', 'CQW49_RS23240': 'CQW49_23135', 'CQW49_RS01935': 'CQW49_01930', 'CQW49_RS06475': 'CQW49_06465', 'CQW49_RS07965': 'CQW49_07955', 'CQW49_RS09565': 'CQW49_09545', 'CQW49_RS16390': 'CQW49_16355', 'CQW49_RS20680': 'CQW49_20605', 'CQW49_RS22615': 'CQW49_22520', 'CQW49_RS14960': 'CQW49_14925', 'CQW49_RS07320': 'CQW49_07310', 'CQW49_RS09515': 'CQW49_09495', 'CQW49_RS16395': 'CQW49_16360', 'CQW49_RS16545': 'CQW49_16505', 'CQW49_RS19430': 'CQW49_19375', 'CQW49_RS23380': 'CQW49_23275', 'CQW49_RS08170': 'CQW49_08160', 'CQW49_RS08810': 'CQW49_08800', 'CQW49_RS10225': 'CQW49_10200', 'CQW49_RS12950': 'CQW49_12915', 'CQW49_RS15180': 'CQW49_15145', 'CQW49_RS16045': 'CQW49_16010', 'CQW49_RS22670': 'CQW49_22570', 'CQW49_RS02520': 'CQW49_02510', 'CQW49_RS10935': 'CQW49_10905', 'CQW49_RS14175': 'CQW49_14140', 'CQW49_RS15200': 'CQW49_15165', 'CQW49_RS16530': 'CQW49_16490', 'CQW49_RS19765': 'CQW49_19710', 'CQW49_RS21210': 'CQW49_21135', 'CQW49_RS11280': 'CQW49_11250', 'CQW49_RS16615': 'CQW49_16575', 'CQW49_RS00940': 'CQW49_00940', 'CQW49_RS01655': 'CQW49_01650', 'CQW49_RS05775': 'CQW49_05765', 'CQW49_RS07530': 'CQW49_07520', 'CQW49_RS08890': 'CQW49_08880', 'CQW49_RS09665': 'CQW49_09645', 'CQW49_RS11405': 'CQW49_11375', 'CQW49_RS13420': 'CQW49_13385', 'CQW49_RS20065': 'CQW49_20000', 'CQW49_RS20210': 'CQW49_20145', 'CQW49_RS01475': 'CQW49_01470', 'CQW49_RS01520': 'CQW49_01515', 'CQW49_RS04145': 'CQW49_04135', 'CQW49_RS06080': 'CQW49_06070', 'CQW49_RS06905': 'CQW49_06895', 'CQW49_RS07195': 'CQW49_07185', 'CQW49_RS07330': 'CQW49_07320', 'CQW49_RS18480': 'CQW49_18420', 'CQW49_RS10475': 'CQW49_10450', 'CQW49_RS17470': 'CQW49_17415', 'CQW49_RS18340': 'CQW49_18280', 'CQW49_RS23030': 'CQW49_22930', 'CQW49_RS01115': 'CQW49_01115', 'CQW49_RS01255': 'CQW49_01250', 'CQW49_RS05130': 'CQW49_05125', 'CQW49_RS06160': 'CQW49_06150', 'CQW49_RS08310': 'CQW49_08300', 'CQW49_RS17170': 'CQW49_17125', 'CQW49_RS21330': 'CQW49_21255', 'CQW49_RS21475': 'CQW49_21400', 'CQW49_RS00065': 'CQW49_00065', 'CQW49_RS00080': 'CQW49_00080', 'CQW49_RS05270': 'CQW49_05265', 'CQW49_RS07245': 'CQW49_07235', 'CQW49_RS08500': 'CQW49_08490', 'CQW49_RS09360': 'CQW49_09340', 'CQW49_RS10635': 'CQW49_10605', 'CQW49_RS13810': 'CQW49_13775', 'CQW49_RS23690': 'CQW49_23590', 'CQW49_RS03980': 'CQW49_03970', 'CQW49_RS04515': 'CQW49_04510', 'CQW49_RS09600': 'CQW49_09580', 'CQW49_RS11385': 'CQW49_11355', 'CQW49_RS16995': 'CQW49_16950', 'CQW49_RS19135': 'CQW49_19075', 'CQW49_RS02315': 'CQW49_02310', 'CQW49_RS03535': 'CQW49_03525', 'CQW49_RS04490': 'CQW49_04485', 'CQW49_RS05235': 'CQW49_05230', 'CQW49_RS05505': 'CQW49_05495', 'CQW49_RS05750': 'CQW49_05740', 'CQW49_RS06090': 'CQW49_06080', 'CQW49_RS07580': 'CQW49_07570', 'CQW49_RS08785': 'CQW49_08775', 'CQW49_RS14205': 'CQW49_14170', 'CQW49_RS17025': 'CQW49_16980', 'CQW49_RS22865': 'CQW49_22765', 'CQW49_RS08045': 'CQW49_08035', 'CQW49_RS04270': 'CQW49_04260', 'CQW49_RS07630': 'CQW49_07620', 'CQW49_RS08175': 'CQW49_08165', 'CQW49_RS21945': 'CQW49_21860', 'CQW49_RS22750': 'CQW49_22650', 'CQW49_RS03285': 'CQW49_03275', 'CQW49_RS07790': 'CQW49_07780', 'CQW49_RS08205': 'CQW49_08195', 'CQW49_RS14025': 'CQW49_13990', 'CQW49_RS14745': 'CQW49_14710', 'CQW49_RS17200': 'CQW49_17155', 'CQW49_RS22940': 'CQW49_22840', 'CQW49_RS23780': 'CQW49_23680', 'CQW49_RS23855': 'CQW49_23750', 'CQW49_RS00200': 'CQW49_00200', 'CQW49_RS01810': 'CQW49_01805', 'CQW49_RS03070': 'CQW49_03060', 'CQW49_RS05245': 'CQW49_05240', 'CQW49_RS08155': 'CQW49_08145', 'CQW49_RS13660': 'CQW49_13625', 'CQW49_RS15550': 'CQW49_15515', 'CQW49_RS20230': 'CQW49_20160', 'CQW49_RS23670': 'CQW49_23570', 'CQW49_RS03760': 'CQW49_03750', 'CQW49_RS07920': 'CQW49_07910', 'CQW49_RS09260': 'CQW49_09240', 'CQW49_RS15890': 'CQW49_15855', 'CQW49_RS21705': 'CQW49_21620', 'CQW49_RS21830': 'CQW49_21745', 'CQW49_RS22460': 'CQW49_22365', 'CQW49_RS00540': 'CQW49_00540', 'CQW49_RS07575': 'CQW49_07565', 'CQW49_RS08445': 'CQW49_08435', 'CQW49_RS10735': 'CQW49_10705', 'CQW49_RS10845': 'CQW49_10815', 'CQW49_RS17670': 'CQW49_17615', 'CQW49_RS17740': 'CQW49_17685', 'CQW49_RS20445': 'CQW49_20375', 'CQW49_RS20655': 'CQW49_20580', 'CQW49_RS21170': 'CQW49_21095', 'CQW49_RS18350': 'CQW49_18290', 'CQW49_RS22635': 'CQW49_22540', 'CQW49_RS01275': 'CQW49_01270', 'CQW49_RS04875': 'CQW49_04865', 'CQW49_RS05720': 'CQW49_05710', 'CQW49_RS07820': 'CQW49_07810', 'CQW49_RS09025': 'CQW49_09010', 'CQW49_RS16255': 'CQW49_16220', 'CQW49_RS20165': 'CQW49_20100', 'CQW49_RS23970': 'CQW49_23865', 'CQW49_RS01335': 'CQW49_01330', 'CQW49_RS08920': 'CQW49_08910', 'CQW49_RS11435': 'CQW49_11405', 'CQW49_RS16655': 'CQW49_16615', 'CQW49_RS00505': 'CQW49_00505', 'CQW49_RS08390': 'CQW49_08380', 'CQW49_RS14705': 'CQW49_14670', 'CQW49_RS14795': 'CQW49_14760', 'CQW49_RS21040': 'CQW49_20965', 'CQW49_RS23960': 'CQW49_23855', 'CQW49_RS00965': 'CQW49_00965', 'CQW49_RS02570': 'CQW49_02560', 'CQW49_RS05240': 'CQW49_05235', 'CQW49_RS07435': 'CQW49_07425', 'CQW49_RS08935': 'CQW49_08925', 'CQW49_RS15120': 'CQW49_15085', 'CQW49_RS18290': 'CQW49_18230', 'CQW49_RS01050': 'CQW49_01050', 'CQW49_RS02560': 'CQW49_02550', 'CQW49_RS08135': 'CQW49_08125', 'CQW49_RS21855': 'CQW49_21770', 'CQW49_RS07335': 'CQW49_07325', 'CQW49_RS11350': 'CQW49_11320', 'CQW49_RS11960': 'CQW49_11925', 'CQW49_RS15295': 'CQW49_15260', 'CQW49_RS17350': 'CQW49_17300', 'CQW49_RS21905': 'CQW49_21820', 'CQW49_RS01120': 'CQW49_01120', 'CQW49_RS07950': 'CQW49_07940', 'CQW49_RS11740': 'CQW49_11705', 'CQW49_RS17065': 'CQW49_17020', 'CQW49_RS20110': 'CQW49_20045', 'CQW49_RS01765': 'CQW49_01760', 'CQW49_RS02810': 'CQW49_02800', 'CQW49_RS03555': 'CQW49_03545', 'CQW49_RS03585': 'CQW49_03575', 'CQW49_RS05930': 'CQW49_05920', 'CQW49_RS08760': 'CQW49_08750', 'CQW49_RS10800': 'CQW49_10770', 'CQW49_RS10925': 'CQW49_10895', 'CQW49_RS14050': 'CQW49_14015', 'CQW49_RS14060': 'CQW49_14025', 'CQW49_RS15320': 'CQW49_15285', 'CQW49_RS17875': 'CQW49_17820', 'CQW49_RS22820': 'CQW49_22720', 'CQW49_RS03240': 'CQW49_03230', 'CQW49_RS03445': 'CQW49_03430', 'CQW49_RS03820': 'CQW49_03810', 'CQW49_RS04265': 'CQW49_04255', 'CQW49_RS04705': 'CQW49_04695', 'CQW49_RS06610': 'CQW49_06595', 'CQW49_RS06930': 'CQW49_06920', 'CQW49_RS08780': 'CQW49_08770', 'CQW49_RS09695': 'CQW49_09675', 'CQW49_RS15060': 'CQW49_15025', 'CQW49_RS15110': 'CQW49_15075', 'CQW49_RS19285': 'CQW49_19230', 'CQW49_RS23445': 'CQW49_23340', 'CQW49_RS02010': 'CQW49_02005', 'CQW49_RS02490': 'CQW49_02480', 'CQW49_RS07265': 'CQW49_07255', 'CQW49_RS08520': 'CQW49_08510', 'CQW49_RS16790': 'CQW49_16750', 'CQW49_RS22380': 'CQW49_22285', 'CQW49_RS02565': 'CQW49_02555', 'CQW49_RS05495': 'CQW49_05485', 'CQW49_RS07895': 'CQW49_07885', 'CQW49_RS07960': 'CQW49_07950', 'CQW49_RS15895': 'CQW49_15860', 'CQW49_RS17710': 'CQW49_17655', 'CQW49_RS19425': 'CQW49_19370', 'CQW49_RS19440': 'CQW49_19385', 'CQW49_RS22340': 'CQW49_22245', 'CQW49_RS22680': 'CQW49_22580', 'CQW49_RS05090': 'CQW49_05085', 'CQW49_RS05870': 'CQW49_05860', 'CQW49_RS13860': 'CQW49_13825', 'CQW49_RS14335': 'CQW49_14300', 'CQW49_RS14785': 'CQW49_14750', 'CQW49_RS15825': 'CQW49_15790', 'CQW49_RS01010': 'CQW49_01010', 'CQW49_RS07555': 'CQW49_07545', 'CQW49_RS08165': 'CQW49_08155', 'CQW49_RS13715': 'CQW49_13680', 'CQW49_RS14825': 'CQW49_14790', 'CQW49_RS17955': 'CQW49_17900', 'CQW49_RS22105': 'CQW49_22020', 'CQW49_RS04930': 'CQW49_04925', 'CQW49_RS11040': 'CQW49_11010', 'CQW49_RS20135': 'CQW49_20070', 'CQW49_RS21700': 'CQW49_21615', 'CQW49_RS22365': 'CQW49_22270', 'CQW49_RS24055': 'CQW49_23945', 'CQW49_RS00970': 'CQW49_00970', 'CQW49_RS00975': 'CQW49_00975', 'CQW49_RS04575': 'CQW49_04570', 'CQW49_RS06855': 'CQW49_06845', 'CQW49_RS08355': 'CQW49_08345', 'CQW49_RS09035': 'CQW49_09020', 'CQW49_RS16465': 'CQW49_16430', 'CQW49_RS19110': 'CQW49_19050', 'CQW49_RS20865': 'CQW49_20790', 'CQW49_RS22605': 'CQW49_22510', 'CQW49_RS23290': 'CQW49_23185', 'CQW49_RS24130': 'CQW49_24015', 'CQW49_RS02485': 'CQW49_02475', 'CQW49_RS02780': 'CQW49_02770', 'CQW49_RS07075': 'CQW49_07065', 'CQW49_RS08010': 'CQW49_08000', 'CQW49_RS08125': 'CQW49_08115', 'CQW49_RS10190': 'CQW49_10165', 'CQW49_RS10480': 'CQW49_10455', 'CQW49_RS12310': 'CQW49_12275', 'CQW49_RS14650': 'CQW49_14615', 'CQW49_RS15235': 'CQW49_15200', 'CQW49_RS16260': 'CQW49_16225', 'CQW49_RS23930': 'CQW49_23825', 'CQW49_RS02820': 'CQW49_02810', 'CQW49_RS09495': 'CQW49_09475', 'CQW49_RS10590': 'CQW49_10560', 'CQW49_RS21345': 'CQW49_21270', 'CQW49_RS23020': 'CQW49_22920', 'CQW49_RS08305': 'CQW49_08295', 'CQW49_RS10860': 'CQW49_10830', 'CQW49_RS22630': 'CQW49_22535', 'CQW49_RS03255': 'CQW49_03245', 'CQW49_RS08435': 'CQW49_08425', 'CQW49_RS15590': 'CQW49_15555', 'CQW49_RS02050': 'CQW49_02045', 'CQW49_RS07425': 'CQW49_07415', 'CQW49_RS14385': 'CQW49_14350', 'CQW49_RS06050': 'CQW49_06040', 'CQW49_RS07755': 'CQW49_07745', 'CQW49_RS09655': 'CQW49_09635', 'CQW49_RS13620': 'CQW49_13585', 'CQW49_RS14200': 'CQW49_14165', 'CQW49_RS14480': 'CQW49_14445', 'CQW49_RS15515': 'CQW49_15480', 'CQW49_RS22175': 'CQW49_22090', 'CQW49_RS23040': 'CQW49_22940', 'CQW49_RS00180': 'CQW49_00180', 'CQW49_RS11335': 'CQW49_11305', 'CQW49_RS14300': 'CQW49_14265', 'CQW49_RS22740': 'CQW49_22640', 'CQW49_RS01340': 'CQW49_01335', 'CQW49_RS03985': 'CQW49_03975', 'CQW49_RS05480': 'CQW49_05470', 'CQW49_RS08705': 'CQW49_08695', 'CQW49_RS09835': 'CQW49_09815', 'CQW49_RS10395': 'CQW49_10370', 'CQW49_RS14865': 'CQW49_14830', 'CQW49_RS23205': 'CQW49_23100', 'CQW49_RS02115': 'CQW49_02110', 'CQW49_RS10730': 'CQW49_10700', 'CQW49_RS07525': 'CQW49_07515', 'CQW49_RS10185': 'CQW49_10160', 'CQW49_RS10780': 'CQW49_10750', 'CQW49_RS23330': 'CQW49_23225', 'CQW49_RS02585': 'CQW49_02575', 'CQW49_RS07880': 'CQW49_07870', 'CQW49_RS13405': 'CQW49_13370', 'CQW49_RS20205': 'CQW49_20140', 'CQW49_RS22965': 'CQW49_22865', 'CQW49_RS04600': 'CQW49_04595', 'CQW49_RS04950': 'CQW49_04945', 'CQW49_RS08430': 'CQW49_08420', 'CQW49_RS10880': 'CQW49_10850', 'CQW49_RS13730': 'CQW49_13695', 'CQW49_RS18850': 'CQW49_18790', 'CQW49_RS20270': 'CQW49_20200', 'CQW49_RS20495': 'CQW49_20425', 'CQW49_RS03630': 'CQW49_03620', 'CQW49_RS03660': 'CQW49_03650', 'CQW49_RS04320': 'CQW49_04310', 'CQW49_RS11355': 'CQW49_11325', 'CQW49_RS18405': 'CQW49_18345', 'CQW49_RS21540': 'CQW49_21460', 'CQW49_RS06585': 'CQW49_06570', 'CQW49_RS07085': 'CQW49_07075', 'CQW49_RS17640': 'CQW49_17585', 'CQW49_RS19245': 'CQW49_19190', 'CQW49_RS04125': 'CQW49_04115', 'CQW49_RS10430': 'CQW49_10405', 'CQW49_RS16295': 'CQW49_16260', 'CQW49_RS18670': 'CQW49_18610', 'CQW49_RS16265': 'CQW49_16230', 'CQW49_RS17240': 'CQW49_17195', 'CQW49_RS18515': 'CQW49_18455', 'CQW49_RS05150': 'CQW49_05145', 'CQW49_RS12705': 'CQW49_12670', 'CQW49_RS18080': 'CQW49_18020', 'CQW49_RS20675': 'CQW49_20600', 'CQW49_RS03490': 'CQW49_03480', 'CQW49_RS04070': 'CQW49_04060', 'CQW49_RS13880': 'CQW49_13845', 'CQW49_RS16205': 'CQW49_16170', 'CQW49_RS19615': 'CQW49_19560', 'CQW49_RS21910': 'CQW49_21825', 'CQW49_RS22565': 'CQW49_22470', 'CQW49_RS10055': 'CQW49_10030', 'CQW49_RS13690': 'CQW49_13655', 'CQW49_RS18720': 'CQW49_18660', 'CQW49_RS00095': 'CQW49_00095', 'CQW49_RS04030': 'CQW49_04020', 'CQW49_RS23230': 'CQW49_23125', 'CQW49_RS04585': 'CQW49_04580', 'CQW49_RS05155': 'CQW49_05150', 'CQW49_RS19645': 'CQW49_19590', 'CQW49_RS17595': 'CQW49_17540', 'CQW49_RS14710': 'CQW49_14675', 'CQW49_RS17380': 'CQW49_17330', 'CQW49_RS17385': 'CQW49_17335', 'CQW49_RS18385': 'CQW49_18325', 'CQW49_RS23225': 'CQW49_23120', 'CQW49_RS09580': 'CQW49_09560', 'CQW49_RS22020': 'CQW49_21935', 'CQW49_RS13120': 'CQW49_13085', 'CQW49_RS23210': 'CQW49_23105', 'CQW49_RS16405': 'CQW49_16370', 'CQW49_RS22880': 'CQW49_22780', 'CQW49_RS04485': 'CQW49_04480', 'CQW49_RS08605': 'CQW49_08595', 'CQW49_RS08905': 'CQW49_08895', 'CQW49_RS06325': 'CQW49_06315', 'CQW49_RS18955': 'CQW49_18895', 'CQW49_RS16480': 'CQW49_16445', 'CQW49_RS24085': 'CQW49_23970', 'CQW49_RS08270': 'CQW49_08260', 'CQW49_RS08350': 'CQW49_08340', 'CQW49_RS21810': 'CQW49_21725', 'CQW49_RS11655': 'CQW49_11620', 'CQW49_RS06605': 'CQW49_06590', 'CQW49_RS07175': 'CQW49_07165', 'CQW49_RS18960': 'CQW49_18900', 'CQW49_RS23200': 'CQW49_23095', 'CQW49_RS12285': 'CQW49_12250', 'CQW49_RS05230': 'CQW49_05225', 'CQW49_RS10645': 'CQW49_10615', 'CQW49_RS22360': 'CQW49_22265', 'CQW49_RS03860': 'CQW49_03850'}\n"
     ]
    }
   ],
   "source": [
    "#script to converting csv orthologs into a dictionary\n",
    "\n",
    "import csv\n",
    "\n",
    "data={}\n",
    "with open(inparanoid_directory + \"GEM_OB3b_inparanoid_runs/\" +\n",
    "                      \"OB3b_refseq_genome_ids_vs_OB3b_genbank_genome_ids/Output/\" +\n",
    "                      \"table.OB3b_Refseq_for_inparanoid.faa-OB3b_Genbank_for_inparanoid_intermediate_4.csv\") as fin:\n",
    "    reader=csv.reader(fin, skipinitialspace=True, quotechar=\"'\")\n",
    "    for row in reader:\n",
    "        data[row[0]]=row[1:]\n",
    "for key in data:\n",
    "    data[key]=''.join(data[key])\n",
    "print(data)  "
   ]
  },
  {
   "cell_type": "code",
   "execution_count": 15,
   "metadata": {
    "ExecuteTime": {
     "end_time": "2020-01-06T01:52:26.455296Z",
     "start_time": "2020-01-06T01:52:26.347906Z"
    }
   },
   "outputs": [],
   "source": [
    "cobra.manipulation.modify.rename_genes(model_OB3b, data)"
   ]
  },
  {
   "cell_type": "code",
   "execution_count": 16,
   "metadata": {
    "ExecuteTime": {
     "end_time": "2020-01-06T01:52:33.623474Z",
     "start_time": "2020-01-06T01:52:33.589160Z"
    }
   },
   "outputs": [
    {
     "data": {
      "text/plain": [
       "[<Gene META1_4439 at 0x7f04f6713710>,\n",
       " <Gene META1_4519 at 0x7f0525746a20>,\n",
       " <Gene META1_2535 at 0x7f04f5ad3940>,\n",
       " <Gene META1_3455 at 0x7f052575c160>,\n",
       " <Gene META1_3452 at 0x7f05263dd8d0>,\n",
       " <Gene META1_2235 at 0x7f04f65e21d0>,\n",
       " <Gene META1_3145 at 0x7f04f65e22b0>,\n",
       " <Gene META1_4408 at 0x7f0525456160>,\n",
       " <Gene META1_4585 at 0x7f04f251ecc0>,\n",
       " <Gene META1_4584 at 0x7f04f251ecf8>,\n",
       " <Gene META1_4583 at 0x7f04f251ed30>,\n",
       " <Gene META1_4310 at 0x7f04f251ed68>,\n",
       " <Gene META1_3082 at 0x7f04f251eda0>,\n",
       " <Gene META1_3652 at 0x7f04f251edd8>,\n",
       " <Gene META1_3477 at 0x7f04f251ee10>,\n",
       " <Gene META1_1551 at 0x7f04f251ee48>,\n",
       " <Gene META1_3478 at 0x7f04f251ee80>,\n",
       " <Gene META1_4582 at 0x7f04f251eeb8>,\n",
       " <Gene META2_0607 at 0x7f04f251eef0>,\n",
       " <Gene META1_0478 at 0x7f04f251ef28>,\n",
       " <Gene META1_2068 at 0x7f04f251ef60>,\n",
       " <Gene META1_5277 at 0x7f04f251ef98>,\n",
       " <Gene META1_1850 at 0x7f04f251efd0>,\n",
       " <Gene META1_2910 at 0x7f04f24a6048>,\n",
       " <Gene META1_0804 at 0x7f04f24a6080>,\n",
       " <Gene META1_0485 at 0x7f04f24a60b8>,\n",
       " <Gene META1_4617 at 0x7f04f24a60f0>,\n",
       " <Gene META1_3421 at 0x7f04f24a6128>,\n",
       " <Gene META1_0179 at 0x7f04f24a6160>,\n",
       " <Gene META2_1021 at 0x7f04f24a6198>,\n",
       " <Gene META1_0114 at 0x7f04f24a61d0>,\n",
       " <Gene META1_0116 at 0x7f04f24a6208>,\n",
       " <Gene META1_0117 at 0x7f04f24a6240>,\n",
       " <Gene META1_3473 at 0x7f04f24a6278>,\n",
       " <Gene META1_3469 at 0x7f04f24a62b0>,\n",
       " <Gene META1_3474 at 0x7f04f24a62e8>,\n",
       " <Gene META1_0115 at 0x7f04f24a6320>,\n",
       " <Gene META1_3169 at 0x7f04f24a6358>,\n",
       " <Gene META1_3148 at 0x7f04f24a6390>,\n",
       " <Gene META1_2923 at 0x7f04f24a63c8>,\n",
       " <Gene META1_1393 at 0x7f04f24a6400>,\n",
       " <Gene META1_2774 at 0x7f04f24a6438>,\n",
       " <Gene META1_2776 at 0x7f04f24a6470>,\n",
       " <Gene META1_2777 at 0x7f04f24a64a8>,\n",
       " <Gene META1_2770 at 0x7f04f24a64e0>,\n",
       " <Gene META1_2773 at 0x7f04f24a6518>,\n",
       " <Gene META1_2772 at 0x7f04f24a6550>,\n",
       " <Gene META1_2769 at 0x7f04f24a6588>,\n",
       " <Gene META1_2771 at 0x7f04f24a65c0>,\n",
       " <Gene META1_2497 at 0x7f04f24a65f8>,\n",
       " <Gene META1_1729 at 0x7f04f24a6630>,\n",
       " <Gene META1_1728 at 0x7f04f24a6668>,\n",
       " <Gene META1_3241 at 0x7f04f24a66a0>,\n",
       " <Gene META1_0342 at 0x7f04f24a66d8>,\n",
       " <Gene META1_4689 at 0x7f04f24a6710>,\n",
       " <Gene META1_0612 at 0x7f04f24a6748>,\n",
       " <Gene META1_3320 at 0x7f04f24a6780>,\n",
       " <Gene META1_3093 at 0x7f04f24a67b8>,\n",
       " <Gene META1_4513 at 0x7f04f24a67f0>,\n",
       " <Gene META1_3527 at 0x7f04f24a6828>,\n",
       " <Gene META1_2119 at 0x7f04f24a6860>,\n",
       " <Gene META1_2925 at 0x7f04f24a6898>,\n",
       " <Gene META1_3381 at 0x7f04f24a68d0>,\n",
       " <Gene META1_3665 at 0x7f04f24a6908>,\n",
       " <Gene META1_4616 at 0x7f04f24a6940>,\n",
       " <Gene META1_0622 at 0x7f04f24a6978>,\n",
       " <Gene META1_0620 at 0x7f04f24a69b0>,\n",
       " <Gene META1_0621 at 0x7f04f24a69e8>,\n",
       " <Gene META1_4701 at 0x7f04f24a6a20>,\n",
       " <Gene META1_3702 at 0x7f04f24a6a58>,\n",
       " <Gene META1_1327 at 0x7f04f24a6a90>,\n",
       " <Gene META1_0488 at 0x7f04f24a6ac8>,\n",
       " <Gene META1_3624 at 0x7f04f24a6b00>,\n",
       " <Gene META2_0600 at 0x7f04f24a6b38>,\n",
       " <Gene META1_1380 at 0x7f04f24a6b70>,\n",
       " <Gene META1_5121 at 0x7f04f24a6ba8>,\n",
       " <Gene META1_0694 at 0x7f04f24a6be0>,\n",
       " <Gene META1_5244 at 0x7f04f24a6c18>,\n",
       " <Gene META1_3364 at 0x7f04f24a6c50>,\n",
       " <Gene META1_0404 at 0x7f04f24a6c88>,\n",
       " <Gene META1_0403 at 0x7f04f24a6cc0>,\n",
       " <Gene META1_0405 at 0x7f04f24a6cf8>,\n",
       " <Gene META1_0390 at 0x7f04f24a6d30>,\n",
       " <Gene META1_0406 at 0x7f04f24a6d68>,\n",
       " <Gene META1_4884 at 0x7f04f24a6da0>,\n",
       " <Gene META1_3434 at 0x7f04f24a6dd8>,\n",
       " <Gene META1_0990 at 0x7f04f24a6e10>,\n",
       " <Gene META1_2171 at 0x7f04f24a6e48>,\n",
       " <Gene META1_0799 at 0x7f04f24a6e80>,\n",
       " <Gene META1_5071 at 0x7f04f24a6eb8>,\n",
       " <Gene META1_0546 at 0x7f04f24a6ef0>,\n",
       " <Gene META1_3135 at 0x7f04f24a6f28>,\n",
       " <Gene META1_3666 at 0x7f04f24a6f60>,\n",
       " <Gene META1_3662 at 0x7f04f24a6f98>,\n",
       " <Gene META1_4639 at 0x7f04f24a6fd0>,\n",
       " <Gene META1_0388 at 0x7f04f24b7048>,\n",
       " <Gene META1_5130 at 0x7f04f24b7080>,\n",
       " <Gene META1_0790 at 0x7f04f24b70b8>,\n",
       " <Gene META1_5208 at 0x7f04f24b70f0>,\n",
       " <Gene META1_5282 at 0x7f04f24b7128>,\n",
       " <Gene SP0001 at 0x7f04f24b7160>,\n",
       " <Gene META2_0870 at 0x7f04f24b7198>,\n",
       " <Gene META2_0097 at 0x7f04f24b71d0>,\n",
       " <Gene META1_1268 at 0x7f04f24b7208>,\n",
       " <Gene META1_3048 at 0x7f04f24b7240>,\n",
       " <Gene META1_3050 at 0x7f04f24b7278>,\n",
       " <Gene META1_3047 at 0x7f04f24b72b0>,\n",
       " <Gene META1_3198 at 0x7f04f24b72e8>,\n",
       " <Gene META1_1470 at 0x7f04f24b7320>,\n",
       " <Gene META1_1550 at 0x7f04f24b7358>,\n",
       " <Gene META1_4314 at 0x7f04f24b7390>,\n",
       " <Gene META1_5018 at 0x7f04f24b73c8>,\n",
       " <Gene META1_1974 at 0x7f04f24b7400>,\n",
       " <Gene META1_1408 at 0x7f04f24b7438>,\n",
       " <Gene META1_2490 at 0x7f04f24b7470>,\n",
       " <Gene META1_0364 at 0x7f04f24b74a8>,\n",
       " <Gene META1_1864 at 0x7f04f24b74e0>,\n",
       " <Gene META1_2370 at 0x7f04f24b7518>,\n",
       " <Gene META1_3319 at 0x7f04f24b7550>,\n",
       " <Gene META1_1540 at 0x7f04f24b7588>,\n",
       " <Gene META1_1542 at 0x7f04f24b75c0>,\n",
       " <Gene META1_1541 at 0x7f04f24b75f8>,\n",
       " <Gene META1_2718 at 0x7f04f24b7630>,\n",
       " <Gene META1_1808 at 0x7f04f24b7668>,\n",
       " <Gene META1_1324 at 0x7f04f24b76a0>,\n",
       " <Gene META1_3602 at 0x7f04f24b76d8>,\n",
       " <Gene META1_1689 at 0x7f04f24b7710>,\n",
       " <Gene META1_2079 at 0x7f04f24b7748>,\n",
       " <Gene META1_1861 at 0x7f04f24b7780>,\n",
       " <Gene META1_4949 at 0x7f04f24b77b8>,\n",
       " <Gene META1_2078 at 0x7f04f24b77f0>,\n",
       " <Gene META1_5006 at 0x7f04f24b7828>,\n",
       " <Gene META1_0178 at 0x7f04f24b7860>,\n",
       " <Gene META1_1523 at 0x7f04f24b7898>,\n",
       " <Gene META1_1524 at 0x7f04f24b78d0>,\n",
       " <Gene META1_4140 at 0x7f04f24b7908>,\n",
       " <Gene META1_0211 at 0x7f04f24b7940>,\n",
       " <Gene META1_1435 at 0x7f04f24b7978>,\n",
       " <Gene META1_1434 at 0x7f04f24b79b0>,\n",
       " <Gene META1_4642 at 0x7f04f24b79e8>,\n",
       " <Gene META1_0176 at 0x7f04f24b7a20>,\n",
       " <Gene META1_4936 at 0x7f04f24b7a58>,\n",
       " <Gene META1_3184 at 0x7f04f24b7a90>,\n",
       " <Gene META1_4339 at 0x7f04f24b7ac8>,\n",
       " <Gene META1_3271 at 0x7f04f24b7b00>,\n",
       " <Gene META1_0381 at 0x7f04f24b7b38>,\n",
       " <Gene META1_3234 at 0x7f04f24b7b70>,\n",
       " <Gene META1_1326 at 0x7f04f24b7ba8>,\n",
       " <Gene META1_0757 at 0x7f04f24b7be0>,\n",
       " <Gene META1_1940 at 0x7f04f24b7c18>,\n",
       " <Gene META1_0430 at 0x7f04f24b7c50>,\n",
       " <Gene META1_5175 at 0x7f04f24b7c88>,\n",
       " <Gene META1_3890 at 0x7f04f24b7cc0>,\n",
       " <Gene META1_4922 at 0x7f04f24b7cf8>,\n",
       " <Gene META1_3893 at 0x7f04f24b7d30>,\n",
       " <Gene META1_2095 at 0x7f04f24b7d68>,\n",
       " <Gene META1_4487 at 0x7f04f24b7da0>,\n",
       " <Gene META1_3166 at 0x7f04f24b7dd8>,\n",
       " <Gene META1_4464 at 0x7f04f24b7e10>,\n",
       " <Gene META2_1120 at 0x7f04f24b7e48>,\n",
       " <Gene META2_1117 at 0x7f04f24b7e80>,\n",
       " <Gene META1_4425 at 0x7f04f24b7eb8>,\n",
       " <Gene META1_1743 at 0x7f04f24b7ef0>,\n",
       " <Gene META1_1333 at 0x7f04f24b7f28>,\n",
       " <Gene META1_1332 at 0x7f04f24b7f60>,\n",
       " <Gene META2_0021 at 0x7f04f24b7f98>,\n",
       " <Gene META1_0872 at 0x7f04f24b7fd0>,\n",
       " <Gene META1_4544 at 0x7f04f24c7048>,\n",
       " <Gene META1_2271 at 0x7f04f24c7080>,\n",
       " <Gene META1_2512 at 0x7f04f24c70b8>,\n",
       " <Gene META1_2870 at 0x7f04f24c70f0>,\n",
       " <Gene META1_4458 at 0x7f04f24c7128>,\n",
       " <Gene META1_2926 at 0x7f04f24c7160>,\n",
       " <Gene META1_3170 at 0x7f04f24c7198>,\n",
       " <Gene META1_2922 at 0x7f04f24c71d0>,\n",
       " <Gene META1_4092 at 0x7f04f24c7208>,\n",
       " <Gene META1_3277 at 0x7f04f24c7240>,\n",
       " <Gene META1_3537 at 0x7f04f24c7278>,\n",
       " <Gene META1_0439 at 0x7f04f24c72b0>,\n",
       " <Gene META1_3538 at 0x7f04f24c72e8>,\n",
       " <Gene META1_0988 at 0x7f04f24c7320>,\n",
       " <Gene META1_0999 at 0x7f04f24c7358>,\n",
       " <Gene META1_5191 at 0x7f04f24c7390>,\n",
       " <Gene META1_1436 at 0x7f04f24c73c8>,\n",
       " <Gene META1_0232 at 0x7f04f24c7400>,\n",
       " <Gene META1_4888 at 0x7f04f24c7438>,\n",
       " <Gene META1_4876 at 0x7f04f24c7470>,\n",
       " <Gene META1_0774 at 0x7f04f24c74a8>,\n",
       " <Gene META1_3670 at 0x7f04f24c74e0>,\n",
       " <Gene META1_2563 at 0x7f04f24c7518>,\n",
       " <Gene META1_2562 at 0x7f04f24c7550>,\n",
       " <Gene META1_2565 at 0x7f04f24c7588>,\n",
       " <Gene META1_2564 at 0x7f04f24c75c0>,\n",
       " <Gene META1_2558 at 0x7f04f24c75f8>,\n",
       " <Gene META1_2566 at 0x7f04f24c7630>,\n",
       " <Gene META1_2568 at 0x7f04f24c7668>,\n",
       " <Gene META1_2567 at 0x7f04f24c76a0>,\n",
       " <Gene META1_2561 at 0x7f04f24c76d8>,\n",
       " <Gene META1_3168 at 0x7f04f24c7710>,\n",
       " <Gene META2_1135 at 0x7f04f24c7748>,\n",
       " <Gene META1_3173 at 0x7f04f24c7780>,\n",
       " <Gene META1_3529 at 0x7f04f24c77b8>,\n",
       " <Gene META1_0776 at 0x7f04f24c77f0>,\n",
       " <Gene META1_3655 at 0x7f04f24c7828>,\n",
       " <Gene META1_3910 at 0x7f04f24c7860>,\n",
       " <Gene META1_3700 at 0x7f04f24c7898>,\n",
       " <Gene META1_1545 at 0x7f04f24c78d0>,\n",
       " <Gene META1_1548 at 0x7f04f24c7908>,\n",
       " <Gene META1_4111 at 0x7f04f24c7940>,\n",
       " <Gene META1_4110 at 0x7f04f24c7978>,\n",
       " <Gene META1_4109 at 0x7f04f24c79b0>,\n",
       " <Gene META1_4108 at 0x7f04f24c79e8>,\n",
       " <Gene META1_1546 at 0x7f04f24c7a20>,\n",
       " <Gene META1_1547 at 0x7f04f24c7a58>,\n",
       " <Gene META1_0918 at 0x7f04f24c7a90>,\n",
       " <Gene META1_4943 at 0x7f04f24c7ac8>,\n",
       " <Gene META1_0920 at 0x7f04f24c7b00>,\n",
       " <Gene META1_4944 at 0x7f04f24c7b38>,\n",
       " <Gene META1_0919 at 0x7f04f24c7b70>,\n",
       " <Gene META1_4942 at 0x7f04f24c7ba8>,\n",
       " <Gene META1_1122 at 0x7f04f24c7be0>,\n",
       " <Gene META1_4733 at 0x7f04f24c7c18>,\n",
       " <Gene META1_4734 at 0x7f04f24c7c50>,\n",
       " <Gene META1_4206 at 0x7f04f24c7c88>,\n",
       " <Gene META1_1952 at 0x7f04f24c7cc0>,\n",
       " <Gene META2_1122 at 0x7f04f24c7cf8>,\n",
       " <Gene META1_0527 at 0x7f04f24c7d30>,\n",
       " <Gene META1_4732 at 0x7f04f24c7d68>,\n",
       " <Gene META1_4731 at 0x7f04f24c7da0>,\n",
       " <Gene META2_1123 at 0x7f04f24c7dd8>,\n",
       " <Gene META1_4205 at 0x7f04f24c7e10>,\n",
       " <Gene META1_1740 at 0x7f04f24c7e48>,\n",
       " <Gene META1_4538 at 0x7f04f24c7e80>,\n",
       " <Gene META1_4535 at 0x7f04f24c7eb8>,\n",
       " <Gene META1_3220 at 0x7f04f24c7ef0>,\n",
       " <Gene META1_1815 at 0x7f04f24c7f28>,\n",
       " <Gene META1_4618 at 0x7f04f24c7f60>,\n",
       " <Gene META1_0613 at 0x7f04f24c7f98>,\n",
       " <Gene META1_0426 at 0x7f04f24c7fd0>,\n",
       " <Gene META1_0027 at 0x7f04f24d7048>,\n",
       " <Gene META1_0049 at 0x7f04f24d7080>,\n",
       " <Gene META1_4890 at 0x7f04f24d70b8>,\n",
       " <Gene META1_2996 at 0x7f04f24d70f0>,\n",
       " <Gene META1_3206 at 0x7f04f24d7128>,\n",
       " <Gene META1_3197 at 0x7f04f24d7160>,\n",
       " <Gene META1_0363 at 0x7f04f24d7198>,\n",
       " <Gene META1_1539 at 0x7f04f24d71d0>,\n",
       " <Gene META1_1538 at 0x7f04f24d7208>,\n",
       " <Gene META1_0140 at 0x7f04f24d7240>,\n",
       " <Gene META1_2872 at 0x7f04f24d7278>,\n",
       " <Gene META1_3097 at 0x7f04f24d72b0>,\n",
       " <Gene META1_3660 at 0x7f04f24d72e8>,\n",
       " <Gene META1_2713 at 0x7f04f24d7320>,\n",
       " <Gene META1_0712 at 0x7f04f24d7358>,\n",
       " <Gene META1_3424 at 0x7f04f24d7390>,\n",
       " <Gene META1_1458 at 0x7f04f24d73c8>,\n",
       " <Gene META1_4867 at 0x7f04f24d7400>,\n",
       " <Gene META1_0425 at 0x7f04f24d7438>,\n",
       " <Gene META1_2531 at 0x7f04f24d7470>,\n",
       " <Gene META1_4877 at 0x7f04f24d74a8>,\n",
       " <Gene META1_2017 at 0x7f04f24d74e0>,\n",
       " <Gene META1_2533 at 0x7f04f24d7518>,\n",
       " <Gene META1_0927 at 0x7f04f24d7550>,\n",
       " <Gene META1_5125 at 0x7f04f24d7588>,\n",
       " <Gene META1_1486 at 0x7f04f24d75c0>,\n",
       " <Gene META1_5274 at 0x7f04f24d75f8>,\n",
       " <Gene META1_0184 at 0x7f04f24d7630>,\n",
       " <Gene META2_1058 at 0x7f04f24d7668>,\n",
       " <Gene META1_3217 at 0x7f04f24d76a0>,\n",
       " <Gene META1_3528 at 0x7f04f24d76d8>,\n",
       " <Gene META1_4700 at 0x7f04f24d7710>,\n",
       " <Gene META1_0772 at 0x7f04f24d7748>,\n",
       " <Gene META1_2843 at 0x7f04f24d7780>,\n",
       " <Gene META1_3049 at 0x7f04f24d77b8>,\n",
       " <Gene META1_5200 at 0x7f04f24d77f0>,\n",
       " <Gene META1_3806 at 0x7f04f24d7828>,\n",
       " <Gene META1_0387 at 0x7f04f24d7860>,\n",
       " <Gene META1_5124 at 0x7f04f24d7898>,\n",
       " <Gene META1_4996 at 0x7f04f24d78d0>,\n",
       " <Gene META1_2491 at 0x7f04f24d7908>,\n",
       " <Gene META1_5229 at 0x7f04f24d7940>,\n",
       " <Gene META1_3441 at 0x7f04f24d7978>,\n",
       " <Gene META1_3440 at 0x7f04f24d79b0>,\n",
       " <Gene META1_0498 at 0x7f04f24d79e8>,\n",
       " <Gene META1_2927 at 0x7f04f24d7a20>,\n",
       " <Gene META1_2929 at 0x7f04f24d7a58>,\n",
       " <Gene META1_2928 at 0x7f04f24d7a90>,\n",
       " <Gene META1_1961 at 0x7f04f24d7ac8>,\n",
       " <Gene META1_2053 at 0x7f04f24d7b00>,\n",
       " <Gene META1_2702 at 0x7f04f24d7b38>,\n",
       " <Gene META1_3915 at 0x7f04f24d7b70>,\n",
       " <Gene META1_3171 at 0x7f04f24d7ba8>,\n",
       " <Gene META1_5193 at 0x7f04f24d7be0>,\n",
       " <Gene META1_3072 at 0x7f04f24d7c18>,\n",
       " <Gene META1_3071 at 0x7f04f24d7c50>,\n",
       " <Gene META1_4094 at 0x7f04f24d7c88>,\n",
       " <Gene META1_5318 at 0x7f04f24d7cc0>,\n",
       " <Gene META1_1813 at 0x7f04f24d7cf8>,\n",
       " <Gene META1_4706 at 0x7f04f24d7d30>,\n",
       " <Gene META1_5143 at 0x7f04f24d7d68>,\n",
       " <Gene META1_3304 at 0x7f04f24d7da0>,\n",
       " <Gene META1_3861 at 0x7f04f24d7dd8>,\n",
       " <Gene META1_3859 at 0x7f04f24d7e10>,\n",
       " <Gene META1_3860 at 0x7f04f24d7e48>,\n",
       " <Gene META1_3863 at 0x7f04f24d7e80>,\n",
       " <Gene META1_3018 at 0x7f04f24d7eb8>,\n",
       " <Gene META1_3521 at 0x7f04f24d7ef0>,\n",
       " <Gene META1_0339 at 0x7f04f24d7f28>,\n",
       " <Gene META1_2334 at 0x7f04f24d7f60>,\n",
       " <Gene META1_2323 at 0x7f04f24d7f98>,\n",
       " <Gene META1_4985 at 0x7f04f24d7fd0>,\n",
       " <Gene META1_5100 at 0x7f04f2468048>,\n",
       " <Gene META1_3334 at 0x7f04f2468080>,\n",
       " <Gene META1_0028 at 0x7f04f24680b8>,\n",
       " <Gene META1_4916 at 0x7f04f24680f0>,\n",
       " <Gene META1_0427 at 0x7f04f2468128>,\n",
       " <Gene META1_3510 at 0x7f04f2468160>,\n",
       " <Gene META1_2518 at 0x7f04f2468198>,\n",
       " <Gene META1_2707 at 0x7f04f24681d0>,\n",
       " <Gene META1_5053 at 0x7f04f2468208>,\n",
       " <Gene META1_1363 at 0x7f04f2468240>,\n",
       " <Gene META1_1221 at 0x7f04f2468278>,\n",
       " <Gene META1_0424 at 0x7f04f24682b0>,\n",
       " <Gene META1_0010 at 0x7f04f24682e8>,\n",
       " <Gene META1_4360 at 0x7f04f2468320>,\n",
       " <Gene META1_4307 at 0x7f04f2468358>,\n",
       " <Gene META1_2299 at 0x7f04f2468390>,\n",
       " <Gene META1_2864 at 0x7f04f24683c8>,\n",
       " <Gene META1_3406 at 0x7f04f2468400>,\n",
       " <Gene META1_2749 at 0x7f04f2468438>,\n",
       " <Gene META1_2941 at 0x7f04f2468470>,\n",
       " <Gene META1_0768 at 0x7f04f24684a8>,\n",
       " <Gene META1_1893 at 0x7f04f24684e0>,\n",
       " <Gene META1_2896 at 0x7f04f2468518>,\n",
       " <Gene META1_2272 at 0x7f04f2468550>,\n",
       " <Gene META1_2601 at 0x7f04f2468588>,\n",
       " <Gene META1_2233 at 0x7f04f24685c0>,\n",
       " <Gene META1_4236 at 0x7f04f24685f8>,\n",
       " <Gene META2_0363 at 0x7f04f2468630>,\n",
       " <Gene META1_3632 at 0x7f04f2468668>,\n",
       " <Gene META1_2380 at 0x7f04f24686a0>,\n",
       " <Gene META1_1214 at 0x7f04f24686d8>,\n",
       " <Gene META1_2232 at 0x7f04f2468710>,\n",
       " <Gene META1_1733 at 0x7f04f2468748>,\n",
       " <Gene META1_2263 at 0x7f04f2468780>,\n",
       " <Gene META1_2857 at 0x7f04f24687b8>,\n",
       " <Gene META1_1338 at 0x7f04f24687f0>,\n",
       " <Gene META1_0805 at 0x7f04f2468828>,\n",
       " <Gene META1_2473 at 0x7f04f2468860>,\n",
       " <Gene META1_1760 at 0x7f04f2468898>,\n",
       " <Gene META2_0203 at 0x7f04f24688d0>,\n",
       " <Gene META1_2828 at 0x7f04f2468908>,\n",
       " <Gene META1_0535 at 0x7f04f2468940>,\n",
       " <Gene META1_5270 at 0x7f04f2468978>,\n",
       " <Gene META1_0682 at 0x7f04f24689b0>,\n",
       " <Gene META1_1469 at 0x7f04f24689e8>,\n",
       " <Gene META1_4319 at 0x7f04f2468a20>,\n",
       " <Gene META1_1968 at 0x7f04f2468a58>,\n",
       " <Gene META2_1124 at 0x7f04f2468a90>,\n",
       " <Gene META1_0249 at 0x7f04f2468ac8>,\n",
       " <Gene META1_5261 at 0x7f04f2468b00>,\n",
       " <Gene META1_0770 at 0x7f04f2468b38>,\n",
       " <Gene META1_0369 at 0x7f04f2468b70>,\n",
       " <Gene META1_2335 at 0x7f04f2468ba8>,\n",
       " <Gene META1_5279 at 0x7f04f2468be0>,\n",
       " <Gene META1_2367 at 0x7f04f2468c18>,\n",
       " <Gene META1_3601 at 0x7f04f2468c50>,\n",
       " <Gene META1_2883 at 0x7f04f2468c88>,\n",
       " <Gene META1_2624 at 0x7f04f2468cc0>,\n",
       " <Gene META1_2981 at 0x7f04f2468cf8>,\n",
       " <Gene META1_2008 at 0x7f04f2468d30>,\n",
       " <Gene META1_3682 at 0x7f04f2468d68>,\n",
       " <Gene META1_0559 at 0x7f04f2468da0>,\n",
       " <Gene META1_2956 at 0x7f04f2468dd8>,\n",
       " <Gene META1_2958 at 0x7f04f2468e10>,\n",
       " <Gene META1_2957 at 0x7f04f2468e48>,\n",
       " <Gene META1_1401 at 0x7f04f2468e80>,\n",
       " <Gene META1_0180 at 0x7f04f2468eb8>,\n",
       " <Gene META1_2714 at 0x7f04f2468ef0>,\n",
       " <Gene META1_3003 at 0x7f04f2468f28>,\n",
       " <Gene META1_1761 at 0x7f04f2468f60>,\n",
       " <Gene META1_1079 at 0x7f04f2468f98>,\n",
       " <Gene META1_4597 at 0x7f04f2468fd0>,\n",
       " <Gene META1_0419 at 0x7f04f2478048>,\n",
       " <Gene META1_4189 at 0x7f04f2478080>,\n",
       " <Gene META1_1376 at 0x7f04f24780b8>,\n",
       " <Gene META1_4122 at 0x7f04f24780f0>,\n",
       " <Gene META1_2924 at 0x7f04f2478128>,\n",
       " <Gene META1_1535 at 0x7f04f2478160>,\n",
       " <Gene META1_4794 at 0x7f04f2478198>,\n",
       " <Gene META1_0858 at 0x7f04f24781d0>,\n",
       " <Gene META1_0440 at 0x7f04f2478208>,\n",
       " <Gene META1_2863 at 0x7f04f2478240>,\n",
       " <Gene META1_0428 at 0x7f04f2478278>,\n",
       " <Gene META1_0864 at 0x7f04f24782b0>,\n",
       " <Gene META1_1217 at 0x7f04f24782e8>,\n",
       " <Gene META1_3370 at 0x7f04f2478320>,\n",
       " <Gene META1_2979 at 0x7f04f2478358>,\n",
       " <Gene META1_4201 at 0x7f04f2478390>,\n",
       " <Gene META1_3307 at 0x7f04f24783c8>,\n",
       " <Gene META1_3311 at 0x7f04f2478400>,\n",
       " <Gene META1_0131 at 0x7f04f2478438>,\n",
       " <Gene META1_0128 at 0x7f04f2478470>,\n",
       " <Gene META1_0130 at 0x7f04f24784a8>,\n",
       " <Gene META1_0594 at 0x7f04f24784e0>,\n",
       " <Gene META1_2035 at 0x7f04f2478518>,\n",
       " <Gene META1_5087 at 0x7f04f2478550>,\n",
       " <Gene META1_1527 at 0x7f04f2478588>,\n",
       " <Gene META1_4707 at 0x7f04f24785c0>,\n",
       " <Gene META1_2537 at 0x7f04f24785f8>,\n",
       " <Gene META1_1937 at 0x7f04f2478630>,\n",
       " <Gene META1_1936 at 0x7f04f2478668>,\n",
       " <Gene META1_2519 at 0x7f04f24786a0>,\n",
       " <Gene META1_2517 at 0x7f04f24786d8>,\n",
       " <Gene META1_2853 at 0x7f04f2478710>,\n",
       " <Gene META1_2045 at 0x7f04f2478748>,\n",
       " <Gene META1_3918 at 0x7f04f2478780>,\n",
       " <Gene META1_1385 at 0x7f04f24787b8>,\n",
       " <Gene META1_0037 at 0x7f04f24787f0>,\n",
       " <Gene META1_0991 at 0x7f04f2478828>,\n",
       " <Gene META1_4569 at 0x7f04f2478860>,\n",
       " <Gene META1_0377 at 0x7f04f2478898>,\n",
       " <Gene META1_4313 at 0x7f04f24788d0>,\n",
       " <Gene META1_2077 at 0x7f04f2478908>,\n",
       " <Gene META1_4955 at 0x7f04f2478940>,\n",
       " <Gene META1_4993 at 0x7f04f2478978>,\n",
       " <Gene META2_1226 at 0x7f04f24789b0>,\n",
       " <Gene META1_4469 at 0x7f04f24789e8>,\n",
       " <Gene META1_5043 at 0x7f04f2478a20>,\n",
       " <Gene META1_4694 at 0x7f04f2478a58>,\n",
       " <Gene META1_4598 at 0x7f04f2478a90>,\n",
       " <Gene META1_1822 at 0x7f04f2478ac8>,\n",
       " <Gene META1_3235 at 0x7f04f2478b00>,\n",
       " <Gene META1_2389 at 0x7f04f2478b38>,\n",
       " <Gene META1_4982 at 0x7f04f2478b70>,\n",
       " <Gene META1_1732 at 0x7f04f2478ba8>,\n",
       " <Gene META1_2060 at 0x7f04f2478be0>,\n",
       " <Gene META1_3203 at 0x7f04f2478c18>,\n",
       " <Gene META1_0172 at 0x7f04f2478c50>,\n",
       " <Gene META1_0050 at 0x7f04f2478c88>,\n",
       " <Gene META1_1337 at 0x7f04f2478cc0>,\n",
       " <Gene META1_1379 at 0x7f04f2478cf8>,\n",
       " <Gene META1_0329 at 0x7f04f2478d30>,\n",
       " <Gene META1_2327 at 0x7f04f2478d68>,\n",
       " <Gene META1_2836 at 0x7f04f2478da0>,\n",
       " <Gene META1_3613 at 0x7f04f2478dd8>,\n",
       " <Gene META1_2846 at 0x7f04f2478e10>,\n",
       " <Gene META1_3344 at 0x7f04f2478e48>,\n",
       " <Gene META1_0758 at 0x7f04f2478e80>,\n",
       " <Gene META1_4950 at 0x7f04f2478eb8>,\n",
       " <Gene META1_1862 at 0x7f04f2478ef0>,\n",
       " <Gene META2_0242 at 0x7f04f2478f28>,\n",
       " <Gene META1_2852 at 0x7f04f2478f60>,\n",
       " <Gene META1_5056 at 0x7f04f2478f98>,\n",
       " <Gene META1_0359 at 0x7f04f2478fd0>,\n",
       " <Gene META1_4683 at 0x7f04f2489048>,\n",
       " <Gene META1_1755 at 0x7f04f2489080>,\n",
       " <Gene META1_1756 at 0x7f04f24890b8>,\n",
       " <Gene META1_1758 at 0x7f04f24890f0>,\n",
       " <Gene META1_1757 at 0x7f04f2489128>,\n",
       " <Gene META1_4348 at 0x7f04f2489160>,\n",
       " <Gene META1_4346 at 0x7f04f2489198>,\n",
       " <Gene META1_4349 at 0x7f04f24891d0>,\n",
       " <Gene META1_4347 at 0x7f04f2489208>,\n",
       " <Gene META1_2351 at 0x7f04f2489240>,\n",
       " <Gene META1_4915 at 0x7f04f2489278>,\n",
       " <Gene META1_5263 at 0x7f04f24892b0>,\n",
       " <Gene META1_5249 at 0x7f04f24892e8>,\n",
       " <Gene META1_0556 at 0x7f04f2489320>,\n",
       " <Gene META1_4578 at 0x7f04f2489358>,\n",
       " <Gene META1_0619 at 0x7f04f2489390>,\n",
       " <Gene META1_0681 at 0x7f04f24893c8>,\n",
       " <Gene META1_4312 at 0x7f04f2489400>,\n",
       " <Gene META1_2520 at 0x7f04f2489438>,\n",
       " <Gene META1_1439 at 0x7f04f2489470>,\n",
       " <Gene META1_3373 at 0x7f04f24894a8>,\n",
       " <Gene META1_1415 at 0x7f04f24894e0>,\n",
       " <Gene META1_2118 at 0x7f04f2489518>,\n",
       " <Gene META1_0830 at 0x7f04f2489550>,\n",
       " <Gene META1_1529 at 0x7f04f2489588>,\n",
       " <Gene META1_2507 at 0x7f04f24895c0>,\n",
       " <Gene META1_2054 at 0x7f04f24895f8>,\n",
       " <Gene META1_1336 at 0x7f04f2489630>,\n",
       " <Gene META1_1490 at 0x7f04f2489668>,\n",
       " <Gene META1_0233 at 0x7f04f24896a0>,\n",
       " <Gene META1_4118 at 0x7f04f24896d8>,\n",
       " <Gene META1_5136 at 0x7f04f2489710>,\n",
       " <Gene META1_1985 at 0x7f04f2489748>,\n",
       " <Gene META1_0773 at 0x7f04f2489780>,\n",
       " <Gene META1_2086 at 0x7f04f24897b8>,\n",
       " <Gene META1_5221 at 0x7f04f24897f0>,\n",
       " <Gene META1_2369 at 0x7f04f2489828>,\n",
       " <Gene META1_4723 at 0x7f04f2489860>,\n",
       " <Gene META1_4546 at 0x7f04f2489898>,\n",
       " <Gene META1_5084 at 0x7f04f24898d0>,\n",
       " <Gene META1_1116 at 0x7f04f2489908>,\n",
       " <Gene META1_2472 at 0x7f04f2489940>,\n",
       " <Gene META1_4686 at 0x7f04f2489978>,\n",
       " <Gene META1_1218 at 0x7f04f24899b0>,\n",
       " <Gene META1_1763 at 0x7f04f24899e8>,\n",
       " <Gene META1_1866 at 0x7f04f2489a20>,\n",
       " <Gene META1_5284 at 0x7f04f2489a58>,\n",
       " <Gene META1_4303 at 0x7f04f2489a90>,\n",
       " <Gene META1_4633 at 0x7f04f2489ac8>,\n",
       " <Gene META1_2230 at 0x7f04f2489b00>,\n",
       " <Gene META1_2848 at 0x7f04f2489b38>,\n",
       " <Gene META1_2137 at 0x7f04f2489b70>,\n",
       " <Gene META1_4277 at 0x7f04f2489ba8>,\n",
       " <Gene META1_5245 at 0x7f04f2489be0>,\n",
       " <Gene META1_2977 at 0x7f04f2489c18>,\n",
       " <Gene META1_1819 at 0x7f04f2489c50>,\n",
       " <Gene META1_5086 at 0x7f04f2489c88>,\n",
       " <Gene META1_2969 at 0x7f04f2489cc0>,\n",
       " <Gene META1_4465 at 0x7f04f2489cf8>,\n",
       " <Gene META1_3472 at 0x7f04f2489d30>,\n",
       " <Gene META1_5182 at 0x7f04f2489d68>,\n",
       " <Gene META1_4920 at 0x7f04f2489da0>,\n",
       " <Gene META1_4341 at 0x7f04f2489dd8>,\n",
       " <Gene META1_0733 at 0x7f04f2489e10>,\n",
       " <Gene META1_3063 at 0x7f04f2489e48>,\n",
       " <Gene META1_3015 at 0x7f04f2489e80>,\n",
       " <Gene META1_1654 at 0x7f04f2489eb8>,\n",
       " <Gene META1_3923 at 0x7f04f2489ef0>,\n",
       " <Gene META1_4523 at 0x7f04f2489f28>,\n",
       " <Gene META1_5250 at 0x7f04f2489f60>,\n",
       " <Gene META1_4124 at 0x7f04f2489f98>,\n",
       " <Gene META1_1685 at 0x7f04f2489fd0>,\n",
       " <Gene META1_3413 at 0x7f04f2498048>,\n",
       " <Gene META1_0105 at 0x7f04f2498080>,\n",
       " <Gene META1_0486 at 0x7f04f24980b8>,\n",
       " <Gene META1_1891 at 0x7f04f24980f0>,\n",
       " <Gene META1_2128 at 0x7f04f2498128>,\n",
       " <Gene META1_0207 at 0x7f04f2498160>,\n",
       " <Gene META1_3265 at 0x7f04f2498198>,\n",
       " <Gene META1_2989 at 0x7f04f24981d0>,\n",
       " <Gene META1_2986 at 0x7f04f2498208>,\n",
       " <Gene META1_2990 at 0x7f04f2498240>,\n",
       " <Gene META1_2987 at 0x7f04f2498278>,\n",
       " <Gene META1_0796 at 0x7f04f24982b0>,\n",
       " <Gene META1_5269 at 0x7f04f24982e8>,\n",
       " <Gene META1_3563 at 0x7f04f2498320>,\n",
       " <Gene META1_0023 at 0x7f04f2498358>,\n",
       " <Gene META1_0024 at 0x7f04f2498390>,\n",
       " <Gene META1_0026 at 0x7f04f24983c8>,\n",
       " <Gene META1_0025 at 0x7f04f2498400>,\n",
       " <Gene META1_4726 at 0x7f04f2498438>,\n",
       " <Gene META1_2917 at 0x7f04f2498470>,\n",
       " <Gene META1_0732 at 0x7f04f24984a8>,\n",
       " <Gene META1_0103 at 0x7f04f24984e0>,\n",
       " <Gene META1_0102 at 0x7f04f2498518>,\n",
       " <Gene META1_1666 at 0x7f04f2498550>,\n",
       " <Gene META1_4720 at 0x7f04f2498588>,\n",
       " <Gene META1_1858 at 0x7f04f24985c0>,\n",
       " <Gene META1_2934 at 0x7f04f24985f8>,\n",
       " <Gene META1_5268 at 0x7f04f2498630>,\n",
       " <Gene META1_5267 at 0x7f04f2498668>,\n",
       " <Gene META1_2931 at 0x7f04f24986a0>,\n",
       " <Gene META1_2933 at 0x7f04f24986d8>,\n",
       " <Gene META1_2932 at 0x7f04f2498710>,\n",
       " <Gene META1_2935 at 0x7f04f2498748>,\n",
       " <Gene META1_4692 at 0x7f04f2498780>,\n",
       " <Gene META1_2302 at 0x7f04f24987b8>,\n",
       " <Gene META1_1932 at 0x7f04f24987f0>,\n",
       " <Gene META1_3150 at 0x7f04f2498828>,\n",
       " <Gene META1_1990 at 0x7f04f2498860>,\n",
       " <Gene META1_3387 at 0x7f04f2498898>,\n",
       " <Gene META1_1361 at 0x7f04f24988d0>,\n",
       " <Gene META1_3389 at 0x7f04f2498908>,\n",
       " <Gene META1_1360 at 0x7f04f2498940>,\n",
       " <Gene META1_3385 at 0x7f04f2498978>,\n",
       " <Gene META1_1362 at 0x7f04f24989b0>,\n",
       " <Gene META1_3388 at 0x7f04f24989e8>,\n",
       " <Gene META1_1357 at 0x7f04f2498a20>,\n",
       " <Gene META1_3386 at 0x7f04f2498a58>,\n",
       " <Gene META1_1359 at 0x7f04f2498a90>,\n",
       " <Gene META1_2668 at 0x7f04f2498ac8>,\n",
       " <Gene META1_2508 at 0x7f04f2498b00>,\n",
       " <Gene META1_5055 at 0x7f04f2498b38>,\n",
       " <Gene META1_3362 at 0x7f04f2498b70>,\n",
       " <Gene META1_3547 at 0x7f04f2498ba8>,\n",
       " <Gene META1_5120 at 0x7f04f2498be0>,\n",
       " <Gene META1_5134 at 0x7f04f2498c18>,\n",
       " <Gene META1_4098 at 0x7f04f2498c50>,\n",
       " <Gene META1_2379 at 0x7f04f2498c88>,\n",
       " <Gene META1_2378 at 0x7f04f2498cc0>,\n",
       " <Gene META1_1553 at 0x7f04f2498cf8>,\n",
       " <Gene META1_0628 at 0x7f04f2498d30>,\n",
       " <Gene META1_2036 at 0x7f04f2498d68>,\n",
       " <Gene META1_3004 at 0x7f04f2498da0>,\n",
       " <Gene META1_0670 at 0x7f04f2498dd8>,\n",
       " <Gene META1_1701 at 0x7f04f2498e10>,\n",
       " <Gene META1_1735 at 0x7f04f2498e48>,\n",
       " <Gene META1_4722 at 0x7f04f2498e80>,\n",
       " <Gene META1_4490 at 0x7f04f2498eb8>,\n",
       " <Gene META1_3028 at 0x7f04f2498ef0>,\n",
       " <Gene META1_0992 at 0x7f04f2498f28>,\n",
       " <Gene META1_2127 at 0x7f04f2498f60>,\n",
       " <Gene META1_0798 at 0x7f04f2498f98>,\n",
       " <Gene META1_0993 at 0x7f04f2498fd0>,\n",
       " <Gene META1_1925 at 0x7f04f2429048>,\n",
       " <Gene META1_3219 at 0x7f04f2429080>,\n",
       " <Gene META1_2835 at 0x7f04f24290b8>,\n",
       " <Gene META1_0671 at 0x7f04f24290f0>,\n",
       " <Gene META1_0437 at 0x7f04f2429128>,\n",
       " <Gene META1_2515 at 0x7f04f2429160>,\n",
       " <Gene META1_3354 at 0x7f04f2429198>,\n",
       " <Gene META1_2830 at 0x7f04f24291d0>,\n",
       " <Gene META1_1440 at 0x7f04f2429208>,\n",
       " <Gene META1_3626 at 0x7f04f2429240>,\n",
       " <Gene META1_2294 at 0x7f04f2429278>,\n",
       " <Gene META1_5048 at 0x7f04f24292b0>,\n",
       " <Gene META1_3456 at 0x7f04f24292e8>,\n",
       " <Gene META1_4494 at 0x7f04f2429320>,\n",
       " <Gene META1_3748 at 0x7f04f2429358>,\n",
       " <Gene META1_2059 at 0x7f04f2429390>,\n",
       " <Gene META1_0412 at 0x7f04f24293c8>,\n",
       " <Gene META1_5325 at 0x7f04f2429400>,\n",
       " <Gene META1_5115 at 0x7f04f2429438>,\n",
       " <Gene META1_5192 at 0x7f04f2429470>,\n",
       " <Gene META1_2088 at 0x7f04f24294a8>,\n",
       " <Gene META1_4841 at 0x7f04f24294e0>,\n",
       " <Gene META1_1441 at 0x7f04f2429518>,\n",
       " <Gene META1_5176 at 0x7f04f2429550>,\n",
       " <Gene META1_2904 at 0x7f04f2429588>,\n",
       " <Gene META1_4153 at 0x7f04f24295c0>,\n",
       " <Gene META1_4881 at 0x7f04f24295f8>,\n",
       " <Gene META1_5174 at 0x7f04f2429630>,\n",
       " <Gene META1_0616 at 0x7f04f2429668>,\n",
       " <Gene META1_1139 at 0x7f04f24296a0>,\n",
       " <Gene META1_2030 at 0x7f04f24296d8>,\n",
       " <Gene META1_3503 at 0x7f04f2429710>,\n",
       " <Gene META1_1009 at 0x7f04f2429748>,\n",
       " <Gene META1_0283 at 0x7f04f2429780>,\n",
       " <Gene META1_4393 at 0x7f04f24297b8>,\n",
       " <Gene META1_4281 at 0x7f04f24297f0>,\n",
       " <Gene META1_0148 at 0x7f04f2429828>,\n",
       " <Gene META1_2016 at 0x7f04f2429860>,\n",
       " <Gene META1_5070 at 0x7f04f2429898>,\n",
       " <Gene META1_3485 at 0x7f04f24298d0>,\n",
       " <Gene META1_0204 at 0x7f04f2429908>,\n",
       " <Gene META1_3894 at 0x7f04f2429940>,\n",
       " <Gene META1_2345 at 0x7f04f2429978>,\n",
       " <Gene META1_3174 at 0x7f04f24299b0>,\n",
       " <Gene META1_0892 at 0x7f04f24299e8>,\n",
       " <Gene META1_4112 at 0x7f04f2429a20>,\n",
       " <Gene META1_3512 at 0x7f04f2429a58>,\n",
       " <Gene META1_4940 at 0x7f04f2429a90>,\n",
       " <Gene META1_3155 at 0x7f04f2429ac8>,\n",
       " <Gene META1_2909 at 0x7f04f2429b00>,\n",
       " <Gene META1_2908 at 0x7f04f2429b38>,\n",
       " <Gene META1_3465 at 0x7f04f2429b70>,\n",
       " <Gene META1_1494 at 0x7f04f2429ba8>,\n",
       " <Gene META1_0977 at 0x7f04f2429be0>,\n",
       " <Gene META1_1073 at 0x7f04f2429c18>,\n",
       " <Gene META1_0976 at 0x7f04f2429c50>,\n",
       " <Gene META1_3224 at 0x7f04f2429c88>,\n",
       " <Gene META1_1075 at 0x7f04f2429cc0>,\n",
       " <Gene META1_0975 at 0x7f04f2429cf8>,\n",
       " <Gene META1_3227 at 0x7f04f2429d30>,\n",
       " <Gene META1_1169 at 0x7f04f2429d68>,\n",
       " <Gene META1_1533 at 0x7f04f2429da0>,\n",
       " <Gene META1_5307 at 0x7f04f2429dd8>,\n",
       " <Gene META1_4647 at 0x7f04f2429e10>,\n",
       " <Gene META1_0751 at 0x7f04f2429e48>,\n",
       " <Gene META1_0953 at 0x7f04f2429e80>,\n",
       " <Gene META1_1278 at 0x7f04f2429eb8>,\n",
       " <Gene META1_2100 at 0x7f04f2429ef0>,\n",
       " <Gene META1_1433 at 0x7f04f2429f28>,\n",
       " <Gene META1_0335 at 0x7f04f2429f60>,\n",
       " <Gene META1_2031 at 0x7f04f2429f98>,\n",
       " <Gene META1_2297 at 0x7f04f2429fd0>,\n",
       " <Gene META1_0175 at 0x7f04f2439048>,\n",
       " <Gene META1_1745 at 0x7f04f2439080>,\n",
       " <Gene META1_2228 at 0x7f04f24390b8>,\n",
       " <Gene META1_2229 at 0x7f04f24390f0>,\n",
       " <Gene META1_1325 at 0x7f04f2439128>,\n",
       " <Gene META1_4800 at 0x7f04f2439160>,\n",
       " <Gene META1_0186 at 0x7f04f2439198>,\n",
       " <Gene META1_4039 at 0x7f04f24391d0>,\n",
       " <Gene META1_2397 at 0x7f04f2439208>,\n",
       " <Gene META1_2101 at 0x7f04f2439240>,\n",
       " <Gene META2_0462 at 0x7f04f2439278>,\n",
       " <Gene META1_0109 at 0x7f04f24392b0>,\n",
       " <Gene META1_5173 at 0x7f04f24392e8>,\n",
       " <Gene META1_2944 at 0x7f04f2439320>,\n",
       " <Gene META1_2065 at 0x7f04f2439358>,\n",
       " <Gene META1_1503 at 0x7f04f2439390>,\n",
       " <Gene META1_2129 at 0x7f04f24393c8>,\n",
       " <Gene META1_1726 at 0x7f04f2439400>,\n",
       " <Gene META1_4592 at 0x7f04f2439438>,\n",
       " <Gene META1_1766 at 0x7f04f2439470>,\n",
       " <Gene META1_3675 at 0x7f04f24394a8>,\n",
       " <Gene META1_2085 at 0x7f04f24394e0>,\n",
       " <Gene META1_1365 at 0x7f04f2439518>,\n",
       " <Gene META1_4626 at 0x7f04f2439550>,\n",
       " <Gene META2_0144 at 0x7f04f2439588>,\n",
       " <Gene META2_0145 at 0x7f04f24395c0>,\n",
       " <Gene META1_4396 at 0x7f04f24395f8>,\n",
       " <Gene META1_0383 at 0x7f04f2439630>,\n",
       " <Gene META1_3807 at 0x7f04f2439668>,\n",
       " <Gene META1_5323 at 0x7f04f24396a0>,\n",
       " <Gene META1_5051 at 0x7f04f24396d8>,\n",
       " <Gene META1_5321 at 0x7f04f2439710>,\n",
       " <Gene META1_1941 at 0x7f04f2439748>,\n",
       " <Gene META1_1389 at 0x7f04f2439780>,\n",
       " <Gene META1_2837 at 0x7f04f24397b8>,\n",
       " <Gene META1_5165 at 0x7f04f24397f0>,\n",
       " <Gene META1_5164 at 0x7f04f2439828>,\n",
       " <Gene META1_5166 at 0x7f04f2439860>,\n",
       " <Gene META1_5167 at 0x7f04f2439898>,\n",
       " <Gene META1_0429 at 0x7f04f24398d0>,\n",
       " <Gene META1_3795 at 0x7f04f2439908>,\n",
       " <Gene META1_3856 at 0x7f04f2439940>,\n",
       " <Gene META1_3073 at 0x7f04f2439978>,\n",
       " <Gene META1_3768 at 0x7f04f24399b0>,\n",
       " <Gene META1_0746 at 0x7f04f24399e8>,\n",
       " <Gene META1_0013 at 0x7f04f2439a20>,\n",
       " <Gene META1_0862 at 0x7f04f2439a58>,\n",
       " <Gene META1_0957 at 0x7f04f2439a90>,\n",
       " <Gene META1_4216 at 0x7f04f2439ac8>,\n",
       " <Gene META1_4215 at 0x7f04f2439b00>,\n",
       " <Gene META1_0392 at 0x7f04f2439b38>,\n",
       " <Gene META1_3131 at 0x7f04f2439b70>,\n",
       " <Gene META1_3133 at 0x7f04f2439ba8>,\n",
       " <Gene META1_3132 at 0x7f04f2439be0>,\n",
       " <Gene META1_4214 at 0x7f04f2439c18>,\n",
       " <Gene META1_0391 at 0x7f04f2439c50>,\n",
       " <Gene META1_0340 at 0x7f04f2439c88>,\n",
       " <Gene META1_0379 at 0x7f04f2439cc0>,\n",
       " <Gene META1_4995 at 0x7f04f2439cf8>,\n",
       " <Gene META1_4994 at 0x7f04f2439d30>,\n",
       " <Gene META1_5297 at 0x7f04f2439d68>,\n",
       " <Gene META1_4311 at 0x7f04f2439da0>,\n",
       " <Gene META1_0839 at 0x7f04f2439dd8>,\n",
       " <Gene META1_0303 at 0x7f04f2439e10>,\n",
       " <Gene META1_0305 at 0x7f04f2439e48>,\n",
       " <Gene META1_0304 at 0x7f04f2439e80>,\n",
       " <Gene META1_4260 at 0x7f04f2439eb8>,\n",
       " <Gene META1_0666 at 0x7f04f2439ef0>,\n",
       " <Gene META1_1744 at 0x7f04f2439f28>,\n",
       " <Gene META1_2244 at 0x7f04f2439f60>,\n",
       " <Gene META1_3192 at 0x7f04f2439f98>,\n",
       " <Gene META1_3351 at 0x7f04f2439fd0>,\n",
       " <Gene META1_4452 at 0x7f04f2449048>,\n",
       " <Gene META1_2070 at 0x7f04f2449080>,\n",
       " <Gene META1_2984 at 0x7f04f24490b8>,\n",
       " <Gene META1_3809 at 0x7f04f24490f0>,\n",
       " <Gene META1_3384 at 0x7f04f2449128>,\n",
       " <Gene META1_0188 at 0x7f04f2449160>,\n",
       " <Gene META1_5251 at 0x7f04f2449198>,\n",
       " <Gene META1_2390 at 0x7f04f24491d0>,\n",
       " <Gene META1_3078 at 0x7f04f2449208>,\n",
       " <Gene META1_3701 at 0x7f04f2449240>,\n",
       " <Gene META1_0926 at 0x7f04f2449278>,\n",
       " <Gene META1_4879 at 0x7f04f24492b0>,\n",
       " <Gene META1_0624 at 0x7f04f24492e8>,\n",
       " <Gene META1_2044 at 0x7f04f2449320>,\n",
       " <Gene META1_5098 at 0x7f04f2449358>,\n",
       " <Gene META1_0147 at 0x7f04f2449390>,\n",
       " <Gene META1_0141 at 0x7f04f24493c8>,\n",
       " <Gene META1_2395 at 0x7f04f2449400>,\n",
       " <Gene META1_4041 at 0x7f04f2449438>,\n",
       " <Gene META1_3124 at 0x7f04f2449470>,\n",
       " <Gene META1_3125 at 0x7f04f24494a8>,\n",
       " <Gene META2_0360 at 0x7f04f24494e0>,\n",
       " <Gene META2_1233 at 0x7f04f2449518>,\n",
       " <Gene META1_4121 at 0x7f04f2449550>,\n",
       " <Gene META1_4284 at 0x7f04f2449588>,\n",
       " <Gene META1_4283 at 0x7f04f24495c0>,\n",
       " <Gene META1_3486 at 0x7f04f24495f8>,\n",
       " <Gene META1_2867 at 0x7f04f2449630>,\n",
       " <Gene META1_1390 at 0x7f04f2449668>,\n",
       " <Gene META1_1446 at 0x7f04f24496a0>,\n",
       " <Gene META1_3668 at 0x7f04f24496d8>,\n",
       " <Gene META1_3299 at 0x7f04f2449710>,\n",
       " <Gene META1_4338 at 0x7f04f2449748>,\n",
       " <Gene META1_0545 at 0x7f04f2449780>,\n",
       " <Gene META1_5110 at 0x7f04f24497b8>,\n",
       " <Gene META1_2496 at 0x7f04f24497f0>,\n",
       " <Gene META1_4849 at 0x7f04f2449828>,\n",
       " <Gene META1_2093 at 0x7f04f2449860>,\n",
       " <Gene META1_4848 at 0x7f04f2449898>,\n",
       " <Gene META1_4847 at 0x7f04f24498d0>,\n",
       " <Gene META1_4846 at 0x7f04f2449908>,\n",
       " <Gene META1_5031 at 0x7f04f2449940>,\n",
       " <Gene META1_5032 at 0x7f04f2449978>,\n",
       " <Gene META1_2094 at 0x7f04f24499b0>,\n",
       " <Gene META1_1485 at 0x7f04f24499e8>,\n",
       " <Gene META1_2264 at 0x7f04f2449a20>,\n",
       " <Gene META1_2983 at 0x7f04f2449a58>,\n",
       " <Gene META2_0163 at 0x7f04f2449a90>,\n",
       " <Gene META1_4596 at 0x7f04f2449ac8>,\n",
       " <Gene META1_3705 at 0x7f04f2449b00>,\n",
       " <Gene META1_2024 at 0x7f04f2449b38>,\n",
       " <Gene META1_0286 at 0x7f04f2449b70>,\n",
       " <Gene META1_5085 at 0x7f04f2449ba8>,\n",
       " <Gene META1_2510 at 0x7f04f2449be0>,\n",
       " <Gene META1_2509 at 0x7f04f2449c18>,\n",
       " <Gene META1_2511 at 0x7f04f2449c50>,\n",
       " <Gene META1_1653 at 0x7f04f2449c88>,\n",
       " <Gene META1_3348 at 0x7f04f2449cc0>,\n",
       " <Gene META1_4939 at 0x7f04f2449cf8>,\n",
       " <Gene META1_5117 at 0x7f04f2449d30>,\n",
       " <Gene META1_5119 at 0x7f04f2449d68>,\n",
       " <Gene META1_2223 at 0x7f04f2449da0>,\n",
       " <Gene META2_0871 at 0x7f04f2449dd8>,\n",
       " <Gene META1_0202 at 0x7f04f2449e10>,\n",
       " <Gene META1_4275 at 0x7f04f2449e48>,\n",
       " <Gene META1_4291 at 0x7f04f2449e80>,\n",
       " <Gene META1_1964 at 0x7f04f2449eb8>,\n",
       " <Gene META1_3151 at 0x7f04f2449ef0>,\n",
       " <Gene META1_4455 at 0x7f04f2449f28>,\n",
       " <Gene META1_2360 at 0x7f04f2449f60>,\n",
       " <Gene META1_1978 at 0x7f04f2449f98>,\n",
       " <Gene META1_5011 at 0x7f04f2449fd0>,\n",
       " <Gene META1_1927 at 0x7f04f245a048>,\n",
       " <Gene META1_1926 at 0x7f04f245a080>,\n",
       " <Gene META1_0849 at 0x7f04f245a0b8>,\n",
       " <Gene META1_0854 at 0x7f04f245a0f0>,\n",
       " <Gene META1_0845 at 0x7f04f245a128>,\n",
       " <Gene META1_0844 at 0x7f04f245a160>,\n",
       " <Gene META1_0871 at 0x7f04f245a198>,\n",
       " <Gene META1_0847 at 0x7f04f245a1d0>,\n",
       " <Gene META1_0851 at 0x7f04f245a208>,\n",
       " <Gene META1_0852 at 0x7f04f245a240>,\n",
       " <Gene META1_0850 at 0x7f04f245a278>,\n",
       " <Gene META1_0855 at 0x7f04f245a2b0>,\n",
       " <Gene META1_0842 at 0x7f04f245a2e8>,\n",
       " <Gene META1_0853 at 0x7f04f245a320>,\n",
       " <Gene META1_0846 at 0x7f04f245a358>,\n",
       " <Gene META1_0843 at 0x7f04f245a390>,\n",
       " <Gene META1_0848 at 0x7f04f245a3c8>,\n",
       " <Gene META1_1986 at 0x7f04f245a400>,\n",
       " <Gene META1_2521 at 0x7f04f245a438>,\n",
       " <Gene META1_1411 at 0x7f04f245a470>,\n",
       " <Gene META1_4627 at 0x7f04f245a4a8>,\n",
       " <Gene META1_0077 at 0x7f04f245a4e0>,\n",
       " <Gene META1_1981 at 0x7f04f245a518>,\n",
       " <Gene META1_1161 at 0x7f04f245a550>,\n",
       " <Gene META1_1160 at 0x7f04f245a588>,\n",
       " <Gene META1_5180 at 0x7f04f245a5c0>,\n",
       " <Gene META1_3060 at 0x7f04f245a5f8>,\n",
       " <Gene META1_3766 at 0x7f04f245a630>,\n",
       " <Gene META1_1465 at 0x7f04f245a668>,\n",
       " <Gene META1_4249 at 0x7f04f245a6a0>,\n",
       " <Gene META1_3654 at 0x7f04f245a6d8>,\n",
       " <Gene META1_1718 at 0x7f04f245a710>,\n",
       " <Gene META1_2123 at 0x7f04f245a748>,\n",
       " <Gene META1_4099 at 0x7f04f245a780>,\n",
       " <Gene META1_3866 at 0x7f04f245a7b8>,\n",
       " <Gene META1_1863 at 0x7f04f245a7f0>,\n",
       " <Gene META1_5283 at 0x7f04f245a828>,\n",
       " <Gene META1_5129 at 0x7f04f245a860>,\n",
       " <Gene META1_3694 at 0x7f04f245a898>,\n",
       " <Gene META1_1537 at 0x7f04f245a8d0>,\n",
       " <Gene META1_0837 at 0x7f04f245a908>,\n",
       " <Gene META1_1419 at 0x7f04f245a940>,\n",
       " <Gene META1_3487 at 0x7f04f245a978>,\n",
       " <Gene META1_3787 at 0x7f04f245a9b0>,\n",
       " <Gene META1_4840 at 0x7f04f245a9e8>,\n",
       " <Gene META1_2394 at 0x7f04f245aa20>,\n",
       " <Gene META1_2396 at 0x7f04f245aa58>,\n",
       " <Gene META1_4040 at 0x7f04f245aa90>,\n",
       " <Gene META1_4042 at 0x7f04f245aac8>,\n",
       " <Gene META1_2831 at 0x7f04f245ab00>,\n",
       " <Gene META1_0615 at 0x7f04f245ab38>,\n",
       " <Gene META1_1493 at 0x7f04f245ab70>,\n",
       " <Gene META1_1727 at 0x7f04f245aba8>,\n",
       " <Gene META1_0866 at 0x7f04f245abe0>,\n",
       " <Gene META1_0865 at 0x7f04f245ac18>,\n",
       " <Gene META1_4889 at 0x7f04f245ac50>,\n",
       " <Gene META1_5183 at 0x7f04f245ac88>,\n",
       " <Gene META1_2868 at 0x7f04f245acc0>,\n",
       " <Gene META1_1928 at 0x7f04f245acf8>,\n",
       " <Gene META1_1207 at 0x7f04f245ad30>,\n",
       " <Gene META1_2476 at 0x7f04f245ad68>,\n",
       " <Gene META1_4209 at 0x7f04f245ada0>,\n",
       " <Gene META1_2069 at 0x7f04f245add8>,\n",
       " <Gene META1_4394 at 0x7f04f245ae10>,\n",
       " <Gene META1_2004 at 0x7f04f245ae48>,\n",
       " <Gene META1_1851 at 0x7f04f245ae80>,\n",
       " <Gene META1_3524 at 0x7f04f245aeb8>,\n",
       " <Gene META1_4217 at 0x7f04f245aef0>,\n",
       " <Gene META1_1730 at 0x7f04f245af28>,\n",
       " <Gene META1_1731 at 0x7f04f245af60>,\n",
       " <Gene META1_1455 at 0x7f04f245af98>,\n",
       " <Gene META1_4244 at 0x7f04f245afd0>,\n",
       " <Gene META1_3081 at 0x7f04f23ea048>,\n",
       " <Gene META1_1526 at 0x7f04f23ea080>,\n",
       " <Gene META1_1399 at 0x7f04f23ea0b8>,\n",
       " <Gene META1_3858 at 0x7f04f23ea0f0>,\n",
       " <Gene META1_0541 at 0x7f04f23ea128>,\n",
       " <Gene META1_3147 at 0x7f04f23ea160>,\n",
       " <Gene META1_2377 at 0x7f04f23ea198>,\n",
       " <Gene META1_5127 at 0x7f04f23ea1d0>,\n",
       " <Gene META1_0521 at 0x7f04f23ea208>,\n",
       " <Gene META1_3403 at 0x7f04f23ea240>,\n",
       " <Gene META1_2966 at 0x7f04f23ea278>,\n",
       " <Gene META1_3428 at 0x7f04f23ea2b0>,\n",
       " <Gene META1_0012 at 0x7f04f23ea2e8>,\n",
       " <Gene META1_0029 at 0x7f04f23ea320>,\n",
       " <Gene META1_0376 at 0x7f04f23ea358>,\n",
       " <Gene META1_0898 at 0x7f04f23ea390>,\n",
       " <Gene META1_0940 at 0x7f04f23ea3c8>,\n",
       " <Gene META1_1167 at 0x7f04f23ea400>,\n",
       " <Gene META1_3433 at 0x7f04f23ea438>,\n",
       " <Gene META1_2899 at 0x7f04f23ea470>,\n",
       " <Gene META1_4594 at 0x7f04f23ea4a8>,\n",
       " <Gene META1_0921 at 0x7f04f23ea4e0>,\n",
       " <Gene META1_3380 at 0x7f04f23ea518>,\n",
       " <Gene META1_3375 at 0x7f04f23ea550>,\n",
       " <Gene CQW49_12415 at 0x7f04f23ea588>,\n",
       " <Gene CQW49_18630 at 0x7f04f23ea5c0>,\n",
       " <Gene CQW49_15500 at 0x7f04f23ea5f8>,\n",
       " <Gene CQW49_04960 at 0x7f04f23ea630>,\n",
       " <Gene CQW49_16590 at 0x7f04f23ea668>,\n",
       " <Gene CQW49_11000 at 0x7f04f23ea6a0>,\n",
       " <Gene CQW49_11850 at 0x7f04f23ea6d8>,\n",
       " <Gene CQW49_15495 at 0x7f04f23ea710>,\n",
       " <Gene CQW49_06775 at 0x7f04f23ea748>,\n",
       " <Gene CQW49_10865 at 0x7f04f23ea780>,\n",
       " <Gene CQW49_04360 at 0x7f04f23ea7b8>,\n",
       " <Gene CQW49_02410 at 0x7f04f23ea7f0>,\n",
       " <Gene CQW49_10060 at 0x7f04f23ea828>,\n",
       " <Gene CQW49_02780 at 0x7f04f23ea860>,\n",
       " <Gene CQW49_14410 at 0x7f04f23ea898>,\n",
       " <Gene CQW49_10310 at 0x7f04f23ea8d0>,\n",
       " <Gene CQW49_00280 at 0x7f04f23ea908>,\n",
       " <Gene CQW49_08845 at 0x7f04f23ea940>,\n",
       " <Gene CQW49_09025 at 0x7f04f23ea978>,\n",
       " <Gene CQW49_06200 at 0x7f04f23ea9b0>,\n",
       " <Gene CQW49_10320 at 0x7f04f23ea9e8>,\n",
       " <Gene CQW49_20380 at 0x7f04f23eaa20>,\n",
       " <Gene CQW49_04590 at 0x7f04f23eaa58>,\n",
       " <Gene CQW49_12725 at 0x7f04f23eaa90>,\n",
       " <Gene CQW49_09430 at 0x7f04f23eaac8>,\n",
       " <Gene CQW49_15765 at 0x7f04f23eab00>,\n",
       " <Gene CQW49_00950 at 0x7f04f23eab38>,\n",
       " <Gene CQW49_16140 at 0x7f04f23eab70>,\n",
       " <Gene CQW49_04355 at 0x7f04f23eaba8>,\n",
       " <Gene CQW49_17840 at 0x7f04f23eabe0>,\n",
       " <Gene CQW49_20340 at 0x7f04f23eac18>,\n",
       " <Gene CQW49_11775 at 0x7f04f23eac50>,\n",
       " <Gene CQW49_02675 at 0x7f04f23eac88>,\n",
       " <Gene CQW49_09915 at 0x7f04f23eacc0>,\n",
       " <Gene CQW49_06535 at 0x7f04f23eacf8>,\n",
       " <Gene CQW49_11805 at 0x7f04f23ead30>,\n",
       " <Gene CQW49_02235 at 0x7f04f23ead68>,\n",
       " <Gene CQW49_06455 at 0x7f04f23eada0>,\n",
       " <Gene CQW49_10530 at 0x7f04f23eadd8>,\n",
       " <Gene CQW49_09665 at 0x7f04f23eae10>,\n",
       " <Gene CQW49_12745 at 0x7f04f23eae48>,\n",
       " <Gene CQW49_12840 at 0x7f04f23eae80>,\n",
       " <Gene CQW49_06785 at 0x7f04f23eaeb8>,\n",
       " <Gene CQW49_13815 at 0x7f04f23eaef0>,\n",
       " <Gene CQW49_09445 at 0x7f04f23eaf28>,\n",
       " <Gene CQW49_16285 at 0x7f04f23eaf60>,\n",
       " <Gene CQW49_10645 at 0x7f04f23eaf98>,\n",
       " <Gene CQW49_04170 at 0x7f04f23eafd0>,\n",
       " <Gene CQW49_01980 at 0x7f04f23fb048>,\n",
       " <Gene CQW49_01070 at 0x7f04f23fb080>,\n",
       " <Gene CQW49_17835 at 0x7f04f23fb0b8>,\n",
       " <Gene CQW49_17215 at 0x7f04f23fb0f0>,\n",
       " <Gene CQW49_20495 at 0x7f04f23fb128>,\n",
       " <Gene CQW49_03025 at 0x7f04f23fb160>,\n",
       " <Gene CQW49_11120 at 0x7f04f23fb198>,\n",
       " <Gene CQW49_06010 at 0x7f04f23fb1d0>,\n",
       " <Gene CQW49_00290 at 0x7f04f23fb208>,\n",
       " <Gene CQW49_13095 at 0x7f04f23fb240>,\n",
       " <Gene CQW49_09670 at 0x7f04f23fb278>,\n",
       " <Gene CQW49_12640 at 0x7f04f23fb2b0>,\n",
       " <Gene CQW49_18615 at 0x7f04f23fb2e8>,\n",
       " <Gene CQW49_06905 at 0x7f04f23fb358>,\n",
       " <Gene CQW49_17860 at 0x7f04f23fb390>,\n",
       " <Gene CQW49_09950 at 0x7f04f23fb3c8>,\n",
       " <Gene CQW49_00575 at 0x7f04f23fb400>,\n",
       " <Gene CQW49_19240 at 0x7f04f23fb438>,\n",
       " <Gene CQW49_15395 at 0x7f04f23fb470>,\n",
       " <Gene CQW49_05965 at 0x7f04f23fb4a8>,\n",
       " <Gene CQW49_19235 at 0x7f04f23fb4e0>,\n",
       " <Gene CQW49_00570 at 0x7f04f23fb518>,\n",
       " <Gene CQW49_08305 at 0x7f04f23fb550>,\n",
       " <Gene CQW49_06510 at 0x7f04f23fb588>,\n",
       " <Gene CQW49_13755 at 0x7f04f23fb5c0>,\n",
       " <Gene CQW49_11530 at 0x7f04f23fb5f8>,\n",
       " <Gene CQW49_04780 at 0x7f04f23fb630>,\n",
       " <Gene CQW49_19220 at 0x7f04f23fb668>,\n",
       " <Gene CQW49_02655 at 0x7f04f23fb6a0>,\n",
       " <Gene CQW49_05140 at 0x7f04f23fb6d8>,\n",
       " <Gene CQW49_19055 at 0x7f04f23fb710>,\n",
       " <Gene CQW49_10590 at 0x7f04f23fb748>,\n",
       " <Gene CQW49_16625 at 0x7f04f23fb780>,\n",
       " <Gene CQW49_16390 at 0x7f04f23fb7b8>,\n",
       " <Gene CQW49_20420 at 0x7f04f23fb7f0>,\n",
       " <Gene CQW49_13135 at 0x7f04f23fb828>,\n",
       " <Gene CQW49_08630 at 0x7f04f23fb860>,\n",
       " <Gene CQW49_04520 at 0x7f04f23fb898>,\n",
       " <Gene CQW49_11105 at 0x7f04f23fb8d0>,\n",
       " <Gene CQW49_10935 at 0x7f04f23fb908>,\n",
       " <Gene CQW49_12230 at 0x7f04f23fb940>,\n",
       " ...]"
      ]
     },
     "execution_count": 16,
     "metadata": {},
     "output_type": "execute_result"
    }
   ],
   "source": [
    "model_OB3b.genes"
   ]
  },
  {
   "cell_type": "markdown",
   "metadata": {},
   "source": [
    "Remove genes without reactions assigned to them:"
   ]
  },
  {
   "cell_type": "code",
   "execution_count": 19,
   "metadata": {
    "ExecuteTime": {
     "end_time": "2020-01-06T01:59:13.461526Z",
     "start_time": "2020-01-06T01:59:13.457485Z"
    }
   },
   "outputs": [
    {
     "data": {
      "text/plain": [
       "0"
      ]
     },
     "execution_count": 19,
     "metadata": {},
     "output_type": "execute_result"
    }
   ],
   "source": [
    "len(model_OB3b.genes[4].reactions)"
   ]
  },
  {
   "cell_type": "code",
   "execution_count": 23,
   "metadata": {
    "ExecuteTime": {
     "end_time": "2020-01-06T02:01:19.963956Z",
     "start_time": "2020-01-06T02:01:19.957582Z"
    }
   },
   "outputs": [],
   "source": [
    "genes_without_reactions = []\n",
    "\n",
    "for gene in model_OB3b.genes:\n",
    "    if len(gene.reactions)==0:\n",
    "        genes_without_reactions.append(gene)\n",
    "        \n",
    "genes_without_reactions"
   ]
  },
  {
   "cell_type": "code",
   "execution_count": 24,
   "metadata": {
    "ExecuteTime": {
     "end_time": "2020-01-06T02:03:21.604793Z",
     "start_time": "2020-01-06T02:03:21.300448Z"
    }
   },
   "outputs": [],
   "source": [
    "cobra.manipulation.remove_genes(model_OB3b,genes_without_reactions)"
   ]
  },
  {
   "cell_type": "markdown",
   "metadata": {},
   "source": [
    "Check whether CQW gprs are still present in OB3b GEM:"
   ]
  },
  {
   "cell_type": "code",
   "execution_count": 34,
   "metadata": {
    "ExecuteTime": {
     "end_time": "2020-01-06T02:07:08.469575Z",
     "start_time": "2020-01-06T02:07:08.461989Z"
    }
   },
   "outputs": [],
   "source": [
    "for gene in model_OB3b.genes:\n",
    "    if \"CQW_RS\" in gene.id:\n",
    "        print(gene)"
   ]
  },
  {
   "cell_type": "markdown",
   "metadata": {
    "ExecuteTime": {
     "end_time": "2020-01-06T02:03:47.223337Z",
     "start_time": "2020-01-06T02:03:47.218264Z"
    }
   },
   "source": [
    "Save changed GEM:"
   ]
  },
  {
   "cell_type": "code",
   "execution_count": 35,
   "metadata": {
    "ExecuteTime": {
     "end_time": "2020-01-06T02:07:45.243966Z",
     "start_time": "2020-01-06T02:07:45.067035Z"
    }
   },
   "outputs": [],
   "source": [
    "cobra.io.save_json_model(model_OB3b, memote_directory + draft_gems_dir_8 + \"bigg_OB3b_06_01_2020.json\")"
   ]
  },
  {
   "cell_type": "markdown",
   "metadata": {},
   "source": [
    "# Methane uptake and oxidation\n",
    "## SMMOi"
   ]
  },
  {
   "cell_type": "code",
   "execution_count": 222,
   "metadata": {
    "ExecuteTime": {
     "end_time": "2020-01-14T08:28:46.219661Z",
     "start_time": "2020-01-14T08:28:46.213146Z"
    }
   },
   "outputs": [],
   "source": [
    "iMsOB3b = model_OB3b"
   ]
  },
  {
   "cell_type": "code",
   "execution_count": 223,
   "metadata": {
    "ExecuteTime": {
     "end_time": "2020-01-14T08:28:46.505602Z",
     "start_time": "2020-01-14T08:28:46.476837Z"
    }
   },
   "outputs": [],
   "source": [
    "iMsOB3b.add_reaction(model_Bath.reactions.SMMOi)"
   ]
  },
  {
   "cell_type": "code",
   "execution_count": 224,
   "metadata": {
    "ExecuteTime": {
     "end_time": "2020-01-14T08:28:46.700046Z",
     "start_time": "2020-01-14T08:28:46.694485Z"
    }
   },
   "outputs": [
    {
     "data": {
      "text/plain": [
       "'ch4_c + h_c + nadh_c + o2_c --> h2o_c + meoh_c + nad_c'"
      ]
     },
     "execution_count": 224,
     "metadata": {},
     "output_type": "execute_result"
    }
   ],
   "source": [
    "iMsOB3b.reactions.SMMOi.reaction"
   ]
  },
  {
   "cell_type": "code",
   "execution_count": 225,
   "metadata": {
    "ExecuteTime": {
     "end_time": "2020-01-14T08:28:46.978271Z",
     "start_time": "2020-01-14T08:28:46.972681Z"
    }
   },
   "outputs": [
    {
     "data": {
      "text/plain": [
       "'ch4_e <=> ch4_p'"
      ]
     },
     "execution_count": 225,
     "metadata": {},
     "output_type": "execute_result"
    }
   ],
   "source": [
    "iMsOB3b.reactions.CH4tex.reaction"
   ]
  },
  {
   "cell_type": "code",
   "execution_count": 226,
   "metadata": {
    "ExecuteTime": {
     "end_time": "2020-01-14T08:28:47.802496Z",
     "start_time": "2020-01-14T08:28:47.792803Z"
    }
   },
   "outputs": [
    {
     "data": {
      "text/plain": [
       "'meoh_e <=> meoh_p'"
      ]
     },
     "execution_count": 226,
     "metadata": {},
     "output_type": "execute_result"
    }
   ],
   "source": [
    "iMsOB3b.reactions.MEOHtex.reaction #analog for MEOHtrpp"
   ]
  },
  {
   "cell_type": "code",
   "execution_count": 227,
   "metadata": {
    "ExecuteTime": {
     "end_time": "2020-01-14T08:28:48.296616Z",
     "start_time": "2020-01-14T08:28:48.286308Z"
    }
   },
   "outputs": [
    {
     "name": "stdout",
     "output_type": "stream",
     "text": [
      "CH4trpp: ch4_p <=> ch4_c\n"
     ]
    }
   ],
   "source": [
    "reaction = model_Bath.reactions.CH4trpp\n",
    "reaction.gene_reaction_rule\n",
    "iMsOB3b.add_reaction(reaction)\n",
    "print(iMsOB3b.reactions.get_by_id(reaction.id))"
   ]
  },
  {
   "cell_type": "code",
   "execution_count": 228,
   "metadata": {
    "ExecuteTime": {
     "end_time": "2020-01-14T08:28:48.433474Z",
     "start_time": "2020-01-14T08:28:48.425818Z"
    }
   },
   "outputs": [
    {
     "name": "stderr",
     "output_type": "stream",
     "text": [
      "Ignoring reaction 'SMMOi' since it already exists.\n"
     ]
    },
    {
     "name": "stdout",
     "output_type": "stream",
     "text": [
      "SMMOi: ch4_c + h_c + nadh_c + o2_c --> h2o_c + meoh_c + nad_c\n"
     ]
    }
   ],
   "source": [
    "reaction = model_Bath.reactions.SMMOi\n",
    "reaction.gene_reaction_rule\n",
    "iMsOB3b.add_reaction(reaction)\n",
    "print(iMsOB3b.reactions.get_by_id(reaction.id))"
   ]
  },
  {
   "cell_type": "code",
   "execution_count": 229,
   "metadata": {
    "ExecuteTime": {
     "end_time": "2020-01-14T08:28:48.555840Z",
     "start_time": "2020-01-14T08:28:48.553025Z"
    }
   },
   "outputs": [],
   "source": [
    "iMsOB3b.reactions.SMMOi.gene_reaction_rule = 'CQW49_12480 and CQW49_12475 and CQW49_12465 and CQW49_12470 and CQW49_12455 and CQW49_12485 and CQW49_12495'"
   ]
  },
  {
   "cell_type": "markdown",
   "metadata": {},
   "source": [
    "## PMMOipp"
   ]
  },
  {
   "cell_type": "code",
   "execution_count": 230,
   "metadata": {
    "ExecuteTime": {
     "end_time": "2020-01-14T08:28:48.797462Z",
     "start_time": "2020-01-14T08:28:48.788046Z"
    }
   },
   "outputs": [],
   "source": [
    "iMsOB3b.reactions.PMMOipp.gene_reaction_rule = 'CQW49_10250 and (CQW49_10255 or CQW49_01220) and CQW49_10260'"
   ]
  },
  {
   "cell_type": "markdown",
   "metadata": {},
   "source": [
    "## PMMODCipp"
   ]
  },
  {
   "cell_type": "code",
   "execution_count": 231,
   "metadata": {
    "ExecuteTime": {
     "end_time": "2020-01-14T08:28:49.005898Z",
     "start_time": "2020-01-14T08:28:49.003044Z"
    }
   },
   "outputs": [],
   "source": [
    "iMsOB3b.reactions.PMMODCipp.gene_reaction_rule = 'CQW49_10250 and (CQW49_10255 or CQW49_01220) and CQW49_10260' "
   ]
  },
  {
   "cell_type": "markdown",
   "metadata": {},
   "source": [
    "## MEOHDH"
   ]
  },
  {
   "cell_type": "code",
   "execution_count": 232,
   "metadata": {
    "ExecuteTime": {
     "end_time": "2020-01-14T08:28:50.380522Z",
     "start_time": "2020-01-14T08:28:50.376381Z"
    }
   },
   "outputs": [
    {
     "data": {
      "text/plain": [
       "'(CQW49_14425 and CQW49_14440) or CQW49_14395'"
      ]
     },
     "execution_count": 232,
     "metadata": {},
     "output_type": "execute_result"
    }
   ],
   "source": [
    "iMsOB3b.reactions.MEOHDH.gene_reaction_rule"
   ]
  },
  {
   "cell_type": "code",
   "execution_count": 233,
   "metadata": {
    "ExecuteTime": {
     "end_time": "2020-01-14T08:28:51.017512Z",
     "start_time": "2020-01-14T08:28:51.013530Z"
    }
   },
   "outputs": [
    {
     "data": {
      "text/plain": [
       "'fald_p <=> fald_c'"
      ]
     },
     "execution_count": 233,
     "metadata": {},
     "output_type": "execute_result"
    }
   ],
   "source": [
    "iMsOB3b.reactions.FALDtpp.reaction"
   ]
  },
  {
   "cell_type": "markdown",
   "metadata": {},
   "source": [
    "# Formaldehyde and formate oxidation\n",
    "\n",
    "The information below is taken from old scripts I tried to reconstruct OB3b GEM before:"
   ]
  },
  {
   "cell_type": "code",
   "execution_count": 234,
   "metadata": {
    "ExecuteTime": {
     "end_time": "2020-01-14T08:28:51.649753Z",
     "start_time": "2020-01-14T08:28:51.641538Z"
    },
    "collapsed": true
   },
   "outputs": [
    {
     "ename": "SyntaxError",
     "evalue": "invalid syntax (<ipython-input-234-3cf93d4e81a2>, line 3)",
     "output_type": "error",
     "traceback": [
      "\u001b[0;36m  File \u001b[0;32m\"<ipython-input-234-3cf93d4e81a2>\"\u001b[0;36m, line \u001b[0;32m3\u001b[0m\n\u001b[0;31m    iMsOB3b reactions:\u001b[0m\n\u001b[0m                    ^\u001b[0m\n\u001b[0;31mSyntaxError\u001b[0m\u001b[0;31m:\u001b[0m invalid syntax\n"
     ]
    }
   ],
   "source": [
    "H4MTP_pathway = ['FAEi', 'MTDBi', 'MCHi', 'FTR', 'FMFRDHi', 'FDH', 'FALDDHipp', 'ALDD1']\n",
    "\n",
    "iMsOB3b reactions:\n",
    "FAEi 5,6,7,8-tetrahydromethanopterin hydro-lyase fald_c + h4mpt_c --> 510mh4mpt_c + h2o_c CQW49_13480\n",
    " absent\n",
    "MCHi n(5),n(10)-methenyltetrahydromethanopterin cyclohydrolase 510methmpt_c + h2o_c --> 5fthmpt_c + h_c CQW49_13495\n",
    "FTR formylmethanofuran-tetrahydromethanopterin formyltransferase 5fthmpt_c + mfr_c --> formmfr_c + h4mpt_c + h_c CQW49_03835\n",
    "FMFRDHi absent\n",
    "FDH Formate dehydrogenase for_c + nad_c --> co2_c + nadh_c CQW49_16615 and CQW49_16630 and CQW49_16625 and CQW49_16635\n",
    "FALDDHipp absent\n",
    "ALDD1 ALDD1 fald_c + h2o_c + nad_c --> for_c + 2.0 h_c + nadh_c CQW49_21075"
   ]
  },
  {
   "cell_type": "code",
   "execution_count": 235,
   "metadata": {
    "ExecuteTime": {
     "end_time": "2020-01-14T08:28:51.798652Z",
     "start_time": "2020-01-14T08:28:51.792989Z"
    }
   },
   "outputs": [
    {
     "name": "stdout",
     "output_type": "stream",
     "text": [
      "H4MPT dependent formaldehyde activating\n",
      "fald_c + h4mpt_c --> h2o_c + mlh4mpt_c\n"
     ]
    },
    {
     "data": {
      "text/plain": [
       "'CQW49_13480'"
      ]
     },
     "execution_count": 235,
     "metadata": {},
     "output_type": "execute_result"
    }
   ],
   "source": [
    "print(iMsOB3b.reactions.MPTFALDA.name)\n",
    "print(iMsOB3b.reactions.MPTFALDA.reaction)\n",
    "iMsOB3b.reactions.MPTFALDA.gene_reaction_rule"
   ]
  },
  {
   "cell_type": "code",
   "execution_count": 236,
   "metadata": {
    "ExecuteTime": {
     "end_time": "2020-01-14T08:28:51.919752Z",
     "start_time": "2020-01-14T08:28:51.913159Z"
    }
   },
   "outputs": [
    {
     "name": "stdout",
     "output_type": "stream",
     "text": [
      "methylenetetrahydromethanopterin dehydrogenase 2\n",
      "mlh4mpt_c + nad_c --> meh4mpt_c + nadh_c\n"
     ]
    },
    {
     "data": {
      "text/plain": [
       "'CQW49_13850'"
      ]
     },
     "execution_count": 236,
     "metadata": {},
     "output_type": "execute_result"
    }
   ],
   "source": [
    "reaction_id = 'MLMPTDH'\n",
    "print(iMsOB3b.reactions.get_by_id(reaction_id).name)\n",
    "print(iMsOB3b.reactions.get_by_id(reaction_id).reaction)\n",
    "iMsOB3b.reactions.get_by_id(reaction_id).gene_reaction_rule"
   ]
  },
  {
   "cell_type": "code",
   "execution_count": 237,
   "metadata": {
    "ExecuteTime": {
     "end_time": "2020-01-14T08:28:52.049283Z",
     "start_time": "2020-01-14T08:28:52.042345Z"
    }
   },
   "outputs": [
    {
     "name": "stdout",
     "output_type": "stream",
     "text": [
      "methylenetetrahydromethanopterin dehydrogenase 1\n",
      "mlh4mpt_c + nadp_c --> meh4mpt_c + nadph_c\n"
     ]
    },
    {
     "data": {
      "text/plain": [
       "'CQW49_13850 or CQW49_12210'"
      ]
     },
     "execution_count": 237,
     "metadata": {},
     "output_type": "execute_result"
    }
   ],
   "source": [
    "reaction_id = 'MLMPTDHy'\n",
    "print(iMsOB3b.reactions.get_by_id(reaction_id).name)\n",
    "print(iMsOB3b.reactions.get_by_id(reaction_id).reaction)\n",
    "iMsOB3b.reactions.get_by_id(reaction_id).gene_reaction_rule"
   ]
  },
  {
   "cell_type": "code",
   "execution_count": 238,
   "metadata": {
    "ExecuteTime": {
     "end_time": "2020-01-14T08:28:52.347674Z",
     "start_time": "2020-01-14T08:28:52.183166Z"
    }
   },
   "outputs": [
    {
     "name": "stdout",
     "output_type": "stream",
     "text": [
      "CQW49_13850       CDS       T05155 (GenBank) methylenetetrahydromethanopterin dehydrogenase\n",
      "CQW49_12210       CDS       T05155 K00300  methylenetetrahydrofolate/methylenetetrahydromethanopterin dehydrogenase (NADP+) [EC:1.5.1.5 1.5.1.-]\n"
     ]
    },
    {
     "name": "stderr",
     "output_type": "stream",
     "text": [
      "/home/ensakz/anaconda3/envs/GEM_py36/lib/python3.6/site-packages/orangecontrib/bioinformatics/kegg/entry/__init__.py:139 \u001b[1;31mUserWarning\u001b[0m: Nonregisterd field 'CREATED' in <class 'orangecontrib.bioinformatics.kegg.databases.GenomeEntry'>\n"
     ]
    }
   ],
   "source": [
    "import orangecontrib.bioinformatics.kegg\n",
    "\n",
    "organism = orangecontrib.bioinformatics.kegg.Organism(\"Methylosinus trichosporium\")\n",
    "genes = organism.genes\n",
    "gene_entry = genes[\"CQW49_13850\"]\n",
    "print(gene_entry.entry, gene_entry.definition)\n",
    "\n",
    "organism = orangecontrib.bioinformatics.kegg.Organism(\"Methylosinus trichosporium\")\n",
    "genes = organism.genes\n",
    "gene_entry = genes[\"CQW49_12210\"]\n",
    "print(gene_entry.entry, gene_entry.orthology)"
   ]
  },
  {
   "cell_type": "code",
   "execution_count": 239,
   "metadata": {
    "ExecuteTime": {
     "end_time": "2020-01-14T08:28:52.911255Z",
     "start_time": "2020-01-14T08:28:52.908195Z"
    }
   },
   "outputs": [],
   "source": [
    "iMsOB3b.reactions.get_by_id('MLMPTDH').gene_reaction_rule = 'CQW49_13850 or CQW49_12210'"
   ]
  },
  {
   "cell_type": "code",
   "execution_count": 240,
   "metadata": {
    "ExecuteTime": {
     "end_time": "2020-01-14T08:28:54.013059Z",
     "start_time": "2020-01-14T08:28:54.006136Z"
    }
   },
   "outputs": [
    {
     "name": "stdout",
     "output_type": "stream",
     "text": [
      "methenyltetrahydrometanopterin cyclohydrolase\n",
      "h2o_c + meh4mpt_c <=> 5fh4mpt_c + h_c\n"
     ]
    },
    {
     "data": {
      "text/plain": [
       "'CQW49_13495'"
      ]
     },
     "execution_count": 240,
     "metadata": {},
     "output_type": "execute_result"
    }
   ],
   "source": [
    "reaction_id = 'MMPTC'\n",
    "print(iMsOB3b.reactions.get_by_id(reaction_id).name)\n",
    "print(iMsOB3b.reactions.get_by_id(reaction_id).reaction)\n",
    "iMsOB3b.reactions.get_by_id(reaction_id).gene_reaction_rule"
   ]
  },
  {
   "cell_type": "code",
   "execution_count": 241,
   "metadata": {
    "ExecuteTime": {
     "end_time": "2020-01-14T08:28:54.438175Z",
     "start_time": "2020-01-14T08:28:54.425273Z"
    }
   },
   "outputs": [
    {
     "name": "stdout",
     "output_type": "stream",
     "text": [
      "formylmethanofuran H4MPT formyltransferase\n",
      "5fh4mpt_c + mfr_b__c --> formmfr_b__c + h4mpt_c + h_c\n"
     ]
    },
    {
     "data": {
      "text/plain": [
       "'CQW49_03825 and CQW49_03830 and CQW49_03835 and CQW49_03840'"
      ]
     },
     "execution_count": 241,
     "metadata": {},
     "output_type": "execute_result"
    }
   ],
   "source": [
    "reaction_id = 'FMFTFMPT'\n",
    "print(iMsOB3b.reactions.get_by_id(reaction_id).name)\n",
    "print(iMsOB3b.reactions.get_by_id(reaction_id).reaction)\n",
    "iMsOB3b.reactions.get_by_id(reaction_id).gene_reaction_rule"
   ]
  },
  {
   "cell_type": "code",
   "execution_count": 242,
   "metadata": {
    "ExecuteTime": {
     "end_time": "2020-01-14T08:28:55.917593Z",
     "start_time": "2020-01-14T08:28:55.846423Z"
    }
   },
   "outputs": [
    {
     "name": "stdout",
     "output_type": "stream",
     "text": [
      "CQW49_03825       CDS       T05155 (GenBank) formylmethanofuran dehydrogenase K00201  formylmethanofuran dehydrogenase subunit B [EC:1.2.7.12]\n",
      "CQW49_03830       CDS       T05155 K00200  formylmethanofuran dehydrogenase subunit A [EC:1.2.7.12]\n",
      "CQW49_03835       CDS       T05155 K00672  formylmethanofuran--tetrahydromethanopterin N-formyltransferase [EC:2.3.1.101]\n",
      "CQW49_03840       CDS       T05155 K00202  formylmethanofuran dehydrogenase subunit C [EC:1.2.7.12]\n"
     ]
    }
   ],
   "source": [
    "organism = orangecontrib.bioinformatics.kegg.Organism(\"Methylosinus trichosporium\")\n",
    "genes = organism.genes\n",
    "gene_entry = genes[\"CQW49_03825\"]\n",
    "print(gene_entry.entry, gene_entry.definition, gene_entry.orthology)\n",
    "\n",
    "organism = orangecontrib.bioinformatics.kegg.Organism(\"Methylosinus trichosporium\")\n",
    "genes = organism.genes\n",
    "gene_entry = genes[\"CQW49_03830\"]\n",
    "print(gene_entry.entry, gene_entry.orthology)\n",
    "\n",
    "organism = orangecontrib.bioinformatics.kegg.Organism(\"Methylosinus trichosporium\")\n",
    "genes = organism.genes\n",
    "gene_entry = genes[\"CQW49_03835\"]\n",
    "print(gene_entry.entry, gene_entry.orthology)\n",
    "\n",
    "organism = orangecontrib.bioinformatics.kegg.Organism(\"Methylosinus trichosporium\")\n",
    "genes = organism.genes\n",
    "gene_entry = genes[\"CQW49_03840\"]\n",
    "print(gene_entry.entry, gene_entry.orthology)"
   ]
  },
  {
   "cell_type": "code",
   "execution_count": 243,
   "metadata": {
    "ExecuteTime": {
     "end_time": "2020-01-14T08:28:56.145916Z",
     "start_time": "2020-01-14T08:28:56.142572Z"
    }
   },
   "outputs": [],
   "source": [
    "iMsOB3b.reactions.get_by_id('FMFTFMPT').gene_reaction_rule = 'CQW49_03835'"
   ]
  },
  {
   "cell_type": "code",
   "execution_count": 244,
   "metadata": {
    "ExecuteTime": {
     "end_time": "2020-01-14T08:28:56.450780Z",
     "start_time": "2020-01-14T08:28:56.445134Z"
    }
   },
   "outputs": [
    {
     "name": "stdout",
     "output_type": "stream",
     "text": [
      "formyl MFS hydrolysis\n",
      "formmfr_b__c + h2o_c --> for_c + mfr_b__c\n"
     ]
    }
   ],
   "source": [
    "reaction_id = 'FORMMFRHD'\n",
    "print(iMsOB3b.reactions.get_by_id(reaction_id).name)\n",
    "print(iMsOB3b.reactions.get_by_id(reaction_id).reaction)\n",
    "iMsOB3b.reactions.get_by_id(reaction_id).gene_reaction_rule = 'CQW49_03825 and CQW49_03830 and CQW49_03840'"
   ]
  },
  {
   "cell_type": "markdown",
   "metadata": {},
   "source": [
    "Check the original gene reaction rules for 3. Pathway-to-pathway manual curation ,i.e. the original reactions with orthologs via version control"
   ]
  },
  {
   "cell_type": "code",
   "execution_count": 245,
   "metadata": {
    "ExecuteTime": {
     "end_time": "2020-01-14T08:28:57.339523Z",
     "start_time": "2020-01-14T08:28:57.145955Z"
    }
   },
   "outputs": [],
   "source": [
    "cobra.io.save_json_model(model_OB3b, memote_directory + draft_gems_dir_8 + \"bigg_OB3b_13_01_2020.json\")"
   ]
  },
  {
   "cell_type": "markdown",
   "metadata": {},
   "source": [
    "Knockout FALDA based on the literature evidence:"
   ]
  },
  {
   "cell_type": "code",
   "execution_count": 29,
   "metadata": {
    "ExecuteTime": {
     "end_time": "2020-02-12T11:09:09.672774Z",
     "start_time": "2020-02-12T11:09:09.473638Z"
    }
   },
   "outputs": [],
   "source": [
    "model.reactions.FALDA.bounds = (0, 0)"
   ]
  },
  {
   "cell_type": "markdown",
   "metadata": {},
   "source": [
    "# H4 Folate Pathway\n",
    "## FTHFL"
   ]
  },
  {
   "cell_type": "code",
   "execution_count": 384,
   "metadata": {
    "ExecuteTime": {
     "end_time": "2019-11-12T04:58:32.862230Z",
     "start_time": "2019-11-12T04:58:32.224394Z"
    }
   },
   "outputs": [
    {
     "name": "stderr",
     "output_type": "stream",
     "text": [
      "/home/ensakz/anaconda3/envs/GEM_py36/lib/python3.6/site-packages/orangecontrib/bioinformatics/kegg/entry/__init__.py:139 \u001b[1;31mUserWarning\u001b[0m: Nonregisterd field 'CREATED' in <class 'orangecontrib.bioinformatics.kegg.databases.GenomeEntry'>\n"
     ]
    },
    {
     "name": "stdout",
     "output_type": "stream",
     "text": [
      "CQW49_12195       CDS       T05155 (GenBank) formate--tetrahydrofolate ligase\n"
     ]
    }
   ],
   "source": [
    "organism = orangecontrib.bioinformatics.kegg.Organism(\"Methylosinus trichosporium\")\n",
    "genes = organism.genes\n",
    "gene_entry = genes[\"CQW49_12195\"]\n",
    "print(gene_entry.entry, gene_entry.definition)"
   ]
  },
  {
   "cell_type": "code",
   "execution_count": 246,
   "metadata": {
    "ExecuteTime": {
     "end_time": "2020-01-14T08:28:57.402516Z",
     "start_time": "2020-01-14T08:28:57.397658Z"
    },
    "scrolled": true
   },
   "outputs": [
    {
     "data": {
      "text/plain": [
       "'CQW49_12195'"
      ]
     },
     "execution_count": 246,
     "metadata": {},
     "output_type": "execute_result"
    }
   ],
   "source": [
    "iMsOB3b.reactions.FTHFL.gene_reaction_rule"
   ]
  },
  {
   "cell_type": "markdown",
   "metadata": {},
   "source": [
    "## MTHFC"
   ]
  },
  {
   "cell_type": "code",
   "execution_count": 247,
   "metadata": {
    "ExecuteTime": {
     "end_time": "2020-01-14T08:28:57.601291Z",
     "start_time": "2020-01-14T08:28:57.596449Z"
    }
   },
   "outputs": [
    {
     "data": {
      "text/plain": [
       "'CQW49_12215'"
      ]
     },
     "execution_count": 247,
     "metadata": {},
     "output_type": "execute_result"
    }
   ],
   "source": [
    "iMsOB3b.reactions.MTHFC.gene_reaction_rule"
   ]
  },
  {
   "cell_type": "markdown",
   "metadata": {},
   "source": [
    "## MTHFD"
   ]
  },
  {
   "cell_type": "code",
   "execution_count": 400,
   "metadata": {
    "ExecuteTime": {
     "end_time": "2019-11-12T05:08:20.872859Z",
     "start_time": "2019-11-12T05:08:20.592784Z"
    }
   },
   "outputs": [
    {
     "name": "stderr",
     "output_type": "stream",
     "text": [
      "/home/ensakz/anaconda3/envs/GEM_py36/lib/python3.6/site-packages/orangecontrib/bioinformatics/kegg/entry/__init__.py:139 \u001b[1;31mUserWarning\u001b[0m: Nonregisterd field 'CREATED' in <class 'orangecontrib.bioinformatics.kegg.databases.GenomeEntry'>\n"
     ]
    },
    {
     "name": "stdout",
     "output_type": "stream",
     "text": [
      "CQW49_17745       CDS       T05155 (GenBank) beta-ketoacyl-ACP reductase\n",
      "CQW49_12210       CDS       T05155 (GenBank) methylenetetrahydrofolate dehydrogenase\n"
     ]
    }
   ],
   "source": [
    "organism = orangecontrib.bioinformatics.kegg.Organism(\"Methylosinus trichosporium\")\n",
    "genes = organism.genes\n",
    "gene_entry = genes[\"CQW49_17745\"]\n",
    "print(gene_entry.entry, gene_entry.definition)\n",
    "\n",
    "gene_entry = genes[\"CQW49_12210\"]\n",
    "print(gene_entry.entry, gene_entry.definition)"
   ]
  },
  {
   "cell_type": "code",
   "execution_count": 248,
   "metadata": {
    "ExecuteTime": {
     "end_time": "2020-01-14T08:28:57.821872Z",
     "start_time": "2020-01-14T08:28:57.817702Z"
    },
    "scrolled": true
   },
   "outputs": [
    {
     "data": {
      "text/html": [
       "\n",
       "        <table>\n",
       "            <tr>\n",
       "                <td><strong>Reaction identifier</strong></td><td>MTHFD</td>\n",
       "            </tr><tr>\n",
       "                <td><strong>Name</strong></td><td>methylenetetrahydrofolate dehydrogenase</td>\n",
       "            </tr><tr>\n",
       "                <td><strong>Memory address</strong></td>\n",
       "                <td>0x07f023edc2eb8</td>\n",
       "            </tr><tr>\n",
       "                <td><strong>Stoichiometry</strong></td>\n",
       "                <td>\n",
       "                    <p style='text-align:right'>methf_c + nadph_c <=> mlthf_c + nadp_c</p>\n",
       "                    <p style='text-align:right'>5_10_methenyltetrahydrofolate + NADPH <=> 5_10_methylenetetrahydrofolate + NADP_</p>\n",
       "                </td>\n",
       "            </tr><tr>\n",
       "                <td><strong>GPR</strong></td><td>CQW49_12210</td>\n",
       "            </tr><tr>\n",
       "                <td><strong>Lower bound</strong></td><td>-1000.0</td>\n",
       "            </tr><tr>\n",
       "                <td><strong>Upper bound</strong></td><td>1000.0</td>\n",
       "            </tr>\n",
       "        </table>\n",
       "        "
      ],
      "text/plain": [
       "<Reaction MTHFD at 0x7f023edc2eb8>"
      ]
     },
     "execution_count": 248,
     "metadata": {},
     "output_type": "execute_result"
    }
   ],
   "source": [
    "iMsOB3b.reactions.MTHFD"
   ]
  },
  {
   "cell_type": "markdown",
   "metadata": {},
   "source": [
    "## GHMT2r"
   ]
  },
  {
   "cell_type": "code",
   "execution_count": 419,
   "metadata": {
    "ExecuteTime": {
     "end_time": "2019-11-12T05:19:10.174599Z",
     "start_time": "2019-11-12T05:19:09.565783Z"
    }
   },
   "outputs": [
    {
     "name": "stderr",
     "output_type": "stream",
     "text": [
      "/home/ensakz/anaconda3/envs/GEM_py36/lib/python3.6/site-packages/orangecontrib/bioinformatics/kegg/entry/__init__.py:139 \u001b[1;31mUserWarning\u001b[0m: Nonregisterd field 'CREATED' in <class 'orangecontrib.bioinformatics.kegg.databases.GenomeEntry'>\n"
     ]
    },
    {
     "name": "stdout",
     "output_type": "stream",
     "text": [
      "CQW49_06365       CDS       T05155 (GenBank) serine hydroxymethyltransferase\n"
     ]
    }
   ],
   "source": [
    "organism = orangecontrib.bioinformatics.kegg.Organism(\"Methylosinus trichosporium\")\n",
    "genes = organism.genes\n",
    "gene_entry = genes[\"CQW49_06365\"]\n",
    "print(gene_entry.entry, gene_entry.definition)"
   ]
  },
  {
   "cell_type": "code",
   "execution_count": 249,
   "metadata": {
    "ExecuteTime": {
     "end_time": "2020-01-14T08:28:58.054589Z",
     "start_time": "2020-01-14T08:28:58.049776Z"
    }
   },
   "outputs": [
    {
     "data": {
      "text/plain": [
       "'CQW49_06365'"
      ]
     },
     "execution_count": 249,
     "metadata": {},
     "output_type": "execute_result"
    }
   ],
   "source": [
    "iMsOB3b.reactions.GHMT2r.gene_reaction_rule"
   ]
  },
  {
   "cell_type": "markdown",
   "metadata": {},
   "source": [
    "# Serine cycle\n",
    "## SERGLXAT"
   ]
  },
  {
   "cell_type": "code",
   "execution_count": 250,
   "metadata": {
    "ExecuteTime": {
     "end_time": "2020-01-14T08:29:00.106008Z",
     "start_time": "2020-01-14T08:29:00.100788Z"
    }
   },
   "outputs": [
    {
     "data": {
      "text/plain": [
       "'CQW49_12200'"
      ]
     },
     "execution_count": 250,
     "metadata": {},
     "output_type": "execute_result"
    }
   ],
   "source": [
    "iMsOB3b.reactions.SERGLXAT.gene_reaction_rule"
   ]
  },
  {
   "cell_type": "markdown",
   "metadata": {},
   "source": [
    "## GLYD"
   ]
  },
  {
   "cell_type": "code",
   "execution_count": 441,
   "metadata": {
    "ExecuteTime": {
     "end_time": "2019-11-12T05:31:01.819737Z",
     "start_time": "2019-11-12T05:31:01.625165Z"
    }
   },
   "outputs": [
    {
     "name": "stdout",
     "output_type": "stream",
     "text": [
      "CQW49_12205       CDS       T05155 (GenBank) glycerate dehydrogenase\n",
      "CQW49_10845       CDS       T05155 (GenBank) phosphoglycerate dehydrogenase\n",
      "CQW49_06750       CDS       T05155 (GenBank) D-glycerate dehydrogenase\n",
      "CQW49_12205       CDS       T05155 (GenBank) glycerate dehydrogenase\n"
     ]
    }
   ],
   "source": [
    "organism = orangecontrib.bioinformatics.kegg.Organism(\"Methylosinus trichosporium\")\n",
    "genes = organism.genes\n",
    "gene_entry = genes[\"CQW49_12205\"]\n",
    "print(gene_entry.entry, gene_entry.definition)\n",
    "\n",
    "gene_entry = genes[\"CQW49_10845\"]\n",
    "print(gene_entry.entry, gene_entry.definition)\n",
    "\n",
    "gene_entry = genes[\"CQW49_06750\"]\n",
    "print(gene_entry.entry, gene_entry.definition)\n",
    "\n",
    "gene_entry = genes[\"CQW49_12205\"]\n",
    "print(gene_entry.entry, gene_entry.definition)"
   ]
  },
  {
   "cell_type": "code",
   "execution_count": 251,
   "metadata": {
    "ExecuteTime": {
     "end_time": "2020-01-14T08:29:00.704206Z",
     "start_time": "2020-01-14T08:29:00.701397Z"
    }
   },
   "outputs": [],
   "source": [
    "iMsOB3b.reactions.GLYD.gene_reaction_rule = 'CQW49_10845 or CQW49_06750 or CQW49_12205'"
   ]
  },
  {
   "cell_type": "markdown",
   "metadata": {},
   "source": [
    "## GLYCK2"
   ]
  },
  {
   "cell_type": "code",
   "execution_count": 447,
   "metadata": {
    "ExecuteTime": {
     "end_time": "2019-11-12T06:40:37.265157Z",
     "start_time": "2019-11-12T06:40:37.250905Z"
    }
   },
   "outputs": [
    {
     "name": "stdout",
     "output_type": "stream",
     "text": [
      "CQW49_12245       CDS       T05155 (GenBank) glycerate kinase\n"
     ]
    }
   ],
   "source": [
    "organism = orangecontrib.bioinformatics.kegg.Organism(\"Methylosinus trichosporium\")\n",
    "genes = organism.genes\n",
    "gene_entry = genes[\"CQW49_12245\"]\n",
    "print(gene_entry.entry, gene_entry.definition)"
   ]
  },
  {
   "cell_type": "code",
   "execution_count": 252,
   "metadata": {
    "ExecuteTime": {
     "end_time": "2020-01-14T08:29:00.891275Z",
     "start_time": "2020-01-14T08:29:00.888178Z"
    }
   },
   "outputs": [],
   "source": [
    "iMsOB3b.reactions.GLYCK2.gene_reaction_rule = 'CQW49_12245'"
   ]
  },
  {
   "cell_type": "markdown",
   "metadata": {},
   "source": [
    "## ENO"
   ]
  },
  {
   "cell_type": "code",
   "execution_count": 253,
   "metadata": {
    "ExecuteTime": {
     "end_time": "2020-01-14T08:29:01.135503Z",
     "start_time": "2020-01-14T08:29:01.131316Z"
    }
   },
   "outputs": [
    {
     "data": {
      "text/plain": [
       "'CQW49_08625'"
      ]
     },
     "execution_count": 253,
     "metadata": {},
     "output_type": "execute_result"
    }
   ],
   "source": [
    "iMsOB3b.reactions.ENO.gene_reaction_rule"
   ]
  },
  {
   "cell_type": "markdown",
   "metadata": {},
   "source": [
    "## PPC"
   ]
  },
  {
   "cell_type": "code",
   "execution_count": 459,
   "metadata": {
    "ExecuteTime": {
     "end_time": "2019-11-12T06:51:45.538918Z",
     "start_time": "2019-11-12T06:51:45.500623Z"
    }
   },
   "outputs": [
    {
     "name": "stdout",
     "output_type": "stream",
     "text": [
      "CQW49_05095       CDS       T05155 (GenBank) phosphoenolpyruvate carboxylase\n",
      "CQW49_12230       CDS       T05155 (GenBank) phosphoenolpyruvate carboxylase\n"
     ]
    }
   ],
   "source": [
    "organism = orangecontrib.bioinformatics.kegg.Organism(\"Methylosinus trichosporium\")\n",
    "genes = organism.genes\n",
    "gene_entry = genes[\"CQW49_05095\"]\n",
    "print(gene_entry.entry, gene_entry.definition)\n",
    "\n",
    "organism = orangecontrib.bioinformatics.kegg.Organism(\"Methylosinus trichosporium\")\n",
    "genes = organism.genes\n",
    "gene_entry = genes[\"CQW49_12230\"]\n",
    "print(gene_entry.entry, gene_entry.definition)"
   ]
  },
  {
   "cell_type": "code",
   "execution_count": 254,
   "metadata": {
    "ExecuteTime": {
     "end_time": "2020-01-14T08:29:01.351473Z",
     "start_time": "2020-01-14T08:29:01.346500Z"
    }
   },
   "outputs": [],
   "source": [
    "iMsOB3b.reactions.PPC.gene_reaction_rule = \"CQW49_05095 or CQW49_12230\""
   ]
  },
  {
   "cell_type": "markdown",
   "metadata": {},
   "source": [
    "## MDH"
   ]
  },
  {
   "cell_type": "code",
   "execution_count": 466,
   "metadata": {
    "ExecuteTime": {
     "end_time": "2019-11-12T06:55:57.312546Z",
     "start_time": "2019-11-12T06:55:57.082336Z"
    }
   },
   "outputs": [
    {
     "name": "stderr",
     "output_type": "stream",
     "text": [
      "/home/ensakz/anaconda3/envs/GEM_py36/lib/python3.6/site-packages/orangecontrib/bioinformatics/kegg/entry/__init__.py:139 \u001b[1;31mUserWarning\u001b[0m: Nonregisterd field 'CREATED' in <class 'orangecontrib.bioinformatics.kegg.databases.GenomeEntry'>\n"
     ]
    },
    {
     "name": "stdout",
     "output_type": "stream",
     "text": [
      "CQW49_18955       CDS       T05155 (GenBank) malate dehydrogenase\n",
      "CQW49_12115       CDS       T05155 (GenBank) dihydrolipoyl dehydrogenase\n",
      "CQW49_10910       CDS       T05155 (GenBank) NADP-dependent malic enzyme\n"
     ]
    }
   ],
   "source": [
    "organism = orangecontrib.bioinformatics.kegg.Organism(\"Methylosinus trichosporium\")\n",
    "genes = organism.genes\n",
    "gene_entry = genes[\"CQW49_18955\"]\n",
    "print(gene_entry.entry, gene_entry.definition)\n",
    "\n",
    "organism = orangecontrib.bioinformatics.kegg.Organism(\"Methylosinus trichosporium\")\n",
    "genes = organism.genes\n",
    "gene_entry = genes[\"CQW49_12115\"]\n",
    "print(gene_entry.entry, gene_entry.definition)\n",
    "\n",
    "organism = orangecontrib.bioinformatics.kegg.Organism(\"Methylosinus trichosporium\")\n",
    "genes = organism.genes\n",
    "gene_entry = genes[\"CQW49_10910\"]\n",
    "print(gene_entry.entry, gene_entry.definition)"
   ]
  },
  {
   "cell_type": "code",
   "execution_count": 255,
   "metadata": {
    "ExecuteTime": {
     "end_time": "2020-01-14T08:29:01.563417Z",
     "start_time": "2020-01-14T08:29:01.560184Z"
    }
   },
   "outputs": [],
   "source": [
    "iMsOB3b.reactions.MDH.gene_reaction_rule = \"CQW49_18955\""
   ]
  },
  {
   "cell_type": "markdown",
   "metadata": {},
   "source": [
    "## MALCOAS and MALCOAL"
   ]
  },
  {
   "cell_type": "code",
   "execution_count": 256,
   "metadata": {
    "ExecuteTime": {
     "end_time": "2020-01-14T08:29:01.792804Z",
     "start_time": "2020-01-14T08:29:01.784803Z"
    }
   },
   "outputs": [
    {
     "name": "stdout",
     "output_type": "stream",
     "text": [
      "MDH Malate dehydrogenase mal__L_c + nad_c <=> h_c + nadh_c + oaa_c\n",
      "MTK malate thiokinase atp_c + coa_c + mal__L_c <=> adp_c + pi_c + smalcoa_c\n",
      "ME2 Malic enzyme (NADP) mal__L_c + nadp_c --> co2_c + nadph_c + pyr_c\n",
      "FUM Fumarase fum_c + h2o_c --> mal__L_c\n",
      "MDHy MDHy h_c + nadph_c + oaa_c <=> mal__L_c + nadp_c\n"
     ]
    }
   ],
   "source": [
    "for reaction in model_OB3b_old.metabolites.mal__L_c.reactions:\n",
    "    if \"BIOMASS\" in reaction.id:\n",
    "        pass\n",
    "    else:\n",
    "        print(reaction.id, reaction.name, reaction.reaction)"
   ]
  },
  {
   "cell_type": "code",
   "execution_count": 257,
   "metadata": {
    "ExecuteTime": {
     "end_time": "2020-01-14T08:29:01.924016Z",
     "start_time": "2020-01-14T08:29:01.916309Z"
    }
   },
   "outputs": [
    {
     "name": "stdout",
     "output_type": "stream",
     "text": [
      "MCLA1 malyl-coa lyase smalcoa_c <=> accoa_c + glx_c\n",
      "MTK malate thiokinase atp_c + coa_c + mal__L_c <=> adp_c + pi_c + smalcoa_c\n"
     ]
    }
   ],
   "source": [
    "for reaction in model_OB3b_old.metabolites.smalcoa_c.reactions:\n",
    "    if \"BIOMASS\" in reaction.id:\n",
    "        pass\n",
    "    else:\n",
    "        print(reaction.id, reaction.name, reaction.reaction)"
   ]
  },
  {
   "cell_type": "code",
   "execution_count": 258,
   "metadata": {
    "ExecuteTime": {
     "end_time": "2020-01-14T08:29:02.028066Z",
     "start_time": "2020-01-14T08:29:02.023606Z"
    }
   },
   "outputs": [
    {
     "data": {
      "text/plain": [
       "'CQW49_12225 and CQW49_12220'"
      ]
     },
     "execution_count": 258,
     "metadata": {},
     "output_type": "execute_result"
    }
   ],
   "source": [
    "iMsOB3b.reactions.MALCOAS.gene_reaction_rule"
   ]
  },
  {
   "cell_type": "code",
   "execution_count": 259,
   "metadata": {
    "ExecuteTime": {
     "end_time": "2020-01-14T08:29:02.165678Z",
     "start_time": "2020-01-14T08:29:02.160561Z"
    }
   },
   "outputs": [
    {
     "data": {
      "text/plain": [
       "'CQW49_12225 or CQW49_12220'"
      ]
     },
     "execution_count": 259,
     "metadata": {},
     "output_type": "execute_result"
    }
   ],
   "source": [
    "model_OB3b_old.reactions.MTK.gene_reaction_rule"
   ]
  },
  {
   "cell_type": "code",
   "execution_count": 260,
   "metadata": {
    "ExecuteTime": {
     "end_time": "2020-01-14T08:29:02.275981Z",
     "start_time": "2020-01-14T08:29:02.270779Z"
    }
   },
   "outputs": [
    {
     "data": {
      "text/plain": [
       "'CQW49_12235'"
      ]
     },
     "execution_count": 260,
     "metadata": {},
     "output_type": "execute_result"
    }
   ],
   "source": [
    "iMsOB3b.reactions.MALCOAL.gene_reaction_rule"
   ]
  },
  {
   "cell_type": "code",
   "execution_count": 261,
   "metadata": {
    "ExecuteTime": {
     "end_time": "2020-01-14T08:29:03.380813Z",
     "start_time": "2020-01-14T08:29:03.369832Z"
    }
   },
   "outputs": [
    {
     "data": {
      "text/plain": [
       "'CQW49_12235'"
      ]
     },
     "execution_count": 261,
     "metadata": {},
     "output_type": "execute_result"
    }
   ],
   "source": [
    "model_OB3b_old.reactions.MCLA1.gene_reaction_rule"
   ]
  },
  {
   "cell_type": "markdown",
   "metadata": {},
   "source": [
    "# TCA cycle:\n",
    "## CS (Citrate synthase)"
   ]
  },
  {
   "cell_type": "code",
   "execution_count": 527,
   "metadata": {
    "ExecuteTime": {
     "end_time": "2019-11-12T07:36:10.922491Z",
     "start_time": "2019-11-12T07:36:10.909710Z"
    }
   },
   "outputs": [
    {
     "name": "stdout",
     "output_type": "stream",
     "text": [
      "CQW49_04750       CDS       T05155 (GenBank) citrate (Si)-synthase K01647  citrate synthase [EC:2.3.3.1]\n"
     ]
    },
    {
     "name": "stderr",
     "output_type": "stream",
     "text": [
      "/home/ensakz/anaconda3/envs/GEM_py36/lib/python3.6/site-packages/orangecontrib/bioinformatics/kegg/entry/__init__.py:139 \u001b[1;31mUserWarning\u001b[0m: Nonregisterd field 'CREATED' in <class 'orangecontrib.bioinformatics.kegg.databases.GenomeEntry'>\n"
     ]
    }
   ],
   "source": [
    "organism = orangecontrib.bioinformatics.kegg.Organism(\"Methylosinus trichosporium\")\n",
    "genes = organism.genes\n",
    "gene_entry = genes[\"CQW49_04750\"]\n",
    "print(gene_entry.entry, gene_entry.definition, gene_entry.orthology)"
   ]
  },
  {
   "cell_type": "code",
   "execution_count": 544,
   "metadata": {
    "ExecuteTime": {
     "end_time": "2019-11-12T07:41:59.655131Z",
     "start_time": "2019-11-12T07:41:59.540924Z"
    }
   },
   "outputs": [
    {
     "name": "stdout",
     "output_type": "stream",
     "text": [
      "acetyl-CoA + H2O + oxaloacetate = citrate + CoA [RN:R00351]\n"
     ]
    },
    {
     "name": "stderr",
     "output_type": "stream",
     "text": [
      "/home/ensakz/anaconda3/envs/GEM_py36/lib/python3.6/site-packages/orangecontrib/bioinformatics/kegg/entry/__init__.py:139 \u001b[1;31mUserWarning\u001b[0m: Nonregisterd field 'HISTORY' in <class 'orangecontrib.bioinformatics.kegg.databases.EnzymeEntry'>\n"
     ]
    }
   ],
   "source": [
    "enzyme=orangecontrib.bioinformatics.kegg.databases.Enzyme()\n",
    "enzyme_entry = enzyme[\"ec:2.3.3.1\"]\n",
    "print(enzyme_entry.reaction)"
   ]
  },
  {
   "cell_type": "code",
   "execution_count": 262,
   "metadata": {
    "ExecuteTime": {
     "end_time": "2020-01-14T08:29:03.998315Z",
     "start_time": "2020-01-14T08:29:03.993391Z"
    }
   },
   "outputs": [
    {
     "data": {
      "text/plain": [
       "'CQW49_04750'"
      ]
     },
     "execution_count": 262,
     "metadata": {},
     "output_type": "execute_result"
    }
   ],
   "source": [
    "iMsOB3b.reactions.CS.gene_reaction_rule"
   ]
  },
  {
   "cell_type": "markdown",
   "metadata": {},
   "source": [
    "## ACONT"
   ]
  },
  {
   "cell_type": "code",
   "execution_count": 551,
   "metadata": {
    "ExecuteTime": {
     "end_time": "2019-11-12T07:46:39.543419Z",
     "start_time": "2019-11-12T07:46:39.529745Z"
    }
   },
   "outputs": [
    {
     "name": "stdout",
     "output_type": "stream",
     "text": [
      "CQW49_13135       CDS       T05155 (GenBank) aconitate hydratase AcnA\n"
     ]
    }
   ],
   "source": [
    "organism = orangecontrib.bioinformatics.kegg.Organism(\"Methylosinus trichosporium\")\n",
    "genes = organism.genes\n",
    "gene_entry = genes[\"CQW49_13135\"]\n",
    "print(gene_entry.entry, gene_entry.definition)"
   ]
  },
  {
   "cell_type": "code",
   "execution_count": 263,
   "metadata": {
    "ExecuteTime": {
     "end_time": "2020-01-14T08:29:04.221566Z",
     "start_time": "2020-01-14T08:29:04.216669Z"
    }
   },
   "outputs": [
    {
     "data": {
      "text/plain": [
       "'CQW49_13135'"
      ]
     },
     "execution_count": 263,
     "metadata": {},
     "output_type": "execute_result"
    }
   ],
   "source": [
    "iMsOB3b.reactions.ACONT.gene_reaction_rule"
   ]
  },
  {
   "cell_type": "markdown",
   "metadata": {},
   "source": [
    "## ICDHyr"
   ]
  },
  {
   "cell_type": "code",
   "execution_count": 554,
   "metadata": {
    "ExecuteTime": {
     "end_time": "2019-11-12T07:48:59.238860Z",
     "start_time": "2019-11-12T07:48:58.913392Z"
    }
   },
   "outputs": [
    {
     "name": "stderr",
     "output_type": "stream",
     "text": [
      "/home/ensakz/anaconda3/envs/GEM_py36/lib/python3.6/site-packages/orangecontrib/bioinformatics/kegg/entry/__init__.py:139 \u001b[1;31mUserWarning\u001b[0m: Nonregisterd field 'CREATED' in <class 'orangecontrib.bioinformatics.kegg.databases.GenomeEntry'>\n"
     ]
    },
    {
     "name": "stdout",
     "output_type": "stream",
     "text": [
      "CQW49_01450       CDS       T05155 (GenBank) isocitrate dehydrogenase (NADP(+))\n"
     ]
    }
   ],
   "source": [
    "organism = orangecontrib.bioinformatics.kegg.Organism(\"Methylosinus trichosporium\")\n",
    "genes = organism.genes\n",
    "gene_entry = genes[\"CQW49_01450\"]\n",
    "print(gene_entry.entry, gene_entry.definition)"
   ]
  },
  {
   "cell_type": "code",
   "execution_count": 264,
   "metadata": {
    "ExecuteTime": {
     "end_time": "2020-01-14T08:29:04.432804Z",
     "start_time": "2020-01-14T08:29:04.428156Z"
    }
   },
   "outputs": [
    {
     "data": {
      "text/plain": [
       "'CQW49_01450'"
      ]
     },
     "execution_count": 264,
     "metadata": {},
     "output_type": "execute_result"
    }
   ],
   "source": [
    "iMsOB3b.reactions.ICDHyr.gene_reaction_rule"
   ]
  },
  {
   "cell_type": "markdown",
   "metadata": {},
   "source": [
    "## AKGDH"
   ]
  },
  {
   "cell_type": "code",
   "execution_count": 265,
   "metadata": {
    "ExecuteTime": {
     "end_time": "2020-01-14T08:29:04.722136Z",
     "start_time": "2020-01-14T08:29:04.675060Z"
    }
   },
   "outputs": [
    {
     "name": "stdout",
     "output_type": "stream",
     "text": [
      "CQW49_16390       CDS       T05155 K00164  2-oxoglutarate dehydrogenase E1 component [EC:1.2.4.2]\n",
      "CQW49_16395       CDS       T05155 K00658  2-oxoglutarate dehydrogenase E2 component (dihydrolipoamide succinyltransferase) [EC:2.3.1.61]\n",
      "CQW49_12115       CDS       T05155 K00382  dihydrolipoamide dehydrogenase [EC:1.8.1.4]\n"
     ]
    }
   ],
   "source": [
    "organism = orangecontrib.bioinformatics.kegg.Organism(\"Methylosinus trichosporium\")\n",
    "genes = organism.genes\n",
    "gene_entry = genes[\"CQW49_16390\"]\n",
    "print(gene_entry.entry, gene_entry.orthology)\n",
    "\n",
    "gene_entry = genes[\"CQW49_16395\"]\n",
    "print(gene_entry.entry, gene_entry.orthology)\n",
    "\n",
    "gene_entry = genes[\"CQW49_12115\"]\n",
    "print(gene_entry.entry, gene_entry.orthology)"
   ]
  },
  {
   "cell_type": "code",
   "execution_count": 266,
   "metadata": {
    "ExecuteTime": {
     "end_time": "2020-01-14T08:29:04.828521Z",
     "start_time": "2020-01-14T08:29:04.819139Z"
    }
   },
   "outputs": [
    {
     "data": {
      "text/plain": [
       "'CQW49_16390 and CQW49_16395'"
      ]
     },
     "execution_count": 266,
     "metadata": {},
     "output_type": "execute_result"
    }
   ],
   "source": [
    "model_OB3b_old.reactions.AKGDH.gene_reaction_rule"
   ]
  },
  {
   "cell_type": "code",
   "execution_count": 267,
   "metadata": {
    "ExecuteTime": {
     "end_time": "2020-01-14T08:29:04.932412Z",
     "start_time": "2020-01-14T08:29:04.929132Z"
    }
   },
   "outputs": [],
   "source": [
    "iMsOB3b.reactions.AKGDH.gene_reaction_rule = 'CQW49_16390 and CQW49_16395'"
   ]
  },
  {
   "cell_type": "markdown",
   "metadata": {},
   "source": [
    "## SUCOAS"
   ]
  },
  {
   "cell_type": "code",
   "execution_count": 569,
   "metadata": {
    "ExecuteTime": {
     "end_time": "2019-11-12T08:05:23.530194Z",
     "start_time": "2019-11-12T08:05:22.824173Z"
    }
   },
   "outputs": [
    {
     "name": "stderr",
     "output_type": "stream",
     "text": [
      "/home/ensakz/anaconda3/envs/GEM_py36/lib/python3.6/site-packages/orangecontrib/bioinformatics/kegg/entry/__init__.py:139 \u001b[1;31mUserWarning\u001b[0m: Nonregisterd field 'CREATED' in <class 'orangecontrib.bioinformatics.kegg.databases.GenomeEntry'>\n"
     ]
    },
    {
     "name": "stdout",
     "output_type": "stream",
     "text": [
      "CQW49_18950       CDS       T05155 (GenBank) ADP-forming succinate--CoA ligase subunit beta\n",
      "CQW49_16385       CDS       T05155 (GenBank) succinate--CoA ligase subunit alpha\n",
      "CQW49_12220       CDS       T05155 (GenBank) ADP-forming succinate--CoA ligase subunit beta\n",
      "CQW49_12225       CDS       T05155 (GenBank) succinate--CoA ligase subunit alpha\n"
     ]
    }
   ],
   "source": [
    "organism = orangecontrib.bioinformatics.kegg.Organism(\"Methylosinus trichosporium\")\n",
    "genes = organism.genes\n",
    "gene_entry = genes[\"CQW49_18950\"]\n",
    "print(gene_entry.entry, gene_entry.definition)\n",
    "\n",
    "organism = orangecontrib.bioinformatics.kegg.Organism(\"Methylosinus trichosporium\")\n",
    "genes = organism.genes\n",
    "gene_entry = genes[\"CQW49_16385\"]\n",
    "print(gene_entry.entry, gene_entry.definition)\n",
    "\n",
    "organism = orangecontrib.bioinformatics.kegg.Organism(\"Methylosinus trichosporium\")\n",
    "genes = organism.genes\n",
    "gene_entry = genes[\"CQW49_12220\"]\n",
    "print(gene_entry.entry, gene_entry.definition)\n",
    "\n",
    "organism = orangecontrib.bioinformatics.kegg.Organism(\"Methylosinus trichosporium\")\n",
    "genes = organism.genes\n",
    "gene_entry = genes[\"CQW49_12225\"]\n",
    "print(gene_entry.entry, gene_entry.definition)"
   ]
  },
  {
   "cell_type": "code",
   "execution_count": 268,
   "metadata": {
    "ExecuteTime": {
     "end_time": "2020-01-14T08:29:05.185393Z",
     "start_time": "2020-01-14T08:29:05.178624Z"
    }
   },
   "outputs": [],
   "source": [
    "iMsOB3b.reactions.SUCOAS.gene_reaction_rule = '(CQW49_16385 or CQW49_18950) or (CQW49_12225 and CQW49_12220)'"
   ]
  },
  {
   "cell_type": "markdown",
   "metadata": {
    "ExecuteTime": {
     "end_time": "2020-01-13T06:43:20.740994Z",
     "start_time": "2020-01-13T06:43:20.734924Z"
    }
   },
   "source": [
    "## SUCCD1"
   ]
  },
  {
   "cell_type": "code",
   "execution_count": 269,
   "metadata": {
    "ExecuteTime": {
     "end_time": "2020-01-14T08:29:05.433548Z",
     "start_time": "2020-01-14T08:29:05.428488Z"
    }
   },
   "outputs": [
    {
     "data": {
      "text/html": [
       "\n",
       "        <table>\n",
       "            <tr>\n",
       "                <td><strong>Reaction identifier</strong></td><td>SUCDH_q8_pp</td>\n",
       "            </tr><tr>\n",
       "                <td><strong>Name</strong></td><td>succinate dehydrogenase</td>\n",
       "            </tr><tr>\n",
       "                <td><strong>Memory address</strong></td>\n",
       "                <td>0x07f024389f0b8</td>\n",
       "            </tr><tr>\n",
       "                <td><strong>Stoichiometry</strong></td>\n",
       "                <td>\n",
       "                    <p style='text-align:right'>q8_im + succ_c <=> fum_c + q8h2_im</p>\n",
       "                    <p style='text-align:right'>Ubiquinone-8 + succinate(2-) <=> fumarate(2-) + Ubiquinol-8</p>\n",
       "                </td>\n",
       "            </tr><tr>\n",
       "                <td><strong>GPR</strong></td><td>CQW49_22885 and CQW49_10810 and (CQW49_10825 or CQW49_22875) and CQW49_10800</td>\n",
       "            </tr><tr>\n",
       "                <td><strong>Lower bound</strong></td><td>-1000</td>\n",
       "            </tr><tr>\n",
       "                <td><strong>Upper bound</strong></td><td>1000</td>\n",
       "            </tr>\n",
       "        </table>\n",
       "        "
      ],
      "text/plain": [
       "<Reaction SUCDH_q8_pp at 0x7f024389f0b8>"
      ]
     },
     "execution_count": 269,
     "metadata": {},
     "output_type": "execute_result"
    }
   ],
   "source": [
    "model_OB3b_old.reactions.SUCDH_q8_pp"
   ]
  },
  {
   "cell_type": "code",
   "execution_count": 270,
   "metadata": {
    "ExecuteTime": {
     "end_time": "2020-01-14T08:29:05.649591Z",
     "start_time": "2020-01-14T08:29:05.577214Z"
    }
   },
   "outputs": [
    {
     "name": "stdout",
     "output_type": "stream",
     "text": [
      "CQW49_22885       CDS       T05155 K00242  succinate dehydrogenase / fumarate reductase, membrane anchor subunit\n",
      "CQW49_10810       CDS       T05155 K00239  succinate dehydrogenase / fumarate reductase, flavoprotein subunit [EC:1.3.5.1 1.3.5.4]\n",
      "CQW49_10825       CDS       T05155 K00240  succinate dehydrogenase / fumarate reductase, iron-sulfur subunit [EC:1.3.5.1 1.3.5.4]\n",
      "CQW49_22875       CDS       T05155 K00240  succinate dehydrogenase / fumarate reductase, iron-sulfur subunit [EC:1.3.5.1 1.3.5.4]\n",
      "CQW49_10800       CDS       T05155 K00241  succinate dehydrogenase / fumarate reductase, cytochrome b subunit\n"
     ]
    }
   ],
   "source": [
    "organism = orangecontrib.bioinformatics.kegg.Organism(\"Methylosinus trichosporium\")\n",
    "genes = organism.genes\n",
    "gene_entry = genes[\"CQW49_22885\"]\n",
    "print(gene_entry.entry, gene_entry.orthology)\n",
    "\n",
    "gene_entry = genes[\"CQW49_10810\"]\n",
    "print(gene_entry.entry, gene_entry.orthology)\n",
    "\n",
    "gene_entry = genes[\"CQW49_10825\"]\n",
    "print(gene_entry.entry, gene_entry.orthology)\n",
    "\n",
    "gene_entry = genes[\"CQW49_22875\"]\n",
    "print(gene_entry.entry, gene_entry.orthology)\n",
    "\n",
    "gene_entry = genes[\"CQW49_10800\"]\n",
    "print(gene_entry.entry, gene_entry.orthology)"
   ]
  },
  {
   "cell_type": "code",
   "execution_count": 271,
   "metadata": {
    "ExecuteTime": {
     "end_time": "2020-01-14T08:29:05.703591Z",
     "start_time": "2020-01-14T08:29:05.696065Z"
    }
   },
   "outputs": [],
   "source": [
    "iMsOB3b.reactions.SUCCD1.gene_reaction_rule = 'CQW49_22885 and CQW49_10810 and (CQW49_10825 or CQW49_22875) and CQW49_10800'"
   ]
  },
  {
   "cell_type": "markdown",
   "metadata": {},
   "source": [
    "## FUM"
   ]
  },
  {
   "cell_type": "code",
   "execution_count": 576,
   "metadata": {
    "ExecuteTime": {
     "end_time": "2019-11-12T08:10:35.400268Z",
     "start_time": "2019-11-12T08:10:34.560899Z"
    }
   },
   "outputs": [
    {
     "name": "stderr",
     "output_type": "stream",
     "text": [
      "/home/ensakz/anaconda3/envs/GEM_py36/lib/python3.6/site-packages/orangecontrib/bioinformatics/kegg/entry/__init__.py:139 \u001b[1;31mUserWarning\u001b[0m: Nonregisterd field 'CREATED' in <class 'orangecontrib.bioinformatics.kegg.databases.GenomeEntry'>\n"
     ]
    },
    {
     "name": "stdout",
     "output_type": "stream",
     "text": [
      "CQW49_13245       CDS       T05155 (GenBank) fumarate hydratase, class II\n"
     ]
    }
   ],
   "source": [
    "organism = orangecontrib.bioinformatics.kegg.Organism(\"Methylosinus trichosporium\")\n",
    "genes = organism.genes\n",
    "gene_entry = genes[\"CQW49_13245\"]\n",
    "print(gene_entry.entry, gene_entry.definition)"
   ]
  },
  {
   "cell_type": "code",
   "execution_count": 272,
   "metadata": {
    "ExecuteTime": {
     "end_time": "2020-01-14T08:29:05.887550Z",
     "start_time": "2020-01-14T08:29:05.878256Z"
    }
   },
   "outputs": [
    {
     "data": {
      "text/plain": [
       "'CQW49_13245'"
      ]
     },
     "execution_count": 272,
     "metadata": {},
     "output_type": "execute_result"
    }
   ],
   "source": [
    "model_OB3b_old.reactions.FUM.gene_reaction_rule"
   ]
  },
  {
   "cell_type": "code",
   "execution_count": 273,
   "metadata": {
    "ExecuteTime": {
     "end_time": "2020-01-14T08:29:06.004856Z",
     "start_time": "2020-01-14T08:29:05.997144Z"
    }
   },
   "outputs": [
    {
     "data": {
      "text/plain": [
       "'CQW49_13245'"
      ]
     },
     "execution_count": 273,
     "metadata": {},
     "output_type": "execute_result"
    }
   ],
   "source": [
    "iMsOB3b.reactions.FUM.gene_reaction_rule"
   ]
  },
  {
   "cell_type": "markdown",
   "metadata": {},
   "source": [
    "# EMC pathway\n",
    "## MMM2r"
   ]
  },
  {
   "cell_type": "code",
   "execution_count": 274,
   "metadata": {
    "ExecuteTime": {
     "end_time": "2020-01-14T08:29:06.225338Z",
     "start_time": "2020-01-14T08:29:06.216831Z"
    }
   },
   "outputs": [
    {
     "data": {
      "text/plain": [
       "'CQW49_12550 or CQW49_17450'"
      ]
     },
     "execution_count": 274,
     "metadata": {},
     "output_type": "execute_result"
    }
   ],
   "source": [
    "model_OB3b_old.reactions.MMM2.gene_reaction_rule"
   ]
  },
  {
   "cell_type": "code",
   "execution_count": 275,
   "metadata": {
    "ExecuteTime": {
     "end_time": "2020-01-14T08:29:07.348196Z",
     "start_time": "2020-01-14T08:29:07.285662Z"
    }
   },
   "outputs": [
    {
     "name": "stdout",
     "output_type": "stream",
     "text": [
      "CQW49_12550       CDS       T05155 K01847  methylmalonyl-CoA mutase [EC:5.4.99.2]\n",
      "CQW49_06565       CDS       T05155 K00798  cob(I)alamin adenosyltransferase [EC:2.5.1.17]\n",
      "CQW49_17450       CDS       T05155 K01847  methylmalonyl-CoA mutase [EC:5.4.99.2]\n"
     ]
    }
   ],
   "source": [
    "organism = orangecontrib.bioinformatics.kegg.Organism(\"Methylosinus trichosporium\")\n",
    "genes = organism.genes\n",
    "gene_entry = genes[\"CQW49_12550\"]\n",
    "print(gene_entry.entry, gene_entry.orthology)\n",
    "\n",
    "gene_entry = genes[\"CQW49_06565\"]\n",
    "print(gene_entry.entry, gene_entry.orthology)\n",
    "\n",
    "gene_entry = genes[\"CQW49_17450\"]\n",
    "print(gene_entry.entry, gene_entry.orthology)"
   ]
  },
  {
   "cell_type": "code",
   "execution_count": 276,
   "metadata": {
    "ExecuteTime": {
     "end_time": "2020-01-14T08:29:07.792188Z",
     "start_time": "2020-01-14T08:29:07.788915Z"
    }
   },
   "outputs": [],
   "source": [
    "iMsOB3b.reactions.MMM2r.gene_reaction_rule = 'CQW49_12550 or CQW49_17450'"
   ]
  },
  {
   "cell_type": "markdown",
   "metadata": {},
   "source": [
    "## MME"
   ]
  },
  {
   "cell_type": "code",
   "execution_count": 277,
   "metadata": {
    "ExecuteTime": {
     "end_time": "2020-01-14T08:29:07.988537Z",
     "start_time": "2020-01-14T08:29:07.983198Z"
    }
   },
   "outputs": [
    {
     "data": {
      "text/plain": [
       "'CQW49_05270'"
      ]
     },
     "execution_count": 277,
     "metadata": {},
     "output_type": "execute_result"
    }
   ],
   "source": [
    "model_OB3b_old.reactions.MME.gene_reaction_rule"
   ]
  },
  {
   "cell_type": "code",
   "execution_count": 278,
   "metadata": {
    "ExecuteTime": {
     "end_time": "2020-01-14T08:29:08.112180Z",
     "start_time": "2020-01-14T08:29:08.101443Z"
    }
   },
   "outputs": [
    {
     "data": {
      "text/plain": [
       "'CQW49_05270'"
      ]
     },
     "execution_count": 278,
     "metadata": {},
     "output_type": "execute_result"
    }
   ],
   "source": [
    "iMsOB3b.reactions.MME.gene_reaction_rule"
   ]
  },
  {
   "cell_type": "markdown",
   "metadata": {},
   "source": [
    "## PPCOAC"
   ]
  },
  {
   "cell_type": "code",
   "execution_count": 802,
   "metadata": {
    "ExecuteTime": {
     "end_time": "2019-11-13T07:22:08.322264Z",
     "start_time": "2019-11-13T07:22:08.304968Z"
    }
   },
   "outputs": [
    {
     "name": "stdout",
     "output_type": "stream",
     "text": [
      "CQW49_20805       CDS       T05155 (GenBank) acetyl/propionyl/methylcrotonyl-CoA carboxylase subunit alpha K01965  propionyl-CoA carboxylase alpha chain [EC:6.4.1.3]\n",
      "CQW49_16085       CDS       T05155 (GenBank) acyl-CoA carboxylase subunit beta K01966  propionyl-CoA carboxylase beta chain [EC:6.4.1.3 2.1.3.15]\n"
     ]
    }
   ],
   "source": [
    "organism = orangecontrib.bioinformatics.kegg.Organism(\"Methylosinus trichosporium\")\n",
    "genes = organism.genes\n",
    "gene_entry = genes[\"CQW49_20805\"]\n",
    "print(gene_entry.entry, gene_entry.definition, gene_entry.orthology)\n",
    "\n",
    "gene_entry = genes[\"CQW49_16085\"]\n",
    "print(gene_entry.entry, gene_entry.definition, gene_entry.orthology)"
   ]
  },
  {
   "cell_type": "code",
   "execution_count": 279,
   "metadata": {
    "ExecuteTime": {
     "end_time": "2020-01-14T08:29:08.339221Z",
     "start_time": "2020-01-14T08:29:08.330963Z"
    }
   },
   "outputs": [
    {
     "data": {
      "text/plain": [
       "'CQW49_20805 and CQW49_16085'"
      ]
     },
     "execution_count": 279,
     "metadata": {},
     "output_type": "execute_result"
    }
   ],
   "source": [
    "iMsOB3b.reactions.PPCOAC.gene_reaction_rule"
   ]
  },
  {
   "cell_type": "code",
   "execution_count": 280,
   "metadata": {
    "ExecuteTime": {
     "end_time": "2020-01-14T08:29:08.449130Z",
     "start_time": "2020-01-14T08:29:08.441357Z"
    }
   },
   "outputs": [
    {
     "data": {
      "text/plain": [
       "'CQW49_20805 and CQW49_16085'"
      ]
     },
     "execution_count": 280,
     "metadata": {},
     "output_type": "execute_result"
    }
   ],
   "source": [
    "model_OB3b_old.reactions.PPCOAC.gene_reaction_rule"
   ]
  },
  {
   "cell_type": "markdown",
   "metadata": {},
   "source": [
    "## BMMALCOAL"
   ]
  },
  {
   "cell_type": "code",
   "execution_count": 790,
   "metadata": {
    "ExecuteTime": {
     "end_time": "2019-11-13T07:14:30.732559Z",
     "start_time": "2019-11-13T07:14:30.715957Z"
    }
   },
   "outputs": [
    {
     "name": "stdout",
     "output_type": "stream",
     "text": [
      "CQW49_12235       CDS       T05155 (GenBank) CoA ester lyase K08691  malyl-CoA/(S)-citramalyl-CoA lyase [EC:4.1.3.24 4.1.3.25]\n"
     ]
    },
    {
     "name": "stderr",
     "output_type": "stream",
     "text": [
      "/home/ensakz/anaconda3/envs/GEM_py36/lib/python3.6/site-packages/orangecontrib/bioinformatics/kegg/entry/__init__.py:139 \u001b[1;31mUserWarning\u001b[0m: Nonregisterd field 'CREATED' in <class 'orangecontrib.bioinformatics.kegg.databases.GenomeEntry'>\n"
     ]
    }
   ],
   "source": [
    "organism = orangecontrib.bioinformatics.kegg.Organism(\"Methylosinus trichosporium\")\n",
    "genes = organism.genes\n",
    "gene_entry = genes[\"CQW49_12235\"]\n",
    "print(gene_entry.entry, gene_entry.definition, gene_entry.orthology)"
   ]
  },
  {
   "cell_type": "code",
   "execution_count": 281,
   "metadata": {
    "ExecuteTime": {
     "end_time": "2020-01-14T08:29:08.726802Z",
     "start_time": "2020-01-14T08:29:08.718874Z"
    }
   },
   "outputs": [
    {
     "data": {
      "text/plain": [
       "'CQW49_12235'"
      ]
     },
     "execution_count": 281,
     "metadata": {},
     "output_type": "execute_result"
    }
   ],
   "source": [
    "model_OB3b_old.reactions.BMMALCOAL.gene_reaction_rule"
   ]
  },
  {
   "cell_type": "code",
   "execution_count": 282,
   "metadata": {
    "ExecuteTime": {
     "end_time": "2020-01-14T08:29:10.246367Z",
     "start_time": "2020-01-14T08:29:10.231271Z"
    }
   },
   "outputs": [
    {
     "data": {
      "text/plain": [
       "'CQW49_12235'"
      ]
     },
     "execution_count": 282,
     "metadata": {},
     "output_type": "execute_result"
    }
   ],
   "source": [
    "iMsOB3b.reactions.BMMALCOAL.gene_reaction_rule"
   ]
  },
  {
   "cell_type": "markdown",
   "metadata": {},
   "source": [
    "## MESACOAH"
   ]
  },
  {
   "cell_type": "code",
   "execution_count": 283,
   "metadata": {
    "ExecuteTime": {
     "end_time": "2020-01-14T08:29:10.830651Z",
     "start_time": "2020-01-14T08:29:10.826464Z"
    }
   },
   "outputs": [
    {
     "data": {
      "text/html": [
       "\n",
       "        <table>\n",
       "            <tr>\n",
       "                <td><strong>Reaction identifier</strong></td><td>MESACOAH</td>\n",
       "            </tr><tr>\n",
       "                <td><strong>Name</strong></td><td>mesaconyl_CoA_hydratase</td>\n",
       "            </tr><tr>\n",
       "                <td><strong>Memory address</strong></td>\n",
       "                <td>0x07f0242b404a8</td>\n",
       "            </tr><tr>\n",
       "                <td><strong>Stoichiometry</strong></td>\n",
       "                <td>\n",
       "                    <p style='text-align:right'>h2o_c + mesaccoa_c <=> bmmalcoa_c</p>\n",
       "                    <p style='text-align:right'>H2O + mesaconyl_CoA <=> erythro_b_methylmalyl_CoA</p>\n",
       "                </td>\n",
       "            </tr><tr>\n",
       "                <td><strong>GPR</strong></td><td>CQW49_03910</td>\n",
       "            </tr><tr>\n",
       "                <td><strong>Lower bound</strong></td><td>-1000.0</td>\n",
       "            </tr><tr>\n",
       "                <td><strong>Upper bound</strong></td><td>1000.0</td>\n",
       "            </tr>\n",
       "        </table>\n",
       "        "
      ],
      "text/plain": [
       "<Reaction MESACOAH at 0x7f0242b404a8>"
      ]
     },
     "execution_count": 283,
     "metadata": {},
     "output_type": "execute_result"
    }
   ],
   "source": [
    "model_OB3b_old.reactions.MESACOAH#.gene_reaction_rule"
   ]
  },
  {
   "cell_type": "code",
   "execution_count": 284,
   "metadata": {
    "ExecuteTime": {
     "end_time": "2020-01-14T08:29:10.946564Z",
     "start_time": "2020-01-14T08:29:10.929260Z"
    }
   },
   "outputs": [
    {
     "data": {
      "text/plain": [
       "'CQW49_03910'"
      ]
     },
     "execution_count": 284,
     "metadata": {},
     "output_type": "execute_result"
    }
   ],
   "source": [
    "iMsOB3b.reactions.MESACOAH.gene_reaction_rule"
   ]
  },
  {
   "cell_type": "code",
   "execution_count": 285,
   "metadata": {
    "ExecuteTime": {
     "end_time": "2020-01-14T08:29:11.090225Z",
     "start_time": "2020-01-14T08:29:11.064022Z"
    }
   },
   "outputs": [
    {
     "name": "stdout",
     "output_type": "stream",
     "text": [
      "CQW49_03910       CDS       T05155 K14449  2-methylfumaryl-CoA hydratase [EC:4.2.1.148]\n"
     ]
    }
   ],
   "source": [
    "organism = orangecontrib.bioinformatics.kegg.Organism(\"Methylosinus trichosporium\")\n",
    "genes = organism.genes\n",
    "gene_entry = genes[\"CQW49_03910\"]\n",
    "print(gene_entry.entry, gene_entry.orthology)"
   ]
  },
  {
   "cell_type": "markdown",
   "metadata": {},
   "source": [
    "Proof that mesaconyl_CoA and 2-methylfumaryl-CoA are the same compound --> https://www.genome.jp/dbget-bin/www_bget?C06028"
   ]
  },
  {
   "cell_type": "markdown",
   "metadata": {},
   "source": [
    "## MSUCCCOADH"
   ]
  },
  {
   "cell_type": "code",
   "execution_count": 775,
   "metadata": {
    "ExecuteTime": {
     "end_time": "2019-11-13T06:53:53.959968Z",
     "start_time": "2019-11-13T06:53:53.940468Z"
    }
   },
   "outputs": [
    {
     "name": "stdout",
     "output_type": "stream",
     "text": [
      "CQW49_16350       CDS       T05155 (GenBank) acyl-CoA dehydrogenase\n",
      "K14448  (2S)-methylsuccinyl-CoA dehydrogenase [EC:1.3.8.12]\n"
     ]
    }
   ],
   "source": [
    "organism = orangecontrib.bioinformatics.kegg.Organism(\"Methylosinus trichosporium\")\n",
    "genes = organism.genes\n",
    "gene_entry = genes[\"CQW49_16350\"]\n",
    "print(gene_entry.entry, gene_entry.definition)\n",
    "print(gene_entry.orthology)"
   ]
  },
  {
   "cell_type": "code",
   "execution_count": 286,
   "metadata": {
    "ExecuteTime": {
     "end_time": "2020-01-14T08:29:11.409857Z",
     "start_time": "2020-01-14T08:29:11.406084Z"
    }
   },
   "outputs": [
    {
     "data": {
      "text/plain": [
       "'CQW49_16350'"
      ]
     },
     "execution_count": 286,
     "metadata": {},
     "output_type": "execute_result"
    }
   ],
   "source": [
    "iMsOB3b.reactions.MSUCCCOADH.gene_reaction_rule"
   ]
  },
  {
   "cell_type": "code",
   "execution_count": 287,
   "metadata": {
    "ExecuteTime": {
     "end_time": "2020-01-14T08:29:12.676589Z",
     "start_time": "2020-01-14T08:29:12.672118Z"
    }
   },
   "outputs": [
    {
     "data": {
      "text/plain": [
       "'CQW49_16350'"
      ]
     },
     "execution_count": 287,
     "metadata": {},
     "output_type": "execute_result"
    }
   ],
   "source": [
    "model_OB3b_old.reactions.MSUCCCOADH.gene_reaction_rule"
   ]
  },
  {
   "cell_type": "markdown",
   "metadata": {},
   "source": [
    "## ETHMALCOAM"
   ]
  },
  {
   "cell_type": "code",
   "execution_count": 816,
   "metadata": {
    "ExecuteTime": {
     "end_time": "2019-11-13T07:38:07.968125Z",
     "start_time": "2019-11-13T07:38:07.955487Z"
    },
    "scrolled": true
   },
   "outputs": [
    {
     "name": "stdout",
     "output_type": "stream",
     "text": [
      "(GenBank) protein meaA K14447  ethylmalonyl-CoA mutase [EC:5.4.99.63]\n"
     ]
    },
    {
     "name": "stderr",
     "output_type": "stream",
     "text": [
      "/home/ensakz/anaconda3/envs/GEM_py36/lib/python3.6/site-packages/orangecontrib/bioinformatics/kegg/entry/__init__.py:139 \u001b[1;31mUserWarning\u001b[0m: Nonregisterd field 'CREATED' in <class 'orangecontrib.bioinformatics.kegg.databases.GenomeEntry'>\n"
     ]
    }
   ],
   "source": [
    "organism = orangecontrib.bioinformatics.kegg.Organism(\"Methylosinus trichosporium\")\n",
    "genes = organism.genes\n",
    "gene_entry = genes[\"CQW49_20150\"]\n",
    "print(gene_entry.definition, gene_entry.orthology)"
   ]
  },
  {
   "cell_type": "code",
   "execution_count": 288,
   "metadata": {
    "ExecuteTime": {
     "end_time": "2020-01-14T08:29:13.279556Z",
     "start_time": "2020-01-14T08:29:13.265780Z"
    }
   },
   "outputs": [
    {
     "data": {
      "text/plain": [
       "'CQW49_20150'"
      ]
     },
     "execution_count": 288,
     "metadata": {},
     "output_type": "execute_result"
    }
   ],
   "source": [
    "iMsOB3b.reactions.ETHMALCOAM.gene_reaction_rule"
   ]
  },
  {
   "cell_type": "code",
   "execution_count": 289,
   "metadata": {
    "ExecuteTime": {
     "end_time": "2020-01-14T08:29:13.412773Z",
     "start_time": "2020-01-14T08:29:13.407223Z"
    }
   },
   "outputs": [
    {
     "data": {
      "text/plain": [
       "'CQW49_20150'"
      ]
     },
     "execution_count": 289,
     "metadata": {},
     "output_type": "execute_result"
    }
   ],
   "source": [
    "model_OB3b_old.reactions.ETHMALCOAM.gene_reaction_rule"
   ]
  },
  {
   "cell_type": "markdown",
   "metadata": {},
   "source": [
    "## ETHMALCOAEPM"
   ]
  },
  {
   "cell_type": "code",
   "execution_count": 290,
   "metadata": {
    "ExecuteTime": {
     "end_time": "2020-01-14T08:29:13.659763Z",
     "start_time": "2020-01-14T08:29:13.647454Z"
    }
   },
   "outputs": [
    {
     "data": {
      "text/plain": [
       "'CQW49_05270'"
      ]
     },
     "execution_count": 290,
     "metadata": {},
     "output_type": "execute_result"
    }
   ],
   "source": [
    "iMsOB3b.reactions.ETHMALCOAEPM.gene_reaction_rule"
   ]
  },
  {
   "cell_type": "code",
   "execution_count": 291,
   "metadata": {
    "ExecuteTime": {
     "end_time": "2020-01-14T08:29:13.779938Z",
     "start_time": "2020-01-14T08:29:13.770271Z"
    }
   },
   "outputs": [
    {
     "data": {
      "text/plain": [
       "'CQW49_05270'"
      ]
     },
     "execution_count": 291,
     "metadata": {},
     "output_type": "execute_result"
    }
   ],
   "source": [
    "model_OB3b_old.reactions.ETHMALCOAEPM.gene_reaction_rule"
   ]
  },
  {
   "cell_type": "markdown",
   "metadata": {},
   "source": [
    "Inparanoid ortholog analysis plus KEGG orthology analysis suggest that CQW49_05270 belong to ethylmalonyl-CoA epimerase"
   ]
  },
  {
   "cell_type": "code",
   "execution_count": 292,
   "metadata": {
    "ExecuteTime": {
     "end_time": "2020-01-14T08:29:13.956431Z",
     "start_time": "2020-01-14T08:29:13.927325Z"
    }
   },
   "outputs": [
    {
     "name": "stdout",
     "output_type": "stream",
     "text": [
      "CQW49_05270       CDS       T05155 (GenBank) methylmalonyl-CoA epimerase K05606  methylmalonyl-CoA/ethylmalonyl-CoA epimerase [EC:5.1.99.1]\n"
     ]
    }
   ],
   "source": [
    "organism = orangecontrib.bioinformatics.kegg.Organism(\"Methylosinus trichosporium\")\n",
    "genes = organism.genes\n",
    "gene_entry = genes[\"CQW49_05270\"]\n",
    "print(gene_entry.entry, gene_entry.definition, gene_entry.orthology)"
   ]
  },
  {
   "cell_type": "markdown",
   "metadata": {},
   "source": [
    "## CCRC"
   ]
  },
  {
   "cell_type": "code",
   "execution_count": 293,
   "metadata": {
    "ExecuteTime": {
     "end_time": "2020-01-14T08:29:15.375357Z",
     "start_time": "2020-01-14T08:29:15.365875Z"
    }
   },
   "outputs": [
    {
     "data": {
      "text/plain": [
       "'CQW49_03790'"
      ]
     },
     "execution_count": 293,
     "metadata": {},
     "output_type": "execute_result"
    }
   ],
   "source": [
    "model_OB3b_old.reactions.CCRC.gene_reaction_rule"
   ]
  },
  {
   "cell_type": "code",
   "execution_count": 294,
   "metadata": {
    "ExecuteTime": {
     "end_time": "2020-01-14T08:29:15.887160Z",
     "start_time": "2020-01-14T08:29:15.880818Z"
    }
   },
   "outputs": [
    {
     "data": {
      "text/plain": [
       "'CQW49_03790'"
      ]
     },
     "execution_count": 294,
     "metadata": {},
     "output_type": "execute_result"
    }
   ],
   "source": [
    "iMsOB3b.reactions.CCRC.gene_reaction_rule"
   ]
  },
  {
   "cell_type": "markdown",
   "metadata": {},
   "source": [
    "## 3HBCD"
   ]
  },
  {
   "cell_type": "code",
   "execution_count": 867,
   "metadata": {
    "ExecuteTime": {
     "end_time": "2019-11-13T09:43:56.253677Z",
     "start_time": "2019-11-13T09:43:55.823536Z"
    },
    "scrolled": true
   },
   "outputs": [
    {
     "name": "stderr",
     "output_type": "stream",
     "text": [
      "/home/ensakz/anaconda3/envs/GEM_py36/lib/python3.6/site-packages/orangecontrib/bioinformatics/kegg/entry/__init__.py:139 \u001b[1;31mUserWarning\u001b[0m: Nonregisterd field 'CREATED' in <class 'orangecontrib.bioinformatics.kegg.databases.GenomeEntry'>\n"
     ]
    },
    {
     "name": "stdout",
     "output_type": "stream",
     "text": [
      "(GenBank) acyl dehydratase K17865  3-hydroxybutyryl-CoA dehydratase [EC:4.2.1.55]\n",
      "(GenBank) enoyl-CoA hydratase K01692  enoyl-CoA hydratase [EC:4.2.1.17]\n",
      "(GenBank) ptzG K15313  polyketide biosynthesis enoyl-CoA hydratase PksI\n",
      "(GenBank) enoyl-CoA hydratase None\n"
     ]
    }
   ],
   "source": [
    "organism = orangecontrib.bioinformatics.kegg.Organism(\"Methylosinus trichosporium\")\n",
    "genes = organism.genes\n",
    "gene_entry = genes[\"CQW49_12855\"]\n",
    "print(gene_entry.definition, gene_entry.orthology)\n",
    "\n",
    "gene_entry = genes[\"CQW49_21250\"]\n",
    "print(gene_entry.definition, gene_entry.orthology)\n",
    "\n",
    "gene_entry = genes[\"CQW49_21505\"]\n",
    "print(gene_entry.definition, gene_entry.orthology)\n",
    "\n",
    "gene_entry = genes[\"CQW49_11715\"]\n",
    "print(gene_entry.definition, gene_entry.orthology)"
   ]
  },
  {
   "cell_type": "code",
   "execution_count": 295,
   "metadata": {
    "ExecuteTime": {
     "end_time": "2020-01-14T08:29:16.144813Z",
     "start_time": "2020-01-14T08:29:16.140125Z"
    }
   },
   "outputs": [
    {
     "data": {
      "text/plain": [
       "'CQW49_12855'"
      ]
     },
     "execution_count": 295,
     "metadata": {},
     "output_type": "execute_result"
    }
   ],
   "source": [
    "model_OB3b_old.reactions.get_by_id('3HBCD').gene_reaction_rule"
   ]
  },
  {
   "cell_type": "code",
   "execution_count": 296,
   "metadata": {
    "ExecuteTime": {
     "end_time": "2020-01-14T08:29:16.283219Z",
     "start_time": "2020-01-14T08:29:16.277739Z"
    }
   },
   "outputs": [
    {
     "data": {
      "text/plain": [
       "'CQW49_12855'"
      ]
     },
     "execution_count": 296,
     "metadata": {},
     "output_type": "execute_result"
    }
   ],
   "source": [
    "iMsOB3b.reactions.get_by_id('3HBCD').gene_reaction_rule"
   ]
  },
  {
   "cell_type": "markdown",
   "metadata": {},
   "source": [
    "## AACOAR"
   ]
  },
  {
   "cell_type": "code",
   "execution_count": 876,
   "metadata": {
    "ExecuteTime": {
     "end_time": "2019-11-13T09:53:04.685679Z",
     "start_time": "2019-11-13T09:53:04.652967Z"
    },
    "scrolled": true
   },
   "outputs": [
    {
     "name": "stdout",
     "output_type": "stream",
     "text": [
      "(GenBank) beta-ketoacyl-ACP reductase K00023  acetoacetyl-CoA reductase [EC:1.1.1.36]\n"
     ]
    },
    {
     "name": "stderr",
     "output_type": "stream",
     "text": [
      "/home/ensakz/anaconda3/envs/GEM_py36/lib/python3.6/site-packages/orangecontrib/bioinformatics/kegg/entry/__init__.py:139 \u001b[1;31mUserWarning\u001b[0m: Nonregisterd field 'CREATED' in <class 'orangecontrib.bioinformatics.kegg.databases.GenomeEntry'>\n"
     ]
    }
   ],
   "source": [
    "organism = orangecontrib.bioinformatics.kegg.Organism(\"Methylosinus trichosporium\")\n",
    "genes = organism.genes\n",
    "gene_entry = genes[\"CQW49_17745\"]\n",
    "print(gene_entry.definition, gene_entry.orthology)"
   ]
  },
  {
   "cell_type": "code",
   "execution_count": 297,
   "metadata": {
    "ExecuteTime": {
     "end_time": "2020-01-14T08:29:17.373760Z",
     "start_time": "2020-01-14T08:29:17.368612Z"
    }
   },
   "outputs": [
    {
     "data": {
      "text/plain": [
       "'CQW49_17745'"
      ]
     },
     "execution_count": 297,
     "metadata": {},
     "output_type": "execute_result"
    }
   ],
   "source": [
    "model_OB3b_old.reactions.AACOAR.gene_reaction_rule"
   ]
  },
  {
   "cell_type": "code",
   "execution_count": 298,
   "metadata": {
    "ExecuteTime": {
     "end_time": "2020-01-14T08:29:17.880520Z",
     "start_time": "2020-01-14T08:29:17.874396Z"
    }
   },
   "outputs": [
    {
     "data": {
      "text/plain": [
       "'CQW49_17745'"
      ]
     },
     "execution_count": 298,
     "metadata": {},
     "output_type": "execute_result"
    }
   ],
   "source": [
    "iMsOB3b.reactions.get_by_id('AACOAR').gene_reaction_rule"
   ]
  },
  {
   "cell_type": "markdown",
   "metadata": {},
   "source": [
    "## ACACT1r"
   ]
  },
  {
   "cell_type": "code",
   "execution_count": 299,
   "metadata": {
    "ExecuteTime": {
     "end_time": "2020-01-14T08:29:18.103991Z",
     "start_time": "2020-01-14T08:29:18.098490Z"
    }
   },
   "outputs": [
    {
     "data": {
      "text/plain": [
       "'CQW49_15495 or CQW49_17750'"
      ]
     },
     "execution_count": 299,
     "metadata": {},
     "output_type": "execute_result"
    }
   ],
   "source": [
    "model_OB3b_old.reactions.ACACT1r.gene_reaction_rule"
   ]
  },
  {
   "cell_type": "code",
   "execution_count": 882,
   "metadata": {
    "ExecuteTime": {
     "end_time": "2019-11-13T10:04:09.515786Z",
     "start_time": "2019-11-13T10:04:08.829448Z"
    },
    "scrolled": true
   },
   "outputs": [
    {
     "name": "stderr",
     "output_type": "stream",
     "text": [
      "/home/ensakz/anaconda3/envs/GEM_py36/lib/python3.6/site-packages/orangecontrib/bioinformatics/kegg/entry/__init__.py:139 \u001b[1;31mUserWarning\u001b[0m: Nonregisterd field 'CREATED' in <class 'orangecontrib.bioinformatics.kegg.databases.GenomeEntry'>\n"
     ]
    },
    {
     "name": "stdout",
     "output_type": "stream",
     "text": [
      "(GenBank) acetyl-CoA acetyltransferase K00626  acetyl-CoA C-acetyltransferase [EC:2.3.1.9]\n",
      "(GenBank) acetyl-CoA C-acetyltransferase K00626  acetyl-CoA C-acetyltransferase [EC:2.3.1.9]\n"
     ]
    }
   ],
   "source": [
    "organism = orangecontrib.bioinformatics.kegg.Organism(\"Methylosinus trichosporium\")\n",
    "genes = organism.genes\n",
    "gene_entry = genes[\"CQW49_15495\"]\n",
    "print(gene_entry.definition, gene_entry.orthology)\n",
    "\n",
    "gene_entry = genes[\"CQW49_17750\"]\n",
    "print(gene_entry.definition, gene_entry.orthology)"
   ]
  },
  {
   "cell_type": "code",
   "execution_count": 300,
   "metadata": {
    "ExecuteTime": {
     "end_time": "2020-01-14T08:29:18.223009Z",
     "start_time": "2020-01-14T08:29:18.219611Z"
    }
   },
   "outputs": [],
   "source": [
    "iMsOB3b.reactions.ACACT1r.gene_reaction_rule = 'CQW49_15495 or CQW49_17750'"
   ]
  },
  {
   "cell_type": "code",
   "execution_count": 301,
   "metadata": {
    "ExecuteTime": {
     "end_time": "2020-01-14T08:29:18.412677Z",
     "start_time": "2020-01-14T08:29:18.367534Z"
    }
   },
   "outputs": [
    {
     "name": "stdout",
     "output_type": "stream",
     "text": [
      "CQW49_15495       CDS       T05155 (GenBank) acetyl-CoA acetyltransferase K00626  acetyl-CoA C-acetyltransferase [EC:2.3.1.9]\n",
      "CQW49_15500       CDS       T05155 (GenBank) 3-hydroxyacyl-CoA dehydrogenase K01782  3-hydroxyacyl-CoA dehydrogenase / enoyl-CoA hydratase / 3-hydroxybutyryl-CoA epimerase [EC:1.1.1.35 4.2.1.17 5.1.2.3]\n",
      "CQW49_17750       CDS       T05155 (GenBank) acetyl-CoA C-acetyltransferase K00626  acetyl-CoA C-acetyltransferase [EC:2.3.1.9]\n"
     ]
    }
   ],
   "source": [
    "organism = orangecontrib.bioinformatics.kegg.Organism(\"Methylosinus trichosporium\")\n",
    "genes = organism.genes\n",
    "gene_entry = genes[\"CQW49_15495\"]\n",
    "print(gene_entry.entry, gene_entry.definition, gene_entry.orthology)\n",
    "\n",
    "gene_entry = genes[\"CQW49_15500\"]\n",
    "print(gene_entry.entry, gene_entry.definition, gene_entry.orthology)\n",
    "\n",
    "gene_entry = genes[\"CQW49_17750\"]\n",
    "print(gene_entry.entry, gene_entry.definition, gene_entry.orthology)"
   ]
  },
  {
   "cell_type": "markdown",
   "metadata": {},
   "source": [
    "Save GEM with fixed central carbon metabolism gene-reaction rules:"
   ]
  },
  {
   "cell_type": "code",
   "execution_count": 302,
   "metadata": {
    "ExecuteTime": {
     "end_time": "2020-01-14T08:29:20.374979Z",
     "start_time": "2020-01-14T08:29:20.177360Z"
    }
   },
   "outputs": [],
   "source": [
    "cobra.io.save_json_model(iMsOB3b, memote_directory + draft_gems_dir_8 + \"bigg_OB3b_13_01_2020.json\")"
   ]
  },
  {
   "cell_type": "code",
   "execution_count": null,
   "metadata": {},
   "outputs": [],
   "source": []
  }
 ],
 "metadata": {
  "kernelspec": {
   "display_name": "Python [conda env:GEM_py36]",
   "language": "python",
   "name": "conda-env-GEM_py36-py"
  },
  "language_info": {
   "codemirror_mode": {
    "name": "ipython",
    "version": 3
   },
   "file_extension": ".py",
   "mimetype": "text/x-python",
   "name": "python",
   "nbconvert_exporter": "python",
   "pygments_lexer": "ipython3",
   "version": "3.6.9"
  },
  "toc": {
   "base_numbering": 1,
   "nav_menu": {},
   "number_sections": true,
   "sideBar": true,
   "skip_h1_title": false,
   "title_cell": "Table of Contents",
   "title_sidebar": "Contents",
   "toc_cell": false,
   "toc_position": {
    "height": "calc(100% - 180px)",
    "left": "10px",
    "top": "150px",
    "width": "384px"
   },
   "toc_section_display": true,
   "toc_window_display": true
  },
  "varInspector": {
   "cols": {
    "lenName": 16,
    "lenType": 16,
    "lenVar": 40
   },
   "kernels_config": {
    "python": {
     "delete_cmd_postfix": "",
     "delete_cmd_prefix": "del ",
     "library": "var_list.py",
     "varRefreshCmd": "print(var_dic_list())"
    },
    "r": {
     "delete_cmd_postfix": ") ",
     "delete_cmd_prefix": "rm(",
     "library": "var_list.r",
     "varRefreshCmd": "cat(var_dic_list()) "
    }
   },
   "position": {
    "height": "316.85px",
    "left": "1495px",
    "right": "20px",
    "top": "120px",
    "width": "350px"
   },
   "types_to_exclude": [
    "module",
    "function",
    "builtin_function_or_method",
    "instance",
    "_Feature"
   ],
   "window_display": false
  }
 },
 "nbformat": 4,
 "nbformat_minor": 2
}
