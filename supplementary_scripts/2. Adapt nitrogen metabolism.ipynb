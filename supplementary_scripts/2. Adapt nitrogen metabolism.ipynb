{
 "cells": [
  {
   "cell_type": "markdown",
   "metadata": {},
   "source": [
    "# Load dependencies"
   ]
  },
  {
   "cell_type": "code",
   "execution_count": 4,
   "metadata": {
    "ExecuteTime": {
     "end_time": "2020-01-02T00:58:25.806028Z",
     "start_time": "2020-01-02T00:58:23.776861Z"
    }
   },
   "outputs": [],
   "source": [
    "import cobra\n",
    "import libsbml\n",
    "import lxml"
   ]
  },
  {
   "cell_type": "code",
   "execution_count": 5,
   "metadata": {
    "ExecuteTime": {
     "end_time": "2020-01-02T00:58:25.817622Z",
     "start_time": "2020-01-02T00:58:25.808201Z"
    }
   },
   "outputs": [],
   "source": [
    "models_directory = '/media/sf_Shared/Systems_biology/Metabolic_models/'\n",
    "OB3b_directory = '/media/sf_Shared/GEM_OB3b/'\n",
    "memote_directory = '/home/ensakz/Desktop/memote_m_trichosporium/'\n",
    "fastas_directory = '/media/sf_Shared/Systems_biology/Fastas_and_annotations/'\n",
    "inparanoid_directory = '/media/sf_Shared/Systems_biology/InParanoid_runs/'\n",
    "draft_gems_dir_8 = 'draft_gems/8.OB3b_draft_gem_during_pathway_manual_curation/'"
   ]
  },
  {
   "cell_type": "code",
   "execution_count": 13,
   "metadata": {
    "ExecuteTime": {
     "end_time": "2020-01-02T00:58:32.274142Z",
     "start_time": "2020-01-02T00:58:31.310952Z"
    }
   },
   "outputs": [],
   "source": [
    "model_OB3b = cobra.io.load_json_model(memote_directory + draft_gems_dir_8 + \"bigg_OB3b_26_11_2019_2.json\")"
   ]
  },
  {
   "cell_type": "markdown",
   "metadata": {},
   "source": [
    "## OB3b GEM:"
   ]
  },
  {
   "cell_type": "code",
   "execution_count": 14,
   "metadata": {
    "ExecuteTime": {
     "end_time": "2020-01-02T00:58:32.280972Z",
     "start_time": "2020-01-02T00:58:32.276163Z"
    }
   },
   "outputs": [
    {
     "name": "stdout",
     "output_type": "stream",
     "text": [
      "DGK1 deoxyguanylate_kinase\n"
     ]
    }
   ],
   "source": [
    "for reaction in model_OB3b.reactions:\n",
    "    if \"deoxyguanylate\" in reaction.name:\n",
    "        print(reaction.id, reaction.name)"
   ]
  },
  {
   "cell_type": "code",
   "execution_count": 15,
   "metadata": {
    "ExecuteTime": {
     "end_time": "2020-01-02T00:58:32.541786Z",
     "start_time": "2020-01-02T00:58:32.283620Z"
    }
   },
   "outputs": [
    {
     "name": "stdout",
     "output_type": "stream",
     "text": [
      "EAOXRED pyridine_nucleotide_disulphide_oxidoreductase\n",
      "IMPC inosine_monophosphate_cyclohydrolase\n",
      "HACD8i 3_hydroxyacyl_CoA_dehydrogenase__n_18_0_\n",
      "PANTS pantothenate_synthetase\n",
      "IMPD IMP_dehydrogenase\n",
      "OCPPH3 2_octaprenylphenol_hydroxylase\n",
      "PGSA161 phosphatidylglycerophosphate_synthetase__n_16_1_\n",
      "LCAD lactaldehyde_dehydrogenase\n",
      "PGSA160 phosphatidylglycerophosphate_synthetase__n_16_0_\n",
      "GLUDy glutamate_synthase_1\n",
      "PPAtex propanoate_transport_via_diffusion__extracellular_to_periplasm_\n",
      "DTMPK thymidylate_kinase\n",
      "PPND prephenate_dehydrogenase\n",
      "DXPRIi 1_deoxy_D_xylulose_5_phosphate_reductoisomerase\n",
      "PC11M precorrin_4_C_11__methyltransferase\n",
      "PSERTr phosphoserine_aminotransferase\n",
      "CAT hydroperoxidase\n",
      "CYO_2p cytochrome_c_oxidase\n",
      "UAMAS UDP_N_acetylmuramate_alanine_ligase\n",
      "MNEUROPNDH3 methoxyneurosporene_dehydrogenase_3\n",
      "EX_DM_trnathr exchange_flux___tRNA_Thr_\n",
      "MNEUROPNDH2 methoxyneurosporene_dehydrogenase_2\n",
      "2AGPEAT161acp 2_acylglycerophosphoethanolamine_acyltransferase__n_16_1_\n",
      "PEPGLYCANGT peptidoglycan_glycosyltransferase\n",
      "MTHFC methenyltetrahydrofolate_cyclohydrolase\n",
      "MTHFD methylenetetrahydrofolate_dehydrogenase\n",
      "THRD_L threonine_deaminase\n",
      "EAR60y enoyl__acyl_carrier_protein__reductase__n_6_0_\n",
      "CDPMEK 4_diphosphocytidyl_2_C_methyl_D_erythritol_kinase\n",
      "PGMT phosphoglucomutase\n",
      "PGSA181 phosphatidylglycerophosphate_synthetase__n_18_1_\n",
      "PItex phosphate_transport_via_diffusion__extracellular_to_periplasm_\n",
      "ASPCTr aspartate_carbamoyltransferase\n",
      "MALtex malate_transport_via_diffusion__extracellular_to_periplasm_\n",
      "CYTK1 cytidylate_kinase\n",
      "SUCCOAH succinyl_CoA_hydrolase\n",
      "HNEUROPNMT2 hydroxyneurosporene_methyltransferase_2\n",
      "2AGPEAT180acp 2_acylglycerophosphoethanolamine_acyltransferase__n_18_0_\n",
      "HNEUROPNMT3 hydroxyneurosporene_methyltransferase_3\n",
      "HNEUROPNMT4 hydroxyneurosporene_methyltransferase_4\n",
      "DHPPDA2 diaminohydroxyphosphoribosylaminopyrimidine_deaminase\n",
      "PGSA180 phosphatidylglycerophosphate_synthetase__n_18_0_\n",
      "CITtex citrate_transport_via_diffusion__extracellular_to_periplasm_\n",
      "PHYNDH_e phytoene_dehydrogenase_1__extracellular_\n",
      "HNEUROPNMT6 hydroxyneurosporene_methyltransferase_6\n",
      "HNEUROPNMT5 hydroxyneurosporene_methyltransferase_5\n",
      "GLYCL_3 H_protein_aminomethyltransferase\n",
      "EX_ac_e exchange_flux___acetate\n",
      "EX_etma_e exchange_flux___ethylamine\n",
      "EDTXS1 lauroyl_acyltransferase\n",
      "PRE3BS precorrin_3B_synthase\n",
      "HACD1 3_hydroxyacyl_CoA_dehydrogenase__n_4_0_\n",
      "HACD2 3_hydroxyacyl_CoA_dehydrogenase__n_6_0_\n",
      "HACD5 3_hydroxyacyl_CoA_dehydrogenase__n_12_0_\n",
      "HACD6 3_hydroxyacyl_CoA_dehydrogenase__n_14_0_\n",
      "HACD3 3_hydroxyacyl_CoA_dehydrogenase__n_8_0_\n",
      "MTRI2 5_methylthioribose_1_phosphate_isomerase\n",
      "HACD4 3_hydroxyacyl_CoA_dehydrogenase__n_10_0_\n",
      "ARGTRS arginyl_tRNA_synthetase\n",
      "AACPS3 acyl_acyl_carrier_protein_synthetase__n_16_0_\n",
      "AACPS4 acyl_acyl_carrier_protein_synthetase__n_16_1_\n",
      "SHK3Dr shikimate_5_dehydrogenase\n",
      "AACPS5 acyl_acyl_carrier_protein_synthetase__n_18_1_\n",
      "AACPS6 acyl_acyl_carrier_protein_synthetase__n_18_0_\n",
      "IGPS indole_3_glycerol_phosphate_synthase\n",
      "EX_h2o_e exchange_flux___H2O\n",
      "GLYCLTDx glyoxylate_reductase\n",
      "SULabcpp sulfate_ABC_transporter\n",
      "HACD7 3_hydroxyacyl_CoA_dehydrogenase__n_16_0_\n",
      "SHCHD2 precorrin_2_dehydrogenase\n",
      "RIBONAtex D_ribonate_transport_via_diffusion__extracellular_to_periplasm_\n",
      "ADK1 adenylate_kinase\n",
      "PC6YM precorrin_6Y_C_5_15__methyltransferase\n",
      "EX_pyr_e exchange_flux___pyruvate\n",
      "SALMMT methylation\n",
      "GFUCS GDP_L_fucose_synthase\n",
      "GMPS GMP_synthetase__ammonia_dependent_\n",
      "POLYPIP exopolyphosphatase\n",
      "DNTPPA dihydroneopterin_triphosphate_pyrophosphohydrolase\n",
      "MALTATr maltose_acetyltransferase\n",
      "ACACt2pp acetoacetate_symport__periplasm_to_cytoplasm_\n",
      "PYRtex pyruvate_transport_via_diffusion__extracellular_to_periplasm_\n",
      "GLUTRS glutamyl_tRNA_synthetase\n",
      "ATPM ATP_maintenance_requirement\n",
      "FE2tex iron_transport_via_diffusion__extracellular_to_periplasm_\n",
      "GLXDH glyoxylate_dehydrogenase\n",
      "MOBDMPTL molybdenum__molybdopterin_ligase\n",
      "HACYLCOAEPI100 3_hydroxyacyl_CoA_epimerase__n_10_0_\n",
      "DB4PS 3_4_dihydroxy_2_butanone_4_phoshate_synthase\n",
      "LEUTRS leucine_tRNA_synthetase\n",
      "GLUPRT amidophosphoribosyltransferase__PRPP_amidotransferase_\n",
      "HNEUROPNMT hydroxyneurosporene_methyltransferase_1\n",
      "PTPAT pantetheine_phosphate_adenylyltransferase\n",
      "DDPA 2_dehydro_3_deoxyphosphoheptonate_aldolase\n",
      "ASPtex aspartate_transport_via_diffusion__extracellular_to_periplasm_\n",
      "FBA fructose_bisphosphate_aldolase\n",
      "HEXTT octaprenyl_diphosphate_synthase_3\n",
      "RIBtex D_ribose_transport_via_diffusion__extracellular_to_periplasm_\n",
      "AKGDH 2_oxoglutarate_dehydrogenase\n",
      "LYXtex L_lyxose_transport_via_diffusion__extracellular_to_periplasm_\n",
      "EAR181y enoyl__acyl_carrier_protein__reductase__n_18_1_\n",
      "2KDRIBtex 2_deoxy_D_ribose_transport_via_diffusion__extracellular_to_periplasm_\n",
      "ALATRS alanyl_tRNA_synthetase\n",
      "PC17M precorrin_3B_C_17__methyltransferase\n",
      "HSERTA homoserine_O_acetyltransferase\n",
      "TKT1 transketolase\n",
      "LPLIPAL2C161 lysophospholipase_C2__n_16_1_\n",
      "CCR crotonyl_CoA_reductase\n",
      "PHETRS phenylalanine_tRNA_synthetase\n",
      "P5CR pyrroline_5_carboxylate_reductase\n",
      "EX_5dglcn_e exchange_flux___5_dehydro_D_gluconate\n",
      "ACACT7r 3_ketoacyl_CoA_thiolase__n_16_0_\n",
      "ACACT5r 3_ketoacyl_CoA_thiolase__n_12_0_\n",
      "P5CD 1_pyrroline_5_carboxylate_dehydrogenase\n",
      "ETFDH ETF_dehydrogenase\n",
      "PYAM5POr pyridoxamine_5__phosphate_oxidase\n",
      "LYSTRS lysyl_tRNA_synthetase\n",
      "EAR141y enoyl__acyl_carrier_protein__reductase__n_14_1_\n",
      "UDPGLCUREPI UDP_glucuronate_5__epimerase\n",
      "PC8XM precorrin_8X_methylmutase\n",
      "ACACT6r 3_ketoacyl_CoA_thiolase__n_14_0_\n",
      "FBP fructose_1_6_bisphosphatase\n",
      "DALAOX glycine_oxidase_2\n",
      "EX_for_e exchange_flux___formate\n",
      "KAT8 3_ketoacyl_CoA_thiolase__n_18_0_\n",
      "DHAtpp glycerone_transport_via_diffusion__periplasm_to_cytoplasm_\n",
      "EAR140y enoyl__acyl_carrier_protein__reductase__n_14_0_\n",
      "ADCPS2 adenosylcobinamide_phosphate_synthase\n",
      "LPLIPAL2C181 lysophospholipase_C2__n_18_1_\n",
      "EAR80y enoyl__acyl_carrier_protein__reductase__n_8_0_\n",
      "LPLIPAL2C180 lysophospholipase_C2__n_18_0_\n",
      "EX_h_e exchange_flux___proton\n",
      "MOBDabcpp molybdate_ABC_transporter\n",
      "DHORD dihydroorotate_dehydrogenase\n",
      "EAR160y enoyl__acyl_carrier_protein__reductase__n_16_0_\n",
      "PEMT181 phosphatidylethanolamine_N_methyltransferase__n_18_1_\n",
      "PEMT180 phosphatidylethanolamine_N_methyltransferase__n_18_0_\n",
      "SOTA succinylornithine_transaminase\n",
      "APRAUR 5_amino_6__5_phosphoribosylamino_uracil_reductase\n",
      "CA2tex calcium_transport_via_diffusion__extracellular_to_periplasm_\n",
      "ACACT4r 3_ketoacyl_CoA_thiolase__n_10_0_\n",
      "AICART phosphoribosylaminoimidazolecarboxamide_formyltransferase\n",
      "NADS1 NH3_dependent_NAD____synthetase\n",
      "HACYLCOAEPI140 3_hydroxyacyl_CoA_epimerase__n_14_0_\n",
      "NADS2 glutamine_dependent_NAD____synthetase\n",
      "HPPK2 2_amino_4_hydroxy_6_hydroxymethyldihydropteridine_pyrophosphokinase\n",
      "COBALT2tpp Cobalt_transporter__periplasm_to_cytoplasm_\n",
      "RNDR3 CDP_reductase\n",
      "ENCOAI81 enoyl_CoA_isomerase__n_8_0_\n",
      "RNDR2 GDP_reductase\n",
      "UAGDP N_acetylglucosamine_1_phosphate_uridyltransferase\n",
      "PDX5PS2 pyridoxine_5__phosphate_synthase\n",
      "RNDR1 ADP_reductase\n",
      "AKGtex a_ketoglutarate_transport_via_diffusion__extracellular_to_periplasm_\n",
      "PUNP8 adenosine_phosphorylase\n",
      "L_LALDtex L_lactaldehyde_transport_via_diffusion__extracellular_to_periplasm_\n",
      "PUNP9 5__deoxyadenosine_phosphorylase\n",
      "L_LACt2rpp _S__lactate_transport__periplasm_to_cytoplasm_\n",
      "EAR40y enoyl__acyl_carrier_protein__reductase__n_4_0_\n",
      "ALAGLUEPI L_Ala_D_L_Glu_epimerase\n",
      "GPDDA1 sn_Glycero_3_phosphocholine_glycerophosphohydrolase\n",
      "GPDDA2 sn_Glycero_3_phosphoethanolamine_glycerophosphohydrolase\n",
      "DAHETBCLPHDDH 2_desacetyl_2_hydroxyethyl_bacteriochlorophyllide_a_dehydrogenase\n",
      "PUNP7 xanthosine_phosphorylase\n",
      "EX_DM_trnaala exchange_flux___tRNA_Ala_\n",
      "GLNTRAT glutamyl_tRNA_amidotransferase\n",
      "ACACT3r 3_ketoacyl_CoA_thiolase__n_8_0_\n",
      "EX_DM_trnaile exchange_flux___tRNA_Ile_\n",
      "EX_photon_e exchange_flux___light\n",
      "DCAtex decanoate_transport_via_diffusion__extracellular_to_periplasm_\n",
      "NTPPD11 2_nitropropane_dioxygenase\n",
      "3HBCDH 3_hydroxybutyryl_CoA_dehydrogenase\n",
      "GCALDDr glycolaldehyde_dehydrogenase\n",
      "ACACT2r 3_ketoacyl_CoA_thiolase__n_6_0_\n",
      "PPNDH prephenate_dehydratase\n",
      "EX_xylnt_D_e exchange_flux___D_xylonate\n",
      "FPGS8 folylpolyglutamate_synthase_2\n",
      "ACtex acetate_transport_via_diffusion__extracellular_to_periplasm_\n",
      "AHC S_adenosylhomocysteine_hydrolase\n",
      "ALATA_D D_alanine_aminotransferase\n",
      "ZCARDS2 zeta_carotene_desaturase_2\n",
      "ADSK adenylylsulfate_kinase\n",
      "GTPCII2 GTP_cyclohydrolase_II\n",
      "HACYLCOAEPI120 3_hydroxyacyl_CoA_epimerase__n_12_0_\n",
      "LYXNTtex L_lyxonate_transport_via_diffusion__extracellular_to_periplasm_\n",
      "ENCOAI61 enoyl_CoA_isomerase__n_6_0_\n",
      "TDSK tetraacyldisaccharide_4__kinase\n",
      "APG3PAT160 glycerol_3_phosphate_synthetase__n_16_0_\n",
      "ACALDtpp acetaldehyde_transport_via_diffusion__periplasm_to_cytoplasm_\n",
      "APG3PAT161 glycerol_3_phosphate_synthetase__n_16_1_\n",
      "ADSS adenylosuccinate_synthetase\n",
      "FACOAL60 fatty_acyl_CoA_synthetase__n_6_0_\n",
      "EX_DM_AMOB exchange_flux___S__adenosyl_4_methylthio_2_oxobutanoate\n",
      "ACACT1r acetyl_CoA_C_acetyltransferase\n",
      "GLUTRS_Gln_ nondiscriminating_glutamyl_tRNA_synthetase\n",
      "CYOO_4p cytochrome_o_ubiquinol_oxidase\n",
      "MEOHDH methanol_dehydrogenase\n",
      "PHYNS phytoene_synthase_1\n",
      "CDPGD cdp_glucose_4_6_dehydratase\n",
      "G2PP glycerol_2_phosphatase\n",
      "TRPS1r tryptophan_synthase\n",
      "OPHBDC 3_octaprenyl_4_hydroxybenzoate_carboxy_lyase\n",
      "ENCOAI41 enoyl_CoA_isomerase__n_4_0_\n",
      "TSULtex thiosulfate_transport_via_diffusion__extracellular_to_periplasm_\n",
      "SORBNLDH L_sorbosone_dehydrogenase\n",
      "APG3PAT180 glycerol_3_phosphate_synthetase__n_18_0_\n",
      "APG3PAT181 glycerol_3_phosphate_synthetase__n_18_1_\n",
      "APH181 acylphosphatase__n_18_1_\n",
      "ACPpds acyl_carrier_protein_phosphodiesterase\n",
      "EX_rib_D_e exchange_flux___D_ribose\n",
      "CHORS chorismate_synthase\n",
      "APH180 acylphosphatase__n_18_0_\n",
      "CHORM chorismate_mutase\n",
      "SUCOAS succinyl_CoA_synthetase\n",
      "FACOAL80 fatty_acyl_CoA_synthetase__n_8_0_\n",
      "5DGLCNR 5_keto_D_gluconate_5_reductase__inferred_from_physiology_\n",
      "PPDK pyruvate_phosphate_dikinase\n",
      "BTCAL fatty_acyl_CoA_synthetase__n_4_0_\n",
      "H2MB4PRD 1_hydroxy_2_methyl_2__E__butenyl_4_diphosphate_reductase_1\n",
      "GTHS glutathione_synthetase\n",
      "XYLNTtex D_xylonate_transport_via_diffusion__extracellular_to_periplasm_\n",
      "APH161 acylphosphatase__n_16_1_\n",
      "TRPS3r tryptophan_synthase_A\n",
      "ADPT adenine_phosphoribosyltransferase\n",
      "EX_DM_trnatrp exchange_flux___tRNA_Trp_\n",
      "CATetoh catalase\n",
      "ACS acetyl_CoA_synthetase\n",
      "MREDR NADH_azoreductase\n",
      "PPPGO protoporphyrinogen_IX_oxidase\n",
      "USHD UDP_2_3_diacylglucosamine_hydrolase\n",
      "ZCARDS zeta_carotene_desaturase_1\n",
      "EX_ca2_e exchange_flux___calcium\n",
      "APH160 acylphosphatase__n_16_0_\n",
      "UAGAAT UDP_N_acetylglucosamine_acyltransferase\n",
      "CA2abctpp calcium_ABC_transporter\n",
      "HSTPTr histidinol_phosphate_aminotransferase\n",
      "ZCARDS2_e zeta_carotene_desaturase_2__extracellular_\n",
      "EX_lald_L_e_ L_lactaldehyde_exchange\n",
      "TRPTRS tryptophanyl_tRNA_synthetase\n",
      "PROD2 proline_dehydrogenase\n",
      "DHORTS dihydroorotase\n",
      "MOGDS molybdopterin_guanine_dinucleotide_synthase\n",
      "EAR161y enoyl__acyl_carrier_protein__reductase__n_16_1_\n",
      "CYSTRS cysteine_tRNA_synthetase\n",
      "3HAD121 3_hydroxyacyl__acyl_carrier_protein__dehydratase__n_12_1_\n",
      "EX_DM_trnaval exchange_flux___tRNA_Val_\n",
      "3HAD120 3_hydroxyacyl__acyl_carrier_protein__dehydratase__n_12_0_\n",
      "IPMD2r 3_isopropylmalate_dehydrogenase\n",
      "FCLPA L_fuculose_1_phosphate_aldolase\n",
      "EX_dca_e exchange_flux___decanoate\n",
      "COCHL cobaltochelatase\n",
      "CPPPGO coproporphyrinogen_III_oxidase\n",
      "EX_galcDarab_e exchange_flux___3_O_b_D_galactopyranosyl_D_arabinose\n",
      "HISTDADH histidinal_dehydrogenase\n",
      "EX_tsul_e exchange_flux___thiosulfate\n",
      "ASPTA aspartate_aminotransferase\n",
      "KAT141 3_ketoacyl_CoA_thiolase__n_14_1_\n",
      "TARTRtex L_tartrate_transport_via_diffusion__extracellular_to_periplasm_\n",
      "PSD161 phosphatidylserine_decarboxylase__n_16_1_\n",
      "GLU5K gamma_glutamyl_kinase\n",
      "PSD160 phosphatidylserine_decarboxylase__n_16_0_\n",
      "TARTR_Ltpp L_tartrate_transporter\n",
      "DXPS 1_deoxy_D_xylulose_5_phosphate_synthase\n",
      "FACOAL121 fatty_acyl_CoA_synthetase__n_12_1_\n",
      "FACOAL120 fatty_acyl_CoA_synthetase__n_12_0_\n",
      "VALTRS valine_tRNA_synthetase\n",
      "EX_D_araba_e exchange_flux___D_arabinonate\n",
      "PHAS poly_3_hydroxyalkanoate__polymerase\n",
      "EX_mg2_e exchange_flux___magnesium\n",
      "SUCCD1 succinate_dehydrogenase\n",
      "MEPCT 4_diphosphocytidyl_2C__methyl_D_erythritol_synthase\n",
      "EX_lac_L_e exchange_flux____S__lactate\n",
      "METAT methionine_adenosyltransferase\n",
      "ETOHtex ethanol_transport_via_diffusion__extracellular_to_periplasm_\n",
      "3HAD100 B_hydroxydecanoyl_thioester_dehydrase\n",
      "FRDOr NADPH_ferredoxin_oxidoreductase_1\n",
      "THRTRS threonine_tRNA_synthetase\n",
      "EX_co2_e exchange_flux___CO2\n",
      "TMPPP thiamine_phosphate_synthase\n",
      "KAT121 3_ketoacyl_CoA_thiolase__n_12_1_\n",
      "HACDHG haloacid_dehalogenase\n",
      "PRMICI N__5__phospho_L_ribosyl_formimino__5_amino_1__5__phosphoribosyl__4_imidazolecarboxamide_isomerase\n",
      "EX_araba_e exchange_flux___L_arabinonate\n",
      "VALTA amino_acid_transferase__valine_\n",
      "FCLT ferrochelatase\n",
      "PRFGS phosphoribosylformylglycinamide_synthetase\n",
      "MFPGS5 folylpolyglutamate_synthase_1\n",
      "TYRTA aromatic_amino_acid_transaminase__TYR_\n",
      "T2DECAI trans_2_decenoyl_ACP_isomerase\n",
      "THMBIOS2 thiamin_biosynthesis_2\n",
      "THMBIOS3 thiamin_biosynthesis_3\n",
      "THMBIOS4 thiamin_biosynthesis_4\n",
      "PPCDC phosphopantothenoylcysteine_decarboxylase\n",
      "FACOAL100 fatty_acyl_CoA_synthetase__n_10_0_\n",
      "PPA2 triphosphate_phosphohydrolase__inferred_from_gap_\n",
      "RPI ribose_5_phosphate_isomerase\n",
      "DHXANTI trans_2_3_dihydro_3_hydroxy_anthranilate_isomerase\n",
      "EX_DM_trnaphe exchange_flux___tRNA_Phe_\n",
      "ORPT orotate_phosphoribosyltransferase\n",
      "DHXANTH 2_amino_2_deoxyisochorismate_hydrolase\n",
      "GMPS2 GMP_synthetase\n",
      "PYK pyruvate_kinase\n",
      "RPE D_ribulose_5_phosphate_3_epimerase\n",
      "PTA2 phosphate_acetyltransferase_2\n",
      "ASAD aspartate_semialdehyde_dehydrogenase\n",
      "ACPS1 holo__acyl_carrier_protein__synthase\n",
      "FMNRx2 NADPH_dependent_FMN_reductase\n",
      "HACOAEPI141 3_hydroxyacyl_CoA_epimerase__n_14_1_\n",
      "BMMALCOAL b_methylmalyl_CoA_lyase\n",
      "EX_DM_thif exchange_flux___thiF\n",
      "PRAMPC phosphoribosyl_AMP_cyclohydrolase\n",
      "FUM fumarate_hydratase\n",
      "EX_fe2_e exchange_flux___Fe2_\n",
      "EX_acac_e exchange_flux___acetoacetate\n",
      "EX_DM_thil exchange_flux___thiI\n",
      "KAT181 3_ketoacyl_CoA_thiolase__n_18_1_\n",
      "HGBAMS hydrogenobyrinate_a_c_diamide_synthase\n",
      "DHDPRy dihydrodipicolinate_reductase\n",
      "EX_DM_trnagln exchange_flux___tRNA_Gln_\n",
      "BRFAPS 4__b_D_ribofuranosyl_aminobenzene_5__phosphate_synthase\n",
      "EX_DM_this exchange_flux___thiS\n",
      "EX_ppa_e exchange_flux___propanoate\n",
      "LPLIPAL1E181 lysophospholipase_E1__n_18_1_\n",
      "LEUTAi amino_acid_transferase__leucine_\n",
      "EX_DM_trnaglu exchange_flux___tRNA_Glu_\n",
      "ACONT aconitate_hydratase\n",
      "EX_DM_trnagly exchange_flux___tRNA_Gly_\n",
      "FPGS10 folylpolyglutamate_synthase_3\n",
      "ENCOAI162 enoyl_CoA_isomerase__n_16_1_\n",
      "FACOAL161 fatty_acyl_CoA_synthetase__n_16_1_\n",
      "ENCOAI161 enoyl_CoA_isomerase__n_16_0_\n",
      "FACOAL160 fatty_acyl_CoA_synthetase__n_16_0_\n",
      "NNDMBRT nicotinate_nucleotide__dimethylbenzimidazole_phosphoribosyltransferase\n",
      "ALAR alanine_racemase\n",
      "ALAS 5_aminolevulinate_synthase\n",
      "ORNDC ornithine_decarboxylase\n",
      "NADK NAD_kinase\n",
      "EX_cu2_e exchange_flux___copper\n",
      "DBTSr dethiobiotin_synthetase\n",
      "GLUtex glutamate_transport_via_diffusion__extracellular_to_periplasm_\n",
      "HACOAEPI121 3_hydroxyacyl_CoA_epimerase__n_12_1_\n",
      "GAPD glyceraldehyde_3_phosphate_dehydrogenase\n",
      "CU2abcpp copper_exporting_ATPase\n",
      "KDOPS 3_deoxy_8_phosphooctulonate_synthase\n",
      "GLYAMDTRc glycine_amidinotransferase\n",
      "UPP3S uroporphyrinogen_III_synthase\n",
      "UPP3MT uroporphyrin_III_C_methyltransferase_1\n",
      "KDOPP 3_deoxy_D_manno_octulosonate_8_phosphate_phosphatase\n",
      "THD2pp NAD_P__transhydrogenase\n",
      "EX_so4_e exchange_flux___SO42_\n",
      "ETHMALCOAM ethylmalonyl_CoA_mutase\n",
      "LPLIPAL1E160 lysophospholipase_E1__n_16_0_\n",
      "LPLIPAL1E161 lysophospholipase_E1__n_16_1_\n",
      "KAT161 3_ketoacyl_CoA_thiolase__n_16_1_\n",
      "HSK homoserine_kinase\n",
      "EX_glyclt_e exchange_flux___glycolate\n",
      "MLMPTDHy methylenetetrahydromethanopterin_dehydrogenase_1\n",
      "PHBD2 poly_3_hydroxyalkanoate__depolymerase\n",
      "ENCOAI182 enoyl_CoA_isomerase__n_18_1_\n",
      "FACOAL141 fatty_acyl_CoA_synthetase__n_14_1_\n",
      "ENCOAI181 enoyl_CoA_isomerase__n_18_0_\n",
      "FRTT geranylgeranyl_pyrophosphate_synthase\n",
      "FACOAL140 fatty_acyl_CoA_synthetase__n_14_0_\n",
      "ASP1DC aspartate_1_decarboxylase\n",
      "DHQS 3_dehydroquinate_synthase\n",
      "CBPS carbamoyl_phosphate_synthetase\n",
      "LDH_L S_lactate_dehydrogenase\n",
      "ETHAtex ethanolamine_transport_via_diffusion__extracellular_to_periplasm_\n",
      "THZS thiazole_synthase_1\n",
      "DNMPPA dihydroneopterin_monophosphate_dephosphorylase\n",
      "EX_mobd_e exchange_flux___molybdate\n",
      "DHQD 3_dehydroquinate_dehydratase\n",
      "CLt4 chloride_channel\n",
      "GLYTRS glycine_tRNA_synthetase\n",
      "Kabcpp potassium_transporting_ATPase\n",
      "PPAt7 propanoate_symport__periplasm_to_cytoplasm_\n",
      "MALDHDC malate_dehydrogenase__decarboxylating_\n",
      "HNEUROPNS2 hydroxyneurosporene_synthase_2\n",
      "EX_dha_e exchange_flux___glycerone\n",
      "HNEUROPNS1 hydroxyneurosporene_synthase_1\n",
      "ACPPAT181 acyl_phosphate_synthase__n_18_1_\n",
      "UAAGDS UDP_N_acetylmuramoylalanyl_D_glutamate_2_6_diaminopimelate_ligase\n",
      "SDPDS N_succinyl_L_diaminopimelate_desuccinylase\n",
      "HACOAEPI181 3_hydroxyacyl_CoA_epimerase__n_18_1_\n",
      "MCPST 3_mercaptopyruvate_sulfurtransferase\n",
      "ACPPAT180 acyl_phosphate_synthase__n_18_0_\n",
      "AIRCr phosphoribosylaminoimidazole_carboxylase\n",
      "IG3PS imidazole_glycerol_phosphate_synthase\n",
      "MOBDtex molybdate_transport_via_diffusion__extracellular_to_periplasm_\n",
      "GLYCLTtex glycolate_transport_via_diffusion__extracellular_to_periplasm_\n",
      "ACOTA acetylornithine_aminotransferase\n",
      "TMDS thymidylate_synthetase\n",
      "PRAIS phosphoribosylaminoimidazole_synthetase\n",
      "ANACMURLALAA anhydro_N_acetylmuramoyl_L_alanine_amidase\n",
      "UPPDC1 uroporphyrinogen_decarboxylase\n",
      "ARABA_Dtex D_arabinonate_transport_via_diffusion__extracellular_to_periplasm_\n",
      "EX_arab_D_e exchange_flux___D_arabinose\n",
      "SPOTN 1_amino_propan_2_one_3_phosphate_synthesis\n",
      "3OAR40 3_oxoacyl__acyl_carrier_protein__reductase__n_4_0_\n",
      "XYLtex D_xylose_transport_via_diffusion__extracellular_to_periplasm_\n",
      "SSALyr succinate_semialdehyde_dehydrogenase\n",
      "UDPGDr UDP_glucose_6_dehydrogenase\n",
      "DTPCUDCPPP undecaprenyl_pyrophosphate_phosphatase\n",
      "PPC phosphoenolpyruvate_carboxylase\n",
      "PPA inorganic_pyrophosphatase\n",
      "BTCOAC butyryl_CoA_carboxylase\n",
      "3HAD181 3_hydroxyacyl__acyl_carrier_protein__dehydratase__n_18_1_\n",
      "PPDODH 1_2_propanediol_dehydrogenase\n",
      "3HAD180 3_hydroxyacyl__acyl_carrier_protein__dehydratase__n_18_0_\n",
      "ACPPAT161 acyl_phosphate_synthase__n_16_1_\n",
      "ACPPAT160 acyl_phosphate_synthase__n_16_0_\n",
      "HACOAEPI161 3_hydroxyacyl_CoA_epimerase__n_16_1_\n",
      "MLMPTDH methylenetetrahydromethanopterin_dehydrogenase_2\n",
      "PRAI phosphoribosylanthranilate_isomerase\n",
      "CBLAT cobalamin_adenosyltransferase\n",
      "DPCOAK dephospho_CoA_kinase\n",
      "FTHFL formate_tetrahydrofolate_ligase\n",
      "EX_akg_e exchange_flux___2_oxoglutarate\n",
      "ILETRS isoleucine_tRNA_synthetase\n",
      "ASPO6 L_aspartate_oxidase\n",
      "PRE5MT precorrin_5__C1__methyltransferase\n",
      "FACOAL180 fatty_acyl_CoA_synthetase__n_18_0_\n",
      "FACOAL181 fatty_acyl_CoA_synthetase__n_18_1_\n",
      "FALDHp formaldehyde_dehydrogenase\n",
      "TRSARr 2_hydroxy_3_oxopropionate_reductase__NAD_\n",
      "DHOANTC 2_3_dihydro_3_oxo_anthranilate_condensation__hypothetical_\n",
      "PRBK phosphoribulokinase\n",
      "LPLIP2AGPC160 lysophospholipase_C2__n_16_0_\n",
      "DHFS dihydrofolate_synthetase_1\n",
      "PGPP160 phosphatidylglycerophosphatase__n_16_0_\n",
      "DHFR dihydrofolate_reductase\n",
      "EX_meoh_e exchange_flux___methanol\n",
      "PGPP161 phosphatidylglycerophosphatase__n_16_1_\n",
      "3HAD160 3_hydroxyacyl__acyl_carrier_protein__dehydratase__n_16_0_\n",
      "3HAD161 3_hydroxyacyl__acyl_carrier_protein__dehydratase__n_16_1_\n",
      "LGTHL lactoylglutathione_lyase\n",
      "PTAr phosphate_acetyltransferase_1\n",
      "FMFTFMPT formylmethanofuran_H4MPT_formyltransferase\n",
      "PMPK phosphohydroxymethylpyrimidine_kinase\n",
      "GMAND GDP_mannose_4_6_dehydratase\n",
      "G3PD2 glycerol_3_phosphate_dehydrogenase\n",
      "12PPDStex 1_2_propanediol_transport_via_diffusion__extracellular_to_periplasm_\n",
      "3OAR80 3_oxoacyl__acyl_carrier_protein__reductase__n_8_0_\n",
      "METTRS methionyl_tRNA_synthetase\n",
      "TRPS2 tryptophan_synthase_B\n",
      "AMAOTr 7_8_diaminopelargonic_acid_synthetase\n",
      "FALDA H4F_dependent_formaldehyde_activating\n",
      "ADOCBLPS cobalamin_5__phosphate_synthase\n",
      "H2MPTR2 dihydromethanopterin_reductase\n",
      "PRATPP phosphoribosyl_ATP_pyrophosphatase\n",
      "OMMBZH2 2_octaprenyl_3_methyl_6_methoxy_1_4_benzoquinone_hydroxylase\n",
      "ADMDCr S_adenosylmethionine_decarboxylase\n",
      "PGPP180 phosphatidylglycerophosphatase__n_18_0_\n",
      "EX_DM_5dr1p exchange_flux____5__deoxyribose_1_phosphate\n",
      "3HAD140 3_hydroxyacyl__acyl_carrier_protein__dehydratase__n_14_0_\n",
      "PGPP181 phosphatidylglycerophosphatase__n_18_1_\n",
      "TMPKr thiamine_monophosphate_kinase\n",
      "3HAD141 3_hydroxyacyl__acyl_carrier_protein__dehydratase__n_14_1_\n",
      "EX_h2o2_e exchange_flux___H2O2\n",
      "EX_asp_L_e exchange_flux___L_aspartate\n",
      "EX_DM_trnaleu exchange_flux___tRNA_Leu_\n",
      "DUTPDP deoxyuridine_5__triphosphate_nucleotidohydrolase\n",
      "3PSMES 5_enolpyruvylshikimate_3_phosphate_synthetase\n",
      "FMETTRS 10_formyltetrahydrofolate_L_methionyl_tRNA_fMet__N_formyltransferase\n",
      "NAtex sodium_transport_via_diffusion__extracellular_to_periplasm_\n",
      "MI3PP inositol_monophosphatase\n",
      "2AGPEAT160acp 2_acylglycerophosphoethanolamine_acyltransferase__n_16_0_\n",
      "OCOAT1r succinyl_CoA_3_oxo_acid_CoA_transferase\n",
      "ADCMS2 2_amino_2_deoxyisochorismate_synthase\n",
      "PSD181 phosphatidylserine_decarboxylase__n_18_1_\n",
      "PSD180 phosphatidylserine_decarboxylase__n_18_0_\n",
      "3OAR60 3_oxoacyl__acyl_carrier_protein__reductase__n_6_0_\n",
      "ADOCBIK cobinamide_kinase\n",
      "PERD erythronate_4_phosphate_dehydrogenase\n",
      "H2MB4P 1_hydroxy_2_methyl_2__E__butenyl_4_diphosphate_synthase\n",
      "UDPACGAM UDP_N_acetylglucosamine__N_acetylmuramyl__pentapeptide__pyrophosphoryl_undecaprenol_N_acetylglucosamine_transferase_1\n",
      "HACOADH121 3_hydroxyacyl_CoA_dehydrogenase__n_12_1_\n",
      "E4PD erythrose_4_phosphate_dehydrogenase\n",
      "CLtex chloride_transport_via_diffusion__extracellular_to_periplasm_\n",
      "KDOCT 3_deoxy_D_manno_octulosonate_cytidylyltransferase\n",
      "3OAR160 3_oxoacyl__acyl_carrier_protein__reductase__n_16_0_\n",
      "ADSL1r adenylosuccinate_lyase\n",
      "3OAR161 3_oxoacyl__acyl_carrier_protein__reductase__n_16_1_\n",
      "PHYNS2 phytoene_synthase_2\n",
      "PGI phosphoglucose_isomerase\n",
      "HFACOAE60 acyl_CoA_thioesterase_II__n_h6_0_\n",
      "PGK phosphoglycerate_kinase\n",
      "GF6PTAr L_glutamine_D_fructose_6_phosphate_aminotransferase\n",
      "UAMAGS UDP_N_acetylmuramoylalanine__D_glutamate_ligase\n",
      "PGM phosphoglyceromutase\n",
      "MMPTC methenyltetrahydrometanopterin_cyclohydrolase\n",
      "MG2tex magnesium_transport_via_diffusion__extracellular_to_periplasm_\n",
      "MPTAT molybdopterin_adenylyltransferase\n",
      "FUMtex fumarate_transport_via_diffusion__extracellular_to_periplasm_\n",
      "EX_cl_e exchange_flux___chloride\n",
      "LPLIP1AGPC160 lysophospholipase_C1__n_16_0_\n",
      "PPBNGS porphobilinogen_synthase\n",
      "PAPR phosphoadenosine_phosphosulfate_reductase\n",
      "PYRt2rpp pyruvate_symport__periplasm_to_cytoplasm_\n",
      "PSP_D phosphoserine_phosphatase__D_\n",
      "MALCOATE malyl_CoA_thioesterase\n",
      "OCMPH2 2_octaprenyl_6_methoxyphenol_hydroxylase\n",
      "PIt2rpp PiT_phosphate_transporter\n",
      "PSP_L phosphoserine_phosphatase\n",
      "SPMS spermidine_synthase\n",
      "FACOAE180 acyl_CoA_thioesterase_II__n_18_0_\n",
      "EX_pi_e exchange_flux___phosphate\n",
      "UGMDDS UDP_N_acetylmuramoylalanyl_D_glutamyl_2_6_diaminopimelate_D_alanyl_D_alanine_ligase\n",
      "OCBT ornithine_carbamoyltransferase\n",
      "MNtex manganese_transport_via_diffusion__extracellular_to_periplasm_\n",
      "HEMEOS heme_O_synthase\n",
      "BDH D_beta_hydroxybutyrate_dehydrogenase\n",
      "G5SD glutamate_5_semialdehyde_dehydrogenase\n",
      "AGPR N_acetylglutamylphosphate_reductase\n",
      "3OAR140 3_oxoacyl__acyl_carrier_protein__reductase__n_14_0_\n",
      "3OAR141 3_oxoacyl__acyl_carrier_protein__reductase__n_14_1_\n",
      "EX_ribona_e exchange_flux___D_ribonate\n",
      "OHPHM 2_octaprenyl_6_hydroxyphenol_methylase\n",
      "GALCDARABtex 3_O_b_D_galactopyranosyl_D_arabinose_transport_via_diffusion__extracellular_to_periplasm_\n",
      "O2tex O2_transport_via_diffusion__extracellular_to_periplasm_\n",
      "ARABAtex L_arabinonate_transport_via_diffusion__extracellular_to_periplasm_\n",
      "MAN1PT mannose_1_phosphate_guanylyltransferase\n",
      "Biomass_Mextorquens_AM1 complete_Methylobacterium_extorquens_strain_AM1_biomass_equation\n",
      "ADSL2r 5__phosphoribosyl_4__N_succinocarboxamide__5_aminoimidazole_lyase\n",
      "TALA transaldolase\n",
      "AGPAT161 lysophosphatidic_acid_acyltransferase__n_16_1_\n",
      "3HAD60 3_hydroxyacyl__acyl_carrier_protein__dehydratase__n_6_0_\n",
      "PGCDr D_3_phosphoglycerate_dehydrogenase\n",
      "AGPAT160 lysophosphatidic_acid_acyltransferase__n_16_0_\n",
      "GTHPp glutathione_peroxidase__periplasmic_\n",
      "FACOAE160 acyl_CoA_thioesterase_II__n_16_0_\n",
      "PDH pyruvate_dehydrogenase\n",
      "3OAR120 3_oxoacyl__acyl_carrier_protein__reductase__n_12_0_\n",
      "ILETA amino_acid_transferase__isoleucine_\n",
      "3OAR121 3_oxoacyl__acyl_carrier_protein__reductase__n_12_1_\n",
      "MTAP 5__methylthioadenosine_phosphorylase\n",
      "EX_k_e exchange_flux___potassium\n",
      "H2Otex H2O_transport_via_diffusion__extracellular_to_periplasm_\n",
      "DAPE diaminopimelate_epimerase\n",
      "ASPK aspartokinase\n",
      "EX_DM_h2mpt exchange_flux____7_8_dihydromethanopterin\n",
      "NO3tex nitrate_transport_via_diffusion__extracellular_to_periplasm_\n",
      "EX_xyl_D_e exchange_flux___D_xylose\n",
      "HMPK1 hydroxymethylpyrimidine_kinase\n",
      "Htex H__transport_via_diffusion__extracellular_to_periplasm_\n",
      "PDX5PO pyridoxine_5__phosphate_oxidase\n"
     ]
    },
    {
     "name": "stdout",
     "output_type": "stream",
     "text": [
      "UPP3MT2 uroporphyrin_III_C_methyltransferase_2\n",
      "FORtex formate_transport_via_diffusion__extracellular_to_periplasm_\n",
      "GTHOr glutathione_reductase\n",
      "ACS2 propionyl_CoA_synthetase\n",
      "AGPAT180 lysophosphatidic_acid_acyltransferase__n_18_0_\n",
      "G5SADr L_glutamate_gamma_semialdehyde__cyclase_dehydratase_\n",
      "AGPAT181 lysophosphatidic_acid_acyltransferase__n_18_1_\n",
      "EX_etoh_e exchange_flux___ethanol\n",
      "UAPGR UDP_N_acetylenolpyruvoylglucosamine_reductase\n",
      "NDPK8 dADP_kinase\n",
      "NDPK7 dCDP_kinase\n",
      "ATPS4rpp ATP_synthase\n",
      "3HAD80 3_hydroxyacyl__acyl_carrier_protein__dehydratase__n_8_0_\n",
      "NDPK5 dGDP_kinase\n",
      "NDPK4 dTDP_kinase\n",
      "NDPK3 CDP_kinase\n",
      "FACOAE140 acyl_CoA_thioesterase_II__n_14_0_\n",
      "NDPK2 UDP_kinase\n",
      "NDPK1 GDP_kinase\n",
      "CA2NAtpp sodium_calcium_exchanger\n",
      "METACH O_acetylhomoserine_sulfhydrylase\n",
      "GGTT R_geranylgeranyltranstransferase\n",
      "ANPRT anthranilate_phosphoribosyltransferase\n",
      "AKGt2rpp a_ketoglutarate_MFS_transporter\n",
      "EX_12ppd_S_e exchange_flux___1_2_propanediol\n",
      "HFACOAE80 acyl_CoA_thioesterase_II__n_h8_0_\n",
      "3OAR100 3_oxoacyl__acyl_carrier_protein__reductase__n_10_0_\n",
      "MECDPS 2C_methyl_D_erythritol_2_4_cyclodiphosphate_synthase\n",
      "GLNS glutamine_synthetase\n",
      "F6PPKL D_fructose_6_phosphate_phosphoketolase\n",
      "Zn2tex zinc_transport_via_diffusion__extracellular_to_periplasm_\n",
      "MG2uabcpp magnesium_ABC_transporter\n",
      "ACOATA acetyl_CoA_ACP_transacylase\n",
      "EX_fald_e exchange_flux___formaldehyde\n",
      "EX_nh4_e exchange_flux___nitrogen\n",
      "MOHMT 3_methyl_2_oxobutanoate_hydroxymethyltransferase\n",
      "CMBLD2 dienelactone_hydrolase__trans_\n",
      "5DGLCNtex 5_dehydro_D_gluconate_transport_via_diffusion__extracellular_to_periplasm_\n",
      "AGDC_r N_acetylglucosamine_6_phosphate_deacetylase\n",
      "HCO3E carbonic_anhydrase\n",
      "CMBLD4 dienelactone_hydrolase__cis_\n",
      "CMBLD3 carboxymethylenebutenolidase\n",
      "OXAFORtpp oxalate_formate_antiporter__periplasm_to_cytoplasm_\n",
      "EX_na1_e exchange_flux___Na_\n",
      "EX_oxa_e exchange_flux___oxalate\n",
      "PHYNDH2 phytoene_dehydrogenase_2\n",
      "QULNS quinolinate_synthetase\n",
      "GLUCYS gamma_glutamylcysteine_synthetase\n",
      "EX_glc_e exchange_flux___D_glucose\n",
      "IGPDH imidazoleglycerol_phosphate_dehydratase\n",
      "ICDHyr isocitrate_dehydrogenase\n",
      "MACACI maleylacetoacetate_isomerase\n",
      "FORMMFRHD formyl_MFS_hydrolysis\n",
      "R3HAD40 3_hydroxyacyl__acyl_carrier_protein__dehydratase__n_4_0_\n",
      "ENCOAI141 enoyl_CoA_isomerase__n_14_0_\n",
      "ENCOAI142 enoyl_CoA_isomerase__n_14_1_\n",
      "ACGLCAM beta_N_acetyl_glucosaminidase\n",
      "ARGSSr argininosuccinate_synthase\n",
      "FACOAE60 acyl_CoA_thioesterase_II__n_6_0_\n",
      "ACOAD161 acyl_CoA_dehydrogenase__n_16_1_\n",
      "UMPK uridylate_kinase\n",
      "PRASCS phosphoribosylaminoimidazole_succinocarboxamide_synthetase\n",
      "ASNS1 asparagine_synthase\n",
      "SDPTA N_succinyldiaminopimelate_aminotransferase\n",
      "TPI triosephosphate_isomerase\n",
      "PSSA181 phosphatidylserine_synthase__n_18_1_\n",
      "PSSA180 phosphatidylserine_synthase__n_18_0_\n",
      "NH4tpp NH3_transport__periplasm_to_cytoplasm_\n",
      "TRE6PP trehalose_6_phosphate_phosphatase\n",
      "TRE6PS trehalose_6_phosphate_synthase\n",
      "THRPD L_threonine_O_3_phosphate_decarboxylase\n",
      "ACBIPGT cobinamide_phosphate_guanylyltransferase\n",
      "MAN6PI mannose_6_phosphate_isomerase\n",
      "THRPS L_threonine_kinase\n",
      "MESACOAH mesaconyl_CoA_hydratase\n",
      "LPLIPAL1C180 lysophospholipase_C1__n_18_0_\n",
      "ADCYRS adenosyl_cobyric_acid_synthase\n",
      "LPLIPAL1C181 lysophospholipase_C1__n_18_1_\n",
      "EX_DM_trnacys exchange_flux___tRNA_Cys_\n",
      "EX_no3_e exchange_flux___nitrate\n",
      "ETOHDH quinoprotein_ethanol_dehydrogenase\n",
      "ARGSL argininosuccinate_lyase\n",
      "PTHPS 6_pyruvoyl_tetrahydrobiopterin_synthase\n",
      "ENCOAI121 enoyl_CoA_isomerase__n_12_0_\n",
      "ASPTRNAAMT aspartyl_tRNA_amidotransferase\n",
      "EX_o2_e exchange_flux___oxygen\n",
      "ACODA acetylornithine_deacetylase\n",
      "ENCOAI122 enoyl_CoA_isomerase__n_12_1_\n",
      "RZ5PP a_ribazole_5__phosphate_phosphatase\n",
      "ASPTRS aspartate_tRNA_synthetase\n",
      "NNAMr nicotinamidase\n",
      "UDPG4E UDP_glucose_4_epimerase\n",
      "ACGS N_acetylglutamate_synthase\n",
      "ACOAD181 acyl_CoA_dehydrogenase__n_18_1_\n",
      "Ktex potassium_transport_via_diffusion__extracellular_to_periplasm_\n",
      "HACOADH181 3_hydroxyacyl_CoA_dehydrogenase__n_18_1_\n",
      "HACOADH180 3_hydroxyacyl_CoA_epimerase__n_18_0_\n",
      "HTHRPD 4_hydroxy_L_threonine_phosphate_dehydrogenase__NAD_dependent\n",
      "ACGK acetylglutamate_kinase\n",
      "FACOAE80 acyl_CoA_thioesterase_II__n_8_0_\n",
      "CMPKDOT2 3_deoxy_D_manno_octulosonic_acid_transferase_2\n",
      "CMPKDOT1 3_deoxy_D_manno_octulosonic_acid_transferase_1\n",
      "HEMEDS2 heme_d_synthase\n",
      "SPODM superoxide_dismutase\n",
      "PSSA161 phosphatidylserine_synthase__n_16_1_\n",
      "PSSA160 phosphatidylserine_synthase__n_16_0_\n",
      "NTRIR4 ferredoxin__nitrite_reductase\n",
      "GLYCOX3 glycine_oxidase_3\n",
      "GLYCOX4 glycine_oxidase_4\n",
      "OXAtex oxalate_transport_via_diffusion__extracellular_to_periplasm_\n",
      "PPNCL2 phosphopantothenoylcysteine_synthetase\n",
      "GLYCOX5 glycine_oxidase_5\n",
      "UHGADA UDP_3_O_acyl_N_acetylglucosamine_deacetylase\n",
      "THRS threonine_synthase\n",
      "BB_RMN Biomass_flux___L_rhamnose\n",
      "METSr methionine_synthase_reversible\n",
      "EX_DM_trnahis exchange_flux___tRNA_His_\n",
      "THRA L_threonine_aldolase\n",
      "LPLIPAL1C161 lysophospholipase_C1__n_16_1_\n",
      "HMBS porphobilinogen_deaminase\n",
      "CYSTL cystathionine_beta_lyase\n",
      "CYSSr cysteine_synthase\n",
      "ACOAD121 acyl_CoA_dehydrogenase__n_12_1_\n",
      "CBIAT cob_I_alamin_adenosyltransferase\n",
      "FMNAT FMN_adenylyltransferase\n",
      "ENCOAI101 enoyl_CoA_isomerase__n_10_0_\n",
      "PGLYCP phosphoglycolate_phosphatase\n",
      "KARA2 2_aceto_2_hydroxy_butyrate_reductoisomerase\n",
      "HACOADH160 3_hydroxyacyl_CoA_epimerase__n_16_0_\n",
      "HACOADH161 3_hydroxyacyl_CoA_dehydrogenase__n_16_1_\n",
      "DHPS2 dihydropteroate_synthase\n",
      "SADT sulfate_adenylyltransferase\n",
      "PC20M precorrin_2_C_20__methyltransferase\n",
      "KARA1 2_acetolactate_reductoisomerase\n",
      "2DRIBOAtex 2_deoxy_D_ribonate_transport_via_diffusion__extracellular_to_periplasm_\n",
      "IPPMIb 3_isopropylmalate_isomerase\n",
      "G1PTT glucose_1_phosphate_thymidylyltransferase\n",
      "SKMK shikimate_kinase\n",
      "EX_fum_e exchange_flux___fumarate\n",
      "PC6AR precorrin_6A_reductase\n",
      "3OAR181 3_oxoacyl__acyl_carrier_protein__reductase__n_18_1_\n",
      "GLYCK2 glycerate_kinase\n",
      "H2O2tpp H2O2_transport_via_diffusion__periplasm_to_cytoplasm_\n",
      "H2MB4PRD2 1_hydroxy_2_methyl_2__E__butenyl_4_diphosphate_reductase_2\n",
      "EX_DM_trnapro exchange_flux___tRNA_Pro_\n",
      "U23GAAT UDP_3_O__3_hydroxymyristoyl_glucosamine_N_acetyltransferase\n",
      "THMBTHIC thiamine_biosynthesis_protein_thiC\n",
      "ACOAD141 acyl_CoA_dehydrogenase__n_14_1_\n",
      "DPR 2_dehydropantoate_2_reductase\n",
      "SERGLXAT L_serine_glyoxylate_aminotransferase\n",
      "EX_2kdrib_e exchange_flux___2_deoxy_D_ribose\n",
      "3OAR180 3_oxoacyl__acyl_carrier_protein__reductase__n_18_0_\n",
      "HACOADH141 3_hydroxyacyl_CoA_dehydrogenase__n_14_1_\n",
      "5DGLCNt2rpp 5_dehydro_D_gluconate_transporter__inferred_from_physiology_\n",
      "MPTFALDA H4MPT_dependent_formaldehyde_activating\n",
      "3HBCD _R__3_hydroxybutyryl_CoA_dehydratase\n",
      "PMDPHT pyrimidine_phosphatase\n",
      "CO2tex CO2_transport_via_diffusion__extracellular_to_periplasm_\n",
      "NTD10 5__nucleotidase__XMP_\n",
      "NTD11 5__nucleotidase__IMP_\n",
      "EX_lyxnt_e exchange_flux___L_lyxonate\n",
      "ACKr acetate_kinase\n",
      "ACLS acetolactate_synthase\n",
      "FALDtpp formaldehyde_transport_via_diffusion__periplasm_to_cytoplasm_\n",
      "HSDyi homoserine_dehydrogenase\n",
      "ATPPRTr ATP_phosphoribosyltransferase\n",
      "NNDPR quinolinate_phosphoribosyltransferase\n",
      "NO3Ras nitrate_reductase_assimilatory\n",
      "EX_DM_trnaarg exchange_flux___tRNA_Arg_\n",
      "PPTT octaprenyl_diphosphate_synthase_2\n",
      "PTRCtex putrescine_transport_via_diffusion__extracellular_to_periplasm_\n",
      "GLUSy glutamate_synthase_2\n",
      "LPLIPAL2E180 lysophospholipase_E1__n_18_0_\n",
      "EX_succ_e exchange_flux___succinate\n",
      "LPLIPAL2E181 lysophospholipase_E2__n_18_1_\n",
      "PIuabcpp phosphate_ABC_transporter\n",
      "THMBIOS thiamin_biosynthesis_1\n",
      "FE2t2pp iron_proton_symport\n",
      "NNATr nicotinate_nucleotide_adenylyltransferase\n",
      "EX_DM_trnalys exchange_flux___tRNA_Lys_\n",
      "ARAB_Dtex D_arabinose_transport_via_diffusion__extracellular_to_periplasm_\n",
      "ALDD2y acetyldehyde_dehydrogenase\n",
      "HPTRED dihydropteridine_reductase\n",
      "PHYNDH2_e phytoene_dehydrogenase_2__extracellular_\n",
      "MPTSA molybdopterin_synthase_activations\n",
      "TRDR thioredoxin_reductase\n",
      "FE2abcpp iron_ABC_transporter\n",
      "ZCARDS_e zeta_carotene_desaturase_1__extracullular_\n",
      "3OAS100 3_oxoacyl__acyl_carrier_protein__synthase__n_10_0_\n",
      "PGAMT phosphoglucosamine_mutase\n",
      "OMBZLM 2_octaprenyl_6_methoxy_1_4_benzoquinone_methylase\n",
      "ETHMALCOAEPM ethylmalonyl_CoA_epimerase\n",
      "RBFK riboflavin_kinase\n",
      "MNt2pp manganese_proton_symport\n",
      "HBZOPT 4_hydroxybenzoate_octaprenyltransferase\n",
      "LPLIPAL2E160 lysophospholipase_E2__n_16_0_\n",
      "DHNPA2 dihydroneopterin_aldolase\n",
      "LPLIPAL2E161 lysophospholipase_E2__n_16_1_\n",
      "PHYNDH phytoene_dehydrogenase_1\n",
      "EX_DM_trnatyr exchange_flux___tRNA_Tyr_\n",
      "EX_lyx_L_e exchange_flux___L_lyxose\n",
      "CHRPL chorismate_lyase\n",
      "SERAT serine_acetyltransferase\n",
      "PPCOAC propionyl_CoA_carboxylase_1\n",
      "H2O2syn NADPH_oxidoreductase__OYE_\n",
      "TYRTRS tyrosine_tRNA_synthetase\n",
      "2AGPEAT181acp 2_acylglycerophosphoethanolamine_acyltransferase__n_18_1_\n",
      "NODOy nitric_oxide_dioxygenase\n",
      "PMANM phosphomannomutase\n",
      "NTD9 5__nucleotidase__GMP_\n",
      "HFACOAE180 acyl_CoA_thioesterase_II__n_h18_0_\n",
      "NTD7 5__nucleotidase__AMP_\n",
      "EX_DM_rbrdxOX exchange_flux___oxidized_rubredoxin\n",
      "L_LACtex _S__lactate_transport_via_diffusion__extracellular_to_periplasm_\n",
      "UDPDPS5 undecaprenyl_diphosphate_synthase_5\n",
      "UDPDPS6 undecaprenyl_diphosphate_synthase_6\n",
      "UDPDPS3 undecaprenyl_diphosphate_synthase_3\n",
      "ENO enolase\n",
      "UDPDPS4 undecaprenyl_diphosphate_synthase_4\n",
      "MME methylmalonyl_CoA_epimerase\n",
      "CYRDAAT cob_I_yrinic_acid_a_c_diamide_adenosyltransferase\n",
      "H2Otpp H2O_transport_via_aquaporin\n",
      "UDPDPS9 undecaprenyl_diphosphate_synthase_8\n",
      "UDPDPS7 undecaprenyl_diphosphate_synthase_7\n",
      "GHMT2r serine_hydroxymethyltransferase\n",
      "UDPDPS8 undecaprenyl_diphosphate_synthase_2\n",
      "3OAS121 3_oxoacyl__acyl_carrier_protein__synthase__n_12_1_\n",
      "3OAS120 3_oxoacyl__acyl_carrier_protein__synthase__n_12_0_\n",
      "MMM2r methylmalonyl_CoA_mutase\n",
      "AACOAR acetoacetyl_CoA_reductase_1\n",
      "ADOCBLPPA adenosylcobalamine_5__phosphate_phosphatase\n",
      "ECOAH5 enoyl_CoA_hydratase__n_12_0_\n",
      "ECOAH6 enoyl_CoA_hydratase__n_14_0_\n",
      "BB_ACGAM Biomass_flux___N_acetyl_D_glucosamine\n",
      "ECOAH3 enoyl_CoA_hydratase__n_8_0_\n",
      "ECOAH4 enoyl_CoA_hydratase__n_10_0_\n",
      "AOXSr 7_keto_8_aminopelargonic_acid_synthetase\n",
      "GARFT phosphoribosylglycinamide_formyltransferase\n",
      "ECOAH7 enoyl_CoA_hydratase__n_16_0_\n",
      "COBS2 cobalamin_synthase\n",
      "ECOAH8 enoyl_CoA_hydratase__n_18_0_\n",
      "EX_DM_trnaasn exchange_flux___tRNA_Asn_\n",
      "ECOAH1 3_hydroxybutyryl_CoA_dehydratase\n",
      "ECOAH2 enoyl_CoA_hydratase__n_6_0_\n",
      "EX_DM_trnaasp exchange_flux___tRNA_Asp_\n",
      "CO2tpp CO2_transport_via_diffusion__periplasm_to_cytoplasm_\n",
      "FMNDESTRUC flavin_destructase\n",
      "TDPGDH dTDP_glucose_4_6_dehydratase\n",
      "PHETA1 aromatic_amino_acid_transaminase__PHE_\n",
      "HISTP histidinol_phosphatase\n",
      "ADCS aminodeoxychorismate_synthase\n",
      "GALU glucose_1_phosphate_uridylyltransferase\n",
      "CCRC crotonyl_CoA_reductase_carboxylase\n",
      "IPPS2 2_isopropylmalate_synthase\n",
      "HISTRS histidyl_tRNA_synthetase\n",
      "ACOAD2f acyl_CoA_dehydrogenase__n_6_0_\n",
      "CU2abctpp copper_ABC_transporter\n",
      "MMAtex methylamine_transport_via_diffusion__extracellular_to_periplasm_\n",
      "PPAppt H____translocating_pyrophosphatases\n",
      "PEMT160 phosphatidylethanolamine_N_methyltransferase__n_16_0_\n",
      "HACYLCOAEPI80 3_hydroxyacyl_CoA_epimerase__n_8_0_\n",
      "ADCL aminodeoxychorismate_lyase\n",
      "PEMT161 phosphatidylethanolamine_N_methyltransferase__n_16_1_\n",
      "EX_etha_e exchange_flux___ethanolamine\n",
      "CTPS2 CTP_synthetase\n",
      "ACHBS 2_aceto_2_hydroxy_butyrate_synthase\n",
      "ORNTAC glutamate_N_acetyltransferase\n",
      "EX_ptrc_e exchange_flux___putrescine\n",
      "ACOAD3f acyl_CoA_dehydrogenase__n_8_0_\n",
      "DMATT geranyl_diphosphate_synthase\n",
      "FDHr formate_dehydrogenase\n",
      "ETMAt_e ethylamine_transport_via_diffusion__extracellular_to_periplasm_\n",
      "AROGDH cyclohexadienyl_dehydrogenase\n",
      "GTPCI GTP_cyclohydrolase_I\n",
      "SO4tex sulfate_transport_via_diffusion__extracellular_to_periplasm_\n",
      "LDH_D3 D_lactate_dehydrogenase__cytochrome_\n",
      "HSPMDS homospermidine_synthase_1\n",
      "HSPMS homospermidine_synthase_2\n",
      "DCTPD dCTP_deaminase\n",
      "BIOTINS biotin_biosynthesis_hypothetical_reaction\n",
      "PAPPT3 phospho_N_acetylmuramoyl_pentapeptide_transferase_1\n",
      "COBALT2tex Co2__transport_via_diffusion__extracellular_to_periplasm_\n",
      "PAPPT1 phospho_N_acetylmuramoyl_pentapeptide_transferase_2\n",
      "HISTD histidinol_dehydrogenase\n",
      "DVPCLPHVR 3_8_divinyl_protochlorophyllide_8_vinyl_reductase\n",
      "UQCYOR_2p ubiquinol_cytochrome_c_reductase\n",
      "EX_galcDaraba_e exchange_flux___3_O_b_D_galactopyranosyl_D_arabinonate\n",
      "EX_arab_L_e exchange_flux___L_arabinose\n",
      "ACOAD1f acyl_CoA_dehydrogenase__n_4_0_\n",
      "SULR sulfite_reductase__NADPH_\n",
      "G1PACT glucosamine_1_phosphate_acetyltransferase\n",
      "DMQMT2 3_demethylubiquinone_8_3_O_methyltransferase\n",
      "ANS anthranilate_synthase\n",
      "MSUCCCOADH methylsuccinyl_CoA_dehydrogenase\n",
      "NTPP7 deoxynucleoside_triphosphate_pyrophosphohydrolase__dTTP_\n",
      "NIGOSH nigerose_hydrolase\n",
      "NTPP8 nucleoside_triphosphate_pyrophosphohydrolase__UTP_\n",
      "ACOAD6f acyl_CoA_dehydrogenase__n_14_0_\n",
      "NTPP3 deoxynucleoside_triphosphate_pyrophosphohydrolase__dCTP_\n",
      "NTPP4 nucleoside_triphosphate_pyrophosphohydrolase__CTP_\n",
      "UAGCVT UDP_N_acetylglucosamine_1_carboxyvinyltransferase\n",
      "CU2tex copper_transport_via_diffusion__extracellular_to_periplasm_\n",
      "NTPP5 deoxynucleoside_triphosphate_pyrophosphohydrolase__dATP_\n",
      "NTPP6 nucleoside_triphosphate_pyrophosphohydrolase__ATP_\n",
      "HFACOAE120 acyl_CoA_thioesterase_II__n_h12_0_\n",
      "EAR121y enoyl__acyl_carrier_protein__reductase__n_12_1_\n",
      "ALAALAr D_alanine_D_alanine_ligase_B\n",
      "FALDtex formaldehyde_transport_via_diffusion__extracellular_to_periplasm_\n",
      "ECOAH181 enoyl_CoA_hydratase__n_18_1_\n",
      "GLYKr glycerol_kinase\n",
      "EX_mn2_e exchange_flux___manganese\n",
      "DGK1 deoxyguanylate_kinase\n",
      "ACOAD7f acyl_CoA_dehydrogenase__n_16_0_\n",
      "3OAS180 3_oxoacyl__acyl_carrier_protein__synthase__n_18_0_\n",
      "3OAS181 3_oxoacyl__acyl_carrier_protein__synthase__n_18_1_\n",
      "NAPRTr nicotinate_phosphoribosyltransferase\n",
      "NADH11 NADH_ubiquinone_oxidoreductase_I\n",
      "HACYLCOAEPI40 3_hydroxyacyl_CoA_epimerase__n_4_0_\n",
      "FACOAE120 acyl_CoA_thioesterase_II__n_12_0_\n",
      "DHAtex glycerone_transport_via_diffusion__extracellular_to_periplasm_\n",
      "PNTK pantothenate_kinase\n",
      "PHOTOSYS1C photosystem_I_cyclic\n",
      "OMPDC orotidine_5__phosphate_decarboxylase\n",
      "H2O2tex H2O2_transport_via_diffusion__extracellular_to_periplasm_\n",
      "SERTRS serine_tRNA_synthetase\n",
      "Kt3pp potassium_proton_antiporter\n",
      "ACOAD4f acyl_CoA_dehydrogenase__n_10_0_\n",
      "CO2DAMR cob_II_yrinate_a_c_diamide_reductase\n",
      "AMMQT8_2 _S__adenosylmethionine_2_DMK_methyltransferase\n",
      "CO2DAMS cobyrinic_acid_a_c_diamide_synthase\n",
      "CYOD cytochrome_d_terminal_oxidase\n",
      "EX_glu_L_e exchange_flux___L_glutamate\n",
      "HFACOAE100 acyl_CoA_thioesterase_II__n_h10_0_\n",
      "EX_DM_oxEA exchange_flux___oxidized_electron_acceptor\n",
      "GRTT farnesyl_diphosphate_synthase\n",
      "THDPS 2_3_4_5_tetrahydropyridine_2_carboxylate_N_succinyltransferase\n",
      "PRPPS phosphoribosylpyrophosphate_synthetase\n",
      "EAR180y enoyl__acyl_carrier_protein__reductase__n_18_0_\n",
      "DAPDC diaminopimelate_decarboxylase\n",
      "CREAH creatininase\n",
      "EX_zn2_e exchange_flux___zinc\n",
      "A5PISO D_arabinose_5_phosphate_isomerase\n",
      "KAS14 3_oxoacyl__acyl_carrier_protein__synthase__n_4_0_\n",
      "SHCHF sirohydrochlorin_ferrochelatase\n",
      "ACOAD5f acyl_CoA_dehydrogenase__n_12_0_\n",
      "CS citrate_synthase\n",
      "MDH malate_dehydrogenase\n",
      "PROTRS proline_tRNA_ligase\n",
      "BPNT adenosine_3__2___5__bisphosphate_nucleotidase\n",
      "HACYLCOAEPI60 3_hydroxyacyl_CoA_epimerase__n_6_0_\n",
      "3OAS60 3_oxoacyl__acyl_carrier_protein__synthase__n_6_0_\n",
      "ECOAH161 enoyl_CoA_hydratase__n_16_1_\n",
      "FACOAE100 acyl_CoA_thioesterase_II__n_10_0_\n",
      "NFORGLUAH N_formylglutamate_amidohydrolase\n",
      "TDPDRR dTDP_4_dehydrorhamnose_reductase\n",
      "EX_mal_L_e exchange_flux____S__malate\n",
      "HFACOAE160 acyl_CoA_thioesterase_II__n_h16_0_\n",
      "ACACtex acetoacetate_transport_via_diffusion__extracellular_to_periplasm_\n",
      "TDPDRE dTDP_4_dehydrorhamnose_3_5_epimerase\n",
      "ARBtex L_arabinose_transport_via_diffusion__extracellular_to_periplasm_\n",
      "MTHFR3 5_10_methylenetetrahydrofolate_reductase\n",
      "OMCDC 2_isopropyl_3_oxosuccinate_decarboxylase\n",
      "EX_cit_e exchange_flux___citrate\n",
      "DPGM bisphosphoglycerate_mutase\n",
      "GLYD hydroxypyruvate_reductase\n",
      "O2tpp O2_transport_via_diffusion__periplasm_to_cytoplasm_\n",
      "MEOHtex methanol_transport_via_diffusion__extracellular_to_periplasm_\n",
      "ACCOACr acetyl_CoA_carboxylase\n",
      "EX_glcn_e exchange_flux___D_gluconate\n",
      "DHAD2 2_3_dihydroxy_3_methylvalerate_dehydratase\n",
      "GLYOX S_lactoylglutathione_hydrolase\n",
      "DHAD1 2_3_dihydroxy_isovalerate_dehydratase\n",
      "DASYN160 CDP_diacylglycerol_synthetase__n_16_0_\n",
      "3OAS140 3_oxoacyl__acyl_carrier_protein__synthase__n_14_0_\n",
      "BTS6 biotin_synthase\n",
      "3OAS141 3_oxoacyl__acyl_carrier_protein__synthase__n_14_1_\n",
      "DASYN161 CDP_diacylglycerol_synthetase__n_16_1_\n",
      "NH4tex NH3_transport_via_diffusion__extracellular_to_periplasm_\n",
      "MALCOAL malyl_CoA_lyase\n",
      "ECOAH141 enoyl_CoA_hydratase__n_14_1_\n",
      "SULFOX2 sulfite_oxidase\n",
      "3OAS80 3_oxoacyl__acyl_carrier_protein__synthase__n_8_0_\n",
      "EX_tartr_L_e exchange_flux___L_tartrate\n",
      "MALCOAS malyl_CoA_synthetase\n",
      "EX_2driboa_e exchange_flux___2_deoxy_D_ribonate\n",
      "OCTDPS2 octaprenyl_diphosphate_synthase_4\n",
      "PRAGSr phosphoribosylglycinamide_synthetase\n",
      "MPTSS molybdopterin_synthase_sulfurylase\n",
      "MPTSP molybderin_biosynthesis_protein\n",
      "HFACOAE140 acyl_CoA_thioesterase_II__n_h14_0_\n",
      "UDPGCGT ceramide_glucosyltransferase\n",
      "EX_DM_trnaser exchange_flux___tRNA_Ser_\n",
      "UAGPT3 UDP_N_acetylglucosamine__N_acetylmuramyl__pentapeptide__pyrophosphoryl_undecaprenol_N_acetylglucosamine_transferase_2\n",
      "FT undecaprenyl_diphosphate_synthase_1\n",
      "ACOAD8f acyl_CoA_dehydrogenase__n_18_0_\n",
      "EX_cobalt2_e exchange_flux___Co2_\n",
      "LPADSS lipid_A_disaccharide_synthase\n",
      "GLYO1 glycine_oxidase_1\n",
      "DHDPS dihydrodipicolinate_synthase\n",
      "GLCNtex D_gluconate_transport_via_diffusion__extracellular_to_periplasm_\n",
      "GLUR glutamate_racemase\n",
      "GK1 guanylate_kinase\n",
      "MCOATA malonyl_CoA__acyl_carrier_protein__transacylase\n",
      "CELLS cellulose_synthase\n",
      "EX_mma_e exchange_flux___methylamine\n",
      "EAR120y enoyl__acyl_carrier_protein__reductase__n_12_0_\n",
      "ASPTRS_tASN nondiscriminating_aspartate_tRNA_synthetase\n",
      "SDACT sulfur_donor_activation\n",
      "NO3Rpp nitrate_reductase__periplasmic_\n",
      "SPMDAT1 spermidine_acetyltransferase\n",
      "SUCCtex succinate_transport_via_diffusion__extracellular_to_periplasm_\n",
      "EX_DM_trnamet exchange_flux___tRNA_Met_\n",
      "OHPBAT phosphohydroxythreonine_aminotransferase\n",
      "DASYN180 CDP_diacylglycerol_synthetase__n_18_0_\n",
      "ZNabcpp zinc_ABC_transporter\n",
      "NTPP1 deoxynucleoside_triphosphate_pyrophosphohydrolase__dGTP_\n",
      "NTPP2 nucleoside_triphosphate_pyrophosphohydrolase__GTP_\n",
      "DASYN181 CDP_diacylglycerol_synthetase__n_18_1_\n",
      "GALCDARABAtex 3_O_b_D_galactopyranosyl_D_arabinonate_transport_via_diffusion__extracellular_to_periplasm_\n",
      "RBFSa 6_7_dimethyl_8_ribityllumazine_synthase\n",
      "3OAS160 3_oxoacyl__acyl_carrier_protein__synthase__n_16_0_\n",
      "3OAS161 3_oxoacyl__acyl_carrier_protein__synthase__n_16_1_\n",
      "EAR100y enoyl__acyl_carrier_protein__reductase__n_10_0_\n",
      "RBFSb riboflavin_synthase\n",
      "ECOAH121 enoyl_CoA_hydratase__n_12_1_\n",
      "DADK adenylate_kinase_2\n",
      "Biomass_Mextorquens_AM1_core Methylobacterium_extorquens_strain_AM1_core_biomass_equation\n",
      "EX_ch4_e methane exchange\n",
      "CH4tex methane transport via diffusion (extracellular to periplasm)\n",
      "PMMOipp particulate Methane Monooxygenase\n",
      "PMMODCipp particulate Methane Monooxygenase - Direct Coupling\n",
      "ALDD1 ALDD1\n"
     ]
    }
   ],
   "source": [
    "for reaction in model_OB3b.reactions:\n",
    "    print(reaction.id, reaction.name)"
   ]
  },
  {
   "cell_type": "markdown",
   "metadata": {},
   "source": [
    "### Changing reaction.names so that AM1 subsystems can be assigned"
   ]
  },
  {
   "cell_type": "code",
   "execution_count": 16,
   "metadata": {
    "ExecuteTime": {
     "end_time": "2020-01-02T00:58:32.579904Z",
     "start_time": "2020-01-02T00:58:32.548767Z"
    }
   },
   "outputs": [
    {
     "data": {
      "text/plain": [
       "978"
      ]
     },
     "execution_count": 16,
     "metadata": {},
     "output_type": "execute_result"
    }
   ],
   "source": [
    "len(model_OB3b.reactions)"
   ]
  },
  {
   "cell_type": "code",
   "execution_count": 17,
   "metadata": {
    "ExecuteTime": {
     "end_time": "2020-01-02T00:58:33.552619Z",
     "start_time": "2020-01-02T00:58:32.584257Z"
    }
   },
   "outputs": [],
   "source": [
    "model_OB3b_2 = cobra.io.load_json_model(memote_directory + draft_gems_dir_8 + \"bigg_OB3b_26_11_2019_2.json\")"
   ]
  },
  {
   "cell_type": "code",
   "execution_count": 198,
   "metadata": {
    "ExecuteTime": {
     "end_time": "2020-01-02T07:08:19.579403Z",
     "start_time": "2020-01-02T07:08:19.572763Z"
    }
   },
   "outputs": [],
   "source": [
    "for reaction in model_OB3b.reactions:\n",
    "    if \"_\" in reaction.name:\n",
    "        listed_react_name = list(reaction.name)\n",
    "        #print(reaction.id, reaction.name)\n",
    "        for element in listed_react_name:\n",
    "            if \"_\" in element:\n",
    "                index=listed_react_name.index(element)\n",
    "                listed_react_name[index]=\" \"\n",
    "        listed_react_name=\"\".join(listed_react_name)\n",
    "        model_OB3b.reactions.get_by_id(reaction.id).name = listed_react_name\n",
    "        #print(listed_react_name)\n",
    "            \n",
    "#for reaction in model_OB3b.reactions:\n",
    "#    print(reaction.id, reaction.name)"
   ]
  },
  {
   "cell_type": "code",
   "execution_count": 199,
   "metadata": {
    "ExecuteTime": {
     "end_time": "2020-01-02T07:08:20.882213Z",
     "start_time": "2020-01-02T07:08:20.730511Z"
    }
   },
   "outputs": [
    {
     "name": "stdout",
     "output_type": "stream",
     "text": [
      "EAOXRED pyridine nucleotide disulphide oxidoreductase\n",
      "IMPC inosine monophosphate cyclohydrolase\n",
      "HACD8i 3 hydroxyacyl CoA dehydrogenase  n 18 0 \n",
      "PANTS pantothenate synthetase\n",
      "IMPD IMP dehydrogenase\n",
      "OCPPH3 2 octaprenylphenol hydroxylase\n",
      "PGSA161 phosphatidylglycerophosphate synthetase  n 16 1 \n",
      "LCAD lactaldehyde dehydrogenase\n",
      "PGSA160 phosphatidylglycerophosphate synthetase  n 16 0 \n",
      "GLUD glutamate synthase 1\n",
      "PPAtex propanoate transport via diffusion  extracellular to periplasm \n",
      "DTMPK thymidylate kinase\n",
      "PPND prephenate dehydrogenase\n",
      "DXPRIi 1 deoxy D xylulose 5 phosphate reductoisomerase\n",
      "PC11M precorrin 4 C 11  methyltransferase\n",
      "PSERTr phosphoserine aminotransferase\n",
      "CAT hydroperoxidase\n",
      "CYO_2p cytochrome c oxidase\n",
      "UAMAS UDP N acetylmuramate alanine ligase\n",
      "MNEUROPNDH3 methoxyneurosporene dehydrogenase 3\n",
      "EX_DM_trnathr exchange flux   tRNA Thr \n",
      "MNEUROPNDH2 methoxyneurosporene dehydrogenase 2\n",
      "2AGPEAT161acp 2 acylglycerophosphoethanolamine acyltransferase  n 16 1 \n",
      "PEPGLYCANGT peptidoglycan glycosyltransferase\n",
      "MTHFC methenyltetrahydrofolate cyclohydrolase\n",
      "MTHFD methylenetetrahydrofolate dehydrogenase\n",
      "THRD_L threonine deaminase\n",
      "EAR60y enoyl  acyl carrier protein  reductase  n 6 0 \n",
      "CDPMEK 4 diphosphocytidyl 2 C methyl D erythritol kinase\n",
      "PGMT phosphoglucomutase\n",
      "PGSA181 phosphatidylglycerophosphate synthetase  n 18 1 \n",
      "PItex phosphate transport via diffusion  extracellular to periplasm \n",
      "ASPCTr aspartate carbamoyltransferase\n",
      "MALtex malate transport via diffusion  extracellular to periplasm \n",
      "CYTK1 cytidylate kinase\n",
      "SUCCOAH succinyl CoA hydrolase\n",
      "HNEUROPNMT2 hydroxyneurosporene methyltransferase 2\n",
      "2AGPEAT180acp 2 acylglycerophosphoethanolamine acyltransferase  n 18 0 \n",
      "HNEUROPNMT3 hydroxyneurosporene methyltransferase 3\n",
      "HNEUROPNMT4 hydroxyneurosporene methyltransferase 4\n",
      "DHPPDA2 diaminohydroxyphosphoribosylaminopyrimidine deaminase\n",
      "PGSA180 phosphatidylglycerophosphate synthetase  n 18 0 \n",
      "CITtex citrate transport via diffusion  extracellular to periplasm \n",
      "PHYNDH_e phytoene dehydrogenase 1  extracellular \n",
      "HNEUROPNMT6 hydroxyneurosporene methyltransferase 6\n",
      "HNEUROPNMT5 hydroxyneurosporene methyltransferase 5\n",
      "GLYCL_3 H protein aminomethyltransferase\n",
      "EX_ac_e exchange flux   acetate\n",
      "EX_etma_e exchange flux   ethylamine\n",
      "EDTXS1 lauroyl acyltransferase\n",
      "PRE3BS precorrin 3B synthase\n",
      "HACD1 3 hydroxyacyl CoA dehydrogenase  n 4 0 \n",
      "HACD2 3 hydroxyacyl CoA dehydrogenase  n 6 0 \n",
      "HACD5 3 hydroxyacyl CoA dehydrogenase  n 12 0 \n",
      "HACD6 3 hydroxyacyl CoA dehydrogenase  n 14 0 \n",
      "HACD3 3 hydroxyacyl CoA dehydrogenase  n 8 0 \n",
      "MTRI2 5 methylthioribose 1 phosphate isomerase\n",
      "HACD4 3 hydroxyacyl CoA dehydrogenase  n 10 0 \n",
      "ARGTRS arginyl tRNA synthetase\n",
      "AACPS3 acyl acyl carrier protein synthetase  n 16 0 \n",
      "AACPS4 acyl acyl carrier protein synthetase  n 16 1 \n",
      "SHK3Dr shikimate 5 dehydrogenase\n",
      "AACPS5 acyl acyl carrier protein synthetase  n 18 1 \n",
      "AACPS6 acyl acyl carrier protein synthetase  n 18 0 \n",
      "IGPS indole 3 glycerol phosphate synthase\n",
      "EX_h2o_e exchange flux   H2O\n",
      "GLYCLTDx glyoxylate reductase\n",
      "SULabcpp sulfate ABC transporter\n",
      "HACD7 3 hydroxyacyl CoA dehydrogenase  n 16 0 \n",
      "SHCHD2 precorrin 2 dehydrogenase\n",
      "RIBONAtex D ribonate transport via diffusion  extracellular to periplasm \n",
      "ADK1 adenylate kinase\n",
      "PC6YM precorrin 6Y C 5 15  methyltransferase\n",
      "EX_pyr_e exchange flux   pyruvate\n",
      "SALMMT methylation\n",
      "GFUCS GDP L fucose synthase\n",
      "GMPS GMP synthetase  ammonia dependent \n",
      "POLYPIP exopolyphosphatase\n",
      "DNTPPA dihydroneopterin triphosphate pyrophosphohydrolase\n",
      "MALTATr maltose acetyltransferase\n",
      "ACACt2pp acetoacetate symport  periplasm to cytoplasm \n",
      "PYRtex pyruvate transport via diffusion  extracellular to periplasm \n",
      "GLUTRS glutamyl tRNA synthetase\n",
      "ATPM ATP maintenance requirement\n",
      "FE2tex iron transport via diffusion  extracellular to periplasm \n",
      "GLXDH glyoxylate dehydrogenase\n",
      "MOBDMPTL molybdenum  molybdopterin ligase\n",
      "HACYLCOAEPI100 3 hydroxyacyl CoA epimerase  n 10 0 \n",
      "DB4PS 3 4 dihydroxy 2 butanone 4 phoshate synthase\n",
      "LEUTRS leucine tRNA synthetase\n",
      "GLUPRT amidophosphoribosyltransferase  PRPP amidotransferase \n",
      "HNEUROPNMT hydroxyneurosporene methyltransferase 1\n",
      "PTPAT pantetheine phosphate adenylyltransferase\n",
      "DDPA 2 dehydro 3 deoxyphosphoheptonate aldolase\n",
      "ASPtex aspartate transport via diffusion  extracellular to periplasm \n",
      "FBA fructose bisphosphate aldolase\n",
      "HEXTT octaprenyl diphosphate synthase 3\n",
      "RIBtex D ribose transport via diffusion  extracellular to periplasm \n",
      "AKGDH 2 oxoglutarate dehydrogenase\n",
      "LYXtex L lyxose transport via diffusion  extracellular to periplasm \n",
      "EAR181y enoyl  acyl carrier protein  reductase  n 18 1 \n",
      "2KDRIBtex 2 deoxy D ribose transport via diffusion  extracellular to periplasm \n",
      "ALATRS alanyl tRNA synthetase\n",
      "PC17M precorrin 3B C 17  methyltransferase\n",
      "HSERTA homoserine O acetyltransferase\n",
      "TKT1 transketolase\n",
      "LPLIPAL2C161 lysophospholipase C2  n 16 1 \n",
      "CCR crotonyl CoA reductase\n",
      "PHETRS phenylalanine tRNA synthetase\n",
      "P5CR pyrroline 5 carboxylate reductase\n",
      "EX_5dglcn_e exchange flux   5 dehydro D gluconate\n",
      "ACACT7r 3 ketoacyl CoA thiolase  n 16 0 \n",
      "ACACT5r 3 ketoacyl CoA thiolase  n 12 0 \n",
      "P5CD 1 pyrroline 5 carboxylate dehydrogenase\n",
      "ETFDH ETF dehydrogenase\n",
      "PYAM5POr pyridoxamine 5  phosphate oxidase\n",
      "LYSTRS lysyl tRNA synthetase\n",
      "EAR141y enoyl  acyl carrier protein  reductase  n 14 1 \n",
      "UDPGLCUREPI UDP glucuronate 5  epimerase\n",
      "PC8XM precorrin 8X methylmutase\n",
      "ACACT6r 3 ketoacyl CoA thiolase  n 14 0 \n",
      "FBP fructose 1 6 bisphosphatase\n",
      "DALAOX glycine oxidase 2\n",
      "EX_for_e exchange flux   formate\n",
      "KAT8 3 ketoacyl CoA thiolase  n 18 0 \n",
      "DHAtpp glycerone transport via diffusion  periplasm to cytoplasm \n",
      "EAR140y enoyl  acyl carrier protein  reductase  n 14 0 \n",
      "ADCPS2 adenosylcobinamide phosphate synthase\n",
      "LPLIPAL2C181 lysophospholipase C2  n 18 1 \n",
      "EAR80y enoyl  acyl carrier protein  reductase  n 8 0 \n",
      "LPLIPAL2C180 lysophospholipase C2  n 18 0 \n",
      "EX_h_e exchange flux   proton\n",
      "MOBDabcpp molybdate ABC transporter\n",
      "DHORD dihydroorotate dehydrogenase\n",
      "EAR160y enoyl  acyl carrier protein  reductase  n 16 0 \n",
      "PEMT181 phosphatidylethanolamine N methyltransferase  n 18 1 \n",
      "PEMT180 phosphatidylethanolamine N methyltransferase  n 18 0 \n",
      "SOTA succinylornithine transaminase\n",
      "APRAUR 5 amino 6  5 phosphoribosylamino uracil reductase\n",
      "CA2tex calcium transport via diffusion  extracellular to periplasm \n",
      "ACACT4r 3 ketoacyl CoA thiolase  n 10 0 \n",
      "AICART phosphoribosylaminoimidazolecarboxamide formyltransferase\n",
      "NADS1 NH3 dependent NAD    synthetase\n",
      "HACYLCOAEPI140 3 hydroxyacyl CoA epimerase  n 14 0 \n",
      "NADS2 glutamine dependent NAD    synthetase\n",
      "HPPK2 2 amino 4 hydroxy 6 hydroxymethyldihydropteridine pyrophosphokinase\n",
      "COBALT2tpp Cobalt transporter  periplasm to cytoplasm \n",
      "RNDR3 CDP reductase\n",
      "ENCOAI81 enoyl CoA isomerase  n 8 0 \n",
      "RNDR2 GDP reductase\n",
      "UAGDP N acetylglucosamine 1 phosphate uridyltransferase\n",
      "PDX5PS2 pyridoxine 5  phosphate synthase\n",
      "RNDR1 ADP reductase\n",
      "AKGtex a ketoglutarate transport via diffusion  extracellular to periplasm \n",
      "PUNP8 adenosine phosphorylase\n",
      "L_LALDtex L lactaldehyde transport via diffusion  extracellular to periplasm \n",
      "PUNP9 5  deoxyadenosine phosphorylase\n",
      "L_LACt2rpp  S  lactate transport  periplasm to cytoplasm \n",
      "EAR40y enoyl  acyl carrier protein  reductase  n 4 0 \n",
      "ALAGLUEPI L Ala D L Glu epimerase\n",
      "GPDDA1 sn Glycero 3 phosphocholine glycerophosphohydrolase\n",
      "GPDDA2 sn Glycero 3 phosphoethanolamine glycerophosphohydrolase\n",
      "DAHETBCLPHDDH 2 desacetyl 2 hydroxyethyl bacteriochlorophyllide a dehydrogenase\n",
      "PUNP7 xanthosine phosphorylase\n",
      "EX_DM_trnaala exchange flux   tRNA Ala \n",
      "GLNTRAT glutamyl tRNA amidotransferase\n",
      "ACACT3r 3 ketoacyl CoA thiolase  n 8 0 \n",
      "EX_DM_trnaile exchange flux   tRNA Ile \n",
      "EX_photon_e exchange flux   light\n",
      "DCAtex decanoate transport via diffusion  extracellular to periplasm \n",
      "NTPPD11 2 nitropropane dioxygenase\n",
      "3HBCDH 3 hydroxybutyryl CoA dehydrogenase\n",
      "GCALDDr glycolaldehyde dehydrogenase\n",
      "ACACT2r 3 ketoacyl CoA thiolase  n 6 0 \n",
      "PPNDH prephenate dehydratase\n",
      "EX_xylnt_D_e exchange flux   D xylonate\n",
      "FPGS8 folylpolyglutamate synthase 2\n",
      "ACtex acetate transport via diffusion  extracellular to periplasm \n",
      "AHC S adenosylhomocysteine hydrolase\n",
      "ALATA_D D alanine aminotransferase\n",
      "ZCARDS2 zeta carotene desaturase 2\n",
      "ADSK adenylylsulfate kinase\n",
      "GTPCII2 GTP cyclohydrolase II\n",
      "HACYLCOAEPI120 3 hydroxyacyl CoA epimerase  n 12 0 \n",
      "LYXNTtex L lyxonate transport via diffusion  extracellular to periplasm \n",
      "ENCOAI61 enoyl CoA isomerase  n 6 0 \n",
      "TDSK tetraacyldisaccharide 4  kinase\n",
      "APG3PAT160 glycerol 3 phosphate synthetase  n 16 0 \n",
      "ACALDtpp acetaldehyde transport via diffusion  periplasm to cytoplasm \n",
      "APG3PAT161 glycerol 3 phosphate synthetase  n 16 1 \n",
      "ADSS adenylosuccinate synthetase\n",
      "FACOAL60 fatty acyl CoA synthetase  n 6 0 \n",
      "EX_DM_AMOB exchange flux   S  adenosyl 4 methylthio 2 oxobutanoate\n",
      "ACACT1r acetyl CoA C acetyltransferase\n",
      "GLUTRS_Gln_ nondiscriminating glutamyl tRNA synthetase\n",
      "CYOO_4p cytochrome o ubiquinol oxidase\n",
      "MEOHDH methanol dehydrogenase\n",
      "PHYNS phytoene synthase 1\n",
      "CDPGD cdp glucose 4 6 dehydratase\n",
      "G2PP glycerol 2 phosphatase\n",
      "TRPS1r tryptophan synthase\n",
      "OPHBDC 3 octaprenyl 4 hydroxybenzoate carboxy lyase\n",
      "ENCOAI41 enoyl CoA isomerase  n 4 0 \n",
      "TSULtex thiosulfate transport via diffusion  extracellular to periplasm \n",
      "SORBNLDH L sorbosone dehydrogenase\n",
      "APG3PAT180 glycerol 3 phosphate synthetase  n 18 0 \n",
      "APG3PAT181 glycerol 3 phosphate synthetase  n 18 1 \n",
      "APH181 acylphosphatase  n 18 1 \n",
      "ACPpds acyl carrier protein phosphodiesterase\n",
      "EX_rib_D_e exchange flux   D ribose\n",
      "CHORS chorismate synthase\n",
      "APH180 acylphosphatase  n 18 0 \n",
      "CHORM chorismate mutase\n",
      "SUCOAS succinyl CoA synthetase\n",
      "FACOAL80 fatty acyl CoA synthetase  n 8 0 \n",
      "5DGLCNR 5 keto D gluconate 5 reductase  inferred from physiology \n",
      "PPDK pyruvate phosphate dikinase\n",
      "BTCAL fatty acyl CoA synthetase  n 4 0 \n",
      "H2MB4PRD 1 hydroxy 2 methyl 2  E  butenyl 4 diphosphate reductase 1\n",
      "GTHS glutathione synthetase\n",
      "XYLNTtex D xylonate transport via diffusion  extracellular to periplasm \n",
      "APH161 acylphosphatase  n 16 1 \n",
      "TRPS3r tryptophan synthase A\n",
      "ADPT adenine phosphoribosyltransferase\n",
      "EX_DM_trnatrp exchange flux   tRNA Trp \n",
      "CATetoh catalase\n",
      "ACS acetyl CoA synthetase\n",
      "MREDR NADH azoreductase\n",
      "PPPGO protoporphyrinogen IX oxidase\n",
      "USHD UDP 2 3 diacylglucosamine hydrolase\n",
      "ZCARDS zeta carotene desaturase 1\n",
      "EX_ca2_e exchange flux   calcium\n",
      "APH160 acylphosphatase  n 16 0 \n",
      "UAGAAT UDP N acetylglucosamine acyltransferase\n",
      "CA2abctpp calcium ABC transporter\n",
      "HSTPTr histidinol phosphate aminotransferase\n",
      "ZCARDS2_e zeta carotene desaturase 2  extracellular \n",
      "EX_lald_L_e_ L lactaldehyde exchange\n",
      "TRPTRS tryptophanyl tRNA synthetase\n",
      "PROD2 proline dehydrogenase\n",
      "DHORTS dihydroorotase\n",
      "MOGDS molybdopterin guanine dinucleotide synthase\n",
      "EAR161y enoyl  acyl carrier protein  reductase  n 16 1 \n",
      "CYSTRS cysteine tRNA synthetase\n",
      "3HAD121 3 hydroxyacyl  acyl carrier protein  dehydratase  n 12 1 \n",
      "EX_DM_trnaval exchange flux   tRNA Val \n",
      "3HAD120 3 hydroxyacyl  acyl carrier protein  dehydratase  n 12 0 \n",
      "IPMD2r 3 isopropylmalate dehydrogenase\n",
      "FCLPA L fuculose 1 phosphate aldolase\n",
      "EX_dca_e exchange flux   decanoate\n",
      "COCHL cobaltochelatase\n",
      "CPPPGO coproporphyrinogen III oxidase\n",
      "EX_galcDarab_e exchange flux   3 O b D galactopyranosyl D arabinose\n",
      "HISTDADH histidinal dehydrogenase\n",
      "EX_tsul_e exchange flux   thiosulfate\n",
      "ASPTA aspartate aminotransferase\n",
      "KAT141 3 ketoacyl CoA thiolase  n 14 1 \n",
      "TARTRtex L tartrate transport via diffusion  extracellular to periplasm \n",
      "PSD161 phosphatidylserine decarboxylase  n 16 1 \n",
      "GLU5K gamma glutamyl kinase\n",
      "PSD160 phosphatidylserine decarboxylase  n 16 0 \n",
      "TARTR_Ltpp L tartrate transporter\n",
      "DXPS 1 deoxy D xylulose 5 phosphate synthase\n",
      "FACOAL121 fatty acyl CoA synthetase  n 12 1 \n",
      "FACOAL120 fatty acyl CoA synthetase  n 12 0 \n",
      "VALTRS valine tRNA synthetase\n",
      "EX_D_araba_e exchange flux   D arabinonate\n",
      "PHAS poly 3 hydroxyalkanoate  polymerase\n",
      "EX_mg2_e exchange flux   magnesium\n",
      "SUCCD1 succinate dehydrogenase\n",
      "MEPCT 4 diphosphocytidyl 2C  methyl D erythritol synthase\n",
      "EX_lac_L_e exchange flux    S  lactate\n",
      "METAT methionine adenosyltransferase\n",
      "ETOHtex ethanol transport via diffusion  extracellular to periplasm \n",
      "3HAD100 B hydroxydecanoyl thioester dehydrase\n",
      "FRDOr NADPH ferredoxin oxidoreductase 1\n",
      "THRTRS threonine tRNA synthetase\n",
      "EX_co2_e exchange flux   CO2\n",
      "TMPPP thiamine phosphate synthase\n",
      "KAT121 3 ketoacyl CoA thiolase  n 12 1 \n",
      "HACDHG haloacid dehalogenase\n",
      "PRMICI N  5  phospho L ribosyl formimino  5 amino 1  5  phosphoribosyl  4 imidazolecarboxamide isomerase\n",
      "EX_araba_e exchange flux   L arabinonate\n",
      "VALTA amino acid transferase  valine \n",
      "FCLT ferrochelatase\n",
      "PRFGS phosphoribosylformylglycinamide synthetase\n",
      "MFPGS5 folylpolyglutamate synthase 1\n",
      "TYRTA aromatic amino acid transaminase  TYR \n",
      "T2DECAI trans 2 decenoyl ACP isomerase\n",
      "THMBIOS2 thiamin biosynthesis 2\n",
      "THMBIOS3 thiamin biosynthesis 3\n",
      "THMBIOS4 thiamin biosynthesis 4\n",
      "PPCDC phosphopantothenoylcysteine decarboxylase\n",
      "FACOAL100 fatty acyl CoA synthetase  n 10 0 \n",
      "PPA2 triphosphate phosphohydrolase  inferred from gap \n",
      "RPI ribose 5 phosphate isomerase\n",
      "DHXANTI trans 2 3 dihydro 3 hydroxy anthranilate isomerase\n",
      "EX_DM_trnaphe exchange flux   tRNA Phe \n",
      "ORPT orotate phosphoribosyltransferase\n",
      "DHXANTH 2 amino 2 deoxyisochorismate hydrolase\n",
      "GMPS2 GMP synthetase\n",
      "PYK pyruvate kinase\n",
      "RPE D ribulose 5 phosphate 3 epimerase\n",
      "PTA2 phosphate acetyltransferase 2\n",
      "ASAD aspartate semialdehyde dehydrogenase\n",
      "ACPS1 holo  acyl carrier protein  synthase\n",
      "FMNRx2 NADPH dependent FMN reductase\n",
      "HACOAEPI141 3 hydroxyacyl CoA epimerase  n 14 1 \n",
      "BMMALCOAL b methylmalyl CoA lyase\n",
      "EX_DM_thif exchange flux   thiF\n",
      "PRAMPC phosphoribosyl AMP cyclohydrolase\n",
      "FUM fumarate hydratase\n",
      "EX_fe2_e exchange flux   Fe2 \n",
      "EX_acac_e exchange flux   acetoacetate\n",
      "EX_DM_thil exchange flux   thiI\n",
      "KAT181 3 ketoacyl CoA thiolase  n 18 1 \n",
      "HGBAMS hydrogenobyrinate a c diamide synthase\n",
      "DHDPRy dihydrodipicolinate reductase\n",
      "EX_DM_trnagln exchange flux   tRNA Gln \n",
      "BRFAPS 4  b D ribofuranosyl aminobenzene 5  phosphate synthase\n",
      "EX_DM_this exchange flux   thiS\n",
      "EX_ppa_e exchange flux   propanoate\n",
      "LPLIPAL1E181 lysophospholipase E1  n 18 1 \n",
      "LEUTAi amino acid transferase  leucine \n",
      "EX_DM_trnaglu exchange flux   tRNA Glu \n",
      "ACONT aconitate hydratase\n",
      "EX_DM_trnagly exchange flux   tRNA Gly \n",
      "FPGS10 folylpolyglutamate synthase 3\n",
      "ENCOAI162 enoyl CoA isomerase  n 16 1 \n",
      "FACOAL161 fatty acyl CoA synthetase  n 16 1 \n",
      "ENCOAI161 enoyl CoA isomerase  n 16 0 \n",
      "FACOAL160 fatty acyl CoA synthetase  n 16 0 \n",
      "NNDMBRT nicotinate nucleotide  dimethylbenzimidazole phosphoribosyltransferase\n",
      "ALAR alanine racemase\n",
      "ALAS 5 aminolevulinate synthase\n",
      "ORNDC ornithine decarboxylase\n",
      "NADK NAD kinase\n",
      "EX_cu2_e exchange flux   copper\n",
      "DBTSr dethiobiotin synthetase\n",
      "GLUtex glutamate transport via diffusion  extracellular to periplasm \n",
      "HACOAEPI121 3 hydroxyacyl CoA epimerase  n 12 1 \n",
      "GAPD glyceraldehyde 3 phosphate dehydrogenase\n",
      "CU2abcpp copper exporting ATPase\n",
      "KDOPS 3 deoxy 8 phosphooctulonate synthase\n",
      "GLYAMDTRc glycine amidinotransferase\n",
      "UPP3S uroporphyrinogen III synthase\n",
      "UPP3MT uroporphyrin III C methyltransferase 1\n",
      "KDOPP 3 deoxy D manno octulosonate 8 phosphate phosphatase\n",
      "THD2pp NAD P  transhydrogenase\n",
      "EX_so4_e exchange flux   SO42 \n",
      "ETHMALCOAM ethylmalonyl CoA mutase\n",
      "LPLIPAL1E160 lysophospholipase E1  n 16 0 \n",
      "LPLIPAL1E161 lysophospholipase E1  n 16 1 \n",
      "KAT161 3 ketoacyl CoA thiolase  n 16 1 \n",
      "HSK homoserine kinase\n",
      "EX_glyclt_e exchange flux   glycolate\n",
      "MLMPTDHy methylenetetrahydromethanopterin dehydrogenase 1\n",
      "PHBD2 poly 3 hydroxyalkanoate  depolymerase\n",
      "ENCOAI182 enoyl CoA isomerase  n 18 1 \n",
      "FACOAL141 fatty acyl CoA synthetase  n 14 1 \n",
      "ENCOAI181 enoyl CoA isomerase  n 18 0 \n",
      "FRTT geranylgeranyl pyrophosphate synthase\n",
      "FACOAL140 fatty acyl CoA synthetase  n 14 0 \n",
      "ASP1DC aspartate 1 decarboxylase\n",
      "DHQS 3 dehydroquinate synthase\n",
      "CBPS carbamoyl phosphate synthetase\n",
      "LDH_L S lactate dehydrogenase\n",
      "ETHAtex ethanolamine transport via diffusion  extracellular to periplasm \n",
      "THZS thiazole synthase 1\n",
      "DNMPPA dihydroneopterin monophosphate dephosphorylase\n",
      "EX_mobd_e exchange flux   molybdate\n",
      "DHQD 3 dehydroquinate dehydratase\n",
      "CLt4 chloride channel\n",
      "GLYTRS glycine tRNA synthetase\n",
      "Kabcpp potassium transporting ATPase\n",
      "PPAt7 propanoate symport  periplasm to cytoplasm \n",
      "MALDHDC malate dehydrogenase  decarboxylating \n",
      "HNEUROPNS2 hydroxyneurosporene synthase 2\n",
      "EX_dha_e exchange flux   glycerone\n",
      "HNEUROPNS1 hydroxyneurosporene synthase 1\n",
      "ACPPAT181 acyl phosphate synthase  n 18 1 \n",
      "UAAGDS UDP N acetylmuramoylalanyl D glutamate 2 6 diaminopimelate ligase\n",
      "SDPDS N succinyl L diaminopimelate desuccinylase\n",
      "HACOAEPI181 3 hydroxyacyl CoA epimerase  n 18 1 \n",
      "MCPST 3 mercaptopyruvate sulfurtransferase\n",
      "ACPPAT180 acyl phosphate synthase  n 18 0 \n",
      "AIRCr phosphoribosylaminoimidazole carboxylase\n",
      "IG3PS imidazole glycerol phosphate synthase\n",
      "MOBDtex molybdate transport via diffusion  extracellular to periplasm \n",
      "GLYCLTtex glycolate transport via diffusion  extracellular to periplasm \n",
      "ACOTA acetylornithine aminotransferase\n",
      "TMDS thymidylate synthetase\n",
      "PRAIS phosphoribosylaminoimidazole synthetase\n",
      "ANACMURLALAA anhydro N acetylmuramoyl L alanine amidase\n",
      "UPPDC1 uroporphyrinogen decarboxylase\n",
      "ARABA_Dtex D arabinonate transport via diffusion  extracellular to periplasm \n",
      "EX_arab_D_e exchange flux   D arabinose\n",
      "SPOTN 1 amino propan 2 one 3 phosphate synthesis\n",
      "3OAR40 3 oxoacyl  acyl carrier protein  reductase  n 4 0 \n",
      "XYLtex D xylose transport via diffusion  extracellular to periplasm \n",
      "SSALyr succinate semialdehyde dehydrogenase\n",
      "UDPGDr UDP glucose 6 dehydrogenase\n",
      "DTPCUDCPPP undecaprenyl pyrophosphate phosphatase\n",
      "PPC phosphoenolpyruvate carboxylase\n",
      "PPA inorganic pyrophosphatase\n",
      "BTCOAC butyryl CoA carboxylase\n",
      "3HAD181 3 hydroxyacyl  acyl carrier protein  dehydratase  n 18 1 \n",
      "PPDODH 1 2 propanediol dehydrogenase\n",
      "3HAD180 3 hydroxyacyl  acyl carrier protein  dehydratase  n 18 0 \n",
      "ACPPAT161 acyl phosphate synthase  n 16 1 \n",
      "ACPPAT160 acyl phosphate synthase  n 16 0 \n",
      "HACOAEPI161 3 hydroxyacyl CoA epimerase  n 16 1 \n",
      "MLMPTDH methylenetetrahydromethanopterin dehydrogenase 2\n",
      "PRAI phosphoribosylanthranilate isomerase\n",
      "CBLAT cobalamin adenosyltransferase\n",
      "DPCOAK dephospho CoA kinase\n",
      "FTHFL formate tetrahydrofolate ligase\n",
      "EX_akg_e exchange flux   2 oxoglutarate\n",
      "ILETRS isoleucine tRNA synthetase\n",
      "ASPO6 L aspartate oxidase\n",
      "PRE5MT precorrin 5  C1  methyltransferase\n",
      "FACOAL180 fatty acyl CoA synthetase  n 18 0 \n",
      "FACOAL181 fatty acyl CoA synthetase  n 18 1 \n",
      "FALDHp formaldehyde dehydrogenase\n",
      "TRSARr 2 hydroxy 3 oxopropionate reductase  NAD \n",
      "DHOANTC 2 3 dihydro 3 oxo anthranilate condensation  hypothetical \n",
      "PRBK phosphoribulokinase\n",
      "LPLIP2AGPC160 lysophospholipase C2  n 16 0 \n",
      "DHFS dihydrofolate synthetase 1\n",
      "PGPP160 phosphatidylglycerophosphatase  n 16 0 \n",
      "DHFR dihydrofolate reductase\n",
      "EX_meoh_e exchange flux   methanol\n",
      "PGPP161 phosphatidylglycerophosphatase  n 16 1 \n",
      "3HAD160 3 hydroxyacyl  acyl carrier protein  dehydratase  n 16 0 \n",
      "3HAD161 3 hydroxyacyl  acyl carrier protein  dehydratase  n 16 1 \n",
      "LGTHL lactoylglutathione lyase\n",
      "PTAr phosphate acetyltransferase 1\n",
      "FMFTFMPT formylmethanofuran H4MPT formyltransferase\n",
      "PMPK phosphohydroxymethylpyrimidine kinase\n",
      "GMAND GDP mannose 4 6 dehydratase\n",
      "G3PD2 glycerol 3 phosphate dehydrogenase\n",
      "12PPDStex 1 2 propanediol transport via diffusion  extracellular to periplasm \n",
      "3OAR80 3 oxoacyl  acyl carrier protein  reductase  n 8 0 \n",
      "METTRS methionyl tRNA synthetase\n",
      "TRPS2 tryptophan synthase B\n",
      "AMAOTr 7 8 diaminopelargonic acid synthetase\n",
      "FALDA H4F dependent formaldehyde activating\n",
      "ADOCBLPS cobalamin 5  phosphate synthase\n",
      "H2MPTR2 dihydromethanopterin reductase\n",
      "PRATPP phosphoribosyl ATP pyrophosphatase\n",
      "OMMBZH2 2 octaprenyl 3 methyl 6 methoxy 1 4 benzoquinone hydroxylase\n",
      "ADMDCr S adenosylmethionine decarboxylase\n",
      "PGPP180 phosphatidylglycerophosphatase  n 18 0 \n",
      "EX_DM_5dr1p exchange flux    5  deoxyribose 1 phosphate\n",
      "3HAD140 3 hydroxyacyl  acyl carrier protein  dehydratase  n 14 0 \n",
      "PGPP181 phosphatidylglycerophosphatase  n 18 1 \n",
      "TMPKr thiamine monophosphate kinase\n",
      "3HAD141 3 hydroxyacyl  acyl carrier protein  dehydratase  n 14 1 \n",
      "EX_h2o2_e exchange flux   H2O2\n",
      "EX_asp_L_e exchange flux   L aspartate\n",
      "EX_DM_trnaleu exchange flux   tRNA Leu \n",
      "DUTPDP deoxyuridine 5  triphosphate nucleotidohydrolase\n",
      "3PSMES 5 enolpyruvylshikimate 3 phosphate synthetase\n",
      "FMETTRS 10 formyltetrahydrofolate L methionyl tRNA fMet  N formyltransferase\n",
      "NAtex sodium transport via diffusion  extracellular to periplasm \n",
      "MI3PP inositol monophosphatase\n",
      "2AGPEAT160acp 2 acylglycerophosphoethanolamine acyltransferase  n 16 0 \n",
      "OCOAT1r succinyl CoA 3 oxo acid CoA transferase\n",
      "ADCMS2 2 amino 2 deoxyisochorismate synthase\n",
      "PSD181 phosphatidylserine decarboxylase  n 18 1 \n",
      "PSD180 phosphatidylserine decarboxylase  n 18 0 \n",
      "3OAR60 3 oxoacyl  acyl carrier protein  reductase  n 6 0 \n",
      "ADOCBIK cobinamide kinase\n",
      "PERD erythronate 4 phosphate dehydrogenase\n",
      "H2MB4P 1 hydroxy 2 methyl 2  E  butenyl 4 diphosphate synthase\n",
      "UDPACGAM UDP N acetylglucosamine  N acetylmuramyl  pentapeptide  pyrophosphoryl undecaprenol N acetylglucosamine transferase 1\n",
      "HACOADH121 3 hydroxyacyl CoA dehydrogenase  n 12 1 \n",
      "E4PD erythrose 4 phosphate dehydrogenase\n",
      "CLtex chloride transport via diffusion  extracellular to periplasm \n",
      "KDOCT 3 deoxy D manno octulosonate cytidylyltransferase\n",
      "3OAR160 3 oxoacyl  acyl carrier protein  reductase  n 16 0 \n",
      "ADSL1r adenylosuccinate lyase\n",
      "3OAR161 3 oxoacyl  acyl carrier protein  reductase  n 16 1 \n",
      "PHYNS2 phytoene synthase 2\n",
      "PGI phosphoglucose isomerase\n",
      "HFACOAE60 acyl CoA thioesterase II  n h6 0 \n",
      "PGK phosphoglycerate kinase\n",
      "GF6PTAr L glutamine D fructose 6 phosphate aminotransferase\n",
      "UAMAGS UDP N acetylmuramoylalanine  D glutamate ligase\n",
      "PGM phosphoglyceromutase\n",
      "MMPTC methenyltetrahydrometanopterin cyclohydrolase\n",
      "MG2tex magnesium transport via diffusion  extracellular to periplasm \n",
      "MPTAT molybdopterin adenylyltransferase\n",
      "FUMtex fumarate transport via diffusion  extracellular to periplasm \n",
      "EX_cl_e exchange flux   chloride\n",
      "LPLIP1AGPC160 lysophospholipase C1  n 16 0 \n",
      "PPBNGS porphobilinogen synthase\n",
      "PAPR phosphoadenosine phosphosulfate reductase\n",
      "PYRt2rpp pyruvate symport  periplasm to cytoplasm \n",
      "PSP_D phosphoserine phosphatase  D \n",
      "MALCOATE malyl CoA thioesterase\n",
      "OCMPH2 2 octaprenyl 6 methoxyphenol hydroxylase\n",
      "PIt2rpp PiT phosphate transporter\n",
      "PSP_L phosphoserine phosphatase\n",
      "SPMS spermidine synthase\n",
      "FACOAE180 acyl CoA thioesterase II  n 18 0 \n",
      "EX_pi_e exchange flux   phosphate\n",
      "UGMDDS UDP N acetylmuramoylalanyl D glutamyl 2 6 diaminopimelate D alanyl D alanine ligase\n",
      "OCBT ornithine carbamoyltransferase\n",
      "MNtex manganese transport via diffusion  extracellular to periplasm \n",
      "HEMEOS heme O synthase\n",
      "BDH D beta hydroxybutyrate dehydrogenase\n",
      "G5SD glutamate 5 semialdehyde dehydrogenase\n",
      "AGPR N acetylglutamylphosphate reductase\n",
      "3OAR140 3 oxoacyl  acyl carrier protein  reductase  n 14 0 \n",
      "3OAR141 3 oxoacyl  acyl carrier protein  reductase  n 14 1 \n",
      "EX_ribona_e exchange flux   D ribonate\n",
      "OHPHM 2 octaprenyl 6 hydroxyphenol methylase\n",
      "GALCDARABtex 3 O b D galactopyranosyl D arabinose transport via diffusion  extracellular to periplasm \n",
      "O2tex O2 transport via diffusion  extracellular to periplasm \n",
      "ARABAtex L arabinonate transport via diffusion  extracellular to periplasm \n",
      "MAN1PT mannose 1 phosphate guanylyltransferase\n",
      "ADSL2r 5  phosphoribosyl 4  N succinocarboxamide  5 aminoimidazole lyase\n",
      "TALA transaldolase\n",
      "AGPAT161 lysophosphatidic acid acyltransferase  n 16 1 \n",
      "3HAD60 3 hydroxyacyl  acyl carrier protein  dehydratase  n 6 0 \n",
      "PGCDr D 3 phosphoglycerate dehydrogenase\n",
      "AGPAT160 lysophosphatidic acid acyltransferase  n 16 0 \n",
      "GTHPp glutathione peroxidase  periplasmic \n",
      "FACOAE160 acyl CoA thioesterase II  n 16 0 \n",
      "PDH pyruvate dehydrogenase\n",
      "3OAR120 3 oxoacyl  acyl carrier protein  reductase  n 12 0 \n",
      "ILETA amino acid transferase  isoleucine \n",
      "3OAR121 3 oxoacyl  acyl carrier protein  reductase  n 12 1 \n",
      "MTAP 5  methylthioadenosine phosphorylase\n",
      "EX_k_e exchange flux   potassium\n",
      "H2Otex H2O transport via diffusion  extracellular to periplasm \n",
      "DAPE diaminopimelate epimerase\n",
      "ASPK aspartokinase\n",
      "EX_DM_h2mpt exchange flux    7 8 dihydromethanopterin\n",
      "NO3tex nitrate transport via diffusion  extracellular to periplasm \n",
      "EX_xyl_D_e exchange flux   D xylose\n",
      "HMPK1 hydroxymethylpyrimidine kinase\n",
      "Htex H  transport via diffusion  extracellular to periplasm \n",
      "PDX5PO pyridoxine 5  phosphate oxidase\n",
      "UPP3MT2 uroporphyrin III C methyltransferase 2\n",
      "FORtex formate transport via diffusion  extracellular to periplasm \n",
      "GTHOr glutathione reductase\n",
      "ACS2 propionyl CoA synthetase\n",
      "AGPAT180 lysophosphatidic acid acyltransferase  n 18 0 \n",
      "G5SADr L glutamate gamma semialdehyde  cyclase dehydratase \n",
      "AGPAT181 lysophosphatidic acid acyltransferase  n 18 1 \n",
      "EX_etoh_e exchange flux   ethanol\n",
      "UAPGR UDP N acetylenolpyruvoylglucosamine reductase\n",
      "NDPK8 dADP kinase\n",
      "NDPK7 dCDP kinase\n",
      "ATPS4rpp ATP synthase\n",
      "3HAD80 3 hydroxyacyl  acyl carrier protein  dehydratase  n 8 0 \n",
      "NDPK5 dGDP kinase\n",
      "NDPK4 dTDP kinase\n",
      "NDPK3 CDP kinase\n",
      "FACOAE140 acyl CoA thioesterase II  n 14 0 \n",
      "NDPK2 UDP kinase\n",
      "NDPK1 GDP kinase\n",
      "CA2NAtpp sodium calcium exchanger\n",
      "METACH O acetylhomoserine sulfhydrylase\n",
      "GGTT R geranylgeranyltranstransferase\n",
      "ANPRT anthranilate phosphoribosyltransferase\n",
      "AKGt2rpp a ketoglutarate MFS transporter\n",
      "EX_12ppd_S_e exchange flux   1 2 propanediol\n",
      "HFACOAE80 acyl CoA thioesterase II  n h8 0 \n",
      "3OAR100 3 oxoacyl  acyl carrier protein  reductase  n 10 0 \n",
      "MECDPS 2C methyl D erythritol 2 4 cyclodiphosphate synthase\n",
      "GLNS glutamine synthetase\n",
      "F6PPKL D fructose 6 phosphate phosphoketolase\n",
      "Zn2tex zinc transport via diffusion  extracellular to periplasm \n",
      "MG2uabcpp magnesium ABC transporter\n",
      "ACOATA acetyl CoA ACP transacylase\n",
      "EX_fald_e exchange flux   formaldehyde\n",
      "EX_nh4_e exchange flux   nitrogen\n",
      "MOHMT 3 methyl 2 oxobutanoate hydroxymethyltransferase\n",
      "CMBLD2 dienelactone hydrolase  trans \n",
      "5DGLCNtex 5 dehydro D gluconate transport via diffusion  extracellular to periplasm \n",
      "AGDC_r N acetylglucosamine 6 phosphate deacetylase\n",
      "HCO3E carbonic anhydrase\n",
      "CMBLD4 dienelactone hydrolase  cis \n",
      "CMBLD3 carboxymethylenebutenolidase\n",
      "OXAFORtpp oxalate formate antiporter  periplasm to cytoplasm \n",
      "EX_na1_e exchange flux   Na \n",
      "EX_oxa_e exchange flux   oxalate\n",
      "PHYNDH2 phytoene dehydrogenase 2\n",
      "QULNS quinolinate synthetase\n",
      "GLUCYS gamma glutamylcysteine synthetase\n",
      "EX_glc_e exchange flux   D glucose\n",
      "IGPDH imidazoleglycerol phosphate dehydratase\n",
      "ICDHyr isocitrate dehydrogenase\n",
      "MACACI maleylacetoacetate isomerase\n",
      "FORMMFRHD formyl MFS hydrolysis\n",
      "R3HAD40 3 hydroxyacyl  acyl carrier protein  dehydratase  n 4 0 \n",
      "ENCOAI141 enoyl CoA isomerase  n 14 0 \n",
      "ENCOAI142 enoyl CoA isomerase  n 14 1 \n",
      "ACGLCAM beta N acetyl glucosaminidase\n",
      "ARGSSr argininosuccinate synthase\n",
      "FACOAE60 acyl CoA thioesterase II  n 6 0 \n",
      "ACOAD161 acyl CoA dehydrogenase  n 16 1 \n",
      "UMPK uridylate kinase\n",
      "PRASCS phosphoribosylaminoimidazole succinocarboxamide synthetase\n",
      "ASNS1 asparagine synthase\n",
      "SDPTA N succinyldiaminopimelate aminotransferase\n",
      "TPI triosephosphate isomerase\n",
      "PSSA181 phosphatidylserine synthase  n 18 1 \n",
      "PSSA180 phosphatidylserine synthase  n 18 0 \n",
      "NH4tpp NH3 transport  periplasm to cytoplasm \n",
      "TRE6PP trehalose 6 phosphate phosphatase\n",
      "TRE6PS trehalose 6 phosphate synthase\n",
      "THRPD L threonine O 3 phosphate decarboxylase\n",
      "ACBIPGT cobinamide phosphate guanylyltransferase\n",
      "MAN6PI mannose 6 phosphate isomerase\n",
      "THRPS L threonine kinase\n",
      "MESACOAH mesaconyl CoA hydratase\n",
      "LPLIPAL1C180 lysophospholipase C1  n 18 0 \n",
      "ADCYRS adenosyl cobyric acid synthase\n",
      "LPLIPAL1C181 lysophospholipase C1  n 18 1 \n",
      "EX_DM_trnacys exchange flux   tRNA Cys \n",
      "EX_no3_e exchange flux   nitrate\n",
      "ETOHDH quinoprotein ethanol dehydrogenase\n",
      "ARGSL argininosuccinate lyase\n",
      "PTHPS 6 pyruvoyl tetrahydrobiopterin synthase\n",
      "ENCOAI121 enoyl CoA isomerase  n 12 0 \n",
      "ASPTRNAAMT aspartyl tRNA amidotransferase\n",
      "EX_o2_e exchange flux   oxygen\n",
      "ACODA acetylornithine deacetylase\n",
      "ENCOAI122 enoyl CoA isomerase  n 12 1 \n",
      "RZ5PP a ribazole 5  phosphate phosphatase\n",
      "ASPTRS aspartate tRNA synthetase\n",
      "NNAMr nicotinamidase\n",
      "UDPG4E UDP glucose 4 epimerase\n",
      "ACGS N acetylglutamate synthase\n",
      "ACOAD181 acyl CoA dehydrogenase  n 18 1 \n",
      "Ktex potassium transport via diffusion  extracellular to periplasm \n",
      "HACOADH181 3 hydroxyacyl CoA dehydrogenase  n 18 1 \n",
      "HACOADH180 3 hydroxyacyl CoA epimerase  n 18 0 \n",
      "HTHRPD 4 hydroxy L threonine phosphate dehydrogenase  NAD dependent\n",
      "ACGK acetylglutamate kinase\n",
      "FACOAE80 acyl CoA thioesterase II  n 8 0 \n",
      "CMPKDOT2 3 deoxy D manno octulosonic acid transferase 2\n",
      "CMPKDOT1 3 deoxy D manno octulosonic acid transferase 1\n",
      "HEMEDS2 heme d synthase\n",
      "SPODM superoxide dismutase\n",
      "PSSA161 phosphatidylserine synthase  n 16 1 \n",
      "PSSA160 phosphatidylserine synthase  n 16 0 \n",
      "NTRIR4 ferredoxin  nitrite reductase\n",
      "GLYCOX3 glycine oxidase 3\n",
      "GLYCOX4 glycine oxidase 4\n",
      "OXAtex oxalate transport via diffusion  extracellular to periplasm \n",
      "PPNCL2 phosphopantothenoylcysteine synthetase\n",
      "GLYCOX5 glycine oxidase 5\n",
      "UHGADA UDP 3 O acyl N acetylglucosamine deacetylase\n",
      "THRS threonine synthase\n",
      "BB_RMN Biomass flux   L rhamnose\n",
      "METSr methionine synthase reversible\n",
      "EX_DM_trnahis exchange flux   tRNA His \n",
      "THRA L threonine aldolase\n",
      "LPLIPAL1C161 lysophospholipase C1  n 16 1 \n",
      "HMBS porphobilinogen deaminase\n",
      "CYSTL cystathionine beta lyase\n",
      "CYSSr cysteine synthase\n",
      "ACOAD121 acyl CoA dehydrogenase  n 12 1 \n",
      "CBIAT cob I alamin adenosyltransferase\n",
      "FMNAT FMN adenylyltransferase\n",
      "ENCOAI101 enoyl CoA isomerase  n 10 0 \n",
      "PGLYCP phosphoglycolate phosphatase\n",
      "KARA2 2 aceto 2 hydroxy butyrate reductoisomerase\n",
      "HACOADH160 3 hydroxyacyl CoA epimerase  n 16 0 \n",
      "HACOADH161 3 hydroxyacyl CoA dehydrogenase  n 16 1 \n",
      "DHPS2 dihydropteroate synthase\n",
      "SADT sulfate adenylyltransferase\n",
      "PC20M precorrin 2 C 20  methyltransferase\n",
      "KARA1 2 acetolactate reductoisomerase\n",
      "2DRIBOAtex 2 deoxy D ribonate transport via diffusion  extracellular to periplasm \n",
      "IPPMIb 3 isopropylmalate isomerase\n",
      "G1PTT glucose 1 phosphate thymidylyltransferase\n",
      "SKMK shikimate kinase\n",
      "EX_fum_e exchange flux   fumarate\n",
      "PC6AR precorrin 6A reductase\n",
      "3OAR181 3 oxoacyl  acyl carrier protein  reductase  n 18 1 \n",
      "GLYCK2 glycerate kinase\n",
      "H2O2tpp H2O2 transport via diffusion  periplasm to cytoplasm \n",
      "H2MB4PRD2 1 hydroxy 2 methyl 2  E  butenyl 4 diphosphate reductase 2\n",
      "EX_DM_trnapro exchange flux   tRNA Pro \n",
      "U23GAAT UDP 3 O  3 hydroxymyristoyl glucosamine N acetyltransferase\n",
      "THMBTHIC thiamine biosynthesis protein thiC\n",
      "ACOAD141 acyl CoA dehydrogenase  n 14 1 \n",
      "DPR 2 dehydropantoate 2 reductase\n",
      "SERGLXAT L serine glyoxylate aminotransferase\n",
      "EX_2kdrib_e exchange flux   2 deoxy D ribose\n",
      "3OAR180 3 oxoacyl  acyl carrier protein  reductase  n 18 0 \n",
      "HACOADH141 3 hydroxyacyl CoA dehydrogenase  n 14 1 \n",
      "5DGLCNt2rpp 5 dehydro D gluconate transporter  inferred from physiology \n",
      "MPTFALDA H4MPT dependent formaldehyde activating\n",
      "3HBCD  R  3 hydroxybutyryl CoA dehydratase\n",
      "PMDPHT pyrimidine phosphatase\n",
      "CO2tex CO2 transport via diffusion  extracellular to periplasm \n",
      "NTD10 5  nucleotidase  XMP \n",
      "NTD11 5  nucleotidase  IMP \n",
      "EX_lyxnt_e exchange flux   L lyxonate\n",
      "ACKr acetate kinase\n",
      "ACLS acetolactate synthase\n",
      "FALDtpp formaldehyde transport via diffusion  periplasm to cytoplasm \n",
      "HSDyi homoserine dehydrogenase\n",
      "ATPPRTr ATP phosphoribosyltransferase\n",
      "NNDPR quinolinate phosphoribosyltransferase\n",
      "NO3Ras nitrate reductase assimilatory\n",
      "EX_DM_trnaarg exchange flux   tRNA Arg \n",
      "PPTT octaprenyl diphosphate synthase 2\n",
      "PTRCtex putrescine transport via diffusion  extracellular to periplasm \n",
      "GLUSy glutamate synthase 2\n",
      "LPLIPAL2E180 lysophospholipase E1  n 18 0 \n",
      "EX_succ_e exchange flux   succinate\n",
      "LPLIPAL2E181 lysophospholipase E2  n 18 1 \n",
      "PIuabcpp phosphate ABC transporter\n",
      "THMBIOS thiamin biosynthesis 1\n",
      "FE2t2pp iron proton symport\n",
      "NNATr nicotinate nucleotide adenylyltransferase\n",
      "EX_DM_trnalys exchange flux   tRNA Lys \n",
      "ARAB_Dtex D arabinose transport via diffusion  extracellular to periplasm \n",
      "ALDD2y acetyldehyde dehydrogenase\n",
      "HPTRED dihydropteridine reductase\n",
      "PHYNDH2_e phytoene dehydrogenase 2  extracellular \n",
      "MPTSA molybdopterin synthase activations\n",
      "TRDR thioredoxin reductase\n",
      "FE2abcpp iron ABC transporter\n",
      "ZCARDS_e zeta carotene desaturase 1  extracullular \n",
      "3OAS100 3 oxoacyl  acyl carrier protein  synthase  n 10 0 \n",
      "PGAMT phosphoglucosamine mutase\n",
      "OMBZLM 2 octaprenyl 6 methoxy 1 4 benzoquinone methylase\n",
      "ETHMALCOAEPM ethylmalonyl CoA epimerase\n",
      "RBFK riboflavin kinase\n",
      "MNt2pp manganese proton symport\n",
      "HBZOPT 4 hydroxybenzoate octaprenyltransferase\n",
      "LPLIPAL2E160 lysophospholipase E2  n 16 0 \n",
      "DHNPA2 dihydroneopterin aldolase\n",
      "LPLIPAL2E161 lysophospholipase E2  n 16 1 \n",
      "PHYNDH phytoene dehydrogenase 1\n",
      "EX_DM_trnatyr exchange flux   tRNA Tyr \n",
      "EX_lyx_L_e exchange flux   L lyxose\n",
      "CHRPL chorismate lyase\n",
      "SERAT serine acetyltransferase\n",
      "PPCOAC propionyl CoA carboxylase 1\n",
      "H2O2syn NADPH oxidoreductase  OYE \n",
      "TYRTRS tyrosine tRNA synthetase\n",
      "2AGPEAT181acp 2 acylglycerophosphoethanolamine acyltransferase  n 18 1 \n",
      "NODOy nitric oxide dioxygenase\n",
      "PMANM phosphomannomutase\n",
      "NTD9 5  nucleotidase  GMP \n",
      "HFACOAE180 acyl CoA thioesterase II  n h18 0 \n",
      "NTD7 5  nucleotidase  AMP \n",
      "EX_DM_rbrdxOX exchange flux   oxidized rubredoxin\n",
      "L_LACtex  S  lactate transport via diffusion  extracellular to periplasm \n",
      "UDPDPS5 undecaprenyl diphosphate synthase 5\n",
      "UDPDPS6 undecaprenyl diphosphate synthase 6\n",
      "UDPDPS3 undecaprenyl diphosphate synthase 3\n",
      "ENO enolase\n",
      "UDPDPS4 undecaprenyl diphosphate synthase 4\n",
      "MME methylmalonyl CoA epimerase\n",
      "CYRDAAT cob I yrinic acid a c diamide adenosyltransferase\n",
      "H2Otpp H2O transport via aquaporin\n",
      "UDPDPS9 undecaprenyl diphosphate synthase 8\n",
      "UDPDPS7 undecaprenyl diphosphate synthase 7\n",
      "GHMT2r serine hydroxymethyltransferase\n",
      "UDPDPS8 undecaprenyl diphosphate synthase 2\n",
      "3OAS121 3 oxoacyl  acyl carrier protein  synthase  n 12 1 \n",
      "3OAS120 3 oxoacyl  acyl carrier protein  synthase  n 12 0 \n",
      "MMM2r methylmalonyl CoA mutase\n",
      "AACOAR acetoacetyl CoA reductase 1\n",
      "ADOCBLPPA adenosylcobalamine 5  phosphate phosphatase\n",
      "ECOAH5 enoyl CoA hydratase  n 12 0 \n",
      "ECOAH6 enoyl CoA hydratase  n 14 0 \n",
      "BB_ACGAM Biomass flux   N acetyl D glucosamine\n",
      "ECOAH3 enoyl CoA hydratase  n 8 0 \n",
      "ECOAH4 enoyl CoA hydratase  n 10 0 \n",
      "AOXSr 7 keto 8 aminopelargonic acid synthetase\n",
      "GARFT phosphoribosylglycinamide formyltransferase\n",
      "ECOAH7 enoyl CoA hydratase  n 16 0 \n",
      "COBS2 cobalamin synthase\n",
      "ECOAH8 enoyl CoA hydratase  n 18 0 \n",
      "EX_DM_trnaasn exchange flux   tRNA Asn \n",
      "ECOAH1 3 hydroxybutyryl CoA dehydratase\n",
      "ECOAH2 enoyl CoA hydratase  n 6 0 \n",
      "EX_DM_trnaasp exchange flux   tRNA Asp \n",
      "CO2tpp CO2 transport via diffusion  periplasm to cytoplasm \n",
      "FMNDESTRUC flavin destructase\n",
      "TDPGDH dTDP glucose 4 6 dehydratase\n",
      "PHETA1 aromatic amino acid transaminase  PHE \n",
      "HISTP histidinol phosphatase\n",
      "ADCS aminodeoxychorismate synthase\n",
      "GALU glucose 1 phosphate uridylyltransferase\n",
      "CCRC crotonyl CoA reductase carboxylase\n",
      "IPPS2 2 isopropylmalate synthase\n",
      "HISTRS histidyl tRNA synthetase\n",
      "ACOAD2f acyl CoA dehydrogenase  n 6 0 \n",
      "CU2abctpp copper ABC transporter\n",
      "MMAtex methylamine transport via diffusion  extracellular to periplasm \n",
      "PPAppt H    translocating pyrophosphatases\n",
      "PEMT160 phosphatidylethanolamine N methyltransferase  n 16 0 \n",
      "HACYLCOAEPI80 3 hydroxyacyl CoA epimerase  n 8 0 \n",
      "ADCL aminodeoxychorismate lyase\n",
      "PEMT161 phosphatidylethanolamine N methyltransferase  n 16 1 \n",
      "EX_etha_e exchange flux   ethanolamine\n",
      "CTPS2 CTP synthetase\n",
      "ACHBS 2 aceto 2 hydroxy butyrate synthase\n",
      "ORNTAC glutamate N acetyltransferase\n",
      "EX_ptrc_e exchange flux   putrescine\n",
      "ACOAD3f acyl CoA dehydrogenase  n 8 0 \n",
      "DMATT geranyl diphosphate synthase\n",
      "FDHr formate dehydrogenase\n",
      "ETMAt_e ethylamine transport via diffusion  extracellular to periplasm \n",
      "AROGDH cyclohexadienyl dehydrogenase\n",
      "GTPCI GTP cyclohydrolase I\n",
      "SO4tex sulfate transport via diffusion  extracellular to periplasm \n",
      "LDH_D3 D lactate dehydrogenase  cytochrome \n",
      "HSPMDS homospermidine synthase 1\n",
      "HSPMS homospermidine synthase 2\n",
      "DCTPD dCTP deaminase\n",
      "BIOTINS biotin biosynthesis hypothetical reaction\n",
      "PAPPT3 phospho N acetylmuramoyl pentapeptide transferase 1\n",
      "COBALT2tex Co2  transport via diffusion  extracellular to periplasm \n",
      "PAPPT1 phospho N acetylmuramoyl pentapeptide transferase 2\n",
      "HISTD histidinol dehydrogenase\n",
      "DVPCLPHVR 3 8 divinyl protochlorophyllide 8 vinyl reductase\n",
      "UQCYOR_2p ubiquinol cytochrome c reductase\n",
      "EX_galcDaraba_e exchange flux   3 O b D galactopyranosyl D arabinonate\n",
      "EX_arab_L_e exchange flux   L arabinose\n",
      "ACOAD1f acyl CoA dehydrogenase  n 4 0 \n",
      "SULR sulfite reductase  NADPH \n",
      "G1PACT glucosamine 1 phosphate acetyltransferase\n",
      "DMQMT2 3 demethylubiquinone 8 3 O methyltransferase\n",
      "ANS anthranilate synthase\n",
      "MSUCCCOADH methylsuccinyl CoA dehydrogenase\n",
      "NTPP7 deoxynucleoside triphosphate pyrophosphohydrolase  dTTP \n",
      "NIGOSH nigerose hydrolase\n",
      "NTPP8 nucleoside triphosphate pyrophosphohydrolase  UTP \n",
      "ACOAD6f acyl CoA dehydrogenase  n 14 0 \n",
      "NTPP3 deoxynucleoside triphosphate pyrophosphohydrolase  dCTP \n",
      "NTPP4 nucleoside triphosphate pyrophosphohydrolase  CTP \n",
      "UAGCVT UDP N acetylglucosamine 1 carboxyvinyltransferase\n",
      "CU2tex copper transport via diffusion  extracellular to periplasm \n",
      "NTPP5 deoxynucleoside triphosphate pyrophosphohydrolase  dATP \n",
      "NTPP6 nucleoside triphosphate pyrophosphohydrolase  ATP \n",
      "HFACOAE120 acyl CoA thioesterase II  n h12 0 \n",
      "EAR121y enoyl  acyl carrier protein  reductase  n 12 1 \n",
      "ALAALAr D alanine D alanine ligase B\n",
      "FALDtex formaldehyde transport via diffusion  extracellular to periplasm \n",
      "ECOAH181 enoyl CoA hydratase  n 18 1 \n",
      "GLYKr glycerol kinase\n",
      "EX_mn2_e exchange flux   manganese\n",
      "DGK1 deoxyguanylate kinase\n",
      "ACOAD7f acyl CoA dehydrogenase  n 16 0 \n",
      "3OAS180 3 oxoacyl  acyl carrier protein  synthase  n 18 0 \n",
      "3OAS181 3 oxoacyl  acyl carrier protein  synthase  n 18 1 \n",
      "NAPRTr nicotinate phosphoribosyltransferase\n",
      "NADH11 NADH ubiquinone oxidoreductase I\n",
      "HACYLCOAEPI40 3 hydroxyacyl CoA epimerase  n 4 0 \n",
      "FACOAE120 acyl CoA thioesterase II  n 12 0 \n",
      "DHAtex glycerone transport via diffusion  extracellular to periplasm \n",
      "PNTK pantothenate kinase\n",
      "PHOTOSYS1C photosystem I cyclic\n",
      "OMPDC orotidine 5  phosphate decarboxylase\n",
      "H2O2tex H2O2 transport via diffusion  extracellular to periplasm \n",
      "SERTRS serine tRNA synthetase\n",
      "Kt3pp potassium proton antiporter\n",
      "ACOAD4f acyl CoA dehydrogenase  n 10 0 \n",
      "CO2DAMR cob II yrinate a c diamide reductase\n",
      "AMMQT8_2  S  adenosylmethionine 2 DMK methyltransferase\n",
      "CO2DAMS cobyrinic acid a c diamide synthase\n",
      "CYOD cytochrome d terminal oxidase\n",
      "EX_glu_L_e exchange flux   L glutamate\n",
      "HFACOAE100 acyl CoA thioesterase II  n h10 0 \n",
      "EX_DM_oxEA exchange flux   oxidized electron acceptor\n",
      "GRTT farnesyl diphosphate synthase\n",
      "THDPS 2 3 4 5 tetrahydropyridine 2 carboxylate N succinyltransferase\n",
      "PRPPS phosphoribosylpyrophosphate synthetase\n",
      "EAR180y enoyl  acyl carrier protein  reductase  n 18 0 \n",
      "DAPDC diaminopimelate decarboxylase\n",
      "CREAH creatininase\n",
      "EX_zn2_e exchange flux   zinc\n",
      "A5PISO D arabinose 5 phosphate isomerase\n",
      "KAS14 3 oxoacyl  acyl carrier protein  synthase  n 4 0 \n",
      "SHCHF sirohydrochlorin ferrochelatase\n",
      "ACOAD5f acyl CoA dehydrogenase  n 12 0 \n",
      "CS citrate synthase\n",
      "MDH malate dehydrogenase\n",
      "PROTRS proline tRNA ligase\n",
      "BPNT adenosine 3  2   5  bisphosphate nucleotidase\n",
      "HACYLCOAEPI60 3 hydroxyacyl CoA epimerase  n 6 0 \n",
      "3OAS60 3 oxoacyl  acyl carrier protein  synthase  n 6 0 \n",
      "ECOAH161 enoyl CoA hydratase  n 16 1 \n",
      "FACOAE100 acyl CoA thioesterase II  n 10 0 \n",
      "NFORGLUAH N formylglutamate amidohydrolase\n",
      "TDPDRR dTDP 4 dehydrorhamnose reductase\n",
      "EX_mal_L_e exchange flux    S  malate\n",
      "HFACOAE160 acyl CoA thioesterase II  n h16 0 \n",
      "ACACtex acetoacetate transport via diffusion  extracellular to periplasm \n",
      "TDPDRE dTDP 4 dehydrorhamnose 3 5 epimerase\n",
      "ARBtex L arabinose transport via diffusion  extracellular to periplasm \n",
      "MTHFR3 5 10 methylenetetrahydrofolate reductase\n",
      "OMCDC 2 isopropyl 3 oxosuccinate decarboxylase\n",
      "EX_cit_e exchange flux   citrate\n",
      "DPGM bisphosphoglycerate mutase\n",
      "GLYD hydroxypyruvate reductase\n",
      "O2tpp O2 transport via diffusion  periplasm to cytoplasm \n",
      "MEOHtex methanol transport via diffusion  extracellular to periplasm \n",
      "ACCOACr acetyl CoA carboxylase\n",
      "EX_glcn_e exchange flux   D gluconate\n",
      "DHAD2 2 3 dihydroxy 3 methylvalerate dehydratase\n",
      "GLYOX S lactoylglutathione hydrolase\n",
      "DHAD1 2 3 dihydroxy isovalerate dehydratase\n",
      "DASYN160 CDP diacylglycerol synthetase  n 16 0 \n",
      "3OAS140 3 oxoacyl  acyl carrier protein  synthase  n 14 0 \n",
      "BTS6 biotin synthase\n",
      "3OAS141 3 oxoacyl  acyl carrier protein  synthase  n 14 1 \n",
      "DASYN161 CDP diacylglycerol synthetase  n 16 1 \n",
      "NH4tex NH3 transport via diffusion  extracellular to periplasm \n",
      "MALCOAL malyl CoA lyase\n",
      "ECOAH141 enoyl CoA hydratase  n 14 1 \n",
      "SULFOX2 sulfite oxidase\n",
      "3OAS80 3 oxoacyl  acyl carrier protein  synthase  n 8 0 \n",
      "EX_tartr_L_e exchange flux   L tartrate\n",
      "MALCOAS malyl CoA synthetase\n",
      "EX_2driboa_e exchange flux   2 deoxy D ribonate\n",
      "OCTDPS2 octaprenyl diphosphate synthase 4\n",
      "PRAGSr phosphoribosylglycinamide synthetase\n",
      "MPTSS molybdopterin synthase sulfurylase\n",
      "MPTSP molybderin biosynthesis protein\n",
      "HFACOAE140 acyl CoA thioesterase II  n h14 0 \n",
      "UDPGCGT ceramide glucosyltransferase\n",
      "EX_DM_trnaser exchange flux   tRNA Ser \n",
      "UAGPT3 UDP N acetylglucosamine  N acetylmuramyl  pentapeptide  pyrophosphoryl undecaprenol N acetylglucosamine transferase 2\n",
      "FT undecaprenyl diphosphate synthase 1\n",
      "ACOAD8f acyl CoA dehydrogenase  n 18 0 \n",
      "EX_cobalt2_e exchange flux   Co2 \n",
      "LPADSS lipid A disaccharide synthase\n",
      "GLYO1 glycine oxidase 1\n",
      "DHDPS dihydrodipicolinate synthase\n",
      "GLCNtex D gluconate transport via diffusion  extracellular to periplasm \n",
      "GLUR glutamate racemase\n",
      "GK1 guanylate kinase\n",
      "MCOATA malonyl CoA  acyl carrier protein  transacylase\n",
      "CELLS cellulose synthase\n",
      "EX_mma_e exchange flux   methylamine\n",
      "EAR120y enoyl  acyl carrier protein  reductase  n 12 0 \n",
      "ASPTRS_tASN nondiscriminating aspartate tRNA synthetase\n",
      "SDACT sulfur donor activation\n",
      "NO3Rpp nitrate reductase  periplasmic \n",
      "SPMDAT1 spermidine acetyltransferase\n",
      "SUCCtex succinate transport via diffusion  extracellular to periplasm \n",
      "EX_DM_trnamet exchange flux   tRNA Met \n",
      "OHPBAT phosphohydroxythreonine aminotransferase\n",
      "DASYN180 CDP diacylglycerol synthetase  n 18 0 \n",
      "ZNabcpp zinc ABC transporter\n",
      "NTPP1 deoxynucleoside triphosphate pyrophosphohydrolase  dGTP \n",
      "NTPP2 nucleoside triphosphate pyrophosphohydrolase  GTP \n",
      "DASYN181 CDP diacylglycerol synthetase  n 18 1 \n",
      "GALCDARABAtex 3 O b D galactopyranosyl D arabinonate transport via diffusion  extracellular to periplasm \n",
      "RBFSa 6 7 dimethyl 8 ribityllumazine synthase\n",
      "3OAS160 3 oxoacyl  acyl carrier protein  synthase  n 16 0 \n",
      "3OAS161 3 oxoacyl  acyl carrier protein  synthase  n 16 1 \n",
      "EAR100y enoyl  acyl carrier protein  reductase  n 10 0 \n",
      "RBFSb riboflavin synthase\n",
      "ECOAH121 enoyl CoA hydratase  n 12 1 \n",
      "DADK adenylate kinase 2\n",
      "Biomass_Mextorquens_AM1_core Methylobacterium extorquens strain AM1 core biomass equation\n",
      "EX_ch4_e methane exchange\n",
      "CH4tex methane transport via diffusion (extracellular to periplasm)\n",
      "PMMOipp particulate Methane Monooxygenase\n",
      "PMMODCipp particulate Methane Monooxygenase - Direct Coupling\n",
      "ALDD1 ALDD1\n",
      "N2trpp Nitrogen exchange, diffusion (periplasm)\n",
      "N2tex Nitrogen exchange, diffusion (extra-organism to periplasm)\n",
      "EX_n2_e N2 exchange\n",
      "EX_no2_e nitrite exchange\n",
      "NO2tex nitrite transport via diffusion (extracellular to periplasm)\n",
      "SAMMOi soluble ammonia monooxygenase\n",
      "NO3t7pp Nitrate transport in via nitrite antiport (periplasm)\n",
      "NO3R1 Nitrate reductase (Ubiquinol-8)\n",
      "NITR_NOpp Nitrite reductase (cytochrome; NO-forming)\n",
      "NITR_AMpp Nitrite reductase (cytochrome; ammonia-forming)\n",
      "NTRIR2y NTRIR2y\n",
      "NTRIR2x Nitrite Reductase (NADH)\n",
      "PAMMOipp particulate ammonia monooxygenase\n",
      "HAMtpp Diffusion Hydroxylamine between Periplasm and Cytosol\n",
      "CYP460ipp Cytochrome P460 - Hydroxylamine Dehydrogenase\n",
      "HAORipp Hydroxylamine oxydoreductase\n",
      "NO2tpp Diffusion Hydroxylamine between Periplasm and Cytosol\n",
      "NORZ2pp Nitric oxide reductase (cytochrome c)\n",
      "NIT_mc Nitrogenase\n"
     ]
    }
   ],
   "source": [
    "for reaction in model_OB3b.reactions:\n",
    "    print(reaction.id, reaction.name)"
   ]
  },
  {
   "cell_type": "markdown",
   "metadata": {},
   "source": [
    "## Read from csv file and convert to dictionary:"
   ]
  },
  {
   "cell_type": "code",
   "execution_count": 200,
   "metadata": {
    "ExecuteTime": {
     "end_time": "2020-01-02T07:08:23.977925Z",
     "start_time": "2020-01-02T07:08:23.888869Z"
    },
    "code_folding": [],
    "scrolled": true
   },
   "outputs": [],
   "source": [
    "import pandas as pd\n",
    "AM1_reactions_with_subsystems = pd.read_csv(\"/media/sf_Shared/Temporal_files/\" + \\\n",
    "                                            \"AM1_reactions_with_subsystems.csv\")"
   ]
  },
  {
   "cell_type": "code",
   "execution_count": 201,
   "metadata": {
    "ExecuteTime": {
     "end_time": "2020-01-02T07:08:25.014715Z",
     "start_time": "2020-01-02T07:08:25.000455Z"
    }
   },
   "outputs": [
    {
     "data": {
      "text/html": [
       "<div>\n",
       "<style scoped>\n",
       "    .dataframe tbody tr th:only-of-type {\n",
       "        vertical-align: middle;\n",
       "    }\n",
       "\n",
       "    .dataframe tbody tr th {\n",
       "        vertical-align: top;\n",
       "    }\n",
       "\n",
       "    .dataframe thead th {\n",
       "        text-align: right;\n",
       "    }\n",
       "</style>\n",
       "<table border=\"1\" class=\"dataframe\">\n",
       "  <thead>\n",
       "    <tr style=\"text-align: right;\">\n",
       "      <th></th>\n",
       "      <th>Name</th>\n",
       "      <th>Subsystem</th>\n",
       "    </tr>\n",
       "  </thead>\n",
       "  <tbody>\n",
       "    <tr>\n",
       "      <th>0</th>\n",
       "      <td>exchange flux : methanol</td>\n",
       "      <td>exchange with environment</td>\n",
       "    </tr>\n",
       "    <tr>\n",
       "      <th>1</th>\n",
       "      <td>exchange flux : oxygen</td>\n",
       "      <td>exchange with environment</td>\n",
       "    </tr>\n",
       "    <tr>\n",
       "      <th>2</th>\n",
       "      <td>exchange flux : nitrogen</td>\n",
       "      <td>exchange with environment</td>\n",
       "    </tr>\n",
       "    <tr>\n",
       "      <th>3</th>\n",
       "      <td>exchange flux : CO2</td>\n",
       "      <td>exchange with environment</td>\n",
       "    </tr>\n",
       "    <tr>\n",
       "      <th>4</th>\n",
       "      <td>exchange flux : formaldehyde</td>\n",
       "      <td>exchange with environment</td>\n",
       "    </tr>\n",
       "  </tbody>\n",
       "</table>\n",
       "</div>"
      ],
      "text/plain": [
       "                           Name                  Subsystem\n",
       "0      exchange flux : methanol  exchange with environment\n",
       "1        exchange flux : oxygen  exchange with environment\n",
       "2      exchange flux : nitrogen  exchange with environment\n",
       "3           exchange flux : CO2  exchange with environment\n",
       "4  exchange flux : formaldehyde  exchange with environment"
      ]
     },
     "execution_count": 201,
     "metadata": {},
     "output_type": "execute_result"
    }
   ],
   "source": [
    "AM1_reactions_with_subsystems[:5]"
   ]
  },
  {
   "cell_type": "code",
   "execution_count": 22,
   "metadata": {
    "ExecuteTime": {
     "end_time": "2020-01-02T00:58:35.968558Z",
     "start_time": "2020-01-02T00:58:35.700497Z"
    },
    "scrolled": true
   },
   "outputs": [
    {
     "ename": "KeyError",
     "evalue": "\"['Unnamed: 2'] not found in axis\"",
     "output_type": "error",
     "traceback": [
      "\u001b[0;31m---------------------------------------------------------------------------\u001b[0m",
      "\u001b[0;31mKeyError\u001b[0m                                  Traceback (most recent call last)",
      "\u001b[0;32m<ipython-input-22-c38e58ecbbc7>\u001b[0m in \u001b[0;36m<module>\u001b[0;34m\u001b[0m\n\u001b[0;32m----> 1\u001b[0;31m \u001b[0mAM1_reactions_with_subsystems\u001b[0m \u001b[0;34m=\u001b[0m \u001b[0mAM1_reactions_with_subsystems\u001b[0m\u001b[0;34m.\u001b[0m\u001b[0mdrop\u001b[0m\u001b[0;34m(\u001b[0m\u001b[0mcolumns\u001b[0m\u001b[0;34m=\u001b[0m\u001b[0;34m\"Unnamed: 2\"\u001b[0m\u001b[0;34m)\u001b[0m\u001b[0;34m\u001b[0m\u001b[0;34m\u001b[0m\u001b[0m\n\u001b[0m",
      "\u001b[0;32m~/anaconda3/envs/GEM_py36/lib/python3.6/site-packages/pandas/core/frame.py\u001b[0m in \u001b[0;36mdrop\u001b[0;34m(self, labels, axis, index, columns, level, inplace, errors)\u001b[0m\n\u001b[1;32m   3695\u001b[0m                                            \u001b[0mindex\u001b[0m\u001b[0;34m=\u001b[0m\u001b[0mindex\u001b[0m\u001b[0;34m,\u001b[0m \u001b[0mcolumns\u001b[0m\u001b[0;34m=\u001b[0m\u001b[0mcolumns\u001b[0m\u001b[0;34m,\u001b[0m\u001b[0;34m\u001b[0m\u001b[0;34m\u001b[0m\u001b[0m\n\u001b[1;32m   3696\u001b[0m                                            \u001b[0mlevel\u001b[0m\u001b[0;34m=\u001b[0m\u001b[0mlevel\u001b[0m\u001b[0;34m,\u001b[0m \u001b[0minplace\u001b[0m\u001b[0;34m=\u001b[0m\u001b[0minplace\u001b[0m\u001b[0;34m,\u001b[0m\u001b[0;34m\u001b[0m\u001b[0;34m\u001b[0m\u001b[0m\n\u001b[0;32m-> 3697\u001b[0;31m                                            errors=errors)\n\u001b[0m\u001b[1;32m   3698\u001b[0m \u001b[0;34m\u001b[0m\u001b[0m\n\u001b[1;32m   3699\u001b[0m     @rewrite_axis_style_signature('mapper', [('copy', True),\n",
      "\u001b[0;32m~/anaconda3/envs/GEM_py36/lib/python3.6/site-packages/pandas/core/generic.py\u001b[0m in \u001b[0;36mdrop\u001b[0;34m(self, labels, axis, index, columns, level, inplace, errors)\u001b[0m\n\u001b[1;32m   3109\u001b[0m         \u001b[0;32mfor\u001b[0m \u001b[0maxis\u001b[0m\u001b[0;34m,\u001b[0m \u001b[0mlabels\u001b[0m \u001b[0;32min\u001b[0m \u001b[0maxes\u001b[0m\u001b[0;34m.\u001b[0m\u001b[0mitems\u001b[0m\u001b[0;34m(\u001b[0m\u001b[0;34m)\u001b[0m\u001b[0;34m:\u001b[0m\u001b[0;34m\u001b[0m\u001b[0;34m\u001b[0m\u001b[0m\n\u001b[1;32m   3110\u001b[0m             \u001b[0;32mif\u001b[0m \u001b[0mlabels\u001b[0m \u001b[0;32mis\u001b[0m \u001b[0;32mnot\u001b[0m \u001b[0;32mNone\u001b[0m\u001b[0;34m:\u001b[0m\u001b[0;34m\u001b[0m\u001b[0;34m\u001b[0m\u001b[0m\n\u001b[0;32m-> 3111\u001b[0;31m                 \u001b[0mobj\u001b[0m \u001b[0;34m=\u001b[0m \u001b[0mobj\u001b[0m\u001b[0;34m.\u001b[0m\u001b[0m_drop_axis\u001b[0m\u001b[0;34m(\u001b[0m\u001b[0mlabels\u001b[0m\u001b[0;34m,\u001b[0m \u001b[0maxis\u001b[0m\u001b[0;34m,\u001b[0m \u001b[0mlevel\u001b[0m\u001b[0;34m=\u001b[0m\u001b[0mlevel\u001b[0m\u001b[0;34m,\u001b[0m \u001b[0merrors\u001b[0m\u001b[0;34m=\u001b[0m\u001b[0merrors\u001b[0m\u001b[0;34m)\u001b[0m\u001b[0;34m\u001b[0m\u001b[0;34m\u001b[0m\u001b[0m\n\u001b[0m\u001b[1;32m   3112\u001b[0m \u001b[0;34m\u001b[0m\u001b[0m\n\u001b[1;32m   3113\u001b[0m         \u001b[0;32mif\u001b[0m \u001b[0minplace\u001b[0m\u001b[0;34m:\u001b[0m\u001b[0;34m\u001b[0m\u001b[0;34m\u001b[0m\u001b[0m\n",
      "\u001b[0;32m~/anaconda3/envs/GEM_py36/lib/python3.6/site-packages/pandas/core/generic.py\u001b[0m in \u001b[0;36m_drop_axis\u001b[0;34m(self, labels, axis, level, errors)\u001b[0m\n\u001b[1;32m   3141\u001b[0m                 \u001b[0mnew_axis\u001b[0m \u001b[0;34m=\u001b[0m \u001b[0maxis\u001b[0m\u001b[0;34m.\u001b[0m\u001b[0mdrop\u001b[0m\u001b[0;34m(\u001b[0m\u001b[0mlabels\u001b[0m\u001b[0;34m,\u001b[0m \u001b[0mlevel\u001b[0m\u001b[0;34m=\u001b[0m\u001b[0mlevel\u001b[0m\u001b[0;34m,\u001b[0m \u001b[0merrors\u001b[0m\u001b[0;34m=\u001b[0m\u001b[0merrors\u001b[0m\u001b[0;34m)\u001b[0m\u001b[0;34m\u001b[0m\u001b[0;34m\u001b[0m\u001b[0m\n\u001b[1;32m   3142\u001b[0m             \u001b[0;32melse\u001b[0m\u001b[0;34m:\u001b[0m\u001b[0;34m\u001b[0m\u001b[0;34m\u001b[0m\u001b[0m\n\u001b[0;32m-> 3143\u001b[0;31m                 \u001b[0mnew_axis\u001b[0m \u001b[0;34m=\u001b[0m \u001b[0maxis\u001b[0m\u001b[0;34m.\u001b[0m\u001b[0mdrop\u001b[0m\u001b[0;34m(\u001b[0m\u001b[0mlabels\u001b[0m\u001b[0;34m,\u001b[0m \u001b[0merrors\u001b[0m\u001b[0;34m=\u001b[0m\u001b[0merrors\u001b[0m\u001b[0;34m)\u001b[0m\u001b[0;34m\u001b[0m\u001b[0;34m\u001b[0m\u001b[0m\n\u001b[0m\u001b[1;32m   3144\u001b[0m             \u001b[0mresult\u001b[0m \u001b[0;34m=\u001b[0m \u001b[0mself\u001b[0m\u001b[0;34m.\u001b[0m\u001b[0mreindex\u001b[0m\u001b[0;34m(\u001b[0m\u001b[0;34m**\u001b[0m\u001b[0;34m{\u001b[0m\u001b[0maxis_name\u001b[0m\u001b[0;34m:\u001b[0m \u001b[0mnew_axis\u001b[0m\u001b[0;34m}\u001b[0m\u001b[0;34m)\u001b[0m\u001b[0;34m\u001b[0m\u001b[0;34m\u001b[0m\u001b[0m\n\u001b[1;32m   3145\u001b[0m \u001b[0;34m\u001b[0m\u001b[0m\n",
      "\u001b[0;32m~/anaconda3/envs/GEM_py36/lib/python3.6/site-packages/pandas/core/indexes/base.py\u001b[0m in \u001b[0;36mdrop\u001b[0;34m(self, labels, errors)\u001b[0m\n\u001b[1;32m   4402\u001b[0m             \u001b[0;32mif\u001b[0m \u001b[0merrors\u001b[0m \u001b[0;34m!=\u001b[0m \u001b[0;34m'ignore'\u001b[0m\u001b[0;34m:\u001b[0m\u001b[0;34m\u001b[0m\u001b[0;34m\u001b[0m\u001b[0m\n\u001b[1;32m   4403\u001b[0m                 raise KeyError(\n\u001b[0;32m-> 4404\u001b[0;31m                     '{} not found in axis'.format(labels[mask]))\n\u001b[0m\u001b[1;32m   4405\u001b[0m             \u001b[0mindexer\u001b[0m \u001b[0;34m=\u001b[0m \u001b[0mindexer\u001b[0m\u001b[0;34m[\u001b[0m\u001b[0;34m~\u001b[0m\u001b[0mmask\u001b[0m\u001b[0;34m]\u001b[0m\u001b[0;34m\u001b[0m\u001b[0;34m\u001b[0m\u001b[0m\n\u001b[1;32m   4406\u001b[0m         \u001b[0;32mreturn\u001b[0m \u001b[0mself\u001b[0m\u001b[0;34m.\u001b[0m\u001b[0mdelete\u001b[0m\u001b[0;34m(\u001b[0m\u001b[0mindexer\u001b[0m\u001b[0;34m)\u001b[0m\u001b[0;34m\u001b[0m\u001b[0;34m\u001b[0m\u001b[0m\n",
      "\u001b[0;31mKeyError\u001b[0m: \"['Unnamed: 2'] not found in axis\""
     ]
    }
   ],
   "source": [
    "AM1_reactions_with_subsystems = AM1_reactions_with_subsystems.drop(columns=\"Unnamed: 2\")"
   ]
  },
  {
   "cell_type": "code",
   "execution_count": null,
   "metadata": {
    "ExecuteTime": {
     "end_time": "2020-01-02T00:58:35.994549Z",
     "start_time": "2020-01-02T00:58:23.960Z"
    }
   },
   "outputs": [],
   "source": [
    "AM1_reactions_with_subsystems.to_csv(\"/media/sf_Shared/Temporal_files/AM1_reactions_with_\"+\\\n",
    "                                     \"subsystems.csv\", index = False)"
   ]
  },
  {
   "cell_type": "code",
   "execution_count": 202,
   "metadata": {
    "ExecuteTime": {
     "end_time": "2020-01-02T07:08:35.236648Z",
     "start_time": "2020-01-02T07:08:35.217234Z"
    }
   },
   "outputs": [],
   "source": [
    "import pandas as pd\n",
    "AM1_reactions_with_subsystems = pd.read_csv(\"/media/sf_Shared/Temporal_files/\" + \\\n",
    "                                            \"AM1_reactions_with_subsystems.csv\")"
   ]
  },
  {
   "cell_type": "code",
   "execution_count": 203,
   "metadata": {
    "ExecuteTime": {
     "end_time": "2020-01-02T07:08:36.015560Z",
     "start_time": "2020-01-02T07:08:36.001514Z"
    }
   },
   "outputs": [
    {
     "data": {
      "text/html": [
       "<div>\n",
       "<style scoped>\n",
       "    .dataframe tbody tr th:only-of-type {\n",
       "        vertical-align: middle;\n",
       "    }\n",
       "\n",
       "    .dataframe tbody tr th {\n",
       "        vertical-align: top;\n",
       "    }\n",
       "\n",
       "    .dataframe thead th {\n",
       "        text-align: right;\n",
       "    }\n",
       "</style>\n",
       "<table border=\"1\" class=\"dataframe\">\n",
       "  <thead>\n",
       "    <tr style=\"text-align: right;\">\n",
       "      <th></th>\n",
       "      <th>Name</th>\n",
       "      <th>Subsystem</th>\n",
       "    </tr>\n",
       "  </thead>\n",
       "  <tbody>\n",
       "    <tr>\n",
       "      <th>0</th>\n",
       "      <td>exchange flux : methanol</td>\n",
       "      <td>exchange with environment</td>\n",
       "    </tr>\n",
       "    <tr>\n",
       "      <th>1</th>\n",
       "      <td>exchange flux : oxygen</td>\n",
       "      <td>exchange with environment</td>\n",
       "    </tr>\n",
       "    <tr>\n",
       "      <th>2</th>\n",
       "      <td>exchange flux : nitrogen</td>\n",
       "      <td>exchange with environment</td>\n",
       "    </tr>\n",
       "    <tr>\n",
       "      <th>3</th>\n",
       "      <td>exchange flux : CO2</td>\n",
       "      <td>exchange with environment</td>\n",
       "    </tr>\n",
       "    <tr>\n",
       "      <th>4</th>\n",
       "      <td>exchange flux : formaldehyde</td>\n",
       "      <td>exchange with environment</td>\n",
       "    </tr>\n",
       "  </tbody>\n",
       "</table>\n",
       "</div>"
      ],
      "text/plain": [
       "                           Name                  Subsystem\n",
       "0      exchange flux : methanol  exchange with environment\n",
       "1        exchange flux : oxygen  exchange with environment\n",
       "2      exchange flux : nitrogen  exchange with environment\n",
       "3           exchange flux : CO2  exchange with environment\n",
       "4  exchange flux : formaldehyde  exchange with environment"
      ]
     },
     "execution_count": 203,
     "metadata": {},
     "output_type": "execute_result"
    }
   ],
   "source": [
    "AM1_reactions_with_subsystems[:5]"
   ]
  },
  {
   "cell_type": "code",
   "execution_count": 204,
   "metadata": {
    "ExecuteTime": {
     "end_time": "2020-01-02T07:08:36.476975Z",
     "start_time": "2020-01-02T07:08:36.436568Z"
    }
   },
   "outputs": [],
   "source": [
    "import csv\n",
    "reader = csv.reader(open('/media/sf_Shared/Temporal_files/AM1_reactions_with_subsystems.csv', 'r'))\n",
    "d = {}\n",
    "for row in reader:\n",
    "    k, v = row\n",
    "    d[k] = v"
   ]
  },
  {
   "cell_type": "code",
   "execution_count": 205,
   "metadata": {
    "ExecuteTime": {
     "end_time": "2020-01-02T07:08:37.636121Z",
     "start_time": "2020-01-02T07:08:37.447389Z"
    }
   },
   "outputs": [
    {
     "name": "stdout",
     "output_type": "stream",
     "text": [
      "exchange flux : methanol exchange with environment\n",
      "exchange flux : oxygen exchange with environment\n",
      "exchange flux : nitrogen exchange with environment\n",
      "exchange flux : CO2 exchange with environment\n",
      "exchange flux : formaldehyde exchange with environment\n",
      "exchange flux : phosphate exchange with environment\n",
      "exchange flux : succinate exchange with environment\n",
      "exchange flux : fumarate exchange with environment\n",
      "exchange flux : citrate exchange with environment\n",
      "exchange flux : glycolate exchange with environment\n",
      "exchange flux : formate exchange with environment\n",
      "exchange flux : oxalate exchange with environment\n",
      "exchange flux : acetate exchange with environment\n",
      "exchange flux : D-gluconate exchange with environment\n",
      "exchange flux : putrescine exchange with environment\n",
      "exchange flux : 2-oxoglutarate exchange with environment\n",
      "exchange flux : SO42- exchange with environment\n",
      "exchange flux : Na+ exchange with environment\n",
      "exchange flux : thiosulfate exchange with environment\n",
      "exchange flux : nitrate exchange with environment\n",
      "exchange flux : L-glutamate exchange with environment\n",
      "exchange flux : L-aspartate exchange with environment\n",
      "exchange flux : H2O exchange with environment\n",
      "exchange flux : ethanolamine exchange with environment\n",
      "exchange flux : (S)-malate exchange with environment\n",
      "exchange flux : pyruvate exchange with environment\n",
      "exchange flux : D-glucose exchange with environment\n",
      "exchange flux : D-ribose exchange with environment\n",
      "exchange flux : 5-dehydro-D-gluconate exchange with environment\n",
      "exchange flux : Co2+ exchange with environment\n",
      "Biomass flux : L-rhamnose biomass and maintenance equation\n",
      "Biomass flux : N-acetyl-D-glucosamine biomass and maintenance equation\n",
      "exchange flux : proton exchange with environment\n",
      "exchange flux : H2O2 exchange with environment\n",
      "exchange flux : Fe2+ exchange with environment\n",
      "exchange flux : molybdate exchange with environment\n",
      "exchange flux : potassium exchange with environment\n",
      "exchange flux : magnesium exchange with environment\n",
      "exchange flux : calcium exchange with environment\n",
      "exchange flux : copper exchange with environment\n",
      "exchange flux : manganese exchange with environment\n",
      "exchange flux : zinc exchange with environment\n",
      "exchange flux : chloride exchange with environment\n",
      "exchange flux : light exchange with environment\n",
      "exchange flux : D-arabinose exchange with environment\n",
      "exchange flux : L-arabinose exchange with environment\n",
      "exchange flux : D-arabinonate exchange with environment\n",
      "exchange flux : L-arabinonate exchange with environment\n",
      "exchange flux : L-lyxose exchange with environment\n",
      "exchange flux : D-xylose exchange with environment\n",
      "exchange flux : D-xylonate exchange with environment\n",
      "exchange flux : L-lyxonate exchange with environment\n",
      "exchange flux : D-ribonate exchange with environment\n",
      "exchange flux : 2-deoxy-D-ribonate exchange with environment\n",
      "exchange flux : acetoacetate exchange with environment\n",
      "exchange flux : propanoate exchange with environment\n",
      "exchange flux : 3-O-b-D-galactopyranosyl-D-arabinose exchange with environment\n",
      "exchange flux : 3-O-b-D-galactopyranosyl-D-arabinonate exchange with environment\n",
      "exchange flux : decanoate exchange with environment\n",
      "exchange flux : 2-deoxy-D-ribose exchange with environment\n",
      "exchange flux : methylamine exchange with environment\n",
      "exchange flux : ethylamine exchange with environment\n",
      "exchange flux : ethanol exchange with environment\n",
      "exchange flux : L-tartrate exchange with environment\n",
      "exchange flux : glycerone exchange with environment\n",
      "exchange flux : (S)-lactate exchange with environment\n",
      "exchange flux : 1,2-propanediol exchange with environment\n",
      "methanol dehydrogenase methanol oxidation to formaldehyde\n",
      "H4F-dependent formaldehyde activating tetrahydrofolate-independ pathway\n",
      "H4MPT-dependent formaldehyde activating tetrahydromethanopterin-depend pathway\n",
      "methylenetetrahydromethanopterin dehydrogenase 1 tetrahydromethanopterin-depend pathway\n",
      "methylenetetrahydromethanopterin dehydrogenase 2 tetrahydromethanopterin-depend pathway\n",
      "methenyltetrahydrometanopterin cyclohydrolase tetrahydromethanopterin-depend pathway\n",
      "formylmethanofuran:H4MPT formyltransferase tetrahydromethanopterin-depend pathway\n",
      "formyl-MFS hydrolysis tetrahydromethanopterin-depend pathway\n",
      "formate dehydrogenase formate oxidation to CO2\n",
      "formate-tetrahydrofolate ligase tetrahydrofolate-depend pathway\n",
      "methenyltetrahydrofolate cyclohydrolase tetrahydrofolate-depend pathway\n",
      "methylenetetrahydrofolate dehydrogenase tetrahydrofolate-depend pathway\n",
      "serine hydroxymethyltransferase serine cycle\n",
      "L-serine-glyoxylate aminotransferase serine cycle\n",
      "hydroxypyruvate reductase serine cycle\n",
      "glycerate kinase serine cycle\n",
      "phosphoenolpyruvate carboxylase serine cycle\n",
      "malate dehydrogenase serine cycle\n",
      "malyl-CoA synthetase serine cycle\n",
      "malyl-CoA lyase serine cycle\n",
      "acetyl-CoA C-acetyltransferase Ethylmalonyl-CoA pathway\n",
      "acetoacetyl-CoA reductase 1 Ethylmalonyl-CoA pathway\n",
      "poly(3-hydroxyalkanoate) depolymerase PHB degradation\n",
      "poly(3-hydroxyalkanoate) polymerase PHB biosynthesis\n",
      "D-beta-hydroxybutyrate dehydrogenase PHB degradation\n",
      "succinyl-CoA:3-oxo-acid CoA-transferase PHB degradation\n",
      "3-hydroxybutyryl-CoA dehydratase fatty acid b-oxidation\n",
      "crotonyl-CoA reductase/carboxylase Ethylmalonyl-CoA pathway\n",
      "crotonyl-CoA reductase Ethylmalonyl-CoA pathway\n",
      "butyryl-CoA carboxylase Ethylmalonyl-CoA pathway\n",
      "ethylmalonyl-CoA mutase Ethylmalonyl-CoA pathway\n",
      "mesaconyl-CoA hydratase Ethylmalonyl-CoA pathway\n",
      "methylsuccinyl-CoA dehydrogenase Ethylmalonyl-CoA pathway\n",
      "b-methylmalyl-CoA lyase Ethylmalonyl-CoA pathway\n",
      "propionyl-CoA carboxylase 1 Ethylmalonyl-CoA pathway\n",
      "methylmalonyl-CoA epimerase Ethylmalonyl-CoA pathway\n",
      "methylmalonyl-CoA mutase Ethylmalonyl-CoA pathway\n",
      "citrate synthase TCA cycle\n",
      "aconitate hydratase TCA cycle\n",
      "isocitrate dehydrogenase TCA cycle\n",
      "2-oxoglutarate dehydrogenase TCA cycle\n",
      "succinyl-CoA hydrolase TCA cycle\n",
      "succinate dehydrogenase TCA cycle\n",
      "fumarate hydratase TCA cycle\n",
      "malate dehydrogenase (decarboxylating) pyruvate metabolism\n",
      "pyruvate dehydrogenase pyruvate metabolism\n",
      "oxaloacetate decarboxylase pyruvate metabolism\n",
      "phosphoenolpyruvate carboxykinase gluconeogenesis\n",
      "phosphoglycerate kinase gluconeogenesis\n",
      "glyceraldehyde-3-phosphate dehydrogenase gluconeogenesis\n",
      "triosephosphate isomerase gluconeogenesis\n",
      "fructose-bisphosphate aldolase gluconeogenesis\n",
      "phosphoglucose isomerase gluconeogenesis\n",
      "glucose-6-phosphate 1-dehydrogenase pentose phosphate pathway\n",
      "6-phosphogluconate dehydrogenase pentose phosphate pathway\n",
      "D-ribulose-5-phosphate 3-epimerase pentose phosphate pathway\n",
      "ribose-5-phosphate isomerase pentose phosphate pathway\n",
      "D-xylulose 5-phosphate phosphoketolase pentose phosphate pathway\n",
      "D-fructose 6-phosphate phosphoketolase pentose phosphate pathway\n",
      "phosphoribosylpyrophosphate synthetase pentose phosphate pathway\n",
      "1-deoxy-D-xylulose-5-phosphate synthase carotenoids biosynthesis\n",
      "2-deoxyribose-5-phosphate aldolase deoxyribonucleosides degradation\n",
      "6-phosphogluconate dehydratase entner-Doudoroff pathway\n",
      "2-keto-3-deoxygluconate 6-phosphate aldolase entner-Doudoroff pathway\n",
      "2-keto-4-hydroxyglutarate aldolase glyoxylate and dicarboxylate metabolism\n",
      "bisphosphoglycerate mutase gluconeogenesis\n",
      "cob(I)alamin adenosyltransferase adenosylcobalamin salvage pathway\n",
      "glyoxylate reductase glyoxylate and dicarboxylate metabolism\n",
      "succinyl-CoA synthetase TCA cycle\n",
      "malate dehydrogenase, FAD/NAD(P)-binding domain TCA cycle\n",
      "pyruvate phosphate dikinase pyruvate metabolism\n",
      "formate dehydrogenase (cytochrome-linked) periplasmic formate oxidation to CO2\n",
      "(R)-3-hydroxybutyryl-CoA dehydratase Ethylmalonyl-CoA pathway\n",
      "ethylmalonyl-CoA epimerase Ethylmalonyl-CoA pathway\n",
      "pyruvate kinase pyruvate metabolism\n",
      "acetyl-CoA synthetase acetate metabolism\n",
      "S-lactoylglutathione hydrolase methylglyoxal degradation\n",
      "pyruvate dehydrogenase/oxidase pyruvate metabolism\n",
      "phosphate acetyltransferase 1 acetate metabolism\n",
      "acetate kinase acetate metabolism\n",
      "propionate kinase propanoate metabolism\n",
      "lactaldehyde dehydrogenase L-lactaldehyde degradation\n",
      "glycolaldehyde dehydrogenase glyoxylate and dicarboxylate metabolism\n",
      "lactoylglutathione lyase methylglyoxal degradation\n",
      "phosphopentomutase 2 deoxyribonucleosides degradation\n",
      "amino acid transferase (leucine) valine, leucine, isoleucine biosynthesis\n",
      "amino acid transferase (valine) valine, leucine, isoleucine biosynthesis\n",
      "amino acid transferase (isoleucine) valine, leucine, isoleucine biosynthesis\n",
      "valine tRNA synthetase valine, leucine, isoleucine biosynthesis\n",
      "leucine tRNA synthetase valine, leucine, isoleucine biosynthesis\n",
      "isoleucine tRNA synthetase valine, leucine, isoleucine biosynthesis\n",
      "2-isopropylmalate synthase valine, leucine, isoleucine biosynthesis\n",
      "3-isopropylmalate dehydrogenase valine, leucine, isoleucine biosynthesis\n",
      "2-isopropyl-3-oxosuccinate decarboxylase valine, leucine, isoleucine biosynthesis\n",
      "2,3-dihydroxy-isovalerate dehydratase valine, leucine, isoleucine biosynthesis\n",
      "2,3-dihydroxy-3-methylvalerate dehydratase valine, leucine, isoleucine biosynthesis\n",
      "acetolactate synthase valine, leucine, isoleucine biosynthesis\n",
      "2-aceto-2-hydroxy-butyrate synthase valine, leucine, isoleucine biosynthesis\n",
      "2-acetolactate reductoisomerase valine, leucine, isoleucine biosynthesis\n",
      "2-aceto-2-hydroxy-butyrate reductoisomerase valine, leucine, isoleucine biosynthesis\n",
      "3-isopropylmalate isomerase valine, leucine, isoleucine biosynthesis\n",
      "2-isopropylmalate isomerase valine, leucine, isoleucine biosynthesis\n",
      "beta phosphoglucomutase sugar metabolism\n",
      "glucose-1-phosphate uridylyltransferase sugar nucleotide biosynthesis\n",
      "UDP-glucose 4-epimerase sugar nucleotide biosynthesis\n",
      "GDP-L-fucose synthase sugar nucleotide biosynthesis\n",
      "mannose-1-phosphate guanylyltransferase sugar nucleotide biosynthesis\n",
      "mannose-6-phosphate isomerase sugar nucleotide biosynthesis\n",
      "GDP-mannose 3,5-epimerase 1 sugar nucleotide biosynthesis\n",
      "GDP-mannose 3,5-epimerase 2 sugar nucleotide biosynthesis\n",
      "GDP-mannose 3,5-epimerase 3 sugar nucleotide biosynthesis\n",
      "GDP-mannose 4,6-dehydratase sugar nucleotide biosynthesis\n",
      "gluconate 2-dehydrogenase (periplasmic) sugar oxidation\n",
      "galactose mutarotase sugar metabolism\n",
      "aldose sugar dehydrogenase sugar oxidation\n",
      "L-fuculose-1-phosphate aldolase sugar degradation\n",
      "trehalose-6-phosphate synthase starch and sucrose metabolism\n",
      "trehalose-6-phosphate phosphatase starch and sucrose metabolism\n",
      "maltose alpha-D-glucosyltransferase starch and sucrose metabolism\n",
      "maltooligosyltrehalose trehalohydrolase starch and sucrose metabolism\n",
      "cellulose synthase starch and sucrose metabolism\n",
      "glycogen synthase starch and sucrose metabolism\n",
      "1,4-alpha-glucan branching enzyme starch and sucrose metabolism\n",
      "glycogen phosphorylase starch and sucrose metabolism\n",
      "alpha-D-glucose-1-phosphate cytidylyltransferase sugar nucleotide biosynthesis\n",
      "cdp-glucose 4,6-dehydratase sugar nucleotide biosynthesis\n",
      "CDP-4-dehydro-6-deoxy-D-gulose 4-reductase sugar nucleotide biosynthesis\n",
      "dTDP-4-dehydrorhamnose 3,5-epimerase starch and sucrose metabolism\n",
      "dTDP-glucose 4,6-dehydratase starch and sucrose metabolism\n",
      "dTDP-4-dehydrorhamnose reductase starch and sucrose metabolism\n",
      "glucose-1-phosphate thymidylyltransferase starch and sucrose metabolism\n",
      "shikimate 5-dehydrogenase phenylalanine, tyrosine, tryptophan biosynthesis\n",
      "prephenate dehydratase phenylalanine, tyrosine, tryptophan biosynthesis\n",
      "malonyl-CoA decarboxylase malonate degradation\n",
      "acetyl-CoA carboxylase fatty acid biosynthesis\n",
      "propionyl-CoA synthetase propanoate metabolism\n",
      "malonate decarboxylase malonate degradation\n",
      "phosphate acetyltransferase 2 propanoate metabolism\n",
      "2-dehydro-3-deoxyphosphoheptonate aldolase phenylalanine, tyrosine, tryptophan biosynthesis\n",
      "5-enolpyruvylshikimate-3-phosphate synthetase phenylalanine, tyrosine, tryptophan biosynthesis\n",
      "anthranilate phosphoribosyltransferase phenylalanine, tyrosine, tryptophan biosynthesis\n",
      "phosphoribosylanthranilate isomerase phenylalanine, tyrosine, tryptophan biosynthesis\n",
      "anthranilate synthase phenylalanine, tyrosine, tryptophan biosynthesis\n",
      "tryptophan synthase phenylalanine, tyrosine, tryptophan biosynthesis\n",
      "tryptophan synthase A phenylalanine, tyrosine, tryptophan biosynthesis\n",
      "tryptophan synthase B phenylalanine, tyrosine, tryptophan biosynthesis\n",
      "chorismate mutase phenylalanine, tyrosine, tryptophan biosynthesis\n",
      "aminodeoxychorismate synthase phenylalanine, tyrosine, tryptophan biosynthesis\n",
      "tyrosine tRNA synthetase phenylalanine, tyrosine, tryptophan biosynthesis\n",
      "phenylalanine tRNA synthetase phenylalanine, tyrosine, tryptophan biosynthesis\n",
      "chorismate synthase phenylalanine, tyrosine, tryptophan biosynthesis\n",
      "3-dehydroquinate dehydratase phenylalanine, tyrosine, tryptophan biosynthesis\n",
      "indole-3-glycerol phosphate synthase phenylalanine, tyrosine, tryptophan biosynthesis\n",
      "cyclohexadienyl dehydrogenase phenylalanine, tyrosine, tryptophan biosynthesis\n",
      "histidinol-phosphate aminotransferase histidine biosynthesis\n",
      "shikimate kinase phenylalanine, tyrosine, tryptophan biosynthesis\n",
      "3-dehydroquinate synthase phenylalanine, tyrosine, tryptophan biosynthesis\n",
      "UDP-glucuronate 5'-epimerase sugar nucleotide biosynthesis\n",
      "homoserine O-succinyltransferase methionine biosynthesis\n",
      "5'-methylthioadenosine phosphorylase methionine salvage pathway\n",
      "spermidine synthase polyamine biosynthesis\n",
      "S-adenosylhomocysteine hydrolase methionine biosynthesis\n",
      "O-acetylhomoserine sulfhydrylase methionine biosynthesis\n",
      "cystathionine gamma-synthase methionine biosynthesis\n",
      "cystathionine beta-lyase methionine biosynthesis\n",
      "methionyl-tRNA synthetase methionine biosynthesis\n",
      "methionine adenosyltransferase methionine biosynthesis\n",
      "homoserine O-acetyltransferase methionine biosynthesis\n",
      "homocysteine transmethylase methionine biosynthesis\n",
      "5,10-methylenetetrahydrofolate reductase methionine biosynthesis\n",
      "10-formyltetrahydrofolate:L-methionyl-tRNA(fMet) N-formyltransferase methionine biosynthesis\n",
      "2,3,4,5-tetrahydropyridine-2-carboxylate N-succinyltransferase lysine biosynthesis\n",
      "N-succinyl-L-diaminopimelate desuccinylase lysine biosynthesis\n",
      "diaminopimelate decarboxylase lysine biosynthesis\n",
      "diaminopimelate epimerase lysine biosynthesis\n",
      "dihydrodipicolinate synthase lysine biosynthesis\n",
      "lysyl tRNA synthetase lysine biosynthesis\n",
      "dihydrodipicolinate reductase lysine biosynthesis\n",
      "acetylornithine aminotransferase arginine and proline metabolism\n",
      "succinylornithine transaminase arginine and proline degradation\n",
      "histidinal dehydrogenase histidine biosynthesis\n",
      "histidinol dehydrogenase histidine biosynthesis\n",
      "imidazoleglycerol-phosphate dehydratase histidine biosynthesis\n",
      "histidyl-tRNA synthetase histidine biosynthesis\n",
      "imidazole glycerol phosphate synthase histidine biosynthesis\n",
      "phosphoribosyl-ATP pyrophosphatase histidine biosynthesis\n",
      "phosphoribosyl-AMP cyclohydrolase histidine biosynthesis\n",
      "N-(5'-phospho-L-ribosyl-formimino)-5-amino-1-(5'-phosphoribosyl)-4-imidazolecarboxamide isomerase histidine biosynthesis\n",
      "ATP phosphoribosyltransferase histidine biosynthesis\n",
      "oxalyl-CoA decarboxylase oxalate metabolism\n",
      "formyl-CoA transferase oxalate metabolism\n",
      "hydroxypyruvate isomerase tartronate-semialdehyde metabolism\n",
      "glyoxylate dehydrogenase oxalate metabolism\n",
      "phosphoglycolate phosphatase glyoxylate and dicarboxylate metabolism\n",
      "2-hydroxy-3-oxopropionate reductase (NAD) tartronate-semialdehyde metabolism\n",
      "2-hydroxy-3-oxopropionate reductase (NADP) tartronate-semialdehyde metabolism\n",
      "formamide amidohydrolase histidine degradation\n",
      "5-aminolevulinate synthase tetrapyrrole biosynthesis II\n",
      "porphobilinogen synthase tetrapyrrole biosynthesis II\n",
      "porphobilinogen deaminase tetrapyrrole biosynthesis II\n",
      "uroporphyrinogen III synthase tetrapyrrole biosynthesis II\n",
      "sarcosine oxidase sarcosine degradation\n",
      "aspartate-semialdehyde dehydrogenase L-threonine biosynthesis\n",
      "glycine amidinotransferase creatinine biosynthesis\n",
      "glycine decarboxylase glycine, serine metabolism\n",
      "H-protein-lipoamide dehydrogenase glycine, serine metabolism\n",
      "threonine synthase L-threonine biosynthesis\n",
      "phosphoserine phosphatase (D) glycine, serine metabolism\n",
      "L-threonine aldolase glycine, serine, threonine degradation\n",
      "L-allo-threonine aldolase unassigned\n",
      "phenylserine aldolase unassigned\n",
      "threonine deaminase valine, leucine, isoleucine biosynthesis\n",
      "L-serine deaminase glycine, serine, threonine degradation\n",
      "homoserine dehydrogenase L-threonine biosynthesis\n",
      "threonine tRNA synthetase L-threonine biosynthesis\n",
      "serine tRNA synthetase glycine, serine metabolism\n",
      "homoserine kinase L-threonine biosynthesis\n",
      "glycine tRNA synthetase glycine, serine metabolism\n",
      "D-3-phosphoglycerate dehydrogenase glycine, serine metabolism\n",
      "phosphoserine aminotransferase glycine, serine metabolism\n",
      "phosphoserine phosphatase glycine, serine metabolism\n",
      "phosphohydroxythreonine aminotransferase pyridoxal-5'-phosphate biosynthesis\n",
      "a-ketoglutarate reductase unassigned\n",
      "glycerol-3-phosphate dehydrogenase glycerophospholipid metabolism\n",
      "ethanolamine ammonia-lyase ethanolamine utilization\n",
      "CDP-diacylglycerol synthetase (n-16:0) glycerophospholipid metabolism\n",
      "CDP-diacylglycerol synthetase (n-16:1) glycerophospholipid metabolism\n",
      "CDP-diacylglycerol synthetase (n-18:0) glycerophospholipid metabolism\n",
      "CDP-diacylglycerol synthetase (n-18:1) glycerophospholipid metabolism\n",
      "phosphatidylethanolamine-N-methyltransferase (n-16:0) glycerophospholipid metabolism\n",
      "phosphatidylethanolamine-N-methyltransferase (n-16:1) glycerophospholipid metabolism\n",
      "phosphatidylethanolamine-N-methyltransferase (n-18:0) glycerophospholipid metabolism\n",
      "phosphatidylethanolamine-N-methyltransferase (n-18:1) glycerophospholipid metabolism\n",
      "phosphatidylserine decarboxylase (n-16:0) glycerophospholipid metabolism\n",
      "phosphatidylserine decarboxylase (n-16:1) glycerophospholipid metabolism\n",
      "phosphatidylserine decarboxylase (n-18:0) glycerophospholipid metabolism\n",
      "phosphatidylserine decarboxylase (n-18:1) glycerophospholipid metabolism\n",
      "phosphatidylserine synthase (n-16:0) glycerophospholipid metabolism\n",
      "phosphatidylserine synthase (n-16:1) glycerophospholipid metabolism\n",
      "phosphatidylserine synthase (n-18:0) glycerophospholipid metabolism\n",
      "phosphatidylserine synthase (n-18:1) glycerophospholipid metabolism\n",
      "phosphatidylglycerophosphate synthetase (n-16:0) glycerophospholipid metabolism\n",
      "phosphatidylglycerophosphate synthetase (n-16:1) glycerophospholipid metabolism\n",
      "phosphatidylglycerophosphate synthetase (n-18:0) glycerophospholipid metabolism\n",
      "phosphatidylglycerophosphate synthetase (n-18:1) glycerophospholipid metabolism\n",
      "sn-Glycero-3-phosphocholine glycerophosphohydrolase glycerophospholipid degradation\n",
      "sn-Glycero-3-phosphoethanolamine glycerophosphohydrolase glycerophospholipid degradation\n",
      "lysophospholipase C1 (n-16:0) glycerophospholipid degradation\n",
      "lysophospholipase C2 (n-16:0) glycerophospholipid degradation\n",
      "lysophospholipase C1 (n-16:1) glycerophospholipid degradation\n",
      "lysophospholipase C2 (n-16:1) glycerophospholipid degradation\n",
      "lysophospholipase C1 (n-18:0) glycerophospholipid degradation\n",
      "lysophospholipase C2 (n-18:0) glycerophospholipid degradation\n",
      "lysophospholipase C1 (n-18:1) glycerophospholipid degradation\n",
      "lysophospholipase C2 (n-18:1) glycerophospholipid degradation\n",
      "lysophospholipase E1 (n-16:0) glycerophospholipid degradation\n",
      "lysophospholipase E2 (n-16:0) glycerophospholipid degradation\n",
      "lysophospholipase E1 (n-16:1) glycerophospholipid degradation\n",
      "lysophospholipase E2 (n-16:1) glycerophospholipid degradation\n",
      "lysophospholipase E1 (n-18:0) glycerophospholipid degradation\n",
      "lysophospholipase E2 (n-18:0) glycerophospholipid degradation\n",
      "lysophospholipase E1 (n-18:1) glycerophospholipid degradation\n",
      "lysophospholipase E2 (n-18:1) glycerophospholipid degradation\n",
      "2-acylglycerophosphoethanolamine acyltransferase (n-16:0) glycerophospholipid metabolism\n",
      "2-acylglycerophosphoethanolamine acyltransferase (n-16:1) glycerophospholipid metabolism\n",
      "2-acylglycerophosphoethanolamine acyltransferase (n-18:0) glycerophospholipid metabolism\n",
      "2-acylglycerophosphoethanolamine acyltransferase (n-18:1) glycerophospholipid metabolism\n",
      "acyl-acyl carrier protein synthetase (n-16:0) glycerophospholipid metabolism\n",
      "acyl-acyl carrier protein synthetase (n-16:1) glycerophospholipid metabolism\n",
      "acyl-acyl carrier protein synthetase (n-18:0) glycerophospholipid metabolism\n",
      "acyl-acyl carrier protein synthetase (n-18:1) glycerophospholipid metabolism\n",
      "diacylglycerol kinase (n-16:0) glycerophospholipid metabolism\n",
      "diacylglycerol kinase (n-16:1) glycerophospholipid metabolism\n",
      "diacylglycerol kinase (n-18:0) glycerophospholipid metabolism\n",
      "diacylglycerol kinase (n-18:1) glycerophospholipid metabolism\n",
      "dihydroxyacetone kinase dihydroxyacetone degradation\n",
      "glycerol kinase glycerol degradation\n",
      "lysophosphatidic acid acyltransferase (n-16:0) glycerophospholipid metabolism\n",
      "lysophosphatidic acid acyltransferase (n-16:1) glycerophospholipid metabolism\n",
      "lysophosphatidic acid acyltransferase (n-18:0) glycerophospholipid metabolism\n",
      "lysophosphatidic acid acyltransferase (n-18:1) glycerophospholipid metabolism\n",
      "malonyl-CoA-[acyl-carrier-protein] transacylase fatty acid biosynthesis\n",
      "acetyl-CoA:ACP transacylase fatty acid biosynthesis\n",
      "3-oxoacyl-[acyl-carrier-protein] synthase (n-4:0) fatty acid biosynthesis\n",
      "3-oxoacyl-[acyl-carrier-protein] synthase (n-6:0) fatty acid biosynthesis\n",
      "3-oxoacyl-[acyl-carrier-protein] synthase (n-8:0) fatty acid biosynthesis\n",
      "3-oxoacyl-[acyl-carrier-protein] synthase (n-10:0) fatty acid biosynthesis\n",
      "3-oxoacyl-[acyl-carrier-protein] synthase (n-12:0) fatty acid biosynthesis\n",
      "3-oxoacyl-[acyl-carrier-protein] synthase (n-14:0) fatty acid biosynthesis\n",
      "3-oxoacyl-[acyl-carrier-protein] synthase (n-16:0) fatty acid biosynthesis\n",
      "3-oxoacyl-[acyl-carrier-protein] synthase (n-18:0) fatty acid biosynthesis\n",
      "3-oxoacyl-[acyl-carrier-protein] synthase (n-12:1) fatty acid biosynthesis\n",
      "3-oxoacyl-[acyl-carrier-protein] synthase (n-14:1) fatty acid biosynthesis\n",
      "3-oxoacyl-[acyl-carrier-protein] synthase (n-16:1) fatty acid biosynthesis\n",
      "3-oxoacyl-[acyl-carrier-protein] synthase (n-18:1) fatty acid biosynthesis\n",
      "3-oxoacyl-[acyl-carrier-protein] reductase (n-4:0) fatty acid biosynthesis\n",
      "3-oxoacyl-[acyl-carrier-protein] reductase (n-6:0) fatty acid biosynthesis\n",
      "3-oxoacyl-[acyl-carrier-protein] reductase (n-8:0) fatty acid biosynthesis\n",
      "3-oxoacyl-[acyl-carrier-protein] reductase (n-10:0) fatty acid biosynthesis\n",
      "3-oxoacyl-[acyl-carrier-protein] reductase (n-12:0) fatty acid biosynthesis\n",
      "3-oxoacyl-[acyl-carrier-protein] reductase (n-14:0) fatty acid biosynthesis\n",
      "3-oxoacyl-[acyl-carrier-protein] reductase (n-16:0) fatty acid biosynthesis\n",
      "3-oxoacyl-[acyl-carrier-protein] reductase (n-18:0) fatty acid biosynthesis\n",
      "3-oxoacyl-[acyl-carrier-protein] reductase (n-12:1) fatty acid biosynthesis\n",
      "3-oxoacyl-[acyl-carrier-protein] reductase (n-14:1) fatty acid biosynthesis\n",
      "3-oxoacyl-[acyl-carrier-protein] reductase (n-16:1) fatty acid biosynthesis\n",
      "3-oxoacyl-[acyl-carrier-protein] reductase (n-18:1) fatty acid biosynthesis\n",
      "B-hydroxydecanoyl thioester dehydrase fatty acid biosynthesis\n",
      "trans-2-decenoyl-ACP isomerase fatty acid biosynthesis\n",
      "3-hydroxyacyl-[acyl-carrier-protein] dehydratase (n-4:0) fatty acid biosynthesis\n",
      "3-hydroxyacyl-[acyl-carrier-protein] dehydratase (n-6:0) fatty acid biosynthesis\n",
      "3-hydroxyacyl-[acyl-carrier-protein] dehydratase (n-8:0) fatty acid biosynthesis\n",
      "3-hydroxyacyl-[acyl-carrier-protein] dehydratase (n-12:0) fatty acid biosynthesis\n",
      "3-hydroxyacyl-[acyl-carrier-protein] dehydratase (n-14:0) fatty acid biosynthesis\n",
      "3-hydroxyacyl-[acyl-carrier-protein] dehydratase (n-16:0) fatty acid biosynthesis\n",
      "3-hydroxyacyl-[acyl-carrier-protein] dehydratase (n-18:0) fatty acid biosynthesis\n",
      "3-hydroxyacyl-[acyl-carrier-protein] dehydratase (n-12:1) fatty acid biosynthesis\n",
      "3-hydroxyacyl-[acyl-carrier-protein] dehydratase (n-14:1) fatty acid biosynthesis\n",
      "3-hydroxyacyl-[acyl-carrier-protein] dehydratase (n-16:1) fatty acid biosynthesis\n",
      "3-hydroxyacyl-[acyl-carrier-protein] dehydratase (n-18:1) fatty acid biosynthesis\n",
      "enoyl-[acyl-carrier-protein] reductase (n-4:0) fatty acid biosynthesis\n",
      "enoyl-[acyl-carrier-protein] reductase (n-6:0) fatty acid biosynthesis\n",
      "enoyl-[acyl-carrier-protein] reductase (n-8:0) fatty acid biosynthesis\n",
      "enoyl-[acyl-carrier-protein] reductase (n-10:0) fatty acid biosynthesis\n",
      "enoyl-[acyl-carrier-protein] reductase (n-12:0) fatty acid biosynthesis\n",
      "enoyl-[acyl-carrier-protein] reductase (n-14:0) fatty acid biosynthesis\n",
      "enoyl-[acyl-carrier-protein] reductase (n-16:0) fatty acid biosynthesis\n",
      "enoyl-[acyl-carrier-protein] reductase (n-18:0) fatty acid biosynthesis\n",
      "enoyl-[acyl-carrier-protein] reductase (n-12:1) fatty acid biosynthesis\n",
      "enoyl-[acyl-carrier-protein] reductase (n-14:1) fatty acid biosynthesis\n",
      "enoyl-[acyl-carrier-protein] reductase (n-16:1) fatty acid biosynthesis\n",
      "enoyl-[acyl-carrier-protein] reductase (n-18:1) fatty acid biosynthesis\n",
      "L-glutamine:D-fructose-6-phosphate aminotransferase aminosugar metabolism\n",
      "glutamate racemase glutamate metabolism\n",
      "aspartate aminotransferase aspartate metabolism\n",
      "GMP synthetase purine biosynthesis\n",
      "GMP synthetase (ammonia dependent) purine biosynthesis\n",
      "glutamyl-tRNA synthetase glutamate metabolism\n",
      "glutamine synthetase glutamate metabolism\n",
      "gamma-glutamylcysteine synthetase glutathione metabolism\n",
      "glutathione synthetase glutathione metabolism\n",
      "glutamine-dependent NAD(+) synthetase NAD biosynthesis\n",
      "amidophosphoribosyltransferase (PRPP amidotransferase) purine biosynthesis\n",
      "glutamate synthase 1 glutamate metabolism\n",
      "glutamate synthase 2 glutamate metabolism\n",
      "carbamoyl phosphate synthetase pyrimidine biosynthesis\n",
      "cysteine synthase cysteine metabolism\n",
      "serine acetyltransferase cysteine metabolism\n",
      "D-cysteine desulfhydrase cysteine degradation\n",
      "cysteine tRNA synthetase cysteine metabolism\n",
      "3-mercaptopyruvate sulfurtransferase cysteine degradation\n",
      "pyrroline-5-carboxylate reductase arginine and proline metabolism\n",
      "proline dehydrogenase arginine and proline degradation\n",
      "1-pyrroline-5-carboxylate dehydrogenase arginine and proline degradation\n",
      "ornithine cyclodeaminase arginine and proline degradation\n",
      "ornithine carbamoyltransferase arginine and proline metabolism\n",
      "proline-tRNA ligase arginine and proline metabolism\n",
      "arginyl-tRNA synthetase arginine and proline metabolism\n",
      "UDP-N-acetylenolpyruvoylglucosamine reductase aminosugar metabolism\n",
      "N-acetylglucosamine-6-phosphate deacetylase aminosugar degradation\n",
      "UDP-N-acetylglucosamine 1-carboxyvinyltransferase aminosugar metabolism\n",
      "beta N-acetyl-glucosaminidase murein tripeptide recycling\n",
      "N-acetylglucosamine-1-phosphate uridyltransferase aminosugar metabolism\n",
      "glucosamine-1-phosphate acetyltransferase aminosugar metabolism\n",
      "phosphoglucosamine mutase aminosugar metabolism\n",
      "aspartate ammonia-lyase aspartate/asparagine degradation\n",
      "L-aspartate oxidase NAD biosynthesis\n",
      "quinolinate synthetase NAD biosynthesis\n",
      "quinolinate phosphoribosyltransferase NAD biosynthesis\n",
      "alanine racemase alanine metabolism\n",
      "adenylosuccinate synthetase purine biosynthesis\n",
      "aspartate carbamoyltransferase pyrimidine biosynthesis\n",
      "argininosuccinate synthase arginine and proline metabolism\n",
      "aspartate tRNA synthetase aspartate metabolism\n",
      "asparagine synthase aspartate metabolism\n",
      "alanyl-tRNA synthetase alanine metabolism\n",
      "argininosuccinate lyase arginine and proline metabolism\n",
      "adenylosuccinate lyase purine biosynthesis\n",
      "5'-phosphoribosyl-4-(N-succinocarboxamide)-5-aminoimidazole lyase purine biosynthesis\n",
      "succinate-semialdehyde dehydrogenase 4-hydroxyphenylacetate degradation\n",
      "guanine phosphoribosyltransferase purine biosynthesis\n",
      "hypoxanthine phosphoribosyltransferase purine biosynthesis\n",
      "ATP synthase oxidative phosphorilation\n",
      "cytochrome c oxidase oxidative phosphorilation\n",
      "cytochrome o ubiquinol oxidase oxidative phosphorilation\n",
      "ubiquinol-cytochrome c reductase oxidative phosphorilation\n",
      "NADH:ubiquinone oxidoreductase I oxidative phosphorilation\n",
      "NAD(P) transhydrogenase oxidative phosphorilation\n",
      "phosphoribosylglycinamide synthetase purine biosynthesis\n",
      "phosphoribosylglycinamide formyltransferase purine biosynthesis\n",
      "phosphoribosylformylglycinamide synthetase purine biosynthesis\n",
      "phosphoribosylaminoimidazole synthetase purine biosynthesis\n",
      "phosphoribosylaminoimidazole carboxylase purine biosynthesis\n",
      "phosphoribosylaminoimidazole-succinocarboxamide synthetase purine biosynthesis\n",
      "phosphoribosylaminoimidazolecarboxamide formyltransferase purine biosynthesis\n",
      "inosine monophosphate cyclohydrolase purine biosynthesis\n",
      "IMP dehydrogenase purine biosynthesis\n",
      "guanylate kinase purine biosynthesis\n",
      "deoxyguanylate kinase purine biosynthesis\n",
      "UDP kinase pyrimidine biosynthesis\n",
      "CDP kinase pyrimidine biosynthesis\n",
      "dUDP kinase pyrimidine biosynthesis\n",
      "dCDP kinase pyrimidine biosynthesis\n",
      "dTDP kinase pyrimidine biosynthesis\n",
      "dADP kinase purine biosynthesis\n",
      "dGDP kinase purine biosynthesis\n",
      "GDP kinase purine biosynthesis\n",
      "CTP synthetase pyrimidine biosynthesis\n",
      "UDP reductase pyrimidine biosynthesis\n",
      "CDP reductase pyrimidine biosynthesis\n",
      "ADP reductase purine biosynthesis\n",
      "GDP reductase purine biosynthesis\n",
      "thioredoxin reductase purine biosynthesis\n",
      "adenylate kinase purine biosynthesis\n",
      "dihydroorotate dehydrogenase pyrimidine biosynthesis\n",
      "orotate phosphoribosyltransferase pyrimidine biosynthesis\n",
      "orotidine 5'-phosphate decarboxylase pyrimidine biosynthesis\n",
      "cytidylate kinase pyrimidine biosynthesis\n",
      "uridylate kinase pyrimidine biosynthesis\n",
      "dCTP deaminase pyrimidine biosynthesis\n",
      "thymidylate synthetase pyrimidine biosynthesis\n",
      "dihydrofolate reductase folate biosynthesis\n",
      "deoxyuridine 5'-triphosphate nucleotidohydrolase pyrimidine biosynthesis\n",
      "nucleoside triphosphate pyrophosphohydrolase (ATP) salvage pathways of purine and pyrimidine nucleotides\n",
      "nucleoside triphosphate pyrophosphohydrolase (GTP) salvage pathways of purine and pyrimidine nucleotides\n",
      "nucleoside triphosphate pyrophosphohydrolase (CTP) salvage pathways of purine and pyrimidine nucleotides\n",
      "nucleoside triphosphate pyrophosphohydrolase (UTP) salvage pathways of purine and pyrimidine nucleotides\n",
      "5'-nucleotidase (GMP) salvage pathways of purine and pyrimidine nucleotides\n",
      "5'-nucleotidase (AMP) salvage pathways of purine and pyrimidine nucleotides\n",
      "5'-nucleotidase (IMP) salvage pathways of purine and pyrimidine nucleotides\n",
      "5'-nucleotidase (XMP) salvage pathways of purine and pyrimidine nucleotides\n",
      "GTP cyclohydrolase I folate biosynthesis\n",
      "dihydroneopterin triphosphate pyrophosphohydrolase folate biosynthesis\n",
      "dihydroneopterin aldolase folate biosynthesis\n",
      "dihydroneopterin monophosphate dephosphorylase folate biosynthesis\n",
      "2-amino-4-hydroxy-6-hydroxymethyldihydropteridine pyrophosphokinase folate biosynthesis\n",
      "dihydropteroate synthase folate biosynthesis\n",
      "folylpolyglutamate synthase 1 folate biosynthesis\n",
      "dihydrofolate synthetase 1 folate biosynthesis\n",
      "folylpolyglutamate synthase 2 folate biosynthesis\n",
      "folylpolyglutamate synthase 3 folate biosynthesis\n",
      "dihydromethanopterin reductase folate biosynthesis\n",
      "1-deoxy-D-xylulose 5-phosphate reductoisomerase carotenoids biosynthesis\n",
      "4-diphosphocytidyl-2C- methyl-D-erythritol synthase carotenoids biosynthesis\n",
      "2C-methyl-D-erythritol 2,4-cyclodiphosphate synthase carotenoids biosynthesis\n",
      "4-diphosphocytidyl-2-C-methyl-D-erythritol kinase carotenoids biosynthesis\n",
      "1-hydroxy-2-methyl-2-(E)-butenyl-4-diphosphate synthase carotenoids biosynthesis\n",
      "1-hydroxy-2-methyl-2-(E)-butenyl-4-diphosphate reductase 1 carotenoids biosynthesis\n",
      "1-hydroxy-2-methyl-2-(E)-butenyl-4-diphosphate reductase 2 carotenoids biosynthesis\n",
      "geranyl diphosphate synthase carotenoids biosynthesis\n",
      "farnesyl-diphosphate synthase carotenoids biosynthesis\n",
      "geranylgeranyl pyrophosphate synthase carotenoids biosynthesis\n",
      "phytoene synthase 1 carotenoids biosynthesis\n",
      "phytoene synthase 2 carotenoids biosynthesis\n",
      "phytoene dehydrogenase 1 carotenoids biosynthesis\n",
      "phytoene dehydrogenase 2 carotenoids biosynthesis\n",
      "zeta-carotene desaturase 1 carotenoids biosynthesis\n",
      "zeta-carotene desaturase 2 carotenoids biosynthesis\n",
      "prephenate dehydrogenase phenylalanine, tyrosine, tryptophan biosynthesis\n",
      "aromatic-amino-acid transaminase (PHE) phenylalanine, tyrosine, tryptophan biosynthesis\n",
      "aromatic-amino-acid transaminase (TYR) phenylalanine, tyrosine, tryptophan biosynthesis\n",
      "D-alanine aminotransferase alanine metabolism\n",
      "acyl phosphate synthase (n-16:0) glycerophospholipid metabolism\n",
      "acyl phosphate synthase (n-16:1) glycerophospholipid metabolism\n",
      "acyl phosphate synthase (n-18:0) glycerophospholipid metabolism\n",
      "acyl phosphate synthase (n-18:1) glycerophospholipid metabolism\n",
      "glycerol-3-phosphate synthetase (n-16:0) glycerophospholipid metabolism\n",
      "glycerol-3-phosphate synthetase (n-16:1) glycerophospholipid metabolism\n",
      "glycerol-3-phosphate synthetase (n-18:0) glycerophospholipid metabolism\n",
      "glycerol-3-phosphate synthetase (n-18:1) glycerophospholipid metabolism\n",
      "thymidylate kinase pyrimidine biosynthesis\n",
      "adenylate kinase 2 purine biosynthesis\n",
      "glutamyl-tRNA amidotransferase glutamate metabolism\n",
      "nondiscriminating glutamyl-tRNA synthetase glutamate metabolism\n",
      "nondiscriminating aspartate tRNA synthetase aspartate metabolism\n",
      "aspartyl-tRNA amidotransferase aspartate metabolism\n",
      "gamma-glutamyl kinase arginine and proline metabolism\n",
      "glutamate-5-semialdehyde dehydrogenase arginine and proline metabolism\n",
      "L-glutamate-gamma-semialdehyde (cyclase dehydratase) arginine and proline metabolism\n",
      "N-acetylglutamate synthase arginine and proline metabolism\n",
      "acetylglutamate kinase arginine and proline metabolism\n",
      "N-acetylglutamylphosphate reductase arginine and proline metabolism\n",
      "acetylornithine deacetylase arginine and proline metabolism\n",
      "glutamate N-acetyltransferase arginine and proline metabolism\n",
      "tryptophanyl tRNA synthetase phenylalanine, tyrosine, tryptophan biosynthesis\n",
      "phosphoglucose isomerase 2 starch and sucrose metabolism\n",
      "glucokinase 2 starch and sucrose metabolism\n",
      "2'-(5''-triphosphoribosyl)-3'-dephosphocoenzyme-A synthase 2'-(5'-phosphoribosyl)-3'-dephospho-CoA biosynthesis\n",
      "phosphoribosyl-dephospho-CoA transferase 2'-(5'-phosphoribosyl)-3'-dephospho-CoA biosynthesis\n",
      "Isoquinoline 1-oxidoreductase unassigned\n",
      "polysulphide reductase sulfur metabolism\n",
      "potassium-transporting ATPase transport\n",
      "myo-inositol-1-phosphate synthase inositol metabolism\n",
      "pyridoxamine 5'-phosphate oxidase pyridoxal-5'-phosphate biosynthesis\n",
      "pyridoxine 5'-phosphate oxidase pyridoxal-5'-phosphate biosynthesis\n",
      "3-deoxy-D-manno-octulosonate cytidylyltransferase CMP-KDO biosynthesis\n",
      "3-deoxy-8-phosphooctulonate synthase CMP-KDO biosynthesis\n",
      "3-deoxy-D-manno-octulosonate-8-phosphate phosphatase CMP-KDO biosynthesis\n",
      "D-arabinose-5-phosphate isomerase CMP-KDO biosynthesis\n",
      "salicylate hydroxylase unassigned\n",
      "adenine phosphoribosyltransferase salvage pathways of purine and pyrimidine nucleotides\n",
      "inositol monophosphatase inositol metabolism\n",
      "thiamine phosphate synthase thiamine biosynthesis\n",
      "thiazole synthase 1 thiamine biosynthesis\n",
      "glycine oxidase 1 glycine, serine, threonine degradation\n",
      "glycine oxidase 2 alanine degradation\n",
      "glycine oxidase 3 sarcosine degradation\n",
      "glycine oxidase 4 glycine, serine, threonine degradation\n",
      "coproporphyrinogen III oxidase heme biosynthesis\n",
      "AMP nucleosidase salvage pathways of purine and pyrimidine nucleotides\n",
      "ceramide glucosyltransferase unassigned\n",
      "7,8-diaminopelargonic acid synthetase biotin biosynthesis\n",
      "7-keto-8-aminopelargonic acid synthetase biotin biosynthesis\n",
      "biotin biosynthesis hypothetical reaction biotin biosynthesis\n",
      "cobalamin synthase adenosylcobalamin biosynthesis pathway\n",
      "cobalamin-5'-phosphate synthase adenosylcobalamin biosynthesis pathway\n",
      "nicotinate-nucleotide--dimethylbenzimidazole phosphoribosyltransferase adenosylcobalamin biosynthesis pathway\n",
      "3-demethylubiquinone-8 3-O-methyltransferase ubiquinone-8 biosynthesis\n",
      "2-octaprenyl-6-hydroxyphenol methylase ubiquinone-8 biosynthesis\n",
      "nitric oxide dioxygenase unassigned\n",
      "dihydropteridine reductase dihydrobiopterin recycling\n",
      "ornithine decarboxylase putrescine biosynthesis\n",
      "molybdopterin guanine dinucleotide synthase molybdenum cofactor biosynthesis\n",
      "precorrin-6Y C(5,15)-methyltransferase adenosylcobalamin biosynthesis pathway\n",
      "precorrin-4 C(11)-methyltransferase adenosylcobalamin biosynthesis pathway\n",
      "cobyrinic acid a,c-diamide synthase adenosylcobalamin biosynthesis pathway\n",
      "hydrogenobyrinate a,c-diamide synthase adenosylcobalamin biosynthesis pathway\n",
      "isonitrile hydratase unassigned\n",
      "6-pyruvoyl tetrahydrobiopterin synthase tetrahydrobioprein biosynthesis\n",
      "quinoprotein ethanol dehydrogenase oxidative ethanol degradation\n",
      "cytochrome d terminal oxidase oxidative phosphorilation\n",
      "2-octaprenylphenol hydroxylase ubiquinone-8 biosynthesis\n",
      "NADPH-dependent FMN reductase oxidative phosphorilation\n",
      "precorrin-3B C(17)-methyltransferase adenosylcobalamin biosynthesis pathway\n",
      "precorrin-2 C(20)-methyltransferase adenosylcobalamin biosynthesis pathway\n",
      "precorrin-8X methylmutase adenosylcobalamin biosynthesis pathway\n",
      "precorrin-3B synthase adenosylcobalamin biosynthesis pathway\n",
      "cobinamide phosphate guanylyltransferase adenosylcobalamin biosynthesis pathway\n",
      "cobinamide kinase adenosylcobalamin salvage pathway\n",
      "cobalamin adenosyltransferase adenosylcobalamin salvage pathway\n",
      "dephospho-CoA kinase coenzyme A biosynthesis\n",
      "uroporphyrinogen decarboxylase heme biosynthesis\n",
      "molybdopterin synthase sulfurylase molybdenum cofactor biosynthesis\n",
      "ETF dehydrogenase oxidative phosphorilation\n",
      "3-hydroxybutyryl-CoA dehydrogenase Ethylmalonyl-CoA pathway\n",
      "uracil phosphoribosyltransferase salvage pathways of purine and pyrimidine nucleotides\n",
      "glycogen phosphorylase-limit dextrin a-1,6-glucohydrolase starch and sucrose metabolism\n",
      "thiamine biosynthesis protein thiC thiamine biosynthesis\n",
      "guanine deaminase salvage pathways of purine and pyrimidine nucleotides\n",
      "ureidoglycolate amidohydrolase allantoin degradation pathway\n",
      "3-methyl-2-oxobutanoate hydroxymethyltransferase pantothenate biosynthesis\n",
      "dienelactone hydrolase (cis) 4-chlorocatechol degradation\n",
      "dienelactone hydrolase (trans) 4-chlorocatechol degradation\n",
      "4-(b-D-ribofuranosyl)aminobenzene-5'-phosphate synthase folate biosynthesis\n",
      "acyl carrier protein phosphodiesterase acyl carrier protein metabolism\n",
      "homospermidine synthase 1 homospermidine biosynthesis\n",
      "homospermidine synthase 2 homospermidine biosynthesis\n",
      "N-ethylmaleimide reductase unassigned\n",
      "inorganic pyrophosphatase oxidative phosphorilation\n",
      "UDP-3-O-[3-hydroxymyristoyl]glucosamine N-acetyltransferase lipid-A-precursor biosynthesis\n",
      "undecaprenyl diphosphate synthase 1 peptidoglycan biosynthesis\n",
      "undecaprenyl diphosphate synthase 2 peptidoglycan biosynthesis\n",
      "undecaprenyl diphosphate synthase 3 peptidoglycan biosynthesis\n",
      "undecaprenyl diphosphate synthase 4 peptidoglycan biosynthesis\n",
      "undecaprenyl diphosphate synthase 5 peptidoglycan biosynthesis\n",
      "undecaprenyl diphosphate synthase 6 peptidoglycan biosynthesis\n",
      "undecaprenyl diphosphate synthase 7 peptidoglycan biosynthesis\n",
      "undecaprenyl diphosphate synthase 8 peptidoglycan biosynthesis\n",
      "acyl-CoA thioesterase II (n-h6:0) fatty acid b-oxidation\n",
      "acyl-CoA thioesterase II (n-h8:0) fatty acid b-oxidation\n",
      "acyl-CoA thioesterase II (n-h10:0) fatty acid b-oxidation\n",
      "acyl-CoA thioesterase II (n-h12:0) fatty acid b-oxidation\n",
      "acyl-CoA thioesterase II (n-h14:0) fatty acid b-oxidation\n",
      "acyl-CoA thioesterase II (n-h16:0) fatty acid b-oxidation\n",
      "acyl-CoA thioesterase II (n-h18:0) fatty acid b-oxidation\n",
      "acyl-CoA thioesterase II (n-6:0) fatty acid b-oxidation\n",
      "acyl-CoA thioesterase II (n-8:0) fatty acid b-oxidation\n",
      "acyl-CoA thioesterase II (n-10:0) fatty acid b-oxidation\n",
      "acyl-CoA thioesterase II (n-12:0) fatty acid b-oxidation\n",
      "acyl-CoA thioesterase II (n-14:0) fatty acid b-oxidation\n",
      "acyl-CoA thioesterase II (n-16:0) fatty acid b-oxidation\n",
      "acyl-CoA thioesterase II (n-18:0) fatty acid b-oxidation\n",
      "fumarylacetoacetate hydrolase tyrosine degradation\n",
      "2-dehydropantoate 2-reductase pantothenate biosynthesis\n",
      "sulfate adenylyltransferase sulfate reduction I (assimilatory)\n",
      "phosphoadenosine phosphosulfate reductase sulfate reduction I (assimilatory)\n",
      "sulfite reductase-(NADPH) sulfate reduction I (assimilatory)\n",
      "pyridoxine 5'-phosphate synthase pyridoxal-5'-phosphate biosynthesis\n",
      "holo-[acyl-carrier-protein] synthase acyl carrier protein metabolism\n",
      "glutathione reductase superoxide radicals degradation\n",
      "NADPH-ferredoxin oxidoreductase 1 oxidative phosphorilation\n",
      "dethiobiotin synthetase biotin biosynthesis\n",
      "undecaprenyl pyrophosphate phosphatase peptidoglycan biosynthesis\n",
      "peptidoglycan glycosyltransferase peptidoglycan biosynthesis\n",
      "pantothenate kinase coenzyme A biosynthesis\n",
      "methylamine dehydrogenase methylamine oxidation to formaldehyde\n",
      "maleylacetoacetate isomerase tyrosine degradation\n",
      "NADH:ubiquinone oxidoreductase II oxidative phosphorilation\n",
      "pyridoxal kinase pyridoxal-5'-phosphate salvage pathway\n",
      "pyridoxamine kinase pyridoxal-5'-phosphate salvage pathway\n",
      "trans-2,3-dihydro-3-hydroxy-anthranilate isomerase phenazine biosynthesis\n",
      "L-Ala-D/L-Glu epimerase unassigned\n",
      "spermidine acetyltransferase spermidine metabolism\n",
      "methoxyneurosporene dehydrogenase 1 carotenoids biosynthesis\n",
      "methoxyneurosporene dehydrogenase 2 carotenoids biosynthesis\n",
      "methoxyneurosporene dehydrogenase 3 carotenoids biosynthesis\n",
      "hydroxyneurosporene methyltransferase 1 carotenoids biosynthesis\n",
      "hydroxyneurosporene methyltransferase 2 carotenoids biosynthesis\n",
      "hydroxyneurosporene methyltransferase 3 carotenoids biosynthesis\n",
      "hydroxyneurosporene methyltransferase 4 carotenoids biosynthesis\n",
      "hydroxyneurosporene methyltransferase 5 carotenoids biosynthesis\n",
      "hydroxyneurosporene methyltransferase 6 carotenoids biosynthesis\n",
      "2-desacetyl-2-hydroxyethyl bacteriochlorophyllide a dehydrogenase bacteriochlorophyll a biosynthesis\n",
      "chlorophyllide a reductase bacteriochlorophyll a biosynthesis\n",
      "3-hydroxyethylchlorophyllide a reductase bacteriochlorophyll a biosynthesis\n",
      "di-haem cytochrome c peroxidase superoxide radicals degradation\n",
      "L-sorbosone dehydrogenase sugar metabolism\n",
      "xanthine dehydrogenase 1 salvage pathways of purine and pyrimidine nucleotides\n",
      "carbonic anhydrase unassigned\n",
      "molybdenum::molybdopterin ligase molybdenum cofactor biosynthesis\n",
      "nicotinate nucleotide adenylyltransferase NAD biosynthesis\n",
      "acetyl-CoA:acetoacetyl-CoA transferase PHB degradation\n",
      "UDP-N-acetylglucosamine--N-acetylmuramyl-(pentapeptide) pyrophosphoryl-undecaprenol N-acetylglucosamine transferase 1 peptidoglycan biosynthesis\n",
      "UDP-N-acetylglucosamine--N-acetylmuramyl-(pentapeptide) pyrophosphoryl-undecaprenol N-acetylglucosamine transferase 2 peptidoglycan biosynthesis\n",
      "UDP-N-acetylmuramate-alanine ligase peptidoglycan biosynthesis\n",
      "D-alanine-D-alanine ligase B peptidoglycan biosynthesis\n",
      "UDP-3-O-acyl-N-acetylglucosamine deacetylase lipid-A-precursor biosynthesis\n",
      "thymidine phosphorylase salvage pathways of purine and pyrimidine nucleotides\n",
      "uracil phosphorylase salvage pathways of purine and pyrimidine nucleotides\n",
      "xanthosine phosphorylase salvage pathways of purine and pyrimidine nucleotides\n",
      "cytidine deaminase 1 salvage pathways of purine and pyrimidine nucleotides\n",
      "cytidine deaminase 2 salvage pathways of purine and pyrimidine nucleotides\n",
      "tetraacyldisaccharide 4'-kinase lipid-A-precursor biosynthesis\n",
      "3-deoxy-D-manno-octulosonic acid transferase 1 lipopolysaccharide biosynthesis\n",
      "3-deoxy-D-manno-octulosonic acid transferase 2 lipopolysaccharide biosynthesis\n",
      "GTP cyclohydrolase II flavin biosynthesis\n",
      "acylphosphatase (n-16:0) fatty acid degradation\n",
      "acylphosphatase (n-16:1) fatty acid degradation\n",
      "acylphosphatase (n-18:0) fatty acid degradation\n",
      "acylphosphatase (n-18:1) fatty acid degradation\n",
      "magnesium chelatase bacteriochlorophyll a biosynthesis\n",
      "H(+)-translocating pyrophosphatases oxidative phosphorilation\n",
      "octaprenyl diphosphate synthase 1 ubiquinone-8 biosynthesis\n",
      "octaprenyl diphosphate synthase 2 ubiquinone-8 biosynthesis\n",
      "octaprenyl diphosphate synthase 3 ubiquinone-8 biosynthesis\n",
      "octaprenyl diphosphate synthase 4 ubiquinone-8 biosynthesis\n",
      "thiamine monophosphate kinase thiamin biosynthesis\n",
      "6,7-dimethyl-8-ribityllumazine synthase flavin biosynthesis\n",
      "riboflavin synthase flavin biosynthesis\n",
      "diaminohydroxyphosphoribosylaminopyrimidine deaminase flavin biosynthesis\n",
      "5-amino-6-(5-phosphoribosylamino)uracil reductase flavin biosynthesis\n",
      "heme d synthase heme biosynthesis\n",
      "nitrate reductase (periplasmic) oxidative phosphorilation\n",
      "uroporphyrin III C-methyltransferase 2 siroheme biosynthesis\n",
      "uroporphyrin III C-methyltransferase 1 siroheme biosynthesis\n",
      "precorrin-2 dehydrogenase siroheme biosynthesis\n",
      "sirohydrochlorin ferrochelatase siroheme biosynthesis\n",
      "acyl-CoA dehydrogenase (n-4:0) fatty acid b-oxidation\n",
      "acyl-CoA dehydrogenase (n-6:0) fatty acid b-oxidation\n",
      "acyl-CoA dehydrogenase (n-8:0) fatty acid b-oxidation\n",
      "acyl-CoA dehydrogenase (n-10:0) fatty acid b-oxidation\n",
      "acyl-CoA dehydrogenase (n-12:0) fatty acid b-oxidation\n",
      "acyl-CoA dehydrogenase (n-14:0) fatty acid b-oxidation\n",
      "acyl-CoA dehydrogenase (n-16:0) fatty acid b-oxidation\n",
      "acyl-CoA dehydrogenase (n-18:0) fatty acid b-oxidation\n",
      "acyl-CoA dehydrogenase (n-12:1) fatty acid b-oxidation\n",
      "acyl-CoA dehydrogenase (n-14:1) fatty acid b-oxidation\n",
      "acyl-CoA dehydrogenase (n-16:1) fatty acid b-oxidation\n",
      "acyl-CoA dehydrogenase (n-18:1) fatty acid b-oxidation\n",
      "heme O synthase heme biosynthesis\n",
      "N-formylglutamate amidohydrolase histidine degradation\n",
      "haloacid dehalogenase 1,2-dichloroethane degradation\n",
      "superoxide dismutase superoxide radicals degradation\n",
      "sulfite oxidase sulfur metabolism\n",
      "2-hydroxychromene-2-carboxylate isomerase naphthalene degradation\n",
      "precorrin-5 (C1)-methyltransferase adenosylcobalamin biosynthesis pathway\n",
      "fatty acyl-CoA synthetase (n-4:0) fatty acid b-oxidation\n",
      "fatty acyl-CoA synthetase (n-6:0) fatty acid b-oxidation\n",
      "fatty acyl-CoA synthetase (n-8:0) fatty acid b-oxidation\n",
      "fatty acyl-CoA synthetase (n-10:0) fatty acid b-oxidation\n",
      "fatty acyl-CoA synthetase (n-12:0) fatty acid b-oxidation\n",
      "fatty acyl-CoA synthetase (n-14:0) fatty acid b-oxidation\n",
      "fatty acyl-CoA synthetase (n-16:0) fatty acid b-oxidation\n",
      "fatty acyl-CoA synthetase (n-18:0) fatty acid b-oxidation\n",
      "fatty acyl-CoA synthetase (n-12:1) fatty acid b-oxidation\n",
      "fatty acyl-CoA synthetase (n-14:1) fatty acid b-oxidation\n",
      "fatty acyl-CoA synthetase (n-16:1) fatty acid b-oxidation\n",
      "fatty acyl-CoA synthetase (n-18:1) fatty acid b-oxidation\n",
      "adenine deaminase salvage pathways of purine and pyrimidine nucleotides\n",
      "lauroyl acyltransferase lipopolysaccharide biosynthesis\n",
      "alcohol dehydrogenase (isopropanol) acetone degradation\n",
      "alcohol dehydrogenase (acetaldehyde) oxidative ethanol degradation\n",
      "acetoin reductase diacetyl, acetoin, 2,3-butanediol biosynthesis\n",
      "diacetyl reductase diacetyl, acetoin, 2,3-butanediol biosynthesis\n",
      "3,4-dihydroxy-2-butanone-4-phoshate synthase flavin biosynthesis\n",
      "pyrimidine phosphatase flavin biosynthesis\n",
      "2,3-dihydro-3-hydroxy-anthranilate oxidation (spontaneous) phenazine biosynthesis\n",
      "2,3-dihydro-3-oxo-anthranilate condensation (hypothetical) phenazine biosynthesis\n",
      "NH3-dependent NAD(+) synthetase NAD biosynthesis\n",
      "anhydro-N-acetylmuramoyl-L-alanine amidase murein tripeptide recycling\n",
      "4-hydroxybenzoate octaprenyltransferase ubiquinone-8 biosynthesis\n",
      "chorismate lyase ubiquinone-8 biosynthesis\n",
      "3-octaprenyl-4-hydroxybenzoate carboxy-lyase ubiquinone-8 biosynthesis\n",
      "molybderin biosynthesis protein molybdenum cofactor biosynthesis\n",
      "4-hydroxy-L-threonine phosphate dehydrogenase, NAD-dependent pyridoxal-5'-phosphate biosynthesis\n",
      "xanthine dehydrogenase 2 salvage pathways of purine and pyrimidine nucleotides\n",
      "urea carboxylase urea degradation\n",
      "allophanate hydrolase urea degradation\n",
      "putative n-methylproline demethylase stachydrine degradation\n",
      "choline kinase phosphatidylcholine biosynthesis\n",
      "ethanolamine kinase phosphatidylcholine biosynthesis\n",
      "UDP-N-acetylglucosamine 2-epimerase sugar nucleotide biosynthesis\n",
      "nigerose hydrolase sugar degradation\n",
      "2-octaprenyl-6-methoxyphenol hydroxylase ubiquinone-8 biosynthesis\n",
      "phosphopantothenoylcysteine decarboxylase coenzyme A biosynthesis\n",
      "phosphopantothenoylcysteine synthetase coenzyme A biosynthesis\n",
      "(S)-adenosylmethionine:2-DMK methyltransferase menaquinone-8 biosynthesis\n",
      "2-octaprenyl-6-methoxy-1,4-benzoquinone methylase ubiquinone-8 biosynthesis\n",
      "biotin synthase biotin biosynthesis\n",
      "5-carboxymethyl-2-oxo-hex-3-ene-1,7-dioate decarboxylase 4-hydroxyphenylacetate degradation\n",
      "5-carboxymethyl-2-hydroxymuconate isomerase 4-hydroxyphenylacetate degradation\n",
      "rubredoxin NAD+ reductase oxidative phosphorilation\n",
      "pyridine nucleotide-disulphide oxidoreductase oxidative phosphorilation\n",
      "maltose acetyltransferase starch and sucrose metabolism\n",
      "D-lactate dehydrogenase methylglyoxal degradation\n",
      "enoyl-CoA hydratase (n-6:0) fatty acid b-oxidation\n",
      "enoyl-CoA hydratase (n-8:0) fatty acid b-oxidation\n",
      "enoyl-CoA hydratase (n-12:0) fatty acid b-oxidation\n",
      "enoyl-CoA hydratase (n-14:0) fatty acid b-oxidation\n",
      "enoyl-CoA hydratase (n-16:0) fatty acid b-oxidation\n",
      "enoyl-CoA hydratase (n-18:0) fatty acid b-oxidation\n",
      "enoyl-CoA hydratase (n-12:1) fatty acid b-oxidation\n",
      "enoyl-CoA hydratase (n-14:1) fatty acid b-oxidation\n",
      "enoyl-CoA hydratase (n-16:1) fatty acid b-oxidation\n",
      "enoyl-CoA hydratase (n-18:1) fatty acid b-oxidation\n",
      "cardiolipin synthase (n-16:0) cardiolipin biosynthesis\n",
      "cardiolipin synthase (n-16:1) cardiolipin biosynthesis\n",
      "cardiolipin synthase (n-18:0) cardiolipin biosynthesis\n",
      "cardiolipin synthase (n-18:1) cardiolipin biosynthesis\n",
      "hydroxymethylpyrimidine kinase thiamin biosynthesis\n",
      "phosphohydroxymethylpyrimidine kinase thiamin biosynthesis\n",
      "ferredoxin--nitrite reductase nitrate reduction\n",
      "saccharopine dehydrogenase (NADP+, L-glutamate-forming) lysine biosynthesis\n",
      "nicotinate phosphoribosyltransferase NAD salvage pathway\n",
      "pantetheine-phosphate adenylyltransferase coenzyme A biosynthesis\n",
      "UDP-N-acetylmuramoylalanine--D-glutamate ligase peptidoglycan biosynthesis\n",
      "UDP-N-acetylmuramoylalanyl-D-glutamyl-2,6-diaminopimelate-D-alanyl-D-alanine ligase peptidoglycan biosynthesis\n",
      "phospho-N-acetylmuramoyl-pentapeptide-transferase 1 peptidoglycan biosynthesis\n",
      "phospho-N-acetylmuramoyl-pentapeptide-transferase 2 peptidoglycan biosynthesis\n",
      "UDP-N-acetylmuramoylalanyl-D-glutamate 2,6-diaminopimelate ligase peptidoglycan biosynthesis\n",
      "UDP-N-acetylglucosamine acyltransferase lipid-A-precursor biosynthesis\n",
      "lipid-A-disaccharide synthase lipid-A-precursor biosynthesis\n",
      "tartrate dehydrogenase tartrate metabolism\n",
      "tartrate decarboxylase tartrate metabolism\n",
      "D-malate dehydrogenase [decarboxylating] D-malate degradation\n",
      "precorrin-6A reductase adenosylcobalamin biosynthesis pathway\n",
      "adenosyl-cobyric acid synthase adenosylcobalamin biosynthesis pathway\n",
      "adenosylcobinamide-phosphate synthase adenosylcobalamin biosynthesis pathway\n",
      "L-threonine-O-3-phosphate decarboxylase adenosylcobalamin biosynthesis pathway\n",
      "2-nitropropane dioxygenase 2-nitropropane degradation\n",
      "aerobic magnesium-protoporphyrin IX monomethyl ester cyclase 1 bacteriochlorophyll a biosynthesis\n",
      "aerobic magnesium-protoporphyrin IX monomethyl ester cyclase 2 bacteriochlorophyll a biosynthesis\n",
      "magnesium protoporphyrin IX methyltransferase bacteriochlorophyll a biosynthesis\n",
      "protochlorophyllide reductase bacteriochlorophyll a biosynthesis\n",
      "3-vinyl bacteriochlorophyllide a hydratase bacteriochlorophyll a biosynthesis\n",
      "chlorophyllide hydratase bacteriochlorophyll a biosynthesis\n",
      "bacteriochlorophyll a synthase bacteriochlorophyll a biosynthesis\n",
      "geranylgeranyl reductase  1 bacteriochlorophyll a biosynthesis\n",
      "geranylgeranyl reductase  2 bacteriochlorophyll a biosynthesis\n",
      "geranylgeranyl reductase  3 bacteriochlorophyll a biosynthesis\n",
      "arsenate reductase arsenate detoxification\n",
      "phosphonate dehydrogenase unassigned\n",
      "methylglyoxal reductase methylglyoxal degradation\n",
      "b-keto ester reductase unassigned\n",
      "2,5-diketo-D-gluconate reductase A ketogluconate metabolism\n",
      "chromate reductase chromium metabolism\n",
      "neurosporene dehydratase carotenoids biosynthesis\n",
      "hydroxyneurosporene synthase 1 carotenoids biosynthesis\n",
      "hydroxyneurosporene synthase 2 carotenoids biosynthesis\n",
      "hydroxyneurosporene synthase 3 carotenoids biosynthesis\n",
      "aerobic magnesium-protoporphyrin IX monomethyl ester cyclase 3 bacteriochlorophyll a biosynthesis\n",
      "3,8-divinyl protochlorophyllide 8-vinyl reductase bacteriochlorophyll a biosynthesis\n",
      "molybdopterin adenylyltransferase molybdenum cofactor biosynthesis\n",
      "3-hydroxyacyl-CoA epimerase (n-4:0) fatty acid b-oxidation\n",
      "3-hydroxyacyl-CoA epimerase (n-6:0) fatty acid b-oxidation\n",
      "3-hydroxyacyl-CoA epimerase (n-8:0) fatty acid b-oxidation\n",
      "3-hydroxyacyl-CoA epimerase (n-12:0) fatty acid b-oxidation\n",
      "3-hydroxyacyl-CoA epimerase (n-14:0) fatty acid b-oxidation\n",
      "3-hydroxyacyl-CoA epimerase (n-16:0) fatty acid b-oxidation\n",
      "3-hydroxyacyl-CoA epimerase (n-18:0) fatty acid b-oxidation\n",
      "3-hydroxyacyl-CoA epimerase (n-12:1) fatty acid b-oxidation\n",
      "3-hydroxyacyl-CoA epimerase (n-14:1) fatty acid b-oxidation\n",
      "3-hydroxyacyl-CoA epimerase (n-16:1) fatty acid b-oxidation\n",
      "3-hydroxyacyl-CoA epimerase (n-18:1) fatty acid b-oxidation\n",
      "3-hydroxyacyl-CoA dehydrogenase (n-4:0) fatty acid b-oxidation\n",
      "3-hydroxyacyl-CoA dehydrogenase (n-6:0) fatty acid b-oxidation\n",
      "3-hydroxyacyl-CoA dehydrogenase (n-8:0) fatty acid b-oxidation\n",
      "3-hydroxyacyl-CoA dehydrogenase (n-12:0) fatty acid b-oxidation\n",
      "3-hydroxyacyl-CoA dehydrogenase (n-14:0) fatty acid b-oxidation\n",
      "3-hydroxyacyl-CoA dehydrogenase (n-16:0) fatty acid b-oxidation\n",
      "3-hydroxyacyl-CoA dehydrogenase (n-18:0) fatty acid b-oxidation\n",
      "3-hydroxyacyl-CoA dehydrogenase (n-12:1) fatty acid b-oxidation\n",
      "3-hydroxyacyl-CoA dehydrogenase (n-14:1) fatty acid b-oxidation\n",
      "3-hydroxyacyl-CoA dehydrogenase (n-16:1) fatty acid b-oxidation\n",
      "3-hydroxyacyl-CoA dehydrogenase (n-18:1) fatty acid b-oxidation\n",
      "enoyl-CoA isomerase (n-6:0) fatty acid b-oxidation\n",
      "enoyl-CoA isomerase (n-8:0) fatty acid b-oxidation\n",
      "enoyl-CoA isomerase (n-12:0) fatty acid b-oxidation\n",
      "enoyl-CoA isomerase (n-14:0) fatty acid b-oxidation\n",
      "enoyl-CoA isomerase (n-16:0) fatty acid b-oxidation\n",
      "enoyl-CoA isomerase (n-18:0) fatty acid b-oxidation\n",
      "enoyl-CoA isomerase (n-12:1) fatty acid b-oxidation\n",
      "enoyl-CoA isomerase (n-14:1) fatty acid b-oxidation\n",
      "enoyl-CoA isomerase (n-16:1) fatty acid b-oxidation\n",
      "enoyl-CoA isomerase (n-18:1) fatty acid b-oxidation\n",
      "enoyl-CoA isomerase (n-4:0) fatty acid b-oxidation\n",
      "3-ketoacyl-CoA thiolase (n-6:0) fatty acid b-oxidation\n",
      "3-ketoacyl-CoA thiolase (n-8:0) fatty acid b-oxidation\n",
      "3-ketoacyl-CoA thiolase (n-10:0) fatty acid b-oxidation\n",
      "3-ketoacyl-CoA thiolase (n-12:0) fatty acid b-oxidation\n",
      "3-ketoacyl-CoA thiolase (n-14:0) fatty acid b-oxidation\n",
      "3-ketoacyl-CoA thiolase (n-16:0) fatty acid b-oxidation\n",
      "3-ketoacyl-CoA thiolase (n-18:0) fatty acid b-oxidation\n",
      "3-ketoacyl-CoA thiolase (n-12:1) fatty acid b-oxidation\n",
      "3-ketoacyl-CoA thiolase (n-14:1) fatty acid b-oxidation\n",
      "3-ketoacyl-CoA thiolase (n-16:1) fatty acid b-oxidation\n",
      "3-ketoacyl-CoA thiolase (n-18:1) fatty acid b-oxidation\n",
      "enoyl-CoA isomerase (n-10:0) fatty acid b-oxidation\n",
      "3-hydroxyacyl-CoA dehydrogenase (n-10:0) fatty acid b-oxidation\n",
      "3-hydroxyacyl-CoA epimerase (n-10:0) fatty acid b-oxidation\n",
      "enoyl-CoA hydratase (n-10:0) fatty acid b-oxidation\n",
      "2-octaprenyl-3-methyl-6-methoxy-1,4-benzoquinone hydroxylase ubiquinone-8 biosynthesis\n",
      "L-sorbosone to L-sorbosone-2,6-lactone (spontaneously) sugar metabolism\n",
      "pantothenate synthetase pantothenate biosynthesis\n",
      "phosphatidylglycerophosphatase (n-16:0) glycerophospholipid metabolism\n",
      "phosphatidylglycerophosphatase (n-16:1) glycerophospholipid metabolism\n",
      "phosphatidylglycerophosphatase (n-18:0) glycerophospholipid metabolism\n",
      "phosphatidylglycerophosphatase (n-18:1) glycerophospholipid metabolism\n",
      "protoporphyrinogen IX oxidase bacteriochlorophyll a biosynthesis\n",
      "1-amino-propan-2-one-3-phosphate synthesis pyridoxal-5'-phosphate biosynthesis\n",
      "riboflavin kinase flavin biosynthesis\n",
      "FMN adenylyltransferase flavin biosynthesis\n",
      "UDP-2,3-diacylglucosamine hydrolase peptidoglycan biosynthesis\n",
      "cob(I)yrinic acid a,c-diamide adenosyltransferase adenosylcobalamin biosynthesis pathway\n",
      "cob(II)yrinate a,c-diamide reductase adenosylcobalamin biosynthesis pathway\n",
      "a-ribazole-5'-phosphate phosphatase adenosylcobalamin biosynthesis pathway\n",
      "adenosylcobalamine-5'-phosphate phosphatase adenosylcobalamin biosynthesis pathway\n",
      "L-threonine kinase adenosylcobalamin biosynthesis pathway\n",
      "flavin destructase adenosylcobalamin biosynthesis pathway\n",
      "L-asparaginase (periplasm) aspartate/asparagine degradation\n",
      "superoxide dismutase (periplasm) superoxide radicals degradation\n",
      "galactose oxidase (extracellular) sugar oxidation\n",
      "phytoene dehydrogenase 1 (extracellular) carotenoids biosynthesis\n",
      "phytoene dehydrogenase 2 (extracellular) carotenoids biosynthesis\n",
      "zeta-carotene desaturase 1 (extracullular) carotenoids biosynthesis\n",
      "zeta-carotene desaturase 2 (extracellular) carotenoids biosynthesis\n",
      "deoxynucleoside triphosphate pyrophosphohydrolase (dATP) salvage pathways of purine and pyrimidine nucleotides\n",
      "deoxynucleoside triphosphate pyrophosphohydrolase (dTTP) salvage pathways of purine and pyrimidine nucleotides\n",
      "deoxynucleoside triphosphate pyrophosphohydrolase (dGTP) salvage pathways of purine and pyrimidine nucleotides\n",
      "deoxynucleoside triphosphate pyrophosphohydrolase (dCTP) salvage pathways of purine and pyrimidine nucleotides\n",
      "acetyldehyde dehydrogenase oxidative ethanol degradation\n",
      "2-acetolactate decarboxylation diacetyl, acetoin, 2,3-butanediol biosynthesis\n",
      "5-methylthioribose-1-phosphate isomerase methionine salvage pathway\n",
      "S-adenosylmethionine decarboxylase polyamine biosynthesis\n",
      "adenylylsulfate kinase sulfate reduction I (assimilatory)\n",
      "nitrate reductase assimilatory nitrate reduction\n",
      "adenosine-3'(2'),5'-bisphosphate nucleotidase sulfate reduction I (assimilatory)\n",
      "5-keto-D-gluconate 5-reductase (inferred from physiology) ketogluconate metabolism\n",
      "malyl-CoA thioesterase acetate metabolism\n",
      "triphosphate phosphohydrolase (inferred from gap) phosphorous metabolism\n",
      "NADPH oxidoreductase (OYE) NADPH oxidation\n",
      "glutathione peroxidase (periplasmic) superoxide radicals degradation\n",
      "5'-deoxyadenosine phosphorylase unassigned\n",
      "aminodeoxychorismate lyase folate biosynthesis\n",
      "sulfur donor activation sulfur metabolism\n",
      "aspartate 1-decarboxylase coenzyme A biosynthesis\n",
      "molybdopterin-synthase activations molybdenum cofactor biosynthesis\n",
      "erythronate-4-phosphate dehydrogenase pyridoxal-5'-phosphate biosynthesis\n",
      "erythrose 4-phosphate dehydrogenase pyridoxal-5'-phosphate biosynthesis\n",
      "glycine oxidase 5 thiamine biosynthesis\n",
      "thiamin biosynthesis 1 thiamine biosynthesis\n",
      "thiamin biosynthesis 2 thiamine biosynthesis\n",
      "thiamin biosynthesis 3 thiamine biosynthesis\n",
      "thiamin biosynthesis 4 thiamine biosynthesis\n",
      "debranched limit dextrin phosphorylase starch and sucrose metabolism\n",
      "NAD kinase NAD biosynthesis\n",
      "photosystem I photosynthesis light reactions\n",
      "sulfur oxidation enzyme system sulfur metabolism\n",
      "formaldehyde dehydrogenase formaldehyde oxidation to formate\n",
      "aldose sugar dehydrogenase (D-arabinose) sugar oxidation\n",
      "aldose sugar dehydrogenase (L-arabinose) sugar oxidation\n",
      "aldose sugar dehydrogenase (L-lyxose) sugar oxidation\n",
      "aldose sugar dehydrogenase (D-xylose) sugar oxidation\n",
      "aldose sugar dehydrogenase (D-ribose) sugar oxidation\n",
      "aldose sugar dehydrogenase (2-deoxy-D-ribose) sugar oxidation\n",
      "aldose sugar dehydrogenase (3-O-b-D-galactopyranosyl-D-arabinose) sugar oxidation\n",
      "ethylamine dehydrogenase ethylamine oxidation to acetaldehyde\n",
      "amicyanin oxidation methylamine oxidation to formaldehyde\n",
      "photosystem I cyclic photosynthesis light reactions\n",
      "2-amino-2-deoxyisochorismate synthase phenazine biosynthesis\n",
      "2-amino-2-deoxyisochorismate hydrolase phenazine biosynthesis\n",
      "carbamate degradation (spontaneous) cyanate degradation\n",
      "D-lactate dehydrogenase (cytochrome) lactate metabolism\n",
      "S-lactate dehydrogenase lactate metabolism\n",
      "1,2-propanediol dehydrogenase 1,2-propanediol metabolism\n",
      "adenosine phosphorylase salvage pathways of purine and pyrimidine nucleotides\n",
      "methanol transport via diffusion (extracellular to periplasm) transport : one carbon compound\n",
      "formaldehyde transport via diffusion (periplasm to cytoplasm) transport : one carbon compound\n",
      "CO2 transport via diffusion (extracellular to periplasm) transport : one carbon compound\n",
      "CO2 transport via diffusion (periplasm to cytoplasm) transport : one carbon compound\n",
      "O2 transport via diffusion (extracellular to periplasm) transport : gaz\n",
      "O2 transport via diffusion (periplasm to cytoplasm) transport : gaz\n",
      "formaldehyde transport via diffusion (extracellular to periplasm) transport : one carbon compound\n",
      "phosphate transport via diffusion (extracellular to periplasm) transport : ion\n",
      "phosphate ABC transporter transport : ion\n",
      "NH3 transport via diffusion (extracellular to periplasm) transport : ion\n",
      "NH3 transport (periplasm to cytoplasm) transport : ion\n",
      "succinate transport via diffusion (extracellular to periplasm) transport : organic acid\n",
      "succinate symport (periplasm to cytoplasm) transport : organic acid\n",
      "fumarate transport via diffusion (extracellular to periplasm) transport : organic acid\n",
      "fumarate symport (periplasm to cytoplasm) transport : organic acid\n",
      "citrate transport via diffusion (extracellular to periplasm) transport : organic acid\n",
      "citrate symport (periplasm to cytoplasm) transport : organic acid\n",
      "glycolate transport via diffusion (extracellular to periplasm) transport : organic acid\n",
      "glycolate symport (periplasm to cytoplasm) transport : organic acid\n",
      "formate transport via diffusion (extracellular to periplasm) transport : one carbon compound\n",
      "formate symport (periplasm to cytoplasm) transport : one carbon compound\n",
      "oxalate transport via diffusion (extracellular to periplasm) transport : organic acid\n",
      "oxalate/formate antiporter (periplasm to cytoplasm) transport : organic acid\n",
      "acetate transport via diffusion (extracellular to periplasm) transport : organic acid\n",
      "sodium/acetate symporter (periplasm to cytoplasm) transport : organic acid\n",
      "D-gluconate transport via diffusion (extracellular to periplasm) transport : sugar\n",
      "H+/gluconate symporter transport : sugar\n",
      "putrescine transport via diffusion (extracellular to periplasm) transport : polyamine\n",
      "putrescine ABC transporter transport : polyamine\n",
      "a-ketoglutarate transport via diffusion (extracellular to periplasm) transport : organic acid\n",
      "a-ketoglutarate MFS transporter transport : organic acid\n",
      "PiT phosphate transporter transport : ion\n",
      "sulfate transport via diffusion (extracellular to periplasm) transport : ion\n",
      "sodium/sulphate symporter transport : ion\n",
      "sodium transport via diffusion (extracellular to periplasm) transport : ion\n",
      "thiosulfate transport via diffusion (extracellular to periplasm) transport : ion\n",
      "sulfate ABC transporter transport : ion\n",
      "thiosulfate ABC transporter transport : ion\n",
      "sodium-proton antiporter transport : ion\n",
      "nitrate ABC transporter transport : ion\n",
      "nitrate transport via diffusion (extracellular to periplasm) transport : ion\n",
      "glutamate transport via diffusion (extracellular to periplasm) transport : amino acid\n",
      "aspartate transport via diffusion (extracellular to periplasm) transport : amino acid\n",
      "aspartate ABC transporter transport : amino acid\n",
      "glutamate ABC transporter transport : amino acid\n",
      "H2O transport via diffusion (extracellular to periplasm) transport : water\n",
      "H2O transport via aquaporin transport : water\n",
      "ethanolamine transport via diffusion (extracellular to periplasm) transport : ethanolamine\n",
      "ethanolamine transporter (permease) transport : ethanolamine\n",
      "malate transport via diffusion (extracellular to periplasm) transport : organic acid\n",
      "malate symport (periplasm to cytoplasm) transport : organic acid\n",
      "pyruvate transport via diffusion (extracellular to periplasm) transport : organic acid\n",
      "pyruvate symport (periplasm to cytoplasm) transport : organic acid\n",
      "glucose porin B (extracellular to periplasm) transport : sugar\n",
      "D-ribose transport via diffusion (extracellular to periplasm) transport : pentose\n",
      "2-deoxy-D-ribose transport via diffusion (extracellular to periplasm) transport : pentose\n",
      "5-dehydro-D-gluconate transporter (inferred from physiology) transport : sugar\n",
      "5-dehydro-D-gluconate transport via diffusion (extracellular to periplasm) transport : sugar\n",
      "Co2+ transport via diffusion (extracellular to periplasm) transport : ion\n",
      "Cobalt transporter (periplasm to cytoplasm) transport : ion\n",
      "H+ transport via diffusion (extracellular to periplasm) transport : ion\n",
      "H2O2 transport via diffusion (extracellular to periplasm) transport : H2O2\n",
      "H2O2 transport via diffusion (periplasm to cytoplasm) transport : H2O2\n",
      "iron ABC transporter transport : ion\n",
      "iron transport via diffusion (extracellular to periplasm) transport : ion\n",
      "molybdate ABC transporter transport : ion\n",
      "molybdate transport via diffusion (extracellular to periplasm) transport : ion\n",
      "potassium:proton antiporter transport : ion\n",
      "potassium transport via diffusion (extracellular to periplasm) transport : ion\n",
      "magnesium transport via diffusion (extracellular to periplasm) transport : ion\n",
      "magnesium ABC transporter transport : ion\n",
      "calcium transport via diffusion (extracellular to periplasm) transport : ion\n",
      "calcium ABC transporter transport : ion\n",
      "copper transport via diffusion (extracellular to periplasm) transport : ion\n",
      "copper ABC transporter transport : ion\n",
      "copper-exporting ATPase transport : ion\n",
      "manganese transport via diffusion (extracellular to periplasm) transport : ion\n",
      "manganese:proton symport transport : ion\n",
      "iron:proton symport transport : ion\n",
      "cobalt-exporting ATPase transport : ion\n",
      "zinc-exporting ATPase transport : ion\n",
      "cadmium-exporting ATPase transport : ion\n",
      "zinc transport via diffusion (extracellular to periplasm) transport : ion\n",
      "zinc ABC transporter transport : ion\n",
      "chloride transport via diffusion (extracellular to periplasm) transport : ion\n",
      "chloride channel transport : ion\n",
      "sodium/calcium exchanger transport : ion\n",
      "D-arabinose transport via diffusion (extracellular to periplasm) transport : pentose\n",
      "L-arabinose transport via diffusion (extracellular to periplasm) transport : pentose\n",
      "D-arabinonate transport via diffusion (extracellular to periplasm) transport : pentose\n",
      "L-arabinonate transport via diffusion (extracellular to periplasm) transport : pentose\n",
      "L-lyxose transport via diffusion (extracellular to periplasm) transport : pentose\n",
      "D-xylose transport via diffusion (extracellular to periplasm) transport : pentose\n",
      "D-xylonate transport via diffusion (extracellular to periplasm) transport : pentose\n",
      "L-lyxonate transport via diffusion (extracellular to periplasm) transport : pentose\n",
      "D-ribonate transport via diffusion (extracellular to periplasm) transport : pentose\n",
      "2-deoxy-D-ribonate transport via diffusion (extracellular to periplasm) transport : pentose\n",
      "acetoacetate symport (periplasm to cytoplasm) transport : organic acid\n",
      "acetoacetate transport via diffusion (extracellular to periplasm) transport : organic acid\n",
      "propanoate symport (periplasm to cytoplasm) transport : organic acid\n",
      "propanoate transport via diffusion (extracellular to periplasm) transport : organic acid\n",
      "3-O-b-D-galactopyranosyl-D-arabinose transport via diffusion (extracellular to periplasm) transport : polysugar\n",
      "3-O-b-D-galactopyranosyl-D-arabinonate transport via diffusion (extracellular to periplasm) transport : polysugar\n",
      "short-chain fatty acid (decanoate) transporter (periplasm to cytoplasm) transport : fatty acid\n",
      "decanoate transport via diffusion (extracellular to periplasm) transport : fatty acid\n",
      "methylamine transport via diffusion (extracellular to periplasm) transport : one carbon compound\n",
      "ethylamine transport via diffusion (extracellular to periplasm) transport : ethylamine\n",
      "acetaldehyde transport via diffusion (periplasm to cytoplasm) transport : aldehyde\n",
      "ethanol transport via diffusion (extracellular to periplasm) transport : alchool\n",
      "L-tartrate transport via diffusion (extracellular to periplasm) transport : organic acid\n",
      "L-tartrate transporter transport : organic acid\n",
      "glycerone transport via diffusion (extracellular to periplasm) transport : triose\n",
      "glycerone transport via diffusion (periplasm to cytoplasm) transport : triose\n",
      "1,2-propanediol transport via diffusion (extracellular to periplasm) transport : alchool\n",
      "(S)-lactate transport via diffusion (extracellular to periplasm) transport : organic acid\n",
      "(S)-lactate transport (periplasm to cytoplasm) transport : organic acid\n"
     ]
    }
   ],
   "source": [
    "for key in d:\n",
    "    if \" \" in key:\n",
    "        print(key, d[key])"
   ]
  },
  {
   "cell_type": "markdown",
   "metadata": {},
   "source": [
    "## Automatically assign subsystems for AM1 reaction from AM1_reactions_with_subsystems"
   ]
  },
  {
   "cell_type": "code",
   "execution_count": 206,
   "metadata": {
    "ExecuteTime": {
     "end_time": "2020-01-02T07:08:40.648641Z",
     "start_time": "2020-01-02T07:08:40.643781Z"
    }
   },
   "outputs": [],
   "source": [
    "for reaction in model_OB3b.reactions:\n",
    "    try:\n",
    "        reaction.subsystem = d[reaction.name]\n",
    "        #print(reaction.id, reaction.name, d[reaction.name])\n",
    "    except:\n",
    "        pass"
   ]
  },
  {
   "cell_type": "code",
   "execution_count": 207,
   "metadata": {
    "ExecuteTime": {
     "end_time": "2020-01-02T07:08:41.160563Z",
     "start_time": "2020-01-02T07:08:41.151232Z"
    },
    "scrolled": true
   },
   "outputs": [
    {
     "name": "stdout",
     "output_type": "stream",
     "text": [
      "299\n"
     ]
    }
   ],
   "source": [
    "reactions_with_subsystems = []\n",
    "\n",
    "for reaction in model_OB3b.reactions:\n",
    "    if len(reaction.subsystem)>0:\n",
    "        #print(reaction.id, reaction.name, reaction.subsystem)\n",
    "        reactions_with_subsystems.append(reaction)\n",
    "        \n",
    "print(len(reactions_with_subsystems))"
   ]
  },
  {
   "cell_type": "code",
   "execution_count": 208,
   "metadata": {
    "ExecuteTime": {
     "end_time": "2020-01-02T07:08:42.082356Z",
     "start_time": "2020-01-02T07:08:42.058193Z"
    }
   },
   "outputs": [
    {
     "name": "stdout",
     "output_type": "stream",
     "text": [
      "697\n"
     ]
    }
   ],
   "source": [
    "reactions_without_subsystems = []\n",
    "\n",
    "for reaction in model_OB3b.reactions:\n",
    "    if reaction not in reactions_with_subsystems:\n",
    "        reactions_without_subsystems.append(reaction)\n",
    "        #print(reaction)\n",
    "        \n",
    "print(len(reactions_without_subsystems))"
   ]
  },
  {
   "cell_type": "code",
   "execution_count": 209,
   "metadata": {
    "ExecuteTime": {
     "end_time": "2020-01-02T07:08:43.134449Z",
     "start_time": "2020-01-02T07:08:43.022992Z"
    }
   },
   "outputs": [
    {
     "name": "stdout",
     "output_type": "stream",
     "text": [
      "EAOXRED pyridine nucleotide disulphide oxidoreductase\n",
      "HACD8i 3 hydroxyacyl CoA dehydrogenase  n 18 0 \n",
      "OCPPH3 2 octaprenylphenol hydroxylase\n",
      "PGSA161 phosphatidylglycerophosphate synthetase  n 16 1 \n",
      "PGSA160 phosphatidylglycerophosphate synthetase  n 16 0 \n",
      "PPAtex propanoate transport via diffusion  extracellular to periplasm \n",
      "DXPRIi 1 deoxy D xylulose 5 phosphate reductoisomerase\n",
      "PC11M precorrin 4 C 11  methyltransferase\n",
      "UAMAS UDP N acetylmuramate alanine ligase\n",
      "EX_DM_trnathr exchange flux   tRNA Thr \n",
      "2AGPEAT161acp 2 acylglycerophosphoethanolamine acyltransferase  n 16 1 \n",
      "EAR60y enoyl  acyl carrier protein  reductase  n 6 0 \n",
      "CDPMEK 4 diphosphocytidyl 2 C methyl D erythritol kinase\n",
      "PGSA181 phosphatidylglycerophosphate synthetase  n 18 1 \n",
      "PItex phosphate transport via diffusion  extracellular to periplasm \n",
      "MALtex malate transport via diffusion  extracellular to periplasm \n",
      "SUCCOAH succinyl CoA hydrolase\n",
      "2AGPEAT180acp 2 acylglycerophosphoethanolamine acyltransferase  n 18 0 \n",
      "PGSA180 phosphatidylglycerophosphate synthetase  n 18 0 \n",
      "CITtex citrate transport via diffusion  extracellular to periplasm \n",
      "PHYNDH_e phytoene dehydrogenase 1  extracellular \n",
      "GLYCL_3 H protein aminomethyltransferase\n",
      "EX_ac_e exchange flux   acetate\n",
      "EX_etma_e exchange flux   ethylamine\n",
      "PRE3BS precorrin 3B synthase\n",
      "HACD1 3 hydroxyacyl CoA dehydrogenase  n 4 0 \n",
      "HACD2 3 hydroxyacyl CoA dehydrogenase  n 6 0 \n",
      "HACD5 3 hydroxyacyl CoA dehydrogenase  n 12 0 \n",
      "HACD6 3 hydroxyacyl CoA dehydrogenase  n 14 0 \n",
      "HACD3 3 hydroxyacyl CoA dehydrogenase  n 8 0 \n",
      "MTRI2 5 methylthioribose 1 phosphate isomerase\n",
      "HACD4 3 hydroxyacyl CoA dehydrogenase  n 10 0 \n",
      "ARGTRS arginyl tRNA synthetase\n",
      "AACPS3 acyl acyl carrier protein synthetase  n 16 0 \n",
      "AACPS4 acyl acyl carrier protein synthetase  n 16 1 \n",
      "SHK3Dr shikimate 5 dehydrogenase\n",
      "AACPS5 acyl acyl carrier protein synthetase  n 18 1 \n",
      "AACPS6 acyl acyl carrier protein synthetase  n 18 0 \n",
      "IGPS indole 3 glycerol phosphate synthase\n",
      "EX_h2o_e exchange flux   H2O\n",
      "HACD7 3 hydroxyacyl CoA dehydrogenase  n 16 0 \n",
      "SHCHD2 precorrin 2 dehydrogenase\n",
      "RIBONAtex D ribonate transport via diffusion  extracellular to periplasm \n",
      "PC6YM precorrin 6Y C 5 15  methyltransferase\n",
      "EX_pyr_e exchange flux   pyruvate\n",
      "GFUCS GDP L fucose synthase\n",
      "GMPS GMP synthetase  ammonia dependent \n",
      "ACACt2pp acetoacetate symport  periplasm to cytoplasm \n",
      "PYRtex pyruvate transport via diffusion  extracellular to periplasm \n",
      "GLUTRS glutamyl tRNA synthetase\n",
      "ATPM ATP maintenance requirement\n",
      "FE2tex iron transport via diffusion  extracellular to periplasm \n",
      "MOBDMPTL molybdenum  molybdopterin ligase\n",
      "HACYLCOAEPI100 3 hydroxyacyl CoA epimerase  n 10 0 \n",
      "DB4PS 3 4 dihydroxy 2 butanone 4 phoshate synthase\n",
      "GLUPRT amidophosphoribosyltransferase  PRPP amidotransferase \n",
      "PTPAT pantetheine phosphate adenylyltransferase\n",
      "DDPA 2 dehydro 3 deoxyphosphoheptonate aldolase\n",
      "ASPtex aspartate transport via diffusion  extracellular to periplasm \n",
      "FBA fructose bisphosphate aldolase\n",
      "RIBtex D ribose transport via diffusion  extracellular to periplasm \n",
      "AKGDH 2 oxoglutarate dehydrogenase\n",
      "LYXtex L lyxose transport via diffusion  extracellular to periplasm \n",
      "EAR181y enoyl  acyl carrier protein  reductase  n 18 1 \n",
      "2KDRIBtex 2 deoxy D ribose transport via diffusion  extracellular to periplasm \n",
      "ALATRS alanyl tRNA synthetase\n",
      "PC17M precorrin 3B C 17  methyltransferase\n",
      "HSERTA homoserine O acetyltransferase\n",
      "LPLIPAL2C161 lysophospholipase C2  n 16 1 \n",
      "CCR crotonyl CoA reductase\n",
      "P5CR pyrroline 5 carboxylate reductase\n",
      "EX_5dglcn_e exchange flux   5 dehydro D gluconate\n",
      "ACACT7r 3 ketoacyl CoA thiolase  n 16 0 \n",
      "ACACT5r 3 ketoacyl CoA thiolase  n 12 0 \n",
      "P5CD 1 pyrroline 5 carboxylate dehydrogenase\n",
      "PYAM5POr pyridoxamine 5  phosphate oxidase\n",
      "EAR141y enoyl  acyl carrier protein  reductase  n 14 1 \n",
      "UDPGLCUREPI UDP glucuronate 5  epimerase\n",
      "PC8XM precorrin 8X methylmutase\n",
      "ACACT6r 3 ketoacyl CoA thiolase  n 14 0 \n",
      "FBP fructose 1 6 bisphosphatase\n",
      "EX_for_e exchange flux   formate\n",
      "KAT8 3 ketoacyl CoA thiolase  n 18 0 \n",
      "DHAtpp glycerone transport via diffusion  periplasm to cytoplasm \n",
      "EAR140y enoyl  acyl carrier protein  reductase  n 14 0 \n",
      "ADCPS2 adenosylcobinamide phosphate synthase\n",
      "LPLIPAL2C181 lysophospholipase C2  n 18 1 \n",
      "EAR80y enoyl  acyl carrier protein  reductase  n 8 0 \n",
      "LPLIPAL2C180 lysophospholipase C2  n 18 0 \n",
      "EX_h_e exchange flux   proton\n",
      "EAR160y enoyl  acyl carrier protein  reductase  n 16 0 \n",
      "PEMT181 phosphatidylethanolamine N methyltransferase  n 18 1 \n",
      "PEMT180 phosphatidylethanolamine N methyltransferase  n 18 0 \n",
      "APRAUR 5 amino 6  5 phosphoribosylamino uracil reductase\n",
      "CA2tex calcium transport via diffusion  extracellular to periplasm \n",
      "ACACT4r 3 ketoacyl CoA thiolase  n 10 0 \n",
      "NADS1 NH3 dependent NAD    synthetase\n",
      "HACYLCOAEPI140 3 hydroxyacyl CoA epimerase  n 14 0 \n",
      "NADS2 glutamine dependent NAD    synthetase\n",
      "HPPK2 2 amino 4 hydroxy 6 hydroxymethyldihydropteridine pyrophosphokinase\n",
      "COBALT2tpp Cobalt transporter  periplasm to cytoplasm \n",
      "ENCOAI81 enoyl CoA isomerase  n 8 0 \n",
      "UAGDP N acetylglucosamine 1 phosphate uridyltransferase\n",
      "PDX5PS2 pyridoxine 5  phosphate synthase\n",
      "AKGtex a ketoglutarate transport via diffusion  extracellular to periplasm \n",
      "L_LALDtex L lactaldehyde transport via diffusion  extracellular to periplasm \n",
      "PUNP9 5  deoxyadenosine phosphorylase\n",
      "L_LACt2rpp  S  lactate transport  periplasm to cytoplasm \n",
      "EAR40y enoyl  acyl carrier protein  reductase  n 4 0 \n",
      "ALAGLUEPI L Ala D L Glu epimerase\n",
      "GPDDA1 sn Glycero 3 phosphocholine glycerophosphohydrolase\n",
      "GPDDA2 sn Glycero 3 phosphoethanolamine glycerophosphohydrolase\n",
      "DAHETBCLPHDDH 2 desacetyl 2 hydroxyethyl bacteriochlorophyllide a dehydrogenase\n",
      "EX_DM_trnaala exchange flux   tRNA Ala \n",
      "GLNTRAT glutamyl tRNA amidotransferase\n",
      "ACACT3r 3 ketoacyl CoA thiolase  n 8 0 \n",
      "EX_DM_trnaile exchange flux   tRNA Ile \n",
      "EX_photon_e exchange flux   light\n",
      "DCAtex decanoate transport via diffusion  extracellular to periplasm \n",
      "NTPPD11 2 nitropropane dioxygenase\n",
      "3HBCDH 3 hydroxybutyryl CoA dehydrogenase\n",
      "ACACT2r 3 ketoacyl CoA thiolase  n 6 0 \n",
      "EX_xylnt_D_e exchange flux   D xylonate\n",
      "ACtex acetate transport via diffusion  extracellular to periplasm \n",
      "AHC S adenosylhomocysteine hydrolase\n",
      "ALATA_D D alanine aminotransferase\n",
      "ZCARDS2 zeta carotene desaturase 2\n",
      "HACYLCOAEPI120 3 hydroxyacyl CoA epimerase  n 12 0 \n",
      "LYXNTtex L lyxonate transport via diffusion  extracellular to periplasm \n",
      "ENCOAI61 enoyl CoA isomerase  n 6 0 \n",
      "TDSK tetraacyldisaccharide 4  kinase\n",
      "APG3PAT160 glycerol 3 phosphate synthetase  n 16 0 \n",
      "ACALDtpp acetaldehyde transport via diffusion  periplasm to cytoplasm \n",
      "APG3PAT161 glycerol 3 phosphate synthetase  n 16 1 \n",
      "FACOAL60 fatty acyl CoA synthetase  n 6 0 \n",
      "EX_DM_AMOB exchange flux   S  adenosyl 4 methylthio 2 oxobutanoate\n",
      "ACACT1r acetyl CoA C acetyltransferase\n",
      "GLUTRS_Gln_ nondiscriminating glutamyl tRNA synthetase\n",
      "CDPGD cdp glucose 4 6 dehydratase\n",
      "G2PP glycerol 2 phosphatase\n",
      "OPHBDC 3 octaprenyl 4 hydroxybenzoate carboxy lyase\n",
      "ENCOAI41 enoyl CoA isomerase  n 4 0 \n",
      "TSULtex thiosulfate transport via diffusion  extracellular to periplasm \n",
      "SORBNLDH L sorbosone dehydrogenase\n",
      "APG3PAT180 glycerol 3 phosphate synthetase  n 18 0 \n",
      "APG3PAT181 glycerol 3 phosphate synthetase  n 18 1 \n",
      "APH181 acylphosphatase  n 18 1 \n",
      "EX_rib_D_e exchange flux   D ribose\n",
      "APH180 acylphosphatase  n 18 0 \n",
      "SUCOAS succinyl CoA synthetase\n",
      "FACOAL80 fatty acyl CoA synthetase  n 8 0 \n",
      "5DGLCNR 5 keto D gluconate 5 reductase  inferred from physiology \n",
      "BTCAL fatty acyl CoA synthetase  n 4 0 \n",
      "H2MB4PRD 1 hydroxy 2 methyl 2  E  butenyl 4 diphosphate reductase 1\n",
      "XYLNTtex D xylonate transport via diffusion  extracellular to periplasm \n",
      "APH161 acylphosphatase  n 16 1 \n",
      "EX_DM_trnatrp exchange flux   tRNA Trp \n",
      "ACS acetyl CoA synthetase\n",
      "MREDR NADH azoreductase\n",
      "USHD UDP 2 3 diacylglucosamine hydrolase\n",
      "ZCARDS zeta carotene desaturase 1\n",
      "EX_ca2_e exchange flux   calcium\n",
      "APH160 acylphosphatase  n 16 0 \n",
      "UAGAAT UDP N acetylglucosamine acyltransferase\n",
      "HSTPTr histidinol phosphate aminotransferase\n",
      "ZCARDS2_e zeta carotene desaturase 2  extracellular \n",
      "EX_lald_L_e_ L lactaldehyde exchange\n",
      "EAR161y enoyl  acyl carrier protein  reductase  n 16 1 \n",
      "3HAD121 3 hydroxyacyl  acyl carrier protein  dehydratase  n 12 1 \n",
      "EX_DM_trnaval exchange flux   tRNA Val \n",
      "3HAD120 3 hydroxyacyl  acyl carrier protein  dehydratase  n 12 0 \n",
      "IPMD2r 3 isopropylmalate dehydrogenase\n",
      "FCLPA L fuculose 1 phosphate aldolase\n",
      "EX_dca_e exchange flux   decanoate\n",
      "EX_galcDarab_e exchange flux   3 O b D galactopyranosyl D arabinose\n",
      "EX_tsul_e exchange flux   thiosulfate\n",
      "KAT141 3 ketoacyl CoA thiolase  n 14 1 \n",
      "TARTRtex L tartrate transport via diffusion  extracellular to periplasm \n",
      "PSD161 phosphatidylserine decarboxylase  n 16 1 \n",
      "GLU5K gamma glutamyl kinase\n",
      "PSD160 phosphatidylserine decarboxylase  n 16 0 \n",
      "TARTR_Ltpp L tartrate transporter\n",
      "DXPS 1 deoxy D xylulose 5 phosphate synthase\n",
      "FACOAL121 fatty acyl CoA synthetase  n 12 1 \n",
      "FACOAL120 fatty acyl CoA synthetase  n 12 0 \n",
      "EX_D_araba_e exchange flux   D arabinonate\n",
      "PHAS poly 3 hydroxyalkanoate  polymerase\n",
      "EX_mg2_e exchange flux   magnesium\n",
      "MEPCT 4 diphosphocytidyl 2C  methyl D erythritol synthase\n",
      "EX_lac_L_e exchange flux    S  lactate\n",
      "ETOHtex ethanol transport via diffusion  extracellular to periplasm \n",
      "3HAD100 B hydroxydecanoyl thioester dehydrase\n",
      "FRDOr NADPH ferredoxin oxidoreductase 1\n",
      "EX_co2_e exchange flux   CO2\n",
      "KAT121 3 ketoacyl CoA thiolase  n 12 1 \n",
      "PRMICI N  5  phospho L ribosyl formimino  5 amino 1  5  phosphoribosyl  4 imidazolecarboxamide isomerase\n",
      "EX_araba_e exchange flux   L arabinonate\n",
      "VALTA amino acid transferase  valine \n",
      "TYRTA aromatic amino acid transaminase  TYR \n",
      "T2DECAI trans 2 decenoyl ACP isomerase\n",
      "FACOAL100 fatty acyl CoA synthetase  n 10 0 \n",
      "PPA2 triphosphate phosphohydrolase  inferred from gap \n",
      "RPI ribose 5 phosphate isomerase\n",
      "DHXANTI trans 2 3 dihydro 3 hydroxy anthranilate isomerase\n",
      "EX_DM_trnaphe exchange flux   tRNA Phe \n",
      "DHXANTH 2 amino 2 deoxyisochorismate hydrolase\n",
      "RPE D ribulose 5 phosphate 3 epimerase\n",
      "ASAD aspartate semialdehyde dehydrogenase\n",
      "ACPS1 holo  acyl carrier protein  synthase\n",
      "FMNRx2 NADPH dependent FMN reductase\n",
      "HACOAEPI141 3 hydroxyacyl CoA epimerase  n 14 1 \n",
      "BMMALCOAL b methylmalyl CoA lyase\n",
      "EX_DM_thif exchange flux   thiF\n",
      "PRAMPC phosphoribosyl AMP cyclohydrolase\n",
      "EX_fe2_e exchange flux   Fe2 \n",
      "EX_acac_e exchange flux   acetoacetate\n",
      "EX_DM_thil exchange flux   thiI\n",
      "KAT181 3 ketoacyl CoA thiolase  n 18 1 \n",
      "HGBAMS hydrogenobyrinate a c diamide synthase\n",
      "EX_DM_trnagln exchange flux   tRNA Gln \n",
      "BRFAPS 4  b D ribofuranosyl aminobenzene 5  phosphate synthase\n",
      "EX_DM_this exchange flux   thiS\n",
      "EX_ppa_e exchange flux   propanoate\n",
      "LPLIPAL1E181 lysophospholipase E1  n 18 1 \n",
      "LEUTAi amino acid transferase  leucine \n",
      "EX_DM_trnaglu exchange flux   tRNA Glu \n",
      "EX_DM_trnagly exchange flux   tRNA Gly \n",
      "ENCOAI162 enoyl CoA isomerase  n 16 1 \n",
      "FACOAL161 fatty acyl CoA synthetase  n 16 1 \n",
      "ENCOAI161 enoyl CoA isomerase  n 16 0 \n",
      "FACOAL160 fatty acyl CoA synthetase  n 16 0 \n",
      "NNDMBRT nicotinate nucleotide  dimethylbenzimidazole phosphoribosyltransferase\n",
      "ALAS 5 aminolevulinate synthase\n",
      "EX_cu2_e exchange flux   copper\n",
      "GLUtex glutamate transport via diffusion  extracellular to periplasm \n",
      "HACOAEPI121 3 hydroxyacyl CoA epimerase  n 12 1 \n",
      "GAPD glyceraldehyde 3 phosphate dehydrogenase\n",
      "CU2abcpp copper exporting ATPase\n",
      "KDOPS 3 deoxy 8 phosphooctulonate synthase\n",
      "UPP3MT uroporphyrin III C methyltransferase 1\n",
      "KDOPP 3 deoxy D manno octulosonate 8 phosphate phosphatase\n",
      "THD2pp NAD P  transhydrogenase\n",
      "EX_so4_e exchange flux   SO42 \n",
      "ETHMALCOAM ethylmalonyl CoA mutase\n",
      "LPLIPAL1E160 lysophospholipase E1  n 16 0 \n",
      "LPLIPAL1E161 lysophospholipase E1  n 16 1 \n",
      "KAT161 3 ketoacyl CoA thiolase  n 16 1 \n",
      "EX_glyclt_e exchange flux   glycolate\n",
      "PHBD2 poly 3 hydroxyalkanoate  depolymerase\n",
      "ENCOAI182 enoyl CoA isomerase  n 18 1 \n",
      "FACOAL141 fatty acyl CoA synthetase  n 14 1 \n",
      "ENCOAI181 enoyl CoA isomerase  n 18 0 \n",
      "FACOAL140 fatty acyl CoA synthetase  n 14 0 \n",
      "ASP1DC aspartate 1 decarboxylase\n",
      "DHQS 3 dehydroquinate synthase\n",
      "LDH_L S lactate dehydrogenase\n",
      "ETHAtex ethanolamine transport via diffusion  extracellular to periplasm \n",
      "EX_mobd_e exchange flux   molybdate\n",
      "DHQD 3 dehydroquinate dehydratase\n",
      "Kabcpp potassium transporting ATPase\n",
      "PPAt7 propanoate symport  periplasm to cytoplasm \n",
      "MALDHDC malate dehydrogenase  decarboxylating \n",
      "EX_dha_e exchange flux   glycerone\n",
      "ACPPAT181 acyl phosphate synthase  n 18 1 \n",
      "UAAGDS UDP N acetylmuramoylalanyl D glutamate 2 6 diaminopimelate ligase\n",
      "SDPDS N succinyl L diaminopimelate desuccinylase\n",
      "HACOAEPI181 3 hydroxyacyl CoA epimerase  n 18 1 \n",
      "MCPST 3 mercaptopyruvate sulfurtransferase\n",
      "ACPPAT180 acyl phosphate synthase  n 18 0 \n",
      "MOBDtex molybdate transport via diffusion  extracellular to periplasm \n",
      "GLYCLTtex glycolate transport via diffusion  extracellular to periplasm \n",
      "ANACMURLALAA anhydro N acetylmuramoyl L alanine amidase\n",
      "ARABA_Dtex D arabinonate transport via diffusion  extracellular to periplasm \n",
      "EX_arab_D_e exchange flux   D arabinose\n",
      "SPOTN 1 amino propan 2 one 3 phosphate synthesis\n",
      "3OAR40 3 oxoacyl  acyl carrier protein  reductase  n 4 0 \n",
      "XYLtex D xylose transport via diffusion  extracellular to periplasm \n",
      "SSALyr succinate semialdehyde dehydrogenase\n",
      "UDPGDr UDP glucose 6 dehydrogenase\n",
      "BTCOAC butyryl CoA carboxylase\n",
      "3HAD181 3 hydroxyacyl  acyl carrier protein  dehydratase  n 18 1 \n",
      "PPDODH 1 2 propanediol dehydrogenase\n",
      "3HAD180 3 hydroxyacyl  acyl carrier protein  dehydratase  n 18 0 \n",
      "ACPPAT161 acyl phosphate synthase  n 16 1 \n",
      "ACPPAT160 acyl phosphate synthase  n 16 0 \n",
      "HACOAEPI161 3 hydroxyacyl CoA epimerase  n 16 1 \n",
      "DPCOAK dephospho CoA kinase\n",
      "FTHFL formate tetrahydrofolate ligase\n",
      "EX_akg_e exchange flux   2 oxoglutarate\n",
      "ASPO6 L aspartate oxidase\n",
      "PRE5MT precorrin 5  C1  methyltransferase\n",
      "FACOAL180 fatty acyl CoA synthetase  n 18 0 \n",
      "FACOAL181 fatty acyl CoA synthetase  n 18 1 \n",
      "TRSARr 2 hydroxy 3 oxopropionate reductase  NAD \n",
      "DHOANTC 2 3 dihydro 3 oxo anthranilate condensation  hypothetical \n",
      "LPLIP2AGPC160 lysophospholipase C2  n 16 0 \n",
      "PGPP160 phosphatidylglycerophosphatase  n 16 0 \n",
      "EX_meoh_e exchange flux   methanol\n",
      "PGPP161 phosphatidylglycerophosphatase  n 16 1 \n",
      "3HAD160 3 hydroxyacyl  acyl carrier protein  dehydratase  n 16 0 \n",
      "3HAD161 3 hydroxyacyl  acyl carrier protein  dehydratase  n 16 1 \n",
      "FMFTFMPT formylmethanofuran H4MPT formyltransferase\n",
      "GMAND GDP mannose 4 6 dehydratase\n",
      "G3PD2 glycerol 3 phosphate dehydrogenase\n",
      "12PPDStex 1 2 propanediol transport via diffusion  extracellular to periplasm \n",
      "3OAR80 3 oxoacyl  acyl carrier protein  reductase  n 8 0 \n",
      "METTRS methionyl tRNA synthetase\n",
      "AMAOTr 7 8 diaminopelargonic acid synthetase\n",
      "FALDA H4F dependent formaldehyde activating\n",
      "ADOCBLPS cobalamin 5  phosphate synthase\n",
      "PRATPP phosphoribosyl ATP pyrophosphatase\n",
      "OMMBZH2 2 octaprenyl 3 methyl 6 methoxy 1 4 benzoquinone hydroxylase\n",
      "ADMDCr S adenosylmethionine decarboxylase\n",
      "PGPP180 phosphatidylglycerophosphatase  n 18 0 \n",
      "EX_DM_5dr1p exchange flux    5  deoxyribose 1 phosphate\n",
      "3HAD140 3 hydroxyacyl  acyl carrier protein  dehydratase  n 14 0 \n",
      "PGPP181 phosphatidylglycerophosphatase  n 18 1 \n",
      "3HAD141 3 hydroxyacyl  acyl carrier protein  dehydratase  n 14 1 \n",
      "EX_h2o2_e exchange flux   H2O2\n",
      "EX_asp_L_e exchange flux   L aspartate\n",
      "EX_DM_trnaleu exchange flux   tRNA Leu \n",
      "DUTPDP deoxyuridine 5  triphosphate nucleotidohydrolase\n",
      "3PSMES 5 enolpyruvylshikimate 3 phosphate synthetase\n",
      "FMETTRS 10 formyltetrahydrofolate L methionyl tRNA fMet  N formyltransferase\n",
      "NAtex sodium transport via diffusion  extracellular to periplasm \n",
      "2AGPEAT160acp 2 acylglycerophosphoethanolamine acyltransferase  n 16 0 \n",
      "OCOAT1r succinyl CoA 3 oxo acid CoA transferase\n",
      "ADCMS2 2 amino 2 deoxyisochorismate synthase\n",
      "PSD181 phosphatidylserine decarboxylase  n 18 1 \n",
      "PSD180 phosphatidylserine decarboxylase  n 18 0 \n",
      "3OAR60 3 oxoacyl  acyl carrier protein  reductase  n 6 0 \n",
      "PERD erythronate 4 phosphate dehydrogenase\n",
      "H2MB4P 1 hydroxy 2 methyl 2  E  butenyl 4 diphosphate synthase\n",
      "UDPACGAM UDP N acetylglucosamine  N acetylmuramyl  pentapeptide  pyrophosphoryl undecaprenol N acetylglucosamine transferase 1\n",
      "HACOADH121 3 hydroxyacyl CoA dehydrogenase  n 12 1 \n",
      "E4PD erythrose 4 phosphate dehydrogenase\n",
      "CLtex chloride transport via diffusion  extracellular to periplasm \n",
      "KDOCT 3 deoxy D manno octulosonate cytidylyltransferase\n",
      "3OAR160 3 oxoacyl  acyl carrier protein  reductase  n 16 0 \n",
      "3OAR161 3 oxoacyl  acyl carrier protein  reductase  n 16 1 \n",
      "HFACOAE60 acyl CoA thioesterase II  n h6 0 \n",
      "GF6PTAr L glutamine D fructose 6 phosphate aminotransferase\n",
      "UAMAGS UDP N acetylmuramoylalanine  D glutamate ligase\n",
      "MG2tex magnesium transport via diffusion  extracellular to periplasm \n",
      "FUMtex fumarate transport via diffusion  extracellular to periplasm \n",
      "EX_cl_e exchange flux   chloride\n",
      "LPLIP1AGPC160 lysophospholipase C1  n 16 0 \n",
      "PYRt2rpp pyruvate symport  periplasm to cytoplasm \n",
      "PSP_D phosphoserine phosphatase  D \n",
      "MALCOATE malyl CoA thioesterase\n",
      "OCMPH2 2 octaprenyl 6 methoxyphenol hydroxylase\n",
      "FACOAE180 acyl CoA thioesterase II  n 18 0 \n",
      "EX_pi_e exchange flux   phosphate\n",
      "UGMDDS UDP N acetylmuramoylalanyl D glutamyl 2 6 diaminopimelate D alanyl D alanine ligase\n",
      "MNtex manganese transport via diffusion  extracellular to periplasm \n",
      "BDH D beta hydroxybutyrate dehydrogenase\n",
      "G5SD glutamate 5 semialdehyde dehydrogenase\n",
      "AGPR N acetylglutamylphosphate reductase\n",
      "3OAR140 3 oxoacyl  acyl carrier protein  reductase  n 14 0 \n",
      "3OAR141 3 oxoacyl  acyl carrier protein  reductase  n 14 1 \n",
      "EX_ribona_e exchange flux   D ribonate\n",
      "OHPHM 2 octaprenyl 6 hydroxyphenol methylase\n",
      "GALCDARABtex 3 O b D galactopyranosyl D arabinose transport via diffusion  extracellular to periplasm \n",
      "O2tex O2 transport via diffusion  extracellular to periplasm \n",
      "ARABAtex L arabinonate transport via diffusion  extracellular to periplasm \n",
      "MAN1PT mannose 1 phosphate guanylyltransferase\n",
      "ADSL2r 5  phosphoribosyl 4  N succinocarboxamide  5 aminoimidazole lyase\n",
      "AGPAT161 lysophosphatidic acid acyltransferase  n 16 1 \n",
      "3HAD60 3 hydroxyacyl  acyl carrier protein  dehydratase  n 6 0 \n",
      "PGCDr D 3 phosphoglycerate dehydrogenase\n",
      "AGPAT160 lysophosphatidic acid acyltransferase  n 16 0 \n",
      "GTHPp glutathione peroxidase  periplasmic \n",
      "FACOAE160 acyl CoA thioesterase II  n 16 0 \n",
      "3OAR120 3 oxoacyl  acyl carrier protein  reductase  n 12 0 \n",
      "ILETA amino acid transferase  isoleucine \n",
      "3OAR121 3 oxoacyl  acyl carrier protein  reductase  n 12 1 \n",
      "MTAP 5  methylthioadenosine phosphorylase\n",
      "EX_k_e exchange flux   potassium\n",
      "H2Otex H2O transport via diffusion  extracellular to periplasm \n",
      "EX_DM_h2mpt exchange flux    7 8 dihydromethanopterin\n",
      "NO3tex nitrate transport via diffusion  extracellular to periplasm \n",
      "EX_xyl_D_e exchange flux   D xylose\n",
      "Htex H  transport via diffusion  extracellular to periplasm \n",
      "PDX5PO pyridoxine 5  phosphate oxidase\n",
      "UPP3MT2 uroporphyrin III C methyltransferase 2\n",
      "FORtex formate transport via diffusion  extracellular to periplasm \n",
      "ACS2 propionyl CoA synthetase\n",
      "AGPAT180 lysophosphatidic acid acyltransferase  n 18 0 \n",
      "G5SADr L glutamate gamma semialdehyde  cyclase dehydratase \n",
      "AGPAT181 lysophosphatidic acid acyltransferase  n 18 1 \n",
      "EX_etoh_e exchange flux   ethanol\n",
      "UAPGR UDP N acetylenolpyruvoylglucosamine reductase\n",
      "3HAD80 3 hydroxyacyl  acyl carrier protein  dehydratase  n 8 0 \n",
      "FACOAE140 acyl CoA thioesterase II  n 14 0 \n",
      "CA2NAtpp sodium calcium exchanger\n",
      "METACH O acetylhomoserine sulfhydrylase\n",
      "GGTT R geranylgeranyltranstransferase\n",
      "AKGt2rpp a ketoglutarate MFS transporter\n",
      "EX_12ppd_S_e exchange flux   1 2 propanediol\n",
      "HFACOAE80 acyl CoA thioesterase II  n h8 0 \n",
      "3OAR100 3 oxoacyl  acyl carrier protein  reductase  n 10 0 \n",
      "MECDPS 2C methyl D erythritol 2 4 cyclodiphosphate synthase\n",
      "F6PPKL D fructose 6 phosphate phosphoketolase\n",
      "Zn2tex zinc transport via diffusion  extracellular to periplasm \n",
      "ACOATA acetyl CoA ACP transacylase\n",
      "EX_fald_e exchange flux   formaldehyde\n",
      "EX_nh4_e exchange flux   nitrogen\n",
      "MOHMT 3 methyl 2 oxobutanoate hydroxymethyltransferase\n",
      "CMBLD2 dienelactone hydrolase  trans \n",
      "5DGLCNtex 5 dehydro D gluconate transport via diffusion  extracellular to periplasm \n",
      "AGDC_r N acetylglucosamine 6 phosphate deacetylase\n",
      "CMBLD4 dienelactone hydrolase  cis \n",
      "OXAFORtpp oxalate formate antiporter  periplasm to cytoplasm \n",
      "EX_na1_e exchange flux   Na \n",
      "EX_oxa_e exchange flux   oxalate\n",
      "GLUCYS gamma glutamylcysteine synthetase\n",
      "EX_glc_e exchange flux   D glucose\n",
      "IGPDH imidazoleglycerol phosphate dehydratase\n",
      "FORMMFRHD formyl MFS hydrolysis\n",
      "R3HAD40 3 hydroxyacyl  acyl carrier protein  dehydratase  n 4 0 \n",
      "ENCOAI141 enoyl CoA isomerase  n 14 0 \n",
      "ENCOAI142 enoyl CoA isomerase  n 14 1 \n",
      "ACGLCAM beta N acetyl glucosaminidase\n",
      "FACOAE60 acyl CoA thioesterase II  n 6 0 \n",
      "ACOAD161 acyl CoA dehydrogenase  n 16 1 \n",
      "PRASCS phosphoribosylaminoimidazole succinocarboxamide synthetase\n",
      "SDPTA N succinyldiaminopimelate aminotransferase\n",
      "PSSA181 phosphatidylserine synthase  n 18 1 \n",
      "PSSA180 phosphatidylserine synthase  n 18 0 \n",
      "NH4tpp NH3 transport  periplasm to cytoplasm \n",
      "TRE6PP trehalose 6 phosphate phosphatase\n",
      "TRE6PS trehalose 6 phosphate synthase\n",
      "THRPD L threonine O 3 phosphate decarboxylase\n",
      "MAN6PI mannose 6 phosphate isomerase\n",
      "THRPS L threonine kinase\n",
      "MESACOAH mesaconyl CoA hydratase\n",
      "LPLIPAL1C180 lysophospholipase C1  n 18 0 \n",
      "ADCYRS adenosyl cobyric acid synthase\n",
      "LPLIPAL1C181 lysophospholipase C1  n 18 1 \n",
      "EX_DM_trnacys exchange flux   tRNA Cys \n",
      "EX_no3_e exchange flux   nitrate\n",
      "PTHPS 6 pyruvoyl tetrahydrobiopterin synthase\n",
      "ENCOAI121 enoyl CoA isomerase  n 12 0 \n",
      "ASPTRNAAMT aspartyl tRNA amidotransferase\n",
      "EX_o2_e exchange flux   oxygen\n",
      "ENCOAI122 enoyl CoA isomerase  n 12 1 \n",
      "RZ5PP a ribazole 5  phosphate phosphatase\n",
      "UDPG4E UDP glucose 4 epimerase\n",
      "ACGS N acetylglutamate synthase\n",
      "ACOAD181 acyl CoA dehydrogenase  n 18 1 \n",
      "Ktex potassium transport via diffusion  extracellular to periplasm \n",
      "HACOADH181 3 hydroxyacyl CoA dehydrogenase  n 18 1 \n",
      "HACOADH180 3 hydroxyacyl CoA epimerase  n 18 0 \n",
      "HTHRPD 4 hydroxy L threonine phosphate dehydrogenase  NAD dependent\n",
      "FACOAE80 acyl CoA thioesterase II  n 8 0 \n",
      "CMPKDOT2 3 deoxy D manno octulosonic acid transferase 2\n",
      "CMPKDOT1 3 deoxy D manno octulosonic acid transferase 1\n",
      "PSSA161 phosphatidylserine synthase  n 16 1 \n",
      "PSSA160 phosphatidylserine synthase  n 16 0 \n",
      "NTRIR4 ferredoxin  nitrite reductase\n",
      "OXAtex oxalate transport via diffusion  extracellular to periplasm \n",
      "UHGADA UDP 3 O acyl N acetylglucosamine deacetylase\n",
      "BB_RMN Biomass flux   L rhamnose\n",
      "METSr methionine synthase reversible\n",
      "EX_DM_trnahis exchange flux   tRNA His \n",
      "THRA L threonine aldolase\n",
      "LPLIPAL1C161 lysophospholipase C1  n 16 1 \n",
      "CYSTL cystathionine beta lyase\n",
      "ACOAD121 acyl CoA dehydrogenase  n 12 1 \n",
      "CBIAT cob I alamin adenosyltransferase\n",
      "ENCOAI101 enoyl CoA isomerase  n 10 0 \n",
      "KARA2 2 aceto 2 hydroxy butyrate reductoisomerase\n",
      "HACOADH160 3 hydroxyacyl CoA epimerase  n 16 0 \n",
      "HACOADH161 3 hydroxyacyl CoA dehydrogenase  n 16 1 \n",
      "PC20M precorrin 2 C 20  methyltransferase\n",
      "KARA1 2 acetolactate reductoisomerase\n",
      "2DRIBOAtex 2 deoxy D ribonate transport via diffusion  extracellular to periplasm \n",
      "IPPMIb 3 isopropylmalate isomerase\n",
      "G1PTT glucose 1 phosphate thymidylyltransferase\n",
      "EX_fum_e exchange flux   fumarate\n",
      "PC6AR precorrin 6A reductase\n",
      "3OAR181 3 oxoacyl  acyl carrier protein  reductase  n 18 1 \n",
      "H2O2tpp H2O2 transport via diffusion  periplasm to cytoplasm \n",
      "H2MB4PRD2 1 hydroxy 2 methyl 2  E  butenyl 4 diphosphate reductase 2\n",
      "EX_DM_trnapro exchange flux   tRNA Pro \n",
      "U23GAAT UDP 3 O  3 hydroxymyristoyl glucosamine N acetyltransferase\n",
      "ACOAD141 acyl CoA dehydrogenase  n 14 1 \n",
      "DPR 2 dehydropantoate 2 reductase\n",
      "SERGLXAT L serine glyoxylate aminotransferase\n",
      "EX_2kdrib_e exchange flux   2 deoxy D ribose\n",
      "3OAR180 3 oxoacyl  acyl carrier protein  reductase  n 18 0 \n",
      "HACOADH141 3 hydroxyacyl CoA dehydrogenase  n 14 1 \n",
      "5DGLCNt2rpp 5 dehydro D gluconate transporter  inferred from physiology \n",
      "MPTFALDA H4MPT dependent formaldehyde activating\n",
      "3HBCD  R  3 hydroxybutyryl CoA dehydratase\n",
      "CO2tex CO2 transport via diffusion  extracellular to periplasm \n",
      "NTD10 5  nucleotidase  XMP \n",
      "NTD11 5  nucleotidase  IMP \n",
      "EX_lyxnt_e exchange flux   L lyxonate\n",
      "FALDtpp formaldehyde transport via diffusion  periplasm to cytoplasm \n",
      "EX_DM_trnaarg exchange flux   tRNA Arg \n",
      "PTRCtex putrescine transport via diffusion  extracellular to periplasm \n",
      "LPLIPAL2E180 lysophospholipase E1  n 18 0 \n",
      "EX_succ_e exchange flux   succinate\n",
      "LPLIPAL2E181 lysophospholipase E2  n 18 1 \n",
      "FE2t2pp iron proton symport\n",
      "EX_DM_trnalys exchange flux   tRNA Lys \n",
      "ARAB_Dtex D arabinose transport via diffusion  extracellular to periplasm \n",
      "PHYNDH2_e phytoene dehydrogenase 2  extracellular \n",
      "MPTSA molybdopterin synthase activations\n",
      "ZCARDS_e zeta carotene desaturase 1  extracullular \n",
      "3OAS100 3 oxoacyl  acyl carrier protein  synthase  n 10 0 \n",
      "OMBZLM 2 octaprenyl 6 methoxy 1 4 benzoquinone methylase\n",
      "ETHMALCOAEPM ethylmalonyl CoA epimerase\n",
      "MNt2pp manganese proton symport\n",
      "HBZOPT 4 hydroxybenzoate octaprenyltransferase\n",
      "LPLIPAL2E160 lysophospholipase E2  n 16 0 \n",
      "LPLIPAL2E161 lysophospholipase E2  n 16 1 \n",
      "EX_DM_trnatyr exchange flux   tRNA Tyr \n",
      "EX_lyx_L_e exchange flux   L lyxose\n",
      "PPCOAC propionyl CoA carboxylase 1\n",
      "H2O2syn NADPH oxidoreductase  OYE \n",
      "2AGPEAT181acp 2 acylglycerophosphoethanolamine acyltransferase  n 18 1 \n",
      "NTD9 5  nucleotidase  GMP \n",
      "HFACOAE180 acyl CoA thioesterase II  n h18 0 \n",
      "NTD7 5  nucleotidase  AMP \n",
      "EX_DM_rbrdxOX exchange flux   oxidized rubredoxin\n",
      "L_LACtex  S  lactate transport via diffusion  extracellular to periplasm \n",
      "MME methylmalonyl CoA epimerase\n",
      "CYRDAAT cob I yrinic acid a c diamide adenosyltransferase\n",
      "3OAS121 3 oxoacyl  acyl carrier protein  synthase  n 12 1 \n",
      "3OAS120 3 oxoacyl  acyl carrier protein  synthase  n 12 0 \n",
      "MMM2r methylmalonyl CoA mutase\n",
      "AACOAR acetoacetyl CoA reductase 1\n",
      "ADOCBLPPA adenosylcobalamine 5  phosphate phosphatase\n",
      "ECOAH5 enoyl CoA hydratase  n 12 0 \n",
      "ECOAH6 enoyl CoA hydratase  n 14 0 \n",
      "BB_ACGAM Biomass flux   N acetyl D glucosamine\n",
      "ECOAH3 enoyl CoA hydratase  n 8 0 \n",
      "ECOAH4 enoyl CoA hydratase  n 10 0 \n",
      "AOXSr 7 keto 8 aminopelargonic acid synthetase\n",
      "ECOAH7 enoyl CoA hydratase  n 16 0 \n",
      "ECOAH8 enoyl CoA hydratase  n 18 0 \n",
      "EX_DM_trnaasn exchange flux   tRNA Asn \n",
      "ECOAH1 3 hydroxybutyryl CoA dehydratase\n",
      "ECOAH2 enoyl CoA hydratase  n 6 0 \n",
      "EX_DM_trnaasp exchange flux   tRNA Asp \n",
      "CO2tpp CO2 transport via diffusion  periplasm to cytoplasm \n",
      "TDPGDH dTDP glucose 4 6 dehydratase\n",
      "PHETA1 aromatic amino acid transaminase  PHE \n",
      "HISTP histidinol phosphatase\n",
      "GALU glucose 1 phosphate uridylyltransferase\n",
      "CCRC crotonyl CoA reductase carboxylase\n",
      "IPPS2 2 isopropylmalate synthase\n",
      "HISTRS histidyl tRNA synthetase\n",
      "ACOAD2f acyl CoA dehydrogenase  n 6 0 \n",
      "MMAtex methylamine transport via diffusion  extracellular to periplasm \n",
      "PPAppt H    translocating pyrophosphatases\n",
      "PEMT160 phosphatidylethanolamine N methyltransferase  n 16 0 \n",
      "HACYLCOAEPI80 3 hydroxyacyl CoA epimerase  n 8 0 \n",
      "PEMT161 phosphatidylethanolamine N methyltransferase  n 16 1 \n",
      "EX_etha_e exchange flux   ethanolamine\n",
      "ACHBS 2 aceto 2 hydroxy butyrate synthase\n",
      "ORNTAC glutamate N acetyltransferase\n",
      "EX_ptrc_e exchange flux   putrescine\n",
      "ACOAD3f acyl CoA dehydrogenase  n 8 0 \n",
      "ETMAt_e ethylamine transport via diffusion  extracellular to periplasm \n",
      "SO4tex sulfate transport via diffusion  extracellular to periplasm \n",
      "LDH_D3 D lactate dehydrogenase  cytochrome \n",
      "PAPPT3 phospho N acetylmuramoyl pentapeptide transferase 1\n",
      "COBALT2tex Co2  transport via diffusion  extracellular to periplasm \n",
      "PAPPT1 phospho N acetylmuramoyl pentapeptide transferase 2\n",
      "DVPCLPHVR 3 8 divinyl protochlorophyllide 8 vinyl reductase\n",
      "UQCYOR_2p ubiquinol cytochrome c reductase\n",
      "EX_galcDaraba_e exchange flux   3 O b D galactopyranosyl D arabinonate\n",
      "EX_arab_L_e exchange flux   L arabinose\n",
      "ACOAD1f acyl CoA dehydrogenase  n 4 0 \n",
      "SULR sulfite reductase  NADPH \n",
      "G1PACT glucosamine 1 phosphate acetyltransferase\n",
      "DMQMT2 3 demethylubiquinone 8 3 O methyltransferase\n",
      "MSUCCCOADH methylsuccinyl CoA dehydrogenase\n",
      "NTPP7 deoxynucleoside triphosphate pyrophosphohydrolase  dTTP \n",
      "NTPP8 nucleoside triphosphate pyrophosphohydrolase  UTP \n",
      "ACOAD6f acyl CoA dehydrogenase  n 14 0 \n",
      "NTPP3 deoxynucleoside triphosphate pyrophosphohydrolase  dCTP \n",
      "NTPP4 nucleoside triphosphate pyrophosphohydrolase  CTP \n",
      "UAGCVT UDP N acetylglucosamine 1 carboxyvinyltransferase\n",
      "CU2tex copper transport via diffusion  extracellular to periplasm \n",
      "NTPP5 deoxynucleoside triphosphate pyrophosphohydrolase  dATP \n",
      "NTPP6 nucleoside triphosphate pyrophosphohydrolase  ATP \n",
      "HFACOAE120 acyl CoA thioesterase II  n h12 0 \n",
      "EAR121y enoyl  acyl carrier protein  reductase  n 12 1 \n",
      "ALAALAr D alanine D alanine ligase B\n",
      "FALDtex formaldehyde transport via diffusion  extracellular to periplasm \n",
      "ECOAH181 enoyl CoA hydratase  n 18 1 \n",
      "EX_mn2_e exchange flux   manganese\n",
      "ACOAD7f acyl CoA dehydrogenase  n 16 0 \n",
      "3OAS180 3 oxoacyl  acyl carrier protein  synthase  n 18 0 \n",
      "3OAS181 3 oxoacyl  acyl carrier protein  synthase  n 18 1 \n",
      "NADH11 NADH ubiquinone oxidoreductase I\n",
      "HACYLCOAEPI40 3 hydroxyacyl CoA epimerase  n 4 0 \n",
      "FACOAE120 acyl CoA thioesterase II  n 12 0 \n",
      "DHAtex glycerone transport via diffusion  extracellular to periplasm \n",
      "OMPDC orotidine 5  phosphate decarboxylase\n",
      "H2O2tex H2O2 transport via diffusion  extracellular to periplasm \n",
      "Kt3pp potassium proton antiporter\n",
      "ACOAD4f acyl CoA dehydrogenase  n 10 0 \n",
      "CO2DAMR cob II yrinate a c diamide reductase\n",
      "AMMQT8_2  S  adenosylmethionine 2 DMK methyltransferase\n",
      "CO2DAMS cobyrinic acid a c diamide synthase\n",
      "EX_glu_L_e exchange flux   L glutamate\n",
      "HFACOAE100 acyl CoA thioesterase II  n h10 0 \n",
      "EX_DM_oxEA exchange flux   oxidized electron acceptor\n",
      "GRTT farnesyl diphosphate synthase\n",
      "THDPS 2 3 4 5 tetrahydropyridine 2 carboxylate N succinyltransferase\n",
      "EAR180y enoyl  acyl carrier protein  reductase  n 18 0 \n",
      "EX_zn2_e exchange flux   zinc\n",
      "A5PISO D arabinose 5 phosphate isomerase\n",
      "KAS14 3 oxoacyl  acyl carrier protein  synthase  n 4 0 \n",
      "ACOAD5f acyl CoA dehydrogenase  n 12 0 \n",
      "PROTRS proline tRNA ligase\n",
      "BPNT adenosine 3  2   5  bisphosphate nucleotidase\n",
      "HACYLCOAEPI60 3 hydroxyacyl CoA epimerase  n 6 0 \n",
      "3OAS60 3 oxoacyl  acyl carrier protein  synthase  n 6 0 \n",
      "ECOAH161 enoyl CoA hydratase  n 16 1 \n",
      "FACOAE100 acyl CoA thioesterase II  n 10 0 \n",
      "NFORGLUAH N formylglutamate amidohydrolase\n",
      "TDPDRR dTDP 4 dehydrorhamnose reductase\n",
      "EX_mal_L_e exchange flux    S  malate\n",
      "HFACOAE160 acyl CoA thioesterase II  n h16 0 \n",
      "ACACtex acetoacetate transport via diffusion  extracellular to periplasm \n",
      "TDPDRE dTDP 4 dehydrorhamnose 3 5 epimerase\n",
      "ARBtex L arabinose transport via diffusion  extracellular to periplasm \n",
      "MTHFR3 5 10 methylenetetrahydrofolate reductase\n",
      "OMCDC 2 isopropyl 3 oxosuccinate decarboxylase\n",
      "EX_cit_e exchange flux   citrate\n",
      "O2tpp O2 transport via diffusion  periplasm to cytoplasm \n",
      "MEOHtex methanol transport via diffusion  extracellular to periplasm \n",
      "ACCOACr acetyl CoA carboxylase\n",
      "EX_glcn_e exchange flux   D gluconate\n",
      "DHAD2 2 3 dihydroxy 3 methylvalerate dehydratase\n",
      "GLYOX S lactoylglutathione hydrolase\n",
      "DHAD1 2 3 dihydroxy isovalerate dehydratase\n",
      "DASYN160 CDP diacylglycerol synthetase  n 16 0 \n",
      "3OAS140 3 oxoacyl  acyl carrier protein  synthase  n 14 0 \n",
      "3OAS141 3 oxoacyl  acyl carrier protein  synthase  n 14 1 \n",
      "DASYN161 CDP diacylglycerol synthetase  n 16 1 \n",
      "NH4tex NH3 transport via diffusion  extracellular to periplasm \n",
      "MALCOAL malyl CoA lyase\n",
      "ECOAH141 enoyl CoA hydratase  n 14 1 \n",
      "3OAS80 3 oxoacyl  acyl carrier protein  synthase  n 8 0 \n",
      "EX_tartr_L_e exchange flux   L tartrate\n",
      "MALCOAS malyl CoA synthetase\n",
      "EX_2driboa_e exchange flux   2 deoxy D ribonate\n",
      "HFACOAE140 acyl CoA thioesterase II  n h14 0 \n",
      "EX_DM_trnaser exchange flux   tRNA Ser \n",
      "UAGPT3 UDP N acetylglucosamine  N acetylmuramyl  pentapeptide  pyrophosphoryl undecaprenol N acetylglucosamine transferase 2\n",
      "ACOAD8f acyl CoA dehydrogenase  n 18 0 \n",
      "EX_cobalt2_e exchange flux   Co2 \n",
      "LPADSS lipid A disaccharide synthase\n",
      "GLCNtex D gluconate transport via diffusion  extracellular to periplasm \n",
      "MCOATA malonyl CoA  acyl carrier protein  transacylase\n",
      "EX_mma_e exchange flux   methylamine\n",
      "EAR120y enoyl  acyl carrier protein  reductase  n 12 0 \n",
      "NO3Rpp nitrate reductase  periplasmic \n",
      "SUCCtex succinate transport via diffusion  extracellular to periplasm \n",
      "EX_DM_trnamet exchange flux   tRNA Met \n",
      "DASYN180 CDP diacylglycerol synthetase  n 18 0 \n",
      "NTPP1 deoxynucleoside triphosphate pyrophosphohydrolase  dGTP \n",
      "NTPP2 nucleoside triphosphate pyrophosphohydrolase  GTP \n",
      "DASYN181 CDP diacylglycerol synthetase  n 18 1 \n",
      "GALCDARABAtex 3 O b D galactopyranosyl D arabinonate transport via diffusion  extracellular to periplasm \n",
      "RBFSa 6 7 dimethyl 8 ribityllumazine synthase\n",
      "3OAS160 3 oxoacyl  acyl carrier protein  synthase  n 16 0 \n",
      "3OAS161 3 oxoacyl  acyl carrier protein  synthase  n 16 1 \n",
      "EAR100y enoyl  acyl carrier protein  reductase  n 10 0 \n",
      "ECOAH121 enoyl CoA hydratase  n 12 1 \n",
      "Biomass_Mextorquens_AM1_core Methylobacterium extorquens strain AM1 core biomass equation\n",
      "EX_ch4_e methane exchange\n",
      "CH4tex methane transport via diffusion (extracellular to periplasm)\n",
      "PMMOipp particulate Methane Monooxygenase\n",
      "PMMODCipp particulate Methane Monooxygenase - Direct Coupling\n",
      "ALDD1 ALDD1\n",
      "N2trpp Nitrogen exchange, diffusion (periplasm)\n",
      "N2tex Nitrogen exchange, diffusion (extra-organism to periplasm)\n",
      "EX_n2_e N2 exchange\n",
      "EX_no2_e nitrite exchange\n",
      "NO2tex nitrite transport via diffusion (extracellular to periplasm)\n",
      "SAMMOi soluble ammonia monooxygenase\n",
      "NO3t7pp Nitrate transport in via nitrite antiport (periplasm)\n",
      "PAMMOipp particulate ammonia monooxygenase\n",
      "HAMtpp Diffusion Hydroxylamine between Periplasm and Cytosol\n",
      "CYP460ipp Cytochrome P460 - Hydroxylamine Dehydrogenase\n",
      "HAORipp Hydroxylamine oxydoreductase\n",
      "NO2tpp Diffusion Hydroxylamine between Periplasm and Cytosol\n",
      "NORZ2pp Nitric oxide reductase (cytochrome c)\n",
      "NIT_mc Nitrogenase\n"
     ]
    }
   ],
   "source": [
    "for reaction in reactions_without_subsystems:\n",
    "    print(reaction.id, reaction.name)"
   ]
  },
  {
   "cell_type": "code",
   "execution_count": 210,
   "metadata": {
    "ExecuteTime": {
     "end_time": "2020-01-02T07:08:47.825148Z",
     "start_time": "2020-01-02T07:08:47.808571Z"
    }
   },
   "outputs": [
    {
     "name": "stdout",
     "output_type": "stream",
     "text": [
      "PPC phosphoenolpyruvate carboxylase\n",
      "GLYCK2 glycerate kinase\n",
      "ENO enolase\n",
      "GHMT2r serine hydroxymethyltransferase\n",
      "MDH malate dehydrogenase\n",
      "GLYD hydroxypyruvate reductase\n"
     ]
    }
   ],
   "source": [
    "for reaction in model_OB3b.reactions:\n",
    "    if \"serine cycle\" in reaction.subsystem:\n",
    "        print(reaction.id, reaction.name)"
   ]
  },
  {
   "cell_type": "code",
   "execution_count": 211,
   "metadata": {
    "ExecuteTime": {
     "end_time": "2020-01-02T07:08:51.410879Z",
     "start_time": "2020-01-02T07:08:51.402281Z"
    }
   },
   "outputs": [
    {
     "data": {
      "text/html": [
       "\n",
       "        <table>\n",
       "            <tr>\n",
       "                <td><strong>Reaction identifier</strong></td><td>3HAD120</td>\n",
       "            </tr><tr>\n",
       "                <td><strong>Name</strong></td><td>3_hydroxyacyl__acyl_carrier_protein__dehydratase__n_12_0_</td>\n",
       "            </tr><tr>\n",
       "                <td><strong>Memory address</strong></td>\n",
       "                <td>0x07f54e91eba58</td>\n",
       "            </tr><tr>\n",
       "                <td><strong>Stoichiometry</strong></td>\n",
       "                <td>\n",
       "                    <p style='text-align:right'>3hddecACP_c <=> h2o_c + tddec2eACP_c</p>\n",
       "                    <p style='text-align:right'>3R__3_hydroxydodecanoyl__acyl_carrier_protein_ <=> H2O + trans_dodec_2_enoyl__acyl_carrier_protein_</p>\n",
       "                </td>\n",
       "            </tr><tr>\n",
       "                <td><strong>GPR</strong></td><td>CQW49_RS00475</td>\n",
       "            </tr><tr>\n",
       "                <td><strong>Lower bound</strong></td><td>-1000.0</td>\n",
       "            </tr><tr>\n",
       "                <td><strong>Upper bound</strong></td><td>1000.0</td>\n",
       "            </tr>\n",
       "        </table>\n",
       "        "
      ],
      "text/plain": [
       "<Reaction 3HAD120 at 0x7f54e91eba58>"
      ]
     },
     "execution_count": 211,
     "metadata": {},
     "output_type": "execute_result"
    }
   ],
   "source": [
    "model_OB3b_2.reactions.get_by_id(\"3HAD120\")"
   ]
  },
  {
   "cell_type": "markdown",
   "metadata": {},
   "source": [
    "### Manually assigning subsystems to the GEM:"
   ]
  },
  {
   "cell_type": "markdown",
   "metadata": {},
   "source": [
    "To be done in another script"
   ]
  },
  {
   "cell_type": "markdown",
   "metadata": {},
   "source": [
    "# Look at electron transport chain:"
   ]
  },
  {
   "cell_type": "code",
   "execution_count": null,
   "metadata": {
    "ExecuteTime": {
     "end_time": "2020-01-02T00:58:36.012323Z",
     "start_time": "2020-01-02T00:58:24.058Z"
    }
   },
   "outputs": [],
   "source": [
    "for reaction in model_OB3b.reactions:\n",
    "    if \"transhydrogenase\" in reaction.name:\n",
    "        print(reaction.id, reaction.name)"
   ]
  },
  {
   "cell_type": "markdown",
   "metadata": {},
   "source": [
    "Free interconversion between NADH and NADPH:"
   ]
  },
  {
   "cell_type": "code",
   "execution_count": null,
   "metadata": {
    "ExecuteTime": {
     "end_time": "2020-01-02T00:58:36.014579Z",
     "start_time": "2020-01-02T00:58:24.073Z"
    }
   },
   "outputs": [],
   "source": [
    "model_OB3b.reactions.THD2pp"
   ]
  },
  {
   "cell_type": "markdown",
   "metadata": {},
   "source": [
    "# Add nitrogen metabolism to the GEM:\n",
    "Adapt nitrogen metabolism from iMsOB3b GEM:\n",
    "<br> Note: Ammonia assimilation has been already fixed\n",
    "<br> Note2 iMsOB3b refers to GEM that I used previously to reconstruct"
   ]
  },
  {
   "cell_type": "code",
   "execution_count": null,
   "metadata": {
    "ExecuteTime": {
     "end_time": "2020-01-02T00:58:36.016126Z",
     "start_time": "2020-01-02T00:58:24.082Z"
    }
   },
   "outputs": [],
   "source": [
    "iMsOB3b =cobra.io.load_json_model(memote_directory + draft_gems_dir_8 + \"iMsOB3b_11_14_2019.json\")"
   ]
  },
  {
   "cell_type": "code",
   "execution_count": 47,
   "metadata": {
    "ExecuteTime": {
     "end_time": "2020-01-02T01:51:22.375360Z",
     "start_time": "2020-01-02T01:51:21.198188Z"
    }
   },
   "outputs": [],
   "source": [
    "model_Bath = cobra.io.load_json_model(models_directory + \"iMcBath.json\")"
   ]
  },
  {
   "cell_type": "code",
   "execution_count": null,
   "metadata": {
    "ExecuteTime": {
     "end_time": "2020-01-02T00:58:36.018980Z",
     "start_time": "2020-01-02T00:58:24.100Z"
    }
   },
   "outputs": [],
   "source": [
    "model_OB3b.summary()"
   ]
  },
  {
   "cell_type": "markdown",
   "metadata": {},
   "source": [
    "Adapt reactions for ammonia oxidation and nitrate reduction:\n",
    "- Think about compartments and consistency of reactions between models. The difference between Bath and AM1 gem is the comparment localization of quinone (im in Bath GEM, and c in model_AM1)\n",
    "- Think whether all relevant exchanges are added\n",
    "- Think how the flux goes through different modes of methane oxidation (later)\n",
    "- 2 strategies: 1) the nature of electron donor is unknown;\n",
    "2) the nature of electron donor is adapted from Methylococcus capsulatus Bath GEM"
   ]
  },
  {
   "cell_type": "code",
   "execution_count": null,
   "metadata": {
    "ExecuteTime": {
     "end_time": "2020-01-02T00:58:36.021090Z",
     "start_time": "2020-01-02T00:58:24.112Z"
    }
   },
   "outputs": [],
   "source": [
    "nitrogen_metabolism = ['PAMMOipp', 'SAMMOi', 'HAMtpp', 'CYP460ipp', 'HAORipp', 'NO2tpp', 'NO3t7pp', \n",
    "                       'NO3R1', 'NITR_AMpp','NTRIR2y', 'NTRIR2x', 'NORZ2pp', 'NIT_mc']"
   ]
  },
  {
   "cell_type": "code",
   "execution_count": null,
   "metadata": {
    "ExecuteTime": {
     "end_time": "2020-01-02T00:58:36.022374Z",
     "start_time": "2020-01-02T00:58:24.120Z"
    }
   },
   "outputs": [],
   "source": [
    "for reaction_id in nitrogen_metabolism:\n",
    "    print(model_Bath.reactions.get_by_id(reaction_id))"
   ]
  },
  {
   "cell_type": "markdown",
   "metadata": {},
   "source": [
    "Change all ficytcc555_p and focytcc555_p to compatible cytochromes (ficytc_c and focytc_c respectively); and q8h2_im (qh2_c) and q8_im (q_c):"
   ]
  },
  {
   "cell_type": "code",
   "execution_count": null,
   "metadata": {
    "ExecuteTime": {
     "end_time": "2020-01-02T00:58:36.023668Z",
     "start_time": "2020-01-02T00:58:24.129Z"
    }
   },
   "outputs": [],
   "source": [
    "for reaction in model_OB3b.metabolites.fdxox_c.reactions:\n",
    "    print(reaction.id, reaction.name, reaction.reaction)"
   ]
  },
  {
   "cell_type": "markdown",
   "metadata": {},
   "source": [
    "fdxrd_c and fdxox_c is the same in both GEMs:"
   ]
  },
  {
   "cell_type": "code",
   "execution_count": null,
   "metadata": {
    "ExecuteTime": {
     "end_time": "2020-01-02T00:58:36.025214Z",
     "start_time": "2020-01-02T00:58:24.138Z"
    }
   },
   "outputs": [],
   "source": [
    "print(model_OB3b.metabolites.fdxrd_c) #fdxrd_c in model_Bath\n",
    "print(model_OB3b.metabolites.fdxox_c) #fdxox_c in model_Bath"
   ]
  },
  {
   "cell_type": "markdown",
   "metadata": {},
   "source": [
    "Adapt these reactions from iMsBath GEM:"
   ]
  },
  {
   "cell_type": "code",
   "execution_count": null,
   "metadata": {
    "ExecuteTime": {
     "end_time": "2020-01-02T00:58:36.026786Z",
     "start_time": "2020-01-02T00:58:24.145Z"
    }
   },
   "outputs": [],
   "source": [
    "print(iMsOB3b.reactions.SAMMOi.reaction, iMsOB3b.reactions.SAMMOi.bounds)\n",
    "print(iMsOB3b.reactions.NO3t7pp.reaction, iMsOB3b.reactions.NO3t7pp.bounds)\n",
    "iMsOB3b.reactions.NO3R1.reaction = \"no3_c + qh2_c --> h2o_c + no2_c + q_c\"\n",
    "print(iMsOB3b.reactions.NO3R1.reaction, iMsOB3b.reactions.NO3R1.bounds)\n",
    "iMsOB3b.reactions.NITR_NOpp.reaction = \"focytc_c + 2.0 h_c + no2_c --> ficytc_c + h2o_c + no_c\"\n",
    "print(iMsOB3b.reactions.NITR_NOpp.reaction, iMsOB3b.reactions.NITR_NOpp.bounds)\n",
    "iMsOB3b.reactions.NITR_AMpp.reaction = \"6.0 focytc_c + 8.0 h_c + no2_c --> 6.0 ficytc_c + 2.0 h2o_c + nh4_c\"\n",
    "print(iMsOB3b.reactions.NITR_AMpp.reaction, iMsOB3b.reactions.NITR_AMpp.bounds)\n",
    "print(iMsOB3b.reactions.NTRIR2y.reaction, iMsOB3b.reactions.NTRIR2y.bounds)\n",
    "print(iMsOB3b.reactions.NTRIR2x.reaction, iMsOB3b.reactions.NTRIR2x.bounds)"
   ]
  },
  {
   "cell_type": "markdown",
   "metadata": {},
   "source": [
    "Adapt these reactions from model_Bath:\n",
    "<br> Note: NORZ2pp\n",
    "name: Nitric oxide reductase (cytochrome c) is disconnected from the system in model_Bath. Therefore, it is knocked out in model_Bath"
   ]
  },
  {
   "cell_type": "code",
   "execution_count": null,
   "metadata": {
    "ExecuteTime": {
     "end_time": "2020-01-02T00:58:36.028453Z",
     "start_time": "2020-01-02T00:58:24.153Z"
    }
   },
   "outputs": [],
   "source": [
    "model_Bath.reactions.PAMMOipp.reaction = \"nh4_p + o2_p + qh2_c --> h2o_p + h_p + ham_p + q_c\"\n",
    "print(model_Bath.reactions.PAMMOipp.reaction, model_Bath.reactions.PAMMOipp.bounds)\n",
    "print(model_Bath.reactions.HAMtpp.reaction, model_Bath.reactions.HAMtpp.bounds)\n",
    "model_Bath.reactions.CYP460ipp.reaction = '2.0 ficytc_c + h2o_p + ham_p --> 2.0 focytc_c + 5.0 h_p + no2_p'\n",
    "print(model_Bath.reactions.CYP460ipp.reaction, model_Bath.reactions.CYP460ipp.bounds)\n",
    "model_Bath.reactions.HAORipp.reaction = '2.0 ficytc_c + h2o_p + ham_p --> 2.0 focytc_c + 5.0 h_p + no2_p'\n",
    "print(model_Bath.reactions.HAORipp.reaction, model_Bath.reactions.HAORipp.bounds)\n",
    "print(model_Bath.reactions.NO2tpp.reaction, model_Bath.reactions.NO2tpp.bounds)\n",
    "model_Bath.reactions.NORZ2pp.reaction = \"2.0 focytc_c + 2.0 h_p + 2.0 no_p --> 2.0 ficytc_c + h2o_p + n2o_p\"\n",
    "print(model_Bath.reactions.NORZ2pp.reaction, model_Bath.reactions.NORZ2pp.bounds)"
   ]
  },
  {
   "cell_type": "markdown",
   "metadata": {},
   "source": [
    "Check model_OB3b for the presence of metabolites essential for nitrogen metabolism. Knock out these reactions to adapt metabolism from model_Bath completely:"
   ]
  },
  {
   "cell_type": "code",
   "execution_count": null,
   "metadata": {
    "ExecuteTime": {
     "end_time": "2020-01-02T00:58:36.030262Z",
     "start_time": "2020-01-02T00:58:24.162Z"
    }
   },
   "outputs": [],
   "source": [
    "print(model_OB3b.metabolites.nh4_c.reactions)\n",
    "#print(model_OB3b.metabolites.nh3_c) #nh3 not present\n",
    "#print(model_OB3b.metabolites.ham_c) not present\n",
    "print(model_OB3b.metabolites.no2_c.reactions)\n",
    "print(model_OB3b.metabolites.no2_p.reactions)\n",
    "print(model_OB3b.metabolites.no3_p.reactions)\n",
    "print(model_OB3b.metabolites.no3_c.reactions)\n",
    "#print(model_OB3b.metabolites.n2_c.reactions)\n",
    "#print(model_OB3b.metabolites.n2_p.reactions)"
   ]
  },
  {
   "cell_type": "code",
   "execution_count": null,
   "metadata": {
    "ExecuteTime": {
     "end_time": "2020-01-02T00:58:36.031619Z",
     "start_time": "2020-01-02T00:58:24.169Z"
    }
   },
   "outputs": [],
   "source": [
    "for reaction in model_OB3b.metabolites.nh4_c.reactions:\n",
    "    if \"Biomass\" in reaction.id:\n",
    "        pass\n",
    "    else:\n",
    "        print(reaction.name, reaction)"
   ]
  },
  {
   "cell_type": "markdown",
   "metadata": {},
   "source": [
    "Glutamate synthase in type II methanotrophs is NADH-dependent:"
   ]
  },
  {
   "cell_type": "code",
   "execution_count": null,
   "metadata": {
    "ExecuteTime": {
     "end_time": "2020-01-02T00:58:36.032867Z",
     "start_time": "2020-01-02T00:58:24.180Z"
    }
   },
   "outputs": [],
   "source": [
    "model_OB3b.reactions.GLUDy.reaction = 'akg_c + h_c + nadh_c + nh4_c --> glu_L_c + h2o_c + nad_c'\n",
    "model_OB3b.reactions.GLUDy.id = \"GLUD\""
   ]
  },
  {
   "cell_type": "code",
   "execution_count": null,
   "metadata": {
    "ExecuteTime": {
     "end_time": "2020-01-02T00:58:36.034124Z",
     "start_time": "2020-01-02T00:58:24.186Z"
    }
   },
   "outputs": [],
   "source": [
    "model_OB3b.reactions.NTRIR4.knock_out()"
   ]
  },
  {
   "cell_type": "code",
   "execution_count": null,
   "metadata": {
    "ExecuteTime": {
     "end_time": "2020-01-02T00:58:36.035785Z",
     "start_time": "2020-01-02T00:58:24.197Z"
    }
   },
   "outputs": [],
   "source": [
    "model_OB3b.reactions.NO3Rpp.knock_out()"
   ]
  },
  {
   "cell_type": "code",
   "execution_count": null,
   "metadata": {
    "ExecuteTime": {
     "end_time": "2020-01-02T00:58:36.037181Z",
     "start_time": "2020-01-02T00:58:24.204Z"
    }
   },
   "outputs": [],
   "source": [
    "model_OB3b.reactions.NODOy.knock_out()"
   ]
  },
  {
   "cell_type": "code",
   "execution_count": null,
   "metadata": {
    "ExecuteTime": {
     "end_time": "2020-01-02T00:58:36.038468Z",
     "start_time": "2020-01-02T00:58:24.211Z"
    }
   },
   "outputs": [],
   "source": [
    "model_OB3b.reactions.NO3Ras.knock_out()"
   ]
  },
  {
   "cell_type": "markdown",
   "metadata": {},
   "source": [
    "Check exchange reactions for nitrogen metabolism in OB3b:\n",
    "NH4+ (ammonium), nitrate (NO3), N2 (molecular nitrogen)."
   ]
  },
  {
   "cell_type": "code",
   "execution_count": null,
   "metadata": {
    "ExecuteTime": {
     "end_time": "2020-01-02T00:58:36.039766Z",
     "start_time": "2020-01-02T00:58:24.219Z"
    }
   },
   "outputs": [],
   "source": [
    "model_OB3b.metabolites.nh4_c.summary()"
   ]
  },
  {
   "cell_type": "code",
   "execution_count": null,
   "metadata": {
    "ExecuteTime": {
     "end_time": "2020-01-02T00:58:36.040919Z",
     "start_time": "2020-01-02T00:58:24.225Z"
    },
    "scrolled": true
   },
   "outputs": [],
   "source": [
    "print(model_OB3b.metabolites.nh4_e.reactions)\n",
    "print(model_OB3b.metabolites.nh4_p.reactions)\n",
    "print(model_OB3b.metabolites.no3_e.reactions)\n",
    "print(model_OB3b.metabolites.no3_p.reactions)\n",
    "print(model_OB3b.metabolites.n2_e.reactions) #was missing, added this reaction\n",
    "print(model_OB3b.metabolites.n2_p.reactions) #was missing, added this reaction\n",
    "print(model_OB3b.metabolites.no2_e.reactions) #was missing, added\n",
    "print(model_OB3b.metabolites.no2_p.reactions) #was missing, added"
   ]
  },
  {
   "cell_type": "code",
   "execution_count": null,
   "metadata": {
    "ExecuteTime": {
     "end_time": "2020-01-02T00:58:36.042234Z",
     "start_time": "2020-01-02T00:58:24.233Z"
    }
   },
   "outputs": [],
   "source": [
    "model_Bath.reactions.EX_no2_e  #NO2tex"
   ]
  },
  {
   "cell_type": "code",
   "execution_count": null,
   "metadata": {
    "ExecuteTime": {
     "end_time": "2020-01-02T00:58:36.043590Z",
     "start_time": "2020-01-02T00:58:24.239Z"
    }
   },
   "outputs": [],
   "source": [
    "for reaction in model_Bath.metabolites.no2_p.reactions:\n",
    "    print(reaction.name, reaction)"
   ]
  },
  {
   "cell_type": "code",
   "execution_count": null,
   "metadata": {
    "ExecuteTime": {
     "end_time": "2020-01-02T00:58:36.044856Z",
     "start_time": "2020-01-02T00:58:24.245Z"
    }
   },
   "outputs": [],
   "source": [
    "model_OB3b.add_reaction(model_Bath.reactions.N2trpp)\n",
    "model_OB3b.add_reaction(model_Bath.reactions.N2tex)\n",
    "model_OB3b.add_reaction(model_Bath.reactions.EX_n2_e)\n",
    "model_OB3b.add_reaction(model_Bath.reactions.EX_no2_e)\n",
    "model_OB3b.add_reaction(model_Bath.reactions.NO2tex)"
   ]
  },
  {
   "cell_type": "markdown",
   "metadata": {},
   "source": [
    "Themethanotrophic isolates,Methylococcus capsulatus strain Bath and Methylosinus trichosporium strain OB3b, have the abilityto generate N2O from the oxidation of hydroxylamine(NH2OH), which is an obligate intermediate of aerobic cometabolism of NH3 by these bacteria (Sutkaet al., 2003, 2006). --> You really can use Bath nitrogen metabolism for your GEM.\n",
    "\n",
    "https://onlinelibrary.wiley.com/doi/pdf/10.1111/j.1574-6968.2011.02340.x"
   ]
  },
  {
   "cell_type": "markdown",
   "metadata": {},
   "source": [
    "Just noticed that glutamate synthase in type II methanotrophs is NADH-dependent (according to methanotrophs.org):"
   ]
  },
  {
   "cell_type": "code",
   "execution_count": null,
   "metadata": {
    "ExecuteTime": {
     "end_time": "2020-01-02T00:58:36.046164Z",
     "start_time": "2020-01-02T00:58:24.256Z"
    },
    "scrolled": true
   },
   "outputs": [],
   "source": [
    "model_OB3b.reactions.GLUDy.reaction = 'akg_c + h_c + nadh_c + nh4_c --> glu_L_c + h2o_c + nad_c'\n",
    "#model_OB3b.reactions.GLUDy.id = \"GLUD\""
   ]
  },
  {
   "cell_type": "markdown",
   "metadata": {},
   "source": [
    "## Add all model_Bath nitrogen metabolism reactions to OB3b:"
   ]
  },
  {
   "cell_type": "markdown",
   "metadata": {},
   "source": [
    "Adapt these reactions from iMsBath GEM:"
   ]
  },
  {
   "cell_type": "code",
   "execution_count": null,
   "metadata": {
    "ExecuteTime": {
     "end_time": "2020-01-02T00:58:36.047460Z",
     "start_time": "2020-01-02T00:58:24.265Z"
    }
   },
   "outputs": [],
   "source": [
    "iMsOB3b_adapted_reactions = [iMsOB3b.reactions.SAMMOi, iMsOB3b.reactions.NO3t7pp, iMsOB3b.reactions.NO3R1, \n",
    "                             iMsOB3b.reactions.NITR_NOpp, iMsOB3b.reactions.NITR_AMpp, \n",
    "                             iMsOB3b.reactions.NTRIR2y, iMsOB3b.reactions.NTRIR2x]"
   ]
  },
  {
   "cell_type": "markdown",
   "metadata": {},
   "source": [
    "Adapt these reactions from model_Bath:\n",
    "<br> Note: NORZ2pp\n",
    "name: Nitric oxide reductase (cytochrome c) is disconnected from the system in model_Bath. Therefore, it is knocked out in model_Bath"
   ]
  },
  {
   "cell_type": "code",
   "execution_count": null,
   "metadata": {
    "ExecuteTime": {
     "end_time": "2020-01-02T00:58:36.048606Z",
     "start_time": "2020-01-02T00:58:24.273Z"
    }
   },
   "outputs": [],
   "source": [
    "model_Bath_adapted_reactions = [model_Bath.reactions.PAMMOipp, model_Bath.reactions.HAMtpp, \n",
    "                                model_Bath.reactions.CYP460ipp, model_Bath.reactions.HAORipp, \n",
    "                                model_Bath.reactions.NO2tpp, model_Bath.reactions.NORZ2pp]"
   ]
  },
  {
   "cell_type": "code",
   "execution_count": null,
   "metadata": {
    "ExecuteTime": {
     "end_time": "2020-01-02T00:58:36.049868Z",
     "start_time": "2020-01-02T00:58:24.279Z"
    }
   },
   "outputs": [],
   "source": [
    "for reaction in iMsOB3b_adapted_reactions:\n",
    "    model_OB3b.add_reaction(reaction)\n",
    "for reaction in model_Bath_adapted_reactions:\n",
    "    model_OB3b.add_reaction(reaction)\n",
    "model_OB3b.add_reaction(model_Bath.reactions.NIT_mc)"
   ]
  },
  {
   "cell_type": "markdown",
   "metadata": {},
   "source": [
    "Checking whether all nitrogen metabolism reactions have been added or not:"
   ]
  },
  {
   "cell_type": "code",
   "execution_count": null,
   "metadata": {
    "ExecuteTime": {
     "end_time": "2020-01-02T00:58:36.051177Z",
     "start_time": "2020-01-02T00:58:24.288Z"
    }
   },
   "outputs": [],
   "source": [
    "for reaction_id in nitrogen_metabolism:\n",
    "    print(model_OB3b.reactions.get_by_id(reaction_id))\n",
    "    #model_OB3b.add_reaction(model_Bath.reactions.get_by_id(reaction_id))"
   ]
  },
  {
   "cell_type": "markdown",
   "metadata": {},
   "source": [
    "Save nitrogen metabolism added OB3b-GEM:"
   ]
  },
  {
   "cell_type": "code",
   "execution_count": null,
   "metadata": {
    "ExecuteTime": {
     "end_time": "2020-01-02T00:58:36.052612Z",
     "start_time": "2020-01-02T00:58:24.298Z"
    }
   },
   "outputs": [],
   "source": [
    "draft_gems_dir_8 = 'draft_gems/8.OB3b_draft_gem_during_pathway_manual_curation/'\n",
    "cobra.io.save_json_model(model_OB3b, memote_directory + draft_gems_dir_8 + \"bigg_OB3b_24_12_2019.json\")"
   ]
  },
  {
   "cell_type": "markdown",
   "metadata": {},
   "source": [
    "## NH4 flux"
   ]
  },
  {
   "cell_type": "code",
   "execution_count": 48,
   "metadata": {
    "ExecuteTime": {
     "end_time": "2020-01-02T01:51:40.001646Z",
     "start_time": "2020-01-02T01:51:39.874401Z"
    },
    "scrolled": true
   },
   "outputs": [
    {
     "name": "stdout",
     "output_type": "stream",
     "text": [
      "IN FLUXES            OUT FLUXES     OBJECTIVES\n",
      "-------------------  -------------  -----------------------\n",
      "o2_e       6.41      h2o_e  7.39    Biomass_Mext...  0.0433\n",
      "ch4_e      4.08      co2_e  2.34\n",
      "nh4_e      0.461     no2_e  0.0368\n",
      "pi_e       0.0303\n",
      "k_e        0.00799\n",
      "so4_e      0.00273\n",
      "mg2_e      0.000357\n",
      "fe2_e      0.000348\n",
      "cl_e       0.000214\n",
      "ca2_e      0.000214\n",
      "na1_e      0.000176\n",
      "mobd_e     0.000153\n",
      "cu2_e      0.000143\n",
      "mn2_e      0.000143\n",
      "zn2_e      0.000143\n",
      "cobalt2_e  9.52e-06\n",
      "PRODUCING REACTIONS -- NH3 (nh4_c)\n",
      "----------------------------------\n",
      "%       FLUX  RXN ID    REACTION\n",
      "---  -------  --------  --------------------------------------------------\n",
      "98%  0.424    NH4tpp    h_p + nh4_p --> h_c + nh4_c\n",
      "2%   0.00904  THRD_L    thr_L_c --> 2obut_c + nh4_c\n",
      "\n",
      "CONSUMING REACTIONS -- NH3 (nh4_c)\n",
      "----------------------------------\n",
      "%       FLUX  RXN ID    REACTION\n",
      "---  -------  --------  --------------------------------------------------\n",
      "82%  0.353    GLUD      akg_c + h_c + nadh_c + nh4_c --> glu_L_c + h2o_...\n",
      "19%  0.0802   GLNS      atp_c + glu_L_c + nh4_c --> adp_c + gln_L_c + h...\n"
     ]
    }
   ],
   "source": [
    "with model_OB3b as model:\n",
    "    model.summary()\n",
    "    model.metabolites.nh4_c.summary()"
   ]
  },
  {
   "cell_type": "markdown",
   "metadata": {},
   "source": [
    "## NO3 flux"
   ]
  },
  {
   "cell_type": "code",
   "execution_count": null,
   "metadata": {
    "ExecuteTime": {
     "end_time": "2020-01-02T00:58:36.055270Z",
     "start_time": "2020-01-02T00:58:24.316Z"
    }
   },
   "outputs": [],
   "source": [
    "with model_OB3b as model:\n",
    "    model.reactions.EX_nh4_e.bounds = (0, 0)\n",
    "    model.reactions.EX_no3_e.bounds = (-1000,0)\n",
    "    model.summary()\n",
    "    model.metabolites.no3_c.summary()\n",
    "    model.metabolites.no2_c.summary()\n",
    "    model.metabolites.nh4_c.summary()"
   ]
  },
  {
   "cell_type": "markdown",
   "metadata": {},
   "source": [
    "## N2 flux\n",
    "\n",
    "There is a problem with nitrogen metabolism that I have to fix. I have to thing about it."
   ]
  },
  {
   "cell_type": "code",
   "execution_count": null,
   "metadata": {
    "ExecuteTime": {
     "end_time": "2020-01-02T00:58:36.056682Z",
     "start_time": "2020-01-02T00:58:24.324Z"
    },
    "scrolled": true
   },
   "outputs": [],
   "source": [
    "with model_OB3b as model:\n",
    "    model.reactions.EX_ch4_e.bounds = (-4.079, 0)\n",
    "    model.reactions.EX_nh4_e.bounds = (0, 0)\n",
    "    model.reactions.EX_no3_e.bounds = (0, 0)\n",
    "    model.reactions.EX_n2_e.bounds = (-1000, 0)\n",
    "    model.objective = \"NIT_mc\"\n",
    "    #model.reactions.NIT_mc.reaction = \"16.0 atp_c + 4.0 nadph_c + 16.0 h2o_c + n2_c --> 16.0 adp_c + 4.0 nadp_c + h2_c + 14.0 h_c + 2.0 nh4_c + 16.0 pi_c\"\n",
    "    model.reactions.NIT_mc.bounds = (0, 1000)\n",
    "    model.metabolites.n2_p.summary()\n",
    "    model.summary()\n",
    "    model_OB3b.reactions.ATPM.bounds = (0, 1000)\n",
    "    print(model.reactions.NIT_mc.flux)"
   ]
  },
  {
   "cell_type": "code",
   "execution_count": null,
   "metadata": {
    "ExecuteTime": {
     "end_time": "2020-01-02T00:58:36.058041Z",
     "start_time": "2020-01-02T00:58:24.332Z"
    }
   },
   "outputs": [],
   "source": [
    "model_OB3b.metabolites.n2_p"
   ]
  },
  {
   "cell_type": "code",
   "execution_count": null,
   "metadata": {
    "ExecuteTime": {
     "end_time": "2020-01-02T00:58:36.059296Z",
     "start_time": "2020-01-02T00:58:24.338Z"
    }
   },
   "outputs": [],
   "source": [
    "model_OB3b.reactions.N2trpp"
   ]
  },
  {
   "cell_type": "code",
   "execution_count": null,
   "metadata": {
    "ExecuteTime": {
     "end_time": "2020-01-02T00:58:36.060875Z",
     "start_time": "2020-01-02T00:58:24.345Z"
    }
   },
   "outputs": [],
   "source": [
    "with model_Bath as model:\n",
    "    #model.reactions.EX_ch4_e.bounds = (-4.079, 0)\n",
    "    model.reactions.EX_nh4_e.bounds = (0, 0)\n",
    "    model.reactions.EX_no3_e.bounds = (0, 0)\n",
    "    model.reactions.EX_n2_e.bounds = (-1000, 0)\n",
    "    model.reactions.NIT_mc.bounds = (0, 1000)\n",
    "    model.metabolites.n2_p.summary()\n",
    "    model.summary()"
   ]
  },
  {
   "cell_type": "code",
   "execution_count": null,
   "metadata": {
    "ExecuteTime": {
     "end_time": "2020-01-02T00:58:36.062185Z",
     "start_time": "2020-01-02T00:58:24.352Z"
    }
   },
   "outputs": [],
   "source": [
    "with model_Bath as model:\n",
    "    model.objective = \"NIT_mc\"\n",
    "    print(model.reactions.NIT_mc.bounds)"
   ]
  },
  {
   "cell_type": "code",
   "execution_count": null,
   "metadata": {
    "ExecuteTime": {
     "end_time": "2020-01-02T00:58:36.063417Z",
     "start_time": "2020-01-02T00:58:24.358Z"
    }
   },
   "outputs": [],
   "source": [
    "model_Bath.reactions.NIT_mc"
   ]
  },
  {
   "cell_type": "code",
   "execution_count": null,
   "metadata": {
    "ExecuteTime": {
     "end_time": "2020-01-02T00:58:36.064602Z",
     "start_time": "2020-01-02T00:58:24.366Z"
    }
   },
   "outputs": [],
   "source": [
    "model_Bath.metabolites.n2_c"
   ]
  },
  {
   "cell_type": "code",
   "execution_count": null,
   "metadata": {
    "ExecuteTime": {
     "end_time": "2020-01-02T00:58:36.065765Z",
     "start_time": "2020-01-02T00:58:24.373Z"
    }
   },
   "outputs": [],
   "source": [
    "model.reactions.EX_o2_e"
   ]
  },
  {
   "cell_type": "code",
   "execution_count": null,
   "metadata": {
    "ExecuteTime": {
     "end_time": "2020-01-02T00:58:36.066994Z",
     "start_time": "2020-01-02T00:58:24.380Z"
    }
   },
   "outputs": [],
   "source": [
    "model.reactions.NIT_mc"
   ]
  },
  {
   "cell_type": "code",
   "execution_count": null,
   "metadata": {
    "ExecuteTime": {
     "end_time": "2020-01-02T00:58:36.068295Z",
     "start_time": "2020-01-02T00:58:24.387Z"
    }
   },
   "outputs": [],
   "source": [
    "model_OB3b.metabolites.fdxrd_c.summary()"
   ]
  },
  {
   "cell_type": "markdown",
   "metadata": {},
   "source": [
    "# Cofactors:"
   ]
  },
  {
   "cell_type": "code",
   "execution_count": null,
   "metadata": {
    "ExecuteTime": {
     "end_time": "2020-01-02T00:58:36.069583Z",
     "start_time": "2020-01-02T00:58:24.395Z"
    }
   },
   "outputs": [],
   "source": [
    "model = model_OB3b"
   ]
  },
  {
   "cell_type": "code",
   "execution_count": null,
   "metadata": {
    "ExecuteTime": {
     "end_time": "2020-01-02T00:58:36.071401Z",
     "start_time": "2020-01-02T00:58:24.403Z"
    }
   },
   "outputs": [],
   "source": [
    "q_reactions = [rxn for rxn in model.metabolites.q_c.reactions if rxn.reversibility or model.metabolites.q_c in rxn.products]"
   ]
  },
  {
   "cell_type": "code",
   "execution_count": null,
   "metadata": {
    "ExecuteTime": {
     "end_time": "2020-01-02T00:58:36.072797Z",
     "start_time": "2020-01-02T00:58:24.410Z"
    }
   },
   "outputs": [],
   "source": [
    "nadh_reactions"
   ]
  },
  {
   "cell_type": "code",
   "execution_count": null,
   "metadata": {
    "ExecuteTime": {
     "end_time": "2020-01-02T00:58:36.073953Z",
     "start_time": "2020-01-02T00:58:24.422Z"
    }
   },
   "outputs": [],
   "source": [
    "model_OB3b.reactions.CYOD"
   ]
  },
  {
   "cell_type": "code",
   "execution_count": 334,
   "metadata": {
    "ExecuteTime": {
     "end_time": "2020-01-03T04:46:04.800970Z",
     "start_time": "2020-01-03T04:46:04.796472Z"
    }
   },
   "outputs": [],
   "source": [
    "qh2_reactions = [rxn for rxn in model.metabolites.qh2_c.reactions if rxn.reversibility or model.metabolites.qh2_c in rxn.products]"
   ]
  },
  {
   "cell_type": "code",
   "execution_count": 335,
   "metadata": {
    "ExecuteTime": {
     "end_time": "2020-01-03T04:46:05.288587Z",
     "start_time": "2020-01-03T04:46:05.284258Z"
    }
   },
   "outputs": [
    {
     "data": {
      "text/plain": [
       "[<Reaction DMQMT2 at 0x7f54c88e9828>,\n",
       " <Reaction PHOTOSYS1C at 0x7f54c7f416a0>,\n",
       " <Reaction ETFDH at 0x7f54d5a53ef0>,\n",
       " <Reaction NADH11 at 0x7f54c7ba6b38>,\n",
       " <Reaction SUCCD1 at 0x7f54c94151d0>]"
      ]
     },
     "execution_count": 335,
     "metadata": {},
     "output_type": "execute_result"
    }
   ],
   "source": [
    "qh2_reactions"
   ]
  },
  {
   "cell_type": "code",
   "execution_count": null,
   "metadata": {
    "ExecuteTime": {
     "end_time": "2020-01-02T00:58:36.078190Z",
     "start_time": "2020-01-02T00:58:24.451Z"
    }
   },
   "outputs": [],
   "source": [
    "model_OB3b.reactions.PMMOipp"
   ]
  },
  {
   "cell_type": "code",
   "execution_count": 336,
   "metadata": {
    "ExecuteTime": {
     "end_time": "2020-01-03T04:46:44.417660Z",
     "start_time": "2020-01-03T04:46:44.404032Z"
    }
   },
   "outputs": [
    {
     "name": "stdout",
     "output_type": "stream",
     "text": [
      "ubiquinol cytochrome c reductase UQCYOR_2p: 2.0 ficytc_c + qh2_c --> 2.0 focytc_c + 2.0 h_p + q_c\n",
      "3 demethylubiquinone 8 3 O methyltransferase DMQMT2: amet_c + dmuqh2_c --> ahcys_c + h_c + qh2_c\n",
      "cytochrome d terminal oxidase CYOD: 4.0 h_c + o2_c + 2.0 qh2_c --> 2.0 h2o_c + 4.0 h_p + 2.0 q_c\n",
      "photosystem I cyclic PHOTOSYS1C: 2.0 fdxrd_c + 2.0 h_c + q_c --> 2.0 fdxox_c + qh2_c\n",
      "cytochrome o ubiquinol oxidase CYOO_4p: 4.0 h_c + 0.5 o2_c + qh2_c --> h2o_c + 4.0 h_p + q_c\n",
      "ETF dehydrogenase ETFDH: q_c + rETF_c <=> oxETF_c + qh2_c\n",
      "Methylobacterium extorquens strain AM1 core biomass equation Biomass_Mextorquens_AM1_core: 0.034671 14bglu_c + 0.033189 acgam_c + 0.0002196 adocbl_c + 1.1034 alatrna_c + 0.0002196 amet_c + 0.00078936 amp_c + 0.24101 argtrna_c + 0.24971 asntrna_c + 0.24779 asptrna_c + 53.82276 atp_c + 0.0002196 btn_c + 0.00495 ca2_c + 0.00495 cl_c + 0.0002196 coa_c + 0.086994 ctp_c + 0.0033 cu2_c + 0.00097594 cystrna_c + 0.015288 datp_c + 0.033249 dctp_c + 0.033249 dgtp_c + 0.0001 dpundcpGlcNacMurNacpentpept_c + 6.036e-05 dtpcudcpp_c + 0.015288 dttp_c + 0.0002196 fad_c + 0.00737 fe2_c + 0.0002196 fmn_c + 0.2774 glntrna_c + 0.27528 glutrna_c + 1.1725 glytrna_c + 0.0002196 gthrd_c + 0.086994 gtp_c + 53.70035 h2o_c + 0.00033 h4mpt_c + 0.0002196 hemeD_c + 0.0002196 hemeO_c + 0.067763 histrna_c + 0.20857 iletrna_c + 0.18447 k_c + 0.0001 kdo2lipid4L_c + 0.39695 leutrna_c + 0.25754 lystrna_c + 0.056309 mettrna_c + 0.00825 mg2_c + 0.0033 mn2_c + 0.0033 mobd_c + 0.0002196 mocogdp_c + 0.00407 na1_c + 0.0027535 nad_c + 0.0016711 nadh_c + 0.00093984 nadp_c + 0.0015022 nadph_c + 0.01232 nh4_c + 0.27738 pbhb_c + 0.0022561 pe160_c + 0.002274 pe161_c + 0.0021774 pe180_c + 0.035412 pe181_c + 0.00099536 pg160_c + 0.0010032 pg161_c + 0.00096064 pg180_c + 0.015623 pg181_c + 0.13596 phetrna_c + 0.31084 protrna_c + 6.6355e-05 ps160_c + 6.6898e-05 ps161_c + 6.4038e-05 ps180_c + 0.0010415 ps181_c + 0.045376 ptrc_c + 0.0002196 pydx5p_c + 0.0002196 qh2_c + 0.61021 rmn_c + 0.3101 sertrna_c + 0.0002196 sheme_c + 0.00407 so4_c + 0.0003864 splxanth_c + 8.184e-05 thf_c + 0.0002196 thmpp_c + 0.30765 thrtrna_c + 0.035522 tre_c + 0.00060401 trptrna_c + 0.075485 tyrtrna_c + 0.040008 utp_c + 0.42003 valtrna_c + 0.0033 zn2_c --> 53.6983295 adp_c + 53.6983295 h_c + 53.69607 pi_c + 0.345915 ppi_c\n",
      "NADH ubiquinone oxidoreductase I NADH11: 5.0 h_c + nadh_c + q_c --> 4.0 h_p + nad_c + qh2_c\n",
      "particulate Methane Monooxygenase PMMOipp: ch4_p + o2_p + qh2_c --> h2o_p + meoh_p + q_c\n",
      "particulate ammonia monooxygenase PAMMOipp: nh4_p + o2_p + qh2_c --> h2o_p + h_p + ham_p + q_c\n",
      "nitrate reductase  periplasmic  NO3Rpp: no3_p + qh2_c --> h2o_p + no2_p + q_c\n",
      "Nitrate reductase (Ubiquinol-8) NO3R1: no3_c + qh2_c --> h2o_c + no2_c + q_c\n",
      "succinate dehydrogenase SUCCD1: q_c + succ_c <=> fum_c + qh2_c\n"
     ]
    }
   ],
   "source": [
    "for reaction in model_OB3b.metabolites.qh2_c.reactions:\n",
    "    print(reaction.name, reaction)"
   ]
  },
  {
   "cell_type": "code",
   "execution_count": 337,
   "metadata": {
    "ExecuteTime": {
     "end_time": "2020-01-03T04:46:46.988682Z",
     "start_time": "2020-01-03T04:46:46.975353Z"
    },
    "scrolled": true
   },
   "outputs": [
    {
     "name": "stdout",
     "output_type": "stream",
     "text": [
      "Ubiquinol-cytochrome c oxidoreductase Complex III CYOR_q8ppi: 2.0 ficytcc553_p + 2.0 h_c + q8h2_im --> 2.0 focytcc553_p + 4.0 h_p + q8_im\n",
      "Na(+)-translocating NADH-quinone - NQR NADHNQR2ipp: h_c + 2.0 na1_c + nadh_c + q8_im --> 2.0 na1_p + nad_c + q8h2_im\n",
      "particulate ammonia monooxygenase PAMMOipp: nh4_p + o2_p + q8h2_im --> h2o_p + h_p + ham_p + q8_im\n",
      "dye-linked formaldehyde dehydrogenase FALDDHipp: fald_c + h2o_c + q8_im --> for_c + h_c + q8h2_im\n",
      "particulate Methane Monooxygenase PMMOipp: ch4_p + o2_p + q8h2_im --> h2o_p + meoh_p + q8_im\n",
      "type-1 nadh:quinone oxidoreductase (H+-translocating) NADH16pp: 4.0 h_c + nadh_c + q8_im --> 3.0 h_p + nad_c + q8h2_im\n",
      "Nitrate reductase (Ubiquinol-8) NO3R1: no3_c + q8h2_im --> h2o_c + no2_c + q8_im\n",
      "3-Dimethylubiquinonol 3-methyltransferase DMQMT: 2omhmbl_c + amet_c --> ahcys_c + h_c + q8h2_im\n",
      "type-2 nadh:quinone oxidoreductase (non-electrogenic) NADH5ppi: h_c + nadh_c + q8_im --> nad_c + q8h2_im\n",
      "BIOMASS_REACTION BIOMASS_Mcapsulatus: 3e-06 2ddg6p_c + 0.006 2pg_c + 0.00015 6pgc_c + 0.0001 accoa_c + 6e-08 adocbl_c + 0.576 ala__L_c + 0.00022 amet_c + 0.254 arg__L_c + 0.119 asn__L_c + 0.468 asp__L_c + 23.11185589 atp_c + 0.06986377 ca2_c + 0.001 cit_c + 0.21438646 cl_c + 3.15904e-06 clpn_MC_c + 0.00022 coa_c + 5.769e-05 cobalt2_c + 0.002 colipa_e + 0.00186552 cpoa2h_c + 0.04425885 ctp_c + 0.00151072 cu2_c + 0.038 cys__L_c + 0.00866366 datp_c + 0.01571821 dctp_c + 0.01446787 dgtp_c + 0.01282849 dpterol_c + 0.00882698 dttp_c + 0.003 f6p_c + 0.00022 fad_c + 0.001 fdp_c + 0.0059 fe2_c + 0.00022 fmn_c + 0.00022 fmnh2_c + 0.001 fum_c + 0.003 g3p_c + 0.002 g6p_c + 0.24977798 glc__D_c + 0.15 gln__L_c + 0.519 glu__L_c + 0.484 gly_c + 0.001 glyc_R_c + 0.00022 gthrd_c + 0.04084668 gtp_c + 17.77579456 h2o_c + 0.01558994 hdca_c + 0.104 his__L_c + 0.00179858 hpdca_c + 0.242 ile__L_c + 0.00016652 inost_c + 0.17647826 k_c + 0.00515564 lanost_c + 0.415 leu__L_c + 0.277 lys__L_c + 0.004 mal__L_c + 0.13 met__L_c + 0.12343139 mg2_c + 1.8e-05 mn2_c + 0.03914785 na1_c + 0.00106469 nac_c + 0.002 nad_c + 0.002 nadh_c + 0.001 nadp_c + 0.001 nadph_c + 3.4e-05 ni2_c + 8.548e-05 ocdca_c + 0.00014349 ocdcea_c + 9.37385e-06 pc_MC_c + 9.134262e-05 pe_MC_c + 0.005 pep_c + 0.053 peptido_MC_c + 1.538077e-05 pg_MC_c + 0.185 phe__L_c + 0.00022 pheme_c + 0.248 pro__L_c + 0.00023422 ptdca_c + 0.015 pyr_c + 0.00022 q8h2_im + 0.00019396 ribflv_c + 0.001 ru5p_D_c + 0.246 ser__L_c + 0.01339118 sql_c + 0.002 succ_c + 2.865e-05 thmpp_c + 0.271 thr__L_c + 0.093 trp__L_c + 0.0014565 ttdca_c + 0.00017921 ttdcea_c + 0.132 tyr__L_c + 0.02560771 utp_c + 0.36 val__L_c + 0.001 zn2_c --> 23.08742079 adp_c + 23.08742079 h_c + 22.88736056 pi_c + 0.18282505 ppi_c\n"
     ]
    }
   ],
   "source": [
    "for reaction in model_Bath.metabolites.q8h2_im.reactions:\n",
    "    print(reaction.name, reaction)"
   ]
  },
  {
   "cell_type": "markdown",
   "metadata": {},
   "source": [
    "ficytcc555_p and ficytcc553_p strategy application:\n",
    "\n",
    "Bath reactions with ficytc555_p:\n",
    "1. MEOHDHipp\n",
    "2. CYP460ipp\n",
    "3. HAORipp\n",
    "4. PMMODCipp\n",
    "I call ficytc555_p as ficytc555_c\n",
    "\n",
    "Other reactions should be with ficytc553_p:\n",
    "1. Let me call ficytc553_p ficytc_c"
   ]
  },
  {
   "cell_type": "code",
   "execution_count": null,
   "metadata": {
    "ExecuteTime": {
     "end_time": "2020-01-02T00:58:36.086631Z",
     "start_time": "2020-01-02T00:58:24.501Z"
    }
   },
   "outputs": [],
   "source": [
    "ficytc555_p_reactions = [\"MEOHDH\", \"CYP460ipp\", \"HAORipp\", \"PMMODCipp\"]"
   ]
  },
  {
   "cell_type": "code",
   "execution_count": null,
   "metadata": {
    "ExecuteTime": {
     "end_time": "2020-01-02T00:58:36.088108Z",
     "start_time": "2020-01-02T00:58:24.508Z"
    }
   },
   "outputs": [],
   "source": [
    "for reaction_id in ficytc555_p_reactions:\n",
    "    print(model_OB3b.reactions.get_by_id(reaction_id))\n",
    "    \n",
    "model_OB3b.reactions.MEOHDH.reaction = \"2.0 ficytc555_c + meoh_p --> fald_p + 2.0 focytcc555_c + 2.0 h_p\"\n",
    "model_OB3b.reactions.CYP460ipp.reaction = \"2.0 ficytc555_c + h2o_p + ham_p --> 2.0 focytcc555_c + 5.0 h_p + no2_p\"\n",
    "model_OB3b.reactions.HAORipp.reaction = \"2.0 ficytc555_c + h2o_p + ham_p --> 2.0 focytcc555_c + 5.0 h_p + no2_p\"\n",
    "model_OB3b.reactions.PMMODCipp.reaction = \"ch4_p + 2.0 focytcc555_c + 2.0 h_p + o2_p --> 2.0 ficytc555_c + h2o_p + meoh_p\" "
   ]
  },
  {
   "cell_type": "code",
   "execution_count": null,
   "metadata": {
    "ExecuteTime": {
     "end_time": "2020-01-02T00:58:36.089311Z",
     "start_time": "2020-01-02T00:58:24.516Z"
    }
   },
   "outputs": [],
   "source": [
    "model_OB3b.add_reaction(model_Bath.reactions.CyLCyHORpp)"
   ]
  },
  {
   "cell_type": "code",
   "execution_count": null,
   "metadata": {
    "ExecuteTime": {
     "end_time": "2020-01-02T00:58:36.090643Z",
     "start_time": "2020-01-02T00:58:24.523Z"
    }
   },
   "outputs": [],
   "source": [
    "model_Bath.reactions.CyLCyHORpp.reaction"
   ]
  },
  {
   "cell_type": "code",
   "execution_count": null,
   "metadata": {
    "ExecuteTime": {
     "end_time": "2020-01-02T00:58:36.091972Z",
     "start_time": "2020-01-02T00:58:24.530Z"
    }
   },
   "outputs": [],
   "source": [
    "model_OB3b.reactions.CyLCyHORpp.reaction = \"ficytc_c + focytcc555_c <=> ficytcc555_c + focytc_c\""
   ]
  },
  {
   "cell_type": "markdown",
   "metadata": {},
   "source": [
    "Check focytc_c and ficytc555_c after reaction manipulation:"
   ]
  },
  {
   "cell_type": "code",
   "execution_count": null,
   "metadata": {
    "ExecuteTime": {
     "end_time": "2020-01-02T00:58:36.093336Z",
     "start_time": "2020-01-02T00:58:24.539Z"
    }
   },
   "outputs": [],
   "source": [
    "for reaction in model_OB3b.metabolites.focytc_c.reactions:\n",
    "    print(reaction.name, reaction)"
   ]
  },
  {
   "cell_type": "code",
   "execution_count": null,
   "metadata": {
    "ExecuteTime": {
     "end_time": "2020-01-02T00:58:36.094804Z",
     "start_time": "2020-01-02T00:58:24.547Z"
    }
   },
   "outputs": [],
   "source": [
    "for reaction in model_OB3b.metabolites.focytcc553_p.reactions:\n",
    "    print(reaction.name, reaction)"
   ]
  },
  {
   "cell_type": "markdown",
   "metadata": {},
   "source": [
    "D lactate dehydrogenase cytochrome and quinoprotein ethanol dehydrogenase are not present clear to be present in OB3b genome:\n",
    "- [locus_tag=CQW49_RS10085] [protein=FAD-binding oxidoreductase]\n",
    "- [locus_tag=CQW49_RS14460] [protein=PQQ-dependent dehydrogenase, methanol/ethanol family]\n",
    "- [locus_tag=CQW49_RS14475] [protein=methanol dehydrogenase]"
   ]
  },
  {
   "cell_type": "code",
   "execution_count": null,
   "metadata": {
    "ExecuteTime": {
     "end_time": "2020-01-02T00:58:36.096213Z",
     "start_time": "2020-01-02T00:58:24.556Z"
    }
   },
   "outputs": [],
   "source": [
    "model_OB3b.reactions.LDH_D3.bounds = (0, 0)\n",
    "model_OB3b.reactions.ETOHDH.bounds = (0, 0)"
   ]
  },
  {
   "cell_type": "markdown",
   "metadata": {},
   "source": [
    "## 2 separate quinones in OB3b GEM: one in the electron transport chain, another goes into biomass equation\n",
    "q8h2_c and qh2_c\n",
    "- Change quinones to be consistent."
   ]
  },
  {
   "cell_type": "code",
   "execution_count": 134,
   "metadata": {
    "ExecuteTime": {
     "end_time": "2020-01-02T02:23:24.925871Z",
     "start_time": "2020-01-02T02:23:24.921481Z"
    }
   },
   "outputs": [
    {
     "data": {
      "text/html": [
       "\n",
       "        <table>\n",
       "            <tr>\n",
       "                <td><strong>Metabolite identifier</strong></td><td>q8h2_c</td>\n",
       "            </tr><tr>\n",
       "                <td><strong>Name</strong></td><td>ubiquinol_8</td>\n",
       "            </tr><tr>\n",
       "                <td><strong>Memory address</strong></td>\n",
       "                <td>0x07f54c4bc0ba8</td>\n",
       "            </tr><tr>\n",
       "                <td><strong>Formula</strong></td><td>None</td>\n",
       "            </tr><tr>\n",
       "                <td><strong>Compartment</strong></td><td>c</td>\n",
       "            </tr><tr>\n",
       "                <td><strong>In 3 reaction(s)</strong></td><td>\n",
       "                    Biomass_Mextorquens_AM1, Biomass_Mextorquens_AM1_core, DMQMT2</td>\n",
       "            </tr>\n",
       "        </table>"
      ],
      "text/plain": [
       "<Metabolite q8h2_c at 0x7f54c4bc0ba8>"
      ]
     },
     "execution_count": 134,
     "metadata": {},
     "output_type": "execute_result"
    }
   ],
   "source": [
    "model_OB3b.metabolites.q8h2_c"
   ]
  },
  {
   "cell_type": "code",
   "execution_count": 135,
   "metadata": {
    "ExecuteTime": {
     "end_time": "2020-01-02T02:23:25.674354Z",
     "start_time": "2020-01-02T02:23:25.670173Z"
    }
   },
   "outputs": [
    {
     "data": {
      "text/html": [
       "\n",
       "        <table>\n",
       "            <tr>\n",
       "                <td><strong>Reaction identifier</strong></td><td>DMQMT2</td>\n",
       "            </tr><tr>\n",
       "                <td><strong>Name</strong></td><td>3 demethylubiquinone 8 3 O methyltransferase</td>\n",
       "            </tr><tr>\n",
       "                <td><strong>Memory address</strong></td>\n",
       "                <td>0x07f54c31cacf8</td>\n",
       "            </tr><tr>\n",
       "                <td><strong>Stoichiometry</strong></td>\n",
       "                <td>\n",
       "                    <p style='text-align:right'>amet_c + dmuqh2_c --> ahcys_c + h_c + q8h2_c</p>\n",
       "                    <p style='text-align:right'>S__adenosyl_L_methionine + 3_demethylubiquinol_8 --> S__adenosyl_L_homocysteine + H_ + ubiquinol_8</p>\n",
       "                </td>\n",
       "            </tr><tr>\n",
       "                <td><strong>GPR</strong></td><td>CQW49_RS02240</td>\n",
       "            </tr><tr>\n",
       "                <td><strong>Lower bound</strong></td><td>0.0</td>\n",
       "            </tr><tr>\n",
       "                <td><strong>Upper bound</strong></td><td>1000.0</td>\n",
       "            </tr>\n",
       "        </table>\n",
       "        "
      ],
      "text/plain": [
       "<Reaction DMQMT2 at 0x7f54c31cacf8>"
      ]
     },
     "execution_count": 135,
     "metadata": {},
     "output_type": "execute_result"
    }
   ],
   "source": [
    "model_OB3b.reactions.DMQMT2"
   ]
  },
  {
   "cell_type": "markdown",
   "metadata": {},
   "source": [
    "look at model_Bath case:"
   ]
  },
  {
   "cell_type": "code",
   "execution_count": 137,
   "metadata": {
    "ExecuteTime": {
     "end_time": "2020-01-02T02:23:29.056914Z",
     "start_time": "2020-01-02T02:23:29.053010Z"
    },
    "scrolled": true
   },
   "outputs": [
    {
     "data": {
      "text/html": [
       "\n",
       "        <table>\n",
       "            <tr>\n",
       "                <td><strong>Metabolite identifier</strong></td><td>q8_im</td>\n",
       "            </tr><tr>\n",
       "                <td><strong>Name</strong></td><td>Ubiquinone-8</td>\n",
       "            </tr><tr>\n",
       "                <td><strong>Memory address</strong></td>\n",
       "                <td>0x07f54d0037358</td>\n",
       "            </tr><tr>\n",
       "                <td><strong>Formula</strong></td><td>C49H74O4</td>\n",
       "            </tr><tr>\n",
       "                <td><strong>Compartment</strong></td><td>im</td>\n",
       "            </tr><tr>\n",
       "                <td><strong>In 8 reaction(s)</strong></td><td>\n",
       "                    CYOR_q8ppi, NADHNQR2ipp, PAMMOipp, FALDDHipp, PMMOipp, NADH16pp, NO3R1, NADH5ppi</td>\n",
       "            </tr>\n",
       "        </table>"
      ],
      "text/plain": [
       "<Metabolite q8_im at 0x7f54d0037358>"
      ]
     },
     "execution_count": 137,
     "metadata": {},
     "output_type": "execute_result"
    }
   ],
   "source": [
    "model_Bath.metabolites.q8_im"
   ]
  },
  {
   "cell_type": "code",
   "execution_count": 138,
   "metadata": {
    "ExecuteTime": {
     "end_time": "2020-01-02T02:23:30.369607Z",
     "start_time": "2020-01-02T02:23:30.365696Z"
    }
   },
   "outputs": [
    {
     "data": {
      "text/html": [
       "\n",
       "        <table>\n",
       "            <tr>\n",
       "                <td><strong>Metabolite identifier</strong></td><td>q8h2_im</td>\n",
       "            </tr><tr>\n",
       "                <td><strong>Name</strong></td><td>Ubiquinol-8</td>\n",
       "            </tr><tr>\n",
       "                <td><strong>Memory address</strong></td>\n",
       "                <td>0x07f54d0037390</td>\n",
       "            </tr><tr>\n",
       "                <td><strong>Formula</strong></td><td>C49H76O4</td>\n",
       "            </tr><tr>\n",
       "                <td><strong>Compartment</strong></td><td>im</td>\n",
       "            </tr><tr>\n",
       "                <td><strong>In 10 reaction(s)</strong></td><td>\n",
       "                    CYOR_q8ppi, NADHNQR2ipp, PAMMOipp, FALDDHipp, PMMOipp, NADH16pp, NO3R1, DMQMT, NADH5ppi, BIOMASS_Mcapsulatus</td>\n",
       "            </tr>\n",
       "        </table>"
      ],
      "text/plain": [
       "<Metabolite q8h2_im at 0x7f54d0037390>"
      ]
     },
     "execution_count": 138,
     "metadata": {},
     "output_type": "execute_result"
    }
   ],
   "source": [
    "model_Bath.metabolites.q8h2_im"
   ]
  },
  {
   "cell_type": "code",
   "execution_count": 139,
   "metadata": {
    "ExecuteTime": {
     "end_time": "2020-01-02T02:23:31.338434Z",
     "start_time": "2020-01-02T02:23:31.333784Z"
    }
   },
   "outputs": [
    {
     "name": "stdout",
     "output_type": "stream",
     "text": [
      "q8h2_im -0.00022\n"
     ]
    }
   ],
   "source": [
    "for metabolite in model_Bath.reactions.BIOMASS_Mcapsulatus.metabolites:\n",
    "    if \"q8h2_im\" in metabolite.id:\n",
    "        print(metabolite, model_Bath.reactions.BIOMASS_Mcapsulatus.metabolites[metabolite])"
   ]
  },
  {
   "cell_type": "markdown",
   "metadata": {},
   "source": [
    "Delete q8h2_c from AM1 biomass equation the metabolite id:"
   ]
  },
  {
   "cell_type": "code",
   "execution_count": 140,
   "metadata": {
    "ExecuteTime": {
     "end_time": "2020-01-02T02:23:50.974218Z",
     "start_time": "2020-01-02T02:23:50.966857Z"
    }
   },
   "outputs": [
    {
     "data": {
      "text/plain": [
       "True"
      ]
     },
     "execution_count": 140,
     "metadata": {},
     "output_type": "execute_result"
    }
   ],
   "source": [
    "\"q8h2_c\" in model_OB3b.reactions.Biomass_Mextorquens_AM1_core.reaction"
   ]
  },
  {
   "cell_type": "code",
   "execution_count": 141,
   "metadata": {
    "ExecuteTime": {
     "end_time": "2020-01-02T02:23:53.769573Z",
     "start_time": "2020-01-02T02:23:53.760544Z"
    }
   },
   "outputs": [
    {
     "name": "stdout",
     "output_type": "stream",
     "text": [
      "q8h2_c -0.0002196\n"
     ]
    }
   ],
   "source": [
    "for metabolite in model_OB3b.reactions.Biomass_Mextorquens_AM1_core.metabolites:\n",
    "    if \"q8h2_c\" in metabolite.id:\n",
    "        print(metabolite, model_OB3b.reactions.Biomass_Mextorquens_AM1_core.metabolites[metabolite])"
   ]
  },
  {
   "cell_type": "code",
   "execution_count": 142,
   "metadata": {
    "ExecuteTime": {
     "end_time": "2020-01-02T02:24:00.113576Z",
     "start_time": "2020-01-02T02:24:00.102217Z"
    }
   },
   "outputs": [
    {
     "name": "stdout",
     "output_type": "stream",
     "text": [
      "PMMOipp: ch4_p + o2_p + qh2_c --> h2o_p + meoh_p + q_c\n",
      "NADH11: 5.0 h_c + nadh_c + q_c --> 4.0 h_p + nad_c + qh2_c\n",
      "NO3R1: no3_c + qh2_c --> h2o_c + no2_c + q_c\n",
      "NO3Rpp: no3_p + qh2_c --> h2o_p + no2_p + q_c\n",
      "ETFDH: q_c + rETF_c <=> oxETF_c + qh2_c\n",
      "SUCCD1: q_c + succ_c <=> fum_c + qh2_c\n",
      "UQCYOR_2p: 2.0 ficytc_c + qh2_c --> 2.0 focytc_c + 2.0 h_p + q_c\n",
      "CYOD: 4.0 h_c + o2_c + 2.0 qh2_c --> 2.0 h2o_c + 4.0 h_p + 2.0 q_c\n",
      "PAMMOipp: nh4_p + o2_p + qh2_c --> h2o_p + h_p + ham_p + q_c\n",
      "PHOTOSYS1C: 2.0 fdxrd_c + 2.0 h_c + q_c --> 2.0 fdxox_c + qh2_c\n",
      "CYOO_4p: 4.0 h_c + 0.5 o2_c + qh2_c --> h2o_c + 4.0 h_p + q_c\n"
     ]
    }
   ],
   "source": [
    "for reaction in model_OB3b.metabolites.qh2_c.reactions:\n",
    "    print(reaction)"
   ]
  },
  {
   "cell_type": "code",
   "execution_count": 146,
   "metadata": {
    "ExecuteTime": {
     "end_time": "2020-01-02T02:24:20.819319Z",
     "start_time": "2020-01-02T02:24:19.186403Z"
    }
   },
   "outputs": [],
   "source": [
    "model_OB3b.reactions.Biomass_Mextorquens_AM1_core.reaction = '0.034671 14bglu_c + 0.033189 acgam_c + 0.0002196 adocbl_c + 1.1034 alatrna_c + 0.0002196 amet_c + 0.00078936 amp_c + 0.24101 argtrna_c + 0.24971 asntrna_c + 0.24779 asptrna_c + 53.82276 atp_c + 0.0002196 btn_c + 0.00495 ca2_c + 0.00495 cl_c + 0.0002196 coa_c + 0.086994 ctp_c + 0.0033 cu2_c + 0.00097594 cystrna_c + 0.015288 datp_c + 0.033249 dctp_c + 0.033249 dgtp_c + 0.0001 dpundcpGlcNacMurNacpentpept_c + 6.036e-05 dtpcudcpp_c + 0.015288 dttp_c + 0.0002196 fad_c + 0.00737 fe2_c + 0.0002196 fmn_c + 0.2774 glntrna_c + 0.27528 glutrna_c + 1.1725 glytrna_c + 0.0002196 gthrd_c + 0.086994 gtp_c + 53.70035 h2o_c + 0.00033 h4mpt_c + 0.0002196 hemeD_c + 0.0002196 hemeO_c + 0.067763 histrna_c + 0.20857 iletrna_c + 0.18447 k_c + 0.0001 kdo2lipid4L_c + 0.39695 leutrna_c + 0.25754 lystrna_c + 0.056309 mettrna_c + 0.00825 mg2_c + 0.0033 mn2_c + 0.0033 mobd_c + 0.0002196 mocogdp_c + 0.00407 na1_c + 0.0027535 nad_c + 0.0016711 nadh_c + 0.00093984 nadp_c + 0.0015022 nadph_c + 0.01232 nh4_c + 0.27738 pbhb_c + 0.0022561 pe160_c + 0.002274 pe161_c + 0.0021774 pe180_c + 0.035412 pe181_c + 0.00099536 pg160_c + 0.0010032 pg161_c + 0.00096064 pg180_c + 0.015623 pg181_c + 0.13596 phetrna_c + 0.31084 protrna_c + 6.6355e-05 ps160_c + 6.6898e-05 ps161_c + 6.4038e-05 ps180_c + 0.0010415 ps181_c + 0.045376 ptrc_c + 0.0002196 pydx5p_c + 0.0002196 qh2_c + 0.61021 rmn_c + 0.3101 sertrna_c + 0.0002196 sheme_c + 0.00407 so4_c + 0.0003864 splxanth_c + 8.184e-05 thf_c + 0.0002196 thmpp_c + 0.30765 thrtrna_c + 0.035522 tre_c + 0.00060401 trptrna_c + 0.075485 tyrtrna_c + 0.040008 utp_c + 0.42003 valtrna_c + 0.0033 zn2_c --> 53.6983295 adp_c + 53.6983295 h_c + 53.69607 pi_c + 0.345915 ppi_c'"
   ]
  },
  {
   "cell_type": "code",
   "execution_count": 150,
   "metadata": {
    "ExecuteTime": {
     "end_time": "2020-01-02T02:25:19.475618Z",
     "start_time": "2020-01-02T02:25:19.433347Z"
    }
   },
   "outputs": [],
   "source": [
    "model_OB3b.reactions.DMQMT2.reaction = 'amet_c + dmuqh2_c --> ahcys_c + h_c + qh2_c'"
   ]
  },
  {
   "cell_type": "code",
   "execution_count": 170,
   "metadata": {
    "ExecuteTime": {
     "end_time": "2020-01-02T02:32:36.008809Z",
     "start_time": "2020-01-02T02:32:35.929575Z"
    }
   },
   "outputs": [
    {
     "name": "stdout",
     "output_type": "stream",
     "text": [
      "IN FLUXES            OUT FLUXES     OBJECTIVES\n",
      "-------------------  -------------  -----------------------\n",
      "o2_e       6.41      h2o_e  7.39    Biomass_Mext...  0.0433\n",
      "ch4_e      4.08      co2_e  2.34\n",
      "nh4_e      0.461     no2_e  0.0368\n",
      "pi_e       0.0303\n",
      "k_e        0.00799\n",
      "so4_e      0.00273\n",
      "mg2_e      0.000357\n",
      "fe2_e      0.000348\n",
      "ca2_e      0.000214\n",
      "cl_e       0.000214\n",
      "na1_e      0.000176\n",
      "mobd_e     0.000153\n",
      "cu2_e      0.000143\n",
      "mn2_e      0.000143\n",
      "zn2_e      0.000143\n",
      "cobalt2_e  9.52e-06\n"
     ]
    }
   ],
   "source": [
    "model_OB3b.summary()"
   ]
  },
  {
   "cell_type": "code",
   "execution_count": 171,
   "metadata": {
    "ExecuteTime": {
     "end_time": "2020-01-02T02:32:37.307825Z",
     "start_time": "2020-01-02T02:32:37.287464Z"
    },
    "collapsed": true
   },
   "outputs": [
    {
     "ename": "AttributeError",
     "evalue": "DictList has no attribute or entry Biomass_Mextorquens_AM1",
     "output_type": "error",
     "traceback": [
      "\u001b[0;31m---------------------------------------------------------------------------\u001b[0m",
      "\u001b[0;31mKeyError\u001b[0m                                  Traceback (most recent call last)",
      "\u001b[0;32m~/anaconda3/envs/GEM_py36/lib/python3.6/site-packages/cobra/core/dictlist.py\u001b[0m in \u001b[0;36m__getattr__\u001b[0;34m(self, attr)\u001b[0m\n\u001b[1;32m    450\u001b[0m         \u001b[0;32mtry\u001b[0m\u001b[0;34m:\u001b[0m\u001b[0;34m\u001b[0m\u001b[0;34m\u001b[0m\u001b[0m\n\u001b[0;32m--> 451\u001b[0;31m             \u001b[0;32mreturn\u001b[0m \u001b[0mDictList\u001b[0m\u001b[0;34m.\u001b[0m\u001b[0mget_by_id\u001b[0m\u001b[0;34m(\u001b[0m\u001b[0mself\u001b[0m\u001b[0;34m,\u001b[0m \u001b[0mattr\u001b[0m\u001b[0;34m)\u001b[0m\u001b[0;34m\u001b[0m\u001b[0;34m\u001b[0m\u001b[0m\n\u001b[0m\u001b[1;32m    452\u001b[0m         \u001b[0;32mexcept\u001b[0m \u001b[0mKeyError\u001b[0m\u001b[0;34m:\u001b[0m\u001b[0;34m\u001b[0m\u001b[0;34m\u001b[0m\u001b[0m\n",
      "\u001b[0;32m~/anaconda3/envs/GEM_py36/lib/python3.6/site-packages/cobra/core/dictlist.py\u001b[0m in \u001b[0;36mget_by_id\u001b[0;34m(self, id)\u001b[0m\n\u001b[1;32m     57\u001b[0m         \u001b[0;34m\"\"\"return the element with a matching id\"\"\"\u001b[0m\u001b[0;34m\u001b[0m\u001b[0;34m\u001b[0m\u001b[0m\n\u001b[0;32m---> 58\u001b[0;31m         \u001b[0;32mreturn\u001b[0m \u001b[0mlist\u001b[0m\u001b[0;34m.\u001b[0m\u001b[0m__getitem__\u001b[0m\u001b[0;34m(\u001b[0m\u001b[0mself\u001b[0m\u001b[0;34m,\u001b[0m \u001b[0mself\u001b[0m\u001b[0;34m.\u001b[0m\u001b[0m_dict\u001b[0m\u001b[0;34m[\u001b[0m\u001b[0mid\u001b[0m\u001b[0;34m]\u001b[0m\u001b[0;34m)\u001b[0m\u001b[0;34m\u001b[0m\u001b[0;34m\u001b[0m\u001b[0m\n\u001b[0m\u001b[1;32m     59\u001b[0m \u001b[0;34m\u001b[0m\u001b[0m\n",
      "\u001b[0;31mKeyError\u001b[0m: 'Biomass_Mextorquens_AM1'",
      "\nDuring handling of the above exception, another exception occurred:\n",
      "\u001b[0;31mAttributeError\u001b[0m                            Traceback (most recent call last)",
      "\u001b[0;32m<ipython-input-171-51db820d705f>\u001b[0m in \u001b[0;36m<module>\u001b[0;34m\u001b[0m\n\u001b[0;32m----> 1\u001b[0;31m \u001b[0mmodel_OB3b\u001b[0m\u001b[0;34m.\u001b[0m\u001b[0mreactions\u001b[0m\u001b[0;34m.\u001b[0m\u001b[0mBiomass_Mextorquens_AM1\u001b[0m\u001b[0;34m.\u001b[0m\u001b[0mremove_from_model\u001b[0m\u001b[0;34m(\u001b[0m\u001b[0;34m)\u001b[0m\u001b[0;34m\u001b[0m\u001b[0;34m\u001b[0m\u001b[0m\n\u001b[0m",
      "\u001b[0;32m~/anaconda3/envs/GEM_py36/lib/python3.6/site-packages/cobra/core/dictlist.py\u001b[0m in \u001b[0;36m__getattr__\u001b[0;34m(self, attr)\u001b[0m\n\u001b[1;32m    452\u001b[0m         \u001b[0;32mexcept\u001b[0m \u001b[0mKeyError\u001b[0m\u001b[0;34m:\u001b[0m\u001b[0;34m\u001b[0m\u001b[0;34m\u001b[0m\u001b[0m\n\u001b[1;32m    453\u001b[0m             raise AttributeError(\"DictList has no attribute or entry %s\" %\n\u001b[0;32m--> 454\u001b[0;31m                                  attr)\n\u001b[0m\u001b[1;32m    455\u001b[0m \u001b[0;34m\u001b[0m\u001b[0m\n\u001b[1;32m    456\u001b[0m     \u001b[0;32mdef\u001b[0m \u001b[0m__dir__\u001b[0m\u001b[0;34m(\u001b[0m\u001b[0mself\u001b[0m\u001b[0;34m)\u001b[0m\u001b[0;34m:\u001b[0m\u001b[0;34m\u001b[0m\u001b[0;34m\u001b[0m\u001b[0m\n",
      "\u001b[0;31mAttributeError\u001b[0m: DictList has no attribute or entry Biomass_Mextorquens_AM1"
     ]
    }
   ],
   "source": [
    "model_OB3b.reactions.Biomass_Mextorquens_AM1.remove_from_model()"
   ]
  },
  {
   "cell_type": "code",
   "execution_count": 172,
   "metadata": {
    "ExecuteTime": {
     "end_time": "2020-01-02T02:32:43.487800Z",
     "start_time": "2020-01-02T02:32:43.483138Z"
    }
   },
   "outputs": [
    {
     "data": {
      "text/html": [
       "\n",
       "        <table>\n",
       "            <tr>\n",
       "                <td><strong>Metabolite identifier</strong></td><td>q8h2_c</td>\n",
       "            </tr><tr>\n",
       "                <td><strong>Name</strong></td><td>ubiquinol_8</td>\n",
       "            </tr><tr>\n",
       "                <td><strong>Memory address</strong></td>\n",
       "                <td>0x07f54c4bc0ba8</td>\n",
       "            </tr><tr>\n",
       "                <td><strong>Formula</strong></td><td>None</td>\n",
       "            </tr><tr>\n",
       "                <td><strong>Compartment</strong></td><td>c</td>\n",
       "            </tr><tr>\n",
       "                <td><strong>In 0 reaction(s)</strong></td><td>\n",
       "                    </td>\n",
       "            </tr>\n",
       "        </table>"
      ],
      "text/plain": [
       "<Metabolite q8h2_c at 0x7f54c4bc0ba8>"
      ]
     },
     "execution_count": 172,
     "metadata": {},
     "output_type": "execute_result"
    }
   ],
   "source": [
    "model_OB3b.metabolites.q8h2_c"
   ]
  },
  {
   "cell_type": "code",
   "execution_count": 173,
   "metadata": {
    "ExecuteTime": {
     "end_time": "2020-01-02T02:32:45.957715Z",
     "start_time": "2020-01-02T02:32:45.929396Z"
    },
    "scrolled": true
   },
   "outputs": [
    {
     "ename": "AttributeError",
     "evalue": "DictList has no attribute or entry q8_c",
     "output_type": "error",
     "traceback": [
      "\u001b[0;31m---------------------------------------------------------------------------\u001b[0m",
      "\u001b[0;31mKeyError\u001b[0m                                  Traceback (most recent call last)",
      "\u001b[0;32m~/anaconda3/envs/GEM_py36/lib/python3.6/site-packages/cobra/core/dictlist.py\u001b[0m in \u001b[0;36m__getattr__\u001b[0;34m(self, attr)\u001b[0m\n\u001b[1;32m    450\u001b[0m         \u001b[0;32mtry\u001b[0m\u001b[0;34m:\u001b[0m\u001b[0;34m\u001b[0m\u001b[0;34m\u001b[0m\u001b[0m\n\u001b[0;32m--> 451\u001b[0;31m             \u001b[0;32mreturn\u001b[0m \u001b[0mDictList\u001b[0m\u001b[0;34m.\u001b[0m\u001b[0mget_by_id\u001b[0m\u001b[0;34m(\u001b[0m\u001b[0mself\u001b[0m\u001b[0;34m,\u001b[0m \u001b[0mattr\u001b[0m\u001b[0;34m)\u001b[0m\u001b[0;34m\u001b[0m\u001b[0;34m\u001b[0m\u001b[0m\n\u001b[0m\u001b[1;32m    452\u001b[0m         \u001b[0;32mexcept\u001b[0m \u001b[0mKeyError\u001b[0m\u001b[0;34m:\u001b[0m\u001b[0;34m\u001b[0m\u001b[0;34m\u001b[0m\u001b[0m\n",
      "\u001b[0;32m~/anaconda3/envs/GEM_py36/lib/python3.6/site-packages/cobra/core/dictlist.py\u001b[0m in \u001b[0;36mget_by_id\u001b[0;34m(self, id)\u001b[0m\n\u001b[1;32m     57\u001b[0m         \u001b[0;34m\"\"\"return the element with a matching id\"\"\"\u001b[0m\u001b[0;34m\u001b[0m\u001b[0;34m\u001b[0m\u001b[0m\n\u001b[0;32m---> 58\u001b[0;31m         \u001b[0;32mreturn\u001b[0m \u001b[0mlist\u001b[0m\u001b[0;34m.\u001b[0m\u001b[0m__getitem__\u001b[0m\u001b[0;34m(\u001b[0m\u001b[0mself\u001b[0m\u001b[0;34m,\u001b[0m \u001b[0mself\u001b[0m\u001b[0;34m.\u001b[0m\u001b[0m_dict\u001b[0m\u001b[0;34m[\u001b[0m\u001b[0mid\u001b[0m\u001b[0;34m]\u001b[0m\u001b[0;34m)\u001b[0m\u001b[0;34m\u001b[0m\u001b[0;34m\u001b[0m\u001b[0m\n\u001b[0m\u001b[1;32m     59\u001b[0m \u001b[0;34m\u001b[0m\u001b[0m\n",
      "\u001b[0;31mKeyError\u001b[0m: 'q8_c'",
      "\nDuring handling of the above exception, another exception occurred:\n",
      "\u001b[0;31mAttributeError\u001b[0m                            Traceback (most recent call last)",
      "\u001b[0;32m<ipython-input-173-26b1b521b36c>\u001b[0m in \u001b[0;36m<module>\u001b[0;34m\u001b[0m\n\u001b[0;32m----> 1\u001b[0;31m \u001b[0mmodel_OB3b\u001b[0m\u001b[0;34m.\u001b[0m\u001b[0mmetabolites\u001b[0m\u001b[0;34m.\u001b[0m\u001b[0mq8_c\u001b[0m\u001b[0;34m\u001b[0m\u001b[0;34m\u001b[0m\u001b[0m\n\u001b[0m",
      "\u001b[0;32m~/anaconda3/envs/GEM_py36/lib/python3.6/site-packages/cobra/core/dictlist.py\u001b[0m in \u001b[0;36m__getattr__\u001b[0;34m(self, attr)\u001b[0m\n\u001b[1;32m    452\u001b[0m         \u001b[0;32mexcept\u001b[0m \u001b[0mKeyError\u001b[0m\u001b[0;34m:\u001b[0m\u001b[0;34m\u001b[0m\u001b[0;34m\u001b[0m\u001b[0m\n\u001b[1;32m    453\u001b[0m             raise AttributeError(\"DictList has no attribute or entry %s\" %\n\u001b[0;32m--> 454\u001b[0;31m                                  attr)\n\u001b[0m\u001b[1;32m    455\u001b[0m \u001b[0;34m\u001b[0m\u001b[0m\n\u001b[1;32m    456\u001b[0m     \u001b[0;32mdef\u001b[0m \u001b[0m__dir__\u001b[0m\u001b[0;34m(\u001b[0m\u001b[0mself\u001b[0m\u001b[0;34m)\u001b[0m\u001b[0;34m:\u001b[0m\u001b[0;34m\u001b[0m\u001b[0;34m\u001b[0m\u001b[0m\n",
      "\u001b[0;31mAttributeError\u001b[0m: DictList has no attribute or entry q8_c"
     ]
    }
   ],
   "source": [
    "model_OB3b.metabolites.q8_c"
   ]
  },
  {
   "cell_type": "code",
   "execution_count": 179,
   "metadata": {
    "ExecuteTime": {
     "end_time": "2020-01-02T02:37:44.370782Z",
     "start_time": "2020-01-02T02:37:44.365860Z"
    }
   },
   "outputs": [
    {
     "data": {
      "text/html": [
       "\n",
       "        <table>\n",
       "            <tr>\n",
       "                <td><strong>Metabolite identifier</strong></td><td>qh2_c</td>\n",
       "            </tr><tr>\n",
       "                <td><strong>Name</strong></td><td>UQH2</td>\n",
       "            </tr><tr>\n",
       "                <td><strong>Memory address</strong></td>\n",
       "                <td>0x07f54c736d0b8</td>\n",
       "            </tr><tr>\n",
       "                <td><strong>Formula</strong></td><td>None</td>\n",
       "            </tr><tr>\n",
       "                <td><strong>Compartment</strong></td><td>c</td>\n",
       "            </tr><tr>\n",
       "                <td><strong>In 13 reaction(s)</strong></td><td>\n",
       "                    UQCYOR_2p, DMQMT2, CYOD, PHOTOSYS1C, CYOO_4p, ETFDH, Biomass_Mextorquens_AM1_core, NADH11, PMMOipp, PAMMOipp, NO3Rpp, NO3R1, SUCCD1</td>\n",
       "            </tr>\n",
       "        </table>"
      ],
      "text/plain": [
       "<Metabolite qh2_c at 0x7f54c736d0b8>"
      ]
     },
     "execution_count": 179,
     "metadata": {},
     "output_type": "execute_result"
    }
   ],
   "source": [
    "model_OB3b.metabolites.qh2_c"
   ]
  },
  {
   "cell_type": "code",
   "execution_count": 180,
   "metadata": {
    "ExecuteTime": {
     "end_time": "2020-01-02T02:37:45.710915Z",
     "start_time": "2020-01-02T02:37:45.702324Z"
    }
   },
   "outputs": [
    {
     "data": {
      "text/html": [
       "\n",
       "        <table>\n",
       "            <tr>\n",
       "                <td><strong>Metabolite identifier</strong></td><td>q_c</td>\n",
       "            </tr><tr>\n",
       "                <td><strong>Name</strong></td><td>UQ</td>\n",
       "            </tr><tr>\n",
       "                <td><strong>Memory address</strong></td>\n",
       "                <td>0x07f54c4057198</td>\n",
       "            </tr><tr>\n",
       "                <td><strong>Formula</strong></td><td>None</td>\n",
       "            </tr><tr>\n",
       "                <td><strong>Compartment</strong></td><td>c</td>\n",
       "            </tr><tr>\n",
       "                <td><strong>In 11 reaction(s)</strong></td><td>\n",
       "                    UQCYOR_2p, CYOD, PHOTOSYS1C, CYOO_4p, ETFDH, NADH11, PMMOipp, PAMMOipp, NO3Rpp, NO3R1, SUCCD1</td>\n",
       "            </tr>\n",
       "        </table>"
      ],
      "text/plain": [
       "<Metabolite q_c at 0x7f54c4057198>"
      ]
     },
     "execution_count": 180,
     "metadata": {},
     "output_type": "execute_result"
    }
   ],
   "source": [
    "model_OB3b.metabolites.q_c"
   ]
  },
  {
   "cell_type": "code",
   "execution_count": 163,
   "metadata": {
    "ExecuteTime": {
     "end_time": "2020-01-02T02:31:49.579880Z",
     "start_time": "2020-01-02T02:31:49.475099Z"
    }
   },
   "outputs": [
    {
     "name": "stdout",
     "output_type": "stream",
     "text": [
      "IN FLUXES            OUT FLUXES     OBJECTIVES\n",
      "-------------------  -------------  -----------------------\n",
      "o2_e       6.41      h2o_e  7.39    Biomass_Mext...  0.0433\n",
      "ch4_e      4.08      co2_e  2.34\n",
      "nh4_e      0.461     no2_e  0.0368\n",
      "pi_e       0.0303\n",
      "k_e        0.00799\n",
      "so4_e      0.00273\n",
      "mg2_e      0.000357\n",
      "fe2_e      0.000348\n",
      "ca2_e      0.000214\n",
      "cl_e       0.000214\n",
      "na1_e      0.000176\n",
      "mobd_e     0.000153\n",
      "cu2_e      0.000143\n",
      "mn2_e      0.000143\n",
      "zn2_e      0.000143\n",
      "cobalt2_e  9.52e-06\n"
     ]
    }
   ],
   "source": [
    "model_OB3b.optimize()\n",
    "model_OB3b.summary()"
   ]
  },
  {
   "cell_type": "code",
   "execution_count": 166,
   "metadata": {
    "ExecuteTime": {
     "end_time": "2020-01-02T02:32:14.773583Z",
     "start_time": "2020-01-02T02:32:14.768050Z"
    }
   },
   "outputs": [
    {
     "data": {
      "text/html": [
       "\n",
       "        <table>\n",
       "            <tr>\n",
       "                <td><strong>Reaction identifier</strong></td><td>DMQMT2</td>\n",
       "            </tr><tr>\n",
       "                <td><strong>Name</strong></td><td>3 demethylubiquinone 8 3 O methyltransferase</td>\n",
       "            </tr><tr>\n",
       "                <td><strong>Memory address</strong></td>\n",
       "                <td>0x07f54c31cacf8</td>\n",
       "            </tr><tr>\n",
       "                <td><strong>Stoichiometry</strong></td>\n",
       "                <td>\n",
       "                    <p style='text-align:right'>amet_c + dmuqh2_c --> ahcys_c + h_c + qh2_c</p>\n",
       "                    <p style='text-align:right'>S__adenosyl_L_methionine + 3_demethylubiquinol_8 --> S__adenosyl_L_homocysteine + H_ + UQH2</p>\n",
       "                </td>\n",
       "            </tr><tr>\n",
       "                <td><strong>GPR</strong></td><td>CQW49_RS02240</td>\n",
       "            </tr><tr>\n",
       "                <td><strong>Lower bound</strong></td><td>0</td>\n",
       "            </tr><tr>\n",
       "                <td><strong>Upper bound</strong></td><td>1000</td>\n",
       "            </tr>\n",
       "        </table>\n",
       "        "
      ],
      "text/plain": [
       "<Reaction DMQMT2 at 0x7f54c31cacf8>"
      ]
     },
     "execution_count": 166,
     "metadata": {},
     "output_type": "execute_result"
    }
   ],
   "source": [
    "model_OB3b.reactions.DMQMT2"
   ]
  },
  {
   "cell_type": "code",
   "execution_count": 167,
   "metadata": {
    "ExecuteTime": {
     "end_time": "2020-01-02T02:32:16.375774Z",
     "start_time": "2020-01-02T02:32:16.370351Z"
    }
   },
   "outputs": [
    {
     "data": {
      "text/plain": [
       "False"
      ]
     },
     "execution_count": 167,
     "metadata": {},
     "output_type": "execute_result"
    }
   ],
   "source": [
    "\"ahcys_c\" in model_OB3b.reactions.Biomass_Mextorquens_AM1_core.reaction"
   ]
  },
  {
   "cell_type": "code",
   "execution_count": 168,
   "metadata": {
    "ExecuteTime": {
     "end_time": "2020-01-02T02:32:17.696146Z",
     "start_time": "2020-01-02T02:32:17.606163Z"
    }
   },
   "outputs": [
    {
     "name": "stdout",
     "output_type": "stream",
     "text": [
      "IN FLUXES    OUT FLUXES    OBJECTIVES\n",
      "-----------  ------------  -------------------------\n",
      "o2_e   8.16  h2o_e  8.16   Biomass_Mext...  1.12e-27\n",
      "ch4_e  4.08  co2_e  4.08\n"
     ]
    }
   ],
   "source": [
    "with model_OB3b as model:\n",
    "    model.reactions.DMQMT2.bounds = (0, 0)\n",
    "    model.optimize()\n",
    "    model.summary()"
   ]
  },
  {
   "cell_type": "code",
   "execution_count": 169,
   "metadata": {
    "ExecuteTime": {
     "end_time": "2020-01-02T02:32:19.409760Z",
     "start_time": "2020-01-02T02:32:19.315761Z"
    }
   },
   "outputs": [
    {
     "name": "stdout",
     "output_type": "stream",
     "text": [
      "IN FLUXES    OUT FLUXES    OBJECTIVES\n",
      "-----------  ------------  ------------------\n",
      "o2_e   6.71  h2o_e  6.71   BIOMASS_Mcap...  0\n",
      "ch4_e  3.36  co2_e  3.36\n"
     ]
    }
   ],
   "source": [
    "with model_Bath as model:\n",
    "    model.reactions.DMQMT.bounds = (0, 0)\n",
    "    model.optimize()\n",
    "    model.summary()"
   ]
  },
  {
   "cell_type": "markdown",
   "metadata": {},
   "source": [
    "Save GEM in directory:"
   ]
  },
  {
   "cell_type": "code",
   "execution_count": 177,
   "metadata": {
    "ExecuteTime": {
     "end_time": "2020-01-02T02:37:28.782193Z",
     "start_time": "2020-01-02T02:37:28.587591Z"
    }
   },
   "outputs": [],
   "source": [
    "cobra.io.save_json_model(model_OB3b, memote_directory + draft_gems_dir_8 + \"bigg_OB3b_02_01_2020.json\")"
   ]
  },
  {
   "cell_type": "markdown",
   "metadata": {},
   "source": [
    "Major qh2_c producing reactions:"
   ]
  },
  {
   "cell_type": "code",
   "execution_count": 352,
   "metadata": {
    "ExecuteTime": {
     "end_time": "2020-01-03T05:12:04.631136Z",
     "start_time": "2020-01-03T05:12:04.626506Z"
    }
   },
   "outputs": [],
   "source": [
    "qh2_c_producing = [rxn for rxn in model_OB3b.metabolites.qh2_c.reactions if rxn.reversibility or model_OB3b.metabolites.qh2_c in rxn.products]"
   ]
  },
  {
   "cell_type": "code",
   "execution_count": 353,
   "metadata": {
    "ExecuteTime": {
     "end_time": "2020-01-03T05:12:13.483737Z",
     "start_time": "2020-01-03T05:12:13.477030Z"
    }
   },
   "outputs": [
    {
     "name": "stdout",
     "output_type": "stream",
     "text": [
      "3 demethylubiquinone 8 3 O methyltransferase DMQMT2: amet_c + dmuqh2_c --> ahcys_c + h_c + qh2_c\n",
      "photosystem I cyclic PHOTOSYS1C: 2.0 fdxrd_c + 2.0 h_c + q_c --> 2.0 fdxox_c + qh2_c\n",
      "ETF dehydrogenase ETFDH: q_c + rETF_c <=> oxETF_c + qh2_c\n",
      "NADH ubiquinone oxidoreductase I NADH11: 5.0 h_c + nadh_c + q_c --> 4.0 h_p + nad_c + qh2_c\n",
      "succinate dehydrogenase SUCCD1: q_c + succ_c <=> fum_c + qh2_c\n"
     ]
    }
   ],
   "source": [
    "for reaction in qh2_c_producing:\n",
    "    print(reaction.name, reaction)"
   ]
  },
  {
   "cell_type": "code",
   "execution_count": 377,
   "metadata": {
    "ExecuteTime": {
     "end_time": "2020-01-03T05:28:04.063286Z",
     "start_time": "2020-01-03T05:28:04.055212Z"
    }
   },
   "outputs": [],
   "source": [
    "q8h2_im_producing_Bath = [rxn for rxn in model_Bath.metabolites.q8h2_im.reactions if rxn.reversibility or model_Bath.metabolites.q8h2_im in rxn.products]"
   ]
  },
  {
   "cell_type": "code",
   "execution_count": 355,
   "metadata": {
    "ExecuteTime": {
     "end_time": "2020-01-03T05:13:09.114167Z",
     "start_time": "2020-01-03T05:13:09.092165Z"
    }
   },
   "outputs": [
    {
     "name": "stdout",
     "output_type": "stream",
     "text": [
      "Na(+)-translocating NADH-quinone - NQR NADHNQR2ipp: h_c + 2.0 na1_c + nadh_c + q8_im --> 2.0 na1_p + nad_c + q8h2_im\n",
      "dye-linked formaldehyde dehydrogenase FALDDHipp: fald_c + h2o_c + q8_im --> for_c + h_c + q8h2_im\n",
      "type-1 nadh:quinone oxidoreductase (H+-translocating) NADH16pp: 4.0 h_c + nadh_c + q8_im --> 3.0 h_p + nad_c + q8h2_im\n",
      "3-Dimethylubiquinonol 3-methyltransferase DMQMT: 2omhmbl_c + amet_c --> ahcys_c + h_c + q8h2_im\n",
      "type-2 nadh:quinone oxidoreductase (non-electrogenic) NADH5ppi: h_c + nadh_c + q8_im --> nad_c + q8h2_im\n"
     ]
    }
   ],
   "source": [
    "for reaction in q8h2_im_producing_Bath:\n",
    "    print(reaction.name, reaction)"
   ]
  },
  {
   "cell_type": "code",
   "execution_count": 403,
   "metadata": {
    "ExecuteTime": {
     "end_time": "2020-01-03T05:41:20.405502Z",
     "start_time": "2020-01-03T05:41:20.399828Z"
    }
   },
   "outputs": [],
   "source": [
    "nadh_c_consuming_Bath = [rxn for rxn in model_Bath.metabolites.nadh_c.reactions if rxn.reversibility or model_Bath.metabolites.nadh_c in rxn.reactants]"
   ]
  },
  {
   "cell_type": "code",
   "execution_count": 404,
   "metadata": {
    "ExecuteTime": {
     "end_time": "2020-01-03T05:41:21.154873Z",
     "start_time": "2020-01-03T05:41:21.139326Z"
    }
   },
   "outputs": [
    {
     "name": "stdout",
     "output_type": "stream",
     "text": [
      "L-alanine dehydrogenase ALAD_L: h_c + nadh_c + nh4_c + pyr_c --> ala__L_c + h2o_c + nad_c\n",
      "Na(+)-translocating NADH-quinone - NQR NADHNQR2ipp: h_c + 2.0 na1_c + nadh_c + q8_im --> 2.0 na1_p + nad_c + q8h2_im\n",
      "P5CRx P5CRx: 1pyr5c_c + 2.0 h_c + nadh_c --> nad_c + pro__L_c\n",
      "Glycolate dehydrogenase (NAD) GLYCLTDx: glx_c + h_c + nadh_c --> glyclt_c + nad_c\n",
      "ASPO2 ASPO2: 2.0 h_c + iasp_c + nadh_c --> asp__L_c + nad_c\n",
      "Enoyl-[acyl-carrier-protein] reductase (NADH) (n-C12:0) EAR120x: h_c + nadh_c + tddec2eACP_c --> ddcaACP_c + nad_c\n",
      "Phenylpropanoate Dioxygenase PPPNDO: h_c + nadh_c + o2_c + pppn_c --> cechddd_c + nad_c\n",
      "NAD-linked hydrogenase NAD_H2: h_c + nadh_c <=> h2_c + nad_c\n",
      "Cinnamate dioxygenase CINNDO: cinnm_c + h_c + nadh_c + o2_c --> cenchddd_c + nad_c\n",
      "Enoyl-[acyl-carrier-protein] reductase (NADH) (n-C8:0) EAR80x: h_c + nadh_c + toct2eACP_c --> nad_c + ocACP_c\n",
      "Dihydrofolate reductase (NAD+) DHFR2i: dhf_c + h_c + nadh_c --> nad_c + thf_c\n",
      "Enoyl-[acyl-carrier-protein] reductase (NADH) (n-C18:0) EAR180x: h_c + nadh_c + toctd2eACP_c --> nad_c + ocdcaACP_c\n",
      "1 H(+) + 1 NADH(2-) + 1 pyruvate = 1 (R)-lactate + 1 NAD(+) LDH_Di: h_c + nadh_c + pyr_c --> lac_D_c + nad_c\n",
      "Succinate-semialdehyde dehydrogenase (NAD) SSALx: 2.0 h_c + nadh_c + succ_c --> h2o_c + nad_c + sucsal_c\n",
      "Glutamate synthase  NADH2  GLUSx: akg_c + gln__L_c + h_c + nadh_c --> 2.0 glu__L_c + nad_c\n",
      "FMN reductase - Gapfillinh FMNRx_GAPFILLING: fmn_c + h_c + nadh_c --> fmnh2_c + nad_c\n",
      "Glyceraldehyde-3-phosphate dehydrogenase GAPD: g3p_c + nad_c + pi_c <=> 13dpg_c + h_c + nadh_c\n",
      "soluble ammonia monooxygenase SAMMOi: nadh_c + nh4_c + o2_c --> h2o_c + ham_c + nad_c\n",
      "BIOMASS_REACTION BIOMASS_Mcapsulatus: 3e-06 2ddg6p_c + 0.006 2pg_c + 0.00015 6pgc_c + 0.0001 accoa_c + 6e-08 adocbl_c + 0.576 ala__L_c + 0.00022 amet_c + 0.254 arg__L_c + 0.119 asn__L_c + 0.468 asp__L_c + 23.11185589 atp_c + 0.06986377 ca2_c + 0.001 cit_c + 0.21438646 cl_c + 3.15904e-06 clpn_MC_c + 0.00022 coa_c + 5.769e-05 cobalt2_c + 0.002 colipa_e + 0.00186552 cpoa2h_c + 0.04425885 ctp_c + 0.00151072 cu2_c + 0.038 cys__L_c + 0.00866366 datp_c + 0.01571821 dctp_c + 0.01446787 dgtp_c + 0.01282849 dpterol_c + 0.00882698 dttp_c + 0.003 f6p_c + 0.00022 fad_c + 0.001 fdp_c + 0.0059 fe2_c + 0.00022 fmn_c + 0.00022 fmnh2_c + 0.001 fum_c + 0.003 g3p_c + 0.002 g6p_c + 0.24977798 glc__D_c + 0.15 gln__L_c + 0.519 glu__L_c + 0.484 gly_c + 0.001 glyc_R_c + 0.00022 gthrd_c + 0.04084668 gtp_c + 17.77579456 h2o_c + 0.01558994 hdca_c + 0.104 his__L_c + 0.00179858 hpdca_c + 0.242 ile__L_c + 0.00016652 inost_c + 0.17647826 k_c + 0.00515564 lanost_c + 0.415 leu__L_c + 0.277 lys__L_c + 0.004 mal__L_c + 0.13 met__L_c + 0.12343139 mg2_c + 1.8e-05 mn2_c + 0.03914785 na1_c + 0.00106469 nac_c + 0.002 nad_c + 0.002 nadh_c + 0.001 nadp_c + 0.001 nadph_c + 3.4e-05 ni2_c + 8.548e-05 ocdca_c + 0.00014349 ocdcea_c + 9.37385e-06 pc_MC_c + 9.134262e-05 pe_MC_c + 0.005 pep_c + 0.053 peptido_MC_c + 1.538077e-05 pg_MC_c + 0.185 phe__L_c + 0.00022 pheme_c + 0.248 pro__L_c + 0.00023422 ptdca_c + 0.015 pyr_c + 0.00022 q8h2_im + 0.00019396 ribflv_c + 0.001 ru5p_D_c + 0.246 ser__L_c + 0.01339118 sql_c + 0.002 succ_c + 2.865e-05 thmpp_c + 0.271 thr__L_c + 0.093 trp__L_c + 0.0014565 ttdca_c + 0.00017921 ttdcea_c + 0.132 tyr__L_c + 0.02560771 utp_c + 0.36 val__L_c + 0.001 zn2_c --> 23.08742079 adp_c + 23.08742079 h_c + 22.88736056 pi_c + 0.18282505 ppi_c\n",
      "Enoyl-[acyl-carrier-protein] reductase (NADH) (n-C4:0) EAR40x: but2eACP_c + h_c + nadh_c --> butACP_c + nad_c\n",
      "Enoyl-[acyl-carrier-protein] reductase (NADH) (n-C14:0) EAR140x: h_c + nadh_c + tmrs2eACP_c --> myrsACP_c + nad_c\n",
      "type-1 nadh:quinone oxidoreductase (H+-translocating) NADH16pp: 4.0 h_c + nadh_c + q8_im --> 3.0 h_p + nad_c + q8h2_im\n",
      "HSDx HSDx: aspsa_c + h_c + nadh_c --> hom__L_c + nad_c\n",
      "Nitrite Reductase (NADH) NTRIR2x: 5.0 h_c + 3.0 nadh_c + no2_c --> 2.0 h2o_c + 3.0 nad_c + nh4_c\n",
      "1-hydroxy-2-methyl-2-(E)-butenyl 4-diphosphate reductase (ipdp) IPDPS: h2mb4p_c + h_c + nadh_c --> h2o_c + ipdp_c + nad_c\n",
      "type-2 nadh:quinone oxidoreductase (non-electrogenic) NADH5ppi: h_c + nadh_c + q8_im --> nad_c + q8h2_im\n",
      "5,6,7,8-Tetrahydrofolate:NAD+ oxidoreductase THFOR1: fol_c + 2.0 h_c + 2.0 nadh_c --> 2.0 nad_c + thf_c\n",
      "Enoyl-[acyl-carrier-protein] reductase (NADH) (n-C10:0) EAR100x: h_c + nadh_c + tdec2eACP_c --> dcaACP_c + nad_c\n",
      "5,10-methylenetetrahydrofolate reductase (NADH) MTHFR2: 2.0 h_c + mlthf_c + nadh_c --> 5mthf_c + nad_c\n",
      "soluble Methane Monooxygenase SMMOi: ch4_c + h_c + nadh_c + o2_c --> h2o_c + meoh_c + nad_c\n",
      "Dihydrofolate:NAD+ oxidoreductase DHFOR: fol_c + h_c + nadh_c --> dhf_c + nad_c\n",
      "G3PD1 G3PD1: dhap_c + h_c + nadh_c <=> glyc1p_c + nad_c\n",
      "Enoyl-[acyl-carrier-protein] reductase (NADH) (n-C6:0) EAR60x: h_c + nadh_c + thex2eACP_c --> hexACP_c + nad_c\n",
      "1-hydroxy-2-methyl-2-(E)-butenyl 4-diphosphate reductase (dmpp) DMPPS: h2mb4p_c + h_c + nadh_c --> dmpp_c + h2o_c + nad_c\n",
      "Enoyl-[acyl-carrier-protein] reductase (NADH) (n-C16:0) EAR160x: h_c + nadh_c + tpalm2eACP_c --> nad_c + palmACP_c\n",
      "3,4-Dihydroxyphenylethyleneglycol NAD+ oxidoreductase 34DHOXPEGOX: 34dhmald_c + h_c + nadh_c <=> 34dhoxpeg_c + nad_c\n",
      "CYRDAR - Gapfilling CYRDAR_GAPFILLING: 2.0 co2dam_c + nadh_c --> 2.0 co1dam_c + h_c + nad_c\n",
      "L hydroxyproline reductase  NAD  HPROa: 1p3h5c_c + 2.0 h_c + nadh_c --> 4hpro_LT_c + nad_c\n"
     ]
    }
   ],
   "source": [
    "for reaction in nadh_c_consuming_Bath:\n",
    "    print(reaction.name, reaction)"
   ]
  },
  {
   "cell_type": "markdown",
   "metadata": {},
   "source": [
    "DMQMT2, PHOTOSYS1C required for biomass to function. I can change ETFDH and SUCCD1 to see how it affects quinone pool and growth rate."
   ]
  },
  {
   "cell_type": "markdown",
   "metadata": {},
   "source": [
    "Major qh2_c consuming reactions:"
   ]
  },
  {
   "cell_type": "code",
   "execution_count": 366,
   "metadata": {
    "ExecuteTime": {
     "end_time": "2020-01-03T05:23:45.277475Z",
     "start_time": "2020-01-03T05:23:45.273623Z"
    }
   },
   "outputs": [],
   "source": [
    "qh2_c_consuming = [rxn for rxn in model_OB3b.metabolites.qh2_c.reactions if rxn.reversibility or model_OB3b.metabolites.qh2_c in rxn.reactants]"
   ]
  },
  {
   "cell_type": "code",
   "execution_count": 367,
   "metadata": {
    "ExecuteTime": {
     "end_time": "2020-01-03T05:23:52.146106Z",
     "start_time": "2020-01-03T05:23:52.142047Z"
    }
   },
   "outputs": [
    {
     "data": {
      "text/plain": [
       "[<Reaction UQCYOR_2p at 0x7f54c88e9208>,\n",
       " <Reaction CYOD at 0x7f54c7f4b828>,\n",
       " <Reaction CYOO_4p at 0x7f54c9421ac8>,\n",
       " <Reaction ETFDH at 0x7f54d5a53ef0>,\n",
       " <Reaction Biomass_Mextorquens_AM1_core at 0x7f54c8f58ef0>,\n",
       " <Reaction PMMOipp at 0x7f54c8145550>,\n",
       " <Reaction PAMMOipp at 0x7f54c9622588>,\n",
       " <Reaction NO3Rpp at 0x7f54c8f7c198>,\n",
       " <Reaction NO3R1 at 0x7f54c9622da0>,\n",
       " <Reaction SUCCD1 at 0x7f54c94151d0>]"
      ]
     },
     "execution_count": 367,
     "metadata": {},
     "output_type": "execute_result"
    }
   ],
   "source": [
    "qh2_c_consuming"
   ]
  },
  {
   "cell_type": "markdown",
   "metadata": {},
   "source": [
    "Major focytc_c consuming reactions:"
   ]
  },
  {
   "cell_type": "code",
   "execution_count": 282,
   "metadata": {
    "ExecuteTime": {
     "end_time": "2020-01-03T00:52:24.133808Z",
     "start_time": "2020-01-03T00:52:24.129579Z"
    }
   },
   "outputs": [],
   "source": [
    "focytc_c_consuming = [rxn for rxn in model_OB3b.metabolites.focytc_c.reactions if rxn.reversibility or model_OB3b.metabolites.focytc_c in rxn.reactants]"
   ]
  },
  {
   "cell_type": "code",
   "execution_count": 285,
   "metadata": {
    "ExecuteTime": {
     "end_time": "2020-01-03T00:55:19.936567Z",
     "start_time": "2020-01-03T00:55:19.929805Z"
    }
   },
   "outputs": [
    {
     "name": "stdout",
     "output_type": "stream",
     "text": [
      "Nitrite reductase (cytochrome; NO-forming) NITR_NOpp: focytc_c + 2.0 h_c + no2_c --> ficytc_c + h2o_c + no_c\n",
      "quinoprotein ethanol dehydrogenase ETOHDH: etoh_p + 2.0 ficytc_c <=> acald_p + 2.0 focytc_c + 2.0 h_p\n",
      "Nitrite reductase (cytochrome; ammonia-forming) NITR_AMpp: 6.0 focytc_c + 8.0 h_c + no2_c --> 6.0 ficytc_c + 2.0 h2o_c + nh4_c\n",
      "cytochrome c oxidase CYO_2p: 2.0 focytc_c + 4.0 h_c + 0.5 o2_c --> 2.0 ficytc_c + h2o_c + 2.0 h_p\n",
      "Nitric oxide reductase (cytochrome c) NORZ2pp: 2.0 focytc_c + 2.0 h_p + 2.0 no_p --> 2.0 ficytc_c + h2o_p + n2o_p\n",
      "particulate Methane Monooxygenase - Direct Coupling PMMODCipp: ch4_p + 2.0 focytc_c + 2.0 h_p + o2_p --> 2.0 ficytc_c + h2o_p + meoh_p\n"
     ]
    }
   ],
   "source": [
    "for reaction in focytc_c_consuming:\n",
    "    print(reaction.name, reaction)"
   ]
  },
  {
   "cell_type": "markdown",
   "metadata": {},
   "source": [
    "Major focytc_c producing reactions:"
   ]
  },
  {
   "cell_type": "code",
   "execution_count": 288,
   "metadata": {
    "ExecuteTime": {
     "end_time": "2020-01-03T00:56:25.959359Z",
     "start_time": "2020-01-03T00:56:25.951518Z"
    }
   },
   "outputs": [],
   "source": [
    "focytc_c_producing =[rxn for rxn in model_OB3b.metabolites.focytc_c.reactions if rxn.reversibility or model_OB3b.metabolites.focytc_c in rxn.products]"
   ]
  },
  {
   "cell_type": "code",
   "execution_count": 290,
   "metadata": {
    "ExecuteTime": {
     "end_time": "2020-01-03T01:00:13.810537Z",
     "start_time": "2020-01-03T01:00:13.804535Z"
    }
   },
   "outputs": [
    {
     "name": "stdout",
     "output_type": "stream",
     "text": [
      "ubiquinol cytochrome c reductase UQCYOR_2p: 2.0 ficytc_c + qh2_c --> 2.0 focytc_c + 2.0 h_p + q_c\n",
      "D lactate dehydrogenase  cytochrome  LDH_D3: 2.0 ficytc_c + lac_D_c --> 2.0 focytc_c + 2.0 h_c + pyr_c\n",
      "Cytochrome P460 - Hydroxylamine Dehydrogenase CYP460ipp: 2.0 ficytc_c + h2o_p + ham_p --> 2.0 focytc_c + 5.0 h_p + no2_p\n",
      "quinoprotein ethanol dehydrogenase ETOHDH: etoh_p + 2.0 ficytc_c <=> acald_p + 2.0 focytc_c + 2.0 h_p\n",
      "methanol dehydrogenase MEOHDH: 2.0 ficytc_c + meoh_p --> fald_p + 2.0 focytc_c + 2.0 h_p\n",
      "Hydroxylamine oxydoreductase HAORipp: 2.0 ficytc_c + h2o_p + ham_p --> 2.0 focytc_c + 5.0 h_p + no2_p\n",
      "formaldehyde dehydrogenase FALDHp: fald_p + 2.0 ficytc_c + h2o_p --> 2.0 focytc_c + for_p + 3.0 h_p\n",
      "1 2 propanediol dehydrogenase PPDODH: 12ppd_S_p + 4.0 ficytc_c --> 4.0 focytc_c + 2.0 h_p + lald_L_p\n"
     ]
    }
   ],
   "source": [
    "for reaction in focytc_c_producing:\n",
    "    print(reaction.name, reaction)"
   ]
  },
  {
   "cell_type": "markdown",
   "metadata": {},
   "source": [
    "Save GEM in directory:"
   ]
  },
  {
   "cell_type": "code",
   "execution_count": 177,
   "metadata": {
    "ExecuteTime": {
     "end_time": "2020-01-02T02:37:28.782193Z",
     "start_time": "2020-01-02T02:37:28.587591Z"
    }
   },
   "outputs": [],
   "source": [
    "cobra.io.save_json_model(model_OB3b, memote_directory + draft_gems_dir_8 + \"bigg_OB3b_02_01_2020.json\")"
   ]
  },
  {
   "cell_type": "markdown",
   "metadata": {},
   "source": [
    "Delete nitrogen metabolism-related reactions in OB3b GEM and other reactions that may bypass nitrogen metabolism!"
   ]
  }
 ],
 "metadata": {
  "kernelspec": {
   "display_name": "Python [conda env:GEM_py36]",
   "language": "python",
   "name": "conda-env-GEM_py36-py"
  },
  "language_info": {
   "codemirror_mode": {
    "name": "ipython",
    "version": 3
   },
   "file_extension": ".py",
   "mimetype": "text/x-python",
   "name": "python",
   "nbconvert_exporter": "python",
   "pygments_lexer": "ipython3",
   "version": "3.6.9"
  },
  "toc": {
   "base_numbering": 1,
   "nav_menu": {
    "height": "128px",
    "width": "314px"
   },
   "number_sections": true,
   "sideBar": true,
   "skip_h1_title": false,
   "title_cell": "Table of Contents",
   "title_sidebar": "Contents",
   "toc_cell": false,
   "toc_position": {
    "height": "628px",
    "left": "199px",
    "top": "111.133px",
    "width": "344.6px"
   },
   "toc_section_display": true,
   "toc_window_display": true
  },
  "varInspector": {
   "cols": {
    "lenName": 16,
    "lenType": 16,
    "lenVar": 40
   },
   "kernels_config": {
    "python": {
     "delete_cmd_postfix": "",
     "delete_cmd_prefix": "del ",
     "library": "var_list.py",
     "varRefreshCmd": "print(var_dic_list())"
    },
    "r": {
     "delete_cmd_postfix": ") ",
     "delete_cmd_prefix": "rm(",
     "library": "var_list.r",
     "varRefreshCmd": "cat(var_dic_list()) "
    }
   },
   "position": {
    "height": "305.85px",
    "left": "1533px",
    "right": "20px",
    "top": "113px",
    "width": "360px"
   },
   "types_to_exclude": [
    "module",
    "function",
    "builtin_function_or_method",
    "instance",
    "_Feature"
   ],
   "window_display": true
  }
 },
 "nbformat": 4,
 "nbformat_minor": 2
}
