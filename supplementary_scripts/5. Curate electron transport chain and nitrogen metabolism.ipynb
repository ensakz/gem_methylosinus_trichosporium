{
 "cells": [
  {
   "cell_type": "markdown",
   "metadata": {},
   "source": [
    "# Load dependencies"
   ]
  },
  {
   "cell_type": "code",
   "execution_count": 8,
   "metadata": {
    "ExecuteTime": {
     "end_time": "2020-01-17T01:52:06.388491Z",
     "start_time": "2020-01-17T01:52:06.381437Z"
    }
   },
   "outputs": [],
   "source": [
    "import cobra\n",
    "import libsbml\n",
    "import lxml\n",
    "\n",
    "models_directory = '/media/sf_Shared/Systems_biology/Metabolic_models/'\n",
    "OB3b_directory = '/media/sf_Shared/GEM_OB3b/'\n",
    "memote_directory = '/home/ensakz/Desktop/memote_m_trichosporium/'\n",
    "fastas_directory = '/media/sf_Shared/Systems_biology/Fastas_and_annotations/'\n",
    "inparanoid_directory = '/media/sf_Shared/Systems_biology/InParanoid_runs/'\n",
    "draft_gems_dir_8 = 'draft_gems/8.OB3b_draft_gem_during_pathway_manual_curation/'"
   ]
  },
  {
   "cell_type": "code",
   "execution_count": 9,
   "metadata": {
    "ExecuteTime": {
     "end_time": "2020-01-17T01:52:07.750734Z",
     "start_time": "2020-01-17T01:52:06.725828Z"
    }
   },
   "outputs": [],
   "source": [
    "iMsOB3b = cobra.io.load_json_model(memote_directory + draft_gems_dir_8 + \"bigg_OB3b_16_01_2020.json\")"
   ]
  },
  {
   "cell_type": "code",
   "execution_count": 10,
   "metadata": {
    "ExecuteTime": {
     "end_time": "2020-01-17T01:52:09.187469Z",
     "start_time": "2020-01-17T01:52:07.763347Z"
    }
   },
   "outputs": [],
   "source": [
    "model_Bath = cobra.io.load_json_model(models_directory + \"iMcBath.json\")"
   ]
  },
  {
   "cell_type": "code",
   "execution_count": 192,
   "metadata": {
    "ExecuteTime": {
     "end_time": "2020-01-18T05:43:50.595937Z",
     "start_time": "2020-01-18T05:43:13.518148Z"
    }
   },
   "outputs": [],
   "source": [
    "model_universal = cobra.io.load_json_model(models_directory + 'universal_model.json')"
   ]
  },
  {
   "cell_type": "markdown",
   "metadata": {},
   "source": [
    "# Curate electron transport chain and nitrogen metabolism\n",
    "Look at cofactors present in electron transport chain"
   ]
  },
  {
   "cell_type": "markdown",
   "metadata": {},
   "source": [
    "## Draw all reactions belonging to ETC on Escher map"
   ]
  },
  {
   "cell_type": "code",
   "execution_count": 25,
   "metadata": {
    "ExecuteTime": {
     "end_time": "2020-01-17T02:00:26.947765Z",
     "start_time": "2020-01-17T02:00:26.939684Z"
    }
   },
   "outputs": [
    {
     "name": "stdout",
     "output_type": "stream",
     "text": [
      "Cytochrome P460 - Hydroxylamine Dehydrogenase CYP460ipp: 2.0 ficytc_c + h2o_p + ham_p --> 2.0 focytc_c + 5.0 h_p + no2_p\n",
      "ubiquinol cytochrome c reductase UQCYOR_2p: 2.0 ficytc_c + qh2_c --> 2.0 focytc_c + 2.0 h_p + q_c\n",
      "1 2 propanediol dehydrogenase PPDODH: 12ppd_S_p + 4.0 ficytc_c --> 4.0 focytc_c + 2.0 h_p + lald_L_p\n",
      "quinoprotein ethanol dehydrogenase ETOHDH: etoh_p + 2.0 ficytc_c <=> acald_p + 2.0 focytc_c + 2.0 h_p\n",
      "D lactate dehydrogenase  cytochrome  LDH_D3: 2.0 ficytc_c + lac_D_c --> 2.0 focytc_c + 2.0 h_c + pyr_c\n",
      "particulate Methane Monooxygenase - Direct Coupling PMMODCipp: ch4_p + 2.0 focytc_c + 2.0 h_p + o2_p --> 2.0 ficytc_c + h2o_p + meoh_p\n",
      "Nitrite reductase (cytochrome; ammonia-forming) NITR_AMpp: 6.0 focytc_c + 8.0 h_c + no2_c --> 6.0 ficytc_c + 2.0 h2o_c + nh4_c\n",
      "Hydroxylamine oxydoreductase HAORipp: 2.0 ficytc_c + h2o_p + ham_p --> 2.0 focytc_c + 5.0 h_p + no2_p\n",
      "formaldehyde dehydrogenase FALDHp: fald_p + 2.0 ficytc_c + h2o_p --> 2.0 focytc_c + for_p + 3.0 h_p\n",
      "Nitrite reductase (cytochrome; NO-forming) NITR_NOpp: focytc_c + 2.0 h_c + no2_c --> ficytc_c + h2o_c + no_c\n",
      "Nitric oxide reductase (cytochrome c) NORZ2pp: 2.0 focytc_c + 2.0 h_p + 2.0 no_p --> 2.0 ficytc_c + h2o_p + n2o_p\n",
      "di_haem_cytochrome_c_peroxidase DHCYTCPEROX: 2.0 focytc_c + h2o2_p + 2.0 h_c --> 2.0 ficytc_c + 2.0 h2o_p\n",
      "cytochrome c oxidase CYO_2p: 2.0 focytc_c + 4.0 h_c + 0.5 o2_c --> 2.0 ficytc_c + h2o_c + 2.0 h_p\n",
      "methanol dehydrogenase MEOHDH: 2.0 ficytc_c + meoh_p --> fald_p + 2.0 focytc_c + 2.0 h_p\n"
     ]
    }
   ],
   "source": [
    "for reaction in iMsOB3b.metabolites.ficytc_c.reactions:\n",
    "    print(reaction.name, reaction)"
   ]
  },
  {
   "cell_type": "code",
   "execution_count": 24,
   "metadata": {
    "ExecuteTime": {
     "end_time": "2020-01-17T02:00:18.766892Z",
     "start_time": "2020-01-17T02:00:18.757346Z"
    }
   },
   "outputs": [
    {
     "name": "stdout",
     "output_type": "stream",
     "text": [
      "particulate Methane Monooxygenase PMMOipp: ch4_p + o2_p + qh2_c --> h2o_p + meoh_p + q_c\n",
      "ubiquinol cytochrome c reductase UQCYOR_2p: 2.0 ficytc_c + qh2_c --> 2.0 focytc_c + 2.0 h_p + q_c\n",
      "succinate dehydrogenase SUCCD1: q_c + succ_c <=> fum_c + qh2_c\n",
      "NADH ubiquinone oxidoreductase I NADH11: 5.0 h_c + nadh_c + q_c --> 4.0 h_p + nad_c + qh2_c\n",
      "nitrate reductase  periplasmic  NO3Rpp: no3_p + qh2_c --> h2o_p + no2_p + q_c\n",
      "NADPH Quinone Reductase (Ubiquinone-8) NADPHQR2: h_c + nadph_c + q_c --> nadp_c + qh2_c\n",
      "QRr QRr: h_c + nadph_c + q_c --> nadp_c + qh2_c\n",
      "3 demethylubiquinone 8 3 O methyltransferase DMQMT2: amet_c + dmuqh2_c --> ahcys_c + h_c + qh2_c\n",
      "cytochrome o ubiquinol oxidase CYOO_4p: 4.0 h_c + 0.5 o2_c + qh2_c --> h2o_c + 4.0 h_p + q_c\n",
      "cytochrome d terminal oxidase CYOD: 4.0 h_c + o2_c + 2.0 qh2_c --> 2.0 h2o_c + 4.0 h_p + 2.0 q_c\n",
      "Nitrate reductase (Ubiquinol-8) NO3R1: no3_c + qh2_c --> h2o_c + no2_c + q_c\n",
      "photosystem I cyclic PHOTOSYS1C: 2.0 fdxrd_c + 2.0 h_c + q_c --> 2.0 fdxox_c + qh2_c\n",
      "ETF dehydrogenase ETFDH: q_c + rETF_c <=> oxETF_c + qh2_c\n",
      "particulate ammonia monooxygenase PAMMOipp: nh4_p + o2_p + qh2_c --> h2o_p + h_p + ham_p + q_c\n"
     ]
    }
   ],
   "source": [
    "for reaction in iMsOB3b.metabolites.qh2_c.reactions:\n",
    "    if \"iomass\" not in reaction.name:\n",
    "        print(reaction.name, reaction)"
   ]
  },
  {
   "cell_type": "code",
   "execution_count": 26,
   "metadata": {
    "ExecuteTime": {
     "end_time": "2020-01-17T02:00:47.140359Z",
     "start_time": "2020-01-17T02:00:47.121054Z"
    },
    "scrolled": true
   },
   "outputs": [
    {
     "name": "stdout",
     "output_type": "stream",
     "text": [
      "erythrose 4 phosphate dehydrogenase E4PD: e4p_c + h2o_c + nad_c <=> 4per_c + 2.0 h_c + nadh_c\n",
      "Nitrite Reductase (NADH) NTRIR2x: 5.0 h_c + 3.0 nadh_c + no2_c --> 2.0 h2o_c + 3.0 nad_c + nh4_c\n",
      "3 hydroxyacyl CoA dehydrogenase  n 18 0  HACD8i: 3hodcoa_c + nad_c <=> 3oodcoa_c + h_c + nadh_c\n",
      "3 hydroxyacyl CoA dehydrogenase  n 10 0  HACD4: 3hdcoa_c + nad_c <=> 3odcoa_c + h_c + nadh_c\n",
      "NADH ubiquinone oxidoreductase I NADH11: 5.0 h_c + nadh_c + q_c --> 4.0 h_p + nad_c + qh2_c\n",
      "precorrin 3B synthase PRE3BS: 2.0 h_c + nadh_c + o2_c + pre3a_c <=> h2o_c + nad_c + pre3b_c\n",
      "3 hydroxyacyl CoA dehydrogenase  n 8 0  HACD3: 3hocoa_c + nad_c <=> 3oocoa_c + h_c + nadh_c\n",
      "2 hydroxy 3 oxopropionate reductase  NAD  TRSARr: glyc_R_c + nad_c <=> 2h3oppan_c + h_c + nadh_c\n",
      "erythronate 4 phosphate dehydrogenase PERD: 4per_c + nad_c <=> h_c + nadh_c + ohpb_c\n",
      "3 hydroxyacyl CoA dehydrogenase  n 18 1  HACOADH181: 3hcoctd11ecoa_c + nad_c <=> 3ococtd11ecoa_c + h_c + nadh_c\n",
      "Lipoate synthase LIPOS: 4fe4s_c + 2.0 amet_c + h_c + nad_c + octapb_c --> 2fe2s_c + 2.0 dad_5_c + 2.0 fe2_c + lipopb_c + 2.0 met__L_c + nadh_c\n",
      "3 hydroxyacyl CoA dehydrogenase  n 12 0  HACD5: 3hddcoa_c + nad_c <=> 3oddcoa_c + h_c + nadh_c\n",
      "3 hydroxyacyl CoA dehydrogenase  n 14 1  HACOADH141: 3hctd7ecoa_c + nad_c <=> 3octd7ecoa_c + h_c + nadh_c\n",
      "1 pyrroline 5 carboxylate dehydrogenase P5CD: 1pyr5c_c + 2.0 h2o_c + nad_c --> glu_L_c + h_c + nadh_c\n",
      "D 3 phosphoglycerate dehydrogenase PGCDr: 3pg_c + nad_c <=> 3php_c + h_c + nadh_c\n",
      "NAD P  transhydrogenase THD2pp: h_p + nadh_c + nadp_c --> h_c + nad_c + nadph_c\n",
      "malate dehydrogenase MDH: mal_L_c + nad_c <=> h_c + nadh_c + oaa_c\n",
      "glycolaldehyde dehydrogenase GCALDDr: gcald_c + h2o_c + nad_c --> glyclt_c + 2.0 h_c + nadh_c\n",
      "UDP-glucuronate C-4'' decarboxylase UDPGDC: nad_c + udpglcur_c --> co2_c + nadh_c + udpLa4o_c\n",
      "cyclohexadienyl dehydrogenase AROGDH: arog_c + nad_c --> co2_c + nadh_c + tyr_L_c\n",
      "histidinal dehydrogenase HISTDADH: h2o_c + histda_c + nad_c --> 2.0 h_c + his_L_c + nadh_c\n",
      "glutamate synthase 1 GLUD: akg_c + h_c + nadh_c + nh4_c --> glu_L_c + h2o_c + nad_c\n",
      "precorrin 2 dehydrogenase SHCHD2: dscl_c + nad_c <=> h_c + nadh_c + scl_c\n",
      "ALDD1 ALDD1: fald_c + h2o_c + nad_c --> for_c + 2.0 h_c + nadh_c\n",
      "lactaldehyde dehydrogenase LCAD: h2o_c + lald_L_c + nad_c --> 2.0 h_c + lac_L_c + nadh_c\n",
      "methylenetetrahydromethanopterin dehydrogenase 2 MLMPTDH: mlh4mpt_c + nad_c --> meh4mpt_c + nadh_c\n",
      "Choline dehydrogenase CHOLD: chol_c + nad_c --> betald_c + h_c + nadh_c\n",
      "3 hydroxyacyl CoA dehydrogenase  n 16 1  HACOADH161: 3hchd9ecoa_c + nad_c <=> 3ochd9ecoa_c + h_c + nadh_c\n",
      "hydroxypyruvate reductase GLYD: h_c + hpyr_c + nadh_c <=> glyc_R_c + nad_c\n",
      "3 hydroxyacyl CoA dehydrogenase  n 16 0  HACD7: 3hhdcoa_c + nad_c <=> 3ohdcoa_c + h_c + nadh_c\n",
      "3 hydroxyacyl CoA dehydrogenase  n 12 1  HACOADH121: 3hcdd5ecoa_c + nad_c <=> 3ocdd5ecoa_c + h_c + nadh_c\n",
      "Glutamate dehydrogenase  NAD  GLUDxi: glu__L_c + h2o_c + nad_c --> akg_c + h_c + nadh_c + nh4_c\n",
      "3 hydroxyacyl CoA dehydrogenase  n 14 0  HACD6: 3htdcoa_c + nad_c <=> 3otdcoa_c + h_c + nadh_c\n",
      "2 oxoglutarate dehydrogenase AKGDH: akg_c + coa_c + nad_c --> co2_c + nadh_c + succoa_c\n",
      "prephenate dehydrogenase PPND: nad_c + pphn_c --> 34hpp_c + co2_c + nadh_c\n",
      "UDP glucose 6 dehydrogenase UDPGDr: h2o_c + 2.0 nad_c + udpg_c <=> 3.0 h_c + 2.0 nadh_c + udpglcur_c\n",
      "D beta hydroxybutyrate dehydrogenase BDH: bhb_c + nad_c <=> acac_c + h_c + nadh_c\n",
      "4 hydroxy L threonine phosphate dehydrogenase  NAD dependent HTHRPD: nad_c + phthr_c <=> ao4pob_c + h_c + nadh_c\n",
      "formate dehydrogenase FDHr: for_c + nad_c <=> co2_c + nadh_c\n",
      "3 isopropylmalate dehydrogenase IPMD2r: 3c3hmp_c + nad_c <=> 3c4mop_c + h_c + nadh_c\n",
      "soluble ammonia monooxygenase SAMMOi: nadh_c + nh4_c + o2_c --> h2o_c + ham_c + nad_c\n",
      "soluble Methane Monooxygenase SMMOi: ch4_c + h_c + nadh_c + o2_c --> h2o_c + meoh_c + nad_c\n",
      "NADH azoreductase MREDR: 2.0 h_c + mred_c + 2.0 nadh_c <=> Nndmetphenda_c + anth_c + 2.0 nad_c\n",
      "glyceraldehyde 3 phosphate dehydrogenase GAPD: g3p_c + nad_c + pi_c <=> 13dpg_c + h_c + nadh_c\n",
      "S lactate dehydrogenase LDH_L: lac_L_c + nad_c <=> h_c + nadh_c + pyr_c\n",
      "pyruvate dehydrogenase PDH: coa_c + nad_c + pyr_c --> accoa_c + co2_c + nadh_c\n",
      "histidinol dehydrogenase HISTD: histd_c + nad_c --> h_c + histda_c + nadh_c\n",
      "IMP dehydrogenase IMPD: h2o_c + imp_c + nad_c <=> h_c + nadh_c + xmp_c\n",
      "3 hydroxyacyl CoA dehydrogenase  n 4 0  HACD1: 3hbcoa_c + nad_c <=> aacoa_c + h_c + nadh_c\n",
      "glyoxylate reductase GLYCLTDx: glx_c + h_c + nadh_c <=> glyclt_c + nad_c\n",
      "malate dehydrogenase  decarboxylating  MALDHDC: mal_L_c + nad_c --> co2_c + nadh_c + pyr_c\n",
      "3 hydroxyacyl CoA dehydrogenase  n 6 0  HACD2: 3hhcoa_c + nad_c <=> 3ohcoa_c + h_c + nadh_c\n",
      "UDP-N-acetyl-D-mannosamine oxidoreductase UACMAMO: h2o_c + 2.0 nad_c + uacmam_c --> 3.0 h_c + 2.0 nadh_c + uacmamu_c\n",
      "pyridine nucleotide disulphide oxidoreductase EAOXRED: h_c + nadh_c + oxEA_c --> nad_c + rdEA_c\n"
     ]
    }
   ],
   "source": [
    "for reaction in iMsOB3b.metabolites.nadh_c.reactions:\n",
    "    if \"iomass\" not in reaction.name:\n",
    "        print(reaction.name, reaction)"
   ]
  },
  {
   "cell_type": "code",
   "execution_count": 37,
   "metadata": {
    "ExecuteTime": {
     "end_time": "2020-01-17T02:20:54.250207Z",
     "start_time": "2020-01-17T02:20:54.245839Z"
    }
   },
   "outputs": [
    {
     "data": {
      "text/plain": [
       "frozenset()"
      ]
     },
     "execution_count": 37,
     "metadata": {},
     "output_type": "execute_result"
    }
   ],
   "source": [
    "iMsOB3b.metabolites.q8_c.reactions"
   ]
  },
  {
   "cell_type": "code",
   "execution_count": 38,
   "metadata": {
    "ExecuteTime": {
     "end_time": "2020-01-17T02:20:58.121702Z",
     "start_time": "2020-01-17T02:20:58.111744Z"
    }
   },
   "outputs": [
    {
     "data": {
      "text/plain": [
       "frozenset()"
      ]
     },
     "execution_count": 38,
     "metadata": {},
     "output_type": "execute_result"
    }
   ],
   "source": [
    "iMsOB3b.metabolites.q8h2_c.reactions"
   ]
  },
  {
   "cell_type": "code",
   "execution_count": null,
   "metadata": {},
   "outputs": [],
   "source": [
    "import re\n",
    "for reaction in iMsOB3b.reactions:\n",
    "    if re.search(\"transhydrogenase\", reaction.name, re.IGNORECASE):\n",
    "        print(reaction.id, reaction.name)"
   ]
  },
  {
   "cell_type": "code",
   "execution_count": 29,
   "metadata": {
    "ExecuteTime": {
     "end_time": "2020-01-17T02:11:10.094810Z",
     "start_time": "2020-01-17T02:11:10.085207Z"
    }
   },
   "outputs": [
    {
     "name": "stdout",
     "output_type": "stream",
     "text": [
      "FMNRx2 NADPH dependent FMN reductase\n"
     ]
    }
   ],
   "source": [
    "import re\n",
    "for reaction in iMsOB3b.reactions:\n",
    "    if re.search(\"FMN reducta\", reaction.name, re.IGNORECASE):\n",
    "        print(reaction.id, reaction.name)"
   ]
  },
  {
   "cell_type": "code",
   "execution_count": 30,
   "metadata": {
    "ExecuteTime": {
     "end_time": "2020-01-17T02:16:22.928081Z",
     "start_time": "2020-01-17T02:16:22.918741Z"
    }
   },
   "outputs": [
    {
     "name": "stdout",
     "output_type": "stream",
     "text": [
      "PPA inorganic pyrophosphatase\n"
     ]
    }
   ],
   "source": [
    "import re\n",
    "for reaction in iMsOB3b.reactions:\n",
    "    if re.search(\"Inorganic\", reaction.name, re.IGNORECASE):\n",
    "        print(reaction.id, reaction.name)"
   ]
  },
  {
   "cell_type": "code",
   "execution_count": 32,
   "metadata": {
    "ExecuteTime": {
     "end_time": "2020-01-17T02:17:38.098655Z",
     "start_time": "2020-01-17T02:17:38.083765Z"
    },
    "scrolled": true
   },
   "outputs": [
    {
     "name": "stdout",
     "output_type": "stream",
     "text": [
      "EAOXRED pyridine nucleotide disulphide oxidoreductase\n",
      "FRDOr NADPH ferredoxin oxidoreductase 1\n",
      "H2O2syn NADPH oxidoreductase  OYE \n",
      "NADH11 NADH ubiquinone oxidoreductase I\n",
      "UACMAMO UDP-N-acetyl-D-mannosamine oxidoreductase\n",
      "HGNTOR Homogentisateoxygen 1 2 oxidoreductase  decyclizing \n",
      "34HPPOR 4 Hydroxyphenylpyruvateoxygen oxidoreductase\n"
     ]
    }
   ],
   "source": [
    "import re\n",
    "for reaction in iMsOB3b.reactions:\n",
    "    if re.search(\"oxidoreductase\", reaction.name, re.IGNORECASE):\n",
    "        print(reaction.id, reaction.name)"
   ]
  },
  {
   "cell_type": "code",
   "execution_count": 33,
   "metadata": {
    "ExecuteTime": {
     "end_time": "2020-01-17T02:19:42.818976Z",
     "start_time": "2020-01-17T02:19:42.808558Z"
    }
   },
   "outputs": [
    {
     "name": "stdout",
     "output_type": "stream",
     "text": [
      "DMQMT2 3 demethylubiquinone 8 3 O methyltransferase\n",
      "NADH11 NADH ubiquinone oxidoreductase I\n",
      "NADPHQR2 NADPH Quinone Reductase (Ubiquinone-8)\n"
     ]
    }
   ],
   "source": [
    "import re\n",
    "for reaction in iMsOB3b.reactions:\n",
    "    if re.search(\"ubiquinone\", reaction.name, re.IGNORECASE):\n",
    "        print(reaction.id, reaction.name)"
   ]
  },
  {
   "cell_type": "code",
   "execution_count": 39,
   "metadata": {
    "ExecuteTime": {
     "end_time": "2020-01-17T02:22:31.235238Z",
     "start_time": "2020-01-17T02:22:31.225445Z"
    }
   },
   "outputs": [
    {
     "name": "stdout",
     "output_type": "stream",
     "text": [
      "PPAppt H    translocating pyrophosphatases\n"
     ]
    }
   ],
   "source": [
    "import re\n",
    "for reaction in iMsOB3b.reactions:\n",
    "    if re.search(\"translocatin\", reaction.name, re.IGNORECASE):\n",
    "        print(reaction.id, reaction.name)"
   ]
  },
  {
   "cell_type": "code",
   "execution_count": 40,
   "metadata": {
    "ExecuteTime": {
     "end_time": "2020-01-17T02:24:30.458522Z",
     "start_time": "2020-01-17T02:24:30.446546Z"
    }
   },
   "outputs": [
    {
     "name": "stdout",
     "output_type": "stream",
     "text": [
      "NO3Ras nitrate reductase assimilatory\n",
      "NO3Rpp nitrate reductase  periplasmic \n",
      "NO3R1 Nitrate reductase (Ubiquinol-8)\n"
     ]
    }
   ],
   "source": [
    "import re\n",
    "for reaction in iMsOB3b.reactions:\n",
    "    if re.search(\"nitrate r\", reaction.name, re.IGNORECASE):\n",
    "        print(reaction.id, reaction.name)"
   ]
  },
  {
   "cell_type": "code",
   "execution_count": 41,
   "metadata": {
    "ExecuteTime": {
     "end_time": "2020-01-17T02:28:49.968216Z",
     "start_time": "2020-01-17T02:28:49.956639Z"
    }
   },
   "outputs": [
    {
     "name": "stdout",
     "output_type": "stream",
     "text": [
      "EX_DM_rbrdxOX exchange flux   oxidized rubredoxin\n"
     ]
    }
   ],
   "source": [
    "import re\n",
    "for reaction in iMsOB3b.reactions:\n",
    "    if re.search(\"rubre\", reaction.name, re.IGNORECASE):\n",
    "        print(reaction.id, reaction.name)"
   ]
  },
  {
   "cell_type": "code",
   "execution_count": 42,
   "metadata": {
    "ExecuteTime": {
     "end_time": "2020-01-17T02:29:08.205418Z",
     "start_time": "2020-01-17T02:29:08.196622Z"
    }
   },
   "outputs": [
    {
     "data": {
      "text/html": [
       "\n",
       "        <table>\n",
       "            <tr>\n",
       "                <td><strong>Reaction identifier</strong></td><td>EX_DM_rbrdxOX</td>\n",
       "            </tr><tr>\n",
       "                <td><strong>Name</strong></td><td>exchange flux   oxidized rubredoxin</td>\n",
       "            </tr><tr>\n",
       "                <td><strong>Memory address</strong></td>\n",
       "                <td>0x07fab22a2af60</td>\n",
       "            </tr><tr>\n",
       "                <td><strong>Stoichiometry</strong></td>\n",
       "                <td>\n",
       "                    <p style='text-align:right'>rbrdxOX_c <=> </p>\n",
       "                    <p style='text-align:right'>oxidized_rubredoxin <=> </p>\n",
       "                </td>\n",
       "            </tr><tr>\n",
       "                <td><strong>GPR</strong></td><td></td>\n",
       "            </tr><tr>\n",
       "                <td><strong>Lower bound</strong></td><td>-1000.0</td>\n",
       "            </tr><tr>\n",
       "                <td><strong>Upper bound</strong></td><td>1000.0</td>\n",
       "            </tr>\n",
       "        </table>\n",
       "        "
      ],
      "text/plain": [
       "<Reaction EX_DM_rbrdxOX at 0x7fab22a2af60>"
      ]
     },
     "execution_count": 42,
     "metadata": {},
     "output_type": "execute_result"
    }
   ],
   "source": [
    "iMsOB3b.reactions.EX_DM_rbrdxOX"
   ]
  },
  {
   "cell_type": "code",
   "execution_count": 44,
   "metadata": {
    "ExecuteTime": {
     "end_time": "2020-01-17T02:30:16.783056Z",
     "start_time": "2020-01-17T02:30:16.777089Z"
    }
   },
   "outputs": [
    {
     "data": {
      "text/plain": [
       "frozenset({<Reaction EX_DM_rbrdxOX at 0x7fab22a2af60>})"
      ]
     },
     "execution_count": 44,
     "metadata": {},
     "output_type": "execute_result"
    }
   ],
   "source": [
    "iMsOB3b.metabolites.rbrdxOX_c.reactions"
   ]
  },
  {
   "cell_type": "code",
   "execution_count": 45,
   "metadata": {
    "ExecuteTime": {
     "end_time": "2020-01-17T02:31:09.303804Z",
     "start_time": "2020-01-17T02:31:09.294384Z"
    }
   },
   "outputs": [
    {
     "name": "stdout",
     "output_type": "stream",
     "text": [
      "EAOXRED pyridine nucleotide disulphide oxidoreductase\n",
      "THDPS 2 3 4 5 tetrahydropyridine 2 carboxylate N succinyltransferase\n"
     ]
    }
   ],
   "source": [
    "import re\n",
    "for reaction in iMsOB3b.reactions:\n",
    "    if re.search(\"pyridi\", reaction.name, re.IGNORECASE):\n",
    "        print(reaction.id, reaction.name)"
   ]
  },
  {
   "cell_type": "code",
   "execution_count": 48,
   "metadata": {
    "ExecuteTime": {
     "end_time": "2020-01-17T02:33:13.191375Z",
     "start_time": "2020-01-17T02:33:13.187202Z"
    }
   },
   "outputs": [
    {
     "data": {
      "text/html": [
       "\n",
       "        <table>\n",
       "            <tr>\n",
       "                <td><strong>Reaction identifier</strong></td><td>SUCCD1</td>\n",
       "            </tr><tr>\n",
       "                <td><strong>Name</strong></td><td>succinate dehydrogenase</td>\n",
       "            </tr><tr>\n",
       "                <td><strong>Memory address</strong></td>\n",
       "                <td>0x07fab22735a58</td>\n",
       "            </tr><tr>\n",
       "                <td><strong>Stoichiometry</strong></td>\n",
       "                <td>\n",
       "                    <p style='text-align:right'>q_c + succ_c <=> fum_c + qh2_c</p>\n",
       "                    <p style='text-align:right'>UQ + succinate <=> fumarate + UQH2</p>\n",
       "                </td>\n",
       "            </tr><tr>\n",
       "                <td><strong>GPR</strong></td><td>CQW49_22885 and CQW49_10810 and (CQW49_10825 or CQW49_22875) and CQW49_10800</td>\n",
       "            </tr><tr>\n",
       "                <td><strong>Lower bound</strong></td><td>-1000.0</td>\n",
       "            </tr><tr>\n",
       "                <td><strong>Upper bound</strong></td><td>1000.0</td>\n",
       "            </tr>\n",
       "        </table>\n",
       "        "
      ],
      "text/plain": [
       "<Reaction SUCCD1 at 0x7fab22735a58>"
      ]
     },
     "execution_count": 48,
     "metadata": {},
     "output_type": "execute_result"
    }
   ],
   "source": [
    "iMsOB3b.reactions.SUCCD1"
   ]
  },
  {
   "cell_type": "markdown",
   "metadata": {},
   "source": [
    "## Draw all reactions belonging to Nitrogen metabolism on Escher map"
   ]
  },
  {
   "cell_type": "markdown",
   "metadata": {},
   "source": [
    "### Molecular nitrogen:"
   ]
  },
  {
   "cell_type": "code",
   "execution_count": 54,
   "metadata": {
    "ExecuteTime": {
     "end_time": "2020-01-17T06:06:41.625894Z",
     "start_time": "2020-01-17T06:06:41.620081Z"
    }
   },
   "outputs": [
    {
     "data": {
      "text/plain": [
       "frozenset({<Reaction N2trpp at 0x7fab24eda908>,\n",
       "           <Reaction NIT_mc at 0x7fab24eb1320>})"
      ]
     },
     "execution_count": 54,
     "metadata": {},
     "output_type": "execute_result"
    }
   ],
   "source": [
    "iMsOB3b.metabolites.n2_c.reactions"
   ]
  },
  {
   "cell_type": "code",
   "execution_count": 56,
   "metadata": {
    "ExecuteTime": {
     "end_time": "2020-01-17T06:08:24.649913Z",
     "start_time": "2020-01-17T06:08:24.644461Z"
    }
   },
   "outputs": [
    {
     "data": {
      "text/plain": [
       "frozenset({<Reaction EX_n2_e at 0x7fab24edabe0>,\n",
       "           <Reaction N2tex at 0x7fab24edaa90>})"
      ]
     },
     "execution_count": 56,
     "metadata": {},
     "output_type": "execute_result"
    }
   ],
   "source": [
    "iMsOB3b.metabolites.n2_e.reactions"
   ]
  },
  {
   "cell_type": "code",
   "execution_count": 57,
   "metadata": {
    "ExecuteTime": {
     "end_time": "2020-01-17T06:10:19.872915Z",
     "start_time": "2020-01-17T06:10:19.866568Z"
    }
   },
   "outputs": [
    {
     "data": {
      "text/html": [
       "\n",
       "        <table>\n",
       "            <tr>\n",
       "                <td><strong>Reaction identifier</strong></td><td>EX_n2_e</td>\n",
       "            </tr><tr>\n",
       "                <td><strong>Name</strong></td><td>N2 exchange</td>\n",
       "            </tr><tr>\n",
       "                <td><strong>Memory address</strong></td>\n",
       "                <td>0x07fab24edabe0</td>\n",
       "            </tr><tr>\n",
       "                <td><strong>Stoichiometry</strong></td>\n",
       "                <td>\n",
       "                    <p style='text-align:right'>n2_e --> </p>\n",
       "                    <p style='text-align:right'>dinitrogen --> </p>\n",
       "                </td>\n",
       "            </tr><tr>\n",
       "                <td><strong>GPR</strong></td><td></td>\n",
       "            </tr><tr>\n",
       "                <td><strong>Lower bound</strong></td><td>0</td>\n",
       "            </tr><tr>\n",
       "                <td><strong>Upper bound</strong></td><td>0</td>\n",
       "            </tr>\n",
       "        </table>\n",
       "        "
      ],
      "text/plain": [
       "<Reaction EX_n2_e at 0x7fab24edabe0>"
      ]
     },
     "execution_count": 57,
     "metadata": {},
     "output_type": "execute_result"
    }
   ],
   "source": [
    "iMsOB3b.reactions.EX_n2_e"
   ]
  },
  {
   "cell_type": "markdown",
   "metadata": {},
   "source": [
    "### Ammonia"
   ]
  },
  {
   "cell_type": "code",
   "execution_count": 59,
   "metadata": {
    "ExecuteTime": {
     "end_time": "2020-01-17T06:14:53.442270Z",
     "start_time": "2020-01-17T06:14:53.436659Z"
    }
   },
   "outputs": [
    {
     "data": {
      "text/html": [
       "\n",
       "        <table>\n",
       "            <tr>\n",
       "                <td><strong>Metabolite identifier</strong></td><td>nh4_e</td>\n",
       "            </tr><tr>\n",
       "                <td><strong>Name</strong></td><td>NH3</td>\n",
       "            </tr><tr>\n",
       "                <td><strong>Memory address</strong></td>\n",
       "                <td>0x07fab24fd0048</td>\n",
       "            </tr><tr>\n",
       "                <td><strong>Formula</strong></td><td>None</td>\n",
       "            </tr><tr>\n",
       "                <td><strong>Compartment</strong></td><td>e</td>\n",
       "            </tr><tr>\n",
       "                <td><strong>In 2 reaction(s)</strong></td><td>\n",
       "                    EX_nh4_e, NH4tex</td>\n",
       "            </tr>\n",
       "        </table>"
      ],
      "text/plain": [
       "<Metabolite nh4_e at 0x7fab24fd0048>"
      ]
     },
     "execution_count": 59,
     "metadata": {},
     "output_type": "execute_result"
    }
   ],
   "source": [
    "iMsOB3b.metabolites.nh4_e"
   ]
  },
  {
   "cell_type": "code",
   "execution_count": 60,
   "metadata": {
    "ExecuteTime": {
     "end_time": "2020-01-17T06:16:17.883660Z",
     "start_time": "2020-01-17T06:16:17.878463Z"
    }
   },
   "outputs": [
    {
     "data": {
      "text/html": [
       "\n",
       "        <table>\n",
       "            <tr>\n",
       "                <td><strong>Metabolite identifier</strong></td><td>nh4_p</td>\n",
       "            </tr><tr>\n",
       "                <td><strong>Name</strong></td><td>NH3</td>\n",
       "            </tr><tr>\n",
       "                <td><strong>Memory address</strong></td>\n",
       "                <td>0x07fab24fd0a20</td>\n",
       "            </tr><tr>\n",
       "                <td><strong>Formula</strong></td><td>None</td>\n",
       "            </tr><tr>\n",
       "                <td><strong>Compartment</strong></td><td>p</td>\n",
       "            </tr><tr>\n",
       "                <td><strong>In 3 reaction(s)</strong></td><td>\n",
       "                    NH4tpp, NH4tex, PAMMOipp</td>\n",
       "            </tr>\n",
       "        </table>"
      ],
      "text/plain": [
       "<Metabolite nh4_p at 0x7fab24fd0a20>"
      ]
     },
     "execution_count": 60,
     "metadata": {},
     "output_type": "execute_result"
    }
   ],
   "source": [
    "iMsOB3b.metabolites.nh4_p"
   ]
  },
  {
   "cell_type": "code",
   "execution_count": 61,
   "metadata": {
    "ExecuteTime": {
     "end_time": "2020-01-17T06:19:05.799402Z",
     "start_time": "2020-01-17T06:19:05.794516Z"
    }
   },
   "outputs": [
    {
     "data": {
      "text/html": [
       "\n",
       "        <table>\n",
       "            <tr>\n",
       "                <td><strong>Metabolite identifier</strong></td><td>nh4_c</td>\n",
       "            </tr><tr>\n",
       "                <td><strong>Name</strong></td><td>NH3</td>\n",
       "            </tr><tr>\n",
       "                <td><strong>Memory address</strong></td>\n",
       "                <td>0x07fab24fd0a58</td>\n",
       "            </tr><tr>\n",
       "                <td><strong>Formula</strong></td><td>None</td>\n",
       "            </tr><tr>\n",
       "                <td><strong>Compartment</strong></td><td>c</td>\n",
       "            </tr><tr>\n",
       "                <td><strong>In 30 reaction(s)</strong></td><td>\n",
       "                    NTRIR2x, TRPAS2, DALAOX, DCTPD, DHPPDA2, GLUDxi, GLYCL_3, NITR_AMpp, Biomass_Mextorquens_AM1_core, NNAMr, GLUDy, GLNS, SAMMOi, UREA, GLYO1, CCGS, DAAD, METGL, NTRIR2y, NTRIR4, GMPS, THRD_L, NH4tpp,...</td>\n",
       "            </tr>\n",
       "        </table>"
      ],
      "text/plain": [
       "<Metabolite nh4_c at 0x7fab24fd0a58>"
      ]
     },
     "execution_count": 61,
     "metadata": {},
     "output_type": "execute_result"
    }
   ],
   "source": [
    "iMsOB3b.metabolites.nh4_c"
   ]
  },
  {
   "cell_type": "code",
   "execution_count": 62,
   "metadata": {
    "ExecuteTime": {
     "end_time": "2020-01-17T07:11:58.128032Z",
     "start_time": "2020-01-17T07:11:58.121703Z"
    }
   },
   "outputs": [
    {
     "data": {
      "text/html": [
       "\n",
       "        <table>\n",
       "            <tr>\n",
       "                <td><strong>Reaction identifier</strong></td><td>GLUD</td>\n",
       "            </tr><tr>\n",
       "                <td><strong>Name</strong></td><td>glutamate synthase 1</td>\n",
       "            </tr><tr>\n",
       "                <td><strong>Memory address</strong></td>\n",
       "                <td>0x07fab2289bb38</td>\n",
       "            </tr><tr>\n",
       "                <td><strong>Stoichiometry</strong></td>\n",
       "                <td>\n",
       "                    <p style='text-align:right'>akg_c + h_c + nadh_c + nh4_c --> glu_L_c + h2o_c + nad_c</p>\n",
       "                    <p style='text-align:right'>2_oxoglutarate + H_ + NADH + NH3 --> L_glutamate + H2O + NAD_</p>\n",
       "                </td>\n",
       "            </tr><tr>\n",
       "                <td><strong>GPR</strong></td><td>CQW49_02655 and CQW49_02775</td>\n",
       "            </tr><tr>\n",
       "                <td><strong>Lower bound</strong></td><td>0</td>\n",
       "            </tr><tr>\n",
       "                <td><strong>Upper bound</strong></td><td>1000</td>\n",
       "            </tr>\n",
       "        </table>\n",
       "        "
      ],
      "text/plain": [
       "<Reaction GLUD at 0x7fab2289bb38>"
      ]
     },
     "execution_count": 62,
     "metadata": {},
     "output_type": "execute_result"
    }
   ],
   "source": [
    "iMsOB3b.reactions.GLUD"
   ]
  },
  {
   "cell_type": "markdown",
   "metadata": {},
   "source": [
    "### Nitrate"
   ]
  },
  {
   "cell_type": "code",
   "execution_count": 63,
   "metadata": {
    "ExecuteTime": {
     "end_time": "2020-01-17T07:17:32.554546Z",
     "start_time": "2020-01-17T07:17:32.549413Z"
    }
   },
   "outputs": [
    {
     "data": {
      "text/html": [
       "\n",
       "        <table>\n",
       "            <tr>\n",
       "                <td><strong>Metabolite identifier</strong></td><td>no3_c</td>\n",
       "            </tr><tr>\n",
       "                <td><strong>Name</strong></td><td>NO3_</td>\n",
       "            </tr><tr>\n",
       "                <td><strong>Memory address</strong></td>\n",
       "                <td>0x07fab226a8668</td>\n",
       "            </tr><tr>\n",
       "                <td><strong>Formula</strong></td><td>None</td>\n",
       "            </tr><tr>\n",
       "                <td><strong>Compartment</strong></td><td>c</td>\n",
       "            </tr><tr>\n",
       "                <td><strong>In 4 reaction(s)</strong></td><td>\n",
       "                    NO3t7pp, NO3Ras, NODOy, NO3R1</td>\n",
       "            </tr>\n",
       "        </table>"
      ],
      "text/plain": [
       "<Metabolite no3_c at 0x7fab226a8668>"
      ]
     },
     "execution_count": 63,
     "metadata": {},
     "output_type": "execute_result"
    }
   ],
   "source": [
    "iMsOB3b.metabolites.no3_c"
   ]
  },
  {
   "cell_type": "code",
   "execution_count": 64,
   "metadata": {
    "ExecuteTime": {
     "end_time": "2020-01-17T07:18:16.065064Z",
     "start_time": "2020-01-17T07:18:16.060494Z"
    }
   },
   "outputs": [
    {
     "data": {
      "text/html": [
       "\n",
       "        <table>\n",
       "            <tr>\n",
       "                <td><strong>Reaction identifier</strong></td><td>NODOy</td>\n",
       "            </tr><tr>\n",
       "                <td><strong>Name</strong></td><td>nitric oxide dioxygenase</td>\n",
       "            </tr><tr>\n",
       "                <td><strong>Memory address</strong></td>\n",
       "                <td>0x07fab22a2a8d0</td>\n",
       "            </tr><tr>\n",
       "                <td><strong>Stoichiometry</strong></td>\n",
       "                <td>\n",
       "                    <p style='text-align:right'>nadph_c + 2.0 no_c + 2.0 o2_c --> h_c + nadp_c + 2.0 no3_c</p>\n",
       "                    <p style='text-align:right'>NADPH + 2.0 NO + 2.0 O2 --> H_ + NADP_ + 2.0 NO3_</p>\n",
       "                </td>\n",
       "            </tr><tr>\n",
       "                <td><strong>GPR</strong></td><td>CQW49_12455</td>\n",
       "            </tr><tr>\n",
       "                <td><strong>Lower bound</strong></td><td>0</td>\n",
       "            </tr><tr>\n",
       "                <td><strong>Upper bound</strong></td><td>0</td>\n",
       "            </tr>\n",
       "        </table>\n",
       "        "
      ],
      "text/plain": [
       "<Reaction NODOy at 0x7fab22a2a8d0>"
      ]
     },
     "execution_count": 64,
     "metadata": {},
     "output_type": "execute_result"
    }
   ],
   "source": [
    "iMsOB3b.reactions.NODOy"
   ]
  },
  {
   "cell_type": "code",
   "execution_count": 66,
   "metadata": {
    "ExecuteTime": {
     "end_time": "2020-01-17T07:28:33.756195Z",
     "start_time": "2020-01-17T07:28:33.751398Z"
    }
   },
   "outputs": [
    {
     "data": {
      "text/html": [
       "\n",
       "        <table>\n",
       "            <tr>\n",
       "                <td><strong>Metabolite identifier</strong></td><td>no3_e</td>\n",
       "            </tr><tr>\n",
       "                <td><strong>Name</strong></td><td>NO3_</td>\n",
       "            </tr><tr>\n",
       "                <td><strong>Memory address</strong></td>\n",
       "                <td>0x07fab226a8710</td>\n",
       "            </tr><tr>\n",
       "                <td><strong>Formula</strong></td><td>None</td>\n",
       "            </tr><tr>\n",
       "                <td><strong>Compartment</strong></td><td>e</td>\n",
       "            </tr><tr>\n",
       "                <td><strong>In 2 reaction(s)</strong></td><td>\n",
       "                    EX_no3_e, NO3tex</td>\n",
       "            </tr>\n",
       "        </table>"
      ],
      "text/plain": [
       "<Metabolite no3_e at 0x7fab226a8710>"
      ]
     },
     "execution_count": 66,
     "metadata": {},
     "output_type": "execute_result"
    }
   ],
   "source": [
    "iMsOB3b.metabolites.no3_e"
   ]
  },
  {
   "cell_type": "code",
   "execution_count": 65,
   "metadata": {
    "ExecuteTime": {
     "end_time": "2020-01-17T07:19:52.257340Z",
     "start_time": "2020-01-17T07:19:52.252393Z"
    }
   },
   "outputs": [
    {
     "data": {
      "text/html": [
       "\n",
       "        <table>\n",
       "            <tr>\n",
       "                <td><strong>Metabolite identifier</strong></td><td>no3_p</td>\n",
       "            </tr><tr>\n",
       "                <td><strong>Name</strong></td><td>NO3_</td>\n",
       "            </tr><tr>\n",
       "                <td><strong>Memory address</strong></td>\n",
       "                <td>0x07fab226a85f8</td>\n",
       "            </tr><tr>\n",
       "                <td><strong>Formula</strong></td><td>None</td>\n",
       "            </tr><tr>\n",
       "                <td><strong>Compartment</strong></td><td>p</td>\n",
       "            </tr><tr>\n",
       "                <td><strong>In 3 reaction(s)</strong></td><td>\n",
       "                    NO3tex, NO3Rpp, NO3t7pp</td>\n",
       "            </tr>\n",
       "        </table>"
      ],
      "text/plain": [
       "<Metabolite no3_p at 0x7fab226a85f8>"
      ]
     },
     "execution_count": 65,
     "metadata": {},
     "output_type": "execute_result"
    }
   ],
   "source": [
    "iMsOB3b.metabolites.no3_p"
   ]
  },
  {
   "cell_type": "code",
   "execution_count": 67,
   "metadata": {
    "ExecuteTime": {
     "end_time": "2020-01-17T07:28:48.812398Z",
     "start_time": "2020-01-17T07:28:48.807052Z"
    }
   },
   "outputs": [
    {
     "data": {
      "text/html": [
       "\n",
       "        <table>\n",
       "            <tr>\n",
       "                <td><strong>Metabolite identifier</strong></td><td>no3_c</td>\n",
       "            </tr><tr>\n",
       "                <td><strong>Name</strong></td><td>NO3_</td>\n",
       "            </tr><tr>\n",
       "                <td><strong>Memory address</strong></td>\n",
       "                <td>0x07fab226a8668</td>\n",
       "            </tr><tr>\n",
       "                <td><strong>Formula</strong></td><td>None</td>\n",
       "            </tr><tr>\n",
       "                <td><strong>Compartment</strong></td><td>c</td>\n",
       "            </tr><tr>\n",
       "                <td><strong>In 4 reaction(s)</strong></td><td>\n",
       "                    NO3t7pp, NO3Ras, NODOy, NO3R1</td>\n",
       "            </tr>\n",
       "        </table>"
      ],
      "text/plain": [
       "<Metabolite no3_c at 0x7fab226a8668>"
      ]
     },
     "execution_count": 67,
     "metadata": {},
     "output_type": "execute_result"
    }
   ],
   "source": [
    "iMsOB3b.metabolites.no3_c"
   ]
  },
  {
   "cell_type": "markdown",
   "metadata": {},
   "source": [
    "### Nitrite"
   ]
  },
  {
   "cell_type": "code",
   "execution_count": 69,
   "metadata": {
    "ExecuteTime": {
     "end_time": "2020-01-17T07:29:23.561632Z",
     "start_time": "2020-01-17T07:29:23.557191Z"
    }
   },
   "outputs": [
    {
     "data": {
      "text/html": [
       "\n",
       "        <table>\n",
       "            <tr>\n",
       "                <td><strong>Metabolite identifier</strong></td><td>no2_e</td>\n",
       "            </tr><tr>\n",
       "                <td><strong>Name</strong></td><td>nitrite</td>\n",
       "            </tr><tr>\n",
       "                <td><strong>Memory address</strong></td>\n",
       "                <td>0x07fab226966a0</td>\n",
       "            </tr><tr>\n",
       "                <td><strong>Formula</strong></td><td>NO2</td>\n",
       "            </tr><tr>\n",
       "                <td><strong>Compartment</strong></td><td>e</td>\n",
       "            </tr><tr>\n",
       "                <td><strong>In 2 reaction(s)</strong></td><td>\n",
       "                    NO2tex, EX_no2_e</td>\n",
       "            </tr>\n",
       "        </table>"
      ],
      "text/plain": [
       "<Metabolite no2_e at 0x7fab226966a0>"
      ]
     },
     "execution_count": 69,
     "metadata": {},
     "output_type": "execute_result"
    }
   ],
   "source": [
    "iMsOB3b.metabolites.no2_e"
   ]
  },
  {
   "cell_type": "code",
   "execution_count": 70,
   "metadata": {
    "ExecuteTime": {
     "end_time": "2020-01-17T07:30:30.882135Z",
     "start_time": "2020-01-17T07:30:30.876996Z"
    }
   },
   "outputs": [
    {
     "data": {
      "text/html": [
       "\n",
       "        <table>\n",
       "            <tr>\n",
       "                <td><strong>Metabolite identifier</strong></td><td>no2_p</td>\n",
       "            </tr><tr>\n",
       "                <td><strong>Name</strong></td><td>NO2_</td>\n",
       "            </tr><tr>\n",
       "                <td><strong>Memory address</strong></td>\n",
       "                <td>0x07fab26c62400</td>\n",
       "            </tr><tr>\n",
       "                <td><strong>Formula</strong></td><td>None</td>\n",
       "            </tr><tr>\n",
       "                <td><strong>Compartment</strong></td><td>p</td>\n",
       "            </tr><tr>\n",
       "                <td><strong>In 6 reaction(s)</strong></td><td>\n",
       "                    CYP460ipp, NO3Rpp, NO3t7pp, NO2tpp, HAORipp, NO2tex</td>\n",
       "            </tr>\n",
       "        </table>"
      ],
      "text/plain": [
       "<Metabolite no2_p at 0x7fab26c62400>"
      ]
     },
     "execution_count": 70,
     "metadata": {},
     "output_type": "execute_result"
    }
   ],
   "source": [
    "iMsOB3b.metabolites.no2_p"
   ]
  },
  {
   "cell_type": "code",
   "execution_count": 71,
   "metadata": {
    "ExecuteTime": {
     "end_time": "2020-01-17T07:30:42.485594Z",
     "start_time": "2020-01-17T07:30:42.480917Z"
    }
   },
   "outputs": [
    {
     "data": {
      "text/html": [
       "\n",
       "        <table>\n",
       "            <tr>\n",
       "                <td><strong>Metabolite identifier</strong></td><td>no2_c</td>\n",
       "            </tr><tr>\n",
       "                <td><strong>Name</strong></td><td>NO2_</td>\n",
       "            </tr><tr>\n",
       "                <td><strong>Memory address</strong></td>\n",
       "                <td>0x07fab26c62630</td>\n",
       "            </tr><tr>\n",
       "                <td><strong>Formula</strong></td><td>None</td>\n",
       "            </tr><tr>\n",
       "                <td><strong>Compartment</strong></td><td>c</td>\n",
       "            </tr><tr>\n",
       "                <td><strong>In 10 reaction(s)</strong></td><td>\n",
       "                    NTRIR2x, NO3t7pp, NO3Ras, NTRIR2y, NTRIR4, NITR_AMpp, NITR_NOpp, NO2tpp, NTPPD11, NO3R1</td>\n",
       "            </tr>\n",
       "        </table>"
      ],
      "text/plain": [
       "<Metabolite no2_c at 0x7fab26c62630>"
      ]
     },
     "execution_count": 71,
     "metadata": {},
     "output_type": "execute_result"
    }
   ],
   "source": [
    "iMsOB3b.metabolites.no2_c"
   ]
  },
  {
   "cell_type": "code",
   "execution_count": 72,
   "metadata": {
    "ExecuteTime": {
     "end_time": "2020-01-17T07:36:27.280048Z",
     "start_time": "2020-01-17T07:36:27.274981Z"
    }
   },
   "outputs": [
    {
     "data": {
      "text/html": [
       "\n",
       "        <table>\n",
       "            <tr>\n",
       "                <td><strong>Reaction identifier</strong></td><td>NTRIR4</td>\n",
       "            </tr><tr>\n",
       "                <td><strong>Name</strong></td><td>ferredoxin  nitrite reductase</td>\n",
       "            </tr><tr>\n",
       "                <td><strong>Memory address</strong></td>\n",
       "                <td>0x07fab247db6a0</td>\n",
       "            </tr><tr>\n",
       "                <td><strong>Stoichiometry</strong></td>\n",
       "                <td>\n",
       "                    <p style='text-align:right'>6.0 fdxrd_c + 8.0 h_c + no2_c --> 6.0 fdxox_c + 2.0 h2o_c + nh4_c</p>\n",
       "                    <p style='text-align:right'>6.0 reduced_ferredoxin + 8.0 H_ + NO2_ --> 6.0 oxidized_ferredoxin + 2.0 H2O + NH3</p>\n",
       "                </td>\n",
       "            </tr><tr>\n",
       "                <td><strong>GPR</strong></td><td>CQW49_00335</td>\n",
       "            </tr><tr>\n",
       "                <td><strong>Lower bound</strong></td><td>0</td>\n",
       "            </tr><tr>\n",
       "                <td><strong>Upper bound</strong></td><td>0</td>\n",
       "            </tr>\n",
       "        </table>\n",
       "        "
      ],
      "text/plain": [
       "<Reaction NTRIR4 at 0x7fab247db6a0>"
      ]
     },
     "execution_count": 72,
     "metadata": {},
     "output_type": "execute_result"
    }
   ],
   "source": [
    "iMsOB3b.reactions.NTRIR4"
   ]
  },
  {
   "cell_type": "code",
   "execution_count": 73,
   "metadata": {
    "ExecuteTime": {
     "end_time": "2020-01-17T07:50:51.173401Z",
     "start_time": "2020-01-17T07:50:51.169107Z"
    }
   },
   "outputs": [
    {
     "data": {
      "text/html": [
       "\n",
       "        <table>\n",
       "            <tr>\n",
       "                <td><strong>Reaction identifier</strong></td><td>NTPPD11</td>\n",
       "            </tr><tr>\n",
       "                <td><strong>Name</strong></td><td>2 nitropropane dioxygenase</td>\n",
       "            </tr><tr>\n",
       "                <td><strong>Memory address</strong></td>\n",
       "                <td>0x07fab22ab4160</td>\n",
       "            </tr><tr>\n",
       "                <td><strong>Stoichiometry</strong></td>\n",
       "                <td>\n",
       "                    <p style='text-align:right'>2.0 2nitpa_c + o2_c <=> 2.0 acetone_c + 2.0 h_c + 2.0 no2_c</p>\n",
       "                    <p style='text-align:right'>2.0 2_nitropropane + O2 <=> 2.0 acetone + 2.0 H_ + 2.0 NO2_</p>\n",
       "                </td>\n",
       "            </tr><tr>\n",
       "                <td><strong>GPR</strong></td><td>CQW49_21890</td>\n",
       "            </tr><tr>\n",
       "                <td><strong>Lower bound</strong></td><td>-1000.0</td>\n",
       "            </tr><tr>\n",
       "                <td><strong>Upper bound</strong></td><td>1000.0</td>\n",
       "            </tr>\n",
       "        </table>\n",
       "        "
      ],
      "text/plain": [
       "<Reaction NTPPD11 at 0x7fab22ab4160>"
      ]
     },
     "execution_count": 73,
     "metadata": {},
     "output_type": "execute_result"
    }
   ],
   "source": [
    "iMsOB3b.reactions.NTPPD11"
   ]
  },
  {
   "cell_type": "markdown",
   "metadata": {},
   "source": [
    "### Search for ammonia metabolism by keywords:\n",
    "Within OB3b GEM:"
   ]
  },
  {
   "cell_type": "markdown",
   "metadata": {},
   "source": [
    "Nitrite:"
   ]
  },
  {
   "cell_type": "code",
   "execution_count": 74,
   "metadata": {
    "ExecuteTime": {
     "end_time": "2020-01-17T07:55:28.418227Z",
     "start_time": "2020-01-17T07:55:28.408596Z"
    }
   },
   "outputs": [
    {
     "name": "stdout",
     "output_type": "stream",
     "text": [
      "FRDOr NADPH ferredoxin oxidoreductase 1\n",
      "NTRIR4 ferredoxin  nitrite reductase\n"
     ]
    }
   ],
   "source": [
    "import re\n",
    "for reaction in iMsOB3b.reactions:\n",
    "    if re.search(\"ferredoxin\", reaction.name, re.IGNORECASE):\n",
    "        print(reaction.id, reaction.name)"
   ]
  },
  {
   "cell_type": "markdown",
   "metadata": {},
   "source": [
    "Nitrate:"
   ]
  },
  {
   "cell_type": "code",
   "execution_count": 75,
   "metadata": {
    "ExecuteTime": {
     "end_time": "2020-01-17T07:57:32.368227Z",
     "start_time": "2020-01-17T07:57:32.351955Z"
    }
   },
   "outputs": [
    {
     "name": "stdout",
     "output_type": "stream",
     "text": [
      "NO3Ras nitrate reductase assimilatory\n",
      "NO3Rpp nitrate reductase  periplasmic \n",
      "NO3R1 Nitrate reductase (Ubiquinol-8)\n"
     ]
    }
   ],
   "source": [
    "import re\n",
    "for reaction in iMsOB3b.reactions:\n",
    "    if re.search(\"nitrate red\", reaction.name, re.IGNORECASE):\n",
    "        print(reaction.id, reaction.name)"
   ]
  },
  {
   "cell_type": "code",
   "execution_count": 78,
   "metadata": {
    "ExecuteTime": {
     "end_time": "2020-01-17T07:59:53.272550Z",
     "start_time": "2020-01-17T07:59:53.252268Z"
    }
   },
   "outputs": [
    {
     "name": "stdout",
     "output_type": "stream",
     "text": [
      "SULabcpp sulfate ABC transporter\n",
      "MOBDabcpp molybdate ABC transporter\n",
      "CA2abctpp calcium ABC transporter\n",
      "MG2uabcpp magnesium ABC transporter\n",
      "PIuabcpp phosphate ABC transporter\n",
      "FE2abcpp iron ABC transporter\n",
      "CU2abctpp copper ABC transporter\n",
      "ZNabcpp zinc ABC transporter\n"
     ]
    }
   ],
   "source": [
    "import re\n",
    "for reaction in iMsOB3b.reactions:\n",
    "    if re.search(\"ABC t\", reaction.name, re.IGNORECASE):\n",
    "        print(reaction.id, reaction.name)"
   ]
  },
  {
   "cell_type": "markdown",
   "metadata": {},
   "source": [
    "Ammonia"
   ]
  },
  {
   "cell_type": "code",
   "execution_count": 79,
   "metadata": {
    "ExecuteTime": {
     "end_time": "2020-01-17T08:01:28.316506Z",
     "start_time": "2020-01-17T08:01:28.298799Z"
    }
   },
   "outputs": [
    {
     "name": "stdout",
     "output_type": "stream",
     "text": [
      "GMPS GMP synthetase  ammonia dependent \n",
      "SAMMOi soluble ammonia monooxygenase\n",
      "NITR_AMpp Nitrite reductase (cytochrome; ammonia-forming)\n",
      "PAMMOipp particulate ammonia monooxygenase\n"
     ]
    }
   ],
   "source": [
    "import re\n",
    "for reaction in iMsOB3b.reactions:\n",
    "    if re.search(\"ammon\", reaction.name, re.IGNORECASE):\n",
    "        print(reaction.id, reaction.name)"
   ]
  },
  {
   "cell_type": "code",
   "execution_count": 80,
   "metadata": {
    "ExecuteTime": {
     "end_time": "2020-01-17T08:02:07.713336Z",
     "start_time": "2020-01-17T08:02:07.708933Z"
    }
   },
   "outputs": [
    {
     "data": {
      "text/html": [
       "\n",
       "        <table>\n",
       "            <tr>\n",
       "                <td><strong>Reaction identifier</strong></td><td>GMPS</td>\n",
       "            </tr><tr>\n",
       "                <td><strong>Name</strong></td><td>GMP synthetase  ammonia dependent </td>\n",
       "            </tr><tr>\n",
       "                <td><strong>Memory address</strong></td>\n",
       "                <td>0x07fab229a5eb8</td>\n",
       "            </tr><tr>\n",
       "                <td><strong>Stoichiometry</strong></td>\n",
       "                <td>\n",
       "                    <p style='text-align:right'>atp_c + nh4_c + xmp_c <-- amp_c + gmp_c + 2.0 h_c + ppi_c</p>\n",
       "                    <p style='text-align:right'>ATP + NH3 + XMP <-- AMP + GMP + 2.0 H_ + diphosphate</p>\n",
       "                </td>\n",
       "            </tr><tr>\n",
       "                <td><strong>GPR</strong></td><td>CQW49_20775</td>\n",
       "            </tr><tr>\n",
       "                <td><strong>Lower bound</strong></td><td>-1000</td>\n",
       "            </tr><tr>\n",
       "                <td><strong>Upper bound</strong></td><td>0</td>\n",
       "            </tr>\n",
       "        </table>\n",
       "        "
      ],
      "text/plain": [
       "<Reaction GMPS at 0x7fab229a5eb8>"
      ]
     },
     "execution_count": 80,
     "metadata": {},
     "output_type": "execute_result"
    }
   ],
   "source": [
    "iMsOB3b.reactions.GMPS"
   ]
  },
  {
   "cell_type": "code",
   "execution_count": 81,
   "metadata": {
    "ExecuteTime": {
     "end_time": "2020-01-17T08:02:52.131011Z",
     "start_time": "2020-01-17T08:02:52.127270Z"
    }
   },
   "outputs": [
    {
     "data": {
      "text/html": [
       "\n",
       "        <table>\n",
       "            <tr>\n",
       "                <td><strong>Reaction identifier</strong></td><td>SAMMOi</td>\n",
       "            </tr><tr>\n",
       "                <td><strong>Name</strong></td><td>soluble ammonia monooxygenase</td>\n",
       "            </tr><tr>\n",
       "                <td><strong>Memory address</strong></td>\n",
       "                <td>0x07fab24edad68</td>\n",
       "            </tr><tr>\n",
       "                <td><strong>Stoichiometry</strong></td>\n",
       "                <td>\n",
       "                    <p style='text-align:right'>nadh_c + nh4_c + o2_c --> h2o_c + ham_c + nad_c</p>\n",
       "                    <p style='text-align:right'>NADH + NH3 + O2 --> H2O + hydroxylamine + NAD_</p>\n",
       "                </td>\n",
       "            </tr><tr>\n",
       "                <td><strong>GPR</strong></td><td>CQW49_12480 and CQW49_12475 and CQW49_12465 and CQW49_12470 and CQW49_12455 and CQW49_12485 and C...</td>\n",
       "            </tr><tr>\n",
       "                <td><strong>Lower bound</strong></td><td>0.0</td>\n",
       "            </tr><tr>\n",
       "                <td><strong>Upper bound</strong></td><td>1000.0</td>\n",
       "            </tr>\n",
       "        </table>\n",
       "        "
      ],
      "text/plain": [
       "<Reaction SAMMOi at 0x7fab24edad68>"
      ]
     },
     "execution_count": 81,
     "metadata": {},
     "output_type": "execute_result"
    }
   ],
   "source": [
    "iMsOB3b.reactions.SAMMOi"
   ]
  },
  {
   "cell_type": "markdown",
   "metadata": {},
   "source": [
    "Molecular nitrogen:"
   ]
  },
  {
   "cell_type": "code",
   "execution_count": 82,
   "metadata": {
    "ExecuteTime": {
     "end_time": "2020-01-17T08:08:39.352304Z",
     "start_time": "2020-01-17T08:08:39.332668Z"
    }
   },
   "outputs": [
    {
     "name": "stdout",
     "output_type": "stream",
     "text": [
      "NTPPD11 2 nitropropane dioxygenase\n",
      "NO3tex nitrate transport via diffusion  extracellular to periplasm \n",
      "EX_nh4_e exchange flux   nitrogen\n",
      "EX_no3_e exchange flux   nitrate\n",
      "NTRIR4 ferredoxin  nitrite reductase\n",
      "NO3Ras nitrate reductase assimilatory\n",
      "NODOy nitric oxide dioxygenase\n",
      "NO3Rpp nitrate reductase  periplasmic \n",
      "N2trpp Nitrogen exchange, diffusion (periplasm)\n",
      "N2tex Nitrogen exchange, diffusion (extra-organism to periplasm)\n",
      "EX_no2_e nitrite exchange\n",
      "NO2tex nitrite transport via diffusion (extracellular to periplasm)\n",
      "NO3t7pp Nitrate transport in via nitrite antiport (periplasm)\n",
      "NO3R1 Nitrate reductase (Ubiquinol-8)\n",
      "NITR_NOpp Nitrite reductase (cytochrome; NO-forming)\n",
      "NITR_AMpp Nitrite reductase (cytochrome; ammonia-forming)\n",
      "NTRIR2x Nitrite Reductase (NADH)\n",
      "NORZ2pp Nitric oxide reductase (cytochrome c)\n",
      "NIT_mc Nitrogenase\n"
     ]
    }
   ],
   "source": [
    "import re\n",
    "for reaction in iMsOB3b.reactions:\n",
    "    if re.search(\"nitr\", reaction.name, re.IGNORECASE):\n",
    "        print(reaction.id, reaction.name)"
   ]
  },
  {
   "cell_type": "markdown",
   "metadata": {},
   "source": [
    "## Check each reaction with KEGG database\n",
    "Check compliance with KEGG annotation first, then see whether some KEGG pathway reactions are missing from OB3b GEM.\n",
    "<br> oxidative phosphorylation -->  https://www.genome.jp/kegg-bin/show_pathway?mtw00190 \n",
    "<br> nitrogen metabolism --> https://www.genome.jp/kegg-bin/show_pathway?mtw00910"
   ]
  },
  {
   "cell_type": "markdown",
   "metadata": {},
   "source": [
    "Import orangecontrib.bioinformatics.kegg:"
   ]
  },
  {
   "cell_type": "code",
   "execution_count": 102,
   "metadata": {
    "ExecuteTime": {
     "end_time": "2020-01-17T08:42:05.181534Z",
     "start_time": "2020-01-17T08:42:05.172350Z"
    }
   },
   "outputs": [],
   "source": [
    "import orangecontrib.bioinformatics.kegg\n",
    "\n",
    "organism = orangecontrib.bioinformatics.kegg.Organism(\"Methylosinus trichosporium\")\n",
    "genes = organism.genes"
   ]
  },
  {
   "cell_type": "markdown",
   "metadata": {},
   "source": [
    "### ETC\n",
    "<br> For KEGG-based curation, please refer to: https://www.genome.jp/kegg-bin/show_pathway?mtw00190"
   ]
  },
  {
   "cell_type": "code",
   "execution_count": 88,
   "metadata": {
    "ExecuteTime": {
     "end_time": "2020-01-17T08:21:57.488554Z",
     "start_time": "2020-01-17T08:21:57.485207Z"
    }
   },
   "outputs": [],
   "source": [
    "iMsOB3b.reactions.THD2pp.gene_reaction_rule = '(CQW49_13075 or CQW49_13080) and CQW49_13070'"
   ]
  },
  {
   "cell_type": "markdown",
   "metadata": {},
   "source": [
    "NADH-quinone oxidoreductase"
   ]
  },
  {
   "cell_type": "code",
   "execution_count": 108,
   "metadata": {
    "ExecuteTime": {
     "end_time": "2020-01-17T08:43:28.767096Z",
     "start_time": "2020-01-17T08:43:28.686324Z"
    }
   },
   "outputs": [
    {
     "name": "stdout",
     "output_type": "stream",
     "text": [
      "CQW49_05340 K00332  NADH-quinone oxidoreductase subunit C [EC:7.1.1.2]\n",
      "CQW49_05320 K00336  NADH-quinone oxidoreductase subunit G [EC:7.1.1.2]\n",
      "CQW49_05315 K00337  NADH-quinone oxidoreductase subunit H [EC:7.1.1.2]\n",
      "CQW49_05310 K00338  NADH-quinone oxidoreductase subunit I [EC:7.1.1.2]\n",
      "CQW49_05285 K00343  NADH-quinone oxidoreductase subunit N [EC:7.1.1.2]\n",
      "CQW49_05350 K00330  NADH-quinone oxidoreductase subunit A [EC:7.1.1.2]\n",
      "CQW49_05345 K00331  NADH-quinone oxidoreductase subunit B [EC:7.1.1.2]\n",
      "CQW49_05305 K00339  NADH-quinone oxidoreductase subunit J [EC:7.1.1.2]\n",
      "CQW49_05325 K00335  NADH-quinone oxidoreductase subunit F [EC:7.1.1.2]\n",
      "CQW49_05330 K00334  NADH-quinone oxidoreductase subunit E [EC:7.1.1.2]\n",
      "CQW49_05335 K00333  NADH-quinone oxidoreductase subunit D [EC:7.1.1.2]\n",
      "CQW49_03485 K00333  NADH-quinone oxidoreductase subunit D [EC:7.1.1.2]\n",
      "CQW49_05300 K00340  NADH-quinone oxidoreductase subunit K [EC:7.1.1.2]\n",
      "CQW49_05295 K00341  NADH-quinone oxidoreductase subunit L [EC:7.1.1.2]\n",
      "CQW49_05290 K00342  NADH-quinone oxidoreductase subunit M [EC:7.1.1.2]\n",
      "CQW49_18615 None\n"
     ]
    }
   ],
   "source": [
    "for gene in iMsOB3b.reactions.NADH11.genes:\n",
    "    gene_entry = genes[\"mtw:\"+gene.id]\n",
    "    print(gene, gene_entry.orthology)  "
   ]
  },
  {
   "cell_type": "code",
   "execution_count": 109,
   "metadata": {
    "ExecuteTime": {
     "end_time": "2020-01-17T08:43:35.961215Z",
     "start_time": "2020-01-17T08:43:35.943251Z"
    }
   },
   "outputs": [
    {
     "name": "stdout",
     "output_type": "stream",
     "text": [
      "CQW49_23400 ENTRY       CQW49_18615       CDS       T05155\n",
      "DEFINITION  (GenBank) NADH:ubiquinone oxidoreductase subunit NDUFA12\n",
      "ORGANISM    mtw  Methylosinus trichosporium\n",
      "POSITION    3949836..3950243\n",
      "MOTIF       Pfam: NDUFA12\n",
      "DBLINKS     NCBI-ProteinID: ATQ69668\n",
      "            UniProt: A0A2D2D3U2\n",
      "AASEQ       135\n",
      "            MSYIIRFFTWWNKATLSTGLWTLLYGERVGSDEFGNVYYRRRGGKKDKALGFERRWVIYK\n",
      "            GYAEGSATPPGWYGWLHHTVDTPPTDEKYEPREWELPHMPNLTGTPAAYRPPGSILATGR\n",
      "            RAPAGGDYQAWTPEG\n",
      "NTSEQ       408\n",
      "            atgtcctacatcattcgcttcttcacctggtggaacaaggcgacgctcagcaccggcctg\n",
      "            tggacgctgctctatggcgagcgcgtcggctcggacgaattcggcaatgtctattaccgg\n",
      "            cgtcggggcggcaagaaggacaaggcgctcggcttcgagcgccgctgggtgatctacaaa\n",
      "            ggctatgccgagggctcggcgacgccgcccggctggtatggctggctccatcacacggtc\n",
      "            gacacgccgccgaccgacgagaaatacgagccgcgggagtgggagctgccgcatatgccc\n",
      "            aatctgaccggcacgcccgcggcctatcggccgccgggatcgattctcgccacgggacgg\n",
      "            cgcgcgccggccggcggcgattatcaggcctggacgccggaaggctga\n",
      "\n"
     ]
    }
   ],
   "source": [
    "gene_entry = genes[\"mtw:\"+'CQW49_18615']\n",
    "print(locus_tag, gene_entry)  "
   ]
  },
  {
   "cell_type": "markdown",
   "metadata": {},
   "source": [
    "Succinate dehydrogenase"
   ]
  },
  {
   "cell_type": "code",
   "execution_count": 110,
   "metadata": {
    "ExecuteTime": {
     "end_time": "2020-01-17T08:44:29.715960Z",
     "start_time": "2020-01-17T08:44:29.651936Z"
    }
   },
   "outputs": [
    {
     "name": "stdout",
     "output_type": "stream",
     "text": [
      "CQW49_22885 K00242  succinate dehydrogenase / fumarate reductase, membrane anchor subunit\n",
      "CQW49_10810 K00239  succinate dehydrogenase / fumarate reductase, flavoprotein subunit [EC:1.3.5.1 1.3.5.4]\n",
      "CQW49_10825 K00240  succinate dehydrogenase / fumarate reductase, iron-sulfur subunit [EC:1.3.5.1 1.3.5.4]\n",
      "CQW49_22875 K00240  succinate dehydrogenase / fumarate reductase, iron-sulfur subunit [EC:1.3.5.1 1.3.5.4]\n",
      "CQW49_10800 K00241  succinate dehydrogenase / fumarate reductase, cytochrome b subunit\n"
     ]
    }
   ],
   "source": [
    "for gene in iMsOB3b.reactions.SUCCD1.genes:\n",
    "    gene_entry = genes[\"mtw:\"+gene.id]\n",
    "    print(gene, gene_entry.orthology)  "
   ]
  },
  {
   "cell_type": "markdown",
   "metadata": {},
   "source": [
    "ubiquinol_cytochrome_c_reductase:\n",
    "<br> CQW49_00050 and CQW49_00055 are added based on ortholog analysis"
   ]
  },
  {
   "cell_type": "code",
   "execution_count": 111,
   "metadata": {
    "ExecuteTime": {
     "end_time": "2020-01-17T08:45:49.153772Z",
     "start_time": "2020-01-17T08:45:49.103203Z"
    }
   },
   "outputs": [
    {
     "name": "stdout",
     "output_type": "stream",
     "text": [
      "CQW49_00050 K00411  ubiquinol-cytochrome c reductase iron-sulfur subunit [EC:7.1.1.8]\n",
      "CQW49_00055 None\n",
      "CQW49_00060 None\n"
     ]
    }
   ],
   "source": [
    "for gene in iMsOB3b.reactions.UQCYOR_2p.genes:\n",
    "    gene_entry = genes[\"mtw:\"+gene.id]\n",
    "    print(gene, gene_entry.orthology)  "
   ]
  },
  {
   "cell_type": "markdown",
   "metadata": {
    "ExecuteTime": {
     "end_time": "2020-01-17T08:47:14.522600Z",
     "start_time": "2020-01-17T08:47:14.518349Z"
    }
   },
   "source": [
    "Complex IV reactions\n",
    "<br>cytochrome d ubiquinol oxidase subunit II"
   ]
  },
  {
   "cell_type": "code",
   "execution_count": 124,
   "metadata": {
    "ExecuteTime": {
     "end_time": "2020-01-17T08:53:14.338474Z",
     "start_time": "2020-01-17T08:53:14.335572Z"
    }
   },
   "outputs": [],
   "source": [
    "iMsOB3b.reactions.CYOD.name = 'cytochrome bd ubiquinol oxidase'"
   ]
  },
  {
   "cell_type": "code",
   "execution_count": 114,
   "metadata": {
    "ExecuteTime": {
     "end_time": "2020-01-17T08:48:32.574961Z",
     "start_time": "2020-01-17T08:48:32.477960Z"
    }
   },
   "outputs": [
    {
     "name": "stdout",
     "output_type": "stream",
     "text": [
      "CQW49_11625 K00426  cytochrome bd ubiquinol oxidase subunit II [EC:7.1.1.7]\n",
      "CQW49_11630 K00425  cytochrome bd ubiquinol oxidase subunit I [EC:7.1.1.7]\n"
     ]
    }
   ],
   "source": [
    "for gene in iMsOB3b.reactions.CYOD.genes:\n",
    "    gene_entry = genes[\"mtw:\"+gene.id]\n",
    "    print(gene, gene_entry.orthology) "
   ]
  },
  {
   "cell_type": "markdown",
   "metadata": {},
   "source": [
    "CYO_2p"
   ]
  },
  {
   "cell_type": "code",
   "execution_count": 120,
   "metadata": {
    "ExecuteTime": {
     "end_time": "2020-01-17T08:50:36.343990Z",
     "start_time": "2020-01-17T08:50:36.339318Z"
    }
   },
   "outputs": [
    {
     "data": {
      "text/html": [
       "\n",
       "        <table>\n",
       "            <tr>\n",
       "                <td><strong>Reaction identifier</strong></td><td>CYO_2p</td>\n",
       "            </tr><tr>\n",
       "                <td><strong>Name</strong></td><td>cytochrome c oxidase</td>\n",
       "            </tr><tr>\n",
       "                <td><strong>Memory address</strong></td>\n",
       "                <td>0x07fab2288a1d0</td>\n",
       "            </tr><tr>\n",
       "                <td><strong>Stoichiometry</strong></td>\n",
       "                <td>\n",
       "                    <p style='text-align:right'>2.0 focytc_c + 4.0 h_c + 0.5 o2_c --> 2.0 ficytc_c + h2o_c + 2.0 h_p</p>\n",
       "                    <p style='text-align:right'>2.0 reduced_cytochrome_c + 4.0 H_ + 0.5 O2 --> 2.0 oxidized_cytochrome_c + H2O + 2.0 H_</p>\n",
       "                </td>\n",
       "            </tr><tr>\n",
       "                <td><strong>GPR</strong></td><td>((CQW49_10040 and CQW49_10020) or CQW49_13005) and (CQW49_10045 or CQW49_13000)</td>\n",
       "            </tr><tr>\n",
       "                <td><strong>Lower bound</strong></td><td>0.0</td>\n",
       "            </tr><tr>\n",
       "                <td><strong>Upper bound</strong></td><td>1000.0</td>\n",
       "            </tr>\n",
       "        </table>\n",
       "        "
      ],
      "text/plain": [
       "<Reaction CYO_2p at 0x7fab2288a1d0>"
      ]
     },
     "execution_count": 120,
     "metadata": {},
     "output_type": "execute_result"
    }
   ],
   "source": [
    "iMsOB3b.reactions.CYO_2p"
   ]
  },
  {
   "cell_type": "code",
   "execution_count": 121,
   "metadata": {
    "ExecuteTime": {
     "end_time": "2020-01-17T08:50:49.009233Z",
     "start_time": "2020-01-17T08:50:48.952792Z"
    }
   },
   "outputs": [
    {
     "name": "stdout",
     "output_type": "stream",
     "text": [
      "CQW49_13000 K02275  cytochrome c oxidase subunit II [EC:1.9.3.1]\n",
      "CQW49_10020 K02276  cytochrome c oxidase subunit III [EC:1.9.3.1]\n",
      "CQW49_10045 K02275  cytochrome c oxidase subunit II [EC:1.9.3.1]\n",
      "CQW49_13005 K15408  cytochrome c oxidase subunit I+III [EC:1.9.3.1]\n",
      "CQW49_10040 K02274  cytochrome c oxidase subunit I [EC:1.9.3.1]\n"
     ]
    }
   ],
   "source": [
    "for gene in iMsOB3b.reactions.CYO_2p.genes:\n",
    "    gene_entry = genes[\"mtw:\"+gene.id]\n",
    "    print(gene, gene_entry.orthology) "
   ]
  },
  {
   "cell_type": "markdown",
   "metadata": {},
   "source": [
    "CYOO_4p"
   ]
  },
  {
   "cell_type": "code",
   "execution_count": 122,
   "metadata": {
    "ExecuteTime": {
     "end_time": "2020-01-17T08:52:35.970070Z",
     "start_time": "2020-01-17T08:52:35.961991Z"
    }
   },
   "outputs": [
    {
     "data": {
      "text/html": [
       "\n",
       "        <table>\n",
       "            <tr>\n",
       "                <td><strong>Reaction identifier</strong></td><td>CYOO_4p</td>\n",
       "            </tr><tr>\n",
       "                <td><strong>Name</strong></td><td>cytochrome o ubiquinol oxidase</td>\n",
       "            </tr><tr>\n",
       "                <td><strong>Memory address</strong></td>\n",
       "                <td>0x07fab22546f60</td>\n",
       "            </tr><tr>\n",
       "                <td><strong>Stoichiometry</strong></td>\n",
       "                <td>\n",
       "                    <p style='text-align:right'>4.0 h_c + 0.5 o2_c + qh2_c --> h2o_c + 4.0 h_p + q_c</p>\n",
       "                    <p style='text-align:right'>4.0 H_ + 0.5 O2 + UQH2 --> H2O + 4.0 H_ + UQ</p>\n",
       "                </td>\n",
       "            </tr><tr>\n",
       "                <td><strong>GPR</strong></td><td>CQW49_05685 and CQW49_05690 and CQW49_05695 and CQW49_05700</td>\n",
       "            </tr><tr>\n",
       "                <td><strong>Lower bound</strong></td><td>0.0</td>\n",
       "            </tr><tr>\n",
       "                <td><strong>Upper bound</strong></td><td>1000.0</td>\n",
       "            </tr>\n",
       "        </table>\n",
       "        "
      ],
      "text/plain": [
       "<Reaction CYOO_4p at 0x7fab22546f60>"
      ]
     },
     "execution_count": 122,
     "metadata": {},
     "output_type": "execute_result"
    }
   ],
   "source": [
    "iMsOB3b.reactions.CYOO_4p"
   ]
  },
  {
   "cell_type": "code",
   "execution_count": 123,
   "metadata": {
    "ExecuteTime": {
     "end_time": "2020-01-17T08:52:49.094436Z",
     "start_time": "2020-01-17T08:52:48.302263Z"
    }
   },
   "outputs": [
    {
     "name": "stdout",
     "output_type": "stream",
     "text": [
      "CQW49_05685 K02297  cytochrome o ubiquinol oxidase subunit II [EC:7.1.1.3]\n",
      "CQW49_05695 K02299  cytochrome o ubiquinol oxidase subunit III\n",
      "CQW49_05690 K02298  cytochrome o ubiquinol oxidase subunit I [EC:7.1.1.3]\n",
      "CQW49_05700 None\n"
     ]
    }
   ],
   "source": [
    "for gene in iMsOB3b.reactions.CYOO_4p.genes:\n",
    "    gene_entry = genes[\"mtw:\"+gene.id]\n",
    "    print(gene, gene_entry.orthology) "
   ]
  },
  {
   "cell_type": "markdown",
   "metadata": {},
   "source": [
    "ATPS4rpp"
   ]
  },
  {
   "cell_type": "code",
   "execution_count": 125,
   "metadata": {
    "ExecuteTime": {
     "end_time": "2020-01-17T08:58:37.721713Z",
     "start_time": "2020-01-17T08:58:37.713461Z"
    }
   },
   "outputs": [
    {
     "data": {
      "text/html": [
       "\n",
       "        <table>\n",
       "            <tr>\n",
       "                <td><strong>Reaction identifier</strong></td><td>ATPS4rpp</td>\n",
       "            </tr><tr>\n",
       "                <td><strong>Name</strong></td><td>ATP synthase</td>\n",
       "            </tr><tr>\n",
       "                <td><strong>Memory address</strong></td>\n",
       "                <td>0x07fab22abf5f8</td>\n",
       "            </tr><tr>\n",
       "                <td><strong>Stoichiometry</strong></td>\n",
       "                <td>\n",
       "                    <p style='text-align:right'>adp_c + 4.0 h_p + pi_c --> atp_c + h2o_c + 3.0 h_c</p>\n",
       "                    <p style='text-align:right'>ADP + 4.0 H_ + phosphate --> ATP + H2O + 3.0 H_</p>\n",
       "                </td>\n",
       "            </tr><tr>\n",
       "                <td><strong>GPR</strong></td><td>CQW49_19220 and CQW49_00300 and CQW49_19240 and CQW49_19235 and CQW49_00305 and CQW49_19230 and C...</td>\n",
       "            </tr><tr>\n",
       "                <td><strong>Lower bound</strong></td><td>0.0</td>\n",
       "            </tr><tr>\n",
       "                <td><strong>Upper bound</strong></td><td>1000.0</td>\n",
       "            </tr>\n",
       "        </table>\n",
       "        "
      ],
      "text/plain": [
       "<Reaction ATPS4rpp at 0x7fab22abf5f8>"
      ]
     },
     "execution_count": 125,
     "metadata": {},
     "output_type": "execute_result"
    }
   ],
   "source": [
    "iMsOB3b.reactions.ATPS4rpp"
   ]
  },
  {
   "cell_type": "code",
   "execution_count": 126,
   "metadata": {
    "ExecuteTime": {
     "end_time": "2020-01-17T08:58:48.296520Z",
     "start_time": "2020-01-17T08:58:47.856788Z"
    }
   },
   "outputs": [
    {
     "name": "stdout",
     "output_type": "stream",
     "text": [
      "CQW49_19240 K02109  F-type H+-transporting ATPase subunit b\n",
      "CQW49_00305 K02112  F-type H+/Na+-transporting ATPase subunit beta [EC:7.1.2.2 7.2.2.1]\n",
      "CQW49_00290 K02113  F-type H+-transporting ATPase subunit delta\n",
      "CQW49_19235 K02109  F-type H+-transporting ATPase subunit b\n",
      "CQW49_19220 K02116  ATP synthase protein I\n",
      "CQW49_00310 K02114  F-type H+-transporting ATPase subunit epsilon\n",
      "CQW49_19230 K02110  F-type H+-transporting ATPase subunit c\n",
      "CQW49_19225 K02108  F-type H+-transporting ATPase subunit a\n",
      "CQW49_00515 K02112  F-type H+/Na+-transporting ATPase subunit beta [EC:7.1.2.2 7.2.2.1]\n",
      "CQW49_00300 K02115  F-type H+-transporting ATPase subunit gamma\n",
      "CQW49_00550 K02111  F-type H+/Na+-transporting ATPase subunit alpha [EC:7.1.2.2 7.2.2.1]\n",
      "CQW49_00295 K02111  F-type H+/Na+-transporting ATPase subunit alpha [EC:7.1.2.2 7.2.2.1]\n"
     ]
    }
   ],
   "source": [
    "for gene in iMsOB3b.reactions.ATPS4rpp.genes:\n",
    "    gene_entry = genes[\"mtw:\"+gene.id]\n",
    "    print(gene, gene_entry.orthology) "
   ]
  },
  {
   "cell_type": "markdown",
   "metadata": {},
   "source": [
    "FMNRx2\n",
    "<br> gapfilling reaction"
   ]
  },
  {
   "cell_type": "code",
   "execution_count": 135,
   "metadata": {
    "ExecuteTime": {
     "end_time": "2020-01-18T05:04:07.408624Z",
     "start_time": "2020-01-18T05:04:07.403104Z"
    }
   },
   "outputs": [
    {
     "data": {
      "text/html": [
       "\n",
       "        <table>\n",
       "            <tr>\n",
       "                <td><strong>Reaction identifier</strong></td><td>FMNRx2</td>\n",
       "            </tr><tr>\n",
       "                <td><strong>Name</strong></td><td>NADPH dependent FMN reductase</td>\n",
       "            </tr><tr>\n",
       "                <td><strong>Memory address</strong></td>\n",
       "                <td>0x07fab2283e6a0</td>\n",
       "            </tr><tr>\n",
       "                <td><strong>Stoichiometry</strong></td>\n",
       "                <td>\n",
       "                    <p style='text-align:right'>fmnh2_c + nadp_c <=> fmn_c + h_c + nadph_c</p>\n",
       "                    <p style='text-align:right'>FMNH2 + NADP_ <=> FMN + H_ + NADPH</p>\n",
       "                </td>\n",
       "            </tr><tr>\n",
       "                <td><strong>GPR</strong></td><td>META2_0363 or META1_1214 or META1_4236 or (META1_2232 and META1_2233) or META1_3632 or META1_2380</td>\n",
       "            </tr><tr>\n",
       "                <td><strong>Lower bound</strong></td><td>-1000.0</td>\n",
       "            </tr><tr>\n",
       "                <td><strong>Upper bound</strong></td><td>1000.0</td>\n",
       "            </tr>\n",
       "        </table>\n",
       "        "
      ],
      "text/plain": [
       "<Reaction FMNRx2 at 0x7fab2283e6a0>"
      ]
     },
     "execution_count": 135,
     "metadata": {},
     "output_type": "execute_result"
    }
   ],
   "source": [
    "iMsOB3b.reactions.FMNRx2#.flux"
   ]
  },
  {
   "cell_type": "code",
   "execution_count": 131,
   "metadata": {
    "ExecuteTime": {
     "end_time": "2020-01-17T09:01:47.256874Z",
     "start_time": "2020-01-17T09:01:47.229381Z"
    }
   },
   "outputs": [
    {
     "name": "stdout",
     "output_type": "stream",
     "text": [
      "-1.0763921711678729e-16\n"
     ]
    }
   ],
   "source": [
    "with iMsOB3b:\n",
    "    iMsOB3b.reactions.FMNRx2.knock_out()\n",
    "    iMsOB3b.optimize()\n",
    "    print(iMsOB3b.reactions.Biomass_Mextorquens_AM1_core.flux)"
   ]
  },
  {
   "cell_type": "code",
   "execution_count": 127,
   "metadata": {
    "ExecuteTime": {
     "end_time": "2020-01-17T09:00:34.150898Z",
     "start_time": "2020-01-17T09:00:33.823197Z"
    },
    "collapsed": true
   },
   "outputs": [
    {
     "ename": "HttpNotFoundError",
     "evalue": "Client Error 404: http://rest.kegg.jp/get/mtw:META1_2380/",
     "output_type": "error",
     "traceback": [
      "\u001b[0;31m---------------------------------------------------------------------------\u001b[0m",
      "\u001b[0;31mHttpNotFoundError\u001b[0m                         Traceback (most recent call last)",
      "\u001b[0;32m<ipython-input-127-7bfa4b7024ff>\u001b[0m in \u001b[0;36m<module>\u001b[0;34m\u001b[0m\n\u001b[1;32m      1\u001b[0m \u001b[0;32mfor\u001b[0m \u001b[0mgene\u001b[0m \u001b[0;32min\u001b[0m \u001b[0miMsOB3b\u001b[0m\u001b[0;34m.\u001b[0m\u001b[0mreactions\u001b[0m\u001b[0;34m.\u001b[0m\u001b[0mFMNRx2\u001b[0m\u001b[0;34m.\u001b[0m\u001b[0mgenes\u001b[0m\u001b[0;34m:\u001b[0m\u001b[0;34m\u001b[0m\u001b[0;34m\u001b[0m\u001b[0m\n\u001b[0;32m----> 2\u001b[0;31m     \u001b[0mgene_entry\u001b[0m \u001b[0;34m=\u001b[0m \u001b[0mgenes\u001b[0m\u001b[0;34m[\u001b[0m\u001b[0;34m\"mtw:\"\u001b[0m\u001b[0;34m+\u001b[0m\u001b[0mgene\u001b[0m\u001b[0;34m.\u001b[0m\u001b[0mid\u001b[0m\u001b[0;34m]\u001b[0m\u001b[0;34m\u001b[0m\u001b[0;34m\u001b[0m\u001b[0m\n\u001b[0m\u001b[1;32m      3\u001b[0m     \u001b[0mprint\u001b[0m\u001b[0;34m(\u001b[0m\u001b[0mgene\u001b[0m\u001b[0;34m,\u001b[0m \u001b[0mgene_entry\u001b[0m\u001b[0;34m.\u001b[0m\u001b[0morthology\u001b[0m\u001b[0;34m)\u001b[0m\u001b[0;34m\u001b[0m\u001b[0;34m\u001b[0m\u001b[0m\n",
      "\u001b[0;32m~/anaconda3/envs/GEM_py36/lib/python3.6/site-packages/orangecontrib/bioinformatics/kegg/databases.py\u001b[0m in \u001b[0;36m__getitem__\u001b[0;34m(self, key)\u001b[0m\n\u001b[1;32m    165\u001b[0m \u001b[0;34m\u001b[0m\u001b[0m\n\u001b[1;32m    166\u001b[0m     \u001b[0;32mdef\u001b[0m \u001b[0m__getitem__\u001b[0m\u001b[0;34m(\u001b[0m\u001b[0mself\u001b[0m\u001b[0;34m,\u001b[0m \u001b[0mkey\u001b[0m\u001b[0;34m)\u001b[0m\u001b[0;34m:\u001b[0m\u001b[0;34m\u001b[0m\u001b[0;34m\u001b[0m\u001b[0m\n\u001b[0;32m--> 167\u001b[0;31m         \u001b[0me\u001b[0m \u001b[0;34m=\u001b[0m \u001b[0mself\u001b[0m\u001b[0;34m.\u001b[0m\u001b[0mget_entry\u001b[0m\u001b[0;34m(\u001b[0m\u001b[0mkey\u001b[0m\u001b[0;34m)\u001b[0m\u001b[0;34m\u001b[0m\u001b[0;34m\u001b[0m\u001b[0m\n\u001b[0m\u001b[1;32m    168\u001b[0m         \u001b[0;32mif\u001b[0m \u001b[0me\u001b[0m \u001b[0;32mis\u001b[0m \u001b[0;32mNone\u001b[0m\u001b[0;34m:\u001b[0m\u001b[0;34m\u001b[0m\u001b[0;34m\u001b[0m\u001b[0m\n\u001b[1;32m    169\u001b[0m             \u001b[0;32mraise\u001b[0m \u001b[0mKeyError\u001b[0m\u001b[0;34m(\u001b[0m\u001b[0mkey\u001b[0m\u001b[0;34m)\u001b[0m\u001b[0;34m\u001b[0m\u001b[0;34m\u001b[0m\u001b[0m\n",
      "\u001b[0;32m~/anaconda3/envs/GEM_py36/lib/python3.6/site-packages/orangecontrib/bioinformatics/kegg/databases.py\u001b[0m in \u001b[0;36mget_entry\u001b[0;34m(self, key)\u001b[0m\n\u001b[1;32m    191\u001b[0m         \u001b[0mReturn\u001b[0m \u001b[0mthe\u001b[0m \u001b[0mdatabase\u001b[0m \u001b[0mentry\u001b[0m \u001b[0;32mfor\u001b[0m\u001b[0;31m \u001b[0m\u001b[0;31m`\u001b[0m\u001b[0mkey\u001b[0m\u001b[0;31m`\u001b[0m \u001b[0;32mas\u001b[0m \u001b[0man\u001b[0m \u001b[0minstance\u001b[0m \u001b[0mof\u001b[0m\u001b[0;31m \u001b[0m\u001b[0;31m`\u001b[0m\u001b[0mENTRY_TYPE\u001b[0m\u001b[0;31m`\u001b[0m\u001b[0;34m.\u001b[0m\u001b[0;34m\u001b[0m\u001b[0;34m\u001b[0m\u001b[0m\n\u001b[1;32m    192\u001b[0m         \"\"\"\n\u001b[0;32m--> 193\u001b[0;31m         \u001b[0mtext\u001b[0m \u001b[0;34m=\u001b[0m \u001b[0mself\u001b[0m\u001b[0;34m.\u001b[0m\u001b[0mget_text\u001b[0m\u001b[0;34m(\u001b[0m\u001b[0mkey\u001b[0m\u001b[0;34m)\u001b[0m\u001b[0;34m\u001b[0m\u001b[0;34m\u001b[0m\u001b[0m\n\u001b[0m\u001b[1;32m    194\u001b[0m         \u001b[0;32mif\u001b[0m \u001b[0;32mnot\u001b[0m \u001b[0mtext\u001b[0m \u001b[0;32mor\u001b[0m \u001b[0mtext\u001b[0m \u001b[0;34m==\u001b[0m \u001b[0;34m\"None\"\u001b[0m\u001b[0;34m:\u001b[0m\u001b[0;34m\u001b[0m\u001b[0;34m\u001b[0m\u001b[0m\n\u001b[1;32m    195\u001b[0m             \u001b[0;32mreturn\u001b[0m \u001b[0;32mNone\u001b[0m\u001b[0;34m\u001b[0m\u001b[0;34m\u001b[0m\u001b[0m\n",
      "\u001b[0;32m~/anaconda3/envs/GEM_py36/lib/python3.6/site-packages/orangecontrib/bioinformatics/kegg/databases.py\u001b[0m in \u001b[0;36mget_text\u001b[0;34m(self, key)\u001b[0m\n\u001b[1;32m    185\u001b[0m         \"\"\"\n\u001b[1;32m    186\u001b[0m         \u001b[0mkey\u001b[0m \u001b[0;34m=\u001b[0m \u001b[0mself\u001b[0m\u001b[0;34m.\u001b[0m\u001b[0m_add_db\u001b[0m\u001b[0;34m(\u001b[0m\u001b[0mkey\u001b[0m\u001b[0;34m)\u001b[0m\u001b[0;34m\u001b[0m\u001b[0;34m\u001b[0m\u001b[0m\n\u001b[0;32m--> 187\u001b[0;31m         \u001b[0;32mreturn\u001b[0m \u001b[0mself\u001b[0m\u001b[0;34m.\u001b[0m\u001b[0mapi\u001b[0m\u001b[0;34m.\u001b[0m\u001b[0mget\u001b[0m\u001b[0;34m(\u001b[0m\u001b[0;34m[\u001b[0m\u001b[0mkey\u001b[0m\u001b[0;34m]\u001b[0m\u001b[0;34m)\u001b[0m\u001b[0;34m\u001b[0m\u001b[0;34m\u001b[0m\u001b[0m\n\u001b[0m\u001b[1;32m    188\u001b[0m \u001b[0;34m\u001b[0m\u001b[0m\n\u001b[1;32m    189\u001b[0m     \u001b[0;32mdef\u001b[0m \u001b[0mget_entry\u001b[0m\u001b[0;34m(\u001b[0m\u001b[0mself\u001b[0m\u001b[0;34m,\u001b[0m \u001b[0mkey\u001b[0m\u001b[0;34m)\u001b[0m\u001b[0;34m:\u001b[0m\u001b[0;34m\u001b[0m\u001b[0;34m\u001b[0m\u001b[0m\n",
      "\u001b[0;32m~/anaconda3/envs/GEM_py36/lib/python3.6/site-packages/orangecontrib/bioinformatics/kegg/caching.py\u001b[0m in \u001b[0;36m__call__\u001b[0;34m(self, *args)\u001b[0m\n\u001b[1;32m    197\u001b[0m                 \u001b[0mrval\u001b[0m \u001b[0;34m=\u001b[0m \u001b[0mstore\u001b[0m\u001b[0;34m[\u001b[0m\u001b[0mkey\u001b[0m\u001b[0;34m]\u001b[0m\u001b[0;34m.\u001b[0m\u001b[0mvalue\u001b[0m\u001b[0;34m\u001b[0m\u001b[0;34m\u001b[0m\u001b[0m\n\u001b[1;32m    198\u001b[0m             \u001b[0;32melse\u001b[0m\u001b[0;34m:\u001b[0m\u001b[0;34m\u001b[0m\u001b[0;34m\u001b[0m\u001b[0m\n\u001b[0;32m--> 199\u001b[0;31m                 \u001b[0mrval\u001b[0m \u001b[0;34m=\u001b[0m \u001b[0mself\u001b[0m\u001b[0;34m.\u001b[0m\u001b[0mfunction\u001b[0m\u001b[0;34m(\u001b[0m\u001b[0mself\u001b[0m\u001b[0;34m.\u001b[0m\u001b[0minstance\u001b[0m\u001b[0;34m,\u001b[0m \u001b[0;34m*\u001b[0m\u001b[0margs\u001b[0m\u001b[0;34m)\u001b[0m\u001b[0;34m\u001b[0m\u001b[0;34m\u001b[0m\u001b[0m\n\u001b[0m\u001b[1;32m    200\u001b[0m                 \u001b[0mstore\u001b[0m\u001b[0;34m[\u001b[0m\u001b[0mkey\u001b[0m\u001b[0;34m]\u001b[0m \u001b[0;34m=\u001b[0m \u001b[0mcache_entry\u001b[0m\u001b[0;34m(\u001b[0m\u001b[0mrval\u001b[0m\u001b[0;34m,\u001b[0m \u001b[0mdatetime\u001b[0m\u001b[0;34m.\u001b[0m\u001b[0mnow\u001b[0m\u001b[0;34m(\u001b[0m\u001b[0;34m)\u001b[0m\u001b[0;34m,\u001b[0m \u001b[0;32mNone\u001b[0m\u001b[0;34m)\u001b[0m\u001b[0;34m\u001b[0m\u001b[0;34m\u001b[0m\u001b[0m\n\u001b[1;32m    201\u001b[0m \u001b[0;34m\u001b[0m\u001b[0m\n",
      "\u001b[0;32m~/anaconda3/envs/GEM_py36/lib/python3.6/site-packages/orangecontrib/bioinformatics/kegg/api.py\u001b[0m in \u001b[0;36mget\u001b[0;34m(self, ids)\u001b[0m\n\u001b[1;32m    378\u001b[0m     \u001b[0;32mdef\u001b[0m \u001b[0mget\u001b[0m\u001b[0;34m(\u001b[0m\u001b[0mself\u001b[0m\u001b[0;34m,\u001b[0m \u001b[0mids\u001b[0m\u001b[0;34m)\u001b[0m\u001b[0;34m:\u001b[0m\u001b[0;34m\u001b[0m\u001b[0;34m\u001b[0m\u001b[0m\n\u001b[1;32m    379\u001b[0m         \u001b[0;32mif\u001b[0m \u001b[0;32mnot\u001b[0m \u001b[0misinstance\u001b[0m\u001b[0;34m(\u001b[0m\u001b[0mids\u001b[0m\u001b[0;34m,\u001b[0m \u001b[0msix\u001b[0m\u001b[0;34m.\u001b[0m\u001b[0mstring_types\u001b[0m\u001b[0;34m)\u001b[0m\u001b[0;34m:\u001b[0m\u001b[0;34m\u001b[0m\u001b[0;34m\u001b[0m\u001b[0m\n\u001b[0;32m--> 380\u001b[0;31m             \u001b[0;32mreturn\u001b[0m \u001b[0mself\u001b[0m\u001b[0;34m.\u001b[0m\u001b[0m_batch_get\u001b[0m\u001b[0;34m(\u001b[0m\u001b[0mids\u001b[0m\u001b[0;34m)\u001b[0m\u001b[0;34m\u001b[0m\u001b[0;34m\u001b[0m\u001b[0m\n\u001b[0m\u001b[1;32m    381\u001b[0m         \u001b[0;32melse\u001b[0m\u001b[0;34m:\u001b[0m\u001b[0;34m\u001b[0m\u001b[0;34m\u001b[0m\u001b[0m\n\u001b[1;32m    382\u001b[0m             \u001b[0;32mreturn\u001b[0m \u001b[0mKeggApi\u001b[0m\u001b[0;34m.\u001b[0m\u001b[0mget\u001b[0m\u001b[0;34m(\u001b[0m\u001b[0mself\u001b[0m\u001b[0;34m,\u001b[0m \u001b[0mids\u001b[0m\u001b[0;34m)\u001b[0m\u001b[0;34m\u001b[0m\u001b[0;34m\u001b[0m\u001b[0m\n",
      "\u001b[0;32m~/anaconda3/envs/GEM_py36/lib/python3.6/site-packages/orangecontrib/bioinformatics/kegg/api.py\u001b[0m in \u001b[0;36m_batch_get\u001b[0;34m(self, ids)\u001b[0m\n\u001b[1;32m    406\u001b[0m             \u001b[0muncached\u001b[0m \u001b[0;34m=\u001b[0m \u001b[0msorted\u001b[0m\u001b[0;34m(\u001b[0m\u001b[0mset\u001b[0m\u001b[0;34m(\u001b[0m\u001b[0muncached\u001b[0m\u001b[0;34m)\u001b[0m\u001b[0;34m)\u001b[0m\u001b[0;34m\u001b[0m\u001b[0;34m\u001b[0m\u001b[0m\n\u001b[1;32m    407\u001b[0m \u001b[0;34m\u001b[0m\u001b[0m\n\u001b[0;32m--> 408\u001b[0;31m             \u001b[0mrval\u001b[0m \u001b[0;34m=\u001b[0m \u001b[0mKeggApi\u001b[0m\u001b[0;34m.\u001b[0m\u001b[0mget\u001b[0m\u001b[0;34m(\u001b[0m\u001b[0mself\u001b[0m\u001b[0;34m,\u001b[0m \u001b[0muncached\u001b[0m\u001b[0;34m)\u001b[0m\u001b[0;34m\u001b[0m\u001b[0;34m\u001b[0m\u001b[0m\n\u001b[0m\u001b[1;32m    409\u001b[0m \u001b[0;34m\u001b[0m\u001b[0m\n\u001b[1;32m    410\u001b[0m             \u001b[0;32mif\u001b[0m \u001b[0mrval\u001b[0m \u001b[0;32mis\u001b[0m \u001b[0;32mnot\u001b[0m \u001b[0;32mNone\u001b[0m\u001b[0;34m:\u001b[0m\u001b[0;34m\u001b[0m\u001b[0;34m\u001b[0m\u001b[0m\n",
      "\u001b[0;32m~/anaconda3/envs/GEM_py36/lib/python3.6/site-packages/orangecontrib/bioinformatics/kegg/api.py\u001b[0m in \u001b[0;36mget\u001b[0;34m(self, ids)\u001b[0m\n\u001b[1;32m    103\u001b[0m             \u001b[0mids\u001b[0m \u001b[0;34m=\u001b[0m \u001b[0;34m\"+\"\u001b[0m\u001b[0;34m.\u001b[0m\u001b[0mjoin\u001b[0m\u001b[0;34m(\u001b[0m\u001b[0mids\u001b[0m\u001b[0;34m)\u001b[0m\u001b[0;34m\u001b[0m\u001b[0;34m\u001b[0m\u001b[0m\n\u001b[1;32m    104\u001b[0m \u001b[0;34m\u001b[0m\u001b[0m\n\u001b[0;32m--> 105\u001b[0;31m         \u001b[0;32mreturn\u001b[0m \u001b[0mself\u001b[0m\u001b[0;34m.\u001b[0m\u001b[0mservice\u001b[0m\u001b[0;34m.\u001b[0m\u001b[0mget\u001b[0m\u001b[0;34m(\u001b[0m\u001b[0mids\u001b[0m\u001b[0;34m)\u001b[0m\u001b[0;34m.\u001b[0m\u001b[0mget\u001b[0m\u001b[0;34m(\u001b[0m\u001b[0;34m)\u001b[0m\u001b[0;34m\u001b[0m\u001b[0;34m\u001b[0m\u001b[0m\n\u001b[0m\u001b[1;32m    106\u001b[0m \u001b[0;34m\u001b[0m\u001b[0m\n\u001b[1;32m    107\u001b[0m     \u001b[0;32mdef\u001b[0m \u001b[0mconv\u001b[0m\u001b[0;34m(\u001b[0m\u001b[0mself\u001b[0m\u001b[0;34m,\u001b[0m \u001b[0mtarget_db\u001b[0m\u001b[0;34m,\u001b[0m \u001b[0msource\u001b[0m\u001b[0;34m)\u001b[0m\u001b[0;34m:\u001b[0m\u001b[0;34m\u001b[0m\u001b[0;34m\u001b[0m\u001b[0m\n",
      "\u001b[0;32m~/anaconda3/envs/GEM_py36/lib/python3.6/site-packages/slumber/__init__.py\u001b[0m in \u001b[0;36mget\u001b[0;34m(self, **kwargs)\u001b[0m\n\u001b[1;32m    153\u001b[0m     \u001b[0;31m# TODO: refactor these methods - lots of commonality\u001b[0m\u001b[0;34m\u001b[0m\u001b[0;34m\u001b[0m\u001b[0;34m\u001b[0m\u001b[0m\n\u001b[1;32m    154\u001b[0m     \u001b[0;32mdef\u001b[0m \u001b[0mget\u001b[0m\u001b[0;34m(\u001b[0m\u001b[0mself\u001b[0m\u001b[0;34m,\u001b[0m \u001b[0;34m**\u001b[0m\u001b[0mkwargs\u001b[0m\u001b[0;34m)\u001b[0m\u001b[0;34m:\u001b[0m\u001b[0;34m\u001b[0m\u001b[0;34m\u001b[0m\u001b[0m\n\u001b[0;32m--> 155\u001b[0;31m         \u001b[0mresp\u001b[0m \u001b[0;34m=\u001b[0m \u001b[0mself\u001b[0m\u001b[0;34m.\u001b[0m\u001b[0m_request\u001b[0m\u001b[0;34m(\u001b[0m\u001b[0;34m\"GET\"\u001b[0m\u001b[0;34m,\u001b[0m \u001b[0mparams\u001b[0m\u001b[0;34m=\u001b[0m\u001b[0mkwargs\u001b[0m\u001b[0;34m)\u001b[0m\u001b[0;34m\u001b[0m\u001b[0;34m\u001b[0m\u001b[0m\n\u001b[0m\u001b[1;32m    156\u001b[0m         \u001b[0;32mreturn\u001b[0m \u001b[0mself\u001b[0m\u001b[0;34m.\u001b[0m\u001b[0m_process_response\u001b[0m\u001b[0;34m(\u001b[0m\u001b[0mresp\u001b[0m\u001b[0;34m)\u001b[0m\u001b[0;34m\u001b[0m\u001b[0;34m\u001b[0m\u001b[0m\n\u001b[1;32m    157\u001b[0m \u001b[0;34m\u001b[0m\u001b[0m\n",
      "\u001b[0;32m~/anaconda3/envs/GEM_py36/lib/python3.6/site-packages/slumber/__init__.py\u001b[0m in \u001b[0;36m_request\u001b[0;34m(self, method, data, files, params)\u001b[0m\n\u001b[1;32m     99\u001b[0m         \u001b[0;32mif\u001b[0m \u001b[0;36m400\u001b[0m \u001b[0;34m<=\u001b[0m \u001b[0mresp\u001b[0m\u001b[0;34m.\u001b[0m\u001b[0mstatus_code\u001b[0m \u001b[0;34m<=\u001b[0m \u001b[0;36m499\u001b[0m\u001b[0;34m:\u001b[0m\u001b[0;34m\u001b[0m\u001b[0;34m\u001b[0m\u001b[0m\n\u001b[1;32m    100\u001b[0m             \u001b[0mexception_class\u001b[0m \u001b[0;34m=\u001b[0m \u001b[0mexceptions\u001b[0m\u001b[0;34m.\u001b[0m\u001b[0mHttpNotFoundError\u001b[0m \u001b[0;32mif\u001b[0m \u001b[0mresp\u001b[0m\u001b[0;34m.\u001b[0m\u001b[0mstatus_code\u001b[0m \u001b[0;34m==\u001b[0m \u001b[0;36m404\u001b[0m \u001b[0;32melse\u001b[0m \u001b[0mexceptions\u001b[0m\u001b[0;34m.\u001b[0m\u001b[0mHttpClientError\u001b[0m\u001b[0;34m\u001b[0m\u001b[0;34m\u001b[0m\u001b[0m\n\u001b[0;32m--> 101\u001b[0;31m             \u001b[0;32mraise\u001b[0m \u001b[0mexception_class\u001b[0m\u001b[0;34m(\u001b[0m\u001b[0;34m\"Client Error %s: %s\"\u001b[0m \u001b[0;34m%\u001b[0m \u001b[0;34m(\u001b[0m\u001b[0mresp\u001b[0m\u001b[0;34m.\u001b[0m\u001b[0mstatus_code\u001b[0m\u001b[0;34m,\u001b[0m \u001b[0murl\u001b[0m\u001b[0;34m)\u001b[0m\u001b[0;34m,\u001b[0m \u001b[0mresponse\u001b[0m\u001b[0;34m=\u001b[0m\u001b[0mresp\u001b[0m\u001b[0;34m,\u001b[0m \u001b[0mcontent\u001b[0m\u001b[0;34m=\u001b[0m\u001b[0mresp\u001b[0m\u001b[0;34m.\u001b[0m\u001b[0mcontent\u001b[0m\u001b[0;34m)\u001b[0m\u001b[0;34m\u001b[0m\u001b[0;34m\u001b[0m\u001b[0m\n\u001b[0m\u001b[1;32m    102\u001b[0m         \u001b[0;32melif\u001b[0m \u001b[0;36m500\u001b[0m \u001b[0;34m<=\u001b[0m \u001b[0mresp\u001b[0m\u001b[0;34m.\u001b[0m\u001b[0mstatus_code\u001b[0m \u001b[0;34m<=\u001b[0m \u001b[0;36m599\u001b[0m\u001b[0;34m:\u001b[0m\u001b[0;34m\u001b[0m\u001b[0;34m\u001b[0m\u001b[0m\n\u001b[1;32m    103\u001b[0m             \u001b[0;32mraise\u001b[0m \u001b[0mexceptions\u001b[0m\u001b[0;34m.\u001b[0m\u001b[0mHttpServerError\u001b[0m\u001b[0;34m(\u001b[0m\u001b[0;34m\"Server Error %s: %s\"\u001b[0m \u001b[0;34m%\u001b[0m \u001b[0;34m(\u001b[0m\u001b[0mresp\u001b[0m\u001b[0;34m.\u001b[0m\u001b[0mstatus_code\u001b[0m\u001b[0;34m,\u001b[0m \u001b[0murl\u001b[0m\u001b[0;34m)\u001b[0m\u001b[0;34m,\u001b[0m \u001b[0mresponse\u001b[0m\u001b[0;34m=\u001b[0m\u001b[0mresp\u001b[0m\u001b[0;34m,\u001b[0m \u001b[0mcontent\u001b[0m\u001b[0;34m=\u001b[0m\u001b[0mresp\u001b[0m\u001b[0;34m.\u001b[0m\u001b[0mcontent\u001b[0m\u001b[0;34m)\u001b[0m\u001b[0;34m\u001b[0m\u001b[0;34m\u001b[0m\u001b[0m\n",
      "\u001b[0;31mHttpNotFoundError\u001b[0m: Client Error 404: http://rest.kegg.jp/get/mtw:META1_2380/"
     ]
    }
   ],
   "source": [
    "for gene in iMsOB3b.reactions.FMNRx2.genes:\n",
    "    gene_entry = genes[\"mtw:\"+gene.id]\n",
    "    print(gene, gene_entry.orthology) "
   ]
  },
  {
   "cell_type": "code",
   "execution_count": 133,
   "metadata": {
    "ExecuteTime": {
     "end_time": "2020-01-18T05:03:51.329047Z",
     "start_time": "2020-01-18T05:03:51.209863Z"
    }
   },
   "outputs": [
    {
     "name": "stdout",
     "output_type": "stream",
     "text": [
      "0.04457428169253439\n"
     ]
    }
   ],
   "source": [
    "with iMsOB3b:\n",
    "    iMsOB3b.reactions.FMNRx2.reaction = 'fmnh2_c + nad_c <=> fmn_c + h_c + nadh_c'\n",
    "    iMsOB3b.optimize()\n",
    "    print(iMsOB3b.reactions.Biomass_Mextorquens_AM1_core.flux)"
   ]
  },
  {
   "cell_type": "code",
   "execution_count": 137,
   "metadata": {
    "ExecuteTime": {
     "end_time": "2020-01-18T05:04:27.785741Z",
     "start_time": "2020-01-18T05:04:27.726378Z"
    }
   },
   "outputs": [
    {
     "name": "stdout",
     "output_type": "stream",
     "text": [
      "PRODUCING REACTIONS -- FMNH2 (fmnh2_c)\n",
      "--------------------------------------\n",
      "%         FLUX  RXN ID      REACTION\n",
      "----  --------  ----------  -------------------------------------------------\n",
      "100%  1.47e-05  FMNRx2      fmnh2_c + nadp_c <=> fmn_c + h_c + nadph_c\n",
      "\n",
      "CONSUMING REACTIONS -- FMNH2 (fmnh2_c)\n",
      "--------------------------------------\n",
      "%         FLUX  RXN ID      REACTION\n",
      "----  --------  ----------  -------------------------------------------------\n",
      "67%   9.79e-06  CO2DAMR     co2dam_c + fmnh2_c --> co1dam_c + fmn_c + 2.0 h_c\n",
      "33%   4.89e-06  FMNDESTRUC  fmnh2_c + o2_c --> 2.0 dmbzid_c + e4p_c + h2o_c\n"
     ]
    }
   ],
   "source": [
    "iMsOB3b.metabolites.fmnh2_c.summary()"
   ]
  },
  {
   "cell_type": "markdown",
   "metadata": {},
   "source": [
    "ETFDH"
   ]
  },
  {
   "cell_type": "code",
   "execution_count": 138,
   "metadata": {
    "ExecuteTime": {
     "end_time": "2020-01-18T05:06:02.036663Z",
     "start_time": "2020-01-18T05:06:02.026510Z"
    }
   },
   "outputs": [
    {
     "data": {
      "text/html": [
       "\n",
       "        <table>\n",
       "            <tr>\n",
       "                <td><strong>Reaction identifier</strong></td><td>ETFDH</td>\n",
       "            </tr><tr>\n",
       "                <td><strong>Name</strong></td><td>ETF dehydrogenase</td>\n",
       "            </tr><tr>\n",
       "                <td><strong>Memory address</strong></td>\n",
       "                <td>0x07fab22a42dd8</td>\n",
       "            </tr><tr>\n",
       "                <td><strong>Stoichiometry</strong></td>\n",
       "                <td>\n",
       "                    <p style='text-align:right'>q_c + rETF_c <=> oxETF_c + qh2_c</p>\n",
       "                    <p style='text-align:right'>UQ + reduced_ETF <=> oxidized_ETF + UQH2</p>\n",
       "                </td>\n",
       "            </tr><tr>\n",
       "                <td><strong>GPR</strong></td><td>CQW49_05975 or (CQW49_20235 and CQW49_20230)</td>\n",
       "            </tr><tr>\n",
       "                <td><strong>Lower bound</strong></td><td>-1000.0</td>\n",
       "            </tr><tr>\n",
       "                <td><strong>Upper bound</strong></td><td>1000.0</td>\n",
       "            </tr>\n",
       "        </table>\n",
       "        "
      ],
      "text/plain": [
       "<Reaction ETFDH at 0x7fab22a42dd8>"
      ]
     },
     "execution_count": 138,
     "metadata": {},
     "output_type": "execute_result"
    }
   ],
   "source": [
    "iMsOB3b.reactions.ETFDH"
   ]
  },
  {
   "cell_type": "code",
   "execution_count": 139,
   "metadata": {
    "ExecuteTime": {
     "end_time": "2020-01-18T05:06:22.965878Z",
     "start_time": "2020-01-18T05:06:22.895113Z"
    }
   },
   "outputs": [
    {
     "name": "stdout",
     "output_type": "stream",
     "text": [
      "CQW49_05975 K00311  electron-transferring-flavoprotein dehydrogenase [EC:1.5.5.1]\n",
      "CQW49_20235 K03522  electron transfer flavoprotein alpha subunit\n",
      "CQW49_20230 K03521  electron transfer flavoprotein beta subunit\n"
     ]
    }
   ],
   "source": [
    "for gene in iMsOB3b.reactions.ETFDH.genes:\n",
    "    gene_entry = genes[\"mtw:\"+gene.id]\n",
    "    print(gene, gene_entry.orthology) "
   ]
  },
  {
   "cell_type": "markdown",
   "metadata": {},
   "source": [
    "PPA"
   ]
  },
  {
   "cell_type": "code",
   "execution_count": 141,
   "metadata": {
    "ExecuteTime": {
     "end_time": "2020-01-18T05:07:44.840821Z",
     "start_time": "2020-01-18T05:07:44.835716Z"
    }
   },
   "outputs": [
    {
     "data": {
      "text/html": [
       "\n",
       "        <table>\n",
       "            <tr>\n",
       "                <td><strong>Reaction identifier</strong></td><td>PPA</td>\n",
       "            </tr><tr>\n",
       "                <td><strong>Name</strong></td><td>inorganic pyrophosphatase</td>\n",
       "            </tr><tr>\n",
       "                <td><strong>Memory address</strong></td>\n",
       "                <td>0x07fab26c16ac8</td>\n",
       "            </tr><tr>\n",
       "                <td><strong>Stoichiometry</strong></td>\n",
       "                <td>\n",
       "                    <p style='text-align:right'>h2o_c + ppi_c --> h_c + 2.0 pi_c</p>\n",
       "                    <p style='text-align:right'>H2O + diphosphate --> H_ + 2.0 phosphate</p>\n",
       "                </td>\n",
       "            </tr><tr>\n",
       "                <td><strong>GPR</strong></td><td>CQW49_04295</td>\n",
       "            </tr><tr>\n",
       "                <td><strong>Lower bound</strong></td><td>0.0</td>\n",
       "            </tr><tr>\n",
       "                <td><strong>Upper bound</strong></td><td>1000.0</td>\n",
       "            </tr>\n",
       "        </table>\n",
       "        "
      ],
      "text/plain": [
       "<Reaction PPA at 0x7fab26c16ac8>"
      ]
     },
     "execution_count": 141,
     "metadata": {},
     "output_type": "execute_result"
    }
   ],
   "source": [
    "iMsOB3b.reactions.PPA"
   ]
  },
  {
   "cell_type": "code",
   "execution_count": 142,
   "metadata": {
    "ExecuteTime": {
     "end_time": "2020-01-18T05:07:47.571458Z",
     "start_time": "2020-01-18T05:07:47.080963Z"
    }
   },
   "outputs": [
    {
     "name": "stdout",
     "output_type": "stream",
     "text": [
      "CQW49_04295 K01507  inorganic pyrophosphatase [EC:3.6.1.1]\n"
     ]
    }
   ],
   "source": [
    "for gene in iMsOB3b.reactions.PPA.genes:\n",
    "    gene_entry = genes[\"mtw:\"+gene.id]\n",
    "    print(gene, gene_entry.orthology) "
   ]
  },
  {
   "cell_type": "markdown",
   "metadata": {},
   "source": [
    "FRDOr\n",
    "<br> Gapfilling reaction"
   ]
  },
  {
   "cell_type": "code",
   "execution_count": 154,
   "metadata": {
    "ExecuteTime": {
     "end_time": "2020-01-18T05:13:05.966353Z",
     "start_time": "2020-01-18T05:13:05.961791Z"
    }
   },
   "outputs": [
    {
     "data": {
      "text/html": [
       "\n",
       "        <table>\n",
       "            <tr>\n",
       "                <td><strong>Reaction identifier</strong></td><td>FRDOr</td>\n",
       "            </tr><tr>\n",
       "                <td><strong>Name</strong></td><td>NADPH ferredoxin oxidoreductase 1</td>\n",
       "            </tr><tr>\n",
       "                <td><strong>Memory address</strong></td>\n",
       "                <td>0x07fab22735eb8</td>\n",
       "            </tr><tr>\n",
       "                <td><strong>Stoichiometry</strong></td>\n",
       "                <td>\n",
       "                    <p style='text-align:right'>2.0 fdxox_c + nadph_c <=> 2.0 fdxrd_c + h_c + nadp_c</p>\n",
       "                    <p style='text-align:right'>2.0 oxidized_ferredoxin + NADPH <=> 2.0 reduced_ferredoxin + H_ + NADP_</p>\n",
       "                </td>\n",
       "            </tr><tr>\n",
       "                <td><strong>GPR</strong></td><td>META1_2334</td>\n",
       "            </tr><tr>\n",
       "                <td><strong>Lower bound</strong></td><td>-1000.0</td>\n",
       "            </tr><tr>\n",
       "                <td><strong>Upper bound</strong></td><td>1000.0</td>\n",
       "            </tr>\n",
       "        </table>\n",
       "        "
      ],
      "text/plain": [
       "<Reaction FRDOr at 0x7fab22735eb8>"
      ]
     },
     "execution_count": 154,
     "metadata": {},
     "output_type": "execute_result"
    }
   ],
   "source": [
    "iMsOB3b.reactions.FRDOr"
   ]
  },
  {
   "cell_type": "code",
   "execution_count": 168,
   "metadata": {
    "ExecuteTime": {
     "end_time": "2020-01-18T05:21:28.324323Z",
     "start_time": "2020-01-18T05:21:28.274102Z"
    },
    "scrolled": true
   },
   "outputs": [
    {
     "name": "stdout",
     "output_type": "stream",
     "text": [
      "PRODUCING REACTIONS -- reduced_ferredoxin (fdxrd_c)\n",
      "---------------------------------------------------\n",
      "%        FLUX  RXN ID    REACTION\n",
      "----  -------  --------  --------------------------------------------------\n",
      "100%  0.00055  FRDOr     2.0 fdxox_c + nadph_c <=> 2.0 fdxrd_c + h_c + n...\n",
      "\n",
      "CONSUMING REACTIONS -- reduced_ferredoxin (fdxrd_c)\n",
      "---------------------------------------------------\n",
      "%        FLUX  RXN ID    REACTION\n",
      "----  -------  --------  --------------------------------------------------\n",
      "100%  0.00055  H2MB4P    2mecdp_c + 2.0 fdxrd_c + h_c --> 2.0 fdxox_c + ...\n"
     ]
    }
   ],
   "source": [
    "iMsOB3b.metabolites.fdxrd_c.summary()"
   ]
  },
  {
   "cell_type": "code",
   "execution_count": 157,
   "metadata": {
    "ExecuteTime": {
     "end_time": "2020-01-18T05:13:51.681775Z",
     "start_time": "2020-01-18T05:13:51.613447Z"
    },
    "scrolled": true
   },
   "outputs": [
    {
     "name": "stdout",
     "output_type": "stream",
     "text": [
      "PRODUCING REACTIONS -- NADP_ (nadp_c)\n",
      "-------------------------------------\n",
      "%       FLUX  RXN ID    REACTION\n",
      "---  -------  --------  --------------------------------------------------\n",
      "48%  0.263    CCRC      b2coa_c + co2_c + nadph_c <=> 2Sethmalcoa_c + n...\n",
      "7%   0.037    ASAD      4pasp_c + h_c + nadph_c <=> aspsa_c + nadp_c + ...\n",
      "7%   0.0364   KARA1     alac_S_c + h_c + nadph_c <=> 23dhmb_c + nadp_c\n",
      "5%   0.0272   TDPDRR    dtdp4d6dm_c + h_c + nadph_c <=> dtdprmn_c + nadp_c\n",
      "5%   0.0255   HSDyi     aspsa_c + h_c + nadph_c --> hom_L_c + nadp_c\n",
      "3%   0.0182   P5CR      1pyr5c_c + 2.0 h_c + nadph_c --> nadp_c + pro_L_c\n",
      "3%   0.0139   G5SD      glu5p_c + h_c + nadph_c <=> glu5sa_c + nadp_c +...\n",
      "2%   0.0128   AGPR      acg5p_c + h_c + nadph_c <=> acg5sa_c + nadp_c +...\n",
      "2%   0.0115   DHDPRy    23dhdp_c + h_c + nadph_c --> nadp_c + thdp_c\n",
      "2%   0.00948  SHK3Dr    nadp_c + skm_c <=> 3dhsk_c + h_c + nadph_c\n",
      "2%   0.0093   KARA2     2ahbut_c + h_c + nadph_c <=> 23dhmp_c + nadp_c\n",
      "1%   0.0079   SULR      5.0 h_c + 3.0 nadph_c + so3_c <=> 3.0 h2o_c + h...\n",
      "1%   0.00696  TRDR      nadph_c + trdox_c <=> h_c + nadp_c + trdrd_c\n",
      "1%   0.00496  3OAR100   3odecACP_c + h_c + nadph_c <=> 3hdecACP_c + nadp_c\n",
      "1%   0.00496  3OAR40    actACP_c + h_c + nadph_c <=> R_3hbacp_c + nadp_c\n",
      "1%   0.00496  3OAR60    3ohexACP_c + h_c + nadph_c <=> 3hhexACP_c + nadp_c\n",
      "1%   0.00496  3OAR80    3ooctACP_c + h_c + nadph_c <=> 3hoctACP_c + nadp_c\n",
      "1%   0.00496  EAR40y    but2eACP_c + h_c + nadph_c --> butACP_c + nadp_c\n",
      "1%   0.00496  EAR60y    h_c + nadph_c + thex2eACP_c --> hexACP_c + nadp_c\n",
      "1%   0.00496  EAR80y    h_c + nadph_c + toct2eACP_c --> nadp_c + ocACP_c\n",
      "1%   0.00494  3OAR121   3ocddec5eACP_c + h_c + nadph_c <=> 3hcddec5eACP...\n",
      "1%   0.00494  3OAR141   3ocmrs7eACP_c + h_c + nadph_c <=> 3hcmrs7eACP_c...\n",
      "1%   0.00494  3OAR161   3ocpalm9eACP_c + h_c + nadph_c <=> 3hcpalm9eACP...\n",
      "1%   0.00494  EAR121y   h_c + nadph_c + t3c5ddeceACP_c --> cddec5eACP_c...\n",
      "1%   0.00494  EAR141y   h_c + nadph_c + t3c7mrseACP_c --> nadp_c + tdeA...\n",
      "1%   0.00494  EAR161y   h_c + nadph_c + t3c9palmeACP_c --> hdeACP_c + n...\n",
      "\n",
      "CONSUMING REACTIONS -- NADP_ (nadp_c)\n",
      "-------------------------------------\n",
      "%       FLUX  RXN ID    REACTION\n",
      "---  -------  --------  --------------------------------------------------\n",
      "89%  0.482    MLMPTDHy  mlh4mpt_c + nadp_c --> meh4mpt_c + nadph_c\n",
      "9%   0.0513   ICDHyr    icit_c + nadp_c --> akg_c + co2_c + nadph_c\n",
      "5%   0.0271   MTHFD     methf_c + nadph_c <=> mlthf_c + nadp_c\n"
     ]
    }
   ],
   "source": [
    "iMsOB3b.metabolites.nadp_c.summary()"
   ]
  },
  {
   "cell_type": "code",
   "execution_count": 169,
   "metadata": {
    "ExecuteTime": {
     "end_time": "2020-01-18T05:22:31.298567Z",
     "start_time": "2020-01-18T05:22:31.262022Z"
    }
   },
   "outputs": [
    {
     "name": "stdout",
     "output_type": "stream",
     "text": [
      "-1.2400314414920057e-16\n"
     ]
    }
   ],
   "source": [
    "with iMsOB3b:\n",
    "    iMsOB3b.reactions.FRDOr.knock_out()\n",
    "    iMsOB3b.optimize()\n",
    "    print(iMsOB3b.reactions.Biomass_Mextorquens_AM1_core.flux)"
   ]
  },
  {
   "cell_type": "code",
   "execution_count": 164,
   "metadata": {
    "ExecuteTime": {
     "end_time": "2020-01-18T05:15:21.634673Z",
     "start_time": "2020-01-18T05:15:21.503631Z"
    }
   },
   "outputs": [
    {
     "name": "stdout",
     "output_type": "stream",
     "text": [
      "0.04457428169253467\n"
     ]
    }
   ],
   "source": [
    "with iMsOB3b:\n",
    "    iMsOB3b.reactions.FRDOr.reaction = '2.0 fdxox_c + nadph_c <=> 2.0 fdxrd_c + h_c + nadp_c'\n",
    "    iMsOB3b.optimize()\n",
    "    print(iMsOB3b.reactions.Biomass_Mextorquens_AM1_core.flux)"
   ]
  },
  {
   "cell_type": "code",
   "execution_count": 145,
   "metadata": {
    "ExecuteTime": {
     "end_time": "2020-01-18T05:09:25.294122Z",
     "start_time": "2020-01-18T05:09:25.035435Z"
    },
    "scrolled": true
   },
   "outputs": [
    {
     "ename": "HttpNotFoundError",
     "evalue": "Client Error 404: http://rest.kegg.jp/get/mtw:META1_2334/",
     "output_type": "error",
     "traceback": [
      "\u001b[0;31m---------------------------------------------------------------------------\u001b[0m",
      "\u001b[0;31mHttpNotFoundError\u001b[0m                         Traceback (most recent call last)",
      "\u001b[0;32m<ipython-input-145-617805922ac9>\u001b[0m in \u001b[0;36m<module>\u001b[0;34m\u001b[0m\n\u001b[1;32m      1\u001b[0m \u001b[0;32mfor\u001b[0m \u001b[0mgene\u001b[0m \u001b[0;32min\u001b[0m \u001b[0miMsOB3b\u001b[0m\u001b[0;34m.\u001b[0m\u001b[0mreactions\u001b[0m\u001b[0;34m.\u001b[0m\u001b[0mFRDOr\u001b[0m\u001b[0;34m.\u001b[0m\u001b[0mgenes\u001b[0m\u001b[0;34m:\u001b[0m\u001b[0;34m\u001b[0m\u001b[0;34m\u001b[0m\u001b[0m\n\u001b[0;32m----> 2\u001b[0;31m     \u001b[0mgene_entry\u001b[0m \u001b[0;34m=\u001b[0m \u001b[0mgenes\u001b[0m\u001b[0;34m[\u001b[0m\u001b[0;34m\"mtw:\"\u001b[0m\u001b[0;34m+\u001b[0m\u001b[0mgene\u001b[0m\u001b[0;34m.\u001b[0m\u001b[0mid\u001b[0m\u001b[0;34m]\u001b[0m\u001b[0;34m\u001b[0m\u001b[0;34m\u001b[0m\u001b[0m\n\u001b[0m\u001b[1;32m      3\u001b[0m     \u001b[0mprint\u001b[0m\u001b[0;34m(\u001b[0m\u001b[0mgene\u001b[0m\u001b[0;34m,\u001b[0m \u001b[0mgene_entry\u001b[0m\u001b[0;34m.\u001b[0m\u001b[0morthology\u001b[0m\u001b[0;34m)\u001b[0m\u001b[0;34m\u001b[0m\u001b[0;34m\u001b[0m\u001b[0m\n",
      "\u001b[0;32m~/anaconda3/envs/GEM_py36/lib/python3.6/site-packages/orangecontrib/bioinformatics/kegg/databases.py\u001b[0m in \u001b[0;36m__getitem__\u001b[0;34m(self, key)\u001b[0m\n\u001b[1;32m    165\u001b[0m \u001b[0;34m\u001b[0m\u001b[0m\n\u001b[1;32m    166\u001b[0m     \u001b[0;32mdef\u001b[0m \u001b[0m__getitem__\u001b[0m\u001b[0;34m(\u001b[0m\u001b[0mself\u001b[0m\u001b[0;34m,\u001b[0m \u001b[0mkey\u001b[0m\u001b[0;34m)\u001b[0m\u001b[0;34m:\u001b[0m\u001b[0;34m\u001b[0m\u001b[0;34m\u001b[0m\u001b[0m\n\u001b[0;32m--> 167\u001b[0;31m         \u001b[0me\u001b[0m \u001b[0;34m=\u001b[0m \u001b[0mself\u001b[0m\u001b[0;34m.\u001b[0m\u001b[0mget_entry\u001b[0m\u001b[0;34m(\u001b[0m\u001b[0mkey\u001b[0m\u001b[0;34m)\u001b[0m\u001b[0;34m\u001b[0m\u001b[0;34m\u001b[0m\u001b[0m\n\u001b[0m\u001b[1;32m    168\u001b[0m         \u001b[0;32mif\u001b[0m \u001b[0me\u001b[0m \u001b[0;32mis\u001b[0m \u001b[0;32mNone\u001b[0m\u001b[0;34m:\u001b[0m\u001b[0;34m\u001b[0m\u001b[0;34m\u001b[0m\u001b[0m\n\u001b[1;32m    169\u001b[0m             \u001b[0;32mraise\u001b[0m \u001b[0mKeyError\u001b[0m\u001b[0;34m(\u001b[0m\u001b[0mkey\u001b[0m\u001b[0;34m)\u001b[0m\u001b[0;34m\u001b[0m\u001b[0;34m\u001b[0m\u001b[0m\n",
      "\u001b[0;32m~/anaconda3/envs/GEM_py36/lib/python3.6/site-packages/orangecontrib/bioinformatics/kegg/databases.py\u001b[0m in \u001b[0;36mget_entry\u001b[0;34m(self, key)\u001b[0m\n\u001b[1;32m    191\u001b[0m         \u001b[0mReturn\u001b[0m \u001b[0mthe\u001b[0m \u001b[0mdatabase\u001b[0m \u001b[0mentry\u001b[0m \u001b[0;32mfor\u001b[0m\u001b[0;31m \u001b[0m\u001b[0;31m`\u001b[0m\u001b[0mkey\u001b[0m\u001b[0;31m`\u001b[0m \u001b[0;32mas\u001b[0m \u001b[0man\u001b[0m \u001b[0minstance\u001b[0m \u001b[0mof\u001b[0m\u001b[0;31m \u001b[0m\u001b[0;31m`\u001b[0m\u001b[0mENTRY_TYPE\u001b[0m\u001b[0;31m`\u001b[0m\u001b[0;34m.\u001b[0m\u001b[0;34m\u001b[0m\u001b[0;34m\u001b[0m\u001b[0m\n\u001b[1;32m    192\u001b[0m         \"\"\"\n\u001b[0;32m--> 193\u001b[0;31m         \u001b[0mtext\u001b[0m \u001b[0;34m=\u001b[0m \u001b[0mself\u001b[0m\u001b[0;34m.\u001b[0m\u001b[0mget_text\u001b[0m\u001b[0;34m(\u001b[0m\u001b[0mkey\u001b[0m\u001b[0;34m)\u001b[0m\u001b[0;34m\u001b[0m\u001b[0;34m\u001b[0m\u001b[0m\n\u001b[0m\u001b[1;32m    194\u001b[0m         \u001b[0;32mif\u001b[0m \u001b[0;32mnot\u001b[0m \u001b[0mtext\u001b[0m \u001b[0;32mor\u001b[0m \u001b[0mtext\u001b[0m \u001b[0;34m==\u001b[0m \u001b[0;34m\"None\"\u001b[0m\u001b[0;34m:\u001b[0m\u001b[0;34m\u001b[0m\u001b[0;34m\u001b[0m\u001b[0m\n\u001b[1;32m    195\u001b[0m             \u001b[0;32mreturn\u001b[0m \u001b[0;32mNone\u001b[0m\u001b[0;34m\u001b[0m\u001b[0;34m\u001b[0m\u001b[0m\n",
      "\u001b[0;32m~/anaconda3/envs/GEM_py36/lib/python3.6/site-packages/orangecontrib/bioinformatics/kegg/databases.py\u001b[0m in \u001b[0;36mget_text\u001b[0;34m(self, key)\u001b[0m\n\u001b[1;32m    185\u001b[0m         \"\"\"\n\u001b[1;32m    186\u001b[0m         \u001b[0mkey\u001b[0m \u001b[0;34m=\u001b[0m \u001b[0mself\u001b[0m\u001b[0;34m.\u001b[0m\u001b[0m_add_db\u001b[0m\u001b[0;34m(\u001b[0m\u001b[0mkey\u001b[0m\u001b[0;34m)\u001b[0m\u001b[0;34m\u001b[0m\u001b[0;34m\u001b[0m\u001b[0m\n\u001b[0;32m--> 187\u001b[0;31m         \u001b[0;32mreturn\u001b[0m \u001b[0mself\u001b[0m\u001b[0;34m.\u001b[0m\u001b[0mapi\u001b[0m\u001b[0;34m.\u001b[0m\u001b[0mget\u001b[0m\u001b[0;34m(\u001b[0m\u001b[0;34m[\u001b[0m\u001b[0mkey\u001b[0m\u001b[0;34m]\u001b[0m\u001b[0;34m)\u001b[0m\u001b[0;34m\u001b[0m\u001b[0;34m\u001b[0m\u001b[0m\n\u001b[0m\u001b[1;32m    188\u001b[0m \u001b[0;34m\u001b[0m\u001b[0m\n\u001b[1;32m    189\u001b[0m     \u001b[0;32mdef\u001b[0m \u001b[0mget_entry\u001b[0m\u001b[0;34m(\u001b[0m\u001b[0mself\u001b[0m\u001b[0;34m,\u001b[0m \u001b[0mkey\u001b[0m\u001b[0;34m)\u001b[0m\u001b[0;34m:\u001b[0m\u001b[0;34m\u001b[0m\u001b[0;34m\u001b[0m\u001b[0m\n",
      "\u001b[0;32m~/anaconda3/envs/GEM_py36/lib/python3.6/site-packages/orangecontrib/bioinformatics/kegg/caching.py\u001b[0m in \u001b[0;36m__call__\u001b[0;34m(self, *args)\u001b[0m\n\u001b[1;32m    197\u001b[0m                 \u001b[0mrval\u001b[0m \u001b[0;34m=\u001b[0m \u001b[0mstore\u001b[0m\u001b[0;34m[\u001b[0m\u001b[0mkey\u001b[0m\u001b[0;34m]\u001b[0m\u001b[0;34m.\u001b[0m\u001b[0mvalue\u001b[0m\u001b[0;34m\u001b[0m\u001b[0;34m\u001b[0m\u001b[0m\n\u001b[1;32m    198\u001b[0m             \u001b[0;32melse\u001b[0m\u001b[0;34m:\u001b[0m\u001b[0;34m\u001b[0m\u001b[0;34m\u001b[0m\u001b[0m\n\u001b[0;32m--> 199\u001b[0;31m                 \u001b[0mrval\u001b[0m \u001b[0;34m=\u001b[0m \u001b[0mself\u001b[0m\u001b[0;34m.\u001b[0m\u001b[0mfunction\u001b[0m\u001b[0;34m(\u001b[0m\u001b[0mself\u001b[0m\u001b[0;34m.\u001b[0m\u001b[0minstance\u001b[0m\u001b[0;34m,\u001b[0m \u001b[0;34m*\u001b[0m\u001b[0margs\u001b[0m\u001b[0;34m)\u001b[0m\u001b[0;34m\u001b[0m\u001b[0;34m\u001b[0m\u001b[0m\n\u001b[0m\u001b[1;32m    200\u001b[0m                 \u001b[0mstore\u001b[0m\u001b[0;34m[\u001b[0m\u001b[0mkey\u001b[0m\u001b[0;34m]\u001b[0m \u001b[0;34m=\u001b[0m \u001b[0mcache_entry\u001b[0m\u001b[0;34m(\u001b[0m\u001b[0mrval\u001b[0m\u001b[0;34m,\u001b[0m \u001b[0mdatetime\u001b[0m\u001b[0;34m.\u001b[0m\u001b[0mnow\u001b[0m\u001b[0;34m(\u001b[0m\u001b[0;34m)\u001b[0m\u001b[0;34m,\u001b[0m \u001b[0;32mNone\u001b[0m\u001b[0;34m)\u001b[0m\u001b[0;34m\u001b[0m\u001b[0;34m\u001b[0m\u001b[0m\n\u001b[1;32m    201\u001b[0m \u001b[0;34m\u001b[0m\u001b[0m\n",
      "\u001b[0;32m~/anaconda3/envs/GEM_py36/lib/python3.6/site-packages/orangecontrib/bioinformatics/kegg/api.py\u001b[0m in \u001b[0;36mget\u001b[0;34m(self, ids)\u001b[0m\n\u001b[1;32m    378\u001b[0m     \u001b[0;32mdef\u001b[0m \u001b[0mget\u001b[0m\u001b[0;34m(\u001b[0m\u001b[0mself\u001b[0m\u001b[0;34m,\u001b[0m \u001b[0mids\u001b[0m\u001b[0;34m)\u001b[0m\u001b[0;34m:\u001b[0m\u001b[0;34m\u001b[0m\u001b[0;34m\u001b[0m\u001b[0m\n\u001b[1;32m    379\u001b[0m         \u001b[0;32mif\u001b[0m \u001b[0;32mnot\u001b[0m \u001b[0misinstance\u001b[0m\u001b[0;34m(\u001b[0m\u001b[0mids\u001b[0m\u001b[0;34m,\u001b[0m \u001b[0msix\u001b[0m\u001b[0;34m.\u001b[0m\u001b[0mstring_types\u001b[0m\u001b[0;34m)\u001b[0m\u001b[0;34m:\u001b[0m\u001b[0;34m\u001b[0m\u001b[0;34m\u001b[0m\u001b[0m\n\u001b[0;32m--> 380\u001b[0;31m             \u001b[0;32mreturn\u001b[0m \u001b[0mself\u001b[0m\u001b[0;34m.\u001b[0m\u001b[0m_batch_get\u001b[0m\u001b[0;34m(\u001b[0m\u001b[0mids\u001b[0m\u001b[0;34m)\u001b[0m\u001b[0;34m\u001b[0m\u001b[0;34m\u001b[0m\u001b[0m\n\u001b[0m\u001b[1;32m    381\u001b[0m         \u001b[0;32melse\u001b[0m\u001b[0;34m:\u001b[0m\u001b[0;34m\u001b[0m\u001b[0;34m\u001b[0m\u001b[0m\n\u001b[1;32m    382\u001b[0m             \u001b[0;32mreturn\u001b[0m \u001b[0mKeggApi\u001b[0m\u001b[0;34m.\u001b[0m\u001b[0mget\u001b[0m\u001b[0;34m(\u001b[0m\u001b[0mself\u001b[0m\u001b[0;34m,\u001b[0m \u001b[0mids\u001b[0m\u001b[0;34m)\u001b[0m\u001b[0;34m\u001b[0m\u001b[0;34m\u001b[0m\u001b[0m\n",
      "\u001b[0;32m~/anaconda3/envs/GEM_py36/lib/python3.6/site-packages/orangecontrib/bioinformatics/kegg/api.py\u001b[0m in \u001b[0;36m_batch_get\u001b[0;34m(self, ids)\u001b[0m\n\u001b[1;32m    406\u001b[0m             \u001b[0muncached\u001b[0m \u001b[0;34m=\u001b[0m \u001b[0msorted\u001b[0m\u001b[0;34m(\u001b[0m\u001b[0mset\u001b[0m\u001b[0;34m(\u001b[0m\u001b[0muncached\u001b[0m\u001b[0;34m)\u001b[0m\u001b[0;34m)\u001b[0m\u001b[0;34m\u001b[0m\u001b[0;34m\u001b[0m\u001b[0m\n\u001b[1;32m    407\u001b[0m \u001b[0;34m\u001b[0m\u001b[0m\n\u001b[0;32m--> 408\u001b[0;31m             \u001b[0mrval\u001b[0m \u001b[0;34m=\u001b[0m \u001b[0mKeggApi\u001b[0m\u001b[0;34m.\u001b[0m\u001b[0mget\u001b[0m\u001b[0;34m(\u001b[0m\u001b[0mself\u001b[0m\u001b[0;34m,\u001b[0m \u001b[0muncached\u001b[0m\u001b[0;34m)\u001b[0m\u001b[0;34m\u001b[0m\u001b[0;34m\u001b[0m\u001b[0m\n\u001b[0m\u001b[1;32m    409\u001b[0m \u001b[0;34m\u001b[0m\u001b[0m\n\u001b[1;32m    410\u001b[0m             \u001b[0;32mif\u001b[0m \u001b[0mrval\u001b[0m \u001b[0;32mis\u001b[0m \u001b[0;32mnot\u001b[0m \u001b[0;32mNone\u001b[0m\u001b[0;34m:\u001b[0m\u001b[0;34m\u001b[0m\u001b[0;34m\u001b[0m\u001b[0m\n",
      "\u001b[0;32m~/anaconda3/envs/GEM_py36/lib/python3.6/site-packages/orangecontrib/bioinformatics/kegg/api.py\u001b[0m in \u001b[0;36mget\u001b[0;34m(self, ids)\u001b[0m\n\u001b[1;32m    103\u001b[0m             \u001b[0mids\u001b[0m \u001b[0;34m=\u001b[0m \u001b[0;34m\"+\"\u001b[0m\u001b[0;34m.\u001b[0m\u001b[0mjoin\u001b[0m\u001b[0;34m(\u001b[0m\u001b[0mids\u001b[0m\u001b[0;34m)\u001b[0m\u001b[0;34m\u001b[0m\u001b[0;34m\u001b[0m\u001b[0m\n\u001b[1;32m    104\u001b[0m \u001b[0;34m\u001b[0m\u001b[0m\n\u001b[0;32m--> 105\u001b[0;31m         \u001b[0;32mreturn\u001b[0m \u001b[0mself\u001b[0m\u001b[0;34m.\u001b[0m\u001b[0mservice\u001b[0m\u001b[0;34m.\u001b[0m\u001b[0mget\u001b[0m\u001b[0;34m(\u001b[0m\u001b[0mids\u001b[0m\u001b[0;34m)\u001b[0m\u001b[0;34m.\u001b[0m\u001b[0mget\u001b[0m\u001b[0;34m(\u001b[0m\u001b[0;34m)\u001b[0m\u001b[0;34m\u001b[0m\u001b[0;34m\u001b[0m\u001b[0m\n\u001b[0m\u001b[1;32m    106\u001b[0m \u001b[0;34m\u001b[0m\u001b[0m\n\u001b[1;32m    107\u001b[0m     \u001b[0;32mdef\u001b[0m \u001b[0mconv\u001b[0m\u001b[0;34m(\u001b[0m\u001b[0mself\u001b[0m\u001b[0;34m,\u001b[0m \u001b[0mtarget_db\u001b[0m\u001b[0;34m,\u001b[0m \u001b[0msource\u001b[0m\u001b[0;34m)\u001b[0m\u001b[0;34m:\u001b[0m\u001b[0;34m\u001b[0m\u001b[0;34m\u001b[0m\u001b[0m\n",
      "\u001b[0;32m~/anaconda3/envs/GEM_py36/lib/python3.6/site-packages/slumber/__init__.py\u001b[0m in \u001b[0;36mget\u001b[0;34m(self, **kwargs)\u001b[0m\n\u001b[1;32m    153\u001b[0m     \u001b[0;31m# TODO: refactor these methods - lots of commonality\u001b[0m\u001b[0;34m\u001b[0m\u001b[0;34m\u001b[0m\u001b[0;34m\u001b[0m\u001b[0m\n\u001b[1;32m    154\u001b[0m     \u001b[0;32mdef\u001b[0m \u001b[0mget\u001b[0m\u001b[0;34m(\u001b[0m\u001b[0mself\u001b[0m\u001b[0;34m,\u001b[0m \u001b[0;34m**\u001b[0m\u001b[0mkwargs\u001b[0m\u001b[0;34m)\u001b[0m\u001b[0;34m:\u001b[0m\u001b[0;34m\u001b[0m\u001b[0;34m\u001b[0m\u001b[0m\n\u001b[0;32m--> 155\u001b[0;31m         \u001b[0mresp\u001b[0m \u001b[0;34m=\u001b[0m \u001b[0mself\u001b[0m\u001b[0;34m.\u001b[0m\u001b[0m_request\u001b[0m\u001b[0;34m(\u001b[0m\u001b[0;34m\"GET\"\u001b[0m\u001b[0;34m,\u001b[0m \u001b[0mparams\u001b[0m\u001b[0;34m=\u001b[0m\u001b[0mkwargs\u001b[0m\u001b[0;34m)\u001b[0m\u001b[0;34m\u001b[0m\u001b[0;34m\u001b[0m\u001b[0m\n\u001b[0m\u001b[1;32m    156\u001b[0m         \u001b[0;32mreturn\u001b[0m \u001b[0mself\u001b[0m\u001b[0;34m.\u001b[0m\u001b[0m_process_response\u001b[0m\u001b[0;34m(\u001b[0m\u001b[0mresp\u001b[0m\u001b[0;34m)\u001b[0m\u001b[0;34m\u001b[0m\u001b[0;34m\u001b[0m\u001b[0m\n\u001b[1;32m    157\u001b[0m \u001b[0;34m\u001b[0m\u001b[0m\n",
      "\u001b[0;32m~/anaconda3/envs/GEM_py36/lib/python3.6/site-packages/slumber/__init__.py\u001b[0m in \u001b[0;36m_request\u001b[0;34m(self, method, data, files, params)\u001b[0m\n\u001b[1;32m     99\u001b[0m         \u001b[0;32mif\u001b[0m \u001b[0;36m400\u001b[0m \u001b[0;34m<=\u001b[0m \u001b[0mresp\u001b[0m\u001b[0;34m.\u001b[0m\u001b[0mstatus_code\u001b[0m \u001b[0;34m<=\u001b[0m \u001b[0;36m499\u001b[0m\u001b[0;34m:\u001b[0m\u001b[0;34m\u001b[0m\u001b[0;34m\u001b[0m\u001b[0m\n\u001b[1;32m    100\u001b[0m             \u001b[0mexception_class\u001b[0m \u001b[0;34m=\u001b[0m \u001b[0mexceptions\u001b[0m\u001b[0;34m.\u001b[0m\u001b[0mHttpNotFoundError\u001b[0m \u001b[0;32mif\u001b[0m \u001b[0mresp\u001b[0m\u001b[0;34m.\u001b[0m\u001b[0mstatus_code\u001b[0m \u001b[0;34m==\u001b[0m \u001b[0;36m404\u001b[0m \u001b[0;32melse\u001b[0m \u001b[0mexceptions\u001b[0m\u001b[0;34m.\u001b[0m\u001b[0mHttpClientError\u001b[0m\u001b[0;34m\u001b[0m\u001b[0;34m\u001b[0m\u001b[0m\n\u001b[0;32m--> 101\u001b[0;31m             \u001b[0;32mraise\u001b[0m \u001b[0mexception_class\u001b[0m\u001b[0;34m(\u001b[0m\u001b[0;34m\"Client Error %s: %s\"\u001b[0m \u001b[0;34m%\u001b[0m \u001b[0;34m(\u001b[0m\u001b[0mresp\u001b[0m\u001b[0;34m.\u001b[0m\u001b[0mstatus_code\u001b[0m\u001b[0;34m,\u001b[0m \u001b[0murl\u001b[0m\u001b[0;34m)\u001b[0m\u001b[0;34m,\u001b[0m \u001b[0mresponse\u001b[0m\u001b[0;34m=\u001b[0m\u001b[0mresp\u001b[0m\u001b[0;34m,\u001b[0m \u001b[0mcontent\u001b[0m\u001b[0;34m=\u001b[0m\u001b[0mresp\u001b[0m\u001b[0;34m.\u001b[0m\u001b[0mcontent\u001b[0m\u001b[0;34m)\u001b[0m\u001b[0;34m\u001b[0m\u001b[0;34m\u001b[0m\u001b[0m\n\u001b[0m\u001b[1;32m    102\u001b[0m         \u001b[0;32melif\u001b[0m \u001b[0;36m500\u001b[0m \u001b[0;34m<=\u001b[0m \u001b[0mresp\u001b[0m\u001b[0;34m.\u001b[0m\u001b[0mstatus_code\u001b[0m \u001b[0;34m<=\u001b[0m \u001b[0;36m599\u001b[0m\u001b[0;34m:\u001b[0m\u001b[0;34m\u001b[0m\u001b[0;34m\u001b[0m\u001b[0m\n\u001b[1;32m    103\u001b[0m             \u001b[0;32mraise\u001b[0m \u001b[0mexceptions\u001b[0m\u001b[0;34m.\u001b[0m\u001b[0mHttpServerError\u001b[0m\u001b[0;34m(\u001b[0m\u001b[0;34m\"Server Error %s: %s\"\u001b[0m \u001b[0;34m%\u001b[0m \u001b[0;34m(\u001b[0m\u001b[0mresp\u001b[0m\u001b[0;34m.\u001b[0m\u001b[0mstatus_code\u001b[0m\u001b[0;34m,\u001b[0m \u001b[0murl\u001b[0m\u001b[0;34m)\u001b[0m\u001b[0;34m,\u001b[0m \u001b[0mresponse\u001b[0m\u001b[0;34m=\u001b[0m\u001b[0mresp\u001b[0m\u001b[0;34m,\u001b[0m \u001b[0mcontent\u001b[0m\u001b[0;34m=\u001b[0m\u001b[0mresp\u001b[0m\u001b[0;34m.\u001b[0m\u001b[0mcontent\u001b[0m\u001b[0;34m)\u001b[0m\u001b[0;34m\u001b[0m\u001b[0;34m\u001b[0m\u001b[0m\n",
      "\u001b[0;31mHttpNotFoundError\u001b[0m: Client Error 404: http://rest.kegg.jp/get/mtw:META1_2334/"
     ]
    }
   ],
   "source": [
    "for gene in iMsOB3b.reactions.FRDOr.genes:\n",
    "    gene_entry = genes[\"mtw:\"+gene.id]\n",
    "    print(gene, gene_entry.orthology) "
   ]
  },
  {
   "cell_type": "code",
   "execution_count": 165,
   "metadata": {
    "ExecuteTime": {
     "end_time": "2020-01-18T05:15:59.158681Z",
     "start_time": "2020-01-18T05:15:59.128891Z"
    },
    "scrolled": true
   },
   "outputs": [
    {
     "ename": "AttributeError",
     "evalue": "DictList has no attribute or entry indpyr_c",
     "output_type": "error",
     "traceback": [
      "\u001b[0;31m---------------------------------------------------------------------------\u001b[0m",
      "\u001b[0;31mKeyError\u001b[0m                                  Traceback (most recent call last)",
      "\u001b[0;32m~/anaconda3/envs/GEM_py36/lib/python3.6/site-packages/cobra/core/dictlist.py\u001b[0m in \u001b[0;36m__getattr__\u001b[0;34m(self, attr)\u001b[0m\n\u001b[1;32m    450\u001b[0m         \u001b[0;32mtry\u001b[0m\u001b[0;34m:\u001b[0m\u001b[0;34m\u001b[0m\u001b[0;34m\u001b[0m\u001b[0m\n\u001b[0;32m--> 451\u001b[0;31m             \u001b[0;32mreturn\u001b[0m \u001b[0mDictList\u001b[0m\u001b[0;34m.\u001b[0m\u001b[0mget_by_id\u001b[0m\u001b[0;34m(\u001b[0m\u001b[0mself\u001b[0m\u001b[0;34m,\u001b[0m \u001b[0mattr\u001b[0m\u001b[0;34m)\u001b[0m\u001b[0;34m\u001b[0m\u001b[0;34m\u001b[0m\u001b[0m\n\u001b[0m\u001b[1;32m    452\u001b[0m         \u001b[0;32mexcept\u001b[0m \u001b[0mKeyError\u001b[0m\u001b[0;34m:\u001b[0m\u001b[0;34m\u001b[0m\u001b[0;34m\u001b[0m\u001b[0m\n",
      "\u001b[0;32m~/anaconda3/envs/GEM_py36/lib/python3.6/site-packages/cobra/core/dictlist.py\u001b[0m in \u001b[0;36mget_by_id\u001b[0;34m(self, id)\u001b[0m\n\u001b[1;32m     57\u001b[0m         \u001b[0;34m\"\"\"return the element with a matching id\"\"\"\u001b[0m\u001b[0;34m\u001b[0m\u001b[0;34m\u001b[0m\u001b[0m\n\u001b[0;32m---> 58\u001b[0;31m         \u001b[0;32mreturn\u001b[0m \u001b[0mlist\u001b[0m\u001b[0;34m.\u001b[0m\u001b[0m__getitem__\u001b[0m\u001b[0;34m(\u001b[0m\u001b[0mself\u001b[0m\u001b[0;34m,\u001b[0m \u001b[0mself\u001b[0m\u001b[0;34m.\u001b[0m\u001b[0m_dict\u001b[0m\u001b[0;34m[\u001b[0m\u001b[0mid\u001b[0m\u001b[0;34m]\u001b[0m\u001b[0;34m)\u001b[0m\u001b[0;34m\u001b[0m\u001b[0;34m\u001b[0m\u001b[0m\n\u001b[0m\u001b[1;32m     59\u001b[0m \u001b[0;34m\u001b[0m\u001b[0m\n",
      "\u001b[0;31mKeyError\u001b[0m: 'indpyr_c'",
      "\nDuring handling of the above exception, another exception occurred:\n",
      "\u001b[0;31mAttributeError\u001b[0m                            Traceback (most recent call last)",
      "\u001b[0;32m<ipython-input-165-b50cf9b824a9>\u001b[0m in \u001b[0;36m<module>\u001b[0;34m\u001b[0m\n\u001b[0;32m----> 1\u001b[0;31m \u001b[0miMsOB3b\u001b[0m\u001b[0;34m.\u001b[0m\u001b[0mmetabolites\u001b[0m\u001b[0;34m.\u001b[0m\u001b[0mindpyr_c\u001b[0m\u001b[0;34m\u001b[0m\u001b[0;34m\u001b[0m\u001b[0m\n\u001b[0m",
      "\u001b[0;32m~/anaconda3/envs/GEM_py36/lib/python3.6/site-packages/cobra/core/dictlist.py\u001b[0m in \u001b[0;36m__getattr__\u001b[0;34m(self, attr)\u001b[0m\n\u001b[1;32m    452\u001b[0m         \u001b[0;32mexcept\u001b[0m \u001b[0mKeyError\u001b[0m\u001b[0;34m:\u001b[0m\u001b[0;34m\u001b[0m\u001b[0;34m\u001b[0m\u001b[0m\n\u001b[1;32m    453\u001b[0m             raise AttributeError(\"DictList has no attribute or entry %s\" %\n\u001b[0;32m--> 454\u001b[0;31m                                  attr)\n\u001b[0m\u001b[1;32m    455\u001b[0m \u001b[0;34m\u001b[0m\u001b[0m\n\u001b[1;32m    456\u001b[0m     \u001b[0;32mdef\u001b[0m \u001b[0m__dir__\u001b[0m\u001b[0;34m(\u001b[0m\u001b[0mself\u001b[0m\u001b[0;34m)\u001b[0m\u001b[0;34m:\u001b[0m\u001b[0;34m\u001b[0m\u001b[0;34m\u001b[0m\u001b[0m\n",
      "\u001b[0;31mAttributeError\u001b[0m: DictList has no attribute or entry indpyr_c"
     ]
    }
   ],
   "source": [
    "iMsOB3b.metabolites.indpyr_c"
   ]
  },
  {
   "cell_type": "code",
   "execution_count": 166,
   "metadata": {
    "ExecuteTime": {
     "end_time": "2020-01-18T05:19:28.062239Z",
     "start_time": "2020-01-18T05:19:28.041485Z"
    }
   },
   "outputs": [
    {
     "name": "stdout",
     "output_type": "stream",
     "text": [
      "ind3ac_c indole_3_acetate\n",
      "ind3acnl_c indole_3_acetonitrile\n",
      "indole_c indole\n",
      "3ig3p_c indole_3_glycerol_phosphate\n"
     ]
    }
   ],
   "source": [
    "import re\n",
    "for metabolite in iMsOB3b.metabolites:\n",
    "    if re.search(\"indol\", metabolite.name, re.IGNORECASE):\n",
    "        print(metabolite.id, metabolite.name)"
   ]
  },
  {
   "cell_type": "markdown",
   "metadata": {},
   "source": [
    "PPAppt"
   ]
  },
  {
   "cell_type": "code",
   "execution_count": 170,
   "metadata": {
    "ExecuteTime": {
     "end_time": "2020-01-18T05:24:00.594358Z",
     "start_time": "2020-01-18T05:24:00.588895Z"
    }
   },
   "outputs": [
    {
     "data": {
      "text/html": [
       "\n",
       "        <table>\n",
       "            <tr>\n",
       "                <td><strong>Reaction identifier</strong></td><td>PPAppt</td>\n",
       "            </tr><tr>\n",
       "                <td><strong>Name</strong></td><td>H    translocating pyrophosphatases</td>\n",
       "            </tr><tr>\n",
       "                <td><strong>Memory address</strong></td>\n",
       "                <td>0x07fab24878cc0</td>\n",
       "            </tr><tr>\n",
       "                <td><strong>Stoichiometry</strong></td>\n",
       "                <td>\n",
       "                    <p style='text-align:right'>h2o_c + ppi_c --> h_p + 2.0 pi_c</p>\n",
       "                    <p style='text-align:right'>H2O + diphosphate --> H_ + 2.0 phosphate</p>\n",
       "                </td>\n",
       "            </tr><tr>\n",
       "                <td><strong>GPR</strong></td><td>CQW49_19495</td>\n",
       "            </tr><tr>\n",
       "                <td><strong>Lower bound</strong></td><td>0.0</td>\n",
       "            </tr><tr>\n",
       "                <td><strong>Upper bound</strong></td><td>1000.0</td>\n",
       "            </tr>\n",
       "        </table>\n",
       "        "
      ],
      "text/plain": [
       "<Reaction PPAppt at 0x7fab24878cc0>"
      ]
     },
     "execution_count": 170,
     "metadata": {},
     "output_type": "execute_result"
    }
   ],
   "source": [
    "iMsOB3b.reactions.PPAppt"
   ]
  },
  {
   "cell_type": "code",
   "execution_count": 171,
   "metadata": {
    "ExecuteTime": {
     "end_time": "2020-01-18T05:24:26.193847Z",
     "start_time": "2020-01-18T05:24:25.359881Z"
    }
   },
   "outputs": [
    {
     "name": "stdout",
     "output_type": "stream",
     "text": [
      "CQW49_19495 K15987  K(+)-stimulated pyrophosphate-energized sodium pump\n"
     ]
    }
   ],
   "source": [
    "for gene in iMsOB3b.reactions.PPAppt.genes:\n",
    "    gene_entry = genes[\"mtw:\"+gene.id]\n",
    "    print(gene, gene_entry.orthology) "
   ]
  },
  {
   "cell_type": "code",
   "execution_count": 172,
   "metadata": {
    "ExecuteTime": {
     "end_time": "2020-01-18T05:26:37.377420Z",
     "start_time": "2020-01-18T05:26:37.336009Z"
    }
   },
   "outputs": [
    {
     "name": "stdout",
     "output_type": "stream",
     "text": [
      "0.04457428169253467\n"
     ]
    }
   ],
   "source": [
    "with iMsOB3b:\n",
    "    iMsOB3b.reactions.PPAppt.knock_out()\n",
    "    iMsOB3b.optimize()\n",
    "    print(iMsOB3b.reactions.Biomass_Mextorquens_AM1_core.flux)"
   ]
  },
  {
   "cell_type": "code",
   "execution_count": 175,
   "metadata": {
    "ExecuteTime": {
     "end_time": "2020-01-18T05:28:10.375216Z",
     "start_time": "2020-01-18T05:28:10.368838Z"
    }
   },
   "outputs": [],
   "source": [
    "iMsOB3b.reactions.PPAppt.remove_from_model()"
   ]
  },
  {
   "cell_type": "markdown",
   "metadata": {
    "ExecuteTime": {
     "end_time": "2020-01-18T05:28:14.654963Z",
     "start_time": "2020-01-18T05:28:14.626780Z"
    }
   },
   "source": [
    "NO3Ras and NO3Rpp and NO3R1"
   ]
  },
  {
   "cell_type": "code",
   "execution_count": 181,
   "metadata": {
    "ExecuteTime": {
     "end_time": "2020-01-18T05:35:17.554481Z",
     "start_time": "2020-01-18T05:35:17.550942Z"
    }
   },
   "outputs": [],
   "source": [
    "iMsOB3b.reactions.NO3Ras.gene_reaction_rule = 'CQW49_19300 or CQW49_17890'"
   ]
  },
  {
   "cell_type": "code",
   "execution_count": 182,
   "metadata": {
    "ExecuteTime": {
     "end_time": "2020-01-18T05:35:19.012779Z",
     "start_time": "2020-01-18T05:35:19.009389Z"
    }
   },
   "outputs": [],
   "source": [
    "iMsOB3b.reactions.NO3R1.gene_reaction_rule = 'CQW49_19300 or CQW49_17890'"
   ]
  },
  {
   "cell_type": "code",
   "execution_count": 178,
   "metadata": {
    "ExecuteTime": {
     "end_time": "2020-01-18T05:29:52.909213Z",
     "start_time": "2020-01-18T05:29:52.904236Z"
    }
   },
   "outputs": [
    {
     "data": {
      "text/html": [
       "\n",
       "        <table>\n",
       "            <tr>\n",
       "                <td><strong>Reaction identifier</strong></td><td>NO3Rpp</td>\n",
       "            </tr><tr>\n",
       "                <td><strong>Name</strong></td><td>nitrate reductase  periplasmic </td>\n",
       "            </tr><tr>\n",
       "                <td><strong>Memory address</strong></td>\n",
       "                <td>0x07fab24ecd048</td>\n",
       "            </tr><tr>\n",
       "                <td><strong>Stoichiometry</strong></td>\n",
       "                <td>\n",
       "                    <p style='text-align:right'>no3_p + qh2_c --> h2o_p + no2_p + q_c</p>\n",
       "                    <p style='text-align:right'>NO3_ + UQH2 --> H2O + NO2_ + UQ</p>\n",
       "                </td>\n",
       "            </tr><tr>\n",
       "                <td><strong>GPR</strong></td><td>CQW49_19300</td>\n",
       "            </tr><tr>\n",
       "                <td><strong>Lower bound</strong></td><td>0</td>\n",
       "            </tr><tr>\n",
       "                <td><strong>Upper bound</strong></td><td>0</td>\n",
       "            </tr>\n",
       "        </table>\n",
       "        "
      ],
      "text/plain": [
       "<Reaction NO3Rpp at 0x7fab24ecd048>"
      ]
     },
     "execution_count": 178,
     "metadata": {},
     "output_type": "execute_result"
    }
   ],
   "source": [
    "iMsOB3b.reactions.NO3Rpp"
   ]
  },
  {
   "cell_type": "code",
   "execution_count": 180,
   "metadata": {
    "ExecuteTime": {
     "end_time": "2020-01-18T05:30:33.388613Z",
     "start_time": "2020-01-18T05:30:33.023984Z"
    }
   },
   "outputs": [
    {
     "name": "stdout",
     "output_type": "stream",
     "text": [
      "CQW49_19300 K00372  assimilatory nitrate reductase catalytic subunit [EC:1.7.99.-]\n"
     ]
    }
   ],
   "source": [
    "for gene in iMsOB3b.reactions.NO3R1.genes:\n",
    "    gene_entry = genes[\"mtw:\"+gene.id]\n",
    "    print(gene, gene_entry.orthology) "
   ]
  },
  {
   "cell_type": "code",
   "execution_count": 183,
   "metadata": {
    "ExecuteTime": {
     "end_time": "2020-01-18T05:35:35.769992Z",
     "start_time": "2020-01-18T05:35:35.765324Z"
    }
   },
   "outputs": [],
   "source": [
    "iMsOB3b.reactions.NO3Rpp.remove_from_model()"
   ]
  },
  {
   "cell_type": "markdown",
   "metadata": {
    "ExecuteTime": {
     "end_time": "2020-01-18T05:35:39.552598Z",
     "start_time": "2020-01-18T05:35:39.524052Z"
    }
   },
   "source": [
    "EAOXRED\n",
    "<br> Included based on KEGG information --> https://www.genome.jp/dbget-bin/www_bget?mtw:CQW49_14855"
   ]
  },
  {
   "cell_type": "code",
   "execution_count": 186,
   "metadata": {
    "ExecuteTime": {
     "end_time": "2020-01-18T05:38:15.370856Z",
     "start_time": "2020-01-18T05:38:15.367591Z"
    }
   },
   "outputs": [],
   "source": [
    "iMsOB3b.reactions.EAOXRED.gene_reaction_rule = 'CQW49_14855'"
   ]
  },
  {
   "cell_type": "code",
   "execution_count": 187,
   "metadata": {
    "ExecuteTime": {
     "end_time": "2020-01-18T05:40:21.471683Z",
     "start_time": "2020-01-18T05:40:21.459737Z"
    }
   },
   "outputs": [
    {
     "name": "stdout",
     "output_type": "stream",
     "text": [
      "polypi_c polyphosphate\n"
     ]
    }
   ],
   "source": [
    "import re\n",
    "for metabolite in iMsOB3b.metabolites:\n",
    "    if re.search(\"polyp\", metabolite.name, re.IGNORECASE):\n",
    "        print(metabolite.id, metabolite.name)"
   ]
  },
  {
   "cell_type": "code",
   "execution_count": 190,
   "metadata": {
    "ExecuteTime": {
     "end_time": "2020-01-18T05:40:41.121654Z",
     "start_time": "2020-01-18T05:40:41.116715Z"
    }
   },
   "outputs": [
    {
     "data": {
      "text/html": [
       "\n",
       "        <table>\n",
       "            <tr>\n",
       "                <td><strong>Metabolite identifier</strong></td><td>polypi_c</td>\n",
       "            </tr><tr>\n",
       "                <td><strong>Name</strong></td><td>polyphosphate</td>\n",
       "            </tr><tr>\n",
       "                <td><strong>Memory address</strong></td>\n",
       "                <td>0x07fab250b8ba8</td>\n",
       "            </tr><tr>\n",
       "                <td><strong>Formula</strong></td><td>None</td>\n",
       "            </tr><tr>\n",
       "                <td><strong>Compartment</strong></td><td>c</td>\n",
       "            </tr><tr>\n",
       "                <td><strong>In 1 reaction(s)</strong></td><td>\n",
       "                    POLYPIP</td>\n",
       "            </tr>\n",
       "        </table>"
      ],
      "text/plain": [
       "<Metabolite polypi_c at 0x7fab250b8ba8>"
      ]
     },
     "execution_count": 190,
     "metadata": {},
     "output_type": "execute_result"
    }
   ],
   "source": [
    "iMsOB3b.metabolites.polypi_c"
   ]
  },
  {
   "cell_type": "code",
   "execution_count": 191,
   "metadata": {
    "ExecuteTime": {
     "end_time": "2020-01-18T05:40:54.775782Z",
     "start_time": "2020-01-18T05:40:54.771672Z"
    }
   },
   "outputs": [
    {
     "data": {
      "text/html": [
       "\n",
       "        <table>\n",
       "            <tr>\n",
       "                <td><strong>Reaction identifier</strong></td><td>POLYPIP</td>\n",
       "            </tr><tr>\n",
       "                <td><strong>Name</strong></td><td>exopolyphosphatase</td>\n",
       "            </tr><tr>\n",
       "                <td><strong>Memory address</strong></td>\n",
       "                <td>0x07fab229a57b8</td>\n",
       "            </tr><tr>\n",
       "                <td><strong>Stoichiometry</strong></td>\n",
       "                <td>\n",
       "                    <p style='text-align:right'>h2o_c + polypi_c --> h_c + pi_c</p>\n",
       "                    <p style='text-align:right'>H2O + polyphosphate --> H_ + phosphate</p>\n",
       "                </td>\n",
       "            </tr><tr>\n",
       "                <td><strong>GPR</strong></td><td>CQW49_09430</td>\n",
       "            </tr><tr>\n",
       "                <td><strong>Lower bound</strong></td><td>0.0</td>\n",
       "            </tr><tr>\n",
       "                <td><strong>Upper bound</strong></td><td>1000.0</td>\n",
       "            </tr>\n",
       "        </table>\n",
       "        "
      ],
      "text/plain": [
       "<Reaction POLYPIP at 0x7fab229a57b8>"
      ]
     },
     "execution_count": 191,
     "metadata": {},
     "output_type": "execute_result"
    }
   ],
   "source": [
    "iMsOB3b.reactions.POLYPIP"
   ]
  },
  {
   "cell_type": "code",
   "execution_count": 195,
   "metadata": {
    "ExecuteTime": {
     "end_time": "2020-01-18T05:46:09.485249Z",
     "start_time": "2020-01-18T05:46:09.473048Z"
    }
   },
   "outputs": [],
   "source": [
    "iMsOB3b.add_reaction(model_universal.reactions.PPK2)"
   ]
  },
  {
   "cell_type": "code",
   "execution_count": 197,
   "metadata": {
    "ExecuteTime": {
     "end_time": "2020-01-18T05:47:12.966726Z",
     "start_time": "2020-01-18T05:47:12.960153Z"
    }
   },
   "outputs": [],
   "source": [
    "iMsOB3b.reactions.PPK2.gene_reaction_rule = 'CQW49_02850'"
   ]
  },
  {
   "cell_type": "markdown",
   "metadata": {},
   "source": [
    "SUCCD1\n",
    "<br> gene reaction rule fixing"
   ]
  },
  {
   "cell_type": "code",
   "execution_count": 200,
   "metadata": {
    "ExecuteTime": {
     "end_time": "2020-01-18T06:06:24.631222Z",
     "start_time": "2020-01-18T06:06:24.604040Z"
    }
   },
   "outputs": [
    {
     "name": "stdout",
     "output_type": "stream",
     "text": [
      "CQW49_22885 K00242  succinate dehydrogenase / fumarate reductase, membrane anchor subunit\n",
      "CQW49_10810 K00239  succinate dehydrogenase / fumarate reductase, flavoprotein subunit [EC:1.3.5.1 1.3.5.4]\n",
      "CQW49_10825 K00240  succinate dehydrogenase / fumarate reductase, iron-sulfur subunit [EC:1.3.5.1 1.3.5.4]\n",
      "CQW49_22875 K00240  succinate dehydrogenase / fumarate reductase, iron-sulfur subunit [EC:1.3.5.1 1.3.5.4]\n",
      "CQW49_10800 K00241  succinate dehydrogenase / fumarate reductase, cytochrome b subunit\n"
     ]
    }
   ],
   "source": [
    "for gene in iMsOB3b.reactions.SUCCD1.genes:\n",
    "    gene_entry = genes[\"mtw:\"+gene.id]\n",
    "    print(gene, gene_entry.orthology) "
   ]
  },
  {
   "cell_type": "code",
   "execution_count": 201,
   "metadata": {
    "ExecuteTime": {
     "end_time": "2020-01-18T06:07:27.291937Z",
     "start_time": "2020-01-18T06:07:27.289043Z"
    }
   },
   "outputs": [],
   "source": [
    "iMsOB3b.reactions.SUCCD1.gene_reaction_rule = '(CQW49_10805 or CQW49_22885) and CQW49_10810 and (CQW49_10825 or CQW49_22875) and CQW49_10800'"
   ]
  },
  {
   "cell_type": "markdown",
   "metadata": {},
   "source": [
    "heme o synthase"
   ]
  },
  {
   "cell_type": "code",
   "execution_count": 203,
   "metadata": {
    "ExecuteTime": {
     "end_time": "2020-01-18T06:09:34.685069Z",
     "start_time": "2020-01-18T06:09:34.671482Z"
    }
   },
   "outputs": [
    {
     "name": "stdout",
     "output_type": "stream",
     "text": [
      "HEMEOS heme O synthase\n",
      "HEMEDS2 heme d synthase\n"
     ]
    }
   ],
   "source": [
    "import re\n",
    "for reaction in iMsOB3b.reactions:\n",
    "    if re.search(\"heme\", reaction.name, re.IGNORECASE):\n",
    "        print(reaction.id, reaction.name)"
   ]
  },
  {
   "cell_type": "code",
   "execution_count": 204,
   "metadata": {
    "ExecuteTime": {
     "end_time": "2020-01-18T06:09:47.339147Z",
     "start_time": "2020-01-18T06:09:47.330612Z"
    }
   },
   "outputs": [
    {
     "data": {
      "text/html": [
       "\n",
       "        <table>\n",
       "            <tr>\n",
       "                <td><strong>Reaction identifier</strong></td><td>HEMEOS</td>\n",
       "            </tr><tr>\n",
       "                <td><strong>Name</strong></td><td>heme O synthase</td>\n",
       "            </tr><tr>\n",
       "                <td><strong>Memory address</strong></td>\n",
       "                <td>0x07fab2472f908</td>\n",
       "            </tr><tr>\n",
       "                <td><strong>Stoichiometry</strong></td>\n",
       "                <td>\n",
       "                    <p style='text-align:right'>frdp_c + h2o_c + pheme_c <=> hemeO_c + ppi_c</p>\n",
       "                    <p style='text-align:right'>all_trans_farnesyl_diphosphate + H2O + protoheme_IX <=> heme_o + diphosphate</p>\n",
       "                </td>\n",
       "            </tr><tr>\n",
       "                <td><strong>GPR</strong></td><td>CQW49_10035</td>\n",
       "            </tr><tr>\n",
       "                <td><strong>Lower bound</strong></td><td>-1000.0</td>\n",
       "            </tr><tr>\n",
       "                <td><strong>Upper bound</strong></td><td>1000.0</td>\n",
       "            </tr>\n",
       "        </table>\n",
       "        "
      ],
      "text/plain": [
       "<Reaction HEMEOS at 0x7fab2472f908>"
      ]
     },
     "execution_count": 204,
     "metadata": {},
     "output_type": "execute_result"
    }
   ],
   "source": [
    "iMsOB3b.reactions.HEMEOS"
   ]
  },
  {
   "cell_type": "markdown",
   "metadata": {},
   "source": [
    "Save GEM for now:"
   ]
  },
  {
   "cell_type": "code",
   "execution_count": 206,
   "metadata": {
    "ExecuteTime": {
     "end_time": "2020-01-18T06:18:54.759927Z",
     "start_time": "2020-01-18T06:18:54.564974Z"
    }
   },
   "outputs": [],
   "source": [
    "cobra.io.save_json_model(iMsOB3b, memote_directory + draft_gems_dir_8 + \"bigg_OB3b_18_01_2020.json\")"
   ]
  },
  {
   "cell_type": "markdown",
   "metadata": {
    "ExecuteTime": {
     "end_time": "2020-01-18T06:12:12.170290Z",
     "start_time": "2020-01-18T06:12:12.165752Z"
    }
   },
   "source": [
    "### Nitrogen metabolism\n",
    "For nitrogen metabolism, please refer to Escher_map_17_01_2020_nitrogen_metabolism.json map\n",
    "<br> KEGG nitrogen metabolism pathway --> https://www.genome.jp/kegg-bin/show_pathway?mtw00910"
   ]
  },
  {
   "cell_type": "markdown",
   "metadata": {},
   "source": [
    "Molecular nitrogen"
   ]
  },
  {
   "cell_type": "code",
   "execution_count": 207,
   "metadata": {
    "ExecuteTime": {
     "end_time": "2020-01-18T06:20:25.316045Z",
     "start_time": "2020-01-18T06:20:25.311717Z"
    }
   },
   "outputs": [
    {
     "data": {
      "text/html": [
       "\n",
       "        <table>\n",
       "            <tr>\n",
       "                <td><strong>Reaction identifier</strong></td><td>EX_n2_e</td>\n",
       "            </tr><tr>\n",
       "                <td><strong>Name</strong></td><td>N2 exchange</td>\n",
       "            </tr><tr>\n",
       "                <td><strong>Memory address</strong></td>\n",
       "                <td>0x07fab24edabe0</td>\n",
       "            </tr><tr>\n",
       "                <td><strong>Stoichiometry</strong></td>\n",
       "                <td>\n",
       "                    <p style='text-align:right'>n2_e --> </p>\n",
       "                    <p style='text-align:right'>dinitrogen --> </p>\n",
       "                </td>\n",
       "            </tr><tr>\n",
       "                <td><strong>GPR</strong></td><td></td>\n",
       "            </tr><tr>\n",
       "                <td><strong>Lower bound</strong></td><td>0</td>\n",
       "            </tr><tr>\n",
       "                <td><strong>Upper bound</strong></td><td>0</td>\n",
       "            </tr>\n",
       "        </table>\n",
       "        "
      ],
      "text/plain": [
       "<Reaction EX_n2_e at 0x7fab24edabe0>"
      ]
     },
     "execution_count": 207,
     "metadata": {},
     "output_type": "execute_result"
    }
   ],
   "source": [
    "iMsOB3b.reactions.EX_n2_e"
   ]
  },
  {
   "cell_type": "code",
   "execution_count": 208,
   "metadata": {
    "ExecuteTime": {
     "end_time": "2020-01-18T06:20:39.938009Z",
     "start_time": "2020-01-18T06:20:39.933089Z"
    }
   },
   "outputs": [
    {
     "data": {
      "text/html": [
       "\n",
       "        <table>\n",
       "            <tr>\n",
       "                <td><strong>Reaction identifier</strong></td><td>N2tex</td>\n",
       "            </tr><tr>\n",
       "                <td><strong>Name</strong></td><td>Nitrogen exchange, diffusion (extra-organism to periplasm)</td>\n",
       "            </tr><tr>\n",
       "                <td><strong>Memory address</strong></td>\n",
       "                <td>0x07fab24edaa90</td>\n",
       "            </tr><tr>\n",
       "                <td><strong>Stoichiometry</strong></td>\n",
       "                <td>\n",
       "                    <p style='text-align:right'>n2_e <=> n2_p</p>\n",
       "                    <p style='text-align:right'>dinitrogen <=> dinitrogen</p>\n",
       "                </td>\n",
       "            </tr><tr>\n",
       "                <td><strong>GPR</strong></td><td></td>\n",
       "            </tr><tr>\n",
       "                <td><strong>Lower bound</strong></td><td>-1000.0</td>\n",
       "            </tr><tr>\n",
       "                <td><strong>Upper bound</strong></td><td>1000.0</td>\n",
       "            </tr>\n",
       "        </table>\n",
       "        "
      ],
      "text/plain": [
       "<Reaction N2tex at 0x7fab24edaa90>"
      ]
     },
     "execution_count": 208,
     "metadata": {},
     "output_type": "execute_result"
    }
   ],
   "source": [
    "iMsOB3b.reactions.N2tex"
   ]
  },
  {
   "cell_type": "code",
   "execution_count": 209,
   "metadata": {
    "ExecuteTime": {
     "end_time": "2020-01-18T06:20:57.608653Z",
     "start_time": "2020-01-18T06:20:57.604153Z"
    }
   },
   "outputs": [
    {
     "data": {
      "text/html": [
       "\n",
       "        <table>\n",
       "            <tr>\n",
       "                <td><strong>Reaction identifier</strong></td><td>N2trpp</td>\n",
       "            </tr><tr>\n",
       "                <td><strong>Name</strong></td><td>Nitrogen exchange, diffusion (periplasm)</td>\n",
       "            </tr><tr>\n",
       "                <td><strong>Memory address</strong></td>\n",
       "                <td>0x07fab24eda908</td>\n",
       "            </tr><tr>\n",
       "                <td><strong>Stoichiometry</strong></td>\n",
       "                <td>\n",
       "                    <p style='text-align:right'>n2_p <=> n2_c</p>\n",
       "                    <p style='text-align:right'>dinitrogen <=> dinitrogen</p>\n",
       "                </td>\n",
       "            </tr><tr>\n",
       "                <td><strong>GPR</strong></td><td></td>\n",
       "            </tr><tr>\n",
       "                <td><strong>Lower bound</strong></td><td>-1000.0</td>\n",
       "            </tr><tr>\n",
       "                <td><strong>Upper bound</strong></td><td>1000.0</td>\n",
       "            </tr>\n",
       "        </table>\n",
       "        "
      ],
      "text/plain": [
       "<Reaction N2trpp at 0x7fab24eda908>"
      ]
     },
     "execution_count": 209,
     "metadata": {},
     "output_type": "execute_result"
    }
   ],
   "source": [
    "iMsOB3b.reactions.N2trpp"
   ]
  },
  {
   "cell_type": "code",
   "execution_count": 212,
   "metadata": {
    "ExecuteTime": {
     "end_time": "2020-01-18T06:21:26.312560Z",
     "start_time": "2020-01-18T06:21:26.307533Z"
    }
   },
   "outputs": [
    {
     "data": {
      "text/html": [
       "\n",
       "        <table>\n",
       "            <tr>\n",
       "                <td><strong>Reaction identifier</strong></td><td>NIT_mc</td>\n",
       "            </tr><tr>\n",
       "                <td><strong>Name</strong></td><td>Nitrogenase</td>\n",
       "            </tr><tr>\n",
       "                <td><strong>Memory address</strong></td>\n",
       "                <td>0x07fab24eb1320</td>\n",
       "            </tr><tr>\n",
       "                <td><strong>Stoichiometry</strong></td>\n",
       "                <td>\n",
       "                    <p style='text-align:right'>16.0 atp_c + 4.0 fdxrd_c + 16.0 h2o_c + n2_c --> 16.0 adp_c + 4.0 fdxox_c + h2_c + 14.0 h_c + 2.0 nh4_c + 16.0 pi_c</p>\n",
       "                    <p style='text-align:right'>16.0 ATP + 4.0 reduced_ferredoxin + 16.0 H2O + dinitrogen --> 16.0 ADP + 4.0 oxidized_ferredoxin + H2 + 14.0 H_ + 2.0 NH3 + 16.0 phosphate</p>\n",
       "                </td>\n",
       "            </tr><tr>\n",
       "                <td><strong>GPR</strong></td><td>CQW49_08720 and CQW49_08725</td>\n",
       "            </tr><tr>\n",
       "                <td><strong>Lower bound</strong></td><td>0.0</td>\n",
       "            </tr><tr>\n",
       "                <td><strong>Upper bound</strong></td><td>1000.0</td>\n",
       "            </tr>\n",
       "        </table>\n",
       "        "
      ],
      "text/plain": [
       "<Reaction NIT_mc at 0x7fab24eb1320>"
      ]
     },
     "execution_count": 212,
     "metadata": {},
     "output_type": "execute_result"
    }
   ],
   "source": [
    "iMsOB3b.reactions.NIT_mc"
   ]
  },
  {
   "cell_type": "markdown",
   "metadata": {},
   "source": [
    "Nitrate"
   ]
  },
  {
   "cell_type": "code",
   "execution_count": 213,
   "metadata": {
    "ExecuteTime": {
     "end_time": "2020-01-18T06:25:29.429591Z",
     "start_time": "2020-01-18T06:25:29.425084Z"
    }
   },
   "outputs": [
    {
     "data": {
      "text/html": [
       "\n",
       "        <table>\n",
       "            <tr>\n",
       "                <td><strong>Reaction identifier</strong></td><td>EX_no3_e</td>\n",
       "            </tr><tr>\n",
       "                <td><strong>Name</strong></td><td>exchange flux   nitrate</td>\n",
       "            </tr><tr>\n",
       "                <td><strong>Memory address</strong></td>\n",
       "                <td>0x07fab24816518</td>\n",
       "            </tr><tr>\n",
       "                <td><strong>Stoichiometry</strong></td>\n",
       "                <td>\n",
       "                    <p style='text-align:right'>no3_e --> </p>\n",
       "                    <p style='text-align:right'>NO3_ --> </p>\n",
       "                </td>\n",
       "            </tr><tr>\n",
       "                <td><strong>GPR</strong></td><td></td>\n",
       "            </tr><tr>\n",
       "                <td><strong>Lower bound</strong></td><td>0.0</td>\n",
       "            </tr><tr>\n",
       "                <td><strong>Upper bound</strong></td><td>0.0</td>\n",
       "            </tr>\n",
       "        </table>\n",
       "        "
      ],
      "text/plain": [
       "<Reaction EX_no3_e at 0x7fab24816518>"
      ]
     },
     "execution_count": 213,
     "metadata": {},
     "output_type": "execute_result"
    }
   ],
   "source": [
    "iMsOB3b.reactions.EX_no3_e"
   ]
  },
  {
   "cell_type": "code",
   "execution_count": 215,
   "metadata": {
    "ExecuteTime": {
     "end_time": "2020-01-18T06:25:48.042764Z",
     "start_time": "2020-01-18T06:25:48.037685Z"
    }
   },
   "outputs": [
    {
     "data": {
      "text/html": [
       "\n",
       "        <table>\n",
       "            <tr>\n",
       "                <td><strong>Reaction identifier</strong></td><td>NO3tex</td>\n",
       "            </tr><tr>\n",
       "                <td><strong>Name</strong></td><td>nitrate transport via diffusion  extracellular to periplasm </td>\n",
       "            </tr><tr>\n",
       "                <td><strong>Memory address</strong></td>\n",
       "                <td>0x07fab229ccd30</td>\n",
       "            </tr><tr>\n",
       "                <td><strong>Stoichiometry</strong></td>\n",
       "                <td>\n",
       "                    <p style='text-align:right'>no3_e <=> no3_p</p>\n",
       "                    <p style='text-align:right'>NO3_ <=> NO3_</p>\n",
       "                </td>\n",
       "            </tr><tr>\n",
       "                <td><strong>GPR</strong></td><td></td>\n",
       "            </tr><tr>\n",
       "                <td><strong>Lower bound</strong></td><td>-1000.0</td>\n",
       "            </tr><tr>\n",
       "                <td><strong>Upper bound</strong></td><td>1000.0</td>\n",
       "            </tr>\n",
       "        </table>\n",
       "        "
      ],
      "text/plain": [
       "<Reaction NO3tex at 0x7fab229ccd30>"
      ]
     },
     "execution_count": 215,
     "metadata": {},
     "output_type": "execute_result"
    }
   ],
   "source": [
    "iMsOB3b.reactions.NO3tex"
   ]
  },
  {
   "cell_type": "markdown",
   "metadata": {},
   "source": [
    "Nitrite"
   ]
  },
  {
   "cell_type": "code",
   "execution_count": 216,
   "metadata": {
    "ExecuteTime": {
     "end_time": "2020-01-18T06:27:58.977588Z",
     "start_time": "2020-01-18T06:27:58.972787Z"
    }
   },
   "outputs": [
    {
     "data": {
      "text/html": [
       "\n",
       "        <table>\n",
       "            <tr>\n",
       "                <td><strong>Reaction identifier</strong></td><td>EX_no2_e</td>\n",
       "            </tr><tr>\n",
       "                <td><strong>Name</strong></td><td>nitrite exchange</td>\n",
       "            </tr><tr>\n",
       "                <td><strong>Memory address</strong></td>\n",
       "                <td>0x07fab24eda668</td>\n",
       "            </tr><tr>\n",
       "                <td><strong>Stoichiometry</strong></td>\n",
       "                <td>\n",
       "                    <p style='text-align:right'>no2_e --> </p>\n",
       "                    <p style='text-align:right'>nitrite --> </p>\n",
       "                </td>\n",
       "            </tr><tr>\n",
       "                <td><strong>GPR</strong></td><td></td>\n",
       "            </tr><tr>\n",
       "                <td><strong>Lower bound</strong></td><td>0.0</td>\n",
       "            </tr><tr>\n",
       "                <td><strong>Upper bound</strong></td><td>1000.0</td>\n",
       "            </tr>\n",
       "        </table>\n",
       "        "
      ],
      "text/plain": [
       "<Reaction EX_no2_e at 0x7fab24eda668>"
      ]
     },
     "execution_count": 216,
     "metadata": {},
     "output_type": "execute_result"
    }
   ],
   "source": [
    "iMsOB3b.reactions.EX_no2_e"
   ]
  },
  {
   "cell_type": "code",
   "execution_count": 217,
   "metadata": {
    "ExecuteTime": {
     "end_time": "2020-01-18T06:28:15.116398Z",
     "start_time": "2020-01-18T06:28:15.111135Z"
    }
   },
   "outputs": [
    {
     "data": {
      "text/html": [
       "\n",
       "        <table>\n",
       "            <tr>\n",
       "                <td><strong>Reaction identifier</strong></td><td>NO2tex</td>\n",
       "            </tr><tr>\n",
       "                <td><strong>Name</strong></td><td>nitrite transport via diffusion (extracellular to periplasm)</td>\n",
       "            </tr><tr>\n",
       "                <td><strong>Memory address</strong></td>\n",
       "                <td>0x07fab24edacc0</td>\n",
       "            </tr><tr>\n",
       "                <td><strong>Stoichiometry</strong></td>\n",
       "                <td>\n",
       "                    <p style='text-align:right'>no2_e <=> no2_p</p>\n",
       "                    <p style='text-align:right'>nitrite <=> NO2_</p>\n",
       "                </td>\n",
       "            </tr><tr>\n",
       "                <td><strong>GPR</strong></td><td></td>\n",
       "            </tr><tr>\n",
       "                <td><strong>Lower bound</strong></td><td>-1000.0</td>\n",
       "            </tr><tr>\n",
       "                <td><strong>Upper bound</strong></td><td>1000.0</td>\n",
       "            </tr>\n",
       "        </table>\n",
       "        "
      ],
      "text/plain": [
       "<Reaction NO2tex at 0x7fab24edacc0>"
      ]
     },
     "execution_count": 217,
     "metadata": {},
     "output_type": "execute_result"
    }
   ],
   "source": [
    "iMsOB3b.reactions.NO2tex"
   ]
  },
  {
   "cell_type": "markdown",
   "metadata": {},
   "source": [
    "2 nitropropane dioxygenase:\n",
    "<br>KEGG and Genbank does not comply with each other"
   ]
  },
  {
   "cell_type": "code",
   "execution_count": 220,
   "metadata": {
    "ExecuteTime": {
     "end_time": "2020-01-18T06:37:55.135395Z",
     "start_time": "2020-01-18T06:37:55.101865Z"
    },
    "collapsed": true
   },
   "outputs": [
    {
     "ename": "AttributeError",
     "evalue": "DictList has no attribute or entry NTPPD11",
     "output_type": "error",
     "traceback": [
      "\u001b[0;31m---------------------------------------------------------------------------\u001b[0m",
      "\u001b[0;31mKeyError\u001b[0m                                  Traceback (most recent call last)",
      "\u001b[0;32m~/anaconda3/envs/GEM_py36/lib/python3.6/site-packages/cobra/core/dictlist.py\u001b[0m in \u001b[0;36m__getattr__\u001b[0;34m(self, attr)\u001b[0m\n\u001b[1;32m    450\u001b[0m         \u001b[0;32mtry\u001b[0m\u001b[0;34m:\u001b[0m\u001b[0;34m\u001b[0m\u001b[0;34m\u001b[0m\u001b[0m\n\u001b[0;32m--> 451\u001b[0;31m             \u001b[0;32mreturn\u001b[0m \u001b[0mDictList\u001b[0m\u001b[0;34m.\u001b[0m\u001b[0mget_by_id\u001b[0m\u001b[0;34m(\u001b[0m\u001b[0mself\u001b[0m\u001b[0;34m,\u001b[0m \u001b[0mattr\u001b[0m\u001b[0;34m)\u001b[0m\u001b[0;34m\u001b[0m\u001b[0;34m\u001b[0m\u001b[0m\n\u001b[0m\u001b[1;32m    452\u001b[0m         \u001b[0;32mexcept\u001b[0m \u001b[0mKeyError\u001b[0m\u001b[0;34m:\u001b[0m\u001b[0;34m\u001b[0m\u001b[0;34m\u001b[0m\u001b[0m\n",
      "\u001b[0;32m~/anaconda3/envs/GEM_py36/lib/python3.6/site-packages/cobra/core/dictlist.py\u001b[0m in \u001b[0;36mget_by_id\u001b[0;34m(self, id)\u001b[0m\n\u001b[1;32m     57\u001b[0m         \u001b[0;34m\"\"\"return the element with a matching id\"\"\"\u001b[0m\u001b[0;34m\u001b[0m\u001b[0;34m\u001b[0m\u001b[0m\n\u001b[0;32m---> 58\u001b[0;31m         \u001b[0;32mreturn\u001b[0m \u001b[0mlist\u001b[0m\u001b[0;34m.\u001b[0m\u001b[0m__getitem__\u001b[0m\u001b[0;34m(\u001b[0m\u001b[0mself\u001b[0m\u001b[0;34m,\u001b[0m \u001b[0mself\u001b[0m\u001b[0;34m.\u001b[0m\u001b[0m_dict\u001b[0m\u001b[0;34m[\u001b[0m\u001b[0mid\u001b[0m\u001b[0;34m]\u001b[0m\u001b[0;34m)\u001b[0m\u001b[0;34m\u001b[0m\u001b[0;34m\u001b[0m\u001b[0m\n\u001b[0m\u001b[1;32m     59\u001b[0m \u001b[0;34m\u001b[0m\u001b[0m\n",
      "\u001b[0;31mKeyError\u001b[0m: 'NTPPD11'",
      "\nDuring handling of the above exception, another exception occurred:\n",
      "\u001b[0;31mAttributeError\u001b[0m                            Traceback (most recent call last)",
      "\u001b[0;32m<ipython-input-220-fc073692832e>\u001b[0m in \u001b[0;36m<module>\u001b[0;34m\u001b[0m\n\u001b[0;32m----> 1\u001b[0;31m \u001b[0miMsOB3b\u001b[0m\u001b[0;34m.\u001b[0m\u001b[0mreactions\u001b[0m\u001b[0;34m.\u001b[0m\u001b[0mNTPPD11\u001b[0m\u001b[0;34m.\u001b[0m\u001b[0mremove_from_model\u001b[0m\u001b[0;34m(\u001b[0m\u001b[0;34m)\u001b[0m\u001b[0;34m\u001b[0m\u001b[0;34m\u001b[0m\u001b[0m\n\u001b[0m",
      "\u001b[0;32m~/anaconda3/envs/GEM_py36/lib/python3.6/site-packages/cobra/core/dictlist.py\u001b[0m in \u001b[0;36m__getattr__\u001b[0;34m(self, attr)\u001b[0m\n\u001b[1;32m    452\u001b[0m         \u001b[0;32mexcept\u001b[0m \u001b[0mKeyError\u001b[0m\u001b[0;34m:\u001b[0m\u001b[0;34m\u001b[0m\u001b[0;34m\u001b[0m\u001b[0m\n\u001b[1;32m    453\u001b[0m             raise AttributeError(\"DictList has no attribute or entry %s\" %\n\u001b[0;32m--> 454\u001b[0;31m                                  attr)\n\u001b[0m\u001b[1;32m    455\u001b[0m \u001b[0;34m\u001b[0m\u001b[0m\n\u001b[1;32m    456\u001b[0m     \u001b[0;32mdef\u001b[0m \u001b[0m__dir__\u001b[0m\u001b[0;34m(\u001b[0m\u001b[0mself\u001b[0m\u001b[0;34m)\u001b[0m\u001b[0;34m:\u001b[0m\u001b[0;34m\u001b[0m\u001b[0;34m\u001b[0m\u001b[0m\n",
      "\u001b[0;31mAttributeError\u001b[0m: DictList has no attribute or entry NTPPD11"
     ]
    }
   ],
   "source": [
    "iMsOB3b.reactions.NTPPD11.remove_from_model()"
   ]
  },
  {
   "cell_type": "markdown",
   "metadata": {},
   "source": [
    "Ammonia"
   ]
  },
  {
   "cell_type": "code",
   "execution_count": 221,
   "metadata": {
    "ExecuteTime": {
     "end_time": "2020-01-18T06:38:23.349787Z",
     "start_time": "2020-01-18T06:38:23.344730Z"
    }
   },
   "outputs": [
    {
     "data": {
      "text/html": [
       "\n",
       "        <table>\n",
       "            <tr>\n",
       "                <td><strong>Reaction identifier</strong></td><td>EX_nh4_e</td>\n",
       "            </tr><tr>\n",
       "                <td><strong>Name</strong></td><td>exchange flux   nitrogen</td>\n",
       "            </tr><tr>\n",
       "                <td><strong>Memory address</strong></td>\n",
       "                <td>0x07fab22a80518</td>\n",
       "            </tr><tr>\n",
       "                <td><strong>Stoichiometry</strong></td>\n",
       "                <td>\n",
       "                    <p style='text-align:right'>nh4_e <=> </p>\n",
       "                    <p style='text-align:right'>NH3 <=> </p>\n",
       "                </td>\n",
       "            </tr><tr>\n",
       "                <td><strong>GPR</strong></td><td></td>\n",
       "            </tr><tr>\n",
       "                <td><strong>Lower bound</strong></td><td>-1000.0</td>\n",
       "            </tr><tr>\n",
       "                <td><strong>Upper bound</strong></td><td>1000.0</td>\n",
       "            </tr>\n",
       "        </table>\n",
       "        "
      ],
      "text/plain": [
       "<Reaction EX_nh4_e at 0x7fab22a80518>"
      ]
     },
     "execution_count": 221,
     "metadata": {},
     "output_type": "execute_result"
    }
   ],
   "source": [
    "iMsOB3b.reactions.EX_nh4_e"
   ]
  },
  {
   "cell_type": "code",
   "execution_count": 222,
   "metadata": {
    "ExecuteTime": {
     "end_time": "2020-01-18T06:38:32.415596Z",
     "start_time": "2020-01-18T06:38:32.410968Z"
    }
   },
   "outputs": [
    {
     "data": {
      "text/html": [
       "\n",
       "        <table>\n",
       "            <tr>\n",
       "                <td><strong>Reaction identifier</strong></td><td>NH4tex</td>\n",
       "            </tr><tr>\n",
       "                <td><strong>Name</strong></td><td>NH3 transport via diffusion  extracellular to periplasm </td>\n",
       "            </tr><tr>\n",
       "                <td><strong>Memory address</strong></td>\n",
       "                <td>0x07fab24e3c1d0</td>\n",
       "            </tr><tr>\n",
       "                <td><strong>Stoichiometry</strong></td>\n",
       "                <td>\n",
       "                    <p style='text-align:right'>nh4_e <=> nh4_p</p>\n",
       "                    <p style='text-align:right'>NH3 <=> NH3</p>\n",
       "                </td>\n",
       "            </tr><tr>\n",
       "                <td><strong>GPR</strong></td><td></td>\n",
       "            </tr><tr>\n",
       "                <td><strong>Lower bound</strong></td><td>-1000.0</td>\n",
       "            </tr><tr>\n",
       "                <td><strong>Upper bound</strong></td><td>1000.0</td>\n",
       "            </tr>\n",
       "        </table>\n",
       "        "
      ],
      "text/plain": [
       "<Reaction NH4tex at 0x7fab24e3c1d0>"
      ]
     },
     "execution_count": 222,
     "metadata": {},
     "output_type": "execute_result"
    }
   ],
   "source": [
    "iMsOB3b.reactions.NH4tex"
   ]
  },
  {
   "cell_type": "code",
   "execution_count": 223,
   "metadata": {
    "ExecuteTime": {
     "end_time": "2020-01-18T06:38:42.188491Z",
     "start_time": "2020-01-18T06:38:42.183088Z"
    }
   },
   "outputs": [
    {
     "data": {
      "text/html": [
       "\n",
       "        <table>\n",
       "            <tr>\n",
       "                <td><strong>Reaction identifier</strong></td><td>NH4tpp</td>\n",
       "            </tr><tr>\n",
       "                <td><strong>Name</strong></td><td>NH3 transport  periplasm to cytoplasm </td>\n",
       "            </tr><tr>\n",
       "                <td><strong>Memory address</strong></td>\n",
       "                <td>0x07fab2483c320</td>\n",
       "            </tr><tr>\n",
       "                <td><strong>Stoichiometry</strong></td>\n",
       "                <td>\n",
       "                    <p style='text-align:right'>h_p + nh4_p --> h_c + nh4_c</p>\n",
       "                    <p style='text-align:right'>H_ + NH3 --> H_ + NH3</p>\n",
       "                </td>\n",
       "            </tr><tr>\n",
       "                <td><strong>GPR</strong></td><td>CQW49_04880</td>\n",
       "            </tr><tr>\n",
       "                <td><strong>Lower bound</strong></td><td>0</td>\n",
       "            </tr><tr>\n",
       "                <td><strong>Upper bound</strong></td><td>1000</td>\n",
       "            </tr>\n",
       "        </table>\n",
       "        "
      ],
      "text/plain": [
       "<Reaction NH4tpp at 0x7fab2483c320>"
      ]
     },
     "execution_count": 223,
     "metadata": {},
     "output_type": "execute_result"
    }
   ],
   "source": [
    "iMsOB3b.reactions.NH4tpp"
   ]
  },
  {
   "cell_type": "code",
   "execution_count": 224,
   "metadata": {
    "ExecuteTime": {
     "end_time": "2020-01-18T06:39:17.561367Z",
     "start_time": "2020-01-18T06:39:17.556218Z"
    }
   },
   "outputs": [
    {
     "data": {
      "text/html": [
       "\n",
       "        <table>\n",
       "            <tr>\n",
       "                <td><strong>Reaction identifier</strong></td><td>PAMMOipp</td>\n",
       "            </tr><tr>\n",
       "                <td><strong>Name</strong></td><td>particulate ammonia monooxygenase</td>\n",
       "            </tr><tr>\n",
       "                <td><strong>Memory address</strong></td>\n",
       "                <td>0x07fab24ebf9e8</td>\n",
       "            </tr><tr>\n",
       "                <td><strong>Stoichiometry</strong></td>\n",
       "                <td>\n",
       "                    <p style='text-align:right'>nh4_p + o2_p + qh2_c --> h2o_p + h_p + ham_p + q_c</p>\n",
       "                    <p style='text-align:right'>NH3 + O2 + UQH2 --> H2O + H_ + hydroxylamine + UQ</p>\n",
       "                </td>\n",
       "            </tr><tr>\n",
       "                <td><strong>GPR</strong></td><td>CQW49_14985</td>\n",
       "            </tr><tr>\n",
       "                <td><strong>Lower bound</strong></td><td>0</td>\n",
       "            </tr><tr>\n",
       "                <td><strong>Upper bound</strong></td><td>1000</td>\n",
       "            </tr>\n",
       "        </table>\n",
       "        "
      ],
      "text/plain": [
       "<Reaction PAMMOipp at 0x7fab24ebf9e8>"
      ]
     },
     "execution_count": 224,
     "metadata": {},
     "output_type": "execute_result"
    }
   ],
   "source": [
    "iMsOB3b.reactions.PAMMOipp"
   ]
  },
  {
   "cell_type": "code",
   "execution_count": 226,
   "metadata": {
    "ExecuteTime": {
     "end_time": "2020-01-18T06:41:03.716316Z",
     "start_time": "2020-01-18T06:41:03.708813Z"
    }
   },
   "outputs": [],
   "source": [
    "iMsOB3b.reactions.SAMMOi.gene_reaction_rule = 'CQW49_14985'"
   ]
  },
  {
   "cell_type": "code",
   "execution_count": 229,
   "metadata": {
    "ExecuteTime": {
     "end_time": "2020-01-18T06:46:51.422998Z",
     "start_time": "2020-01-18T06:46:51.416266Z"
    }
   },
   "outputs": [],
   "source": [
    "iMsOB3b.reactions.CYP460ipp.remove_from_model()"
   ]
  },
  {
   "cell_type": "code",
   "execution_count": 231,
   "metadata": {
    "ExecuteTime": {
     "end_time": "2020-01-18T06:46:57.688848Z",
     "start_time": "2020-01-18T06:46:57.684620Z"
    }
   },
   "outputs": [],
   "source": [
    "iMsOB3b.reactions.HAORipp.remove_from_model()"
   ]
  },
  {
   "cell_type": "code",
   "execution_count": 232,
   "metadata": {
    "ExecuteTime": {
     "end_time": "2020-01-18T06:51:26.715271Z",
     "start_time": "2020-01-18T06:51:26.710562Z"
    }
   },
   "outputs": [
    {
     "data": {
      "text/html": [
       "\n",
       "        <table>\n",
       "            <tr>\n",
       "                <td><strong>Reaction identifier</strong></td><td>NO2tpp</td>\n",
       "            </tr><tr>\n",
       "                <td><strong>Name</strong></td><td>Diffusion Hydroxylamine between Periplasm and Cytosol</td>\n",
       "            </tr><tr>\n",
       "                <td><strong>Memory address</strong></td>\n",
       "                <td>0x07fab24eb1358</td>\n",
       "            </tr><tr>\n",
       "                <td><strong>Stoichiometry</strong></td>\n",
       "                <td>\n",
       "                    <p style='text-align:right'>no2_p <=> no2_c</p>\n",
       "                    <p style='text-align:right'>NO2_ <=> NO2_</p>\n",
       "                </td>\n",
       "            </tr><tr>\n",
       "                <td><strong>GPR</strong></td><td></td>\n",
       "            </tr><tr>\n",
       "                <td><strong>Lower bound</strong></td><td>-1000.0</td>\n",
       "            </tr><tr>\n",
       "                <td><strong>Upper bound</strong></td><td>1000.0</td>\n",
       "            </tr>\n",
       "        </table>\n",
       "        "
      ],
      "text/plain": [
       "<Reaction NO2tpp at 0x7fab24eb1358>"
      ]
     },
     "execution_count": 232,
     "metadata": {},
     "output_type": "execute_result"
    }
   ],
   "source": [
    "iMsOB3b.reactions.NO2tpp"
   ]
  },
  {
   "cell_type": "code",
   "execution_count": 234,
   "metadata": {
    "ExecuteTime": {
     "end_time": "2020-01-18T06:53:13.020566Z",
     "start_time": "2020-01-18T06:53:13.016813Z"
    }
   },
   "outputs": [],
   "source": [
    "iMsOB3b.reactions.NO3t7pp.gene_reaction_rule = 'CQW49_19295'"
   ]
  },
  {
   "cell_type": "code",
   "execution_count": 238,
   "metadata": {
    "ExecuteTime": {
     "end_time": "2020-01-18T06:57:43.472874Z",
     "start_time": "2020-01-18T06:57:43.468758Z"
    }
   },
   "outputs": [],
   "source": [
    "iMsOB3b.reactions.NITR_AMpp.remove_from_model()"
   ]
  },
  {
   "cell_type": "code",
   "execution_count": 237,
   "metadata": {
    "ExecuteTime": {
     "end_time": "2020-01-18T06:57:01.475618Z",
     "start_time": "2020-01-18T06:57:01.468692Z"
    }
   },
   "outputs": [],
   "source": [
    "iMsOB3b.reactions.NTRIR2x.gene_reaction_rule = 'CQW49_19305 or CQW49_19310'"
   ]
  },
  {
   "cell_type": "code",
   "execution_count": 244,
   "metadata": {
    "ExecuteTime": {
     "end_time": "2020-01-18T07:01:45.788245Z",
     "start_time": "2020-01-18T07:01:45.784790Z"
    }
   },
   "outputs": [],
   "source": [
    "iMsOB3b.reactions.NTRIR4.remove_from_model()"
   ]
  },
  {
   "cell_type": "code",
   "execution_count": 241,
   "metadata": {
    "ExecuteTime": {
     "end_time": "2020-01-18T07:00:43.903461Z",
     "start_time": "2020-01-18T07:00:43.873246Z"
    }
   },
   "outputs": [
    {
     "name": "stdout",
     "output_type": "stream",
     "text": [
      "SULR sulfite reductase  NADPH \n",
      "SULFOX2 sulfite oxidase\n"
     ]
    }
   ],
   "source": [
    "import re\n",
    "for reaction in iMsOB3b.reactions:\n",
    "    if re.search(\"sulfite\", reaction.name, re.IGNORECASE):\n",
    "        print(reaction.id, reaction.name)"
   ]
  },
  {
   "cell_type": "code",
   "execution_count": 243,
   "metadata": {
    "ExecuteTime": {
     "end_time": "2020-01-18T07:01:38.372435Z",
     "start_time": "2020-01-18T07:01:38.365700Z"
    }
   },
   "outputs": [],
   "source": [
    "iMsOB3b.reactions.SULR.gene_reaction_rule = 'CQW49_00335'"
   ]
  },
  {
   "cell_type": "code",
   "execution_count": 247,
   "metadata": {
    "ExecuteTime": {
     "end_time": "2020-01-18T07:09:41.166046Z",
     "start_time": "2020-01-18T07:09:41.159028Z"
    }
   },
   "outputs": [],
   "source": [
    "iMsOB3b.reactions.NODOy.remove_from_model()"
   ]
  },
  {
   "cell_type": "code",
   "execution_count": 250,
   "metadata": {
    "ExecuteTime": {
     "end_time": "2020-01-18T07:11:00.011174Z",
     "start_time": "2020-01-18T07:11:00.002606Z"
    }
   },
   "outputs": [],
   "source": [
    "iMsOB3b.reactions.NTRIR2y.remove_from_model()"
   ]
  },
  {
   "cell_type": "code",
   "execution_count": 252,
   "metadata": {
    "ExecuteTime": {
     "end_time": "2020-01-18T07:12:10.351700Z",
     "start_time": "2020-01-18T07:12:10.347727Z"
    }
   },
   "outputs": [],
   "source": [
    "iMsOB3b.reactions.NITR_NOpp.remove_from_model()"
   ]
  },
  {
   "cell_type": "code",
   "execution_count": 253,
   "metadata": {
    "ExecuteTime": {
     "end_time": "2020-01-18T07:15:26.388865Z",
     "start_time": "2020-01-18T07:15:26.383095Z"
    }
   },
   "outputs": [
    {
     "data": {
      "text/html": [
       "\n",
       "        <table>\n",
       "            <tr>\n",
       "                <td><strong>Reaction identifier</strong></td><td>NORZ2pp</td>\n",
       "            </tr><tr>\n",
       "                <td><strong>Name</strong></td><td>Nitric oxide reductase (cytochrome c)</td>\n",
       "            </tr><tr>\n",
       "                <td><strong>Memory address</strong></td>\n",
       "                <td>0x07fab24eb1390</td>\n",
       "            </tr><tr>\n",
       "                <td><strong>Stoichiometry</strong></td>\n",
       "                <td>\n",
       "                    <p style='text-align:right'>2.0 focytc_c + 2.0 h_p + 2.0 no_p --> 2.0 ficytc_c + h2o_p + n2o_p</p>\n",
       "                    <p style='text-align:right'>2.0 reduced_cytochrome_c + 2.0 H_ + 2.0 nitric oxide --> 2.0 oxidized_cytochrome_c + H2O + dinitrogen oxide</p>\n",
       "                </td>\n",
       "            </tr><tr>\n",
       "                <td><strong>GPR</strong></td><td>CQW49_22935</td>\n",
       "            </tr><tr>\n",
       "                <td><strong>Lower bound</strong></td><td>0</td>\n",
       "            </tr><tr>\n",
       "                <td><strong>Upper bound</strong></td><td>1000</td>\n",
       "            </tr>\n",
       "        </table>\n",
       "        "
      ],
      "text/plain": [
       "<Reaction NORZ2pp at 0x7fab24eb1390>"
      ]
     },
     "execution_count": 253,
     "metadata": {},
     "output_type": "execute_result"
    }
   ],
   "source": [
    "iMsOB3b.reactions.NORZ2pp"
   ]
  },
  {
   "cell_type": "markdown",
   "metadata": {},
   "source": [
    "Check ammonia assimilation:"
   ]
  },
  {
   "cell_type": "code",
   "execution_count": 262,
   "metadata": {
    "ExecuteTime": {
     "end_time": "2020-01-18T07:35:10.104403Z",
     "start_time": "2020-01-18T07:35:10.099292Z"
    }
   },
   "outputs": [
    {
     "data": {
      "text/html": [
       "\n",
       "        <table>\n",
       "            <tr>\n",
       "                <td><strong>Reaction identifier</strong></td><td>GLNS</td>\n",
       "            </tr><tr>\n",
       "                <td><strong>Name</strong></td><td>glutamine synthetase</td>\n",
       "            </tr><tr>\n",
       "                <td><strong>Memory address</strong></td>\n",
       "                <td>0x07fab22aa0d68</td>\n",
       "            </tr><tr>\n",
       "                <td><strong>Stoichiometry</strong></td>\n",
       "                <td>\n",
       "                    <p style='text-align:right'>atp_c + glu_L_c + nh4_c --> adp_c + gln_L_c + h_c + pi_c</p>\n",
       "                    <p style='text-align:right'>ATP + L_glutamate + NH3 --> ADP + L_glutamine + H_ + phosphate</p>\n",
       "                </td>\n",
       "            </tr><tr>\n",
       "                <td><strong>GPR</strong></td><td>CQW49_20675 or CQW49_20665</td>\n",
       "            </tr><tr>\n",
       "                <td><strong>Lower bound</strong></td><td>0.0</td>\n",
       "            </tr><tr>\n",
       "                <td><strong>Upper bound</strong></td><td>1000.0</td>\n",
       "            </tr>\n",
       "        </table>\n",
       "        "
      ],
      "text/plain": [
       "<Reaction GLNS at 0x7fab22aa0d68>"
      ]
     },
     "execution_count": 262,
     "metadata": {},
     "output_type": "execute_result"
    }
   ],
   "source": [
    "iMsOB3b.reactions.GLNS"
   ]
  },
  {
   "cell_type": "code",
   "execution_count": 263,
   "metadata": {
    "ExecuteTime": {
     "end_time": "2020-01-18T07:36:39.433830Z",
     "start_time": "2020-01-18T07:36:39.429328Z"
    }
   },
   "outputs": [
    {
     "data": {
      "text/html": [
       "\n",
       "        <table>\n",
       "            <tr>\n",
       "                <td><strong>Reaction identifier</strong></td><td>GLUSy</td>\n",
       "            </tr><tr>\n",
       "                <td><strong>Name</strong></td><td>glutamate synthase 2</td>\n",
       "            </tr><tr>\n",
       "                <td><strong>Memory address</strong></td>\n",
       "                <td>0x07fab248f5198</td>\n",
       "            </tr><tr>\n",
       "                <td><strong>Stoichiometry</strong></td>\n",
       "                <td>\n",
       "                    <p style='text-align:right'>akg_c + gln_L_c + h_c + nadph_c --> 2.0 glu_L_c + nadp_c</p>\n",
       "                    <p style='text-align:right'>2_oxoglutarate + L_glutamine + H_ + NADPH --> 2.0 L_glutamate + NADP_</p>\n",
       "                </td>\n",
       "            </tr><tr>\n",
       "                <td><strong>GPR</strong></td><td>CQW49_02655 and CQW49_02775</td>\n",
       "            </tr><tr>\n",
       "                <td><strong>Lower bound</strong></td><td>0.0</td>\n",
       "            </tr><tr>\n",
       "                <td><strong>Upper bound</strong></td><td>1000.0</td>\n",
       "            </tr>\n",
       "        </table>\n",
       "        "
      ],
      "text/plain": [
       "<Reaction GLUSy at 0x7fab248f5198>"
      ]
     },
     "execution_count": 263,
     "metadata": {},
     "output_type": "execute_result"
    }
   ],
   "source": [
    "iMsOB3b.reactions.GLUSy"
   ]
  },
  {
   "cell_type": "markdown",
   "metadata": {},
   "source": [
    "Remove GLUD from GEM based on KEGG annotations:\n",
    "<br> https://www.genome.jp/dbget-bin/www_bget?mtw:CQW49_02775"
   ]
  },
  {
   "cell_type": "code",
   "execution_count": 266,
   "metadata": {
    "ExecuteTime": {
     "end_time": "2020-01-18T07:40:55.295187Z",
     "start_time": "2020-01-18T07:40:55.291411Z"
    }
   },
   "outputs": [],
   "source": [
    "iMsOB3b.reactions.GLUD.remove_from_model()"
   ]
  },
  {
   "cell_type": "code",
   "execution_count": 269,
   "metadata": {
    "ExecuteTime": {
     "end_time": "2020-01-18T07:43:33.573065Z",
     "start_time": "2020-01-18T07:43:33.568360Z"
    }
   },
   "outputs": [
    {
     "data": {
      "text/html": [
       "\n",
       "        <table>\n",
       "            <tr>\n",
       "                <td><strong>Reaction identifier</strong></td><td>GLUDxi</td>\n",
       "            </tr><tr>\n",
       "                <td><strong>Name</strong></td><td>Glutamate dehydrogenase  NAD </td>\n",
       "            </tr><tr>\n",
       "                <td><strong>Memory address</strong></td>\n",
       "                <td>0x07fab24e95c88</td>\n",
       "            </tr><tr>\n",
       "                <td><strong>Stoichiometry</strong></td>\n",
       "                <td>\n",
       "                    <p style='text-align:right'>glu__L_c + h2o_c + nad_c --> akg_c + h_c + nadh_c + nh4_c</p>\n",
       "                    <p style='text-align:right'>L-glutamate + H2O + NAD_ --> 2_oxoglutarate + H_ + NADH + NH3</p>\n",
       "                </td>\n",
       "            </tr><tr>\n",
       "                <td><strong>GPR</strong></td><td>CQW49_06715</td>\n",
       "            </tr><tr>\n",
       "                <td><strong>Lower bound</strong></td><td>0</td>\n",
       "            </tr><tr>\n",
       "                <td><strong>Upper bound</strong></td><td>1000</td>\n",
       "            </tr>\n",
       "        </table>\n",
       "        "
      ],
      "text/plain": [
       "<Reaction GLUDxi at 0x7fab24e95c88>"
      ]
     },
     "execution_count": 269,
     "metadata": {},
     "output_type": "execute_result"
    }
   ],
   "source": [
    "iMsOB3b.reactions.GLUDxi"
   ]
  },
  {
   "cell_type": "code",
   "execution_count": 270,
   "metadata": {
    "ExecuteTime": {
     "end_time": "2020-01-18T07:43:54.902538Z",
     "start_time": "2020-01-18T07:43:54.897592Z"
    }
   },
   "outputs": [
    {
     "data": {
      "text/html": [
       "\n",
       "        <table>\n",
       "            <tr>\n",
       "                <td><strong>Reaction identifier</strong></td><td>GLUDy</td>\n",
       "            </tr><tr>\n",
       "                <td><strong>Name</strong></td><td>Glutamate dehydrogenase (NADP)</td>\n",
       "            </tr><tr>\n",
       "                <td><strong>Memory address</strong></td>\n",
       "                <td>0x07fab24f920f0</td>\n",
       "            </tr><tr>\n",
       "                <td><strong>Stoichiometry</strong></td>\n",
       "                <td>\n",
       "                    <p style='text-align:right'>glu__L_c + h2o_c + nadp_c --> akg_c + h_c + nadph_c + nh4_c</p>\n",
       "                    <p style='text-align:right'>L-glutamate + H2O + NADP_ --> 2_oxoglutarate + H_ + NADPH + NH3</p>\n",
       "                </td>\n",
       "            </tr><tr>\n",
       "                <td><strong>GPR</strong></td><td>CQW49_06715</td>\n",
       "            </tr><tr>\n",
       "                <td><strong>Lower bound</strong></td><td>0</td>\n",
       "            </tr><tr>\n",
       "                <td><strong>Upper bound</strong></td><td>1000</td>\n",
       "            </tr>\n",
       "        </table>\n",
       "        "
      ],
      "text/plain": [
       "<Reaction GLUDy at 0x7fab24f920f0>"
      ]
     },
     "execution_count": 270,
     "metadata": {},
     "output_type": "execute_result"
    }
   ],
   "source": [
    "iMsOB3b.reactions.GLUDy"
   ]
  },
  {
   "cell_type": "markdown",
   "metadata": {
    "ExecuteTime": {
     "end_time": "2020-01-18T07:26:29.703829Z",
     "start_time": "2020-01-18T07:26:29.696652Z"
    }
   },
   "source": [
    "KEGG-based manual curation:"
   ]
  },
  {
   "cell_type": "code",
   "execution_count": 255,
   "metadata": {
    "ExecuteTime": {
     "end_time": "2020-01-18T07:30:21.349395Z",
     "start_time": "2020-01-18T07:30:21.345369Z"
    }
   },
   "outputs": [
    {
     "data": {
      "text/html": [
       "\n",
       "        <table>\n",
       "            <tr>\n",
       "                <td><strong>Metabolite identifier</strong></td><td>n2o_p</td>\n",
       "            </tr><tr>\n",
       "                <td><strong>Name</strong></td><td>dinitrogen oxide</td>\n",
       "            </tr><tr>\n",
       "                <td><strong>Memory address</strong></td>\n",
       "                <td>0x07fab226965c0</td>\n",
       "            </tr><tr>\n",
       "                <td><strong>Formula</strong></td><td>N2O</td>\n",
       "            </tr><tr>\n",
       "                <td><strong>Compartment</strong></td><td>p</td>\n",
       "            </tr><tr>\n",
       "                <td><strong>In 1 reaction(s)</strong></td><td>\n",
       "                    NORZ2pp</td>\n",
       "            </tr>\n",
       "        </table>"
      ],
      "text/plain": [
       "<Metabolite n2o_p at 0x7fab226965c0>"
      ]
     },
     "execution_count": 255,
     "metadata": {},
     "output_type": "execute_result"
    }
   ],
   "source": [
    "iMsOB3b.metabolites.n2o_p"
   ]
  },
  {
   "cell_type": "code",
   "execution_count": 256,
   "metadata": {
    "ExecuteTime": {
     "end_time": "2020-01-18T07:30:26.968009Z",
     "start_time": "2020-01-18T07:30:26.907562Z"
    },
    "collapsed": true
   },
   "outputs": [
    {
     "ename": "AttributeError",
     "evalue": "DictList has no attribute or entry n2o_c",
     "output_type": "error",
     "traceback": [
      "\u001b[0;31m---------------------------------------------------------------------------\u001b[0m",
      "\u001b[0;31mKeyError\u001b[0m                                  Traceback (most recent call last)",
      "\u001b[0;32m~/anaconda3/envs/GEM_py36/lib/python3.6/site-packages/cobra/core/dictlist.py\u001b[0m in \u001b[0;36m__getattr__\u001b[0;34m(self, attr)\u001b[0m\n\u001b[1;32m    450\u001b[0m         \u001b[0;32mtry\u001b[0m\u001b[0;34m:\u001b[0m\u001b[0;34m\u001b[0m\u001b[0;34m\u001b[0m\u001b[0m\n\u001b[0;32m--> 451\u001b[0;31m             \u001b[0;32mreturn\u001b[0m \u001b[0mDictList\u001b[0m\u001b[0;34m.\u001b[0m\u001b[0mget_by_id\u001b[0m\u001b[0;34m(\u001b[0m\u001b[0mself\u001b[0m\u001b[0;34m,\u001b[0m \u001b[0mattr\u001b[0m\u001b[0;34m)\u001b[0m\u001b[0;34m\u001b[0m\u001b[0;34m\u001b[0m\u001b[0m\n\u001b[0m\u001b[1;32m    452\u001b[0m         \u001b[0;32mexcept\u001b[0m \u001b[0mKeyError\u001b[0m\u001b[0;34m:\u001b[0m\u001b[0;34m\u001b[0m\u001b[0;34m\u001b[0m\u001b[0m\n",
      "\u001b[0;32m~/anaconda3/envs/GEM_py36/lib/python3.6/site-packages/cobra/core/dictlist.py\u001b[0m in \u001b[0;36mget_by_id\u001b[0;34m(self, id)\u001b[0m\n\u001b[1;32m     57\u001b[0m         \u001b[0;34m\"\"\"return the element with a matching id\"\"\"\u001b[0m\u001b[0;34m\u001b[0m\u001b[0;34m\u001b[0m\u001b[0m\n\u001b[0;32m---> 58\u001b[0;31m         \u001b[0;32mreturn\u001b[0m \u001b[0mlist\u001b[0m\u001b[0;34m.\u001b[0m\u001b[0m__getitem__\u001b[0m\u001b[0;34m(\u001b[0m\u001b[0mself\u001b[0m\u001b[0;34m,\u001b[0m \u001b[0mself\u001b[0m\u001b[0;34m.\u001b[0m\u001b[0m_dict\u001b[0m\u001b[0;34m[\u001b[0m\u001b[0mid\u001b[0m\u001b[0;34m]\u001b[0m\u001b[0;34m)\u001b[0m\u001b[0;34m\u001b[0m\u001b[0;34m\u001b[0m\u001b[0m\n\u001b[0m\u001b[1;32m     59\u001b[0m \u001b[0;34m\u001b[0m\u001b[0m\n",
      "\u001b[0;31mKeyError\u001b[0m: 'n2o_c'",
      "\nDuring handling of the above exception, another exception occurred:\n",
      "\u001b[0;31mAttributeError\u001b[0m                            Traceback (most recent call last)",
      "\u001b[0;32m<ipython-input-256-0abf42466f33>\u001b[0m in \u001b[0;36m<module>\u001b[0;34m\u001b[0m\n\u001b[0;32m----> 1\u001b[0;31m \u001b[0miMsOB3b\u001b[0m\u001b[0;34m.\u001b[0m\u001b[0mmetabolites\u001b[0m\u001b[0;34m.\u001b[0m\u001b[0mn2o_c\u001b[0m\u001b[0;34m\u001b[0m\u001b[0;34m\u001b[0m\u001b[0m\n\u001b[0m",
      "\u001b[0;32m~/anaconda3/envs/GEM_py36/lib/python3.6/site-packages/cobra/core/dictlist.py\u001b[0m in \u001b[0;36m__getattr__\u001b[0;34m(self, attr)\u001b[0m\n\u001b[1;32m    452\u001b[0m         \u001b[0;32mexcept\u001b[0m \u001b[0mKeyError\u001b[0m\u001b[0;34m:\u001b[0m\u001b[0;34m\u001b[0m\u001b[0;34m\u001b[0m\u001b[0m\n\u001b[1;32m    453\u001b[0m             raise AttributeError(\"DictList has no attribute or entry %s\" %\n\u001b[0;32m--> 454\u001b[0;31m                                  attr)\n\u001b[0m\u001b[1;32m    455\u001b[0m \u001b[0;34m\u001b[0m\u001b[0m\n\u001b[1;32m    456\u001b[0m     \u001b[0;32mdef\u001b[0m \u001b[0m__dir__\u001b[0m\u001b[0;34m(\u001b[0m\u001b[0mself\u001b[0m\u001b[0;34m)\u001b[0m\u001b[0;34m:\u001b[0m\u001b[0;34m\u001b[0m\u001b[0;34m\u001b[0m\u001b[0m\n",
      "\u001b[0;31mAttributeError\u001b[0m: DictList has no attribute or entry n2o_c"
     ]
    }
   ],
   "source": [
    "iMsOB3b.metabolites.n2o_c"
   ]
  },
  {
   "cell_type": "code",
   "execution_count": 257,
   "metadata": {
    "ExecuteTime": {
     "end_time": "2020-01-18T07:30:43.740503Z",
     "start_time": "2020-01-18T07:30:43.735616Z"
    }
   },
   "outputs": [
    {
     "data": {
      "text/html": [
       "\n",
       "        <table>\n",
       "            <tr>\n",
       "                <td><strong>Metabolite identifier</strong></td><td>no_c</td>\n",
       "            </tr><tr>\n",
       "                <td><strong>Name</strong></td><td>NO</td>\n",
       "            </tr><tr>\n",
       "                <td><strong>Memory address</strong></td>\n",
       "                <td>0x07fab24a32dd8</td>\n",
       "            </tr><tr>\n",
       "                <td><strong>Formula</strong></td><td>None</td>\n",
       "            </tr><tr>\n",
       "                <td><strong>Compartment</strong></td><td>c</td>\n",
       "            </tr><tr>\n",
       "                <td><strong>In 0 reaction(s)</strong></td><td>\n",
       "                    </td>\n",
       "            </tr>\n",
       "        </table>"
      ],
      "text/plain": [
       "<Metabolite no_c at 0x7fab24a32dd8>"
      ]
     },
     "execution_count": 257,
     "metadata": {},
     "output_type": "execute_result"
    }
   ],
   "source": [
    "iMsOB3b.metabolites.no_c"
   ]
  },
  {
   "cell_type": "code",
   "execution_count": 258,
   "metadata": {
    "ExecuteTime": {
     "end_time": "2020-01-18T07:30:55.423575Z",
     "start_time": "2020-01-18T07:30:55.410004Z"
    }
   },
   "outputs": [
    {
     "data": {
      "text/html": [
       "\n",
       "        <table>\n",
       "            <tr>\n",
       "                <td><strong>Metabolite identifier</strong></td><td>no_p</td>\n",
       "            </tr><tr>\n",
       "                <td><strong>Name</strong></td><td>nitric oxide</td>\n",
       "            </tr><tr>\n",
       "                <td><strong>Memory address</strong></td>\n",
       "                <td>0x07fab22696710</td>\n",
       "            </tr><tr>\n",
       "                <td><strong>Formula</strong></td><td>NO</td>\n",
       "            </tr><tr>\n",
       "                <td><strong>Compartment</strong></td><td>p</td>\n",
       "            </tr><tr>\n",
       "                <td><strong>In 1 reaction(s)</strong></td><td>\n",
       "                    NORZ2pp</td>\n",
       "            </tr>\n",
       "        </table>"
      ],
      "text/plain": [
       "<Metabolite no_p at 0x7fab22696710>"
      ]
     },
     "execution_count": 258,
     "metadata": {},
     "output_type": "execute_result"
    }
   ],
   "source": [
    "iMsOB3b.metabolites.no_p"
   ]
  },
  {
   "cell_type": "code",
   "execution_count": 260,
   "metadata": {
    "ExecuteTime": {
     "end_time": "2020-01-18T07:32:08.060080Z",
     "start_time": "2020-01-18T07:32:07.986018Z"
    }
   },
   "outputs": [
    {
     "name": "stdout",
     "output_type": "stream",
     "text": [
      "unknown metabolite 'n2o_c' created\n"
     ]
    }
   ],
   "source": [
    "iMsOB3b.reactions.NORZ2pp.reaction = '2.0 focytc_c + 2.0 h_c + 2.0 no_c --> 2.0 ficytc_c + h2o_c + n2o_c'"
   ]
  },
  {
   "cell_type": "code",
   "execution_count": 261,
   "metadata": {
    "ExecuteTime": {
     "end_time": "2020-01-18T07:32:27.267094Z",
     "start_time": "2020-01-18T07:32:27.262808Z"
    }
   },
   "outputs": [],
   "source": [
    "iMsOB3b.reactions.NORZ2pp.id = \"NORZ2\""
   ]
  },
  {
   "cell_type": "code",
   "execution_count": 292,
   "metadata": {
    "ExecuteTime": {
     "end_time": "2020-01-18T08:30:05.671077Z",
     "start_time": "2020-01-18T08:30:05.665358Z"
    }
   },
   "outputs": [
    {
     "data": {
      "text/plain": [
       "'CQW49_10250 and (CQW49_10255 or CQW49_01220) and CQW49_10260'"
      ]
     },
     "execution_count": 292,
     "metadata": {},
     "output_type": "execute_result"
    }
   ],
   "source": [
    "iMsOB3b.reactions.PMMOipp.gene_reaction_rule"
   ]
  },
  {
   "cell_type": "code",
   "execution_count": 295,
   "metadata": {
    "ExecuteTime": {
     "end_time": "2020-01-18T08:30:31.574516Z",
     "start_time": "2020-01-18T08:30:31.566982Z"
    }
   },
   "outputs": [
    {
     "data": {
      "text/plain": [
       "'CQW49_12480 and CQW49_12475 and CQW49_12465 and CQW49_12470 and CQW49_12455 and CQW49_12485 and CQW49_12495'"
      ]
     },
     "execution_count": 295,
     "metadata": {},
     "output_type": "execute_result"
    }
   ],
   "source": [
    "iMsOB3b.reactions.SMMOi.gene_reaction_rule"
   ]
  },
  {
   "cell_type": "code",
   "execution_count": 293,
   "metadata": {
    "ExecuteTime": {
     "end_time": "2020-01-18T08:30:07.203123Z",
     "start_time": "2020-01-18T08:30:07.196171Z"
    }
   },
   "outputs": [],
   "source": [
    "iMsOB3b.reactions.PAMMOipp.gene_reaction_rule = \"CQW49_10250 and (CQW49_10255 or CQW49_01220) and CQW49_10260\""
   ]
  },
  {
   "cell_type": "code",
   "execution_count": 297,
   "metadata": {
    "ExecuteTime": {
     "end_time": "2020-01-18T08:31:00.334644Z",
     "start_time": "2020-01-18T08:31:00.327436Z"
    }
   },
   "outputs": [],
   "source": [
    "iMsOB3b.reactions.SAMMOi.gene_reaction_rule = \"CQW49_12480 and CQW49_12475 and CQW49_12465 and CQW49_12470 and CQW49_12455 and CQW49_12485 and CQW49_12495\""
   ]
  },
  {
   "cell_type": "markdown",
   "metadata": {},
   "source": [
    "Adapt HAMR from http://bigg.ucsd.edu/universal/reactions/HAMR"
   ]
  },
  {
   "cell_type": "code",
   "execution_count": 281,
   "metadata": {
    "ExecuteTime": {
     "end_time": "2020-01-18T08:25:45.199310Z",
     "start_time": "2020-01-18T08:25:45.167766Z"
    }
   },
   "outputs": [],
   "source": [
    "iMsOB3b.add_reaction(model_universal.reactions.HAMR)"
   ]
  },
  {
   "cell_type": "code",
   "execution_count": 283,
   "metadata": {
    "ExecuteTime": {
     "end_time": "2020-01-18T08:26:31.139205Z",
     "start_time": "2020-01-18T08:26:31.131810Z"
    }
   },
   "outputs": [],
   "source": [
    "iMsOB3b.reactions.HAMR.gene_reaction_rule = 'CQW49_14985'"
   ]
  },
  {
   "cell_type": "code",
   "execution_count": 298,
   "metadata": {
    "ExecuteTime": {
     "end_time": "2020-01-18T08:31:12.204070Z",
     "start_time": "2020-01-18T08:31:12.199314Z"
    }
   },
   "outputs": [
    {
     "data": {
      "text/html": [
       "\n",
       "        <table>\n",
       "            <tr>\n",
       "                <td><strong>Reaction identifier</strong></td><td>HAMR</td>\n",
       "            </tr><tr>\n",
       "                <td><strong>Name</strong></td><td>Hydroxylamine reductase</td>\n",
       "            </tr><tr>\n",
       "                <td><strong>Memory address</strong></td>\n",
       "                <td>0x07fab0768e438</td>\n",
       "            </tr><tr>\n",
       "                <td><strong>Stoichiometry</strong></td>\n",
       "                <td>\n",
       "                    <p style='text-align:right'>2.0 h_c + ham_c + nadh_c --> h2o_c + nad_c + nh4_c</p>\n",
       "                    <p style='text-align:right'>2.0 H_ + hydroxylamine + NADH --> H2O + NAD_ + NH3</p>\n",
       "                </td>\n",
       "            </tr><tr>\n",
       "                <td><strong>GPR</strong></td><td>CQW49_14985</td>\n",
       "            </tr><tr>\n",
       "                <td><strong>Lower bound</strong></td><td>0.0</td>\n",
       "            </tr><tr>\n",
       "                <td><strong>Upper bound</strong></td><td>1000.0</td>\n",
       "            </tr>\n",
       "        </table>\n",
       "        "
      ],
      "text/plain": [
       "<Reaction HAMR at 0x7fab0768e438>"
      ]
     },
     "execution_count": 298,
     "metadata": {},
     "output_type": "execute_result"
    }
   ],
   "source": [
    "iMsOB3b.reactions.HAMR"
   ]
  },
  {
   "cell_type": "markdown",
   "metadata": {},
   "source": [
    "Include hydroxylamine utilizing reactions based on experimental evidence of NO2 production:\n",
    "\n",
    "https://www.ncbi.nlm.nih.gov/pubmed/3921227"
   ]
  },
  {
   "cell_type": "code",
   "execution_count": 305,
   "metadata": {
    "ExecuteTime": {
     "end_time": "2020-01-18T08:47:04.618177Z",
     "start_time": "2020-01-18T08:47:04.609130Z"
    }
   },
   "outputs": [],
   "source": [
    "iMsOB3b.add_reaction(model_Bath.reactions.CYP460ipp)"
   ]
  },
  {
   "cell_type": "code",
   "execution_count": 306,
   "metadata": {
    "ExecuteTime": {
     "end_time": "2020-01-18T08:47:42.843410Z",
     "start_time": "2020-01-18T08:47:42.836812Z"
    }
   },
   "outputs": [],
   "source": [
    "iMsOB3b.add_reaction(model_Bath.reactions.HAORipp)"
   ]
  },
  {
   "cell_type": "markdown",
   "metadata": {},
   "source": [
    "Save GEM:"
   ]
  },
  {
   "cell_type": "code",
   "execution_count": 310,
   "metadata": {
    "ExecuteTime": {
     "end_time": "2020-01-18T08:48:16.218137Z",
     "start_time": "2020-01-18T08:48:16.013275Z"
    }
   },
   "outputs": [],
   "source": [
    "cobra.io.save_json_model(iMsOB3b, memote_directory + draft_gems_dir_8 + \"bigg_OB3b_18_01_2020.json\")"
   ]
  },
  {
   "cell_type": "markdown",
   "metadata": {},
   "source": [
    "# Some stuff for progress report"
   ]
  },
  {
   "cell_type": "code",
   "execution_count": 325,
   "metadata": {
    "ExecuteTime": {
     "end_time": "2020-01-19T11:28:44.012105Z",
     "start_time": "2020-01-19T11:28:44.005274Z"
    }
   },
   "outputs": [],
   "source": [
    "nitrogen_reactions = ['NO2tpp', 'NO3t7pp', 'PAMMOipp', 'SAMMOi', 'HAMR', 'CYP460ipp', 'HAORipp', 'NO3Ras', 'NO3R1', \n",
    "                      'NTRIR2x', 'NORZ2']"
   ]
  },
  {
   "cell_type": "code",
   "execution_count": 326,
   "metadata": {
    "ExecuteTime": {
     "end_time": "2020-01-19T11:28:45.367129Z",
     "start_time": "2020-01-19T11:28:45.358209Z"
    }
   },
   "outputs": [],
   "source": [
    "ammonia_assimilation = ['GLNS', 'GLUSy', 'GLUDxi', 'GLUDy']"
   ]
  },
  {
   "cell_type": "code",
   "execution_count": 328,
   "metadata": {
    "ExecuteTime": {
     "end_time": "2020-01-19T11:29:38.622583Z",
     "start_time": "2020-01-19T11:29:38.597092Z"
    }
   },
   "outputs": [
    {
     "name": "stdout",
     "output_type": "stream",
     "text": [
      "NO2tpp Diffusion Hydroxylamine between Periplasm and Cytosol\n",
      "NO3t7pp Nitrate transport in via nitrite antiport (periplasm)\n",
      "PAMMOipp particulate ammonia monooxygenase\n",
      "SAMMOi soluble ammonia monooxygenase\n",
      "HAMR Hydroxylamine reductase\n",
      "CYP460ipp Cytochrome P460 - Hydroxylamine Dehydrogenase\n",
      "HAORipp Hydroxylamine oxydoreductase\n",
      "NO3Ras nitrate reductase assimilatory\n",
      "NO3R1 Nitrate reductase (Ubiquinol-8)\n",
      "NTRIR2x Nitrite Reductase (NADH)\n",
      "NORZ2 Nitric oxide reductase (cytochrome c)\n"
     ]
    }
   ],
   "source": [
    "for reaction_id in nitrogen_reactions:\n",
    "    print(reaction_id, iMsOB3b.reactions.get_by_id(reaction_id).name)"
   ]
  },
  {
   "cell_type": "code",
   "execution_count": 329,
   "metadata": {
    "ExecuteTime": {
     "end_time": "2020-01-19T11:29:53.499635Z",
     "start_time": "2020-01-19T11:29:53.476620Z"
    }
   },
   "outputs": [
    {
     "name": "stdout",
     "output_type": "stream",
     "text": [
      "GLNS glutamine synthetase\n",
      "GLUSy glutamate synthase 2\n",
      "GLUDxi Glutamate dehydrogenase  NAD \n",
      "GLUDy Glutamate dehydrogenase (NADP)\n"
     ]
    }
   ],
   "source": [
    "for reaction_id in ammonia_assimilation:\n",
    "    print(reaction_id, iMsOB3b.reactions.get_by_id(reaction_id).name)"
   ]
  },
  {
   "cell_type": "code",
   "execution_count": 330,
   "metadata": {
    "ExecuteTime": {
     "end_time": "2020-01-19T11:35:54.617490Z",
     "start_time": "2020-01-19T11:35:54.613387Z"
    }
   },
   "outputs": [],
   "source": [
    "ETC = ['THD2pp', 'NADH11', 'SUCCD1', 'UQCYOR_2p', 'CYOD', 'CYO_2p', 'CYOO_4p', 'ATPS4rpp', 'FMNRx2', \n",
    "      'ETFDH', 'PPA', 'FRDOr', 'EAOXRED']"
   ]
  },
  {
   "cell_type": "code",
   "execution_count": 332,
   "metadata": {
    "ExecuteTime": {
     "end_time": "2020-01-19T11:36:06.434629Z",
     "start_time": "2020-01-19T11:36:06.373161Z"
    }
   },
   "outputs": [
    {
     "name": "stdout",
     "output_type": "stream",
     "text": [
      "THD2pp NAD P  transhydrogenase\n",
      "NADH11 NADH ubiquinone oxidoreductase I\n",
      "SUCCD1 succinate dehydrogenase\n",
      "UQCYOR_2p ubiquinol cytochrome c reductase\n",
      "CYOD cytochrome bd ubiquinol oxidase\n",
      "CYO_2p cytochrome c oxidase\n",
      "CYOO_4p cytochrome o ubiquinol oxidase\n",
      "ATPS4rpp ATP synthase\n",
      "FMNRx2 NADPH dependent FMN reductase\n",
      "ETFDH ETF dehydrogenase\n",
      "PPA inorganic pyrophosphatase\n",
      "FRDOr NADPH ferredoxin oxidoreductase 1\n",
      "EAOXRED pyridine nucleotide disulphide oxidoreductase\n"
     ]
    }
   ],
   "source": [
    "for reaction_id in ETC:\n",
    "    print(reaction_id, iMsOB3b.reactions.get_by_id(reaction_id).name)"
   ]
  },
  {
   "cell_type": "code",
   "execution_count": null,
   "metadata": {},
   "outputs": [],
   "source": []
  }
 ],
 "metadata": {
  "kernelspec": {
   "display_name": "Python [conda env:GEM_py36]",
   "language": "python",
   "name": "conda-env-GEM_py36-py"
  },
  "language_info": {
   "codemirror_mode": {
    "name": "ipython",
    "version": 3
   },
   "file_extension": ".py",
   "mimetype": "text/x-python",
   "name": "python",
   "nbconvert_exporter": "python",
   "pygments_lexer": "ipython3",
   "version": "3.6.9"
  },
  "toc": {
   "base_numbering": 1,
   "nav_menu": {},
   "number_sections": true,
   "sideBar": true,
   "skip_h1_title": false,
   "title_cell": "Table of Contents",
   "title_sidebar": "Contents",
   "toc_cell": false,
   "toc_position": {
    "height": "calc(100% - 180px)",
    "left": "10px",
    "top": "150px",
    "width": "370.6px"
   },
   "toc_section_display": true,
   "toc_window_display": true
  },
  "varInspector": {
   "cols": {
    "lenName": 16,
    "lenType": 16,
    "lenVar": 40
   },
   "kernels_config": {
    "python": {
     "delete_cmd_postfix": "",
     "delete_cmd_prefix": "del ",
     "library": "var_list.py",
     "varRefreshCmd": "print(var_dic_list())"
    },
    "r": {
     "delete_cmd_postfix": ") ",
     "delete_cmd_prefix": "rm(",
     "library": "var_list.r",
     "varRefreshCmd": "cat(var_dic_list()) "
    }
   },
   "position": {
    "height": "319.833px",
    "left": "1556px",
    "right": "20px",
    "top": "113px",
    "width": "337.983px"
   },
   "types_to_exclude": [
    "module",
    "function",
    "builtin_function_or_method",
    "instance",
    "_Feature"
   ],
   "window_display": true
  }
 },
 "nbformat": 4,
 "nbformat_minor": 2
}
